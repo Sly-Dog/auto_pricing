{
 "cells": [
  {
   "cell_type": "markdown",
   "id": "a57e97ee",
   "metadata": {},
   "source": [
    "# Initialization"
   ]
  },
  {
   "cell_type": "code",
   "execution_count": 1,
   "id": "24114fe0",
   "metadata": {
    "ExecuteTime": {
     "end_time": "2022-04-10T09:24:04.287227Z",
     "start_time": "2022-04-10T09:24:04.283227Z"
    }
   },
   "outputs": [],
   "source": [
    "# Устанавливается необходимая версия пакетов для воспроизводимости экспирементов\n",
    "# А так же для установки всех недостающих зависимостей\n",
    "\n",
    "#'''Windows'''\n",
    "#!python -m venv venv\n",
    "#!.\\venv\\Scripts\\activate\n",
    "#!pip install -r requirements.txt\n",
    "\n",
    "#'''Linux''';\n",
    "#!python -m venv venv  \n",
    "#!source ./venv/bin/activate  \n",
    "#!pip install -r requirements.txt"
   ]
  },
  {
   "cell_type": "code",
   "execution_count": 2,
   "id": "e8091165",
   "metadata": {
    "ExecuteTime": {
     "end_time": "2022-04-10T09:24:09.853816Z",
     "start_time": "2022-04-10T09:24:04.291228Z"
    }
   },
   "outputs": [],
   "source": [
    "import numpy as np # linear algebra\n",
    "import pandas as pd # data processing, CSV file I/O (e.g. pd.read_csv)\n",
    "import sys\n",
    "import re\n",
    "import matplotlib.pyplot as plt\n",
    "from sklearn.model_selection import train_test_split\n",
    "from sklearn.model_selection import KFold\n",
    "from tqdm.notebook import tqdm\n",
    "from catboost import CatBoostRegressor\n",
    "from sklearn.preprocessing import LabelEncoder\n",
    "\n",
    "from datetime import datetime as dt # работа со временем\n",
    "import json                     # преобразования строк со словарями в словари\n",
    "import seaborn as sns"
   ]
  },
  {
   "cell_type": "code",
   "execution_count": 3,
   "id": "ed5a3dab",
   "metadata": {
    "ExecuteTime": {
     "end_time": "2022-04-10T09:24:09.869668Z",
     "start_time": "2022-04-10T09:24:09.853816Z"
    }
   },
   "outputs": [
    {
     "name": "stdout",
     "output_type": "stream",
     "text": [
      "Python       : 3.10.4 (tags/v3.10.4:9d38120, Mar 23 2022, 23:13:41) [MSC v.1929 64 bit (AMD64)]\n",
      "Numpy        : 1.22.2\n"
     ]
    }
   ],
   "source": [
    "print('Python       :', sys.version.split('\\n')[0])\n",
    "print('Numpy        :', np.__version__)"
   ]
  },
  {
   "cell_type": "code",
   "execution_count": 4,
   "id": "12877744",
   "metadata": {
    "ExecuteTime": {
     "end_time": "2022-04-10T09:24:09.885670Z",
     "start_time": "2022-04-10T09:24:09.870666Z"
    }
   },
   "outputs": [],
   "source": [
    "# зафиксируем версию пакетов, чтобы эксперименты были воспроизводимы:\n",
    "#!pip freeze > requirements.txt"
   ]
  },
  {
   "cell_type": "code",
   "execution_count": 5,
   "id": "462e3b4a",
   "metadata": {
    "ExecuteTime": {
     "end_time": "2022-04-10T09:24:09.901674Z",
     "start_time": "2022-04-10T09:24:09.887671Z"
    }
   },
   "outputs": [],
   "source": [
    "# всегда фиксируйте RANDOM_SEED, чтобы ваши эксперименты были воспроизводимы!\n",
    "RANDOM_SEED = 42"
   ]
  },
  {
   "cell_type": "markdown",
   "id": "07d5b0cd",
   "metadata": {},
   "source": [
    "##  EDA functions"
   ]
  },
  {
   "cell_type": "code",
   "execution_count": 24,
   "id": "753b87ed",
   "metadata": {
    "ExecuteTime": {
     "end_time": "2022-04-10T09:33:21.842535Z",
     "start_time": "2022-04-10T09:33:21.824532Z"
    }
   },
   "outputs": [],
   "source": [
    "'''Выводит barplot по количеству значений столбца'''\n",
    "def show_value_counts(val_co, reverse=False):\n",
    "    x = val_co.index\n",
    "    y = val_co.values\n",
    "    \n",
    "    if reverse == False:  return sns.barplot(x=y, y=x)\n",
    "    elif reverse == True: return sns.barplot(x=x, y=y)\n",
    "    \n",
    "#upgrade выводить лейбл"
   ]
  },
  {
   "cell_type": "code",
   "execution_count": 177,
   "id": "c99ece8c",
   "metadata": {
    "ExecuteTime": {
     "end_time": "2022-04-10T14:34:00.064635Z",
     "start_time": "2022-04-10T14:34:00.048641Z"
    }
   },
   "outputs": [],
   "source": [
    "'''Выводит соотношение пропусков к количеству данных'''\n",
    "def na_ratio(isna):\n",
    "    print('Заполненность данными:',len(isna[isna == False])/len(isna))"
   ]
  },
  {
   "cell_type": "markdown",
   "id": "7e7924c8",
   "metadata": {},
   "source": [
    "##  Data"
   ]
  },
  {
   "cell_type": "code",
   "execution_count": 8,
   "id": "f27a48ad",
   "metadata": {
    "ExecuteTime": {
     "end_time": "2022-04-10T09:24:18.029947Z",
     "start_time": "2022-04-10T09:24:09.934682Z"
    }
   },
   "outputs": [
    {
     "name": "stdout",
     "output_type": "stream",
     "text": [
      "Stored 'train' (DataFrame)\n",
      "Stored 'test' (DataFrame)\n"
     ]
    }
   ],
   "source": [
    "from pathlib import Path \n",
    "\n",
    "train = pd.read_pickle( Path(\"data\", \"all_auto_ru_09_09_2020.pickle_bz2\"),\n",
    "                compression='bz2')\n",
    "test = pd.read_pickle( Path(\"data\", \"test.pickle_bz2\"),\n",
    "                compression='bz2')\n",
    "\n",
    "#Нетронутая дата для отдельной работы\n",
    "%store train \n",
    "%store test "
   ]
  },
  {
   "cell_type": "markdown",
   "id": "3c8beddb",
   "metadata": {},
   "source": [
    "###  [Preprocessing_and_thoughts](./secondary_notebooks/Preprocessing_and_thoughts.ipynb)"
   ]
  },
  {
   "cell_type": "markdown",
   "id": "bb7d9af1",
   "metadata": {},
   "source": [
    "## Предобработка и фичи на время разработки проекта"
   ]
  },
  {
   "cell_type": "code",
   "execution_count": 9,
   "id": "ec2dff6a",
   "metadata": {
    "ExecuteTime": {
     "end_time": "2022-04-09T14:56:22.484588Z",
     "start_time": "2022-04-09T14:56:21.781815Z"
    },
    "scrolled": false
   },
   "outputs": [
    {
     "name": "stdout",
     "output_type": "stream",
     "text": [
      "TRAIN Rows = 87264 Columns = 26\n",
      "TEST  Rows = 34686 Columns = 32\n"
     ]
    }
   ],
   "source": [
    "#Удаление дублирующихся строк\n",
    "train_mod = train.drop_duplicates()\n",
    "test_mod = test.drop_duplicates()\n",
    "\n",
    "print('TRAIN','Rows =', np.shape(train_mod)[0],'Columns =', np.shape(train_mod)[1], sep=' ')\n",
    "print('TEST ','Rows =', np.shape(test_mod)[0],'Columns =', np.shape(test_mod)[1], sep=' ') "
   ]
  },
  {
   "cell_type": "markdown",
   "id": "201decef",
   "metadata": {},
   "source": [
    "### Предобработка"
   ]
  },
  {
   "cell_type": "code",
   "execution_count": 10,
   "id": "4e402740",
   "metadata": {
    "ExecuteTime": {
     "end_time": "2022-04-09T14:56:23.008228Z",
     "start_time": "2022-04-09T14:56:22.487587Z"
    }
   },
   "outputs": [
    {
     "name": "stderr",
     "output_type": "stream",
     "text": [
      "C:\\Users\\zetet\\AppData\\Local\\Temp\\ipykernel_19532\\620643088.py:2: SettingWithCopyWarning: \n",
      "A value is trying to be set on a copy of a slice from a DataFrame\n",
      "\n",
      "See the caveats in the documentation: https://pandas.pydata.org/pandas-docs/stable/user_guide/indexing.html#returning-a-view-versus-a-copy\n",
      "  train_mod.rename(columns = {'model' : 'model_name'}, inplace = True)\n"
     ]
    }
   ],
   "source": [
    "'''Сделаю обозначения моделей авто в трейне и тесете одинаковыми'''\n",
    "train_mod.rename(columns = {'model' : 'model_name'}, inplace = True) "
   ]
  },
  {
   "cell_type": "code",
   "execution_count": 11,
   "id": "e15774a6",
   "metadata": {
    "ExecuteTime": {
     "end_time": "2022-04-09T14:56:23.024222Z",
     "start_time": "2022-04-09T14:56:23.009219Z"
    }
   },
   "outputs": [],
   "source": [
    "#Словарь соответствий брендов странас происхождения\n",
    "countries_dict = {'Germany': ['AUDI','BMW','OPEL','PORSCHE','VOLKSWAGEN','MERCEDES'],\n",
    "                  'Japan':   ['HONDA','INFINITI','LEXUS','MAZDA','MITSUBISHI','NISSAN','SUBARU','SUZUKI','TOYOTA'],\n",
    "                  'USA':     ['CADILLAC','CHEVROLET','CHRYSLER','DODGE','FORD','JEEP'],\n",
    "                  'China':   ['CHERY','GEELY','GREAT_WALL'],\n",
    "                  'UK':      ['JAGUAR','MINI','LAND_ROVER'],\n",
    "                  'Korea':   ['DAEWOO','HYUNDAI','KIA','SSANG_YONG'],\n",
    "                  'Sweden':  ['VOLVO'],\n",
    "                  'Czech':   ['SKODA']}"
   ]
  },
  {
   "cell_type": "code",
   "execution_count": 12,
   "id": "fea35c5c",
   "metadata": {
    "ExecuteTime": {
     "end_time": "2022-04-09T14:56:23.040226Z",
     "start_time": "2022-04-09T14:56:23.025223Z"
    }
   },
   "outputs": [],
   "source": [
    "#Функция для заполнения столбца со страной происхождения бренда\n",
    "def get_country(x):\n",
    "    if x in countries_dict['Germany']:\n",
    "        x = 'Germany'\n",
    "    elif x in countries_dict['Japan']:\n",
    "        x = 'Japan'\n",
    "    elif x in countries_dict['USA']:\n",
    "        x = 'USA'\n",
    "    elif x in countries_dict['China']:\n",
    "        x = 'China'\n",
    "    elif x in countries_dict['UK']:\n",
    "        x = 'UK'\n",
    "    elif x in countries_dict['Korea']:\n",
    "        x = 'Korea'\n",
    "    elif x in countries_dict['Sweden']:\n",
    "        x = 'Sweden'\n",
    "    else:\n",
    "        x = 'Czech'\n",
    "    return x\n",
    "#Наверное, эта функция должна выглядеть не так колхозно\n",
    "\n",
    "\n",
    "#Функция для просмотра и сравнения типов данных в столбцах\n",
    "def type_comparison(column):\n",
    "    print('TEST')\n",
    "    display(test_mod[column].sample(5))\n",
    "    print('TRAIN')\n",
    "    display(train_mod[column].sample(5))  \n",
    "    \n",
    "    \n",
    "    \n",
    "#Функция для приведения значений столбца bodyType к единому формату\n",
    "def get_bodyType(x):\n",
    "    row = str(x).lower()\n",
    "    bodyType = re.findall('[а-яё]+', row)\n",
    "    if bodyType == []:\n",
    "        return None\n",
    "    return str(bodyType[0])\n",
    "\n",
    "\n",
    "\n",
    "#Функция для приведения значений столбца engineDisplacement к единому формату\n",
    "def get_EngineDisplacement(x):\n",
    "    row = str(x)\n",
    "    engine = re.findall('\\d\\.\\d', row)\n",
    "    if engine == []:\n",
    "        return None\n",
    "    return float(engine[0])\n",
    "\n",
    "\n",
    "\n",
    "#Функция для извлечения значения объёма двигателя из столбца name\n",
    "def pull_EngineDisplacement(x):\n",
    "    row = str(x)\n",
    "    engine = re.findall('\\d\\.\\d', row)\n",
    "    if len(engine) !=0:\n",
    "        return float(engine[0])\n",
    "    else:\n",
    "        return 0\n",
    "\n",
    "    \n",
    "    \n",
    "#Список имён столбцов под удаление. Будет заполняться по ходу первичного анализа.\n",
    "columns_to_drop = []"
   ]
  },
  {
   "cell_type": "code",
   "execution_count": 13,
   "id": "6306d802",
   "metadata": {
    "ExecuteTime": {
     "end_time": "2022-04-09T14:56:24.036910Z",
     "start_time": "2022-04-09T14:56:23.041226Z"
    }
   },
   "outputs": [
    {
     "name": "stderr",
     "output_type": "stream",
     "text": [
      "C:\\Users\\zetet\\AppData\\Local\\Temp\\ipykernel_19532\\2538697969.py:15: SettingWithCopyWarning: \n",
      "A value is trying to be set on a copy of a slice from a DataFrame.\n",
      "Try using .loc[row_indexer,col_indexer] = value instead\n",
      "\n",
      "See the caveats in the documentation: https://pandas.pydata.org/pandas-docs/stable/user_guide/indexing.html#returning-a-view-versus-a-copy\n",
      "  train_mod['Country_of_origin'] = train_mod['brand'].apply(get_country)\n",
      "C:\\Users\\zetet\\AppData\\Local\\Temp\\ipykernel_19532\\2538697969.py:19: SettingWithCopyWarning: \n",
      "A value is trying to be set on a copy of a slice from a DataFrame.\n",
      "Try using .loc[row_indexer,col_indexer] = value instead\n",
      "\n",
      "See the caveats in the documentation: https://pandas.pydata.org/pandas-docs/stable/user_guide/indexing.html#returning-a-view-versus-a-copy\n",
      "  train_mod['bodyType'] = train_mod.bodyType.apply(get_bodyType)\n"
     ]
    }
   ],
   "source": [
    "'''Общая предобработка должна сделаться для двух датасетов'''\n",
    "#Добавление к обоим датасетам столбца 'TEST' и заполнение его единицами в test_mod и нолями в train_mod\n",
    "#test_mod['TEST'] = 1\n",
    "#train_mod['TEST'] = 0\n",
    "\n",
    "#Объединение датасетов\n",
    "#whole_data = train_mod.append(test_mod)\n",
    "''''''\n",
    "\n",
    "\n",
    "\n",
    "\n",
    "#Создание столбца 'Country_of_origin' со страной происхождения бренда\n",
    "test_mod['Country_of_origin'] = test_mod['brand'].apply(get_country)\n",
    "train_mod['Country_of_origin'] = train_mod['brand'].apply(get_country)\n",
    "\n",
    "#Очистка столбца 'bodyType' и приведение к единому формату\n",
    "test_mod['bodyType'] = test_mod.bodyType.apply(get_bodyType)\n",
    "train_mod['bodyType'] = train_mod.bodyType.apply(get_bodyType)\n",
    "\n",
    "#Приведение столбца 'color' к единому формату\n",
    "train_mod = train_mod.replace({'color':\n",
    "                            {'040001': 'чёрный',\n",
    "                            'EE1D19': 'красный',\n",
    "                            '0000CC': 'синий',\n",
    "                            'CACECB': 'серебристый',\n",
    "                            '007F00': 'зелёный',\n",
    "                            'FAFBFB': 'белый',\n",
    "                            '97948F': 'серый',\n",
    "                            '22A0F8': 'голубой',\n",
    "                            '660099': 'фиолетовый',\n",
    "                            '200204': 'коричневый',\n",
    "                            'C49648': 'бежевый',\n",
    "                            'DEA522': 'золотистый',\n",
    "                            '4A2197': 'пурпурный',\n",
    "                            'FFD600': 'жёлтый',\n",
    "                            'FF8649': 'оранжевый',\n",
    "                            'FFC0CB': 'розовый'}})\n",
    "\n",
    "#Приведение столбца 'engineDisplacement' к единому формату \n",
    "train_mod['engineDisplacement'] = train_mod.engineDisplacement.apply(get_EngineDisplacement)\n",
    "test_mod['engineDisplacement'] = test_mod.engineDisplacement.apply(get_EngineDisplacement)\n",
    "\n",
    "#Заполнение пропусков в столбце 'engineDisplacement' датасета test_mod нолями\n",
    "test_mod['engineDisplacement'].fillna(0, inplace = True)\n",
    "\n",
    "#Приведение столбца 'enginePower' к единому формату\n",
    "train_mod.enginePower = train_mod.enginePower.convert_dtypes(int)\n",
    "test_mod['enginePower'] = test_mod['enginePower'].apply(lambda x : (int)(x.split(' ')[0]))\n",
    "\n",
    "#Удаление из датасета train_mod ряда, содержащего слишком много пропусков и ошибок\n",
    "train_mod.drop(24624, inplace = True)\n",
    "\n",
    "#Приведение столбца 'modelDate' к единому формату\n",
    "train_mod.modelDate = train_mod.modelDate.convert_dtypes(int)\n",
    "\n",
    "#Извлечение значений объёма двигателя из столбца 'name' для заполнения пропусков в столбце 'engineDisplacement'\n",
    "#в датасете train_mod\n",
    "train_mod['engineDisplacement'] = train_mod['name'].apply(pull_EngineDisplacement)\n",
    "\n",
    "#Добавление столбца 'name' в список столбцов на удаление \n",
    "#(вся информация, содержащаяся в нём, дублируется в других столбцах)\n",
    "columns_to_drop.append('name')\n",
    "\n",
    "#Приведение столбца 'numberOfDoors' к единому формату\n",
    "train_mod.numberOfDoors = train_mod.numberOfDoors.convert_dtypes(int)\n",
    "\n",
    "#Добавление столбца 'vehicleConfiguration' в список столбцов на удаление \n",
    "#(вся информация, содержащаяся в нём, дублируется в других столбцах)\n",
    "columns_to_drop.append('vehicleConfiguration')\n",
    "\n",
    "#Приведение столбца 'vehicleTransmission' к единому формату\n",
    "test_mod = test_mod.replace({'vehicleTransmission':\n",
    "                            {'автоматическая': 'AUTOMATIC',\n",
    "                            'вариатор': 'VARIATOR',\n",
    "                            'механическая': 'MECHANICAL',\n",
    "                            'роботизированная': 'ROBOT'}})\n",
    "\n",
    "#Приведение столбца 'Владельцы' к единому формату\n",
    "train_mod.Владельцы = train_mod.Владельцы.convert_dtypes(int)\n",
    "\n",
    "test_mod = test_mod.replace({'Владельцы':\n",
    "                            {'1\\xa0владелец': 1,\n",
    "                            '2\\xa0владельца': 2,\n",
    "                            '3 или более': 3}})\n",
    "\n",
    "#Заполнение пропусков в столбце 'Владельцы' датасета train_mod нолями\n",
    "train_mod['Владельцы'].fillna(0, inplace = True)\n",
    "\n",
    "#Добавление столбца 'vehicleConfiguration' в список столбцов на удаление \n",
    "#(Более 60% пропусков)\n",
    "columns_to_drop.append('Владение')\n",
    "\n",
    "#Приведение столбца 'ПТС' к единому формату\n",
    "test_mod = test_mod.replace({'ПТС':\n",
    "                            {'Оригинал': 'ORIGINAL',\n",
    "                            'Дубликат': 'DUPLICATE'}})\n",
    "\n",
    "#Приведение столбца 'Руль' к единому формату\n",
    "test_mod = test_mod.replace({'Руль':\n",
    "                            {'Левый': 'LEFT',\n",
    "                            'Правый': 'RIGHT'}})\n",
    "\n",
    "#Добавление столбца 'Состояние' в список столбцов на удаление \n",
    "#(В test_mod только одно уникальное значение, в train_mod - пустой столбец)\n",
    "columns_to_drop.append('Состояние')\n",
    "\n",
    "#Добавление столбца 'Таможня' в список столбцов на удаление \n",
    "#(Одно уникальное значение в обоих датасетах)\n",
    "columns_to_drop.append('Таможня')\n",
    "\n",
    "#Удаление общис столбцов по списку\n",
    "test_mod.drop(columns = columns_to_drop, inplace = True)\n",
    "train_mod.drop(columns = columns_to_drop, inplace = True)\n",
    "\n",
    "#Удаление лишних столбцов для приведения датасетов к единому виду \n",
    "test_drop = []\n",
    "for i in range(len(test_mod.columns)):\n",
    "    if test_mod.columns[i] not in train_mod.columns:\n",
    "        test_drop.append(test_mod.columns[i])\n",
    "\n",
    "test_mod.drop(columns = test_drop, inplace = True)\n",
    "\n",
    "\n",
    "train_drop = []\n",
    "for i in range(len(train_mod.columns)):\n",
    "    if train_mod.columns[i] not in test_mod.columns:\n",
    "        train_drop.append(train_mod.columns[i])\n",
    "\n",
    "train_drop.remove('price')\n",
    "\n",
    "train_mod.drop(columns = train_drop, inplace = True)"
   ]
  },
  {
   "cell_type": "markdown",
   "id": "1a1107de",
   "metadata": {},
   "source": [
    "#upgrade в "
   ]
  },
  {
   "cell_type": "code",
   "execution_count": 14,
   "id": "8c3df8a1",
   "metadata": {
    "ExecuteTime": {
     "end_time": "2022-04-09T12:31:21.925982Z",
     "start_time": "2022-04-09T12:31:21.259940Z"
    }
   },
   "outputs": [
    {
     "name": "stdout",
     "output_type": "stream",
     "text": [
      "Stored 'X' (DataFrame)\n",
      "Stored 'y' (Series)\n"
     ]
    }
   ],
   "source": [
    "# делаю предобработку общедоступной\n",
    "%store X \n",
    "%store y "
   ]
  },
  {
   "cell_type": "markdown",
   "id": "8acf7864",
   "metadata": {},
   "source": [
    "### Фичи на время разработки"
   ]
  },
  {
   "cell_type": "markdown",
   "id": "4eaf64c3",
   "metadata": {},
   "source": [
    "## ML на время разработки"
   ]
  },
  {
   "cell_type": "markdown",
   "id": "8003b149",
   "metadata": {},
   "source": [
    "### ML предобработка"
   ]
  },
  {
   "cell_type": "markdown",
   "id": "169828e5",
   "metadata": {},
   "source": [
    "Хорошим вариантом будет обучить одну модель - только на брендах из тесета под предскзания по категориальным признакам, а другую - на всем датасете, чтобы предсказывать по численным признакам, после чего корректировать предскзания первой модели предсказаниями второй модели с подобранным весом.\n"
   ]
  },
  {
   "cell_type": "code",
   "execution_count": 24,
   "id": "5e39aa82",
   "metadata": {
    "ExecuteTime": {
     "end_time": "2022-04-09T12:48:42.449867Z",
     "start_time": "2022-04-09T12:48:42.421862Z"
    }
   },
   "outputs": [
    {
     "data": {
      "text/html": [
       "<div>\n",
       "<style scoped>\n",
       "    .dataframe tbody tr th:only-of-type {\n",
       "        vertical-align: middle;\n",
       "    }\n",
       "\n",
       "    .dataframe tbody tr th {\n",
       "        vertical-align: top;\n",
       "    }\n",
       "\n",
       "    .dataframe thead th {\n",
       "        text-align: right;\n",
       "    }\n",
       "</style>\n",
       "<table border=\"1\" class=\"dataframe\">\n",
       "  <thead>\n",
       "    <tr style=\"text-align: right;\">\n",
       "      <th></th>\n",
       "      <th>внедорожник</th>\n",
       "      <th>кабриолет</th>\n",
       "      <th>компактвэн</th>\n",
       "      <th>купе</th>\n",
       "      <th>лимузин</th>\n",
       "      <th>лифтбек</th>\n",
       "      <th>микровэн</th>\n",
       "      <th>минивэн</th>\n",
       "      <th>пикап</th>\n",
       "      <th>родстер</th>\n",
       "      <th>седан</th>\n",
       "      <th>тарга</th>\n",
       "      <th>универсал</th>\n",
       "      <th>фастбек</th>\n",
       "      <th>фургон</th>\n",
       "      <th>хэтчбек</th>\n",
       "    </tr>\n",
       "  </thead>\n",
       "  <tbody>\n",
       "    <tr>\n",
       "      <th>0</th>\n",
       "      <td>0</td>\n",
       "      <td>0</td>\n",
       "      <td>0</td>\n",
       "      <td>0</td>\n",
       "      <td>0</td>\n",
       "      <td>0</td>\n",
       "      <td>0</td>\n",
       "      <td>0</td>\n",
       "      <td>0</td>\n",
       "      <td>0</td>\n",
       "      <td>1</td>\n",
       "      <td>0</td>\n",
       "      <td>0</td>\n",
       "      <td>0</td>\n",
       "      <td>0</td>\n",
       "      <td>0</td>\n",
       "    </tr>\n",
       "    <tr>\n",
       "      <th>1</th>\n",
       "      <td>0</td>\n",
       "      <td>0</td>\n",
       "      <td>0</td>\n",
       "      <td>0</td>\n",
       "      <td>0</td>\n",
       "      <td>0</td>\n",
       "      <td>0</td>\n",
       "      <td>0</td>\n",
       "      <td>0</td>\n",
       "      <td>0</td>\n",
       "      <td>1</td>\n",
       "      <td>0</td>\n",
       "      <td>0</td>\n",
       "      <td>0</td>\n",
       "      <td>0</td>\n",
       "      <td>0</td>\n",
       "    </tr>\n",
       "    <tr>\n",
       "      <th>2</th>\n",
       "      <td>0</td>\n",
       "      <td>0</td>\n",
       "      <td>0</td>\n",
       "      <td>0</td>\n",
       "      <td>0</td>\n",
       "      <td>0</td>\n",
       "      <td>0</td>\n",
       "      <td>0</td>\n",
       "      <td>0</td>\n",
       "      <td>0</td>\n",
       "      <td>0</td>\n",
       "      <td>0</td>\n",
       "      <td>1</td>\n",
       "      <td>0</td>\n",
       "      <td>0</td>\n",
       "      <td>0</td>\n",
       "    </tr>\n",
       "    <tr>\n",
       "      <th>3</th>\n",
       "      <td>0</td>\n",
       "      <td>0</td>\n",
       "      <td>0</td>\n",
       "      <td>0</td>\n",
       "      <td>0</td>\n",
       "      <td>0</td>\n",
       "      <td>0</td>\n",
       "      <td>0</td>\n",
       "      <td>0</td>\n",
       "      <td>0</td>\n",
       "      <td>1</td>\n",
       "      <td>0</td>\n",
       "      <td>0</td>\n",
       "      <td>0</td>\n",
       "      <td>0</td>\n",
       "      <td>0</td>\n",
       "    </tr>\n",
       "    <tr>\n",
       "      <th>4</th>\n",
       "      <td>0</td>\n",
       "      <td>0</td>\n",
       "      <td>0</td>\n",
       "      <td>0</td>\n",
       "      <td>0</td>\n",
       "      <td>0</td>\n",
       "      <td>0</td>\n",
       "      <td>0</td>\n",
       "      <td>0</td>\n",
       "      <td>0</td>\n",
       "      <td>1</td>\n",
       "      <td>0</td>\n",
       "      <td>0</td>\n",
       "      <td>0</td>\n",
       "      <td>0</td>\n",
       "      <td>0</td>\n",
       "    </tr>\n",
       "  </tbody>\n",
       "</table>\n",
       "</div>"
      ],
      "text/plain": [
       "   внедорожник  кабриолет  компактвэн  купе  лимузин  лифтбек  микровэн  \\\n",
       "0            0          0           0     0        0        0         0   \n",
       "1            0          0           0     0        0        0         0   \n",
       "2            0          0           0     0        0        0         0   \n",
       "3            0          0           0     0        0        0         0   \n",
       "4            0          0           0     0        0        0         0   \n",
       "\n",
       "   минивэн  пикап  родстер  седан  тарга  универсал  фастбек  фургон  хэтчбек  \n",
       "0        0      0        0      1      0          0        0       0        0  \n",
       "1        0      0        0      1      0          0        0       0        0  \n",
       "2        0      0        0      0      0          1        0       0        0  \n",
       "3        0      0        0      1      0          0        0       0        0  \n",
       "4        0      0        0      1      0          0        0       0        0  "
      ]
     },
     "execution_count": 24,
     "metadata": {},
     "output_type": "execute_result"
    }
   ],
   "source": [
    "pd.get_dummies(X.bodyType).head() # Вот такой вид должен быть вот такой"
   ]
  },
  {
   "cell_type": "code",
   "execution_count": 16,
   "id": "e6bbd6ad",
   "metadata": {
    "ExecuteTime": {
     "end_time": "2022-04-09T12:04:57.282213Z",
     "start_time": "2022-04-09T12:04:56.980903Z"
    }
   },
   "outputs": [
    {
     "data": {
      "text/plain": [
       "<AxesSubplot:>"
      ]
     },
     "execution_count": 16,
     "metadata": {},
     "output_type": "execute_result"
    },
    {
     "data": {
      "image/png": "[encoded data removed]",
      "text/plain": [
       "<Figure size 432x288 with 1 Axes>"
      ]
     },
     "metadata": {
      "needs_background": "light"
     },
     "output_type": "display_data"
    }
   ],
   "source": [
    "show_value_counts(X.brand.value_counts())"
   ]
  },
  {
   "cell_type": "code",
   "execution_count": 17,
   "id": "629a33fe",
   "metadata": {
    "ExecuteTime": {
     "end_time": "2022-04-09T12:04:57.410361Z",
     "start_time": "2022-04-09T12:04:57.283214Z"
    }
   },
   "outputs": [
    {
     "data": {
      "text/plain": [
       "<AxesSubplot:>"
      ]
     },
     "execution_count": 17,
     "metadata": {},
     "output_type": "execute_result"
    },
    {
     "data": {
      "image/png": "[encoded data removed]",
      "text/plain": [
       "<Figure size 432x288 with 1 Axes>"
      ]
     },
     "metadata": {
      "needs_background": "light"
     },
     "output_type": "display_data"
    }
   ],
   "source": [
    "show_value_counts(test.brand.value_counts())"
   ]
  },
  {
   "cell_type": "code",
   "execution_count": 50,
   "id": "f665106e",
   "metadata": {
    "ExecuteTime": {
     "end_time": "2022-04-09T13:04:57.549138Z",
     "start_time": "2022-04-09T13:04:57.526134Z"
    }
   },
   "outputs": [
    {
     "name": "stdout",
     "output_type": "stream",
     "text": [
      "[] - Это бренды, которые есть в тесте, но нет в трейне. Как видно, их нет\n"
     ]
    }
   ],
   "source": [
    "print(list(set(test_mod.brand.unique()) - set(train_mod.brand.unique())),\n",
    "     '- Это бренды, которые есть в тесте, но нет в трейне. Как видно, их нет')"
   ]
  },
  {
   "cell_type": "code",
   "execution_count": 47,
   "id": "b10adb57",
   "metadata": {
    "ExecuteTime": {
     "end_time": "2022-04-09T13:02:05.992522Z",
     "start_time": "2022-04-09T13:02:05.974527Z"
    }
   },
   "outputs": [
    {
     "data": {
      "text/plain": [
       "['MITSUBISHI',\n",
       " 'VOLVO',\n",
       " 'TOYOTA',\n",
       " 'SKODA',\n",
       " 'LEXUS',\n",
       " 'AUDI',\n",
       " 'INFINITI',\n",
       " 'MERCEDES',\n",
       " 'VOLKSWAGEN',\n",
       " 'HONDA',\n",
       " 'BMW',\n",
       " 'NISSAN']"
      ]
     },
     "execution_count": 47,
     "metadata": {},
     "output_type": "execute_result"
    }
   ],
   "source": [
    "test_mod.brand.unique(), train_mod.brand.unique()\n",
    "\n",
    "list(set(test_mod.brand.unique()) & set(train_mod.brand.unique()))"
   ]
  },
  {
   "cell_type": "code",
   "execution_count": 38,
   "id": "77765abd",
   "metadata": {
    "ExecuteTime": {
     "end_time": "2022-04-09T12:57:04.296497Z",
     "start_time": "2022-04-09T12:57:04.272494Z"
    }
   },
   "outputs": [
    {
     "name": "stdout",
     "output_type": "stream",
     "text": [
      "['HS', 'TERRANO', 'COROLLA_LEVIN', 'SIENNA', 'RC'] ... 526\n"
     ]
    }
   ],
   "source": [
    "unilist = list(set(test_mod.model_name.unique()) & set(train_mod.model_name.unique()))\n",
    "print(unilist[:5], '...',len(unilist))"
   ]
  },
  {
   "cell_type": "markdown",
   "id": "309cbab3",
   "metadata": {},
   "source": [
    "Это список моделей, которые совпадают в обоих датасетах"
   ]
  },
  {
   "cell_type": "code",
   "execution_count": 37,
   "id": "7df57c4c",
   "metadata": {
    "ExecuteTime": {
     "end_time": "2022-04-09T12:56:52.821792Z",
     "start_time": "2022-04-09T12:56:52.814791Z"
    }
   },
   "outputs": [
    {
     "name": "stdout",
     "output_type": "stream",
     "text": [
      "['X4_M', 'TORNEO', 'ARTEON', 'POLO_GTI', 'GOLF_R32'] ... 18\n"
     ]
    }
   ],
   "source": [
    "dunno = list(set(test_mod.model_name.unique()) - set(unilist))\n",
    "print(dunno[:5],'...',len(dunno))"
   ]
  },
  {
   "cell_type": "markdown",
   "id": "654af3cf",
   "metadata": {},
   "source": [
    "Это список моделей, которые есть только в тестовом датасете. Среднюю информацию о них можно найти из сторонних источников"
   ]
  },
  {
   "cell_type": "code",
   "execution_count": 63,
   "id": "2cb301cc",
   "metadata": {
    "ExecuteTime": {
     "end_time": "2022-04-09T14:40:06.757020Z",
     "start_time": "2022-04-09T14:40:06.724013Z"
    }
   },
   "outputs": [],
   "source": [
    "# датасеты, в которых только модели, что есть в обоих _mod датасетах\n",
    "prepr_train = train_mod[train_mod.model_name.isin(unilist)]\n",
    "prepr_test  = test_mod[test_mod.model_name.isin(unilist)]"
   ]
  },
  {
   "cell_type": "code",
   "execution_count": 69,
   "id": "e6e45579",
   "metadata": {
    "ExecuteTime": {
     "end_time": "2022-04-09T14:52:35.170584Z",
     "start_time": "2022-04-09T14:52:35.140578Z"
    }
   },
   "outputs": [
    {
     "ename": "AttributeError",
     "evalue": "'DataFrame' object has no attribute 'price'",
     "output_type": "error",
     "traceback": [
      "\u001b[1;31m---------------------------------------------------------------------------\u001b[0m",
      "\u001b[1;31mAttributeError\u001b[0m                            Traceback (most recent call last)",
      "Input \u001b[1;32mIn [69]\u001b[0m, in \u001b[0;36m<module>\u001b[1;34m\u001b[0m\n\u001b[1;32m----> 1\u001b[0m \u001b[43mtrain_mod\u001b[49m\u001b[38;5;241;43m.\u001b[39;49m\u001b[43mprice\u001b[49m\n",
      "File \u001b[1;32m~\\AppData\\Local\\Programs\\Python\\Python310\\lib\\site-packages\\pandas\\core\\generic.py:5575\u001b[0m, in \u001b[0;36mNDFrame.__getattr__\u001b[1;34m(self, name)\u001b[0m\n\u001b[0;32m   5568\u001b[0m \u001b[38;5;28;01mif\u001b[39;00m (\n\u001b[0;32m   5569\u001b[0m     name \u001b[38;5;129;01mnot\u001b[39;00m \u001b[38;5;129;01min\u001b[39;00m \u001b[38;5;28mself\u001b[39m\u001b[38;5;241m.\u001b[39m_internal_names_set\n\u001b[0;32m   5570\u001b[0m     \u001b[38;5;129;01mand\u001b[39;00m name \u001b[38;5;129;01mnot\u001b[39;00m \u001b[38;5;129;01min\u001b[39;00m \u001b[38;5;28mself\u001b[39m\u001b[38;5;241m.\u001b[39m_metadata\n\u001b[0;32m   5571\u001b[0m     \u001b[38;5;129;01mand\u001b[39;00m name \u001b[38;5;129;01mnot\u001b[39;00m \u001b[38;5;129;01min\u001b[39;00m \u001b[38;5;28mself\u001b[39m\u001b[38;5;241m.\u001b[39m_accessors\n\u001b[0;32m   5572\u001b[0m     \u001b[38;5;129;01mand\u001b[39;00m \u001b[38;5;28mself\u001b[39m\u001b[38;5;241m.\u001b[39m_info_axis\u001b[38;5;241m.\u001b[39m_can_hold_identifiers_and_holds_name(name)\n\u001b[0;32m   5573\u001b[0m ):\n\u001b[0;32m   5574\u001b[0m     \u001b[38;5;28;01mreturn\u001b[39;00m \u001b[38;5;28mself\u001b[39m[name]\n\u001b[1;32m-> 5575\u001b[0m \u001b[38;5;28;01mreturn\u001b[39;00m \u001b[38;5;28;43mobject\u001b[39;49m\u001b[38;5;241;43m.\u001b[39;49m\u001b[38;5;21;43m__getattribute__\u001b[39;49m\u001b[43m(\u001b[49m\u001b[38;5;28;43mself\u001b[39;49m\u001b[43m,\u001b[49m\u001b[43m \u001b[49m\u001b[43mname\u001b[49m\u001b[43m)\u001b[49m\n",
      "\u001b[1;31mAttributeError\u001b[0m: 'DataFrame' object has no attribute 'price'"
     ]
    }
   ],
   "source": [
    "train_mod.price"
   ]
  },
  {
   "cell_type": "code",
   "execution_count": 57,
   "id": "58214b7c",
   "metadata": {
    "ExecuteTime": {
     "end_time": "2022-04-09T15:09:31.589350Z",
     "start_time": "2022-04-09T15:09:31.556343Z"
    }
   },
   "outputs": [],
   "source": [
    "grouped_df = train_mod.groupby(['brand', 'model_name']).mean()\n",
    "grouped_df = grouped_df.reset_index()"
   ]
  },
  {
   "cell_type": "code",
   "execution_count": 58,
   "id": "03651dbb",
   "metadata": {
    "ExecuteTime": {
     "end_time": "2022-04-09T15:09:33.582825Z",
     "start_time": "2022-04-09T15:09:33.563822Z"
    }
   },
   "outputs": [
    {
     "data": {
      "text/html": [
       "<div>\n",
       "<style scoped>\n",
       "    .dataframe tbody tr th:only-of-type {\n",
       "        vertical-align: middle;\n",
       "    }\n",
       "\n",
       "    .dataframe tbody tr th {\n",
       "        vertical-align: top;\n",
       "    }\n",
       "\n",
       "    .dataframe thead th {\n",
       "        text-align: right;\n",
       "    }\n",
       "</style>\n",
       "<table border=\"1\" class=\"dataframe\">\n",
       "  <thead>\n",
       "    <tr style=\"text-align: right;\">\n",
       "      <th></th>\n",
       "      <th>brand</th>\n",
       "      <th>model_name</th>\n",
       "      <th>modelDate</th>\n",
       "      <th>numberOfDoors</th>\n",
       "      <th>productionDate</th>\n",
       "      <th>engineDisplacement</th>\n",
       "      <th>enginePower</th>\n",
       "      <th>mileage</th>\n",
       "      <th>Владельцы</th>\n",
       "      <th>price</th>\n",
       "    </tr>\n",
       "  </thead>\n",
       "  <tbody>\n",
       "    <tr>\n",
       "      <th>0</th>\n",
       "      <td>AUDI</td>\n",
       "      <td>100</td>\n",
       "      <td>1988.407407</td>\n",
       "      <td>4.074074</td>\n",
       "      <td>1990.546296</td>\n",
       "      <td>2.278704</td>\n",
       "      <td>131.185185</td>\n",
       "      <td>321694.861111</td>\n",
       "      <td>2.796296</td>\n",
       "      <td>1.272430e+05</td>\n",
       "    </tr>\n",
       "    <tr>\n",
       "      <th>1</th>\n",
       "      <td>AUDI</td>\n",
       "      <td>200</td>\n",
       "      <td>1981.4</td>\n",
       "      <td>4.0</td>\n",
       "      <td>1983.400000</td>\n",
       "      <td>2.120000</td>\n",
       "      <td>164.6</td>\n",
       "      <td>187400.000000</td>\n",
       "      <td>2.4</td>\n",
       "      <td>1.297998e+05</td>\n",
       "    </tr>\n",
       "    <tr>\n",
       "      <th>2</th>\n",
       "      <td>AUDI</td>\n",
       "      <td>80</td>\n",
       "      <td>1987.027933</td>\n",
       "      <td>4.011173</td>\n",
       "      <td>1989.614525</td>\n",
       "      <td>1.841899</td>\n",
       "      <td>92.675978</td>\n",
       "      <td>310906.536313</td>\n",
       "      <td>2.871508</td>\n",
       "      <td>9.508316e+04</td>\n",
       "    </tr>\n",
       "    <tr>\n",
       "      <th>3</th>\n",
       "      <td>AUDI</td>\n",
       "      <td>90</td>\n",
       "      <td>1987.555556</td>\n",
       "      <td>4.0</td>\n",
       "      <td>1989.333333</td>\n",
       "      <td>2.211111</td>\n",
       "      <td>130.222222</td>\n",
       "      <td>233888.888889</td>\n",
       "      <td>2.777778</td>\n",
       "      <td>8.355556e+04</td>\n",
       "    </tr>\n",
       "    <tr>\n",
       "      <th>4</th>\n",
       "      <td>AUDI</td>\n",
       "      <td>920</td>\n",
       "      <td>1938.0</td>\n",
       "      <td>4.0</td>\n",
       "      <td>1938.000000</td>\n",
       "      <td>3.300000</td>\n",
       "      <td>75.0</td>\n",
       "      <td>90000.000000</td>\n",
       "      <td>2.0</td>\n",
       "      <td>2.000000e+06</td>\n",
       "    </tr>\n",
       "    <tr>\n",
       "      <th>...</th>\n",
       "      <td>...</td>\n",
       "      <td>...</td>\n",
       "      <td>...</td>\n",
       "      <td>...</td>\n",
       "      <td>...</td>\n",
       "      <td>...</td>\n",
       "      <td>...</td>\n",
       "      <td>...</td>\n",
       "      <td>...</td>\n",
       "      <td>...</td>\n",
       "    </tr>\n",
       "    <tr>\n",
       "      <th>1100</th>\n",
       "      <td>VOLVO</td>\n",
       "      <td>V90_CROSS_COUNTRY</td>\n",
       "      <td>2016.0</td>\n",
       "      <td>5.0</td>\n",
       "      <td>2017.888889</td>\n",
       "      <td>2.000000</td>\n",
       "      <td>216.222222</td>\n",
       "      <td>42831.555556</td>\n",
       "      <td>1.0</td>\n",
       "      <td>3.207186e+06</td>\n",
       "    </tr>\n",
       "    <tr>\n",
       "      <th>1101</th>\n",
       "      <td>VOLVO</td>\n",
       "      <td>XC40</td>\n",
       "      <td>2017.0</td>\n",
       "      <td>5.0</td>\n",
       "      <td>2019.724138</td>\n",
       "      <td>2.000000</td>\n",
       "      <td>158.275862</td>\n",
       "      <td>3439.896552</td>\n",
       "      <td>0.206897</td>\n",
       "      <td>2.924473e+06</td>\n",
       "    </tr>\n",
       "    <tr>\n",
       "      <th>1102</th>\n",
       "      <td>VOLVO</td>\n",
       "      <td>XC60</td>\n",
       "      <td>2014.874</td>\n",
       "      <td>5.0</td>\n",
       "      <td>2017.724000</td>\n",
       "      <td>2.100800</td>\n",
       "      <td>219.388</td>\n",
       "      <td>39981.978000</td>\n",
       "      <td>0.624</td>\n",
       "      <td>3.243449e+06</td>\n",
       "    </tr>\n",
       "    <tr>\n",
       "      <th>1103</th>\n",
       "      <td>VOLVO</td>\n",
       "      <td>XC70</td>\n",
       "      <td>2007.009091</td>\n",
       "      <td>5.0</td>\n",
       "      <td>2009.509091</td>\n",
       "      <td>2.520000</td>\n",
       "      <td>201.809091</td>\n",
       "      <td>206942.363636</td>\n",
       "      <td>2.336364</td>\n",
       "      <td>8.839500e+05</td>\n",
       "    </tr>\n",
       "    <tr>\n",
       "      <th>1104</th>\n",
       "      <td>VOLVO</td>\n",
       "      <td>XC90</td>\n",
       "      <td>2009.696281</td>\n",
       "      <td>5.0</td>\n",
       "      <td>2012.105372</td>\n",
       "      <td>2.393182</td>\n",
       "      <td>227.661157</td>\n",
       "      <td>125922.326446</td>\n",
       "      <td>1.72314</td>\n",
       "      <td>2.215555e+06</td>\n",
       "    </tr>\n",
       "  </tbody>\n",
       "</table>\n",
       "<p>1105 rows × 10 columns</p>\n",
       "</div>"
      ],
      "text/plain": [
       "      brand         model_name    modelDate  numberOfDoors  productionDate  \\\n",
       "0      AUDI                100  1988.407407       4.074074     1990.546296   \n",
       "1      AUDI                200       1981.4            4.0     1983.400000   \n",
       "2      AUDI                 80  1987.027933       4.011173     1989.614525   \n",
       "3      AUDI                 90  1987.555556            4.0     1989.333333   \n",
       "4      AUDI                920       1938.0            4.0     1938.000000   \n",
       "...     ...                ...          ...            ...             ...   \n",
       "1100  VOLVO  V90_CROSS_COUNTRY       2016.0            5.0     2017.888889   \n",
       "1101  VOLVO               XC40       2017.0            5.0     2019.724138   \n",
       "1102  VOLVO               XC60     2014.874            5.0     2017.724000   \n",
       "1103  VOLVO               XC70  2007.009091            5.0     2009.509091   \n",
       "1104  VOLVO               XC90  2009.696281            5.0     2012.105372   \n",
       "\n",
       "      engineDisplacement  enginePower        mileage  Владельцы         price  \n",
       "0               2.278704   131.185185  321694.861111   2.796296  1.272430e+05  \n",
       "1               2.120000        164.6  187400.000000        2.4  1.297998e+05  \n",
       "2               1.841899    92.675978  310906.536313   2.871508  9.508316e+04  \n",
       "3               2.211111   130.222222  233888.888889   2.777778  8.355556e+04  \n",
       "4               3.300000         75.0   90000.000000        2.0  2.000000e+06  \n",
       "...                  ...          ...            ...        ...           ...  \n",
       "1100            2.000000   216.222222   42831.555556        1.0  3.207186e+06  \n",
       "1101            2.000000   158.275862    3439.896552   0.206897  2.924473e+06  \n",
       "1102            2.100800      219.388   39981.978000      0.624  3.243449e+06  \n",
       "1103            2.520000   201.809091  206942.363636   2.336364  8.839500e+05  \n",
       "1104            2.393182   227.661157  125922.326446    1.72314  2.215555e+06  \n",
       "\n",
       "[1105 rows x 10 columns]"
      ]
     },
     "execution_count": 58,
     "metadata": {},
     "output_type": "execute_result"
    }
   ],
   "source": [
    "grouped_df.brand"
   ]
  },
  {
   "cell_type": "code",
   "execution_count": 39,
   "id": "1eab620f",
   "metadata": {
    "ExecuteTime": {
     "end_time": "2022-04-09T15:05:29.041788Z",
     "start_time": "2022-04-09T15:05:29.036786Z"
    }
   },
   "outputs": [
    {
     "data": {
      "text/plain": [
       "price    1322188.353866\n",
       "Name: TOYOTA, dtype: object"
      ]
     },
     "execution_count": 39,
     "metadata": {},
     "output_type": "execute_result"
    }
   ],
   "source": [
    "grouped_df.loc['TOYOTA'][grouped_df.loc['TOYOTA'].index == 'price']"
   ]
  },
  {
   "cell_type": "code",
   "execution_count": null,
   "id": "73faf78a",
   "metadata": {},
   "outputs": [],
   "source": [
    "'' "
   ]
  },
  {
   "cell_type": "code",
   "execution_count": 25,
   "id": "b4b53c8e",
   "metadata": {
    "ExecuteTime": {
     "end_time": "2022-04-09T15:01:38.379122Z",
     "start_time": "2022-04-09T15:01:38.351030Z"
    }
   },
   "outputs": [
    {
     "data": {
      "text/html": [
       "<div>\n",
       "<style scoped>\n",
       "    .dataframe tbody tr th:only-of-type {\n",
       "        vertical-align: middle;\n",
       "    }\n",
       "\n",
       "    .dataframe tbody tr th {\n",
       "        vertical-align: top;\n",
       "    }\n",
       "\n",
       "    .dataframe thead th {\n",
       "        text-align: right;\n",
       "    }\n",
       "</style>\n",
       "<table border=\"1\" class=\"dataframe\">\n",
       "  <thead>\n",
       "    <tr style=\"text-align: right;\">\n",
       "      <th></th>\n",
       "      <th>bodyType</th>\n",
       "      <th>brand</th>\n",
       "      <th>color</th>\n",
       "      <th>fuelType</th>\n",
       "      <th>modelDate</th>\n",
       "      <th>numberOfDoors</th>\n",
       "      <th>productionDate</th>\n",
       "      <th>vehicleTransmission</th>\n",
       "      <th>engineDisplacement</th>\n",
       "      <th>enginePower</th>\n",
       "      <th>description</th>\n",
       "      <th>mileage</th>\n",
       "      <th>Привод</th>\n",
       "      <th>Руль</th>\n",
       "      <th>Владельцы</th>\n",
       "      <th>ПТС</th>\n",
       "      <th>price</th>\n",
       "      <th>model_name</th>\n",
       "      <th>Country_of_origin</th>\n",
       "    </tr>\n",
       "  </thead>\n",
       "  <tbody>\n",
       "    <tr>\n",
       "      <th>64570</th>\n",
       "      <td>внедорожник</td>\n",
       "      <td>TOYOTA</td>\n",
       "      <td>чёрный</td>\n",
       "      <td>бензин</td>\n",
       "      <td>2009</td>\n",
       "      <td>5</td>\n",
       "      <td>2011</td>\n",
       "      <td>AUTOMATIC</td>\n",
       "      <td>4.0</td>\n",
       "      <td>273</td>\n",
       "      <td>Тойота Центр Тула (ООО СМАРТ-Т) предлагает бол...</td>\n",
       "      <td>173000</td>\n",
       "      <td>полный</td>\n",
       "      <td>LEFT</td>\n",
       "      <td>1</td>\n",
       "      <td>ORIGINAL</td>\n",
       "      <td>1850000.0</td>\n",
       "      <td>4RUNNER</td>\n",
       "      <td>Japan</td>\n",
       "    </tr>\n",
       "    <tr>\n",
       "      <th>64571</th>\n",
       "      <td>внедорожник</td>\n",
       "      <td>TOYOTA</td>\n",
       "      <td>серебристый</td>\n",
       "      <td>бензин</td>\n",
       "      <td>1995</td>\n",
       "      <td>5</td>\n",
       "      <td>1999</td>\n",
       "      <td>AUTOMATIC</td>\n",
       "      <td>3.4</td>\n",
       "      <td>185</td>\n",
       "      <td>«Inchcape Certified-  Первый международный офи...</td>\n",
       "      <td>246000</td>\n",
       "      <td>полный</td>\n",
       "      <td>LEFT</td>\n",
       "      <td>3</td>\n",
       "      <td>ORIGINAL</td>\n",
       "      <td>565000.0</td>\n",
       "      <td>4RUNNER</td>\n",
       "      <td>Japan</td>\n",
       "    </tr>\n",
       "    <tr>\n",
       "      <th>64572</th>\n",
       "      <td>внедорожник</td>\n",
       "      <td>TOYOTA</td>\n",
       "      <td>серебристый</td>\n",
       "      <td>бензин</td>\n",
       "      <td>2009</td>\n",
       "      <td>5</td>\n",
       "      <td>2010</td>\n",
       "      <td>AUTOMATIC</td>\n",
       "      <td>4.0</td>\n",
       "      <td>273</td>\n",
       "      <td>ПТС оригинал, автомобиль привозил из США для с...</td>\n",
       "      <td>126000</td>\n",
       "      <td>полный</td>\n",
       "      <td>LEFT</td>\n",
       "      <td>1</td>\n",
       "      <td>ORIGINAL</td>\n",
       "      <td>5000000.0</td>\n",
       "      <td>4RUNNER</td>\n",
       "      <td>Japan</td>\n",
       "    </tr>\n",
       "    <tr>\n",
       "      <th>64573</th>\n",
       "      <td>внедорожник</td>\n",
       "      <td>TOYOTA</td>\n",
       "      <td>белый</td>\n",
       "      <td>бензин</td>\n",
       "      <td>2013</td>\n",
       "      <td>5</td>\n",
       "      <td>2020</td>\n",
       "      <td>AUTOMATIC</td>\n",
       "      <td>4.0</td>\n",
       "      <td>273</td>\n",
       "      <td>Нет Trade-In !!! Нет !!! Рассчитана цена под к...</td>\n",
       "      <td>0</td>\n",
       "      <td>полный</td>\n",
       "      <td>LEFT</td>\n",
       "      <td>0</td>\n",
       "      <td>NaN</td>\n",
       "      <td>6192204.0</td>\n",
       "      <td>4RUNNER</td>\n",
       "      <td>Japan</td>\n",
       "    </tr>\n",
       "    <tr>\n",
       "      <th>64574</th>\n",
       "      <td>внедорожник</td>\n",
       "      <td>TOYOTA</td>\n",
       "      <td>серебристый</td>\n",
       "      <td>бензин</td>\n",
       "      <td>2002</td>\n",
       "      <td>5</td>\n",
       "      <td>2004</td>\n",
       "      <td>AUTOMATIC</td>\n",
       "      <td>4.0</td>\n",
       "      <td>245</td>\n",
       "      <td>Продается машина Тойота 4RUNNER, 2004г, мотор ...</td>\n",
       "      <td>222000</td>\n",
       "      <td>полный</td>\n",
       "      <td>LEFT</td>\n",
       "      <td>2</td>\n",
       "      <td>ORIGINAL</td>\n",
       "      <td>800000.0</td>\n",
       "      <td>4RUNNER</td>\n",
       "      <td>Japan</td>\n",
       "    </tr>\n",
       "    <tr>\n",
       "      <th>...</th>\n",
       "      <td>...</td>\n",
       "      <td>...</td>\n",
       "      <td>...</td>\n",
       "      <td>...</td>\n",
       "      <td>...</td>\n",
       "      <td>...</td>\n",
       "      <td>...</td>\n",
       "      <td>...</td>\n",
       "      <td>...</td>\n",
       "      <td>...</td>\n",
       "      <td>...</td>\n",
       "      <td>...</td>\n",
       "      <td>...</td>\n",
       "      <td>...</td>\n",
       "      <td>...</td>\n",
       "      <td>...</td>\n",
       "      <td>...</td>\n",
       "      <td>...</td>\n",
       "      <td>...</td>\n",
       "    </tr>\n",
       "    <tr>\n",
       "      <th>69389</th>\n",
       "      <td>хэтчбек</td>\n",
       "      <td>TOYOTA</td>\n",
       "      <td>серый</td>\n",
       "      <td>бензин</td>\n",
       "      <td>1999</td>\n",
       "      <td>5</td>\n",
       "      <td>2001</td>\n",
       "      <td>MECHANICAL</td>\n",
       "      <td>1.0</td>\n",
       "      <td>68</td>\n",
       "      <td>Авто в хорошем состоянии, передние стекло подъ...</td>\n",
       "      <td>154000</td>\n",
       "      <td>передний</td>\n",
       "      <td>LEFT</td>\n",
       "      <td>3</td>\n",
       "      <td>ORIGINAL</td>\n",
       "      <td>240000.0</td>\n",
       "      <td>YARIS</td>\n",
       "      <td>Japan</td>\n",
       "    </tr>\n",
       "    <tr>\n",
       "      <th>69390</th>\n",
       "      <td>хэтчбек</td>\n",
       "      <td>TOYOTA</td>\n",
       "      <td>золотистый</td>\n",
       "      <td>бензин</td>\n",
       "      <td>2009</td>\n",
       "      <td>5</td>\n",
       "      <td>2009</td>\n",
       "      <td>MECHANICAL</td>\n",
       "      <td>1.3</td>\n",
       "      <td>101</td>\n",
       "      <td>В отличном состоянии.Все работает как положено...</td>\n",
       "      <td>114000</td>\n",
       "      <td>передний</td>\n",
       "      <td>LEFT</td>\n",
       "      <td>2</td>\n",
       "      <td>ORIGINAL</td>\n",
       "      <td>400000.0</td>\n",
       "      <td>YARIS</td>\n",
       "      <td>Japan</td>\n",
       "    </tr>\n",
       "    <tr>\n",
       "      <th>69391</th>\n",
       "      <td>хэтчбек</td>\n",
       "      <td>TOYOTA</td>\n",
       "      <td>белый</td>\n",
       "      <td>бензин</td>\n",
       "      <td>2005</td>\n",
       "      <td>5</td>\n",
       "      <td>2008</td>\n",
       "      <td>MECHANICAL</td>\n",
       "      <td>1.0</td>\n",
       "      <td>69</td>\n",
       "      <td>Своевременное ТО, перебрана вся ходовая, кап р...</td>\n",
       "      <td>267000</td>\n",
       "      <td>передний</td>\n",
       "      <td>LEFT</td>\n",
       "      <td>3</td>\n",
       "      <td>ORIGINAL</td>\n",
       "      <td>300000.0</td>\n",
       "      <td>YARIS</td>\n",
       "      <td>Japan</td>\n",
       "    </tr>\n",
       "    <tr>\n",
       "      <th>69392</th>\n",
       "      <td>хэтчбек</td>\n",
       "      <td>TOYOTA</td>\n",
       "      <td>серебристый</td>\n",
       "      <td>бензин</td>\n",
       "      <td>1999</td>\n",
       "      <td>5</td>\n",
       "      <td>2001</td>\n",
       "      <td>MECHANICAL</td>\n",
       "      <td>1.0</td>\n",
       "      <td>68</td>\n",
       "      <td>Продам надежный японский авто в достойном для ...</td>\n",
       "      <td>325000</td>\n",
       "      <td>передний</td>\n",
       "      <td>LEFT</td>\n",
       "      <td>3</td>\n",
       "      <td>DUPLICATE</td>\n",
       "      <td>200000.0</td>\n",
       "      <td>YARIS</td>\n",
       "      <td>Japan</td>\n",
       "    </tr>\n",
       "    <tr>\n",
       "      <th>69393</th>\n",
       "      <td>компактвэн</td>\n",
       "      <td>TOYOTA</td>\n",
       "      <td>серебристый</td>\n",
       "      <td>бензин</td>\n",
       "      <td>1999</td>\n",
       "      <td>5</td>\n",
       "      <td>2001</td>\n",
       "      <td>MECHANICAL</td>\n",
       "      <td>1.5</td>\n",
       "      <td>106</td>\n",
       "      <td>СМОТРИТЕ ВИДЕО, Я В НЁМ ВСЁ РАССКАЗАЛ И ПОКАЗА...</td>\n",
       "      <td>325000</td>\n",
       "      <td>передний</td>\n",
       "      <td>LEFT</td>\n",
       "      <td>3</td>\n",
       "      <td>ORIGINAL</td>\n",
       "      <td>220000.0</td>\n",
       "      <td>YARIS_VERSO</td>\n",
       "      <td>Japan</td>\n",
       "    </tr>\n",
       "  </tbody>\n",
       "</table>\n",
       "<p>4672 rows × 19 columns</p>\n",
       "</div>"
      ],
      "text/plain": [
       "          bodyType   brand        color fuelType  modelDate  numberOfDoors  \\\n",
       "64570  внедорожник  TOYOTA       чёрный   бензин       2009              5   \n",
       "64571  внедорожник  TOYOTA  серебристый   бензин       1995              5   \n",
       "64572  внедорожник  TOYOTA  серебристый   бензин       2009              5   \n",
       "64573  внедорожник  TOYOTA        белый   бензин       2013              5   \n",
       "64574  внедорожник  TOYOTA  серебристый   бензин       2002              5   \n",
       "...            ...     ...          ...      ...        ...            ...   \n",
       "69389      хэтчбек  TOYOTA        серый   бензин       1999              5   \n",
       "69390      хэтчбек  TOYOTA   золотистый   бензин       2009              5   \n",
       "69391      хэтчбек  TOYOTA        белый   бензин       2005              5   \n",
       "69392      хэтчбек  TOYOTA  серебристый   бензин       1999              5   \n",
       "69393   компактвэн  TOYOTA  серебристый   бензин       1999              5   \n",
       "\n",
       "       productionDate vehicleTransmission  engineDisplacement  enginePower  \\\n",
       "64570            2011           AUTOMATIC                 4.0          273   \n",
       "64571            1999           AUTOMATIC                 3.4          185   \n",
       "64572            2010           AUTOMATIC                 4.0          273   \n",
       "64573            2020           AUTOMATIC                 4.0          273   \n",
       "64574            2004           AUTOMATIC                 4.0          245   \n",
       "...               ...                 ...                 ...          ...   \n",
       "69389            2001          MECHANICAL                 1.0           68   \n",
       "69390            2009          MECHANICAL                 1.3          101   \n",
       "69391            2008          MECHANICAL                 1.0           69   \n",
       "69392            2001          MECHANICAL                 1.0           68   \n",
       "69393            2001          MECHANICAL                 1.5          106   \n",
       "\n",
       "                                             description  mileage    Привод  \\\n",
       "64570  Тойота Центр Тула (ООО СМАРТ-Т) предлагает бол...   173000    полный   \n",
       "64571  «Inchcape Certified-  Первый международный офи...   246000    полный   \n",
       "64572  ПТС оригинал, автомобиль привозил из США для с...   126000    полный   \n",
       "64573  Нет Trade-In !!! Нет !!! Рассчитана цена под к...        0    полный   \n",
       "64574  Продается машина Тойота 4RUNNER, 2004г, мотор ...   222000    полный   \n",
       "...                                                  ...      ...       ...   \n",
       "69389  Авто в хорошем состоянии, передние стекло подъ...   154000  передний   \n",
       "69390  В отличном состоянии.Все работает как положено...   114000  передний   \n",
       "69391  Своевременное ТО, перебрана вся ходовая, кап р...   267000  передний   \n",
       "69392  Продам надежный японский авто в достойном для ...   325000  передний   \n",
       "69393  СМОТРИТЕ ВИДЕО, Я В НЁМ ВСЁ РАССКАЗАЛ И ПОКАЗА...   325000  передний   \n",
       "\n",
       "       Руль  Владельцы        ПТС      price   model_name Country_of_origin  \n",
       "64570  LEFT          1   ORIGINAL  1850000.0      4RUNNER             Japan  \n",
       "64571  LEFT          3   ORIGINAL   565000.0      4RUNNER             Japan  \n",
       "64572  LEFT          1   ORIGINAL  5000000.0      4RUNNER             Japan  \n",
       "64573  LEFT          0        NaN  6192204.0      4RUNNER             Japan  \n",
       "64574  LEFT          2   ORIGINAL   800000.0      4RUNNER             Japan  \n",
       "...     ...        ...        ...        ...          ...               ...  \n",
       "69389  LEFT          3   ORIGINAL   240000.0        YARIS             Japan  \n",
       "69390  LEFT          2   ORIGINAL   400000.0        YARIS             Japan  \n",
       "69391  LEFT          3   ORIGINAL   300000.0        YARIS             Japan  \n",
       "69392  LEFT          3  DUPLICATE   200000.0        YARIS             Japan  \n",
       "69393  LEFT          3   ORIGINAL   220000.0  YARIS_VERSO             Japan  \n",
       "\n",
       "[4672 rows x 19 columns]"
      ]
     },
     "execution_count": 25,
     "metadata": {},
     "output_type": "execute_result"
    }
   ],
   "source": [
    "train_mod[train_mod.brand==\"TOYOTA\"]"
   ]
  },
  {
   "cell_type": "code",
   "execution_count": null,
   "id": "cbcbf060",
   "metadata": {},
   "outputs": [],
   "source": [
    "grouped_df."
   ]
  },
  {
   "cell_type": "code",
   "execution_count": null,
   "id": "c44a6852",
   "metadata": {},
   "outputs": [],
   "source": [
    "'''Подготовка датасетов'''"
   ]
  },
  {
   "cell_type": "markdown",
   "id": "e8993ead",
   "metadata": {},
   "source": [
    "### Модели\n",
    "- [ML](./secondary_notebooks/ML.ipynb) - Максима"
   ]
  },
  {
   "cell_type": "markdown",
   "id": "96621601",
   "metadata": {},
   "source": [
    "# Разведочный анализ\n",
    "\n",
    "Есть датасет test, по которому нужно предсказать стоимость поддержанного автомобиля, при этом обучать модель для предсказаний на кагл на нём нельзя. Нужно использовать сторонний датасет. Мы взяли датасет из baseline, поскольку парсинг займет много времени, а в приоритетах проекта именно DS часть задачи предсказания цены на авто.\n",
    "\n",
    "Для начала стоит понять, по каким данным будут делаться предсказания, затем подобрать подходящие из тренировочного датасета."
   ]
  },
  {
   "cell_type": "markdown",
   "id": "12ecc69e",
   "metadata": {},
   "source": [
    "## Test"
   ]
  },
  {
   "cell_type": "markdown",
   "id": "06da92d8",
   "metadata": {},
   "source": [
    "### Пропуски и дубли"
   ]
  },
  {
   "cell_type": "code",
   "execution_count": 18,
   "id": "1561e7b8",
   "metadata": {
    "ExecuteTime": {
     "end_time": "2022-04-09T12:04:57.634486Z",
     "start_time": "2022-04-09T12:04:57.411360Z"
    }
   },
   "outputs": [
    {
     "name": "stdout",
     "output_type": "stream",
     "text": [
      "Форма датасета до удаления дублей (34686, 32)\n",
      "Форма датасета после              (34686, 32)\n"
     ]
    }
   ],
   "source": [
    "print('Форма датасета до удаления дублей',test.shape)\n",
    "test = test.drop_duplicates()\n",
    "print('Форма датасета после             ',test.shape)\n"
   ]
  },
  {
   "cell_type": "markdown",
   "id": "b4007545",
   "metadata": {},
   "source": [
    "Дублей нет! Посмотрим на пропуски:"
   ]
  },
  {
   "cell_type": "code",
   "execution_count": 19,
   "id": "6c3f3a1c",
   "metadata": {
    "ExecuteTime": {
     "end_time": "2022-04-09T12:04:58.766376Z",
     "start_time": "2022-04-09T12:04:57.635486Z"
    }
   },
   "outputs": [
    {
     "data": {
      "image/png": "[encoded data removed]",
      "text/plain": [
       "<Figure size 720x360 with 1 Axes>"
      ]
     },
     "metadata": {
      "needs_background": "light"
     },
     "output_type": "display_data"
    }
   ],
   "source": [
    "import seaborn as sns\n",
    "\n",
    "fig, ax = plt.subplots(figsize=(10,5))\n",
    "sns_heatmap = sns.heatmap(\n",
    "    test.isnull(), yticklabels=False, cbar=False, cmap='viridis')"
   ]
  },
  {
   "cell_type": "markdown",
   "id": "237ee367",
   "metadata": {
    "ExecuteTime": {
     "end_time": "2022-04-07T08:18:53.436363Z",
     "start_time": "2022-04-07T08:18:53.420370Z"
    }
   },
   "source": [
    "Как видно, они очень плотно распределены всего по трём столбцам, что очень радует. Сразу видно, что столбец `complectation_dict` стоит выкинуть, поскольку в нем больше пропусков, чем данных. так же сразу стоит посмотреть на остальные столбцы с пропусками"
   ]
  },
  {
   "cell_type": "markdown",
   "id": "8f67a1b6",
   "metadata": {},
   "source": [
    "#### complectation_dict"
   ]
  },
  {
   "cell_type": "code",
   "execution_count": 183,
   "id": "204b0fbc",
   "metadata": {
    "ExecuteTime": {
     "end_time": "2022-04-10T14:38:04.564118Z",
     "start_time": "2022-04-10T14:38:04.541114Z"
    }
   },
   "outputs": [
    {
     "name": "stdout",
     "output_type": "stream",
     "text": [
      "Заполненность данными: 0.18503142478233292\n"
     ]
    },
    {
     "data": {
      "text/plain": [
       "'{\"id\":\"20026336\",\"name\":\"Ambition\",\"available_options\":[\"heated-wash-system\",\"airbag-passenger\",\"lock\",\"door-sill-panel\",\"electro-mirrors\",\"mirrors-heat\",\"cooling-box\",\"computer\",\"seat-transformation\",\"wheel-power\",\"fabric-seats\",\"airbag-side\",\"abs\",\"wheel-leather\",\"climate-control-1\",\"esp\",\"adaptive-light\",\"audiopreparation\",\"ashtray-and-cigarette-lighter\",\"front-centre-armrest\",\"electro-window-back\",\"16-inch-wheels\",\"body-mouldings\",\"condition\",\"airbag-driver\",\"isofix\",\"aux\",\"electro-window-front\",\"light-sensor\",\"hcc\",\"ptf\",\"rain-sensor\",\"tyre-pressure\",\"audiosystem-cd\",\"front-seats-heat\",\"wheel-configuration2\",\"wheel-configuration1\",\"immo\",\"12v-socket\",\"third-rear-headrest\"]}'"
      ]
     },
     "execution_count": 183,
     "metadata": {},
     "output_type": "execute_result"
    }
   ],
   "source": [
    "na_ratio(test.complectation_dict.isna())\n",
    "\n",
    "\n",
    "test.complectation_dict.dropna().iloc[0]"
   ]
  },
  {
   "cell_type": "markdown",
   "id": "fd782247",
   "metadata": {},
   "source": [
    "Видно, что это словарь. Данных в этом столбце меньше 20 процентов.\n",
    "\n",
    "Тут указан id, что может быть полезно только при объединении таблицы; имя, чем бы оно ни было; и перечисление возможных опций автомобиля. Это не несёт ценности. Этот столбец будет отфильтрован."
   ]
  },
  {
   "cell_type": "markdown",
   "id": "5da52d26",
   "metadata": {},
   "source": [
    "#### equipment_dict        "
   ]
  },
  {
   "cell_type": "code",
   "execution_count": 184,
   "id": "b7f5a45f",
   "metadata": {
    "ExecuteTime": {
     "end_time": "2022-04-10T14:38:28.403073Z",
     "start_time": "2022-04-10T14:38:28.386070Z"
    }
   },
   "outputs": [
    {
     "name": "stdout",
     "output_type": "stream",
     "text": [
      "Заполненность данными: 0.7118145649541602\n"
     ]
    },
    {
     "data": {
      "text/plain": [
       "'{\"engine-proof\":true,\"tinted-glass\":true,\"airbag-driver\":true,\"aux\":true,\"isofix\":true,\"electro-window-front\":true,\"ashtray-and-cigarette-lighter\":true,\"airbag-passenger\":true,\"computer\":true,\"high-beam-assist\":true,\"seat-transformation\":true,\"isofix-front\":true,\"wheel-power\":true,\"alarm\":true,\"lock\":true,\"door-sill-panel\":true,\"fabric-seats\":true,\"electro-mirrors\":true,\"airbag-rear-side\":true,\"electro-window-back\":true,\"steel-wheels\":true,\"ptf\":true,\"16-inch-wheels\":true,\"rain-sensor\":true,\"airbag-side\":true,\"audiosystem-cd\":true,\"dark-interior\":true,\"cooling-box\":true,\"condition\":true,\"abs\":true,\"power-child-locks-rear-doors\":true,\"front-seats-heat\":true,\"wheel-configuration2\":true,\"wheel-configuration1\":true,\"12v-socket\":true,\"park-assist-r\":true}'"
      ]
     },
     "execution_count": 184,
     "metadata": {},
     "output_type": "execute_result"
    }
   ],
   "source": [
    "isna= test.equipment_dict.isna()\n",
    "print('Заполненность данными:',len(isna[isna == False])/len(isna))\n",
    "\n",
    "test.equipment_dict.dropna().iloc[0]"
   ]
  },
  {
   "cell_type": "markdown",
   "id": "2df28ee3",
   "metadata": {},
   "source": [
    "Видно, что это тоже словарь, но он содержит  уже вполне себе определенную комплектацию автомобиля. Эти данные можно будет использовать для преобразования в категориальные переменные. Оданко большое количество пропусков критично. Думаю, можно сделать отдельный признак, обозначающий отсутствие данных в этом столбце. Можно будет сделать данные не бинарными, а категориальными, содержащие три признака: есть, нет, отсутствую данные"
   ]
  },
  {
   "cell_type": "markdown",
   "id": "0d7a0c2e",
   "metadata": {},
   "source": [
    "#### Владение"
   ]
  },
  {
   "cell_type": "code",
   "execution_count": 187,
   "id": "405885e5",
   "metadata": {
    "ExecuteTime": {
     "end_time": "2022-04-10T14:39:02.494003Z",
     "start_time": "2022-04-10T14:39:02.479012Z"
    }
   },
   "outputs": [
    {
     "name": "stdout",
     "output_type": "stream",
     "text": [
      "Заполненность данными: 0.3458167560399008\n"
     ]
    },
    {
     "data": {
      "text/plain": [
       "'3 года и 2 месяца'"
      ]
     },
     "execution_count": 187,
     "metadata": {},
     "output_type": "execute_result"
    }
   ],
   "source": [
    "na_ratio(test.Владение.isna())\n",
    "\n",
    "test.Владение.dropna().iloc[0]"
   ]
  },
  {
   "cell_type": "markdown",
   "id": "5cbd17a0",
   "metadata": {
    "ExecuteTime": {
     "end_time": "2022-04-07T08:46:57.285975Z",
     "start_time": "2022-04-07T08:46:57.276974Z"
    }
   },
   "source": [
    "Столбец заполнен на 35% \n",
    "\n",
    "Видно, что это строка, которая указывает время владения. Предположительно, последнего владельца, но это нужно проверить. \n",
    "\n",
    "Данных маловато, но зато можно будет сделать из них бинарный признак, указал ли водитель время использования или нет. Но скорее всего после проверки этот столбец не будет использоваться вовсе."
   ]
  },
  {
   "cell_type": "markdown",
   "id": "80c58b8f",
   "metadata": {},
   "source": [
    "Посмотрим на все колонки"
   ]
  },
  {
   "cell_type": "code",
   "execution_count": 23,
   "id": "86c5230d",
   "metadata": {
    "ExecuteTime": {
     "end_time": "2022-04-09T12:04:58.845393Z",
     "start_time": "2022-04-09T12:04:58.815386Z"
    }
   },
   "outputs": [
    {
     "data": {
      "text/html": [
       "<div>\n",
       "<style scoped>\n",
       "    .dataframe tbody tr th:only-of-type {\n",
       "        vertical-align: middle;\n",
       "    }\n",
       "\n",
       "    .dataframe tbody tr th {\n",
       "        vertical-align: top;\n",
       "    }\n",
       "\n",
       "    .dataframe thead th {\n",
       "        text-align: right;\n",
       "    }\n",
       "</style>\n",
       "<table border=\"1\" class=\"dataframe\">\n",
       "  <thead>\n",
       "    <tr style=\"text-align: right;\">\n",
       "      <th></th>\n",
       "      <th>mileage</th>\n",
       "      <th>modelDate</th>\n",
       "      <th>numberOfDoors</th>\n",
       "      <th>parsing_unixtime</th>\n",
       "      <th>productionDate</th>\n",
       "      <th>sell_id</th>\n",
       "    </tr>\n",
       "  </thead>\n",
       "  <tbody>\n",
       "    <tr>\n",
       "      <th>count</th>\n",
       "      <td>34686.000000</td>\n",
       "      <td>34686.000000</td>\n",
       "      <td>34686.000000</td>\n",
       "      <td>3.468600e+04</td>\n",
       "      <td>34686.000000</td>\n",
       "      <td>3.468600e+04</td>\n",
       "    </tr>\n",
       "    <tr>\n",
       "      <th>mean</th>\n",
       "      <td>162009.767889</td>\n",
       "      <td>2007.074728</td>\n",
       "      <td>4.450816</td>\n",
       "      <td>1.603287e+09</td>\n",
       "      <td>2009.264602</td>\n",
       "      <td>1.098300e+09</td>\n",
       "    </tr>\n",
       "    <tr>\n",
       "      <th>std</th>\n",
       "      <td>100676.559489</td>\n",
       "      <td>7.415894</td>\n",
       "      <td>0.703040</td>\n",
       "      <td>1.493071e+05</td>\n",
       "      <td>7.047661</td>\n",
       "      <td>1.911225e+07</td>\n",
       "    </tr>\n",
       "    <tr>\n",
       "      <th>min</th>\n",
       "      <td>1.000000</td>\n",
       "      <td>1904.000000</td>\n",
       "      <td>0.000000</td>\n",
       "      <td>1.603107e+09</td>\n",
       "      <td>1904.000000</td>\n",
       "      <td>2.665000e+03</td>\n",
       "    </tr>\n",
       "    <tr>\n",
       "      <th>25%</th>\n",
       "      <td>91153.500000</td>\n",
       "      <td>2004.000000</td>\n",
       "      <td>4.000000</td>\n",
       "      <td>1.603221e+09</td>\n",
       "      <td>2006.000000</td>\n",
       "      <td>1.099049e+09</td>\n",
       "    </tr>\n",
       "    <tr>\n",
       "      <th>50%</th>\n",
       "      <td>149779.500000</td>\n",
       "      <td>2008.000000</td>\n",
       "      <td>5.000000</td>\n",
       "      <td>1.603254e+09</td>\n",
       "      <td>2011.000000</td>\n",
       "      <td>1.100911e+09</td>\n",
       "    </tr>\n",
       "    <tr>\n",
       "      <th>75%</th>\n",
       "      <td>215000.000000</td>\n",
       "      <td>2012.000000</td>\n",
       "      <td>5.000000</td>\n",
       "      <td>1.603290e+09</td>\n",
       "      <td>2014.000000</td>\n",
       "      <td>1.101245e+09</td>\n",
       "    </tr>\n",
       "    <tr>\n",
       "      <th>max</th>\n",
       "      <td>1000000.000000</td>\n",
       "      <td>2020.000000</td>\n",
       "      <td>5.000000</td>\n",
       "      <td>1.603710e+09</td>\n",
       "      <td>2020.000000</td>\n",
       "      <td>1.101375e+09</td>\n",
       "    </tr>\n",
       "  </tbody>\n",
       "</table>\n",
       "</div>"
      ],
      "text/plain": [
       "              mileage     modelDate  numberOfDoors  parsing_unixtime  \\\n",
       "count    34686.000000  34686.000000   34686.000000      3.468600e+04   \n",
       "mean    162009.767889   2007.074728       4.450816      1.603287e+09   \n",
       "std     100676.559489      7.415894       0.703040      1.493071e+05   \n",
       "min          1.000000   1904.000000       0.000000      1.603107e+09   \n",
       "25%      91153.500000   2004.000000       4.000000      1.603221e+09   \n",
       "50%     149779.500000   2008.000000       5.000000      1.603254e+09   \n",
       "75%     215000.000000   2012.000000       5.000000      1.603290e+09   \n",
       "max    1000000.000000   2020.000000       5.000000      1.603710e+09   \n",
       "\n",
       "       productionDate       sell_id  \n",
       "count    34686.000000  3.468600e+04  \n",
       "mean      2009.264602  1.098300e+09  \n",
       "std          7.047661  1.911225e+07  \n",
       "min       1904.000000  2.665000e+03  \n",
       "25%       2006.000000  1.099049e+09  \n",
       "50%       2011.000000  1.100911e+09  \n",
       "75%       2014.000000  1.101245e+09  \n",
       "max       2020.000000  1.101375e+09  "
      ]
     },
     "execution_count": 23,
     "metadata": {},
     "output_type": "execute_result"
    }
   ],
   "source": [
    "test.describe()"
   ]
  },
  {
   "cell_type": "markdown",
   "id": "7b9ac8ed",
   "metadata": {},
   "source": [
    "Видно, что в дате всего 5 численных переменных, но sell_id не считается"
   ]
  },
  {
   "cell_type": "markdown",
   "id": "85ce8e75",
   "metadata": {},
   "source": [
    "### bodyType"
   ]
  },
  {
   "cell_type": "code",
   "execution_count": 24,
   "id": "e71eb3c5",
   "metadata": {
    "ExecuteTime": {
     "end_time": "2022-04-09T12:04:59.068444Z",
     "start_time": "2022-04-09T12:04:58.846393Z"
    }
   },
   "outputs": [
    {
     "data": {
      "image/png": "[encoded data removed]",
      "text/plain": [
       "<Figure size 432x288 with 1 Axes>"
      ]
     },
     "metadata": {
      "needs_background": "light"
     },
     "output_type": "display_data"
    }
   ],
   "source": [
    "show_value_counts(test.bodyType.value_counts());"
   ]
  },
  {
   "cell_type": "markdown",
   "id": "c367e76a",
   "metadata": {
    "ExecuteTime": {
     "end_time": "2022-04-07T15:19:40.965715Z",
     "start_time": "2022-04-07T15:19:40.958714Z"
    }
   },
   "source": [
    "Этот столбец определяет тип кузова автомобиля. Почему-то в датасете очень много внедорожников с 5 дверьми, а есть внедорожники с 3мя дверьми. Подобные строки будут обозначенны одним видом, как один тип кузова, потому-что количество дверей - это отдельный признак.\n",
    "\n",
    "Видно, что часть авто являются редкими. Их можно объединить в один признак. Неплохая вариация для моделей"
   ]
  },
  {
   "cell_type": "markdown",
   "id": "63b6f5a1",
   "metadata": {},
   "source": [
    "### brand"
   ]
  },
  {
   "cell_type": "code",
   "execution_count": 25,
   "id": "a114619a",
   "metadata": {
    "ExecuteTime": {
     "end_time": "2022-04-09T12:04:59.195637Z",
     "start_time": "2022-04-09T12:04:59.069445Z"
    }
   },
   "outputs": [
    {
     "data": {
      "image/png": "[encoded data removed]",
      "text/plain": [
       "<Figure size 432x288 with 1 Axes>"
      ]
     },
     "metadata": {
      "needs_background": "light"
     },
     "output_type": "display_data"
    }
   ],
   "source": [
    "show_value_counts(test.brand.value_counts());"
   ]
  },
  {
   "cell_type": "markdown",
   "id": "03b6970e",
   "metadata": {},
   "source": [
    "Красивое и нормальное распределение брендов, можно превратить в dummy-переменные"
   ]
  },
  {
   "cell_type": "markdown",
   "id": "c75c7e67",
   "metadata": {},
   "source": [
    "### car_url"
   ]
  },
  {
   "cell_type": "code",
   "execution_count": 26,
   "id": "bc3a287c",
   "metadata": {
    "ExecuteTime": {
     "end_time": "2022-04-09T12:04:59.211640Z",
     "start_time": "2022-04-09T12:04:59.196638Z"
    }
   },
   "outputs": [
    {
     "data": {
      "text/plain": [
       "'https://auto.ru/cars/used/sale/skoda/octavia/1100575026-c780dc09/'"
      ]
     },
     "execution_count": 26,
     "metadata": {},
     "output_type": "execute_result"
    }
   ],
   "source": [
    "test.car_url[0]"
   ]
  },
  {
   "cell_type": "markdown",
   "id": "28fbf864",
   "metadata": {},
   "source": [
    "Это ссылки на странички проданых авто, вот [одна из них](https://auto.ru/cars/used/sale/skoda/octavia/1100575026-c780dc09/). \n",
    "\n",
    "Для модели это мусор, но можно спарсить добавочные данные с сайта. Но есть ссылки и нерабочие"
   ]
  },
  {
   "cell_type": "code",
   "execution_count": 27,
   "id": "66fc8d98",
   "metadata": {
    "ExecuteTime": {
     "end_time": "2022-04-09T12:04:59.227753Z",
     "start_time": "2022-04-09T12:04:59.212642Z"
    }
   },
   "outputs": [
    {
     "data": {
      "text/plain": [
       "4647     https://auto.ru/cars/used/sale/audi/80/1101251...\n",
       "6568     https://auto.ru/cars/used/sale/volvo/240_serie...\n",
       "9463     https://auto.ru/cars/used/sale/bmw/7er/1092626...\n",
       "9888     https://auto.ru/cars/used/sale/bmw/5er/1099209...\n",
       "17203    https://auto.ru/cars/used/sale/mercedes/w124/1...\n",
       "18308    https://auto.ru/cars/used/sale/mercedes/s_klas...\n",
       "20164    https://auto.ru/cars/used/sale/toyota/corolla_...\n",
       "21459    https://auto.ru/cars/used/sale/toyota/land_cru...\n",
       "25168    https://auto.ru/cars/used/sale/volkswagen/tran...\n",
       "25464    https://auto.ru/cars/used/sale/volkswagen/jett...\n",
       "28391    https://auto.ru/cars/used/sale/mitsubishi/cari...\n",
       "Name: car_url, dtype: object"
      ]
     },
     "execution_count": 27,
     "metadata": {},
     "output_type": "execute_result"
    }
   ],
   "source": [
    "test[test.mileage == test.mileage.max()].car_url"
   ]
  },
  {
   "cell_type": "markdown",
   "id": "2a0866c1",
   "metadata": {},
   "source": [
    "### color"
   ]
  },
  {
   "cell_type": "markdown",
   "id": "c71b30f8",
   "metadata": {},
   "source": [
    "### complectation_dict\n",
    " \n",
    "[Много пропусков и нуль информации](#complectation_dict), поэтому выкенем этот столбец"
   ]
  },
  {
   "cell_type": "code",
   "execution_count": 28,
   "id": "152b2353",
   "metadata": {
    "ExecuteTime": {
     "end_time": "2022-04-09T12:04:59.243757Z",
     "start_time": "2022-04-09T12:04:59.232754Z"
    }
   },
   "outputs": [],
   "source": [
    "# test = test.drop(['complectation_dict'], axis='columns')"
   ]
  },
  {
   "cell_type": "code",
   "execution_count": 29,
   "id": "e92dd0ed",
   "metadata": {
    "ExecuteTime": {
     "end_time": "2022-04-09T12:04:59.402963Z",
     "start_time": "2022-04-09T12:04:59.244758Z"
    }
   },
   "outputs": [
    {
     "data": {
      "image/png": "[encoded data removed]",
      "text/plain": [
       "<Figure size 432x288 with 1 Axes>"
      ]
     },
     "metadata": {
      "needs_background": "light"
     },
     "output_type": "display_data"
    }
   ],
   "source": [
    "show_value_counts(test.color.value_counts());"
   ]
  },
  {
   "cell_type": "markdown",
   "id": "e8e0dfb0",
   "metadata": {},
   "source": [
    "Готовая для модели колонка, распределена нормально. Стоит преобразовать в dummy, можно сделать призак: редкий цвет. Он может повысить предсказательную силу моделей"
   ]
  },
  {
   "cell_type": "markdown",
   "id": "dd4d2c7f",
   "metadata": {},
   "source": [
    "### description"
   ]
  },
  {
   "cell_type": "code",
   "execution_count": 30,
   "id": "9ebadd68",
   "metadata": {
    "ExecuteTime": {
     "end_time": "2022-04-09T12:04:59.418967Z",
     "start_time": "2022-04-09T12:04:59.403963Z"
    }
   },
   "outputs": [
    {
     "data": {
      "text/plain": [
       "'Все автомобили, представленные в продаже, проходят тщательную проверку по более 40 параметрам. Предоставляем гарантию юридической чистоты, а так же год технической гарантии на двигатель и КПП. Бесплатный тест-драйв. Возможно оформление автомобиля в кредит!\\n\\nПреимущества автокредитования:\\n— Первоначальный взнос от 0%;\\n— Более 30 кредитных программ;\\n— Процентная ставка от 6% годовых;\\n— Срок кредита от 6 месяцев до 7 лет;\\n— Оформление кредита по двум документам;\\n— Досрочное погашение без штрафов и комиссий;\\n— Сумма кредита до 2 млн рублей;\\n— Оформление КАСКО – по желанию;\\n— Без справок и поручителей.\\n\\nСотрудничаем с 12 аккредитованными и сертифицированными банками РФ, среднее время ожидания решения банка 20–30 минут.\\n\\nПри покупке автомобиля по программе «Trade-in – выгодный обмен» или в кредит, получите дополнительную скидку до 80 000 рублей на данный автомобиль!\\n\\nЗаписаться на тест-драйв, а так же получить подробную информацию можно у специалистов автоцентра по указанному номеру телефона.'"
      ]
     },
     "execution_count": 30,
     "metadata": {},
     "output_type": "execute_result"
    }
   ],
   "source": [
    "test.description[0]"
   ]
  },
  {
   "cell_type": "markdown",
   "id": "5b5179d4",
   "metadata": {},
   "source": [
    "Интереснейшая колонка! Содержит комментарий продавца. Проверим, есть ли одинаковые тескты."
   ]
  },
  {
   "cell_type": "code",
   "execution_count": 31,
   "id": "67564c1f",
   "metadata": {
    "ExecuteTime": {
     "end_time": "2022-04-09T12:04:59.434970Z",
     "start_time": "2022-04-09T12:04:59.419967Z"
    }
   },
   "outputs": [
    {
     "data": {
      "text/plain": [
       "0        Все автомобили, представленные в продаже, прох...\n",
       "1        ЛОТ: 01217195\\nАвтопрага Север\\nДанный автомоб...\n",
       "2        Все автомобили, представленные в продаже, прох...\n",
       "3        КОМПЛЕКТ ЗИМНЕЙ (ЛЕТНЕЙ) РЕЗИНЫ ПО СЕЗОНУ В ПО...\n",
       "4        ЛОТ: 01220889\\nАвтопрага Север\\n\\nВы можете по...\n",
       "                               ...                        \n",
       "34681    Продается BMW 316i в отличном состоянии. Прода...\n",
       "34682                       Продаётся отличный автомобиль.\n",
       "34683                                    Хорошее состояние\n",
       "34684    Автомобиль в идеальном состоянии . Куплен новы...\n",
       "34685     Пробег реальный, состояние отличное! Авторска...\n",
       "Name: description, Length: 34686, dtype: object"
      ]
     },
     "execution_count": 31,
     "metadata": {},
     "output_type": "execute_result"
    }
   ],
   "source": [
    "test.description.replace('\\n','')"
   ]
  },
  {
   "cell_type": "code",
   "execution_count": 32,
   "id": "88425a7e",
   "metadata": {
    "ExecuteTime": {
     "end_time": "2022-04-09T12:04:59.482981Z",
     "start_time": "2022-04-09T12:04:59.435971Z"
    }
   },
   "outputs": [
    {
     "data": {
      "text/plain": [
       "array([264, 259, 211, ...,   1,   1,   1], dtype=int64)"
      ]
     },
     "execution_count": 32,
     "metadata": {},
     "output_type": "execute_result"
    }
   ],
   "source": [
    "test.description.value_counts().values"
   ]
  },
  {
   "cell_type": "markdown",
   "id": "2236b3dc",
   "metadata": {},
   "source": [
    "Есть одинаковые тексты, кажется, их довольно много. Это автодиллеры."
   ]
  },
  {
   "cell_type": "code",
   "execution_count": 33,
   "id": "b17181b7",
   "metadata": {
    "ExecuteTime": {
     "end_time": "2022-04-09T12:04:59.514989Z",
     "start_time": "2022-04-09T12:04:59.483983Z"
    }
   },
   "outputs": [
    {
     "name": "stdout",
     "output_type": "stream",
     "text": [
      "258  - Количество повторений количества строк:\n",
      "3212 - Общее количество машин с таким описанием:\n"
     ]
    }
   ],
   "source": [
    "desc_VC = pd.Series(test.description.value_counts())\n",
    "print(len(desc_VC[desc_VC != 1]),' - Количество повторений количества строк:') \n",
    "print(sum(desc_VC[desc_VC != 1]),'- Общее количество машин с таким описанием:')"
   ]
  },
  {
   "cell_type": "markdown",
   "id": "1c2f27ea",
   "metadata": {},
   "source": [
    "Часть из них от диллеров, часть - короткие коминтарии по типу: \"Хорошая\""
   ]
  },
  {
   "cell_type": "code",
   "execution_count": 34,
   "id": "bb09a0c0",
   "metadata": {
    "ExecuteTime": {
     "end_time": "2022-04-09T12:04:59.866129Z",
     "start_time": "2022-04-09T12:04:59.515989Z"
    }
   },
   "outputs": [],
   "source": [
    "cherepters_count = []\n",
    "\n",
    "for i in test.index:\n",
    "    cherepters_count.append(len(test.description[i]))\n",
    "    \n",
    "cherepters_count = pd.Series(cherepters_count)"
   ]
  },
  {
   "cell_type": "code",
   "execution_count": 35,
   "id": "f4a965a5",
   "metadata": {
    "ExecuteTime": {
     "end_time": "2022-04-09T12:05:02.539703Z",
     "start_time": "2022-04-09T12:04:59.867129Z"
    }
   },
   "outputs": [
    {
     "data": {
      "image/png": "[encoded data removed]",
      "text/plain": [
       "<Figure size 432x288 with 1 Axes>"
      ]
     },
     "metadata": {
      "needs_background": "light"
     },
     "output_type": "display_data"
    }
   ],
   "source": [
    "show_value_counts(cherepters_count.value_counts());"
   ]
  },
  {
   "cell_type": "markdown",
   "id": "cb74d39c",
   "metadata": {
    "ExecuteTime": {
     "end_time": "2022-04-07T20:10:54.946873Z",
     "start_time": "2022-04-07T20:10:54.931870Z"
    }
   },
   "source": [
    "Есть группы, видно несколько диллеров."
   ]
  },
  {
   "cell_type": "code",
   "execution_count": 36,
   "id": "4e2bf4da",
   "metadata": {
    "ExecuteTime": {
     "end_time": "2022-04-09T12:05:02.555707Z",
     "start_time": "2022-04-09T12:05:02.540704Z"
    }
   },
   "outputs": [
    {
     "data": {
      "text/plain": [
       "1"
      ]
     },
     "execution_count": 36,
     "metadata": {},
     "output_type": "execute_result"
    }
   ],
   "source": [
    "min(cherepters_count)"
   ]
  },
  {
   "cell_type": "markdown",
   "id": "f2806b35",
   "metadata": {},
   "source": [
    "!!! Удалить \\n отовсюду"
   ]
  },
  {
   "cell_type": "code",
   "execution_count": 37,
   "id": "3f90267c",
   "metadata": {
    "ExecuteTime": {
     "end_time": "2022-04-09T12:05:02.571710Z",
     "start_time": "2022-04-09T12:05:02.556708Z"
    }
   },
   "outputs": [
    {
     "data": {
      "text/plain": [
       "3121     8\n",
       "5194     8\n",
       "22939    8\n",
       "28518    8\n",
       "31255    8\n",
       "dtype: int64"
      ]
     },
     "execution_count": 37,
     "metadata": {},
     "output_type": "execute_result"
    }
   ],
   "source": [
    "cherepters_count[cherepters_count == 8] # Есть малословные комментарии"
   ]
  },
  {
   "cell_type": "markdown",
   "id": "66671f51",
   "metadata": {
    "ExecuteTime": {
     "end_time": "2022-04-07T16:00:22.509373Z",
     "start_time": "2022-04-07T16:00:22.493370Z"
    }
   },
   "source": [
    "Можно обработать через word2vec и кластеризовать. Однако это требует много ресурсов и не факт, что признак будет значим, но это очень круто.\n",
    "\n",
    "Можно легматизировать(или как там, оставить корень слова) и использовать словари положительных и отрицательных слов для формирования веса для модели. "
   ]
  },
  {
   "cell_type": "markdown",
   "id": "7fb3c025",
   "metadata": {},
   "source": [
    "### engineDisplacement"
   ]
  },
  {
   "cell_type": "code",
   "execution_count": 38,
   "id": "fc9cf7a7",
   "metadata": {
    "ExecuteTime": {
     "end_time": "2022-04-09T12:05:02.587714Z",
     "start_time": "2022-04-09T12:05:02.572711Z"
    },
    "scrolled": true
   },
   "outputs": [
    {
     "data": {
      "text/plain": [
       "2.0 LTR    7391\n",
       "1.6 LTR    4973\n",
       "3.0 LTR    3915\n",
       "1.8 LTR    3349\n",
       "2.5 LTR    2477\n",
       "2.4 LTR    1745\n",
       "3.5 LTR    1710\n",
       "1.4 LTR    1635\n",
       "1.5 LTR     725\n",
       "1.2 LTR     485\n",
       "4.4 LTR     447\n",
       "2.8 LTR     384\n",
       "4.7 LTR     377\n",
       "1.3 LTR     365\n",
       "5.5 LTR     361\n",
       "4.0 LTR     356\n",
       "3.2 LTR     348\n",
       "4.5 LTR     346\n",
       "2.1 LTR     271\n",
       "3.7 LTR     242\n",
       "2.2 LTR     236\n",
       "4.2 LTR     228\n",
       "1.9 LTR     221\n",
       "2.3 LTR     203\n",
       "2.7 LTR     189\n",
       "3.6 LTR     183\n",
       "5.6 LTR     170\n",
       "5.0 LTR     158\n",
       "5.7 LTR     135\n",
       "2.9 LTR     131\n",
       "4.6 LTR     108\n",
       "3.1 LTR      88\n",
       "4.8 LTR      84\n",
       "1.7 LTR      59\n",
       "1.0 LTR      57\n",
       "3.8 LTR      57\n",
       "2.6 LTR      55\n",
       " LTR         55\n",
       "6.0 LTR      53\n",
       "0.7 LTR      53\n",
       "3.3 LTR      44\n",
       "3.4 LTR      36\n",
       "4.1 LTR      35\n",
       "4.3 LTR      32\n",
       "5.4 LTR      31\n",
       "6.2 LTR      28\n",
       "5.2 LTR      12\n",
       "5.9 LTR      12\n",
       "6.3 LTR       8\n",
       "5.8 LTR       7\n",
       "6.6 LTR       6\n",
       "4.9 LTR       4\n",
       "1.1 LTR       4\n",
       "3.9 LTR       1\n",
       "5.3 LTR       1\n",
       "Name: engineDisplacement, dtype: int64"
      ]
     },
     "execution_count": 38,
     "metadata": {},
     "output_type": "execute_result"
    }
   ],
   "source": [
    "test.engineDisplacement.value_counts()"
   ]
  },
  {
   "cell_type": "code",
   "execution_count": 39,
   "id": "a3c005ed",
   "metadata": {
    "ExecuteTime": {
     "end_time": "2022-04-09T12:05:02.603718Z",
     "start_time": "2022-04-09T12:05:02.588715Z"
    }
   },
   "outputs": [],
   "source": [
    "#test.loc[test['engineDisplacement']==' LTR'] = '1.0'\n",
    "#pd.Series(map(lambda x:x.replace('LTR', ''),test.engineDisplacement))"
   ]
  },
  {
   "cell_type": "markdown",
   "id": "18e671be",
   "metadata": {
    "ExecuteTime": {
     "end_time": "2022-04-07T19:52:44.968451Z",
     "start_time": "2022-04-07T19:52:44.950447Z"
    }
   },
   "source": [
    "Ёмкость двигателя. Превратить в float. хороший численный признак"
   ]
  },
  {
   "cell_type": "markdown",
   "id": "52881741",
   "metadata": {},
   "source": [
    "### enginePower #upgrade изменить на гистограму после предобработки"
   ]
  },
  {
   "cell_type": "code",
   "execution_count": 40,
   "id": "e83528dd",
   "metadata": {
    "ExecuteTime": {
     "end_time": "2022-04-09T12:05:05.309290Z",
     "start_time": "2022-04-09T12:05:02.604719Z"
    }
   },
   "outputs": [
    {
     "data": {
      "image/png": "[encoded data removed]",
      "text/plain": [
       "<Figure size 432x288 with 1 Axes>"
      ]
     },
     "metadata": {
      "needs_background": "light"
     },
     "output_type": "display_data"
    }
   ],
   "source": [
    "show_value_counts(test.enginePower.value_counts());"
   ]
  },
  {
   "cell_type": "markdown",
   "id": "020ef68e",
   "metadata": {},
   "source": [
    "Красивое нормальное распределение"
   ]
  },
  {
   "cell_type": "code",
   "execution_count": 41,
   "id": "ba114201",
   "metadata": {
    "ExecuteTime": {
     "end_time": "2022-04-09T12:05:05.325282Z",
     "start_time": "2022-04-09T12:05:05.310279Z"
    }
   },
   "outputs": [
    {
     "data": {
      "text/plain": [
       "True    34686\n",
       "dtype: int64"
      ]
     },
     "execution_count": 41,
     "metadata": {},
     "output_type": "execute_result"
    }
   ],
   "source": [
    "pd.Series(['N12' in i for i in test.enginePower]).value_counts()"
   ]
  },
  {
   "cell_type": "markdown",
   "id": "f6fc9e72",
   "metadata": {},
   "source": [
    "Везде содержится строчка 'N12'. Её можно убрать и вычесть минимальное значение"
   ]
  },
  {
   "cell_type": "code",
   "execution_count": 42,
   "id": "449bd69c",
   "metadata": {
    "ExecuteTime": {
     "end_time": "2022-04-09T12:05:05.341286Z",
     "start_time": "2022-04-09T12:05:05.326284Z"
    }
   },
   "outputs": [],
   "source": [
    "# pd.Series(map(lambda x: int(x.replace('N12', '')),test.enginePower))\n",
    "# min(pd.Series(map(lambda x: int(x.replace('N12', '')),test.enginePower)))"
   ]
  },
  {
   "cell_type": "markdown",
   "id": "0b3eaaf0",
   "metadata": {},
   "source": [
    "### equipment_dict"
   ]
  },
  {
   "cell_type": "code",
   "execution_count": 43,
   "id": "fb9edd63",
   "metadata": {
    "ExecuteTime": {
     "end_time": "2022-04-09T12:05:05.357289Z",
     "start_time": "2022-04-09T12:05:05.342286Z"
    }
   },
   "outputs": [
    {
     "data": {
      "text/plain": [
       "'{\"engine-proof\":true,\"tinted-glass\":true,\"airbag-driver\":true,\"aux\":true,\"isofix\":true,\"electro-window-front\":true,\"ashtray-and-cigarette-lighter\":true,\"airbag-passenger\":true,\"computer\":true,\"high-beam-assist\":true,\"seat-transformation\":true,\"isofix-front\":true,\"wheel-power\":true,\"alarm\":true,\"lock\":true,\"door-sill-panel\":true,\"fabric-seats\":true,\"electro-mirrors\":true,\"airbag-rear-side\":true,\"electro-window-back\":true,\"steel-wheels\":true,\"ptf\":true,\"16-inch-wheels\":true,\"rain-sensor\":true,\"airbag-side\":true,\"audiosystem-cd\":true,\"dark-interior\":true,\"cooling-box\":true,\"condition\":true,\"abs\":true,\"power-child-locks-rear-doors\":true,\"front-seats-heat\":true,\"wheel-configuration2\":true,\"wheel-configuration1\":true,\"12v-socket\":true,\"park-assist-r\":true}'"
      ]
     },
     "execution_count": 43,
     "metadata": {},
     "output_type": "execute_result"
    }
   ],
   "source": [
    "test.equipment_dict[0] "
   ]
  },
  {
   "cell_type": "markdown",
   "id": "fc63268d",
   "metadata": {},
   "source": [
    "Видно, что это тоже словарь, но он содержит уже вполне себе определенную комплектацию автомобиля. Эти данные можно будет использовать для преобразования в категориальные переменные. Оданко **28% пропусков** - это критично. Думаю, можно сделать отдельный признак, обозначающий отсутствие данных в этом столбце. Можно будет сделать данные не бинарными, а категориальными, содержащие три признака: есть, нет, отсутствуют данные"
   ]
  },
  {
   "cell_type": "markdown",
   "id": "d50f048a",
   "metadata": {},
   "source": [
    "### fuelType"
   ]
  },
  {
   "cell_type": "code",
   "execution_count": 44,
   "id": "22e88fdf",
   "metadata": {
    "ExecuteTime": {
     "end_time": "2022-04-09T12:05:05.453311Z",
     "start_time": "2022-04-09T12:05:05.358290Z"
    }
   },
   "outputs": [
    {
     "data": {
      "image/png": "[encoded data removed]",
      "text/plain": [
       "<Figure size 432x288 with 1 Axes>"
      ]
     },
     "metadata": {
      "needs_background": "light"
     },
     "output_type": "display_data"
    }
   ],
   "source": [
    "show_value_counts(test.fuelType.value_counts());"
   ]
  },
  {
   "cell_type": "markdown",
   "id": "f51076d2",
   "metadata": {},
   "source": [
    "Видно, что автомобили на гибридном питании, элекртичесве и газе - большая редкость, их можно объединить в один признак или же натренировать под эти категории отдельную модель"
   ]
  },
  {
   "cell_type": "markdown",
   "id": "5344fa1b",
   "metadata": {},
   "source": [
    "### image"
   ]
  },
  {
   "cell_type": "code",
   "execution_count": 45,
   "id": "a9b0fa3b",
   "metadata": {
    "ExecuteTime": {
     "end_time": "2022-04-09T12:05:05.469315Z",
     "start_time": "2022-04-09T12:05:05.454312Z"
    }
   },
   "outputs": [
    {
     "data": {
      "text/plain": [
       "15429    https://autoru.naydex.net/ESooa9149/468b9eoMem...\n",
       "27655    https://autoru.naydex.net/mcQh17801/f1b5751dCi...\n",
       "29269    https://autoru.naydex.net/f1bm7A798/f15c727Yw/...\n",
       "15552    https://avatars.mds.yandex.net/get-autoru-vos/...\n",
       "27881    https://autoru.naydex.net/mcQh17801/f1b5751dCi...\n",
       "2929     https://avatars.mds.yandex.net/get-autoru-vos/...\n",
       "25761    https://avatars.mds.yandex.net/get-autoru-vos/...\n",
       "7380     https://autoru.naydex.net/ESooa9149/468b9eoMem...\n",
       "1478     https://autoru.naydex.net/ESooa9149/468b9eoMem...\n",
       "33427    https://autoru.naydex.net/1xsMU7627/eea2057RFg...\n",
       "Name: image, dtype: object"
      ]
     },
     "execution_count": 45,
     "metadata": {},
     "output_type": "execute_result"
    }
   ],
   "source": [
    "test.image.sample(10)"
   ]
  },
  {
   "cell_type": "markdown",
   "id": "962833e3",
   "metadata": {},
   "source": [
    "url ссылок на изображения автомобиля сломаны, их в таком виде нельзя использовать, даже, если бы хотелось. Столбец подлежит изгнанию из датасета.\n",
    "\n",
    "Вообще можно было бы натренировать модель, которая оценивала бы стоимость автомобиля по внешнему виду, это очень интересно, но займет слишком много ресурсов, да и это тема для отедльного проекта"
   ]
  },
  {
   "cell_type": "markdown",
   "id": "cf324f17",
   "metadata": {},
   "source": [
    "### mileage #upgrade"
   ]
  },
  {
   "cell_type": "code",
   "execution_count": 46,
   "id": "fc7ad3fe",
   "metadata": {
    "ExecuteTime": {
     "end_time": "2022-04-09T12:05:05.754700Z",
     "start_time": "2022-04-09T12:05:05.470316Z"
    }
   },
   "outputs": [
    {
     "data": {
      "image/png": "[encoded data removed]",
      "text/plain": [
       "<Figure size 432x288 with 1 Axes>"
      ]
     },
     "metadata": {
      "needs_background": "light"
     },
     "output_type": "display_data"
    }
   ],
   "source": [
    "sns.histplot(data=test.mileage);"
   ]
  },
  {
   "cell_type": "markdown",
   "id": "57056c02",
   "metadata": {},
   "source": [
    "По распределению видно:\n",
    "- Оно нормальное\n",
    "- Есть относительно плотная кучка максимальных значений, которая выбивается из нормального распределения, на них сейчас посмотрим"
   ]
  },
  {
   "cell_type": "code",
   "execution_count": 47,
   "id": "a06ce48b",
   "metadata": {
    "ExecuteTime": {
     "end_time": "2022-04-09T12:05:05.833707Z",
     "start_time": "2022-04-09T12:05:05.755691Z"
    }
   },
   "outputs": [
    {
     "data": {
      "image/png": "[encoded data removed]",
      "text/plain": [
       "<Figure size 432x288 with 1 Axes>"
      ]
     },
     "metadata": {
      "needs_background": "light"
     },
     "output_type": "display_data"
    }
   ],
   "source": [
    "sns.boxplot(x=test.mileage);"
   ]
  },
  {
   "cell_type": "code",
   "execution_count": 48,
   "id": "546180eb",
   "metadata": {
    "ExecuteTime": {
     "end_time": "2022-04-09T12:05:05.849711Z",
     "start_time": "2022-04-09T12:05:05.834707Z"
    }
   },
   "outputs": [
    {
     "name": "stdout",
     "output_type": "stream",
     "text": [
      "минимум: 1\n",
      "медиана: 149779.5\n",
      "максимум: 1000000\n"
     ]
    }
   ],
   "source": [
    "print('минимум:',test.mileage.min())\n",
    "print('медиана:',test.mileage.median())\n",
    "print('максимум:',test.mileage.max())"
   ]
  },
  {
   "cell_type": "markdown",
   "id": "f2eff5ff",
   "metadata": {},
   "source": [
    "Минимум в 1 км - вполне возможно, авто новое\n",
    "Максимум в миллион километров - это примерно 3 года езды с скоростью в 60 км/ч по 15 часов в день, что похоже тоже возможно\n",
    "\n",
    "Лучше всего эту колонку логарифмизировать, так, чтобы логарифм не очень быстро перестал изменяться."
   ]
  },
  {
   "cell_type": "markdown",
   "id": "cb7f59e1",
   "metadata": {},
   "source": [
    "### modelDate"
   ]
  },
  {
   "cell_type": "code",
   "execution_count": 49,
   "id": "bfbb0255",
   "metadata": {
    "ExecuteTime": {
     "end_time": "2022-04-09T12:05:06.150779Z",
     "start_time": "2022-04-09T12:05:05.850711Z"
    }
   },
   "outputs": [
    {
     "data": {
      "image/png": "[encoded data removed]",
      "text/plain": [
       "<Figure size 432x288 with 1 Axes>"
      ]
     },
     "metadata": {
      "needs_background": "light"
     },
     "output_type": "display_data"
    }
   ],
   "source": [
    "sns.histplot(data=test.modelDate,bins=150);"
   ]
  },
  {
   "cell_type": "markdown",
   "id": "4498ad49",
   "metadata": {},
   "source": [
    "Дата выпуска модели. Все отлично\n",
    "\n",
    "Для модели можно:\n",
    "- от всех дат отрезать первую. \n",
    "- соединить её с еще одной датой, чтобы избавиться от мультиколлиниарности"
   ]
  },
  {
   "cell_type": "markdown",
   "id": "b003fd8f",
   "metadata": {},
   "source": [
    "### model_info"
   ]
  },
  {
   "cell_type": "code",
   "execution_count": 50,
   "id": "fa930737",
   "metadata": {
    "ExecuteTime": {
     "end_time": "2022-04-09T12:05:06.165782Z",
     "start_time": "2022-04-09T12:05:06.151780Z"
    }
   },
   "outputs": [
    {
     "data": {
      "text/plain": [
       "'{\"code\":\"OCTAVIA\",\"name\":\"Octavia\",\"ru_name\":\"Октавия\",\"morphology\":{\"gender\":\"FEMININE\"},\"nameplate\":{\"code\":\"\",\"name\":\"\",\"semantic_url\":\"\"}}'"
      ]
     },
     "execution_count": 50,
     "metadata": {},
     "output_type": "execute_result"
    }
   ],
   "source": [
    "test.model_info[4]"
   ]
  },
  {
   "cell_type": "markdown",
   "id": "3b5ba324",
   "metadata": {},
   "source": [
    "Эта колонка содержит название модели, то, как она произносится, указан её род... да и в общем, это все. Колонка на выброс, данных в ней нет"
   ]
  },
  {
   "cell_type": "markdown",
   "id": "34ebfd65",
   "metadata": {},
   "source": [
    "### model_name"
   ]
  },
  {
   "cell_type": "code",
   "execution_count": 51,
   "id": "97fd334f",
   "metadata": {
    "ExecuteTime": {
     "end_time": "2022-04-09T12:05:06.181786Z",
     "start_time": "2022-04-09T12:05:06.166782Z"
    }
   },
   "outputs": [
    {
     "data": {
      "text/plain": [
       "7526           3ER\n",
       "27479    OUTLANDER\n",
       "4681            A4\n",
       "21066       CELICA\n",
       "Name: model_name, dtype: object"
      ]
     },
     "execution_count": 51,
     "metadata": {},
     "output_type": "execute_result"
    }
   ],
   "source": [
    "test.model_name.sample(4)"
   ]
  },
  {
   "cell_type": "code",
   "execution_count": 52,
   "id": "d592c050",
   "metadata": {
    "ExecuteTime": {
     "end_time": "2022-04-09T12:05:10.815893Z",
     "start_time": "2022-04-09T12:05:06.182786Z"
    }
   },
   "outputs": [
    {
     "data": {
      "image/png": "[encoded data removed]",
      "text/plain": [
       "<Figure size 432x288 with 1 Axes>"
      ]
     },
     "metadata": {
      "needs_background": "light"
     },
     "output_type": "display_data"
    }
   ],
   "source": [
    "show_value_counts(test.model_name.value_counts());"
   ]
  },
  {
   "cell_type": "markdown",
   "id": "1d2bf196",
   "metadata": {},
   "source": [
    "Слева тут можно увидить распределение длинны названия моделей слева от популярности марки, но что-то я отвлекся. "
   ]
  },
  {
   "cell_type": "code",
   "execution_count": 53,
   "id": "c83907e0",
   "metadata": {
    "ExecuteTime": {
     "end_time": "2022-04-09T12:05:10.831994Z",
     "start_time": "2022-04-09T12:05:10.816882Z"
    }
   },
   "outputs": [
    {
     "name": "stdout",
     "output_type": "stream",
     "text": [
      "Всего в датасете 544 модели от одного и разных брендов\n"
     ]
    }
   ],
   "source": [
    "print(f'Всего в датасете {test.model_name.nunique()} модели от одного и разных брендов')"
   ]
  },
  {
   "cell_type": "markdown",
   "id": "61ace47a",
   "metadata": {},
   "source": [
    "С этим столбцом есть кое-что интересное. По сути своей, когда мы, люди, говорим о цене автомобиля, то первая значимая часть - это марка, всем понятно, что porche обычно дороже автоваза. Вторая - модель автомобиля. Третяя - комплектация.\n",
    "\n",
    "И Если первые две части можно отосительно легко перечислить, то комлпектация авто сильно увеличивает вариативность машин и возможных цен. Поэтому предлагаю спарсить средние цены автомобилей марок и моделей в датасете, чтобы изменять их стоимость, относительно выводов модели. Честно ли это? - Да. Потому-что DS это не только про модели, но и про анализ и поиск эффективных подходов."
   ]
  },
  {
   "cell_type": "markdown",
   "id": "a1a4d37e",
   "metadata": {},
   "source": [
    "### name #upgrade че это такое"
   ]
  },
  {
   "cell_type": "code",
   "execution_count": 54,
   "id": "db9964c2",
   "metadata": {
    "ExecuteTime": {
     "end_time": "2022-04-09T12:05:10.847997Z",
     "start_time": "2022-04-09T12:05:10.832994Z"
    }
   },
   "outputs": [],
   "source": [
    "pd.set_option('display.max_columns', None)"
   ]
  },
  {
   "cell_type": "code",
   "execution_count": 55,
   "id": "a43fb499",
   "metadata": {
    "ExecuteTime": {
     "end_time": "2022-04-09T12:05:10.864001Z",
     "start_time": "2022-04-09T12:05:10.848998Z"
    }
   },
   "outputs": [
    {
     "data": {
      "text/plain": [
       "array(['SKODA', 'AUDI', 'HONDA', 'VOLVO', 'BMW', 'NISSAN', 'INFINITI',\n",
       "       'MERCEDES', 'TOYOTA', 'LEXUS', 'VOLKSWAGEN', 'MITSUBISHI'],\n",
       "      dtype=object)"
      ]
     },
     "execution_count": 55,
     "metadata": {},
     "output_type": "execute_result"
    }
   ],
   "source": [
    "test.brand.unique()"
   ]
  },
  {
   "cell_type": "markdown",
   "id": "6a70966e",
   "metadata": {},
   "source": [
    "модель - кузов, база, на которую все крепится."
   ]
  },
  {
   "cell_type": "code",
   "execution_count": 56,
   "id": "551c1442",
   "metadata": {
    "ExecuteTime": {
     "end_time": "2022-04-09T12:05:10.896008Z",
     "start_time": "2022-04-09T12:05:10.865001Z"
    }
   },
   "outputs": [
    {
     "data": {
      "text/html": [
       "<div>\n",
       "<style scoped>\n",
       "    .dataframe tbody tr th:only-of-type {\n",
       "        vertical-align: middle;\n",
       "    }\n",
       "\n",
       "    .dataframe tbody tr th {\n",
       "        vertical-align: top;\n",
       "    }\n",
       "\n",
       "    .dataframe thead th {\n",
       "        text-align: right;\n",
       "    }\n",
       "</style>\n",
       "<table border=\"1\" class=\"dataframe\">\n",
       "  <thead>\n",
       "    <tr style=\"text-align: right;\">\n",
       "      <th></th>\n",
       "      <th>bodyType</th>\n",
       "      <th>brand</th>\n",
       "      <th>car_url</th>\n",
       "      <th>color</th>\n",
       "      <th>complectation_dict</th>\n",
       "      <th>description</th>\n",
       "      <th>engineDisplacement</th>\n",
       "      <th>enginePower</th>\n",
       "      <th>equipment_dict</th>\n",
       "      <th>fuelType</th>\n",
       "      <th>image</th>\n",
       "      <th>mileage</th>\n",
       "      <th>modelDate</th>\n",
       "      <th>model_info</th>\n",
       "      <th>model_name</th>\n",
       "      <th>name</th>\n",
       "      <th>numberOfDoors</th>\n",
       "      <th>parsing_unixtime</th>\n",
       "      <th>priceCurrency</th>\n",
       "      <th>productionDate</th>\n",
       "      <th>sell_id</th>\n",
       "      <th>super_gen</th>\n",
       "      <th>vehicleConfiguration</th>\n",
       "      <th>vehicleTransmission</th>\n",
       "      <th>vendor</th>\n",
       "      <th>Владельцы</th>\n",
       "      <th>Владение</th>\n",
       "      <th>ПТС</th>\n",
       "      <th>Привод</th>\n",
       "      <th>Руль</th>\n",
       "      <th>Состояние</th>\n",
       "      <th>Таможня</th>\n",
       "    </tr>\n",
       "  </thead>\n",
       "  <tbody>\n",
       "    <tr>\n",
       "      <th>29514</th>\n",
       "      <td>хэтчбек 5 дв.</td>\n",
       "      <td>BMW</td>\n",
       "      <td>https://auto.ru/cars/used/sale/bmw/1er/1101146...</td>\n",
       "      <td>синий</td>\n",
       "      <td>{\"id\":\"21384728\",\"name\":\"118i M Sport\",\"availa...</td>\n",
       "      <td>авто в идеальном состоянии, пробег настоящий; ...</td>\n",
       "      <td>1.5 LTR</td>\n",
       "      <td>136 N12</td>\n",
       "      <td>{\"cruise-control\":true,\"esp\":true,\"start-stop-...</td>\n",
       "      <td>бензин</td>\n",
       "      <td>https://autoru.naydex.net/f1bm7A798/f15c727Yw/...</td>\n",
       "      <td>4823</td>\n",
       "      <td>2017</td>\n",
       "      <td>{\"code\":\"1ER\",\"name\":\"1 серии\",\"ru_name\":\"1 се...</td>\n",
       "      <td>1ER</td>\n",
       "      <td>118i 1.5 AT (136 л.с.)</td>\n",
       "      <td>5</td>\n",
       "      <td>1603561588</td>\n",
       "      <td>RUB</td>\n",
       "      <td>2019</td>\n",
       "      <td>1101146651</td>\n",
       "      <td>{\"id\":\"21007391\",\"name\":\"118\",\"nameplate\":\"118...</td>\n",
       "      <td>HATCHBACK_5_DOORS AUTOMATIC 1.5</td>\n",
       "      <td>автоматическая</td>\n",
       "      <td>EUROPEAN</td>\n",
       "      <td>1 владелец</td>\n",
       "      <td>1 год и 7 месяцев</td>\n",
       "      <td>Оригинал</td>\n",
       "      <td>задний</td>\n",
       "      <td>Левый</td>\n",
       "      <td>Не требует ремонта</td>\n",
       "      <td>Растаможен</td>\n",
       "    </tr>\n",
       "    <tr>\n",
       "      <th>8112</th>\n",
       "      <td>внедорожник 5 дв.</td>\n",
       "      <td>BMW</td>\n",
       "      <td>https://auto.ru/cars/used/sale/bmw/x6/11012826...</td>\n",
       "      <td>чёрный</td>\n",
       "      <td>NaN</td>\n",
       "      <td>Машина дилерская,состояние новой машины,практи...</td>\n",
       "      <td>3.0 LTR</td>\n",
       "      <td>306 N12</td>\n",
       "      <td>NaN</td>\n",
       "      <td>бензин</td>\n",
       "      <td>https://autoru.naydex.net/lICN99c69/9bc7d3Rr7k...</td>\n",
       "      <td>23200</td>\n",
       "      <td>2014</td>\n",
       "      <td>{\"code\":\"X6\",\"name\":\"X6\",\"ru_name\":\"Х6\",\"morph...</td>\n",
       "      <td>X6</td>\n",
       "      <td>35i 3.0 AT (306 л.с.) 4WD</td>\n",
       "      <td>5</td>\n",
       "      <td>1603109871</td>\n",
       "      <td>RUB</td>\n",
       "      <td>2018</td>\n",
       "      <td>1101282693</td>\n",
       "      <td>{\"id\":\"20343572\",\"name\":\"35i\",\"nameplate\":\"35i...</td>\n",
       "      <td>ALLROAD_5_DOORS AUTOMATIC 3.0</td>\n",
       "      <td>автоматическая</td>\n",
       "      <td>EUROPEAN</td>\n",
       "      <td>1 владелец</td>\n",
       "      <td>NaN</td>\n",
       "      <td>Оригинал</td>\n",
       "      <td>полный</td>\n",
       "      <td>Левый</td>\n",
       "      <td>Не требует ремонта</td>\n",
       "      <td>Растаможен</td>\n",
       "    </tr>\n",
       "    <tr>\n",
       "      <th>9135</th>\n",
       "      <td>седан</td>\n",
       "      <td>BMW</td>\n",
       "      <td>https://auto.ru/cars/used/sale/bmw/5er/1099803...</td>\n",
       "      <td>коричневый</td>\n",
       "      <td>NaN</td>\n",
       "      <td>Доброго времени суток!\\n\\nВ продаже БМВ 5 сери...</td>\n",
       "      <td>2.5 LTR</td>\n",
       "      <td>170 N12</td>\n",
       "      <td>{\"roller-blind-for-rear-window\":true,\"adaptive...</td>\n",
       "      <td>бензин</td>\n",
       "      <td>https://autoru.naydex.net/lICN99c69/9bc7d3Rr7k...</td>\n",
       "      <td>336071</td>\n",
       "      <td>1995</td>\n",
       "      <td>{\"code\":\"5ER\",\"name\":\"5 серии\",\"ru_name\":\"5 се...</td>\n",
       "      <td>5ER</td>\n",
       "      <td>523i 2.5 MT (170 л.с.)</td>\n",
       "      <td>4</td>\n",
       "      <td>1603113927</td>\n",
       "      <td>RUB</td>\n",
       "      <td>1997</td>\n",
       "      <td>1099803156</td>\n",
       "      <td>{\"id\":\"5139711\",\"name\":\"523\",\"nameplate\":\"523i...</td>\n",
       "      <td>SEDAN MECHANICAL 2.5</td>\n",
       "      <td>механическая</td>\n",
       "      <td>EUROPEAN</td>\n",
       "      <td>3 или более</td>\n",
       "      <td>NaN</td>\n",
       "      <td>Оригинал</td>\n",
       "      <td>задний</td>\n",
       "      <td>Левый</td>\n",
       "      <td>Не требует ремонта</td>\n",
       "      <td>Растаможен</td>\n",
       "    </tr>\n",
       "    <tr>\n",
       "      <th>29209</th>\n",
       "      <td>внедорожник 5 дв.</td>\n",
       "      <td>BMW</td>\n",
       "      <td>https://auto.ru/cars/used/sale/bmw/x1/11013514...</td>\n",
       "      <td>синий</td>\n",
       "      <td>NaN</td>\n",
       "      <td>Автомобиль покупался у официального дилера BMW...</td>\n",
       "      <td>1.5 LTR</td>\n",
       "      <td>136 N12</td>\n",
       "      <td>{\"cruise-control\":true,\"asr\":true,\"esp\":true,\"...</td>\n",
       "      <td>бензин</td>\n",
       "      <td>https://autoru.naydex.net/f1bm7A798/f15c727Yw/...</td>\n",
       "      <td>63228</td>\n",
       "      <td>2015</td>\n",
       "      <td>{\"code\":\"X1\",\"name\":\"X1\",\"ru_name\":\"Х1\",\"morph...</td>\n",
       "      <td>X1</td>\n",
       "      <td>18i sDrive 1.5 AT (136 л.с.)</td>\n",
       "      <td>5</td>\n",
       "      <td>1603559071</td>\n",
       "      <td>RUB</td>\n",
       "      <td>2016</td>\n",
       "      <td>1101351458</td>\n",
       "      <td>{\"id\":\"20685752\",\"name\":\"18i\",\"nameplate\":\"18i...</td>\n",
       "      <td>ALLROAD_5_DOORS AUTOMATIC 1.5</td>\n",
       "      <td>автоматическая</td>\n",
       "      <td>EUROPEAN</td>\n",
       "      <td>1 владелец</td>\n",
       "      <td>NaN</td>\n",
       "      <td>Оригинал</td>\n",
       "      <td>передний</td>\n",
       "      <td>Левый</td>\n",
       "      <td>Не требует ремонта</td>\n",
       "      <td>Растаможен</td>\n",
       "    </tr>\n",
       "  </tbody>\n",
       "</table>\n",
       "</div>"
      ],
      "text/plain": [
       "                bodyType brand  \\\n",
       "29514      хэтчбек 5 дв.   BMW   \n",
       "8112   внедорожник 5 дв.   BMW   \n",
       "9135               седан   BMW   \n",
       "29209  внедорожник 5 дв.   BMW   \n",
       "\n",
       "                                                 car_url       color  \\\n",
       "29514  https://auto.ru/cars/used/sale/bmw/1er/1101146...       синий   \n",
       "8112   https://auto.ru/cars/used/sale/bmw/x6/11012826...      чёрный   \n",
       "9135   https://auto.ru/cars/used/sale/bmw/5er/1099803...  коричневый   \n",
       "29209  https://auto.ru/cars/used/sale/bmw/x1/11013514...       синий   \n",
       "\n",
       "                                      complectation_dict  \\\n",
       "29514  {\"id\":\"21384728\",\"name\":\"118i M Sport\",\"availa...   \n",
       "8112                                                 NaN   \n",
       "9135                                                 NaN   \n",
       "29209                                                NaN   \n",
       "\n",
       "                                             description engineDisplacement  \\\n",
       "29514  авто в идеальном состоянии, пробег настоящий; ...            1.5 LTR   \n",
       "8112   Машина дилерская,состояние новой машины,практи...            3.0 LTR   \n",
       "9135   Доброго времени суток!\\n\\nВ продаже БМВ 5 сери...            2.5 LTR   \n",
       "29209  Автомобиль покупался у официального дилера BMW...            1.5 LTR   \n",
       "\n",
       "      enginePower                                     equipment_dict fuelType  \\\n",
       "29514     136 N12  {\"cruise-control\":true,\"esp\":true,\"start-stop-...   бензин   \n",
       "8112      306 N12                                                NaN   бензин   \n",
       "9135      170 N12  {\"roller-blind-for-rear-window\":true,\"adaptive...   бензин   \n",
       "29209     136 N12  {\"cruise-control\":true,\"asr\":true,\"esp\":true,\"...   бензин   \n",
       "\n",
       "                                                   image  mileage  modelDate  \\\n",
       "29514  https://autoru.naydex.net/f1bm7A798/f15c727Yw/...     4823       2017   \n",
       "8112   https://autoru.naydex.net/lICN99c69/9bc7d3Rr7k...    23200       2014   \n",
       "9135   https://autoru.naydex.net/lICN99c69/9bc7d3Rr7k...   336071       1995   \n",
       "29209  https://autoru.naydex.net/f1bm7A798/f15c727Yw/...    63228       2015   \n",
       "\n",
       "                                              model_info model_name  \\\n",
       "29514  {\"code\":\"1ER\",\"name\":\"1 серии\",\"ru_name\":\"1 се...        1ER   \n",
       "8112   {\"code\":\"X6\",\"name\":\"X6\",\"ru_name\":\"Х6\",\"morph...         X6   \n",
       "9135   {\"code\":\"5ER\",\"name\":\"5 серии\",\"ru_name\":\"5 се...        5ER   \n",
       "29209  {\"code\":\"X1\",\"name\":\"X1\",\"ru_name\":\"Х1\",\"morph...         X1   \n",
       "\n",
       "                               name  numberOfDoors  parsing_unixtime  \\\n",
       "29514        118i 1.5 AT (136 л.с.)              5        1603561588   \n",
       "8112      35i 3.0 AT (306 л.с.) 4WD              5        1603109871   \n",
       "9135         523i 2.5 MT (170 л.с.)              4        1603113927   \n",
       "29209  18i sDrive 1.5 AT (136 л.с.)              5        1603559071   \n",
       "\n",
       "      priceCurrency  productionDate     sell_id  \\\n",
       "29514           RUB            2019  1101146651   \n",
       "8112            RUB            2018  1101282693   \n",
       "9135            RUB            1997  1099803156   \n",
       "29209           RUB            2016  1101351458   \n",
       "\n",
       "                                               super_gen  \\\n",
       "29514  {\"id\":\"21007391\",\"name\":\"118\",\"nameplate\":\"118...   \n",
       "8112   {\"id\":\"20343572\",\"name\":\"35i\",\"nameplate\":\"35i...   \n",
       "9135   {\"id\":\"5139711\",\"name\":\"523\",\"nameplate\":\"523i...   \n",
       "29209  {\"id\":\"20685752\",\"name\":\"18i\",\"nameplate\":\"18i...   \n",
       "\n",
       "                  vehicleConfiguration vehicleTransmission    vendor  \\\n",
       "29514  HATCHBACK_5_DOORS AUTOMATIC 1.5      автоматическая  EUROPEAN   \n",
       "8112     ALLROAD_5_DOORS AUTOMATIC 3.0      автоматическая  EUROPEAN   \n",
       "9135              SEDAN MECHANICAL 2.5        механическая  EUROPEAN   \n",
       "29209    ALLROAD_5_DOORS AUTOMATIC 1.5      автоматическая  EUROPEAN   \n",
       "\n",
       "         Владельцы           Владение       ПТС    Привод   Руль  \\\n",
       "29514   1 владелец  1 год и 7 месяцев  Оригинал    задний  Левый   \n",
       "8112    1 владелец                NaN  Оригинал    полный  Левый   \n",
       "9135   3 или более                NaN  Оригинал    задний  Левый   \n",
       "29209   1 владелец                NaN  Оригинал  передний  Левый   \n",
       "\n",
       "                Состояние     Таможня  \n",
       "29514  Не требует ремонта  Растаможен  \n",
       "8112   Не требует ремонта  Растаможен  \n",
       "9135   Не требует ремонта  Растаможен  \n",
       "29209  Не требует ремонта  Растаможен  "
      ]
     },
     "execution_count": 56,
     "metadata": {},
     "output_type": "execute_result"
    }
   ],
   "source": [
    "test[test.brand=='BMW'].sample(4)"
   ]
  },
  {
   "cell_type": "code",
   "execution_count": 57,
   "id": "3f377a73",
   "metadata": {
    "ExecuteTime": {
     "end_time": "2022-04-09T12:05:10.912011Z",
     "start_time": "2022-04-09T12:05:10.897008Z"
    }
   },
   "outputs": [
    {
     "data": {
      "text/plain": [
       "6226     2.4d AT (190 л.с.) 4WD\n",
       "6227      2.0 AT (190 л.с.) 4WD\n",
       "6228     2.4d AT (205 л.с.) 4WD\n",
       "6229          2.4 AT (170 л.с.)\n",
       "6230         2.0 AMT (145 л.с.)\n",
       "                  ...          \n",
       "34147     2.4 AT (200 л.с.) 4WD\n",
       "34148        2.0 AMT (145 л.с.)\n",
       "34149         2.0 AT (213 л.с.)\n",
       "34150         1.5 AT (152 л.с.)\n",
       "34151         1.8 MT (125 л.с.)\n",
       "Name: name, Length: 1463, dtype: object"
      ]
     },
     "execution_count": 57,
     "metadata": {},
     "output_type": "execute_result"
    }
   ],
   "source": [
    "test[test.brand=='VOLVO'].name"
   ]
  },
  {
   "cell_type": "code",
   "execution_count": 58,
   "id": "6361d328",
   "metadata": {
    "ExecuteTime": {
     "end_time": "2022-04-09T12:05:10.928015Z",
     "start_time": "2022-04-09T12:05:10.913012Z"
    }
   },
   "outputs": [
    {
     "data": {
      "text/plain": [
       "23417           2.0d AMT (140 л.с.)\n",
       "26396            1.4 AMT (160 л.с.)\n",
       "21774    Noah 2.0 AT (130 л.с.) 4WD\n",
       "4096          3.0 AT (290 л.с.) 4WD\n",
       "27661              1.6 MT (90 л.с.)\n",
       "Name: name, dtype: object"
      ]
     },
     "execution_count": 58,
     "metadata": {},
     "output_type": "execute_result"
    }
   ],
   "source": [
    "test.name.sample(5)"
   ]
  },
  {
   "cell_type": "markdown",
   "id": "8a576d11",
   "metadata": {},
   "source": [
    "Тут указан объём двигателя, тип коробки передач и количество лошадиных сил, так же количество колёс в приводе. Можно исключить, т.к. вся эта информация есть в [этой](#super_gen) колонке"
   ]
  },
  {
   "cell_type": "markdown",
   "id": "5b2fe0d9",
   "metadata": {},
   "source": [
    "### numberOfDoors"
   ]
  },
  {
   "cell_type": "code",
   "execution_count": 33,
   "id": "9469c961",
   "metadata": {
    "ExecuteTime": {
     "end_time": "2022-04-10T09:36:03.538504Z",
     "start_time": "2022-04-10T09:36:03.453486Z"
    }
   },
   "outputs": [
    {
     "data": {
      "image/png": "[encoded data removed]",
      "text/plain": [
       "<Figure size 432x288 with 1 Axes>"
      ]
     },
     "metadata": {
      "needs_background": "light"
     },
     "output_type": "display_data"
    }
   ],
   "source": [
    "show_value_counts(test.numberOfDoors.value_counts(), reverse=True);"
   ]
  },
  {
   "cell_type": "markdown",
   "id": "04b132ef",
   "metadata": {},
   "source": [
    "Хоршие категориальные признаки, пойдут в dummy. \n",
    "\n",
    "Только в датасете есть машина без дверей, наверное это танк"
   ]
  },
  {
   "cell_type": "code",
   "execution_count": 61,
   "id": "a0bc4255",
   "metadata": {
    "ExecuteTime": {
     "end_time": "2022-04-09T12:06:18.542473Z",
     "start_time": "2022-04-09T12:06:18.525469Z"
    }
   },
   "outputs": [
    {
     "data": {
      "text/html": [
       "<div>\n",
       "<style scoped>\n",
       "    .dataframe tbody tr th:only-of-type {\n",
       "        vertical-align: middle;\n",
       "    }\n",
       "\n",
       "    .dataframe tbody tr th {\n",
       "        vertical-align: top;\n",
       "    }\n",
       "\n",
       "    .dataframe thead th {\n",
       "        text-align: right;\n",
       "    }\n",
       "</style>\n",
       "<table border=\"1\" class=\"dataframe\">\n",
       "  <thead>\n",
       "    <tr style=\"text-align: right;\">\n",
       "      <th></th>\n",
       "      <th>bodyType</th>\n",
       "      <th>brand</th>\n",
       "      <th>car_url</th>\n",
       "      <th>color</th>\n",
       "      <th>complectation_dict</th>\n",
       "      <th>description</th>\n",
       "      <th>engineDisplacement</th>\n",
       "      <th>enginePower</th>\n",
       "      <th>equipment_dict</th>\n",
       "      <th>fuelType</th>\n",
       "      <th>image</th>\n",
       "      <th>mileage</th>\n",
       "      <th>modelDate</th>\n",
       "      <th>model_info</th>\n",
       "      <th>model_name</th>\n",
       "      <th>name</th>\n",
       "      <th>numberOfDoors</th>\n",
       "      <th>parsing_unixtime</th>\n",
       "      <th>priceCurrency</th>\n",
       "      <th>productionDate</th>\n",
       "      <th>sell_id</th>\n",
       "      <th>super_gen</th>\n",
       "      <th>vehicleConfiguration</th>\n",
       "      <th>vehicleTransmission</th>\n",
       "      <th>vendor</th>\n",
       "      <th>Владельцы</th>\n",
       "      <th>Владение</th>\n",
       "      <th>ПТС</th>\n",
       "      <th>Привод</th>\n",
       "      <th>Руль</th>\n",
       "      <th>Состояние</th>\n",
       "      <th>Таможня</th>\n",
       "    </tr>\n",
       "  </thead>\n",
       "  <tbody>\n",
       "    <tr>\n",
       "      <th>16944</th>\n",
       "      <td>кабриолет</td>\n",
       "      <td>MERCEDES</td>\n",
       "      <td>https://auto.ru/cars/used/sale/mercedes/simple...</td>\n",
       "      <td>белый</td>\n",
       "      <td>NaN</td>\n",
       "      <td>на ходу. 1904 год. стоит в гараже, пылится.Кат...</td>\n",
       "      <td>5.3 LTR</td>\n",
       "      <td>32 N12</td>\n",
       "      <td>NaN</td>\n",
       "      <td>бензин</td>\n",
       "      <td>https://autoru.naydex.net/ESooa9149/468b9eoMem...</td>\n",
       "      <td>48000</td>\n",
       "      <td>1904</td>\n",
       "      <td>{\"code\":\"SIMPLEX\",\"name\":\"Simplex\",\"ru_name\":\"...</td>\n",
       "      <td>SIMPLEX</td>\n",
       "      <td>5.3 MT (32 л.с.)</td>\n",
       "      <td>0</td>\n",
       "      <td>1603245843</td>\n",
       "      <td>RUB</td>\n",
       "      <td>1904</td>\n",
       "      <td>1093802104</td>\n",
       "      <td>{\"id\":\"21743990\",\"displacement\":5322,\"engine_t...</td>\n",
       "      <td>CABRIO MECHANICAL 5.3</td>\n",
       "      <td>механическая</td>\n",
       "      <td>EUROPEAN</td>\n",
       "      <td>1 владелец</td>\n",
       "      <td>6 лет и 8 месяцев</td>\n",
       "      <td>Оригинал</td>\n",
       "      <td>задний</td>\n",
       "      <td>Правый</td>\n",
       "      <td>Не требует ремонта</td>\n",
       "      <td>Растаможен</td>\n",
       "    </tr>\n",
       "  </tbody>\n",
       "</table>\n",
       "</div>"
      ],
      "text/plain": [
       "        bodyType     brand                                            car_url  \\\n",
       "16944  кабриолет  MERCEDES  https://auto.ru/cars/used/sale/mercedes/simple...   \n",
       "\n",
       "       color complectation_dict  \\\n",
       "16944  белый                NaN   \n",
       "\n",
       "                                             description engineDisplacement  \\\n",
       "16944  на ходу. 1904 год. стоит в гараже, пылится.Кат...            5.3 LTR   \n",
       "\n",
       "      enginePower equipment_dict fuelType  \\\n",
       "16944      32 N12            NaN   бензин   \n",
       "\n",
       "                                                   image  mileage  modelDate  \\\n",
       "16944  https://autoru.naydex.net/ESooa9149/468b9eoMem...    48000       1904   \n",
       "\n",
       "                                              model_info model_name  \\\n",
       "16944  {\"code\":\"SIMPLEX\",\"name\":\"Simplex\",\"ru_name\":\"...    SIMPLEX   \n",
       "\n",
       "                   name  numberOfDoors  parsing_unixtime priceCurrency  \\\n",
       "16944  5.3 MT (32 л.с.)              0        1603245843           RUB   \n",
       "\n",
       "       productionDate     sell_id  \\\n",
       "16944            1904  1093802104   \n",
       "\n",
       "                                               super_gen  \\\n",
       "16944  {\"id\":\"21743990\",\"displacement\":5322,\"engine_t...   \n",
       "\n",
       "        vehicleConfiguration vehicleTransmission    vendor   Владельцы  \\\n",
       "16944  CABRIO MECHANICAL 5.3        механическая  EUROPEAN  1 владелец   \n",
       "\n",
       "                Владение       ПТС  Привод    Руль           Состояние  \\\n",
       "16944  6 лет и 8 месяцев  Оригинал  задний  Правый  Не требует ремонта   \n",
       "\n",
       "          Таможня  \n",
       "16944  Растаможен  "
      ]
     },
     "execution_count": 61,
     "metadata": {},
     "output_type": "execute_result"
    }
   ],
   "source": [
    "test[test.numberOfDoors == 0]"
   ]
  },
  {
   "cell_type": "markdown",
   "id": "e5383cdf",
   "metadata": {},
   "source": [
    "Нет, это кабриолет #upgrade, вставить картинку авто."
   ]
  },
  {
   "cell_type": "code",
   "execution_count": null,
   "id": "2f44a01c",
   "metadata": {},
   "outputs": [],
   "source": []
  },
  {
   "cell_type": "code",
   "execution_count": 62,
   "id": "813f773c",
   "metadata": {
    "ExecuteTime": {
     "end_time": "2022-04-09T12:06:18.846611Z",
     "start_time": "2022-04-09T12:06:18.830608Z"
    }
   },
   "outputs": [],
   "source": [
    "test.at[16944, 'numberOfDoors'] = 2"
   ]
  },
  {
   "cell_type": "markdown",
   "id": "53466ec3",
   "metadata": {},
   "source": [
    "### parsing_unixtime"
   ]
  },
  {
   "cell_type": "code",
   "execution_count": 63,
   "id": "6c30be43",
   "metadata": {
    "ExecuteTime": {
     "end_time": "2022-04-09T12:06:19.070012Z",
     "start_time": "2022-04-09T12:06:19.061006Z"
    }
   },
   "outputs": [
    {
     "data": {
      "text/plain": [
       "1603226273"
      ]
     },
     "execution_count": 63,
     "metadata": {},
     "output_type": "execute_result"
    }
   ],
   "source": [
    "test.parsing_unixtime[0]"
   ]
  },
  {
   "cell_type": "markdown",
   "id": "e80cf5c5",
   "metadata": {},
   "source": [
    "Судя по всему в этом столбце находится дата парсинга в формате unixtime"
   ]
  },
  {
   "cell_type": "code",
   "execution_count": 64,
   "id": "dcc16da2",
   "metadata": {
    "ExecuteTime": {
     "end_time": "2022-04-09T12:06:19.371431Z",
     "start_time": "2022-04-09T12:06:19.293414Z"
    }
   },
   "outputs": [
    {
     "data": {
      "text/plain": [
       "Timedelta('6 days 23:29:18')"
      ]
     },
     "execution_count": 64,
     "metadata": {},
     "output_type": "execute_result"
    }
   ],
   "source": [
    "parsing_date = pd.Series(map(lambda x:dt.fromtimestamp(x),test.parsing_unixtime))\n",
    "\n",
    "parsing_date.max()-parsing_date.min()"
   ]
  },
  {
   "cell_type": "markdown",
   "id": "4f637e1c",
   "metadata": {},
   "source": [
    "Разница во времени парсинга - незначительная и состовяет 6 дней. За это время возраст авто не изменился, поэтому можно использовать медианное время для вычисления возраста авто. "
   ]
  },
  {
   "cell_type": "code",
   "execution_count": 65,
   "id": "847f52a7",
   "metadata": {
    "ExecuteTime": {
     "end_time": "2022-04-09T12:06:19.547557Z",
     "start_time": "2022-04-09T12:06:19.532555Z"
    }
   },
   "outputs": [
    {
     "data": {
      "text/plain": [
       "Timestamp('2020-10-21 07:22:13')"
      ]
     },
     "execution_count": 65,
     "metadata": {},
     "output_type": "execute_result"
    }
   ],
   "source": [
    "parsing_date.median()"
   ]
  },
  {
   "cell_type": "markdown",
   "id": "8459de4f",
   "metadata": {},
   "source": [
    "### priceCurrency"
   ]
  },
  {
   "cell_type": "code",
   "execution_count": 66,
   "id": "fefa26de",
   "metadata": {
    "ExecuteTime": {
     "end_time": "2022-04-09T12:06:19.771696Z",
     "start_time": "2022-04-09T12:06:19.761694Z"
    }
   },
   "outputs": [
    {
     "data": {
      "text/plain": [
       "18500    RUB\n",
       "22134    RUB\n",
       "736      RUB\n",
       "1250     RUB\n",
       "28335    RUB\n",
       "Name: priceCurrency, dtype: object"
      ]
     },
     "execution_count": 66,
     "metadata": {},
     "output_type": "execute_result"
    }
   ],
   "source": [
    "test.priceCurrency.sample(5)"
   ]
  },
  {
   "cell_type": "code",
   "execution_count": 67,
   "id": "0a4baf22",
   "metadata": {
    "ExecuteTime": {
     "end_time": "2022-04-09T12:06:19.786697Z",
     "start_time": "2022-04-09T12:06:19.772695Z"
    }
   },
   "outputs": [
    {
     "data": {
      "text/plain": [
       "array(['RUB'], dtype=object)"
      ]
     },
     "execution_count": 67,
     "metadata": {},
     "output_type": "execute_result"
    }
   ],
   "source": [
    "test.priceCurrency.unique()"
   ]
  },
  {
   "cell_type": "markdown",
   "id": "944d86f7",
   "metadata": {},
   "source": [
    "В этом столбе предоставленна валюта, в которой укзазана цена автомобилей. Это рубль, нет смысла использовать найденную информацию о стоимости автомобилей в другой валюте. Этот столбец только что стал неинформативным. Выкидываем."
   ]
  },
  {
   "cell_type": "markdown",
   "id": "abca0570",
   "metadata": {},
   "source": [
    "### productionDate"
   ]
  },
  {
   "cell_type": "code",
   "execution_count": 68,
   "id": "449bd8b9",
   "metadata": {
    "ExecuteTime": {
     "end_time": "2022-04-09T12:06:20.250932Z",
     "start_time": "2022-04-09T12:06:20.232940Z"
    }
   },
   "outputs": [
    {
     "data": {
      "text/plain": [
       "30807    2008\n",
       "21941    1999\n",
       "32681    2017\n",
       "17381    1997\n",
       "17669    2008\n",
       "Name: productionDate, dtype: int64"
      ]
     },
     "execution_count": 68,
     "metadata": {},
     "output_type": "execute_result"
    }
   ],
   "source": [
    "test.productionDate.sample(5)"
   ]
  },
  {
   "cell_type": "markdown",
   "id": "abaf8c37",
   "metadata": {},
   "source": [
    "Год выпуска автомобиля. Может быть весьма полезным, если связать его со временем парсинга или годом выпуска модели."
   ]
  },
  {
   "cell_type": "markdown",
   "id": "3df58486",
   "metadata": {},
   "source": [
    "### sell_id"
   ]
  },
  {
   "cell_type": "code",
   "execution_count": 69,
   "id": "50cf7196",
   "metadata": {
    "ExecuteTime": {
     "end_time": "2022-04-09T12:06:20.714298Z",
     "start_time": "2022-04-09T12:06:20.694293Z"
    }
   },
   "outputs": [
    {
     "data": {
      "text/plain": [
       "12882    1093039412\n",
       "27106    1100995788\n",
       "22960    1101179017\n",
       "23038    1098408540\n",
       "16065    1101307850\n",
       "Name: sell_id, dtype: int64"
      ]
     },
     "execution_count": 69,
     "metadata": {},
     "output_type": "execute_result"
    }
   ],
   "source": [
    "test.sell_id.sample(5)"
   ]
  },
  {
   "cell_type": "markdown",
   "id": "a7b6b2ee",
   "metadata": {},
   "source": [
    "Просто id продажи, можно было бы ворваться в базу данных auto.ru и стянуть данные о продажах, чтобы узнать цены автомобилей в тесте и тем самым набрать максимальный балл из возможных. Но это не наши профиль и уровень благопорядочности. Выкидываем колонку"
   ]
  },
  {
   "cell_type": "markdown",
   "id": "bf365956",
   "metadata": {},
   "source": [
    "### super_gen"
   ]
  },
  {
   "cell_type": "code",
   "execution_count": 70,
   "id": "4a6539b8",
   "metadata": {
    "ExecuteTime": {
     "end_time": "2022-04-09T12:06:21.160811Z",
     "start_time": "2022-04-09T12:06:21.154821Z"
    }
   },
   "outputs": [
    {
     "data": {
      "text/plain": [
       "'{\"id\":\"10373605\",\"displacement\":1197,\"engine_type\":\"GASOLINE\",\"gear_type\":\"FORWARD_CONTROL\",\"transmission\":\"ROBOT\",\"power\":105,\"power_kvt\":77,\"human_name\":\"1.2 AMT (105 л.с.)\",\"acceleration\":10.5,\"clearance_min\":155,\"fuel_rate\":5}'"
      ]
     },
     "execution_count": 70,
     "metadata": {},
     "output_type": "execute_result"
    }
   ],
   "source": [
    "test.super_gen[0]"
   ]
  },
  {
   "cell_type": "code",
   "execution_count": 71,
   "id": "ea819e61",
   "metadata": {
    "ExecuteTime": {
     "end_time": "2022-04-09T12:06:21.176814Z",
     "start_time": "2022-04-09T12:06:21.162813Z"
    }
   },
   "outputs": [
    {
     "data": {
      "text/plain": [
       "{'id': '10373605',\n",
       " 'displacement': 1197,\n",
       " 'engine_type': 'GASOLINE',\n",
       " 'gear_type': 'FORWARD_CONTROL',\n",
       " 'transmission': 'ROBOT',\n",
       " 'power': 105,\n",
       " 'power_kvt': 77,\n",
       " 'human_name': '1.2 AMT (105 л.с.)',\n",
       " 'acceleration': 10.5,\n",
       " 'clearance_min': 155,\n",
       " 'fuel_rate': 5}"
      ]
     },
     "execution_count": 71,
     "metadata": {},
     "output_type": "execute_result"
    }
   ],
   "source": [
    "import json\n",
    "json.loads(test.super_gen[0])"
   ]
  },
  {
   "cell_type": "markdown",
   "id": "cc4935bd",
   "metadata": {},
   "source": [
    "Это словарь с общими характеристиками автомобиля, не заисящими от бренда\n",
    "\n",
    "| Ключ          | Значение              | Пояснение                                                                             |\n",
    "| ------------- | --------------------- | ------------------------------------------------------------------------------------- |\n",
    "| id            | 20228954              | неинформативный номер                                                                 |\n",
    "| displacement  | 1969                  | Рабочий объём двигателя в $см^2$                                                      |\n",
    "| engine_type   | GASOLINE              | Тип двигателя(топливо)                                                                |\n",
    "| gear_type     | ALL_WHEEL_DRIVE       | Тип привода                                                                           |\n",
    "| transmission  | AUTOMATIC             | Коробка передач                                                                       |\n",
    "| power         | 320                   | мощность двигателя в лошадиных силах                                                  |\n",
    "| power_kvt     | 235                   | мощность двигателя в киловатах                                                        |\n",
    "| human_name    | 2.0 AT (320 л.с.) 4WD | Краткие Обозначения объема двигателя, коробки передач, лошадиных сил и типа привода   |\n",
    "| acceleration  | 6.5                   | Количество секунд для разгона до сотни км/ч                                           |\n",
    "| clearance_min | 237                   | Дорожный просвет - расстояние от дна автомобился до поверхности асфальта в милиметрах |\n",
    "| fuel_rate     | 8                     | Расход топлива в литрах на 100 км                                                     |\n"
   ]
  },
  {
   "cell_type": "markdown",
   "id": "f23c6f8e",
   "metadata": {},
   "source": [
    "### vehicleConfiguration"
   ]
  },
  {
   "cell_type": "code",
   "execution_count": 72,
   "id": "b4f614d2",
   "metadata": {
    "ExecuteTime": {
     "end_time": "2022-04-09T12:06:21.641034Z",
     "start_time": "2022-04-09T12:06:21.625042Z"
    }
   },
   "outputs": [
    {
     "data": {
      "text/plain": [
       "13025            SEDAN MECHANICAL 1.6\n",
       "1976          LIFTBACK MECHANICAL 1.6\n",
       "11259    ALLROAD_5_DOORS VARIATOR 2.0\n",
       "7022                  SEDAN ROBOT 1.6\n",
       "9252              COUPE AUTOMATIC 3.0\n",
       "Name: vehicleConfiguration, dtype: object"
      ]
     },
     "execution_count": 72,
     "metadata": {},
     "output_type": "execute_result"
    }
   ],
   "source": [
    "test.vehicleConfiguration.sample(5)"
   ]
  },
  {
   "cell_type": "markdown",
   "id": "7fbfd306",
   "metadata": {},
   "source": [
    "Столбец, говорящий о типе кузова автомобиля, типе трансмиссии  и объеме двигателя. Его можно выкинуть, т.к. он дублирует уже полученную информацию."
   ]
  },
  {
   "cell_type": "markdown",
   "id": "ba3c3bee",
   "metadata": {},
   "source": [
    "### vehicleTransmission"
   ]
  },
  {
   "cell_type": "code",
   "execution_count": 73,
   "id": "b03a4bd0",
   "metadata": {
    "ExecuteTime": {
     "end_time": "2022-04-09T12:06:22.249270Z",
     "start_time": "2022-04-09T12:06:22.158250Z"
    }
   },
   "outputs": [
    {
     "data": {
      "image/png": "[encoded data removed]",
      "text/plain": [
       "<Figure size 432x288 with 1 Axes>"
      ]
     },
     "metadata": {
      "needs_background": "light"
     },
     "output_type": "display_data"
    }
   ],
   "source": [
    "show_value_counts(test.vehicleTransmission.value_counts());"
   ]
  },
  {
   "cell_type": "markdown",
   "id": "cfa73474",
   "metadata": {},
   "source": [
    "Колонка с типом коробки передач. Неплохие признаки, осталось сравнить их с предыдущими словарями."
   ]
  },
  {
   "cell_type": "markdown",
   "id": "405b49b4",
   "metadata": {},
   "source": [
    "### vendor"
   ]
  },
  {
   "cell_type": "code",
   "execution_count": 74,
   "id": "f1c2bbe7",
   "metadata": {
    "ExecuteTime": {
     "end_time": "2022-04-09T12:06:22.647906Z",
     "start_time": "2022-04-09T12:06:22.626901Z"
    }
   },
   "outputs": [
    {
     "data": {
      "text/plain": [
       "EUROPEAN    20682\n",
       "JAPANESE    14004\n",
       "Name: vendor, dtype: int64"
      ]
     },
     "execution_count": 74,
     "metadata": {},
     "output_type": "execute_result"
    }
   ],
   "source": [
    "test.vendor.value_counts()"
   ]
  },
  {
   "cell_type": "markdown",
   "id": "d17c4ccc",
   "metadata": {},
   "source": [
    "Категориальный признак\n",
    "\n",
    "Отличает стран-продавцов авто, имеет смысл расширить европейского продавца до конкретных стран."
   ]
  },
  {
   "cell_type": "markdown",
   "id": "a7676081",
   "metadata": {},
   "source": [
    "### Владельцы"
   ]
  },
  {
   "cell_type": "code",
   "execution_count": 75,
   "id": "27d1bc97",
   "metadata": {
    "ExecuteTime": {
     "end_time": "2022-04-09T12:06:23.190954Z",
     "start_time": "2022-04-09T12:06:23.090836Z"
    }
   },
   "outputs": [
    {
     "data": {
      "image/png": "[encoded data removed]",
      "text/plain": [
       "<Figure size 432x288 with 1 Axes>"
      ]
     },
     "metadata": {
      "needs_background": "light"
     },
     "output_type": "display_data"
    }
   ],
   "source": [
    "show_value_counts(test.Владельцы.value_counts());"
   ]
  },
  {
   "cell_type": "markdown",
   "id": "a868ca47",
   "metadata": {
    "ExecuteTime": {
     "end_time": "2022-04-08T15:05:41.751404Z",
     "start_time": "2022-04-08T15:05:41.738410Z"
    }
   },
   "source": [
    "Хороший категориальный признак, но, все же лучше превратить его в числовой."
   ]
  },
  {
   "cell_type": "markdown",
   "id": "3f439445",
   "metadata": {},
   "source": [
    "### Владение"
   ]
  },
  {
   "cell_type": "code",
   "execution_count": 76,
   "id": "c0bffbe4",
   "metadata": {
    "ExecuteTime": {
     "end_time": "2022-04-09T12:06:23.573052Z",
     "start_time": "2022-04-09T12:06:23.557039Z"
    }
   },
   "outputs": [
    {
     "name": "stdout",
     "output_type": "stream",
     "text": [
      "Заполненность данными: 0.3458167560399008\n"
     ]
    },
    {
     "data": {
      "text/plain": [
       "'3 года и 2 месяца'"
      ]
     },
     "execution_count": 76,
     "metadata": {},
     "output_type": "execute_result"
    }
   ],
   "source": [
    "isna= test.Владение.isna()\n",
    "print('Заполненность данными:',len(isna[isna == False])/len(isna))\n",
    "\n",
    "test.Владение.dropna().iloc[0]"
   ]
  },
  {
   "cell_type": "markdown",
   "id": "04c5a326",
   "metadata": {
    "ExecuteTime": {
     "end_time": "2022-04-07T08:46:57.285975Z",
     "start_time": "2022-04-07T08:46:57.276974Z"
    }
   },
   "source": [
    "Столбец заполнен на 35% \n",
    "\n",
    "Видно, что это строка, которая указывает время владения. Предположительно, последнего владельца, но это нужно проверить. \n",
    "\n",
    "Данных маловато, но зато можно будет сделать из них бинарный признак, указал ли водитель время использования или нет. Но скорее всего после проверки этот столбец не будет использоваться вовсе."
   ]
  },
  {
   "cell_type": "markdown",
   "id": "f5cbed2e",
   "metadata": {},
   "source": [
    "### ПТС"
   ]
  },
  {
   "cell_type": "code",
   "execution_count": 77,
   "id": "b2294605",
   "metadata": {
    "ExecuteTime": {
     "end_time": "2022-04-09T12:06:24.100350Z",
     "start_time": "2022-04-09T12:06:24.026330Z"
    }
   },
   "outputs": [
    {
     "data": {
      "image/png": "[encoded data removed]",
      "text/plain": [
       "<Figure size 432x288 with 1 Axes>"
      ]
     },
     "metadata": {
      "needs_background": "light"
     },
     "output_type": "display_data"
    }
   ],
   "source": [
    "show_value_counts(test.ПТС.value_counts());"
   ]
  },
  {
   "cell_type": "markdown",
   "id": "1f581ae6",
   "metadata": {},
   "source": [
    "Паспорт Технического Средства. По сути паспорт автомобиля. Дубликат нужен в случае утери или если в оригинале закончились строки под количество владельцев авто. Признак можно оставить и посмотреть, какое он оказывает влияние. "
   ]
  },
  {
   "cell_type": "markdown",
   "id": "f2c237b5",
   "metadata": {},
   "source": [
    "### Привод"
   ]
  },
  {
   "cell_type": "code",
   "execution_count": 78,
   "id": "62f9952e",
   "metadata": {
    "ExecuteTime": {
     "end_time": "2022-04-09T12:06:24.593584Z",
     "start_time": "2022-04-09T12:06:24.506441Z"
    }
   },
   "outputs": [
    {
     "data": {
      "image/png": "[encoded data removed]",
      "text/plain": [
       "<Figure size 432x288 with 1 Axes>"
      ]
     },
     "metadata": {
      "needs_background": "light"
     },
     "output_type": "display_data"
    }
   ],
   "source": [
    "show_value_counts(test.Привод.value_counts());"
   ]
  },
  {
   "cell_type": "markdown",
   "id": "76844084",
   "metadata": {},
   "source": [
    "Привод авто, три признака. Полный привод - дороже. Это важный признак."
   ]
  },
  {
   "cell_type": "markdown",
   "id": "61ba4f18",
   "metadata": {},
   "source": [
    "### Руль"
   ]
  },
  {
   "cell_type": "code",
   "execution_count": 79,
   "id": "8f0449c4",
   "metadata": {
    "ExecuteTime": {
     "end_time": "2022-04-09T12:06:25.057697Z",
     "start_time": "2022-04-09T12:06:24.980683Z"
    }
   },
   "outputs": [
    {
     "data": {
      "image/png": "[encoded data removed]",
      "text/plain": [
       "<Figure size 432x288 with 1 Axes>"
      ]
     },
     "metadata": {
      "needs_background": "light"
     },
     "output_type": "display_data"
    }
   ],
   "source": [
    "show_value_counts(test.Руль.value_counts());"
   ]
  },
  {
   "cell_type": "markdown",
   "id": "3ecd7b5d",
   "metadata": {},
   "source": [
    "Совсем немного праворульных автомобилей, что понятно, ведь машины продаются под российский рынок. Признак стоит оставить, он может быть маркером для модели."
   ]
  },
  {
   "cell_type": "markdown",
   "id": "8a6c752a",
   "metadata": {},
   "source": [
    "### Состояние"
   ]
  },
  {
   "cell_type": "code",
   "execution_count": 80,
   "id": "a06ffd1a",
   "metadata": {
    "ExecuteTime": {
     "end_time": "2022-04-09T12:06:25.473324Z",
     "start_time": "2022-04-09T12:06:25.454321Z"
    }
   },
   "outputs": [
    {
     "name": "stdout",
     "output_type": "stream",
     "text": [
      "['Не требует ремонта']\n"
     ]
    }
   ],
   "source": [
    "print(test.Состояние.unique())"
   ]
  },
  {
   "cell_type": "markdown",
   "id": "ef4443b7",
   "metadata": {},
   "source": [
    "Все машины не требуют ремонта, это неинформативный признак. Колонка выкидывается из датасета."
   ]
  },
  {
   "cell_type": "markdown",
   "id": "1a2e24fe",
   "metadata": {},
   "source": [
    "### Таможня"
   ]
  },
  {
   "cell_type": "code",
   "execution_count": 81,
   "id": "71f281e0",
   "metadata": {
    "ExecuteTime": {
     "end_time": "2022-04-09T12:06:25.951122Z",
     "start_time": "2022-04-09T12:06:25.930119Z"
    }
   },
   "outputs": [
    {
     "name": "stdout",
     "output_type": "stream",
     "text": [
      "['Растаможен']\n"
     ]
    }
   ],
   "source": [
    "print(test.Таможня.unique())"
   ]
  },
  {
   "cell_type": "markdown",
   "id": "88fb9efd",
   "metadata": {},
   "source": [
    "Все автомобили расстоможены, этот признак неинформативный. Колонка выкидывается из датасета"
   ]
  },
  {
   "cell_type": "markdown",
   "id": "0879d8c3",
   "metadata": {},
   "source": [
    "## Train\n",
    "\n",
    "Важно заметить, что мы не делали предобработку, это потому, что нужно сравнить тестовый датасет с тренировочным, ведь некоторых данных для обучения может и не быть."
   ]
  },
  {
   "cell_type": "markdown",
   "id": "3b4e8433",
   "metadata": {},
   "source": [
    "### Пропуски и дубли"
   ]
  },
  {
   "cell_type": "code",
   "execution_count": 82,
   "id": "92e71dde",
   "metadata": {
    "ExecuteTime": {
     "end_time": "2022-04-09T12:06:29.193115Z",
     "start_time": "2022-04-09T12:06:26.726902Z"
    }
   },
   "outputs": [
    {
     "name": "stdout",
     "output_type": "stream",
     "text": [
      "Форма датасета до удаления дублей    (89378, 26)\n",
      "Форма датасета после удаления дублей (87264, 26)\n"
     ]
    },
    {
     "data": {
      "image/png": "[encoded data removed]",
      "text/plain": [
       "<Figure size 720x360 with 1 Axes>"
      ]
     },
     "metadata": {
      "needs_background": "light"
     },
     "output_type": "display_data"
    }
   ],
   "source": [
    "print('Форма датасета до удаления дублей   ',train.shape)\n",
    "train = train.drop_duplicates()\n",
    "print('Форма датасета после удаления дублей',train.shape)\n",
    "\n",
    "fig, ax = plt.subplots(figsize=(10,5))\n",
    "sns_heatmap = sns.heatmap(\n",
    "    train.isnull(), yticklabels=False, cbar=False, cmap='viridis')"
   ]
  },
  {
   "cell_type": "markdown",
   "id": "c46c1dfe",
   "metadata": {},
   "source": [
    "Колонки Состояние и hidden не содержат данных, выкидываем"
   ]
  },
  {
   "cell_type": "markdown",
   "id": "ef69ebf1",
   "metadata": {},
   "source": [
    "#### Владение"
   ]
  },
  {
   "cell_type": "code",
   "execution_count": 83,
   "id": "04589f0d",
   "metadata": {
    "ExecuteTime": {
     "end_time": "2022-04-09T12:06:29.209107Z",
     "start_time": "2022-04-09T12:06:29.194105Z"
    }
   },
   "outputs": [
    {
     "name": "stdout",
     "output_type": "stream",
     "text": [
      "Заполненность данными: 0.33225614228089473\n"
     ]
    }
   ],
   "source": [
    "isna= train.Владение.isna()\n",
    "print('Заполненность данными:',len(isna[isna == False])/len(isna))"
   ]
  },
  {
   "cell_type": "markdown",
   "id": "59100429",
   "metadata": {},
   "source": [
    "Данных в таблице всего 33%, что близко к аналогичному столбцу в тестовом датасете. Формируем категориальные признаки по типу: не укзазано, до года, до трех лет, до 6 лет, больше 6 лет."
   ]
  },
  {
   "cell_type": "markdown",
   "id": "d9889716",
   "metadata": {},
   "source": [
    "#### Владельцы"
   ]
  },
  {
   "cell_type": "code",
   "execution_count": 30,
   "id": "aaa3d050",
   "metadata": {
    "ExecuteTime": {
     "end_time": "2022-04-10T09:35:15.506312Z",
     "start_time": "2022-04-10T09:35:15.419302Z"
    }
   },
   "outputs": [
    {
     "name": "stdout",
     "output_type": "stream",
     "text": [
      "Заполненность данными: 0.8479715366197498\n"
     ]
    },
    {
     "data": {
      "image/png": "[encoded data removed]",
      "text/plain": [
       "<Figure size 432x288 with 1 Axes>"
      ]
     },
     "metadata": {
      "needs_background": "light"
     },
     "output_type": "display_data"
    }
   ],
   "source": [
    "isna= train.Владельцы.isna()\n",
    "print('Заполненность данными:',len(isna[isna == False])/len(isna))\n",
    "\n",
    "show_value_counts(train.Владельцы.value_counts(), reverse=True);"
   ]
  },
  {
   "cell_type": "markdown",
   "id": "bcc31522",
   "metadata": {},
   "source": [
    "Хороший числовой признак, уже обработанный.\n",
    "\n",
    "Посмотрим на пропуски, в них кол-во владельцев может быть связано с пробегом и годом выпуска автомобиля. Выведем датасет с пропусками с в колонке \"Владельцы\" и посмотрим, какой пробег у таких автомобилей"
   ]
  },
  {
   "cell_type": "code",
   "execution_count": 27,
   "id": "74d02c8e",
   "metadata": {
    "ExecuteTime": {
     "end_time": "2022-04-10T09:34:32.473148Z",
     "start_time": "2022-04-10T09:34:32.322115Z"
    }
   },
   "outputs": [
    {
     "data": {
      "image/png": "[encoded data removed]",
      "text/plain": [
       "<Figure size 432x288 with 1 Axes>"
      ]
     },
     "metadata": {
      "needs_background": "light"
     },
     "output_type": "display_data"
    }
   ],
   "source": [
    "show_value_counts(train[train['Владельцы'].isna()].mileage.value_counts(),\n",
    "                 reverse=True);"
   ]
  },
  {
   "cell_type": "code",
   "execution_count": null,
   "id": "6daf6946",
   "metadata": {},
   "outputs": [],
   "source": []
  },
  {
   "cell_type": "markdown",
   "id": "45968698",
   "metadata": {},
   "source": [
    "У этих автомобилей нулевой пробег. Значит они новые и у них просто не должно быть владельцев! \n",
    "\n",
    "Но лучше проверить год выпуска:"
   ]
  },
  {
   "cell_type": "markdown",
   "id": "b7dea8d7",
   "metadata": {},
   "source": [
    "Да, большинство автомобилей весьма свежие, видимо их в самом деле ещё не успели продать. Важно заметить, что год датасета 2020."
   ]
  },
  {
   "cell_type": "markdown",
   "id": "7504d02b",
   "metadata": {},
   "source": [
    "#### ПТС"
   ]
  },
  {
   "cell_type": "code",
   "execution_count": 180,
   "id": "2e777fae",
   "metadata": {
    "ExecuteTime": {
     "end_time": "2022-04-10T14:36:30.157239Z",
     "start_time": "2022-04-10T14:36:30.142237Z"
    }
   },
   "outputs": [
    {
     "name": "stdout",
     "output_type": "stream",
     "text": [
      "Заполненность данными: 0.9959609747365123\n"
     ]
    }
   ],
   "source": [
    "na_ratio(train.ПТС.isna())"
   ]
  },
  {
   "cell_type": "markdown",
   "id": "7934954e",
   "metadata": {},
   "source": [
    "Поскольку порядочный гражданини не будет покупать машину без ПТС, а поплуярная площадка по продаже авто не будет продавать такие авто, то ПТС просто должен быть! По [этому](https://avilon.ru/articles/pts-avtomobilya/) источнику салоны на все новые авто оформляют ПТС.\n",
    "\n",
    "Возможно, машины новые"
   ]
  },
  {
   "cell_type": "code",
   "execution_count": null,
   "id": "032d1605",
   "metadata": {
    "ExecuteTime": {
     "end_time": "2022-04-09T12:06:29.961481Z",
     "start_time": "2022-04-09T12:06:29.961481Z"
    }
   },
   "outputs": [],
   "source": [
    "print(train[train.ПТС.isna()].mileage.unique()) # варианты километража этих авто"
   ]
  },
  {
   "cell_type": "markdown",
   "id": "d0b8baae",
   "metadata": {},
   "source": [
    "И правда, новые. Наметилась тенденция пропусков. Выведу визуализацию пропусков в датасете, где не укзан ПТС:"
   ]
  },
  {
   "cell_type": "code",
   "execution_count": null,
   "id": "4ba64ebb",
   "metadata": {
    "ExecuteTime": {
     "end_time": "2022-04-09T12:06:29.962481Z",
     "start_time": "2022-04-09T12:06:29.962481Z"
    }
   },
   "outputs": [],
   "source": [
    "fig, ax = plt.subplots(figsize=(10,5))\n",
    "sns_heatmap = sns.heatmap(\n",
    "    train[train.ПТС.isna()].isnull(), yticklabels=False, cbar=False, cmap='viridis')"
   ]
  },
  {
   "cell_type": "markdown",
   "id": "28b4dc98",
   "metadata": {},
   "source": [
    "Красота! Все стало куда понятнее. Пропуск в ПТС можно заменить указанием, что паспорт оригинальный"
   ]
  },
  {
   "cell_type": "markdown",
   "id": "c68ea14f",
   "metadata": {},
   "source": [
    "#### Резюмируя: \n",
    "Пропуски в колонках:\"Владельцы\",\"Владение\",\"ПТС\" имеют один и тот же характер. Их закономерность - случай, когда машина новая\n",
    "\n",
    "#upgrade Сделать вывод и указать в столбцах случай, когда владельцев - 0."
   ]
  },
  {
   "cell_type": "code",
   "execution_count": null,
   "id": "57ca14cd",
   "metadata": {
    "ExecuteTime": {
     "end_time": "2022-04-09T12:06:29.963481Z",
     "start_time": "2022-04-09T12:06:29.963481Z"
    }
   },
   "outputs": [],
   "source": [
    "len(test[test.mileage==0]) "
   ]
  },
  {
   "cell_type": "markdown",
   "id": "e3f4e186",
   "metadata": {},
   "source": [
    "### Сравнение датасетов\n",
    "\n",
    "Датасеты были спрашены с одного сайта, это облегчает работу. \n",
    "\n",
    "#upgrade вывести сравнение в виде барплотов"
   ]
  },
  {
   "cell_type": "code",
   "execution_count": 255,
   "id": "849cba5a",
   "metadata": {
    "ExecuteTime": {
     "end_time": "2022-04-10T15:44:07.427390Z",
     "start_time": "2022-04-10T15:44:07.415388Z"
    }
   },
   "outputs": [
    {
     "data": {
      "text/plain": [
       "['ПТС',\n",
       " 'enginePower',\n",
       " 'bodyType',\n",
       " 'Владение',\n",
       " 'brand',\n",
       " 'fuelType',\n",
       " 'Привод',\n",
       " 'name',\n",
       " 'vehicleTransmission',\n",
       " 'color',\n",
       " 'Владельцы',\n",
       " 'productionDate',\n",
       " 'engineDisplacement',\n",
       " 'description',\n",
       " 'vehicleConfiguration',\n",
       " 'Руль',\n",
       " 'mileage',\n",
       " 'Таможня',\n",
       " 'numberOfDoors',\n",
       " 'modelDate',\n",
       " 'Состояние']"
      ]
     },
     "metadata": {},
     "output_type": "display_data"
    },
    {
     "name": "stdout",
     "output_type": "stream",
     "text": [
      "\n",
      "21 - Количество общих колонок, они точно пойдут в работу\n"
     ]
    }
   ],
   "source": [
    "union_data_columns = list(set(train) & set(test))\n",
    "display(union_data_columns)\n",
    "print()\n",
    "print(len(union_data_columns),'- Количество общих колонок, они точно пойдут в работу')"
   ]
  },
  {
   "cell_type": "markdown",
   "id": "f8945919",
   "metadata": {},
   "source": [
    "По брнедам написать"
   ]
  },
  {
   "cell_type": "markdown",
   "id": "3ed37030",
   "metadata": {},
   "source": [
    "Вот колонки, которые точно войдут в работу."
   ]
  },
  {
   "cell_type": "code",
   "execution_count": 37,
   "id": "b06101c5",
   "metadata": {
    "ExecuteTime": {
     "end_time": "2022-04-10T09:41:57.362476Z",
     "start_time": "2022-04-10T09:41:57.354475Z"
    }
   },
   "outputs": [
    {
     "data": {
      "text/plain": [
       "['model_info',\n",
       " 'model',\n",
       " 'equipment_dict',\n",
       " 'super_gen',\n",
       " 'model_name',\n",
       " 'hidden',\n",
       " 'Комплектация',\n",
       " 'sell_id',\n",
       " 'vendor',\n",
       " 'image',\n",
       " 'start_date',\n",
       " 'complectation_dict',\n",
       " 'price',\n",
       " 'priceCurrency',\n",
       " 'parsing_unixtime',\n",
       " 'car_url']"
      ]
     },
     "metadata": {},
     "output_type": "display_data"
    },
    {
     "name": "stdout",
     "output_type": "stream",
     "text": [
      "16 - Количество несовпадающих колонок\n"
     ]
    }
   ],
   "source": [
    "diff_col_names = list(set(test.columns) ^ set(train.columns))\n",
    "display(diff_col_names)\n",
    "print(len(diff_col_names),'- Количество несовпадающих колонок')"
   ]
  },
  {
   "cell_type": "markdown",
   "id": "577fc6c9",
   "metadata": {},
   "source": [
    "Для разбора несовпавших колонок сделаем небольшой класс, чтобы можно было вычеркивать разобранные колонки"
   ]
  },
  {
   "cell_type": "code",
   "execution_count": 219,
   "id": "3e3e37fb",
   "metadata": {
    "ExecuteTime": {
     "end_time": "2022-04-10T15:26:05.544214Z",
     "start_time": "2022-04-10T15:26:05.528201Z"
    }
   },
   "outputs": [],
   "source": [
    "class diff_col_names():\n",
    "    def __init__(self):\n",
    "        self.show_test = list(set(test.columns) - set(train.columns))\n",
    "        self.show_train  = list(set(train.columns) - set(test.columns))\n",
    "        self.drop_dict = {'train':[], 'test':[]}\n",
    "        \n",
    "    def delc(self, column, drop=False):\n",
    "        if drop==True:\n",
    "            if column in self.show_test: self.drop_dict['test'].append(column)\n",
    "            elif column in self.show_train: self.drop_dict['train'].append(column)\n",
    "        \n",
    "        if column in self.show_test: \n",
    "            self.show_test.remove(column)\n",
    "        elif column in self.show_train: \n",
    "            self.show_train.remove(column)\n",
    "        else: print (f'Колонка {column} уже удалена!')\n",
    "            \n",
    "    def show(self):\n",
    "        display(d.show_test, d.show_train)"
   ]
  },
  {
   "cell_type": "code",
   "execution_count": 220,
   "id": "484d8df6",
   "metadata": {
    "ExecuteTime": {
     "end_time": "2022-04-10T15:26:06.000587Z",
     "start_time": "2022-04-10T15:26:05.986584Z"
    }
   },
   "outputs": [
    {
     "data": {
      "text/plain": [
       "['model_info',\n",
       " 'complectation_dict',\n",
       " 'equipment_dict',\n",
       " 'super_gen',\n",
       " 'model_name',\n",
       " 'vendor',\n",
       " 'priceCurrency',\n",
       " 'sell_id',\n",
       " 'parsing_unixtime',\n",
       " 'car_url',\n",
       " 'image']"
      ]
     },
     "metadata": {},
     "output_type": "display_data"
    },
    {
     "data": {
      "text/plain": [
       "['model', 'price', 'hidden', 'Комплектация', 'start_date']"
      ]
     },
     "metadata": {},
     "output_type": "display_data"
    }
   ],
   "source": [
    "d = diff_col_names()\n",
    "d.show()"
   ]
  },
  {
   "cell_type": "markdown",
   "id": "c4a9b49c",
   "metadata": {},
   "source": [
    "Колонки model и model_name звучат похоже\n",
    "\n",
    "#upgrade вывести сравнения в одну строчку"
   ]
  },
  {
   "cell_type": "code",
   "execution_count": 221,
   "id": "01d95a2e",
   "metadata": {
    "ExecuteTime": {
     "end_time": "2022-04-10T15:26:08.087588Z",
     "start_time": "2022-04-10T15:26:08.068584Z"
    }
   },
   "outputs": [
    {
     "name": "stdout",
     "output_type": "stream",
     "text": [
      "test - model_name\n",
      "---------------------\n",
      "6747          XC90\n",
      "29047    OUTLANDER\n",
      "30030           A6\n",
      "2709            A4\n",
      "7435          XC90\n",
      "Name: model_name, dtype: object\n",
      "\n",
      "train - model\n",
      "---------------------\n",
      "4483             3ER\n",
      "27589           IX35\n",
      "77318            S90\n",
      "76312    TRANSPORTER\n",
      "45049      OUTLANDER\n",
      "Name: model, dtype: object\n",
      "\n"
     ]
    }
   ],
   "source": [
    "print('test - model_name')\n",
    "print('---------------------')\n",
    "print(test.model_name.sample(5))\n",
    "print()\n",
    "\n",
    "print('train - model')\n",
    "print('---------------------')\n",
    "print(train.model.sample(5))\n",
    "print()"
   ]
  },
  {
   "cell_type": "markdown",
   "id": "cafd143b",
   "metadata": {},
   "source": [
    "Это названия моделей, им нужно будет указать одинаковое имя в трейн и тест."
   ]
  },
  {
   "cell_type": "code",
   "execution_count": 222,
   "id": "5b872206",
   "metadata": {
    "ExecuteTime": {
     "end_time": "2022-04-10T15:26:16.669154Z",
     "start_time": "2022-04-10T15:26:16.651150Z"
    }
   },
   "outputs": [],
   "source": [
    "#prep train_mod.rename(columns = {'model' : 'model_name'}, inplace = True) "
   ]
  },
  {
   "cell_type": "code",
   "execution_count": 223,
   "id": "d76b25e5",
   "metadata": {
    "ExecuteTime": {
     "end_time": "2022-04-10T15:26:17.622687Z",
     "start_time": "2022-04-10T15:26:17.606686Z"
    }
   },
   "outputs": [],
   "source": [
    "d.delc('model')\n",
    "d.delc('model_name')"
   ]
  },
  {
   "cell_type": "code",
   "execution_count": 224,
   "id": "96fb086b",
   "metadata": {
    "ExecuteTime": {
     "end_time": "2022-04-10T15:26:18.178583Z",
     "start_time": "2022-04-10T15:26:18.162580Z"
    }
   },
   "outputs": [
    {
     "data": {
      "text/plain": [
       "['model_info',\n",
       " 'complectation_dict',\n",
       " 'equipment_dict',\n",
       " 'super_gen',\n",
       " 'vendor',\n",
       " 'priceCurrency',\n",
       " 'sell_id',\n",
       " 'parsing_unixtime',\n",
       " 'car_url',\n",
       " 'image']"
      ]
     },
     "metadata": {},
     "output_type": "display_data"
    },
    {
     "data": {
      "text/plain": [
       "['price', 'hidden', 'Комплектация', 'start_date']"
      ]
     },
     "metadata": {},
     "output_type": "display_data"
    }
   ],
   "source": [
    "d.show()"
   ]
  },
  {
   "cell_type": "markdown",
   "id": "e628cceb",
   "metadata": {},
   "source": [
    "hidden - неинформативный столбец, а price - таргет, который не нужно обрабатывать"
   ]
  },
  {
   "cell_type": "code",
   "execution_count": 225,
   "id": "11c612f3",
   "metadata": {
    "ExecuteTime": {
     "end_time": "2022-04-10T15:26:28.451102Z",
     "start_time": "2022-04-10T15:26:28.448103Z"
    }
   },
   "outputs": [],
   "source": [
    "#prep y = train.price\n",
    "#prep df.drop(['hidden'],axis-'columns')\n",
    "#prep test['price'] = -1\n",
    "d.delc('price')\n",
    "d.delc('hidden',drop=True)"
   ]
  },
  {
   "cell_type": "code",
   "execution_count": 226,
   "id": "e86d0b66",
   "metadata": {
    "ExecuteTime": {
     "end_time": "2022-04-10T15:26:34.365214Z",
     "start_time": "2022-04-10T15:26:34.354212Z"
    }
   },
   "outputs": [
    {
     "data": {
      "text/plain": [
       "['model_info',\n",
       " 'complectation_dict',\n",
       " 'equipment_dict',\n",
       " 'super_gen',\n",
       " 'vendor',\n",
       " 'priceCurrency',\n",
       " 'sell_id',\n",
       " 'parsing_unixtime',\n",
       " 'car_url',\n",
       " 'image']"
      ]
     },
     "metadata": {},
     "output_type": "display_data"
    },
    {
     "data": {
      "text/plain": [
       "['Комплектация', 'start_date']"
      ]
     },
     "metadata": {},
     "output_type": "display_data"
    }
   ],
   "source": [
    "d.show()"
   ]
  },
  {
   "cell_type": "code",
   "execution_count": 227,
   "id": "15f68405",
   "metadata": {
    "ExecuteTime": {
     "end_time": "2022-04-10T15:26:39.171484Z",
     "start_time": "2022-04-10T15:26:39.156386Z"
    }
   },
   "outputs": [
    {
     "data": {
      "text/plain": [
       "'2019-10-03T08:09:11Z'"
      ]
     },
     "execution_count": 227,
     "metadata": {},
     "output_type": "execute_result"
    }
   ],
   "source": [
    "train.start_date[0]"
   ]
  },
  {
   "cell_type": "markdown",
   "id": "27304d2c",
   "metadata": {},
   "source": [
    "В этом столбце дата и время, но совершенно непонятно, что оно все означает. День начала. Чего начала? Кого начало? Разберу на примере"
   ]
  },
  {
   "cell_type": "code",
   "execution_count": 228,
   "id": "542ef8c4",
   "metadata": {
    "ExecuteTime": {
     "end_time": "2022-04-10T15:26:45.136650Z",
     "start_time": "2022-04-10T15:26:45.112646Z"
    }
   },
   "outputs": [
    {
     "name": "stdout",
     "output_type": "stream",
     "text": [
      "НА ПРИМЕРЕ АВТО В ДАТАСЕТЕ\n",
      "-------------------------------\n",
      "2019-10-16T18:05:03Z - start_date, \n",
      "2004.0 - время выпуска модели, \n",
      "2008 - время выпуска авто\n",
      "\n",
      "\n",
      "Самый ранний и поздний start_date\n",
      "-------------------------------\n",
      "2014-06-10T06:27:00Z - самая ранняя дата\n",
      "2020-09-09T10:49:25Z - самая поздняя\n"
     ]
    }
   ],
   "source": [
    "print(f'''НА ПРИМЕРЕ АВТО В ДАТАСЕТЕ\n",
    "-------------------------------\n",
    "{train.start_date[500]} - start_date, \n",
    "{train.modelDate[500]} - время выпуска модели, \n",
    "{train.productionDate[500]} - время выпуска авто''')\n",
    "\n",
    "print(f'''\n",
    "\n",
    "Самый ранний и поздний start_date\n",
    "-------------------------------\n",
    "{train.start_date.min()} - самая ранняя дата\n",
    "{train.start_date.max()} - самая поздняя''')"
   ]
  },
  {
   "cell_type": "markdown",
   "id": "de853213",
   "metadata": {
    "ExecuteTime": {
     "end_time": "2022-04-10T11:00:56.737709Z",
     "start_time": "2022-04-10T11:00:56.723708Z"
    }
   },
   "source": [
    "Это что-то происходило для каждого авто с 2014 до 2020 года, пожалуй, есть вероятность, \n",
    "что это время начала парсинга, или, что более вероятно - время выставления \n",
    "автомобиля на продажу или непосредственно продажа авто. Тут стоит только понадеяться и проверить гипотезу. Для проверки приравняем этот признак к parsing_unixtime и посмотрим, насколько хорошо обучается модель с ним и без него."
   ]
  },
  {
   "cell_type": "code",
   "execution_count": 229,
   "id": "10b6606e",
   "metadata": {
    "ExecuteTime": {
     "end_time": "2022-04-10T15:27:12.703943Z",
     "start_time": "2022-04-10T15:27:12.687940Z"
    }
   },
   "outputs": [],
   "source": [
    "#проверить parsing_unixtime == start_date??\n",
    "#prep train_mod.rename(columns = {'start_date' : 'parsing_unixtime'}, inplace = True)\n",
    "\n",
    "d.delc('start_date')\n",
    "d.delc('parsing_unixtime')"
   ]
  },
  {
   "cell_type": "code",
   "execution_count": 150,
   "id": "fa6e9351",
   "metadata": {
    "ExecuteTime": {
     "end_time": "2022-04-10T11:09:50.012466Z",
     "start_time": "2022-04-10T11:09:49.999463Z"
    }
   },
   "outputs": [
    {
     "data": {
      "text/plain": [
       "['model_info',\n",
       " 'complectation_dict',\n",
       " 'equipment_dict',\n",
       " 'super_gen',\n",
       " 'vendor',\n",
       " 'priceCurrency',\n",
       " 'sell_id',\n",
       " 'parsing_unixtime',\n",
       " 'car_url',\n",
       " 'image']"
      ]
     },
     "metadata": {},
     "output_type": "display_data"
    },
    {
     "data": {
      "text/plain": [
       "['Комплектация']"
      ]
     },
     "metadata": {},
     "output_type": "display_data"
    }
   ],
   "source": [
    "d.show()"
   ]
  },
  {
   "cell_type": "code",
   "execution_count": 155,
   "id": "500e5e91",
   "metadata": {
    "ExecuteTime": {
     "end_time": "2022-04-10T11:10:35.077994Z",
     "start_time": "2022-04-10T11:10:35.066993Z"
    }
   },
   "outputs": [
    {
     "data": {
      "text/plain": [
       "46348    {'id': '9279347', 'name': 'Comfort Plus', 'ava...\n",
       "28720                                          {'id': '0'}\n",
       "1969     {'id': '21793156', 'name': '40 TFSI S tronic',...\n",
       "25112                                          {'id': '0'}\n",
       "88515                                          {'id': '0'}\n",
       "Name: Комплектация, dtype: object"
      ]
     },
     "execution_count": 155,
     "metadata": {},
     "output_type": "execute_result"
    }
   ],
   "source": [
    "train.Комплектация.sample(5)"
   ]
  },
  {
   "cell_type": "markdown",
   "id": "c8973a9f",
   "metadata": {},
   "source": [
    "Есть скрытые пропуски, посмотрим, может быть в них есть взаимосвязь."
   ]
  },
  {
   "cell_type": "code",
   "execution_count": 195,
   "id": "199dbd20",
   "metadata": {
    "ExecuteTime": {
     "end_time": "2022-04-10T14:45:59.578829Z",
     "start_time": "2022-04-10T14:45:59.526826Z"
    }
   },
   "outputs": [
    {
     "data": {
      "text/html": [
       "<div>\n",
       "<style scoped>\n",
       "    .dataframe tbody tr th:only-of-type {\n",
       "        vertical-align: middle;\n",
       "    }\n",
       "\n",
       "    .dataframe tbody tr th {\n",
       "        vertical-align: top;\n",
       "    }\n",
       "\n",
       "    .dataframe thead th {\n",
       "        text-align: right;\n",
       "    }\n",
       "</style>\n",
       "<table border=\"1\" class=\"dataframe\">\n",
       "  <thead>\n",
       "    <tr style=\"text-align: right;\">\n",
       "      <th></th>\n",
       "      <th>bodyType</th>\n",
       "      <th>brand</th>\n",
       "      <th>color</th>\n",
       "      <th>fuelType</th>\n",
       "      <th>modelDate</th>\n",
       "      <th>name</th>\n",
       "      <th>numberOfDoors</th>\n",
       "      <th>productionDate</th>\n",
       "      <th>vehicleConfiguration</th>\n",
       "      <th>vehicleTransmission</th>\n",
       "      <th>...</th>\n",
       "      <th>Руль</th>\n",
       "      <th>Состояние</th>\n",
       "      <th>Владельцы</th>\n",
       "      <th>ПТС</th>\n",
       "      <th>Таможня</th>\n",
       "      <th>Владение</th>\n",
       "      <th>price</th>\n",
       "      <th>start_date</th>\n",
       "      <th>hidden</th>\n",
       "      <th>model</th>\n",
       "    </tr>\n",
       "  </thead>\n",
       "  <tbody>\n",
       "    <tr>\n",
       "      <th>55620</th>\n",
       "      <td>Хэтчбек 5 дв.</td>\n",
       "      <td>PEUGEOT</td>\n",
       "      <td>FAFBFB</td>\n",
       "      <td>бензин</td>\n",
       "      <td>2007.0</td>\n",
       "      <td>1.6 AT (120 л.с.)</td>\n",
       "      <td>5.0</td>\n",
       "      <td>2008</td>\n",
       "      <td>HATCHBACK_5_DOORS AUTOMATIC 1.6</td>\n",
       "      <td>AUTOMATIC</td>\n",
       "      <td>...</td>\n",
       "      <td>LEFT</td>\n",
       "      <td>NaN</td>\n",
       "      <td>2.0</td>\n",
       "      <td>ORIGINAL</td>\n",
       "      <td>True</td>\n",
       "      <td>NaN</td>\n",
       "      <td>250000.0</td>\n",
       "      <td>2019-03-03T12:10:23Z</td>\n",
       "      <td>NaN</td>\n",
       "      <td>308</td>\n",
       "    </tr>\n",
       "    <tr>\n",
       "      <th>37003</th>\n",
       "      <td>Внедорожник 5 дв.</td>\n",
       "      <td>KIA</td>\n",
       "      <td>040001</td>\n",
       "      <td>дизель</td>\n",
       "      <td>2006.0</td>\n",
       "      <td>2.5d AT (170 л.с.) 4WD</td>\n",
       "      <td>5.0</td>\n",
       "      <td>2009</td>\n",
       "      <td>ALLROAD_5_DOORS AUTOMATIC 2.5d</td>\n",
       "      <td>AUTOMATIC</td>\n",
       "      <td>...</td>\n",
       "      <td>LEFT</td>\n",
       "      <td>NaN</td>\n",
       "      <td>3.0</td>\n",
       "      <td>ORIGINAL</td>\n",
       "      <td>True</td>\n",
       "      <td>{'year': 2014, 'month': 5}</td>\n",
       "      <td>570000.0</td>\n",
       "      <td>2018-04-14T08:07:57Z</td>\n",
       "      <td>NaN</td>\n",
       "      <td>SORENTO</td>\n",
       "    </tr>\n",
       "    <tr>\n",
       "      <th>81503</th>\n",
       "      <td>Седан</td>\n",
       "      <td>MERCEDES</td>\n",
       "      <td>C49648</td>\n",
       "      <td>бензин</td>\n",
       "      <td>2006.0</td>\n",
       "      <td>200 1.8 AT (184 л.с.)</td>\n",
       "      <td>4.0</td>\n",
       "      <td>2007</td>\n",
       "      <td>SEDAN AUTOMATIC 200</td>\n",
       "      <td>AUTOMATIC</td>\n",
       "      <td>...</td>\n",
       "      <td>LEFT</td>\n",
       "      <td>NaN</td>\n",
       "      <td>1.0</td>\n",
       "      <td>ORIGINAL</td>\n",
       "      <td>True</td>\n",
       "      <td>NaN</td>\n",
       "      <td>620000.0</td>\n",
       "      <td>2020-09-07T19:20:00Z</td>\n",
       "      <td>NaN</td>\n",
       "      <td>C_KLASSE</td>\n",
       "    </tr>\n",
       "    <tr>\n",
       "      <th>7541</th>\n",
       "      <td>Седан</td>\n",
       "      <td>BMW</td>\n",
       "      <td>CACECB</td>\n",
       "      <td>бензин</td>\n",
       "      <td>1995.0</td>\n",
       "      <td>528i 2.8 MT (193 л.с.)</td>\n",
       "      <td>4.0</td>\n",
       "      <td>1999</td>\n",
       "      <td>SEDAN MECHANICAL 528i</td>\n",
       "      <td>MECHANICAL</td>\n",
       "      <td>...</td>\n",
       "      <td>LEFT</td>\n",
       "      <td>NaN</td>\n",
       "      <td>3.0</td>\n",
       "      <td>DUPLICATE</td>\n",
       "      <td>True</td>\n",
       "      <td>NaN</td>\n",
       "      <td>200000.0</td>\n",
       "      <td>2020-08-14T13:22:09Z</td>\n",
       "      <td>NaN</td>\n",
       "      <td>5ER</td>\n",
       "    </tr>\n",
       "  </tbody>\n",
       "</table>\n",
       "<p>4 rows × 26 columns</p>\n",
       "</div>"
      ],
      "text/plain": [
       "                bodyType     brand   color fuelType  modelDate  \\\n",
       "55620      Хэтчбек 5 дв.   PEUGEOT  FAFBFB   бензин     2007.0   \n",
       "37003  Внедорожник 5 дв.       KIA  040001   дизель     2006.0   \n",
       "81503              Седан  MERCEDES  C49648   бензин     2006.0   \n",
       "7541               Седан       BMW  CACECB   бензин     1995.0   \n",
       "\n",
       "                         name  numberOfDoors  productionDate  \\\n",
       "55620       1.6 AT (120 л.с.)            5.0            2008   \n",
       "37003  2.5d AT (170 л.с.) 4WD            5.0            2009   \n",
       "81503   200 1.8 AT (184 л.с.)            4.0            2007   \n",
       "7541   528i 2.8 MT (193 л.с.)            4.0            1999   \n",
       "\n",
       "                  vehicleConfiguration vehicleTransmission  ...  Руль  \\\n",
       "55620  HATCHBACK_5_DOORS AUTOMATIC 1.6           AUTOMATIC  ...  LEFT   \n",
       "37003   ALLROAD_5_DOORS AUTOMATIC 2.5d           AUTOMATIC  ...  LEFT   \n",
       "81503              SEDAN AUTOMATIC 200           AUTOMATIC  ...  LEFT   \n",
       "7541             SEDAN MECHANICAL 528i          MECHANICAL  ...  LEFT   \n",
       "\n",
       "       Состояние Владельцы        ПТС Таможня                    Владение  \\\n",
       "55620        NaN       2.0   ORIGINAL    True                         NaN   \n",
       "37003        NaN       3.0   ORIGINAL    True  {'year': 2014, 'month': 5}   \n",
       "81503        NaN       1.0   ORIGINAL    True                         NaN   \n",
       "7541         NaN       3.0  DUPLICATE    True                         NaN   \n",
       "\n",
       "          price            start_date  hidden     model  \n",
       "55620  250000.0  2019-03-03T12:10:23Z     NaN       308  \n",
       "37003  570000.0  2018-04-14T08:07:57Z     NaN   SORENTO  \n",
       "81503  620000.0  2020-09-07T19:20:00Z     NaN  C_KLASSE  \n",
       "7541   200000.0  2020-08-14T13:22:09Z     NaN       5ER  \n",
       "\n",
       "[4 rows x 26 columns]"
      ]
     },
     "execution_count": 195,
     "metadata": {},
     "output_type": "execute_result"
    }
   ],
   "source": [
    "train[train.Комплектация == \"{'id': '0'}\"].sample(4)"
   ]
  },
  {
   "cell_type": "markdown",
   "id": "3458608c",
   "metadata": {},
   "source": [
    "Взаимосвязи нет, это просто отсутсвующие данные"
   ]
  },
  {
   "cell_type": "code",
   "execution_count": 196,
   "id": "2ba42688",
   "metadata": {
    "ExecuteTime": {
     "end_time": "2022-04-10T14:48:06.863537Z",
     "start_time": "2022-04-10T14:48:06.826530Z"
    }
   },
   "outputs": [
    {
     "name": "stdout",
     "output_type": "stream",
     "text": [
      "Заполненность данными: 0.3384278010248607\n"
     ]
    }
   ],
   "source": [
    "train_comp = []\n",
    "for i in train.Комплектация:\n",
    "    if i == \"{'id': '0'}\": train_comp.append(None)\n",
    "    else: train_comp.append(i)\n",
    "    \n",
    "train_comp = pd.Series(train_comp)\n",
    "na_ratio(pd.Series(train_comp).isna())"
   ]
  },
  {
   "cell_type": "code",
   "execution_count": 158,
   "id": "7d8e7e32",
   "metadata": {
    "ExecuteTime": {
     "end_time": "2022-04-10T11:13:51.738393Z",
     "start_time": "2022-04-10T11:13:51.731393Z"
    }
   },
   "outputs": [
    {
     "data": {
      "text/plain": [
       "\"{'id': '9279347', 'name': 'Comfort Plus', 'available_options': ['airbag-passenger', 'lock', 'electro-mirrors', 'mirrors-heat', 'computer', 'wheel-power', 'fabric-seats', 'abs', 'audiopreparation', 'condition', '15-inch-wheels', 'airbag-driver', 'isofix', 'aux', 'electro-window-front', 'paint-metallic', 'ptf', 'audiosystem-cd', 'front-seats-heat', 'bluetooth', 'wheel-configuration1', 'immo', 'third-rear-headrest'], 'vendor_colors': [{'body_color_id': 21429391, 'mark_color_id': 21415162, 'name_ru': 'Серебристый', 'hex_codes': ['90969A'], 'color_type': 'METALLIC', 'stock_color': {'hex_code': 'CACECB', 'name_ru': 'серебряный'}, 'photos': [{'name': '34-front', 'sizes': {'orig': '//avatars.mds.yandex.net/get-verba/997355/2a000001690b89b587d087e90e73dcdcbff6/orig', 'wizardv3mr': '//avatars.mds.yandex.net/get-verba/997355/2a000001690b89b587d087e90e73dcdcbff6/wizardv3mr', 'wizardv3': '//avatars.mds.yandex.net/get-verba/997355/2a000001690b89b587d087e90e73dcdcbff6/wizardv3', 'cattouch': '//avatars.mds.yandex.net/get-verba/997355/2a000001690b89b587d087e90e73dcdcbff6/cattouch', 'small': '//avatars.mds.yandex.net/get-verba/997355/2a000001690b89b587d087e90e73dcdcbff6/small', '320x240': '//avatars.mds.yandex.net/get-verba/997355/2a000001690b89b587d087e90e73dcdcbff6/320x240', '1200x900': '//avatars.mds.yandex.net/get-verba/997355/2a000001690b89b587d087e90e73dcdcbff6/1200x900', '1200x900n': '//avatars.mds.yandex.net/get-verba/997355/2a000001690b89b587d087e90e73dcdcbff6/1200x900n', 'thumb_m': '//avatars.mds.yandex.net/get-verba/997355/2a000001690b89b587d087e90e73dcdcbff6/thumb_m', 'full': '//avatars.mds.yandex.net/get-verba/997355/2a000001690b89b587d087e90e73dcdcbff6/full', '832x624': '//avatars.mds.yandex.net/get-verba/997355/2a000001690b89b587d087e90e73dcdcbff6/832x624', '456x342': '//avatars.mds.yandex.net/get-verba/997355/2a000001690b89b587d087e90e73dcdcbff6/456x342', '120x90': '//avatars.mds.yandex.net/get-verba/997355/2a000001690b89b587d087e90e73dcdcbff6/120x90', '92x69': '//avatars.mds.yandex.net/get-verba/997355/2a000001690b89b587d087e90e73dcdcbff6/92x69', 'islandoff': '//avatars.mds.yandex.net/get-verba/997355/2a000001690b89b587d087e90e73dcdcbff6/islandoff', 'thumb_s': '//avatars.mds.yandex.net/get-verba/997355/2a000001690b89b587d087e90e73dcdcbff6/thumb_s', 'thumb_s_2x': '//avatars.mds.yandex.net/get-verba/997355/2a000001690b89b587d087e90e73dcdcbff6/thumb_s_2x'}}], 'main_color': False}]}\""
      ]
     },
     "execution_count": 158,
     "metadata": {},
     "output_type": "execute_result"
    }
   ],
   "source": [
    "train.Комплектация[46348]"
   ]
  },
  {
   "cell_type": "markdown",
   "id": "d12dc14c",
   "metadata": {
    "ExecuteTime": {
     "end_time": "2022-04-10T14:35:31.783642Z",
     "start_time": "2022-04-10T14:35:31.774651Z"
    }
   },
   "source": [
    "Данных совем немного, колонка считай одно и тоже, что test.complectation_dict. Их обеих не будет в чистовом датасете. \n",
    "В этом словаре есть цвет и тип краски, доступные опции в конкретной комплектации автомобиля и картинка\n",
    "\n",
    "\n",
    "![img](https://avatars.mds.yandex.net/get-verba/997355/2a000001690b89b587d087e90e73dcdcbff6/cattouch)\n",
    "\n",
    "Я бы дал этому автомобилю 500 тысяч. Модель тоже можно научить делать предсказания по фотографии, но в рамках проекта это серьезная гиперреазация. Благо данных мало в тестовом датасете, да и времени всего ничего, об этом можно и не думать."
   ]
  },
  {
   "cell_type": "code",
   "execution_count": 230,
   "id": "71b068b9",
   "metadata": {
    "ExecuteTime": {
     "end_time": "2022-04-10T15:29:02.248718Z",
     "start_time": "2022-04-10T15:29:02.230714Z"
    }
   },
   "outputs": [
    {
     "data": {
      "text/plain": [
       "['model_info',\n",
       " 'equipment_dict',\n",
       " 'super_gen',\n",
       " 'vendor',\n",
       " 'priceCurrency',\n",
       " 'sell_id',\n",
       " 'car_url',\n",
       " 'image']"
      ]
     },
     "metadata": {},
     "output_type": "display_data"
    },
    {
     "data": {
      "text/plain": [
       "[]"
      ]
     },
     "metadata": {},
     "output_type": "display_data"
    }
   ],
   "source": [
    "d.delc('complectation_dict',drop=True)\n",
    "d.delc('Комплектация',drop=True)\n",
    "\n",
    "d.show()"
   ]
  },
  {
   "cell_type": "markdown",
   "id": "8a97b712",
   "metadata": {},
   "source": [
    "### Потери данных\n",
    "\n",
    "Теперь можно взгялнуть на оставшиеся данные и понять, какие ценные признаки не имеет тренировочный датасет"
   ]
  },
  {
   "cell_type": "code",
   "execution_count": 286,
   "id": "a263ddd7",
   "metadata": {
    "ExecuteTime": {
     "end_time": "2022-04-10T16:03:56.564753Z",
     "start_time": "2022-04-10T16:03:56.555752Z"
    }
   },
   "outputs": [
    {
     "data": {
      "text/plain": [
       "'{\"code\":\"OCTAVIA\",\"name\":\"Octavia\",\"ru_name\":\"Октавия\",\"morphology\":{\"gender\":\"FEMININE\"},\"nameplate\":{\"code\":\"\",\"name\":\"\",\"semantic_url\":\"\"}}'"
      ]
     },
     "execution_count": 286,
     "metadata": {},
     "output_type": "execute_result"
    }
   ],
   "source": [
    "test.model_info[0]"
   ]
  },
  {
   "cell_type": "markdown",
   "id": "f829b402",
   "metadata": {},
   "source": [
    "Неинформативный столбец"
   ]
  },
  {
   "cell_type": "code",
   "execution_count": 237,
   "id": "0d9829df",
   "metadata": {
    "ExecuteTime": {
     "end_time": "2022-04-10T15:33:15.150989Z",
     "start_time": "2022-04-10T15:33:15.145989Z"
    }
   },
   "outputs": [],
   "source": [
    "d.delc('model_info')"
   ]
  },
  {
   "cell_type": "code",
   "execution_count": 239,
   "id": "e04272c9",
   "metadata": {
    "ExecuteTime": {
     "end_time": "2022-04-10T15:33:40.598649Z",
     "start_time": "2022-04-10T15:33:40.579646Z"
    }
   },
   "outputs": [
    {
     "data": {
      "text/plain": [
       "['equipment_dict',\n",
       " 'super_gen',\n",
       " 'vendor',\n",
       " 'priceCurrency',\n",
       " 'sell_id',\n",
       " 'car_url',\n",
       " 'image']"
      ]
     },
     "metadata": {},
     "output_type": "display_data"
    },
    {
     "data": {
      "text/plain": [
       "[]"
      ]
     },
     "metadata": {},
     "output_type": "display_data"
    }
   ],
   "source": [
    "d.show()"
   ]
  },
  {
   "cell_type": "markdown",
   "id": "8bf0b5a2",
   "metadata": {},
   "source": [
    "#### equipment_dict"
   ]
  },
  {
   "cell_type": "code",
   "execution_count": 249,
   "id": "b98fe180",
   "metadata": {
    "ExecuteTime": {
     "end_time": "2022-04-10T15:36:47.695432Z",
     "start_time": "2022-04-10T15:36:47.690431Z"
    }
   },
   "outputs": [
    {
     "name": "stdout",
     "output_type": "stream",
     "text": [
      "Первый экземляр авто {\"cruise-control\":true,\"asr\":true,\"esp\":true,\"airbag-driver\":true,\"isofix\":true,\"usb\":true,\"light-sensor\":true,\"airbag-passenger\":true,\"computer\":true,\"wheel-power\":true,\"alarm\":true,\"lock\":true,\"fabric-seats\":true,\"electro-mirrors\":true,\"drl\":true,\"electro-window-back\":true,\"alloy-wheel-disks\":true,\"16-inch-wheels\":true,\"ptf\":true,\"rain-sensor\":true,\"airbag-side\":true,\"tyre-pressure\":true,\"mirrors-heat\":true,\"dark-interior\":true,\"driver-seat-updown\":true,\"wheel-heat\":true,\"abs\":true,\"front-seats-heat\":true,\"bluetooth\":true,\"wheel-configuration2\":true,\"immo\":true,\"windscreen-heat\":true,\"climate-control-2\":true,\"park-assist-r\":true} \n",
      "\n",
      "\n",
      "Второй экземляр авто {\"cruise-control\":true,\"roller-blind-for-rear-window\":true,\"tinted-glass\":true,\"esp\":true,\"usb\":true,\"multi-wheel\":true,\"spare-wheel\":true,\"heated-wash-system\":true,\"ashtray-and-cigarette-lighter\":true,\"airbag-passenger\":true,\"front-centre-armrest\":true,\"navigation\":true,\"lock\":true,\"door-sill-panel\":true,\"electro-mirrors\":true,\"electro-window-back\":true,\"16-inch-wheels\":true,\"mirrors-heat\":true,\"dark-interior\":true,\"folding-front-passenger-seat\":true,\"park-assist-r\":true,\"engine-proof\":true,\"airbag-driver\":true,\"aux\":true,\"isofix\":true,\"electro-window-front\":true,\"light-sensor\":true,\"hcc\":true,\"computer\":true,\"high-beam-assist\":true,\"programmed-block-heater\":true,\"seat-transformation\":true,\"wheel-power\":true,\"alarm\":true,\"light-cleaner\":true,\"fabric-seats\":true,\"alloy-wheel-disks\":true,\"ptf\":true,\"rain-sensor\":true,\"airbag-side\":true,\"tyre-pressure\":true,\"audiosystem-cd\":true,\"abs\":true,\"bluetooth\":true,\"front-seats-heat\":true,\"wheel-configuration2\":true,\"wheel-configuration1\":true,\"immo\":true,\"climate-control-2\":true,\"windscreen-heat\":true,\"auto-mirrors\":true,\"12v-socket\":true}\n"
     ]
    }
   ],
   "source": [
    "print('Первый экземляр авто',test.equipment_dict[1],'\\n\\n')\n",
    "print('Второй экземляр авто',test.equipment_dict[3])"
   ]
  },
  {
   "cell_type": "markdown",
   "id": "2d5d4214",
   "metadata": {},
   "source": [
    "Колонка перечисляет оснащенные опции автомобиля, которые к тому же преведены к общему виду. Весьма полезная информация для точного определения цены. Жаль, что в тренеровочном датасете нет таких данных, но с другой стороны, хорошо, что нет именно их, потому что часто автомобиль продаётся с уже предустановленными опциями в нескольких комплектациях от производителя, что можно хорошо кластеризовать"
   ]
  },
  {
   "cell_type": "markdown",
   "id": "eee68a79",
   "metadata": {},
   "source": [
    "#### super_gen"
   ]
  },
  {
   "cell_type": "markdown",
   "id": "2979edc9",
   "metadata": {
    "ExecuteTime": {
     "end_time": "2022-04-10T15:47:00.017662Z",
     "start_time": "2022-04-10T15:46:59.997659Z"
    }
   },
   "source": [
    "Это словарь с общими характеристиками автомобиля, не заисящими от бренда\n",
    "\n",
    "| Ключ          | Значение              | Пояснение                                                                             |\n",
    "| ------------- | --------------------- | ------------------------------------------------------------------------------------- |\n",
    "| id            | 20228954              | неинформативный номер                                                                 |\n",
    "| displacement  | 1969                  | Рабочий объём двигателя в $см^2$                                                      |\n",
    "| engine_type   | GASOLINE              | Тип двигателя(топливо)                                                                |\n",
    "| gear_type     | ALL_WHEEL_DRIVE       | Тип привода                                                                           |\n",
    "| transmission  | AUTOMATIC             | Коробка передач                                                                       |\n",
    "| power         | 320                   | мощность двигателя в лошадиных силах                                                  |\n",
    "| power_kvt     | 235                   | мощность двигателя в киловатах                                                        |\n",
    "| human_name    | 2.0 AT (320 л.с.) 4WD | Краткие Обозначения объема двигателя, коробки передач, лошадиных сил и типа привода   |\n",
    "| acceleration  | 6.5                   | Количество секунд для разгона до сотни км/ч                                           |\n",
    "| clearance_min | 237                   | Дорожный просвет - расстояние от дна автомобился до поверхности асфальта в милиметрах |\n",
    "| fuel_rate     | 8                     | Расход топлива в литрах на 100 км                                                     |\n"
   ]
  },
  {
   "cell_type": "markdown",
   "id": "d42a991f",
   "metadata": {},
   "source": [
    "В тренировочном датасете из этого словаря  нет:\n",
    "- Количество секунд до разгона до сотни км/ч\n",
    "- Дорожный просвет\n",
    "- Расход топлива в литрах\n",
    "\n",
    "И это серьезные потери важных показателей, особенно разгон и расход топлива"
   ]
  },
  {
   "cell_type": "code",
   "execution_count": 266,
   "id": "69152ab9",
   "metadata": {
    "ExecuteTime": {
     "end_time": "2022-04-10T15:48:26.856629Z",
     "start_time": "2022-04-10T15:48:26.843627Z"
    }
   },
   "outputs": [
    {
     "data": {
      "text/plain": [
       "'{\"id\":\"20913311\",\"displacement\":1598,\"engine_type\":\"GASOLINE\",\"gear_type\":\"FORWARD_CONTROL\",\"transmission\":\"MECHANICAL\",\"power\":110,\"power_kvt\":81,\"human_name\":\"1.6 MT (110 л.с.)\",\"acceleration\":10.8,\"clearance_min\":156,\"fuel_rate\":6.4}'"
      ]
     },
     "execution_count": 266,
     "metadata": {},
     "output_type": "execute_result"
    }
   ],
   "source": [
    "test.super_gen[1]"
   ]
  },
  {
   "cell_type": "code",
   "execution_count": 291,
   "id": "51c5321f",
   "metadata": {
    "ExecuteTime": {
     "end_time": "2022-04-10T16:05:55.138039Z",
     "start_time": "2022-04-10T16:05:55.132048Z"
    }
   },
   "outputs": [
    {
     "data": {
      "text/plain": [
       "('110 N12', 174.0)"
      ]
     },
     "execution_count": 291,
     "metadata": {},
     "output_type": "execute_result"
    }
   ],
   "source": [
    "test.enginePower[1], train.enginePower[0] "
   ]
  },
  {
   "cell_type": "markdown",
   "id": "92ff19dc",
   "metadata": {},
   "source": [
    "Теперь известно, что мощность двигателя в тренировочном датасете указанна в лошадиных силах. Можно предпложить, что в тренировочном - тоже. #проверить"
   ]
  },
  {
   "cell_type": "code",
   "execution_count": 258,
   "id": "ec543eec",
   "metadata": {
    "ExecuteTime": {
     "end_time": "2022-04-10T15:44:42.286436Z",
     "start_time": "2022-04-10T15:44:42.270810Z"
    }
   },
   "outputs": [
    {
     "data": {
      "text/plain": [
       "['ПТС',\n",
       " 'enginePower',\n",
       " 'bodyType',\n",
       " 'Владение',\n",
       " 'brand',\n",
       " 'fuelType',\n",
       " 'Привод',\n",
       " 'name',\n",
       " 'vehicleTransmission',\n",
       " 'color',\n",
       " 'Владельцы',\n",
       " 'productionDate',\n",
       " 'engineDisplacement',\n",
       " 'description',\n",
       " 'vehicleConfiguration',\n",
       " 'Руль',\n",
       " 'mileage',\n",
       " 'Таможня',\n",
       " 'numberOfDoors',\n",
       " 'modelDate',\n",
       " 'Состояние']"
      ]
     },
     "execution_count": 258,
     "metadata": {},
     "output_type": "execute_result"
    }
   ],
   "source": [
    "union_data_columns"
   ]
  },
  {
   "cell_type": "markdown",
   "id": "a7e3c7aa",
   "metadata": {},
   "source": [
    "#### and this"
   ]
  },
  {
   "cell_type": "markdown",
   "id": "a51124f3",
   "metadata": {
    "ExecuteTime": {
     "end_time": "2022-04-08T19:20:19.430162Z",
     "start_time": "2022-04-08T19:20:19.416160Z"
    }
   },
   "source": [
    "По сути, есть важная информация - Комлпектация. Но судя по всему много пропусков. Возможно датасеты дополнят друг-друга"
   ]
  },
  {
   "cell_type": "code",
   "execution_count": null,
   "id": "756dcc0d",
   "metadata": {
    "ExecuteTime": {
     "end_time": "2022-04-09T12:06:30.775792Z",
     "start_time": "2022-04-09T12:06:30.775792Z"
    }
   },
   "outputs": [],
   "source": [
    "dt.strptime(\"2018-01-31\", \"%Y-%m-%d\")"
   ]
  },
  {
   "cell_type": "code",
   "execution_count": null,
   "id": "cdaa995d",
   "metadata": {
    "ExecuteTime": {
     "end_time": "2022-04-09T12:06:30.777793Z",
     "start_time": "2022-04-09T12:06:30.777793Z"
    }
   },
   "outputs": [],
   "source": [
    "train.start_date[0]"
   ]
  },
  {
   "cell_type": "code",
   "execution_count": null,
   "id": "7a7be37f",
   "metadata": {
    "ExecuteTime": {
     "end_time": "2022-04-09T12:06:30.778793Z",
     "start_time": "2022-04-09T12:06:30.778793Z"
    }
   },
   "outputs": [],
   "source": [
    "#dt.strptime('2019-10-03T08:09:11Z', \"%Y-%m-%ddhh:mm:ssZ\")"
   ]
  },
  {
   "cell_type": "code",
   "execution_count": null,
   "id": "f4763051",
   "metadata": {
    "ExecuteTime": {
     "end_time": "2022-04-09T12:06:30.779794Z",
     "start_time": "2022-04-09T12:06:30.779794Z"
    }
   },
   "outputs": [],
   "source": [
    "test.columns"
   ]
  },
  {
   "cell_type": "markdown",
   "id": "0e8d3b09",
   "metadata": {},
   "source": [
    "### "
   ]
  },
  {
   "cell_type": "markdown",
   "id": "64fff3ff",
   "metadata": {},
   "source": [
    "Нужно сделать признак того, что машина имеет нулевой пробег или нет"
   ]
  },
  {
   "cell_type": "markdown",
   "id": "303faa54",
   "metadata": {},
   "source": [
    "# Предобработка "
   ]
  },
  {
   "cell_type": "markdown",
   "id": "4c45aa6f",
   "metadata": {
    "ExecuteTime": {
     "end_time": "2022-04-08T16:31:18.264098Z",
     "start_time": "2022-04-08T16:31:18.262098Z"
    }
   },
   "source": [
    "# Генерация фич"
   ]
  },
  {
   "cell_type": "markdown",
   "id": "04331bd8",
   "metadata": {},
   "source": [
    "# Модели\n",
    "\n",
    "\n",
    "\n",
    "Были опробованны модели:\n",
    "- [Logistic regression](./secondary_notebooks/linear_regression.ipynb) \n",
    "- Desicion tree\n",
    "- DBSCAN\n",
    "- ..."
   ]
  },
  {
   "cell_type": "code",
   "execution_count": 95,
   "id": "97648bd9",
   "metadata": {
    "ExecuteTime": {
     "end_time": "2022-04-09T12:06:32.126996Z",
     "start_time": "2022-04-09T12:06:32.105991Z"
    }
   },
   "outputs": [
    {
     "data": {
      "application/vnd.jupyter.widget-view+json": {
       "model_id": "e7acb80e2ef04445b9c2385345ec8b6a",
       "version_major": 2,
       "version_minor": 0
      },
      "text/plain": [
       "Button(button_style='success', description='Я линейная!', style=ButtonStyle())"
      ]
     },
     "metadata": {},
     "output_type": "display_data"
    }
   ],
   "source": [
    "'''Если нажать - через три минуты покажется результат \"лучшей модели\"   '''\n",
    "\n",
    "from IPython.display import display\n",
    "from ipywidgets import Button \n",
    "\n",
    "# Создаем кнопку с нужными параметрами\n",
    "button1 = Button(description=\"Я линейная!\", \n",
    "                        button_style='success'  )\n",
    "\n",
    "def on_button_clicked(b): # Описываем обработчик события\n",
    "    %run ./secondary_notebooks/linear_regression.ipynb\n",
    "button1.on_click(on_button_clicked) # Назначаем этот обработчик на событие \"on_click\"\n",
    "\n",
    "display(button1) # Отображаем кнопку "
   ]
  }
 ],
 "metadata": {
  "kernelspec": {
   "display_name": "Python 3 (ipykernel)",
   "language": "python",
   "name": "python3"
  },
  "language_info": {
   "codemirror_mode": {
    "name": "ipython",
    "version": 3
   },
   "file_extension": ".py",
   "mimetype": "text/x-python",
   "name": "python",
   "nbconvert_exporter": "python",
   "pygments_lexer": "ipython3",
   "version": "3.10.4"
  },
  "latex_envs": {
   "LaTeX_envs_menu_present": true,
   "autoclose": false,
   "autocomplete": true,
   "bibliofile": "biblio.bib",
   "cite_by": "apalike",
   "current_citInitial": 1,
   "eqLabelWithNumbers": true,
   "eqNumInitial": 1,
   "hotkeys": {
    "equation": "Ctrl-E",
    "itemize": "Ctrl-I"
   },
   "labels_anchors": false,
   "latex_user_defs": false,
   "report_style_numbering": false,
   "user_envs_cfg": false
  },
  "toc": {
   "base_numbering": 1,
   "nav_menu": {
    "height": "579px",
    "width": "307px"
   },
   "number_sections": true,
   "sideBar": true,
   "skip_h1_title": false,
   "title_cell": "Table of Contents",
   "title_sidebar": "Contents",
   "toc_cell": false,
   "toc_position": {
    "height": "calc(100% - 180px)",
    "left": "10px",
    "top": "150px",
    "width": "252px"
   },
   "toc_section_display": true,
   "toc_window_display": true
  },
  "varInspector": {
   "cols": {
    "lenName": 16,
    "lenType": 16,
    "lenVar": 40
   },
   "kernels_config": {
    "python": {
     "delete_cmd_postfix": "",
     "delete_cmd_prefix": "del ",
     "library": "var_list.py",
     "varRefreshCmd": "print(var_dic_list())"
    },
    "r": {
     "delete_cmd_postfix": ") ",
     "delete_cmd_prefix": "rm(",
     "library": "var_list.r",
     "varRefreshCmd": "cat(var_dic_list()) "
    }
   },
   "types_to_exclude": [
    "module",
    "function",
    "builtin_function_or_method",
    "instance",
    "_Feature"
   ],
   "window_display": false
  }
 },
 "nbformat": 4,
 "nbformat_minor": 5
}
