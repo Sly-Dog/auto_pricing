{
 "cells": [
  {
   "cell_type": "markdown",
   "metadata": {},
   "source": [
    "# Initialization"
   ]
  },
  {
   "cell_type": "code",
   "execution_count": 41,
   "metadata": {
    "ExecuteTime": {
     "end_time": "2022-04-05T15:12:33.806728Z",
     "start_time": "2022-04-05T15:12:33.780723Z"
    }
   },
   "outputs": [],
   "source": [
    "# Устанавливается необходимая версия пакетов для воспроизводимости экспирементов\n",
    "# А так же для установки всех недостающих зависимостей\n",
    "\n",
    "'''Windows'''\n",
    "#!python -m venv venv\n",
    "#!.\\venv\\Scripts\\activate\n",
    "#!pip install -r requirements.txt\n",
    "\n",
    "'''Linux''';\n",
    "#!python -m venv venv  \n",
    "#!source ./venv/bin/activate  \n",
    "#!pip install -r requirements.txt"
   ]
  },
  {
   "cell_type": "code",
   "execution_count": 42,
   "metadata": {
    "ExecuteTime": {
     "end_time": "2022-04-05T15:12:35.525063Z",
     "start_time": "2022-04-05T15:12:33.808733Z"
    }
   },
   "outputs": [],
   "source": [
    "import numpy as np # linear algebra\n",
    "import pandas as pd # data processing, CSV file I/O (e.g. pd.read_csv)\n",
    "import sys\n",
    "import re\n",
    "import matplotlib.pyplot as plt\n",
    "from sklearn.model_selection import train_test_split\n",
    "from sklearn.model_selection import KFold\n",
    "from tqdm.notebook import tqdm\n",
    "from catboost import CatBoostRegressor\n",
    "from sklearn.preprocessing import LabelEncoder"
   ]
  },
  {
   "cell_type": "code",
   "execution_count": 43,
   "metadata": {
    "ExecuteTime": {
     "end_time": "2022-04-05T15:12:35.541067Z",
     "start_time": "2022-04-05T15:12:35.526064Z"
    }
   },
   "outputs": [
    {
     "name": "stdout",
     "output_type": "stream",
     "text": [
      "Python       : 3.8.5 (default, Sep  3 2020, 21:29:08) [MSC v.1916 64 bit (AMD64)]\n",
      "Numpy        : 1.19.2\n"
     ]
    }
   ],
   "source": [
    "print('Python       :', sys.version.split('\\n')[0])\n",
    "print('Numpy        :', np.__version__)"
   ]
  },
  {
   "cell_type": "code",
   "execution_count": 44,
   "metadata": {
    "ExecuteTime": {
     "end_time": "2022-04-05T15:12:35.557070Z",
     "start_time": "2022-04-05T15:12:35.543068Z"
    }
   },
   "outputs": [],
   "source": [
    "# зафиксируем версию пакетов, чтобы эксперименты были воспроизводимы:\n",
    "# !pip freeze > requirements.txt"
   ]
  },
  {
   "cell_type": "code",
   "execution_count": 45,
   "metadata": {
    "ExecuteTime": {
     "end_time": "2022-04-05T15:12:35.573074Z",
     "start_time": "2022-04-05T15:12:35.558071Z"
    }
   },
   "outputs": [],
   "source": [
    "# всегда фиксируйте RANDOM_SEED, чтобы ваши эксперименты были воспроизводимы!\n",
    "RANDOM_SEED = 42"
   ]
  },
  {
   "cell_type": "markdown",
   "metadata": {},
   "source": [
    "# functions"
   ]
  },
  {
   "cell_type": "code",
   "execution_count": 46,
   "metadata": {
    "ExecuteTime": {
     "end_time": "2022-04-05T15:12:35.589078Z",
     "start_time": "2022-04-05T15:12:35.574074Z"
    }
   },
   "outputs": [],
   "source": [
    "def mape(y_true, y_pred):\n",
    "    return np.mean(np.abs((y_pred-y_true)/y_true))"
   ]
  },
  {
   "cell_type": "markdown",
   "metadata": {},
   "source": [
    "### Data"
   ]
  },
  {
   "cell_type": "code",
   "execution_count": 47,
   "metadata": {
    "ExecuteTime": {
     "end_time": "2022-04-05T15:12:41.087504Z",
     "start_time": "2022-04-05T15:12:35.590078Z"
    }
   },
   "outputs": [],
   "source": [
    "from pathlib import Path  \n",
    "train = pd.read_csv(Path(\"data\", \"all_auto_ru_09_09_2020.csv\"))\n",
    "test = pd.read_csv(Path('data', 'test.csv'))"
   ]
  },
  {
   "cell_type": "markdown",
   "metadata": {},
   "source": [
    "### EDA"
   ]
  },
  {
   "cell_type": "markdown",
   "metadata": {},
   "source": [
    "##### Предварительное сравнение TRAIN и TEST"
   ]
  },
  {
   "cell_type": "code",
   "execution_count": 48,
   "metadata": {
    "ExecuteTime": {
     "end_time": "2022-04-05T15:12:41.215630Z",
     "start_time": "2022-04-05T15:12:41.087504Z"
    }
   },
   "outputs": [
    {
     "name": "stdout",
     "output_type": "stream",
     "text": [
      "<class 'pandas.core.frame.DataFrame'>\n",
      "RangeIndex: 34686 entries, 0 to 34685\n",
      "Data columns (total 32 columns):\n",
      " #   Column                Non-Null Count  Dtype \n",
      "---  ------                --------------  ----- \n",
      " 0   bodyType              34686 non-null  object\n",
      " 1   brand                 34686 non-null  object\n",
      " 2   car_url               34686 non-null  object\n",
      " 3   color                 34686 non-null  object\n",
      " 4   complectation_dict    6418 non-null   object\n",
      " 5   description           34686 non-null  object\n",
      " 6   engineDisplacement    34686 non-null  object\n",
      " 7   enginePower           34686 non-null  object\n",
      " 8   equipment_dict        24690 non-null  object\n",
      " 9   fuelType              34686 non-null  object\n",
      " 10  image                 34686 non-null  object\n",
      " 11  mileage               34686 non-null  int64 \n",
      " 12  modelDate             34686 non-null  int64 \n",
      " 13  model_info            34686 non-null  object\n",
      " 14  model_name            34686 non-null  object\n",
      " 15  name                  34686 non-null  object\n",
      " 16  numberOfDoors         34686 non-null  int64 \n",
      " 17  parsing_unixtime      34686 non-null  int64 \n",
      " 18  priceCurrency         34686 non-null  object\n",
      " 19  productionDate        34686 non-null  int64 \n",
      " 20  sell_id               34686 non-null  int64 \n",
      " 21  super_gen             34686 non-null  object\n",
      " 22  vehicleConfiguration  34686 non-null  object\n",
      " 23  vehicleTransmission   34686 non-null  object\n",
      " 24  vendor                34686 non-null  object\n",
      " 25  Владельцы             34686 non-null  object\n",
      " 26  Владение              11995 non-null  object\n",
      " 27  ПТС                   34685 non-null  object\n",
      " 28  Привод                34686 non-null  object\n",
      " 29  Руль                  34686 non-null  object\n",
      " 30  Состояние             34686 non-null  object\n",
      " 31  Таможня               34686 non-null  object\n",
      "dtypes: int64(6), object(26)\n",
      "memory usage: 8.5+ MB\n"
     ]
    }
   ],
   "source": [
    "test.info()"
   ]
  },
  {
   "cell_type": "code",
   "execution_count": 49,
   "metadata": {
    "ExecuteTime": {
     "end_time": "2022-04-05T15:12:41.421679Z",
     "start_time": "2022-04-05T15:12:41.216632Z"
    }
   },
   "outputs": [
    {
     "name": "stdout",
     "output_type": "stream",
     "text": [
      "<class 'pandas.core.frame.DataFrame'>\n",
      "RangeIndex: 89378 entries, 0 to 89377\n",
      "Data columns (total 26 columns):\n",
      " #   Column                Non-Null Count  Dtype  \n",
      "---  ------                --------------  -----  \n",
      " 0   bodyType              89377 non-null  object \n",
      " 1   brand                 89378 non-null  object \n",
      " 2   color                 89378 non-null  object \n",
      " 3   fuelType              89378 non-null  object \n",
      " 4   modelDate             89377 non-null  float64\n",
      " 5   name                  89377 non-null  object \n",
      " 6   numberOfDoors         89377 non-null  float64\n",
      " 7   productionDate        89378 non-null  int64  \n",
      " 8   vehicleConfiguration  89377 non-null  object \n",
      " 9   vehicleTransmission   89377 non-null  object \n",
      " 10  engineDisplacement    89377 non-null  object \n",
      " 11  enginePower           89377 non-null  float64\n",
      " 12  description           86124 non-null  object \n",
      " 13  mileage               89378 non-null  int64  \n",
      " 14  Комплектация          89378 non-null  object \n",
      " 15  Привод                89377 non-null  object \n",
      " 16  Руль                  89378 non-null  object \n",
      " 17  Состояние             0 non-null      float64\n",
      " 18  Владельцы             75790 non-null  float64\n",
      " 19  ПТС                   89017 non-null  object \n",
      " 20  Таможня               89378 non-null  bool   \n",
      " 21  Владение              29201 non-null  object \n",
      " 22  price                 88968 non-null  float64\n",
      " 23  start_date            89378 non-null  object \n",
      " 24  hidden                0 non-null      float64\n",
      " 25  model                 89378 non-null  object \n",
      "dtypes: bool(1), float64(7), int64(2), object(16)\n",
      "memory usage: 17.1+ MB\n"
     ]
    }
   ],
   "source": [
    "train.info()"
   ]
  },
  {
   "cell_type": "code",
   "execution_count": 50,
   "metadata": {
    "ExecuteTime": {
     "end_time": "2022-04-05T15:12:41.437682Z",
     "start_time": "2022-04-05T15:12:41.424679Z"
    }
   },
   "outputs": [
    {
     "name": "stdout",
     "output_type": "stream",
     "text": [
      "TRAIN Rows = 89378 Columns = 26\n",
      "TEST  Rows = 34686 Columns = 32\n"
     ]
    }
   ],
   "source": [
    "print('TRAIN','Rows =', np.shape(train)[0],'Columns =', np.shape(train)[1], sep=' ')\n",
    "print('TEST ','Rows =', np.shape(test)[0],'Columns =', np.shape(test)[1], sep=' ') "
   ]
  },
  {
   "cell_type": "markdown",
   "metadata": {},
   "source": [
    "Даже простое сравнение по размеру матриц TRAIN и TEST говорит о том, что они не совпадают.\n",
    "\n",
    "Анализ типа и содержания данных в столбце позволит сделать предварительную обработку (представить данные в едином формате), а также ответить на вопрос, есть ли общие данные в несовпадающих (предположительно, по названию) столбцах TRAIN и TEST."
   ]
  },
  {
   "cell_type": "code",
   "execution_count": 51,
   "metadata": {
    "ExecuteTime": {
     "end_time": "2022-04-05T15:12:42.249504Z",
     "start_time": "2022-04-05T15:12:41.438682Z"
    },
    "scrolled": false
   },
   "outputs": [
    {
     "name": "stdout",
     "output_type": "stream",
     "text": [
      "TRAIN Rows = 87264 Columns = 26\n",
      "TEST  Rows = 34686 Columns = 32\n"
     ]
    }
   ],
   "source": [
    "#Удаление дублирующихся строк\n",
    "train_mod = train.drop_duplicates()\n",
    "test_mod = test.drop_duplicates()\n",
    "\n",
    "print('TRAIN','Rows =', np.shape(train_mod)[0],'Columns =', np.shape(train_mod)[1], sep=' ')\n",
    "print('TEST ','Rows =', np.shape(test_mod)[0],'Columns =', np.shape(test_mod)[1], sep=' ') "
   ]
  },
  {
   "cell_type": "code",
   "execution_count": 80,
   "metadata": {},
   "outputs": [
    {
     "name": "stdout",
     "output_type": "stream",
     "text": [
      "Stored 'train_mod' (DataFrame)\n",
      "Stored 'test_mod' (DataFrame)\n"
     ]
    }
   ],
   "source": [
    "#Разбираемся с препроцессингом и потерей половины строк в трейне\n",
    "%store train_mod \n",
    "%store test_mod"
   ]
  },
  {
   "cell_type": "markdown",
   "metadata": {},
   "source": [
    "[Preprocessing_and_thoughts](./secondary_notebooks/Preprocessing_and_thoughts.ipynb)"
   ]
  },
  {
   "cell_type": "markdown",
   "metadata": {},
   "source": [
    "Сравнение размера матриц до и после удаления дубликатов показывает, что TRAIN были дублирующиеся строки, теперь их нет."
   ]
  },
  {
   "cell_type": "markdown",
   "metadata": {},
   "source": [
    "##### Определение общих и различающихся столбцов в TRAIN и TEST"
   ]
  },
  {
   "cell_type": "code",
   "execution_count": 52,
   "metadata": {
    "ExecuteTime": {
     "end_time": "2022-04-05T15:12:42.265500Z",
     "start_time": "2022-04-05T15:12:42.250496Z"
    }
   },
   "outputs": [],
   "source": [
    "#Общие столбцы\n",
    "common_columns = set(test.columns).intersection(train.columns)\n",
    "\n",
    "#Только в TEST\n",
    "test_only_columns = set(test.columns).difference(train.columns)\n",
    "\n",
    "#Только в TRAIN\n",
    "train_only_columns = set(train.columns).difference(test.columns)"
   ]
  },
  {
   "cell_type": "markdown",
   "metadata": {},
   "source": [
    "#### Вопросы для дальнейшего анализа:\n",
    "1. Совпадают ли типы данных в общих столбцах?\n",
    "2. Есть ли сходные по содержанию данные в столбцах с разным названием?\n",
    "3. Есть ли столбцы, которые можно удалить?"
   ]
  },
  {
   "cell_type": "markdown",
   "metadata": {},
   "source": [
    "##### Общие столбцы TRAIN и TEST - сравнение данных"
   ]
  },
  {
   "cell_type": "code",
   "execution_count": 53,
   "metadata": {
    "ExecuteTime": {
     "end_time": "2022-04-05T15:12:42.832880Z",
     "start_time": "2022-04-05T15:12:42.267500Z"
    }
   },
   "outputs": [
    {
     "data": {
      "text/html": [
       "<div>\n",
       "<style scoped>\n",
       "    .dataframe tbody tr th:only-of-type {\n",
       "        vertical-align: middle;\n",
       "    }\n",
       "\n",
       "    .dataframe tbody tr th {\n",
       "        vertical-align: top;\n",
       "    }\n",
       "\n",
       "    .dataframe thead th {\n",
       "        text-align: right;\n",
       "    }\n",
       "</style>\n",
       "<table border=\"1\" class=\"dataframe\">\n",
       "  <thead>\n",
       "    <tr style=\"text-align: right;\">\n",
       "      <th></th>\n",
       "      <th>title</th>\n",
       "      <th>test_type</th>\n",
       "      <th>train_type</th>\n",
       "    </tr>\n",
       "  </thead>\n",
       "  <tbody>\n",
       "    <tr>\n",
       "      <th>7</th>\n",
       "      <td>bodyType</td>\n",
       "      <td>object</td>\n",
       "      <td>object</td>\n",
       "    </tr>\n",
       "    <tr>\n",
       "      <th>14</th>\n",
       "      <td>brand</td>\n",
       "      <td>object</td>\n",
       "      <td>object</td>\n",
       "    </tr>\n",
       "    <tr>\n",
       "      <th>18</th>\n",
       "      <td>color</td>\n",
       "      <td>object</td>\n",
       "      <td>object</td>\n",
       "    </tr>\n",
       "    <tr>\n",
       "      <th>15</th>\n",
       "      <td>description</td>\n",
       "      <td>object</td>\n",
       "      <td>object</td>\n",
       "    </tr>\n",
       "    <tr>\n",
       "      <th>11</th>\n",
       "      <td>engineDisplacement</td>\n",
       "      <td>object</td>\n",
       "      <td>object</td>\n",
       "    </tr>\n",
       "    <tr>\n",
       "      <th>9</th>\n",
       "      <td>enginePower</td>\n",
       "      <td>object</td>\n",
       "      <td>float64</td>\n",
       "    </tr>\n",
       "    <tr>\n",
       "      <th>10</th>\n",
       "      <td>fuelType</td>\n",
       "      <td>object</td>\n",
       "      <td>object</td>\n",
       "    </tr>\n",
       "    <tr>\n",
       "      <th>6</th>\n",
       "      <td>mileage</td>\n",
       "      <td>int64</td>\n",
       "      <td>int64</td>\n",
       "    </tr>\n",
       "    <tr>\n",
       "      <th>19</th>\n",
       "      <td>modelDate</td>\n",
       "      <td>int64</td>\n",
       "      <td>float64</td>\n",
       "    </tr>\n",
       "    <tr>\n",
       "      <th>3</th>\n",
       "      <td>name</td>\n",
       "      <td>object</td>\n",
       "      <td>object</td>\n",
       "    </tr>\n",
       "    <tr>\n",
       "      <th>12</th>\n",
       "      <td>numberOfDoors</td>\n",
       "      <td>int64</td>\n",
       "      <td>float64</td>\n",
       "    </tr>\n",
       "    <tr>\n",
       "      <th>20</th>\n",
       "      <td>productionDate</td>\n",
       "      <td>int64</td>\n",
       "      <td>int64</td>\n",
       "    </tr>\n",
       "    <tr>\n",
       "      <th>4</th>\n",
       "      <td>vehicleConfiguration</td>\n",
       "      <td>object</td>\n",
       "      <td>object</td>\n",
       "    </tr>\n",
       "    <tr>\n",
       "      <th>1</th>\n",
       "      <td>vehicleTransmission</td>\n",
       "      <td>object</td>\n",
       "      <td>object</td>\n",
       "    </tr>\n",
       "    <tr>\n",
       "      <th>17</th>\n",
       "      <td>Владельцы</td>\n",
       "      <td>object</td>\n",
       "      <td>float64</td>\n",
       "    </tr>\n",
       "    <tr>\n",
       "      <th>0</th>\n",
       "      <td>Владение</td>\n",
       "      <td>object</td>\n",
       "      <td>object</td>\n",
       "    </tr>\n",
       "    <tr>\n",
       "      <th>13</th>\n",
       "      <td>ПТС</td>\n",
       "      <td>object</td>\n",
       "      <td>object</td>\n",
       "    </tr>\n",
       "    <tr>\n",
       "      <th>16</th>\n",
       "      <td>Привод</td>\n",
       "      <td>object</td>\n",
       "      <td>object</td>\n",
       "    </tr>\n",
       "    <tr>\n",
       "      <th>2</th>\n",
       "      <td>Руль</td>\n",
       "      <td>object</td>\n",
       "      <td>object</td>\n",
       "    </tr>\n",
       "    <tr>\n",
       "      <th>8</th>\n",
       "      <td>Состояние</td>\n",
       "      <td>object</td>\n",
       "      <td>float64</td>\n",
       "    </tr>\n",
       "    <tr>\n",
       "      <th>5</th>\n",
       "      <td>Таможня</td>\n",
       "      <td>object</td>\n",
       "      <td>bool</td>\n",
       "    </tr>\n",
       "  </tbody>\n",
       "</table>\n",
       "</div>"
      ],
      "text/plain": [
       "                   title test_type train_type\n",
       "7               bodyType    object     object\n",
       "14                 brand    object     object\n",
       "18                 color    object     object\n",
       "15           description    object     object\n",
       "11    engineDisplacement    object     object\n",
       "9            enginePower    object    float64\n",
       "10              fuelType    object     object\n",
       "6                mileage     int64      int64\n",
       "19             modelDate     int64    float64\n",
       "3                   name    object     object\n",
       "12         numberOfDoors     int64    float64\n",
       "20        productionDate     int64      int64\n",
       "4   vehicleConfiguration    object     object\n",
       "1    vehicleTransmission    object     object\n",
       "17             Владельцы    object    float64\n",
       "0               Владение    object     object\n",
       "13                   ПТС    object     object\n",
       "16                Привод    object     object\n",
       "2                   Руль    object     object\n",
       "8              Состояние    object    float64\n",
       "5                Таможня    object       bool"
      ]
     },
     "execution_count": 53,
     "metadata": {},
     "output_type": "execute_result"
    }
   ],
   "source": [
    "#Датафрейм со сравнением типов данных\n",
    "index_list = test[common_columns].dtypes.index.to_list()\n",
    "test_list = test[common_columns].dtypes.values.tolist()\n",
    "train_list = train[common_columns].dtypes.values.tolist()\n",
    "\n",
    "dict_comparison = {\n",
    "    'title': index_list,\n",
    "    'test_type': test_list,\n",
    "    'train_type': train_list\n",
    "}\n",
    "\n",
    "comparison = pd.DataFrame(dict_comparison)\n",
    "comparison.sort_values('title')"
   ]
  },
  {
   "cell_type": "markdown",
   "metadata": {},
   "source": [
    "Как можно видеть, формат данных в части столбцов с одинаковыми названиями не совпадает. Также необходимо исследовать содержаимое ячеек."
   ]
  },
  {
   "cell_type": "markdown",
   "metadata": {},
   "source": [
    "##### Бренды в TRAIN и TEST"
   ]
  },
  {
   "cell_type": "code",
   "execution_count": 54,
   "metadata": {
    "ExecuteTime": {
     "end_time": "2022-04-05T15:12:42.863876Z",
     "start_time": "2022-04-05T15:12:42.834869Z"
    }
   },
   "outputs": [
    {
     "data": {
      "text/plain": [
       "array(['AUDI', 'BMW', 'CADILLAC', 'CHERY', 'CHEVROLET', 'CHRYSLER',\n",
       "       'CITROEN', 'DAEWOO', 'DODGE', 'FORD', 'GEELY', 'HONDA', 'HYUNDAI',\n",
       "       'INFINITI', 'JAGUAR', 'JEEP', 'KIA', 'LEXUS', 'MAZDA', 'MINI',\n",
       "       'MITSUBISHI', 'NISSAN', 'OPEL', 'PEUGEOT', 'PORSCHE', 'RENAULT',\n",
       "       'SKODA', 'SUBARU', 'SUZUKI', 'TOYOTA', 'VOLKSWAGEN', 'VOLVO',\n",
       "       'GREAT_WALL', 'LAND_ROVER', 'MERCEDES', 'SSANG_YONG'], dtype=object)"
      ]
     },
     "metadata": {},
     "output_type": "display_data"
    },
    {
     "name": "stdout",
     "output_type": "stream",
     "text": [
      "Всего в TRAIN 36 брендов.\n"
     ]
    }
   ],
   "source": [
    "display(train_mod.brand.unique())\n",
    "print('Всего в TRAIN',len(train.brand.unique()),'брендов.',sep=' ')"
   ]
  },
  {
   "cell_type": "code",
   "execution_count": 55,
   "metadata": {
    "ExecuteTime": {
     "end_time": "2022-04-05T15:12:42.879879Z",
     "start_time": "2022-04-05T15:12:42.864876Z"
    }
   },
   "outputs": [
    {
     "data": {
      "text/plain": [
       "array(['SKODA', 'AUDI', 'HONDA', 'VOLVO', 'BMW', 'NISSAN', 'INFINITI',\n",
       "       'MERCEDES', 'TOYOTA', 'LEXUS', 'VOLKSWAGEN', 'MITSUBISHI'],\n",
       "      dtype=object)"
      ]
     },
     "metadata": {},
     "output_type": "display_data"
    },
    {
     "name": "stdout",
     "output_type": "stream",
     "text": [
      "Всего в TEST 12 брендов.\n"
     ]
    }
   ],
   "source": [
    "display(test_mod.brand.unique())\n",
    "print('Всего в TEST',len(test_mod.brand.unique()),'брендов.',sep=' ')"
   ]
  },
  {
   "cell_type": "markdown",
   "metadata": {},
   "source": [
    "Мы видим, что в TRAIN представлено в 3 раза больше брендов автомобилей. Посмотрим на их распределение в обоих датасетах."
   ]
  },
  {
   "cell_type": "code",
   "execution_count": 56,
   "metadata": {
    "ExecuteTime": {
     "end_time": "2022-04-05T15:12:43.055922Z",
     "start_time": "2022-04-05T15:12:42.880879Z"
    }
   },
   "outputs": [
    {
     "data": {
      "text/plain": [
       "Text(0.5, 1.0, 'TEST brands')"
      ]
     },
     "execution_count": 56,
     "metadata": {},
     "output_type": "execute_result"
    },
    {
     "data": {
      "image/png": "[encoded data removed]",
      "text/plain": [
       "<Figure size 432x288 with 1 Axes>"
      ]
     },
     "metadata": {
      "needs_background": "light"
     },
     "output_type": "display_data"
    }
   ],
   "source": [
    "#Распределение брендов в TEST\n",
    "test_mod['brand'].value_counts().plot(kind='bar', color = '#F25D46', label='TEST brands')\n",
    "plt.legend()\n",
    "plt.title('TEST brands')"
   ]
  },
  {
   "cell_type": "code",
   "execution_count": 57,
   "metadata": {
    "ExecuteTime": {
     "end_time": "2022-04-05T15:12:43.325983Z",
     "start_time": "2022-04-05T15:12:43.056923Z"
    }
   },
   "outputs": [
    {
     "data": {
      "text/plain": [
       "Text(0.5, 1.0, 'TRAIN brands')"
      ]
     },
     "execution_count": 57,
     "metadata": {},
     "output_type": "execute_result"
    },
    {
     "data": {
      "image/png": "[encoded data removed]",
      "text/plain": [
       "<Figure size 432x288 with 1 Axes>"
      ]
     },
     "metadata": {
      "needs_background": "light"
     },
     "output_type": "display_data"
    }
   ],
   "source": [
    "#Распределение брендов в TRAIN\n",
    "train_mod['brand'].value_counts().plot(kind='bar', color = '#B6DB69', label='TRAIN brands')\n",
    "plt.legend()\n",
    "plt.title('TRAIN brands')"
   ]
  },
  {
   "cell_type": "markdown",
   "metadata": {},
   "source": [
    "Мы видим, что распеределение брендов, представленных только во TEST, схоже с TRAIN. \n",
    "\n",
    "Поэтому для базовой модели ML отсутствующие модели можно удалить, однако для Staking и ансамблей можно попробовать объединить присутствующие и удаленные модели в классы для извлечения новых признаков."
   ]
  },
  {
   "cell_type": "code",
   "execution_count": 58,
   "metadata": {
    "ExecuteTime": {
     "end_time": "2022-04-05T15:12:43.502119Z",
     "start_time": "2022-04-05T15:12:43.326985Z"
    }
   },
   "outputs": [
    {
     "data": {
      "text/plain": [
       "Text(0.5, 1.0, 'MOD_TRAIN brands')"
      ]
     },
     "execution_count": 58,
     "metadata": {},
     "output_type": "execute_result"
    },
    {
     "data": {
      "image/png": "[encoded data removed]",
      "text/plain": [
       "<Figure size 432x288 with 1 Axes>"
      ]
     },
     "metadata": {
      "needs_background": "light"
     },
     "output_type": "display_data"
    }
   ],
   "source": [
    "#Удаление отсутствующих в TEST брендов\n",
    "#Список брендов из TEST\n",
    "brand_list = test_mod.brand.unique().tolist()\n",
    "train_mod = train_mod.loc[train.brand.isin(brand_list)]\n",
    "\n",
    "#Распределение брендов в модифицированном TRAIN\n",
    "train_mod['brand'].value_counts().plot(kind='bar', color = '#B6DB69', label='MOD_TRAIN brands')\n",
    "plt.legend()\n",
    "plt.title('MOD_TRAIN brands')"
   ]
  },
  {
   "cell_type": "markdown",
   "metadata": {},
   "source": [
    "##### Сравнение содержание ячеек TRAIN и TEST, приведение к единому формату"
   ]
  },
  {
   "cell_type": "code",
   "execution_count": 59,
   "metadata": {
    "ExecuteTime": {
     "end_time": "2022-04-05T15:12:43.582136Z",
     "start_time": "2022-04-05T15:12:43.503120Z"
    }
   },
   "outputs": [
    {
     "data": {
      "text/html": [
       "<div>\n",
       "<style scoped>\n",
       "    .dataframe tbody tr th:only-of-type {\n",
       "        vertical-align: middle;\n",
       "    }\n",
       "\n",
       "    .dataframe tbody tr th {\n",
       "        vertical-align: top;\n",
       "    }\n",
       "\n",
       "    .dataframe thead th {\n",
       "        text-align: right;\n",
       "    }\n",
       "</style>\n",
       "<table border=\"1\" class=\"dataframe\">\n",
       "  <thead>\n",
       "    <tr style=\"text-align: right;\">\n",
       "      <th></th>\n",
       "      <th>title</th>\n",
       "      <th>test_type</th>\n",
       "      <th>train_type</th>\n",
       "    </tr>\n",
       "  </thead>\n",
       "  <tbody>\n",
       "    <tr>\n",
       "      <th>7</th>\n",
       "      <td>bodyType</td>\n",
       "      <td>object</td>\n",
       "      <td>object</td>\n",
       "    </tr>\n",
       "    <tr>\n",
       "      <th>14</th>\n",
       "      <td>brand</td>\n",
       "      <td>object</td>\n",
       "      <td>object</td>\n",
       "    </tr>\n",
       "    <tr>\n",
       "      <th>18</th>\n",
       "      <td>color</td>\n",
       "      <td>object</td>\n",
       "      <td>object</td>\n",
       "    </tr>\n",
       "    <tr>\n",
       "      <th>15</th>\n",
       "      <td>description</td>\n",
       "      <td>object</td>\n",
       "      <td>object</td>\n",
       "    </tr>\n",
       "    <tr>\n",
       "      <th>11</th>\n",
       "      <td>engineDisplacement</td>\n",
       "      <td>object</td>\n",
       "      <td>object</td>\n",
       "    </tr>\n",
       "    <tr>\n",
       "      <th>9</th>\n",
       "      <td>enginePower</td>\n",
       "      <td>object</td>\n",
       "      <td>float64</td>\n",
       "    </tr>\n",
       "    <tr>\n",
       "      <th>10</th>\n",
       "      <td>fuelType</td>\n",
       "      <td>object</td>\n",
       "      <td>object</td>\n",
       "    </tr>\n",
       "    <tr>\n",
       "      <th>6</th>\n",
       "      <td>mileage</td>\n",
       "      <td>int64</td>\n",
       "      <td>int64</td>\n",
       "    </tr>\n",
       "    <tr>\n",
       "      <th>19</th>\n",
       "      <td>modelDate</td>\n",
       "      <td>int64</td>\n",
       "      <td>float64</td>\n",
       "    </tr>\n",
       "    <tr>\n",
       "      <th>3</th>\n",
       "      <td>name</td>\n",
       "      <td>object</td>\n",
       "      <td>object</td>\n",
       "    </tr>\n",
       "    <tr>\n",
       "      <th>12</th>\n",
       "      <td>numberOfDoors</td>\n",
       "      <td>int64</td>\n",
       "      <td>float64</td>\n",
       "    </tr>\n",
       "    <tr>\n",
       "      <th>20</th>\n",
       "      <td>productionDate</td>\n",
       "      <td>int64</td>\n",
       "      <td>int64</td>\n",
       "    </tr>\n",
       "    <tr>\n",
       "      <th>4</th>\n",
       "      <td>vehicleConfiguration</td>\n",
       "      <td>object</td>\n",
       "      <td>object</td>\n",
       "    </tr>\n",
       "    <tr>\n",
       "      <th>1</th>\n",
       "      <td>vehicleTransmission</td>\n",
       "      <td>object</td>\n",
       "      <td>object</td>\n",
       "    </tr>\n",
       "    <tr>\n",
       "      <th>17</th>\n",
       "      <td>Владельцы</td>\n",
       "      <td>object</td>\n",
       "      <td>float64</td>\n",
       "    </tr>\n",
       "    <tr>\n",
       "      <th>0</th>\n",
       "      <td>Владение</td>\n",
       "      <td>object</td>\n",
       "      <td>object</td>\n",
       "    </tr>\n",
       "    <tr>\n",
       "      <th>13</th>\n",
       "      <td>ПТС</td>\n",
       "      <td>object</td>\n",
       "      <td>object</td>\n",
       "    </tr>\n",
       "    <tr>\n",
       "      <th>16</th>\n",
       "      <td>Привод</td>\n",
       "      <td>object</td>\n",
       "      <td>object</td>\n",
       "    </tr>\n",
       "    <tr>\n",
       "      <th>2</th>\n",
       "      <td>Руль</td>\n",
       "      <td>object</td>\n",
       "      <td>object</td>\n",
       "    </tr>\n",
       "    <tr>\n",
       "      <th>8</th>\n",
       "      <td>Состояние</td>\n",
       "      <td>object</td>\n",
       "      <td>float64</td>\n",
       "    </tr>\n",
       "    <tr>\n",
       "      <th>5</th>\n",
       "      <td>Таможня</td>\n",
       "      <td>object</td>\n",
       "      <td>bool</td>\n",
       "    </tr>\n",
       "  </tbody>\n",
       "</table>\n",
       "</div>"
      ],
      "text/plain": [
       "                   title test_type train_type\n",
       "7               bodyType    object     object\n",
       "14                 brand    object     object\n",
       "18                 color    object     object\n",
       "15           description    object     object\n",
       "11    engineDisplacement    object     object\n",
       "9            enginePower    object    float64\n",
       "10              fuelType    object     object\n",
       "6                mileage     int64      int64\n",
       "19             modelDate     int64    float64\n",
       "3                   name    object     object\n",
       "12         numberOfDoors     int64    float64\n",
       "20        productionDate     int64      int64\n",
       "4   vehicleConfiguration    object     object\n",
       "1    vehicleTransmission    object     object\n",
       "17             Владельцы    object    float64\n",
       "0               Владение    object     object\n",
       "13                   ПТС    object     object\n",
       "16                Привод    object     object\n",
       "2                   Руль    object     object\n",
       "8              Состояние    object    float64\n",
       "5                Таможня    object       bool"
      ]
     },
     "execution_count": 59,
     "metadata": {},
     "output_type": "execute_result"
    }
   ],
   "source": [
    "#Датафрейм со сравнением типов данных\n",
    "index_list = test[common_columns].dtypes.index.to_list()\n",
    "test_list = test[common_columns].dtypes.values.tolist()\n",
    "train_list = train[common_columns].dtypes.values.tolist()\n",
    "\n",
    "dict_comparison = {\n",
    "    'title': index_list,\n",
    "    'test_type': test_list,\n",
    "    'train_type': train_list\n",
    "}\n",
    "\n",
    "comparison = pd.DataFrame(dict_comparison)\n",
    "comparison.sort_values('title')"
   ]
  },
  {
   "cell_type": "code",
   "execution_count": 60,
   "metadata": {
    "ExecuteTime": {
     "end_time": "2022-04-05T15:12:43.598140Z",
     "start_time": "2022-04-05T15:12:43.583137Z"
    }
   },
   "outputs": [],
   "source": [
    "#Функция для просмотра и сравнения типов данных в столбцах\n",
    "def type_comparison(column):\n",
    "    print('TEST')\n",
    "    display(test_mod[column].sample(5))\n",
    "    print('TRAIN')\n",
    "    display(train_mod[column].sample(5))  "
   ]
  },
  {
   "cell_type": "code",
   "execution_count": 61,
   "metadata": {
    "ExecuteTime": {
     "end_time": "2022-04-05T15:12:43.614144Z",
     "start_time": "2022-04-05T15:12:43.599140Z"
    },
    "scrolled": true
   },
   "outputs": [
    {
     "name": "stdout",
     "output_type": "stream",
     "text": [
      "TEST\n"
     ]
    },
    {
     "data": {
      "text/plain": [
       "30094        хэтчбек 5 дв.\n",
       "29264    внедорожник 5 дв.\n",
       "29361    внедорожник 5 дв.\n",
       "9301     внедорожник 5 дв.\n",
       "8688     внедорожник 5 дв.\n",
       "Name: bodyType, dtype: object"
      ]
     },
     "metadata": {},
     "output_type": "display_data"
    },
    {
     "name": "stdout",
     "output_type": "stream",
     "text": [
      "TRAIN\n"
     ]
    },
    {
     "data": {
      "text/plain": [
       "24740    Внедорожник 5 дв.\n",
       "86800    Внедорожник 5 дв.\n",
       "81929                 Купе\n",
       "49124    Внедорожник 5 дв.\n",
       "49556    Внедорожник 5 дв.\n",
       "Name: bodyType, dtype: object"
      ]
     },
     "metadata": {},
     "output_type": "display_data"
    }
   ],
   "source": [
    "#bodyType\n",
    "column = 'bodyType'\n",
    "type_comparison(column)"
   ]
  },
  {
   "cell_type": "markdown",
   "metadata": {},
   "source": [
    "Необходимо привести данные к единому формату и убрать из значениё кол-во двер\n"
   ]
  },
  {
   "cell_type": "code",
   "execution_count": 62,
   "metadata": {
    "ExecuteTime": {
     "end_time": "2022-04-05T15:12:43.646152Z",
     "start_time": "2022-04-05T15:12:43.615145Z"
    }
   },
   "outputs": [
    {
     "name": "stdout",
     "output_type": "stream",
     "text": [
      "TEST\n"
     ]
    },
    {
     "data": {
      "text/plain": [
       "2458      чёрный\n",
       "19906      серый\n",
       "21101    красный\n",
       "23799      синий\n",
       "12438      белый\n",
       "Name: color, dtype: object"
      ]
     },
     "metadata": {},
     "output_type": "display_data"
    },
    {
     "name": "stdout",
     "output_type": "stream",
     "text": [
      "TRAIN\n"
     ]
    },
    {
     "data": {
      "text/plain": [
       "73736    FAFBFB\n",
       "31709    FAFBFB\n",
       "3990     0000CC\n",
       "43742    040001\n",
       "2061     040001\n",
       "Name: color, dtype: object"
      ]
     },
     "metadata": {},
     "output_type": "display_data"
    }
   ],
   "source": [
    "#color\n",
    "column = 'color'\n",
    "type_comparison(column)"
   ]
  },
  {
   "cell_type": "code",
   "execution_count": 63,
   "metadata": {
    "ExecuteTime": {
     "end_time": "2022-04-05T15:12:43.662155Z",
     "start_time": "2022-04-05T15:12:43.647151Z"
    }
   },
   "outputs": [
    {
     "name": "stdout",
     "output_type": "stream",
     "text": [
      "TEST\n"
     ]
    },
    {
     "data": {
      "text/plain": [
       "34455    Один хозяин. Все ТО у Официального дилера. Сде...\n",
       "29956    Внимание! Только для клиентов AVILON Автомобил...\n",
       "2179     Своевременное обслуживание. Пройдены все ТО, п...\n",
       "21600    Хорошее техническое и внешнее состояние, все р...\n",
       "6089     Honda Pilot 2008 г.в., 257 л.с. Установлено ГБ...\n",
       "Name: description, dtype: object"
      ]
     },
     "metadata": {},
     "output_type": "display_data"
    },
    {
     "name": "stdout",
     "output_type": "stream",
     "text": [
      "TRAIN\n"
     ]
    },
    {
     "data": {
      "text/plain": [
       "4194                                                   NaN\n",
       "75101    Отличное состояние. Ездила девушка. Все что ну...\n",
       "3971     Без проблем сниму с учета в РБ и привезу в Мос...\n",
       "6965     Автомобиль находится на площадке АО ABTODOM МК...\n",
       "6529     По условиям покупки и скидкам - звоните, догов...\n",
       "Name: description, dtype: object"
      ]
     },
     "metadata": {},
     "output_type": "display_data"
    }
   ],
   "source": [
    "#description\n",
    "column = 'description'\n",
    "type_comparison(column)"
   ]
  },
  {
   "cell_type": "code",
   "execution_count": 64,
   "metadata": {
    "ExecuteTime": {
     "end_time": "2022-04-05T15:12:43.678158Z",
     "start_time": "2022-04-05T15:12:43.663156Z"
    },
    "scrolled": true
   },
   "outputs": [
    {
     "name": "stdout",
     "output_type": "stream",
     "text": [
      "TEST\n"
     ]
    },
    {
     "data": {
      "text/plain": [
       "17160    3.0 LTR\n",
       "16131    3.0 LTR\n",
       "20888    2.0 LTR\n",
       "16528    1.8 LTR\n",
       "10834    4.4 LTR\n",
       "Name: engineDisplacement, dtype: object"
      ]
     },
     "metadata": {},
     "output_type": "display_data"
    },
    {
     "name": "stdout",
     "output_type": "stream",
     "text": [
      "TRAIN\n"
     ]
    },
    {
     "data": {
      "text/plain": [
       "86035     350\n",
       "67917    Noah\n",
       "78223     2.0\n",
       "67569     3.4\n",
       "78153    2.0d\n",
       "Name: engineDisplacement, dtype: object"
      ]
     },
     "metadata": {},
     "output_type": "display_data"
    }
   ],
   "source": [
    "#engineDisplacement\n",
    "column = 'engineDisplacement'\n",
    "type_comparison(column)"
   ]
  },
  {
   "cell_type": "markdown",
   "metadata": {},
   "source": [
    "Необходимо привести данные к единому формату"
   ]
  },
  {
   "cell_type": "code",
   "execution_count": 65,
   "metadata": {
    "ExecuteTime": {
     "end_time": "2022-04-05T15:12:43.838194Z",
     "start_time": "2022-04-05T15:12:43.679159Z"
    }
   },
   "outputs": [],
   "source": [
    "#Преобразование\n",
    "def GetEngineDisplacement(x):\n",
    "    row = str(x)\n",
    "    engine = re.findall('\\d\\.\\d', row)\n",
    "    if engine == []:\n",
    "        return None\n",
    "    return float(engine[0])\n",
    "\n",
    "train_mod['engineDisplacement'] = train_mod['engineDisplacement'].map(GetEngineDisplacement)\n",
    "test_mod['engineDisplacement'] = test_mod['engineDisplacement'].map(GetEngineDisplacement)"
   ]
  },
  {
   "cell_type": "code",
   "execution_count": 66,
   "metadata": {
    "ExecuteTime": {
     "end_time": "2022-04-05T15:12:43.854198Z",
     "start_time": "2022-04-05T15:12:43.839196Z"
    },
    "scrolled": true
   },
   "outputs": [
    {
     "name": "stdout",
     "output_type": "stream",
     "text": [
      "TEST\n"
     ]
    },
    {
     "data": {
      "text/plain": [
       "7632     3.0\n",
       "9790     1.6\n",
       "31120    1.8\n",
       "11681    2.0\n",
       "11546    2.5\n",
       "Name: engineDisplacement, dtype: float64"
      ]
     },
     "metadata": {},
     "output_type": "display_data"
    },
    {
     "name": "stdout",
     "output_type": "stream",
     "text": [
      "TRAIN\n"
     ]
    },
    {
     "data": {
      "text/plain": [
       "545      1.4\n",
       "50352    1.6\n",
       "4575     NaN\n",
       "51442    2.0\n",
       "11168    NaN\n",
       "Name: engineDisplacement, dtype: float64"
      ]
     },
     "metadata": {},
     "output_type": "display_data"
    }
   ],
   "source": [
    "#engineDisplacement\n",
    "column = 'engineDisplacement'\n",
    "type_comparison(column)"
   ]
  },
  {
   "cell_type": "markdown",
   "metadata": {},
   "source": [
    "После преобразования в столбцах появились пропуски"
   ]
  },
  {
   "cell_type": "code",
   "execution_count": 67,
   "metadata": {},
   "outputs": [
    {
     "data": {
      "text/html": [
       "<div>\n",
       "<style scoped>\n",
       "    .dataframe tbody tr th:only-of-type {\n",
       "        vertical-align: middle;\n",
       "    }\n",
       "\n",
       "    .dataframe tbody tr th {\n",
       "        vertical-align: top;\n",
       "    }\n",
       "\n",
       "    .dataframe thead th {\n",
       "        text-align: right;\n",
       "    }\n",
       "</style>\n",
       "<table border=\"1\" class=\"dataframe\">\n",
       "  <thead>\n",
       "    <tr style=\"text-align: right;\">\n",
       "      <th></th>\n",
       "      <th>bodyType</th>\n",
       "      <th>brand</th>\n",
       "      <th>car_url</th>\n",
       "      <th>color</th>\n",
       "      <th>complectation_dict</th>\n",
       "      <th>description</th>\n",
       "      <th>engineDisplacement</th>\n",
       "      <th>enginePower</th>\n",
       "      <th>equipment_dict</th>\n",
       "      <th>fuelType</th>\n",
       "      <th>...</th>\n",
       "      <th>vehicleConfiguration</th>\n",
       "      <th>vehicleTransmission</th>\n",
       "      <th>vendor</th>\n",
       "      <th>Владельцы</th>\n",
       "      <th>Владение</th>\n",
       "      <th>ПТС</th>\n",
       "      <th>Привод</th>\n",
       "      <th>Руль</th>\n",
       "      <th>Состояние</th>\n",
       "      <th>Таможня</th>\n",
       "    </tr>\n",
       "  </thead>\n",
       "  <tbody>\n",
       "    <tr>\n",
       "      <th>5241</th>\n",
       "      <td>внедорожник 5 дв.</td>\n",
       "      <td>AUDI</td>\n",
       "      <td>https://auto.ru/cars/used/sale/audi/e_tron/110...</td>\n",
       "      <td>белый</td>\n",
       "      <td>NaN</td>\n",
       "      <td>Audi e-tron Prestige quattro от Moscow Tesla C...</td>\n",
       "      <td>NaN</td>\n",
       "      <td>408 N12</td>\n",
       "      <td>{\"asr\":true,\"esp\":true,\"usb\":true,\"e-adjustmen...</td>\n",
       "      <td>электро</td>\n",
       "      <td>...</td>\n",
       "      <td>ALLROAD_5_DOORS AUTOMATIC</td>\n",
       "      <td>автоматическая</td>\n",
       "      <td>EUROPEAN</td>\n",
       "      <td>1 владелец</td>\n",
       "      <td>1 год и 3 месяца</td>\n",
       "      <td>Оригинал</td>\n",
       "      <td>полный</td>\n",
       "      <td>Левый</td>\n",
       "      <td>Не требует ремонта</td>\n",
       "      <td>Растаможен</td>\n",
       "    </tr>\n",
       "    <tr>\n",
       "      <th>7992</th>\n",
       "      <td>хэтчбек 5 дв.</td>\n",
       "      <td>BMW</td>\n",
       "      <td>https://auto.ru/cars/used/sale/bmw/i3/11010431...</td>\n",
       "      <td>синий</td>\n",
       "      <td>NaN</td>\n",
       "      <td>Атомобиль из Германии,без пробега по РФ.\\nНа г...</td>\n",
       "      <td>NaN</td>\n",
       "      <td>170 N12</td>\n",
       "      <td>NaN</td>\n",
       "      <td>электро</td>\n",
       "      <td>...</td>\n",
       "      <td>HATCHBACK_5_DOORS AUTOMATIC</td>\n",
       "      <td>автоматическая</td>\n",
       "      <td>EUROPEAN</td>\n",
       "      <td>1 владелец</td>\n",
       "      <td>NaN</td>\n",
       "      <td>Оригинал</td>\n",
       "      <td>задний</td>\n",
       "      <td>Левый</td>\n",
       "      <td>Не требует ремонта</td>\n",
       "      <td>Растаможен</td>\n",
       "    </tr>\n",
       "    <tr>\n",
       "      <th>8252</th>\n",
       "      <td>хэтчбек 5 дв.</td>\n",
       "      <td>BMW</td>\n",
       "      <td>https://auto.ru/cars/used/sale/bmw/i3/11012780...</td>\n",
       "      <td>серый</td>\n",
       "      <td>NaN</td>\n",
       "      <td>Пробег 54000 км, запас хода на зарядке 130 км+...</td>\n",
       "      <td>NaN</td>\n",
       "      <td>170 N12</td>\n",
       "      <td>{\"park-assist-f\":true,\"park-assist-r\":true}</td>\n",
       "      <td>электро</td>\n",
       "      <td>...</td>\n",
       "      <td>HATCHBACK_5_DOORS AUTOMATIC</td>\n",
       "      <td>автоматическая</td>\n",
       "      <td>EUROPEAN</td>\n",
       "      <td>1 владелец</td>\n",
       "      <td>1 месяц</td>\n",
       "      <td>Оригинал</td>\n",
       "      <td>задний</td>\n",
       "      <td>Левый</td>\n",
       "      <td>Не требует ремонта</td>\n",
       "      <td>Растаможен</td>\n",
       "    </tr>\n",
       "    <tr>\n",
       "      <th>8350</th>\n",
       "      <td>хэтчбек 5 дв.</td>\n",
       "      <td>BMW</td>\n",
       "      <td>https://auto.ru/cars/used/sale/bmw/i3/11002716...</td>\n",
       "      <td>белый</td>\n",
       "      <td>{\"id\":\"21624597\",\"name\":\"i3 120 Ah\",\"available...</td>\n",
       "      <td>Автомобиль в наличии Москве , с ПТС , производ...</td>\n",
       "      <td>NaN</td>\n",
       "      <td>170 N12</td>\n",
       "      <td>{\"cruise-control\":true,\"asr\":true,\"esp\":true,\"...</td>\n",
       "      <td>электро</td>\n",
       "      <td>...</td>\n",
       "      <td>HATCHBACK_5_DOORS AUTOMATIC</td>\n",
       "      <td>автоматическая</td>\n",
       "      <td>EUROPEAN</td>\n",
       "      <td>1 владелец</td>\n",
       "      <td>NaN</td>\n",
       "      <td>Оригинал</td>\n",
       "      <td>задний</td>\n",
       "      <td>Левый</td>\n",
       "      <td>Не требует ремонта</td>\n",
       "      <td>Растаможен</td>\n",
       "    </tr>\n",
       "    <tr>\n",
       "      <th>8684</th>\n",
       "      <td>хэтчбек 5 дв.</td>\n",
       "      <td>BMW</td>\n",
       "      <td>https://auto.ru/cars/used/sale/bmw/i3/11011745...</td>\n",
       "      <td>чёрный</td>\n",
       "      <td>NaN</td>\n",
       "      <td>BMW I 3 REX\\nфевраль 2017 года выпуска.\\nПриоб...</td>\n",
       "      <td>NaN</td>\n",
       "      <td>170 N12</td>\n",
       "      <td>{\"cruise-control\":true,\"glonass\":true,\"navigat...</td>\n",
       "      <td>электро</td>\n",
       "      <td>...</td>\n",
       "      <td>HATCHBACK_5_DOORS AUTOMATIC</td>\n",
       "      <td>автоматическая</td>\n",
       "      <td>EUROPEAN</td>\n",
       "      <td>1 владелец</td>\n",
       "      <td>NaN</td>\n",
       "      <td>Оригинал</td>\n",
       "      <td>задний</td>\n",
       "      <td>Левый</td>\n",
       "      <td>Не требует ремонта</td>\n",
       "      <td>Растаможен</td>\n",
       "    </tr>\n",
       "    <tr>\n",
       "      <th>8722</th>\n",
       "      <td>хэтчбек 5 дв.</td>\n",
       "      <td>BMW</td>\n",
       "      <td>https://auto.ru/cars/used/sale/bmw/i3/11000973...</td>\n",
       "      <td>голубой</td>\n",
       "      <td>NaN</td>\n",
       "      <td>\\nПрибыло из Америки в августе 2020 года. Полн...</td>\n",
       "      <td>NaN</td>\n",
       "      <td>170 N12</td>\n",
       "      <td>NaN</td>\n",
       "      <td>электро</td>\n",
       "      <td>...</td>\n",
       "      <td>HATCHBACK_5_DOORS AUTOMATIC</td>\n",
       "      <td>автоматическая</td>\n",
       "      <td>EUROPEAN</td>\n",
       "      <td>1 владелец</td>\n",
       "      <td>NaN</td>\n",
       "      <td>Оригинал</td>\n",
       "      <td>задний</td>\n",
       "      <td>Левый</td>\n",
       "      <td>Не требует ремонта</td>\n",
       "      <td>Растаможен</td>\n",
       "    </tr>\n",
       "    <tr>\n",
       "      <th>8917</th>\n",
       "      <td>хэтчбек 5 дв.</td>\n",
       "      <td>BMW</td>\n",
       "      <td>https://auto.ru/cars/used/sale/bmw/i3/11008715...</td>\n",
       "      <td>бежевый</td>\n",
       "      <td>NaN</td>\n",
       "      <td>-Состояние нового автомобиля .\\n-Carfax вся ис...</td>\n",
       "      <td>NaN</td>\n",
       "      <td>170 N12</td>\n",
       "      <td>{\"glonass\":true,\"roof-rails\":true}</td>\n",
       "      <td>электро</td>\n",
       "      <td>...</td>\n",
       "      <td>HATCHBACK_5_DOORS AUTOMATIC</td>\n",
       "      <td>автоматическая</td>\n",
       "      <td>EUROPEAN</td>\n",
       "      <td>1 владелец</td>\n",
       "      <td>NaN</td>\n",
       "      <td>Оригинал</td>\n",
       "      <td>задний</td>\n",
       "      <td>Левый</td>\n",
       "      <td>Не требует ремонта</td>\n",
       "      <td>Растаможен</td>\n",
       "    </tr>\n",
       "    <tr>\n",
       "      <th>10817</th>\n",
       "      <td>хэтчбек 5 дв.</td>\n",
       "      <td>BMW</td>\n",
       "      <td>https://auto.ru/cars/used/sale/bmw/i3/11012664...</td>\n",
       "      <td>серый</td>\n",
       "      <td>NaN</td>\n",
       "      <td>Продаю BMW I3 +REX .\\n\\nПолноценный электромоб...</td>\n",
       "      <td>NaN</td>\n",
       "      <td>170 N12</td>\n",
       "      <td>NaN</td>\n",
       "      <td>электро</td>\n",
       "      <td>...</td>\n",
       "      <td>HATCHBACK_5_DOORS AUTOMATIC</td>\n",
       "      <td>автоматическая</td>\n",
       "      <td>EUROPEAN</td>\n",
       "      <td>1 владелец</td>\n",
       "      <td>NaN</td>\n",
       "      <td>Оригинал</td>\n",
       "      <td>задний</td>\n",
       "      <td>Левый</td>\n",
       "      <td>Не требует ремонта</td>\n",
       "      <td>Растаможен</td>\n",
       "    </tr>\n",
       "    <tr>\n",
       "      <th>10936</th>\n",
       "      <td>хэтчбек 5 дв.</td>\n",
       "      <td>BMW</td>\n",
       "      <td>https://auto.ru/cars/used/sale/bmw/i3/10996733...</td>\n",
       "      <td>чёрный</td>\n",
       "      <td>NaN</td>\n",
       "      <td>Автомобиль BMW i3 (полностью электрический )за...</td>\n",
       "      <td>NaN</td>\n",
       "      <td>170 N12</td>\n",
       "      <td>{\"cruise-control\":true,\"asr\":true,\"tinted-glas...</td>\n",
       "      <td>электро</td>\n",
       "      <td>...</td>\n",
       "      <td>HATCHBACK_5_DOORS AUTOMATIC</td>\n",
       "      <td>автоматическая</td>\n",
       "      <td>EUROPEAN</td>\n",
       "      <td>1 владелец</td>\n",
       "      <td>NaN</td>\n",
       "      <td>Оригинал</td>\n",
       "      <td>задний</td>\n",
       "      <td>Левый</td>\n",
       "      <td>Не требует ремонта</td>\n",
       "      <td>Растаможен</td>\n",
       "    </tr>\n",
       "    <tr>\n",
       "      <th>11043</th>\n",
       "      <td>хэтчбек 5 дв.</td>\n",
       "      <td>BMW</td>\n",
       "      <td>https://auto.ru/cars/used/sale/bmw/i3/10993761...</td>\n",
       "      <td>серый</td>\n",
       "      <td>NaN</td>\n",
       "      <td>Состояние нового автомобиля . \\nФото ИМЕННО ЭТ...</td>\n",
       "      <td>NaN</td>\n",
       "      <td>170 N12</td>\n",
       "      <td>{\"glonass\":true,\"airbag-driver\":true,\"aux\":tru...</td>\n",
       "      <td>электро</td>\n",
       "      <td>...</td>\n",
       "      <td>HATCHBACK_5_DOORS AUTOMATIC</td>\n",
       "      <td>автоматическая</td>\n",
       "      <td>EUROPEAN</td>\n",
       "      <td>1 владелец</td>\n",
       "      <td>8 месяцев</td>\n",
       "      <td>Оригинал</td>\n",
       "      <td>задний</td>\n",
       "      <td>Левый</td>\n",
       "      <td>Не требует ремонта</td>\n",
       "      <td>Растаможен</td>\n",
       "    </tr>\n",
       "    <tr>\n",
       "      <th>11302</th>\n",
       "      <td>хэтчбек 5 дв.</td>\n",
       "      <td>NISSAN</td>\n",
       "      <td>https://auto.ru/cars/used/sale/nissan/leaf/110...</td>\n",
       "      <td>голубой</td>\n",
       "      <td>NaN</td>\n",
       "      <td>Безопасность: 10. Салон: 4. Комфорт: 12. Мульт...</td>\n",
       "      <td>NaN</td>\n",
       "      <td>109 N12</td>\n",
       "      <td>{\"asr\":true,\"tinted-glass\":true,\"start-stop-fu...</td>\n",
       "      <td>электро</td>\n",
       "      <td>...</td>\n",
       "      <td>HATCHBACK_5_DOORS AUTOMATIC</td>\n",
       "      <td>автоматическая</td>\n",
       "      <td>JAPANESE</td>\n",
       "      <td>3 или более</td>\n",
       "      <td>NaN</td>\n",
       "      <td>Оригинал</td>\n",
       "      <td>передний</td>\n",
       "      <td>Левый</td>\n",
       "      <td>Не требует ремонта</td>\n",
       "      <td>Растаможен</td>\n",
       "    </tr>\n",
       "    <tr>\n",
       "      <th>11682</th>\n",
       "      <td>хэтчбек 5 дв.</td>\n",
       "      <td>NISSAN</td>\n",
       "      <td>https://auto.ru/cars/used/sale/nissan/leaf/110...</td>\n",
       "      <td>белый</td>\n",
       "      <td>NaN</td>\n",
       "      <td>Продаю авто без пробега по РФ.\\nМаксимальная к...</td>\n",
       "      <td>NaN</td>\n",
       "      <td>150 N12</td>\n",
       "      <td>{\"tinted-glass\":true,\"esp\":true,\"adaptive-ligh...</td>\n",
       "      <td>электро</td>\n",
       "      <td>...</td>\n",
       "      <td>HATCHBACK_5_DOORS AUTOMATIC</td>\n",
       "      <td>автоматическая</td>\n",
       "      <td>JAPANESE</td>\n",
       "      <td>1 владелец</td>\n",
       "      <td>2 месяца</td>\n",
       "      <td>Оригинал</td>\n",
       "      <td>передний</td>\n",
       "      <td>Левый</td>\n",
       "      <td>Не требует ремонта</td>\n",
       "      <td>Растаможен</td>\n",
       "    </tr>\n",
       "    <tr>\n",
       "      <th>11714</th>\n",
       "      <td>хэтчбек 5 дв.</td>\n",
       "      <td>NISSAN</td>\n",
       "      <td>https://auto.ru/cars/used/sale/nissan/leaf/109...</td>\n",
       "      <td>белый</td>\n",
       "      <td>NaN</td>\n",
       "      <td>Комплектация G\\nБатарея 40 кВт\\n\\n- PRO- PILOT...</td>\n",
       "      <td>NaN</td>\n",
       "      <td>150 N12</td>\n",
       "      <td>{\"collision-prevention-assist\":true,\"led-light...</td>\n",
       "      <td>электро</td>\n",
       "      <td>...</td>\n",
       "      <td>HATCHBACK_5_DOORS AUTOMATIC</td>\n",
       "      <td>автоматическая</td>\n",
       "      <td>JAPANESE</td>\n",
       "      <td>1 владелец</td>\n",
       "      <td>NaN</td>\n",
       "      <td>Оригинал</td>\n",
       "      <td>передний</td>\n",
       "      <td>Правый</td>\n",
       "      <td>Не требует ремонта</td>\n",
       "      <td>Растаможен</td>\n",
       "    </tr>\n",
       "    <tr>\n",
       "      <th>11719</th>\n",
       "      <td>хэтчбек 5 дв.</td>\n",
       "      <td>NISSAN</td>\n",
       "      <td>https://auto.ru/cars/used/sale/nissan/leaf/109...</td>\n",
       "      <td>белый</td>\n",
       "      <td>NaN</td>\n",
       "      <td>Автомобиль с аукциона! НЕ РЫНОК!!!! (аукционны...</td>\n",
       "      <td>NaN</td>\n",
       "      <td>109 N12</td>\n",
       "      <td>NaN</td>\n",
       "      <td>электро</td>\n",
       "      <td>...</td>\n",
       "      <td>HATCHBACK_5_DOORS AUTOMATIC</td>\n",
       "      <td>автоматическая</td>\n",
       "      <td>JAPANESE</td>\n",
       "      <td>1 владелец</td>\n",
       "      <td>5 месяцев</td>\n",
       "      <td>Оригинал</td>\n",
       "      <td>передний</td>\n",
       "      <td>Правый</td>\n",
       "      <td>Не требует ремонта</td>\n",
       "      <td>Растаможен</td>\n",
       "    </tr>\n",
       "    <tr>\n",
       "      <th>11754</th>\n",
       "      <td>хэтчбек 5 дв.</td>\n",
       "      <td>NISSAN</td>\n",
       "      <td>https://auto.ru/cars/used/sale/nissan/leaf/110...</td>\n",
       "      <td>белый</td>\n",
       "      <td>NaN</td>\n",
       "      <td>Продаю электромобиль ниссан лиаф 2011г пробег1...</td>\n",
       "      <td>NaN</td>\n",
       "      <td>109 N12</td>\n",
       "      <td>{\"cruise-control\":true,\"start-button\":true,\"ra...</td>\n",
       "      <td>электро</td>\n",
       "      <td>...</td>\n",
       "      <td>HATCHBACK_5_DOORS AUTOMATIC</td>\n",
       "      <td>автоматическая</td>\n",
       "      <td>JAPANESE</td>\n",
       "      <td>2 владельца</td>\n",
       "      <td>NaN</td>\n",
       "      <td>Оригинал</td>\n",
       "      <td>передний</td>\n",
       "      <td>Правый</td>\n",
       "      <td>Не требует ремонта</td>\n",
       "      <td>Растаможен</td>\n",
       "    </tr>\n",
       "    <tr>\n",
       "      <th>11878</th>\n",
       "      <td>хэтчбек 5 дв.</td>\n",
       "      <td>NISSAN</td>\n",
       "      <td>https://auto.ru/cars/used/sale/nissan/leaf/110...</td>\n",
       "      <td>серебристый</td>\n",
       "      <td>NaN</td>\n",
       "      <td>Оригинальный ПТС.  \\nАвто декабрь 2013 года \\n...</td>\n",
       "      <td>NaN</td>\n",
       "      <td>109 N12</td>\n",
       "      <td>{\"asr\":true,\"glonass\":true,\"tinted-glass\":true...</td>\n",
       "      <td>электро</td>\n",
       "      <td>...</td>\n",
       "      <td>HATCHBACK_5_DOORS AUTOMATIC</td>\n",
       "      <td>автоматическая</td>\n",
       "      <td>JAPANESE</td>\n",
       "      <td>1 владелец</td>\n",
       "      <td>NaN</td>\n",
       "      <td>Оригинал</td>\n",
       "      <td>передний</td>\n",
       "      <td>Левый</td>\n",
       "      <td>Не требует ремонта</td>\n",
       "      <td>Растаможен</td>\n",
       "    </tr>\n",
       "    <tr>\n",
       "      <th>11974</th>\n",
       "      <td>хэтчбек 5 дв.</td>\n",
       "      <td>NISSAN</td>\n",
       "      <td>https://auto.ru/cars/used/sale/nissan/leaf/108...</td>\n",
       "      <td>чёрный</td>\n",
       "      <td>NaN</td>\n",
       "      <td>Всё работает ,батарея  48 кВт-120км +120км све...</td>\n",
       "      <td>NaN</td>\n",
       "      <td>109 N12</td>\n",
       "      <td>{\"asr\":true,\"tinted-glass\":true,\"esp\":true,\"ai...</td>\n",
       "      <td>электро</td>\n",
       "      <td>...</td>\n",
       "      <td>HATCHBACK_5_DOORS AUTOMATIC</td>\n",
       "      <td>автоматическая</td>\n",
       "      <td>JAPANESE</td>\n",
       "      <td>1 владелец</td>\n",
       "      <td>3 года и 8 месяцев</td>\n",
       "      <td>Оригинал</td>\n",
       "      <td>передний</td>\n",
       "      <td>Правый</td>\n",
       "      <td>Не требует ремонта</td>\n",
       "      <td>Растаможен</td>\n",
       "    </tr>\n",
       "    <tr>\n",
       "      <th>12072</th>\n",
       "      <td>хэтчбек 5 дв.</td>\n",
       "      <td>NISSAN</td>\n",
       "      <td>https://auto.ru/cars/used/sale/nissan/leaf/110...</td>\n",
       "      <td>чёрный</td>\n",
       "      <td>NaN</td>\n",
       "      <td>Продаю Nissan Leaf 2012 года выпуска. Данный а...</td>\n",
       "      <td>NaN</td>\n",
       "      <td>109 N12</td>\n",
       "      <td>NaN</td>\n",
       "      <td>электро</td>\n",
       "      <td>...</td>\n",
       "      <td>HATCHBACK_5_DOORS AUTOMATIC</td>\n",
       "      <td>автоматическая</td>\n",
       "      <td>JAPANESE</td>\n",
       "      <td>3 или более</td>\n",
       "      <td>9 месяцев</td>\n",
       "      <td>Оригинал</td>\n",
       "      <td>передний</td>\n",
       "      <td>Правый</td>\n",
       "      <td>Не требует ремонта</td>\n",
       "      <td>Растаможен</td>\n",
       "    </tr>\n",
       "    <tr>\n",
       "      <th>12085</th>\n",
       "      <td>хэтчбек 5 дв.</td>\n",
       "      <td>NISSAN</td>\n",
       "      <td>https://auto.ru/cars/used/sale/nissan/leaf/109...</td>\n",
       "      <td>голубой</td>\n",
       "      <td>NaN</td>\n",
       "      <td>Электpомобиль Nissan Leаf  из США( северный шт...</td>\n",
       "      <td>NaN</td>\n",
       "      <td>109 N12</td>\n",
       "      <td>{\"cruise-control\":true,\"esp\":true,\"start-stop-...</td>\n",
       "      <td>электро</td>\n",
       "      <td>...</td>\n",
       "      <td>HATCHBACK_5_DOORS AUTOMATIC</td>\n",
       "      <td>автоматическая</td>\n",
       "      <td>JAPANESE</td>\n",
       "      <td>1 владелец</td>\n",
       "      <td>1 год и 6 месяцев</td>\n",
       "      <td>Оригинал</td>\n",
       "      <td>передний</td>\n",
       "      <td>Левый</td>\n",
       "      <td>Не требует ремонта</td>\n",
       "      <td>Растаможен</td>\n",
       "    </tr>\n",
       "    <tr>\n",
       "      <th>12100</th>\n",
       "      <td>хэтчбек 5 дв.</td>\n",
       "      <td>NISSAN</td>\n",
       "      <td>https://auto.ru/cars/used/sale/nissan/leaf/109...</td>\n",
       "      <td>серый</td>\n",
       "      <td>NaN</td>\n",
       "      <td>Leaf 30x Aero style. 30 квт.ч. 12 палок.\\nконт...</td>\n",
       "      <td>NaN</td>\n",
       "      <td>109 N12</td>\n",
       "      <td>{\"tinted-glass\":true,\"esp\":true,\"aux\":true,\"us...</td>\n",
       "      <td>электро</td>\n",
       "      <td>...</td>\n",
       "      <td>HATCHBACK_5_DOORS AUTOMATIC</td>\n",
       "      <td>автоматическая</td>\n",
       "      <td>JAPANESE</td>\n",
       "      <td>1 владелец</td>\n",
       "      <td>1 год и 3 месяца</td>\n",
       "      <td>Оригинал</td>\n",
       "      <td>передний</td>\n",
       "      <td>Правый</td>\n",
       "      <td>Не требует ремонта</td>\n",
       "      <td>Растаможен</td>\n",
       "    </tr>\n",
       "    <tr>\n",
       "      <th>12250</th>\n",
       "      <td>хэтчбек 5 дв.</td>\n",
       "      <td>NISSAN</td>\n",
       "      <td>https://auto.ru/cars/used/sale/nissan/leaf/109...</td>\n",
       "      <td>серый</td>\n",
       "      <td>NaN</td>\n",
       "      <td>Электромобиль в отличном состоянии,  пробег на...</td>\n",
       "      <td>NaN</td>\n",
       "      <td>109 N12</td>\n",
       "      <td>{\"engine-proof\":true,\"glonass\":true,\"tinted-gl...</td>\n",
       "      <td>электро</td>\n",
       "      <td>...</td>\n",
       "      <td>HATCHBACK_5_DOORS AUTOMATIC</td>\n",
       "      <td>автоматическая</td>\n",
       "      <td>JAPANESE</td>\n",
       "      <td>1 владелец</td>\n",
       "      <td>9 месяцев</td>\n",
       "      <td>Оригинал</td>\n",
       "      <td>передний</td>\n",
       "      <td>Правый</td>\n",
       "      <td>Не требует ремонта</td>\n",
       "      <td>Растаможен</td>\n",
       "    </tr>\n",
       "    <tr>\n",
       "      <th>12287</th>\n",
       "      <td>хэтчбек 5 дв.</td>\n",
       "      <td>NISSAN</td>\n",
       "      <td>https://auto.ru/cars/used/sale/nissan/leaf/109...</td>\n",
       "      <td>голубой</td>\n",
       "      <td>NaN</td>\n",
       "      <td>Продается Ниссан Leaf в полная комплектация(кр...</td>\n",
       "      <td>NaN</td>\n",
       "      <td>109 N12</td>\n",
       "      <td>{\"glonass\":true,\"esp\":true,\"aux\":true,\"usb\":tr...</td>\n",
       "      <td>электро</td>\n",
       "      <td>...</td>\n",
       "      <td>HATCHBACK_5_DOORS AUTOMATIC</td>\n",
       "      <td>автоматическая</td>\n",
       "      <td>JAPANESE</td>\n",
       "      <td>1 владелец</td>\n",
       "      <td>NaN</td>\n",
       "      <td>Оригинал</td>\n",
       "      <td>передний</td>\n",
       "      <td>Левый</td>\n",
       "      <td>Не требует ремонта</td>\n",
       "      <td>Растаможен</td>\n",
       "    </tr>\n",
       "    <tr>\n",
       "      <th>12334</th>\n",
       "      <td>хэтчбек 5 дв.</td>\n",
       "      <td>NISSAN</td>\n",
       "      <td>https://auto.ru/cars/used/sale/nissan/leaf/110...</td>\n",
       "      <td>чёрный</td>\n",
       "      <td>NaN</td>\n",
       "      <td>Продаю своего друга! Очень хорошая машина! Рад...</td>\n",
       "      <td>NaN</td>\n",
       "      <td>109 N12</td>\n",
       "      <td>{\"engine-proof\":true,\"cruise-control\":true,\"ti...</td>\n",
       "      <td>электро</td>\n",
       "      <td>...</td>\n",
       "      <td>HATCHBACK_5_DOORS AUTOMATIC</td>\n",
       "      <td>автоматическая</td>\n",
       "      <td>JAPANESE</td>\n",
       "      <td>1 владелец</td>\n",
       "      <td>5 месяцев</td>\n",
       "      <td>Оригинал</td>\n",
       "      <td>передний</td>\n",
       "      <td>Правый</td>\n",
       "      <td>Не требует ремонта</td>\n",
       "      <td>Растаможен</td>\n",
       "    </tr>\n",
       "    <tr>\n",
       "      <th>12466</th>\n",
       "      <td>хэтчбек 5 дв.</td>\n",
       "      <td>NISSAN</td>\n",
       "      <td>https://auto.ru/cars/used/sale/nissan/leaf/110...</td>\n",
       "      <td>чёрный</td>\n",
       "      <td>NaN</td>\n",
       "      <td>Аукционный авто, батарея 30 квт., куплен в 201...</td>\n",
       "      <td>NaN</td>\n",
       "      <td>109 N12</td>\n",
       "      <td>{\"cruise-control\":true,\"asr\":true,\"tinted-glas...</td>\n",
       "      <td>электро</td>\n",
       "      <td>...</td>\n",
       "      <td>HATCHBACK_5_DOORS AUTOMATIC</td>\n",
       "      <td>автоматическая</td>\n",
       "      <td>JAPANESE</td>\n",
       "      <td>1 владелец</td>\n",
       "      <td>2 года и 2 месяца</td>\n",
       "      <td>Оригинал</td>\n",
       "      <td>передний</td>\n",
       "      <td>Правый</td>\n",
       "      <td>Не требует ремонта</td>\n",
       "      <td>Растаможен</td>\n",
       "    </tr>\n",
       "    <tr>\n",
       "      <th>12481</th>\n",
       "      <td>хэтчбек 5 дв.</td>\n",
       "      <td>NISSAN</td>\n",
       "      <td>https://auto.ru/cars/used/sale/nissan/leaf/110...</td>\n",
       "      <td>белый</td>\n",
       "      <td>NaN</td>\n",
       "      <td>АВТОМОБИЛЬ В МОСКВЕ.\\n\\nПривозил под себя, езж...</td>\n",
       "      <td>NaN</td>\n",
       "      <td>109 N12</td>\n",
       "      <td>{\"cruise-control\":true,\"tinted-glass\":true,\"es...</td>\n",
       "      <td>электро</td>\n",
       "      <td>...</td>\n",
       "      <td>HATCHBACK_5_DOORS AUTOMATIC</td>\n",
       "      <td>автоматическая</td>\n",
       "      <td>JAPANESE</td>\n",
       "      <td>1 владелец</td>\n",
       "      <td>5 месяцев</td>\n",
       "      <td>Оригинал</td>\n",
       "      <td>передний</td>\n",
       "      <td>Правый</td>\n",
       "      <td>Не требует ремонта</td>\n",
       "      <td>Растаможен</td>\n",
       "    </tr>\n",
       "    <tr>\n",
       "      <th>12558</th>\n",
       "      <td>хэтчбек 5 дв.</td>\n",
       "      <td>NISSAN</td>\n",
       "      <td>https://auto.ru/cars/used/sale/nissan/leaf/109...</td>\n",
       "      <td>серебристый</td>\n",
       "      <td>NaN</td>\n",
       "      <td>Продам nissan leaf 2011 года🚗\\nЦена за наличку...</td>\n",
       "      <td>NaN</td>\n",
       "      <td>109 N12</td>\n",
       "      <td>{\"cruise-control\":true,\"asr\":true,\"tinted-glas...</td>\n",
       "      <td>электро</td>\n",
       "      <td>...</td>\n",
       "      <td>HATCHBACK_5_DOORS AUTOMATIC</td>\n",
       "      <td>автоматическая</td>\n",
       "      <td>JAPANESE</td>\n",
       "      <td>1 владелец</td>\n",
       "      <td>1 год и 2 месяца</td>\n",
       "      <td>Оригинал</td>\n",
       "      <td>передний</td>\n",
       "      <td>Правый</td>\n",
       "      <td>Не требует ремонта</td>\n",
       "      <td>Растаможен</td>\n",
       "    </tr>\n",
       "    <tr>\n",
       "      <th>12582</th>\n",
       "      <td>хэтчбек 5 дв.</td>\n",
       "      <td>NISSAN</td>\n",
       "      <td>https://auto.ru/cars/used/sale/nissan/leaf/109...</td>\n",
       "      <td>белый</td>\n",
       "      <td>NaN</td>\n",
       "      <td>16 модельный год (изг. декабрь 2015) \\nПокупал...</td>\n",
       "      <td>NaN</td>\n",
       "      <td>109 N12</td>\n",
       "      <td>{\"cruise-control\":true,\"asr\":true,\"tinted-glas...</td>\n",
       "      <td>электро</td>\n",
       "      <td>...</td>\n",
       "      <td>HATCHBACK_5_DOORS AUTOMATIC</td>\n",
       "      <td>автоматическая</td>\n",
       "      <td>JAPANESE</td>\n",
       "      <td>1 владелец</td>\n",
       "      <td>2 года и 6 месяцев</td>\n",
       "      <td>Оригинал</td>\n",
       "      <td>передний</td>\n",
       "      <td>Правый</td>\n",
       "      <td>Не требует ремонта</td>\n",
       "      <td>Растаможен</td>\n",
       "    </tr>\n",
       "    <tr>\n",
       "      <th>12678</th>\n",
       "      <td>хэтчбек 5 дв.</td>\n",
       "      <td>NISSAN</td>\n",
       "      <td>https://auto.ru/cars/used/sale/nissan/leaf/109...</td>\n",
       "      <td>чёрный</td>\n",
       "      <td>NaN</td>\n",
       "      <td>- Я первый собственник, авто завезено в июле 2...</td>\n",
       "      <td>NaN</td>\n",
       "      <td>109 N12</td>\n",
       "      <td>{\"cruise-control\":true,\"esp\":true,\"airbag-driv...</td>\n",
       "      <td>электро</td>\n",
       "      <td>...</td>\n",
       "      <td>HATCHBACK_5_DOORS AUTOMATIC</td>\n",
       "      <td>автоматическая</td>\n",
       "      <td>JAPANESE</td>\n",
       "      <td>1 владелец</td>\n",
       "      <td>1 год и 3 месяца</td>\n",
       "      <td>Оригинал</td>\n",
       "      <td>передний</td>\n",
       "      <td>Правый</td>\n",
       "      <td>Не требует ремонта</td>\n",
       "      <td>Растаможен</td>\n",
       "    </tr>\n",
       "    <tr>\n",
       "      <th>12749</th>\n",
       "      <td>хэтчбек 5 дв.</td>\n",
       "      <td>NISSAN</td>\n",
       "      <td>https://auto.ru/cars/used/sale/nissan/leaf/109...</td>\n",
       "      <td>чёрный</td>\n",
       "      <td>NaN</td>\n",
       "      <td>SOH — 87,99\\n\\nОтличная городская машина в иде...</td>\n",
       "      <td>NaN</td>\n",
       "      <td>109 N12</td>\n",
       "      <td>{\"engine-proof\":true,\"cruise-control\":true,\"as...</td>\n",
       "      <td>электро</td>\n",
       "      <td>...</td>\n",
       "      <td>HATCHBACK_5_DOORS AUTOMATIC</td>\n",
       "      <td>автоматическая</td>\n",
       "      <td>JAPANESE</td>\n",
       "      <td>1 владелец</td>\n",
       "      <td>1 год и 1 месяц</td>\n",
       "      <td>Оригинал</td>\n",
       "      <td>передний</td>\n",
       "      <td>Правый</td>\n",
       "      <td>Не требует ремонта</td>\n",
       "      <td>Растаможен</td>\n",
       "    </tr>\n",
       "    <tr>\n",
       "      <th>12854</th>\n",
       "      <td>хэтчбек 5 дв.</td>\n",
       "      <td>NISSAN</td>\n",
       "      <td>https://auto.ru/cars/used/sale/nissan/leaf/109...</td>\n",
       "      <td>чёрный</td>\n",
       "      <td>NaN</td>\n",
       "      <td>Машина в отличном состоянии. В дтп не была. Оч...</td>\n",
       "      <td>NaN</td>\n",
       "      <td>109 N12</td>\n",
       "      <td>{\"electro-window-back\":true,\"alloy-wheel-disks...</td>\n",
       "      <td>электро</td>\n",
       "      <td>...</td>\n",
       "      <td>HATCHBACK_5_DOORS AUTOMATIC</td>\n",
       "      <td>автоматическая</td>\n",
       "      <td>JAPANESE</td>\n",
       "      <td>2 владельца</td>\n",
       "      <td>11 месяцев</td>\n",
       "      <td>Оригинал</td>\n",
       "      <td>передний</td>\n",
       "      <td>Правый</td>\n",
       "      <td>Не требует ремонта</td>\n",
       "      <td>Растаможен</td>\n",
       "    </tr>\n",
       "    <tr>\n",
       "      <th>12916</th>\n",
       "      <td>хэтчбек 5 дв.</td>\n",
       "      <td>NISSAN</td>\n",
       "      <td>https://auto.ru/cars/used/sale/nissan/leaf/109...</td>\n",
       "      <td>чёрный</td>\n",
       "      <td>NaN</td>\n",
       "      <td>Автомобиль покупал на аукционе. Комплектация G...</td>\n",
       "      <td>NaN</td>\n",
       "      <td>109 N12</td>\n",
       "      <td>{\"cruise-control\":true,\"tinted-glass\":true,\"es...</td>\n",
       "      <td>электро</td>\n",
       "      <td>...</td>\n",
       "      <td>HATCHBACK_5_DOORS AUTOMATIC</td>\n",
       "      <td>автоматическая</td>\n",
       "      <td>JAPANESE</td>\n",
       "      <td>1 владелец</td>\n",
       "      <td>NaN</td>\n",
       "      <td>Оригинал</td>\n",
       "      <td>передний</td>\n",
       "      <td>Правый</td>\n",
       "      <td>Не требует ремонта</td>\n",
       "      <td>Растаможен</td>\n",
       "    </tr>\n",
       "    <tr>\n",
       "      <th>12948</th>\n",
       "      <td>хэтчбек 5 дв.</td>\n",
       "      <td>NISSAN</td>\n",
       "      <td>https://auto.ru/cars/used/sale/nissan/leaf/109...</td>\n",
       "      <td>серебристый</td>\n",
       "      <td>NaN</td>\n",
       "      <td>Продаю свою шикарную машину, которая радовала ...</td>\n",
       "      <td>NaN</td>\n",
       "      <td>109 N12</td>\n",
       "      <td>NaN</td>\n",
       "      <td>электро</td>\n",
       "      <td>...</td>\n",
       "      <td>HATCHBACK_5_DOORS AUTOMATIC</td>\n",
       "      <td>автоматическая</td>\n",
       "      <td>JAPANESE</td>\n",
       "      <td>2 владельца</td>\n",
       "      <td>NaN</td>\n",
       "      <td>Оригинал</td>\n",
       "      <td>передний</td>\n",
       "      <td>Правый</td>\n",
       "      <td>Не требует ремонта</td>\n",
       "      <td>Растаможен</td>\n",
       "    </tr>\n",
       "    <tr>\n",
       "      <th>12950</th>\n",
       "      <td>хэтчбек 5 дв.</td>\n",
       "      <td>NISSAN</td>\n",
       "      <td>https://auto.ru/cars/used/sale/nissan/leaf/109...</td>\n",
       "      <td>белый</td>\n",
       "      <td>NaN</td>\n",
       "      <td>Аукционный авто. 3.5 балла. В Москве с августа...</td>\n",
       "      <td>NaN</td>\n",
       "      <td>109 N12</td>\n",
       "      <td>{\"cruise-control\":true,\"asr\":true,\"tinted-glas...</td>\n",
       "      <td>электро</td>\n",
       "      <td>...</td>\n",
       "      <td>HATCHBACK_5_DOORS AUTOMATIC</td>\n",
       "      <td>автоматическая</td>\n",
       "      <td>JAPANESE</td>\n",
       "      <td>1 владелец</td>\n",
       "      <td>NaN</td>\n",
       "      <td>Оригинал</td>\n",
       "      <td>передний</td>\n",
       "      <td>Правый</td>\n",
       "      <td>Не требует ремонта</td>\n",
       "      <td>Растаможен</td>\n",
       "    </tr>\n",
       "    <tr>\n",
       "      <th>13052</th>\n",
       "      <td>хэтчбек 5 дв.</td>\n",
       "      <td>NISSAN</td>\n",
       "      <td>https://auto.ru/cars/used/sale/nissan/leaf/109...</td>\n",
       "      <td>белый</td>\n",
       "      <td>NaN</td>\n",
       "      <td>Доброго времени суток. Продаю Nissan Leaf AZEO...</td>\n",
       "      <td>NaN</td>\n",
       "      <td>109 N12</td>\n",
       "      <td>{\"cruise-control\":true,\"tinted-glass\":true,\"es...</td>\n",
       "      <td>электро</td>\n",
       "      <td>...</td>\n",
       "      <td>HATCHBACK_5_DOORS AUTOMATIC</td>\n",
       "      <td>автоматическая</td>\n",
       "      <td>JAPANESE</td>\n",
       "      <td>1 владелец</td>\n",
       "      <td>3 года и 4 месяца</td>\n",
       "      <td>Оригинал</td>\n",
       "      <td>передний</td>\n",
       "      <td>Правый</td>\n",
       "      <td>Не требует ремонта</td>\n",
       "      <td>Растаможен</td>\n",
       "    </tr>\n",
       "    <tr>\n",
       "      <th>13104</th>\n",
       "      <td>хэтчбек 5 дв.</td>\n",
       "      <td>NISSAN</td>\n",
       "      <td>https://auto.ru/cars/used/sale/nissan/leaf/109...</td>\n",
       "      <td>белый</td>\n",
       "      <td>NaN</td>\n",
       "      <td>\\n- за данную  цену продают без велюра и матов...</td>\n",
       "      <td>NaN</td>\n",
       "      <td>109 N12</td>\n",
       "      <td>{\"cruise-control\":true,\"esp\":true,\"adaptive-li...</td>\n",
       "      <td>электро</td>\n",
       "      <td>...</td>\n",
       "      <td>HATCHBACK_5_DOORS AUTOMATIC</td>\n",
       "      <td>автоматическая</td>\n",
       "      <td>JAPANESE</td>\n",
       "      <td>1 владелец</td>\n",
       "      <td>1 год</td>\n",
       "      <td>Оригинал</td>\n",
       "      <td>передний</td>\n",
       "      <td>Правый</td>\n",
       "      <td>Не требует ремонта</td>\n",
       "      <td>Растаможен</td>\n",
       "    </tr>\n",
       "    <tr>\n",
       "      <th>13105</th>\n",
       "      <td>хэтчбек 5 дв.</td>\n",
       "      <td>NISSAN</td>\n",
       "      <td>https://auto.ru/cars/used/sale/nissan/leaf/108...</td>\n",
       "      <td>серебристый</td>\n",
       "      <td>NaN</td>\n",
       "      <td>Новая резина. Куплена не в кредит. Не прокурен...</td>\n",
       "      <td>NaN</td>\n",
       "      <td>109 N12</td>\n",
       "      <td>{\"cruise-control\":true,\"tinted-glass\":true,\"st...</td>\n",
       "      <td>электро</td>\n",
       "      <td>...</td>\n",
       "      <td>HATCHBACK_5_DOORS AUTOMATIC</td>\n",
       "      <td>автоматическая</td>\n",
       "      <td>JAPANESE</td>\n",
       "      <td>1 владелец</td>\n",
       "      <td>2 года и 4 месяца</td>\n",
       "      <td>Оригинал</td>\n",
       "      <td>передний</td>\n",
       "      <td>Правый</td>\n",
       "      <td>Не требует ремонта</td>\n",
       "      <td>Растаможен</td>\n",
       "    </tr>\n",
       "    <tr>\n",
       "      <th>13478</th>\n",
       "      <td>хэтчбек 5 дв.</td>\n",
       "      <td>NISSAN</td>\n",
       "      <td>https://auto.ru/cars/used/sale/nissan/leaf/110...</td>\n",
       "      <td>красный</td>\n",
       "      <td>NaN</td>\n",
       "      <td>Aze0 30 кВт, SOH 77.5, 10 делений, я 1й владел...</td>\n",
       "      <td>NaN</td>\n",
       "      <td>109 N12</td>\n",
       "      <td>{\"cruise-control\":true,\"airbag-driver\":true,\"a...</td>\n",
       "      <td>электро</td>\n",
       "      <td>...</td>\n",
       "      <td>HATCHBACK_5_DOORS AUTOMATIC</td>\n",
       "      <td>автоматическая</td>\n",
       "      <td>JAPANESE</td>\n",
       "      <td>1 владелец</td>\n",
       "      <td>4 месяца</td>\n",
       "      <td>Оригинал</td>\n",
       "      <td>передний</td>\n",
       "      <td>Правый</td>\n",
       "      <td>Не требует ремонта</td>\n",
       "      <td>Растаможен</td>\n",
       "    </tr>\n",
       "    <tr>\n",
       "      <th>13633</th>\n",
       "      <td>хэтчбек 5 дв.</td>\n",
       "      <td>NISSAN</td>\n",
       "      <td>https://auto.ru/cars/used/sale/nissan/leaf/100...</td>\n",
       "      <td>синий</td>\n",
       "      <td>NaN</td>\n",
       "      <td>На машине стоит вебасто с термоколом. Управляе...</td>\n",
       "      <td>NaN</td>\n",
       "      <td>109 N12</td>\n",
       "      <td>NaN</td>\n",
       "      <td>электро</td>\n",
       "      <td>...</td>\n",
       "      <td>HATCHBACK_5_DOORS AUTOMATIC</td>\n",
       "      <td>автоматическая</td>\n",
       "      <td>JAPANESE</td>\n",
       "      <td>2 владельца</td>\n",
       "      <td>5 лет и 10 месяцев</td>\n",
       "      <td>Оригинал</td>\n",
       "      <td>передний</td>\n",
       "      <td>Левый</td>\n",
       "      <td>Не требует ремонта</td>\n",
       "      <td>Растаможен</td>\n",
       "    </tr>\n",
       "    <tr>\n",
       "      <th>13660</th>\n",
       "      <td>хэтчбек 5 дв.</td>\n",
       "      <td>NISSAN</td>\n",
       "      <td>https://auto.ru/cars/used/sale/nissan/leaf/109...</td>\n",
       "      <td>чёрный</td>\n",
       "      <td>NaN</td>\n",
       "      <td>Отличное состояние. Полная комплектация. Подро...</td>\n",
       "      <td>NaN</td>\n",
       "      <td>109 N12</td>\n",
       "      <td>{\"cruise-control\":true,\"tinted-glass\":true,\"es...</td>\n",
       "      <td>электро</td>\n",
       "      <td>...</td>\n",
       "      <td>HATCHBACK_5_DOORS AUTOMATIC</td>\n",
       "      <td>автоматическая</td>\n",
       "      <td>JAPANESE</td>\n",
       "      <td>1 владелец</td>\n",
       "      <td>1 год и 3 месяца</td>\n",
       "      <td>Оригинал</td>\n",
       "      <td>передний</td>\n",
       "      <td>Правый</td>\n",
       "      <td>Не требует ремонта</td>\n",
       "      <td>Растаможен</td>\n",
       "    </tr>\n",
       "    <tr>\n",
       "      <th>13720</th>\n",
       "      <td>хэтчбек 5 дв.</td>\n",
       "      <td>NISSAN</td>\n",
       "      <td>https://auto.ru/cars/used/sale/nissan/leaf/109...</td>\n",
       "      <td>красный</td>\n",
       "      <td>NaN</td>\n",
       "      <td>SOH 70 / 8 делений / отличный авто для города ...</td>\n",
       "      <td>NaN</td>\n",
       "      <td>109 N12</td>\n",
       "      <td>{\"electro-window-back\":true,\"esp\":true,\"start-...</td>\n",
       "      <td>электро</td>\n",
       "      <td>...</td>\n",
       "      <td>HATCHBACK_5_DOORS AUTOMATIC</td>\n",
       "      <td>автоматическая</td>\n",
       "      <td>JAPANESE</td>\n",
       "      <td>1 владелец</td>\n",
       "      <td>NaN</td>\n",
       "      <td>Оригинал</td>\n",
       "      <td>передний</td>\n",
       "      <td>Правый</td>\n",
       "      <td>Не требует ремонта</td>\n",
       "      <td>Растаможен</td>\n",
       "    </tr>\n",
       "    <tr>\n",
       "      <th>13812</th>\n",
       "      <td>хэтчбек 5 дв.</td>\n",
       "      <td>NISSAN</td>\n",
       "      <td>https://auto.ru/cars/used/sale/nissan/leaf/109...</td>\n",
       "      <td>голубой</td>\n",
       "      <td>NaN</td>\n",
       "      <td>Хозяин, владею два года, богатая комплектация,...</td>\n",
       "      <td>NaN</td>\n",
       "      <td>109 N12</td>\n",
       "      <td>NaN</td>\n",
       "      <td>электро</td>\n",
       "      <td>...</td>\n",
       "      <td>HATCHBACK_5_DOORS AUTOMATIC</td>\n",
       "      <td>автоматическая</td>\n",
       "      <td>JAPANESE</td>\n",
       "      <td>1 владелец</td>\n",
       "      <td>NaN</td>\n",
       "      <td>Оригинал</td>\n",
       "      <td>передний</td>\n",
       "      <td>Правый</td>\n",
       "      <td>Не требует ремонта</td>\n",
       "      <td>Растаможен</td>\n",
       "    </tr>\n",
       "    <tr>\n",
       "      <th>13915</th>\n",
       "      <td>хэтчбек 5 дв.</td>\n",
       "      <td>NISSAN</td>\n",
       "      <td>https://auto.ru/cars/used/sale/nissan/leaf/108...</td>\n",
       "      <td>красный</td>\n",
       "      <td>NaN</td>\n",
       "      <td>Правый руль.Батарея 30 кВт,Тепловой насос. (До...</td>\n",
       "      <td>NaN</td>\n",
       "      <td>109 N12</td>\n",
       "      <td>{\"cruise-control\":true,\"steel-wheels\":true,\"au...</td>\n",
       "      <td>электро</td>\n",
       "      <td>...</td>\n",
       "      <td>HATCHBACK_5_DOORS AUTOMATIC</td>\n",
       "      <td>автоматическая</td>\n",
       "      <td>JAPANESE</td>\n",
       "      <td>1 владелец</td>\n",
       "      <td>2 года и 4 месяца</td>\n",
       "      <td>Оригинал</td>\n",
       "      <td>передний</td>\n",
       "      <td>Правый</td>\n",
       "      <td>Не требует ремонта</td>\n",
       "      <td>Растаможен</td>\n",
       "    </tr>\n",
       "    <tr>\n",
       "      <th>13952</th>\n",
       "      <td>хэтчбек 5 дв.</td>\n",
       "      <td>NISSAN</td>\n",
       "      <td>https://auto.ru/cars/used/sale/nissan/leaf/110...</td>\n",
       "      <td>белый</td>\n",
       "      <td>NaN</td>\n",
       "      <td>Продается электро-автомобиль в хорошем состоян...</td>\n",
       "      <td>NaN</td>\n",
       "      <td>109 N12</td>\n",
       "      <td>{\"electro-window-back\":true,\"cruise-control\":t...</td>\n",
       "      <td>электро</td>\n",
       "      <td>...</td>\n",
       "      <td>HATCHBACK_5_DOORS AUTOMATIC</td>\n",
       "      <td>автоматическая</td>\n",
       "      <td>JAPANESE</td>\n",
       "      <td>1 владелец</td>\n",
       "      <td>11 месяцев</td>\n",
       "      <td>Оригинал</td>\n",
       "      <td>передний</td>\n",
       "      <td>Правый</td>\n",
       "      <td>Не требует ремонта</td>\n",
       "      <td>Растаможен</td>\n",
       "    </tr>\n",
       "    <tr>\n",
       "      <th>13989</th>\n",
       "      <td>хэтчбек 5 дв.</td>\n",
       "      <td>NISSAN</td>\n",
       "      <td>https://auto.ru/cars/used/sale/nissan/leaf/109...</td>\n",
       "      <td>чёрный</td>\n",
       "      <td>NaN</td>\n",
       "      <td>Только что привезен напрямую с аукциона в Япон...</td>\n",
       "      <td>NaN</td>\n",
       "      <td>109 N12</td>\n",
       "      <td>{\"electro-window-back\":true,\"16-inch-wheels\":t...</td>\n",
       "      <td>электро</td>\n",
       "      <td>...</td>\n",
       "      <td>HATCHBACK_5_DOORS AUTOMATIC</td>\n",
       "      <td>автоматическая</td>\n",
       "      <td>JAPANESE</td>\n",
       "      <td>1 владелец</td>\n",
       "      <td>11 месяцев</td>\n",
       "      <td>Оригинал</td>\n",
       "      <td>передний</td>\n",
       "      <td>Правый</td>\n",
       "      <td>Не требует ремонта</td>\n",
       "      <td>Растаможен</td>\n",
       "    </tr>\n",
       "    <tr>\n",
       "      <th>14147</th>\n",
       "      <td>хэтчбек 5 дв.</td>\n",
       "      <td>NISSAN</td>\n",
       "      <td>https://auto.ru/cars/used/sale/nissan/leaf/109...</td>\n",
       "      <td>серый</td>\n",
       "      <td>NaN</td>\n",
       "      <td>Продаю отличного лифа. Сох 69. Соответствует г...</td>\n",
       "      <td>NaN</td>\n",
       "      <td>109 N12</td>\n",
       "      <td>{\"glonass\":true,\"esp\":true,\"start-stop-functio...</td>\n",
       "      <td>электро</td>\n",
       "      <td>...</td>\n",
       "      <td>HATCHBACK_5_DOORS AUTOMATIC</td>\n",
       "      <td>автоматическая</td>\n",
       "      <td>JAPANESE</td>\n",
       "      <td>2 владельца</td>\n",
       "      <td>NaN</td>\n",
       "      <td>Оригинал</td>\n",
       "      <td>передний</td>\n",
       "      <td>Правый</td>\n",
       "      <td>Не требует ремонта</td>\n",
       "      <td>Растаможен</td>\n",
       "    </tr>\n",
       "    <tr>\n",
       "      <th>14419</th>\n",
       "      <td>хэтчбек 5 дв.</td>\n",
       "      <td>NISSAN</td>\n",
       "      <td>https://auto.ru/cars/used/sale/nissan/leaf/109...</td>\n",
       "      <td>серый</td>\n",
       "      <td>NaN</td>\n",
       "      <td>Причина продажи — хочу ZE1. Если сел на электр...</td>\n",
       "      <td>NaN</td>\n",
       "      <td>109 N12</td>\n",
       "      <td>{\"cruise-control\":true,\"asr\":true,\"esp\":true,\"...</td>\n",
       "      <td>электро</td>\n",
       "      <td>...</td>\n",
       "      <td>HATCHBACK_5_DOORS AUTOMATIC</td>\n",
       "      <td>автоматическая</td>\n",
       "      <td>JAPANESE</td>\n",
       "      <td>2 владельца</td>\n",
       "      <td>1 год и 1 месяц</td>\n",
       "      <td>Оригинал</td>\n",
       "      <td>передний</td>\n",
       "      <td>Правый</td>\n",
       "      <td>Не требует ремонта</td>\n",
       "      <td>Растаможен</td>\n",
       "    </tr>\n",
       "    <tr>\n",
       "      <th>23869</th>\n",
       "      <td>хэтчбек 5 дв.</td>\n",
       "      <td>VOLKSWAGEN</td>\n",
       "      <td>https://auto.ru/cars/used/sale/volkswagen/golf...</td>\n",
       "      <td>чёрный</td>\n",
       "      <td>NaN</td>\n",
       "      <td>Отличный, немецкий, полностью электрический ав...</td>\n",
       "      <td>NaN</td>\n",
       "      <td>115 N12</td>\n",
       "      <td>{\"cruise-control\":true,\"asr\":true,\"esp\":true,\"...</td>\n",
       "      <td>электро</td>\n",
       "      <td>...</td>\n",
       "      <td>HATCHBACK_5_DOORS AUTOMATIC</td>\n",
       "      <td>автоматическая</td>\n",
       "      <td>EUROPEAN</td>\n",
       "      <td>1 владелец</td>\n",
       "      <td>NaN</td>\n",
       "      <td>Оригинал</td>\n",
       "      <td>передний</td>\n",
       "      <td>Левый</td>\n",
       "      <td>Не требует ремонта</td>\n",
       "      <td>Растаможен</td>\n",
       "    </tr>\n",
       "    <tr>\n",
       "      <th>23948</th>\n",
       "      <td>хэтчбек 5 дв.</td>\n",
       "      <td>VOLKSWAGEN</td>\n",
       "      <td>https://auto.ru/cars/used/sale/volkswagen/golf...</td>\n",
       "      <td>белый</td>\n",
       "      <td>NaN</td>\n",
       "      <td>Внимание! Только для клиентов AVILON Автомобил...</td>\n",
       "      <td>NaN</td>\n",
       "      <td>115 N12</td>\n",
       "      <td>{\"cruise-control\":true,\"engine-proof\":true,\"es...</td>\n",
       "      <td>электро</td>\n",
       "      <td>...</td>\n",
       "      <td>HATCHBACK_5_DOORS AUTOMATIC</td>\n",
       "      <td>автоматическая</td>\n",
       "      <td>EUROPEAN</td>\n",
       "      <td>1 владелец</td>\n",
       "      <td>NaN</td>\n",
       "      <td>Оригинал</td>\n",
       "      <td>передний</td>\n",
       "      <td>Левый</td>\n",
       "      <td>Не требует ремонта</td>\n",
       "      <td>Растаможен</td>\n",
       "    </tr>\n",
       "    <tr>\n",
       "      <th>27064</th>\n",
       "      <td>хэтчбек 5 дв.</td>\n",
       "      <td>MITSUBISHI</td>\n",
       "      <td>https://auto.ru/cars/used/sale/mitsubishi/i_mi...</td>\n",
       "      <td>белый</td>\n",
       "      <td>NaN</td>\n",
       "      <td>Авто в идеальном состоянии.\\nНа днях пройдено ...</td>\n",
       "      <td>NaN</td>\n",
       "      <td>67 N12</td>\n",
       "      <td>NaN</td>\n",
       "      <td>электро</td>\n",
       "      <td>...</td>\n",
       "      <td>HATCHBACK_5_DOORS AUTOMATIC</td>\n",
       "      <td>автоматическая</td>\n",
       "      <td>JAPANESE</td>\n",
       "      <td>2 владельца</td>\n",
       "      <td>4 года</td>\n",
       "      <td>Оригинал</td>\n",
       "      <td>задний</td>\n",
       "      <td>Левый</td>\n",
       "      <td>Не требует ремонта</td>\n",
       "      <td>Растаможен</td>\n",
       "    </tr>\n",
       "    <tr>\n",
       "      <th>28241</th>\n",
       "      <td>хэтчбек 5 дв.</td>\n",
       "      <td>MITSUBISHI</td>\n",
       "      <td>https://auto.ru/cars/used/sale/mitsubishi/i_mi...</td>\n",
       "      <td>серебристый</td>\n",
       "      <td>NaN</td>\n",
       "      <td>Добрый день. Самая полная комплектация 16 Кват...</td>\n",
       "      <td>NaN</td>\n",
       "      <td>67 N12</td>\n",
       "      <td>NaN</td>\n",
       "      <td>электро</td>\n",
       "      <td>...</td>\n",
       "      <td>HATCHBACK_5_DOORS AUTOMATIC</td>\n",
       "      <td>автоматическая</td>\n",
       "      <td>JAPANESE</td>\n",
       "      <td>2 владельца</td>\n",
       "      <td>NaN</td>\n",
       "      <td>Оригинал</td>\n",
       "      <td>задний</td>\n",
       "      <td>Правый</td>\n",
       "      <td>Не требует ремонта</td>\n",
       "      <td>Растаможен</td>\n",
       "    </tr>\n",
       "    <tr>\n",
       "      <th>32668</th>\n",
       "      <td>хэтчбек 5 дв.</td>\n",
       "      <td>NISSAN</td>\n",
       "      <td>https://auto.ru/cars/used/sale/nissan/leaf/110...</td>\n",
       "      <td>чёрный</td>\n",
       "      <td>NaN</td>\n",
       "      <td>Абсолютно новый автомобиль, богатая комплектац...</td>\n",
       "      <td>NaN</td>\n",
       "      <td>150 N12</td>\n",
       "      <td>{\"cruise-control\":true,\"glonass\":true,\"ptf\":tr...</td>\n",
       "      <td>электро</td>\n",
       "      <td>...</td>\n",
       "      <td>HATCHBACK_5_DOORS AUTOMATIC</td>\n",
       "      <td>автоматическая</td>\n",
       "      <td>JAPANESE</td>\n",
       "      <td>1 владелец</td>\n",
       "      <td>1 год и 10 месяцев</td>\n",
       "      <td>Оригинал</td>\n",
       "      <td>передний</td>\n",
       "      <td>Левый</td>\n",
       "      <td>Не требует ремонта</td>\n",
       "      <td>Растаможен</td>\n",
       "    </tr>\n",
       "    <tr>\n",
       "      <th>32700</th>\n",
       "      <td>хэтчбек 5 дв.</td>\n",
       "      <td>NISSAN</td>\n",
       "      <td>https://auto.ru/cars/used/sale/nissan/leaf/110...</td>\n",
       "      <td>голубой</td>\n",
       "      <td>NaN</td>\n",
       "      <td>Оригинальный аукционный лист.Оценка 4 балла.  ...</td>\n",
       "      <td>NaN</td>\n",
       "      <td>109 N12</td>\n",
       "      <td>{\"cruise-control\":true,\"airbag-rear-side\":true...</td>\n",
       "      <td>электро</td>\n",
       "      <td>...</td>\n",
       "      <td>HATCHBACK_5_DOORS AUTOMATIC</td>\n",
       "      <td>автоматическая</td>\n",
       "      <td>JAPANESE</td>\n",
       "      <td>1 владелец</td>\n",
       "      <td>5 месяцев</td>\n",
       "      <td>Оригинал</td>\n",
       "      <td>передний</td>\n",
       "      <td>Правый</td>\n",
       "      <td>Не требует ремонта</td>\n",
       "      <td>Растаможен</td>\n",
       "    </tr>\n",
       "    <tr>\n",
       "      <th>32798</th>\n",
       "      <td>хэтчбек 5 дв.</td>\n",
       "      <td>NISSAN</td>\n",
       "      <td>https://auto.ru/cars/used/sale/nissan/leaf/109...</td>\n",
       "      <td>чёрный</td>\n",
       "      <td>NaN</td>\n",
       "      <td>Я хозяин. Вписан в ПТС.</td>\n",
       "      <td>NaN</td>\n",
       "      <td>109 N12</td>\n",
       "      <td>{\"tinted-glass\":true,\"esp\":true,\"start-stop-fu...</td>\n",
       "      <td>электро</td>\n",
       "      <td>...</td>\n",
       "      <td>HATCHBACK_5_DOORS AUTOMATIC</td>\n",
       "      <td>автоматическая</td>\n",
       "      <td>JAPANESE</td>\n",
       "      <td>1 владелец</td>\n",
       "      <td>NaN</td>\n",
       "      <td>Оригинал</td>\n",
       "      <td>передний</td>\n",
       "      <td>Правый</td>\n",
       "      <td>Не требует ремонта</td>\n",
       "      <td>Растаможен</td>\n",
       "    </tr>\n",
       "    <tr>\n",
       "      <th>34159</th>\n",
       "      <td>хэтчбек 5 дв.</td>\n",
       "      <td>MERCEDES</td>\n",
       "      <td>https://auto.ru/cars/used/sale/mercedes/b_klas...</td>\n",
       "      <td>белый</td>\n",
       "      <td>NaN</td>\n",
       "      <td>Автомобиль куплен в Германии (европейская верс...</td>\n",
       "      <td>NaN</td>\n",
       "      <td>179 N12</td>\n",
       "      <td>{\"cruise-control\":true,\"airbag-driver\":true,\"a...</td>\n",
       "      <td>электро</td>\n",
       "      <td>...</td>\n",
       "      <td>HATCHBACK_5_DOORS AUTOMATIC</td>\n",
       "      <td>автоматическая</td>\n",
       "      <td>EUROPEAN</td>\n",
       "      <td>2 владельца</td>\n",
       "      <td>10 месяцев</td>\n",
       "      <td>Оригинал</td>\n",
       "      <td>передний</td>\n",
       "      <td>Левый</td>\n",
       "      <td>Не требует ремонта</td>\n",
       "      <td>Растаможен</td>\n",
       "    </tr>\n",
       "    <tr>\n",
       "      <th>34504</th>\n",
       "      <td>хэтчбек 5 дв.</td>\n",
       "      <td>NISSAN</td>\n",
       "      <td>https://auto.ru/cars/used/sale/nissan/leaf/110...</td>\n",
       "      <td>чёрный</td>\n",
       "      <td>NaN</td>\n",
       "      <td>В отличном состоянии вложений не требует.</td>\n",
       "      <td>NaN</td>\n",
       "      <td>109 N12</td>\n",
       "      <td>{\"alloy-wheel-disks\":true,\"tinted-glass\":true,...</td>\n",
       "      <td>электро</td>\n",
       "      <td>...</td>\n",
       "      <td>HATCHBACK_5_DOORS AUTOMATIC</td>\n",
       "      <td>автоматическая</td>\n",
       "      <td>JAPANESE</td>\n",
       "      <td>2 владельца</td>\n",
       "      <td>2 года и 1 месяц</td>\n",
       "      <td>Оригинал</td>\n",
       "      <td>передний</td>\n",
       "      <td>Правый</td>\n",
       "      <td>Не требует ремонта</td>\n",
       "      <td>Растаможен</td>\n",
       "    </tr>\n",
       "  </tbody>\n",
       "</table>\n",
       "<p>55 rows × 32 columns</p>\n",
       "</div>"
      ],
      "text/plain": [
       "                bodyType       brand  \\\n",
       "5241   внедорожник 5 дв.        AUDI   \n",
       "7992       хэтчбек 5 дв.         BMW   \n",
       "8252       хэтчбек 5 дв.         BMW   \n",
       "8350       хэтчбек 5 дв.         BMW   \n",
       "8684       хэтчбек 5 дв.         BMW   \n",
       "8722       хэтчбек 5 дв.         BMW   \n",
       "8917       хэтчбек 5 дв.         BMW   \n",
       "10817      хэтчбек 5 дв.         BMW   \n",
       "10936      хэтчбек 5 дв.         BMW   \n",
       "11043      хэтчбек 5 дв.         BMW   \n",
       "11302      хэтчбек 5 дв.      NISSAN   \n",
       "11682      хэтчбек 5 дв.      NISSAN   \n",
       "11714      хэтчбек 5 дв.      NISSAN   \n",
       "11719      хэтчбек 5 дв.      NISSAN   \n",
       "11754      хэтчбек 5 дв.      NISSAN   \n",
       "11878      хэтчбек 5 дв.      NISSAN   \n",
       "11974      хэтчбек 5 дв.      NISSAN   \n",
       "12072      хэтчбек 5 дв.      NISSAN   \n",
       "12085      хэтчбек 5 дв.      NISSAN   \n",
       "12100      хэтчбек 5 дв.      NISSAN   \n",
       "12250      хэтчбек 5 дв.      NISSAN   \n",
       "12287      хэтчбек 5 дв.      NISSAN   \n",
       "12334      хэтчбек 5 дв.      NISSAN   \n",
       "12466      хэтчбек 5 дв.      NISSAN   \n",
       "12481      хэтчбек 5 дв.      NISSAN   \n",
       "12558      хэтчбек 5 дв.      NISSAN   \n",
       "12582      хэтчбек 5 дв.      NISSAN   \n",
       "12678      хэтчбек 5 дв.      NISSAN   \n",
       "12749      хэтчбек 5 дв.      NISSAN   \n",
       "12854      хэтчбек 5 дв.      NISSAN   \n",
       "12916      хэтчбек 5 дв.      NISSAN   \n",
       "12948      хэтчбек 5 дв.      NISSAN   \n",
       "12950      хэтчбек 5 дв.      NISSAN   \n",
       "13052      хэтчбек 5 дв.      NISSAN   \n",
       "13104      хэтчбек 5 дв.      NISSAN   \n",
       "13105      хэтчбек 5 дв.      NISSAN   \n",
       "13478      хэтчбек 5 дв.      NISSAN   \n",
       "13633      хэтчбек 5 дв.      NISSAN   \n",
       "13660      хэтчбек 5 дв.      NISSAN   \n",
       "13720      хэтчбек 5 дв.      NISSAN   \n",
       "13812      хэтчбек 5 дв.      NISSAN   \n",
       "13915      хэтчбек 5 дв.      NISSAN   \n",
       "13952      хэтчбек 5 дв.      NISSAN   \n",
       "13989      хэтчбек 5 дв.      NISSAN   \n",
       "14147      хэтчбек 5 дв.      NISSAN   \n",
       "14419      хэтчбек 5 дв.      NISSAN   \n",
       "23869      хэтчбек 5 дв.  VOLKSWAGEN   \n",
       "23948      хэтчбек 5 дв.  VOLKSWAGEN   \n",
       "27064      хэтчбек 5 дв.  MITSUBISHI   \n",
       "28241      хэтчбек 5 дв.  MITSUBISHI   \n",
       "32668      хэтчбек 5 дв.      NISSAN   \n",
       "32700      хэтчбек 5 дв.      NISSAN   \n",
       "32798      хэтчбек 5 дв.      NISSAN   \n",
       "34159      хэтчбек 5 дв.    MERCEDES   \n",
       "34504      хэтчбек 5 дв.      NISSAN   \n",
       "\n",
       "                                                 car_url        color  \\\n",
       "5241   https://auto.ru/cars/used/sale/audi/e_tron/110...        белый   \n",
       "7992   https://auto.ru/cars/used/sale/bmw/i3/11010431...        синий   \n",
       "8252   https://auto.ru/cars/used/sale/bmw/i3/11012780...        серый   \n",
       "8350   https://auto.ru/cars/used/sale/bmw/i3/11002716...        белый   \n",
       "8684   https://auto.ru/cars/used/sale/bmw/i3/11011745...       чёрный   \n",
       "8722   https://auto.ru/cars/used/sale/bmw/i3/11000973...      голубой   \n",
       "8917   https://auto.ru/cars/used/sale/bmw/i3/11008715...      бежевый   \n",
       "10817  https://auto.ru/cars/used/sale/bmw/i3/11012664...        серый   \n",
       "10936  https://auto.ru/cars/used/sale/bmw/i3/10996733...       чёрный   \n",
       "11043  https://auto.ru/cars/used/sale/bmw/i3/10993761...        серый   \n",
       "11302  https://auto.ru/cars/used/sale/nissan/leaf/110...      голубой   \n",
       "11682  https://auto.ru/cars/used/sale/nissan/leaf/110...        белый   \n",
       "11714  https://auto.ru/cars/used/sale/nissan/leaf/109...        белый   \n",
       "11719  https://auto.ru/cars/used/sale/nissan/leaf/109...        белый   \n",
       "11754  https://auto.ru/cars/used/sale/nissan/leaf/110...        белый   \n",
       "11878  https://auto.ru/cars/used/sale/nissan/leaf/110...  серебристый   \n",
       "11974  https://auto.ru/cars/used/sale/nissan/leaf/108...       чёрный   \n",
       "12072  https://auto.ru/cars/used/sale/nissan/leaf/110...       чёрный   \n",
       "12085  https://auto.ru/cars/used/sale/nissan/leaf/109...      голубой   \n",
       "12100  https://auto.ru/cars/used/sale/nissan/leaf/109...        серый   \n",
       "12250  https://auto.ru/cars/used/sale/nissan/leaf/109...        серый   \n",
       "12287  https://auto.ru/cars/used/sale/nissan/leaf/109...      голубой   \n",
       "12334  https://auto.ru/cars/used/sale/nissan/leaf/110...       чёрный   \n",
       "12466  https://auto.ru/cars/used/sale/nissan/leaf/110...       чёрный   \n",
       "12481  https://auto.ru/cars/used/sale/nissan/leaf/110...        белый   \n",
       "12558  https://auto.ru/cars/used/sale/nissan/leaf/109...  серебристый   \n",
       "12582  https://auto.ru/cars/used/sale/nissan/leaf/109...        белый   \n",
       "12678  https://auto.ru/cars/used/sale/nissan/leaf/109...       чёрный   \n",
       "12749  https://auto.ru/cars/used/sale/nissan/leaf/109...       чёрный   \n",
       "12854  https://auto.ru/cars/used/sale/nissan/leaf/109...       чёрный   \n",
       "12916  https://auto.ru/cars/used/sale/nissan/leaf/109...       чёрный   \n",
       "12948  https://auto.ru/cars/used/sale/nissan/leaf/109...  серебристый   \n",
       "12950  https://auto.ru/cars/used/sale/nissan/leaf/109...        белый   \n",
       "13052  https://auto.ru/cars/used/sale/nissan/leaf/109...        белый   \n",
       "13104  https://auto.ru/cars/used/sale/nissan/leaf/109...        белый   \n",
       "13105  https://auto.ru/cars/used/sale/nissan/leaf/108...  серебристый   \n",
       "13478  https://auto.ru/cars/used/sale/nissan/leaf/110...      красный   \n",
       "13633  https://auto.ru/cars/used/sale/nissan/leaf/100...        синий   \n",
       "13660  https://auto.ru/cars/used/sale/nissan/leaf/109...       чёрный   \n",
       "13720  https://auto.ru/cars/used/sale/nissan/leaf/109...      красный   \n",
       "13812  https://auto.ru/cars/used/sale/nissan/leaf/109...      голубой   \n",
       "13915  https://auto.ru/cars/used/sale/nissan/leaf/108...      красный   \n",
       "13952  https://auto.ru/cars/used/sale/nissan/leaf/110...        белый   \n",
       "13989  https://auto.ru/cars/used/sale/nissan/leaf/109...       чёрный   \n",
       "14147  https://auto.ru/cars/used/sale/nissan/leaf/109...        серый   \n",
       "14419  https://auto.ru/cars/used/sale/nissan/leaf/109...        серый   \n",
       "23869  https://auto.ru/cars/used/sale/volkswagen/golf...       чёрный   \n",
       "23948  https://auto.ru/cars/used/sale/volkswagen/golf...        белый   \n",
       "27064  https://auto.ru/cars/used/sale/mitsubishi/i_mi...        белый   \n",
       "28241  https://auto.ru/cars/used/sale/mitsubishi/i_mi...  серебристый   \n",
       "32668  https://auto.ru/cars/used/sale/nissan/leaf/110...       чёрный   \n",
       "32700  https://auto.ru/cars/used/sale/nissan/leaf/110...      голубой   \n",
       "32798  https://auto.ru/cars/used/sale/nissan/leaf/109...       чёрный   \n",
       "34159  https://auto.ru/cars/used/sale/mercedes/b_klas...        белый   \n",
       "34504  https://auto.ru/cars/used/sale/nissan/leaf/110...       чёрный   \n",
       "\n",
       "                                      complectation_dict  \\\n",
       "5241                                                 NaN   \n",
       "7992                                                 NaN   \n",
       "8252                                                 NaN   \n",
       "8350   {\"id\":\"21624597\",\"name\":\"i3 120 Ah\",\"available...   \n",
       "8684                                                 NaN   \n",
       "8722                                                 NaN   \n",
       "8917                                                 NaN   \n",
       "10817                                                NaN   \n",
       "10936                                                NaN   \n",
       "11043                                                NaN   \n",
       "11302                                                NaN   \n",
       "11682                                                NaN   \n",
       "11714                                                NaN   \n",
       "11719                                                NaN   \n",
       "11754                                                NaN   \n",
       "11878                                                NaN   \n",
       "11974                                                NaN   \n",
       "12072                                                NaN   \n",
       "12085                                                NaN   \n",
       "12100                                                NaN   \n",
       "12250                                                NaN   \n",
       "12287                                                NaN   \n",
       "12334                                                NaN   \n",
       "12466                                                NaN   \n",
       "12481                                                NaN   \n",
       "12558                                                NaN   \n",
       "12582                                                NaN   \n",
       "12678                                                NaN   \n",
       "12749                                                NaN   \n",
       "12854                                                NaN   \n",
       "12916                                                NaN   \n",
       "12948                                                NaN   \n",
       "12950                                                NaN   \n",
       "13052                                                NaN   \n",
       "13104                                                NaN   \n",
       "13105                                                NaN   \n",
       "13478                                                NaN   \n",
       "13633                                                NaN   \n",
       "13660                                                NaN   \n",
       "13720                                                NaN   \n",
       "13812                                                NaN   \n",
       "13915                                                NaN   \n",
       "13952                                                NaN   \n",
       "13989                                                NaN   \n",
       "14147                                                NaN   \n",
       "14419                                                NaN   \n",
       "23869                                                NaN   \n",
       "23948                                                NaN   \n",
       "27064                                                NaN   \n",
       "28241                                                NaN   \n",
       "32668                                                NaN   \n",
       "32700                                                NaN   \n",
       "32798                                                NaN   \n",
       "34159                                                NaN   \n",
       "34504                                                NaN   \n",
       "\n",
       "                                             description  engineDisplacement  \\\n",
       "5241   Audi e-tron Prestige quattro от Moscow Tesla C...                 NaN   \n",
       "7992   Атомобиль из Германии,без пробега по РФ.\\nНа г...                 NaN   \n",
       "8252   Пробег 54000 км, запас хода на зарядке 130 км+...                 NaN   \n",
       "8350   Автомобиль в наличии Москве , с ПТС , производ...                 NaN   \n",
       "8684   BMW I 3 REX\\nфевраль 2017 года выпуска.\\nПриоб...                 NaN   \n",
       "8722   \\nПрибыло из Америки в августе 2020 года. Полн...                 NaN   \n",
       "8917   -Состояние нового автомобиля .\\n-Carfax вся ис...                 NaN   \n",
       "10817  Продаю BMW I3 +REX .\\n\\nПолноценный электромоб...                 NaN   \n",
       "10936  Автомобиль BMW i3 (полностью электрический )за...                 NaN   \n",
       "11043  Состояние нового автомобиля . \\nФото ИМЕННО ЭТ...                 NaN   \n",
       "11302  Безопасность: 10. Салон: 4. Комфорт: 12. Мульт...                 NaN   \n",
       "11682  Продаю авто без пробега по РФ.\\nМаксимальная к...                 NaN   \n",
       "11714  Комплектация G\\nБатарея 40 кВт\\n\\n- PRO- PILOT...                 NaN   \n",
       "11719  Автомобиль с аукциона! НЕ РЫНОК!!!! (аукционны...                 NaN   \n",
       "11754  Продаю электромобиль ниссан лиаф 2011г пробег1...                 NaN   \n",
       "11878  Оригинальный ПТС.  \\nАвто декабрь 2013 года \\n...                 NaN   \n",
       "11974  Всё работает ,батарея  48 кВт-120км +120км све...                 NaN   \n",
       "12072  Продаю Nissan Leaf 2012 года выпуска. Данный а...                 NaN   \n",
       "12085  Электpомобиль Nissan Leаf  из США( северный шт...                 NaN   \n",
       "12100  Leaf 30x Aero style. 30 квт.ч. 12 палок.\\nконт...                 NaN   \n",
       "12250  Электромобиль в отличном состоянии,  пробег на...                 NaN   \n",
       "12287  Продается Ниссан Leaf в полная комплектация(кр...                 NaN   \n",
       "12334  Продаю своего друга! Очень хорошая машина! Рад...                 NaN   \n",
       "12466  Аукционный авто, батарея 30 квт., куплен в 201...                 NaN   \n",
       "12481  АВТОМОБИЛЬ В МОСКВЕ.\\n\\nПривозил под себя, езж...                 NaN   \n",
       "12558  Продам nissan leaf 2011 года🚗\\nЦена за наличку...                 NaN   \n",
       "12582  16 модельный год (изг. декабрь 2015) \\nПокупал...                 NaN   \n",
       "12678  - Я первый собственник, авто завезено в июле 2...                 NaN   \n",
       "12749  SOH — 87,99\\n\\nОтличная городская машина в иде...                 NaN   \n",
       "12854  Машина в отличном состоянии. В дтп не была. Оч...                 NaN   \n",
       "12916  Автомобиль покупал на аукционе. Комплектация G...                 NaN   \n",
       "12948  Продаю свою шикарную машину, которая радовала ...                 NaN   \n",
       "12950  Аукционный авто. 3.5 балла. В Москве с августа...                 NaN   \n",
       "13052  Доброго времени суток. Продаю Nissan Leaf AZEO...                 NaN   \n",
       "13104  \\n- за данную  цену продают без велюра и матов...                 NaN   \n",
       "13105  Новая резина. Куплена не в кредит. Не прокурен...                 NaN   \n",
       "13478  Aze0 30 кВт, SOH 77.5, 10 делений, я 1й владел...                 NaN   \n",
       "13633  На машине стоит вебасто с термоколом. Управляе...                 NaN   \n",
       "13660  Отличное состояние. Полная комплектация. Подро...                 NaN   \n",
       "13720  SOH 70 / 8 делений / отличный авто для города ...                 NaN   \n",
       "13812  Хозяин, владею два года, богатая комплектация,...                 NaN   \n",
       "13915  Правый руль.Батарея 30 кВт,Тепловой насос. (До...                 NaN   \n",
       "13952  Продается электро-автомобиль в хорошем состоян...                 NaN   \n",
       "13989  Только что привезен напрямую с аукциона в Япон...                 NaN   \n",
       "14147  Продаю отличного лифа. Сох 69. Соответствует г...                 NaN   \n",
       "14419  Причина продажи — хочу ZE1. Если сел на электр...                 NaN   \n",
       "23869  Отличный, немецкий, полностью электрический ав...                 NaN   \n",
       "23948  Внимание! Только для клиентов AVILON Автомобил...                 NaN   \n",
       "27064  Авто в идеальном состоянии.\\nНа днях пройдено ...                 NaN   \n",
       "28241  Добрый день. Самая полная комплектация 16 Кват...                 NaN   \n",
       "32668  Абсолютно новый автомобиль, богатая комплектац...                 NaN   \n",
       "32700  Оригинальный аукционный лист.Оценка 4 балла.  ...                 NaN   \n",
       "32798                            Я хозяин. Вписан в ПТС.                 NaN   \n",
       "34159  Автомобиль куплен в Германии (европейская верс...                 NaN   \n",
       "34504          В отличном состоянии вложений не требует.                 NaN   \n",
       "\n",
       "      enginePower                                     equipment_dict fuelType  \\\n",
       "5241      408 N12  {\"asr\":true,\"esp\":true,\"usb\":true,\"e-adjustmen...  электро   \n",
       "7992      170 N12                                                NaN  электро   \n",
       "8252      170 N12        {\"park-assist-f\":true,\"park-assist-r\":true}  электро   \n",
       "8350      170 N12  {\"cruise-control\":true,\"asr\":true,\"esp\":true,\"...  электро   \n",
       "8684      170 N12  {\"cruise-control\":true,\"glonass\":true,\"navigat...  электро   \n",
       "8722      170 N12                                                NaN  электро   \n",
       "8917      170 N12                 {\"glonass\":true,\"roof-rails\":true}  электро   \n",
       "10817     170 N12                                                NaN  электро   \n",
       "10936     170 N12  {\"cruise-control\":true,\"asr\":true,\"tinted-glas...  электро   \n",
       "11043     170 N12  {\"glonass\":true,\"airbag-driver\":true,\"aux\":tru...  электро   \n",
       "11302     109 N12  {\"asr\":true,\"tinted-glass\":true,\"start-stop-fu...  электро   \n",
       "11682     150 N12  {\"tinted-glass\":true,\"esp\":true,\"adaptive-ligh...  электро   \n",
       "11714     150 N12  {\"collision-prevention-assist\":true,\"led-light...  электро   \n",
       "11719     109 N12                                                NaN  электро   \n",
       "11754     109 N12  {\"cruise-control\":true,\"start-button\":true,\"ra...  электро   \n",
       "11878     109 N12  {\"asr\":true,\"glonass\":true,\"tinted-glass\":true...  электро   \n",
       "11974     109 N12  {\"asr\":true,\"tinted-glass\":true,\"esp\":true,\"ai...  электро   \n",
       "12072     109 N12                                                NaN  электро   \n",
       "12085     109 N12  {\"cruise-control\":true,\"esp\":true,\"start-stop-...  электро   \n",
       "12100     109 N12  {\"tinted-glass\":true,\"esp\":true,\"aux\":true,\"us...  электро   \n",
       "12250     109 N12  {\"engine-proof\":true,\"glonass\":true,\"tinted-gl...  электро   \n",
       "12287     109 N12  {\"glonass\":true,\"esp\":true,\"aux\":true,\"usb\":tr...  электро   \n",
       "12334     109 N12  {\"engine-proof\":true,\"cruise-control\":true,\"ti...  электро   \n",
       "12466     109 N12  {\"cruise-control\":true,\"asr\":true,\"tinted-glas...  электро   \n",
       "12481     109 N12  {\"cruise-control\":true,\"tinted-glass\":true,\"es...  электро   \n",
       "12558     109 N12  {\"cruise-control\":true,\"asr\":true,\"tinted-glas...  электро   \n",
       "12582     109 N12  {\"cruise-control\":true,\"asr\":true,\"tinted-glas...  электро   \n",
       "12678     109 N12  {\"cruise-control\":true,\"esp\":true,\"airbag-driv...  электро   \n",
       "12749     109 N12  {\"engine-proof\":true,\"cruise-control\":true,\"as...  электро   \n",
       "12854     109 N12  {\"electro-window-back\":true,\"alloy-wheel-disks...  электро   \n",
       "12916     109 N12  {\"cruise-control\":true,\"tinted-glass\":true,\"es...  электро   \n",
       "12948     109 N12                                                NaN  электро   \n",
       "12950     109 N12  {\"cruise-control\":true,\"asr\":true,\"tinted-glas...  электро   \n",
       "13052     109 N12  {\"cruise-control\":true,\"tinted-glass\":true,\"es...  электро   \n",
       "13104     109 N12  {\"cruise-control\":true,\"esp\":true,\"adaptive-li...  электро   \n",
       "13105     109 N12  {\"cruise-control\":true,\"tinted-glass\":true,\"st...  электро   \n",
       "13478     109 N12  {\"cruise-control\":true,\"airbag-driver\":true,\"a...  электро   \n",
       "13633     109 N12                                                NaN  электро   \n",
       "13660     109 N12  {\"cruise-control\":true,\"tinted-glass\":true,\"es...  электро   \n",
       "13720     109 N12  {\"electro-window-back\":true,\"esp\":true,\"start-...  электро   \n",
       "13812     109 N12                                                NaN  электро   \n",
       "13915     109 N12  {\"cruise-control\":true,\"steel-wheels\":true,\"au...  электро   \n",
       "13952     109 N12  {\"electro-window-back\":true,\"cruise-control\":t...  электро   \n",
       "13989     109 N12  {\"electro-window-back\":true,\"16-inch-wheels\":t...  электро   \n",
       "14147     109 N12  {\"glonass\":true,\"esp\":true,\"start-stop-functio...  электро   \n",
       "14419     109 N12  {\"cruise-control\":true,\"asr\":true,\"esp\":true,\"...  электро   \n",
       "23869     115 N12  {\"cruise-control\":true,\"asr\":true,\"esp\":true,\"...  электро   \n",
       "23948     115 N12  {\"cruise-control\":true,\"engine-proof\":true,\"es...  электро   \n",
       "27064      67 N12                                                NaN  электро   \n",
       "28241      67 N12                                                NaN  электро   \n",
       "32668     150 N12  {\"cruise-control\":true,\"glonass\":true,\"ptf\":tr...  электро   \n",
       "32700     109 N12  {\"cruise-control\":true,\"airbag-rear-side\":true...  электро   \n",
       "32798     109 N12  {\"tinted-glass\":true,\"esp\":true,\"start-stop-fu...  электро   \n",
       "34159     179 N12  {\"cruise-control\":true,\"airbag-driver\":true,\"a...  электро   \n",
       "34504     109 N12  {\"alloy-wheel-disks\":true,\"tinted-glass\":true,...  электро   \n",
       "\n",
       "       ...         vehicleConfiguration  vehicleTransmission    vendor  \\\n",
       "5241   ...    ALLROAD_5_DOORS AUTOMATIC       автоматическая  EUROPEAN   \n",
       "7992   ...  HATCHBACK_5_DOORS AUTOMATIC       автоматическая  EUROPEAN   \n",
       "8252   ...  HATCHBACK_5_DOORS AUTOMATIC       автоматическая  EUROPEAN   \n",
       "8350   ...  HATCHBACK_5_DOORS AUTOMATIC       автоматическая  EUROPEAN   \n",
       "8684   ...  HATCHBACK_5_DOORS AUTOMATIC       автоматическая  EUROPEAN   \n",
       "8722   ...  HATCHBACK_5_DOORS AUTOMATIC       автоматическая  EUROPEAN   \n",
       "8917   ...  HATCHBACK_5_DOORS AUTOMATIC       автоматическая  EUROPEAN   \n",
       "10817  ...  HATCHBACK_5_DOORS AUTOMATIC       автоматическая  EUROPEAN   \n",
       "10936  ...  HATCHBACK_5_DOORS AUTOMATIC       автоматическая  EUROPEAN   \n",
       "11043  ...  HATCHBACK_5_DOORS AUTOMATIC       автоматическая  EUROPEAN   \n",
       "11302  ...  HATCHBACK_5_DOORS AUTOMATIC       автоматическая  JAPANESE   \n",
       "11682  ...  HATCHBACK_5_DOORS AUTOMATIC       автоматическая  JAPANESE   \n",
       "11714  ...  HATCHBACK_5_DOORS AUTOMATIC       автоматическая  JAPANESE   \n",
       "11719  ...  HATCHBACK_5_DOORS AUTOMATIC       автоматическая  JAPANESE   \n",
       "11754  ...  HATCHBACK_5_DOORS AUTOMATIC       автоматическая  JAPANESE   \n",
       "11878  ...  HATCHBACK_5_DOORS AUTOMATIC       автоматическая  JAPANESE   \n",
       "11974  ...  HATCHBACK_5_DOORS AUTOMATIC       автоматическая  JAPANESE   \n",
       "12072  ...  HATCHBACK_5_DOORS AUTOMATIC       автоматическая  JAPANESE   \n",
       "12085  ...  HATCHBACK_5_DOORS AUTOMATIC       автоматическая  JAPANESE   \n",
       "12100  ...  HATCHBACK_5_DOORS AUTOMATIC       автоматическая  JAPANESE   \n",
       "12250  ...  HATCHBACK_5_DOORS AUTOMATIC       автоматическая  JAPANESE   \n",
       "12287  ...  HATCHBACK_5_DOORS AUTOMATIC       автоматическая  JAPANESE   \n",
       "12334  ...  HATCHBACK_5_DOORS AUTOMATIC       автоматическая  JAPANESE   \n",
       "12466  ...  HATCHBACK_5_DOORS AUTOMATIC       автоматическая  JAPANESE   \n",
       "12481  ...  HATCHBACK_5_DOORS AUTOMATIC       автоматическая  JAPANESE   \n",
       "12558  ...  HATCHBACK_5_DOORS AUTOMATIC       автоматическая  JAPANESE   \n",
       "12582  ...  HATCHBACK_5_DOORS AUTOMATIC       автоматическая  JAPANESE   \n",
       "12678  ...  HATCHBACK_5_DOORS AUTOMATIC       автоматическая  JAPANESE   \n",
       "12749  ...  HATCHBACK_5_DOORS AUTOMATIC       автоматическая  JAPANESE   \n",
       "12854  ...  HATCHBACK_5_DOORS AUTOMATIC       автоматическая  JAPANESE   \n",
       "12916  ...  HATCHBACK_5_DOORS AUTOMATIC       автоматическая  JAPANESE   \n",
       "12948  ...  HATCHBACK_5_DOORS AUTOMATIC       автоматическая  JAPANESE   \n",
       "12950  ...  HATCHBACK_5_DOORS AUTOMATIC       автоматическая  JAPANESE   \n",
       "13052  ...  HATCHBACK_5_DOORS AUTOMATIC       автоматическая  JAPANESE   \n",
       "13104  ...  HATCHBACK_5_DOORS AUTOMATIC       автоматическая  JAPANESE   \n",
       "13105  ...  HATCHBACK_5_DOORS AUTOMATIC       автоматическая  JAPANESE   \n",
       "13478  ...  HATCHBACK_5_DOORS AUTOMATIC       автоматическая  JAPANESE   \n",
       "13633  ...  HATCHBACK_5_DOORS AUTOMATIC       автоматическая  JAPANESE   \n",
       "13660  ...  HATCHBACK_5_DOORS AUTOMATIC       автоматическая  JAPANESE   \n",
       "13720  ...  HATCHBACK_5_DOORS AUTOMATIC       автоматическая  JAPANESE   \n",
       "13812  ...  HATCHBACK_5_DOORS AUTOMATIC       автоматическая  JAPANESE   \n",
       "13915  ...  HATCHBACK_5_DOORS AUTOMATIC       автоматическая  JAPANESE   \n",
       "13952  ...  HATCHBACK_5_DOORS AUTOMATIC       автоматическая  JAPANESE   \n",
       "13989  ...  HATCHBACK_5_DOORS AUTOMATIC       автоматическая  JAPANESE   \n",
       "14147  ...  HATCHBACK_5_DOORS AUTOMATIC       автоматическая  JAPANESE   \n",
       "14419  ...  HATCHBACK_5_DOORS AUTOMATIC       автоматическая  JAPANESE   \n",
       "23869  ...  HATCHBACK_5_DOORS AUTOMATIC       автоматическая  EUROPEAN   \n",
       "23948  ...  HATCHBACK_5_DOORS AUTOMATIC       автоматическая  EUROPEAN   \n",
       "27064  ...  HATCHBACK_5_DOORS AUTOMATIC       автоматическая  JAPANESE   \n",
       "28241  ...  HATCHBACK_5_DOORS AUTOMATIC       автоматическая  JAPANESE   \n",
       "32668  ...  HATCHBACK_5_DOORS AUTOMATIC       автоматическая  JAPANESE   \n",
       "32700  ...  HATCHBACK_5_DOORS AUTOMATIC       автоматическая  JAPANESE   \n",
       "32798  ...  HATCHBACK_5_DOORS AUTOMATIC       автоматическая  JAPANESE   \n",
       "34159  ...  HATCHBACK_5_DOORS AUTOMATIC       автоматическая  EUROPEAN   \n",
       "34504  ...  HATCHBACK_5_DOORS AUTOMATIC       автоматическая  JAPANESE   \n",
       "\n",
       "         Владельцы            Владение       ПТС    Привод    Руль  \\\n",
       "5241    1 владелец    1 год и 3 месяца  Оригинал    полный   Левый   \n",
       "7992    1 владелец                 NaN  Оригинал    задний   Левый   \n",
       "8252    1 владелец             1 месяц  Оригинал    задний   Левый   \n",
       "8350    1 владелец                 NaN  Оригинал    задний   Левый   \n",
       "8684    1 владелец                 NaN  Оригинал    задний   Левый   \n",
       "8722    1 владелец                 NaN  Оригинал    задний   Левый   \n",
       "8917    1 владелец                 NaN  Оригинал    задний   Левый   \n",
       "10817   1 владелец                 NaN  Оригинал    задний   Левый   \n",
       "10936   1 владелец                 NaN  Оригинал    задний   Левый   \n",
       "11043   1 владелец           8 месяцев  Оригинал    задний   Левый   \n",
       "11302  3 или более                 NaN  Оригинал  передний   Левый   \n",
       "11682   1 владелец            2 месяца  Оригинал  передний   Левый   \n",
       "11714   1 владелец                 NaN  Оригинал  передний  Правый   \n",
       "11719   1 владелец           5 месяцев  Оригинал  передний  Правый   \n",
       "11754  2 владельца                 NaN  Оригинал  передний  Правый   \n",
       "11878   1 владелец                 NaN  Оригинал  передний   Левый   \n",
       "11974   1 владелец  3 года и 8 месяцев  Оригинал  передний  Правый   \n",
       "12072  3 или более           9 месяцев  Оригинал  передний  Правый   \n",
       "12085   1 владелец   1 год и 6 месяцев  Оригинал  передний   Левый   \n",
       "12100   1 владелец    1 год и 3 месяца  Оригинал  передний  Правый   \n",
       "12250   1 владелец           9 месяцев  Оригинал  передний  Правый   \n",
       "12287   1 владелец                 NaN  Оригинал  передний   Левый   \n",
       "12334   1 владелец           5 месяцев  Оригинал  передний  Правый   \n",
       "12466   1 владелец   2 года и 2 месяца  Оригинал  передний  Правый   \n",
       "12481   1 владелец           5 месяцев  Оригинал  передний  Правый   \n",
       "12558   1 владелец    1 год и 2 месяца  Оригинал  передний  Правый   \n",
       "12582   1 владелец  2 года и 6 месяцев  Оригинал  передний  Правый   \n",
       "12678   1 владелец    1 год и 3 месяца  Оригинал  передний  Правый   \n",
       "12749   1 владелец     1 год и 1 месяц  Оригинал  передний  Правый   \n",
       "12854  2 владельца          11 месяцев  Оригинал  передний  Правый   \n",
       "12916   1 владелец                 NaN  Оригинал  передний  Правый   \n",
       "12948  2 владельца                 NaN  Оригинал  передний  Правый   \n",
       "12950   1 владелец                 NaN  Оригинал  передний  Правый   \n",
       "13052   1 владелец   3 года и 4 месяца  Оригинал  передний  Правый   \n",
       "13104   1 владелец               1 год  Оригинал  передний  Правый   \n",
       "13105   1 владелец   2 года и 4 месяца  Оригинал  передний  Правый   \n",
       "13478   1 владелец            4 месяца  Оригинал  передний  Правый   \n",
       "13633  2 владельца  5 лет и 10 месяцев  Оригинал  передний   Левый   \n",
       "13660   1 владелец    1 год и 3 месяца  Оригинал  передний  Правый   \n",
       "13720   1 владелец                 NaN  Оригинал  передний  Правый   \n",
       "13812   1 владелец                 NaN  Оригинал  передний  Правый   \n",
       "13915   1 владелец   2 года и 4 месяца  Оригинал  передний  Правый   \n",
       "13952   1 владелец          11 месяцев  Оригинал  передний  Правый   \n",
       "13989   1 владелец          11 месяцев  Оригинал  передний  Правый   \n",
       "14147  2 владельца                 NaN  Оригинал  передний  Правый   \n",
       "14419  2 владельца     1 год и 1 месяц  Оригинал  передний  Правый   \n",
       "23869   1 владелец                 NaN  Оригинал  передний   Левый   \n",
       "23948   1 владелец                 NaN  Оригинал  передний   Левый   \n",
       "27064  2 владельца              4 года  Оригинал    задний   Левый   \n",
       "28241  2 владельца                 NaN  Оригинал    задний  Правый   \n",
       "32668   1 владелец  1 год и 10 месяцев  Оригинал  передний   Левый   \n",
       "32700   1 владелец           5 месяцев  Оригинал  передний  Правый   \n",
       "32798   1 владелец                 NaN  Оригинал  передний  Правый   \n",
       "34159  2 владельца          10 месяцев  Оригинал  передний   Левый   \n",
       "34504  2 владельца    2 года и 1 месяц  Оригинал  передний  Правый   \n",
       "\n",
       "                Состояние     Таможня  \n",
       "5241   Не требует ремонта  Растаможен  \n",
       "7992   Не требует ремонта  Растаможен  \n",
       "8252   Не требует ремонта  Растаможен  \n",
       "8350   Не требует ремонта  Растаможен  \n",
       "8684   Не требует ремонта  Растаможен  \n",
       "8722   Не требует ремонта  Растаможен  \n",
       "8917   Не требует ремонта  Растаможен  \n",
       "10817  Не требует ремонта  Растаможен  \n",
       "10936  Не требует ремонта  Растаможен  \n",
       "11043  Не требует ремонта  Растаможен  \n",
       "11302  Не требует ремонта  Растаможен  \n",
       "11682  Не требует ремонта  Растаможен  \n",
       "11714  Не требует ремонта  Растаможен  \n",
       "11719  Не требует ремонта  Растаможен  \n",
       "11754  Не требует ремонта  Растаможен  \n",
       "11878  Не требует ремонта  Растаможен  \n",
       "11974  Не требует ремонта  Растаможен  \n",
       "12072  Не требует ремонта  Растаможен  \n",
       "12085  Не требует ремонта  Растаможен  \n",
       "12100  Не требует ремонта  Растаможен  \n",
       "12250  Не требует ремонта  Растаможен  \n",
       "12287  Не требует ремонта  Растаможен  \n",
       "12334  Не требует ремонта  Растаможен  \n",
       "12466  Не требует ремонта  Растаможен  \n",
       "12481  Не требует ремонта  Растаможен  \n",
       "12558  Не требует ремонта  Растаможен  \n",
       "12582  Не требует ремонта  Растаможен  \n",
       "12678  Не требует ремонта  Растаможен  \n",
       "12749  Не требует ремонта  Растаможен  \n",
       "12854  Не требует ремонта  Растаможен  \n",
       "12916  Не требует ремонта  Растаможен  \n",
       "12948  Не требует ремонта  Растаможен  \n",
       "12950  Не требует ремонта  Растаможен  \n",
       "13052  Не требует ремонта  Растаможен  \n",
       "13104  Не требует ремонта  Растаможен  \n",
       "13105  Не требует ремонта  Растаможен  \n",
       "13478  Не требует ремонта  Растаможен  \n",
       "13633  Не требует ремонта  Растаможен  \n",
       "13660  Не требует ремонта  Растаможен  \n",
       "13720  Не требует ремонта  Растаможен  \n",
       "13812  Не требует ремонта  Растаможен  \n",
       "13915  Не требует ремонта  Растаможен  \n",
       "13952  Не требует ремонта  Растаможен  \n",
       "13989  Не требует ремонта  Растаможен  \n",
       "14147  Не требует ремонта  Растаможен  \n",
       "14419  Не требует ремонта  Растаможен  \n",
       "23869  Не требует ремонта  Растаможен  \n",
       "23948  Не требует ремонта  Растаможен  \n",
       "27064  Не требует ремонта  Растаможен  \n",
       "28241  Не требует ремонта  Растаможен  \n",
       "32668  Не требует ремонта  Растаможен  \n",
       "32700  Не требует ремонта  Растаможен  \n",
       "32798  Не требует ремонта  Растаможен  \n",
       "34159  Не требует ремонта  Растаможен  \n",
       "34504  Не требует ремонта  Растаможен  \n",
       "\n",
       "[55 rows x 32 columns]"
      ]
     },
     "execution_count": 67,
     "metadata": {},
     "output_type": "execute_result"
    }
   ],
   "source": [
    "test_mod[test_mod['engineDisplacement'].isna()]"
   ]
  },
  {
   "cell_type": "code",
   "execution_count": 68,
   "metadata": {},
   "outputs": [
    {
     "data": {
      "text/html": [
       "<div>\n",
       "<style scoped>\n",
       "    .dataframe tbody tr th:only-of-type {\n",
       "        vertical-align: middle;\n",
       "    }\n",
       "\n",
       "    .dataframe tbody tr th {\n",
       "        vertical-align: top;\n",
       "    }\n",
       "\n",
       "    .dataframe thead th {\n",
       "        text-align: right;\n",
       "    }\n",
       "</style>\n",
       "<table border=\"1\" class=\"dataframe\">\n",
       "  <thead>\n",
       "    <tr style=\"text-align: right;\">\n",
       "      <th></th>\n",
       "      <th>bodyType</th>\n",
       "      <th>brand</th>\n",
       "      <th>color</th>\n",
       "      <th>fuelType</th>\n",
       "      <th>modelDate</th>\n",
       "      <th>name</th>\n",
       "      <th>numberOfDoors</th>\n",
       "      <th>productionDate</th>\n",
       "      <th>vehicleConfiguration</th>\n",
       "      <th>vehicleTransmission</th>\n",
       "      <th>...</th>\n",
       "      <th>Руль</th>\n",
       "      <th>Состояние</th>\n",
       "      <th>Владельцы</th>\n",
       "      <th>ПТС</th>\n",
       "      <th>Таможня</th>\n",
       "      <th>Владение</th>\n",
       "      <th>price</th>\n",
       "      <th>start_date</th>\n",
       "      <th>hidden</th>\n",
       "      <th>model</th>\n",
       "    </tr>\n",
       "  </thead>\n",
       "  <tbody>\n",
       "    <tr>\n",
       "      <th>45</th>\n",
       "      <td>Седан</td>\n",
       "      <td>AUDI</td>\n",
       "      <td>040001</td>\n",
       "      <td>бензин</td>\n",
       "      <td>1990.0</td>\n",
       "      <td>S4 2.2 AT (230 л.с.) 4WD</td>\n",
       "      <td>4.0</td>\n",
       "      <td>1992</td>\n",
       "      <td>SEDAN AUTOMATIC S4</td>\n",
       "      <td>AUTOMATIC</td>\n",
       "      <td>...</td>\n",
       "      <td>LEFT</td>\n",
       "      <td>NaN</td>\n",
       "      <td>3.0</td>\n",
       "      <td>DUPLICATE</td>\n",
       "      <td>True</td>\n",
       "      <td>NaN</td>\n",
       "      <td>220000.0</td>\n",
       "      <td>2020-07-09T06:57:21Z</td>\n",
       "      <td>NaN</td>\n",
       "      <td>100</td>\n",
       "    </tr>\n",
       "    <tr>\n",
       "      <th>345</th>\n",
       "      <td>Седан</td>\n",
       "      <td>AUDI</td>\n",
       "      <td>040001</td>\n",
       "      <td>бензин</td>\n",
       "      <td>2012.0</td>\n",
       "      <td>ultra 1.4 AMT (150 л.с.)</td>\n",
       "      <td>4.0</td>\n",
       "      <td>2016</td>\n",
       "      <td>SEDAN ROBOT ultra</td>\n",
       "      <td>ROBOT</td>\n",
       "      <td>...</td>\n",
       "      <td>LEFT</td>\n",
       "      <td>NaN</td>\n",
       "      <td>2.0</td>\n",
       "      <td>ORIGINAL</td>\n",
       "      <td>True</td>\n",
       "      <td>NaN</td>\n",
       "      <td>1254090.0</td>\n",
       "      <td>2020-09-05T16:01:05Z</td>\n",
       "      <td>NaN</td>\n",
       "      <td>A3</td>\n",
       "    </tr>\n",
       "    <tr>\n",
       "      <th>383</th>\n",
       "      <td>Седан</td>\n",
       "      <td>AUDI</td>\n",
       "      <td>FAFBFB</td>\n",
       "      <td>бензин</td>\n",
       "      <td>2012.0</td>\n",
       "      <td>ultra 1.4 AMT (150 л.с.)</td>\n",
       "      <td>4.0</td>\n",
       "      <td>2015</td>\n",
       "      <td>SEDAN ROBOT ultra</td>\n",
       "      <td>ROBOT</td>\n",
       "      <td>...</td>\n",
       "      <td>LEFT</td>\n",
       "      <td>NaN</td>\n",
       "      <td>1.0</td>\n",
       "      <td>ORIGINAL</td>\n",
       "      <td>True</td>\n",
       "      <td>NaN</td>\n",
       "      <td>870000.0</td>\n",
       "      <td>2020-07-28T11:55:47Z</td>\n",
       "      <td>NaN</td>\n",
       "      <td>A3</td>\n",
       "    </tr>\n",
       "    <tr>\n",
       "      <th>658</th>\n",
       "      <td>Универсал 5 дв.</td>\n",
       "      <td>AUDI</td>\n",
       "      <td>040001</td>\n",
       "      <td>дизель</td>\n",
       "      <td>2004.0</td>\n",
       "      <td>8V 2.0d MT (140 л.с.)</td>\n",
       "      <td>5.0</td>\n",
       "      <td>2005</td>\n",
       "      <td>WAGON_5_DOORS MECHANICAL 8V</td>\n",
       "      <td>MECHANICAL</td>\n",
       "      <td>...</td>\n",
       "      <td>LEFT</td>\n",
       "      <td>NaN</td>\n",
       "      <td>3.0</td>\n",
       "      <td>ORIGINAL</td>\n",
       "      <td>True</td>\n",
       "      <td>{'year': 2020, 'month': 2}</td>\n",
       "      <td>380000.0</td>\n",
       "      <td>2020-09-08T19:06:10Z</td>\n",
       "      <td>NaN</td>\n",
       "      <td>A4</td>\n",
       "    </tr>\n",
       "    <tr>\n",
       "      <th>671</th>\n",
       "      <td>Универсал 5 дв.</td>\n",
       "      <td>AUDI</td>\n",
       "      <td>040001</td>\n",
       "      <td>дизель</td>\n",
       "      <td>2004.0</td>\n",
       "      <td>8V 2.0d CVT (140 л.с.)</td>\n",
       "      <td>5.0</td>\n",
       "      <td>2007</td>\n",
       "      <td>WAGON_5_DOORS VARIATOR 8V</td>\n",
       "      <td>VARIATOR</td>\n",
       "      <td>...</td>\n",
       "      <td>LEFT</td>\n",
       "      <td>NaN</td>\n",
       "      <td>3.0</td>\n",
       "      <td>ORIGINAL</td>\n",
       "      <td>True</td>\n",
       "      <td>NaN</td>\n",
       "      <td>395000.0</td>\n",
       "      <td>2020-07-26T20:05:31Z</td>\n",
       "      <td>NaN</td>\n",
       "      <td>A4</td>\n",
       "    </tr>\n",
       "    <tr>\n",
       "      <th>...</th>\n",
       "      <td>...</td>\n",
       "      <td>...</td>\n",
       "      <td>...</td>\n",
       "      <td>...</td>\n",
       "      <td>...</td>\n",
       "      <td>...</td>\n",
       "      <td>...</td>\n",
       "      <td>...</td>\n",
       "      <td>...</td>\n",
       "      <td>...</td>\n",
       "      <td>...</td>\n",
       "      <td>...</td>\n",
       "      <td>...</td>\n",
       "      <td>...</td>\n",
       "      <td>...</td>\n",
       "      <td>...</td>\n",
       "      <td>...</td>\n",
       "      <td>...</td>\n",
       "      <td>...</td>\n",
       "      <td>...</td>\n",
       "      <td>...</td>\n",
       "    </tr>\n",
       "    <tr>\n",
       "      <th>88647</th>\n",
       "      <td>Седан</td>\n",
       "      <td>MERCEDES</td>\n",
       "      <td>FAFBFB</td>\n",
       "      <td>бензин</td>\n",
       "      <td>1984.0</td>\n",
       "      <td>200 2.0 MT (122 л.с.)</td>\n",
       "      <td>4.0</td>\n",
       "      <td>1988</td>\n",
       "      <td>SEDAN MECHANICAL 200</td>\n",
       "      <td>MECHANICAL</td>\n",
       "      <td>...</td>\n",
       "      <td>LEFT</td>\n",
       "      <td>NaN</td>\n",
       "      <td>3.0</td>\n",
       "      <td>DUPLICATE</td>\n",
       "      <td>True</td>\n",
       "      <td>{'year': 2020, 'month': 7}</td>\n",
       "      <td>130000.0</td>\n",
       "      <td>2020-08-12T17:23:57Z</td>\n",
       "      <td>NaN</td>\n",
       "      <td>W124</td>\n",
       "    </tr>\n",
       "    <tr>\n",
       "      <th>88648</th>\n",
       "      <td>Седан</td>\n",
       "      <td>MERCEDES</td>\n",
       "      <td>040001</td>\n",
       "      <td>бензин</td>\n",
       "      <td>1984.0</td>\n",
       "      <td>230 2.3 AT (132 л.с.)</td>\n",
       "      <td>4.0</td>\n",
       "      <td>1988</td>\n",
       "      <td>SEDAN AUTOMATIC 230</td>\n",
       "      <td>AUTOMATIC</td>\n",
       "      <td>...</td>\n",
       "      <td>LEFT</td>\n",
       "      <td>NaN</td>\n",
       "      <td>3.0</td>\n",
       "      <td>ORIGINAL</td>\n",
       "      <td>True</td>\n",
       "      <td>{'year': 2016, 'month': 9}</td>\n",
       "      <td>110000.0</td>\n",
       "      <td>2019-12-20T09:16:45Z</td>\n",
       "      <td>NaN</td>\n",
       "      <td>W124</td>\n",
       "    </tr>\n",
       "    <tr>\n",
       "      <th>88658</th>\n",
       "      <td>Пикап Двойная кабина</td>\n",
       "      <td>MERCEDES</td>\n",
       "      <td>97948F</td>\n",
       "      <td>дизель</td>\n",
       "      <td>2017.0</td>\n",
       "      <td>350 d 3.0d AT (258 л.с.) 4WD</td>\n",
       "      <td>4.0</td>\n",
       "      <td>2018</td>\n",
       "      <td>PICKUP_TWO AUTOMATIC 350</td>\n",
       "      <td>AUTOMATIC</td>\n",
       "      <td>...</td>\n",
       "      <td>LEFT</td>\n",
       "      <td>NaN</td>\n",
       "      <td>1.0</td>\n",
       "      <td>ORIGINAL</td>\n",
       "      <td>True</td>\n",
       "      <td>{'year': 2019, 'month': 12}</td>\n",
       "      <td>4000000.0</td>\n",
       "      <td>2020-03-03T14:56:44Z</td>\n",
       "      <td>NaN</td>\n",
       "      <td>X_KLASSE</td>\n",
       "    </tr>\n",
       "    <tr>\n",
       "      <th>88659</th>\n",
       "      <td>Пикап Двойная кабина</td>\n",
       "      <td>MERCEDES</td>\n",
       "      <td>97948F</td>\n",
       "      <td>дизель</td>\n",
       "      <td>2017.0</td>\n",
       "      <td>250 d 2.3d AT (190 л.с.) 4WD</td>\n",
       "      <td>4.0</td>\n",
       "      <td>2018</td>\n",
       "      <td>PICKUP_TWO AUTOMATIC 250</td>\n",
       "      <td>AUTOMATIC</td>\n",
       "      <td>...</td>\n",
       "      <td>LEFT</td>\n",
       "      <td>NaN</td>\n",
       "      <td>1.0</td>\n",
       "      <td>ORIGINAL</td>\n",
       "      <td>True</td>\n",
       "      <td>NaN</td>\n",
       "      <td>3150000.0</td>\n",
       "      <td>2020-08-05T07:36:53Z</td>\n",
       "      <td>NaN</td>\n",
       "      <td>X_KLASSE</td>\n",
       "    </tr>\n",
       "    <tr>\n",
       "      <th>88660</th>\n",
       "      <td>Пикап Двойная кабина</td>\n",
       "      <td>MERCEDES</td>\n",
       "      <td>97948F</td>\n",
       "      <td>дизель</td>\n",
       "      <td>2017.0</td>\n",
       "      <td>350 d 3.0d AT (258 л.с.) 4WD</td>\n",
       "      <td>4.0</td>\n",
       "      <td>2018</td>\n",
       "      <td>PICKUP_TWO AUTOMATIC 350</td>\n",
       "      <td>AUTOMATIC</td>\n",
       "      <td>...</td>\n",
       "      <td>LEFT</td>\n",
       "      <td>NaN</td>\n",
       "      <td>1.0</td>\n",
       "      <td>ORIGINAL</td>\n",
       "      <td>True</td>\n",
       "      <td>NaN</td>\n",
       "      <td>7600000.0</td>\n",
       "      <td>2020-07-14T17:22:32Z</td>\n",
       "      <td>NaN</td>\n",
       "      <td>X_KLASSE</td>\n",
       "    </tr>\n",
       "  </tbody>\n",
       "</table>\n",
       "<p>17094 rows × 26 columns</p>\n",
       "</div>"
      ],
      "text/plain": [
       "                   bodyType     brand   color fuelType  modelDate  \\\n",
       "45                    Седан      AUDI  040001   бензин     1990.0   \n",
       "345                   Седан      AUDI  040001   бензин     2012.0   \n",
       "383                   Седан      AUDI  FAFBFB   бензин     2012.0   \n",
       "658         Универсал 5 дв.      AUDI  040001   дизель     2004.0   \n",
       "671         Универсал 5 дв.      AUDI  040001   дизель     2004.0   \n",
       "...                     ...       ...     ...      ...        ...   \n",
       "88647                 Седан  MERCEDES  FAFBFB   бензин     1984.0   \n",
       "88648                 Седан  MERCEDES  040001   бензин     1984.0   \n",
       "88658  Пикап Двойная кабина  MERCEDES  97948F   дизель     2017.0   \n",
       "88659  Пикап Двойная кабина  MERCEDES  97948F   дизель     2017.0   \n",
       "88660  Пикап Двойная кабина  MERCEDES  97948F   дизель     2017.0   \n",
       "\n",
       "                               name  numberOfDoors  productionDate  \\\n",
       "45         S4 2.2 AT (230 л.с.) 4WD            4.0            1992   \n",
       "345        ultra 1.4 AMT (150 л.с.)            4.0            2016   \n",
       "383        ultra 1.4 AMT (150 л.с.)            4.0            2015   \n",
       "658           8V 2.0d MT (140 л.с.)            5.0            2005   \n",
       "671          8V 2.0d CVT (140 л.с.)            5.0            2007   \n",
       "...                             ...            ...             ...   \n",
       "88647         200 2.0 MT (122 л.с.)            4.0            1988   \n",
       "88648         230 2.3 AT (132 л.с.)            4.0            1988   \n",
       "88658  350 d 3.0d AT (258 л.с.) 4WD            4.0            2018   \n",
       "88659  250 d 2.3d AT (190 л.с.) 4WD            4.0            2018   \n",
       "88660  350 d 3.0d AT (258 л.с.) 4WD            4.0            2018   \n",
       "\n",
       "              vehicleConfiguration vehicleTransmission  ...  Руль  Состояние  \\\n",
       "45              SEDAN AUTOMATIC S4           AUTOMATIC  ...  LEFT        NaN   \n",
       "345              SEDAN ROBOT ultra               ROBOT  ...  LEFT        NaN   \n",
       "383              SEDAN ROBOT ultra               ROBOT  ...  LEFT        NaN   \n",
       "658    WAGON_5_DOORS MECHANICAL 8V          MECHANICAL  ...  LEFT        NaN   \n",
       "671      WAGON_5_DOORS VARIATOR 8V            VARIATOR  ...  LEFT        NaN   \n",
       "...                            ...                 ...  ...   ...        ...   \n",
       "88647         SEDAN MECHANICAL 200          MECHANICAL  ...  LEFT        NaN   \n",
       "88648          SEDAN AUTOMATIC 230           AUTOMATIC  ...  LEFT        NaN   \n",
       "88658     PICKUP_TWO AUTOMATIC 350           AUTOMATIC  ...  LEFT        NaN   \n",
       "88659     PICKUP_TWO AUTOMATIC 250           AUTOMATIC  ...  LEFT        NaN   \n",
       "88660     PICKUP_TWO AUTOMATIC 350           AUTOMATIC  ...  LEFT        NaN   \n",
       "\n",
       "      Владельцы        ПТС Таможня                     Владение      price  \\\n",
       "45          3.0  DUPLICATE    True                          NaN   220000.0   \n",
       "345         2.0   ORIGINAL    True                          NaN  1254090.0   \n",
       "383         1.0   ORIGINAL    True                          NaN   870000.0   \n",
       "658         3.0   ORIGINAL    True   {'year': 2020, 'month': 2}   380000.0   \n",
       "671         3.0   ORIGINAL    True                          NaN   395000.0   \n",
       "...         ...        ...     ...                          ...        ...   \n",
       "88647       3.0  DUPLICATE    True   {'year': 2020, 'month': 7}   130000.0   \n",
       "88648       3.0   ORIGINAL    True   {'year': 2016, 'month': 9}   110000.0   \n",
       "88658       1.0   ORIGINAL    True  {'year': 2019, 'month': 12}  4000000.0   \n",
       "88659       1.0   ORIGINAL    True                          NaN  3150000.0   \n",
       "88660       1.0   ORIGINAL    True                          NaN  7600000.0   \n",
       "\n",
       "                 start_date  hidden     model  \n",
       "45     2020-07-09T06:57:21Z     NaN       100  \n",
       "345    2020-09-05T16:01:05Z     NaN        A3  \n",
       "383    2020-07-28T11:55:47Z     NaN        A3  \n",
       "658    2020-09-08T19:06:10Z     NaN        A4  \n",
       "671    2020-07-26T20:05:31Z     NaN        A4  \n",
       "...                     ...     ...       ...  \n",
       "88647  2020-08-12T17:23:57Z     NaN      W124  \n",
       "88648  2019-12-20T09:16:45Z     NaN      W124  \n",
       "88658  2020-03-03T14:56:44Z     NaN  X_KLASSE  \n",
       "88659  2020-08-05T07:36:53Z     NaN  X_KLASSE  \n",
       "88660  2020-07-14T17:22:32Z     NaN  X_KLASSE  \n",
       "\n",
       "[17094 rows x 26 columns]"
      ]
     },
     "execution_count": 68,
     "metadata": {},
     "output_type": "execute_result"
    }
   ],
   "source": [
    "train_mod[train_mod['engineDisplacement'].isna()]"
   ]
  },
  {
   "cell_type": "markdown",
   "metadata": {},
   "source": [
    "Возможно, эти пропуски мы сможем заполнить, взяв информацию из столбца name"
   ]
  },
  {
   "cell_type": "code",
   "execution_count": 69,
   "metadata": {},
   "outputs": [
    {
     "data": {
      "text/plain": [
       "5241     55 Electro AT (301 кВт) 4WD\n",
       "7992            Electro AT (126 кВт)\n",
       "8252            Electro AT (126 кВт)\n",
       "8350            Electro AT (126 кВт)\n",
       "8684       94Ah Electro AT (126 кВт)\n",
       "8722            Electro AT (126 кВт)\n",
       "8917       94Ah Electro AT (126 кВт)\n",
       "10817           Electro AT (126 кВт)\n",
       "10936           Electro AT (126 кВт)\n",
       "11043      94Ah Electro AT (126 кВт)\n",
       "11302            Electro AT (81 кВт)\n",
       "11682           Electro AT (111 кВт)\n",
       "11714           Electro AT (111 кВт)\n",
       "11719            Electro AT (81 кВт)\n",
       "11754            Electro AT (81 кВт)\n",
       "11878            Electro AT (81 кВт)\n",
       "11974            Electro AT (81 кВт)\n",
       "12072            Electro AT (81 кВт)\n",
       "12085            Electro AT (81 кВт)\n",
       "12100      30kWh Electro AT (81 кВт)\n",
       "12250            Electro AT (81 кВт)\n",
       "12287            Electro AT (81 кВт)\n",
       "12334            Electro AT (81 кВт)\n",
       "12466      30kWh Electro AT (81 кВт)\n",
       "12481            Electro AT (81 кВт)\n",
       "12558            Electro AT (81 кВт)\n",
       "12582      30kWh Electro AT (81 кВт)\n",
       "12678            Electro AT (81 кВт)\n",
       "12749            Electro AT (81 кВт)\n",
       "12854            Electro AT (81 кВт)\n",
       "12916            Electro AT (81 кВт)\n",
       "12948            Electro AT (81 кВт)\n",
       "12950            Electro AT (81 кВт)\n",
       "13052            Electro AT (81 кВт)\n",
       "13104            Electro AT (81 кВт)\n",
       "13105            Electro AT (81 кВт)\n",
       "13478      30kWh Electro AT (81 кВт)\n",
       "13633            Electro AT (81 кВт)\n",
       "13660            Electro AT (81 кВт)\n",
       "13720            Electro AT (81 кВт)\n",
       "13812            Electro AT (81 кВт)\n",
       "13915      30kWh Electro AT (81 кВт)\n",
       "13952            Electro AT (81 кВт)\n",
       "13989            Electro AT (81 кВт)\n",
       "14147            Electro AT (81 кВт)\n",
       "14419            Electro AT (81 кВт)\n",
       "23869     e-Golf Electro AT (85 кВт)\n",
       "23948     e-Golf Electro AT (85 кВт)\n",
       "27064            Electro AT (50 кВт)\n",
       "28241            Electro AT (50 кВт)\n",
       "32668           Electro AT (111 кВт)\n",
       "32700            Electro AT (81 кВт)\n",
       "32798            Electro AT (81 кВт)\n",
       "34159     250 e Electro AT (132 кВт)\n",
       "34504            Electro AT (81 кВт)\n",
       "Name: name, dtype: object"
      ]
     },
     "execution_count": 69,
     "metadata": {},
     "output_type": "execute_result"
    }
   ],
   "source": [
    "test_mod[test_mod['engineDisplacement'].isna()]['name']"
   ]
  },
  {
   "cell_type": "markdown",
   "metadata": {},
   "source": [
    "Очевидно что в TEST объём двигателя отсутствует исключительно у электромобилей. Что вполне логично. Стоит заполнить из нолями."
   ]
  },
  {
   "cell_type": "code",
   "execution_count": 70,
   "metadata": {},
   "outputs": [],
   "source": [
    "test_mod['engineDisplacement'].fillna(0, inplace = True)"
   ]
  },
  {
   "cell_type": "code",
   "execution_count": 71,
   "metadata": {
    "scrolled": true
   },
   "outputs": [
    {
     "data": {
      "text/plain": [
       "45           S4 2.2 AT (230 л.с.) 4WD\n",
       "345          ultra 1.4 AMT (150 л.с.)\n",
       "383          ultra 1.4 AMT (150 л.с.)\n",
       "658             8V 2.0d MT (140 л.с.)\n",
       "671            8V 2.0d CVT (140 л.с.)\n",
       "                     ...             \n",
       "88647           200 2.0 MT (122 л.с.)\n",
       "88648           230 2.3 AT (132 л.с.)\n",
       "88658    350 d 3.0d AT (258 л.с.) 4WD\n",
       "88659    250 d 2.3d AT (190 л.с.) 4WD\n",
       "88660    350 d 3.0d AT (258 л.с.) 4WD\n",
       "Name: name, Length: 17094, dtype: object"
      ]
     },
     "execution_count": 71,
     "metadata": {},
     "output_type": "execute_result"
    }
   ],
   "source": [
    "train_mod[train_mod['engineDisplacement'].isna()]['name']"
   ]
  },
  {
   "cell_type": "markdown",
   "metadata": {},
   "source": [
    "В TRAIN ситуация совсем иная. С этим ещё предстоит разобраться."
   ]
  },
  {
   "cell_type": "code",
   "execution_count": 72,
   "metadata": {
    "ExecuteTime": {
     "end_time": "2022-04-05T15:12:43.870289Z",
     "start_time": "2022-04-05T15:12:43.855199Z"
    },
    "scrolled": false
   },
   "outputs": [
    {
     "name": "stdout",
     "output_type": "stream",
     "text": [
      "TEST\n"
     ]
    },
    {
     "data": {
      "text/plain": [
       "6659     249 N12\n",
       "2057     102 N12\n",
       "14315    110 N12\n",
       "14845    221 N12\n",
       "4144     105 N12\n",
       "Name: enginePower, dtype: object"
      ]
     },
     "metadata": {},
     "output_type": "display_data"
    },
    {
     "name": "stdout",
     "output_type": "stream",
     "text": [
      "TRAIN\n"
     ]
    },
    {
     "data": {
      "text/plain": [
       "2683     420.0\n",
       "1675     190.0\n",
       "71055    110.0\n",
       "44836    146.0\n",
       "50906    171.0\n",
       "Name: enginePower, dtype: float64"
      ]
     },
     "metadata": {},
     "output_type": "display_data"
    }
   ],
   "source": [
    "#enginePower\n",
    "column = 'enginePower'\n",
    "type_comparison(column)"
   ]
  },
  {
   "cell_type": "markdown",
   "metadata": {},
   "source": [
    "Здесь также требуется приведение к единому формату"
   ]
  },
  {
   "cell_type": "code",
   "execution_count": 73,
   "metadata": {
    "ExecuteTime": {
     "end_time": "2022-04-05T15:12:43.918301Z",
     "start_time": "2022-04-05T15:12:43.875292Z"
    }
   },
   "outputs": [],
   "source": [
    "#Преобразование\n",
    "train_mod.enginePower = train_mod.enginePower.convert_dtypes(int)\n",
    "test_mod[\"enginePower\"] = test_mod[\"enginePower\"].apply(lambda x : (int)(x.split(' ')[0]))"
   ]
  },
  {
   "cell_type": "code",
   "execution_count": 74,
   "metadata": {
    "ExecuteTime": {
     "end_time": "2022-04-05T15:12:43.934304Z",
     "start_time": "2022-04-05T15:12:43.919301Z"
    },
    "scrolled": false
   },
   "outputs": [
    {
     "name": "stdout",
     "output_type": "stream",
     "text": [
      "TEST\n"
     ]
    },
    {
     "data": {
      "text/plain": [
       "9294     249\n",
       "19004    170\n",
       "18262    272\n",
       "31099    110\n",
       "23201     84\n",
       "Name: enginePower, dtype: int64"
      ]
     },
     "metadata": {},
     "output_type": "display_data"
    },
    {
     "name": "stdout",
     "output_type": "stream",
     "text": [
      "TRAIN\n"
     ]
    },
    {
     "data": {
      "text/plain": [
       "51670    169\n",
       "42452     90\n",
       "60051     70\n",
       "66659    273\n",
       "47419     80\n",
       "Name: enginePower, dtype: Int64"
      ]
     },
     "metadata": {},
     "output_type": "display_data"
    }
   ],
   "source": [
    "#enginePower\n",
    "column = 'enginePower'\n",
    "type_comparison(column)"
   ]
  },
  {
   "cell_type": "markdown",
   "metadata": {},
   "source": [
    "Проверим не образовались ли пропуски в этом столбце"
   ]
  },
  {
   "cell_type": "code",
   "execution_count": 75,
   "metadata": {
    "scrolled": true
   },
   "outputs": [
    {
     "data": {
      "text/html": [
       "<div>\n",
       "<style scoped>\n",
       "    .dataframe tbody tr th:only-of-type {\n",
       "        vertical-align: middle;\n",
       "    }\n",
       "\n",
       "    .dataframe tbody tr th {\n",
       "        vertical-align: top;\n",
       "    }\n",
       "\n",
       "    .dataframe thead th {\n",
       "        text-align: right;\n",
       "    }\n",
       "</style>\n",
       "<table border=\"1\" class=\"dataframe\">\n",
       "  <thead>\n",
       "    <tr style=\"text-align: right;\">\n",
       "      <th></th>\n",
       "      <th>bodyType</th>\n",
       "      <th>brand</th>\n",
       "      <th>car_url</th>\n",
       "      <th>color</th>\n",
       "      <th>complectation_dict</th>\n",
       "      <th>description</th>\n",
       "      <th>engineDisplacement</th>\n",
       "      <th>enginePower</th>\n",
       "      <th>equipment_dict</th>\n",
       "      <th>fuelType</th>\n",
       "      <th>...</th>\n",
       "      <th>vehicleConfiguration</th>\n",
       "      <th>vehicleTransmission</th>\n",
       "      <th>vendor</th>\n",
       "      <th>Владельцы</th>\n",
       "      <th>Владение</th>\n",
       "      <th>ПТС</th>\n",
       "      <th>Привод</th>\n",
       "      <th>Руль</th>\n",
       "      <th>Состояние</th>\n",
       "      <th>Таможня</th>\n",
       "    </tr>\n",
       "  </thead>\n",
       "  <tbody>\n",
       "  </tbody>\n",
       "</table>\n",
       "<p>0 rows × 32 columns</p>\n",
       "</div>"
      ],
      "text/plain": [
       "Empty DataFrame\n",
       "Columns: [bodyType, brand, car_url, color, complectation_dict, description, engineDisplacement, enginePower, equipment_dict, fuelType, image, mileage, modelDate, model_info, model_name, name, numberOfDoors, parsing_unixtime, priceCurrency, productionDate, sell_id, super_gen, vehicleConfiguration, vehicleTransmission, vendor, Владельцы, Владение, ПТС, Привод, Руль, Состояние, Таможня]\n",
       "Index: []\n",
       "\n",
       "[0 rows x 32 columns]"
      ]
     },
     "execution_count": 75,
     "metadata": {},
     "output_type": "execute_result"
    }
   ],
   "source": [
    "test_mod[test_mod['enginePower'].isna()]"
   ]
  },
  {
   "cell_type": "code",
   "execution_count": 76,
   "metadata": {
    "scrolled": true
   },
   "outputs": [
    {
     "data": {
      "text/html": [
       "<div>\n",
       "<style scoped>\n",
       "    .dataframe tbody tr th:only-of-type {\n",
       "        vertical-align: middle;\n",
       "    }\n",
       "\n",
       "    .dataframe tbody tr th {\n",
       "        vertical-align: top;\n",
       "    }\n",
       "\n",
       "    .dataframe thead th {\n",
       "        text-align: right;\n",
       "    }\n",
       "</style>\n",
       "<table border=\"1\" class=\"dataframe\">\n",
       "  <thead>\n",
       "    <tr style=\"text-align: right;\">\n",
       "      <th></th>\n",
       "      <th>bodyType</th>\n",
       "      <th>brand</th>\n",
       "      <th>color</th>\n",
       "      <th>fuelType</th>\n",
       "      <th>modelDate</th>\n",
       "      <th>name</th>\n",
       "      <th>numberOfDoors</th>\n",
       "      <th>productionDate</th>\n",
       "      <th>vehicleConfiguration</th>\n",
       "      <th>vehicleTransmission</th>\n",
       "      <th>...</th>\n",
       "      <th>Руль</th>\n",
       "      <th>Состояние</th>\n",
       "      <th>Владельцы</th>\n",
       "      <th>ПТС</th>\n",
       "      <th>Таможня</th>\n",
       "      <th>Владение</th>\n",
       "      <th>price</th>\n",
       "      <th>start_date</th>\n",
       "      <th>hidden</th>\n",
       "      <th>model</th>\n",
       "    </tr>\n",
       "  </thead>\n",
       "  <tbody>\n",
       "    <tr>\n",
       "      <th>24624</th>\n",
       "      <td>NaN</td>\n",
       "      <td>HONDA</td>\n",
       "      <td>CACECB</td>\n",
       "      <td>универсал</td>\n",
       "      <td>NaN</td>\n",
       "      <td>NaN</td>\n",
       "      <td>NaN</td>\n",
       "      <td>1989</td>\n",
       "      <td>NaN</td>\n",
       "      <td>NaN</td>\n",
       "      <td>...</td>\n",
       "      <td>LEFT</td>\n",
       "      <td>NaN</td>\n",
       "      <td>3.0</td>\n",
       "      <td>ORIGINAL</td>\n",
       "      <td>True</td>\n",
       "      <td>NaN</td>\n",
       "      <td>120000.0</td>\n",
       "      <td>2020-04-10T16:07:57Z</td>\n",
       "      <td>NaN</td>\n",
       "      <td>CIVIC</td>\n",
       "    </tr>\n",
       "  </tbody>\n",
       "</table>\n",
       "<p>1 rows × 26 columns</p>\n",
       "</div>"
      ],
      "text/plain": [
       "      bodyType  brand   color   fuelType  modelDate name  numberOfDoors  \\\n",
       "24624      NaN  HONDA  CACECB  универсал        NaN  NaN            NaN   \n",
       "\n",
       "       productionDate vehicleConfiguration vehicleTransmission  ...  Руль  \\\n",
       "24624            1989                  NaN                 NaN  ...  LEFT   \n",
       "\n",
       "       Состояние Владельцы       ПТС Таможня Владение     price  \\\n",
       "24624        NaN       3.0  ORIGINAL    True      NaN  120000.0   \n",
       "\n",
       "                 start_date  hidden  model  \n",
       "24624  2020-04-10T16:07:57Z     NaN  CIVIC  \n",
       "\n",
       "[1 rows x 26 columns]"
      ]
     },
     "execution_count": 76,
     "metadata": {},
     "output_type": "execute_result"
    }
   ],
   "source": [
    "train_mod[train_mod['enginePower'].isna()]"
   ]
  },
  {
   "cell_type": "markdown",
   "metadata": {},
   "source": [
    "Образовался один пропуск. Строка с этим пропуском в целом содержит мало данным и должна быть удалена"
   ]
  },
  {
   "cell_type": "code",
   "execution_count": 78,
   "metadata": {},
   "outputs": [],
   "source": [
    "train_mod.drop(24624, inplace = True)"
   ]
  },
  {
   "cell_type": "code",
   "execution_count": 43,
   "metadata": {
    "ExecuteTime": {
     "end_time": "2022-04-05T15:12:43.950308Z",
     "start_time": "2022-04-05T15:12:43.935305Z"
    }
   },
   "outputs": [
    {
     "name": "stdout",
     "output_type": "stream",
     "text": [
      "TEST\n"
     ]
    },
    {
     "data": {
      "text/plain": [
       "31004    бензин\n",
       "4365     дизель\n",
       "3145     бензин\n",
       "2351     бензин\n",
       "27355    бензин\n",
       "Name: fuelType, dtype: object"
      ]
     },
     "metadata": {},
     "output_type": "display_data"
    },
    {
     "name": "stdout",
     "output_type": "stream",
     "text": [
      "TRAIN\n"
     ]
    },
    {
     "data": {
      "text/plain": [
       "7916     бензин\n",
       "82325    бензин\n",
       "193      бензин\n",
       "1855     дизель\n",
       "82695    бензин\n",
       "Name: fuelType, dtype: object"
      ]
     },
     "metadata": {},
     "output_type": "display_data"
    }
   ],
   "source": [
    "#fuelType\n",
    "column = 'fuelType'\n",
    "type_comparison(column)"
   ]
  },
  {
   "cell_type": "code",
   "execution_count": 46,
   "metadata": {
    "ExecuteTime": {
     "end_time": "2022-04-05T15:12:43.966311Z",
     "start_time": "2022-04-05T15:12:43.951307Z"
    }
   },
   "outputs": [
    {
     "data": {
      "text/plain": [
       "array(['бензин', 'дизель', 'электро', 'гибрид', 'газ'], dtype=object)"
      ]
     },
     "execution_count": 46,
     "metadata": {},
     "output_type": "execute_result"
    }
   ],
   "source": [
    "train_mod.fuelType.unique() "
   ]
  },
  {
   "cell_type": "code",
   "execution_count": 47,
   "metadata": {
    "ExecuteTime": {
     "end_time": "2022-04-05T15:12:43.982315Z",
     "start_time": "2022-04-05T15:12:43.967312Z"
    }
   },
   "outputs": [
    {
     "data": {
      "text/plain": [
       "array(['бензин', 'дизель', 'гибрид', 'электро', 'газ'], dtype=object)"
      ]
     },
     "execution_count": 47,
     "metadata": {},
     "output_type": "execute_result"
    }
   ],
   "source": [
    "test_mod.fuelType.unique()"
   ]
  },
  {
   "cell_type": "code",
   "execution_count": 48,
   "metadata": {
    "ExecuteTime": {
     "end_time": "2022-04-05T15:12:43.998318Z",
     "start_time": "2022-04-05T15:12:43.983315Z"
    }
   },
   "outputs": [
    {
     "name": "stdout",
     "output_type": "stream",
     "text": [
      "TEST\n"
     ]
    },
    {
     "data": {
      "text/plain": [
       "32375    182610\n",
       "34499    240000\n",
       "11984    147925\n",
       "22685    191399\n",
       "9679     144445\n",
       "Name: mileage, dtype: int64"
      ]
     },
     "metadata": {},
     "output_type": "display_data"
    },
    {
     "name": "stdout",
     "output_type": "stream",
     "text": [
      "TRAIN\n"
     ]
    },
    {
     "data": {
      "text/plain": [
       "69976    176231\n",
       "3478     109000\n",
       "49838    157506\n",
       "5543     269343\n",
       "60632     99100\n",
       "Name: mileage, dtype: int64"
      ]
     },
     "metadata": {},
     "output_type": "display_data"
    }
   ],
   "source": [
    "#mileage\n",
    "column = 'mileage'\n",
    "type_comparison(column)"
   ]
  },
  {
   "cell_type": "code",
   "execution_count": 49,
   "metadata": {
    "ExecuteTime": {
     "end_time": "2022-04-05T15:12:44.014322Z",
     "start_time": "2022-04-05T15:12:43.999319Z"
    },
    "scrolled": false
   },
   "outputs": [
    {
     "name": "stdout",
     "output_type": "stream",
     "text": [
      "TEST\n"
     ]
    },
    {
     "data": {
      "text/plain": [
       "31443    1982\n",
       "2870     2006\n",
       "29167    2009\n",
       "31587    2013\n",
       "29551    2011\n",
       "Name: modelDate, dtype: int64"
      ]
     },
     "metadata": {},
     "output_type": "display_data"
    },
    {
     "name": "stdout",
     "output_type": "stream",
     "text": [
      "TRAIN\n"
     ]
    },
    {
     "data": {
      "text/plain": [
       "84939    2016.0\n",
       "84612    2020.0\n",
       "82110    2008.0\n",
       "68466    2018.0\n",
       "6779     2013.0\n",
       "Name: modelDate, dtype: float64"
      ]
     },
     "metadata": {},
     "output_type": "display_data"
    }
   ],
   "source": [
    "#modelDate\n",
    "column = 'modelDate'\n",
    "type_comparison(column) # model year на самом деле"
   ]
  },
  {
   "cell_type": "code",
   "execution_count": 50,
   "metadata": {
    "ExecuteTime": {
     "end_time": "2022-04-05T15:12:44.030326Z",
     "start_time": "2022-04-05T15:12:44.015323Z"
    }
   },
   "outputs": [],
   "source": [
    "#Преобразование\n",
    "train_mod.modelDate = train_mod.modelDate.convert_dtypes(int) #astype('int')"
   ]
  },
  {
   "cell_type": "code",
   "execution_count": 52,
   "metadata": {},
   "outputs": [
    {
     "name": "stdout",
     "output_type": "stream",
     "text": [
      "TEST\n"
     ]
    },
    {
     "data": {
      "text/plain": [
       "4878     2011\n",
       "25895    2009\n",
       "19249    2001\n",
       "12980    2013\n",
       "14910    2013\n",
       "Name: modelDate, dtype: int64"
      ]
     },
     "metadata": {},
     "output_type": "display_data"
    },
    {
     "name": "stdout",
     "output_type": "stream",
     "text": [
      "TRAIN\n"
     ]
    },
    {
     "data": {
      "text/plain": [
       "45960    1998\n",
       "6675     2009\n",
       "2274     2008\n",
       "60221    1994\n",
       "43854    1996\n",
       "Name: modelDate, dtype: Int64"
      ]
     },
     "metadata": {},
     "output_type": "display_data"
    }
   ],
   "source": [
    "column = 'modelDate'\n",
    "type_comparison(column)"
   ]
  },
  {
   "cell_type": "code",
   "execution_count": 53,
   "metadata": {
    "ExecuteTime": {
     "end_time": "2022-04-05T15:12:44.046330Z",
     "start_time": "2022-04-05T15:12:44.031326Z"
    },
    "scrolled": true
   },
   "outputs": [
    {
     "name": "stdout",
     "output_type": "stream",
     "text": [
      "TEST\n"
     ]
    },
    {
     "data": {
      "text/plain": [
       "0             1.2 AMT (105 л.с.)\n",
       "21768    Ardeo 2.0 AT (145 л.с.)\n",
       "11174         1.6 CVT (117 л.с.)\n",
       "3848         2.0d CVT (143 л.с.)\n",
       "21441     4.5d AT (235 л.с.) 4WD\n",
       "Name: name, dtype: object"
      ]
     },
     "metadata": {},
     "output_type": "display_data"
    },
    {
     "name": "stdout",
     "output_type": "stream",
     "text": [
      "TRAIN\n"
     ]
    },
    {
     "data": {
      "text/plain": [
       "8190       730d 3.0d AT (231 л.с.)\n",
       "48283       3.0d AT (160 л.с.) 4WD\n",
       "68347        2.5 AT (199 л.с.) 4WD\n",
       "86077    250 2.0 AT (211 л.с.) 4WD\n",
       "77696        2.0 AT (249 л.с.) 4WD\n",
       "Name: name, dtype: object"
      ]
     },
     "metadata": {},
     "output_type": "display_data"
    }
   ],
   "source": [
    "#name\n",
    "column = 'name'\n",
    "type_comparison(column)"
   ]
  },
  {
   "cell_type": "markdown",
   "metadata": {},
   "source": [
    "В этой колонке есть информация об объёме двигателя. Её можно использовать для заполнения пропусков в столбце engineDisplacement."
   ]
  },
  {
   "cell_type": "code",
   "execution_count": 54,
   "metadata": {
    "ExecuteTime": {
     "end_time": "2022-04-05T15:12:44.062333Z",
     "start_time": "2022-04-05T15:12:44.048330Z"
    }
   },
   "outputs": [
    {
     "name": "stdout",
     "output_type": "stream",
     "text": [
      "TEST\n"
     ]
    },
    {
     "data": {
      "text/plain": [
       "1524     5\n",
       "6436     3\n",
       "27157    5\n",
       "3077     5\n",
       "21934    5\n",
       "Name: numberOfDoors, dtype: int64"
      ]
     },
     "metadata": {},
     "output_type": "display_data"
    },
    {
     "name": "stdout",
     "output_type": "stream",
     "text": [
      "TRAIN\n"
     ]
    },
    {
     "data": {
      "text/plain": [
       "49766    4.0\n",
       "64796    4.0\n",
       "76362    4.0\n",
       "72052    4.0\n",
       "7292     4.0\n",
       "Name: numberOfDoors, dtype: float64"
      ]
     },
     "metadata": {},
     "output_type": "display_data"
    }
   ],
   "source": [
    "#numberOfDoors\n",
    "column = 'numberOfDoors'\n",
    "type_comparison(column)"
   ]
  },
  {
   "cell_type": "code",
   "execution_count": 55,
   "metadata": {
    "ExecuteTime": {
     "end_time": "2022-04-05T15:12:44.078337Z",
     "start_time": "2022-04-05T15:12:44.063336Z"
    }
   },
   "outputs": [],
   "source": [
    "#Преобразование\n",
    "train_mod.numberOfDoors = train_mod.numberOfDoors.convert_dtypes(int)"
   ]
  },
  {
   "cell_type": "code",
   "execution_count": 56,
   "metadata": {
    "ExecuteTime": {
     "end_time": "2022-04-05T15:12:44.094340Z",
     "start_time": "2022-04-05T15:12:44.079337Z"
    }
   },
   "outputs": [
    {
     "name": "stdout",
     "output_type": "stream",
     "text": [
      "TEST\n"
     ]
    },
    {
     "data": {
      "text/plain": [
       "20566    2006\n",
       "25118    2013\n",
       "22921    2014\n",
       "10605    2011\n",
       "27225    2006\n",
       "Name: productionDate, dtype: int64"
      ]
     },
     "metadata": {},
     "output_type": "display_data"
    },
    {
     "name": "stdout",
     "output_type": "stream",
     "text": [
      "TRAIN\n"
     ]
    },
    {
     "data": {
      "text/plain": [
       "86118    2020\n",
       "81992    2013\n",
       "83541    2011\n",
       "72860    2011\n",
       "65922    1998\n",
       "Name: productionDate, dtype: int64"
      ]
     },
     "metadata": {},
     "output_type": "display_data"
    }
   ],
   "source": [
    "#productionDate # дата производства, есть ещё дата модели\n",
    "column = 'productionDate'\n",
    "type_comparison(column)"
   ]
  },
  {
   "cell_type": "code",
   "execution_count": 57,
   "metadata": {
    "ExecuteTime": {
     "end_time": "2022-04-05T15:12:44.110344Z",
     "start_time": "2022-04-05T15:12:44.095341Z"
    },
    "scrolled": true
   },
   "outputs": [
    {
     "name": "stdout",
     "output_type": "stream",
     "text": [
      "TEST\n"
     ]
    },
    {
     "data": {
      "text/plain": [
       "1693     LIFTBACK AUTOMATIC 1.8\n",
       "29092       SEDAN AUTOMATIC 1.5\n",
       "19425       SEDAN AUTOMATIC 2.4\n",
       "15886       COUPE AUTOMATIC 4.0\n",
       "26062           SEDAN ROBOT 1.8\n",
       "Name: vehicleConfiguration, dtype: object"
      ]
     },
     "metadata": {},
     "output_type": "display_data"
    },
    {
     "name": "stdout",
     "output_type": "stream",
     "text": [
      "TRAIN\n"
     ]
    },
    {
     "data": {
      "text/plain": [
       "47409    HATCHBACK_5_DOORS AUTOMATIC 1.4\n",
       "10070      ALLROAD_5_DOORS AUTOMATIC 30d\n",
       "39265      ALLROAD_5_DOORS AUTOMATIC 350\n",
       "70316    HATCHBACK_5_DOORS AUTOMATIC 1.6\n",
       "11429      ALLROAD_5_DOORS AUTOMATIC 30d\n",
       "Name: vehicleConfiguration, dtype: object"
      ]
     },
     "metadata": {},
     "output_type": "display_data"
    }
   ],
   "source": [
    "#vehicleConfiguration\n",
    "column = 'vehicleConfiguration'\n",
    "type_comparison(column)"
   ]
  },
  {
   "cell_type": "markdown",
   "metadata": {},
   "source": [
    "Этот столбец тоже можно использовать для заполнения пропусков в столбце engineDisplacement."
   ]
  },
  {
   "cell_type": "code",
   "execution_count": 58,
   "metadata": {
    "ExecuteTime": {
     "end_time": "2022-04-05T15:12:44.126348Z",
     "start_time": "2022-04-05T15:12:44.111345Z"
    }
   },
   "outputs": [
    {
     "name": "stdout",
     "output_type": "stream",
     "text": [
      "TEST\n"
     ]
    },
    {
     "data": {
      "text/plain": [
       "14004      механическая\n",
       "24343    автоматическая\n",
       "13632          вариатор\n",
       "11515          вариатор\n",
       "16634    автоматическая\n",
       "Name: vehicleTransmission, dtype: object"
      ]
     },
     "metadata": {},
     "output_type": "display_data"
    },
    {
     "name": "stdout",
     "output_type": "stream",
     "text": [
      "TRAIN\n"
     ]
    },
    {
     "data": {
      "text/plain": [
       "49671     AUTOMATIC\n",
       "4695      AUTOMATIC\n",
       "80798         ROBOT\n",
       "73303    MECHANICAL\n",
       "42471     AUTOMATIC\n",
       "Name: vehicleTransmission, dtype: object"
      ]
     },
     "metadata": {},
     "output_type": "display_data"
    }
   ],
   "source": [
    "#vehicleTransmission\n",
    "column = 'vehicleTransmission'\n",
    "type_comparison(column)"
   ]
  },
  {
   "cell_type": "code",
   "execution_count": 59,
   "metadata": {
    "ExecuteTime": {
     "end_time": "2022-04-05T15:12:44.142351Z",
     "start_time": "2022-04-05T15:12:44.127348Z"
    }
   },
   "outputs": [
    {
     "data": {
      "text/plain": [
       "array(['MECHANICAL', 'AUTOMATIC', 'ROBOT', 'VARIATOR'], dtype=object)"
      ]
     },
     "execution_count": 59,
     "metadata": {},
     "output_type": "execute_result"
    }
   ],
   "source": [
    "#Преобразование\n",
    "train_mod.vehicleTransmission.unique()"
   ]
  },
  {
   "cell_type": "code",
   "execution_count": 60,
   "metadata": {
    "ExecuteTime": {
     "end_time": "2022-04-05T15:12:44.158356Z",
     "start_time": "2022-04-05T15:12:44.143352Z"
    }
   },
   "outputs": [
    {
     "data": {
      "text/plain": [
       "array(['роботизированная', 'механическая', 'автоматическая', 'вариатор'],\n",
       "      dtype=object)"
      ]
     },
     "execution_count": 60,
     "metadata": {},
     "output_type": "execute_result"
    }
   ],
   "source": [
    "test_mod.vehicleTransmission.unique()"
   ]
  },
  {
   "cell_type": "code",
   "execution_count": 61,
   "metadata": {
    "ExecuteTime": {
     "end_time": "2022-04-05T15:12:44.190362Z",
     "start_time": "2022-04-05T15:12:44.159356Z"
    }
   },
   "outputs": [],
   "source": [
    "test_mod = test_mod.replace({'vehicleTransmission':\n",
    "                            {'автоматическая': 'AUTOMATIC',\n",
    "                            'вариатор': 'VARIATOR',\n",
    "                            'механическая': 'MECHANICAL',\n",
    "                            'роботизированная': 'ROBOT'}})"
   ]
  },
  {
   "cell_type": "code",
   "execution_count": 62,
   "metadata": {
    "ExecuteTime": {
     "end_time": "2022-04-05T15:12:44.206365Z",
     "start_time": "2022-04-05T15:12:44.191363Z"
    }
   },
   "outputs": [
    {
     "name": "stdout",
     "output_type": "stream",
     "text": [
      "TEST\n"
     ]
    },
    {
     "data": {
      "text/plain": [
       "31575    3 или более\n",
       "1414      1 владелец\n",
       "31238    3 или более\n",
       "27878    3 или более\n",
       "12710     1 владелец\n",
       "Name: Владельцы, dtype: object"
      ]
     },
     "metadata": {},
     "output_type": "display_data"
    },
    {
     "name": "stdout",
     "output_type": "stream",
     "text": [
      "TRAIN\n"
     ]
    },
    {
     "data": {
      "text/plain": [
       "83848    3.0\n",
       "48767    NaN\n",
       "86322    3.0\n",
       "86139    NaN\n",
       "85711    NaN\n",
       "Name: Владельцы, dtype: float64"
      ]
     },
     "metadata": {},
     "output_type": "display_data"
    }
   ],
   "source": [
    "#Владельцы\n",
    "column = 'Владельцы'\n",
    "type_comparison(column)"
   ]
  },
  {
   "cell_type": "code",
   "execution_count": 63,
   "metadata": {
    "ExecuteTime": {
     "end_time": "2022-04-05T15:12:44.222369Z",
     "start_time": "2022-04-05T15:12:44.207366Z"
    }
   },
   "outputs": [
    {
     "data": {
      "text/plain": [
       "array(['3 или более', '1\\xa0владелец', '2\\xa0владельца'], dtype=object)"
      ]
     },
     "execution_count": 63,
     "metadata": {},
     "output_type": "execute_result"
    }
   ],
   "source": [
    "test_mod.Владельцы.unique()"
   ]
  },
  {
   "cell_type": "code",
   "execution_count": 64,
   "metadata": {
    "ExecuteTime": {
     "end_time": "2022-04-05T15:12:44.270380Z",
     "start_time": "2022-04-05T15:12:44.223370Z"
    }
   },
   "outputs": [],
   "source": [
    "#Преобразование\n",
    "train_mod.Владельцы = train_mod.Владельцы.convert_dtypes(int)\n",
    "\n",
    "test_mod = test_mod.replace({'Владельцы':\n",
    "                            {'1\\xa0владелец': 1,\n",
    "                            '2\\xa0владельца': 2,\n",
    "                            '3 или более': 3}})"
   ]
  },
  {
   "cell_type": "code",
   "execution_count": 65,
   "metadata": {
    "ExecuteTime": {
     "end_time": "2022-04-05T15:12:44.286383Z",
     "start_time": "2022-04-05T15:12:44.271380Z"
    }
   },
   "outputs": [
    {
     "name": "stdout",
     "output_type": "stream",
     "text": [
      "TEST\n"
     ]
    },
    {
     "data": {
      "text/plain": [
       "32732                   NaN\n",
       "27199                   NaN\n",
       "6081     8 лет и 11 месяцев\n",
       "79                      NaN\n",
       "14078                   NaN\n",
       "Name: Владение, dtype: object"
      ]
     },
     "metadata": {},
     "output_type": "display_data"
    },
    {
     "name": "stdout",
     "output_type": "stream",
     "text": [
      "TRAIN\n"
     ]
    },
    {
     "data": {
      "text/plain": [
       "69872    {'year': 2008, 'month': 3}\n",
       "62362                           NaN\n",
       "88398                           NaN\n",
       "83868                           NaN\n",
       "71543                           NaN\n",
       "Name: Владение, dtype: object"
      ]
     },
     "metadata": {},
     "output_type": "display_data"
    }
   ],
   "source": [
    "#Владение\n",
    "column = 'Владение' # перевести в дни, можно выкинуть\n",
    "type_comparison(column)"
   ]
  },
  {
   "cell_type": "code",
   "execution_count": 66,
   "metadata": {
    "ExecuteTime": {
     "end_time": "2022-04-05T15:12:44.302387Z",
     "start_time": "2022-04-05T15:12:44.287386Z"
    }
   },
   "outputs": [
    {
     "name": "stdout",
     "output_type": "stream",
     "text": [
      "TEST\n",
      "Владение - 65%\n",
      "TRAIN\n",
      "Владение - 69%\n"
     ]
    }
   ],
   "source": [
    "#Посчитаем % пропусков\n",
    "col = 'Владение'\n",
    "\n",
    "pct_missing_1 = np.mean(test[col].isnull()) \n",
    "print('TEST')\n",
    "print('{} - {}%'.format(col, round(pct_missing_1*100)))\n",
    "pct_missing_2 = np.mean(train_mod[col].isnull()) \n",
    "print('TRAIN')\n",
    "print('{} - {}%'.format(col, round(pct_missing_2*100)))"
   ]
  },
  {
   "cell_type": "markdown",
   "metadata": {},
   "source": [
    "Большой процент пропусков в TRAIN и TEST (около 70%), столбец можно удалить."
   ]
  },
  {
   "cell_type": "code",
   "execution_count": 67,
   "metadata": {
    "ExecuteTime": {
     "end_time": "2022-04-05T15:12:44.318391Z",
     "start_time": "2022-04-05T15:12:44.303388Z"
    }
   },
   "outputs": [
    {
     "name": "stdout",
     "output_type": "stream",
     "text": [
      "TEST\n"
     ]
    },
    {
     "data": {
      "text/plain": [
       "13688    передний\n",
       "25063    передний\n",
       "2124     передний\n",
       "18308      задний\n",
       "2254     передний\n",
       "Name: Привод, dtype: object"
      ]
     },
     "metadata": {},
     "output_type": "display_data"
    },
    {
     "name": "stdout",
     "output_type": "stream",
     "text": [
      "TRAIN\n"
     ]
    },
    {
     "data": {
      "text/plain": [
       "73453    передний\n",
       "73611    передний\n",
       "51668    передний\n",
       "5584       задний\n",
       "87061      полный\n",
       "Name: Привод, dtype: object"
      ]
     },
     "metadata": {},
     "output_type": "display_data"
    }
   ],
   "source": [
    "#Привод\n",
    "column = 'Привод'\n",
    "type_comparison(column)"
   ]
  },
  {
   "cell_type": "code",
   "execution_count": 68,
   "metadata": {
    "ExecuteTime": {
     "end_time": "2022-04-05T15:12:44.334468Z",
     "start_time": "2022-04-05T15:12:44.319391Z"
    }
   },
   "outputs": [
    {
     "name": "stdout",
     "output_type": "stream",
     "text": [
      "TEST\n"
     ]
    },
    {
     "data": {
      "text/plain": [
       "12533    Оригинал\n",
       "27804    Оригинал\n",
       "1260     Оригинал\n",
       "29964    Оригинал\n",
       "29440    Оригинал\n",
       "Name: ПТС, dtype: object"
      ]
     },
     "metadata": {},
     "output_type": "display_data"
    },
    {
     "name": "stdout",
     "output_type": "stream",
     "text": [
      "TRAIN\n"
     ]
    },
    {
     "data": {
      "text/plain": [
       "9473      ORIGINAL\n",
       "87066    DUPLICATE\n",
       "75069    DUPLICATE\n",
       "86771     ORIGINAL\n",
       "83811     ORIGINAL\n",
       "Name: ПТС, dtype: object"
      ]
     },
     "metadata": {},
     "output_type": "display_data"
    }
   ],
   "source": [
    "#ПТС\n",
    "column = 'ПТС'\n",
    "type_comparison(column)"
   ]
  },
  {
   "cell_type": "code",
   "execution_count": 69,
   "metadata": {
    "ExecuteTime": {
     "end_time": "2022-04-05T15:12:44.366475Z",
     "start_time": "2022-04-05T15:12:44.335469Z"
    }
   },
   "outputs": [],
   "source": [
    "#Преобразование\n",
    "test_mod = test_mod.replace({'ПТС':\n",
    "                            {'Оригинал': 'ORIGINAL',\n",
    "                            'Дубликат': 'DUPLICATE'}})"
   ]
  },
  {
   "cell_type": "code",
   "execution_count": 70,
   "metadata": {
    "ExecuteTime": {
     "end_time": "2022-04-05T15:12:44.382479Z",
     "start_time": "2022-04-05T15:12:44.367475Z"
    }
   },
   "outputs": [
    {
     "name": "stdout",
     "output_type": "stream",
     "text": [
      "TEST\n"
     ]
    },
    {
     "data": {
      "text/plain": [
       "20957    Левый\n",
       "23302    Левый\n",
       "28124    Левый\n",
       "28216    Левый\n",
       "33058    Левый\n",
       "Name: Руль, dtype: object"
      ]
     },
     "metadata": {},
     "output_type": "display_data"
    },
    {
     "name": "stdout",
     "output_type": "stream",
     "text": [
      "TRAIN\n"
     ]
    },
    {
     "data": {
      "text/plain": [
       "8834      LEFT\n",
       "46478     LEFT\n",
       "5970      LEFT\n",
       "25157    RIGHT\n",
       "38659     LEFT\n",
       "Name: Руль, dtype: object"
      ]
     },
     "metadata": {},
     "output_type": "display_data"
    }
   ],
   "source": [
    "#Руль\n",
    "column = 'Руль'\n",
    "type_comparison(column)"
   ]
  },
  {
   "cell_type": "code",
   "execution_count": 71,
   "metadata": {
    "ExecuteTime": {
     "end_time": "2022-04-05T15:12:44.398483Z",
     "start_time": "2022-04-05T15:12:44.383479Z"
    }
   },
   "outputs": [],
   "source": [
    "#Преобразование\n",
    "test_mod = test_mod.replace({'Руль':\n",
    "                            {'Левый': 'LEFT',\n",
    "                            'Правый': 'RIGHT'}})"
   ]
  },
  {
   "cell_type": "code",
   "execution_count": 72,
   "metadata": {
    "ExecuteTime": {
     "end_time": "2022-04-05T15:12:44.414486Z",
     "start_time": "2022-04-05T15:12:44.399483Z"
    }
   },
   "outputs": [
    {
     "name": "stdout",
     "output_type": "stream",
     "text": [
      "TEST\n"
     ]
    },
    {
     "data": {
      "text/plain": [
       "27535    Не требует ремонта\n",
       "28856    Не требует ремонта\n",
       "1979     Не требует ремонта\n",
       "18945    Не требует ремонта\n",
       "20703    Не требует ремонта\n",
       "Name: Состояние, dtype: object"
      ]
     },
     "metadata": {},
     "output_type": "display_data"
    },
    {
     "name": "stdout",
     "output_type": "stream",
     "text": [
      "TRAIN\n"
     ]
    },
    {
     "data": {
      "text/plain": [
       "67898   NaN\n",
       "48187   NaN\n",
       "31385   NaN\n",
       "2966    NaN\n",
       "44491   NaN\n",
       "Name: Состояние, dtype: float64"
      ]
     },
     "metadata": {},
     "output_type": "display_data"
    }
   ],
   "source": [
    "#Состояние # выкинуть\n",
    "column = 'Состояние'\n",
    "type_comparison(column)"
   ]
  },
  {
   "cell_type": "code",
   "execution_count": 73,
   "metadata": {
    "ExecuteTime": {
     "end_time": "2022-04-05T15:12:44.430598Z",
     "start_time": "2022-04-05T15:12:44.415488Z"
    }
   },
   "outputs": [
    {
     "data": {
      "text/plain": [
       "array(['Не требует ремонта'], dtype=object)"
      ]
     },
     "execution_count": 73,
     "metadata": {},
     "output_type": "execute_result"
    }
   ],
   "source": [
    "test_mod.Состояние.unique()"
   ]
  },
  {
   "cell_type": "code",
   "execution_count": 74,
   "metadata": {
    "ExecuteTime": {
     "end_time": "2022-04-05T15:12:44.446602Z",
     "start_time": "2022-04-05T15:12:44.431600Z"
    }
   },
   "outputs": [
    {
     "data": {
      "text/plain": [
       "array([nan])"
      ]
     },
     "execution_count": 74,
     "metadata": {},
     "output_type": "execute_result"
    }
   ],
   "source": [
    "train_mod.Состояние.unique()"
   ]
  },
  {
   "cell_type": "markdown",
   "metadata": {},
   "source": [
    "В TEST только одно значение, в TRAIN - пустой столбец. СОСТОЯНИЕ можно удалить."
   ]
  },
  {
   "cell_type": "code",
   "execution_count": 75,
   "metadata": {
    "ExecuteTime": {
     "end_time": "2022-04-05T15:12:44.462605Z",
     "start_time": "2022-04-05T15:12:44.447602Z"
    }
   },
   "outputs": [
    {
     "name": "stdout",
     "output_type": "stream",
     "text": [
      "TEST\n"
     ]
    },
    {
     "data": {
      "text/plain": [
       "25959    Растаможен\n",
       "28780    Растаможен\n",
       "27553    Растаможен\n",
       "24309    Растаможен\n",
       "28925    Растаможен\n",
       "Name: Таможня, dtype: object"
      ]
     },
     "metadata": {},
     "output_type": "display_data"
    },
    {
     "name": "stdout",
     "output_type": "stream",
     "text": [
      "TRAIN\n"
     ]
    },
    {
     "data": {
      "text/plain": [
       "31550    True\n",
       "72618    True\n",
       "76452    True\n",
       "78193    True\n",
       "50805    True\n",
       "Name: Таможня, dtype: bool"
      ]
     },
     "metadata": {},
     "output_type": "display_data"
    }
   ],
   "source": [
    "#Таможня\n",
    "column = 'Таможня'\n",
    "type_comparison(column)"
   ]
  },
  {
   "cell_type": "code",
   "execution_count": 76,
   "metadata": {
    "ExecuteTime": {
     "end_time": "2022-04-05T15:12:44.478609Z",
     "start_time": "2022-04-05T15:12:44.463606Z"
    }
   },
   "outputs": [
    {
     "data": {
      "text/plain": [
       "array(['Растаможен'], dtype=object)"
      ]
     },
     "execution_count": 76,
     "metadata": {},
     "output_type": "execute_result"
    }
   ],
   "source": [
    "test_mod.Таможня.unique()"
   ]
  },
  {
   "cell_type": "code",
   "execution_count": 77,
   "metadata": {
    "ExecuteTime": {
     "end_time": "2022-04-05T15:12:44.494613Z",
     "start_time": "2022-04-05T15:12:44.479610Z"
    }
   },
   "outputs": [
    {
     "data": {
      "text/plain": [
       "array([ True])"
      ]
     },
     "execution_count": 77,
     "metadata": {},
     "output_type": "execute_result"
    }
   ],
   "source": [
    "train_mod.Таможня.unique()"
   ]
  },
  {
   "cell_type": "markdown",
   "metadata": {},
   "source": [
    "В TRAIN и TEST во всех строках одинаковое значение, столбец ТАМОЖНЯ можно удалить."
   ]
  },
  {
   "cell_type": "markdown",
   "metadata": {},
   "source": [
    "### Столбцы ТОЛЬКО TEST"
   ]
  },
  {
   "cell_type": "code",
   "execution_count": 78,
   "metadata": {
    "ExecuteTime": {
     "end_time": "2022-04-05T15:12:44.574630Z",
     "start_time": "2022-04-05T15:12:44.495613Z"
    }
   },
   "outputs": [
    {
     "name": "stdout",
     "output_type": "stream",
     "text": [
      "<class 'pandas.core.frame.DataFrame'>\n",
      "Int64Index: 34686 entries, 0 to 34685\n",
      "Data columns (total 11 columns):\n",
      " #   Column              Non-Null Count  Dtype \n",
      "---  ------              --------------  ----- \n",
      " 0   equipment_dict      24690 non-null  object\n",
      " 1   model_info          34686 non-null  object\n",
      " 2   model_name          34686 non-null  object\n",
      " 3   complectation_dict  6418 non-null   object\n",
      " 4   sell_id             34686 non-null  int64 \n",
      " 5   parsing_unixtime    34686 non-null  int64 \n",
      " 6   super_gen           34686 non-null  object\n",
      " 7   priceCurrency       34686 non-null  object\n",
      " 8   vendor              34686 non-null  object\n",
      " 9   car_url             34686 non-null  object\n",
      " 10  image               34686 non-null  object\n",
      "dtypes: int64(2), object(9)\n",
      "memory usage: 3.2+ MB\n"
     ]
    }
   ],
   "source": [
    "test_mod[test_only_columns].info()"
   ]
  },
  {
   "cell_type": "code",
   "execution_count": 79,
   "metadata": {
    "ExecuteTime": {
     "end_time": "2022-04-05T15:12:44.590634Z",
     "start_time": "2022-04-05T15:12:44.575633Z"
    }
   },
   "outputs": [
    {
     "name": "stdout",
     "output_type": "stream",
     "text": [
      "equipment_dict - 29%\n"
     ]
    }
   ],
   "source": [
    "#equipment_dict\n",
    "#Процент пропусков\n",
    "col = 'equipment_dict'\n",
    "missing = np.mean(test_mod[col].isnull()) \n",
    "print('{} - {}%'.format(col, round(missing*100)))"
   ]
  },
  {
   "cell_type": "code",
   "execution_count": 80,
   "metadata": {
    "ExecuteTime": {
     "end_time": "2022-04-05T15:12:44.606638Z",
     "start_time": "2022-04-05T15:12:44.591634Z"
    }
   },
   "outputs": [
    {
     "data": {
      "text/plain": [
       "10795                                         {\"ptf\":true}\n",
       "33935    {\"asr\":true,\"computer\":true,\"abs\":true,\"usb\":t...\n",
       "31242                                                  NaN\n",
       "28144    {\"engine-proof\":true,\"collision-prevention-ass...\n",
       "29039                                                  NaN\n",
       "Name: equipment_dict, dtype: object"
      ]
     },
     "execution_count": 80,
     "metadata": {},
     "output_type": "execute_result"
    }
   ],
   "source": [
    "test_mod.equipment_dict.sample(5)"
   ]
  },
  {
   "cell_type": "code",
   "execution_count": 81,
   "metadata": {
    "ExecuteTime": {
     "end_time": "2022-04-05T15:12:44.622641Z",
     "start_time": "2022-04-05T15:12:44.607638Z"
    }
   },
   "outputs": [
    {
     "data": {
      "text/plain": [
       "'{\"engine-proof\":true,\"tinted-glass\":true,\"esp\":true,\"airbag-driver\":true,\"aux\":true,\"isofix\":true,\"usb\":true,\"electro-window-front\":true,\"hcc\":true,\"audiopreparation\":true,\"heated-wash-system\":true,\"ashtray-and-cigarette-lighter\":true,\"airbag-passenger\":true,\"computer\":true,\"seat-transformation\":true,\"wheel-power\":true,\"lock\":true,\"fabric-seats\":true,\"electro-mirrors\":true,\"steel-wheels\":true,\"rain-sensor\":true,\"airbag-side\":true,\"mirrors-heat\":true,\"driver-seat-updown\":true,\"condition\":true,\"led-lights\":true,\"abs\":true,\"front-seats-heat\":true,\"wheel-configuration1\":true,\"immo\":true,\"12v-socket\":true,\"15-inch-wheels\":true}'"
      ]
     },
     "execution_count": 81,
     "metadata": {},
     "output_type": "execute_result"
    }
   ],
   "source": [
    "test_mod.equipment_dict[938] # Ментор сказал выкинуть, кек"
   ]
  },
  {
   "cell_type": "markdown",
   "metadata": {},
   "source": [
    "Данные содержат описание комплектации, могут служить для извлечения дополнительных признаков."
   ]
  },
  {
   "cell_type": "code",
   "execution_count": 82,
   "metadata": {
    "ExecuteTime": {
     "end_time": "2022-04-05T15:12:44.637818Z",
     "start_time": "2022-04-05T15:12:44.623642Z"
    }
   },
   "outputs": [
    {
     "data": {
      "text/plain": [
       "11296    {\"id\":\"20416559\",\"displacement\":1997,\"engine_t...\n",
       "8218     {\"id\":\"6329722\",\"name\":\"645\",\"nameplate\":\"645i...\n",
       "19357    {\"id\":\"7277930\",\"displacement\":1987,\"engine_ty...\n",
       "16237    {\"id\":\"20394671\",\"name\":\"350\",\"nameplate\":\"350...\n",
       "292      {\"id\":\"2309164\",\"displacement\":1198,\"engine_ty...\n",
       "Name: super_gen, dtype: object"
      ]
     },
     "execution_count": 82,
     "metadata": {},
     "output_type": "execute_result"
    }
   ],
   "source": [
    "#super_gen можно заменить пропуски\n",
    "test_mod.super_gen.sample(5)"
   ]
  },
  {
   "cell_type": "code",
   "execution_count": 83,
   "metadata": {
    "ExecuteTime": {
     "end_time": "2022-04-05T15:12:44.653822Z",
     "start_time": "2022-04-05T15:12:44.638819Z"
    }
   },
   "outputs": [
    {
     "data": {
      "text/plain": [
       "'{\"id\":\"20105521\",\"displacement\":1598,\"engine_type\":\"GASOLINE\",\"gear_type\":\"FORWARD_CONTROL\",\"transmission\":\"AUTOMATIC\",\"power\":110,\"power_kvt\":81,\"human_name\":\"1.6 AT (110 л.с.)\",\"acceleration\":12.2,\"clearance_min\":155,\"fuel_rate\":6.7}'"
      ]
     },
     "execution_count": 83,
     "metadata": {},
     "output_type": "execute_result"
    }
   ],
   "source": [
    "test_mod.super_gen[938]"
   ]
  },
  {
   "cell_type": "markdown",
   "metadata": {},
   "source": [
    "Данные частично дублируются с vehicleTransmission и engineDisplacement, однако, пропусков в тех столбцах нет - столбец super_gen следует удалить"
   ]
  },
  {
   "cell_type": "code",
   "execution_count": 85,
   "metadata": {
    "ExecuteTime": {
     "end_time": "2022-04-05T15:12:44.668825Z",
     "start_time": "2022-04-05T15:12:44.654823Z"
    },
    "scrolled": true
   },
   "outputs": [
    {
     "data": {
      "text/plain": [
       "8734     {\"code\":\"X6\",\"name\":\"X6\",\"ru_name\":\"Х6\",\"morph...\n",
       "2911     {\"code\":\"SQ5\",\"name\":\"SQ5\",\"ru_name\":\"ску5\",\"m...\n",
       "34023    {\"code\":\"GOLF\",\"name\":\"Golf\",\"ru_name\":\"Гольф\"...\n",
       "22483    {\"code\":\"GX\",\"name\":\"GX\",\"ru_name\":\"GX\",\"morph...\n",
       "21272    {\"code\":\"CAMRY\",\"name\":\"Camry\",\"ru_name\":\"Камр...\n",
       "Name: model_info, dtype: object"
      ]
     },
     "execution_count": 85,
     "metadata": {},
     "output_type": "execute_result"
    }
   ],
   "source": [
    "#model_info # Выкинуть\n",
    "test_mod.model_info.sample(5)"
   ]
  },
  {
   "cell_type": "code",
   "execution_count": 68,
   "metadata": {
    "ExecuteTime": {
     "end_time": "2022-04-05T15:12:44.684829Z",
     "start_time": "2022-04-05T15:12:44.669826Z"
    }
   },
   "outputs": [
    {
     "data": {
      "text/plain": [
       "'{\"code\":\"OCTAVIA\",\"name\":\"Octavia\",\"ru_name\":\"Октавия\",\"morphology\":{\"gender\":\"FEMININE\"},\"nameplate\":{\"code\":\"\",\"name\":\"\",\"semantic_url\":\"\"}}'"
      ]
     },
     "execution_count": 68,
     "metadata": {},
     "output_type": "execute_result"
    }
   ],
   "source": [
    "test_mod.model_info[938]"
   ]
  },
  {
   "cell_type": "code",
   "execution_count": 69,
   "metadata": {
    "ExecuteTime": {
     "end_time": "2022-04-05T15:12:44.700833Z",
     "start_time": "2022-04-05T15:12:44.685829Z"
    }
   },
   "outputs": [
    {
     "data": {
      "text/plain": [
       "'{\"code\":\"80\",\"name\":\"80\",\"ru_name\":\"80\",\"morphology\":{},\"nameplate\":{\"code\":\"\",\"name\":\"\",\"semantic_url\":\"\"}}'"
      ]
     },
     "execution_count": 69,
     "metadata": {},
     "output_type": "execute_result"
    }
   ],
   "source": [
    "test_mod.model_info[4469]"
   ]
  },
  {
   "cell_type": "code",
   "execution_count": 70,
   "metadata": {
    "ExecuteTime": {
     "end_time": "2022-04-05T15:12:44.716836Z",
     "start_time": "2022-04-05T15:12:44.701834Z"
    }
   },
   "outputs": [
    {
     "data": {
      "text/plain": [
       "'{\"code\":\"A5\",\"name\":\"A5\",\"ru_name\":\"А5\",\"morphology\":{},\"nameplate\":{\"code\":\"\",\"name\":\"\",\"semantic_url\":\"\"}}'"
      ]
     },
     "execution_count": 70,
     "metadata": {},
     "output_type": "execute_result"
    }
   ],
   "source": [
    "test_mod.model_info[3495]"
   ]
  },
  {
   "cell_type": "markdown",
   "metadata": {
    "ExecuteTime": {
     "end_time": "2022-04-04T23:44:52.766392Z",
     "start_time": "2022-04-04T23:44:52.751389Z"
    }
   },
   "source": [
    "Столбец MODEL_INFO дублирует информацию BRAND, можно удалить."
   ]
  },
  {
   "cell_type": "code",
   "execution_count": 86,
   "metadata": {
    "ExecuteTime": {
     "end_time": "2022-04-05T15:12:44.732840Z",
     "start_time": "2022-04-05T15:12:44.717837Z"
    }
   },
   "outputs": [
    {
     "data": {
      "text/plain": [
       "19024    JAPANESE\n",
       "15425    EUROPEAN\n",
       "18620    EUROPEAN\n",
       "21904    JAPANESE\n",
       "14037    JAPANESE\n",
       "Name: vendor, dtype: object"
      ]
     },
     "execution_count": 86,
     "metadata": {},
     "output_type": "execute_result"
    }
   ],
   "source": [
    "#vendor\n",
    "test_mod.vendor.sample(5)"
   ]
  },
  {
   "cell_type": "code",
   "execution_count": 87,
   "metadata": {
    "ExecuteTime": {
     "end_time": "2022-04-05T15:12:44.748843Z",
     "start_time": "2022-04-05T15:12:44.733840Z"
    }
   },
   "outputs": [
    {
     "data": {
      "text/plain": [
       "array(['EUROPEAN', 'JAPANESE'], dtype=object)"
      ]
     },
     "execution_count": 87,
     "metadata": {},
     "output_type": "execute_result"
    }
   ],
   "source": [
    "test_mod.vendor.unique()"
   ]
  },
  {
   "cell_type": "code",
   "execution_count": 88,
   "metadata": {
    "ExecuteTime": {
     "end_time": "2022-04-05T15:12:44.780851Z",
     "start_time": "2022-04-05T15:12:44.749845Z"
    }
   },
   "outputs": [
    {
     "data": {
      "text/plain": [
       "array(['SKODA', 'AUDI', 'VOLVO', 'BMW', 'MERCEDES', 'VOLKSWAGEN'],\n",
       "      dtype=object)"
      ]
     },
     "execution_count": 88,
     "metadata": {},
     "output_type": "execute_result"
    }
   ],
   "source": [
    "test_mod[test_mod['vendor'] == 'EUROPEAN']['brand'].unique()"
   ]
  },
  {
   "cell_type": "code",
   "execution_count": 89,
   "metadata": {
    "ExecuteTime": {
     "end_time": "2022-04-05T15:12:44.796854Z",
     "start_time": "2022-04-05T15:12:44.781852Z"
    }
   },
   "outputs": [
    {
     "data": {
      "text/plain": [
       "array(['HONDA', 'NISSAN', 'INFINITI', 'TOYOTA', 'LEXUS', 'MITSUBISHI'],\n",
       "      dtype=object)"
      ]
     },
     "execution_count": 89,
     "metadata": {},
     "output_type": "execute_result"
    }
   ],
   "source": [
    "test_mod[test_mod['vendor'] == 'JAPANESE']['brand'].unique()"
   ]
  },
  {
   "cell_type": "markdown",
   "metadata": {},
   "source": [
    "Европейским брендам соответствует европейский вендор, японским - соответственный. Возможно, этот столбец является ключом для создания дополнительного признака - страна или концерн, производящий определенный бренд."
   ]
  },
  {
   "cell_type": "code",
   "execution_count": 90,
   "metadata": {
    "ExecuteTime": {
     "end_time": "2022-04-05T15:12:44.812858Z",
     "start_time": "2022-04-05T15:12:44.797855Z"
    }
   },
   "outputs": [
    {
     "data": {
      "text/plain": [
       "23009    1095070220\n",
       "8839     1097229170\n",
       "18378    1101043528\n",
       "1596     1101273467\n",
       "22410    1101299809\n",
       "Name: sell_id, dtype: int64"
      ]
     },
     "execution_count": 90,
     "metadata": {},
     "output_type": "execute_result"
    }
   ],
   "source": [
    "#sell_id\n",
    "test_mod.sell_id.sample(5)"
   ]
  },
  {
   "cell_type": "markdown",
   "metadata": {},
   "source": [
    "SELL_ID - неинформативный столбец, необходимо удалить."
   ]
  },
  {
   "cell_type": "code",
   "execution_count": 91,
   "metadata": {
    "ExecuteTime": {
     "end_time": "2022-04-05T15:12:44.828862Z",
     "start_time": "2022-04-05T15:12:44.813860Z"
    },
    "scrolled": true
   },
   "outputs": [
    {
     "name": "stdout",
     "output_type": "stream",
     "text": [
      "complectation_dict - 81%\n"
     ]
    }
   ],
   "source": [
    "#complectation_dict\n",
    "#Процент пропусков\n",
    "col = 'complectation_dict'\n",
    "missing = np.mean(test_mod[col].isnull()) \n",
    "print('{} - {}%'.format(col, round(missing*100)))"
   ]
  },
  {
   "cell_type": "code",
   "execution_count": 92,
   "metadata": {
    "ExecuteTime": {
     "end_time": "2022-04-05T15:12:44.844865Z",
     "start_time": "2022-04-05T15:12:44.829862Z"
    }
   },
   "outputs": [
    {
     "data": {
      "text/plain": [
       "0                                                   NaN\n",
       "1                                                   NaN\n",
       "2     {\"id\":\"20026336\",\"name\":\"Ambition\",\"available_...\n",
       "3     {\"id\":\"20803582\",\"name\":\"Ambition\",\"available_...\n",
       "4                                                   NaN\n",
       "5     {\"id\":\"5011515\",\"name\":\"RS\",\"available_options...\n",
       "6     {\"id\":\"20069264\",\"name\":\"Elegance\",\"available_...\n",
       "7                                                   NaN\n",
       "8                                                   NaN\n",
       "9                                                   NaN\n",
       "10                                                  NaN\n",
       "11                                                  NaN\n",
       "12                                                  NaN\n",
       "13                                                  NaN\n",
       "14                                                  NaN\n",
       "15                                                  NaN\n",
       "16    {\"id\":\"20913628\",\"name\":\"Style\",\"available_opt...\n",
       "17                                                  NaN\n",
       "18                                                  NaN\n",
       "19                                                  NaN\n",
       "Name: complectation_dict, dtype: object"
      ]
     },
     "execution_count": 92,
     "metadata": {},
     "output_type": "execute_result"
    }
   ],
   "source": [
    "test_mod.complectation_dict.head(20)"
   ]
  },
  {
   "cell_type": "markdown",
   "metadata": {},
   "source": [
    "В столбце COMPLECTATION_DICT большой процент пропусков, его нужно удалить."
   ]
  },
  {
   "cell_type": "code",
   "execution_count": 93,
   "metadata": {
    "ExecuteTime": {
     "end_time": "2022-04-05T15:12:44.859869Z",
     "start_time": "2022-04-05T15:12:44.845866Z"
    },
    "scrolled": true
   },
   "outputs": [
    {
     "data": {
      "text/plain": [
       "31464    1603587277\n",
       "18075    1603250310\n",
       "16491    1603244149\n",
       "27013    1603261111\n",
       "14880    1603283956\n",
       "Name: parsing_unixtime, dtype: int64"
      ]
     },
     "execution_count": 93,
     "metadata": {},
     "output_type": "execute_result"
    }
   ],
   "source": [
    "#parsing_unixtime\n",
    "test_mod.parsing_unixtime.sample(5)"
   ]
  },
  {
   "cell_type": "markdown",
   "metadata": {},
   "source": [
    "Данный столбец бесполезен и его следует удалить."
   ]
  },
  {
   "cell_type": "code",
   "execution_count": 94,
   "metadata": {
    "ExecuteTime": {
     "end_time": "2022-04-05T15:12:44.874872Z",
     "start_time": "2022-04-05T15:12:44.860870Z"
    }
   },
   "outputs": [
    {
     "data": {
      "text/plain": [
       "17036           GL_KLASSE\n",
       "27204    LANCER_EVOLUTION\n",
       "33664                 5ER\n",
       "4831                   A4\n",
       "29737                 3ER\n",
       "Name: model_name, dtype: object"
      ]
     },
     "execution_count": 94,
     "metadata": {},
     "output_type": "execute_result"
    }
   ],
   "source": [
    "#model_name\n",
    "test_mod.model_name.sample(5)"
   ]
  },
  {
   "cell_type": "markdown",
   "metadata": {},
   "source": [
    "MODEL_NAME: Обозначение модели конкретного бренда, нужно уточнить корреспондирующую информацию в TRAIN."
   ]
  },
  {
   "cell_type": "code",
   "execution_count": 95,
   "metadata": {
    "ExecuteTime": {
     "end_time": "2022-04-05T15:12:44.890876Z",
     "start_time": "2022-04-05T15:12:44.875876Z"
    }
   },
   "outputs": [
    {
     "data": {
      "text/plain": [
       "254      RUB\n",
       "32585    RUB\n",
       "5436     RUB\n",
       "10494    RUB\n",
       "29445    RUB\n",
       "Name: priceCurrency, dtype: object"
      ]
     },
     "execution_count": 95,
     "metadata": {},
     "output_type": "execute_result"
    }
   ],
   "source": [
    "#priceCurrency \n",
    "test_mod.priceCurrency.sample(5)"
   ]
  },
  {
   "cell_type": "code",
   "execution_count": 96,
   "metadata": {
    "ExecuteTime": {
     "end_time": "2022-04-05T15:12:44.906879Z",
     "start_time": "2022-04-05T15:12:44.891877Z"
    }
   },
   "outputs": [
    {
     "data": {
      "text/plain": [
       "array(['RUB'], dtype=object)"
      ]
     },
     "execution_count": 96,
     "metadata": {},
     "output_type": "execute_result"
    }
   ],
   "source": [
    "test_mod.priceCurrency.unique()"
   ]
  },
  {
   "cell_type": "markdown",
   "metadata": {},
   "source": [
    "Во всех строках одно значение, столбец priceCurrency можно удалить."
   ]
  },
  {
   "cell_type": "code",
   "execution_count": 97,
   "metadata": {
    "ExecuteTime": {
     "end_time": "2022-04-05T15:12:44.937886Z",
     "start_time": "2022-04-05T15:12:44.917882Z"
    }
   },
   "outputs": [
    {
     "data": {
      "text/plain": [
       "22038    https://avatars.mds.yandex.net/get-autoru-vos/...\n",
       "12335    https://autoru.naydex.net/G87gDZg56/28c7a8vqVE...\n",
       "5152     https://avatars.mds.yandex.net/get-autoru-vos/...\n",
       "4479     https://autoru.naydex.net/ys1kR7800/fbd964zfcB...\n",
       "11831    https://avatars.mds.yandex.net/get-autoru-vos/...\n",
       "Name: image, dtype: object"
      ]
     },
     "execution_count": 97,
     "metadata": {},
     "output_type": "execute_result"
    }
   ],
   "source": [
    "#image\n",
    "test_mod.image.sample(5)"
   ]
  },
  {
   "cell_type": "markdown",
   "metadata": {},
   "source": [
    "Ссылки на недоступные фото товаров, не работают, столбец IMAGE можно удалить."
   ]
  },
  {
   "cell_type": "code",
   "execution_count": 98,
   "metadata": {
    "ExecuteTime": {
     "end_time": "2022-04-05T15:12:44.952890Z",
     "start_time": "2022-04-05T15:12:44.938889Z"
    }
   },
   "outputs": [
    {
     "data": {
      "text/plain": [
       "32814    https://auto.ru/cars/used/sale/nissan/terrano/...\n",
       "17226    https://auto.ru/cars/used/sale/mercedes/g_klas...\n",
       "10386    https://auto.ru/cars/used/sale/bmw/x1/11008933...\n",
       "2845     https://auto.ru/cars/used/sale/audi/q8/1100971...\n",
       "5653     https://auto.ru/cars/used/sale/honda/civic/110...\n",
       "Name: car_url, dtype: object"
      ]
     },
     "execution_count": 98,
     "metadata": {},
     "output_type": "execute_result"
    }
   ],
   "source": [
    "#car_url\n",
    "test_mod.car_url.sample(5)"
   ]
  },
  {
   "cell_type": "markdown",
   "metadata": {},
   "source": [
    "Ссылки на недоступные объявления, не работают, столбец CAR_URL можно удалить."
   ]
  },
  {
   "cell_type": "markdown",
   "metadata": {},
   "source": [
    "### Столбцы ТОЛЬКО TRAIN"
   ]
  },
  {
   "cell_type": "code",
   "execution_count": 99,
   "metadata": {
    "ExecuteTime": {
     "end_time": "2022-04-05T15:12:45.000900Z",
     "start_time": "2022-04-05T15:12:44.953890Z"
    }
   },
   "outputs": [
    {
     "name": "stdout",
     "output_type": "stream",
     "text": [
      "<class 'pandas.core.frame.DataFrame'>\n",
      "Int64Index: 47661 entries, 0 to 88660\n",
      "Data columns (total 5 columns):\n",
      " #   Column        Non-Null Count  Dtype  \n",
      "---  ------        --------------  -----  \n",
      " 0   model         47661 non-null  object \n",
      " 1   Комплектация  47661 non-null  object \n",
      " 2   start_date    47661 non-null  object \n",
      " 3   hidden        0 non-null      float64\n",
      " 4   price         47453 non-null  float64\n",
      "dtypes: float64(2), object(3)\n",
      "memory usage: 2.2+ MB\n"
     ]
    }
   ],
   "source": [
    "train_mod[train_only_columns].info()"
   ]
  },
  {
   "cell_type": "markdown",
   "metadata": {},
   "source": [
    "#hidden\n",
    "Столбец со всеми нулевыми значениями, можно удалить."
   ]
  },
  {
   "cell_type": "code",
   "execution_count": 100,
   "metadata": {
    "ExecuteTime": {
     "end_time": "2022-04-05T15:12:45.016904Z",
     "start_time": "2022-04-05T15:12:45.001902Z"
    }
   },
   "outputs": [
    {
     "data": {
      "text/plain": [
       "4537        3ER\n",
       "48016     NV200\n",
       "25005      JAZZ\n",
       "42740    GALANT\n",
       "71500    PASSAT\n",
       "Name: model, dtype: object"
      ]
     },
     "execution_count": 100,
     "metadata": {},
     "output_type": "execute_result"
    }
   ],
   "source": [
    "#model\n",
    "train_mod.model.sample(5)"
   ]
  },
  {
   "cell_type": "markdown",
   "metadata": {},
   "source": [
    "Столбец MODEL из TRAIN соответствует столбцу MODEL_NAME из TEST, необходимо дать единое название."
   ]
  },
  {
   "cell_type": "code",
   "execution_count": 101,
   "metadata": {
    "ExecuteTime": {
     "end_time": "2022-04-05T15:12:45.032908Z",
     "start_time": "2022-04-05T15:12:45.017905Z"
    }
   },
   "outputs": [],
   "source": [
    "train_mod = train_mod.rename(columns = {'model': 'model_name'})"
   ]
  },
  {
   "cell_type": "code",
   "execution_count": 102,
   "metadata": {
    "ExecuteTime": {
     "end_time": "2022-04-05T15:12:45.048911Z",
     "start_time": "2022-04-05T15:12:45.033909Z"
    }
   },
   "outputs": [
    {
     "name": "stdout",
     "output_type": "stream",
     "text": [
      "TEST\n"
     ]
    },
    {
     "data": {
      "text/plain": [
       "12593      QASHQAI\n",
       "6487          XC70\n",
       "27186    OUTLANDER\n",
       "4286            Q5\n",
       "14299       ALMERA\n",
       "Name: model_name, dtype: object"
      ]
     },
     "metadata": {},
     "output_type": "display_data"
    },
    {
     "name": "stdout",
     "output_type": "stream",
     "text": [
      "TRAIN\n"
     ]
    },
    {
     "data": {
      "text/plain": [
       "66593    HARRIER\n",
       "49362    QASHQAI\n",
       "80659       W201\n",
       "88543       W123\n",
       "60979    OCTAVIA\n",
       "Name: model_name, dtype: object"
      ]
     },
     "metadata": {},
     "output_type": "display_data"
    }
   ],
   "source": [
    "#Сравним формат и содержание в TRAIN и TEST\n",
    "#model_name\n",
    "column = 'model_name'\n",
    "type_comparison(column)"
   ]
  },
  {
   "cell_type": "code",
   "execution_count": 103,
   "metadata": {
    "ExecuteTime": {
     "end_time": "2022-04-05T15:12:45.064915Z",
     "start_time": "2022-04-05T15:12:45.049913Z"
    }
   },
   "outputs": [
    {
     "data": {
      "text/plain": [
       "71486    {'id': '0'}\n",
       "43637    {'id': '0'}\n",
       "46799    {'id': '0'}\n",
       "50444    {'id': '0'}\n",
       "46236    {'id': '0'}\n",
       "Name: Комплектация, dtype: object"
      ]
     },
     "execution_count": 103,
     "metadata": {},
     "output_type": "execute_result"
    }
   ],
   "source": [
    "#Комплектация\n",
    "train_mod.Комплектация.sample(5)"
   ]
  },
  {
   "cell_type": "code",
   "execution_count": 104,
   "metadata": {
    "ExecuteTime": {
     "end_time": "2022-04-05T15:12:45.080919Z",
     "start_time": "2022-04-05T15:12:45.065916Z"
    }
   },
   "outputs": [
    {
     "data": {
      "text/plain": [
       "\"{'id': '21678548', 'name': 'Комфорт', 'available_options': ['cruise-control', 'multi-wheel', 'heated-wash-system', 'airbag-passenger', 'roof-rails', 'bas', 'lock', 'electro-mirrors', 'mirrors-heat', 'glonass', 'automatic-lighting-control', 'computer', 'seat-transformation', 'wheel-power', 'light-cleaner', 'fabric-seats', 'airbag-side', 'electro-trunk', 'abs', 'wheel-leather', 'climate-control-2', 'auto-mirrors', 'asr', 'tinted-glass', 'esp', 'usb', 'audiopreparation', 'front-centre-armrest', 'rear-camera', 'electro-window-back', '18-inch-wheels', 'reduce-spare-wheel', 'body-mouldings', 'driver-seat-updown', 'wheel-heat', 'led-lights', 'park-assist-r', 'knee-airbag', 'airbag-driver', 'isofix', 'aux', 'drive-mode-sys', 'electro-window-front', 'light-sensor', 'hcc', 'airbag-curtain', 'keyless-entry', 'alarm', 'leather-gear-stick', 'start-button', 'ptf', 'rain-sensor', 'tyre-pressure', 'front-seats-heat', 'bluetooth', 'wheel-configuration2', 'wheel-configuration1', 'immo', 'windscreen-heat', '12v-socket', 'third-rear-headrest'], 'vendor_colors': [{'body_color_id': 21678630, 'mark_color_id': 21391185, 'name_ru': 'Белый', 'hex_codes': ['FAFAFA'], 'color_type': 'NOT_METALLIC', 'stock_color': {'hex_code': 'FAFBFB', 'name_ru': 'белый'}, 'photos': [{'name': '34-front', 'sizes': {'orig': '//avatars.mds.yandex.net/get-verba/1540742/2a0000016d8bdffaf53d7b1dfeced506b919/orig', 'wizardv3mr': '//avatars.mds.yandex.net/get-verba/1540742/2a0000016d8bdffaf53d7b1dfeced506b919/wizardv3mr', 'wizardv3': '//avatars.mds.yandex.net/get-verba/1540742/2a0000016d8bdffaf53d7b1dfeced506b919/wizardv3', 'cattouch': '//avatars.mds.yandex.net/get-verba/1540742/2a0000016d8bdffaf53d7b1dfeced506b919/cattouch', 'small': '//avatars.mds.yandex.net/get-verba/1540742/2a0000016d8bdffaf53d7b1dfeced506b919/small', '320x240': '//avatars.mds.yandex.net/get-verba/1540742/2a0000016d8bdffaf53d7b1dfeced506b919/320x240', '1200x900': '//avatars.mds.yandex.net/get-verba/1540742/2a0000016d8bdffaf53d7b1dfeced506b919/1200x900', '1200x900n': '//avatars.mds.yandex.net/get-verba/1540742/2a0000016d8bdffaf53d7b1dfeced506b919/1200x900n', 'thumb_m': '//avatars.mds.yandex.net/get-verba/1540742/2a0000016d8bdffaf53d7b1dfeced506b919/thumb_m', 'full': '//avatars.mds.yandex.net/get-verba/1540742/2a0000016d8bdffaf53d7b1dfeced506b919/full', '832x624': '//avatars.mds.yandex.net/get-verba/1540742/2a0000016d8bdffaf53d7b1dfeced506b919/832x624', '456x342': '//avatars.mds.yandex.net/get-verba/1540742/2a0000016d8bdffaf53d7b1dfeced506b919/456x342', '120x90': '//avatars.mds.yandex.net/get-verba/1540742/2a0000016d8bdffaf53d7b1dfeced506b919/120x90', '92x69': '//avatars.mds.yandex.net/get-verba/1540742/2a0000016d8bdffaf53d7b1dfeced506b919/92x69', 'islandoff': '//avatars.mds.yandex.net/get-verba/1540742/2a0000016d8bdffaf53d7b1dfeced506b919/islandoff', 'thumb_s': '//avatars.mds.yandex.net/get-verba/1540742/2a0000016d8bdffaf53d7b1dfeced506b919/thumb_s', 'thumb_s_2x': '//avatars.mds.yandex.net/get-verba/1540742/2a0000016d8bdffaf53d7b1dfeced506b919/thumb_s_2x'}}, {'name': '34-back', 'sizes': {'orig': '//avatars.mds.yandex.net/get-verba/1540742/2a0000016d8be007db8b6e3556c7d7665608/orig', 'wizardv3mr': '//avatars.mds.yandex.net/get-verba/1540742/2a0000016d8be007db8b6e3556c7d7665608/wizardv3mr', 'wizardv3': '//avatars.mds.yandex.net/get-verba/1540742/2a0000016d8be007db8b6e3556c7d7665608/wizardv3', 'cattouch': '//avatars.mds.yandex.net/get-verba/1540742/2a0000016d8be007db8b6e3556c7d7665608/cattouch', 'small': '//avatars.mds.yandex.net/get-verba/1540742/2a0000016d8be007db8b6e3556c7d7665608/small', '320x240': '//avatars.mds.yandex.net/get-verba/1540742/2a0000016d8be007db8b6e3556c7d7665608/320x240', '1200x900': '//avatars.mds.yandex.net/get-verba/1540742/2a0000016d8be007db8b6e3556c7d7665608/1200x900', '1200x900n': '//avatars.mds.yandex.net/get-verba/1540742/2a0000016d8be007db8b6e3556c7d7665608/1200x900n', 'thumb_m': '//avatars.mds.yandex.net/get-verba/1540742/2a0000016d8be007db8b6e3556c7d7665608/thumb_m', 'full': '//avatars.mds.yandex.net/get-verba/1540742/2a0000016d8be007db8b6e3556c7d7665608/full', '832x624': '//avatars.mds.yandex.net/get-verba/1540742/2a0000016d8be007db8b6e3556c7d7665608/832x624', '456x342': '//avatars.mds.yandex.net/get-verba/1540742/2a0000016d8be007db8b6e3556c7d7665608/456x342', '120x90': '//avatars.mds.yandex.net/get-verba/1540742/2a0000016d8be007db8b6e3556c7d7665608/120x90', '92x69': '//avatars.mds.yandex.net/get-verba/1540742/2a0000016d8be007db8b6e3556c7d7665608/92x69', 'islandoff': '//avatars.mds.yandex.net/get-verba/1540742/2a0000016d8be007db8b6e3556c7d7665608/islandoff', 'thumb_s': '//avatars.mds.yandex.net/get-verba/1540742/2a0000016d8be007db8b6e3556c7d7665608/thumb_s', 'thumb_s_2x': '//avatars.mds.yandex.net/get-verba/1540742/2a0000016d8be007db8b6e3556c7d7665608/thumb_s_2x'}}, {'name': 'side', 'sizes': {'orig': '//avatars.mds.yandex.net/get-verba/1030388/2a0000016d8be01a869b95822db0065d05cf/orig', 'wizardv3mr': '//avatars.mds.yandex.net/get-verba/1030388/2a0000016d8be01a869b95822db0065d05cf/wizardv3mr', 'wizardv3': '//avatars.mds.yandex.net/get-verba/1030388/2a0000016d8be01a869b95822db0065d05cf/wizardv3', 'cattouch': '//avatars.mds.yandex.net/get-verba/1030388/2a0000016d8be01a869b95822db0065d05cf/cattouch', 'small': '//avatars.mds.yandex.net/get-verba/1030388/2a0000016d8be01a869b95822db0065d05cf/small', '320x240': '//avatars.mds.yandex.net/get-verba/1030388/2a0000016d8be01a869b95822db0065d05cf/320x240', '1200x900': '//avatars.mds.yandex.net/get-verba/1030388/2a0000016d8be01a869b95822db0065d05cf/1200x900', '1200x900n': '//avatars.mds.yandex.net/get-verba/1030388/2a0000016d8be01a869b95822db0065d05cf/1200x900n', 'thumb_m': '//avatars.mds.yandex.net/get-verba/1030388/2a0000016d8be01a869b95822db0065d05cf/thumb_m', 'full': '//avatars.mds.yandex.net/get-verba/1030388/2a0000016d8be01a869b95822db0065d05cf/full', '832x624': '//avatars.mds.yandex.net/get-verba/1030388/2a0000016d8be01a869b95822db0065d05cf/832x624', '456x342': '//avatars.mds.yandex.net/get-verba/1030388/2a0000016d8be01a869b95822db0065d05cf/456x342', '120x90': '//avatars.mds.yandex.net/get-verba/1030388/2a0000016d8be01a869b95822db0065d05cf/120x90', '92x69': '//avatars.mds.yandex.net/get-verba/1030388/2a0000016d8be01a869b95822db0065d05cf/92x69', 'islandoff': '//avatars.mds.yandex.net/get-verba/1030388/2a0000016d8be01a869b95822db0065d05cf/islandoff', 'thumb_s': '//avatars.mds.yandex.net/get-verba/1030388/2a0000016d8be01a869b95822db0065d05cf/thumb_s', 'thumb_s_2x': '//avatars.mds.yandex.net/get-verba/1030388/2a0000016d8be01a869b95822db0065d05cf/thumb_s_2x'}}, {'name': 'front', 'sizes': {'orig': '//avatars.mds.yandex.net/get-verba/787013/2a0000016d8be026808abfeae8aa0bc5b746/orig', 'wizardv3mr': '//avatars.mds.yandex.net/get-verba/787013/2a0000016d8be026808abfeae8aa0bc5b746/wizardv3mr', 'wizardv3': '//avatars.mds.yandex.net/get-verba/787013/2a0000016d8be026808abfeae8aa0bc5b746/wizardv3', 'cattouch': '//avatars.mds.yandex.net/get-verba/787013/2a0000016d8be026808abfeae8aa0bc5b746/cattouch', 'small': '//avatars.mds.yandex.net/get-verba/787013/2a0000016d8be026808abfeae8aa0bc5b746/small', '320x240': '//avatars.mds.yandex.net/get-verba/787013/2a0000016d8be026808abfeae8aa0bc5b746/320x240', '1200x900': '//avatars.mds.yandex.net/get-verba/787013/2a0000016d8be026808abfeae8aa0bc5b746/1200x900', '1200x900n': '//avatars.mds.yandex.net/get-verba/787013/2a0000016d8be026808abfeae8aa0bc5b746/1200x900n', 'thumb_m': '//avatars.mds.yandex.net/get-verba/787013/2a0000016d8be026808abfeae8aa0bc5b746/thumb_m', 'full': '//avatars.mds.yandex.net/get-verba/787013/2a0000016d8be026808abfeae8aa0bc5b746/full', '832x624': '//avatars.mds.yandex.net/get-verba/787013/2a0000016d8be026808abfeae8aa0bc5b746/832x624', '456x342': '//avatars.mds.yandex.net/get-verba/787013/2a0000016d8be026808abfeae8aa0bc5b746/456x342', '120x90': '//avatars.mds.yandex.net/get-verba/787013/2a0000016d8be026808abfeae8aa0bc5b746/120x90', '92x69': '//avatars.mds.yandex.net/get-verba/787013/2a0000016d8be026808abfeae8aa0bc5b746/92x69', 'islandoff': '//avatars.mds.yandex.net/get-verba/787013/2a0000016d8be026808abfeae8aa0bc5b746/islandoff', 'thumb_s': '//avatars.mds.yandex.net/get-verba/787013/2a0000016d8be026808abfeae8aa0bc5b746/thumb_s', 'thumb_s_2x': '//avatars.mds.yandex.net/get-verba/787013/2a0000016d8be026808abfeae8aa0bc5b746/thumb_s_2x'}}, {'name': 'back', 'sizes': {'orig': '//avatars.mds.yandex.net/get-verba/1030388/2a0000016d8be03745ab3ccb2b30d2939c9f/orig', 'wizardv3mr': '//avatars.mds.yandex.net/get-verba/1030388/2a0000016d8be03745ab3ccb2b30d2939c9f/wizardv3mr', 'wizardv3': '//avatars.mds.yandex.net/get-verba/1030388/2a0000016d8be03745ab3ccb2b30d2939c9f/wizardv3', 'cattouch': '//avatars.mds.yandex.net/get-verba/1030388/2a0000016d8be03745ab3ccb2b30d2939c9f/cattouch', 'small': '//avatars.mds.yandex.net/get-verba/1030388/2a0000016d8be03745ab3ccb2b30d2939c9f/small', '320x240': '//avatars.mds.yandex.net/get-verba/1030388/2a0000016d8be03745ab3ccb2b30d2939c9f/320x240', '1200x900': '//avatars.mds.yandex.net/get-verba/1030388/2a0000016d8be03745ab3ccb2b30d2939c9f/1200x900', '1200x900n': '//avatars.mds.yandex.net/get-verba/1030388/2a0000016d8be03745ab3ccb2b30d2939c9f/1200x900n', 'thumb_m': '//avatars.mds.yandex.net/get-verba/1030388/2a0000016d8be03745ab3ccb2b30d2939c9f/thumb_m', 'full': '//avatars.mds.yandex.net/get-verba/1030388/2a0000016d8be03745ab3ccb2b30d2939c9f/full', '832x624': '//avatars.mds.yandex.net/get-verba/1030388/2a0000016d8be03745ab3ccb2b30d2939c9f/832x624', '456x342': '//avatars.mds.yandex.net/get-verba/1030388/2a0000016d8be03745ab3ccb2b30d2939c9f/456x342', '120x90': '//avatars.mds.yandex.net/get-verba/1030388/2a0000016d8be03745ab3ccb2b30d2939c9f/120x90', '92x69': '//avatars.mds.yandex.net/get-verba/1030388/2a0000016d8be03745ab3ccb2b30d2939c9f/92x69', 'islandoff': '//avatars.mds.yandex.net/get-verba/1030388/2a0000016d8be03745ab3ccb2b30d2939c9f/islandoff', 'thumb_s': '//avatars.mds.yandex.net/get-verba/1030388/2a0000016d8be03745ab3ccb2b30d2939c9f/thumb_s', 'thumb_s_2x': '//avatars.mds.yandex.net/get-verba/1030388/2a0000016d8be03745ab3ccb2b30d2939c9f/thumb_s_2x'}}], 'main_color': True}]}\""
      ]
     },
     "execution_count": 104,
     "metadata": {},
     "output_type": "execute_result"
    }
   ],
   "source": [
    "train_mod.Комплектация[68967]"
   ]
  },
  {
   "cell_type": "code",
   "execution_count": 105,
   "metadata": {
    "ExecuteTime": {
     "end_time": "2022-04-05T15:12:45.096922Z",
     "start_time": "2022-04-05T15:12:45.081919Z"
    }
   },
   "outputs": [
    {
     "data": {
      "text/plain": [
       "\"{'id': '0'}\""
      ]
     },
     "execution_count": 105,
     "metadata": {},
     "output_type": "execute_result"
    }
   ],
   "source": [
    "train_mod.Комплектация[24653]"
   ]
  },
  {
   "cell_type": "markdown",
   "metadata": {},
   "source": [
    "По содержанию данные частично совпадают с COMPLECTATION_DICT из TEST, все строки непустые, но при значении {'id': '0'} содержания фактически нет.\n"
   ]
  },
  {
   "cell_type": "code",
   "execution_count": 106,
   "metadata": {
    "ExecuteTime": {
     "end_time": "2022-04-05T15:12:45.128930Z",
     "start_time": "2022-04-05T15:12:45.097923Z"
    }
   },
   "outputs": [
    {
     "name": "stdout",
     "output_type": "stream",
     "text": [
      "63 %\n"
     ]
    }
   ],
   "source": [
    "#Процент пропусков в Комплектации\n",
    "missing = len(train_mod[train_mod['Комплектация'] == \"{'id': '0'}\"]['Комплектация'])\n",
    "total_missing = (missing/len(train_mod)*100)\n",
    "print(round(total_missing),'%')"
   ]
  },
  {
   "cell_type": "markdown",
   "metadata": {},
   "source": [
    "В TRAIN в КОМПЛЕКТАЦИИ отсутствует более 60% данных. По этой причине столбец КОМПЛЕКТАЦИЯ можно удалить."
   ]
  },
  {
   "cell_type": "code",
   "execution_count": 107,
   "metadata": {
    "ExecuteTime": {
     "end_time": "2022-04-05T15:12:45.144933Z",
     "start_time": "2022-04-05T15:12:45.129930Z"
    }
   },
   "outputs": [
    {
     "data": {
      "text/plain": [
       "60725    2020-03-26T11:17:09Z\n",
       "46145    2020-07-26T12:21:41Z\n",
       "46444    2019-04-14T14:59:38Z\n",
       "70286    2020-07-22T05:35:33Z\n",
       "7385     2020-05-01T11:39:19Z\n",
       "Name: start_date, dtype: object"
      ]
     },
     "execution_count": 107,
     "metadata": {},
     "output_type": "execute_result"
    }
   ],
   "source": [
    "#start_date\n",
    "train_mod.start_date.sample(5)"
   ]
  },
  {
   "cell_type": "code",
   "execution_count": 109,
   "metadata": {
    "ExecuteTime": {
     "end_time": "2022-04-05T15:12:46.275951Z",
     "start_time": "2022-04-05T15:12:45.145934Z"
    }
   },
   "outputs": [
    {
     "name": "stdout",
     "output_type": "stream",
     "text": [
      "Stored 'train_mod' (DataFrame)\n",
      "Stored 'test_mod' (DataFrame)\n"
     ]
    }
   ],
   "source": [
    "# Делюсь датой с другими ноутбуками\n",
    "%store train_mod \n",
    "%store test_mod\n",
    "\n",
    "# `%store -r train_mod` создаст переменную тренеровочного датасета в любом ноутбуке"
   ]
  },
  {
   "cell_type": "markdown",
   "metadata": {},
   "source": [
    "# Модели\n",
    "\n",
    "\n",
    "Были опробованны модели:\n",
    "- [Logistic regression](./secondary_notebooks/linear_regression.ipynb) \n",
    "- Desicion tree\n",
    "- DBSCAN\n",
    "- ..."
   ]
  },
  {
   "cell_type": "code",
   "execution_count": 110,
   "metadata": {
    "ExecuteTime": {
     "end_time": "2022-04-05T15:12:46.291954Z",
     "start_time": "2022-04-05T15:12:46.276950Z"
    }
   },
   "outputs": [
    {
     "data": {
      "application/vnd.jupyter.widget-view+json": {
       "model_id": "cf3efc02c11a4a09b8640b71f400e808",
       "version_major": 2,
       "version_minor": 0
      },
      "text/plain": [
       "Button(button_style='success', description='Я линейная!', style=ButtonStyle())"
      ]
     },
     "metadata": {},
     "output_type": "display_data"
    }
   ],
   "source": [
    "'''Если нажать - через три минуты покажется результат \"лучшей модели\"   '''\n",
    "\n",
    "from IPython.display import display\n",
    "from ipywidgets import Button \n",
    "\n",
    "# Создаем кнопку с нужными параметрами\n",
    "button1 = Button(description=\"Я линейная!\", \n",
    "                        button_style='success'  )\n",
    "\n",
    "def on_button_clicked(b): # Описываем обработчик события\n",
    "    %run ./secondary_notebooks/linear_regression.ipynb\n",
    "button1.on_click(on_button_clicked) # Назначаем этот обработчик на событие \"on_click\"\n",
    "\n",
    "display(button1) # Отображаем кнопку "
   ]
  },
  {
   "cell_type": "code",
   "execution_count": null,
   "metadata": {},
   "outputs": [],
   "source": []
  }
 ],
 "metadata": {
  "kernelspec": {
   "display_name": "Python 3",
   "language": "python",
   "name": "python3"
  },
  "language_info": {
   "codemirror_mode": {
    "name": "ipython",
    "version": 3
   },
   "file_extension": ".py",
   "mimetype": "text/x-python",
   "name": "python",
   "nbconvert_exporter": "python",
   "pygments_lexer": "ipython3",
   "version": "3.8.5"
  },
  "latex_envs": {
   "LaTeX_envs_menu_present": true,
   "autoclose": false,
   "autocomplete": true,
   "bibliofile": "biblio.bib",
   "cite_by": "apalike",
   "current_citInitial": 1,
   "eqLabelWithNumbers": true,
   "eqNumInitial": 1,
   "hotkeys": {
    "equation": "Ctrl-E",
    "itemize": "Ctrl-I"
   },
   "labels_anchors": false,
   "latex_user_defs": false,
   "report_style_numbering": false,
   "user_envs_cfg": false
  },
  "toc": {
   "base_numbering": 1,
   "nav_menu": {},
   "number_sections": true,
   "sideBar": true,
   "skip_h1_title": false,
   "title_cell": "Table of Contents",
   "title_sidebar": "Contents",
   "toc_cell": false,
   "toc_position": {},
   "toc_section_display": true,
   "toc_window_display": false
  },
  "varInspector": {
   "cols": {
    "lenName": 16,
    "lenType": 16,
    "lenVar": 40
   },
   "kernels_config": {
    "python": {
     "delete_cmd_postfix": "",
     "delete_cmd_prefix": "del ",
     "library": "var_list.py",
     "varRefreshCmd": "print(var_dic_list())"
    },
    "r": {
     "delete_cmd_postfix": ") ",
     "delete_cmd_prefix": "rm(",
     "library": "var_list.r",
     "varRefreshCmd": "cat(var_dic_list()) "
    }
   },
   "types_to_exclude": [
    "module",
    "function",
    "builtin_function_or_method",
    "instance",
    "_Feature"
   ],
   "window_display": false
  }
 },
 "nbformat": 4,
 "nbformat_minor": 5
}
