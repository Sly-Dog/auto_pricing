{
 "cells": [
  {
   "cell_type": "markdown",
   "id": "a57e97ee",
   "metadata": {},
   "source": [
    "# Initialization"
   ]
  },
  {
   "cell_type": "code",
   "execution_count": 1,
   "id": "24114fe0",
   "metadata": {
    "ExecuteTime": {
     "end_time": "2022-04-08T14:55:32.762757Z",
     "start_time": "2022-04-08T14:55:32.752755Z"
    }
   },
   "outputs": [],
   "source": [
    "# Устанавливается необходимая версия пакетов для воспроизводимости экспирементов\n",
    "# А так же для установки всех недостающих зависимостей\n",
    "\n",
    "#'''Windows'''\n",
    "#!python -m venv venv\n",
    "#!.\\venv\\Scripts\\activate\n",
    "#!pip install -r requirements.txt\n",
    "\n",
    "#'''Linux''';\n",
    "#!python -m venv venv  \n",
    "#!source ./venv/bin/activate  \n",
    "#!pip install -r requirements.txt"
   ]
  },
  {
   "cell_type": "code",
   "execution_count": 2,
   "id": "e8091165",
   "metadata": {
    "ExecuteTime": {
     "end_time": "2022-04-08T14:55:34.441635Z",
     "start_time": "2022-04-08T14:55:32.763757Z"
    }
   },
   "outputs": [],
   "source": [
    "import numpy as np # linear algebra\n",
    "import pandas as pd # data processing, CSV file I/O (e.g. pd.read_csv)\n",
    "import sys\n",
    "import re\n",
    "import matplotlib.pyplot as plt\n",
    "from sklearn.model_selection import train_test_split\n",
    "from sklearn.model_selection import KFold\n",
    "from tqdm.notebook import tqdm\n",
    "from catboost import CatBoostRegressor\n",
    "from sklearn.preprocessing import LabelEncoder\n",
    "\n",
    "from datetime import datetime as dt # работа со временем\n",
    "import json                     # преобразования строк со словарями в словари"
   ]
  },
  {
   "cell_type": "code",
   "execution_count": 3,
   "id": "ed5a3dab",
   "metadata": {
    "ExecuteTime": {
     "end_time": "2022-04-08T14:55:34.457639Z",
     "start_time": "2022-04-08T14:55:34.442635Z"
    }
   },
   "outputs": [
    {
     "name": "stdout",
     "output_type": "stream",
     "text": [
      "Python       : 3.10.4 (tags/v3.10.4:9d38120, Mar 23 2022, 23:13:41) [MSC v.1929 64 bit (AMD64)]\n",
      "Numpy        : 1.22.2\n"
     ]
    }
   ],
   "source": [
    "print('Python       :', sys.version.split('\\n')[0])\n",
    "print('Numpy        :', np.__version__)"
   ]
  },
  {
   "cell_type": "code",
   "execution_count": 4,
   "id": "12877744",
   "metadata": {
    "ExecuteTime": {
     "end_time": "2022-04-08T14:55:34.473642Z",
     "start_time": "2022-04-08T14:55:34.459639Z"
    }
   },
   "outputs": [],
   "source": [
    "# зафиксируем версию пакетов, чтобы эксперименты были воспроизводимы:\n",
    "#!pip freeze > requirements.txt"
   ]
  },
  {
   "cell_type": "code",
   "execution_count": 5,
   "id": "462e3b4a",
   "metadata": {
    "ExecuteTime": {
     "end_time": "2022-04-08T14:55:34.489646Z",
     "start_time": "2022-04-08T14:55:34.474642Z"
    }
   },
   "outputs": [],
   "source": [
    "# всегда фиксируйте RANDOM_SEED, чтобы ваши эксперименты были воспроизводимы!\n",
    "RANDOM_SEED = 42"
   ]
  },
  {
   "cell_type": "markdown",
   "id": "07d5b0cd",
   "metadata": {},
   "source": [
    "##  functions"
   ]
  },
  {
   "cell_type": "code",
   "execution_count": 6,
   "id": "34791ddd",
   "metadata": {
    "ExecuteTime": {
     "end_time": "2022-04-08T14:55:34.505649Z",
     "start_time": "2022-04-08T14:55:34.490647Z"
    }
   },
   "outputs": [],
   "source": [
    "def mape(y_true, y_pred):\n",
    "    return np.mean(np.abs((y_pred-y_true)/y_true))"
   ]
  },
  {
   "cell_type": "code",
   "execution_count": 7,
   "id": "753b87ed",
   "metadata": {
    "ExecuteTime": {
     "end_time": "2022-04-08T14:55:34.521653Z",
     "start_time": "2022-04-08T14:55:34.506651Z"
    }
   },
   "outputs": [],
   "source": [
    "'''Выводит barplot по количеству значений столбца'''\n",
    "def show_value_counts(val_co):\n",
    "    x = val_co.index\n",
    "    y = val_co.values\n",
    "    \n",
    "    return sns.barplot(x=y, y=x)"
   ]
  },
  {
   "cell_type": "markdown",
   "id": "7e7924c8",
   "metadata": {},
   "source": [
    "##  Data"
   ]
  },
  {
   "cell_type": "code",
   "execution_count": 8,
   "id": "f27a48ad",
   "metadata": {
    "ExecuteTime": {
     "end_time": "2022-04-08T14:55:40.759369Z",
     "start_time": "2022-04-08T14:55:34.522653Z"
    }
   },
   "outputs": [],
   "source": [
    "from pathlib import Path \n",
    "\n",
    "train = pd.read_pickle( Path(\"data\", \"all_auto_ru_09_09_2020.pickle_bz2\"),\n",
    "                compression='bz2')\n",
    "test = pd.read_pickle( Path(\"data\", \"test.pickle_bz2\"),\n",
    "                compression='bz2')"
   ]
  },
  {
   "cell_type": "markdown",
   "id": "23059a5c",
   "metadata": {},
   "source": [
    "## Предобработка и фичи на время разработки проекта"
   ]
  },
  {
   "cell_type": "code",
   "execution_count": 9,
   "id": "ec2dff6a",
   "metadata": {
    "ExecuteTime": {
     "end_time": "2022-04-08T14:55:41.622005Z",
     "start_time": "2022-04-08T14:55:40.760370Z"
    },
    "scrolled": false
   },
   "outputs": [
    {
     "name": "stdout",
     "output_type": "stream",
     "text": [
      "TRAIN Rows = 87264 Columns = 26\n",
      "TEST  Rows = 34686 Columns = 32\n"
     ]
    }
   ],
   "source": [
    "#Удаление дублирующихся строк\n",
    "train_mod = train.drop_duplicates()\n",
    "test_mod = test.drop_duplicates()\n",
    "\n",
    "print('TRAIN','Rows =', np.shape(train_mod)[0],'Columns =', np.shape(train_mod)[1], sep=' ')\n",
    "print('TEST ','Rows =', np.shape(test_mod)[0],'Columns =', np.shape(test_mod)[1], sep=' ') "
   ]
  },
  {
   "cell_type": "code",
   "execution_count": 10,
   "id": "04e7c06b",
   "metadata": {
    "ExecuteTime": {
     "end_time": "2022-04-08T14:55:43.153976Z",
     "start_time": "2022-04-08T14:55:41.625006Z"
    }
   },
   "outputs": [
    {
     "name": "stdout",
     "output_type": "stream",
     "text": [
      "Stored 'train_mod' (DataFrame)\n",
      "Stored 'test_mod' (DataFrame)\n"
     ]
    }
   ],
   "source": [
    "#Разбираемся с препроцессингом и потерей половины строк в трейне\n",
    "%store train_mod \n",
    "%store test_mod  "
   ]
  },
  {
   "cell_type": "markdown",
   "id": "3c8beddb",
   "metadata": {},
   "source": [
    "###  [Preprocessing_and_thoughts](./secondary_notebooks/Preprocessing_and_thoughts.ipynb)\n",
    "\n",
    "\n",
    "###  [ML](./secondary_notebooks/ML.ipynb)"
   ]
  },
  {
   "cell_type": "markdown",
   "id": "96621601",
   "metadata": {},
   "source": [
    "# Разведочный анализ\n",
    "\n",
    "Есть датасет test, по которому нужно предсказать стоимость поддержанного автомобиля, при этом обучать модель для предсказаний на кагл на нём нельзя. Нужно использовать сторонний датасет. Мы взяли датасет из baseline, поскольку парсинг займет много времени, а в приоритетах проекта именно DS часть задачи предсказания цены на авто.\n",
    "\n",
    "Для начала стоит понять, по каким данным будут делаться предсказания, затем подобрать подходящие из тренировочного датасета."
   ]
  },
  {
   "cell_type": "markdown",
   "id": "12ecc69e",
   "metadata": {},
   "source": [
    "## Test"
   ]
  },
  {
   "cell_type": "markdown",
   "id": "06da92d8",
   "metadata": {},
   "source": [
    "### Пропуски и дубли"
   ]
  },
  {
   "cell_type": "code",
   "execution_count": 11,
   "id": "1561e7b8",
   "metadata": {
    "ExecuteTime": {
     "end_time": "2022-04-08T14:55:43.378028Z",
     "start_time": "2022-04-08T14:55:43.154977Z"
    }
   },
   "outputs": [
    {
     "name": "stdout",
     "output_type": "stream",
     "text": [
      "Форма датасета до удаления дублей (34686, 32)\n",
      "Форма датасета после              (34686, 32)\n"
     ]
    }
   ],
   "source": [
    "print('Форма датасета до удаления дублей',test.shape)\n",
    "test = test.drop_duplicates()\n",
    "print('Форма датасета после             ',test.shape)\n"
   ]
  },
  {
   "cell_type": "markdown",
   "id": "b4007545",
   "metadata": {},
   "source": [
    "Дублей нет! Посмотрим на пропуски:"
   ]
  },
  {
   "cell_type": "code",
   "execution_count": 12,
   "id": "6c3f3a1c",
   "metadata": {
    "ExecuteTime": {
     "end_time": "2022-04-08T14:55:44.576670Z",
     "start_time": "2022-04-08T14:55:43.379027Z"
    }
   },
   "outputs": [
    {
     "data": {
      "image/png": "[encoded data removed]",
      "text/plain": [
       "<Figure size 720x360 with 1 Axes>"
      ]
     },
     "metadata": {
      "needs_background": "light"
     },
     "output_type": "display_data"
    }
   ],
   "source": [
    "import seaborn as sns\n",
    "\n",
    "fig, ax = plt.subplots(figsize=(10,5))\n",
    "sns_heatmap = sns.heatmap(\n",
    "    test.isnull(), yticklabels=False, cbar=False, cmap='viridis')"
   ]
  },
  {
   "cell_type": "markdown",
   "id": "237ee367",
   "metadata": {
    "ExecuteTime": {
     "end_time": "2022-04-07T08:18:53.436363Z",
     "start_time": "2022-04-07T08:18:53.420370Z"
    }
   },
   "source": [
    "Как видно, они очень плотно распределены всего по трём столбцам, что очень радует. Сразу видно, что столбец `complectation_dict` стоит выкинуть, поскольку в нем больше пропусков, чем данных. так же сразу стоит посмотреть на остальные столбцы с пропусками"
   ]
  },
  {
   "cell_type": "markdown",
   "id": "8f67a1b6",
   "metadata": {},
   "source": [
    "#### complectation_dict"
   ]
  },
  {
   "cell_type": "code",
   "execution_count": 13,
   "id": "204b0fbc",
   "metadata": {
    "ExecuteTime": {
     "end_time": "2022-04-08T14:55:44.592673Z",
     "start_time": "2022-04-08T14:55:44.577671Z"
    }
   },
   "outputs": [
    {
     "name": "stdout",
     "output_type": "stream",
     "text": [
      "Заполненность данными: 0.18503142478233292\n"
     ]
    },
    {
     "data": {
      "text/plain": [
       "'{\"id\":\"20026336\",\"name\":\"Ambition\",\"available_options\":[\"heated-wash-system\",\"airbag-passenger\",\"lock\",\"door-sill-panel\",\"electro-mirrors\",\"mirrors-heat\",\"cooling-box\",\"computer\",\"seat-transformation\",\"wheel-power\",\"fabric-seats\",\"airbag-side\",\"abs\",\"wheel-leather\",\"climate-control-1\",\"esp\",\"adaptive-light\",\"audiopreparation\",\"ashtray-and-cigarette-lighter\",\"front-centre-armrest\",\"electro-window-back\",\"16-inch-wheels\",\"body-mouldings\",\"condition\",\"airbag-driver\",\"isofix\",\"aux\",\"electro-window-front\",\"light-sensor\",\"hcc\",\"ptf\",\"rain-sensor\",\"tyre-pressure\",\"audiosystem-cd\",\"front-seats-heat\",\"wheel-configuration2\",\"wheel-configuration1\",\"immo\",\"12v-socket\",\"third-rear-headrest\"]}'"
      ]
     },
     "execution_count": 13,
     "metadata": {},
     "output_type": "execute_result"
    }
   ],
   "source": [
    "isna= test.complectation_dict.isna()\n",
    "print('Заполненность данными:',len(isna[isna == False])/len(isna))\n",
    "\n",
    "test.complectation_dict.dropna().iloc[0]"
   ]
  },
  {
   "cell_type": "markdown",
   "id": "fd782247",
   "metadata": {},
   "source": [
    "Видно, что это словарь. Данных в этом столбце меньше 20 процентов.\n",
    "\n",
    "Тут указан id, что может быть полезно только при объединении таблицы; имя, чем бы оно ни было; и перечисление возможных опций автомобиля. Это не несёт ценности. Этот столбец будет отфильтрован."
   ]
  },
  {
   "cell_type": "markdown",
   "id": "5da52d26",
   "metadata": {},
   "source": [
    "#### equipment_dict        "
   ]
  },
  {
   "cell_type": "code",
   "execution_count": 14,
   "id": "b7f5a45f",
   "metadata": {
    "ExecuteTime": {
     "end_time": "2022-04-08T14:55:44.608676Z",
     "start_time": "2022-04-08T14:55:44.593673Z"
    }
   },
   "outputs": [
    {
     "name": "stdout",
     "output_type": "stream",
     "text": [
      "Заполненность данными: 0.7118145649541602\n"
     ]
    },
    {
     "data": {
      "text/plain": [
       "'{\"engine-proof\":true,\"tinted-glass\":true,\"airbag-driver\":true,\"aux\":true,\"isofix\":true,\"electro-window-front\":true,\"ashtray-and-cigarette-lighter\":true,\"airbag-passenger\":true,\"computer\":true,\"high-beam-assist\":true,\"seat-transformation\":true,\"isofix-front\":true,\"wheel-power\":true,\"alarm\":true,\"lock\":true,\"door-sill-panel\":true,\"fabric-seats\":true,\"electro-mirrors\":true,\"airbag-rear-side\":true,\"electro-window-back\":true,\"steel-wheels\":true,\"ptf\":true,\"16-inch-wheels\":true,\"rain-sensor\":true,\"airbag-side\":true,\"audiosystem-cd\":true,\"dark-interior\":true,\"cooling-box\":true,\"condition\":true,\"abs\":true,\"power-child-locks-rear-doors\":true,\"front-seats-heat\":true,\"wheel-configuration2\":true,\"wheel-configuration1\":true,\"12v-socket\":true,\"park-assist-r\":true}'"
      ]
     },
     "execution_count": 14,
     "metadata": {},
     "output_type": "execute_result"
    }
   ],
   "source": [
    "isna= test.equipment_dict.isna()\n",
    "print('Заполненность данными:',len(isna[isna == False])/len(isna))\n",
    "\n",
    "test.equipment_dict.dropna().iloc[0]"
   ]
  },
  {
   "cell_type": "markdown",
   "id": "2df28ee3",
   "metadata": {},
   "source": [
    "Видно, что это тоже словарь, но он содержит  уже вполне себе определенную комплектацию автомобиля. Эти данные можно будет использовать для преобразования в категориальные переменные. Оданко большое количество пропусков критично. Думаю, можно сделать отдельный признак, обозначающий отсутствие данных в этом столбце. Можно будет сделать данные не бинарными, а категориальными, содержащие три признака: есть, нет, отсутствую данные"
   ]
  },
  {
   "cell_type": "markdown",
   "id": "0d7a0c2e",
   "metadata": {},
   "source": [
    "#### Владение"
   ]
  },
  {
   "cell_type": "code",
   "execution_count": 15,
   "id": "405885e5",
   "metadata": {
    "ExecuteTime": {
     "end_time": "2022-04-08T14:55:44.624680Z",
     "start_time": "2022-04-08T14:55:44.609677Z"
    }
   },
   "outputs": [
    {
     "name": "stdout",
     "output_type": "stream",
     "text": [
      "Заполненность данными: 0.3458167560399008\n"
     ]
    },
    {
     "data": {
      "text/plain": [
       "'3 года и 2 месяца'"
      ]
     },
     "execution_count": 15,
     "metadata": {},
     "output_type": "execute_result"
    }
   ],
   "source": [
    "isna= test.Владение.isna()\n",
    "print('Заполненность данными:',len(isna[isna == False])/len(isna))\n",
    "\n",
    "test.Владение.dropna().iloc[0]"
   ]
  },
  {
   "cell_type": "markdown",
   "id": "5cbd17a0",
   "metadata": {
    "ExecuteTime": {
     "end_time": "2022-04-07T08:46:57.285975Z",
     "start_time": "2022-04-07T08:46:57.276974Z"
    }
   },
   "source": [
    "Столбец заполнен на 35% \n",
    "\n",
    "Видно, что это строка, которая указывает время владения. Предположительно, последнего владельца, но это нужно проверить. \n",
    "\n",
    "Данных маловато, но зато можно будет сделать из них бинарный признак, указал ли водитель время использования или нет. Но скорее всего после проверки этот столбец не будет использоваться вовсе."
   ]
  },
  {
   "cell_type": "code",
   "execution_count": 16,
   "id": "ef2c224d",
   "metadata": {
    "ExecuteTime": {
     "end_time": "2022-04-08T14:55:44.640683Z",
     "start_time": "2022-04-08T14:55:44.625680Z"
    }
   },
   "outputs": [
    {
     "data": {
      "text/plain": [
       "Index(['bodyType', 'brand', 'car_url', 'color', 'complectation_dict',\n",
       "       'description', 'engineDisplacement', 'enginePower', 'equipment_dict',\n",
       "       'fuelType', 'image', 'mileage', 'modelDate', 'model_info', 'model_name',\n",
       "       'name', 'numberOfDoors', 'parsing_unixtime', 'priceCurrency',\n",
       "       'productionDate', 'sell_id', 'super_gen', 'vehicleConfiguration',\n",
       "       'vehicleTransmission', 'vendor', 'Владельцы', 'Владение', 'ПТС',\n",
       "       'Привод', 'Руль', 'Состояние', 'Таможня'],\n",
       "      dtype='object')"
      ]
     },
     "execution_count": 16,
     "metadata": {},
     "output_type": "execute_result"
    }
   ],
   "source": [
    "test.columns"
   ]
  },
  {
   "cell_type": "markdown",
   "id": "80c58b8f",
   "metadata": {},
   "source": [
    "Посмотрим на все колонки"
   ]
  },
  {
   "cell_type": "code",
   "execution_count": 17,
   "id": "86c5230d",
   "metadata": {
    "ExecuteTime": {
     "end_time": "2022-04-08T14:55:44.672691Z",
     "start_time": "2022-04-08T14:55:44.641684Z"
    }
   },
   "outputs": [
    {
     "data": {
      "text/html": [
       "<div>\n",
       "<style scoped>\n",
       "    .dataframe tbody tr th:only-of-type {\n",
       "        vertical-align: middle;\n",
       "    }\n",
       "\n",
       "    .dataframe tbody tr th {\n",
       "        vertical-align: top;\n",
       "    }\n",
       "\n",
       "    .dataframe thead th {\n",
       "        text-align: right;\n",
       "    }\n",
       "</style>\n",
       "<table border=\"1\" class=\"dataframe\">\n",
       "  <thead>\n",
       "    <tr style=\"text-align: right;\">\n",
       "      <th></th>\n",
       "      <th>mileage</th>\n",
       "      <th>modelDate</th>\n",
       "      <th>numberOfDoors</th>\n",
       "      <th>parsing_unixtime</th>\n",
       "      <th>productionDate</th>\n",
       "      <th>sell_id</th>\n",
       "    </tr>\n",
       "  </thead>\n",
       "  <tbody>\n",
       "    <tr>\n",
       "      <th>count</th>\n",
       "      <td>34686.000000</td>\n",
       "      <td>34686.000000</td>\n",
       "      <td>34686.000000</td>\n",
       "      <td>3.468600e+04</td>\n",
       "      <td>34686.000000</td>\n",
       "      <td>3.468600e+04</td>\n",
       "    </tr>\n",
       "    <tr>\n",
       "      <th>mean</th>\n",
       "      <td>162009.767889</td>\n",
       "      <td>2007.074728</td>\n",
       "      <td>4.450816</td>\n",
       "      <td>1.603287e+09</td>\n",
       "      <td>2009.264602</td>\n",
       "      <td>1.098300e+09</td>\n",
       "    </tr>\n",
       "    <tr>\n",
       "      <th>std</th>\n",
       "      <td>100676.559489</td>\n",
       "      <td>7.415894</td>\n",
       "      <td>0.703040</td>\n",
       "      <td>1.493071e+05</td>\n",
       "      <td>7.047661</td>\n",
       "      <td>1.911225e+07</td>\n",
       "    </tr>\n",
       "    <tr>\n",
       "      <th>min</th>\n",
       "      <td>1.000000</td>\n",
       "      <td>1904.000000</td>\n",
       "      <td>0.000000</td>\n",
       "      <td>1.603107e+09</td>\n",
       "      <td>1904.000000</td>\n",
       "      <td>2.665000e+03</td>\n",
       "    </tr>\n",
       "    <tr>\n",
       "      <th>25%</th>\n",
       "      <td>91153.500000</td>\n",
       "      <td>2004.000000</td>\n",
       "      <td>4.000000</td>\n",
       "      <td>1.603221e+09</td>\n",
       "      <td>2006.000000</td>\n",
       "      <td>1.099049e+09</td>\n",
       "    </tr>\n",
       "    <tr>\n",
       "      <th>50%</th>\n",
       "      <td>149779.500000</td>\n",
       "      <td>2008.000000</td>\n",
       "      <td>5.000000</td>\n",
       "      <td>1.603254e+09</td>\n",
       "      <td>2011.000000</td>\n",
       "      <td>1.100911e+09</td>\n",
       "    </tr>\n",
       "    <tr>\n",
       "      <th>75%</th>\n",
       "      <td>215000.000000</td>\n",
       "      <td>2012.000000</td>\n",
       "      <td>5.000000</td>\n",
       "      <td>1.603290e+09</td>\n",
       "      <td>2014.000000</td>\n",
       "      <td>1.101245e+09</td>\n",
       "    </tr>\n",
       "    <tr>\n",
       "      <th>max</th>\n",
       "      <td>1000000.000000</td>\n",
       "      <td>2020.000000</td>\n",
       "      <td>5.000000</td>\n",
       "      <td>1.603710e+09</td>\n",
       "      <td>2020.000000</td>\n",
       "      <td>1.101375e+09</td>\n",
       "    </tr>\n",
       "  </tbody>\n",
       "</table>\n",
       "</div>"
      ],
      "text/plain": [
       "              mileage     modelDate  numberOfDoors  parsing_unixtime  \\\n",
       "count    34686.000000  34686.000000   34686.000000      3.468600e+04   \n",
       "mean    162009.767889   2007.074728       4.450816      1.603287e+09   \n",
       "std     100676.559489      7.415894       0.703040      1.493071e+05   \n",
       "min          1.000000   1904.000000       0.000000      1.603107e+09   \n",
       "25%      91153.500000   2004.000000       4.000000      1.603221e+09   \n",
       "50%     149779.500000   2008.000000       5.000000      1.603254e+09   \n",
       "75%     215000.000000   2012.000000       5.000000      1.603290e+09   \n",
       "max    1000000.000000   2020.000000       5.000000      1.603710e+09   \n",
       "\n",
       "       productionDate       sell_id  \n",
       "count    34686.000000  3.468600e+04  \n",
       "mean      2009.264602  1.098300e+09  \n",
       "std          7.047661  1.911225e+07  \n",
       "min       1904.000000  2.665000e+03  \n",
       "25%       2006.000000  1.099049e+09  \n",
       "50%       2011.000000  1.100911e+09  \n",
       "75%       2014.000000  1.101245e+09  \n",
       "max       2020.000000  1.101375e+09  "
      ]
     },
     "execution_count": 17,
     "metadata": {},
     "output_type": "execute_result"
    }
   ],
   "source": [
    "test.describe()"
   ]
  },
  {
   "cell_type": "markdown",
   "id": "7b9ac8ed",
   "metadata": {},
   "source": [
    "Видно, что в дате всего 5 численных переменных, но sell_id не считается"
   ]
  },
  {
   "cell_type": "markdown",
   "id": "85ce8e75",
   "metadata": {},
   "source": [
    "### bodyType"
   ]
  },
  {
   "cell_type": "code",
   "execution_count": 18,
   "id": "e71eb3c5",
   "metadata": {
    "ExecuteTime": {
     "end_time": "2022-04-08T14:55:44.896853Z",
     "start_time": "2022-04-08T14:55:44.673692Z"
    }
   },
   "outputs": [
    {
     "data": {
      "image/png": "[encoded data removed]",
      "text/plain": [
       "<Figure size 432x288 with 1 Axes>"
      ]
     },
     "metadata": {
      "needs_background": "light"
     },
     "output_type": "display_data"
    }
   ],
   "source": [
    "show_value_counts(test.bodyType.value_counts());"
   ]
  },
  {
   "cell_type": "markdown",
   "id": "c367e76a",
   "metadata": {
    "ExecuteTime": {
     "end_time": "2022-04-07T15:19:40.965715Z",
     "start_time": "2022-04-07T15:19:40.958714Z"
    }
   },
   "source": [
    "Этот столбец определяет тип кузова автомобиля. Почему-то в датасете очень много внедорожников с 5 дверьми, а есть внедорожники с 3мя дверьми. Подобные строки будут обозначенны одним видом, как один тип кузова, потому-что количество дверей - это отдельный признак.\n",
    "\n",
    "Видно, что часть авто являются редкими. Их можно объединить в один признак. Неплохая вариация для моделей"
   ]
  },
  {
   "cell_type": "markdown",
   "id": "63b6f5a1",
   "metadata": {},
   "source": [
    "### brand"
   ]
  },
  {
   "cell_type": "code",
   "execution_count": 19,
   "id": "a114619a",
   "metadata": {
    "ExecuteTime": {
     "end_time": "2022-04-08T14:55:45.024882Z",
     "start_time": "2022-04-08T14:55:44.897854Z"
    }
   },
   "outputs": [
    {
     "data": {
      "image/png": "[encoded data removed]",
      "text/plain": [
       "<Figure size 432x288 with 1 Axes>"
      ]
     },
     "metadata": {
      "needs_background": "light"
     },
     "output_type": "display_data"
    }
   ],
   "source": [
    "show_value_counts(test.brand.value_counts());"
   ]
  },
  {
   "cell_type": "markdown",
   "id": "03b6970e",
   "metadata": {},
   "source": [
    "Красивое и нормальное распределение брендов, можно превратить в dummy-переменные"
   ]
  },
  {
   "cell_type": "markdown",
   "id": "c75c7e67",
   "metadata": {},
   "source": [
    "### car_url"
   ]
  },
  {
   "cell_type": "code",
   "execution_count": 20,
   "id": "bc3a287c",
   "metadata": {
    "ExecuteTime": {
     "end_time": "2022-04-08T14:55:45.040886Z",
     "start_time": "2022-04-08T14:55:45.025883Z"
    }
   },
   "outputs": [
    {
     "data": {
      "text/plain": [
       "'https://auto.ru/cars/used/sale/skoda/octavia/1100575026-c780dc09/'"
      ]
     },
     "execution_count": 20,
     "metadata": {},
     "output_type": "execute_result"
    }
   ],
   "source": [
    "test.car_url[0]"
   ]
  },
  {
   "cell_type": "markdown",
   "id": "28fbf864",
   "metadata": {},
   "source": [
    "Это ссылки на странички проданых авто, вот [одна из них](https://auto.ru/cars/used/sale/skoda/octavia/1100575026-c780dc09/). \n",
    "\n",
    "Для модели это мусор, но можно спарсить добавочные данные с сайта. Но есть ссылки и нерабочие"
   ]
  },
  {
   "cell_type": "code",
   "execution_count": 21,
   "id": "66fc8d98",
   "metadata": {
    "ExecuteTime": {
     "end_time": "2022-04-08T14:55:45.056890Z",
     "start_time": "2022-04-08T14:55:45.041887Z"
    }
   },
   "outputs": [
    {
     "data": {
      "text/plain": [
       "4647     https://auto.ru/cars/used/sale/audi/80/1101251...\n",
       "6568     https://auto.ru/cars/used/sale/volvo/240_serie...\n",
       "9463     https://auto.ru/cars/used/sale/bmw/7er/1092626...\n",
       "9888     https://auto.ru/cars/used/sale/bmw/5er/1099209...\n",
       "17203    https://auto.ru/cars/used/sale/mercedes/w124/1...\n",
       "18308    https://auto.ru/cars/used/sale/mercedes/s_klas...\n",
       "20164    https://auto.ru/cars/used/sale/toyota/corolla_...\n",
       "21459    https://auto.ru/cars/used/sale/toyota/land_cru...\n",
       "25168    https://auto.ru/cars/used/sale/volkswagen/tran...\n",
       "25464    https://auto.ru/cars/used/sale/volkswagen/jett...\n",
       "28391    https://auto.ru/cars/used/sale/mitsubishi/cari...\n",
       "Name: car_url, dtype: object"
      ]
     },
     "execution_count": 21,
     "metadata": {},
     "output_type": "execute_result"
    }
   ],
   "source": [
    "test[test.mileage == test.mileage.max()].car_url"
   ]
  },
  {
   "cell_type": "markdown",
   "id": "2a0866c1",
   "metadata": {},
   "source": [
    "### color"
   ]
  },
  {
   "cell_type": "markdown",
   "id": "c71b30f8",
   "metadata": {},
   "source": [
    "### complectation_dict\n",
    " \n",
    "[Много пропусков и нуль информации](#complectation_dict), поэтому выкенем этот столбец"
   ]
  },
  {
   "cell_type": "code",
   "execution_count": 22,
   "id": "152b2353",
   "metadata": {
    "ExecuteTime": {
     "end_time": "2022-04-08T14:55:45.072893Z",
     "start_time": "2022-04-08T14:55:45.057890Z"
    }
   },
   "outputs": [],
   "source": [
    "# test = test.drop(['complectation_dict'], axis='columns')"
   ]
  },
  {
   "cell_type": "code",
   "execution_count": 23,
   "id": "e92dd0ed",
   "metadata": {
    "ExecuteTime": {
     "end_time": "2022-04-08T14:55:45.232929Z",
     "start_time": "2022-04-08T14:55:45.073893Z"
    }
   },
   "outputs": [
    {
     "data": {
      "image/png": "[encoded data removed]",
      "text/plain": [
       "<Figure size 432x288 with 1 Axes>"
      ]
     },
     "metadata": {
      "needs_background": "light"
     },
     "output_type": "display_data"
    }
   ],
   "source": [
    "show_value_counts(test.color.value_counts());"
   ]
  },
  {
   "cell_type": "markdown",
   "id": "e8e0dfb0",
   "metadata": {},
   "source": [
    "Готовая для модели колонка, распределена нормально. Стоит преобразовать в dummy, можно сделать призак: редкий цвет. Он может повысить предсказательную силу моделей"
   ]
  },
  {
   "cell_type": "markdown",
   "id": "dd4d2c7f",
   "metadata": {},
   "source": [
    "### description"
   ]
  },
  {
   "cell_type": "code",
   "execution_count": 24,
   "id": "9ebadd68",
   "metadata": {
    "ExecuteTime": {
     "end_time": "2022-04-08T14:55:45.248933Z",
     "start_time": "2022-04-08T14:55:45.233930Z"
    }
   },
   "outputs": [
    {
     "data": {
      "text/plain": [
       "'Все автомобили, представленные в продаже, проходят тщательную проверку по более 40 параметрам. Предоставляем гарантию юридической чистоты, а так же год технической гарантии на двигатель и КПП. Бесплатный тест-драйв. Возможно оформление автомобиля в кредит!\\n\\nПреимущества автокредитования:\\n— Первоначальный взнос от 0%;\\n— Более 30 кредитных программ;\\n— Процентная ставка от 6% годовых;\\n— Срок кредита от 6 месяцев до 7 лет;\\n— Оформление кредита по двум документам;\\n— Досрочное погашение без штрафов и комиссий;\\n— Сумма кредита до 2 млн рублей;\\n— Оформление КАСКО – по желанию;\\n— Без справок и поручителей.\\n\\nСотрудничаем с 12 аккредитованными и сертифицированными банками РФ, среднее время ожидания решения банка 20–30 минут.\\n\\nПри покупке автомобиля по программе «Trade-in – выгодный обмен» или в кредит, получите дополнительную скидку до 80 000 рублей на данный автомобиль!\\n\\nЗаписаться на тест-драйв, а так же получить подробную информацию можно у специалистов автоцентра по указанному номеру телефона.'"
      ]
     },
     "execution_count": 24,
     "metadata": {},
     "output_type": "execute_result"
    }
   ],
   "source": [
    "test.description[0]"
   ]
  },
  {
   "cell_type": "markdown",
   "id": "5b5179d4",
   "metadata": {},
   "source": [
    "Интереснейшая колонка! Содержит комментарий продавца. Проверим, есть ли одинаковые тескты."
   ]
  },
  {
   "cell_type": "code",
   "execution_count": 25,
   "id": "67564c1f",
   "metadata": {
    "ExecuteTime": {
     "end_time": "2022-04-08T14:55:45.264936Z",
     "start_time": "2022-04-08T14:55:45.249933Z"
    }
   },
   "outputs": [
    {
     "data": {
      "text/plain": [
       "0        Все автомобили, представленные в продаже, прох...\n",
       "1        ЛОТ: 01217195\\nАвтопрага Север\\nДанный автомоб...\n",
       "2        Все автомобили, представленные в продаже, прох...\n",
       "3        КОМПЛЕКТ ЗИМНЕЙ (ЛЕТНЕЙ) РЕЗИНЫ ПО СЕЗОНУ В ПО...\n",
       "4        ЛОТ: 01220889\\nАвтопрага Север\\n\\nВы можете по...\n",
       "                               ...                        \n",
       "34681    Продается BMW 316i в отличном состоянии. Прода...\n",
       "34682                       Продаётся отличный автомобиль.\n",
       "34683                                    Хорошее состояние\n",
       "34684    Автомобиль в идеальном состоянии . Куплен новы...\n",
       "34685     Пробег реальный, состояние отличное! Авторска...\n",
       "Name: description, Length: 34686, dtype: object"
      ]
     },
     "execution_count": 25,
     "metadata": {},
     "output_type": "execute_result"
    }
   ],
   "source": [
    "test.description.replace('\\n','')"
   ]
  },
  {
   "cell_type": "code",
   "execution_count": 26,
   "id": "88425a7e",
   "metadata": {
    "ExecuteTime": {
     "end_time": "2022-04-08T14:55:45.312948Z",
     "start_time": "2022-04-08T14:55:45.265937Z"
    }
   },
   "outputs": [
    {
     "data": {
      "text/plain": [
       "array([264, 259, 211, ...,   1,   1,   1], dtype=int64)"
      ]
     },
     "execution_count": 26,
     "metadata": {},
     "output_type": "execute_result"
    }
   ],
   "source": [
    "test.description.value_counts().values"
   ]
  },
  {
   "cell_type": "markdown",
   "id": "2236b3dc",
   "metadata": {},
   "source": [
    "Есть одинаковые тексты, кажется, их довольно много. Это автодиллеры."
   ]
  },
  {
   "cell_type": "code",
   "execution_count": 27,
   "id": "b17181b7",
   "metadata": {
    "ExecuteTime": {
     "end_time": "2022-04-08T14:55:45.344955Z",
     "start_time": "2022-04-08T14:55:45.313948Z"
    }
   },
   "outputs": [
    {
     "name": "stdout",
     "output_type": "stream",
     "text": [
      "258  - Количество повторений количества строк:\n",
      "3212 - Общее количество машин с таким описанием:\n"
     ]
    }
   ],
   "source": [
    "desc_VC = pd.Series(test.description.value_counts())\n",
    "print(len(desc_VC[desc_VC != 1]),' - Количество повторений количества строк:') \n",
    "print(sum(desc_VC[desc_VC != 1]),'- Общее количество машин с таким описанием:')"
   ]
  },
  {
   "cell_type": "markdown",
   "id": "1c2f27ea",
   "metadata": {},
   "source": [
    "Часть из них от диллеров, часть - короткие коминтарии по типу: \"Хорошая\""
   ]
  },
  {
   "cell_type": "code",
   "execution_count": 28,
   "id": "bb09a0c0",
   "metadata": {
    "ExecuteTime": {
     "end_time": "2022-04-08T14:55:45.696316Z",
     "start_time": "2022-04-08T14:55:45.347955Z"
    }
   },
   "outputs": [],
   "source": [
    "cherepters_count = []\n",
    "\n",
    "for i in test.index:\n",
    "    cherepters_count.append(len(test.description[i]))\n",
    "    \n",
    "cherepters_count = pd.Series(cherepters_count)"
   ]
  },
  {
   "cell_type": "code",
   "execution_count": 29,
   "id": "f4a965a5",
   "metadata": {
    "ExecuteTime": {
     "end_time": "2022-04-08T14:55:48.378175Z",
     "start_time": "2022-04-08T14:55:45.697316Z"
    }
   },
   "outputs": [
    {
     "data": {
      "image/png": "[encoded data removed]",
      "text/plain": [
       "<Figure size 432x288 with 1 Axes>"
      ]
     },
     "metadata": {
      "needs_background": "light"
     },
     "output_type": "display_data"
    }
   ],
   "source": [
    "show_value_counts(cherepters_count.value_counts());"
   ]
  },
  {
   "cell_type": "markdown",
   "id": "cb74d39c",
   "metadata": {
    "ExecuteTime": {
     "end_time": "2022-04-07T20:10:54.946873Z",
     "start_time": "2022-04-07T20:10:54.931870Z"
    }
   },
   "source": [
    "Есть группы, видно несколько диллеров."
   ]
  },
  {
   "cell_type": "code",
   "execution_count": 30,
   "id": "4e2bf4da",
   "metadata": {
    "ExecuteTime": {
     "end_time": "2022-04-08T14:55:48.394178Z",
     "start_time": "2022-04-08T14:55:48.379175Z"
    }
   },
   "outputs": [
    {
     "data": {
      "text/plain": [
       "1"
      ]
     },
     "execution_count": 30,
     "metadata": {},
     "output_type": "execute_result"
    }
   ],
   "source": [
    "min(cherepters_count)"
   ]
  },
  {
   "cell_type": "markdown",
   "id": "f2806b35",
   "metadata": {},
   "source": [
    "!!! Удалить \\n отовсюду"
   ]
  },
  {
   "cell_type": "code",
   "execution_count": 31,
   "id": "3f90267c",
   "metadata": {
    "ExecuteTime": {
     "end_time": "2022-04-08T14:55:48.410182Z",
     "start_time": "2022-04-08T14:55:48.395179Z"
    }
   },
   "outputs": [
    {
     "data": {
      "text/plain": [
       "3121     8\n",
       "5194     8\n",
       "22939    8\n",
       "28518    8\n",
       "31255    8\n",
       "dtype: int64"
      ]
     },
     "execution_count": 31,
     "metadata": {},
     "output_type": "execute_result"
    }
   ],
   "source": [
    "cherepters_count[cherepters_count == 8] # Есть малословные комментарии"
   ]
  },
  {
   "cell_type": "markdown",
   "id": "66671f51",
   "metadata": {
    "ExecuteTime": {
     "end_time": "2022-04-07T16:00:22.509373Z",
     "start_time": "2022-04-07T16:00:22.493370Z"
    }
   },
   "source": [
    "Можно обработать через word2vec и кластеризовать. Однако это требует много ресурсов и не факт, что признак будет значим, но это очень круто.\n",
    "\n",
    "Можно легматизировать(или как там, оставить корень слова) и использовать словари положительных и отрицательных слов для формирования веса для модели. "
   ]
  },
  {
   "cell_type": "markdown",
   "id": "7fb3c025",
   "metadata": {},
   "source": [
    "### engineDisplacement"
   ]
  },
  {
   "cell_type": "code",
   "execution_count": 32,
   "id": "fc9cf7a7",
   "metadata": {
    "ExecuteTime": {
     "end_time": "2022-04-08T14:55:48.426185Z",
     "start_time": "2022-04-08T14:55:48.411183Z"
    },
    "scrolled": true
   },
   "outputs": [
    {
     "data": {
      "text/plain": [
       "2.0 LTR    7391\n",
       "1.6 LTR    4973\n",
       "3.0 LTR    3915\n",
       "1.8 LTR    3349\n",
       "2.5 LTR    2477\n",
       "2.4 LTR    1745\n",
       "3.5 LTR    1710\n",
       "1.4 LTR    1635\n",
       "1.5 LTR     725\n",
       "1.2 LTR     485\n",
       "4.4 LTR     447\n",
       "2.8 LTR     384\n",
       "4.7 LTR     377\n",
       "1.3 LTR     365\n",
       "5.5 LTR     361\n",
       "4.0 LTR     356\n",
       "3.2 LTR     348\n",
       "4.5 LTR     346\n",
       "2.1 LTR     271\n",
       "3.7 LTR     242\n",
       "2.2 LTR     236\n",
       "4.2 LTR     228\n",
       "1.9 LTR     221\n",
       "2.3 LTR     203\n",
       "2.7 LTR     189\n",
       "3.6 LTR     183\n",
       "5.6 LTR     170\n",
       "5.0 LTR     158\n",
       "5.7 LTR     135\n",
       "2.9 LTR     131\n",
       "4.6 LTR     108\n",
       "3.1 LTR      88\n",
       "4.8 LTR      84\n",
       "1.7 LTR      59\n",
       "1.0 LTR      57\n",
       "3.8 LTR      57\n",
       "2.6 LTR      55\n",
       " LTR         55\n",
       "6.0 LTR      53\n",
       "0.7 LTR      53\n",
       "3.3 LTR      44\n",
       "3.4 LTR      36\n",
       "4.1 LTR      35\n",
       "4.3 LTR      32\n",
       "5.4 LTR      31\n",
       "6.2 LTR      28\n",
       "5.2 LTR      12\n",
       "5.9 LTR      12\n",
       "6.3 LTR       8\n",
       "5.8 LTR       7\n",
       "6.6 LTR       6\n",
       "4.9 LTR       4\n",
       "1.1 LTR       4\n",
       "3.9 LTR       1\n",
       "5.3 LTR       1\n",
       "Name: engineDisplacement, dtype: int64"
      ]
     },
     "execution_count": 32,
     "metadata": {},
     "output_type": "execute_result"
    }
   ],
   "source": [
    "test.engineDisplacement.value_counts()"
   ]
  },
  {
   "cell_type": "code",
   "execution_count": 33,
   "id": "a3c005ed",
   "metadata": {
    "ExecuteTime": {
     "end_time": "2022-04-08T14:55:48.442189Z",
     "start_time": "2022-04-08T14:55:48.427186Z"
    }
   },
   "outputs": [],
   "source": [
    "#test.loc[test['engineDisplacement']==' LTR'] = '1.0'\n",
    "#pd.Series(map(lambda x:x.replace('LTR', ''),test.engineDisplacement))"
   ]
  },
  {
   "cell_type": "markdown",
   "id": "18e671be",
   "metadata": {
    "ExecuteTime": {
     "end_time": "2022-04-07T19:52:44.968451Z",
     "start_time": "2022-04-07T19:52:44.950447Z"
    }
   },
   "source": [
    "Ёмкость двигателя. Превратить в float. хороший численный признак"
   ]
  },
  {
   "cell_type": "markdown",
   "id": "52881741",
   "metadata": {},
   "source": [
    "### enginePower #upgrade изменить на гистограму после предобработки"
   ]
  },
  {
   "cell_type": "code",
   "execution_count": 34,
   "id": "e83528dd",
   "metadata": {
    "ExecuteTime": {
     "end_time": "2022-04-08T14:55:51.394116Z",
     "start_time": "2022-04-08T14:55:48.443190Z"
    }
   },
   "outputs": [
    {
     "data": {
      "image/png": "[encoded data removed]",
      "text/plain": [
       "<Figure size 432x288 with 1 Axes>"
      ]
     },
     "metadata": {
      "needs_background": "light"
     },
     "output_type": "display_data"
    }
   ],
   "source": [
    "show_value_counts(test.enginePower.value_counts());"
   ]
  },
  {
   "cell_type": "markdown",
   "id": "020ef68e",
   "metadata": {},
   "source": [
    "Красивое нормальное распределение"
   ]
  },
  {
   "cell_type": "code",
   "execution_count": 35,
   "id": "ba114201",
   "metadata": {
    "ExecuteTime": {
     "end_time": "2022-04-08T14:55:51.410119Z",
     "start_time": "2022-04-08T14:55:51.395116Z"
    }
   },
   "outputs": [
    {
     "data": {
      "text/plain": [
       "True    34686\n",
       "dtype: int64"
      ]
     },
     "execution_count": 35,
     "metadata": {},
     "output_type": "execute_result"
    }
   ],
   "source": [
    "pd.Series(['N12' in i for i in test.enginePower]).value_counts()"
   ]
  },
  {
   "cell_type": "markdown",
   "id": "f6fc9e72",
   "metadata": {},
   "source": [
    "Везде содержится строчка 'N12'. Её можно убрать и вычесть минимальное значение"
   ]
  },
  {
   "cell_type": "code",
   "execution_count": 36,
   "id": "449bd69c",
   "metadata": {
    "ExecuteTime": {
     "end_time": "2022-04-08T14:55:51.426123Z",
     "start_time": "2022-04-08T14:55:51.411121Z"
    }
   },
   "outputs": [],
   "source": [
    "# pd.Series(map(lambda x: int(x.replace('N12', '')),test.enginePower))\n",
    "# min(pd.Series(map(lambda x: int(x.replace('N12', '')),test.enginePower)))"
   ]
  },
  {
   "cell_type": "markdown",
   "id": "0b3eaaf0",
   "metadata": {},
   "source": [
    "### equipment_dict"
   ]
  },
  {
   "cell_type": "code",
   "execution_count": 37,
   "id": "fb9edd63",
   "metadata": {
    "ExecuteTime": {
     "end_time": "2022-04-08T14:55:51.442127Z",
     "start_time": "2022-04-08T14:55:51.427123Z"
    }
   },
   "outputs": [
    {
     "data": {
      "text/plain": [
       "'{\"engine-proof\":true,\"tinted-glass\":true,\"airbag-driver\":true,\"aux\":true,\"isofix\":true,\"electro-window-front\":true,\"ashtray-and-cigarette-lighter\":true,\"airbag-passenger\":true,\"computer\":true,\"high-beam-assist\":true,\"seat-transformation\":true,\"isofix-front\":true,\"wheel-power\":true,\"alarm\":true,\"lock\":true,\"door-sill-panel\":true,\"fabric-seats\":true,\"electro-mirrors\":true,\"airbag-rear-side\":true,\"electro-window-back\":true,\"steel-wheels\":true,\"ptf\":true,\"16-inch-wheels\":true,\"rain-sensor\":true,\"airbag-side\":true,\"audiosystem-cd\":true,\"dark-interior\":true,\"cooling-box\":true,\"condition\":true,\"abs\":true,\"power-child-locks-rear-doors\":true,\"front-seats-heat\":true,\"wheel-configuration2\":true,\"wheel-configuration1\":true,\"12v-socket\":true,\"park-assist-r\":true}'"
      ]
     },
     "execution_count": 37,
     "metadata": {},
     "output_type": "execute_result"
    }
   ],
   "source": [
    "test.equipment_dict[0] "
   ]
  },
  {
   "cell_type": "markdown",
   "id": "fc63268d",
   "metadata": {},
   "source": [
    "Видно, что это тоже словарь, но он содержит уже вполне себе определенную комплектацию автомобиля. Эти данные можно будет использовать для преобразования в категориальные переменные. Оданко **28% пропусков** - это критично. Думаю, можно сделать отдельный признак, обозначающий отсутствие данных в этом столбце. Можно будет сделать данные не бинарными, а категориальными, содержащие три признака: есть, нет, отсутствуют данные"
   ]
  },
  {
   "cell_type": "markdown",
   "id": "d50f048a",
   "metadata": {},
   "source": [
    "### fuelType"
   ]
  },
  {
   "cell_type": "code",
   "execution_count": 38,
   "id": "22e88fdf",
   "metadata": {
    "ExecuteTime": {
     "end_time": "2022-04-08T14:55:51.538264Z",
     "start_time": "2022-04-08T14:55:51.443128Z"
    }
   },
   "outputs": [
    {
     "data": {
      "image/png": "[encoded data removed]",
      "text/plain": [
       "<Figure size 432x288 with 1 Axes>"
      ]
     },
     "metadata": {
      "needs_background": "light"
     },
     "output_type": "display_data"
    }
   ],
   "source": [
    "show_value_counts(test.fuelType.value_counts());"
   ]
  },
  {
   "cell_type": "markdown",
   "id": "f51076d2",
   "metadata": {},
   "source": [
    "Видно, что автомобили на гибридном питании, элекртичесве и газе - большая редкость, их можно объединить в один признак или же натренировать под эти категории отдельную модель"
   ]
  },
  {
   "cell_type": "markdown",
   "id": "5344fa1b",
   "metadata": {},
   "source": [
    "### image"
   ]
  },
  {
   "cell_type": "code",
   "execution_count": 39,
   "id": "a9b0fa3b",
   "metadata": {
    "ExecuteTime": {
     "end_time": "2022-04-08T14:55:51.554268Z",
     "start_time": "2022-04-08T14:55:51.541265Z"
    }
   },
   "outputs": [
    {
     "data": {
      "text/plain": [
       "1892     https://avatars.mds.yandex.net/get-autoru-vos/...\n",
       "5110     https://avatars.mds.yandex.net/get-autoru-vos/...\n",
       "9643     https://autoru.naydex.net/lICN99c69/9bc7d3Rr7k...\n",
       "2602     https://avatars.mds.yandex.net/get-autoru-vos/...\n",
       "1401     https://avatars.mds.yandex.net/get-autoru-vos/...\n",
       "30152    https://autoru.naydex.net/f1bm7A798/f15c727Yw/...\n",
       "8610     https://avatars.mds.yandex.net/get-autoru-vos/...\n",
       "15397    https://autoru.naydex.net/LxPU17803/f5b8d77S/u...\n",
       "13158    https://avatars.mds.yandex.net/get-autoru-vos/...\n",
       "3099     https://avatars.mds.yandex.net/get-autoru-vos/...\n",
       "Name: image, dtype: object"
      ]
     },
     "execution_count": 39,
     "metadata": {},
     "output_type": "execute_result"
    }
   ],
   "source": [
    "test.image.sample(10)"
   ]
  },
  {
   "cell_type": "markdown",
   "id": "962833e3",
   "metadata": {},
   "source": [
    "url ссылок на изображения автомобиля сломаны, их в таком виде нельзя использовать, даже, если бы хотелось. Столбец подлежит изгнанию из датасета.\n",
    "\n",
    "Вообще можно было бы натренировать модель, которая оценивала бы стоимость автомобиля по внешнему виду, это очень интересно, но займет слишком много ресурсов, да и это тема для отедльного проекта"
   ]
  },
  {
   "cell_type": "markdown",
   "id": "cf324f17",
   "metadata": {},
   "source": [
    "### mileage #upgrade"
   ]
  },
  {
   "cell_type": "code",
   "execution_count": 40,
   "id": "fc7ad3fe",
   "metadata": {
    "ExecuteTime": {
     "end_time": "2022-04-08T14:55:51.858337Z",
     "start_time": "2022-04-08T14:55:51.555268Z"
    }
   },
   "outputs": [
    {
     "data": {
      "image/png": "[encoded data removed]",
      "text/plain": [
       "<Figure size 432x288 with 1 Axes>"
      ]
     },
     "metadata": {
      "needs_background": "light"
     },
     "output_type": "display_data"
    }
   ],
   "source": [
    "sns.histplot(data=test.mileage);"
   ]
  },
  {
   "cell_type": "markdown",
   "id": "57056c02",
   "metadata": {},
   "source": [
    "По распределению видно:\n",
    "- Оно нормальное\n",
    "- Есть относительно плотная кучка максимальных значений, которая выбивается из нормального распределения, на них сейчас посмотрим"
   ]
  },
  {
   "cell_type": "code",
   "execution_count": 41,
   "id": "a06ce48b",
   "metadata": {
    "ExecuteTime": {
     "end_time": "2022-04-08T14:55:51.938355Z",
     "start_time": "2022-04-08T14:55:51.859338Z"
    }
   },
   "outputs": [
    {
     "data": {
      "image/png": "[encoded data removed]",
      "text/plain": [
       "<Figure size 432x288 with 1 Axes>"
      ]
     },
     "metadata": {
      "needs_background": "light"
     },
     "output_type": "display_data"
    }
   ],
   "source": [
    "sns.boxplot(x=test.mileage);"
   ]
  },
  {
   "cell_type": "code",
   "execution_count": 42,
   "id": "546180eb",
   "metadata": {
    "ExecuteTime": {
     "end_time": "2022-04-08T14:55:51.954358Z",
     "start_time": "2022-04-08T14:55:51.939356Z"
    }
   },
   "outputs": [
    {
     "name": "stdout",
     "output_type": "stream",
     "text": [
      "минимум: 1\n",
      "медиана: 149779.5\n",
      "максимум: 1000000\n"
     ]
    }
   ],
   "source": [
    "print('минимум:',test.mileage.min())\n",
    "print('медиана:',test.mileage.median())\n",
    "print('максимум:',test.mileage.max())"
   ]
  },
  {
   "cell_type": "markdown",
   "id": "f2eff5ff",
   "metadata": {},
   "source": [
    "Минимум в 1 км - вполне возможно, авто новое\n",
    "Максимум в миллион километров - это примерно 3 года езды с скоростью в 60 км/ч по 15 часов в день, что похоже тоже возможно\n",
    "\n",
    "Лучше всего эту колонку логарифмизировать, так, чтобы логарифм не очень быстро перестал изменяться."
   ]
  },
  {
   "cell_type": "markdown",
   "id": "cb7f59e1",
   "metadata": {},
   "source": [
    "### modelDate"
   ]
  },
  {
   "cell_type": "code",
   "execution_count": 43,
   "id": "bfbb0255",
   "metadata": {
    "ExecuteTime": {
     "end_time": "2022-04-08T14:55:52.288743Z",
     "start_time": "2022-04-08T14:55:51.955359Z"
    }
   },
   "outputs": [
    {
     "data": {
      "image/png": "[encoded data removed]",
      "text/plain": [
       "<Figure size 432x288 with 1 Axes>"
      ]
     },
     "metadata": {
      "needs_background": "light"
     },
     "output_type": "display_data"
    }
   ],
   "source": [
    "sns.histplot(data=test.modelDate,bins=150);"
   ]
  },
  {
   "cell_type": "markdown",
   "id": "4498ad49",
   "metadata": {},
   "source": [
    "Дата выпуска модели. Все отлично\n",
    "\n",
    "Для модели можно:\n",
    "- от всех дат отрезать первую. \n",
    "- соединить её с еще одной датой, чтобы избавиться от мультиколлиниарности"
   ]
  },
  {
   "cell_type": "markdown",
   "id": "b003fd8f",
   "metadata": {},
   "source": [
    "### model_info"
   ]
  },
  {
   "cell_type": "code",
   "execution_count": 44,
   "id": "fa930737",
   "metadata": {
    "ExecuteTime": {
     "end_time": "2022-04-08T14:55:52.304747Z",
     "start_time": "2022-04-08T14:55:52.289744Z"
    }
   },
   "outputs": [
    {
     "data": {
      "text/plain": [
       "'{\"code\":\"OCTAVIA\",\"name\":\"Octavia\",\"ru_name\":\"Октавия\",\"morphology\":{\"gender\":\"FEMININE\"},\"nameplate\":{\"code\":\"\",\"name\":\"\",\"semantic_url\":\"\"}}'"
      ]
     },
     "execution_count": 44,
     "metadata": {},
     "output_type": "execute_result"
    }
   ],
   "source": [
    "test.model_info[4]"
   ]
  },
  {
   "cell_type": "markdown",
   "id": "3b5ba324",
   "metadata": {},
   "source": [
    "Эта колонка содержит название модели, то, как она произносится, указан её род... да и в общем, это все. Колонка на выброс, данных в ней нет"
   ]
  },
  {
   "cell_type": "markdown",
   "id": "34ebfd65",
   "metadata": {},
   "source": [
    "### model_name"
   ]
  },
  {
   "cell_type": "code",
   "execution_count": 45,
   "id": "97fd334f",
   "metadata": {
    "ExecuteTime": {
     "end_time": "2022-04-08T14:55:52.320751Z",
     "start_time": "2022-04-08T14:55:52.305747Z"
    }
   },
   "outputs": [
    {
     "data": {
      "text/plain": [
       "7100      XC60\n",
       "34021    JETTA\n",
       "24641     POLO\n",
       "748      FABIA\n",
       "Name: model_name, dtype: object"
      ]
     },
     "execution_count": 45,
     "metadata": {},
     "output_type": "execute_result"
    }
   ],
   "source": [
    "test.model_name.sample(4)"
   ]
  },
  {
   "cell_type": "code",
   "execution_count": 46,
   "id": "d592c050",
   "metadata": {
    "ExecuteTime": {
     "end_time": "2022-04-08T14:55:57.191599Z",
     "start_time": "2022-04-08T14:55:52.321752Z"
    }
   },
   "outputs": [
    {
     "data": {
      "image/png": "[encoded data removed]",
      "text/plain": [
       "<Figure size 432x288 with 1 Axes>"
      ]
     },
     "metadata": {
      "needs_background": "light"
     },
     "output_type": "display_data"
    }
   ],
   "source": [
    "show_value_counts(test.model_name.value_counts());"
   ]
  },
  {
   "cell_type": "markdown",
   "id": "1d2bf196",
   "metadata": {},
   "source": [
    "Слева тут можно увидить распределение длинны названия моделей слева от популярности марки, но что-то я отвлекся. "
   ]
  },
  {
   "cell_type": "code",
   "execution_count": 47,
   "id": "c83907e0",
   "metadata": {
    "ExecuteTime": {
     "end_time": "2022-04-08T14:55:57.207593Z",
     "start_time": "2022-04-08T14:55:57.192589Z"
    }
   },
   "outputs": [
    {
     "name": "stdout",
     "output_type": "stream",
     "text": [
      "Всего в датасете 544 модели от одного и разных брендов\n"
     ]
    }
   ],
   "source": [
    "print(f'Всего в датасете {test.model_name.nunique()} модели от одного и разных брендов')"
   ]
  },
  {
   "cell_type": "markdown",
   "id": "61ace47a",
   "metadata": {},
   "source": [
    "С этим столбцом есть кое-что интересное. По сути своей, когда мы, люди, говорим о цене автомобиля, то первая значимая часть - это марка, всем понятно, что porche обычно дороже автоваза. Вторая - модель автомобиля. Третяя - комплектация.\n",
    "\n",
    "И Если первые две части можно отосительно легко перечислить, то комлпектация авто сильно увеличивает вариативность машин и возможных цен. Поэтому предлагаю спарсить средние цены автомобилей марок и моделей в датасете, чтобы изменять их стоимость, относительно выводов модели. Честно ли это? - Да. Потому-что DS это не только про модели, но и про анализ и поиск эффективных подходов."
   ]
  },
  {
   "cell_type": "markdown",
   "id": "a1a4d37e",
   "metadata": {},
   "source": [
    "### name #upgrade че это такое"
   ]
  },
  {
   "cell_type": "code",
   "execution_count": 48,
   "id": "db9964c2",
   "metadata": {
    "ExecuteTime": {
     "end_time": "2022-04-08T14:55:57.223597Z",
     "start_time": "2022-04-08T14:55:57.208594Z"
    }
   },
   "outputs": [],
   "source": [
    "pd.set_option('display.max_columns', None)"
   ]
  },
  {
   "cell_type": "code",
   "execution_count": 49,
   "id": "a43fb499",
   "metadata": {
    "ExecuteTime": {
     "end_time": "2022-04-08T14:55:57.239600Z",
     "start_time": "2022-04-08T14:55:57.224597Z"
    }
   },
   "outputs": [
    {
     "data": {
      "text/plain": [
       "array(['SKODA', 'AUDI', 'HONDA', 'VOLVO', 'BMW', 'NISSAN', 'INFINITI',\n",
       "       'MERCEDES', 'TOYOTA', 'LEXUS', 'VOLKSWAGEN', 'MITSUBISHI'],\n",
       "      dtype=object)"
      ]
     },
     "execution_count": 49,
     "metadata": {},
     "output_type": "execute_result"
    }
   ],
   "source": [
    "test.brand.unique()"
   ]
  },
  {
   "cell_type": "markdown",
   "id": "6a70966e",
   "metadata": {},
   "source": [
    "модель - кузов, база, на которую все крепится."
   ]
  },
  {
   "cell_type": "code",
   "execution_count": 50,
   "id": "551c1442",
   "metadata": {
    "ExecuteTime": {
     "end_time": "2022-04-08T14:55:57.271607Z",
     "start_time": "2022-04-08T14:55:57.240601Z"
    }
   },
   "outputs": [
    {
     "data": {
      "text/html": [
       "<div>\n",
       "<style scoped>\n",
       "    .dataframe tbody tr th:only-of-type {\n",
       "        vertical-align: middle;\n",
       "    }\n",
       "\n",
       "    .dataframe tbody tr th {\n",
       "        vertical-align: top;\n",
       "    }\n",
       "\n",
       "    .dataframe thead th {\n",
       "        text-align: right;\n",
       "    }\n",
       "</style>\n",
       "<table border=\"1\" class=\"dataframe\">\n",
       "  <thead>\n",
       "    <tr style=\"text-align: right;\">\n",
       "      <th></th>\n",
       "      <th>bodyType</th>\n",
       "      <th>brand</th>\n",
       "      <th>car_url</th>\n",
       "      <th>color</th>\n",
       "      <th>complectation_dict</th>\n",
       "      <th>description</th>\n",
       "      <th>engineDisplacement</th>\n",
       "      <th>enginePower</th>\n",
       "      <th>equipment_dict</th>\n",
       "      <th>fuelType</th>\n",
       "      <th>image</th>\n",
       "      <th>mileage</th>\n",
       "      <th>modelDate</th>\n",
       "      <th>model_info</th>\n",
       "      <th>model_name</th>\n",
       "      <th>name</th>\n",
       "      <th>numberOfDoors</th>\n",
       "      <th>parsing_unixtime</th>\n",
       "      <th>priceCurrency</th>\n",
       "      <th>productionDate</th>\n",
       "      <th>sell_id</th>\n",
       "      <th>super_gen</th>\n",
       "      <th>vehicleConfiguration</th>\n",
       "      <th>vehicleTransmission</th>\n",
       "      <th>vendor</th>\n",
       "      <th>Владельцы</th>\n",
       "      <th>Владение</th>\n",
       "      <th>ПТС</th>\n",
       "      <th>Привод</th>\n",
       "      <th>Руль</th>\n",
       "      <th>Состояние</th>\n",
       "      <th>Таможня</th>\n",
       "    </tr>\n",
       "  </thead>\n",
       "  <tbody>\n",
       "    <tr>\n",
       "      <th>8745</th>\n",
       "      <td>внедорожник 5 дв.</td>\n",
       "      <td>BMW</td>\n",
       "      <td>https://auto.ru/cars/used/sale/bmw/x3/11012676...</td>\n",
       "      <td>белый</td>\n",
       "      <td>{\"id\":\"21040496\",\"name\":\"xDrive20i\",\"available...</td>\n",
       "      <td>Рестайлинговый BMW X3, в прекрасном состоянии,...</td>\n",
       "      <td>2.0 LTR</td>\n",
       "      <td>184 N12</td>\n",
       "      <td>{\"cruise-control\":true,\"tinted-glass\":true,\"es...</td>\n",
       "      <td>бензин</td>\n",
       "      <td>https://avatars.mds.yandex.net/get-autoru-vos/...</td>\n",
       "      <td>119000</td>\n",
       "      <td>2014</td>\n",
       "      <td>{\"code\":\"X3\",\"name\":\"X3\",\"ru_name\":\"Х3\",\"morph...</td>\n",
       "      <td>X3</td>\n",
       "      <td>20i xDrive 2.0 AT (184 л.с.) 4WD</td>\n",
       "      <td>5</td>\n",
       "      <td>1603112334</td>\n",
       "      <td>RUB</td>\n",
       "      <td>2014</td>\n",
       "      <td>1101267699</td>\n",
       "      <td>{\"id\":\"20156807\",\"name\":\"20i\",\"nameplate\":\"20i...</td>\n",
       "      <td>ALLROAD_5_DOORS AUTOMATIC 2.0</td>\n",
       "      <td>автоматическая</td>\n",
       "      <td>EUROPEAN</td>\n",
       "      <td>1 владелец</td>\n",
       "      <td>5 лет и 5 месяцев</td>\n",
       "      <td>Оригинал</td>\n",
       "      <td>полный</td>\n",
       "      <td>Левый</td>\n",
       "      <td>Не требует ремонта</td>\n",
       "      <td>Растаможен</td>\n",
       "    </tr>\n",
       "    <tr>\n",
       "      <th>8586</th>\n",
       "      <td>седан</td>\n",
       "      <td>BMW</td>\n",
       "      <td>https://auto.ru/cars/used/sale/bmw/7er/1100879...</td>\n",
       "      <td>синий</td>\n",
       "      <td>{\"id\":\"21038643\",\"name\":\"730Ld xDrive\",\"availa...</td>\n",
       "      <td>«Inchcape Certified» - Первый международный оф...</td>\n",
       "      <td>3.0 LTR</td>\n",
       "      <td>249 N12</td>\n",
       "      <td>{\"cruise-control\":true,\"roller-blind-for-rear-...</td>\n",
       "      <td>дизель</td>\n",
       "      <td>https://avatars.mds.yandex.net/get-autoru-vos/...</td>\n",
       "      <td>64870</td>\n",
       "      <td>2015</td>\n",
       "      <td>{\"code\":\"7ER\",\"name\":\"7 серии\",\"ru_name\":\"7 се...</td>\n",
       "      <td>7ER</td>\n",
       "      <td>730Ld xDrive 3.0d AT (249 л.с.) 4WD</td>\n",
       "      <td>4</td>\n",
       "      <td>1603111728</td>\n",
       "      <td>RUB</td>\n",
       "      <td>2017</td>\n",
       "      <td>1100879562</td>\n",
       "      <td>{\"id\":\"21200795\",\"name\":\"730L\",\"nameplate\":\"73...</td>\n",
       "      <td>SEDAN AUTOMATIC 3.0</td>\n",
       "      <td>автоматическая</td>\n",
       "      <td>EUROPEAN</td>\n",
       "      <td>2 владельца</td>\n",
       "      <td>NaN</td>\n",
       "      <td>Оригинал</td>\n",
       "      <td>полный</td>\n",
       "      <td>Левый</td>\n",
       "      <td>Не требует ремонта</td>\n",
       "      <td>Растаможен</td>\n",
       "    </tr>\n",
       "    <tr>\n",
       "      <th>10260</th>\n",
       "      <td>лифтбек</td>\n",
       "      <td>BMW</td>\n",
       "      <td>https://auto.ru/cars/used/sale/bmw/5er/1087535...</td>\n",
       "      <td>чёрный</td>\n",
       "      <td>{\"id\":\"5044629\",\"name\":\"535i\",\"available_optio...</td>\n",
       "      <td>Продаю GT  2010 года, американка, пробег честн...</td>\n",
       "      <td>3.0 LTR</td>\n",
       "      <td>306 N12</td>\n",
       "      <td>{\"cruise-control\":true,\"tinted-glass\":true,\"es...</td>\n",
       "      <td>бензин</td>\n",
       "      <td>https://autoru.naydex.net/lICN99c69/9bc7d3Rr7k...</td>\n",
       "      <td>200000</td>\n",
       "      <td>2009</td>\n",
       "      <td>{\"code\":\"5ER\",\"name\":\"5 серии\",\"ru_name\":\"5 се...</td>\n",
       "      <td>5ER</td>\n",
       "      <td>535i 3.0 AT (306 л.с.)</td>\n",
       "      <td>5</td>\n",
       "      <td>1603118362</td>\n",
       "      <td>RUB</td>\n",
       "      <td>2010</td>\n",
       "      <td>1087535600</td>\n",
       "      <td>{\"id\":\"5044622\",\"name\":\"Gran Turismo\",\"namepla...</td>\n",
       "      <td>LIFTBACK AUTOMATIC 3.0</td>\n",
       "      <td>автоматическая</td>\n",
       "      <td>EUROPEAN</td>\n",
       "      <td>3 или более</td>\n",
       "      <td>1 год и 9 месяцев</td>\n",
       "      <td>Оригинал</td>\n",
       "      <td>задний</td>\n",
       "      <td>Левый</td>\n",
       "      <td>Не требует ремонта</td>\n",
       "      <td>Растаможен</td>\n",
       "    </tr>\n",
       "    <tr>\n",
       "      <th>29512</th>\n",
       "      <td>седан</td>\n",
       "      <td>BMW</td>\n",
       "      <td>https://auto.ru/cars/used/sale/bmw/5er/1101312...</td>\n",
       "      <td>чёрный</td>\n",
       "      <td>NaN</td>\n",
       "      <td>Крашеных деталей нет совсем.\\nТехнически без н...</td>\n",
       "      <td>2.5 LTR</td>\n",
       "      <td>204 N12</td>\n",
       "      <td>{\"cruise-control\":true,\"tinted-glass\":true,\"es...</td>\n",
       "      <td>бензин</td>\n",
       "      <td>https://autoru.naydex.net/f1bm7A798/f15c727Yw/...</td>\n",
       "      <td>172000</td>\n",
       "      <td>2009</td>\n",
       "      <td>{\"code\":\"5ER\",\"name\":\"5 серии\",\"ru_name\":\"5 се...</td>\n",
       "      <td>5ER</td>\n",
       "      <td>523i 2.5 AT (204 л.с.)</td>\n",
       "      <td>4</td>\n",
       "      <td>1603561573</td>\n",
       "      <td>RUB</td>\n",
       "      <td>2011</td>\n",
       "      <td>1101312268</td>\n",
       "      <td>{\"id\":\"6088660\",\"name\":\"523\",\"nameplate\":\"523i...</td>\n",
       "      <td>SEDAN AUTOMATIC 2.5</td>\n",
       "      <td>автоматическая</td>\n",
       "      <td>EUROPEAN</td>\n",
       "      <td>1 владелец</td>\n",
       "      <td>NaN</td>\n",
       "      <td>Оригинал</td>\n",
       "      <td>задний</td>\n",
       "      <td>Левый</td>\n",
       "      <td>Не требует ремонта</td>\n",
       "      <td>Растаможен</td>\n",
       "    </tr>\n",
       "  </tbody>\n",
       "</table>\n",
       "</div>"
      ],
      "text/plain": [
       "                bodyType brand  \\\n",
       "8745   внедорожник 5 дв.   BMW   \n",
       "8586               седан   BMW   \n",
       "10260            лифтбек   BMW   \n",
       "29512              седан   BMW   \n",
       "\n",
       "                                                 car_url   color  \\\n",
       "8745   https://auto.ru/cars/used/sale/bmw/x3/11012676...   белый   \n",
       "8586   https://auto.ru/cars/used/sale/bmw/7er/1100879...   синий   \n",
       "10260  https://auto.ru/cars/used/sale/bmw/5er/1087535...  чёрный   \n",
       "29512  https://auto.ru/cars/used/sale/bmw/5er/1101312...  чёрный   \n",
       "\n",
       "                                      complectation_dict  \\\n",
       "8745   {\"id\":\"21040496\",\"name\":\"xDrive20i\",\"available...   \n",
       "8586   {\"id\":\"21038643\",\"name\":\"730Ld xDrive\",\"availa...   \n",
       "10260  {\"id\":\"5044629\",\"name\":\"535i\",\"available_optio...   \n",
       "29512                                                NaN   \n",
       "\n",
       "                                             description engineDisplacement  \\\n",
       "8745   Рестайлинговый BMW X3, в прекрасном состоянии,...            2.0 LTR   \n",
       "8586   «Inchcape Certified» - Первый международный оф...            3.0 LTR   \n",
       "10260  Продаю GT  2010 года, американка, пробег честн...            3.0 LTR   \n",
       "29512  Крашеных деталей нет совсем.\\nТехнически без н...            2.5 LTR   \n",
       "\n",
       "      enginePower                                     equipment_dict fuelType  \\\n",
       "8745      184 N12  {\"cruise-control\":true,\"tinted-glass\":true,\"es...   бензин   \n",
       "8586      249 N12  {\"cruise-control\":true,\"roller-blind-for-rear-...   дизель   \n",
       "10260     306 N12  {\"cruise-control\":true,\"tinted-glass\":true,\"es...   бензин   \n",
       "29512     204 N12  {\"cruise-control\":true,\"tinted-glass\":true,\"es...   бензин   \n",
       "\n",
       "                                                   image  mileage  modelDate  \\\n",
       "8745   https://avatars.mds.yandex.net/get-autoru-vos/...   119000       2014   \n",
       "8586   https://avatars.mds.yandex.net/get-autoru-vos/...    64870       2015   \n",
       "10260  https://autoru.naydex.net/lICN99c69/9bc7d3Rr7k...   200000       2009   \n",
       "29512  https://autoru.naydex.net/f1bm7A798/f15c727Yw/...   172000       2009   \n",
       "\n",
       "                                              model_info model_name  \\\n",
       "8745   {\"code\":\"X3\",\"name\":\"X3\",\"ru_name\":\"Х3\",\"morph...         X3   \n",
       "8586   {\"code\":\"7ER\",\"name\":\"7 серии\",\"ru_name\":\"7 се...        7ER   \n",
       "10260  {\"code\":\"5ER\",\"name\":\"5 серии\",\"ru_name\":\"5 се...        5ER   \n",
       "29512  {\"code\":\"5ER\",\"name\":\"5 серии\",\"ru_name\":\"5 се...        5ER   \n",
       "\n",
       "                                      name  numberOfDoors  parsing_unixtime  \\\n",
       "8745      20i xDrive 2.0 AT (184 л.с.) 4WD              5        1603112334   \n",
       "8586   730Ld xDrive 3.0d AT (249 л.с.) 4WD              4        1603111728   \n",
       "10260               535i 3.0 AT (306 л.с.)              5        1603118362   \n",
       "29512               523i 2.5 AT (204 л.с.)              4        1603561573   \n",
       "\n",
       "      priceCurrency  productionDate     sell_id  \\\n",
       "8745            RUB            2014  1101267699   \n",
       "8586            RUB            2017  1100879562   \n",
       "10260           RUB            2010  1087535600   \n",
       "29512           RUB            2011  1101312268   \n",
       "\n",
       "                                               super_gen  \\\n",
       "8745   {\"id\":\"20156807\",\"name\":\"20i\",\"nameplate\":\"20i...   \n",
       "8586   {\"id\":\"21200795\",\"name\":\"730L\",\"nameplate\":\"73...   \n",
       "10260  {\"id\":\"5044622\",\"name\":\"Gran Turismo\",\"namepla...   \n",
       "29512  {\"id\":\"6088660\",\"name\":\"523\",\"nameplate\":\"523i...   \n",
       "\n",
       "                vehicleConfiguration vehicleTransmission    vendor  \\\n",
       "8745   ALLROAD_5_DOORS AUTOMATIC 2.0      автоматическая  EUROPEAN   \n",
       "8586             SEDAN AUTOMATIC 3.0      автоматическая  EUROPEAN   \n",
       "10260         LIFTBACK AUTOMATIC 3.0      автоматическая  EUROPEAN   \n",
       "29512            SEDAN AUTOMATIC 2.5      автоматическая  EUROPEAN   \n",
       "\n",
       "         Владельцы           Владение       ПТС  Привод   Руль  \\\n",
       "8745    1 владелец  5 лет и 5 месяцев  Оригинал  полный  Левый   \n",
       "8586   2 владельца                NaN  Оригинал  полный  Левый   \n",
       "10260  3 или более  1 год и 9 месяцев  Оригинал  задний  Левый   \n",
       "29512   1 владелец                NaN  Оригинал  задний  Левый   \n",
       "\n",
       "                Состояние     Таможня  \n",
       "8745   Не требует ремонта  Растаможен  \n",
       "8586   Не требует ремонта  Растаможен  \n",
       "10260  Не требует ремонта  Растаможен  \n",
       "29512  Не требует ремонта  Растаможен  "
      ]
     },
     "execution_count": 50,
     "metadata": {},
     "output_type": "execute_result"
    }
   ],
   "source": [
    "test[test.brand=='BMW'].sample(4)"
   ]
  },
  {
   "cell_type": "code",
   "execution_count": 51,
   "id": "3f377a73",
   "metadata": {
    "ExecuteTime": {
     "end_time": "2022-04-08T14:55:57.287611Z",
     "start_time": "2022-04-08T14:55:57.272608Z"
    }
   },
   "outputs": [
    {
     "data": {
      "text/plain": [
       "6226     2.4d AT (190 л.с.) 4WD\n",
       "6227      2.0 AT (190 л.с.) 4WD\n",
       "6228     2.4d AT (205 л.с.) 4WD\n",
       "6229          2.4 AT (170 л.с.)\n",
       "6230         2.0 AMT (145 л.с.)\n",
       "                  ...          \n",
       "34147     2.4 AT (200 л.с.) 4WD\n",
       "34148        2.0 AMT (145 л.с.)\n",
       "34149         2.0 AT (213 л.с.)\n",
       "34150         1.5 AT (152 л.с.)\n",
       "34151         1.8 MT (125 л.с.)\n",
       "Name: name, Length: 1463, dtype: object"
      ]
     },
     "execution_count": 51,
     "metadata": {},
     "output_type": "execute_result"
    }
   ],
   "source": [
    "test[test.brand=='VOLVO'].name"
   ]
  },
  {
   "cell_type": "code",
   "execution_count": 52,
   "id": "6361d328",
   "metadata": {
    "ExecuteTime": {
     "end_time": "2022-04-08T14:55:57.303615Z",
     "start_time": "2022-04-08T14:55:57.288612Z"
    }
   },
   "outputs": [
    {
     "data": {
      "text/plain": [
       "14866    FX45 4.5 AT (315 л.с.) 4WD\n",
       "891               1.6 AT (102 л.с.)\n",
       "13920        2.5 CVT (169 л.с.) 4WD\n",
       "13234            2.5 CVT (173 л.с.)\n",
       "24584            1.4 AMT (122 л.с.)\n",
       "Name: name, dtype: object"
      ]
     },
     "execution_count": 52,
     "metadata": {},
     "output_type": "execute_result"
    }
   ],
   "source": [
    "test.name.sample(5)"
   ]
  },
  {
   "cell_type": "code",
   "execution_count": 53,
   "id": "2611c621",
   "metadata": {
    "ExecuteTime": {
     "end_time": "2022-04-08T14:55:57.319618Z",
     "start_time": "2022-04-08T14:55:57.304615Z"
    }
   },
   "outputs": [
    {
     "name": "stdout",
     "output_type": "stream",
     "text": [
      "1.2 AMT (105 л.с.)\n",
      "OCTAVIA\n"
     ]
    }
   ],
   "source": [
    "print(test_mod.name[0])\n",
    "print(test_mod.model_name[0])"
   ]
  },
  {
   "cell_type": "markdown",
   "id": "8a576d11",
   "metadata": {},
   "source": [
    "Тут указан объём двигателя, тип коробки передач и количество лошадиных сил, так же количество колёс в приводе. Можно исключить, т.к. вся эта информация есть в [этой](#super_gen) колонке"
   ]
  },
  {
   "cell_type": "markdown",
   "id": "5b2fe0d9",
   "metadata": {},
   "source": [
    "### numberOfDoors"
   ]
  },
  {
   "cell_type": "code",
   "execution_count": 54,
   "id": "9469c961",
   "metadata": {
    "ExecuteTime": {
     "end_time": "2022-04-08T14:55:57.415740Z",
     "start_time": "2022-04-08T14:55:57.320620Z"
    }
   },
   "outputs": [
    {
     "data": {
      "image/png": "[encoded data removed]",
      "text/plain": [
       "<Figure size 432x288 with 1 Axes>"
      ]
     },
     "metadata": {
      "needs_background": "light"
     },
     "output_type": "display_data"
    }
   ],
   "source": [
    "x = test.numberOfDoors.value_counts().index\n",
    "y = test.numberOfDoors.value_counts().values\n",
    "sns.barplot(x=x, y=y);"
   ]
  },
  {
   "cell_type": "markdown",
   "id": "04b132ef",
   "metadata": {},
   "source": [
    "Хоршие категориальные признаки, пойдут в dummy. \n",
    "\n",
    "Только в датасете есть машина без дверей, наверное это танк"
   ]
  },
  {
   "cell_type": "code",
   "execution_count": 55,
   "id": "a0bc4255",
   "metadata": {
    "ExecuteTime": {
     "end_time": "2022-04-08T14:55:57.447747Z",
     "start_time": "2022-04-08T14:55:57.416740Z"
    }
   },
   "outputs": [
    {
     "data": {
      "text/html": [
       "<div>\n",
       "<style scoped>\n",
       "    .dataframe tbody tr th:only-of-type {\n",
       "        vertical-align: middle;\n",
       "    }\n",
       "\n",
       "    .dataframe tbody tr th {\n",
       "        vertical-align: top;\n",
       "    }\n",
       "\n",
       "    .dataframe thead th {\n",
       "        text-align: right;\n",
       "    }\n",
       "</style>\n",
       "<table border=\"1\" class=\"dataframe\">\n",
       "  <thead>\n",
       "    <tr style=\"text-align: right;\">\n",
       "      <th></th>\n",
       "      <th>bodyType</th>\n",
       "      <th>brand</th>\n",
       "      <th>car_url</th>\n",
       "      <th>color</th>\n",
       "      <th>complectation_dict</th>\n",
       "      <th>description</th>\n",
       "      <th>engineDisplacement</th>\n",
       "      <th>enginePower</th>\n",
       "      <th>equipment_dict</th>\n",
       "      <th>fuelType</th>\n",
       "      <th>image</th>\n",
       "      <th>mileage</th>\n",
       "      <th>modelDate</th>\n",
       "      <th>model_info</th>\n",
       "      <th>model_name</th>\n",
       "      <th>name</th>\n",
       "      <th>numberOfDoors</th>\n",
       "      <th>parsing_unixtime</th>\n",
       "      <th>priceCurrency</th>\n",
       "      <th>productionDate</th>\n",
       "      <th>sell_id</th>\n",
       "      <th>super_gen</th>\n",
       "      <th>vehicleConfiguration</th>\n",
       "      <th>vehicleTransmission</th>\n",
       "      <th>vendor</th>\n",
       "      <th>Владельцы</th>\n",
       "      <th>Владение</th>\n",
       "      <th>ПТС</th>\n",
       "      <th>Привод</th>\n",
       "      <th>Руль</th>\n",
       "      <th>Состояние</th>\n",
       "      <th>Таможня</th>\n",
       "    </tr>\n",
       "  </thead>\n",
       "  <tbody>\n",
       "    <tr>\n",
       "      <th>16944</th>\n",
       "      <td>кабриолет</td>\n",
       "      <td>MERCEDES</td>\n",
       "      <td>https://auto.ru/cars/used/sale/mercedes/simple...</td>\n",
       "      <td>белый</td>\n",
       "      <td>NaN</td>\n",
       "      <td>на ходу. 1904 год. стоит в гараже, пылится.Кат...</td>\n",
       "      <td>5.3 LTR</td>\n",
       "      <td>32 N12</td>\n",
       "      <td>NaN</td>\n",
       "      <td>бензин</td>\n",
       "      <td>https://autoru.naydex.net/ESooa9149/468b9eoMem...</td>\n",
       "      <td>48000</td>\n",
       "      <td>1904</td>\n",
       "      <td>{\"code\":\"SIMPLEX\",\"name\":\"Simplex\",\"ru_name\":\"...</td>\n",
       "      <td>SIMPLEX</td>\n",
       "      <td>5.3 MT (32 л.с.)</td>\n",
       "      <td>0</td>\n",
       "      <td>1603245843</td>\n",
       "      <td>RUB</td>\n",
       "      <td>1904</td>\n",
       "      <td>1093802104</td>\n",
       "      <td>{\"id\":\"21743990\",\"displacement\":5322,\"engine_t...</td>\n",
       "      <td>CABRIO MECHANICAL 5.3</td>\n",
       "      <td>механическая</td>\n",
       "      <td>EUROPEAN</td>\n",
       "      <td>1 владелец</td>\n",
       "      <td>6 лет и 8 месяцев</td>\n",
       "      <td>Оригинал</td>\n",
       "      <td>задний</td>\n",
       "      <td>Правый</td>\n",
       "      <td>Не требует ремонта</td>\n",
       "      <td>Растаможен</td>\n",
       "    </tr>\n",
       "  </tbody>\n",
       "</table>\n",
       "</div>"
      ],
      "text/plain": [
       "        bodyType     brand                                            car_url  \\\n",
       "16944  кабриолет  MERCEDES  https://auto.ru/cars/used/sale/mercedes/simple...   \n",
       "\n",
       "       color complectation_dict  \\\n",
       "16944  белый                NaN   \n",
       "\n",
       "                                             description engineDisplacement  \\\n",
       "16944  на ходу. 1904 год. стоит в гараже, пылится.Кат...            5.3 LTR   \n",
       "\n",
       "      enginePower equipment_dict fuelType  \\\n",
       "16944      32 N12            NaN   бензин   \n",
       "\n",
       "                                                   image  mileage  modelDate  \\\n",
       "16944  https://autoru.naydex.net/ESooa9149/468b9eoMem...    48000       1904   \n",
       "\n",
       "                                              model_info model_name  \\\n",
       "16944  {\"code\":\"SIMPLEX\",\"name\":\"Simplex\",\"ru_name\":\"...    SIMPLEX   \n",
       "\n",
       "                   name  numberOfDoors  parsing_unixtime priceCurrency  \\\n",
       "16944  5.3 MT (32 л.с.)              0        1603245843           RUB   \n",
       "\n",
       "       productionDate     sell_id  \\\n",
       "16944            1904  1093802104   \n",
       "\n",
       "                                               super_gen  \\\n",
       "16944  {\"id\":\"21743990\",\"displacement\":5322,\"engine_t...   \n",
       "\n",
       "        vehicleConfiguration vehicleTransmission    vendor   Владельцы  \\\n",
       "16944  CABRIO MECHANICAL 5.3        механическая  EUROPEAN  1 владелец   \n",
       "\n",
       "                Владение       ПТС  Привод    Руль           Состояние  \\\n",
       "16944  6 лет и 8 месяцев  Оригинал  задний  Правый  Не требует ремонта   \n",
       "\n",
       "          Таможня  \n",
       "16944  Растаможен  "
      ]
     },
     "execution_count": 55,
     "metadata": {},
     "output_type": "execute_result"
    }
   ],
   "source": [
    "test[test.numberOfDoors == 0]"
   ]
  },
  {
   "cell_type": "markdown",
   "id": "e5383cdf",
   "metadata": {},
   "source": [
    "Нет, это кабриолет"
   ]
  },
  {
   "cell_type": "code",
   "execution_count": 56,
   "id": "813f773c",
   "metadata": {
    "ExecuteTime": {
     "end_time": "2022-04-08T14:55:57.463844Z",
     "start_time": "2022-04-08T14:55:57.448747Z"
    }
   },
   "outputs": [],
   "source": [
    "test.at[16944, 'numberOfDoors'] = 2"
   ]
  },
  {
   "cell_type": "markdown",
   "id": "53466ec3",
   "metadata": {},
   "source": [
    "### parsing_unixtime"
   ]
  },
  {
   "cell_type": "code",
   "execution_count": 57,
   "id": "6c30be43",
   "metadata": {
    "ExecuteTime": {
     "end_time": "2022-04-08T14:55:57.479848Z",
     "start_time": "2022-04-08T14:55:57.464845Z"
    }
   },
   "outputs": [
    {
     "data": {
      "text/plain": [
       "1603226273"
      ]
     },
     "execution_count": 57,
     "metadata": {},
     "output_type": "execute_result"
    }
   ],
   "source": [
    "test.parsing_unixtime[0]"
   ]
  },
  {
   "cell_type": "markdown",
   "id": "e80cf5c5",
   "metadata": {},
   "source": [
    "Судя по всему в этом столбце находится дата парсинга в формате unixtime"
   ]
  },
  {
   "cell_type": "code",
   "execution_count": 58,
   "id": "dcc16da2",
   "metadata": {
    "ExecuteTime": {
     "end_time": "2022-04-08T14:55:57.542862Z",
     "start_time": "2022-04-08T14:55:57.480848Z"
    }
   },
   "outputs": [
    {
     "data": {
      "text/plain": [
       "Timedelta('6 days 23:29:18')"
      ]
     },
     "execution_count": 58,
     "metadata": {},
     "output_type": "execute_result"
    }
   ],
   "source": [
    "parsing_date = pd.Series(map(lambda x:dt.fromtimestamp(x),test.parsing_unixtime))\n",
    "\n",
    "parsing_date.max()-parsing_date.min()"
   ]
  },
  {
   "cell_type": "markdown",
   "id": "4f637e1c",
   "metadata": {},
   "source": [
    "Разница во времени парсинга - незначительная и состовяет 6 дней. За это время возраст авто не изменился, поэтому можно использовать медианное время для вычисления возраста авто. "
   ]
  },
  {
   "cell_type": "code",
   "execution_count": 59,
   "id": "847f52a7",
   "metadata": {
    "ExecuteTime": {
     "end_time": "2022-04-08T14:55:57.558865Z",
     "start_time": "2022-04-08T14:55:57.547863Z"
    }
   },
   "outputs": [
    {
     "data": {
      "text/plain": [
       "Timestamp('2020-10-21 07:22:13')"
      ]
     },
     "execution_count": 59,
     "metadata": {},
     "output_type": "execute_result"
    }
   ],
   "source": [
    "parsing_date.median()"
   ]
  },
  {
   "cell_type": "markdown",
   "id": "8459de4f",
   "metadata": {},
   "source": [
    "### priceCurrency"
   ]
  },
  {
   "cell_type": "code",
   "execution_count": 60,
   "id": "fefa26de",
   "metadata": {
    "ExecuteTime": {
     "end_time": "2022-04-08T14:55:57.574869Z",
     "start_time": "2022-04-08T14:55:57.559866Z"
    }
   },
   "outputs": [
    {
     "data": {
      "text/plain": [
       "11581    RUB\n",
       "2741     RUB\n",
       "9391     RUB\n",
       "4100     RUB\n",
       "18666    RUB\n",
       "Name: priceCurrency, dtype: object"
      ]
     },
     "execution_count": 60,
     "metadata": {},
     "output_type": "execute_result"
    }
   ],
   "source": [
    "test.priceCurrency.sample(5)"
   ]
  },
  {
   "cell_type": "code",
   "execution_count": 61,
   "id": "0a4baf22",
   "metadata": {
    "ExecuteTime": {
     "end_time": "2022-04-08T14:55:57.590873Z",
     "start_time": "2022-04-08T14:55:57.575869Z"
    }
   },
   "outputs": [
    {
     "data": {
      "text/plain": [
       "array(['RUB'], dtype=object)"
      ]
     },
     "execution_count": 61,
     "metadata": {},
     "output_type": "execute_result"
    }
   ],
   "source": [
    "test.priceCurrency.unique()"
   ]
  },
  {
   "cell_type": "markdown",
   "id": "944d86f7",
   "metadata": {},
   "source": [
    "В этом столбе предоставленна валюта, в которой укзазана цена автомобилей. Это рубль, нет смысла использовать найденную информацию о стоимости автомобилей в другой валюте. Этот столбец только что стал неинформативным. Выкидываем."
   ]
  },
  {
   "cell_type": "markdown",
   "id": "abca0570",
   "metadata": {},
   "source": [
    "### productionDate"
   ]
  },
  {
   "cell_type": "code",
   "execution_count": 62,
   "id": "449bd8b9",
   "metadata": {
    "ExecuteTime": {
     "end_time": "2022-04-08T14:55:57.606876Z",
     "start_time": "2022-04-08T14:55:57.591873Z"
    }
   },
   "outputs": [
    {
     "data": {
      "text/plain": [
       "26552    2011\n",
       "33107    2002\n",
       "2681     2015\n",
       "28082    2005\n",
       "4585     2017\n",
       "Name: productionDate, dtype: int64"
      ]
     },
     "execution_count": 62,
     "metadata": {},
     "output_type": "execute_result"
    }
   ],
   "source": [
    "test.productionDate.sample(5)"
   ]
  },
  {
   "cell_type": "markdown",
   "id": "abaf8c37",
   "metadata": {},
   "source": [
    "Год выпуска автомобиля. Может быть весьма полезным, если связать его со временем парсинга или годом выпуска модели."
   ]
  },
  {
   "cell_type": "markdown",
   "id": "3df58486",
   "metadata": {},
   "source": [
    "### sell_id"
   ]
  },
  {
   "cell_type": "code",
   "execution_count": 63,
   "id": "50cf7196",
   "metadata": {
    "ExecuteTime": {
     "end_time": "2022-04-08T14:55:57.622041Z",
     "start_time": "2022-04-08T14:55:57.608038Z"
    }
   },
   "outputs": [
    {
     "data": {
      "text/plain": [
       "5428     1093566046\n",
       "29342    1101307173\n",
       "3629     1100820540\n",
       "23337    1100931266\n",
       "5218     1100804878\n",
       "Name: sell_id, dtype: int64"
      ]
     },
     "execution_count": 63,
     "metadata": {},
     "output_type": "execute_result"
    }
   ],
   "source": [
    "test.sell_id.sample(5)"
   ]
  },
  {
   "cell_type": "markdown",
   "id": "a7b6b2ee",
   "metadata": {},
   "source": [
    "Просто id продажи, можно было бы ворваться в базу данных auto.ru и стянуть данные о продажах, чтобы узнать цены автомобилей в тесте и тем самым набрать максимальный балл из возможных. Но это не наши профиль и уровень благопорядочности. Выкидываем колонку"
   ]
  },
  {
   "cell_type": "markdown",
   "id": "bf365956",
   "metadata": {},
   "source": [
    "### super_gen"
   ]
  },
  {
   "cell_type": "code",
   "execution_count": 64,
   "id": "c25371d4",
   "metadata": {
    "ExecuteTime": {
     "end_time": "2022-04-08T14:55:57.638045Z",
     "start_time": "2022-04-08T14:55:57.623043Z"
    }
   },
   "outputs": [
    {
     "data": {
      "text/plain": [
       "'{\"id\":\"10373605\",\"displacement\":1197,\"engine_type\":\"GASOLINE\",\"gear_type\":\"FORWARD_CONTROL\",\"transmission\":\"ROBOT\",\"power\":105,\"power_kvt\":77,\"human_name\":\"1.2 AMT (105 л.с.)\",\"acceleration\":10.5,\"clearance_min\":155,\"fuel_rate\":5}'"
      ]
     },
     "execution_count": 64,
     "metadata": {},
     "output_type": "execute_result"
    }
   ],
   "source": [
    "test.super_gen[0]"
   ]
  },
  {
   "cell_type": "code",
   "execution_count": 65,
   "id": "ea819e61",
   "metadata": {
    "ExecuteTime": {
     "end_time": "2022-04-08T14:55:57.653049Z",
     "start_time": "2022-04-08T14:55:57.639045Z"
    }
   },
   "outputs": [
    {
     "data": {
      "text/plain": [
       "{'id': '10373605',\n",
       " 'displacement': 1197,\n",
       " 'engine_type': 'GASOLINE',\n",
       " 'gear_type': 'FORWARD_CONTROL',\n",
       " 'transmission': 'ROBOT',\n",
       " 'power': 105,\n",
       " 'power_kvt': 77,\n",
       " 'human_name': '1.2 AMT (105 л.с.)',\n",
       " 'acceleration': 10.5,\n",
       " 'clearance_min': 155,\n",
       " 'fuel_rate': 5}"
      ]
     },
     "execution_count": 65,
     "metadata": {},
     "output_type": "execute_result"
    }
   ],
   "source": [
    "import json\n",
    "json.loads(test.super_gen[0])"
   ]
  },
  {
   "cell_type": "markdown",
   "id": "cc4935bd",
   "metadata": {},
   "source": [
    "Это словарь с общими характеристиками автомобиля, не заисящими от бренда\n",
    "\n",
    "| Ключ          | Значение              | Пояснение                                                                             |\n",
    "| ------------- | --------------------- | ------------------------------------------------------------------------------------- |\n",
    "| id            | 20228954              | неинформативный номер                                                                 |\n",
    "| displacement  | 1969                  | Рабочий объём двигателя в $см^2$                                                      |\n",
    "| engine_type   | GASOLINE              | Тип двигателя(топливо)                                                                |\n",
    "| gear_type     | ALL_WHEEL_DRIVE       | Тип привода                                                                           |\n",
    "| transmission  | AUTOMATIC             | Коробка передач                                                                       |\n",
    "| power         | 320                   | мощность двигателя в лошадиных силах                                                  |\n",
    "| power_kvt     | 235                   | мощность двигателя в киловатах                                                        |\n",
    "| human_name    | 2.0 AT (320 л.с.) 4WD | Краткие Обозначения объема двигателя, коробки передач, лошадиных сил и типа привода   |\n",
    "| acceleration  | 6.5                   | Количество секунд для разгона до сотни км/ч                                           |\n",
    "| clearance_min | 237                   | Дорожный просвет - расстояние от дна автомобился до поверхности асфальта в милиметрах |\n",
    "| fuel_rate     | 8                     | Расход топлива в литрах на 100 км                                                     |\n"
   ]
  },
  {
   "cell_type": "markdown",
   "id": "f23c6f8e",
   "metadata": {},
   "source": [
    "### vehicleConfiguration"
   ]
  },
  {
   "cell_type": "code",
   "execution_count": 66,
   "id": "b4f614d2",
   "metadata": {
    "ExecuteTime": {
     "end_time": "2022-04-08T14:55:57.669052Z",
     "start_time": "2022-04-08T14:55:57.654049Z"
    }
   },
   "outputs": [
    {
     "data": {
      "text/plain": [
       "33289            SEDAN AUTOMATIC 2.5\n",
       "29067            SEDAN AUTOMATIC 2.4\n",
       "4889     HATCHBACK_5_DOORS ROBOT 1.2\n",
       "1834              LIFTBACK ROBOT 1.8\n",
       "1720              LIFTBACK ROBOT 1.4\n",
       "Name: vehicleConfiguration, dtype: object"
      ]
     },
     "execution_count": 66,
     "metadata": {},
     "output_type": "execute_result"
    }
   ],
   "source": [
    "test.vehicleConfiguration.sample(5)"
   ]
  },
  {
   "cell_type": "markdown",
   "id": "7fbfd306",
   "metadata": {},
   "source": [
    "Столбец, говорящий о типе кузова автомобиля, типе трансмиссии  и объеме двигателя. Его можно выкинуть, т.к. он дублирует уже полученную информацию."
   ]
  },
  {
   "cell_type": "markdown",
   "id": "ba3c3bee",
   "metadata": {},
   "source": [
    "### vehicleTransmission"
   ]
  },
  {
   "cell_type": "code",
   "execution_count": 587,
   "id": "b03a4bd0",
   "metadata": {
    "ExecuteTime": {
     "end_time": "2022-04-08T12:41:52.390548Z",
     "start_time": "2022-04-08T12:41:52.296528Z"
    }
   },
   "outputs": [
    {
     "data": {
      "image/png": "[encoded data removed]",
      "text/plain": [
       "<Figure size 432x288 with 1 Axes>"
      ]
     },
     "metadata": {
      "needs_background": "light"
     },
     "output_type": "display_data"
    }
   ],
   "source": [
    "show_value_counts(test.vehicleTransmission.value_counts());"
   ]
  },
  {
   "cell_type": "markdown",
   "id": "cfa73474",
   "metadata": {},
   "source": [
    "Колонка с типом коробки передач. Неплохие признаки, осталось сравнить их с предыдущими словарями."
   ]
  },
  {
   "cell_type": "markdown",
   "id": "405b49b4",
   "metadata": {},
   "source": [
    "### vendor"
   ]
  },
  {
   "cell_type": "code",
   "execution_count": 68,
   "id": "e24dd602",
   "metadata": {
    "ExecuteTime": {
     "end_time": "2022-04-08T14:57:30.799938Z",
     "start_time": "2022-04-08T14:57:30.783935Z"
    }
   },
   "outputs": [
    {
     "data": {
      "text/plain": [
       "EUROPEAN    20682\n",
       "JAPANESE    14004\n",
       "Name: vendor, dtype: int64"
      ]
     },
     "execution_count": 68,
     "metadata": {},
     "output_type": "execute_result"
    }
   ],
   "source": [
    "test.vendor.value_counts()"
   ]
  },
  {
   "cell_type": "markdown",
   "id": "c831cb4a",
   "metadata": {},
   "source": [
    "Категориальный признак\n",
    "\n",
    "Отличает стран-продавцов авто, имеет смысл расширить европейского продавца до конкретных стран."
   ]
  },
  {
   "cell_type": "markdown",
   "id": "a7676081",
   "metadata": {},
   "source": [
    "### Владельцы"
   ]
  },
  {
   "cell_type": "code",
   "execution_count": 72,
   "id": "aa8293f6",
   "metadata": {
    "ExecuteTime": {
     "end_time": "2022-04-08T15:04:37.053755Z",
     "start_time": "2022-04-08T15:04:36.957724Z"
    }
   },
   "outputs": [
    {
     "data": {
      "image/png": "[encoded data removed]",
      "text/plain": [
       "<Figure size 432x288 with 1 Axes>"
      ]
     },
     "metadata": {
      "needs_background": "light"
     },
     "output_type": "display_data"
    }
   ],
   "source": [
    "show_value_counts(test.Владельцы.value_counts());"
   ]
  },
  {
   "cell_type": "markdown",
   "id": "b459346a",
   "metadata": {
    "ExecuteTime": {
     "end_time": "2022-04-08T15:05:41.751404Z",
     "start_time": "2022-04-08T15:05:41.738410Z"
    }
   },
   "source": [
    "Хороший категориальный признак, но, все же лучше превратить его в числовой."
   ]
  },
  {
   "cell_type": "markdown",
   "id": "3f439445",
   "metadata": {},
   "source": [
    "### Владение"
   ]
  },
  {
   "cell_type": "code",
   "execution_count": 15,
   "id": "ccc911e5",
   "metadata": {
    "ExecuteTime": {
     "end_time": "2022-04-08T14:55:44.624680Z",
     "start_time": "2022-04-08T14:55:44.609677Z"
    }
   },
   "outputs": [
    {
     "name": "stdout",
     "output_type": "stream",
     "text": [
      "Заполненность данными: 0.3458167560399008\n"
     ]
    },
    {
     "data": {
      "text/plain": [
       "'3 года и 2 месяца'"
      ]
     },
     "execution_count": 15,
     "metadata": {},
     "output_type": "execute_result"
    }
   ],
   "source": [
    "isna= test.Владение.isna()\n",
    "print('Заполненность данными:',len(isna[isna == False])/len(isna))\n",
    "\n",
    "test.Владение.dropna().iloc[0]"
   ]
  },
  {
   "cell_type": "markdown",
   "id": "c011b711",
   "metadata": {
    "ExecuteTime": {
     "end_time": "2022-04-07T08:46:57.285975Z",
     "start_time": "2022-04-07T08:46:57.276974Z"
    }
   },
   "source": [
    "Столбец заполнен на 35% \n",
    "\n",
    "Видно, что это строка, которая указывает время владения. Предположительно, последнего владельца, но это нужно проверить. \n",
    "\n",
    "Данных маловато, но зато можно будет сделать из них бинарный признак, указал ли водитель время использования или нет. Но скорее всего после проверки этот столбец не будет использоваться вовсе."
   ]
  },
  {
   "cell_type": "markdown",
   "id": "f5cbed2e",
   "metadata": {},
   "source": [
    "### ПТС"
   ]
  },
  {
   "cell_type": "code",
   "execution_count": 78,
   "id": "b92f1119",
   "metadata": {
    "ExecuteTime": {
     "end_time": "2022-04-08T15:17:10.212761Z",
     "start_time": "2022-04-08T15:17:10.137745Z"
    }
   },
   "outputs": [
    {
     "data": {
      "image/png": "[encoded data removed]",
      "text/plain": [
       "<Figure size 432x288 with 1 Axes>"
      ]
     },
     "metadata": {
      "needs_background": "light"
     },
     "output_type": "display_data"
    }
   ],
   "source": [
    "show_value_counts(test.ПТС.value_counts());"
   ]
  },
  {
   "cell_type": "markdown",
   "id": "404276d6",
   "metadata": {},
   "source": [
    "Паспорт Технического Средства. По сути паспорт автомобиля. Дубликат нужен в случае утери или если в оригинале закончились строки под количество владельцев авто. Признак можно оставить и посмотреть, какое он оказывает влияние. "
   ]
  },
  {
   "cell_type": "markdown",
   "id": "f2c237b5",
   "metadata": {},
   "source": [
    "### Привод"
   ]
  },
  {
   "cell_type": "code",
   "execution_count": 82,
   "id": "1b718ebf",
   "metadata": {
    "ExecuteTime": {
     "end_time": "2022-04-08T15:17:50.331657Z",
     "start_time": "2022-04-08T15:17:50.238636Z"
    }
   },
   "outputs": [
    {
     "data": {
      "image/png": "[encoded data removed]",
      "text/plain": [
       "<Figure size 432x288 with 1 Axes>"
      ]
     },
     "metadata": {
      "needs_background": "light"
     },
     "output_type": "display_data"
    }
   ],
   "source": [
    "show_value_counts(test.Привод.value_counts());"
   ]
  },
  {
   "cell_type": "markdown",
   "id": "92635424",
   "metadata": {},
   "source": [
    "Привод авто, три признака. Полный привод - дороже. Это важный признак."
   ]
  },
  {
   "cell_type": "markdown",
   "id": "61ba4f18",
   "metadata": {},
   "source": [
    "### Руль"
   ]
  },
  {
   "cell_type": "code",
   "execution_count": 85,
   "id": "4a71581f",
   "metadata": {
    "ExecuteTime": {
     "end_time": "2022-04-08T15:19:18.373260Z",
     "start_time": "2022-04-08T15:19:18.289231Z"
    }
   },
   "outputs": [
    {
     "data": {
      "image/png": "[encoded data removed]",
      "text/plain": [
       "<Figure size 432x288 with 1 Axes>"
      ]
     },
     "metadata": {
      "needs_background": "light"
     },
     "output_type": "display_data"
    }
   ],
   "source": [
    "show_value_counts(test.Руль.value_counts());"
   ]
  },
  {
   "cell_type": "markdown",
   "id": "8ce68bf7",
   "metadata": {},
   "source": [
    "Совсем немного праворульных автомобилей, что понятно, ведь машины продаются под российский рынок. Признак стоит оставить, он может быть маркером для модели."
   ]
  },
  {
   "cell_type": "markdown",
   "id": "8a6c752a",
   "metadata": {},
   "source": [
    "### Состояние"
   ]
  },
  {
   "cell_type": "code",
   "execution_count": 89,
   "id": "b13c37d4",
   "metadata": {
    "ExecuteTime": {
     "end_time": "2022-04-08T15:21:19.394944Z",
     "start_time": "2022-04-08T15:21:19.382952Z"
    }
   },
   "outputs": [
    {
     "name": "stdout",
     "output_type": "stream",
     "text": [
      "['Не требует ремонта']\n"
     ]
    }
   ],
   "source": [
    "print(test.Состояние.unique())"
   ]
  },
  {
   "cell_type": "markdown",
   "id": "32965304",
   "metadata": {},
   "source": [
    "Все машины не требуют ремонта, это неинформативный признак. Колонка выкидывается из датасета."
   ]
  },
  {
   "cell_type": "markdown",
   "id": "1a2e24fe",
   "metadata": {},
   "source": [
    "### Таможня"
   ]
  },
  {
   "cell_type": "code",
   "execution_count": 92,
   "id": "ee330660",
   "metadata": {
    "ExecuteTime": {
     "end_time": "2022-04-08T15:22:48.597005Z",
     "start_time": "2022-04-08T15:22:48.576999Z"
    }
   },
   "outputs": [
    {
     "name": "stdout",
     "output_type": "stream",
     "text": [
      "['Растаможен']\n"
     ]
    }
   ],
   "source": [
    "print(test.Таможня.unique())"
   ]
  },
  {
   "cell_type": "markdown",
   "id": "671327c1",
   "metadata": {},
   "source": [
    "Все автомобили расстоможены, этот признак неинформативный. Колонка выкидывается из датасета"
   ]
  },
  {
   "cell_type": "markdown",
   "id": "b24f0eff",
   "metadata": {},
   "source": [
    "## Train\n",
    "\n",
    "Важно заметить, что мы не делали предобработку, это потому, что нужно сравнить тестовый датасет с тренировочным, ведь некоторых данных для обучения может и не быть."
   ]
  },
  {
   "cell_type": "code",
   "execution_count": 93,
   "id": "043c5a00",
   "metadata": {
    "ExecuteTime": {
     "end_time": "2022-04-08T16:15:54.076138Z",
     "start_time": "2022-04-08T16:15:53.847129Z"
    }
   },
   "outputs": [
    {
     "name": "stdout",
     "output_type": "stream",
     "text": [
      "<class 'pandas.core.frame.DataFrame'>\n",
      "RangeIndex: 89378 entries, 0 to 89377\n",
      "Data columns (total 26 columns):\n",
      " #   Column                Non-Null Count  Dtype  \n",
      "---  ------                --------------  -----  \n",
      " 0   bodyType              89377 non-null  object \n",
      " 1   brand                 89378 non-null  object \n",
      " 2   color                 89378 non-null  object \n",
      " 3   fuelType              89378 non-null  object \n",
      " 4   modelDate             89377 non-null  float64\n",
      " 5   name                  89377 non-null  object \n",
      " 6   numberOfDoors         89377 non-null  float64\n",
      " 7   productionDate        89378 non-null  int64  \n",
      " 8   vehicleConfiguration  89377 non-null  object \n",
      " 9   vehicleTransmission   89377 non-null  object \n",
      " 10  engineDisplacement    89377 non-null  object \n",
      " 11  enginePower           89377 non-null  float64\n",
      " 12  description           86124 non-null  object \n",
      " 13  mileage               89378 non-null  int64  \n",
      " 14  Комплектация          89378 non-null  object \n",
      " 15  Привод                89377 non-null  object \n",
      " 16  Руль                  89378 non-null  object \n",
      " 17  Состояние             0 non-null      float64\n",
      " 18  Владельцы             75790 non-null  float64\n",
      " 19  ПТС                   89017 non-null  object \n",
      " 20  Таможня               89378 non-null  bool   \n",
      " 21  Владение              29201 non-null  object \n",
      " 22  price                 88968 non-null  float64\n",
      " 23  start_date            89378 non-null  object \n",
      " 24  hidden                0 non-null      float64\n",
      " 25  model                 89378 non-null  object \n",
      "dtypes: bool(1), float64(7), int64(2), object(16)\n",
      "memory usage: 17.1+ MB\n"
     ]
    }
   ],
   "source": [
    "train.info()"
   ]
  },
  {
   "cell_type": "code",
   "execution_count": 97,
   "id": "060cb3d8",
   "metadata": {
    "ExecuteTime": {
     "end_time": "2022-04-08T16:20:53.746907Z",
     "start_time": "2022-04-08T16:20:51.610605Z"
    }
   },
   "outputs": [
    {
     "data": {
      "image/png": "[encoded data removed]",
      "text/plain": [
       "<Figure size 432x288 with 1 Axes>"
      ]
     },
     "metadata": {
      "needs_background": "light"
     },
     "output_type": "display_data"
    }
   ],
   "source": [
    "show_value_counts(train.bodyType.value_counts());"
   ]
  },
  {
   "cell_type": "markdown",
   "id": "acc6c214",
   "metadata": {},
   "source": [
    "# Предобработка "
   ]
  },
  {
   "cell_type": "markdown",
   "id": "2e74ac5d",
   "metadata": {
    "ExecuteTime": {
     "end_time": "2022-04-08T16:31:18.264098Z",
     "start_time": "2022-04-08T16:31:18.262098Z"
    }
   },
   "source": [
    "# Генерация фич"
   ]
  },
  {
   "cell_type": "markdown",
   "id": "04331bd8",
   "metadata": {},
   "source": [
    "# Модели\n",
    "\n",
    "\n",
    "\n",
    "Были опробованны модели:\n",
    "- [Logistic regression](./secondary_notebooks/linear_regression.ipynb) \n",
    "- Desicion tree\n",
    "- DBSCAN\n",
    "- ..."
   ]
  },
  {
   "cell_type": "code",
   "execution_count": 104,
   "id": "97648bd9",
   "metadata": {
    "ExecuteTime": {
     "end_time": "2022-04-06T18:15:04.625844Z",
     "start_time": "2022-04-06T18:15:04.596781Z"
    }
   },
   "outputs": [
    {
     "data": {
      "application/vnd.jupyter.widget-view+json": {
       "model_id": "d2890bc550b9446481186e8b3591dcef",
       "version_major": 2,
       "version_minor": 0
      },
      "text/plain": [
       "Button(button_style='success', description='Я линейная!', style=ButtonStyle())"
      ]
     },
     "metadata": {},
     "output_type": "display_data"
    }
   ],
   "source": [
    "'''Если нажать - через три минуты покажется результат \"лучшей модели\"   '''\n",
    "\n",
    "from IPython.display import display\n",
    "from ipywidgets import Button \n",
    "\n",
    "# Создаем кнопку с нужными параметрами\n",
    "button1 = Button(description=\"Я линейная!\", \n",
    "                        button_style='success'  )\n",
    "\n",
    "def on_button_clicked(b): # Описываем обработчик события\n",
    "    %run ./secondary_notebooks/linear_regression.ipynb\n",
    "button1.on_click(on_button_clicked) # Назначаем этот обработчик на событие \"on_click\"\n",
    "\n",
    "display(button1) # Отображаем кнопку "
   ]
  }
 ],
 "metadata": {
  "kernelspec": {
   "display_name": "Python 3 (ipykernel)",
   "language": "python",
   "name": "python3"
  },
  "language_info": {
   "codemirror_mode": {
    "name": "ipython",
    "version": 3
   },
   "file_extension": ".py",
   "mimetype": "text/x-python",
   "name": "python",
   "nbconvert_exporter": "python",
   "pygments_lexer": "ipython3",
   "version": "3.10.4"
  },
  "latex_envs": {
   "LaTeX_envs_menu_present": true,
   "autoclose": false,
   "autocomplete": true,
   "bibliofile": "biblio.bib",
   "cite_by": "apalike",
   "current_citInitial": 1,
   "eqLabelWithNumbers": true,
   "eqNumInitial": 1,
   "hotkeys": {
    "equation": "Ctrl-E",
    "itemize": "Ctrl-I"
   },
   "labels_anchors": false,
   "latex_user_defs": false,
   "report_style_numbering": false,
   "user_envs_cfg": false
  },
  "toc": {
   "base_numbering": 1,
   "nav_menu": {
    "height": "579px",
    "width": "307px"
   },
   "number_sections": true,
   "sideBar": true,
   "skip_h1_title": false,
   "title_cell": "Table of Contents",
   "title_sidebar": "Contents",
   "toc_cell": false,
   "toc_position": {
    "height": "calc(100% - 180px)",
    "left": "10px",
    "top": "150px",
    "width": "165px"
   },
   "toc_section_display": true,
   "toc_window_display": true
  },
  "varInspector": {
   "cols": {
    "lenName": 16,
    "lenType": 16,
    "lenVar": 40
   },
   "kernels_config": {
    "python": {
     "delete_cmd_postfix": "",
     "delete_cmd_prefix": "del ",
     "library": "var_list.py",
     "varRefreshCmd": "print(var_dic_list())"
    },
    "r": {
     "delete_cmd_postfix": ") ",
     "delete_cmd_prefix": "rm(",
     "library": "var_list.r",
     "varRefreshCmd": "cat(var_dic_list()) "
    }
   },
   "types_to_exclude": [
    "module",
    "function",
    "builtin_function_or_method",
    "instance",
    "_Feature"
   ],
   "window_display": false
  }
 },
 "nbformat": 4,
 "nbformat_minor": 5
}
