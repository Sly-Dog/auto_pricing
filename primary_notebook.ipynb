{
 "cells": [
  {
   "cell_type": "markdown",
   "id": "c306e1e8",
   "metadata": {},
   "source": [
    "# Initialization"
   ]
  },
  {
   "cell_type": "code",
   "execution_count": 1,
   "id": "9d6cde10",
   "metadata": {
    "ExecuteTime": {
     "end_time": "2022-04-05T10:46:23.931633Z",
     "start_time": "2022-04-05T10:46:23.908640Z"
    }
   },
   "outputs": [],
   "source": [
    "# Устанавливается необходимая версия пакетов для воспроизводимости экспирементов\n",
    "# А так же для установки всех недостающих зависимостей\n",
    "\n",
    "'''Windows'''\n",
    "#!python -m venv venv\n",
    "#!.\\venv\\Scripts\\activate\n",
    "#!pip install -r requirements.txt\n",
    "\n",
    "'''Linux''';\n",
    "#!python -m venv venv  \n",
    "#!source ./venv/bin/activate  \n",
    "#!pip install -r requirements.txt"
   ]
  },
  {
   "cell_type": "code",
   "execution_count": 2,
   "id": "c2e116dc",
   "metadata": {
    "ExecuteTime": {
     "end_time": "2022-04-05T10:46:25.640020Z",
     "start_time": "2022-04-05T10:46:23.933635Z"
    }
   },
   "outputs": [],
   "source": [
    "import numpy as np # linear algebra\n",
    "import pandas as pd # data processing, CSV file I/O (e.g. pd.read_csv)\n",
    "import sys\n",
    "import re\n",
    "import matplotlib.pyplot as plt\n",
    "from sklearn.model_selection import train_test_split\n",
    "from sklearn.model_selection import KFold\n",
    "from tqdm.notebook import tqdm\n",
    "from catboost import CatBoostRegressor\n",
    "from sklearn.preprocessing import LabelEncoder"
   ]
  },
  {
   "cell_type": "code",
   "execution_count": 3,
   "id": "db77102e",
   "metadata": {
    "ExecuteTime": {
     "end_time": "2022-04-05T10:46:25.656023Z",
     "start_time": "2022-04-05T10:46:25.641020Z"
    }
   },
   "outputs": [
    {
     "name": "stdout",
     "output_type": "stream",
     "text": [
      "Python       : 3.10.2 (tags/v3.10.2:a58ebcc, Jan 17 2022, 14:12:15) [MSC v.1929 64 bit (AMD64)]\n",
      "Numpy        : 1.22.2\n"
     ]
    }
   ],
   "source": [
    "print('Python       :', sys.version.split('\\n')[0])\n",
    "print('Numpy        :', np.__version__)"
   ]
  },
  {
   "cell_type": "code",
   "execution_count": 4,
   "id": "04576ba6",
   "metadata": {
    "ExecuteTime": {
     "end_time": "2022-04-05T10:46:25.672027Z",
     "start_time": "2022-04-05T10:46:25.658024Z"
    }
   },
   "outputs": [],
   "source": [
    "# зафиксируем версию пакетов, чтобы эксперименты были воспроизводимы:\n",
    "# !pip freeze > requirements.txt"
   ]
  },
  {
   "cell_type": "code",
   "execution_count": 5,
   "id": "36c5a4e9",
   "metadata": {
    "ExecuteTime": {
     "end_time": "2022-04-05T10:46:25.688031Z",
     "start_time": "2022-04-05T10:46:25.673027Z"
    }
   },
   "outputs": [],
   "source": [
    "# всегда фиксируйте RANDOM_SEED, чтобы ваши эксперименты были воспроизводимы!\n",
    "RANDOM_SEED = 42"
   ]
  },
  {
   "cell_type": "markdown",
   "id": "53ea8758",
   "metadata": {},
   "source": [
    "# functions"
   ]
  },
  {
   "cell_type": "code",
   "execution_count": 6,
   "id": "56643693",
   "metadata": {
    "ExecuteTime": {
     "end_time": "2022-04-05T10:46:25.704034Z",
     "start_time": "2022-04-05T10:46:25.689031Z"
    }
   },
   "outputs": [],
   "source": [
    "def mape(y_true, y_pred):\n",
    "    return np.mean(np.abs((y_pred-y_true)/y_true))"
   ]
  },
  {
   "cell_type": "markdown",
   "id": "8853060a",
   "metadata": {},
   "source": [
    "### Data"
   ]
  },
  {
   "cell_type": "code",
   "execution_count": 7,
   "id": "7e22052b",
   "metadata": {
    "ExecuteTime": {
     "end_time": "2022-04-05T10:46:31.043254Z",
     "start_time": "2022-04-05T10:46:25.705034Z"
    }
   },
   "outputs": [],
   "source": [
    "from pathlib import Path  \n",
    "train = pd.read_csv(Path(\"data\", \"all_auto_ru_09_09_2020.csv\"))\n",
    "test = pd.read_csv(Path('data', 'test.csv'))"
   ]
  },
  {
   "cell_type": "markdown",
   "id": "6220e4c3",
   "metadata": {},
   "source": [
    "### EDA"
   ]
  },
  {
   "cell_type": "markdown",
   "id": "8b73b89f",
   "metadata": {},
   "source": [
    "##### Предварительное сравнение TRAIN и TEST"
   ]
  },
  {
   "cell_type": "code",
   "execution_count": 8,
   "id": "c406538b",
   "metadata": {
    "ExecuteTime": {
     "end_time": "2022-04-05T10:46:31.187275Z",
     "start_time": "2022-04-05T10:46:31.044243Z"
    }
   },
   "outputs": [
    {
     "name": "stdout",
     "output_type": "stream",
     "text": [
      "<class 'pandas.core.frame.DataFrame'>\n",
      "RangeIndex: 34686 entries, 0 to 34685\n",
      "Data columns (total 32 columns):\n",
      " #   Column                Non-Null Count  Dtype \n",
      "---  ------                --------------  ----- \n",
      " 0   bodyType              34686 non-null  object\n",
      " 1   brand                 34686 non-null  object\n",
      " 2   car_url               34686 non-null  object\n",
      " 3   color                 34686 non-null  object\n",
      " 4   complectation_dict    6418 non-null   object\n",
      " 5   description           34686 non-null  object\n",
      " 6   engineDisplacement    34686 non-null  object\n",
      " 7   enginePower           34686 non-null  object\n",
      " 8   equipment_dict        24690 non-null  object\n",
      " 9   fuelType              34686 non-null  object\n",
      " 10  image                 34686 non-null  object\n",
      " 11  mileage               34686 non-null  int64 \n",
      " 12  modelDate             34686 non-null  int64 \n",
      " 13  model_info            34686 non-null  object\n",
      " 14  model_name            34686 non-null  object\n",
      " 15  name                  34686 non-null  object\n",
      " 16  numberOfDoors         34686 non-null  int64 \n",
      " 17  parsing_unixtime      34686 non-null  int64 \n",
      " 18  priceCurrency         34686 non-null  object\n",
      " 19  productionDate        34686 non-null  int64 \n",
      " 20  sell_id               34686 non-null  int64 \n",
      " 21  super_gen             34686 non-null  object\n",
      " 22  vehicleConfiguration  34686 non-null  object\n",
      " 23  vehicleTransmission   34686 non-null  object\n",
      " 24  vendor                34686 non-null  object\n",
      " 25  Владельцы             34686 non-null  object\n",
      " 26  Владение              11995 non-null  object\n",
      " 27  ПТС                   34685 non-null  object\n",
      " 28  Привод                34686 non-null  object\n",
      " 29  Руль                  34686 non-null  object\n",
      " 30  Состояние             34686 non-null  object\n",
      " 31  Таможня               34686 non-null  object\n",
      "dtypes: int64(6), object(26)\n",
      "memory usage: 8.5+ MB\n"
     ]
    }
   ],
   "source": [
    "test.info()"
   ]
  },
  {
   "cell_type": "code",
   "execution_count": 9,
   "id": "205d753d",
   "metadata": {
    "ExecuteTime": {
     "end_time": "2022-04-05T10:46:31.379331Z",
     "start_time": "2022-04-05T10:46:31.188275Z"
    }
   },
   "outputs": [
    {
     "name": "stdout",
     "output_type": "stream",
     "text": [
      "<class 'pandas.core.frame.DataFrame'>\n",
      "RangeIndex: 89378 entries, 0 to 89377\n",
      "Data columns (total 26 columns):\n",
      " #   Column                Non-Null Count  Dtype  \n",
      "---  ------                --------------  -----  \n",
      " 0   bodyType              89377 non-null  object \n",
      " 1   brand                 89378 non-null  object \n",
      " 2   color                 89378 non-null  object \n",
      " 3   fuelType              89378 non-null  object \n",
      " 4   modelDate             89377 non-null  float64\n",
      " 5   name                  89377 non-null  object \n",
      " 6   numberOfDoors         89377 non-null  float64\n",
      " 7   productionDate        89378 non-null  int64  \n",
      " 8   vehicleConfiguration  89377 non-null  object \n",
      " 9   vehicleTransmission   89377 non-null  object \n",
      " 10  engineDisplacement    89377 non-null  object \n",
      " 11  enginePower           89377 non-null  float64\n",
      " 12  description           86124 non-null  object \n",
      " 13  mileage               89378 non-null  int64  \n",
      " 14  Комплектация          89378 non-null  object \n",
      " 15  Привод                89377 non-null  object \n",
      " 16  Руль                  89378 non-null  object \n",
      " 17  Состояние             0 non-null      float64\n",
      " 18  Владельцы             75790 non-null  float64\n",
      " 19  ПТС                   89017 non-null  object \n",
      " 20  Таможня               89378 non-null  bool   \n",
      " 21  Владение              29201 non-null  object \n",
      " 22  price                 88968 non-null  float64\n",
      " 23  start_date            89378 non-null  object \n",
      " 24  hidden                0 non-null      float64\n",
      " 25  model                 89378 non-null  object \n",
      "dtypes: bool(1), float64(7), int64(2), object(16)\n",
      "memory usage: 17.1+ MB\n"
     ]
    }
   ],
   "source": [
    "train.info()"
   ]
  },
  {
   "cell_type": "code",
   "execution_count": 10,
   "id": "ffe9d37d",
   "metadata": {
    "ExecuteTime": {
     "end_time": "2022-04-05T10:46:31.395322Z",
     "start_time": "2022-04-05T10:46:31.381319Z"
    }
   },
   "outputs": [
    {
     "name": "stdout",
     "output_type": "stream",
     "text": [
      "TRAIN Rows = 89378 Columns = 26\n",
      "TEST  Rows = 34686 Columns = 32\n"
     ]
    }
   ],
   "source": [
    "print('TRAIN','Rows =', np.shape(train)[0],'Columns =', np.shape(train)[1], sep=' ')\n",
    "print('TEST ','Rows =', np.shape(test)[0],'Columns =', np.shape(test)[1], sep=' ') "
   ]
  },
  {
   "cell_type": "markdown",
   "id": "118bc8b2",
   "metadata": {},
   "source": [
    "Даже простое сравнение по размеру матриц TRAIN и TEST говорит о том, что они не совпадают.\n",
    "\n",
    "Анализ типа и содержания данных в столбце позволит сделать предварительную обработку (представить данные в едином формате), а также ответить на вопрос, есть ли общие данные в несовпадающих (предположительно, по названию) столбцах TRAIN и TEST."
   ]
  },
  {
   "cell_type": "code",
   "execution_count": 11,
   "id": "f4a44ee8",
   "metadata": {
    "ExecuteTime": {
     "end_time": "2022-04-05T10:46:32.270985Z",
     "start_time": "2022-04-05T10:46:31.397322Z"
    }
   },
   "outputs": [
    {
     "name": "stdout",
     "output_type": "stream",
     "text": [
      "TRAIN Rows = 87264 Columns = 26\n",
      "TEST  Rows = 34686 Columns = 32\n"
     ]
    }
   ],
   "source": [
    "#Удаление дублирующихся строк\n",
    "train_mod = train.drop_duplicates()\n",
    "test_mod = test.drop_duplicates()\n",
    "\n",
    "print('TRAIN','Rows =', np.shape(train_mod)[0],'Columns =', np.shape(train_mod)[1], sep=' ')\n",
    "print('TEST ','Rows =', np.shape(test_mod)[0],'Columns =', np.shape(test_mod)[1], sep=' ') "
   ]
  },
  {
   "cell_type": "markdown",
   "id": "118577dc",
   "metadata": {},
   "source": [
    "Сравнение размера матриц до и после удаления дубликатов показывает, что TRAIN были дублирующиеся строки, теперь их нет."
   ]
  },
  {
   "cell_type": "markdown",
   "id": "ae82ca38",
   "metadata": {},
   "source": [
    "##### Определение общих и различающихся столбцов в TRAIN и TEST"
   ]
  },
  {
   "cell_type": "code",
   "execution_count": 12,
   "id": "e888025b",
   "metadata": {
    "ExecuteTime": {
     "end_time": "2022-04-05T10:46:32.286989Z",
     "start_time": "2022-04-05T10:46:32.271986Z"
    }
   },
   "outputs": [],
   "source": [
    "#Общие столбцы\n",
    "common_columns = set(test.columns).intersection(train.columns)\n",
    "\n",
    "#Только в TEST\n",
    "test_only_columns = set(test.columns).difference(train.columns)\n",
    "\n",
    "#Только в TRAIN\n",
    "train_only_columns = set(train.columns).difference(test.columns)"
   ]
  },
  {
   "cell_type": "markdown",
   "id": "bcb19891",
   "metadata": {},
   "source": [
    "#### Вопросы для дальнейшего анализа:\n",
    "1. Совпадают ли типы данных в общих столбцах?\n",
    "2. Есть ли сходные по содержанию данные в столбцах с разным названием?\n",
    "3. Есть ли столбцы, которые можно удалить?"
   ]
  },
  {
   "cell_type": "markdown",
   "id": "5127b51b",
   "metadata": {},
   "source": [
    "##### Общие столбцы TRAIN и TEST - сравнение данных"
   ]
  },
  {
   "cell_type": "code",
   "execution_count": 13,
   "id": "bc604cfb",
   "metadata": {
    "ExecuteTime": {
     "end_time": "2022-04-05T10:46:32.952543Z",
     "start_time": "2022-04-05T10:46:32.287989Z"
    }
   },
   "outputs": [
    {
     "name": "stderr",
     "output_type": "stream",
     "text": [
      "C:\\Users\\zetet\\AppData\\Local\\Temp\\ipykernel_14240\\3298209608.py:2: FutureWarning: Passing a set as an indexer is deprecated and will raise in a future version. Use a list instead.\n",
      "  index_list = test[common_columns].dtypes.index.to_list()\n",
      "C:\\Users\\zetet\\AppData\\Local\\Temp\\ipykernel_14240\\3298209608.py:3: FutureWarning: Passing a set as an indexer is deprecated and will raise in a future version. Use a list instead.\n",
      "  test_list = test[common_columns].dtypes.values.tolist()\n",
      "C:\\Users\\zetet\\AppData\\Local\\Temp\\ipykernel_14240\\3298209608.py:4: FutureWarning: Passing a set as an indexer is deprecated and will raise in a future version. Use a list instead.\n",
      "  train_list = train[common_columns].dtypes.values.tolist()\n"
     ]
    },
    {
     "data": {
      "text/html": [
       "<div>\n",
       "<style scoped>\n",
       "    .dataframe tbody tr th:only-of-type {\n",
       "        vertical-align: middle;\n",
       "    }\n",
       "\n",
       "    .dataframe tbody tr th {\n",
       "        vertical-align: top;\n",
       "    }\n",
       "\n",
       "    .dataframe thead th {\n",
       "        text-align: right;\n",
       "    }\n",
       "</style>\n",
       "<table border=\"1\" class=\"dataframe\">\n",
       "  <thead>\n",
       "    <tr style=\"text-align: right;\">\n",
       "      <th></th>\n",
       "      <th>title</th>\n",
       "      <th>test_type</th>\n",
       "      <th>train_type</th>\n",
       "    </tr>\n",
       "  </thead>\n",
       "  <tbody>\n",
       "    <tr>\n",
       "      <th>20</th>\n",
       "      <td>bodyType</td>\n",
       "      <td>object</td>\n",
       "      <td>object</td>\n",
       "    </tr>\n",
       "    <tr>\n",
       "      <th>10</th>\n",
       "      <td>brand</td>\n",
       "      <td>object</td>\n",
       "      <td>object</td>\n",
       "    </tr>\n",
       "    <tr>\n",
       "      <th>16</th>\n",
       "      <td>color</td>\n",
       "      <td>object</td>\n",
       "      <td>object</td>\n",
       "    </tr>\n",
       "    <tr>\n",
       "      <th>2</th>\n",
       "      <td>description</td>\n",
       "      <td>object</td>\n",
       "      <td>object</td>\n",
       "    </tr>\n",
       "    <tr>\n",
       "      <th>1</th>\n",
       "      <td>engineDisplacement</td>\n",
       "      <td>object</td>\n",
       "      <td>object</td>\n",
       "    </tr>\n",
       "    <tr>\n",
       "      <th>13</th>\n",
       "      <td>enginePower</td>\n",
       "      <td>object</td>\n",
       "      <td>float64</td>\n",
       "    </tr>\n",
       "    <tr>\n",
       "      <th>15</th>\n",
       "      <td>fuelType</td>\n",
       "      <td>object</td>\n",
       "      <td>object</td>\n",
       "    </tr>\n",
       "    <tr>\n",
       "      <th>17</th>\n",
       "      <td>mileage</td>\n",
       "      <td>int64</td>\n",
       "      <td>int64</td>\n",
       "    </tr>\n",
       "    <tr>\n",
       "      <th>14</th>\n",
       "      <td>modelDate</td>\n",
       "      <td>int64</td>\n",
       "      <td>float64</td>\n",
       "    </tr>\n",
       "    <tr>\n",
       "      <th>0</th>\n",
       "      <td>name</td>\n",
       "      <td>object</td>\n",
       "      <td>object</td>\n",
       "    </tr>\n",
       "    <tr>\n",
       "      <th>11</th>\n",
       "      <td>numberOfDoors</td>\n",
       "      <td>int64</td>\n",
       "      <td>float64</td>\n",
       "    </tr>\n",
       "    <tr>\n",
       "      <th>4</th>\n",
       "      <td>productionDate</td>\n",
       "      <td>int64</td>\n",
       "      <td>int64</td>\n",
       "    </tr>\n",
       "    <tr>\n",
       "      <th>7</th>\n",
       "      <td>vehicleConfiguration</td>\n",
       "      <td>object</td>\n",
       "      <td>object</td>\n",
       "    </tr>\n",
       "    <tr>\n",
       "      <th>19</th>\n",
       "      <td>vehicleTransmission</td>\n",
       "      <td>object</td>\n",
       "      <td>object</td>\n",
       "    </tr>\n",
       "    <tr>\n",
       "      <th>6</th>\n",
       "      <td>Владельцы</td>\n",
       "      <td>object</td>\n",
       "      <td>float64</td>\n",
       "    </tr>\n",
       "    <tr>\n",
       "      <th>3</th>\n",
       "      <td>Владение</td>\n",
       "      <td>object</td>\n",
       "      <td>object</td>\n",
       "    </tr>\n",
       "    <tr>\n",
       "      <th>12</th>\n",
       "      <td>ПТС</td>\n",
       "      <td>object</td>\n",
       "      <td>object</td>\n",
       "    </tr>\n",
       "    <tr>\n",
       "      <th>8</th>\n",
       "      <td>Привод</td>\n",
       "      <td>object</td>\n",
       "      <td>object</td>\n",
       "    </tr>\n",
       "    <tr>\n",
       "      <th>9</th>\n",
       "      <td>Руль</td>\n",
       "      <td>object</td>\n",
       "      <td>object</td>\n",
       "    </tr>\n",
       "    <tr>\n",
       "      <th>18</th>\n",
       "      <td>Состояние</td>\n",
       "      <td>object</td>\n",
       "      <td>float64</td>\n",
       "    </tr>\n",
       "    <tr>\n",
       "      <th>5</th>\n",
       "      <td>Таможня</td>\n",
       "      <td>object</td>\n",
       "      <td>bool</td>\n",
       "    </tr>\n",
       "  </tbody>\n",
       "</table>\n",
       "</div>"
      ],
      "text/plain": [
       "                   title test_type train_type\n",
       "20              bodyType    object     object\n",
       "10                 brand    object     object\n",
       "16                 color    object     object\n",
       "2            description    object     object\n",
       "1     engineDisplacement    object     object\n",
       "13           enginePower    object    float64\n",
       "15              fuelType    object     object\n",
       "17               mileage     int64      int64\n",
       "14             modelDate     int64    float64\n",
       "0                   name    object     object\n",
       "11         numberOfDoors     int64    float64\n",
       "4         productionDate     int64      int64\n",
       "7   vehicleConfiguration    object     object\n",
       "19   vehicleTransmission    object     object\n",
       "6              Владельцы    object    float64\n",
       "3               Владение    object     object\n",
       "12                   ПТС    object     object\n",
       "8                 Привод    object     object\n",
       "9                   Руль    object     object\n",
       "18             Состояние    object    float64\n",
       "5                Таможня    object       bool"
      ]
     },
     "execution_count": 13,
     "metadata": {},
     "output_type": "execute_result"
    }
   ],
   "source": [
    "#Датафрейм со сравнением типов данных\n",
    "index_list = test[common_columns].dtypes.index.to_list()\n",
    "test_list = test[common_columns].dtypes.values.tolist()\n",
    "train_list = train[common_columns].dtypes.values.tolist()\n",
    "\n",
    "dict_comparison = {\n",
    "    'title': index_list,\n",
    "    'test_type': test_list,\n",
    "    'train_type': train_list\n",
    "}\n",
    "\n",
    "comparison = pd.DataFrame(dict_comparison)\n",
    "comparison.sort_values('title')"
   ]
  },
  {
   "cell_type": "markdown",
   "id": "4da0ead1",
   "metadata": {},
   "source": [
    "Как можно видеть, формат данных в части столбцов с одинаковыми названиями не совпадает. Также необходимо исследовать содержаимое ячеек."
   ]
  },
  {
   "cell_type": "markdown",
   "id": "4d6d6e1c",
   "metadata": {},
   "source": [
    "##### Бренды в TRAIN и TEST"
   ]
  },
  {
   "cell_type": "code",
   "execution_count": 14,
   "id": "4ee6a155",
   "metadata": {
    "ExecuteTime": {
     "end_time": "2022-04-05T10:46:32.983551Z",
     "start_time": "2022-04-05T10:46:32.953544Z"
    }
   },
   "outputs": [
    {
     "data": {
      "text/plain": [
       "array(['AUDI', 'BMW', 'CADILLAC', 'CHERY', 'CHEVROLET', 'CHRYSLER',\n",
       "       'CITROEN', 'DAEWOO', 'DODGE', 'FORD', 'GEELY', 'HONDA', 'HYUNDAI',\n",
       "       'INFINITI', 'JAGUAR', 'JEEP', 'KIA', 'LEXUS', 'MAZDA', 'MINI',\n",
       "       'MITSUBISHI', 'NISSAN', 'OPEL', 'PEUGEOT', 'PORSCHE', 'RENAULT',\n",
       "       'SKODA', 'SUBARU', 'SUZUKI', 'TOYOTA', 'VOLKSWAGEN', 'VOLVO',\n",
       "       'GREAT_WALL', 'LAND_ROVER', 'MERCEDES', 'SSANG_YONG'], dtype=object)"
      ]
     },
     "metadata": {},
     "output_type": "display_data"
    },
    {
     "name": "stdout",
     "output_type": "stream",
     "text": [
      "Всего в TRAIN 36 брендов.\n"
     ]
    }
   ],
   "source": [
    "display(train_mod.brand.unique())\n",
    "print('Всего в TRAIN',len(train.brand.unique()),'брендов.',sep=' ')"
   ]
  },
  {
   "cell_type": "code",
   "execution_count": 15,
   "id": "1b2e67a8",
   "metadata": {
    "ExecuteTime": {
     "end_time": "2022-04-05T10:46:32.998553Z",
     "start_time": "2022-04-05T10:46:32.985550Z"
    }
   },
   "outputs": [
    {
     "data": {
      "text/plain": [
       "array(['SKODA', 'AUDI', 'HONDA', 'VOLVO', 'BMW', 'NISSAN', 'INFINITI',\n",
       "       'MERCEDES', 'TOYOTA', 'LEXUS', 'VOLKSWAGEN', 'MITSUBISHI'],\n",
       "      dtype=object)"
      ]
     },
     "metadata": {},
     "output_type": "display_data"
    },
    {
     "name": "stdout",
     "output_type": "stream",
     "text": [
      "Всего в TEST 12 брендов.\n"
     ]
    }
   ],
   "source": [
    "display(test_mod.brand.unique())\n",
    "print('Всего в TEST',len(test_mod.brand.unique()),'брендов.',sep=' ')"
   ]
  },
  {
   "cell_type": "markdown",
   "id": "1810de22",
   "metadata": {},
   "source": [
    "Мы видим, что в TRAIN представлено в 3 раза больше брендов автомобилей. Посмотрим на их распределение в обоих датасетах."
   ]
  },
  {
   "cell_type": "code",
   "execution_count": 16,
   "id": "6d6fd550",
   "metadata": {
    "ExecuteTime": {
     "end_time": "2022-04-05T10:46:33.220482Z",
     "start_time": "2022-04-05T10:46:32.999553Z"
    }
   },
   "outputs": [
    {
     "data": {
      "text/plain": [
       "Text(0.5, 1.0, 'TEST brands')"
      ]
     },
     "execution_count": 16,
     "metadata": {},
     "output_type": "execute_result"
    },
    {
     "data": {
      "image/png": "[encoded data removed]",
      "text/plain": [
       "<Figure size 432x288 with 1 Axes>"
      ]
     },
     "metadata": {
      "needs_background": "light"
     },
     "output_type": "display_data"
    }
   ],
   "source": [
    "#Распределение брендов в TEST\n",
    "test_mod['brand'].value_counts().plot(kind='bar', color = '#F25D46', label='TEST brands')\n",
    "plt.legend()\n",
    "plt.title('TEST brands')"
   ]
  },
  {
   "cell_type": "code",
   "execution_count": 17,
   "id": "efafb248",
   "metadata": {
    "ExecuteTime": {
     "end_time": "2022-04-05T10:46:33.473539Z",
     "start_time": "2022-04-05T10:46:33.221484Z"
    }
   },
   "outputs": [
    {
     "data": {
      "text/plain": [
       "Text(0.5, 1.0, 'TRAIN brands')"
      ]
     },
     "execution_count": 17,
     "metadata": {},
     "output_type": "execute_result"
    },
    {
     "data": {
      "image/png": "[encoded data removed]",
      "text/plain": [
       "<Figure size 432x288 with 1 Axes>"
      ]
     },
     "metadata": {
      "needs_background": "light"
     },
     "output_type": "display_data"
    }
   ],
   "source": [
    "#Распределение брендов в TRAIN\n",
    "train_mod['brand'].value_counts().plot(kind='bar', color = '#B6DB69', label='TRAIN brands')\n",
    "plt.legend()\n",
    "plt.title('TRAIN brands')"
   ]
  },
  {
   "cell_type": "markdown",
   "id": "97076d14",
   "metadata": {},
   "source": [
    "Мы видим, что распеределение брендов, представленных только во TEST, схоже с TRAIN. \n",
    "\n",
    "Поэтому для базовой модели ML отсутствующие модели можно удалить, однако для Staking и ансамблей можно попробовать объединить присутствующие и удаленные модели в классы для извлечения новых признаков."
   ]
  },
  {
   "cell_type": "code",
   "execution_count": 18,
   "id": "6e57da6a",
   "metadata": {
    "ExecuteTime": {
     "end_time": "2022-04-05T10:46:33.649579Z",
     "start_time": "2022-04-05T10:46:33.475540Z"
    }
   },
   "outputs": [
    {
     "data": {
      "text/plain": [
       "Text(0.5, 1.0, 'MOD_TRAIN brands')"
      ]
     },
     "execution_count": 18,
     "metadata": {},
     "output_type": "execute_result"
    },
    {
     "data": {
      "image/png": "[encoded data removed]",
      "text/plain": [
       "<Figure size 432x288 with 1 Axes>"
      ]
     },
     "metadata": {
      "needs_background": "light"
     },
     "output_type": "display_data"
    }
   ],
   "source": [
    "#Удаление отсутствующих в TEST брендов\n",
    "#Список брендов из TEST\n",
    "brand_list = test_mod.brand.unique().tolist()\n",
    "train_mod = train_mod.loc[train.brand.isin(brand_list)]\n",
    "\n",
    "#Распределение брендов в модифицированном TRAIN\n",
    "train_mod['brand'].value_counts().plot(kind='bar', color = '#B6DB69', label='MOD_TRAIN brands')\n",
    "plt.legend()\n",
    "plt.title('MOD_TRAIN brands')"
   ]
  },
  {
   "cell_type": "markdown",
   "id": "33480220",
   "metadata": {},
   "source": [
    "##### Сравнение содержание ячеек TRAIN и TEST, приведение к единому формату"
   ]
  },
  {
   "cell_type": "code",
   "execution_count": 19,
   "id": "c42b913a",
   "metadata": {
    "ExecuteTime": {
     "end_time": "2022-04-05T10:46:33.729597Z",
     "start_time": "2022-04-05T10:46:33.650580Z"
    }
   },
   "outputs": [
    {
     "name": "stderr",
     "output_type": "stream",
     "text": [
      "C:\\Users\\zetet\\AppData\\Local\\Temp\\ipykernel_14240\\3298209608.py:2: FutureWarning: Passing a set as an indexer is deprecated and will raise in a future version. Use a list instead.\n",
      "  index_list = test[common_columns].dtypes.index.to_list()\n",
      "C:\\Users\\zetet\\AppData\\Local\\Temp\\ipykernel_14240\\3298209608.py:3: FutureWarning: Passing a set as an indexer is deprecated and will raise in a future version. Use a list instead.\n",
      "  test_list = test[common_columns].dtypes.values.tolist()\n",
      "C:\\Users\\zetet\\AppData\\Local\\Temp\\ipykernel_14240\\3298209608.py:4: FutureWarning: Passing a set as an indexer is deprecated and will raise in a future version. Use a list instead.\n",
      "  train_list = train[common_columns].dtypes.values.tolist()\n"
     ]
    },
    {
     "data": {
      "text/html": [
       "<div>\n",
       "<style scoped>\n",
       "    .dataframe tbody tr th:only-of-type {\n",
       "        vertical-align: middle;\n",
       "    }\n",
       "\n",
       "    .dataframe tbody tr th {\n",
       "        vertical-align: top;\n",
       "    }\n",
       "\n",
       "    .dataframe thead th {\n",
       "        text-align: right;\n",
       "    }\n",
       "</style>\n",
       "<table border=\"1\" class=\"dataframe\">\n",
       "  <thead>\n",
       "    <tr style=\"text-align: right;\">\n",
       "      <th></th>\n",
       "      <th>title</th>\n",
       "      <th>test_type</th>\n",
       "      <th>train_type</th>\n",
       "    </tr>\n",
       "  </thead>\n",
       "  <tbody>\n",
       "    <tr>\n",
       "      <th>20</th>\n",
       "      <td>bodyType</td>\n",
       "      <td>object</td>\n",
       "      <td>object</td>\n",
       "    </tr>\n",
       "    <tr>\n",
       "      <th>10</th>\n",
       "      <td>brand</td>\n",
       "      <td>object</td>\n",
       "      <td>object</td>\n",
       "    </tr>\n",
       "    <tr>\n",
       "      <th>16</th>\n",
       "      <td>color</td>\n",
       "      <td>object</td>\n",
       "      <td>object</td>\n",
       "    </tr>\n",
       "    <tr>\n",
       "      <th>2</th>\n",
       "      <td>description</td>\n",
       "      <td>object</td>\n",
       "      <td>object</td>\n",
       "    </tr>\n",
       "    <tr>\n",
       "      <th>1</th>\n",
       "      <td>engineDisplacement</td>\n",
       "      <td>object</td>\n",
       "      <td>object</td>\n",
       "    </tr>\n",
       "    <tr>\n",
       "      <th>13</th>\n",
       "      <td>enginePower</td>\n",
       "      <td>object</td>\n",
       "      <td>float64</td>\n",
       "    </tr>\n",
       "    <tr>\n",
       "      <th>15</th>\n",
       "      <td>fuelType</td>\n",
       "      <td>object</td>\n",
       "      <td>object</td>\n",
       "    </tr>\n",
       "    <tr>\n",
       "      <th>17</th>\n",
       "      <td>mileage</td>\n",
       "      <td>int64</td>\n",
       "      <td>int64</td>\n",
       "    </tr>\n",
       "    <tr>\n",
       "      <th>14</th>\n",
       "      <td>modelDate</td>\n",
       "      <td>int64</td>\n",
       "      <td>float64</td>\n",
       "    </tr>\n",
       "    <tr>\n",
       "      <th>0</th>\n",
       "      <td>name</td>\n",
       "      <td>object</td>\n",
       "      <td>object</td>\n",
       "    </tr>\n",
       "    <tr>\n",
       "      <th>11</th>\n",
       "      <td>numberOfDoors</td>\n",
       "      <td>int64</td>\n",
       "      <td>float64</td>\n",
       "    </tr>\n",
       "    <tr>\n",
       "      <th>4</th>\n",
       "      <td>productionDate</td>\n",
       "      <td>int64</td>\n",
       "      <td>int64</td>\n",
       "    </tr>\n",
       "    <tr>\n",
       "      <th>7</th>\n",
       "      <td>vehicleConfiguration</td>\n",
       "      <td>object</td>\n",
       "      <td>object</td>\n",
       "    </tr>\n",
       "    <tr>\n",
       "      <th>19</th>\n",
       "      <td>vehicleTransmission</td>\n",
       "      <td>object</td>\n",
       "      <td>object</td>\n",
       "    </tr>\n",
       "    <tr>\n",
       "      <th>6</th>\n",
       "      <td>Владельцы</td>\n",
       "      <td>object</td>\n",
       "      <td>float64</td>\n",
       "    </tr>\n",
       "    <tr>\n",
       "      <th>3</th>\n",
       "      <td>Владение</td>\n",
       "      <td>object</td>\n",
       "      <td>object</td>\n",
       "    </tr>\n",
       "    <tr>\n",
       "      <th>12</th>\n",
       "      <td>ПТС</td>\n",
       "      <td>object</td>\n",
       "      <td>object</td>\n",
       "    </tr>\n",
       "    <tr>\n",
       "      <th>8</th>\n",
       "      <td>Привод</td>\n",
       "      <td>object</td>\n",
       "      <td>object</td>\n",
       "    </tr>\n",
       "    <tr>\n",
       "      <th>9</th>\n",
       "      <td>Руль</td>\n",
       "      <td>object</td>\n",
       "      <td>object</td>\n",
       "    </tr>\n",
       "    <tr>\n",
       "      <th>18</th>\n",
       "      <td>Состояние</td>\n",
       "      <td>object</td>\n",
       "      <td>float64</td>\n",
       "    </tr>\n",
       "    <tr>\n",
       "      <th>5</th>\n",
       "      <td>Таможня</td>\n",
       "      <td>object</td>\n",
       "      <td>bool</td>\n",
       "    </tr>\n",
       "  </tbody>\n",
       "</table>\n",
       "</div>"
      ],
      "text/plain": [
       "                   title test_type train_type\n",
       "20              bodyType    object     object\n",
       "10                 brand    object     object\n",
       "16                 color    object     object\n",
       "2            description    object     object\n",
       "1     engineDisplacement    object     object\n",
       "13           enginePower    object    float64\n",
       "15              fuelType    object     object\n",
       "17               mileage     int64      int64\n",
       "14             modelDate     int64    float64\n",
       "0                   name    object     object\n",
       "11         numberOfDoors     int64    float64\n",
       "4         productionDate     int64      int64\n",
       "7   vehicleConfiguration    object     object\n",
       "19   vehicleTransmission    object     object\n",
       "6              Владельцы    object    float64\n",
       "3               Владение    object     object\n",
       "12                   ПТС    object     object\n",
       "8                 Привод    object     object\n",
       "9                   Руль    object     object\n",
       "18             Состояние    object    float64\n",
       "5                Таможня    object       bool"
      ]
     },
     "execution_count": 19,
     "metadata": {},
     "output_type": "execute_result"
    }
   ],
   "source": [
    "#Датафрейм со сравнением типов данных\n",
    "index_list = test[common_columns].dtypes.index.to_list()\n",
    "test_list = test[common_columns].dtypes.values.tolist()\n",
    "train_list = train[common_columns].dtypes.values.tolist()\n",
    "\n",
    "dict_comparison = {\n",
    "    'title': index_list,\n",
    "    'test_type': test_list,\n",
    "    'train_type': train_list\n",
    "}\n",
    "\n",
    "comparison = pd.DataFrame(dict_comparison)\n",
    "comparison.sort_values('title')"
   ]
  },
  {
   "cell_type": "code",
   "execution_count": 20,
   "id": "ac95489e",
   "metadata": {
    "ExecuteTime": {
     "end_time": "2022-04-05T10:46:33.745600Z",
     "start_time": "2022-04-05T10:46:33.730598Z"
    }
   },
   "outputs": [],
   "source": [
    "#Функция для просмотра и сравнения типов данных в столбцах\n",
    "def type_comparison(column):\n",
    "    print('TEST')\n",
    "    display(test_mod[column].sample(5))\n",
    "    print('TRAIN')\n",
    "    display(train_mod[column].sample(5))  "
   ]
  },
  {
   "cell_type": "code",
   "execution_count": 21,
   "id": "daeddb07",
   "metadata": {
    "ExecuteTime": {
     "end_time": "2022-04-05T10:46:33.761604Z",
     "start_time": "2022-04-05T10:46:33.746601Z"
    }
   },
   "outputs": [
    {
     "name": "stdout",
     "output_type": "stream",
     "text": [
      "TEST\n"
     ]
    },
    {
     "data": {
      "text/plain": [
       "20599    хэтчбек 5 дв.\n",
       "16904            седан\n",
       "13801            седан\n",
       "1378           лифтбек\n",
       "17876            седан\n",
       "Name: bodyType, dtype: object"
      ]
     },
     "metadata": {},
     "output_type": "display_data"
    },
    {
     "name": "stdout",
     "output_type": "stream",
     "text": [
      "TRAIN\n"
     ]
    },
    {
     "data": {
      "text/plain": [
       "50001                Седан\n",
       "51279    Внедорожник 5 дв.\n",
       "31688    Внедорожник 5 дв.\n",
       "42190    Внедорожник 5 дв.\n",
       "6819                 Седан\n",
       "Name: bodyType, dtype: object"
      ]
     },
     "metadata": {},
     "output_type": "display_data"
    }
   ],
   "source": [
    "#bodyType\n",
    "column = 'bodyType'\n",
    "type_comparison(column)"
   ]
  },
  {
   "cell_type": "code",
   "execution_count": 22,
   "id": "bccea533",
   "metadata": {
    "ExecuteTime": {
     "end_time": "2022-04-05T10:46:33.793611Z",
     "start_time": "2022-04-05T10:46:33.762605Z"
    }
   },
   "outputs": [
    {
     "name": "stdout",
     "output_type": "stream",
     "text": [
      "TEST\n"
     ]
    },
    {
     "data": {
      "text/plain": [
       "14800    чёрный\n",
       "14523    чёрный\n",
       "6836     чёрный\n",
       "17563     синий\n",
       "26783     белый\n",
       "Name: color, dtype: object"
      ]
     },
     "metadata": {},
     "output_type": "display_data"
    },
    {
     "name": "stdout",
     "output_type": "stream",
     "text": [
      "TRAIN\n"
     ]
    },
    {
     "data": {
      "text/plain": [
       "8838     040001\n",
       "70451    C49648\n",
       "5859     040001\n",
       "66905    040001\n",
       "6070     C49648\n",
       "Name: color, dtype: object"
      ]
     },
     "metadata": {},
     "output_type": "display_data"
    }
   ],
   "source": [
    "#color\n",
    "column = 'color'\n",
    "type_comparison(column)"
   ]
  },
  {
   "cell_type": "code",
   "execution_count": 23,
   "id": "bb865c77",
   "metadata": {
    "ExecuteTime": {
     "end_time": "2022-04-05T10:46:33.809615Z",
     "start_time": "2022-04-05T10:46:33.794613Z"
    }
   },
   "outputs": [
    {
     "name": "stdout",
     "output_type": "stream",
     "text": [
      "TEST\n"
     ]
    },
    {
     "data": {
      "text/plain": [
       "3307     Машина в отличном техническом и внешнем состоя...\n",
       "11213    Все автомобили, для Вашего удобства, находятся...\n",
       "32348    Продается личный автомобиль.Полностью обслужен...\n",
       "14509    2 телевизора,люк,панорамная крыша,максимальная...\n",
       "27962                             Авто в хорошем состоянии\n",
       "Name: description, dtype: object"
      ]
     },
     "metadata": {},
     "output_type": "display_data"
    },
    {
     "name": "stdout",
     "output_type": "stream",
     "text": [
      "TRAIN\n"
     ]
    },
    {
     "data": {
      "text/plain": [
       "87625    Автомобиль в отличном состоянии,без ДТП,куплен...\n",
       "81000    Наше предложение удивит Вас! Лучшие условия по...\n",
       "84585    Эксклюзивные условия в «Звезда Столицы Варшавк...\n",
       "76790          В хорошем состоянии, подробнее по телефону \n",
       "30964    Комплектация: 3.5 AT AWD Elite+NAVI. \\n11000 к...\n",
       "Name: description, dtype: object"
      ]
     },
     "metadata": {},
     "output_type": "display_data"
    }
   ],
   "source": [
    "#description\n",
    "column = 'description'\n",
    "type_comparison(column)"
   ]
  },
  {
   "cell_type": "code",
   "execution_count": 24,
   "id": "4f601e62",
   "metadata": {
    "ExecuteTime": {
     "end_time": "2022-04-05T10:46:33.825619Z",
     "start_time": "2022-04-05T10:46:33.810615Z"
    }
   },
   "outputs": [
    {
     "name": "stdout",
     "output_type": "stream",
     "text": [
      "TEST\n"
     ]
    },
    {
     "data": {
      "text/plain": [
       "7392     2.0 LTR\n",
       "7544     2.0 LTR\n",
       "8101     3.0 LTR\n",
       "25665    1.6 LTR\n",
       "1982     1.8 LTR\n",
       "Name: engineDisplacement, dtype: object"
      ]
     },
     "metadata": {},
     "output_type": "display_data"
    },
    {
     "name": "stdout",
     "output_type": "stream",
     "text": [
      "TRAIN\n"
     ]
    },
    {
     "data": {
      "text/plain": [
       "70475      1.6\n",
       "62106      1.6\n",
       "9160       20d\n",
       "10190    4.6is\n",
       "1943       2.4\n",
       "Name: engineDisplacement, dtype: object"
      ]
     },
     "metadata": {},
     "output_type": "display_data"
    }
   ],
   "source": [
    "#engineDisplacement\n",
    "column = 'engineDisplacement'\n",
    "type_comparison(column)"
   ]
  },
  {
   "cell_type": "code",
   "execution_count": 25,
   "id": "5ce28416",
   "metadata": {
    "ExecuteTime": {
     "end_time": "2022-04-05T10:46:34.065699Z",
     "start_time": "2022-04-05T10:46:33.826619Z"
    }
   },
   "outputs": [],
   "source": [
    "#Преобразование\n",
    "def GetEngineDisplacement(x):\n",
    "    row = str(x)\n",
    "    engine = re.findall('\\d\\.\\d', row)\n",
    "    if engine == []:\n",
    "        return None\n",
    "    return float(engine[0])\n",
    "\n",
    "train_mod['engineDisplacement'] = train_mod['engineDisplacement'].map(GetEngineDisplacement)\n",
    "test_mod['engineDisplacement'] = test_mod['engineDisplacement'].map(GetEngineDisplacement)"
   ]
  },
  {
   "cell_type": "code",
   "execution_count": 26,
   "id": "988ce8a4",
   "metadata": {
    "ExecuteTime": {
     "end_time": "2022-04-05T10:46:34.081704Z",
     "start_time": "2022-04-05T10:46:34.066712Z"
    }
   },
   "outputs": [
    {
     "name": "stdout",
     "output_type": "stream",
     "text": [
      "TEST\n"
     ]
    },
    {
     "data": {
      "text/plain": [
       "10480    2.0\n",
       "17374    3.5\n",
       "3813     1.8\n",
       "12011    2.5\n",
       "26905    3.8\n",
       "Name: engineDisplacement, dtype: float64"
      ]
     },
     "metadata": {},
     "output_type": "display_data"
    },
    {
     "name": "stdout",
     "output_type": "stream",
     "text": [
      "TRAIN\n"
     ]
    },
    {
     "data": {
      "text/plain": [
       "46137    1.6\n",
       "2191     3.1\n",
       "10986    NaN\n",
       "62703    1.2\n",
       "49387    2.0\n",
       "Name: engineDisplacement, dtype: float64"
      ]
     },
     "metadata": {},
     "output_type": "display_data"
    }
   ],
   "source": [
    "#engineDisplacement\n",
    "column = 'engineDisplacement'\n",
    "type_comparison(column)"
   ]
  },
  {
   "cell_type": "code",
   "execution_count": 27,
   "id": "aad05a33",
   "metadata": {
    "ExecuteTime": {
     "end_time": "2022-04-05T10:46:34.097708Z",
     "start_time": "2022-04-05T10:46:34.082706Z"
    }
   },
   "outputs": [
    {
     "name": "stdout",
     "output_type": "stream",
     "text": [
      "TEST\n"
     ]
    },
    {
     "data": {
      "text/plain": [
       "11760    158 N12\n",
       "8106     507 N12\n",
       "27298    170 N12\n",
       "31126    150 N12\n",
       "2410     245 N12\n",
       "Name: enginePower, dtype: object"
      ]
     },
     "metadata": {},
     "output_type": "display_data"
    },
    {
     "name": "stdout",
     "output_type": "stream",
     "text": [
      "TRAIN\n"
     ]
    },
    {
     "data": {
      "text/plain": [
       "60664    152.0\n",
       "76341    174.0\n",
       "75959    249.0\n",
       "6366     184.0\n",
       "72579    115.0\n",
       "Name: enginePower, dtype: float64"
      ]
     },
     "metadata": {},
     "output_type": "display_data"
    }
   ],
   "source": [
    "#enginePower\n",
    "column = 'enginePower'\n",
    "type_comparison(column)"
   ]
  },
  {
   "cell_type": "code",
   "execution_count": 28,
   "id": "2aa91dba",
   "metadata": {
    "ExecuteTime": {
     "end_time": "2022-04-05T10:46:34.145719Z",
     "start_time": "2022-04-05T10:46:34.102709Z"
    }
   },
   "outputs": [],
   "source": [
    "#Преобразование\n",
    "train_mod.enginePower = train_mod.enginePower.convert_dtypes(int)\n",
    "test_mod[\"enginePower\"] = test_mod[\"enginePower\"].apply(lambda x : (int)(x.split(' ')[0]))"
   ]
  },
  {
   "cell_type": "code",
   "execution_count": 29,
   "id": "fc5b4ce1",
   "metadata": {
    "ExecuteTime": {
     "end_time": "2022-04-05T10:46:34.161722Z",
     "start_time": "2022-04-05T10:46:34.146721Z"
    }
   },
   "outputs": [
    {
     "name": "stdout",
     "output_type": "stream",
     "text": [
      "TEST\n"
     ]
    },
    {
     "data": {
      "text/plain": [
       "14522    116\n",
       "26783    117\n",
       "25347     85\n",
       "28676    200\n",
       "1866     105\n",
       "Name: enginePower, dtype: int64"
      ]
     },
     "metadata": {},
     "output_type": "display_data"
    },
    {
     "name": "stdout",
     "output_type": "stream",
     "text": [
      "TRAIN\n"
     ]
    },
    {
     "data": {
      "text/plain": [
       "49554    141\n",
       "81372    150\n",
       "2562     245\n",
       "68879    149\n",
       "3113     249\n",
       "Name: enginePower, dtype: Int64"
      ]
     },
     "metadata": {},
     "output_type": "display_data"
    }
   ],
   "source": [
    "#enginePower\n",
    "column = 'enginePower'\n",
    "type_comparison(column)"
   ]
  },
  {
   "cell_type": "code",
   "execution_count": 30,
   "id": "55ac780b",
   "metadata": {
    "ExecuteTime": {
     "end_time": "2022-04-05T10:46:34.177726Z",
     "start_time": "2022-04-05T10:46:34.162724Z"
    }
   },
   "outputs": [
    {
     "name": "stdout",
     "output_type": "stream",
     "text": [
      "TEST\n"
     ]
    },
    {
     "data": {
      "text/plain": [
       "68       бензин\n",
       "6964     дизель\n",
       "9092     бензин\n",
       "12852    бензин\n",
       "10535    бензин\n",
       "Name: fuelType, dtype: object"
      ]
     },
     "metadata": {},
     "output_type": "display_data"
    },
    {
     "name": "stdout",
     "output_type": "stream",
     "text": [
      "TRAIN\n"
     ]
    },
    {
     "data": {
      "text/plain": [
       "39080    бензин\n",
       "3996     бензин\n",
       "49342    бензин\n",
       "88459    дизель\n",
       "6182     бензин\n",
       "Name: fuelType, dtype: object"
      ]
     },
     "metadata": {},
     "output_type": "display_data"
    }
   ],
   "source": [
    "#fuelType\n",
    "column = 'fuelType'\n",
    "type_comparison(column)"
   ]
  },
  {
   "cell_type": "code",
   "execution_count": 31,
   "id": "6ccb8b98",
   "metadata": {
    "ExecuteTime": {
     "end_time": "2022-04-05T10:46:34.193730Z",
     "start_time": "2022-04-05T10:46:34.178727Z"
    }
   },
   "outputs": [
    {
     "data": {
      "text/plain": [
       "array(['бензин', 'дизель', 'электро', 'гибрид', 'универсал', 'газ'],\n",
       "      dtype=object)"
      ]
     },
     "execution_count": 31,
     "metadata": {},
     "output_type": "execute_result"
    }
   ],
   "source": [
    "train_mod.fuelType.unique() # универсал выбросить, есть один пропуск, выбросить"
   ]
  },
  {
   "cell_type": "code",
   "execution_count": 32,
   "id": "bc0edc8e",
   "metadata": {
    "ExecuteTime": {
     "end_time": "2022-04-05T10:46:34.209733Z",
     "start_time": "2022-04-05T10:46:34.194730Z"
    }
   },
   "outputs": [
    {
     "data": {
      "text/plain": [
       "array(['бензин', 'дизель', 'гибрид', 'электро', 'газ'], dtype=object)"
      ]
     },
     "execution_count": 32,
     "metadata": {},
     "output_type": "execute_result"
    }
   ],
   "source": [
    "test_mod.fuelType.unique()"
   ]
  },
  {
   "cell_type": "code",
   "execution_count": 33,
   "id": "8f3c7792",
   "metadata": {
    "ExecuteTime": {
     "end_time": "2022-04-05T10:46:34.225738Z",
     "start_time": "2022-04-05T10:46:34.210734Z"
    }
   },
   "outputs": [
    {
     "name": "stdout",
     "output_type": "stream",
     "text": [
      "TEST\n"
     ]
    },
    {
     "data": {
      "text/plain": [
       "9464     186000\n",
       "21069    271587\n",
       "12877    293000\n",
       "28352    186000\n",
       "8748     135000\n",
       "Name: mileage, dtype: int64"
      ]
     },
     "metadata": {},
     "output_type": "display_data"
    },
    {
     "name": "stdout",
     "output_type": "stream",
     "text": [
      "TRAIN\n"
     ]
    },
    {
     "data": {
      "text/plain": [
       "68802         0\n",
       "8677     154639\n",
       "10136    225000\n",
       "1531     137000\n",
       "69053         0\n",
       "Name: mileage, dtype: int64"
      ]
     },
     "metadata": {},
     "output_type": "display_data"
    }
   ],
   "source": [
    "#mileage\n",
    "column = 'mileage'\n",
    "type_comparison(column)"
   ]
  },
  {
   "cell_type": "code",
   "execution_count": 34,
   "id": "07fbe1cd",
   "metadata": {
    "ExecuteTime": {
     "end_time": "2022-04-05T10:46:34.241741Z",
     "start_time": "2022-04-05T10:46:34.226739Z"
    }
   },
   "outputs": [
    {
     "name": "stdout",
     "output_type": "stream",
     "text": [
      "TEST\n"
     ]
    },
    {
     "data": {
      "text/plain": [
       "25013    2008\n",
       "27869    2007\n",
       "1115     2013\n",
       "27441    2006\n",
       "31857    2002\n",
       "Name: modelDate, dtype: int64"
      ]
     },
     "metadata": {},
     "output_type": "display_data"
    },
    {
     "name": "stdout",
     "output_type": "stream",
     "text": [
      "TRAIN\n"
     ]
    },
    {
     "data": {
      "text/plain": [
       "5688     2015.0\n",
       "49762    2014.0\n",
       "10863    2007.0\n",
       "8079     2012.0\n",
       "5763     2018.0\n",
       "Name: modelDate, dtype: float64"
      ]
     },
     "metadata": {},
     "output_type": "display_data"
    }
   ],
   "source": [
    "#modelDate\n",
    "column = 'modelDate'\n",
    "type_comparison(column) # model year на самом деле"
   ]
  },
  {
   "cell_type": "code",
   "execution_count": 35,
   "id": "6f2c87da",
   "metadata": {
    "ExecuteTime": {
     "end_time": "2022-04-05T10:46:34.257745Z",
     "start_time": "2022-04-05T10:46:34.242742Z"
    }
   },
   "outputs": [],
   "source": [
    "#Преобразование\n",
    "train_mod.modelDate = train_mod.modelDate.convert_dtypes(int) #astype('int')"
   ]
  },
  {
   "cell_type": "code",
   "execution_count": 36,
   "id": "6e912e7f",
   "metadata": {
    "ExecuteTime": {
     "end_time": "2022-04-05T10:46:34.273749Z",
     "start_time": "2022-04-05T10:46:34.258746Z"
    }
   },
   "outputs": [
    {
     "name": "stdout",
     "output_type": "stream",
     "text": [
      "TEST\n"
     ]
    },
    {
     "data": {
      "text/plain": [
       "20103         2.0 MT (200 л.с.)\n",
       "16872     250 1.8 AT (204 л.с.)\n",
       "30549         1.6 MT (110 л.с.)\n",
       "13051        2.0 CVT (141 л.с.)\n",
       "18453    220 2.2d AT (150 л.с.)\n",
       "Name: name, dtype: object"
      ]
     },
     "metadata": {},
     "output_type": "display_data"
    },
    {
     "name": "stdout",
     "output_type": "stream",
     "text": [
      "TRAIN\n"
     ]
    },
    {
     "data": {
      "text/plain": [
       "42085                   2.0 AT (240 л.с.) 4WD\n",
       "74016                       1.6 MT (105 л.с.)\n",
       "81610    180 BlueEFFICIENCY 1.8 AT (156 л.с.)\n",
       "42598                       2.5 AT (163 л.с.)\n",
       "48722                      2.0 CVT (141 л.с.)\n",
       "Name: name, dtype: object"
      ]
     },
     "metadata": {},
     "output_type": "display_data"
    }
   ],
   "source": [
    "#name\n",
    "column = 'name'\n",
    "type_comparison(column) # ЧТо-то лежит"
   ]
  },
  {
   "cell_type": "code",
   "execution_count": 37,
   "id": "fc5a5019",
   "metadata": {
    "ExecuteTime": {
     "end_time": "2022-04-05T10:46:34.289752Z",
     "start_time": "2022-04-05T10:46:34.274750Z"
    }
   },
   "outputs": [
    {
     "name": "stdout",
     "output_type": "stream",
     "text": [
      "TEST\n"
     ]
    },
    {
     "data": {
      "text/plain": [
       "1249     5\n",
       "28703    5\n",
       "31808    4\n",
       "2470     5\n",
       "22105    5\n",
       "Name: numberOfDoors, dtype: int64"
      ]
     },
     "metadata": {},
     "output_type": "display_data"
    },
    {
     "name": "stdout",
     "output_type": "stream",
     "text": [
      "TRAIN\n"
     ]
    },
    {
     "data": {
      "text/plain": [
       "50212    5.0\n",
       "81480    4.0\n",
       "85092    5.0\n",
       "24785    5.0\n",
       "11202    5.0\n",
       "Name: numberOfDoors, dtype: float64"
      ]
     },
     "metadata": {},
     "output_type": "display_data"
    }
   ],
   "source": [
    "#numberOfDoors\n",
    "column = 'numberOfDoors'\n",
    "type_comparison(column)"
   ]
  },
  {
   "cell_type": "code",
   "execution_count": 38,
   "id": "a17e6248",
   "metadata": {
    "ExecuteTime": {
     "end_time": "2022-04-05T10:46:34.305756Z",
     "start_time": "2022-04-05T10:46:34.290753Z"
    }
   },
   "outputs": [],
   "source": [
    "#Преобразование\n",
    "train_mod.numberOfDoors = train_mod.numberOfDoors.convert_dtypes(int)"
   ]
  },
  {
   "cell_type": "code",
   "execution_count": 39,
   "id": "9fe4bbe0",
   "metadata": {
    "ExecuteTime": {
     "end_time": "2022-04-05T10:46:34.321758Z",
     "start_time": "2022-04-05T10:46:34.306756Z"
    }
   },
   "outputs": [
    {
     "name": "stdout",
     "output_type": "stream",
     "text": [
      "TEST\n"
     ]
    },
    {
     "data": {
      "text/plain": [
       "19685    1992\n",
       "34549    2012\n",
       "28594    2013\n",
       "26893    2007\n",
       "31083    2019\n",
       "Name: productionDate, dtype: int64"
      ]
     },
     "metadata": {},
     "output_type": "display_data"
    },
    {
     "name": "stdout",
     "output_type": "stream",
     "text": [
      "TRAIN\n"
     ]
    },
    {
     "data": {
      "text/plain": [
       "61373    2017\n",
       "47114    2011\n",
       "87211    2014\n",
       "4829     2013\n",
       "10251    2020\n",
       "Name: productionDate, dtype: int64"
      ]
     },
     "metadata": {},
     "output_type": "display_data"
    }
   ],
   "source": [
    "#productionDate # дата производства, есть ещё дата модели\n",
    "column = 'productionDate'\n",
    "type_comparison(column)"
   ]
  },
  {
   "cell_type": "code",
   "execution_count": 40,
   "id": "02fcce18",
   "metadata": {
    "ExecuteTime": {
     "end_time": "2022-04-05T10:46:34.337762Z",
     "start_time": "2022-04-05T10:46:34.322760Z"
    }
   },
   "outputs": [
    {
     "name": "stdout",
     "output_type": "stream",
     "text": [
      "TEST\n"
     ]
    },
    {
     "data": {
      "text/plain": [
       "16540    ALLROAD_5_DOORS AUTOMATIC 3.0\n",
       "21616         COMPACTVAN AUTOMATIC 2.2\n",
       "10251    ALLROAD_5_DOORS AUTOMATIC 4.4\n",
       "17546    ALLROAD_5_DOORS AUTOMATIC 5.5\n",
       "31853    ALLROAD_5_DOORS AUTOMATIC 4.7\n",
       "Name: vehicleConfiguration, dtype: object"
      ]
     },
     "metadata": {},
     "output_type": "display_data"
    },
    {
     "name": "stdout",
     "output_type": "stream",
     "text": [
      "TRAIN\n"
     ]
    },
    {
     "data": {
      "text/plain": [
       "61427           LIFTBACK AUTOMATIC 1.8\n",
       "74896    ALLROAD_5_DOORS AUTOMATIC 2.0\n",
       "49174     ALLROAD_5_DOORS VARIATOR 2.0\n",
       "83283              SEDAN AUTOMATIC 200\n",
       "25160       WAGON_5_DOORS ROBOT 1.5hyb\n",
       "Name: vehicleConfiguration, dtype: object"
      ]
     },
     "metadata": {},
     "output_type": "display_data"
    }
   ],
   "source": [
    "#vehicleConfiguration\n",
    "column = 'vehicleConfiguration'\n",
    "type_comparison(column)"
   ]
  },
  {
   "cell_type": "code",
   "execution_count": 41,
   "id": "cb572e99",
   "metadata": {
    "ExecuteTime": {
     "end_time": "2022-04-05T10:46:34.353767Z",
     "start_time": "2022-04-05T10:46:34.338764Z"
    }
   },
   "outputs": [
    {
     "name": "stdout",
     "output_type": "stream",
     "text": [
      "TEST\n"
     ]
    },
    {
     "data": {
      "text/plain": [
       "32131    автоматическая\n",
       "4688           вариатор\n",
       "8802     автоматическая\n",
       "11579          вариатор\n",
       "4423     автоматическая\n",
       "Name: vehicleTransmission, dtype: object"
      ]
     },
     "metadata": {},
     "output_type": "display_data"
    },
    {
     "name": "stdout",
     "output_type": "stream",
     "text": [
      "TRAIN\n"
     ]
    },
    {
     "data": {
      "text/plain": [
       "8894      AUTOMATIC\n",
       "8111      AUTOMATIC\n",
       "25135    MECHANICAL\n",
       "48413    MECHANICAL\n",
       "82635     AUTOMATIC\n",
       "Name: vehicleTransmission, dtype: object"
      ]
     },
     "metadata": {},
     "output_type": "display_data"
    }
   ],
   "source": [
    "#vehicleTransmission\n",
    "column = 'vehicleTransmission'\n",
    "type_comparison(column)"
   ]
  },
  {
   "cell_type": "code",
   "execution_count": 42,
   "id": "19e109f8",
   "metadata": {
    "ExecuteTime": {
     "end_time": "2022-04-05T10:46:34.369769Z",
     "start_time": "2022-04-05T10:46:34.354767Z"
    }
   },
   "outputs": [
    {
     "data": {
      "text/plain": [
       "array(['MECHANICAL', 'AUTOMATIC', 'ROBOT', 'VARIATOR', nan], dtype=object)"
      ]
     },
     "execution_count": 42,
     "metadata": {},
     "output_type": "execute_result"
    }
   ],
   "source": [
    "#Преобразование\n",
    "train_mod.vehicleTransmission.unique()"
   ]
  },
  {
   "cell_type": "code",
   "execution_count": 43,
   "id": "8f195135",
   "metadata": {
    "ExecuteTime": {
     "end_time": "2022-04-05T10:46:34.385774Z",
     "start_time": "2022-04-05T10:46:34.370771Z"
    }
   },
   "outputs": [
    {
     "data": {
      "text/plain": [
       "array(['роботизированная', 'механическая', 'автоматическая', 'вариатор'],\n",
       "      dtype=object)"
      ]
     },
     "execution_count": 43,
     "metadata": {},
     "output_type": "execute_result"
    }
   ],
   "source": [
    "test_mod.vehicleTransmission.unique()"
   ]
  },
  {
   "cell_type": "code",
   "execution_count": 44,
   "id": "b6e247a6",
   "metadata": {
    "ExecuteTime": {
     "end_time": "2022-04-05T10:46:34.417781Z",
     "start_time": "2022-04-05T10:46:34.386774Z"
    }
   },
   "outputs": [],
   "source": [
    "test_mod = test_mod.replace({'vehicleTransmission':\n",
    "                            {'автоматическая': 'AUTOMATIC',\n",
    "                            'вариатор': 'VARIATOR',\n",
    "                            'механическая': 'MECHANICAL',\n",
    "                            'роботизированная': 'ROBOT'}})"
   ]
  },
  {
   "cell_type": "code",
   "execution_count": 45,
   "id": "e2c7bc03",
   "metadata": {
    "ExecuteTime": {
     "end_time": "2022-04-05T10:46:34.433784Z",
     "start_time": "2022-04-05T10:46:34.418782Z"
    }
   },
   "outputs": [
    {
     "name": "stdout",
     "output_type": "stream",
     "text": [
      "TEST\n"
     ]
    },
    {
     "data": {
      "text/plain": [
       "26686    3 или более\n",
       "8977     3 или более\n",
       "8209     3 или более\n",
       "15673     1 владелец\n",
       "21556     1 владелец\n",
       "Name: Владельцы, dtype: object"
      ]
     },
     "metadata": {},
     "output_type": "display_data"
    },
    {
     "name": "stdout",
     "output_type": "stream",
     "text": [
      "TRAIN\n"
     ]
    },
    {
     "data": {
      "text/plain": [
       "72515    3.0\n",
       "81563    3.0\n",
       "11207    3.0\n",
       "83449    3.0\n",
       "7715     NaN\n",
       "Name: Владельцы, dtype: float64"
      ]
     },
     "metadata": {},
     "output_type": "display_data"
    }
   ],
   "source": [
    "#Владельцы\n",
    "column = 'Владельцы'\n",
    "type_comparison(column)"
   ]
  },
  {
   "cell_type": "code",
   "execution_count": 46,
   "id": "1442a356",
   "metadata": {
    "ExecuteTime": {
     "end_time": "2022-04-05T10:46:34.449788Z",
     "start_time": "2022-04-05T10:46:34.434786Z"
    }
   },
   "outputs": [
    {
     "data": {
      "text/plain": [
       "array(['3 или более', '1\\xa0владелец', '2\\xa0владельца'], dtype=object)"
      ]
     },
     "execution_count": 46,
     "metadata": {},
     "output_type": "execute_result"
    }
   ],
   "source": [
    "test_mod.Владельцы.unique()"
   ]
  },
  {
   "cell_type": "code",
   "execution_count": 47,
   "id": "ab775fe6",
   "metadata": {
    "ExecuteTime": {
     "end_time": "2022-04-05T10:46:34.497799Z",
     "start_time": "2022-04-05T10:46:34.450790Z"
    }
   },
   "outputs": [],
   "source": [
    "#Преобразование\n",
    "train_mod.Владельцы = train_mod.Владельцы.convert_dtypes(int)\n",
    "\n",
    "test_mod = test_mod.replace({'Владельцы':\n",
    "                            {'1\\xa0владелец': 1,\n",
    "                            '2\\xa0владельца': 2,\n",
    "                            '3 или более': 3}})"
   ]
  },
  {
   "cell_type": "code",
   "execution_count": 48,
   "id": "9c0dbb15",
   "metadata": {
    "ExecuteTime": {
     "end_time": "2022-04-05T10:46:34.513802Z",
     "start_time": "2022-04-05T10:46:34.498800Z"
    }
   },
   "outputs": [
    {
     "name": "stdout",
     "output_type": "stream",
     "text": [
      "TEST\n"
     ]
    },
    {
     "data": {
      "text/plain": [
       "32655                    NaN\n",
       "10423                    NaN\n",
       "21316     4 года и 9 месяцев\n",
       "22553    4 года и 11 месяцев\n",
       "16964    4 года и 10 месяцев\n",
       "Name: Владение, dtype: object"
      ]
     },
     "metadata": {},
     "output_type": "display_data"
    },
    {
     "name": "stdout",
     "output_type": "stream",
     "text": [
      "TRAIN\n"
     ]
    },
    {
     "data": {
      "text/plain": [
       "31571    {'year': 2018, 'month': 6}\n",
       "77829                           NaN\n",
       "42343                           NaN\n",
       "25061                           NaN\n",
       "39117                           NaN\n",
       "Name: Владение, dtype: object"
      ]
     },
     "metadata": {},
     "output_type": "display_data"
    }
   ],
   "source": [
    "#Владение\n",
    "column = 'Владение' # перевести в дни, можно выкинуть\n",
    "type_comparison(column)"
   ]
  },
  {
   "cell_type": "code",
   "execution_count": 49,
   "id": "305ba0c1",
   "metadata": {
    "ExecuteTime": {
     "end_time": "2022-04-05T10:46:34.529806Z",
     "start_time": "2022-04-05T10:46:34.514804Z"
    }
   },
   "outputs": [
    {
     "name": "stdout",
     "output_type": "stream",
     "text": [
      "TEST\n",
      "Владение - 65%\n",
      "TRAIN\n",
      "Владение - 69%\n"
     ]
    }
   ],
   "source": [
    "#Посчитаем % пропусков\n",
    "col = 'Владение'\n",
    "\n",
    "pct_missing_1 = np.mean(test[col].isnull()) \n",
    "print('TEST')\n",
    "print('{} - {}%'.format(col, round(pct_missing_1*100)))\n",
    "pct_missing_2 = np.mean(train_mod[col].isnull()) \n",
    "print('TRAIN')\n",
    "print('{} - {}%'.format(col, round(pct_missing_2*100)))"
   ]
  },
  {
   "cell_type": "markdown",
   "id": "36b44567",
   "metadata": {},
   "source": [
    "Большой процент пропусков в TRAIN и TEST (около 70%), столбец можно удалить."
   ]
  },
  {
   "cell_type": "code",
   "execution_count": 50,
   "id": "9af70fa6",
   "metadata": {
    "ExecuteTime": {
     "end_time": "2022-04-05T10:46:34.545809Z",
     "start_time": "2022-04-05T10:46:34.530807Z"
    }
   },
   "outputs": [
    {
     "name": "stdout",
     "output_type": "stream",
     "text": [
      "TEST\n"
     ]
    },
    {
     "data": {
      "text/plain": [
       "14308      полный\n",
       "8349       полный\n",
       "8147       задний\n",
       "12147      полный\n",
       "32906    передний\n",
       "Name: Привод, dtype: object"
      ]
     },
     "metadata": {},
     "output_type": "display_data"
    },
    {
     "name": "stdout",
     "output_type": "stream",
     "text": [
      "TRAIN\n"
     ]
    },
    {
     "data": {
      "text/plain": [
       "39064      полный\n",
       "80695    передний\n",
       "66580      задний\n",
       "7981       полный\n",
       "67856      полный\n",
       "Name: Привод, dtype: object"
      ]
     },
     "metadata": {},
     "output_type": "display_data"
    }
   ],
   "source": [
    "#Привод\n",
    "column = 'Привод'\n",
    "type_comparison(column)"
   ]
  },
  {
   "cell_type": "code",
   "execution_count": 51,
   "id": "63861ae2",
   "metadata": {
    "ExecuteTime": {
     "end_time": "2022-04-05T10:46:34.561813Z",
     "start_time": "2022-04-05T10:46:34.546812Z"
    }
   },
   "outputs": [
    {
     "name": "stdout",
     "output_type": "stream",
     "text": [
      "TEST\n"
     ]
    },
    {
     "data": {
      "text/plain": [
       "23845    Оригинал\n",
       "26887    Оригинал\n",
       "21305    Дубликат\n",
       "2862     Дубликат\n",
       "6236     Оригинал\n",
       "Name: ПТС, dtype: object"
      ]
     },
     "metadata": {},
     "output_type": "display_data"
    },
    {
     "name": "stdout",
     "output_type": "stream",
     "text": [
      "TRAIN\n"
     ]
    },
    {
     "data": {
      "text/plain": [
       "3141     ORIGINAL\n",
       "5891     ORIGINAL\n",
       "81928    ORIGINAL\n",
       "65021    ORIGINAL\n",
       "75428    ORIGINAL\n",
       "Name: ПТС, dtype: object"
      ]
     },
     "metadata": {},
     "output_type": "display_data"
    }
   ],
   "source": [
    "#ПТС\n",
    "column = 'ПТС'\n",
    "type_comparison(column)"
   ]
  },
  {
   "cell_type": "code",
   "execution_count": 52,
   "id": "40aef18c",
   "metadata": {
    "ExecuteTime": {
     "end_time": "2022-04-05T10:46:34.593820Z",
     "start_time": "2022-04-05T10:46:34.562816Z"
    }
   },
   "outputs": [],
   "source": [
    "#Преобразование\n",
    "test_mod = test_mod.replace({'ПТС':\n",
    "                            {'Оригинал': 'ORIGINAL',\n",
    "                            'Дубликат': 'DUPLICATE'}})"
   ]
  },
  {
   "cell_type": "code",
   "execution_count": 53,
   "id": "5b7f0b18",
   "metadata": {
    "ExecuteTime": {
     "end_time": "2022-04-05T10:46:34.609824Z",
     "start_time": "2022-04-05T10:46:34.594824Z"
    }
   },
   "outputs": [
    {
     "name": "stdout",
     "output_type": "stream",
     "text": [
      "TEST\n"
     ]
    },
    {
     "data": {
      "text/plain": [
       "16275    Левый\n",
       "28629    Левый\n",
       "19660    Левый\n",
       "7864     Левый\n",
       "32657    Левый\n",
       "Name: Руль, dtype: object"
      ]
     },
     "metadata": {},
     "output_type": "display_data"
    },
    {
     "name": "stdout",
     "output_type": "stream",
     "text": [
      "TRAIN\n"
     ]
    },
    {
     "data": {
      "text/plain": [
       "85405     LEFT\n",
       "45294     LEFT\n",
       "76363     LEFT\n",
       "39175     LEFT\n",
       "66428    RIGHT\n",
       "Name: Руль, dtype: object"
      ]
     },
     "metadata": {},
     "output_type": "display_data"
    }
   ],
   "source": [
    "#Руль\n",
    "column = 'Руль'\n",
    "type_comparison(column)"
   ]
  },
  {
   "cell_type": "code",
   "execution_count": 54,
   "id": "26af9997",
   "metadata": {
    "ExecuteTime": {
     "end_time": "2022-04-05T10:46:34.641831Z",
     "start_time": "2022-04-05T10:46:34.610825Z"
    }
   },
   "outputs": [],
   "source": [
    "#Преобразование\n",
    "test_mod = test_mod.replace({'Руль':\n",
    "                            {'Левый': 'LEFT',\n",
    "                            'Правый': 'RIGHT'}})"
   ]
  },
  {
   "cell_type": "code",
   "execution_count": 55,
   "id": "7b14a214",
   "metadata": {
    "ExecuteTime": {
     "end_time": "2022-04-05T10:46:34.657837Z",
     "start_time": "2022-04-05T10:46:34.642832Z"
    }
   },
   "outputs": [
    {
     "name": "stdout",
     "output_type": "stream",
     "text": [
      "TEST\n"
     ]
    },
    {
     "data": {
      "text/plain": [
       "5977     Не требует ремонта\n",
       "15185    Не требует ремонта\n",
       "26419    Не требует ремонта\n",
       "24357    Не требует ремонта\n",
       "25446    Не требует ремонта\n",
       "Name: Состояние, dtype: object"
      ]
     },
     "metadata": {},
     "output_type": "display_data"
    },
    {
     "name": "stdout",
     "output_type": "stream",
     "text": [
      "TRAIN\n"
     ]
    },
    {
     "data": {
      "text/plain": [
       "4397    NaN\n",
       "45925   NaN\n",
       "10049   NaN\n",
       "73178   NaN\n",
       "45075   NaN\n",
       "Name: Состояние, dtype: float64"
      ]
     },
     "metadata": {},
     "output_type": "display_data"
    }
   ],
   "source": [
    "#Состояние # выкинуть\n",
    "column = 'Состояние'\n",
    "type_comparison(column)"
   ]
  },
  {
   "cell_type": "code",
   "execution_count": 56,
   "id": "5adeab08",
   "metadata": {
    "ExecuteTime": {
     "end_time": "2022-04-05T10:46:34.673839Z",
     "start_time": "2022-04-05T10:46:34.658836Z"
    }
   },
   "outputs": [
    {
     "data": {
      "text/plain": [
       "array(['Не требует ремонта'], dtype=object)"
      ]
     },
     "execution_count": 56,
     "metadata": {},
     "output_type": "execute_result"
    }
   ],
   "source": [
    "test_mod.Состояние.unique()"
   ]
  },
  {
   "cell_type": "code",
   "execution_count": 57,
   "id": "881bf336",
   "metadata": {
    "ExecuteTime": {
     "end_time": "2022-04-05T10:46:34.689842Z",
     "start_time": "2022-04-05T10:46:34.674840Z"
    }
   },
   "outputs": [
    {
     "data": {
      "text/plain": [
       "array([nan])"
      ]
     },
     "execution_count": 57,
     "metadata": {},
     "output_type": "execute_result"
    }
   ],
   "source": [
    "train_mod.Состояние.unique()"
   ]
  },
  {
   "cell_type": "markdown",
   "id": "0a7fb7c7",
   "metadata": {},
   "source": [
    "В TEST только одно значение, в TRAIN - пустой столбец. СОСТОЯНИЕ можно удалить."
   ]
  },
  {
   "cell_type": "code",
   "execution_count": 58,
   "id": "abd9e9a7",
   "metadata": {
    "ExecuteTime": {
     "end_time": "2022-04-05T10:46:34.705846Z",
     "start_time": "2022-04-05T10:46:34.690843Z"
    }
   },
   "outputs": [
    {
     "name": "stdout",
     "output_type": "stream",
     "text": [
      "TEST\n"
     ]
    },
    {
     "data": {
      "text/plain": [
       "4016     Растаможен\n",
       "24573    Растаможен\n",
       "25064    Растаможен\n",
       "20021    Растаможен\n",
       "7478     Растаможен\n",
       "Name: Таможня, dtype: object"
      ]
     },
     "metadata": {},
     "output_type": "display_data"
    },
    {
     "name": "stdout",
     "output_type": "stream",
     "text": [
      "TRAIN\n"
     ]
    },
    {
     "data": {
      "text/plain": [
       "290      True\n",
       "48814    True\n",
       "46267    True\n",
       "73523    True\n",
       "76835    True\n",
       "Name: Таможня, dtype: bool"
      ]
     },
     "metadata": {},
     "output_type": "display_data"
    }
   ],
   "source": [
    "#Таможня\n",
    "column = 'Таможня'\n",
    "type_comparison(column)"
   ]
  },
  {
   "cell_type": "code",
   "execution_count": 59,
   "id": "f5f7eeaf",
   "metadata": {
    "ExecuteTime": {
     "end_time": "2022-04-05T10:46:34.721849Z",
     "start_time": "2022-04-05T10:46:34.706847Z"
    }
   },
   "outputs": [
    {
     "data": {
      "text/plain": [
       "array(['Растаможен'], dtype=object)"
      ]
     },
     "execution_count": 59,
     "metadata": {},
     "output_type": "execute_result"
    }
   ],
   "source": [
    "test_mod.Таможня.unique()"
   ]
  },
  {
   "cell_type": "code",
   "execution_count": 60,
   "id": "c06c9705",
   "metadata": {
    "ExecuteTime": {
     "end_time": "2022-04-05T10:46:34.737853Z",
     "start_time": "2022-04-05T10:46:34.722850Z"
    }
   },
   "outputs": [
    {
     "data": {
      "text/plain": [
       "array([ True])"
      ]
     },
     "execution_count": 60,
     "metadata": {},
     "output_type": "execute_result"
    }
   ],
   "source": [
    "train_mod.Таможня.unique()"
   ]
  },
  {
   "cell_type": "markdown",
   "id": "96ee20c1",
   "metadata": {},
   "source": [
    "В TRAIN и TEST во всех строках одинаковое значение, столбец ТАМОЖНЯ можно удалить."
   ]
  },
  {
   "cell_type": "markdown",
   "id": "e1a3ccc8",
   "metadata": {},
   "source": [
    "### Столбцы ТОЛЬКО TEST"
   ]
  },
  {
   "cell_type": "code",
   "execution_count": 61,
   "id": "fb9566d9",
   "metadata": {
    "ExecuteTime": {
     "end_time": "2022-04-05T10:46:34.817872Z",
     "start_time": "2022-04-05T10:46:34.738854Z"
    }
   },
   "outputs": [
    {
     "name": "stdout",
     "output_type": "stream",
     "text": [
      "<class 'pandas.core.frame.DataFrame'>\n",
      "Int64Index: 34686 entries, 0 to 34685\n",
      "Data columns (total 11 columns):\n",
      " #   Column              Non-Null Count  Dtype \n",
      "---  ------              --------------  ----- \n",
      " 0   sell_id             34686 non-null  int64 \n",
      " 1   vendor              34686 non-null  object\n",
      " 2   image               34686 non-null  object\n",
      " 3   priceCurrency       34686 non-null  object\n",
      " 4   model_info          34686 non-null  object\n",
      " 5   model_name          34686 non-null  object\n",
      " 6   car_url             34686 non-null  object\n",
      " 7   equipment_dict      24690 non-null  object\n",
      " 8   super_gen           34686 non-null  object\n",
      " 9   parsing_unixtime    34686 non-null  int64 \n",
      " 10  complectation_dict  6418 non-null   object\n",
      "dtypes: int64(2), object(9)\n",
      "memory usage: 3.2+ MB\n"
     ]
    },
    {
     "name": "stderr",
     "output_type": "stream",
     "text": [
      "C:\\Users\\zetet\\AppData\\Local\\Temp\\ipykernel_14240\\1526034085.py:1: FutureWarning: Passing a set as an indexer is deprecated and will raise in a future version. Use a list instead.\n",
      "  test_mod[test_only_columns].info()\n"
     ]
    }
   ],
   "source": [
    "test_mod[test_only_columns].info()"
   ]
  },
  {
   "cell_type": "code",
   "execution_count": 62,
   "id": "97b334e2",
   "metadata": {
    "ExecuteTime": {
     "end_time": "2022-04-05T10:46:34.833875Z",
     "start_time": "2022-04-05T10:46:34.818872Z"
    }
   },
   "outputs": [
    {
     "name": "stdout",
     "output_type": "stream",
     "text": [
      "equipment_dict - 29%\n"
     ]
    }
   ],
   "source": [
    "#equipment_dict\n",
    "#Процент пропусков\n",
    "col = 'equipment_dict'\n",
    "missing = np.mean(test_mod[col].isnull()) \n",
    "print('{} - {}%'.format(col, round(missing*100)))"
   ]
  },
  {
   "cell_type": "code",
   "execution_count": 63,
   "id": "e63be907",
   "metadata": {
    "ExecuteTime": {
     "end_time": "2022-04-05T10:46:34.849878Z",
     "start_time": "2022-04-05T10:46:34.834876Z"
    }
   },
   "outputs": [
    {
     "data": {
      "text/plain": [
       "27285    {\"cruise-control\":true,\"tinted-glass\":true,\"es...\n",
       "30838                                                  NaN\n",
       "19821                                                  NaN\n",
       "18937    {\"cruise-control\":true,\"tinted-glass\":true,\"es...\n",
       "10696    {\"engine-proof\":true,\"front-centre-armrest\":tr...\n",
       "Name: equipment_dict, dtype: object"
      ]
     },
     "execution_count": 63,
     "metadata": {},
     "output_type": "execute_result"
    }
   ],
   "source": [
    "test_mod.equipment_dict.sample(5)"
   ]
  },
  {
   "cell_type": "code",
   "execution_count": 64,
   "id": "8a1dd284",
   "metadata": {
    "ExecuteTime": {
     "end_time": "2022-04-05T10:46:34.865882Z",
     "start_time": "2022-04-05T10:46:34.850879Z"
    }
   },
   "outputs": [
    {
     "data": {
      "text/plain": [
       "'{\"engine-proof\":true,\"tinted-glass\":true,\"esp\":true,\"airbag-driver\":true,\"aux\":true,\"isofix\":true,\"usb\":true,\"electro-window-front\":true,\"hcc\":true,\"audiopreparation\":true,\"heated-wash-system\":true,\"ashtray-and-cigarette-lighter\":true,\"airbag-passenger\":true,\"computer\":true,\"seat-transformation\":true,\"wheel-power\":true,\"lock\":true,\"fabric-seats\":true,\"electro-mirrors\":true,\"steel-wheels\":true,\"rain-sensor\":true,\"airbag-side\":true,\"mirrors-heat\":true,\"driver-seat-updown\":true,\"condition\":true,\"led-lights\":true,\"abs\":true,\"front-seats-heat\":true,\"wheel-configuration1\":true,\"immo\":true,\"12v-socket\":true,\"15-inch-wheels\":true}'"
      ]
     },
     "execution_count": 64,
     "metadata": {},
     "output_type": "execute_result"
    }
   ],
   "source": [
    "test_mod.equipment_dict[938] # Ментор сказал выкинуть, кек"
   ]
  },
  {
   "cell_type": "markdown",
   "id": "a36d3396",
   "metadata": {},
   "source": [
    "Данные содержат описание комплектации, могут служить для извлечения дополнительных признаков."
   ]
  },
  {
   "cell_type": "code",
   "execution_count": 65,
   "id": "c538c1d9",
   "metadata": {
    "ExecuteTime": {
     "end_time": "2022-04-05T10:46:34.881885Z",
     "start_time": "2022-04-05T10:46:34.866883Z"
    }
   },
   "outputs": [
    {
     "data": {
      "text/plain": [
       "17947    {\"id\":\"20243371\",\"name\":\"200\",\"nameplate\":\"200...\n",
       "25635    {\"id\":\"4698283\",\"displacement\":1595,\"engine_ty...\n",
       "4751     {\"id\":\"21191720\",\"displacement\":3697,\"engine_t...\n",
       "17150    {\"id\":\"20092320\",\"name\":\"300\",\"nameplate\":\"300...\n",
       "27908    {\"id\":\"8297113\",\"displacement\":1997,\"engine_ty...\n",
       "Name: super_gen, dtype: object"
      ]
     },
     "execution_count": 65,
     "metadata": {},
     "output_type": "execute_result"
    }
   ],
   "source": [
    "#super_gen можно заменить пропуски\n",
    "test_mod.super_gen.sample(5)"
   ]
  },
  {
   "cell_type": "code",
   "execution_count": 66,
   "id": "4038250f",
   "metadata": {
    "ExecuteTime": {
     "end_time": "2022-04-05T10:46:34.897889Z",
     "start_time": "2022-04-05T10:46:34.882886Z"
    }
   },
   "outputs": [
    {
     "data": {
      "text/plain": [
       "'{\"id\":\"20105521\",\"displacement\":1598,\"engine_type\":\"GASOLINE\",\"gear_type\":\"FORWARD_CONTROL\",\"transmission\":\"AUTOMATIC\",\"power\":110,\"power_kvt\":81,\"human_name\":\"1.6 AT (110 л.с.)\",\"acceleration\":12.2,\"clearance_min\":155,\"fuel_rate\":6.7}'"
      ]
     },
     "execution_count": 66,
     "metadata": {},
     "output_type": "execute_result"
    }
   ],
   "source": [
    "test_mod.super_gen[938]"
   ]
  },
  {
   "cell_type": "markdown",
   "id": "d0d603ee",
   "metadata": {},
   "source": [
    "Данные частично дублируются с vehicleTransmission и engineDisplacement, также могут использоваться для извлечения дополнительных признаков."
   ]
  },
  {
   "cell_type": "code",
   "execution_count": 67,
   "id": "26ed3abe",
   "metadata": {
    "ExecuteTime": {
     "end_time": "2022-04-05T10:46:34.913893Z",
     "start_time": "2022-04-05T10:46:34.898890Z"
    }
   },
   "outputs": [
    {
     "data": {
      "text/plain": [
       "22662    {\"code\":\"GS\",\"name\":\"GS\",\"ru_name\":\"GS\",\"morph...\n",
       "27441    {\"code\":\"PAJERO\",\"name\":\"Pajero\",\"ru_name\":\"Па...\n",
       "3088     {\"code\":\"Q3\",\"name\":\"Q3\",\"ru_name\":\"Ку3\",\"morp...\n",
       "305      {\"code\":\"OCTAVIA\",\"name\":\"Octavia\",\"ru_name\":\"...\n",
       "11615    {\"code\":\"TEANA\",\"name\":\"Teana\",\"ru_name\":\"Тиан...\n",
       "Name: model_info, dtype: object"
      ]
     },
     "execution_count": 67,
     "metadata": {},
     "output_type": "execute_result"
    }
   ],
   "source": [
    "#model_info # Выкинуть\n",
    "test_mod.model_info.sample(5)"
   ]
  },
  {
   "cell_type": "code",
   "execution_count": 68,
   "id": "028072aa",
   "metadata": {
    "ExecuteTime": {
     "end_time": "2022-04-05T10:46:34.929896Z",
     "start_time": "2022-04-05T10:46:34.914894Z"
    }
   },
   "outputs": [
    {
     "data": {
      "text/plain": [
       "'{\"code\":\"OCTAVIA\",\"name\":\"Octavia\",\"ru_name\":\"Октавия\",\"morphology\":{\"gender\":\"FEMININE\"},\"nameplate\":{\"code\":\"\",\"name\":\"\",\"semantic_url\":\"\"}}'"
      ]
     },
     "execution_count": 68,
     "metadata": {},
     "output_type": "execute_result"
    }
   ],
   "source": [
    "test_mod.model_info[938]"
   ]
  },
  {
   "cell_type": "code",
   "execution_count": 69,
   "id": "8c122220",
   "metadata": {
    "ExecuteTime": {
     "end_time": "2022-04-05T10:46:34.945900Z",
     "start_time": "2022-04-05T10:46:34.930897Z"
    }
   },
   "outputs": [
    {
     "data": {
      "text/plain": [
       "'{\"code\":\"80\",\"name\":\"80\",\"ru_name\":\"80\",\"morphology\":{},\"nameplate\":{\"code\":\"\",\"name\":\"\",\"semantic_url\":\"\"}}'"
      ]
     },
     "execution_count": 69,
     "metadata": {},
     "output_type": "execute_result"
    }
   ],
   "source": [
    "test_mod.model_info[4469]"
   ]
  },
  {
   "cell_type": "code",
   "execution_count": 70,
   "id": "dd0ada64",
   "metadata": {
    "ExecuteTime": {
     "end_time": "2022-04-05T10:46:34.961903Z",
     "start_time": "2022-04-05T10:46:34.946901Z"
    }
   },
   "outputs": [
    {
     "data": {
      "text/plain": [
       "'{\"code\":\"A5\",\"name\":\"A5\",\"ru_name\":\"А5\",\"morphology\":{},\"nameplate\":{\"code\":\"\",\"name\":\"\",\"semantic_url\":\"\"}}'"
      ]
     },
     "execution_count": 70,
     "metadata": {},
     "output_type": "execute_result"
    }
   ],
   "source": [
    "test_mod.model_info[3495]"
   ]
  },
  {
   "cell_type": "markdown",
   "id": "21cb941e",
   "metadata": {
    "ExecuteTime": {
     "end_time": "2022-04-04T23:44:52.766392Z",
     "start_time": "2022-04-04T23:44:52.751389Z"
    }
   },
   "source": [
    "Столбец MODEL_INFO дублирует информацию BRAND, можно удалить."
   ]
  },
  {
   "cell_type": "code",
   "execution_count": 71,
   "id": "85a594e2",
   "metadata": {
    "ExecuteTime": {
     "end_time": "2022-04-05T10:46:34.977908Z",
     "start_time": "2022-04-05T10:46:34.962906Z"
    }
   },
   "outputs": [
    {
     "data": {
      "text/plain": [
       "1315     EUROPEAN\n",
       "32474    JAPANESE\n",
       "24803    EUROPEAN\n",
       "27887    JAPANESE\n",
       "19080    JAPANESE\n",
       "Name: vendor, dtype: object"
      ]
     },
     "execution_count": 71,
     "metadata": {},
     "output_type": "execute_result"
    }
   ],
   "source": [
    "#vendor\n",
    "test_mod.vendor.sample(5)"
   ]
  },
  {
   "cell_type": "code",
   "execution_count": 72,
   "id": "78de485b",
   "metadata": {
    "ExecuteTime": {
     "end_time": "2022-04-05T10:46:34.993911Z",
     "start_time": "2022-04-05T10:46:34.978908Z"
    }
   },
   "outputs": [
    {
     "data": {
      "text/plain": [
       "array(['EUROPEAN', 'JAPANESE'], dtype=object)"
      ]
     },
     "execution_count": 72,
     "metadata": {},
     "output_type": "execute_result"
    }
   ],
   "source": [
    "test_mod.vendor.unique()"
   ]
  },
  {
   "cell_type": "code",
   "execution_count": 73,
   "id": "529d260e",
   "metadata": {
    "ExecuteTime": {
     "end_time": "2022-04-05T10:46:35.009915Z",
     "start_time": "2022-04-05T10:46:34.994912Z"
    }
   },
   "outputs": [
    {
     "data": {
      "text/plain": [
       "array(['SKODA', 'AUDI', 'VOLVO', 'BMW', 'MERCEDES', 'VOLKSWAGEN'],\n",
       "      dtype=object)"
      ]
     },
     "execution_count": 73,
     "metadata": {},
     "output_type": "execute_result"
    }
   ],
   "source": [
    "test_mod[test_mod['vendor'] == 'EUROPEAN']['brand'].unique()"
   ]
  },
  {
   "cell_type": "code",
   "execution_count": 74,
   "id": "ab335128",
   "metadata": {
    "ExecuteTime": {
     "end_time": "2022-04-05T10:46:35.025919Z",
     "start_time": "2022-04-05T10:46:35.010916Z"
    }
   },
   "outputs": [
    {
     "data": {
      "text/plain": [
       "array(['HONDA', 'NISSAN', 'INFINITI', 'TOYOTA', 'LEXUS', 'MITSUBISHI'],\n",
       "      dtype=object)"
      ]
     },
     "execution_count": 74,
     "metadata": {},
     "output_type": "execute_result"
    }
   ],
   "source": [
    "test_mod[test_mod['vendor'] == 'JAPANESE']['brand'].unique()"
   ]
  },
  {
   "cell_type": "markdown",
   "id": "70d59465",
   "metadata": {},
   "source": [
    "Европейским брендам соответствует европейский вендор, японским - соответственный. Возможно, этот столбец является ключом для создания дополнительного признака - страна или концерн, производящий определенный бренд."
   ]
  },
  {
   "cell_type": "code",
   "execution_count": 75,
   "id": "210df93a",
   "metadata": {
    "ExecuteTime": {
     "end_time": "2022-04-05T10:46:35.041922Z",
     "start_time": "2022-04-05T10:46:35.026919Z"
    }
   },
   "outputs": [
    {
     "data": {
      "text/plain": [
       "9600     1099973940\n",
       "29245    1101358699\n",
       "10411    1094999686\n",
       "17074    1100817784\n",
       "3015     1100950724\n",
       "Name: sell_id, dtype: int64"
      ]
     },
     "execution_count": 75,
     "metadata": {},
     "output_type": "execute_result"
    }
   ],
   "source": [
    "#sell_id\n",
    "test_mod.sell_id.sample(5)"
   ]
  },
  {
   "cell_type": "markdown",
   "id": "b10f90d3",
   "metadata": {},
   "source": [
    "SELL_ID - неинформативный столбец, необходимо удалить."
   ]
  },
  {
   "cell_type": "code",
   "execution_count": 76,
   "id": "6bbcf201",
   "metadata": {
    "ExecuteTime": {
     "end_time": "2022-04-05T10:46:35.057925Z",
     "start_time": "2022-04-05T10:46:35.042922Z"
    },
    "scrolled": true
   },
   "outputs": [
    {
     "name": "stdout",
     "output_type": "stream",
     "text": [
      "complectation_dict - 81%\n"
     ]
    }
   ],
   "source": [
    "#complectation_dict\n",
    "#Процент пропусков\n",
    "col = 'complectation_dict'\n",
    "missing = np.mean(test_mod[col].isnull()) \n",
    "print('{} - {}%'.format(col, round(missing*100)))"
   ]
  },
  {
   "cell_type": "code",
   "execution_count": 77,
   "id": "cc9c2465",
   "metadata": {
    "ExecuteTime": {
     "end_time": "2022-04-05T10:46:35.073930Z",
     "start_time": "2022-04-05T10:46:35.058927Z"
    }
   },
   "outputs": [
    {
     "data": {
      "text/plain": [
       "0                                                   NaN\n",
       "1                                                   NaN\n",
       "2     {\"id\":\"20026336\",\"name\":\"Ambition\",\"available_...\n",
       "3     {\"id\":\"20803582\",\"name\":\"Ambition\",\"available_...\n",
       "4                                                   NaN\n",
       "5     {\"id\":\"5011515\",\"name\":\"RS\",\"available_options...\n",
       "6     {\"id\":\"20069264\",\"name\":\"Elegance\",\"available_...\n",
       "7                                                   NaN\n",
       "8                                                   NaN\n",
       "9                                                   NaN\n",
       "10                                                  NaN\n",
       "11                                                  NaN\n",
       "12                                                  NaN\n",
       "13                                                  NaN\n",
       "14                                                  NaN\n",
       "15                                                  NaN\n",
       "16    {\"id\":\"20913628\",\"name\":\"Style\",\"available_opt...\n",
       "17                                                  NaN\n",
       "18                                                  NaN\n",
       "19                                                  NaN\n",
       "Name: complectation_dict, dtype: object"
      ]
     },
     "execution_count": 77,
     "metadata": {},
     "output_type": "execute_result"
    }
   ],
   "source": [
    "test_mod.complectation_dict.head(20)"
   ]
  },
  {
   "cell_type": "markdown",
   "id": "bec111f4",
   "metadata": {},
   "source": [
    "В столбце COMPLECTATION_DICT большой процент пропусков, его нужно удалить."
   ]
  },
  {
   "cell_type": "code",
   "execution_count": 78,
   "id": "f2cc88f6",
   "metadata": {
    "ExecuteTime": {
     "end_time": "2022-04-05T10:46:35.089932Z",
     "start_time": "2022-04-05T10:46:35.074930Z"
    }
   },
   "outputs": [
    {
     "data": {
      "text/plain": [
       "30       1603226389\n",
       "9367     1603114854\n",
       "7833     1603108746\n",
       "20029    1603290215\n",
       "3910     1603127644\n",
       "Name: parsing_unixtime, dtype: int64"
      ]
     },
     "execution_count": 78,
     "metadata": {},
     "output_type": "execute_result"
    }
   ],
   "source": [
    "#parsing_unixtime\n",
    "test_mod.parsing_unixtime.sample(5)"
   ]
  },
  {
   "cell_type": "code",
   "execution_count": 79,
   "id": "dbdbedda",
   "metadata": {
    "ExecuteTime": {
     "end_time": "2022-04-05T10:46:35.105938Z",
     "start_time": "2022-04-05T10:46:35.090933Z"
    }
   },
   "outputs": [
    {
     "data": {
      "text/plain": [
       "17508    GLA_CLASS\n",
       "22973           NX\n",
       "24113     GOLF_GTI\n",
       "8977           1ER\n",
       "18089     M_KLASSE\n",
       "Name: model_name, dtype: object"
      ]
     },
     "execution_count": 79,
     "metadata": {},
     "output_type": "execute_result"
    }
   ],
   "source": [
    "#model_name\n",
    "test_mod.model_name.sample(5)"
   ]
  },
  {
   "cell_type": "markdown",
   "id": "1dfa6f0f",
   "metadata": {},
   "source": [
    "MODEL_NAME: Обозначение модели конкретного бренда, нужно уточнить корреспондирующую информацию в TRAIN."
   ]
  },
  {
   "cell_type": "code",
   "execution_count": 80,
   "id": "67507692",
   "metadata": {
    "ExecuteTime": {
     "end_time": "2022-04-05T10:46:35.121940Z",
     "start_time": "2022-04-05T10:46:35.106937Z"
    }
   },
   "outputs": [
    {
     "data": {
      "text/plain": [
       "27398    RUB\n",
       "4600     RUB\n",
       "23945    RUB\n",
       "32250    RUB\n",
       "4684     RUB\n",
       "Name: priceCurrency, dtype: object"
      ]
     },
     "execution_count": 80,
     "metadata": {},
     "output_type": "execute_result"
    }
   ],
   "source": [
    "#priceCurrency \n",
    "test_mod.priceCurrency.sample(5)"
   ]
  },
  {
   "cell_type": "code",
   "execution_count": 81,
   "id": "82266b03",
   "metadata": {
    "ExecuteTime": {
     "end_time": "2022-04-05T10:46:35.137943Z",
     "start_time": "2022-04-05T10:46:35.122941Z"
    }
   },
   "outputs": [
    {
     "data": {
      "text/plain": [
       "array(['RUB'], dtype=object)"
      ]
     },
     "execution_count": 81,
     "metadata": {},
     "output_type": "execute_result"
    }
   ],
   "source": [
    "test_mod.priceCurrency.unique()"
   ]
  },
  {
   "cell_type": "markdown",
   "id": "cb010e75",
   "metadata": {},
   "source": [
    "Во всех строках одно значение, столбец priceCurrency можно удалить."
   ]
  },
  {
   "cell_type": "code",
   "execution_count": 82,
   "id": "30e0697c",
   "metadata": {
    "ExecuteTime": {
     "end_time": "2022-04-05T10:46:35.153948Z",
     "start_time": "2022-04-05T10:46:35.147945Z"
    }
   },
   "outputs": [
    {
     "data": {
      "text/plain": [
       "11972    https://autoru.naydex.net/G87gDZg56/28c7a8vqVE...\n",
       "16911    https://avatars.mds.yandex.net/get-autoru-vos/...\n",
       "23281    https://avatars.mds.yandex.net/get-autoru-vos/...\n",
       "20340    https://autoru.naydex.net/LxPU17803/f5b8d77S/u...\n",
       "2511     https://autoru.naydex.net/ys1kR7800/fbd964zfcB...\n",
       "Name: image, dtype: object"
      ]
     },
     "execution_count": 82,
     "metadata": {},
     "output_type": "execute_result"
    }
   ],
   "source": [
    "#image\n",
    "test_mod.image.sample(5)"
   ]
  },
  {
   "cell_type": "markdown",
   "id": "409eaadd",
   "metadata": {},
   "source": [
    "Ссылки на недоступные фото товаров, не работают, столбец IMAGE можно удалить."
   ]
  },
  {
   "cell_type": "code",
   "execution_count": 83,
   "id": "a3504cd9",
   "metadata": {
    "ExecuteTime": {
     "end_time": "2022-04-05T10:46:35.169951Z",
     "start_time": "2022-04-05T10:46:35.154948Z"
    }
   },
   "outputs": [
    {
     "data": {
      "text/plain": [
       "26695    https://auto.ru/cars/used/sale/volkswagen/jett...\n",
       "31822    https://auto.ru/cars/used/sale/mercedes/c_klas...\n",
       "34066    https://auto.ru/cars/used/sale/skoda/fabia/110...\n",
       "21828    https://auto.ru/cars/used/sale/toyota/rav_4/10...\n",
       "19256    https://auto.ru/cars/used/sale/toyota/land_cru...\n",
       "Name: car_url, dtype: object"
      ]
     },
     "execution_count": 83,
     "metadata": {},
     "output_type": "execute_result"
    }
   ],
   "source": [
    "#car_url\n",
    "test_mod.car_url.sample(5)"
   ]
  },
  {
   "cell_type": "markdown",
   "id": "2820fb3f",
   "metadata": {},
   "source": [
    "Ссылки на недоступные объявления, не работают, столбец CAR_URL можно удалить."
   ]
  },
  {
   "cell_type": "markdown",
   "id": "f1dfec69",
   "metadata": {},
   "source": [
    "### Столбцы ТОЛЬКО TRAIN"
   ]
  },
  {
   "cell_type": "code",
   "execution_count": 84,
   "id": "bb8cbe38",
   "metadata": {
    "ExecuteTime": {
     "end_time": "2022-04-05T10:46:35.217962Z",
     "start_time": "2022-04-05T10:46:35.170952Z"
    }
   },
   "outputs": [
    {
     "name": "stdout",
     "output_type": "stream",
     "text": [
      "<class 'pandas.core.frame.DataFrame'>\n",
      "Int64Index: 47662 entries, 0 to 88660\n",
      "Data columns (total 5 columns):\n",
      " #   Column        Non-Null Count  Dtype  \n",
      "---  ------        --------------  -----  \n",
      " 0   start_date    47662 non-null  object \n",
      " 1   price         47454 non-null  float64\n",
      " 2   hidden        0 non-null      float64\n",
      " 3   model         47662 non-null  object \n",
      " 4   Комплектация  47662 non-null  object \n",
      "dtypes: float64(2), object(3)\n",
      "memory usage: 2.2+ MB\n"
     ]
    },
    {
     "name": "stderr",
     "output_type": "stream",
     "text": [
      "C:\\Users\\zetet\\AppData\\Local\\Temp\\ipykernel_14240\\2215295339.py:1: FutureWarning: Passing a set as an indexer is deprecated and will raise in a future version. Use a list instead.\n",
      "  train_mod[train_only_columns].info()\n"
     ]
    }
   ],
   "source": [
    "train_mod[train_only_columns].info()"
   ]
  },
  {
   "cell_type": "markdown",
   "id": "4d0bb266",
   "metadata": {},
   "source": [
    "#hidden\n",
    "Столбец со всеми нулевыми значениями, можно удалить."
   ]
  },
  {
   "cell_type": "code",
   "execution_count": 85,
   "id": "4aa17cf1",
   "metadata": {
    "ExecuteTime": {
     "end_time": "2022-04-05T10:46:35.233965Z",
     "start_time": "2022-04-05T10:46:35.218962Z"
    }
   },
   "outputs": [
    {
     "data": {
      "text/plain": [
       "73605            POLO\n",
       "71884          PASSAT\n",
       "39277              RX\n",
       "82583        E_KLASSE\n",
       "45867    PAJERO_SPORT\n",
       "Name: model, dtype: object"
      ]
     },
     "execution_count": 85,
     "metadata": {},
     "output_type": "execute_result"
    }
   ],
   "source": [
    "#model\n",
    "train_mod.model.sample(5)"
   ]
  },
  {
   "cell_type": "markdown",
   "id": "ed91fa0e",
   "metadata": {},
   "source": [
    "Столбец MODEL из TRAIN соответствует столбцу MODEL_NAME из TEST, необходимо дать единое название."
   ]
  },
  {
   "cell_type": "code",
   "execution_count": 86,
   "id": "ba2ea37b",
   "metadata": {
    "ExecuteTime": {
     "end_time": "2022-04-05T10:46:35.249970Z",
     "start_time": "2022-04-05T10:46:35.234966Z"
    }
   },
   "outputs": [],
   "source": [
    "train_mod = train_mod.rename(columns = {'model': 'model_name'})"
   ]
  },
  {
   "cell_type": "code",
   "execution_count": 87,
   "id": "b0a5521f",
   "metadata": {
    "ExecuteTime": {
     "end_time": "2022-04-05T10:46:35.265974Z",
     "start_time": "2022-04-05T10:46:35.252970Z"
    }
   },
   "outputs": [
    {
     "name": "stdout",
     "output_type": "stream",
     "text": [
      "TEST\n"
     ]
    },
    {
     "data": {
      "text/plain": [
       "18975           RAV_4\n",
       "23379          PASSAT\n",
       "30182              A5\n",
       "15700    E_KLASSE_AMG\n",
       "30698           JETTA\n",
       "Name: model_name, dtype: object"
      ]
     },
     "metadata": {},
     "output_type": "display_data"
    },
    {
     "name": "stdout",
     "output_type": "stream",
     "text": [
      "TRAIN\n"
     ]
    },
    {
     "data": {
      "text/plain": [
       "84936    GLC_COUPE\n",
       "60884      OCTAVIA\n",
       "70197         GOLF\n",
       "10828           X6\n",
       "42432         COLT\n",
       "Name: model_name, dtype: object"
      ]
     },
     "metadata": {},
     "output_type": "display_data"
    }
   ],
   "source": [
    "#Сравним формат и содержание в TRAIN и TEST\n",
    "#model_name\n",
    "column = 'model_name'\n",
    "type_comparison(column)"
   ]
  },
  {
   "cell_type": "code",
   "execution_count": 88,
   "id": "aead58bf",
   "metadata": {
    "ExecuteTime": {
     "end_time": "2022-04-05T10:46:35.281976Z",
     "start_time": "2022-04-05T10:46:35.266974Z"
    }
   },
   "outputs": [
    {
     "data": {
      "text/plain": [
       "24735                                          {'id': '0'}\n",
       "71912    {'id': '2335146', 'name': 'Highline', 'availab...\n",
       "68167    {'id': '20767211', 'name': 'Комфорт', 'availab...\n",
       "61416                                          {'id': '0'}\n",
       "88251    {'id': '21382559', 'name': 'AMG V220 d длинный...\n",
       "Name: Комплектация, dtype: object"
      ]
     },
     "execution_count": 88,
     "metadata": {},
     "output_type": "execute_result"
    }
   ],
   "source": [
    "#Комплектация\n",
    "train_mod.Комплектация.sample(5)"
   ]
  },
  {
   "cell_type": "code",
   "execution_count": 89,
   "id": "7527d302",
   "metadata": {
    "ExecuteTime": {
     "end_time": "2022-04-05T10:46:35.297979Z",
     "start_time": "2022-04-05T10:46:35.282977Z"
    }
   },
   "outputs": [
    {
     "data": {
      "text/plain": [
       "\"{'id': '21678548', 'name': 'Комфорт', 'available_options': ['cruise-control', 'multi-wheel', 'heated-wash-system', 'airbag-passenger', 'roof-rails', 'bas', 'lock', 'electro-mirrors', 'mirrors-heat', 'glonass', 'automatic-lighting-control', 'computer', 'seat-transformation', 'wheel-power', 'light-cleaner', 'fabric-seats', 'airbag-side', 'electro-trunk', 'abs', 'wheel-leather', 'climate-control-2', 'auto-mirrors', 'asr', 'tinted-glass', 'esp', 'usb', 'audiopreparation', 'front-centre-armrest', 'rear-camera', 'electro-window-back', '18-inch-wheels', 'reduce-spare-wheel', 'body-mouldings', 'driver-seat-updown', 'wheel-heat', 'led-lights', 'park-assist-r', 'knee-airbag', 'airbag-driver', 'isofix', 'aux', 'drive-mode-sys', 'electro-window-front', 'light-sensor', 'hcc', 'airbag-curtain', 'keyless-entry', 'alarm', 'leather-gear-stick', 'start-button', 'ptf', 'rain-sensor', 'tyre-pressure', 'front-seats-heat', 'bluetooth', 'wheel-configuration2', 'wheel-configuration1', 'immo', 'windscreen-heat', '12v-socket', 'third-rear-headrest'], 'vendor_colors': [{'body_color_id': 21678630, 'mark_color_id': 21391185, 'name_ru': 'Белый', 'hex_codes': ['FAFAFA'], 'color_type': 'NOT_METALLIC', 'stock_color': {'hex_code': 'FAFBFB', 'name_ru': 'белый'}, 'photos': [{'name': '34-front', 'sizes': {'orig': '//avatars.mds.yandex.net/get-verba/1540742/2a0000016d8bdffaf53d7b1dfeced506b919/orig', 'wizardv3mr': '//avatars.mds.yandex.net/get-verba/1540742/2a0000016d8bdffaf53d7b1dfeced506b919/wizardv3mr', 'wizardv3': '//avatars.mds.yandex.net/get-verba/1540742/2a0000016d8bdffaf53d7b1dfeced506b919/wizardv3', 'cattouch': '//avatars.mds.yandex.net/get-verba/1540742/2a0000016d8bdffaf53d7b1dfeced506b919/cattouch', 'small': '//avatars.mds.yandex.net/get-verba/1540742/2a0000016d8bdffaf53d7b1dfeced506b919/small', '320x240': '//avatars.mds.yandex.net/get-verba/1540742/2a0000016d8bdffaf53d7b1dfeced506b919/320x240', '1200x900': '//avatars.mds.yandex.net/get-verba/1540742/2a0000016d8bdffaf53d7b1dfeced506b919/1200x900', '1200x900n': '//avatars.mds.yandex.net/get-verba/1540742/2a0000016d8bdffaf53d7b1dfeced506b919/1200x900n', 'thumb_m': '//avatars.mds.yandex.net/get-verba/1540742/2a0000016d8bdffaf53d7b1dfeced506b919/thumb_m', 'full': '//avatars.mds.yandex.net/get-verba/1540742/2a0000016d8bdffaf53d7b1dfeced506b919/full', '832x624': '//avatars.mds.yandex.net/get-verba/1540742/2a0000016d8bdffaf53d7b1dfeced506b919/832x624', '456x342': '//avatars.mds.yandex.net/get-verba/1540742/2a0000016d8bdffaf53d7b1dfeced506b919/456x342', '120x90': '//avatars.mds.yandex.net/get-verba/1540742/2a0000016d8bdffaf53d7b1dfeced506b919/120x90', '92x69': '//avatars.mds.yandex.net/get-verba/1540742/2a0000016d8bdffaf53d7b1dfeced506b919/92x69', 'islandoff': '//avatars.mds.yandex.net/get-verba/1540742/2a0000016d8bdffaf53d7b1dfeced506b919/islandoff', 'thumb_s': '//avatars.mds.yandex.net/get-verba/1540742/2a0000016d8bdffaf53d7b1dfeced506b919/thumb_s', 'thumb_s_2x': '//avatars.mds.yandex.net/get-verba/1540742/2a0000016d8bdffaf53d7b1dfeced506b919/thumb_s_2x'}}, {'name': '34-back', 'sizes': {'orig': '//avatars.mds.yandex.net/get-verba/1540742/2a0000016d8be007db8b6e3556c7d7665608/orig', 'wizardv3mr': '//avatars.mds.yandex.net/get-verba/1540742/2a0000016d8be007db8b6e3556c7d7665608/wizardv3mr', 'wizardv3': '//avatars.mds.yandex.net/get-verba/1540742/2a0000016d8be007db8b6e3556c7d7665608/wizardv3', 'cattouch': '//avatars.mds.yandex.net/get-verba/1540742/2a0000016d8be007db8b6e3556c7d7665608/cattouch', 'small': '//avatars.mds.yandex.net/get-verba/1540742/2a0000016d8be007db8b6e3556c7d7665608/small', '320x240': '//avatars.mds.yandex.net/get-verba/1540742/2a0000016d8be007db8b6e3556c7d7665608/320x240', '1200x900': '//avatars.mds.yandex.net/get-verba/1540742/2a0000016d8be007db8b6e3556c7d7665608/1200x900', '1200x900n': '//avatars.mds.yandex.net/get-verba/1540742/2a0000016d8be007db8b6e3556c7d7665608/1200x900n', 'thumb_m': '//avatars.mds.yandex.net/get-verba/1540742/2a0000016d8be007db8b6e3556c7d7665608/thumb_m', 'full': '//avatars.mds.yandex.net/get-verba/1540742/2a0000016d8be007db8b6e3556c7d7665608/full', '832x624': '//avatars.mds.yandex.net/get-verba/1540742/2a0000016d8be007db8b6e3556c7d7665608/832x624', '456x342': '//avatars.mds.yandex.net/get-verba/1540742/2a0000016d8be007db8b6e3556c7d7665608/456x342', '120x90': '//avatars.mds.yandex.net/get-verba/1540742/2a0000016d8be007db8b6e3556c7d7665608/120x90', '92x69': '//avatars.mds.yandex.net/get-verba/1540742/2a0000016d8be007db8b6e3556c7d7665608/92x69', 'islandoff': '//avatars.mds.yandex.net/get-verba/1540742/2a0000016d8be007db8b6e3556c7d7665608/islandoff', 'thumb_s': '//avatars.mds.yandex.net/get-verba/1540742/2a0000016d8be007db8b6e3556c7d7665608/thumb_s', 'thumb_s_2x': '//avatars.mds.yandex.net/get-verba/1540742/2a0000016d8be007db8b6e3556c7d7665608/thumb_s_2x'}}, {'name': 'side', 'sizes': {'orig': '//avatars.mds.yandex.net/get-verba/1030388/2a0000016d8be01a869b95822db0065d05cf/orig', 'wizardv3mr': '//avatars.mds.yandex.net/get-verba/1030388/2a0000016d8be01a869b95822db0065d05cf/wizardv3mr', 'wizardv3': '//avatars.mds.yandex.net/get-verba/1030388/2a0000016d8be01a869b95822db0065d05cf/wizardv3', 'cattouch': '//avatars.mds.yandex.net/get-verba/1030388/2a0000016d8be01a869b95822db0065d05cf/cattouch', 'small': '//avatars.mds.yandex.net/get-verba/1030388/2a0000016d8be01a869b95822db0065d05cf/small', '320x240': '//avatars.mds.yandex.net/get-verba/1030388/2a0000016d8be01a869b95822db0065d05cf/320x240', '1200x900': '//avatars.mds.yandex.net/get-verba/1030388/2a0000016d8be01a869b95822db0065d05cf/1200x900', '1200x900n': '//avatars.mds.yandex.net/get-verba/1030388/2a0000016d8be01a869b95822db0065d05cf/1200x900n', 'thumb_m': '//avatars.mds.yandex.net/get-verba/1030388/2a0000016d8be01a869b95822db0065d05cf/thumb_m', 'full': '//avatars.mds.yandex.net/get-verba/1030388/2a0000016d8be01a869b95822db0065d05cf/full', '832x624': '//avatars.mds.yandex.net/get-verba/1030388/2a0000016d8be01a869b95822db0065d05cf/832x624', '456x342': '//avatars.mds.yandex.net/get-verba/1030388/2a0000016d8be01a869b95822db0065d05cf/456x342', '120x90': '//avatars.mds.yandex.net/get-verba/1030388/2a0000016d8be01a869b95822db0065d05cf/120x90', '92x69': '//avatars.mds.yandex.net/get-verba/1030388/2a0000016d8be01a869b95822db0065d05cf/92x69', 'islandoff': '//avatars.mds.yandex.net/get-verba/1030388/2a0000016d8be01a869b95822db0065d05cf/islandoff', 'thumb_s': '//avatars.mds.yandex.net/get-verba/1030388/2a0000016d8be01a869b95822db0065d05cf/thumb_s', 'thumb_s_2x': '//avatars.mds.yandex.net/get-verba/1030388/2a0000016d8be01a869b95822db0065d05cf/thumb_s_2x'}}, {'name': 'front', 'sizes': {'orig': '//avatars.mds.yandex.net/get-verba/787013/2a0000016d8be026808abfeae8aa0bc5b746/orig', 'wizardv3mr': '//avatars.mds.yandex.net/get-verba/787013/2a0000016d8be026808abfeae8aa0bc5b746/wizardv3mr', 'wizardv3': '//avatars.mds.yandex.net/get-verba/787013/2a0000016d8be026808abfeae8aa0bc5b746/wizardv3', 'cattouch': '//avatars.mds.yandex.net/get-verba/787013/2a0000016d8be026808abfeae8aa0bc5b746/cattouch', 'small': '//avatars.mds.yandex.net/get-verba/787013/2a0000016d8be026808abfeae8aa0bc5b746/small', '320x240': '//avatars.mds.yandex.net/get-verba/787013/2a0000016d8be026808abfeae8aa0bc5b746/320x240', '1200x900': '//avatars.mds.yandex.net/get-verba/787013/2a0000016d8be026808abfeae8aa0bc5b746/1200x900', '1200x900n': '//avatars.mds.yandex.net/get-verba/787013/2a0000016d8be026808abfeae8aa0bc5b746/1200x900n', 'thumb_m': '//avatars.mds.yandex.net/get-verba/787013/2a0000016d8be026808abfeae8aa0bc5b746/thumb_m', 'full': '//avatars.mds.yandex.net/get-verba/787013/2a0000016d8be026808abfeae8aa0bc5b746/full', '832x624': '//avatars.mds.yandex.net/get-verba/787013/2a0000016d8be026808abfeae8aa0bc5b746/832x624', '456x342': '//avatars.mds.yandex.net/get-verba/787013/2a0000016d8be026808abfeae8aa0bc5b746/456x342', '120x90': '//avatars.mds.yandex.net/get-verba/787013/2a0000016d8be026808abfeae8aa0bc5b746/120x90', '92x69': '//avatars.mds.yandex.net/get-verba/787013/2a0000016d8be026808abfeae8aa0bc5b746/92x69', 'islandoff': '//avatars.mds.yandex.net/get-verba/787013/2a0000016d8be026808abfeae8aa0bc5b746/islandoff', 'thumb_s': '//avatars.mds.yandex.net/get-verba/787013/2a0000016d8be026808abfeae8aa0bc5b746/thumb_s', 'thumb_s_2x': '//avatars.mds.yandex.net/get-verba/787013/2a0000016d8be026808abfeae8aa0bc5b746/thumb_s_2x'}}, {'name': 'back', 'sizes': {'orig': '//avatars.mds.yandex.net/get-verba/1030388/2a0000016d8be03745ab3ccb2b30d2939c9f/orig', 'wizardv3mr': '//avatars.mds.yandex.net/get-verba/1030388/2a0000016d8be03745ab3ccb2b30d2939c9f/wizardv3mr', 'wizardv3': '//avatars.mds.yandex.net/get-verba/1030388/2a0000016d8be03745ab3ccb2b30d2939c9f/wizardv3', 'cattouch': '//avatars.mds.yandex.net/get-verba/1030388/2a0000016d8be03745ab3ccb2b30d2939c9f/cattouch', 'small': '//avatars.mds.yandex.net/get-verba/1030388/2a0000016d8be03745ab3ccb2b30d2939c9f/small', '320x240': '//avatars.mds.yandex.net/get-verba/1030388/2a0000016d8be03745ab3ccb2b30d2939c9f/320x240', '1200x900': '//avatars.mds.yandex.net/get-verba/1030388/2a0000016d8be03745ab3ccb2b30d2939c9f/1200x900', '1200x900n': '//avatars.mds.yandex.net/get-verba/1030388/2a0000016d8be03745ab3ccb2b30d2939c9f/1200x900n', 'thumb_m': '//avatars.mds.yandex.net/get-verba/1030388/2a0000016d8be03745ab3ccb2b30d2939c9f/thumb_m', 'full': '//avatars.mds.yandex.net/get-verba/1030388/2a0000016d8be03745ab3ccb2b30d2939c9f/full', '832x624': '//avatars.mds.yandex.net/get-verba/1030388/2a0000016d8be03745ab3ccb2b30d2939c9f/832x624', '456x342': '//avatars.mds.yandex.net/get-verba/1030388/2a0000016d8be03745ab3ccb2b30d2939c9f/456x342', '120x90': '//avatars.mds.yandex.net/get-verba/1030388/2a0000016d8be03745ab3ccb2b30d2939c9f/120x90', '92x69': '//avatars.mds.yandex.net/get-verba/1030388/2a0000016d8be03745ab3ccb2b30d2939c9f/92x69', 'islandoff': '//avatars.mds.yandex.net/get-verba/1030388/2a0000016d8be03745ab3ccb2b30d2939c9f/islandoff', 'thumb_s': '//avatars.mds.yandex.net/get-verba/1030388/2a0000016d8be03745ab3ccb2b30d2939c9f/thumb_s', 'thumb_s_2x': '//avatars.mds.yandex.net/get-verba/1030388/2a0000016d8be03745ab3ccb2b30d2939c9f/thumb_s_2x'}}], 'main_color': True}]}\""
      ]
     },
     "execution_count": 89,
     "metadata": {},
     "output_type": "execute_result"
    }
   ],
   "source": [
    "train_mod.Комплектация[68967]"
   ]
  },
  {
   "cell_type": "code",
   "execution_count": 90,
   "id": "34b85123",
   "metadata": {
    "ExecuteTime": {
     "end_time": "2022-04-05T10:46:35.313983Z",
     "start_time": "2022-04-05T10:46:35.298980Z"
    }
   },
   "outputs": [
    {
     "data": {
      "text/plain": [
       "\"{'id': '0'}\""
      ]
     },
     "execution_count": 90,
     "metadata": {},
     "output_type": "execute_result"
    }
   ],
   "source": [
    "train_mod.Комплектация[24653]"
   ]
  },
  {
   "cell_type": "markdown",
   "id": "317d2147",
   "metadata": {},
   "source": [
    "По содержанию данные частично совпадают с COMPLECTATION_DICT из TEST, все строки непустые, но при значении {'id': '0'} содержания фактически нет.\n"
   ]
  },
  {
   "cell_type": "code",
   "execution_count": 91,
   "id": "17d269d7",
   "metadata": {
    "ExecuteTime": {
     "end_time": "2022-04-05T10:46:35.329987Z",
     "start_time": "2022-04-05T10:46:35.314984Z"
    }
   },
   "outputs": [
    {
     "name": "stdout",
     "output_type": "stream",
     "text": [
      "63 %\n"
     ]
    }
   ],
   "source": [
    "#Процент пропусков в Комплектации\n",
    "missing = len(train_mod[train_mod['Комплектация'] == \"{'id': '0'}\"]['Комплектация'])\n",
    "total_missing = (missing/len(train_mod)*100)\n",
    "print(round(total_missing),'%')"
   ]
  },
  {
   "cell_type": "markdown",
   "id": "0345d18d",
   "metadata": {},
   "source": [
    "В TRAIN в КОМПЛЕКТАЦИИ отсутствует более 60% данных. По этой причине столбец КОМПЛЕКТАЦИЯ можно удалить."
   ]
  },
  {
   "cell_type": "code",
   "execution_count": 92,
   "id": "a3494d2e",
   "metadata": {
    "ExecuteTime": {
     "end_time": "2022-04-05T10:46:35.345990Z",
     "start_time": "2022-04-05T10:46:35.330987Z"
    }
   },
   "outputs": [
    {
     "data": {
      "text/plain": [
       "78313    2020-09-07T12:19:04Z\n",
       "7960     2020-08-28T14:49:01Z\n",
       "51575    2020-02-24T08:59:05Z\n",
       "8734     2020-03-16T16:46:55Z\n",
       "76578    2019-10-03T05:23:13Z\n",
       "Name: start_date, dtype: object"
      ]
     },
     "execution_count": 92,
     "metadata": {},
     "output_type": "execute_result"
    }
   ],
   "source": [
    "#start_date\n",
    "train_mod.start_date.sample(5)"
   ]
  },
  {
   "cell_type": "code",
   "execution_count": null,
   "id": "3ee25d60",
   "metadata": {},
   "outputs": [],
   "source": []
  },
  {
   "cell_type": "code",
   "execution_count": 100,
   "id": "da38d01b",
   "metadata": {
    "ExecuteTime": {
     "end_time": "2022-04-05T11:16:05.924510Z",
     "start_time": "2022-04-05T11:16:05.017741Z"
    }
   },
   "outputs": [
    {
     "name": "stdout",
     "output_type": "stream",
     "text": [
      "Stored 'train_mod' (DataFrame)\n",
      "Stored 'test_mod' (DataFrame)\n"
     ]
    }
   ],
   "source": [
    "# Делюсь датой с другими ноутбуками\n",
    "%store train_mod \n",
    "%store test_mod\n",
    "\n",
    "# `%store -r train_mod` создаст переменную тренеровочного датасета в любом ноутбуке"
   ]
  },
  {
   "cell_type": "markdown",
   "id": "7d075cc1",
   "metadata": {},
   "source": [
    "# Модели\n",
    "\n",
    "\n",
    "Были опробованны модели:\n",
    "- [Logistic regression](./secondary_notebooks/linear_regression.ipynb) \n",
    "- Desicion tree\n",
    "- DBSCAN\n",
    "- ..."
   ]
  },
  {
   "cell_type": "code",
   "execution_count": 104,
   "id": "cfbf029e",
   "metadata": {
    "ExecuteTime": {
     "end_time": "2022-04-05T12:10:15.241792Z",
     "start_time": "2022-04-05T12:10:15.221788Z"
    }
   },
   "outputs": [
    {
     "data": {
      "application/vnd.jupyter.widget-view+json": {
       "model_id": "14a233b217e046ffa6e35153ed8a4c64",
       "version_major": 2,
       "version_minor": 0
      },
      "text/plain": [
       "Button(button_style='success', description='Я линейная!', style=ButtonStyle())"
      ]
     },
     "metadata": {},
     "output_type": "display_data"
    },
    {
     "name": "stderr",
     "output_type": "stream",
     "text": [
      "C:\\Users\\zetet\\AppData\\Local\\Programs\\Python\\Python310\\lib\\site-packages\\sklearn\\linear_model\\_logistic.py:814: ConvergenceWarning: lbfgs failed to converge (status=1):\n",
      "STOP: TOTAL NO. of ITERATIONS REACHED LIMIT.\n",
      "\n",
      "Increase the number of iterations (max_iter) or scale the data as shown in:\n",
      "    https://scikit-learn.org/stable/modules/preprocessing.html\n",
      "Please also refer to the documentation for alternative solver options:\n",
      "    https://scikit-learn.org/stable/modules/linear_model.html#logistic-regression\n",
      "  n_iter_i = _check_optimize_result(\n"
     ]
    },
    {
     "name": "stdout",
     "output_type": "stream",
     "text": [
      "0.6045385103717683 - В среднем во сколько раз значение таргета больше или меньше предсказания\n"
     ]
    }
   ],
   "source": [
    "'''Если нажать - через три минуты покажется результат \"лучшей модели\"   '''\n",
    "\n",
    "from IPython.display import display\n",
    "from ipywidgets import Button \n",
    "\n",
    "# Создаем кнопку с нужными параметрами\n",
    "button1 = Button(description=\"Я линейная!\", \n",
    "                        button_style='success'  )\n",
    "\n",
    "def on_button_clicked(b): # Описываем обработчик события\n",
    "    %run ./secondary_notebooks/linear_regression.ipynb\n",
    "button1.on_click(on_button_clicked) # Назначаем этот обработчик на событие \"on_click\"\n",
    "\n",
    "display(button1) # Отображаем кнопку "
   ]
  },
  {
   "cell_type": "code",
   "execution_count": 93,
   "id": "4cc57ca9",
   "metadata": {
    "ExecuteTime": {
     "end_time": "2022-04-05T10:46:35.361994Z",
     "start_time": "2022-04-05T10:46:35.346992Z"
    }
   },
   "outputs": [],
   "source": [
    "pd.set_option('display.max_columns', None)"
   ]
  },
  {
   "cell_type": "code",
   "execution_count": 94,
   "id": "0ea9fd24",
   "metadata": {
    "ExecuteTime": {
     "end_time": "2022-04-05T10:46:35.377998Z",
     "start_time": "2022-04-05T10:46:35.362995Z"
    }
   },
   "outputs": [
    {
     "ename": "SyntaxError",
     "evalue": "invalid syntax (471746404.py, line 1)",
     "output_type": "error",
     "traceback": [
      "\u001b[1;36m  Input \u001b[1;32mIn [94]\u001b[1;36m\u001b[0m\n\u001b[1;33m    train_mod.[model_name.value_counts()]\u001b[0m\n\u001b[1;37m              ^\u001b[0m\n\u001b[1;31mSyntaxError\u001b[0m\u001b[1;31m:\u001b[0m invalid syntax\n"
     ]
    }
   ],
   "source": [
    "train_mod.[model_name.value_counts()]"
   ]
  },
  {
   "cell_type": "code",
   "execution_count": null,
   "id": "20bcc4b8",
   "metadata": {
    "ExecuteTime": {
     "end_time": "2022-04-05T10:46:35.400004Z",
     "start_time": "2022-04-05T10:46:35.400004Z"
    }
   },
   "outputs": [],
   "source": [
    "train_mod.drop(['Таможня'], axis='columns')"
   ]
  },
  {
   "cell_type": "code",
   "execution_count": null,
   "id": "733a068a",
   "metadata": {
    "ExecuteTime": {
     "end_time": "2022-04-05T10:46:35.401004Z",
     "start_time": "2022-04-05T10:46:35.401004Z"
    }
   },
   "outputs": [],
   "source": [
    "train_mod.head()"
   ]
  },
  {
   "cell_type": "code",
   "execution_count": null,
   "id": "dac097e4",
   "metadata": {
    "ExecuteTime": {
     "end_time": "2022-04-05T10:46:35.402004Z",
     "start_time": "2022-04-05T10:46:35.402004Z"
    }
   },
   "outputs": [],
   "source": [
    "from sklearn import tree                             # Дабы достать дерево\n",
    "from sklearn.model_selection import train_test_split # Дабы разделить "
   ]
  },
  {
   "cell_type": "code",
   "execution_count": null,
   "id": "8c126c0b",
   "metadata": {},
   "outputs": [],
   "source": []
  },
  {
   "cell_type": "code",
   "execution_count": null,
   "id": "e4d7a440",
   "metadata": {
    "ExecuteTime": {
     "end_time": "2022-04-05T10:46:35.403004Z",
     "start_time": "2022-04-05T10:46:35.403004Z"
    }
   },
   "outputs": [],
   "source": [
    "X_train, y_train, X_target, y_target = train_test_split(\n",
    "    train, target, test_size=0.2, random_state=random_state)# делим"
   ]
  }
 ],
 "metadata": {
  "kernelspec": {
   "display_name": "Python 3 (ipykernel)",
   "language": "python",
   "name": "python3"
  },
  "language_info": {
   "codemirror_mode": {
    "name": "ipython",
    "version": 3
   },
   "file_extension": ".py",
   "mimetype": "text/x-python",
   "name": "python",
   "nbconvert_exporter": "python",
   "pygments_lexer": "ipython3",
   "version": "3.10.2"
  },
  "latex_envs": {
   "LaTeX_envs_menu_present": true,
   "autoclose": false,
   "autocomplete": true,
   "bibliofile": "biblio.bib",
   "cite_by": "apalike",
   "current_citInitial": 1,
   "eqLabelWithNumbers": true,
   "eqNumInitial": 1,
   "hotkeys": {
    "equation": "Ctrl-E",
    "itemize": "Ctrl-I"
   },
   "labels_anchors": false,
   "latex_user_defs": false,
   "report_style_numbering": false,
   "user_envs_cfg": false
  },
  "toc": {
   "base_numbering": 1,
   "nav_menu": {},
   "number_sections": true,
   "sideBar": true,
   "skip_h1_title": false,
   "title_cell": "Table of Contents",
   "title_sidebar": "Contents",
   "toc_cell": false,
   "toc_position": {},
   "toc_section_display": true,
   "toc_window_display": false
  },
  "varInspector": {
   "cols": {
    "lenName": 16,
    "lenType": 16,
    "lenVar": 40
   },
   "kernels_config": {
    "python": {
     "delete_cmd_postfix": "",
     "delete_cmd_prefix": "del ",
     "library": "var_list.py",
     "varRefreshCmd": "print(var_dic_list())"
    },
    "r": {
     "delete_cmd_postfix": ") ",
     "delete_cmd_prefix": "rm(",
     "library": "var_list.r",
     "varRefreshCmd": "cat(var_dic_list()) "
    }
   },
   "types_to_exclude": [
    "module",
    "function",
    "builtin_function_or_method",
    "instance",
    "_Feature"
   ],
   "window_display": false
  }
 },
 "nbformat": 4,
 "nbformat_minor": 5
}
