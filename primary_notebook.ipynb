{
 "cells": [
  {
   "cell_type": "markdown",
   "id": "a57e97ee",
   "metadata": {},
   "source": [
    "# Initialization"
   ]
  },
  {
   "cell_type": "code",
   "execution_count": 57,
   "id": "24114fe0",
   "metadata": {
    "ExecuteTime": {
     "end_time": "2022-04-06T19:54:01.091350Z",
     "start_time": "2022-04-06T19:53:50.992799Z"
    }
   },
   "outputs": [],
   "source": [
    "# Устанавливается необходимая версия пакетов для воспроизводимости экспирементов\n",
    "# А так же для установки всех недостающих зависимостей\n",
    "\n",
    "'''Windows'''\n",
    "!python -m venv venv\n",
    "!.\\venv\\Scripts\\activate\n",
    "!pip install -r requirements.txt\n",
    "\n",
    "'''Linux''';\n",
    "#!python -m venv venv  \n",
    "#!source ./venv/bin/activate  \n",
    "#!pip install -r requirements.txt"
   ]
  },
  {
   "cell_type": "code",
   "execution_count": 58,
   "id": "e8091165",
   "metadata": {
    "ExecuteTime": {
     "end_time": "2022-04-06T18:14:51.484525Z",
     "start_time": "2022-04-06T18:14:49.688557Z"
    }
   },
   "outputs": [],
   "source": [
    "import numpy as np # linear algebra\n",
    "import pandas as pd # data processing, CSV file I/O (e.g. pd.read_csv)\n",
    "import sys\n",
    "import re\n",
    "import matplotlib.pyplot as plt\n",
    "from sklearn.model_selection import train_test_split\n",
    "from sklearn.model_selection import KFold\n",
    "from tqdm.notebook import tqdm\n",
    "from catboost import CatBoostRegressor\n",
    "from sklearn.preprocessing import LabelEncoder"
   ]
  },
  {
   "cell_type": "code",
   "execution_count": 59,
   "id": "ed5a3dab",
   "metadata": {
    "ExecuteTime": {
     "end_time": "2022-04-06T19:54:05.536650Z",
     "start_time": "2022-04-06T19:54:05.530649Z"
    }
   },
   "outputs": [
    {
     "name": "stdout",
     "output_type": "stream",
     "text": [
      "Python       : 3.10.4 (tags/v3.10.4:9d38120, Mar 23 2022, 23:13:41) [MSC v.1929 64 bit (AMD64)]\n",
      "Numpy        : 1.22.3\n"
     ]
    }
   ],
   "source": [
    "print('Python       :', sys.version.split('\\n')[0])\n",
    "print('Numpy        :', np.__version__)"
   ]
  },
  {
   "cell_type": "code",
   "execution_count": 60,
   "id": "12877744",
   "metadata": {
    "ExecuteTime": {
     "end_time": "2022-04-06T19:04:16.833808Z",
     "start_time": "2022-04-06T19:04:15.702391Z"
    }
   },
   "outputs": [],
   "source": [
    "# зафиксируем версию пакетов, чтобы эксперименты были воспроизводимы:\n",
    "!pip freeze > requirements.txt"
   ]
  },
  {
   "cell_type": "code",
   "execution_count": 61,
   "id": "462e3b4a",
   "metadata": {
    "ExecuteTime": {
     "end_time": "2022-04-06T18:14:51.532536Z",
     "start_time": "2022-04-06T18:14:51.517533Z"
    }
   },
   "outputs": [],
   "source": [
    "# всегда фиксируйте RANDOM_SEED, чтобы ваши эксперименты были воспроизводимы!\n",
    "RANDOM_SEED = 42"
   ]
  },
  {
   "cell_type": "markdown",
   "id": "07d5b0cd",
   "metadata": {},
   "source": [
    "##  functions"
   ]
  },
  {
   "cell_type": "code",
   "execution_count": 62,
   "id": "34791ddd",
   "metadata": {
    "ExecuteTime": {
     "end_time": "2022-04-06T18:14:51.548627Z",
     "start_time": "2022-04-06T18:14:51.533536Z"
    }
   },
   "outputs": [],
   "source": [
    "def mape(y_true, y_pred):\n",
    "    return np.mean(np.abs((y_pred-y_true)/y_true))"
   ]
  },
  {
   "cell_type": "markdown",
   "id": "7e7924c8",
   "metadata": {},
   "source": [
    "##  Data"
   ]
  },
  {
   "cell_type": "code",
   "execution_count": 63,
   "id": "f27a48ad",
   "metadata": {
    "ExecuteTime": {
     "end_time": "2022-04-06T19:54:21.862404Z",
     "start_time": "2022-04-06T19:54:14.793749Z"
    }
   },
   "outputs": [],
   "source": [
    "from pathlib import Path \n",
    "\n",
    "train = pd.read_pickle( Path(\"data\", \"all_auto_ru_09_09_2020.pickle_bz2\"),\n",
    "                compression='bz2')\n",
    "test = pd.read_pickle( Path(\"data\", \"test.pickle_bz2\"),\n",
    "                compression='bz2')"
   ]
  },
  {
   "cell_type": "markdown",
   "id": "96621601",
   "metadata": {},
   "source": [
    "# Первичный анализ\n",
    "\n",
    "Есть датасет test, по которому нужно предсказать стоимость поддержанного автомобиля, при этом обучать модель для предсказаний на кагл на нём нельзя.\n",
    "\n",
    "Для начала стоит понять, по каким данным будут делаться предсказания"
   ]
  },
  {
   "cell_type": "markdown",
   "id": "12ecc69e",
   "metadata": {},
   "source": [
    "## Test"
   ]
  },
  {
   "cell_type": "markdown",
   "id": "06da92d8",
   "metadata": {},
   "source": [
    "### Пропуски"
   ]
  },
  {
   "cell_type": "code",
   "execution_count": 64,
   "id": "6c3f3a1c",
   "metadata": {
    "ExecuteTime": {
     "end_time": "2022-04-07T08:17:44.201265Z",
     "start_time": "2022-04-07T08:17:42.686624Z"
    }
   },
   "outputs": [],
   "source": [
    "import seaborn as sns\n",
    "\n",
    "fig, ax = plt.subplots(figsize=(10,5))\n",
    "sns_heatmap = sns.heatmap(\n",
    "    test.isnull(), yticklabels=False, cbar=False, cmap='viridis')"
   ]
  },
  {
   "cell_type": "markdown",
   "id": "237ee367",
   "metadata": {
    "ExecuteTime": {
     "end_time": "2022-04-07T08:18:53.436363Z",
     "start_time": "2022-04-07T08:18:53.420370Z"
    }
   },
   "source": [
    "Как видно, они очень плотно распределены всего по трём столбцам, что очень радует. Сразу видно, что столбец `complectation_dict` стоит выкинуть, поскольку в нем больше пропусков, чем данных. так же сразу стоит посмотреть на остальные столбцы с пропусками"
   ]
  },
  {
   "cell_type": "markdown",
   "id": "8f67a1b6",
   "metadata": {},
   "source": [
    "#### complectation_dict"
   ]
  },
  {
   "cell_type": "code",
   "execution_count": 65,
   "id": "204b0fbc",
   "metadata": {
    "ExecuteTime": {
     "end_time": "2022-04-07T08:44:27.747774Z",
     "start_time": "2022-04-07T08:44:27.724769Z"
    }
   },
   "outputs": [
    {
     "name": "stdout",
     "output_type": "stream",
     "text": [
      "Заполненность данными: 0.18503142478233292\n"
     ]
    },
    {
     "data": {
      "text/plain": [
       "'{\"id\":\"20026336\",\"name\":\"Ambition\",\"available_options\":[\"heated-wash-system\",\"airbag-passenger\",\"lock\",\"door-sill-panel\",\"electro-mirrors\",\"mirrors-heat\",\"cooling-box\",\"computer\",\"seat-transformation\",\"wheel-power\",\"fabric-seats\",\"airbag-side\",\"abs\",\"wheel-leather\",\"climate-control-1\",\"esp\",\"adaptive-light\",\"audiopreparation\",\"ashtray-and-cigarette-lighter\",\"front-centre-armrest\",\"electro-window-back\",\"16-inch-wheels\",\"body-mouldings\",\"condition\",\"airbag-driver\",\"isofix\",\"aux\",\"electro-window-front\",\"light-sensor\",\"hcc\",\"ptf\",\"rain-sensor\",\"tyre-pressure\",\"audiosystem-cd\",\"front-seats-heat\",\"wheel-configuration2\",\"wheel-configuration1\",\"immo\",\"12v-socket\",\"third-rear-headrest\"]}'"
      ]
     },
     "execution_count": 65,
     "metadata": {},
     "output_type": "execute_result"
    }
   ],
   "source": [
    "isna= test.complectation_dict.isna()\n",
    "print('Заполненность данными:',len(isna[isna == False])/len(isna))\n",
    "\n",
    "test.complectation_dict.dropna().iloc[0]"
   ]
  },
  {
   "cell_type": "markdown",
   "id": "fd782247",
   "metadata": {},
   "source": [
    "Видно, что это словарь. Данных в этом столбце меньше 20 процентов.\n",
    "\n",
    "Тут указан id, что может быть полезно только при объединении таблицы; имя, чем бы оно ни было; и перечисление возможных опций автомобиля. Это не несёт ценности. Этот столбец будет отфильтрован."
   ]
  },
  {
   "cell_type": "markdown",
   "id": "5da52d26",
   "metadata": {},
   "source": [
    "#### equipment_dict        "
   ]
  },
  {
   "cell_type": "code",
   "execution_count": 66,
   "id": "b7f5a45f",
   "metadata": {
    "ExecuteTime": {
     "end_time": "2022-04-07T08:44:30.441202Z",
     "start_time": "2022-04-07T08:44:30.424199Z"
    }
   },
   "outputs": [
    {
     "name": "stdout",
     "output_type": "stream",
     "text": [
      "Заполненность данными: 0.7118145649541602\n"
     ]
    },
    {
     "data": {
      "text/plain": [
       "'{\"engine-proof\":true,\"tinted-glass\":true,\"airbag-driver\":true,\"aux\":true,\"isofix\":true,\"electro-window-front\":true,\"ashtray-and-cigarette-lighter\":true,\"airbag-passenger\":true,\"computer\":true,\"high-beam-assist\":true,\"seat-transformation\":true,\"isofix-front\":true,\"wheel-power\":true,\"alarm\":true,\"lock\":true,\"door-sill-panel\":true,\"fabric-seats\":true,\"electro-mirrors\":true,\"airbag-rear-side\":true,\"electro-window-back\":true,\"steel-wheels\":true,\"ptf\":true,\"16-inch-wheels\":true,\"rain-sensor\":true,\"airbag-side\":true,\"audiosystem-cd\":true,\"dark-interior\":true,\"cooling-box\":true,\"condition\":true,\"abs\":true,\"power-child-locks-rear-doors\":true,\"front-seats-heat\":true,\"wheel-configuration2\":true,\"wheel-configuration1\":true,\"12v-socket\":true,\"park-assist-r\":true}'"
      ]
     },
     "execution_count": 66,
     "metadata": {},
     "output_type": "execute_result"
    }
   ],
   "source": [
    "isna= test.equipment_dict.isna()\n",
    "print('Заполненность данными:',len(isna[isna == False])/len(isna))\n",
    "\n",
    "test.equipment_dict.dropna().iloc[0]"
   ]
  },
  {
   "cell_type": "markdown",
   "id": "2df28ee3",
   "metadata": {},
   "source": [
    "Видно, что это тоже словарь, но он содержит  уже вполне себе определенную комплектацию автомобиля. Эти данные можно будет использовать для преобразования в категориальные переменные. Оданко большое количество пропусков критично. Думаю, можно сделать отдельный признак, обозначающий отсутствие данных в этом столбце. Можно будет сделать данные не бинарными, а категориальными, содержащие три признака: есть, нет, отсутствую данные"
   ]
  },
  {
   "cell_type": "markdown",
   "id": "0d7a0c2e",
   "metadata": {},
   "source": [
    "#### Владение"
   ]
  },
  {
   "cell_type": "code",
   "execution_count": 67,
   "id": "405885e5",
   "metadata": {
    "ExecuteTime": {
     "end_time": "2022-04-07T08:44:33.671663Z",
     "start_time": "2022-04-07T08:44:33.657661Z"
    }
   },
   "outputs": [
    {
     "name": "stdout",
     "output_type": "stream",
     "text": [
      "Заполненность данными: 0.3458167560399008\n"
     ]
    },
    {
     "data": {
      "text/plain": [
       "'3 года и 2 месяца'"
      ]
     },
     "execution_count": 67,
     "metadata": {},
     "output_type": "execute_result"
    }
   ],
   "source": [
    "isna= test.Владение.isna()\n",
    "print('Заполненность данными:',len(isna[isna == False])/len(isna))\n",
    "\n",
    "test.Владение.dropna().iloc[0]"
   ]
  },
  {
   "cell_type": "markdown",
   "id": "5cbd17a0",
   "metadata": {
    "ExecuteTime": {
     "end_time": "2022-04-07T08:46:57.285975Z",
     "start_time": "2022-04-07T08:46:57.276974Z"
    }
   },
   "source": [
    "Столбец заполнен на 35% \n",
    "\n",
    "Видно, что это строка, которая указывает время владения. Предположительно, последнего владельца, но это нужно проверить. \n",
    "\n",
    "Данных маловато, но зато можно будет сделать из них бинарный признак, указал ли водитель время использования или нет. Но скорее всего после проверки этот столбец не будет использоваться вовсе."
   ]
  },
  {
   "cell_type": "code",
   "execution_count": 68,
   "id": "f888959d",
   "metadata": {
    "ExecuteTime": {
     "end_time": "2022-04-06T18:14:57.829560Z",
     "start_time": "2022-04-06T18:14:57.815557Z"
    }
   },
   "outputs": [
    {
     "name": "stdout",
     "output_type": "stream",
     "text": [
      "TRAIN Rows = 89378 Columns = 26\n",
      "TEST  Rows = 34686 Columns = 32\n"
     ]
    }
   ],
   "source": [
    "print('TRAIN','Rows =', np.shape(train)[0],'Columns =', np.shape(train)[1], sep=' ')\n",
    "print('TEST ','Rows =', np.shape(test)[0],'Columns =', np.shape(test)[1], sep=' ') "
   ]
  },
  {
   "cell_type": "markdown",
   "id": "45d68840",
   "metadata": {},
   "source": [
    "Даже простое сравнение по размеру матриц TRAIN и TEST говорит о том, что они не совпадают.\n",
    "\n",
    "Анализ типа и содержания данных в столбце позволит сделать предварительную обработку (представить данные в едином формате), а также ответить на вопрос, есть ли общие данные в несовпадающих (предположительно, по названию) столбцах TRAIN и TEST."
   ]
  },
  {
   "cell_type": "code",
   "execution_count": 69,
   "id": "ec2dff6a",
   "metadata": {
    "ExecuteTime": {
     "end_time": "2022-04-06T18:14:58.671534Z",
     "start_time": "2022-04-06T18:14:57.830560Z"
    },
    "scrolled": false
   },
   "outputs": [
    {
     "name": "stdout",
     "output_type": "stream",
     "text": [
      "TRAIN Rows = 87264 Columns = 26\n",
      "TEST  Rows = 34686 Columns = 32\n"
     ]
    }
   ],
   "source": [
    "#Удаление дублирующихся строк\n",
    "train_mod = train.drop_duplicates()\n",
    "test_mod = test.drop_duplicates()\n",
    "\n",
    "print('TRAIN','Rows =', np.shape(train_mod)[0],'Columns =', np.shape(train_mod)[1], sep=' ')\n",
    "print('TEST ','Rows =', np.shape(test_mod)[0],'Columns =', np.shape(test_mod)[1], sep=' ') "
   ]
  },
  {
   "cell_type": "code",
   "execution_count": 70,
   "id": "04e7c06b",
   "metadata": {
    "ExecuteTime": {
     "end_time": "2022-04-06T18:15:00.189848Z",
     "start_time": "2022-04-06T18:14:58.672522Z"
    }
   },
   "outputs": [
    {
     "name": "stdout",
     "output_type": "stream",
     "text": [
      "Stored 'train_mod' (DataFrame)\n",
      "Stored 'test_mod' (DataFrame)\n"
     ]
    }
   ],
   "source": [
    "#Разбираемся с препроцессингом и потерей половины строк в трейне\n",
    "%store train_mod \n",
    "%store test_mod"
   ]
  },
  {
   "cell_type": "markdown",
   "id": "3c8beddb",
   "metadata": {},
   "source": [
    "[Preprocessing_and_thoughts](./secondary_notebooks/Preprocessing_and_thoughts.ipynb)"
   ]
  },
  {
   "cell_type": "markdown",
   "id": "1d7c7311",
   "metadata": {},
   "source": [
    "Сравнение размера матриц до и после удаления дубликатов показывает, что TRAIN были дублирующиеся строки, теперь их нет."
   ]
  },
  {
   "cell_type": "markdown",
   "id": "958f95f3",
   "metadata": {},
   "source": [
    "##### Определение общих и различающихся столбцов в TRAIN и TEST"
   ]
  },
  {
   "cell_type": "code",
   "execution_count": 13,
   "id": "bcf1ffdb",
   "metadata": {
    "ExecuteTime": {
     "end_time": "2022-04-06T18:15:00.205851Z",
     "start_time": "2022-04-06T18:15:00.190848Z"
    }
   },
   "outputs": [],
   "source": [
    "#Общие столбцы\n",
    "common_columns = set(test.columns).intersection(train.columns)\n",
    "\n",
    "#Только в TEST\n",
    "test_only_columns = set(test.columns).difference(train.columns)\n",
    "\n",
    "#Только в TRAIN\n",
    "train_only_columns = set(train.columns).difference(test.columns)"
   ]
  },
  {
   "cell_type": "markdown",
   "id": "5fec25d2",
   "metadata": {},
   "source": [
    "#### Вопросы для дальнейшего анализа:\n",
    "1. Совпадают ли типы данных в общих столбцах?\n",
    "2. Есть ли сходные по содержанию данные в столбцах с разным названием?\n",
    "3. Есть ли столбцы, которые можно удалить?"
   ]
  },
  {
   "cell_type": "markdown",
   "id": "2d300224",
   "metadata": {},
   "source": [
    "##### Общие столбцы TRAIN и TEST - сравнение данных"
   ]
  },
  {
   "cell_type": "code",
   "execution_count": 14,
   "id": "f5d1d45c",
   "metadata": {
    "ExecuteTime": {
     "end_time": "2022-04-06T18:15:01.088649Z",
     "start_time": "2022-04-06T18:15:00.206852Z"
    }
   },
   "outputs": [
    {
     "name": "stderr",
     "output_type": "stream",
     "text": [
      "C:\\Users\\zetet\\AppData\\Local\\Temp\\ipykernel_15740\\3298209608.py:2: FutureWarning: Passing a set as an indexer is deprecated and will raise in a future version. Use a list instead.\n",
      "  index_list = test[common_columns].dtypes.index.to_list()\n",
      "C:\\Users\\zetet\\AppData\\Local\\Temp\\ipykernel_15740\\3298209608.py:3: FutureWarning: Passing a set as an indexer is deprecated and will raise in a future version. Use a list instead.\n",
      "  test_list = test[common_columns].dtypes.values.tolist()\n",
      "C:\\Users\\zetet\\AppData\\Local\\Temp\\ipykernel_15740\\3298209608.py:4: FutureWarning: Passing a set as an indexer is deprecated and will raise in a future version. Use a list instead.\n",
      "  train_list = train[common_columns].dtypes.values.tolist()\n"
     ]
    },
    {
     "data": {
      "text/html": [
       "<div>\n",
       "<style scoped>\n",
       "    .dataframe tbody tr th:only-of-type {\n",
       "        vertical-align: middle;\n",
       "    }\n",
       "\n",
       "    .dataframe tbody tr th {\n",
       "        vertical-align: top;\n",
       "    }\n",
       "\n",
       "    .dataframe thead th {\n",
       "        text-align: right;\n",
       "    }\n",
       "</style>\n",
       "<table border=\"1\" class=\"dataframe\">\n",
       "  <thead>\n",
       "    <tr style=\"text-align: right;\">\n",
       "      <th></th>\n",
       "      <th>title</th>\n",
       "      <th>test_type</th>\n",
       "      <th>train_type</th>\n",
       "    </tr>\n",
       "  </thead>\n",
       "  <tbody>\n",
       "    <tr>\n",
       "      <th>8</th>\n",
       "      <td>bodyType</td>\n",
       "      <td>object</td>\n",
       "      <td>object</td>\n",
       "    </tr>\n",
       "    <tr>\n",
       "      <th>5</th>\n",
       "      <td>brand</td>\n",
       "      <td>object</td>\n",
       "      <td>object</td>\n",
       "    </tr>\n",
       "    <tr>\n",
       "      <th>10</th>\n",
       "      <td>color</td>\n",
       "      <td>object</td>\n",
       "      <td>object</td>\n",
       "    </tr>\n",
       "    <tr>\n",
       "      <th>16</th>\n",
       "      <td>description</td>\n",
       "      <td>object</td>\n",
       "      <td>object</td>\n",
       "    </tr>\n",
       "    <tr>\n",
       "      <th>6</th>\n",
       "      <td>engineDisplacement</td>\n",
       "      <td>object</td>\n",
       "      <td>object</td>\n",
       "    </tr>\n",
       "    <tr>\n",
       "      <th>18</th>\n",
       "      <td>enginePower</td>\n",
       "      <td>object</td>\n",
       "      <td>float64</td>\n",
       "    </tr>\n",
       "    <tr>\n",
       "      <th>17</th>\n",
       "      <td>fuelType</td>\n",
       "      <td>object</td>\n",
       "      <td>object</td>\n",
       "    </tr>\n",
       "    <tr>\n",
       "      <th>13</th>\n",
       "      <td>mileage</td>\n",
       "      <td>int64</td>\n",
       "      <td>int64</td>\n",
       "    </tr>\n",
       "    <tr>\n",
       "      <th>9</th>\n",
       "      <td>modelDate</td>\n",
       "      <td>int64</td>\n",
       "      <td>float64</td>\n",
       "    </tr>\n",
       "    <tr>\n",
       "      <th>11</th>\n",
       "      <td>name</td>\n",
       "      <td>object</td>\n",
       "      <td>object</td>\n",
       "    </tr>\n",
       "    <tr>\n",
       "      <th>1</th>\n",
       "      <td>numberOfDoors</td>\n",
       "      <td>int64</td>\n",
       "      <td>float64</td>\n",
       "    </tr>\n",
       "    <tr>\n",
       "      <th>14</th>\n",
       "      <td>productionDate</td>\n",
       "      <td>int64</td>\n",
       "      <td>int64</td>\n",
       "    </tr>\n",
       "    <tr>\n",
       "      <th>12</th>\n",
       "      <td>vehicleConfiguration</td>\n",
       "      <td>object</td>\n",
       "      <td>object</td>\n",
       "    </tr>\n",
       "    <tr>\n",
       "      <th>0</th>\n",
       "      <td>vehicleTransmission</td>\n",
       "      <td>object</td>\n",
       "      <td>object</td>\n",
       "    </tr>\n",
       "    <tr>\n",
       "      <th>7</th>\n",
       "      <td>Владельцы</td>\n",
       "      <td>object</td>\n",
       "      <td>float64</td>\n",
       "    </tr>\n",
       "    <tr>\n",
       "      <th>15</th>\n",
       "      <td>Владение</td>\n",
       "      <td>object</td>\n",
       "      <td>object</td>\n",
       "    </tr>\n",
       "    <tr>\n",
       "      <th>4</th>\n",
       "      <td>ПТС</td>\n",
       "      <td>object</td>\n",
       "      <td>object</td>\n",
       "    </tr>\n",
       "    <tr>\n",
       "      <th>3</th>\n",
       "      <td>Привод</td>\n",
       "      <td>object</td>\n",
       "      <td>object</td>\n",
       "    </tr>\n",
       "    <tr>\n",
       "      <th>20</th>\n",
       "      <td>Руль</td>\n",
       "      <td>object</td>\n",
       "      <td>object</td>\n",
       "    </tr>\n",
       "    <tr>\n",
       "      <th>2</th>\n",
       "      <td>Состояние</td>\n",
       "      <td>object</td>\n",
       "      <td>float64</td>\n",
       "    </tr>\n",
       "    <tr>\n",
       "      <th>19</th>\n",
       "      <td>Таможня</td>\n",
       "      <td>object</td>\n",
       "      <td>bool</td>\n",
       "    </tr>\n",
       "  </tbody>\n",
       "</table>\n",
       "</div>"
      ],
      "text/plain": [
       "                   title test_type train_type\n",
       "8               bodyType    object     object\n",
       "5                  brand    object     object\n",
       "10                 color    object     object\n",
       "16           description    object     object\n",
       "6     engineDisplacement    object     object\n",
       "18           enginePower    object    float64\n",
       "17              fuelType    object     object\n",
       "13               mileage     int64      int64\n",
       "9              modelDate     int64    float64\n",
       "11                  name    object     object\n",
       "1          numberOfDoors     int64    float64\n",
       "14        productionDate     int64      int64\n",
       "12  vehicleConfiguration    object     object\n",
       "0    vehicleTransmission    object     object\n",
       "7              Владельцы    object    float64\n",
       "15              Владение    object     object\n",
       "4                    ПТС    object     object\n",
       "3                 Привод    object     object\n",
       "20                  Руль    object     object\n",
       "2              Состояние    object    float64\n",
       "19               Таможня    object       bool"
      ]
     },
     "execution_count": 14,
     "metadata": {},
     "output_type": "execute_result"
    }
   ],
   "source": [
    "#Датафрейм со сравнением типов данных\n",
    "index_list = test[common_columns].dtypes.index.to_list()\n",
    "test_list = test[common_columns].dtypes.values.tolist()\n",
    "train_list = train[common_columns].dtypes.values.tolist()\n",
    "\n",
    "dict_comparison = {\n",
    "    'title': index_list,\n",
    "    'test_type': test_list,\n",
    "    'train_type': train_list\n",
    "}\n",
    "\n",
    "comparison = pd.DataFrame(dict_comparison)\n",
    "comparison.sort_values('title')"
   ]
  },
  {
   "cell_type": "markdown",
   "id": "a8105b91",
   "metadata": {},
   "source": [
    "Как можно видеть, формат данных в части столбцов с одинаковыми названиями не совпадает. Также необходимо исследовать содержаимое ячеек."
   ]
  },
  {
   "cell_type": "markdown",
   "id": "31de20cd",
   "metadata": {},
   "source": [
    "##### Бренды в TRAIN и TEST"
   ]
  },
  {
   "cell_type": "code",
   "execution_count": 15,
   "id": "4da2ccc6",
   "metadata": {
    "ExecuteTime": {
     "end_time": "2022-04-06T18:15:01.104652Z",
     "start_time": "2022-04-06T18:15:01.089648Z"
    }
   },
   "outputs": [
    {
     "data": {
      "text/plain": [
       "array(['AUDI', 'BMW', 'CADILLAC', 'CHERY', 'CHEVROLET', 'CHRYSLER',\n",
       "       'CITROEN', 'DAEWOO', 'DODGE', 'FORD', 'GEELY', 'HONDA', 'HYUNDAI',\n",
       "       'INFINITI', 'JAGUAR', 'JEEP', 'KIA', 'LEXUS', 'MAZDA', 'MINI',\n",
       "       'MITSUBISHI', 'NISSAN', 'OPEL', 'PEUGEOT', 'PORSCHE', 'RENAULT',\n",
       "       'SKODA', 'SUBARU', 'SUZUKI', 'TOYOTA', 'VOLKSWAGEN', 'VOLVO',\n",
       "       'GREAT_WALL', 'LAND_ROVER', 'MERCEDES', 'SSANG_YONG'], dtype=object)"
      ]
     },
     "metadata": {},
     "output_type": "display_data"
    },
    {
     "name": "stdout",
     "output_type": "stream",
     "text": [
      "Всего в TRAIN 36 брендов.\n"
     ]
    }
   ],
   "source": [
    "display(train_mod.brand.unique())\n",
    "print('Всего в TRAIN',len(train.brand.unique()),'брендов.',sep=' ')"
   ]
  },
  {
   "cell_type": "code",
   "execution_count": 16,
   "id": "7c956c94",
   "metadata": {
    "ExecuteTime": {
     "end_time": "2022-04-06T18:15:01.120655Z",
     "start_time": "2022-04-06T18:15:01.105652Z"
    }
   },
   "outputs": [
    {
     "data": {
      "text/plain": [
       "array(['SKODA', 'AUDI', 'HONDA', 'VOLVO', 'BMW', 'NISSAN', 'INFINITI',\n",
       "       'MERCEDES', 'TOYOTA', 'LEXUS', 'VOLKSWAGEN', 'MITSUBISHI'],\n",
       "      dtype=object)"
      ]
     },
     "metadata": {},
     "output_type": "display_data"
    },
    {
     "name": "stdout",
     "output_type": "stream",
     "text": [
      "Всего в TEST 12 брендов.\n"
     ]
    }
   ],
   "source": [
    "display(test_mod.brand.unique())\n",
    "print('Всего в TEST',len(test_mod.brand.unique()),'брендов.',sep=' ')"
   ]
  },
  {
   "cell_type": "markdown",
   "id": "edfabeb4",
   "metadata": {},
   "source": [
    "Мы видим, что в TRAIN представлено в 3 раза больше брендов автомобилей. Посмотрим на их распределение в обоих датасетах."
   ]
  },
  {
   "cell_type": "code",
   "execution_count": 17,
   "id": "7bafc161",
   "metadata": {
    "ExecuteTime": {
     "end_time": "2022-04-06T18:15:01.328573Z",
     "start_time": "2022-04-06T18:15:01.121655Z"
    }
   },
   "outputs": [
    {
     "data": {
      "text/plain": [
       "Text(0.5, 1.0, 'TEST brands')"
      ]
     },
     "execution_count": 17,
     "metadata": {},
     "output_type": "execute_result"
    },
    {
     "data": {
      "image/png": "[encoded data removed]",
      "text/plain": [
       "<Figure size 432x288 with 1 Axes>"
      ]
     },
     "metadata": {
      "needs_background": "light"
     },
     "output_type": "display_data"
    }
   ],
   "source": [
    "#Распределение брендов в TEST\n",
    "test_mod['brand'].value_counts().plot(kind='bar', color = '#F25D46', label='TEST brands')\n",
    "plt.legend()\n",
    "plt.title('TEST brands')"
   ]
  },
  {
   "cell_type": "code",
   "execution_count": 18,
   "id": "bec97d52",
   "metadata": {
    "ExecuteTime": {
     "end_time": "2022-04-06T18:15:01.599731Z",
     "start_time": "2022-04-06T18:15:01.329573Z"
    }
   },
   "outputs": [
    {
     "data": {
      "text/plain": [
       "Text(0.5, 1.0, 'TRAIN brands')"
      ]
     },
     "execution_count": 18,
     "metadata": {},
     "output_type": "execute_result"
    },
    {
     "data": {
      "image/png": "[encoded data removed]",
      "text/plain": [
       "<Figure size 432x288 with 1 Axes>"
      ]
     },
     "metadata": {
      "needs_background": "light"
     },
     "output_type": "display_data"
    }
   ],
   "source": [
    "#Распределение брендов в TRAIN\n",
    "train_mod['brand'].value_counts().plot(kind='bar', color = '#B6DB69', label='TRAIN brands')\n",
    "plt.legend()\n",
    "plt.title('TRAIN brands')"
   ]
  },
  {
   "cell_type": "markdown",
   "id": "2938c679",
   "metadata": {},
   "source": [
    "Мы видим, что распеределение брендов, представленных только во TEST, схоже с TRAIN. \n",
    "\n",
    "Поэтому для базовой модели ML отсутствующие модели можно удалить, однако для Staking и ансамблей можно попробовать объединить присутствующие и удаленные модели в классы для извлечения новых признаков."
   ]
  },
  {
   "cell_type": "code",
   "execution_count": 19,
   "id": "a8bd5b3c",
   "metadata": {
    "ExecuteTime": {
     "end_time": "2022-04-06T18:15:01.775770Z",
     "start_time": "2022-04-06T18:15:01.600731Z"
    }
   },
   "outputs": [
    {
     "data": {
      "text/plain": [
       "Text(0.5, 1.0, 'MOD_TRAIN brands')"
      ]
     },
     "execution_count": 19,
     "metadata": {},
     "output_type": "execute_result"
    },
    {
     "data": {
      "image/png": "[encoded data removed]",
      "text/plain": [
       "<Figure size 432x288 with 1 Axes>"
      ]
     },
     "metadata": {
      "needs_background": "light"
     },
     "output_type": "display_data"
    }
   ],
   "source": [
    "#Удаление отсутствующих в TEST брендов\n",
    "#Список брендов из TEST\n",
    "brand_list = test_mod.brand.unique().tolist()\n",
    "train_mod = train_mod.loc[train.brand.isin(brand_list)]\n",
    "\n",
    "#Распределение брендов в модифицированном TRAIN\n",
    "train_mod['brand'].value_counts().plot(kind='bar', color = '#B6DB69', label='MOD_TRAIN brands')\n",
    "plt.legend()\n",
    "plt.title('MOD_TRAIN brands')"
   ]
  },
  {
   "cell_type": "markdown",
   "id": "2ea00ad1",
   "metadata": {},
   "source": [
    "##### Сравнение содержание ячеек TRAIN и TEST, приведение к единому формату"
   ]
  },
  {
   "cell_type": "code",
   "execution_count": 20,
   "id": "2955f13f",
   "metadata": {
    "ExecuteTime": {
     "end_time": "2022-04-06T18:15:01.855788Z",
     "start_time": "2022-04-06T18:15:01.776771Z"
    }
   },
   "outputs": [
    {
     "name": "stderr",
     "output_type": "stream",
     "text": [
      "C:\\Users\\zetet\\AppData\\Local\\Temp\\ipykernel_15740\\3298209608.py:2: FutureWarning: Passing a set as an indexer is deprecated and will raise in a future version. Use a list instead.\n",
      "  index_list = test[common_columns].dtypes.index.to_list()\n",
      "C:\\Users\\zetet\\AppData\\Local\\Temp\\ipykernel_15740\\3298209608.py:3: FutureWarning: Passing a set as an indexer is deprecated and will raise in a future version. Use a list instead.\n",
      "  test_list = test[common_columns].dtypes.values.tolist()\n",
      "C:\\Users\\zetet\\AppData\\Local\\Temp\\ipykernel_15740\\3298209608.py:4: FutureWarning: Passing a set as an indexer is deprecated and will raise in a future version. Use a list instead.\n",
      "  train_list = train[common_columns].dtypes.values.tolist()\n"
     ]
    },
    {
     "data": {
      "text/html": [
       "<div>\n",
       "<style scoped>\n",
       "    .dataframe tbody tr th:only-of-type {\n",
       "        vertical-align: middle;\n",
       "    }\n",
       "\n",
       "    .dataframe tbody tr th {\n",
       "        vertical-align: top;\n",
       "    }\n",
       "\n",
       "    .dataframe thead th {\n",
       "        text-align: right;\n",
       "    }\n",
       "</style>\n",
       "<table border=\"1\" class=\"dataframe\">\n",
       "  <thead>\n",
       "    <tr style=\"text-align: right;\">\n",
       "      <th></th>\n",
       "      <th>title</th>\n",
       "      <th>test_type</th>\n",
       "      <th>train_type</th>\n",
       "    </tr>\n",
       "  </thead>\n",
       "  <tbody>\n",
       "    <tr>\n",
       "      <th>8</th>\n",
       "      <td>bodyType</td>\n",
       "      <td>object</td>\n",
       "      <td>object</td>\n",
       "    </tr>\n",
       "    <tr>\n",
       "      <th>5</th>\n",
       "      <td>brand</td>\n",
       "      <td>object</td>\n",
       "      <td>object</td>\n",
       "    </tr>\n",
       "    <tr>\n",
       "      <th>10</th>\n",
       "      <td>color</td>\n",
       "      <td>object</td>\n",
       "      <td>object</td>\n",
       "    </tr>\n",
       "    <tr>\n",
       "      <th>16</th>\n",
       "      <td>description</td>\n",
       "      <td>object</td>\n",
       "      <td>object</td>\n",
       "    </tr>\n",
       "    <tr>\n",
       "      <th>6</th>\n",
       "      <td>engineDisplacement</td>\n",
       "      <td>object</td>\n",
       "      <td>object</td>\n",
       "    </tr>\n",
       "    <tr>\n",
       "      <th>18</th>\n",
       "      <td>enginePower</td>\n",
       "      <td>object</td>\n",
       "      <td>float64</td>\n",
       "    </tr>\n",
       "    <tr>\n",
       "      <th>17</th>\n",
       "      <td>fuelType</td>\n",
       "      <td>object</td>\n",
       "      <td>object</td>\n",
       "    </tr>\n",
       "    <tr>\n",
       "      <th>13</th>\n",
       "      <td>mileage</td>\n",
       "      <td>int64</td>\n",
       "      <td>int64</td>\n",
       "    </tr>\n",
       "    <tr>\n",
       "      <th>9</th>\n",
       "      <td>modelDate</td>\n",
       "      <td>int64</td>\n",
       "      <td>float64</td>\n",
       "    </tr>\n",
       "    <tr>\n",
       "      <th>11</th>\n",
       "      <td>name</td>\n",
       "      <td>object</td>\n",
       "      <td>object</td>\n",
       "    </tr>\n",
       "    <tr>\n",
       "      <th>1</th>\n",
       "      <td>numberOfDoors</td>\n",
       "      <td>int64</td>\n",
       "      <td>float64</td>\n",
       "    </tr>\n",
       "    <tr>\n",
       "      <th>14</th>\n",
       "      <td>productionDate</td>\n",
       "      <td>int64</td>\n",
       "      <td>int64</td>\n",
       "    </tr>\n",
       "    <tr>\n",
       "      <th>12</th>\n",
       "      <td>vehicleConfiguration</td>\n",
       "      <td>object</td>\n",
       "      <td>object</td>\n",
       "    </tr>\n",
       "    <tr>\n",
       "      <th>0</th>\n",
       "      <td>vehicleTransmission</td>\n",
       "      <td>object</td>\n",
       "      <td>object</td>\n",
       "    </tr>\n",
       "    <tr>\n",
       "      <th>7</th>\n",
       "      <td>Владельцы</td>\n",
       "      <td>object</td>\n",
       "      <td>float64</td>\n",
       "    </tr>\n",
       "    <tr>\n",
       "      <th>15</th>\n",
       "      <td>Владение</td>\n",
       "      <td>object</td>\n",
       "      <td>object</td>\n",
       "    </tr>\n",
       "    <tr>\n",
       "      <th>4</th>\n",
       "      <td>ПТС</td>\n",
       "      <td>object</td>\n",
       "      <td>object</td>\n",
       "    </tr>\n",
       "    <tr>\n",
       "      <th>3</th>\n",
       "      <td>Привод</td>\n",
       "      <td>object</td>\n",
       "      <td>object</td>\n",
       "    </tr>\n",
       "    <tr>\n",
       "      <th>20</th>\n",
       "      <td>Руль</td>\n",
       "      <td>object</td>\n",
       "      <td>object</td>\n",
       "    </tr>\n",
       "    <tr>\n",
       "      <th>2</th>\n",
       "      <td>Состояние</td>\n",
       "      <td>object</td>\n",
       "      <td>float64</td>\n",
       "    </tr>\n",
       "    <tr>\n",
       "      <th>19</th>\n",
       "      <td>Таможня</td>\n",
       "      <td>object</td>\n",
       "      <td>bool</td>\n",
       "    </tr>\n",
       "  </tbody>\n",
       "</table>\n",
       "</div>"
      ],
      "text/plain": [
       "                   title test_type train_type\n",
       "8               bodyType    object     object\n",
       "5                  brand    object     object\n",
       "10                 color    object     object\n",
       "16           description    object     object\n",
       "6     engineDisplacement    object     object\n",
       "18           enginePower    object    float64\n",
       "17              fuelType    object     object\n",
       "13               mileage     int64      int64\n",
       "9              modelDate     int64    float64\n",
       "11                  name    object     object\n",
       "1          numberOfDoors     int64    float64\n",
       "14        productionDate     int64      int64\n",
       "12  vehicleConfiguration    object     object\n",
       "0    vehicleTransmission    object     object\n",
       "7              Владельцы    object    float64\n",
       "15              Владение    object     object\n",
       "4                    ПТС    object     object\n",
       "3                 Привод    object     object\n",
       "20                  Руль    object     object\n",
       "2              Состояние    object    float64\n",
       "19               Таможня    object       bool"
      ]
     },
     "execution_count": 20,
     "metadata": {},
     "output_type": "execute_result"
    }
   ],
   "source": [
    "#Датафрейм со сравнением типов данных\n",
    "index_list = test[common_columns].dtypes.index.to_list()\n",
    "test_list = test[common_columns].dtypes.values.tolist()\n",
    "train_list = train[common_columns].dtypes.values.tolist()\n",
    "\n",
    "dict_comparison = {\n",
    "    'title': index_list,\n",
    "    'test_type': test_list,\n",
    "    'train_type': train_list\n",
    "}\n",
    "\n",
    "comparison = pd.DataFrame(dict_comparison)\n",
    "comparison.sort_values('title')"
   ]
  },
  {
   "cell_type": "code",
   "execution_count": 21,
   "id": "363eef1c",
   "metadata": {
    "ExecuteTime": {
     "end_time": "2022-04-06T18:15:01.871793Z",
     "start_time": "2022-04-06T18:15:01.856789Z"
    }
   },
   "outputs": [],
   "source": [
    "#Функция для просмотра и сравнения типов данных в столбцах\n",
    "def type_comparison(column):\n",
    "    print('TEST')\n",
    "    display(test_mod[column].sample(5))\n",
    "    print('TRAIN')\n",
    "    display(train_mod[column].sample(5))  "
   ]
  },
  {
   "cell_type": "code",
   "execution_count": 22,
   "id": "f1e48631",
   "metadata": {
    "ExecuteTime": {
     "end_time": "2022-04-06T18:15:01.887796Z",
     "start_time": "2022-04-06T18:15:01.872793Z"
    },
    "scrolled": true
   },
   "outputs": [
    {
     "name": "stdout",
     "output_type": "stream",
     "text": [
      "TEST\n"
     ]
    },
    {
     "data": {
      "text/plain": [
       "28117              седан\n",
       "29892              седан\n",
       "13157              седан\n",
       "17941              седан\n",
       "1046     универсал 5 дв.\n",
       "Name: bodyType, dtype: object"
      ]
     },
     "metadata": {},
     "output_type": "display_data"
    },
    {
     "name": "stdout",
     "output_type": "stream",
     "text": [
      "TRAIN\n"
     ]
    },
    {
     "data": {
      "text/plain": [
       "67059    Пикап Одинарная кабина 79\n",
       "45966                   Компактвэн\n",
       "45723            Внедорожник 5 дв.\n",
       "3368             Внедорожник 5 дв.\n",
       "8883             Внедорожник 5 дв.\n",
       "Name: bodyType, dtype: object"
      ]
     },
     "metadata": {},
     "output_type": "display_data"
    }
   ],
   "source": [
    "#bodyType\n",
    "column = 'bodyType'\n",
    "type_comparison(column)"
   ]
  },
  {
   "cell_type": "markdown",
   "id": "36d18491",
   "metadata": {},
   "source": [
    "Необходимо привести данные к единому формату и убрать из значениё кол-во двер\n"
   ]
  },
  {
   "cell_type": "code",
   "execution_count": 23,
   "id": "b2a7e84e",
   "metadata": {
    "ExecuteTime": {
     "end_time": "2022-04-06T18:15:01.919803Z",
     "start_time": "2022-04-06T18:15:01.888797Z"
    }
   },
   "outputs": [
    {
     "name": "stdout",
     "output_type": "stream",
     "text": [
      "TEST\n"
     ]
    },
    {
     "data": {
      "text/plain": [
       "12190         чёрный\n",
       "10703     коричневый\n",
       "29804    серебристый\n",
       "29449         чёрный\n",
       "17699         чёрный\n",
       "Name: color, dtype: object"
      ]
     },
     "metadata": {},
     "output_type": "display_data"
    },
    {
     "name": "stdout",
     "output_type": "stream",
     "text": [
      "TRAIN\n"
     ]
    },
    {
     "data": {
      "text/plain": [
       "60751    EE1D19\n",
       "82303    FAFBFB\n",
       "49926    040001\n",
       "31927    C49648\n",
       "30947    040001\n",
       "Name: color, dtype: object"
      ]
     },
     "metadata": {},
     "output_type": "display_data"
    }
   ],
   "source": [
    "#color\n",
    "column = 'color'\n",
    "type_comparison(column)"
   ]
  },
  {
   "cell_type": "code",
   "execution_count": 24,
   "id": "85fee0cb",
   "metadata": {
    "ExecuteTime": {
     "end_time": "2022-04-06T18:15:01.935807Z",
     "start_time": "2022-04-06T18:15:01.920804Z"
    }
   },
   "outputs": [
    {
     "name": "stdout",
     "output_type": "stream",
     "text": [
      "TEST\n"
     ]
    },
    {
     "data": {
      "text/plain": [
       "12452    Доброго времени суток. Продаю свой автомобиль....\n",
       "29602    Редкий экземпляр BMW e39 Turing с мотором 4.4 ...\n",
       "33463    Продаю автомобиль жены, авто в отличном состоя...\n",
       "20051    Машина приобреталась в декабре 18 года.\\nКомпл...\n",
       "22883    В прекрасном состоянии, вложений не требует. В...\n",
       "Name: description, dtype: object"
      ]
     },
     "metadata": {},
     "output_type": "display_data"
    },
    {
     "name": "stdout",
     "output_type": "stream",
     "text": [
      "TRAIN\n"
     ]
    },
    {
     "data": {
      "text/plain": [
       "2689                            Авто в отличном состоянии \n",
       "51214    Авто в отличном состоянии, не требует вложений...\n",
       "78230    «Inchcape Certified-  Первый международный офи...\n",
       "75923    Пневмоподвеска, вибаста, зимняя резина,защита ...\n",
       "50131    МАШИНА В ИВАНТЕЕВКЕ!!!\\nВыкупы, карпрайсы и пр...\n",
       "Name: description, dtype: object"
      ]
     },
     "metadata": {},
     "output_type": "display_data"
    }
   ],
   "source": [
    "#description\n",
    "column = 'description'\n",
    "type_comparison(column)"
   ]
  },
  {
   "cell_type": "code",
   "execution_count": 25,
   "id": "da95ed78",
   "metadata": {
    "ExecuteTime": {
     "end_time": "2022-04-06T18:15:01.951810Z",
     "start_time": "2022-04-06T18:15:01.936807Z"
    },
    "scrolled": true
   },
   "outputs": [
    {
     "name": "stdout",
     "output_type": "stream",
     "text": [
      "TEST\n"
     ]
    },
    {
     "data": {
      "text/plain": [
       "18756    1.6 LTR\n",
       "28822    3.2 LTR\n",
       "23474    1.4 LTR\n",
       "27179    2.0 LTR\n",
       "18350    3.5 LTR\n",
       "Name: engineDisplacement, dtype: object"
      ]
     },
     "metadata": {},
     "output_type": "display_data"
    },
    {
     "name": "stdout",
     "output_type": "stream",
     "text": [
      "TRAIN\n"
     ]
    },
    {
     "data": {
      "text/plain": [
       "65947     2.0\n",
       "7062     525i\n",
       "66824    4.5d\n",
       "50377     2.4\n",
       "75315     2.0\n",
       "Name: engineDisplacement, dtype: object"
      ]
     },
     "metadata": {},
     "output_type": "display_data"
    }
   ],
   "source": [
    "#engineDisplacement\n",
    "column = 'engineDisplacement'\n",
    "type_comparison(column)"
   ]
  },
  {
   "cell_type": "markdown",
   "id": "d1e4c35f",
   "metadata": {},
   "source": [
    "Необходимо привести данные к единому формату"
   ]
  },
  {
   "cell_type": "code",
   "execution_count": 26,
   "id": "90ac74f2",
   "metadata": {
    "ExecuteTime": {
     "end_time": "2022-04-06T18:15:02.111936Z",
     "start_time": "2022-04-06T18:15:01.952811Z"
    }
   },
   "outputs": [
    {
     "name": "stderr",
     "output_type": "stream",
     "text": [
      "C:\\Users\\zetet\\AppData\\Local\\Temp\\ipykernel_15740\\1747633296.py:9: SettingWithCopyWarning: \n",
      "A value is trying to be set on a copy of a slice from a DataFrame.\n",
      "Try using .loc[row_indexer,col_indexer] = value instead\n",
      "\n",
      "See the caveats in the documentation: https://pandas.pydata.org/pandas-docs/stable/user_guide/indexing.html#returning-a-view-versus-a-copy\n",
      "  train_mod['engineDisplacement'] = train_mod['engineDisplacement'].map(GetEngineDisplacement)\n"
     ]
    }
   ],
   "source": [
    "#Преобразование\n",
    "def GetEngineDisplacement(x):\n",
    "    row = str(x)\n",
    "    engine = re.findall('\\d\\.\\d', row)\n",
    "    if engine == []:\n",
    "        return None\n",
    "    return float(engine[0])\n",
    "\n",
    "train_mod['engineDisplacement'] = train_mod['engineDisplacement'].map(GetEngineDisplacement)\n",
    "test_mod['engineDisplacement'] = test_mod['engineDisplacement'].map(GetEngineDisplacement)"
   ]
  },
  {
   "cell_type": "code",
   "execution_count": 27,
   "id": "6344eae8",
   "metadata": {
    "ExecuteTime": {
     "end_time": "2022-04-06T18:15:02.127069Z",
     "start_time": "2022-04-06T18:15:02.112936Z"
    },
    "scrolled": true
   },
   "outputs": [
    {
     "name": "stdout",
     "output_type": "stream",
     "text": [
      "TEST\n"
     ]
    },
    {
     "data": {
      "text/plain": [
       "3242     2.0\n",
       "32449    1.8\n",
       "24974    1.8\n",
       "12579    1.6\n",
       "13900    2.0\n",
       "Name: engineDisplacement, dtype: float64"
      ]
     },
     "metadata": {},
     "output_type": "display_data"
    },
    {
     "name": "stdout",
     "output_type": "stream",
     "text": [
      "TRAIN\n"
     ]
    },
    {
     "data": {
      "text/plain": [
       "75919    3.0\n",
       "8563     NaN\n",
       "39242    NaN\n",
       "2314     3.1\n",
       "61635    1.6\n",
       "Name: engineDisplacement, dtype: float64"
      ]
     },
     "metadata": {},
     "output_type": "display_data"
    }
   ],
   "source": [
    "#engineDisplacement\n",
    "column = 'engineDisplacement'\n",
    "type_comparison(column)"
   ]
  },
  {
   "cell_type": "markdown",
   "id": "96e5a426",
   "metadata": {},
   "source": [
    "После преобразования в столбцах появились пропуски"
   ]
  },
  {
   "cell_type": "code",
   "execution_count": 28,
   "id": "b8f8a8d9",
   "metadata": {
    "ExecuteTime": {
     "end_time": "2022-04-06T18:15:02.175080Z",
     "start_time": "2022-04-06T18:15:02.132070Z"
    }
   },
   "outputs": [
    {
     "data": {
      "text/html": [
       "<div>\n",
       "<style scoped>\n",
       "    .dataframe tbody tr th:only-of-type {\n",
       "        vertical-align: middle;\n",
       "    }\n",
       "\n",
       "    .dataframe tbody tr th {\n",
       "        vertical-align: top;\n",
       "    }\n",
       "\n",
       "    .dataframe thead th {\n",
       "        text-align: right;\n",
       "    }\n",
       "</style>\n",
       "<table border=\"1\" class=\"dataframe\">\n",
       "  <thead>\n",
       "    <tr style=\"text-align: right;\">\n",
       "      <th></th>\n",
       "      <th>bodyType</th>\n",
       "      <th>brand</th>\n",
       "      <th>car_url</th>\n",
       "      <th>color</th>\n",
       "      <th>complectation_dict</th>\n",
       "      <th>description</th>\n",
       "      <th>engineDisplacement</th>\n",
       "      <th>enginePower</th>\n",
       "      <th>equipment_dict</th>\n",
       "      <th>fuelType</th>\n",
       "      <th>...</th>\n",
       "      <th>vehicleConfiguration</th>\n",
       "      <th>vehicleTransmission</th>\n",
       "      <th>vendor</th>\n",
       "      <th>Владельцы</th>\n",
       "      <th>Владение</th>\n",
       "      <th>ПТС</th>\n",
       "      <th>Привод</th>\n",
       "      <th>Руль</th>\n",
       "      <th>Состояние</th>\n",
       "      <th>Таможня</th>\n",
       "    </tr>\n",
       "  </thead>\n",
       "  <tbody>\n",
       "    <tr>\n",
       "      <th>5241</th>\n",
       "      <td>внедорожник 5 дв.</td>\n",
       "      <td>AUDI</td>\n",
       "      <td>https://auto.ru/cars/used/sale/audi/e_tron/110...</td>\n",
       "      <td>белый</td>\n",
       "      <td>NaN</td>\n",
       "      <td>Audi e-tron Prestige quattro от Moscow Tesla C...</td>\n",
       "      <td>NaN</td>\n",
       "      <td>408 N12</td>\n",
       "      <td>{\"asr\":true,\"esp\":true,\"usb\":true,\"e-adjustmen...</td>\n",
       "      <td>электро</td>\n",
       "      <td>...</td>\n",
       "      <td>ALLROAD_5_DOORS AUTOMATIC</td>\n",
       "      <td>автоматическая</td>\n",
       "      <td>EUROPEAN</td>\n",
       "      <td>1 владелец</td>\n",
       "      <td>1 год и 3 месяца</td>\n",
       "      <td>Оригинал</td>\n",
       "      <td>полный</td>\n",
       "      <td>Левый</td>\n",
       "      <td>Не требует ремонта</td>\n",
       "      <td>Растаможен</td>\n",
       "    </tr>\n",
       "    <tr>\n",
       "      <th>7992</th>\n",
       "      <td>хэтчбек 5 дв.</td>\n",
       "      <td>BMW</td>\n",
       "      <td>https://auto.ru/cars/used/sale/bmw/i3/11010431...</td>\n",
       "      <td>синий</td>\n",
       "      <td>NaN</td>\n",
       "      <td>Атомобиль из Германии,без пробега по РФ.\\nНа г...</td>\n",
       "      <td>NaN</td>\n",
       "      <td>170 N12</td>\n",
       "      <td>NaN</td>\n",
       "      <td>электро</td>\n",
       "      <td>...</td>\n",
       "      <td>HATCHBACK_5_DOORS AUTOMATIC</td>\n",
       "      <td>автоматическая</td>\n",
       "      <td>EUROPEAN</td>\n",
       "      <td>1 владелец</td>\n",
       "      <td>NaN</td>\n",
       "      <td>Оригинал</td>\n",
       "      <td>задний</td>\n",
       "      <td>Левый</td>\n",
       "      <td>Не требует ремонта</td>\n",
       "      <td>Растаможен</td>\n",
       "    </tr>\n",
       "    <tr>\n",
       "      <th>8252</th>\n",
       "      <td>хэтчбек 5 дв.</td>\n",
       "      <td>BMW</td>\n",
       "      <td>https://auto.ru/cars/used/sale/bmw/i3/11012780...</td>\n",
       "      <td>серый</td>\n",
       "      <td>NaN</td>\n",
       "      <td>Пробег 54000 км, запас хода на зарядке 130 км+...</td>\n",
       "      <td>NaN</td>\n",
       "      <td>170 N12</td>\n",
       "      <td>{\"park-assist-f\":true,\"park-assist-r\":true}</td>\n",
       "      <td>электро</td>\n",
       "      <td>...</td>\n",
       "      <td>HATCHBACK_5_DOORS AUTOMATIC</td>\n",
       "      <td>автоматическая</td>\n",
       "      <td>EUROPEAN</td>\n",
       "      <td>1 владелец</td>\n",
       "      <td>1 месяц</td>\n",
       "      <td>Оригинал</td>\n",
       "      <td>задний</td>\n",
       "      <td>Левый</td>\n",
       "      <td>Не требует ремонта</td>\n",
       "      <td>Растаможен</td>\n",
       "    </tr>\n",
       "    <tr>\n",
       "      <th>8350</th>\n",
       "      <td>хэтчбек 5 дв.</td>\n",
       "      <td>BMW</td>\n",
       "      <td>https://auto.ru/cars/used/sale/bmw/i3/11002716...</td>\n",
       "      <td>белый</td>\n",
       "      <td>{\"id\":\"21624597\",\"name\":\"i3 120 Ah\",\"available...</td>\n",
       "      <td>Автомобиль в наличии Москве , с ПТС , производ...</td>\n",
       "      <td>NaN</td>\n",
       "      <td>170 N12</td>\n",
       "      <td>{\"cruise-control\":true,\"asr\":true,\"esp\":true,\"...</td>\n",
       "      <td>электро</td>\n",
       "      <td>...</td>\n",
       "      <td>HATCHBACK_5_DOORS AUTOMATIC</td>\n",
       "      <td>автоматическая</td>\n",
       "      <td>EUROPEAN</td>\n",
       "      <td>1 владелец</td>\n",
       "      <td>NaN</td>\n",
       "      <td>Оригинал</td>\n",
       "      <td>задний</td>\n",
       "      <td>Левый</td>\n",
       "      <td>Не требует ремонта</td>\n",
       "      <td>Растаможен</td>\n",
       "    </tr>\n",
       "    <tr>\n",
       "      <th>8684</th>\n",
       "      <td>хэтчбек 5 дв.</td>\n",
       "      <td>BMW</td>\n",
       "      <td>https://auto.ru/cars/used/sale/bmw/i3/11011745...</td>\n",
       "      <td>чёрный</td>\n",
       "      <td>NaN</td>\n",
       "      <td>BMW I 3 REX\\nфевраль 2017 года выпуска.\\nПриоб...</td>\n",
       "      <td>NaN</td>\n",
       "      <td>170 N12</td>\n",
       "      <td>{\"cruise-control\":true,\"glonass\":true,\"navigat...</td>\n",
       "      <td>электро</td>\n",
       "      <td>...</td>\n",
       "      <td>HATCHBACK_5_DOORS AUTOMATIC</td>\n",
       "      <td>автоматическая</td>\n",
       "      <td>EUROPEAN</td>\n",
       "      <td>1 владелец</td>\n",
       "      <td>NaN</td>\n",
       "      <td>Оригинал</td>\n",
       "      <td>задний</td>\n",
       "      <td>Левый</td>\n",
       "      <td>Не требует ремонта</td>\n",
       "      <td>Растаможен</td>\n",
       "    </tr>\n",
       "    <tr>\n",
       "      <th>8722</th>\n",
       "      <td>хэтчбек 5 дв.</td>\n",
       "      <td>BMW</td>\n",
       "      <td>https://auto.ru/cars/used/sale/bmw/i3/11000973...</td>\n",
       "      <td>голубой</td>\n",
       "      <td>NaN</td>\n",
       "      <td>\\nПрибыло из Америки в августе 2020 года. Полн...</td>\n",
       "      <td>NaN</td>\n",
       "      <td>170 N12</td>\n",
       "      <td>NaN</td>\n",
       "      <td>электро</td>\n",
       "      <td>...</td>\n",
       "      <td>HATCHBACK_5_DOORS AUTOMATIC</td>\n",
       "      <td>автоматическая</td>\n",
       "      <td>EUROPEAN</td>\n",
       "      <td>1 владелец</td>\n",
       "      <td>NaN</td>\n",
       "      <td>Оригинал</td>\n",
       "      <td>задний</td>\n",
       "      <td>Левый</td>\n",
       "      <td>Не требует ремонта</td>\n",
       "      <td>Растаможен</td>\n",
       "    </tr>\n",
       "    <tr>\n",
       "      <th>8917</th>\n",
       "      <td>хэтчбек 5 дв.</td>\n",
       "      <td>BMW</td>\n",
       "      <td>https://auto.ru/cars/used/sale/bmw/i3/11008715...</td>\n",
       "      <td>бежевый</td>\n",
       "      <td>NaN</td>\n",
       "      <td>-Состояние нового автомобиля .\\n-Carfax вся ис...</td>\n",
       "      <td>NaN</td>\n",
       "      <td>170 N12</td>\n",
       "      <td>{\"glonass\":true,\"roof-rails\":true}</td>\n",
       "      <td>электро</td>\n",
       "      <td>...</td>\n",
       "      <td>HATCHBACK_5_DOORS AUTOMATIC</td>\n",
       "      <td>автоматическая</td>\n",
       "      <td>EUROPEAN</td>\n",
       "      <td>1 владелец</td>\n",
       "      <td>NaN</td>\n",
       "      <td>Оригинал</td>\n",
       "      <td>задний</td>\n",
       "      <td>Левый</td>\n",
       "      <td>Не требует ремонта</td>\n",
       "      <td>Растаможен</td>\n",
       "    </tr>\n",
       "    <tr>\n",
       "      <th>10817</th>\n",
       "      <td>хэтчбек 5 дв.</td>\n",
       "      <td>BMW</td>\n",
       "      <td>https://auto.ru/cars/used/sale/bmw/i3/11012664...</td>\n",
       "      <td>серый</td>\n",
       "      <td>NaN</td>\n",
       "      <td>Продаю BMW I3 +REX .\\n\\nПолноценный электромоб...</td>\n",
       "      <td>NaN</td>\n",
       "      <td>170 N12</td>\n",
       "      <td>NaN</td>\n",
       "      <td>электро</td>\n",
       "      <td>...</td>\n",
       "      <td>HATCHBACK_5_DOORS AUTOMATIC</td>\n",
       "      <td>автоматическая</td>\n",
       "      <td>EUROPEAN</td>\n",
       "      <td>1 владелец</td>\n",
       "      <td>NaN</td>\n",
       "      <td>Оригинал</td>\n",
       "      <td>задний</td>\n",
       "      <td>Левый</td>\n",
       "      <td>Не требует ремонта</td>\n",
       "      <td>Растаможен</td>\n",
       "    </tr>\n",
       "    <tr>\n",
       "      <th>10936</th>\n",
       "      <td>хэтчбек 5 дв.</td>\n",
       "      <td>BMW</td>\n",
       "      <td>https://auto.ru/cars/used/sale/bmw/i3/10996733...</td>\n",
       "      <td>чёрный</td>\n",
       "      <td>NaN</td>\n",
       "      <td>Автомобиль BMW i3 (полностью электрический )за...</td>\n",
       "      <td>NaN</td>\n",
       "      <td>170 N12</td>\n",
       "      <td>{\"cruise-control\":true,\"asr\":true,\"tinted-glas...</td>\n",
       "      <td>электро</td>\n",
       "      <td>...</td>\n",
       "      <td>HATCHBACK_5_DOORS AUTOMATIC</td>\n",
       "      <td>автоматическая</td>\n",
       "      <td>EUROPEAN</td>\n",
       "      <td>1 владелец</td>\n",
       "      <td>NaN</td>\n",
       "      <td>Оригинал</td>\n",
       "      <td>задний</td>\n",
       "      <td>Левый</td>\n",
       "      <td>Не требует ремонта</td>\n",
       "      <td>Растаможен</td>\n",
       "    </tr>\n",
       "    <tr>\n",
       "      <th>11043</th>\n",
       "      <td>хэтчбек 5 дв.</td>\n",
       "      <td>BMW</td>\n",
       "      <td>https://auto.ru/cars/used/sale/bmw/i3/10993761...</td>\n",
       "      <td>серый</td>\n",
       "      <td>NaN</td>\n",
       "      <td>Состояние нового автомобиля . \\nФото ИМЕННО ЭТ...</td>\n",
       "      <td>NaN</td>\n",
       "      <td>170 N12</td>\n",
       "      <td>{\"glonass\":true,\"airbag-driver\":true,\"aux\":tru...</td>\n",
       "      <td>электро</td>\n",
       "      <td>...</td>\n",
       "      <td>HATCHBACK_5_DOORS AUTOMATIC</td>\n",
       "      <td>автоматическая</td>\n",
       "      <td>EUROPEAN</td>\n",
       "      <td>1 владелец</td>\n",
       "      <td>8 месяцев</td>\n",
       "      <td>Оригинал</td>\n",
       "      <td>задний</td>\n",
       "      <td>Левый</td>\n",
       "      <td>Не требует ремонта</td>\n",
       "      <td>Растаможен</td>\n",
       "    </tr>\n",
       "    <tr>\n",
       "      <th>11302</th>\n",
       "      <td>хэтчбек 5 дв.</td>\n",
       "      <td>NISSAN</td>\n",
       "      <td>https://auto.ru/cars/used/sale/nissan/leaf/110...</td>\n",
       "      <td>голубой</td>\n",
       "      <td>NaN</td>\n",
       "      <td>Безопасность: 10. Салон: 4. Комфорт: 12. Мульт...</td>\n",
       "      <td>NaN</td>\n",
       "      <td>109 N12</td>\n",
       "      <td>{\"asr\":true,\"tinted-glass\":true,\"start-stop-fu...</td>\n",
       "      <td>электро</td>\n",
       "      <td>...</td>\n",
       "      <td>HATCHBACK_5_DOORS AUTOMATIC</td>\n",
       "      <td>автоматическая</td>\n",
       "      <td>JAPANESE</td>\n",
       "      <td>3 или более</td>\n",
       "      <td>NaN</td>\n",
       "      <td>Оригинал</td>\n",
       "      <td>передний</td>\n",
       "      <td>Левый</td>\n",
       "      <td>Не требует ремонта</td>\n",
       "      <td>Растаможен</td>\n",
       "    </tr>\n",
       "    <tr>\n",
       "      <th>11682</th>\n",
       "      <td>хэтчбек 5 дв.</td>\n",
       "      <td>NISSAN</td>\n",
       "      <td>https://auto.ru/cars/used/sale/nissan/leaf/110...</td>\n",
       "      <td>белый</td>\n",
       "      <td>NaN</td>\n",
       "      <td>Продаю авто без пробега по РФ.\\nМаксимальная к...</td>\n",
       "      <td>NaN</td>\n",
       "      <td>150 N12</td>\n",
       "      <td>{\"tinted-glass\":true,\"esp\":true,\"adaptive-ligh...</td>\n",
       "      <td>электро</td>\n",
       "      <td>...</td>\n",
       "      <td>HATCHBACK_5_DOORS AUTOMATIC</td>\n",
       "      <td>автоматическая</td>\n",
       "      <td>JAPANESE</td>\n",
       "      <td>1 владелец</td>\n",
       "      <td>2 месяца</td>\n",
       "      <td>Оригинал</td>\n",
       "      <td>передний</td>\n",
       "      <td>Левый</td>\n",
       "      <td>Не требует ремонта</td>\n",
       "      <td>Растаможен</td>\n",
       "    </tr>\n",
       "    <tr>\n",
       "      <th>11714</th>\n",
       "      <td>хэтчбек 5 дв.</td>\n",
       "      <td>NISSAN</td>\n",
       "      <td>https://auto.ru/cars/used/sale/nissan/leaf/109...</td>\n",
       "      <td>белый</td>\n",
       "      <td>NaN</td>\n",
       "      <td>Комплектация G\\nБатарея 40 кВт\\n\\n- PRO- PILOT...</td>\n",
       "      <td>NaN</td>\n",
       "      <td>150 N12</td>\n",
       "      <td>{\"collision-prevention-assist\":true,\"led-light...</td>\n",
       "      <td>электро</td>\n",
       "      <td>...</td>\n",
       "      <td>HATCHBACK_5_DOORS AUTOMATIC</td>\n",
       "      <td>автоматическая</td>\n",
       "      <td>JAPANESE</td>\n",
       "      <td>1 владелец</td>\n",
       "      <td>NaN</td>\n",
       "      <td>Оригинал</td>\n",
       "      <td>передний</td>\n",
       "      <td>Правый</td>\n",
       "      <td>Не требует ремонта</td>\n",
       "      <td>Растаможен</td>\n",
       "    </tr>\n",
       "    <tr>\n",
       "      <th>11719</th>\n",
       "      <td>хэтчбек 5 дв.</td>\n",
       "      <td>NISSAN</td>\n",
       "      <td>https://auto.ru/cars/used/sale/nissan/leaf/109...</td>\n",
       "      <td>белый</td>\n",
       "      <td>NaN</td>\n",
       "      <td>Автомобиль с аукциона! НЕ РЫНОК!!!! (аукционны...</td>\n",
       "      <td>NaN</td>\n",
       "      <td>109 N12</td>\n",
       "      <td>NaN</td>\n",
       "      <td>электро</td>\n",
       "      <td>...</td>\n",
       "      <td>HATCHBACK_5_DOORS AUTOMATIC</td>\n",
       "      <td>автоматическая</td>\n",
       "      <td>JAPANESE</td>\n",
       "      <td>1 владелец</td>\n",
       "      <td>5 месяцев</td>\n",
       "      <td>Оригинал</td>\n",
       "      <td>передний</td>\n",
       "      <td>Правый</td>\n",
       "      <td>Не требует ремонта</td>\n",
       "      <td>Растаможен</td>\n",
       "    </tr>\n",
       "    <tr>\n",
       "      <th>11754</th>\n",
       "      <td>хэтчбек 5 дв.</td>\n",
       "      <td>NISSAN</td>\n",
       "      <td>https://auto.ru/cars/used/sale/nissan/leaf/110...</td>\n",
       "      <td>белый</td>\n",
       "      <td>NaN</td>\n",
       "      <td>Продаю электромобиль ниссан лиаф 2011г пробег1...</td>\n",
       "      <td>NaN</td>\n",
       "      <td>109 N12</td>\n",
       "      <td>{\"cruise-control\":true,\"start-button\":true,\"ra...</td>\n",
       "      <td>электро</td>\n",
       "      <td>...</td>\n",
       "      <td>HATCHBACK_5_DOORS AUTOMATIC</td>\n",
       "      <td>автоматическая</td>\n",
       "      <td>JAPANESE</td>\n",
       "      <td>2 владельца</td>\n",
       "      <td>NaN</td>\n",
       "      <td>Оригинал</td>\n",
       "      <td>передний</td>\n",
       "      <td>Правый</td>\n",
       "      <td>Не требует ремонта</td>\n",
       "      <td>Растаможен</td>\n",
       "    </tr>\n",
       "    <tr>\n",
       "      <th>11878</th>\n",
       "      <td>хэтчбек 5 дв.</td>\n",
       "      <td>NISSAN</td>\n",
       "      <td>https://auto.ru/cars/used/sale/nissan/leaf/110...</td>\n",
       "      <td>серебристый</td>\n",
       "      <td>NaN</td>\n",
       "      <td>Оригинальный ПТС.  \\nАвто декабрь 2013 года \\n...</td>\n",
       "      <td>NaN</td>\n",
       "      <td>109 N12</td>\n",
       "      <td>{\"asr\":true,\"glonass\":true,\"tinted-glass\":true...</td>\n",
       "      <td>электро</td>\n",
       "      <td>...</td>\n",
       "      <td>HATCHBACK_5_DOORS AUTOMATIC</td>\n",
       "      <td>автоматическая</td>\n",
       "      <td>JAPANESE</td>\n",
       "      <td>1 владелец</td>\n",
       "      <td>NaN</td>\n",
       "      <td>Оригинал</td>\n",
       "      <td>передний</td>\n",
       "      <td>Левый</td>\n",
       "      <td>Не требует ремонта</td>\n",
       "      <td>Растаможен</td>\n",
       "    </tr>\n",
       "    <tr>\n",
       "      <th>11974</th>\n",
       "      <td>хэтчбек 5 дв.</td>\n",
       "      <td>NISSAN</td>\n",
       "      <td>https://auto.ru/cars/used/sale/nissan/leaf/108...</td>\n",
       "      <td>чёрный</td>\n",
       "      <td>NaN</td>\n",
       "      <td>Всё работает ,батарея  48 кВт-120км +120км све...</td>\n",
       "      <td>NaN</td>\n",
       "      <td>109 N12</td>\n",
       "      <td>{\"asr\":true,\"tinted-glass\":true,\"esp\":true,\"ai...</td>\n",
       "      <td>электро</td>\n",
       "      <td>...</td>\n",
       "      <td>HATCHBACK_5_DOORS AUTOMATIC</td>\n",
       "      <td>автоматическая</td>\n",
       "      <td>JAPANESE</td>\n",
       "      <td>1 владелец</td>\n",
       "      <td>3 года и 8 месяцев</td>\n",
       "      <td>Оригинал</td>\n",
       "      <td>передний</td>\n",
       "      <td>Правый</td>\n",
       "      <td>Не требует ремонта</td>\n",
       "      <td>Растаможен</td>\n",
       "    </tr>\n",
       "    <tr>\n",
       "      <th>12072</th>\n",
       "      <td>хэтчбек 5 дв.</td>\n",
       "      <td>NISSAN</td>\n",
       "      <td>https://auto.ru/cars/used/sale/nissan/leaf/110...</td>\n",
       "      <td>чёрный</td>\n",
       "      <td>NaN</td>\n",
       "      <td>Продаю Nissan Leaf 2012 года выпуска. Данный а...</td>\n",
       "      <td>NaN</td>\n",
       "      <td>109 N12</td>\n",
       "      <td>NaN</td>\n",
       "      <td>электро</td>\n",
       "      <td>...</td>\n",
       "      <td>HATCHBACK_5_DOORS AUTOMATIC</td>\n",
       "      <td>автоматическая</td>\n",
       "      <td>JAPANESE</td>\n",
       "      <td>3 или более</td>\n",
       "      <td>9 месяцев</td>\n",
       "      <td>Оригинал</td>\n",
       "      <td>передний</td>\n",
       "      <td>Правый</td>\n",
       "      <td>Не требует ремонта</td>\n",
       "      <td>Растаможен</td>\n",
       "    </tr>\n",
       "    <tr>\n",
       "      <th>12085</th>\n",
       "      <td>хэтчбек 5 дв.</td>\n",
       "      <td>NISSAN</td>\n",
       "      <td>https://auto.ru/cars/used/sale/nissan/leaf/109...</td>\n",
       "      <td>голубой</td>\n",
       "      <td>NaN</td>\n",
       "      <td>Электpомобиль Nissan Leаf  из США( северный шт...</td>\n",
       "      <td>NaN</td>\n",
       "      <td>109 N12</td>\n",
       "      <td>{\"cruise-control\":true,\"esp\":true,\"start-stop-...</td>\n",
       "      <td>электро</td>\n",
       "      <td>...</td>\n",
       "      <td>HATCHBACK_5_DOORS AUTOMATIC</td>\n",
       "      <td>автоматическая</td>\n",
       "      <td>JAPANESE</td>\n",
       "      <td>1 владелец</td>\n",
       "      <td>1 год и 6 месяцев</td>\n",
       "      <td>Оригинал</td>\n",
       "      <td>передний</td>\n",
       "      <td>Левый</td>\n",
       "      <td>Не требует ремонта</td>\n",
       "      <td>Растаможен</td>\n",
       "    </tr>\n",
       "    <tr>\n",
       "      <th>12100</th>\n",
       "      <td>хэтчбек 5 дв.</td>\n",
       "      <td>NISSAN</td>\n",
       "      <td>https://auto.ru/cars/used/sale/nissan/leaf/109...</td>\n",
       "      <td>серый</td>\n",
       "      <td>NaN</td>\n",
       "      <td>Leaf 30x Aero style. 30 квт.ч. 12 палок.\\nконт...</td>\n",
       "      <td>NaN</td>\n",
       "      <td>109 N12</td>\n",
       "      <td>{\"tinted-glass\":true,\"esp\":true,\"aux\":true,\"us...</td>\n",
       "      <td>электро</td>\n",
       "      <td>...</td>\n",
       "      <td>HATCHBACK_5_DOORS AUTOMATIC</td>\n",
       "      <td>автоматическая</td>\n",
       "      <td>JAPANESE</td>\n",
       "      <td>1 владелец</td>\n",
       "      <td>1 год и 3 месяца</td>\n",
       "      <td>Оригинал</td>\n",
       "      <td>передний</td>\n",
       "      <td>Правый</td>\n",
       "      <td>Не требует ремонта</td>\n",
       "      <td>Растаможен</td>\n",
       "    </tr>\n",
       "    <tr>\n",
       "      <th>12250</th>\n",
       "      <td>хэтчбек 5 дв.</td>\n",
       "      <td>NISSAN</td>\n",
       "      <td>https://auto.ru/cars/used/sale/nissan/leaf/109...</td>\n",
       "      <td>серый</td>\n",
       "      <td>NaN</td>\n",
       "      <td>Электромобиль в отличном состоянии,  пробег на...</td>\n",
       "      <td>NaN</td>\n",
       "      <td>109 N12</td>\n",
       "      <td>{\"engine-proof\":true,\"glonass\":true,\"tinted-gl...</td>\n",
       "      <td>электро</td>\n",
       "      <td>...</td>\n",
       "      <td>HATCHBACK_5_DOORS AUTOMATIC</td>\n",
       "      <td>автоматическая</td>\n",
       "      <td>JAPANESE</td>\n",
       "      <td>1 владелец</td>\n",
       "      <td>9 месяцев</td>\n",
       "      <td>Оригинал</td>\n",
       "      <td>передний</td>\n",
       "      <td>Правый</td>\n",
       "      <td>Не требует ремонта</td>\n",
       "      <td>Растаможен</td>\n",
       "    </tr>\n",
       "    <tr>\n",
       "      <th>12287</th>\n",
       "      <td>хэтчбек 5 дв.</td>\n",
       "      <td>NISSAN</td>\n",
       "      <td>https://auto.ru/cars/used/sale/nissan/leaf/109...</td>\n",
       "      <td>голубой</td>\n",
       "      <td>NaN</td>\n",
       "      <td>Продается Ниссан Leaf в полная комплектация(кр...</td>\n",
       "      <td>NaN</td>\n",
       "      <td>109 N12</td>\n",
       "      <td>{\"glonass\":true,\"esp\":true,\"aux\":true,\"usb\":tr...</td>\n",
       "      <td>электро</td>\n",
       "      <td>...</td>\n",
       "      <td>HATCHBACK_5_DOORS AUTOMATIC</td>\n",
       "      <td>автоматическая</td>\n",
       "      <td>JAPANESE</td>\n",
       "      <td>1 владелец</td>\n",
       "      <td>NaN</td>\n",
       "      <td>Оригинал</td>\n",
       "      <td>передний</td>\n",
       "      <td>Левый</td>\n",
       "      <td>Не требует ремонта</td>\n",
       "      <td>Растаможен</td>\n",
       "    </tr>\n",
       "    <tr>\n",
       "      <th>12334</th>\n",
       "      <td>хэтчбек 5 дв.</td>\n",
       "      <td>NISSAN</td>\n",
       "      <td>https://auto.ru/cars/used/sale/nissan/leaf/110...</td>\n",
       "      <td>чёрный</td>\n",
       "      <td>NaN</td>\n",
       "      <td>Продаю своего друга! Очень хорошая машина! Рад...</td>\n",
       "      <td>NaN</td>\n",
       "      <td>109 N12</td>\n",
       "      <td>{\"engine-proof\":true,\"cruise-control\":true,\"ti...</td>\n",
       "      <td>электро</td>\n",
       "      <td>...</td>\n",
       "      <td>HATCHBACK_5_DOORS AUTOMATIC</td>\n",
       "      <td>автоматическая</td>\n",
       "      <td>JAPANESE</td>\n",
       "      <td>1 владелец</td>\n",
       "      <td>5 месяцев</td>\n",
       "      <td>Оригинал</td>\n",
       "      <td>передний</td>\n",
       "      <td>Правый</td>\n",
       "      <td>Не требует ремонта</td>\n",
       "      <td>Растаможен</td>\n",
       "    </tr>\n",
       "    <tr>\n",
       "      <th>12466</th>\n",
       "      <td>хэтчбек 5 дв.</td>\n",
       "      <td>NISSAN</td>\n",
       "      <td>https://auto.ru/cars/used/sale/nissan/leaf/110...</td>\n",
       "      <td>чёрный</td>\n",
       "      <td>NaN</td>\n",
       "      <td>Аукционный авто, батарея 30 квт., куплен в 201...</td>\n",
       "      <td>NaN</td>\n",
       "      <td>109 N12</td>\n",
       "      <td>{\"cruise-control\":true,\"asr\":true,\"tinted-glas...</td>\n",
       "      <td>электро</td>\n",
       "      <td>...</td>\n",
       "      <td>HATCHBACK_5_DOORS AUTOMATIC</td>\n",
       "      <td>автоматическая</td>\n",
       "      <td>JAPANESE</td>\n",
       "      <td>1 владелец</td>\n",
       "      <td>2 года и 2 месяца</td>\n",
       "      <td>Оригинал</td>\n",
       "      <td>передний</td>\n",
       "      <td>Правый</td>\n",
       "      <td>Не требует ремонта</td>\n",
       "      <td>Растаможен</td>\n",
       "    </tr>\n",
       "    <tr>\n",
       "      <th>12481</th>\n",
       "      <td>хэтчбек 5 дв.</td>\n",
       "      <td>NISSAN</td>\n",
       "      <td>https://auto.ru/cars/used/sale/nissan/leaf/110...</td>\n",
       "      <td>белый</td>\n",
       "      <td>NaN</td>\n",
       "      <td>АВТОМОБИЛЬ В МОСКВЕ.\\n\\nПривозил под себя, езж...</td>\n",
       "      <td>NaN</td>\n",
       "      <td>109 N12</td>\n",
       "      <td>{\"cruise-control\":true,\"tinted-glass\":true,\"es...</td>\n",
       "      <td>электро</td>\n",
       "      <td>...</td>\n",
       "      <td>HATCHBACK_5_DOORS AUTOMATIC</td>\n",
       "      <td>автоматическая</td>\n",
       "      <td>JAPANESE</td>\n",
       "      <td>1 владелец</td>\n",
       "      <td>5 месяцев</td>\n",
       "      <td>Оригинал</td>\n",
       "      <td>передний</td>\n",
       "      <td>Правый</td>\n",
       "      <td>Не требует ремонта</td>\n",
       "      <td>Растаможен</td>\n",
       "    </tr>\n",
       "    <tr>\n",
       "      <th>12558</th>\n",
       "      <td>хэтчбек 5 дв.</td>\n",
       "      <td>NISSAN</td>\n",
       "      <td>https://auto.ru/cars/used/sale/nissan/leaf/109...</td>\n",
       "      <td>серебристый</td>\n",
       "      <td>NaN</td>\n",
       "      <td>Продам nissan leaf 2011 года🚗\\nЦена за наличку...</td>\n",
       "      <td>NaN</td>\n",
       "      <td>109 N12</td>\n",
       "      <td>{\"cruise-control\":true,\"asr\":true,\"tinted-glas...</td>\n",
       "      <td>электро</td>\n",
       "      <td>...</td>\n",
       "      <td>HATCHBACK_5_DOORS AUTOMATIC</td>\n",
       "      <td>автоматическая</td>\n",
       "      <td>JAPANESE</td>\n",
       "      <td>1 владелец</td>\n",
       "      <td>1 год и 2 месяца</td>\n",
       "      <td>Оригинал</td>\n",
       "      <td>передний</td>\n",
       "      <td>Правый</td>\n",
       "      <td>Не требует ремонта</td>\n",
       "      <td>Растаможен</td>\n",
       "    </tr>\n",
       "    <tr>\n",
       "      <th>12582</th>\n",
       "      <td>хэтчбек 5 дв.</td>\n",
       "      <td>NISSAN</td>\n",
       "      <td>https://auto.ru/cars/used/sale/nissan/leaf/109...</td>\n",
       "      <td>белый</td>\n",
       "      <td>NaN</td>\n",
       "      <td>16 модельный год (изг. декабрь 2015) \\nПокупал...</td>\n",
       "      <td>NaN</td>\n",
       "      <td>109 N12</td>\n",
       "      <td>{\"cruise-control\":true,\"asr\":true,\"tinted-glas...</td>\n",
       "      <td>электро</td>\n",
       "      <td>...</td>\n",
       "      <td>HATCHBACK_5_DOORS AUTOMATIC</td>\n",
       "      <td>автоматическая</td>\n",
       "      <td>JAPANESE</td>\n",
       "      <td>1 владелец</td>\n",
       "      <td>2 года и 6 месяцев</td>\n",
       "      <td>Оригинал</td>\n",
       "      <td>передний</td>\n",
       "      <td>Правый</td>\n",
       "      <td>Не требует ремонта</td>\n",
       "      <td>Растаможен</td>\n",
       "    </tr>\n",
       "    <tr>\n",
       "      <th>12678</th>\n",
       "      <td>хэтчбек 5 дв.</td>\n",
       "      <td>NISSAN</td>\n",
       "      <td>https://auto.ru/cars/used/sale/nissan/leaf/109...</td>\n",
       "      <td>чёрный</td>\n",
       "      <td>NaN</td>\n",
       "      <td>- Я первый собственник, авто завезено в июле 2...</td>\n",
       "      <td>NaN</td>\n",
       "      <td>109 N12</td>\n",
       "      <td>{\"cruise-control\":true,\"esp\":true,\"airbag-driv...</td>\n",
       "      <td>электро</td>\n",
       "      <td>...</td>\n",
       "      <td>HATCHBACK_5_DOORS AUTOMATIC</td>\n",
       "      <td>автоматическая</td>\n",
       "      <td>JAPANESE</td>\n",
       "      <td>1 владелец</td>\n",
       "      <td>1 год и 3 месяца</td>\n",
       "      <td>Оригинал</td>\n",
       "      <td>передний</td>\n",
       "      <td>Правый</td>\n",
       "      <td>Не требует ремонта</td>\n",
       "      <td>Растаможен</td>\n",
       "    </tr>\n",
       "    <tr>\n",
       "      <th>12749</th>\n",
       "      <td>хэтчбек 5 дв.</td>\n",
       "      <td>NISSAN</td>\n",
       "      <td>https://auto.ru/cars/used/sale/nissan/leaf/109...</td>\n",
       "      <td>чёрный</td>\n",
       "      <td>NaN</td>\n",
       "      <td>SOH — 87,99\\n\\nОтличная городская машина в иде...</td>\n",
       "      <td>NaN</td>\n",
       "      <td>109 N12</td>\n",
       "      <td>{\"engine-proof\":true,\"cruise-control\":true,\"as...</td>\n",
       "      <td>электро</td>\n",
       "      <td>...</td>\n",
       "      <td>HATCHBACK_5_DOORS AUTOMATIC</td>\n",
       "      <td>автоматическая</td>\n",
       "      <td>JAPANESE</td>\n",
       "      <td>1 владелец</td>\n",
       "      <td>1 год и 1 месяц</td>\n",
       "      <td>Оригинал</td>\n",
       "      <td>передний</td>\n",
       "      <td>Правый</td>\n",
       "      <td>Не требует ремонта</td>\n",
       "      <td>Растаможен</td>\n",
       "    </tr>\n",
       "    <tr>\n",
       "      <th>12854</th>\n",
       "      <td>хэтчбек 5 дв.</td>\n",
       "      <td>NISSAN</td>\n",
       "      <td>https://auto.ru/cars/used/sale/nissan/leaf/109...</td>\n",
       "      <td>чёрный</td>\n",
       "      <td>NaN</td>\n",
       "      <td>Машина в отличном состоянии. В дтп не была. Оч...</td>\n",
       "      <td>NaN</td>\n",
       "      <td>109 N12</td>\n",
       "      <td>{\"electro-window-back\":true,\"alloy-wheel-disks...</td>\n",
       "      <td>электро</td>\n",
       "      <td>...</td>\n",
       "      <td>HATCHBACK_5_DOORS AUTOMATIC</td>\n",
       "      <td>автоматическая</td>\n",
       "      <td>JAPANESE</td>\n",
       "      <td>2 владельца</td>\n",
       "      <td>11 месяцев</td>\n",
       "      <td>Оригинал</td>\n",
       "      <td>передний</td>\n",
       "      <td>Правый</td>\n",
       "      <td>Не требует ремонта</td>\n",
       "      <td>Растаможен</td>\n",
       "    </tr>\n",
       "    <tr>\n",
       "      <th>12916</th>\n",
       "      <td>хэтчбек 5 дв.</td>\n",
       "      <td>NISSAN</td>\n",
       "      <td>https://auto.ru/cars/used/sale/nissan/leaf/109...</td>\n",
       "      <td>чёрный</td>\n",
       "      <td>NaN</td>\n",
       "      <td>Автомобиль покупал на аукционе. Комплектация G...</td>\n",
       "      <td>NaN</td>\n",
       "      <td>109 N12</td>\n",
       "      <td>{\"cruise-control\":true,\"tinted-glass\":true,\"es...</td>\n",
       "      <td>электро</td>\n",
       "      <td>...</td>\n",
       "      <td>HATCHBACK_5_DOORS AUTOMATIC</td>\n",
       "      <td>автоматическая</td>\n",
       "      <td>JAPANESE</td>\n",
       "      <td>1 владелец</td>\n",
       "      <td>NaN</td>\n",
       "      <td>Оригинал</td>\n",
       "      <td>передний</td>\n",
       "      <td>Правый</td>\n",
       "      <td>Не требует ремонта</td>\n",
       "      <td>Растаможен</td>\n",
       "    </tr>\n",
       "    <tr>\n",
       "      <th>12948</th>\n",
       "      <td>хэтчбек 5 дв.</td>\n",
       "      <td>NISSAN</td>\n",
       "      <td>https://auto.ru/cars/used/sale/nissan/leaf/109...</td>\n",
       "      <td>серебристый</td>\n",
       "      <td>NaN</td>\n",
       "      <td>Продаю свою шикарную машину, которая радовала ...</td>\n",
       "      <td>NaN</td>\n",
       "      <td>109 N12</td>\n",
       "      <td>NaN</td>\n",
       "      <td>электро</td>\n",
       "      <td>...</td>\n",
       "      <td>HATCHBACK_5_DOORS AUTOMATIC</td>\n",
       "      <td>автоматическая</td>\n",
       "      <td>JAPANESE</td>\n",
       "      <td>2 владельца</td>\n",
       "      <td>NaN</td>\n",
       "      <td>Оригинал</td>\n",
       "      <td>передний</td>\n",
       "      <td>Правый</td>\n",
       "      <td>Не требует ремонта</td>\n",
       "      <td>Растаможен</td>\n",
       "    </tr>\n",
       "    <tr>\n",
       "      <th>12950</th>\n",
       "      <td>хэтчбек 5 дв.</td>\n",
       "      <td>NISSAN</td>\n",
       "      <td>https://auto.ru/cars/used/sale/nissan/leaf/109...</td>\n",
       "      <td>белый</td>\n",
       "      <td>NaN</td>\n",
       "      <td>Аукционный авто. 3.5 балла. В Москве с августа...</td>\n",
       "      <td>NaN</td>\n",
       "      <td>109 N12</td>\n",
       "      <td>{\"cruise-control\":true,\"asr\":true,\"tinted-glas...</td>\n",
       "      <td>электро</td>\n",
       "      <td>...</td>\n",
       "      <td>HATCHBACK_5_DOORS AUTOMATIC</td>\n",
       "      <td>автоматическая</td>\n",
       "      <td>JAPANESE</td>\n",
       "      <td>1 владелец</td>\n",
       "      <td>NaN</td>\n",
       "      <td>Оригинал</td>\n",
       "      <td>передний</td>\n",
       "      <td>Правый</td>\n",
       "      <td>Не требует ремонта</td>\n",
       "      <td>Растаможен</td>\n",
       "    </tr>\n",
       "    <tr>\n",
       "      <th>13052</th>\n",
       "      <td>хэтчбек 5 дв.</td>\n",
       "      <td>NISSAN</td>\n",
       "      <td>https://auto.ru/cars/used/sale/nissan/leaf/109...</td>\n",
       "      <td>белый</td>\n",
       "      <td>NaN</td>\n",
       "      <td>Доброго времени суток. Продаю Nissan Leaf AZEO...</td>\n",
       "      <td>NaN</td>\n",
       "      <td>109 N12</td>\n",
       "      <td>{\"cruise-control\":true,\"tinted-glass\":true,\"es...</td>\n",
       "      <td>электро</td>\n",
       "      <td>...</td>\n",
       "      <td>HATCHBACK_5_DOORS AUTOMATIC</td>\n",
       "      <td>автоматическая</td>\n",
       "      <td>JAPANESE</td>\n",
       "      <td>1 владелец</td>\n",
       "      <td>3 года и 4 месяца</td>\n",
       "      <td>Оригинал</td>\n",
       "      <td>передний</td>\n",
       "      <td>Правый</td>\n",
       "      <td>Не требует ремонта</td>\n",
       "      <td>Растаможен</td>\n",
       "    </tr>\n",
       "    <tr>\n",
       "      <th>13104</th>\n",
       "      <td>хэтчбек 5 дв.</td>\n",
       "      <td>NISSAN</td>\n",
       "      <td>https://auto.ru/cars/used/sale/nissan/leaf/109...</td>\n",
       "      <td>белый</td>\n",
       "      <td>NaN</td>\n",
       "      <td>\\n- за данную  цену продают без велюра и матов...</td>\n",
       "      <td>NaN</td>\n",
       "      <td>109 N12</td>\n",
       "      <td>{\"cruise-control\":true,\"esp\":true,\"adaptive-li...</td>\n",
       "      <td>электро</td>\n",
       "      <td>...</td>\n",
       "      <td>HATCHBACK_5_DOORS AUTOMATIC</td>\n",
       "      <td>автоматическая</td>\n",
       "      <td>JAPANESE</td>\n",
       "      <td>1 владелец</td>\n",
       "      <td>1 год</td>\n",
       "      <td>Оригинал</td>\n",
       "      <td>передний</td>\n",
       "      <td>Правый</td>\n",
       "      <td>Не требует ремонта</td>\n",
       "      <td>Растаможен</td>\n",
       "    </tr>\n",
       "    <tr>\n",
       "      <th>13105</th>\n",
       "      <td>хэтчбек 5 дв.</td>\n",
       "      <td>NISSAN</td>\n",
       "      <td>https://auto.ru/cars/used/sale/nissan/leaf/108...</td>\n",
       "      <td>серебристый</td>\n",
       "      <td>NaN</td>\n",
       "      <td>Новая резина. Куплена не в кредит. Не прокурен...</td>\n",
       "      <td>NaN</td>\n",
       "      <td>109 N12</td>\n",
       "      <td>{\"cruise-control\":true,\"tinted-glass\":true,\"st...</td>\n",
       "      <td>электро</td>\n",
       "      <td>...</td>\n",
       "      <td>HATCHBACK_5_DOORS AUTOMATIC</td>\n",
       "      <td>автоматическая</td>\n",
       "      <td>JAPANESE</td>\n",
       "      <td>1 владелец</td>\n",
       "      <td>2 года и 4 месяца</td>\n",
       "      <td>Оригинал</td>\n",
       "      <td>передний</td>\n",
       "      <td>Правый</td>\n",
       "      <td>Не требует ремонта</td>\n",
       "      <td>Растаможен</td>\n",
       "    </tr>\n",
       "    <tr>\n",
       "      <th>13478</th>\n",
       "      <td>хэтчбек 5 дв.</td>\n",
       "      <td>NISSAN</td>\n",
       "      <td>https://auto.ru/cars/used/sale/nissan/leaf/110...</td>\n",
       "      <td>красный</td>\n",
       "      <td>NaN</td>\n",
       "      <td>Aze0 30 кВт, SOH 77.5, 10 делений, я 1й владел...</td>\n",
       "      <td>NaN</td>\n",
       "      <td>109 N12</td>\n",
       "      <td>{\"cruise-control\":true,\"airbag-driver\":true,\"a...</td>\n",
       "      <td>электро</td>\n",
       "      <td>...</td>\n",
       "      <td>HATCHBACK_5_DOORS AUTOMATIC</td>\n",
       "      <td>автоматическая</td>\n",
       "      <td>JAPANESE</td>\n",
       "      <td>1 владелец</td>\n",
       "      <td>4 месяца</td>\n",
       "      <td>Оригинал</td>\n",
       "      <td>передний</td>\n",
       "      <td>Правый</td>\n",
       "      <td>Не требует ремонта</td>\n",
       "      <td>Растаможен</td>\n",
       "    </tr>\n",
       "    <tr>\n",
       "      <th>13633</th>\n",
       "      <td>хэтчбек 5 дв.</td>\n",
       "      <td>NISSAN</td>\n",
       "      <td>https://auto.ru/cars/used/sale/nissan/leaf/100...</td>\n",
       "      <td>синий</td>\n",
       "      <td>NaN</td>\n",
       "      <td>На машине стоит вебасто с термоколом. Управляе...</td>\n",
       "      <td>NaN</td>\n",
       "      <td>109 N12</td>\n",
       "      <td>NaN</td>\n",
       "      <td>электро</td>\n",
       "      <td>...</td>\n",
       "      <td>HATCHBACK_5_DOORS AUTOMATIC</td>\n",
       "      <td>автоматическая</td>\n",
       "      <td>JAPANESE</td>\n",
       "      <td>2 владельца</td>\n",
       "      <td>5 лет и 10 месяцев</td>\n",
       "      <td>Оригинал</td>\n",
       "      <td>передний</td>\n",
       "      <td>Левый</td>\n",
       "      <td>Не требует ремонта</td>\n",
       "      <td>Растаможен</td>\n",
       "    </tr>\n",
       "    <tr>\n",
       "      <th>13660</th>\n",
       "      <td>хэтчбек 5 дв.</td>\n",
       "      <td>NISSAN</td>\n",
       "      <td>https://auto.ru/cars/used/sale/nissan/leaf/109...</td>\n",
       "      <td>чёрный</td>\n",
       "      <td>NaN</td>\n",
       "      <td>Отличное состояние. Полная комплектация. Подро...</td>\n",
       "      <td>NaN</td>\n",
       "      <td>109 N12</td>\n",
       "      <td>{\"cruise-control\":true,\"tinted-glass\":true,\"es...</td>\n",
       "      <td>электро</td>\n",
       "      <td>...</td>\n",
       "      <td>HATCHBACK_5_DOORS AUTOMATIC</td>\n",
       "      <td>автоматическая</td>\n",
       "      <td>JAPANESE</td>\n",
       "      <td>1 владелец</td>\n",
       "      <td>1 год и 3 месяца</td>\n",
       "      <td>Оригинал</td>\n",
       "      <td>передний</td>\n",
       "      <td>Правый</td>\n",
       "      <td>Не требует ремонта</td>\n",
       "      <td>Растаможен</td>\n",
       "    </tr>\n",
       "    <tr>\n",
       "      <th>13720</th>\n",
       "      <td>хэтчбек 5 дв.</td>\n",
       "      <td>NISSAN</td>\n",
       "      <td>https://auto.ru/cars/used/sale/nissan/leaf/109...</td>\n",
       "      <td>красный</td>\n",
       "      <td>NaN</td>\n",
       "      <td>SOH 70 / 8 делений / отличный авто для города ...</td>\n",
       "      <td>NaN</td>\n",
       "      <td>109 N12</td>\n",
       "      <td>{\"electro-window-back\":true,\"esp\":true,\"start-...</td>\n",
       "      <td>электро</td>\n",
       "      <td>...</td>\n",
       "      <td>HATCHBACK_5_DOORS AUTOMATIC</td>\n",
       "      <td>автоматическая</td>\n",
       "      <td>JAPANESE</td>\n",
       "      <td>1 владелец</td>\n",
       "      <td>NaN</td>\n",
       "      <td>Оригинал</td>\n",
       "      <td>передний</td>\n",
       "      <td>Правый</td>\n",
       "      <td>Не требует ремонта</td>\n",
       "      <td>Растаможен</td>\n",
       "    </tr>\n",
       "    <tr>\n",
       "      <th>13812</th>\n",
       "      <td>хэтчбек 5 дв.</td>\n",
       "      <td>NISSAN</td>\n",
       "      <td>https://auto.ru/cars/used/sale/nissan/leaf/109...</td>\n",
       "      <td>голубой</td>\n",
       "      <td>NaN</td>\n",
       "      <td>Хозяин, владею два года, богатая комплектация,...</td>\n",
       "      <td>NaN</td>\n",
       "      <td>109 N12</td>\n",
       "      <td>NaN</td>\n",
       "      <td>электро</td>\n",
       "      <td>...</td>\n",
       "      <td>HATCHBACK_5_DOORS AUTOMATIC</td>\n",
       "      <td>автоматическая</td>\n",
       "      <td>JAPANESE</td>\n",
       "      <td>1 владелец</td>\n",
       "      <td>NaN</td>\n",
       "      <td>Оригинал</td>\n",
       "      <td>передний</td>\n",
       "      <td>Правый</td>\n",
       "      <td>Не требует ремонта</td>\n",
       "      <td>Растаможен</td>\n",
       "    </tr>\n",
       "    <tr>\n",
       "      <th>13915</th>\n",
       "      <td>хэтчбек 5 дв.</td>\n",
       "      <td>NISSAN</td>\n",
       "      <td>https://auto.ru/cars/used/sale/nissan/leaf/108...</td>\n",
       "      <td>красный</td>\n",
       "      <td>NaN</td>\n",
       "      <td>Правый руль.Батарея 30 кВт,Тепловой насос. (До...</td>\n",
       "      <td>NaN</td>\n",
       "      <td>109 N12</td>\n",
       "      <td>{\"cruise-control\":true,\"steel-wheels\":true,\"au...</td>\n",
       "      <td>электро</td>\n",
       "      <td>...</td>\n",
       "      <td>HATCHBACK_5_DOORS AUTOMATIC</td>\n",
       "      <td>автоматическая</td>\n",
       "      <td>JAPANESE</td>\n",
       "      <td>1 владелец</td>\n",
       "      <td>2 года и 4 месяца</td>\n",
       "      <td>Оригинал</td>\n",
       "      <td>передний</td>\n",
       "      <td>Правый</td>\n",
       "      <td>Не требует ремонта</td>\n",
       "      <td>Растаможен</td>\n",
       "    </tr>\n",
       "    <tr>\n",
       "      <th>13952</th>\n",
       "      <td>хэтчбек 5 дв.</td>\n",
       "      <td>NISSAN</td>\n",
       "      <td>https://auto.ru/cars/used/sale/nissan/leaf/110...</td>\n",
       "      <td>белый</td>\n",
       "      <td>NaN</td>\n",
       "      <td>Продается электро-автомобиль в хорошем состоян...</td>\n",
       "      <td>NaN</td>\n",
       "      <td>109 N12</td>\n",
       "      <td>{\"electro-window-back\":true,\"cruise-control\":t...</td>\n",
       "      <td>электро</td>\n",
       "      <td>...</td>\n",
       "      <td>HATCHBACK_5_DOORS AUTOMATIC</td>\n",
       "      <td>автоматическая</td>\n",
       "      <td>JAPANESE</td>\n",
       "      <td>1 владелец</td>\n",
       "      <td>11 месяцев</td>\n",
       "      <td>Оригинал</td>\n",
       "      <td>передний</td>\n",
       "      <td>Правый</td>\n",
       "      <td>Не требует ремонта</td>\n",
       "      <td>Растаможен</td>\n",
       "    </tr>\n",
       "    <tr>\n",
       "      <th>13989</th>\n",
       "      <td>хэтчбек 5 дв.</td>\n",
       "      <td>NISSAN</td>\n",
       "      <td>https://auto.ru/cars/used/sale/nissan/leaf/109...</td>\n",
       "      <td>чёрный</td>\n",
       "      <td>NaN</td>\n",
       "      <td>Только что привезен напрямую с аукциона в Япон...</td>\n",
       "      <td>NaN</td>\n",
       "      <td>109 N12</td>\n",
       "      <td>{\"electro-window-back\":true,\"16-inch-wheels\":t...</td>\n",
       "      <td>электро</td>\n",
       "      <td>...</td>\n",
       "      <td>HATCHBACK_5_DOORS AUTOMATIC</td>\n",
       "      <td>автоматическая</td>\n",
       "      <td>JAPANESE</td>\n",
       "      <td>1 владелец</td>\n",
       "      <td>11 месяцев</td>\n",
       "      <td>Оригинал</td>\n",
       "      <td>передний</td>\n",
       "      <td>Правый</td>\n",
       "      <td>Не требует ремонта</td>\n",
       "      <td>Растаможен</td>\n",
       "    </tr>\n",
       "    <tr>\n",
       "      <th>14147</th>\n",
       "      <td>хэтчбек 5 дв.</td>\n",
       "      <td>NISSAN</td>\n",
       "      <td>https://auto.ru/cars/used/sale/nissan/leaf/109...</td>\n",
       "      <td>серый</td>\n",
       "      <td>NaN</td>\n",
       "      <td>Продаю отличного лифа. Сох 69. Соответствует г...</td>\n",
       "      <td>NaN</td>\n",
       "      <td>109 N12</td>\n",
       "      <td>{\"glonass\":true,\"esp\":true,\"start-stop-functio...</td>\n",
       "      <td>электро</td>\n",
       "      <td>...</td>\n",
       "      <td>HATCHBACK_5_DOORS AUTOMATIC</td>\n",
       "      <td>автоматическая</td>\n",
       "      <td>JAPANESE</td>\n",
       "      <td>2 владельца</td>\n",
       "      <td>NaN</td>\n",
       "      <td>Оригинал</td>\n",
       "      <td>передний</td>\n",
       "      <td>Правый</td>\n",
       "      <td>Не требует ремонта</td>\n",
       "      <td>Растаможен</td>\n",
       "    </tr>\n",
       "    <tr>\n",
       "      <th>14419</th>\n",
       "      <td>хэтчбек 5 дв.</td>\n",
       "      <td>NISSAN</td>\n",
       "      <td>https://auto.ru/cars/used/sale/nissan/leaf/109...</td>\n",
       "      <td>серый</td>\n",
       "      <td>NaN</td>\n",
       "      <td>Причина продажи — хочу ZE1. Если сел на электр...</td>\n",
       "      <td>NaN</td>\n",
       "      <td>109 N12</td>\n",
       "      <td>{\"cruise-control\":true,\"asr\":true,\"esp\":true,\"...</td>\n",
       "      <td>электро</td>\n",
       "      <td>...</td>\n",
       "      <td>HATCHBACK_5_DOORS AUTOMATIC</td>\n",
       "      <td>автоматическая</td>\n",
       "      <td>JAPANESE</td>\n",
       "      <td>2 владельца</td>\n",
       "      <td>1 год и 1 месяц</td>\n",
       "      <td>Оригинал</td>\n",
       "      <td>передний</td>\n",
       "      <td>Правый</td>\n",
       "      <td>Не требует ремонта</td>\n",
       "      <td>Растаможен</td>\n",
       "    </tr>\n",
       "    <tr>\n",
       "      <th>23869</th>\n",
       "      <td>хэтчбек 5 дв.</td>\n",
       "      <td>VOLKSWAGEN</td>\n",
       "      <td>https://auto.ru/cars/used/sale/volkswagen/golf...</td>\n",
       "      <td>чёрный</td>\n",
       "      <td>NaN</td>\n",
       "      <td>Отличный, немецкий, полностью электрический ав...</td>\n",
       "      <td>NaN</td>\n",
       "      <td>115 N12</td>\n",
       "      <td>{\"cruise-control\":true,\"asr\":true,\"esp\":true,\"...</td>\n",
       "      <td>электро</td>\n",
       "      <td>...</td>\n",
       "      <td>HATCHBACK_5_DOORS AUTOMATIC</td>\n",
       "      <td>автоматическая</td>\n",
       "      <td>EUROPEAN</td>\n",
       "      <td>1 владелец</td>\n",
       "      <td>NaN</td>\n",
       "      <td>Оригинал</td>\n",
       "      <td>передний</td>\n",
       "      <td>Левый</td>\n",
       "      <td>Не требует ремонта</td>\n",
       "      <td>Растаможен</td>\n",
       "    </tr>\n",
       "    <tr>\n",
       "      <th>23948</th>\n",
       "      <td>хэтчбек 5 дв.</td>\n",
       "      <td>VOLKSWAGEN</td>\n",
       "      <td>https://auto.ru/cars/used/sale/volkswagen/golf...</td>\n",
       "      <td>белый</td>\n",
       "      <td>NaN</td>\n",
       "      <td>Внимание! Только для клиентов AVILON Автомобил...</td>\n",
       "      <td>NaN</td>\n",
       "      <td>115 N12</td>\n",
       "      <td>{\"cruise-control\":true,\"engine-proof\":true,\"es...</td>\n",
       "      <td>электро</td>\n",
       "      <td>...</td>\n",
       "      <td>HATCHBACK_5_DOORS AUTOMATIC</td>\n",
       "      <td>автоматическая</td>\n",
       "      <td>EUROPEAN</td>\n",
       "      <td>1 владелец</td>\n",
       "      <td>NaN</td>\n",
       "      <td>Оригинал</td>\n",
       "      <td>передний</td>\n",
       "      <td>Левый</td>\n",
       "      <td>Не требует ремонта</td>\n",
       "      <td>Растаможен</td>\n",
       "    </tr>\n",
       "    <tr>\n",
       "      <th>27064</th>\n",
       "      <td>хэтчбек 5 дв.</td>\n",
       "      <td>MITSUBISHI</td>\n",
       "      <td>https://auto.ru/cars/used/sale/mitsubishi/i_mi...</td>\n",
       "      <td>белый</td>\n",
       "      <td>NaN</td>\n",
       "      <td>Авто в идеальном состоянии.\\nНа днях пройдено ...</td>\n",
       "      <td>NaN</td>\n",
       "      <td>67 N12</td>\n",
       "      <td>NaN</td>\n",
       "      <td>электро</td>\n",
       "      <td>...</td>\n",
       "      <td>HATCHBACK_5_DOORS AUTOMATIC</td>\n",
       "      <td>автоматическая</td>\n",
       "      <td>JAPANESE</td>\n",
       "      <td>2 владельца</td>\n",
       "      <td>4 года</td>\n",
       "      <td>Оригинал</td>\n",
       "      <td>задний</td>\n",
       "      <td>Левый</td>\n",
       "      <td>Не требует ремонта</td>\n",
       "      <td>Растаможен</td>\n",
       "    </tr>\n",
       "    <tr>\n",
       "      <th>28241</th>\n",
       "      <td>хэтчбек 5 дв.</td>\n",
       "      <td>MITSUBISHI</td>\n",
       "      <td>https://auto.ru/cars/used/sale/mitsubishi/i_mi...</td>\n",
       "      <td>серебристый</td>\n",
       "      <td>NaN</td>\n",
       "      <td>Добрый день. Самая полная комплектация 16 Кват...</td>\n",
       "      <td>NaN</td>\n",
       "      <td>67 N12</td>\n",
       "      <td>NaN</td>\n",
       "      <td>электро</td>\n",
       "      <td>...</td>\n",
       "      <td>HATCHBACK_5_DOORS AUTOMATIC</td>\n",
       "      <td>автоматическая</td>\n",
       "      <td>JAPANESE</td>\n",
       "      <td>2 владельца</td>\n",
       "      <td>NaN</td>\n",
       "      <td>Оригинал</td>\n",
       "      <td>задний</td>\n",
       "      <td>Правый</td>\n",
       "      <td>Не требует ремонта</td>\n",
       "      <td>Растаможен</td>\n",
       "    </tr>\n",
       "    <tr>\n",
       "      <th>32668</th>\n",
       "      <td>хэтчбек 5 дв.</td>\n",
       "      <td>NISSAN</td>\n",
       "      <td>https://auto.ru/cars/used/sale/nissan/leaf/110...</td>\n",
       "      <td>чёрный</td>\n",
       "      <td>NaN</td>\n",
       "      <td>Абсолютно новый автомобиль, богатая комплектац...</td>\n",
       "      <td>NaN</td>\n",
       "      <td>150 N12</td>\n",
       "      <td>{\"cruise-control\":true,\"glonass\":true,\"ptf\":tr...</td>\n",
       "      <td>электро</td>\n",
       "      <td>...</td>\n",
       "      <td>HATCHBACK_5_DOORS AUTOMATIC</td>\n",
       "      <td>автоматическая</td>\n",
       "      <td>JAPANESE</td>\n",
       "      <td>1 владелец</td>\n",
       "      <td>1 год и 10 месяцев</td>\n",
       "      <td>Оригинал</td>\n",
       "      <td>передний</td>\n",
       "      <td>Левый</td>\n",
       "      <td>Не требует ремонта</td>\n",
       "      <td>Растаможен</td>\n",
       "    </tr>\n",
       "    <tr>\n",
       "      <th>32700</th>\n",
       "      <td>хэтчбек 5 дв.</td>\n",
       "      <td>NISSAN</td>\n",
       "      <td>https://auto.ru/cars/used/sale/nissan/leaf/110...</td>\n",
       "      <td>голубой</td>\n",
       "      <td>NaN</td>\n",
       "      <td>Оригинальный аукционный лист.Оценка 4 балла.  ...</td>\n",
       "      <td>NaN</td>\n",
       "      <td>109 N12</td>\n",
       "      <td>{\"cruise-control\":true,\"airbag-rear-side\":true...</td>\n",
       "      <td>электро</td>\n",
       "      <td>...</td>\n",
       "      <td>HATCHBACK_5_DOORS AUTOMATIC</td>\n",
       "      <td>автоматическая</td>\n",
       "      <td>JAPANESE</td>\n",
       "      <td>1 владелец</td>\n",
       "      <td>5 месяцев</td>\n",
       "      <td>Оригинал</td>\n",
       "      <td>передний</td>\n",
       "      <td>Правый</td>\n",
       "      <td>Не требует ремонта</td>\n",
       "      <td>Растаможен</td>\n",
       "    </tr>\n",
       "    <tr>\n",
       "      <th>32798</th>\n",
       "      <td>хэтчбек 5 дв.</td>\n",
       "      <td>NISSAN</td>\n",
       "      <td>https://auto.ru/cars/used/sale/nissan/leaf/109...</td>\n",
       "      <td>чёрный</td>\n",
       "      <td>NaN</td>\n",
       "      <td>Я хозяин. Вписан в ПТС.</td>\n",
       "      <td>NaN</td>\n",
       "      <td>109 N12</td>\n",
       "      <td>{\"tinted-glass\":true,\"esp\":true,\"start-stop-fu...</td>\n",
       "      <td>электро</td>\n",
       "      <td>...</td>\n",
       "      <td>HATCHBACK_5_DOORS AUTOMATIC</td>\n",
       "      <td>автоматическая</td>\n",
       "      <td>JAPANESE</td>\n",
       "      <td>1 владелец</td>\n",
       "      <td>NaN</td>\n",
       "      <td>Оригинал</td>\n",
       "      <td>передний</td>\n",
       "      <td>Правый</td>\n",
       "      <td>Не требует ремонта</td>\n",
       "      <td>Растаможен</td>\n",
       "    </tr>\n",
       "    <tr>\n",
       "      <th>34159</th>\n",
       "      <td>хэтчбек 5 дв.</td>\n",
       "      <td>MERCEDES</td>\n",
       "      <td>https://auto.ru/cars/used/sale/mercedes/b_klas...</td>\n",
       "      <td>белый</td>\n",
       "      <td>NaN</td>\n",
       "      <td>Автомобиль куплен в Германии (европейская верс...</td>\n",
       "      <td>NaN</td>\n",
       "      <td>179 N12</td>\n",
       "      <td>{\"cruise-control\":true,\"airbag-driver\":true,\"a...</td>\n",
       "      <td>электро</td>\n",
       "      <td>...</td>\n",
       "      <td>HATCHBACK_5_DOORS AUTOMATIC</td>\n",
       "      <td>автоматическая</td>\n",
       "      <td>EUROPEAN</td>\n",
       "      <td>2 владельца</td>\n",
       "      <td>10 месяцев</td>\n",
       "      <td>Оригинал</td>\n",
       "      <td>передний</td>\n",
       "      <td>Левый</td>\n",
       "      <td>Не требует ремонта</td>\n",
       "      <td>Растаможен</td>\n",
       "    </tr>\n",
       "    <tr>\n",
       "      <th>34504</th>\n",
       "      <td>хэтчбек 5 дв.</td>\n",
       "      <td>NISSAN</td>\n",
       "      <td>https://auto.ru/cars/used/sale/nissan/leaf/110...</td>\n",
       "      <td>чёрный</td>\n",
       "      <td>NaN</td>\n",
       "      <td>В отличном состоянии вложений не требует.</td>\n",
       "      <td>NaN</td>\n",
       "      <td>109 N12</td>\n",
       "      <td>{\"alloy-wheel-disks\":true,\"tinted-glass\":true,...</td>\n",
       "      <td>электро</td>\n",
       "      <td>...</td>\n",
       "      <td>HATCHBACK_5_DOORS AUTOMATIC</td>\n",
       "      <td>автоматическая</td>\n",
       "      <td>JAPANESE</td>\n",
       "      <td>2 владельца</td>\n",
       "      <td>2 года и 1 месяц</td>\n",
       "      <td>Оригинал</td>\n",
       "      <td>передний</td>\n",
       "      <td>Правый</td>\n",
       "      <td>Не требует ремонта</td>\n",
       "      <td>Растаможен</td>\n",
       "    </tr>\n",
       "  </tbody>\n",
       "</table>\n",
       "<p>55 rows × 32 columns</p>\n",
       "</div>"
      ],
      "text/plain": [
       "                bodyType       brand  \\\n",
       "5241   внедорожник 5 дв.        AUDI   \n",
       "7992       хэтчбек 5 дв.         BMW   \n",
       "8252       хэтчбек 5 дв.         BMW   \n",
       "8350       хэтчбек 5 дв.         BMW   \n",
       "8684       хэтчбек 5 дв.         BMW   \n",
       "8722       хэтчбек 5 дв.         BMW   \n",
       "8917       хэтчбек 5 дв.         BMW   \n",
       "10817      хэтчбек 5 дв.         BMW   \n",
       "10936      хэтчбек 5 дв.         BMW   \n",
       "11043      хэтчбек 5 дв.         BMW   \n",
       "11302      хэтчбек 5 дв.      NISSAN   \n",
       "11682      хэтчбек 5 дв.      NISSAN   \n",
       "11714      хэтчбек 5 дв.      NISSAN   \n",
       "11719      хэтчбек 5 дв.      NISSAN   \n",
       "11754      хэтчбек 5 дв.      NISSAN   \n",
       "11878      хэтчбек 5 дв.      NISSAN   \n",
       "11974      хэтчбек 5 дв.      NISSAN   \n",
       "12072      хэтчбек 5 дв.      NISSAN   \n",
       "12085      хэтчбек 5 дв.      NISSAN   \n",
       "12100      хэтчбек 5 дв.      NISSAN   \n",
       "12250      хэтчбек 5 дв.      NISSAN   \n",
       "12287      хэтчбек 5 дв.      NISSAN   \n",
       "12334      хэтчбек 5 дв.      NISSAN   \n",
       "12466      хэтчбек 5 дв.      NISSAN   \n",
       "12481      хэтчбек 5 дв.      NISSAN   \n",
       "12558      хэтчбек 5 дв.      NISSAN   \n",
       "12582      хэтчбек 5 дв.      NISSAN   \n",
       "12678      хэтчбек 5 дв.      NISSAN   \n",
       "12749      хэтчбек 5 дв.      NISSAN   \n",
       "12854      хэтчбек 5 дв.      NISSAN   \n",
       "12916      хэтчбек 5 дв.      NISSAN   \n",
       "12948      хэтчбек 5 дв.      NISSAN   \n",
       "12950      хэтчбек 5 дв.      NISSAN   \n",
       "13052      хэтчбек 5 дв.      NISSAN   \n",
       "13104      хэтчбек 5 дв.      NISSAN   \n",
       "13105      хэтчбек 5 дв.      NISSAN   \n",
       "13478      хэтчбек 5 дв.      NISSAN   \n",
       "13633      хэтчбек 5 дв.      NISSAN   \n",
       "13660      хэтчбек 5 дв.      NISSAN   \n",
       "13720      хэтчбек 5 дв.      NISSAN   \n",
       "13812      хэтчбек 5 дв.      NISSAN   \n",
       "13915      хэтчбек 5 дв.      NISSAN   \n",
       "13952      хэтчбек 5 дв.      NISSAN   \n",
       "13989      хэтчбек 5 дв.      NISSAN   \n",
       "14147      хэтчбек 5 дв.      NISSAN   \n",
       "14419      хэтчбек 5 дв.      NISSAN   \n",
       "23869      хэтчбек 5 дв.  VOLKSWAGEN   \n",
       "23948      хэтчбек 5 дв.  VOLKSWAGEN   \n",
       "27064      хэтчбек 5 дв.  MITSUBISHI   \n",
       "28241      хэтчбек 5 дв.  MITSUBISHI   \n",
       "32668      хэтчбек 5 дв.      NISSAN   \n",
       "32700      хэтчбек 5 дв.      NISSAN   \n",
       "32798      хэтчбек 5 дв.      NISSAN   \n",
       "34159      хэтчбек 5 дв.    MERCEDES   \n",
       "34504      хэтчбек 5 дв.      NISSAN   \n",
       "\n",
       "                                                 car_url        color  \\\n",
       "5241   https://auto.ru/cars/used/sale/audi/e_tron/110...        белый   \n",
       "7992   https://auto.ru/cars/used/sale/bmw/i3/11010431...        синий   \n",
       "8252   https://auto.ru/cars/used/sale/bmw/i3/11012780...        серый   \n",
       "8350   https://auto.ru/cars/used/sale/bmw/i3/11002716...        белый   \n",
       "8684   https://auto.ru/cars/used/sale/bmw/i3/11011745...       чёрный   \n",
       "8722   https://auto.ru/cars/used/sale/bmw/i3/11000973...      голубой   \n",
       "8917   https://auto.ru/cars/used/sale/bmw/i3/11008715...      бежевый   \n",
       "10817  https://auto.ru/cars/used/sale/bmw/i3/11012664...        серый   \n",
       "10936  https://auto.ru/cars/used/sale/bmw/i3/10996733...       чёрный   \n",
       "11043  https://auto.ru/cars/used/sale/bmw/i3/10993761...        серый   \n",
       "11302  https://auto.ru/cars/used/sale/nissan/leaf/110...      голубой   \n",
       "11682  https://auto.ru/cars/used/sale/nissan/leaf/110...        белый   \n",
       "11714  https://auto.ru/cars/used/sale/nissan/leaf/109...        белый   \n",
       "11719  https://auto.ru/cars/used/sale/nissan/leaf/109...        белый   \n",
       "11754  https://auto.ru/cars/used/sale/nissan/leaf/110...        белый   \n",
       "11878  https://auto.ru/cars/used/sale/nissan/leaf/110...  серебристый   \n",
       "11974  https://auto.ru/cars/used/sale/nissan/leaf/108...       чёрный   \n",
       "12072  https://auto.ru/cars/used/sale/nissan/leaf/110...       чёрный   \n",
       "12085  https://auto.ru/cars/used/sale/nissan/leaf/109...      голубой   \n",
       "12100  https://auto.ru/cars/used/sale/nissan/leaf/109...        серый   \n",
       "12250  https://auto.ru/cars/used/sale/nissan/leaf/109...        серый   \n",
       "12287  https://auto.ru/cars/used/sale/nissan/leaf/109...      голубой   \n",
       "12334  https://auto.ru/cars/used/sale/nissan/leaf/110...       чёрный   \n",
       "12466  https://auto.ru/cars/used/sale/nissan/leaf/110...       чёрный   \n",
       "12481  https://auto.ru/cars/used/sale/nissan/leaf/110...        белый   \n",
       "12558  https://auto.ru/cars/used/sale/nissan/leaf/109...  серебристый   \n",
       "12582  https://auto.ru/cars/used/sale/nissan/leaf/109...        белый   \n",
       "12678  https://auto.ru/cars/used/sale/nissan/leaf/109...       чёрный   \n",
       "12749  https://auto.ru/cars/used/sale/nissan/leaf/109...       чёрный   \n",
       "12854  https://auto.ru/cars/used/sale/nissan/leaf/109...       чёрный   \n",
       "12916  https://auto.ru/cars/used/sale/nissan/leaf/109...       чёрный   \n",
       "12948  https://auto.ru/cars/used/sale/nissan/leaf/109...  серебристый   \n",
       "12950  https://auto.ru/cars/used/sale/nissan/leaf/109...        белый   \n",
       "13052  https://auto.ru/cars/used/sale/nissan/leaf/109...        белый   \n",
       "13104  https://auto.ru/cars/used/sale/nissan/leaf/109...        белый   \n",
       "13105  https://auto.ru/cars/used/sale/nissan/leaf/108...  серебристый   \n",
       "13478  https://auto.ru/cars/used/sale/nissan/leaf/110...      красный   \n",
       "13633  https://auto.ru/cars/used/sale/nissan/leaf/100...        синий   \n",
       "13660  https://auto.ru/cars/used/sale/nissan/leaf/109...       чёрный   \n",
       "13720  https://auto.ru/cars/used/sale/nissan/leaf/109...      красный   \n",
       "13812  https://auto.ru/cars/used/sale/nissan/leaf/109...      голубой   \n",
       "13915  https://auto.ru/cars/used/sale/nissan/leaf/108...      красный   \n",
       "13952  https://auto.ru/cars/used/sale/nissan/leaf/110...        белый   \n",
       "13989  https://auto.ru/cars/used/sale/nissan/leaf/109...       чёрный   \n",
       "14147  https://auto.ru/cars/used/sale/nissan/leaf/109...        серый   \n",
       "14419  https://auto.ru/cars/used/sale/nissan/leaf/109...        серый   \n",
       "23869  https://auto.ru/cars/used/sale/volkswagen/golf...       чёрный   \n",
       "23948  https://auto.ru/cars/used/sale/volkswagen/golf...        белый   \n",
       "27064  https://auto.ru/cars/used/sale/mitsubishi/i_mi...        белый   \n",
       "28241  https://auto.ru/cars/used/sale/mitsubishi/i_mi...  серебристый   \n",
       "32668  https://auto.ru/cars/used/sale/nissan/leaf/110...       чёрный   \n",
       "32700  https://auto.ru/cars/used/sale/nissan/leaf/110...      голубой   \n",
       "32798  https://auto.ru/cars/used/sale/nissan/leaf/109...       чёрный   \n",
       "34159  https://auto.ru/cars/used/sale/mercedes/b_klas...        белый   \n",
       "34504  https://auto.ru/cars/used/sale/nissan/leaf/110...       чёрный   \n",
       "\n",
       "                                      complectation_dict  \\\n",
       "5241                                                 NaN   \n",
       "7992                                                 NaN   \n",
       "8252                                                 NaN   \n",
       "8350   {\"id\":\"21624597\",\"name\":\"i3 120 Ah\",\"available...   \n",
       "8684                                                 NaN   \n",
       "8722                                                 NaN   \n",
       "8917                                                 NaN   \n",
       "10817                                                NaN   \n",
       "10936                                                NaN   \n",
       "11043                                                NaN   \n",
       "11302                                                NaN   \n",
       "11682                                                NaN   \n",
       "11714                                                NaN   \n",
       "11719                                                NaN   \n",
       "11754                                                NaN   \n",
       "11878                                                NaN   \n",
       "11974                                                NaN   \n",
       "12072                                                NaN   \n",
       "12085                                                NaN   \n",
       "12100                                                NaN   \n",
       "12250                                                NaN   \n",
       "12287                                                NaN   \n",
       "12334                                                NaN   \n",
       "12466                                                NaN   \n",
       "12481                                                NaN   \n",
       "12558                                                NaN   \n",
       "12582                                                NaN   \n",
       "12678                                                NaN   \n",
       "12749                                                NaN   \n",
       "12854                                                NaN   \n",
       "12916                                                NaN   \n",
       "12948                                                NaN   \n",
       "12950                                                NaN   \n",
       "13052                                                NaN   \n",
       "13104                                                NaN   \n",
       "13105                                                NaN   \n",
       "13478                                                NaN   \n",
       "13633                                                NaN   \n",
       "13660                                                NaN   \n",
       "13720                                                NaN   \n",
       "13812                                                NaN   \n",
       "13915                                                NaN   \n",
       "13952                                                NaN   \n",
       "13989                                                NaN   \n",
       "14147                                                NaN   \n",
       "14419                                                NaN   \n",
       "23869                                                NaN   \n",
       "23948                                                NaN   \n",
       "27064                                                NaN   \n",
       "28241                                                NaN   \n",
       "32668                                                NaN   \n",
       "32700                                                NaN   \n",
       "32798                                                NaN   \n",
       "34159                                                NaN   \n",
       "34504                                                NaN   \n",
       "\n",
       "                                             description  engineDisplacement  \\\n",
       "5241   Audi e-tron Prestige quattro от Moscow Tesla C...                 NaN   \n",
       "7992   Атомобиль из Германии,без пробега по РФ.\\nНа г...                 NaN   \n",
       "8252   Пробег 54000 км, запас хода на зарядке 130 км+...                 NaN   \n",
       "8350   Автомобиль в наличии Москве , с ПТС , производ...                 NaN   \n",
       "8684   BMW I 3 REX\\nфевраль 2017 года выпуска.\\nПриоб...                 NaN   \n",
       "8722   \\nПрибыло из Америки в августе 2020 года. Полн...                 NaN   \n",
       "8917   -Состояние нового автомобиля .\\n-Carfax вся ис...                 NaN   \n",
       "10817  Продаю BMW I3 +REX .\\n\\nПолноценный электромоб...                 NaN   \n",
       "10936  Автомобиль BMW i3 (полностью электрический )за...                 NaN   \n",
       "11043  Состояние нового автомобиля . \\nФото ИМЕННО ЭТ...                 NaN   \n",
       "11302  Безопасность: 10. Салон: 4. Комфорт: 12. Мульт...                 NaN   \n",
       "11682  Продаю авто без пробега по РФ.\\nМаксимальная к...                 NaN   \n",
       "11714  Комплектация G\\nБатарея 40 кВт\\n\\n- PRO- PILOT...                 NaN   \n",
       "11719  Автомобиль с аукциона! НЕ РЫНОК!!!! (аукционны...                 NaN   \n",
       "11754  Продаю электромобиль ниссан лиаф 2011г пробег1...                 NaN   \n",
       "11878  Оригинальный ПТС.  \\nАвто декабрь 2013 года \\n...                 NaN   \n",
       "11974  Всё работает ,батарея  48 кВт-120км +120км све...                 NaN   \n",
       "12072  Продаю Nissan Leaf 2012 года выпуска. Данный а...                 NaN   \n",
       "12085  Электpомобиль Nissan Leаf  из США( северный шт...                 NaN   \n",
       "12100  Leaf 30x Aero style. 30 квт.ч. 12 палок.\\nконт...                 NaN   \n",
       "12250  Электромобиль в отличном состоянии,  пробег на...                 NaN   \n",
       "12287  Продается Ниссан Leaf в полная комплектация(кр...                 NaN   \n",
       "12334  Продаю своего друга! Очень хорошая машина! Рад...                 NaN   \n",
       "12466  Аукционный авто, батарея 30 квт., куплен в 201...                 NaN   \n",
       "12481  АВТОМОБИЛЬ В МОСКВЕ.\\n\\nПривозил под себя, езж...                 NaN   \n",
       "12558  Продам nissan leaf 2011 года🚗\\nЦена за наличку...                 NaN   \n",
       "12582  16 модельный год (изг. декабрь 2015) \\nПокупал...                 NaN   \n",
       "12678  - Я первый собственник, авто завезено в июле 2...                 NaN   \n",
       "12749  SOH — 87,99\\n\\nОтличная городская машина в иде...                 NaN   \n",
       "12854  Машина в отличном состоянии. В дтп не была. Оч...                 NaN   \n",
       "12916  Автомобиль покупал на аукционе. Комплектация G...                 NaN   \n",
       "12948  Продаю свою шикарную машину, которая радовала ...                 NaN   \n",
       "12950  Аукционный авто. 3.5 балла. В Москве с августа...                 NaN   \n",
       "13052  Доброго времени суток. Продаю Nissan Leaf AZEO...                 NaN   \n",
       "13104  \\n- за данную  цену продают без велюра и матов...                 NaN   \n",
       "13105  Новая резина. Куплена не в кредит. Не прокурен...                 NaN   \n",
       "13478  Aze0 30 кВт, SOH 77.5, 10 делений, я 1й владел...                 NaN   \n",
       "13633  На машине стоит вебасто с термоколом. Управляе...                 NaN   \n",
       "13660  Отличное состояние. Полная комплектация. Подро...                 NaN   \n",
       "13720  SOH 70 / 8 делений / отличный авто для города ...                 NaN   \n",
       "13812  Хозяин, владею два года, богатая комплектация,...                 NaN   \n",
       "13915  Правый руль.Батарея 30 кВт,Тепловой насос. (До...                 NaN   \n",
       "13952  Продается электро-автомобиль в хорошем состоян...                 NaN   \n",
       "13989  Только что привезен напрямую с аукциона в Япон...                 NaN   \n",
       "14147  Продаю отличного лифа. Сох 69. Соответствует г...                 NaN   \n",
       "14419  Причина продажи — хочу ZE1. Если сел на электр...                 NaN   \n",
       "23869  Отличный, немецкий, полностью электрический ав...                 NaN   \n",
       "23948  Внимание! Только для клиентов AVILON Автомобил...                 NaN   \n",
       "27064  Авто в идеальном состоянии.\\nНа днях пройдено ...                 NaN   \n",
       "28241  Добрый день. Самая полная комплектация 16 Кват...                 NaN   \n",
       "32668  Абсолютно новый автомобиль, богатая комплектац...                 NaN   \n",
       "32700  Оригинальный аукционный лист.Оценка 4 балла.  ...                 NaN   \n",
       "32798                            Я хозяин. Вписан в ПТС.                 NaN   \n",
       "34159  Автомобиль куплен в Германии (европейская верс...                 NaN   \n",
       "34504          В отличном состоянии вложений не требует.                 NaN   \n",
       "\n",
       "      enginePower                                     equipment_dict fuelType  \\\n",
       "5241      408 N12  {\"asr\":true,\"esp\":true,\"usb\":true,\"e-adjustmen...  электро   \n",
       "7992      170 N12                                                NaN  электро   \n",
       "8252      170 N12        {\"park-assist-f\":true,\"park-assist-r\":true}  электро   \n",
       "8350      170 N12  {\"cruise-control\":true,\"asr\":true,\"esp\":true,\"...  электро   \n",
       "8684      170 N12  {\"cruise-control\":true,\"glonass\":true,\"navigat...  электро   \n",
       "8722      170 N12                                                NaN  электро   \n",
       "8917      170 N12                 {\"glonass\":true,\"roof-rails\":true}  электро   \n",
       "10817     170 N12                                                NaN  электро   \n",
       "10936     170 N12  {\"cruise-control\":true,\"asr\":true,\"tinted-glas...  электро   \n",
       "11043     170 N12  {\"glonass\":true,\"airbag-driver\":true,\"aux\":tru...  электро   \n",
       "11302     109 N12  {\"asr\":true,\"tinted-glass\":true,\"start-stop-fu...  электро   \n",
       "11682     150 N12  {\"tinted-glass\":true,\"esp\":true,\"adaptive-ligh...  электро   \n",
       "11714     150 N12  {\"collision-prevention-assist\":true,\"led-light...  электро   \n",
       "11719     109 N12                                                NaN  электро   \n",
       "11754     109 N12  {\"cruise-control\":true,\"start-button\":true,\"ra...  электро   \n",
       "11878     109 N12  {\"asr\":true,\"glonass\":true,\"tinted-glass\":true...  электро   \n",
       "11974     109 N12  {\"asr\":true,\"tinted-glass\":true,\"esp\":true,\"ai...  электро   \n",
       "12072     109 N12                                                NaN  электро   \n",
       "12085     109 N12  {\"cruise-control\":true,\"esp\":true,\"start-stop-...  электро   \n",
       "12100     109 N12  {\"tinted-glass\":true,\"esp\":true,\"aux\":true,\"us...  электро   \n",
       "12250     109 N12  {\"engine-proof\":true,\"glonass\":true,\"tinted-gl...  электро   \n",
       "12287     109 N12  {\"glonass\":true,\"esp\":true,\"aux\":true,\"usb\":tr...  электро   \n",
       "12334     109 N12  {\"engine-proof\":true,\"cruise-control\":true,\"ti...  электро   \n",
       "12466     109 N12  {\"cruise-control\":true,\"asr\":true,\"tinted-glas...  электро   \n",
       "12481     109 N12  {\"cruise-control\":true,\"tinted-glass\":true,\"es...  электро   \n",
       "12558     109 N12  {\"cruise-control\":true,\"asr\":true,\"tinted-glas...  электро   \n",
       "12582     109 N12  {\"cruise-control\":true,\"asr\":true,\"tinted-glas...  электро   \n",
       "12678     109 N12  {\"cruise-control\":true,\"esp\":true,\"airbag-driv...  электро   \n",
       "12749     109 N12  {\"engine-proof\":true,\"cruise-control\":true,\"as...  электро   \n",
       "12854     109 N12  {\"electro-window-back\":true,\"alloy-wheel-disks...  электро   \n",
       "12916     109 N12  {\"cruise-control\":true,\"tinted-glass\":true,\"es...  электро   \n",
       "12948     109 N12                                                NaN  электро   \n",
       "12950     109 N12  {\"cruise-control\":true,\"asr\":true,\"tinted-glas...  электро   \n",
       "13052     109 N12  {\"cruise-control\":true,\"tinted-glass\":true,\"es...  электро   \n",
       "13104     109 N12  {\"cruise-control\":true,\"esp\":true,\"adaptive-li...  электро   \n",
       "13105     109 N12  {\"cruise-control\":true,\"tinted-glass\":true,\"st...  электро   \n",
       "13478     109 N12  {\"cruise-control\":true,\"airbag-driver\":true,\"a...  электро   \n",
       "13633     109 N12                                                NaN  электро   \n",
       "13660     109 N12  {\"cruise-control\":true,\"tinted-glass\":true,\"es...  электро   \n",
       "13720     109 N12  {\"electro-window-back\":true,\"esp\":true,\"start-...  электро   \n",
       "13812     109 N12                                                NaN  электро   \n",
       "13915     109 N12  {\"cruise-control\":true,\"steel-wheels\":true,\"au...  электро   \n",
       "13952     109 N12  {\"electro-window-back\":true,\"cruise-control\":t...  электро   \n",
       "13989     109 N12  {\"electro-window-back\":true,\"16-inch-wheels\":t...  электро   \n",
       "14147     109 N12  {\"glonass\":true,\"esp\":true,\"start-stop-functio...  электро   \n",
       "14419     109 N12  {\"cruise-control\":true,\"asr\":true,\"esp\":true,\"...  электро   \n",
       "23869     115 N12  {\"cruise-control\":true,\"asr\":true,\"esp\":true,\"...  электро   \n",
       "23948     115 N12  {\"cruise-control\":true,\"engine-proof\":true,\"es...  электро   \n",
       "27064      67 N12                                                NaN  электро   \n",
       "28241      67 N12                                                NaN  электро   \n",
       "32668     150 N12  {\"cruise-control\":true,\"glonass\":true,\"ptf\":tr...  электро   \n",
       "32700     109 N12  {\"cruise-control\":true,\"airbag-rear-side\":true...  электро   \n",
       "32798     109 N12  {\"tinted-glass\":true,\"esp\":true,\"start-stop-fu...  электро   \n",
       "34159     179 N12  {\"cruise-control\":true,\"airbag-driver\":true,\"a...  электро   \n",
       "34504     109 N12  {\"alloy-wheel-disks\":true,\"tinted-glass\":true,...  электро   \n",
       "\n",
       "       ...         vehicleConfiguration  vehicleTransmission    vendor  \\\n",
       "5241   ...    ALLROAD_5_DOORS AUTOMATIC       автоматическая  EUROPEAN   \n",
       "7992   ...  HATCHBACK_5_DOORS AUTOMATIC       автоматическая  EUROPEAN   \n",
       "8252   ...  HATCHBACK_5_DOORS AUTOMATIC       автоматическая  EUROPEAN   \n",
       "8350   ...  HATCHBACK_5_DOORS AUTOMATIC       автоматическая  EUROPEAN   \n",
       "8684   ...  HATCHBACK_5_DOORS AUTOMATIC       автоматическая  EUROPEAN   \n",
       "8722   ...  HATCHBACK_5_DOORS AUTOMATIC       автоматическая  EUROPEAN   \n",
       "8917   ...  HATCHBACK_5_DOORS AUTOMATIC       автоматическая  EUROPEAN   \n",
       "10817  ...  HATCHBACK_5_DOORS AUTOMATIC       автоматическая  EUROPEAN   \n",
       "10936  ...  HATCHBACK_5_DOORS AUTOMATIC       автоматическая  EUROPEAN   \n",
       "11043  ...  HATCHBACK_5_DOORS AUTOMATIC       автоматическая  EUROPEAN   \n",
       "11302  ...  HATCHBACK_5_DOORS AUTOMATIC       автоматическая  JAPANESE   \n",
       "11682  ...  HATCHBACK_5_DOORS AUTOMATIC       автоматическая  JAPANESE   \n",
       "11714  ...  HATCHBACK_5_DOORS AUTOMATIC       автоматическая  JAPANESE   \n",
       "11719  ...  HATCHBACK_5_DOORS AUTOMATIC       автоматическая  JAPANESE   \n",
       "11754  ...  HATCHBACK_5_DOORS AUTOMATIC       автоматическая  JAPANESE   \n",
       "11878  ...  HATCHBACK_5_DOORS AUTOMATIC       автоматическая  JAPANESE   \n",
       "11974  ...  HATCHBACK_5_DOORS AUTOMATIC       автоматическая  JAPANESE   \n",
       "12072  ...  HATCHBACK_5_DOORS AUTOMATIC       автоматическая  JAPANESE   \n",
       "12085  ...  HATCHBACK_5_DOORS AUTOMATIC       автоматическая  JAPANESE   \n",
       "12100  ...  HATCHBACK_5_DOORS AUTOMATIC       автоматическая  JAPANESE   \n",
       "12250  ...  HATCHBACK_5_DOORS AUTOMATIC       автоматическая  JAPANESE   \n",
       "12287  ...  HATCHBACK_5_DOORS AUTOMATIC       автоматическая  JAPANESE   \n",
       "12334  ...  HATCHBACK_5_DOORS AUTOMATIC       автоматическая  JAPANESE   \n",
       "12466  ...  HATCHBACK_5_DOORS AUTOMATIC       автоматическая  JAPANESE   \n",
       "12481  ...  HATCHBACK_5_DOORS AUTOMATIC       автоматическая  JAPANESE   \n",
       "12558  ...  HATCHBACK_5_DOORS AUTOMATIC       автоматическая  JAPANESE   \n",
       "12582  ...  HATCHBACK_5_DOORS AUTOMATIC       автоматическая  JAPANESE   \n",
       "12678  ...  HATCHBACK_5_DOORS AUTOMATIC       автоматическая  JAPANESE   \n",
       "12749  ...  HATCHBACK_5_DOORS AUTOMATIC       автоматическая  JAPANESE   \n",
       "12854  ...  HATCHBACK_5_DOORS AUTOMATIC       автоматическая  JAPANESE   \n",
       "12916  ...  HATCHBACK_5_DOORS AUTOMATIC       автоматическая  JAPANESE   \n",
       "12948  ...  HATCHBACK_5_DOORS AUTOMATIC       автоматическая  JAPANESE   \n",
       "12950  ...  HATCHBACK_5_DOORS AUTOMATIC       автоматическая  JAPANESE   \n",
       "13052  ...  HATCHBACK_5_DOORS AUTOMATIC       автоматическая  JAPANESE   \n",
       "13104  ...  HATCHBACK_5_DOORS AUTOMATIC       автоматическая  JAPANESE   \n",
       "13105  ...  HATCHBACK_5_DOORS AUTOMATIC       автоматическая  JAPANESE   \n",
       "13478  ...  HATCHBACK_5_DOORS AUTOMATIC       автоматическая  JAPANESE   \n",
       "13633  ...  HATCHBACK_5_DOORS AUTOMATIC       автоматическая  JAPANESE   \n",
       "13660  ...  HATCHBACK_5_DOORS AUTOMATIC       автоматическая  JAPANESE   \n",
       "13720  ...  HATCHBACK_5_DOORS AUTOMATIC       автоматическая  JAPANESE   \n",
       "13812  ...  HATCHBACK_5_DOORS AUTOMATIC       автоматическая  JAPANESE   \n",
       "13915  ...  HATCHBACK_5_DOORS AUTOMATIC       автоматическая  JAPANESE   \n",
       "13952  ...  HATCHBACK_5_DOORS AUTOMATIC       автоматическая  JAPANESE   \n",
       "13989  ...  HATCHBACK_5_DOORS AUTOMATIC       автоматическая  JAPANESE   \n",
       "14147  ...  HATCHBACK_5_DOORS AUTOMATIC       автоматическая  JAPANESE   \n",
       "14419  ...  HATCHBACK_5_DOORS AUTOMATIC       автоматическая  JAPANESE   \n",
       "23869  ...  HATCHBACK_5_DOORS AUTOMATIC       автоматическая  EUROPEAN   \n",
       "23948  ...  HATCHBACK_5_DOORS AUTOMATIC       автоматическая  EUROPEAN   \n",
       "27064  ...  HATCHBACK_5_DOORS AUTOMATIC       автоматическая  JAPANESE   \n",
       "28241  ...  HATCHBACK_5_DOORS AUTOMATIC       автоматическая  JAPANESE   \n",
       "32668  ...  HATCHBACK_5_DOORS AUTOMATIC       автоматическая  JAPANESE   \n",
       "32700  ...  HATCHBACK_5_DOORS AUTOMATIC       автоматическая  JAPANESE   \n",
       "32798  ...  HATCHBACK_5_DOORS AUTOMATIC       автоматическая  JAPANESE   \n",
       "34159  ...  HATCHBACK_5_DOORS AUTOMATIC       автоматическая  EUROPEAN   \n",
       "34504  ...  HATCHBACK_5_DOORS AUTOMATIC       автоматическая  JAPANESE   \n",
       "\n",
       "         Владельцы            Владение       ПТС    Привод    Руль  \\\n",
       "5241    1 владелец    1 год и 3 месяца  Оригинал    полный   Левый   \n",
       "7992    1 владелец                 NaN  Оригинал    задний   Левый   \n",
       "8252    1 владелец             1 месяц  Оригинал    задний   Левый   \n",
       "8350    1 владелец                 NaN  Оригинал    задний   Левый   \n",
       "8684    1 владелец                 NaN  Оригинал    задний   Левый   \n",
       "8722    1 владелец                 NaN  Оригинал    задний   Левый   \n",
       "8917    1 владелец                 NaN  Оригинал    задний   Левый   \n",
       "10817   1 владелец                 NaN  Оригинал    задний   Левый   \n",
       "10936   1 владелец                 NaN  Оригинал    задний   Левый   \n",
       "11043   1 владелец           8 месяцев  Оригинал    задний   Левый   \n",
       "11302  3 или более                 NaN  Оригинал  передний   Левый   \n",
       "11682   1 владелец            2 месяца  Оригинал  передний   Левый   \n",
       "11714   1 владелец                 NaN  Оригинал  передний  Правый   \n",
       "11719   1 владелец           5 месяцев  Оригинал  передний  Правый   \n",
       "11754  2 владельца                 NaN  Оригинал  передний  Правый   \n",
       "11878   1 владелец                 NaN  Оригинал  передний   Левый   \n",
       "11974   1 владелец  3 года и 8 месяцев  Оригинал  передний  Правый   \n",
       "12072  3 или более           9 месяцев  Оригинал  передний  Правый   \n",
       "12085   1 владелец   1 год и 6 месяцев  Оригинал  передний   Левый   \n",
       "12100   1 владелец    1 год и 3 месяца  Оригинал  передний  Правый   \n",
       "12250   1 владелец           9 месяцев  Оригинал  передний  Правый   \n",
       "12287   1 владелец                 NaN  Оригинал  передний   Левый   \n",
       "12334   1 владелец           5 месяцев  Оригинал  передний  Правый   \n",
       "12466   1 владелец   2 года и 2 месяца  Оригинал  передний  Правый   \n",
       "12481   1 владелец           5 месяцев  Оригинал  передний  Правый   \n",
       "12558   1 владелец    1 год и 2 месяца  Оригинал  передний  Правый   \n",
       "12582   1 владелец  2 года и 6 месяцев  Оригинал  передний  Правый   \n",
       "12678   1 владелец    1 год и 3 месяца  Оригинал  передний  Правый   \n",
       "12749   1 владелец     1 год и 1 месяц  Оригинал  передний  Правый   \n",
       "12854  2 владельца          11 месяцев  Оригинал  передний  Правый   \n",
       "12916   1 владелец                 NaN  Оригинал  передний  Правый   \n",
       "12948  2 владельца                 NaN  Оригинал  передний  Правый   \n",
       "12950   1 владелец                 NaN  Оригинал  передний  Правый   \n",
       "13052   1 владелец   3 года и 4 месяца  Оригинал  передний  Правый   \n",
       "13104   1 владелец               1 год  Оригинал  передний  Правый   \n",
       "13105   1 владелец   2 года и 4 месяца  Оригинал  передний  Правый   \n",
       "13478   1 владелец            4 месяца  Оригинал  передний  Правый   \n",
       "13633  2 владельца  5 лет и 10 месяцев  Оригинал  передний   Левый   \n",
       "13660   1 владелец    1 год и 3 месяца  Оригинал  передний  Правый   \n",
       "13720   1 владелец                 NaN  Оригинал  передний  Правый   \n",
       "13812   1 владелец                 NaN  Оригинал  передний  Правый   \n",
       "13915   1 владелец   2 года и 4 месяца  Оригинал  передний  Правый   \n",
       "13952   1 владелец          11 месяцев  Оригинал  передний  Правый   \n",
       "13989   1 владелец          11 месяцев  Оригинал  передний  Правый   \n",
       "14147  2 владельца                 NaN  Оригинал  передний  Правый   \n",
       "14419  2 владельца     1 год и 1 месяц  Оригинал  передний  Правый   \n",
       "23869   1 владелец                 NaN  Оригинал  передний   Левый   \n",
       "23948   1 владелец                 NaN  Оригинал  передний   Левый   \n",
       "27064  2 владельца              4 года  Оригинал    задний   Левый   \n",
       "28241  2 владельца                 NaN  Оригинал    задний  Правый   \n",
       "32668   1 владелец  1 год и 10 месяцев  Оригинал  передний   Левый   \n",
       "32700   1 владелец           5 месяцев  Оригинал  передний  Правый   \n",
       "32798   1 владелец                 NaN  Оригинал  передний  Правый   \n",
       "34159  2 владельца          10 месяцев  Оригинал  передний   Левый   \n",
       "34504  2 владельца    2 года и 1 месяц  Оригинал  передний  Правый   \n",
       "\n",
       "                Состояние     Таможня  \n",
       "5241   Не требует ремонта  Растаможен  \n",
       "7992   Не требует ремонта  Растаможен  \n",
       "8252   Не требует ремонта  Растаможен  \n",
       "8350   Не требует ремонта  Растаможен  \n",
       "8684   Не требует ремонта  Растаможен  \n",
       "8722   Не требует ремонта  Растаможен  \n",
       "8917   Не требует ремонта  Растаможен  \n",
       "10817  Не требует ремонта  Растаможен  \n",
       "10936  Не требует ремонта  Растаможен  \n",
       "11043  Не требует ремонта  Растаможен  \n",
       "11302  Не требует ремонта  Растаможен  \n",
       "11682  Не требует ремонта  Растаможен  \n",
       "11714  Не требует ремонта  Растаможен  \n",
       "11719  Не требует ремонта  Растаможен  \n",
       "11754  Не требует ремонта  Растаможен  \n",
       "11878  Не требует ремонта  Растаможен  \n",
       "11974  Не требует ремонта  Растаможен  \n",
       "12072  Не требует ремонта  Растаможен  \n",
       "12085  Не требует ремонта  Растаможен  \n",
       "12100  Не требует ремонта  Растаможен  \n",
       "12250  Не требует ремонта  Растаможен  \n",
       "12287  Не требует ремонта  Растаможен  \n",
       "12334  Не требует ремонта  Растаможен  \n",
       "12466  Не требует ремонта  Растаможен  \n",
       "12481  Не требует ремонта  Растаможен  \n",
       "12558  Не требует ремонта  Растаможен  \n",
       "12582  Не требует ремонта  Растаможен  \n",
       "12678  Не требует ремонта  Растаможен  \n",
       "12749  Не требует ремонта  Растаможен  \n",
       "12854  Не требует ремонта  Растаможен  \n",
       "12916  Не требует ремонта  Растаможен  \n",
       "12948  Не требует ремонта  Растаможен  \n",
       "12950  Не требует ремонта  Растаможен  \n",
       "13052  Не требует ремонта  Растаможен  \n",
       "13104  Не требует ремонта  Растаможен  \n",
       "13105  Не требует ремонта  Растаможен  \n",
       "13478  Не требует ремонта  Растаможен  \n",
       "13633  Не требует ремонта  Растаможен  \n",
       "13660  Не требует ремонта  Растаможен  \n",
       "13720  Не требует ремонта  Растаможен  \n",
       "13812  Не требует ремонта  Растаможен  \n",
       "13915  Не требует ремонта  Растаможен  \n",
       "13952  Не требует ремонта  Растаможен  \n",
       "13989  Не требует ремонта  Растаможен  \n",
       "14147  Не требует ремонта  Растаможен  \n",
       "14419  Не требует ремонта  Растаможен  \n",
       "23869  Не требует ремонта  Растаможен  \n",
       "23948  Не требует ремонта  Растаможен  \n",
       "27064  Не требует ремонта  Растаможен  \n",
       "28241  Не требует ремонта  Растаможен  \n",
       "32668  Не требует ремонта  Растаможен  \n",
       "32700  Не требует ремонта  Растаможен  \n",
       "32798  Не требует ремонта  Растаможен  \n",
       "34159  Не требует ремонта  Растаможен  \n",
       "34504  Не требует ремонта  Растаможен  \n",
       "\n",
       "[55 rows x 32 columns]"
      ]
     },
     "execution_count": 28,
     "metadata": {},
     "output_type": "execute_result"
    }
   ],
   "source": [
    "test_mod[test_mod['engineDisplacement'].isna()]"
   ]
  },
  {
   "cell_type": "code",
   "execution_count": 29,
   "id": "c865eb35",
   "metadata": {
    "ExecuteTime": {
     "end_time": "2022-04-06T18:15:02.223091Z",
     "start_time": "2022-04-06T18:15:02.176080Z"
    }
   },
   "outputs": [
    {
     "data": {
      "text/html": [
       "<div>\n",
       "<style scoped>\n",
       "    .dataframe tbody tr th:only-of-type {\n",
       "        vertical-align: middle;\n",
       "    }\n",
       "\n",
       "    .dataframe tbody tr th {\n",
       "        vertical-align: top;\n",
       "    }\n",
       "\n",
       "    .dataframe thead th {\n",
       "        text-align: right;\n",
       "    }\n",
       "</style>\n",
       "<table border=\"1\" class=\"dataframe\">\n",
       "  <thead>\n",
       "    <tr style=\"text-align: right;\">\n",
       "      <th></th>\n",
       "      <th>bodyType</th>\n",
       "      <th>brand</th>\n",
       "      <th>color</th>\n",
       "      <th>fuelType</th>\n",
       "      <th>modelDate</th>\n",
       "      <th>name</th>\n",
       "      <th>numberOfDoors</th>\n",
       "      <th>productionDate</th>\n",
       "      <th>vehicleConfiguration</th>\n",
       "      <th>vehicleTransmission</th>\n",
       "      <th>...</th>\n",
       "      <th>Руль</th>\n",
       "      <th>Состояние</th>\n",
       "      <th>Владельцы</th>\n",
       "      <th>ПТС</th>\n",
       "      <th>Таможня</th>\n",
       "      <th>Владение</th>\n",
       "      <th>price</th>\n",
       "      <th>start_date</th>\n",
       "      <th>hidden</th>\n",
       "      <th>model</th>\n",
       "    </tr>\n",
       "  </thead>\n",
       "  <tbody>\n",
       "    <tr>\n",
       "      <th>45</th>\n",
       "      <td>Седан</td>\n",
       "      <td>AUDI</td>\n",
       "      <td>040001</td>\n",
       "      <td>бензин</td>\n",
       "      <td>1990.0</td>\n",
       "      <td>S4 2.2 AT (230 л.с.) 4WD</td>\n",
       "      <td>4.0</td>\n",
       "      <td>1992</td>\n",
       "      <td>SEDAN AUTOMATIC S4</td>\n",
       "      <td>AUTOMATIC</td>\n",
       "      <td>...</td>\n",
       "      <td>LEFT</td>\n",
       "      <td>NaN</td>\n",
       "      <td>3.0</td>\n",
       "      <td>DUPLICATE</td>\n",
       "      <td>True</td>\n",
       "      <td>NaN</td>\n",
       "      <td>220000.0</td>\n",
       "      <td>2020-07-09T06:57:21Z</td>\n",
       "      <td>NaN</td>\n",
       "      <td>100</td>\n",
       "    </tr>\n",
       "    <tr>\n",
       "      <th>345</th>\n",
       "      <td>Седан</td>\n",
       "      <td>AUDI</td>\n",
       "      <td>040001</td>\n",
       "      <td>бензин</td>\n",
       "      <td>2012.0</td>\n",
       "      <td>ultra 1.4 AMT (150 л.с.)</td>\n",
       "      <td>4.0</td>\n",
       "      <td>2016</td>\n",
       "      <td>SEDAN ROBOT ultra</td>\n",
       "      <td>ROBOT</td>\n",
       "      <td>...</td>\n",
       "      <td>LEFT</td>\n",
       "      <td>NaN</td>\n",
       "      <td>2.0</td>\n",
       "      <td>ORIGINAL</td>\n",
       "      <td>True</td>\n",
       "      <td>NaN</td>\n",
       "      <td>1254090.0</td>\n",
       "      <td>2020-09-05T16:01:05Z</td>\n",
       "      <td>NaN</td>\n",
       "      <td>A3</td>\n",
       "    </tr>\n",
       "    <tr>\n",
       "      <th>383</th>\n",
       "      <td>Седан</td>\n",
       "      <td>AUDI</td>\n",
       "      <td>FAFBFB</td>\n",
       "      <td>бензин</td>\n",
       "      <td>2012.0</td>\n",
       "      <td>ultra 1.4 AMT (150 л.с.)</td>\n",
       "      <td>4.0</td>\n",
       "      <td>2015</td>\n",
       "      <td>SEDAN ROBOT ultra</td>\n",
       "      <td>ROBOT</td>\n",
       "      <td>...</td>\n",
       "      <td>LEFT</td>\n",
       "      <td>NaN</td>\n",
       "      <td>1.0</td>\n",
       "      <td>ORIGINAL</td>\n",
       "      <td>True</td>\n",
       "      <td>NaN</td>\n",
       "      <td>870000.0</td>\n",
       "      <td>2020-07-28T11:55:47Z</td>\n",
       "      <td>NaN</td>\n",
       "      <td>A3</td>\n",
       "    </tr>\n",
       "    <tr>\n",
       "      <th>658</th>\n",
       "      <td>Универсал 5 дв.</td>\n",
       "      <td>AUDI</td>\n",
       "      <td>040001</td>\n",
       "      <td>дизель</td>\n",
       "      <td>2004.0</td>\n",
       "      <td>8V 2.0d MT (140 л.с.)</td>\n",
       "      <td>5.0</td>\n",
       "      <td>2005</td>\n",
       "      <td>WAGON_5_DOORS MECHANICAL 8V</td>\n",
       "      <td>MECHANICAL</td>\n",
       "      <td>...</td>\n",
       "      <td>LEFT</td>\n",
       "      <td>NaN</td>\n",
       "      <td>3.0</td>\n",
       "      <td>ORIGINAL</td>\n",
       "      <td>True</td>\n",
       "      <td>{'year': 2020, 'month': 2}</td>\n",
       "      <td>380000.0</td>\n",
       "      <td>2020-09-08T19:06:10Z</td>\n",
       "      <td>NaN</td>\n",
       "      <td>A4</td>\n",
       "    </tr>\n",
       "    <tr>\n",
       "      <th>671</th>\n",
       "      <td>Универсал 5 дв.</td>\n",
       "      <td>AUDI</td>\n",
       "      <td>040001</td>\n",
       "      <td>дизель</td>\n",
       "      <td>2004.0</td>\n",
       "      <td>8V 2.0d CVT (140 л.с.)</td>\n",
       "      <td>5.0</td>\n",
       "      <td>2007</td>\n",
       "      <td>WAGON_5_DOORS VARIATOR 8V</td>\n",
       "      <td>VARIATOR</td>\n",
       "      <td>...</td>\n",
       "      <td>LEFT</td>\n",
       "      <td>NaN</td>\n",
       "      <td>3.0</td>\n",
       "      <td>ORIGINAL</td>\n",
       "      <td>True</td>\n",
       "      <td>NaN</td>\n",
       "      <td>395000.0</td>\n",
       "      <td>2020-07-26T20:05:31Z</td>\n",
       "      <td>NaN</td>\n",
       "      <td>A4</td>\n",
       "    </tr>\n",
       "    <tr>\n",
       "      <th>...</th>\n",
       "      <td>...</td>\n",
       "      <td>...</td>\n",
       "      <td>...</td>\n",
       "      <td>...</td>\n",
       "      <td>...</td>\n",
       "      <td>...</td>\n",
       "      <td>...</td>\n",
       "      <td>...</td>\n",
       "      <td>...</td>\n",
       "      <td>...</td>\n",
       "      <td>...</td>\n",
       "      <td>...</td>\n",
       "      <td>...</td>\n",
       "      <td>...</td>\n",
       "      <td>...</td>\n",
       "      <td>...</td>\n",
       "      <td>...</td>\n",
       "      <td>...</td>\n",
       "      <td>...</td>\n",
       "      <td>...</td>\n",
       "      <td>...</td>\n",
       "    </tr>\n",
       "    <tr>\n",
       "      <th>88647</th>\n",
       "      <td>Седан</td>\n",
       "      <td>MERCEDES</td>\n",
       "      <td>FAFBFB</td>\n",
       "      <td>бензин</td>\n",
       "      <td>1984.0</td>\n",
       "      <td>200 2.0 MT (122 л.с.)</td>\n",
       "      <td>4.0</td>\n",
       "      <td>1988</td>\n",
       "      <td>SEDAN MECHANICAL 200</td>\n",
       "      <td>MECHANICAL</td>\n",
       "      <td>...</td>\n",
       "      <td>LEFT</td>\n",
       "      <td>NaN</td>\n",
       "      <td>3.0</td>\n",
       "      <td>DUPLICATE</td>\n",
       "      <td>True</td>\n",
       "      <td>{'year': 2020, 'month': 7}</td>\n",
       "      <td>130000.0</td>\n",
       "      <td>2020-08-12T17:23:57Z</td>\n",
       "      <td>NaN</td>\n",
       "      <td>W124</td>\n",
       "    </tr>\n",
       "    <tr>\n",
       "      <th>88648</th>\n",
       "      <td>Седан</td>\n",
       "      <td>MERCEDES</td>\n",
       "      <td>040001</td>\n",
       "      <td>бензин</td>\n",
       "      <td>1984.0</td>\n",
       "      <td>230 2.3 AT (132 л.с.)</td>\n",
       "      <td>4.0</td>\n",
       "      <td>1988</td>\n",
       "      <td>SEDAN AUTOMATIC 230</td>\n",
       "      <td>AUTOMATIC</td>\n",
       "      <td>...</td>\n",
       "      <td>LEFT</td>\n",
       "      <td>NaN</td>\n",
       "      <td>3.0</td>\n",
       "      <td>ORIGINAL</td>\n",
       "      <td>True</td>\n",
       "      <td>{'year': 2016, 'month': 9}</td>\n",
       "      <td>110000.0</td>\n",
       "      <td>2019-12-20T09:16:45Z</td>\n",
       "      <td>NaN</td>\n",
       "      <td>W124</td>\n",
       "    </tr>\n",
       "    <tr>\n",
       "      <th>88658</th>\n",
       "      <td>Пикап Двойная кабина</td>\n",
       "      <td>MERCEDES</td>\n",
       "      <td>97948F</td>\n",
       "      <td>дизель</td>\n",
       "      <td>2017.0</td>\n",
       "      <td>350 d 3.0d AT (258 л.с.) 4WD</td>\n",
       "      <td>4.0</td>\n",
       "      <td>2018</td>\n",
       "      <td>PICKUP_TWO AUTOMATIC 350</td>\n",
       "      <td>AUTOMATIC</td>\n",
       "      <td>...</td>\n",
       "      <td>LEFT</td>\n",
       "      <td>NaN</td>\n",
       "      <td>1.0</td>\n",
       "      <td>ORIGINAL</td>\n",
       "      <td>True</td>\n",
       "      <td>{'year': 2019, 'month': 12}</td>\n",
       "      <td>4000000.0</td>\n",
       "      <td>2020-03-03T14:56:44Z</td>\n",
       "      <td>NaN</td>\n",
       "      <td>X_KLASSE</td>\n",
       "    </tr>\n",
       "    <tr>\n",
       "      <th>88659</th>\n",
       "      <td>Пикап Двойная кабина</td>\n",
       "      <td>MERCEDES</td>\n",
       "      <td>97948F</td>\n",
       "      <td>дизель</td>\n",
       "      <td>2017.0</td>\n",
       "      <td>250 d 2.3d AT (190 л.с.) 4WD</td>\n",
       "      <td>4.0</td>\n",
       "      <td>2018</td>\n",
       "      <td>PICKUP_TWO AUTOMATIC 250</td>\n",
       "      <td>AUTOMATIC</td>\n",
       "      <td>...</td>\n",
       "      <td>LEFT</td>\n",
       "      <td>NaN</td>\n",
       "      <td>1.0</td>\n",
       "      <td>ORIGINAL</td>\n",
       "      <td>True</td>\n",
       "      <td>NaN</td>\n",
       "      <td>3150000.0</td>\n",
       "      <td>2020-08-05T07:36:53Z</td>\n",
       "      <td>NaN</td>\n",
       "      <td>X_KLASSE</td>\n",
       "    </tr>\n",
       "    <tr>\n",
       "      <th>88660</th>\n",
       "      <td>Пикап Двойная кабина</td>\n",
       "      <td>MERCEDES</td>\n",
       "      <td>97948F</td>\n",
       "      <td>дизель</td>\n",
       "      <td>2017.0</td>\n",
       "      <td>350 d 3.0d AT (258 л.с.) 4WD</td>\n",
       "      <td>4.0</td>\n",
       "      <td>2018</td>\n",
       "      <td>PICKUP_TWO AUTOMATIC 350</td>\n",
       "      <td>AUTOMATIC</td>\n",
       "      <td>...</td>\n",
       "      <td>LEFT</td>\n",
       "      <td>NaN</td>\n",
       "      <td>1.0</td>\n",
       "      <td>ORIGINAL</td>\n",
       "      <td>True</td>\n",
       "      <td>NaN</td>\n",
       "      <td>7600000.0</td>\n",
       "      <td>2020-07-14T17:22:32Z</td>\n",
       "      <td>NaN</td>\n",
       "      <td>X_KLASSE</td>\n",
       "    </tr>\n",
       "  </tbody>\n",
       "</table>\n",
       "<p>17094 rows × 26 columns</p>\n",
       "</div>"
      ],
      "text/plain": [
       "                   bodyType     brand   color fuelType  modelDate  \\\n",
       "45                    Седан      AUDI  040001   бензин     1990.0   \n",
       "345                   Седан      AUDI  040001   бензин     2012.0   \n",
       "383                   Седан      AUDI  FAFBFB   бензин     2012.0   \n",
       "658         Универсал 5 дв.      AUDI  040001   дизель     2004.0   \n",
       "671         Универсал 5 дв.      AUDI  040001   дизель     2004.0   \n",
       "...                     ...       ...     ...      ...        ...   \n",
       "88647                 Седан  MERCEDES  FAFBFB   бензин     1984.0   \n",
       "88648                 Седан  MERCEDES  040001   бензин     1984.0   \n",
       "88658  Пикап Двойная кабина  MERCEDES  97948F   дизель     2017.0   \n",
       "88659  Пикап Двойная кабина  MERCEDES  97948F   дизель     2017.0   \n",
       "88660  Пикап Двойная кабина  MERCEDES  97948F   дизель     2017.0   \n",
       "\n",
       "                               name  numberOfDoors  productionDate  \\\n",
       "45         S4 2.2 AT (230 л.с.) 4WD            4.0            1992   \n",
       "345        ultra 1.4 AMT (150 л.с.)            4.0            2016   \n",
       "383        ultra 1.4 AMT (150 л.с.)            4.0            2015   \n",
       "658           8V 2.0d MT (140 л.с.)            5.0            2005   \n",
       "671          8V 2.0d CVT (140 л.с.)            5.0            2007   \n",
       "...                             ...            ...             ...   \n",
       "88647         200 2.0 MT (122 л.с.)            4.0            1988   \n",
       "88648         230 2.3 AT (132 л.с.)            4.0            1988   \n",
       "88658  350 d 3.0d AT (258 л.с.) 4WD            4.0            2018   \n",
       "88659  250 d 2.3d AT (190 л.с.) 4WD            4.0            2018   \n",
       "88660  350 d 3.0d AT (258 л.с.) 4WD            4.0            2018   \n",
       "\n",
       "              vehicleConfiguration vehicleTransmission  ...  Руль  Состояние  \\\n",
       "45              SEDAN AUTOMATIC S4           AUTOMATIC  ...  LEFT        NaN   \n",
       "345              SEDAN ROBOT ultra               ROBOT  ...  LEFT        NaN   \n",
       "383              SEDAN ROBOT ultra               ROBOT  ...  LEFT        NaN   \n",
       "658    WAGON_5_DOORS MECHANICAL 8V          MECHANICAL  ...  LEFT        NaN   \n",
       "671      WAGON_5_DOORS VARIATOR 8V            VARIATOR  ...  LEFT        NaN   \n",
       "...                            ...                 ...  ...   ...        ...   \n",
       "88647         SEDAN MECHANICAL 200          MECHANICAL  ...  LEFT        NaN   \n",
       "88648          SEDAN AUTOMATIC 230           AUTOMATIC  ...  LEFT        NaN   \n",
       "88658     PICKUP_TWO AUTOMATIC 350           AUTOMATIC  ...  LEFT        NaN   \n",
       "88659     PICKUP_TWO AUTOMATIC 250           AUTOMATIC  ...  LEFT        NaN   \n",
       "88660     PICKUP_TWO AUTOMATIC 350           AUTOMATIC  ...  LEFT        NaN   \n",
       "\n",
       "      Владельцы        ПТС Таможня                     Владение      price  \\\n",
       "45          3.0  DUPLICATE    True                          NaN   220000.0   \n",
       "345         2.0   ORIGINAL    True                          NaN  1254090.0   \n",
       "383         1.0   ORIGINAL    True                          NaN   870000.0   \n",
       "658         3.0   ORIGINAL    True   {'year': 2020, 'month': 2}   380000.0   \n",
       "671         3.0   ORIGINAL    True                          NaN   395000.0   \n",
       "...         ...        ...     ...                          ...        ...   \n",
       "88647       3.0  DUPLICATE    True   {'year': 2020, 'month': 7}   130000.0   \n",
       "88648       3.0   ORIGINAL    True   {'year': 2016, 'month': 9}   110000.0   \n",
       "88658       1.0   ORIGINAL    True  {'year': 2019, 'month': 12}  4000000.0   \n",
       "88659       1.0   ORIGINAL    True                          NaN  3150000.0   \n",
       "88660       1.0   ORIGINAL    True                          NaN  7600000.0   \n",
       "\n",
       "                 start_date  hidden     model  \n",
       "45     2020-07-09T06:57:21Z     NaN       100  \n",
       "345    2020-09-05T16:01:05Z     NaN        A3  \n",
       "383    2020-07-28T11:55:47Z     NaN        A3  \n",
       "658    2020-09-08T19:06:10Z     NaN        A4  \n",
       "671    2020-07-26T20:05:31Z     NaN        A4  \n",
       "...                     ...     ...       ...  \n",
       "88647  2020-08-12T17:23:57Z     NaN      W124  \n",
       "88648  2019-12-20T09:16:45Z     NaN      W124  \n",
       "88658  2020-03-03T14:56:44Z     NaN  X_KLASSE  \n",
       "88659  2020-08-05T07:36:53Z     NaN  X_KLASSE  \n",
       "88660  2020-07-14T17:22:32Z     NaN  X_KLASSE  \n",
       "\n",
       "[17094 rows x 26 columns]"
      ]
     },
     "execution_count": 29,
     "metadata": {},
     "output_type": "execute_result"
    }
   ],
   "source": [
    "train_mod[train_mod['engineDisplacement'].isna()]"
   ]
  },
  {
   "cell_type": "markdown",
   "id": "e2ef56f7",
   "metadata": {},
   "source": [
    "Возможно, эти пропуски мы сможем заполнить, взяв информацию из столбца name"
   ]
  },
  {
   "cell_type": "code",
   "execution_count": 30,
   "id": "33eaf2bd",
   "metadata": {
    "ExecuteTime": {
     "end_time": "2022-04-06T18:15:02.239095Z",
     "start_time": "2022-04-06T18:15:02.224093Z"
    }
   },
   "outputs": [
    {
     "data": {
      "text/plain": [
       "5241     55 Electro AT (301 кВт) 4WD\n",
       "7992            Electro AT (126 кВт)\n",
       "8252            Electro AT (126 кВт)\n",
       "8350            Electro AT (126 кВт)\n",
       "8684       94Ah Electro AT (126 кВт)\n",
       "8722            Electro AT (126 кВт)\n",
       "8917       94Ah Electro AT (126 кВт)\n",
       "10817           Electro AT (126 кВт)\n",
       "10936           Electro AT (126 кВт)\n",
       "11043      94Ah Electro AT (126 кВт)\n",
       "11302            Electro AT (81 кВт)\n",
       "11682           Electro AT (111 кВт)\n",
       "11714           Electro AT (111 кВт)\n",
       "11719            Electro AT (81 кВт)\n",
       "11754            Electro AT (81 кВт)\n",
       "11878            Electro AT (81 кВт)\n",
       "11974            Electro AT (81 кВт)\n",
       "12072            Electro AT (81 кВт)\n",
       "12085            Electro AT (81 кВт)\n",
       "12100      30kWh Electro AT (81 кВт)\n",
       "12250            Electro AT (81 кВт)\n",
       "12287            Electro AT (81 кВт)\n",
       "12334            Electro AT (81 кВт)\n",
       "12466      30kWh Electro AT (81 кВт)\n",
       "12481            Electro AT (81 кВт)\n",
       "12558            Electro AT (81 кВт)\n",
       "12582      30kWh Electro AT (81 кВт)\n",
       "12678            Electro AT (81 кВт)\n",
       "12749            Electro AT (81 кВт)\n",
       "12854            Electro AT (81 кВт)\n",
       "12916            Electro AT (81 кВт)\n",
       "12948            Electro AT (81 кВт)\n",
       "12950            Electro AT (81 кВт)\n",
       "13052            Electro AT (81 кВт)\n",
       "13104            Electro AT (81 кВт)\n",
       "13105            Electro AT (81 кВт)\n",
       "13478      30kWh Electro AT (81 кВт)\n",
       "13633            Electro AT (81 кВт)\n",
       "13660            Electro AT (81 кВт)\n",
       "13720            Electro AT (81 кВт)\n",
       "13812            Electro AT (81 кВт)\n",
       "13915      30kWh Electro AT (81 кВт)\n",
       "13952            Electro AT (81 кВт)\n",
       "13989            Electro AT (81 кВт)\n",
       "14147            Electro AT (81 кВт)\n",
       "14419            Electro AT (81 кВт)\n",
       "23869     e-Golf Electro AT (85 кВт)\n",
       "23948     e-Golf Electro AT (85 кВт)\n",
       "27064            Electro AT (50 кВт)\n",
       "28241            Electro AT (50 кВт)\n",
       "32668           Electro AT (111 кВт)\n",
       "32700            Electro AT (81 кВт)\n",
       "32798            Electro AT (81 кВт)\n",
       "34159     250 e Electro AT (132 кВт)\n",
       "34504            Electro AT (81 кВт)\n",
       "Name: name, dtype: object"
      ]
     },
     "execution_count": 30,
     "metadata": {},
     "output_type": "execute_result"
    }
   ],
   "source": [
    "test_mod[test_mod['engineDisplacement'].isna()]['name']"
   ]
  },
  {
   "cell_type": "markdown",
   "id": "715a0313",
   "metadata": {},
   "source": [
    "Очевидно что в TEST объём двигателя отсутствует исключительно у электромобилей. Что вполне логично. Стоит заполнить из нолями."
   ]
  },
  {
   "cell_type": "code",
   "execution_count": 31,
   "id": "c4cef449",
   "metadata": {
    "ExecuteTime": {
     "end_time": "2022-04-06T18:15:02.255098Z",
     "start_time": "2022-04-06T18:15:02.240095Z"
    }
   },
   "outputs": [],
   "source": [
    "test_mod['engineDisplacement'].fillna(0, inplace = True)"
   ]
  },
  {
   "cell_type": "code",
   "execution_count": 32,
   "id": "bbb92aea",
   "metadata": {
    "ExecuteTime": {
     "end_time": "2022-04-06T18:15:02.271102Z",
     "start_time": "2022-04-06T18:15:02.256099Z"
    },
    "scrolled": true
   },
   "outputs": [
    {
     "data": {
      "text/plain": [
       "45           S4 2.2 AT (230 л.с.) 4WD\n",
       "345          ultra 1.4 AMT (150 л.с.)\n",
       "383          ultra 1.4 AMT (150 л.с.)\n",
       "658             8V 2.0d MT (140 л.с.)\n",
       "671            8V 2.0d CVT (140 л.с.)\n",
       "                     ...             \n",
       "88647           200 2.0 MT (122 л.с.)\n",
       "88648           230 2.3 AT (132 л.с.)\n",
       "88658    350 d 3.0d AT (258 л.с.) 4WD\n",
       "88659    250 d 2.3d AT (190 л.с.) 4WD\n",
       "88660    350 d 3.0d AT (258 л.с.) 4WD\n",
       "Name: name, Length: 17094, dtype: object"
      ]
     },
     "execution_count": 32,
     "metadata": {},
     "output_type": "execute_result"
    }
   ],
   "source": [
    "train_mod[train_mod['engineDisplacement'].isna()]['name']"
   ]
  },
  {
   "cell_type": "markdown",
   "id": "b4218d9b",
   "metadata": {},
   "source": [
    "В TRAIN ситуация совсем иная. С этим ещё предстоит разобраться."
   ]
  },
  {
   "cell_type": "code",
   "execution_count": 33,
   "id": "d0128034",
   "metadata": {
    "ExecuteTime": {
     "end_time": "2022-04-06T18:15:02.287105Z",
     "start_time": "2022-04-06T18:15:02.272103Z"
    },
    "scrolled": false
   },
   "outputs": [
    {
     "name": "stdout",
     "output_type": "stream",
     "text": [
      "TEST\n"
     ]
    },
    {
     "data": {
      "text/plain": [
       "32585    144 N12\n",
       "28850    109 N12\n",
       "18659    113 N12\n",
       "25237    240 N12\n",
       "1474      58 N12\n",
       "Name: enginePower, dtype: object"
      ]
     },
     "metadata": {},
     "output_type": "display_data"
    },
    {
     "name": "stdout",
     "output_type": "stream",
     "text": [
      "TRAIN\n"
     ]
    },
    {
     "data": {
      "text/plain": [
       "82013    204.0\n",
       "1053     225.0\n",
       "49852    185.0\n",
       "81047    156.0\n",
       "44553    146.0\n",
       "Name: enginePower, dtype: float64"
      ]
     },
     "metadata": {},
     "output_type": "display_data"
    }
   ],
   "source": [
    "#enginePower\n",
    "column = 'enginePower'\n",
    "type_comparison(column)"
   ]
  },
  {
   "cell_type": "markdown",
   "id": "db82a646",
   "metadata": {},
   "source": [
    "Здесь также требуется приведение к единому формату"
   ]
  },
  {
   "cell_type": "code",
   "execution_count": 34,
   "id": "8558c64d",
   "metadata": {
    "ExecuteTime": {
     "end_time": "2022-04-06T18:15:02.350121Z",
     "start_time": "2022-04-06T18:15:02.288107Z"
    }
   },
   "outputs": [
    {
     "name": "stderr",
     "output_type": "stream",
     "text": [
      "C:\\Users\\zetet\\AppData\\Local\\Temp\\ipykernel_15740\\3085074308.py:2: SettingWithCopyWarning: \n",
      "A value is trying to be set on a copy of a slice from a DataFrame.\n",
      "Try using .loc[row_indexer,col_indexer] = value instead\n",
      "\n",
      "See the caveats in the documentation: https://pandas.pydata.org/pandas-docs/stable/user_guide/indexing.html#returning-a-view-versus-a-copy\n",
      "  train_mod.enginePower = train_mod.enginePower.convert_dtypes(int)\n"
     ]
    }
   ],
   "source": [
    "#Преобразование\n",
    "train_mod.enginePower = train_mod.enginePower.convert_dtypes(int)\n",
    "test_mod[\"enginePower\"] = test_mod[\"enginePower\"].apply(lambda x : (int)(x.split(' ')[0]))"
   ]
  },
  {
   "cell_type": "code",
   "execution_count": 35,
   "id": "cea2c8b8",
   "metadata": {
    "ExecuteTime": {
     "end_time": "2022-04-06T18:15:02.366124Z",
     "start_time": "2022-04-06T18:15:02.351121Z"
    },
    "scrolled": false
   },
   "outputs": [
    {
     "name": "stdout",
     "output_type": "stream",
     "text": [
      "TEST\n"
     ]
    },
    {
     "data": {
      "text/plain": [
       "24063    140\n",
       "24800    204\n",
       "24993    130\n",
       "17207    306\n",
       "9862     136\n",
       "Name: enginePower, dtype: int64"
      ]
     },
     "metadata": {},
     "output_type": "display_data"
    },
    {
     "name": "stdout",
     "output_type": "stream",
     "text": [
      "TRAIN\n"
     ]
    },
    {
     "data": {
      "text/plain": [
       "61441    110\n",
       "71374    180\n",
       "68864    199\n",
       "88503    190\n",
       "62692    152\n",
       "Name: enginePower, dtype: Int64"
      ]
     },
     "metadata": {},
     "output_type": "display_data"
    }
   ],
   "source": [
    "#enginePower\n",
    "column = 'enginePower'\n",
    "type_comparison(column)"
   ]
  },
  {
   "cell_type": "markdown",
   "id": "c761cd02",
   "metadata": {},
   "source": [
    "Проверим не образовались ли пропуски в этом столбце"
   ]
  },
  {
   "cell_type": "code",
   "execution_count": 36,
   "id": "099bb31b",
   "metadata": {
    "ExecuteTime": {
     "end_time": "2022-04-06T18:15:02.382127Z",
     "start_time": "2022-04-06T18:15:02.367127Z"
    },
    "scrolled": true
   },
   "outputs": [
    {
     "data": {
      "text/html": [
       "<div>\n",
       "<style scoped>\n",
       "    .dataframe tbody tr th:only-of-type {\n",
       "        vertical-align: middle;\n",
       "    }\n",
       "\n",
       "    .dataframe tbody tr th {\n",
       "        vertical-align: top;\n",
       "    }\n",
       "\n",
       "    .dataframe thead th {\n",
       "        text-align: right;\n",
       "    }\n",
       "</style>\n",
       "<table border=\"1\" class=\"dataframe\">\n",
       "  <thead>\n",
       "    <tr style=\"text-align: right;\">\n",
       "      <th></th>\n",
       "      <th>bodyType</th>\n",
       "      <th>brand</th>\n",
       "      <th>car_url</th>\n",
       "      <th>color</th>\n",
       "      <th>complectation_dict</th>\n",
       "      <th>description</th>\n",
       "      <th>engineDisplacement</th>\n",
       "      <th>enginePower</th>\n",
       "      <th>equipment_dict</th>\n",
       "      <th>fuelType</th>\n",
       "      <th>...</th>\n",
       "      <th>vehicleConfiguration</th>\n",
       "      <th>vehicleTransmission</th>\n",
       "      <th>vendor</th>\n",
       "      <th>Владельцы</th>\n",
       "      <th>Владение</th>\n",
       "      <th>ПТС</th>\n",
       "      <th>Привод</th>\n",
       "      <th>Руль</th>\n",
       "      <th>Состояние</th>\n",
       "      <th>Таможня</th>\n",
       "    </tr>\n",
       "  </thead>\n",
       "  <tbody>\n",
       "  </tbody>\n",
       "</table>\n",
       "<p>0 rows × 32 columns</p>\n",
       "</div>"
      ],
      "text/plain": [
       "Empty DataFrame\n",
       "Columns: [bodyType, brand, car_url, color, complectation_dict, description, engineDisplacement, enginePower, equipment_dict, fuelType, image, mileage, modelDate, model_info, model_name, name, numberOfDoors, parsing_unixtime, priceCurrency, productionDate, sell_id, super_gen, vehicleConfiguration, vehicleTransmission, vendor, Владельцы, Владение, ПТС, Привод, Руль, Состояние, Таможня]\n",
       "Index: []\n",
       "\n",
       "[0 rows x 32 columns]"
      ]
     },
     "execution_count": 36,
     "metadata": {},
     "output_type": "execute_result"
    }
   ],
   "source": [
    "test_mod[test_mod['enginePower'].isna()]"
   ]
  },
  {
   "cell_type": "code",
   "execution_count": 37,
   "id": "728f27f8",
   "metadata": {
    "ExecuteTime": {
     "end_time": "2022-04-06T18:15:02.398132Z",
     "start_time": "2022-04-06T18:15:02.383127Z"
    },
    "scrolled": true
   },
   "outputs": [
    {
     "data": {
      "text/html": [
       "<div>\n",
       "<style scoped>\n",
       "    .dataframe tbody tr th:only-of-type {\n",
       "        vertical-align: middle;\n",
       "    }\n",
       "\n",
       "    .dataframe tbody tr th {\n",
       "        vertical-align: top;\n",
       "    }\n",
       "\n",
       "    .dataframe thead th {\n",
       "        text-align: right;\n",
       "    }\n",
       "</style>\n",
       "<table border=\"1\" class=\"dataframe\">\n",
       "  <thead>\n",
       "    <tr style=\"text-align: right;\">\n",
       "      <th></th>\n",
       "      <th>bodyType</th>\n",
       "      <th>brand</th>\n",
       "      <th>color</th>\n",
       "      <th>fuelType</th>\n",
       "      <th>modelDate</th>\n",
       "      <th>name</th>\n",
       "      <th>numberOfDoors</th>\n",
       "      <th>productionDate</th>\n",
       "      <th>vehicleConfiguration</th>\n",
       "      <th>vehicleTransmission</th>\n",
       "      <th>...</th>\n",
       "      <th>Руль</th>\n",
       "      <th>Состояние</th>\n",
       "      <th>Владельцы</th>\n",
       "      <th>ПТС</th>\n",
       "      <th>Таможня</th>\n",
       "      <th>Владение</th>\n",
       "      <th>price</th>\n",
       "      <th>start_date</th>\n",
       "      <th>hidden</th>\n",
       "      <th>model</th>\n",
       "    </tr>\n",
       "  </thead>\n",
       "  <tbody>\n",
       "    <tr>\n",
       "      <th>24624</th>\n",
       "      <td>NaN</td>\n",
       "      <td>HONDA</td>\n",
       "      <td>CACECB</td>\n",
       "      <td>универсал</td>\n",
       "      <td>NaN</td>\n",
       "      <td>NaN</td>\n",
       "      <td>NaN</td>\n",
       "      <td>1989</td>\n",
       "      <td>NaN</td>\n",
       "      <td>NaN</td>\n",
       "      <td>...</td>\n",
       "      <td>LEFT</td>\n",
       "      <td>NaN</td>\n",
       "      <td>3.0</td>\n",
       "      <td>ORIGINAL</td>\n",
       "      <td>True</td>\n",
       "      <td>NaN</td>\n",
       "      <td>120000.0</td>\n",
       "      <td>2020-04-10T16:07:57Z</td>\n",
       "      <td>NaN</td>\n",
       "      <td>CIVIC</td>\n",
       "    </tr>\n",
       "  </tbody>\n",
       "</table>\n",
       "<p>1 rows × 26 columns</p>\n",
       "</div>"
      ],
      "text/plain": [
       "      bodyType  brand   color   fuelType  modelDate name  numberOfDoors  \\\n",
       "24624      NaN  HONDA  CACECB  универсал        NaN  NaN            NaN   \n",
       "\n",
       "       productionDate vehicleConfiguration vehicleTransmission  ...  Руль  \\\n",
       "24624            1989                  NaN                 NaN  ...  LEFT   \n",
       "\n",
       "       Состояние Владельцы       ПТС Таможня Владение     price  \\\n",
       "24624        NaN       3.0  ORIGINAL    True      NaN  120000.0   \n",
       "\n",
       "                 start_date  hidden  model  \n",
       "24624  2020-04-10T16:07:57Z     NaN  CIVIC  \n",
       "\n",
       "[1 rows x 26 columns]"
      ]
     },
     "execution_count": 37,
     "metadata": {},
     "output_type": "execute_result"
    }
   ],
   "source": [
    "train_mod[train_mod['enginePower'].isna()]"
   ]
  },
  {
   "cell_type": "markdown",
   "id": "2d5b8ef0",
   "metadata": {},
   "source": [
    "Образовался один пропуск. Строка с этим пропуском в целом содержит мало данным и должна быть удалена"
   ]
  },
  {
   "cell_type": "code",
   "execution_count": 38,
   "id": "1a65fa49",
   "metadata": {
    "ExecuteTime": {
     "end_time": "2022-04-06T18:15:02.430138Z",
     "start_time": "2022-04-06T18:15:02.399132Z"
    }
   },
   "outputs": [
    {
     "name": "stderr",
     "output_type": "stream",
     "text": [
      "C:\\Users\\zetet\\AppData\\Local\\Temp\\ipykernel_15740\\114055190.py:1: SettingWithCopyWarning: \n",
      "A value is trying to be set on a copy of a slice from a DataFrame\n",
      "\n",
      "See the caveats in the documentation: https://pandas.pydata.org/pandas-docs/stable/user_guide/indexing.html#returning-a-view-versus-a-copy\n",
      "  train_mod.drop(24624, inplace = True)\n"
     ]
    }
   ],
   "source": [
    "train_mod.drop(24624, inplace = True)"
   ]
  },
  {
   "cell_type": "code",
   "execution_count": 39,
   "id": "d3143df1",
   "metadata": {
    "ExecuteTime": {
     "end_time": "2022-04-06T18:15:02.446141Z",
     "start_time": "2022-04-06T18:15:02.431140Z"
    }
   },
   "outputs": [
    {
     "name": "stdout",
     "output_type": "stream",
     "text": [
      "TEST\n"
     ]
    },
    {
     "data": {
      "text/plain": [
       "20658    бензин\n",
       "15733    дизель\n",
       "19609    бензин\n",
       "29408    бензин\n",
       "16691    бензин\n",
       "Name: fuelType, dtype: object"
      ]
     },
     "metadata": {},
     "output_type": "display_data"
    },
    {
     "name": "stdout",
     "output_type": "stream",
     "text": [
      "TRAIN\n"
     ]
    },
    {
     "data": {
      "text/plain": [
       "50976    бензин\n",
       "31629    бензин\n",
       "77066    бензин\n",
       "39190    гибрид\n",
       "69325    бензин\n",
       "Name: fuelType, dtype: object"
      ]
     },
     "metadata": {},
     "output_type": "display_data"
    }
   ],
   "source": [
    "#fuelType\n",
    "column = 'fuelType'\n",
    "type_comparison(column)"
   ]
  },
  {
   "cell_type": "code",
   "execution_count": 40,
   "id": "c7967d13",
   "metadata": {
    "ExecuteTime": {
     "end_time": "2022-04-06T18:15:02.462145Z",
     "start_time": "2022-04-06T18:15:02.447144Z"
    }
   },
   "outputs": [
    {
     "data": {
      "text/plain": [
       "array(['бензин', 'дизель', 'электро', 'гибрид', 'газ'], dtype=object)"
      ]
     },
     "execution_count": 40,
     "metadata": {},
     "output_type": "execute_result"
    }
   ],
   "source": [
    "train_mod.fuelType.unique() "
   ]
  },
  {
   "cell_type": "code",
   "execution_count": 41,
   "id": "beb83524",
   "metadata": {
    "ExecuteTime": {
     "end_time": "2022-04-06T18:15:02.478149Z",
     "start_time": "2022-04-06T18:15:02.463146Z"
    }
   },
   "outputs": [
    {
     "data": {
      "text/plain": [
       "array(['бензин', 'дизель', 'гибрид', 'электро', 'газ'], dtype=object)"
      ]
     },
     "execution_count": 41,
     "metadata": {},
     "output_type": "execute_result"
    }
   ],
   "source": [
    "test_mod.fuelType.unique()"
   ]
  },
  {
   "cell_type": "code",
   "execution_count": 42,
   "id": "63fa3805",
   "metadata": {
    "ExecuteTime": {
     "end_time": "2022-04-06T18:15:02.494152Z",
     "start_time": "2022-04-06T18:15:02.479149Z"
    }
   },
   "outputs": [
    {
     "name": "stdout",
     "output_type": "stream",
     "text": [
      "TEST\n"
     ]
    },
    {
     "data": {
      "text/plain": [
       "21148    153816\n",
       "21747    114000\n",
       "4550     258000\n",
       "24214    180000\n",
       "27034     88612\n",
       "Name: mileage, dtype: int64"
      ]
     },
     "metadata": {},
     "output_type": "display_data"
    },
    {
     "name": "stdout",
     "output_type": "stream",
     "text": [
      "TRAIN\n"
     ]
    },
    {
     "data": {
      "text/plain": [
       "51730      7000\n",
       "73487     60000\n",
       "47651    185167\n",
       "83367    300000\n",
       "72665    340000\n",
       "Name: mileage, dtype: int64"
      ]
     },
     "metadata": {},
     "output_type": "display_data"
    }
   ],
   "source": [
    "#mileage\n",
    "column = 'mileage'\n",
    "type_comparison(column)"
   ]
  },
  {
   "cell_type": "code",
   "execution_count": 43,
   "id": "554f5d5e",
   "metadata": {
    "ExecuteTime": {
     "end_time": "2022-04-06T18:15:02.510156Z",
     "start_time": "2022-04-06T18:15:02.495155Z"
    },
    "scrolled": false
   },
   "outputs": [
    {
     "name": "stdout",
     "output_type": "stream",
     "text": [
      "TEST\n"
     ]
    },
    {
     "data": {
      "text/plain": [
       "32686    2014\n",
       "12935    2014\n",
       "18867    2005\n",
       "25566    2014\n",
       "2485     2010\n",
       "Name: modelDate, dtype: int64"
      ]
     },
     "metadata": {},
     "output_type": "display_data"
    },
    {
     "name": "stdout",
     "output_type": "stream",
     "text": [
      "TRAIN\n"
     ]
    },
    {
     "data": {
      "text/plain": [
       "4409     2019.0\n",
       "2163     1994.0\n",
       "70774    2014.0\n",
       "87577    2013.0\n",
       "60250    2017.0\n",
       "Name: modelDate, dtype: float64"
      ]
     },
     "metadata": {},
     "output_type": "display_data"
    }
   ],
   "source": [
    "#modelDate\n",
    "column = 'modelDate'\n",
    "type_comparison(column) # model year на самом деле"
   ]
  },
  {
   "cell_type": "code",
   "execution_count": 44,
   "id": "28523448",
   "metadata": {
    "ExecuteTime": {
     "end_time": "2022-04-06T18:15:02.542163Z",
     "start_time": "2022-04-06T18:15:02.511157Z"
    }
   },
   "outputs": [
    {
     "name": "stderr",
     "output_type": "stream",
     "text": [
      "C:\\Users\\zetet\\AppData\\Local\\Temp\\ipykernel_15740\\2954420463.py:2: SettingWithCopyWarning: \n",
      "A value is trying to be set on a copy of a slice from a DataFrame.\n",
      "Try using .loc[row_indexer,col_indexer] = value instead\n",
      "\n",
      "See the caveats in the documentation: https://pandas.pydata.org/pandas-docs/stable/user_guide/indexing.html#returning-a-view-versus-a-copy\n",
      "  train_mod.modelDate = train_mod.modelDate.convert_dtypes(int) #astype('int')\n"
     ]
    }
   ],
   "source": [
    "#Преобразование\n",
    "train_mod.modelDate = train_mod.modelDate.convert_dtypes(int) #astype('int')"
   ]
  },
  {
   "cell_type": "code",
   "execution_count": 45,
   "id": "79d1012d",
   "metadata": {
    "ExecuteTime": {
     "end_time": "2022-04-06T18:15:02.558167Z",
     "start_time": "2022-04-06T18:15:02.543163Z"
    }
   },
   "outputs": [
    {
     "name": "stdout",
     "output_type": "stream",
     "text": [
      "TEST\n"
     ]
    },
    {
     "data": {
      "text/plain": [
       "18461    2016\n",
       "1286     2013\n",
       "32069    2001\n",
       "32469    2008\n",
       "9405     2013\n",
       "Name: modelDate, dtype: int64"
      ]
     },
     "metadata": {},
     "output_type": "display_data"
    },
    {
     "name": "stdout",
     "output_type": "stream",
     "text": [
      "TRAIN\n"
     ]
    },
    {
     "data": {
      "text/plain": [
       "77426    2018\n",
       "84162    2009\n",
       "1077     1999\n",
       "74809    2011\n",
       "81000    2018\n",
       "Name: modelDate, dtype: Int64"
      ]
     },
     "metadata": {},
     "output_type": "display_data"
    }
   ],
   "source": [
    "column = 'modelDate'\n",
    "type_comparison(column)"
   ]
  },
  {
   "cell_type": "code",
   "execution_count": 46,
   "id": "ecf835b2",
   "metadata": {
    "ExecuteTime": {
     "end_time": "2022-04-06T18:15:02.574170Z",
     "start_time": "2022-04-06T18:15:02.559168Z"
    },
    "scrolled": true
   },
   "outputs": [
    {
     "name": "stdout",
     "output_type": "stream",
     "text": [
      "TEST\n"
     ]
    },
    {
     "data": {
      "text/plain": [
       "26081             2.0 AT (150 л.с.)\n",
       "33128    FX35 3.5 AT (280 л.с.) 4WD\n",
       "20849             2.5 AT (181 л.с.)\n",
       "8428         318i 2.0 AT (143 л.с.)\n",
       "27207            1.8 CVT (140 л.с.)\n",
       "Name: name, dtype: object"
      ]
     },
     "metadata": {},
     "output_type": "display_data"
    },
    {
     "name": "stdout",
     "output_type": "stream",
     "text": [
      "TRAIN\n"
     ]
    },
    {
     "data": {
      "text/plain": [
       "71958              2.0 AMT (190 л.с.)\n",
       "75574           3.2 AT (241 л.с.) 4WD\n",
       "156                  1.8 MT (90 л.с.)\n",
       "83923    63 AMG 5.5 AT (571 л.с.) 4WD\n",
       "7469           528i 2.8 MT (193 л.с.)\n",
       "Name: name, dtype: object"
      ]
     },
     "metadata": {},
     "output_type": "display_data"
    }
   ],
   "source": [
    "#name\n",
    "column = 'name'\n",
    "type_comparison(column)"
   ]
  },
  {
   "cell_type": "markdown",
   "id": "0c2fb65b",
   "metadata": {},
   "source": [
    "В этой колонке есть информация об объёме двигателя. Её можно использовать для заполнения пропусков в столбце engineDisplacement."
   ]
  },
  {
   "cell_type": "code",
   "execution_count": 47,
   "id": "d75d9cb5",
   "metadata": {
    "ExecuteTime": {
     "end_time": "2022-04-06T18:15:02.590174Z",
     "start_time": "2022-04-06T18:15:02.575172Z"
    }
   },
   "outputs": [
    {
     "name": "stdout",
     "output_type": "stream",
     "text": [
      "TEST\n"
     ]
    },
    {
     "data": {
      "text/plain": [
       "28949    4\n",
       "20997    4\n",
       "9012     4\n",
       "28421    5\n",
       "22967    4\n",
       "Name: numberOfDoors, dtype: int64"
      ]
     },
     "metadata": {},
     "output_type": "display_data"
    },
    {
     "name": "stdout",
     "output_type": "stream",
     "text": [
      "TRAIN\n"
     ]
    },
    {
     "data": {
      "text/plain": [
       "85900    5.0\n",
       "76767    4.0\n",
       "46548    4.0\n",
       "46464    4.0\n",
       "6192     4.0\n",
       "Name: numberOfDoors, dtype: float64"
      ]
     },
     "metadata": {},
     "output_type": "display_data"
    }
   ],
   "source": [
    "#numberOfDoors\n",
    "column = 'numberOfDoors'\n",
    "type_comparison(column)"
   ]
  },
  {
   "cell_type": "code",
   "execution_count": 48,
   "id": "123d50a8",
   "metadata": {
    "ExecuteTime": {
     "end_time": "2022-04-06T18:15:02.622181Z",
     "start_time": "2022-04-06T18:15:02.591176Z"
    }
   },
   "outputs": [
    {
     "name": "stderr",
     "output_type": "stream",
     "text": [
      "C:\\Users\\zetet\\AppData\\Local\\Temp\\ipykernel_15740\\3213111795.py:2: SettingWithCopyWarning: \n",
      "A value is trying to be set on a copy of a slice from a DataFrame.\n",
      "Try using .loc[row_indexer,col_indexer] = value instead\n",
      "\n",
      "See the caveats in the documentation: https://pandas.pydata.org/pandas-docs/stable/user_guide/indexing.html#returning-a-view-versus-a-copy\n",
      "  train_mod.numberOfDoors = train_mod.numberOfDoors.convert_dtypes(int)\n"
     ]
    }
   ],
   "source": [
    "#Преобразование\n",
    "train_mod.numberOfDoors = train_mod.numberOfDoors.convert_dtypes(int)"
   ]
  },
  {
   "cell_type": "code",
   "execution_count": 49,
   "id": "21a5adf9",
   "metadata": {
    "ExecuteTime": {
     "end_time": "2022-04-06T18:15:02.638298Z",
     "start_time": "2022-04-06T18:15:02.623182Z"
    }
   },
   "outputs": [
    {
     "name": "stdout",
     "output_type": "stream",
     "text": [
      "TEST\n"
     ]
    },
    {
     "data": {
      "text/plain": [
       "33555    2009\n",
       "6227     2018\n",
       "6319     2009\n",
       "5947     1997\n",
       "2112     2008\n",
       "Name: productionDate, dtype: int64"
      ]
     },
     "metadata": {},
     "output_type": "display_data"
    },
    {
     "name": "stdout",
     "output_type": "stream",
     "text": [
      "TRAIN\n"
     ]
    },
    {
     "data": {
      "text/plain": [
       "75837    2008\n",
       "88112    2013\n",
       "31608    2019\n",
       "84624    2020\n",
       "10192    2016\n",
       "Name: productionDate, dtype: int64"
      ]
     },
     "metadata": {},
     "output_type": "display_data"
    }
   ],
   "source": [
    "#productionDate # дата производства, есть ещё дата модели\n",
    "column = 'productionDate'\n",
    "type_comparison(column)"
   ]
  },
  {
   "cell_type": "code",
   "execution_count": 50,
   "id": "82e56897",
   "metadata": {
    "ExecuteTime": {
     "end_time": "2022-04-06T18:15:02.654301Z",
     "start_time": "2022-04-06T18:15:02.639300Z"
    },
    "scrolled": true
   },
   "outputs": [
    {
     "name": "stdout",
     "output_type": "stream",
     "text": [
      "TEST\n"
     ]
    },
    {
     "data": {
      "text/plain": [
       "19765              SEDAN AUTOMATIC 1.8\n",
       "24746    ALLROAD_5_DOORS AUTOMATIC 3.0\n",
       "22018              SEDAN AUTOMATIC 2.5\n",
       "28943             SEDAN MECHANICAL 1.6\n",
       "23085              SEDAN AUTOMATIC 3.5\n",
       "Name: vehicleConfiguration, dtype: object"
      ]
     },
     "metadata": {},
     "output_type": "display_data"
    },
    {
     "name": "stdout",
     "output_type": "stream",
     "text": [
      "TRAIN\n"
     ]
    },
    {
     "data": {
      "text/plain": [
       "68038     WAGON_5_DOORS AUTOMATIC 1.8\n",
       "68519    ALLROAD_5_DOORS VARIATOR 2.0\n",
       "72054            SEDAN MECHANICAL 1.8\n",
       "51177    ALLROAD_5_DOORS VARIATOR 2.5\n",
       "81228             SEDAN AUTOMATIC 300\n",
       "Name: vehicleConfiguration, dtype: object"
      ]
     },
     "metadata": {},
     "output_type": "display_data"
    }
   ],
   "source": [
    "#vehicleConfiguration\n",
    "column = 'vehicleConfiguration'\n",
    "type_comparison(column)"
   ]
  },
  {
   "cell_type": "markdown",
   "id": "24dfdc8d",
   "metadata": {},
   "source": [
    "Этот столбец тоже можно использовать для заполнения пропусков в столбце engineDisplacement."
   ]
  },
  {
   "cell_type": "code",
   "execution_count": 51,
   "id": "d6461e7f",
   "metadata": {
    "ExecuteTime": {
     "end_time": "2022-04-06T18:15:02.670305Z",
     "start_time": "2022-04-06T18:15:02.655303Z"
    }
   },
   "outputs": [
    {
     "name": "stdout",
     "output_type": "stream",
     "text": [
      "TEST\n"
     ]
    },
    {
     "data": {
      "text/plain": [
       "22559    автоматическая\n",
       "12939          вариатор\n",
       "2053     автоматическая\n",
       "8539     автоматическая\n",
       "1620     автоматическая\n",
       "Name: vehicleTransmission, dtype: object"
      ]
     },
     "metadata": {},
     "output_type": "display_data"
    },
    {
     "name": "stdout",
     "output_type": "stream",
     "text": [
      "TRAIN\n"
     ]
    },
    {
     "data": {
      "text/plain": [
       "70689        ROBOT\n",
       "42317    AUTOMATIC\n",
       "1781         ROBOT\n",
       "73955    AUTOMATIC\n",
       "85343    AUTOMATIC\n",
       "Name: vehicleTransmission, dtype: object"
      ]
     },
     "metadata": {},
     "output_type": "display_data"
    }
   ],
   "source": [
    "#vehicleTransmission\n",
    "column = 'vehicleTransmission'\n",
    "type_comparison(column)"
   ]
  },
  {
   "cell_type": "code",
   "execution_count": 52,
   "id": "c52e0040",
   "metadata": {
    "ExecuteTime": {
     "end_time": "2022-04-06T18:15:02.686309Z",
     "start_time": "2022-04-06T18:15:02.671307Z"
    }
   },
   "outputs": [
    {
     "data": {
      "text/plain": [
       "array(['MECHANICAL', 'AUTOMATIC', 'ROBOT', 'VARIATOR'], dtype=object)"
      ]
     },
     "execution_count": 52,
     "metadata": {},
     "output_type": "execute_result"
    }
   ],
   "source": [
    "#Преобразование\n",
    "train_mod.vehicleTransmission.unique()"
   ]
  },
  {
   "cell_type": "code",
   "execution_count": 53,
   "id": "186dd608",
   "metadata": {
    "ExecuteTime": {
     "end_time": "2022-04-06T18:15:02.702312Z",
     "start_time": "2022-04-06T18:15:02.687310Z"
    }
   },
   "outputs": [
    {
     "data": {
      "text/plain": [
       "array(['роботизированная', 'механическая', 'автоматическая', 'вариатор'],\n",
       "      dtype=object)"
      ]
     },
     "execution_count": 53,
     "metadata": {},
     "output_type": "execute_result"
    }
   ],
   "source": [
    "test_mod.vehicleTransmission.unique()"
   ]
  },
  {
   "cell_type": "code",
   "execution_count": 54,
   "id": "52cfd171",
   "metadata": {
    "ExecuteTime": {
     "end_time": "2022-04-06T18:15:02.733321Z",
     "start_time": "2022-04-06T18:15:02.703314Z"
    }
   },
   "outputs": [],
   "source": [
    "test_mod = test_mod.replace({'vehicleTransmission':\n",
    "                            {'автоматическая': 'AUTOMATIC',\n",
    "                            'вариатор': 'VARIATOR',\n",
    "                            'механическая': 'MECHANICAL',\n",
    "                            'роботизированная': 'ROBOT'}})"
   ]
  },
  {
   "cell_type": "code",
   "execution_count": 55,
   "id": "5eb9d1fa",
   "metadata": {
    "ExecuteTime": {
     "end_time": "2022-04-06T18:15:02.749323Z",
     "start_time": "2022-04-06T18:15:02.734320Z"
    }
   },
   "outputs": [
    {
     "name": "stdout",
     "output_type": "stream",
     "text": [
      "TEST\n"
     ]
    },
    {
     "data": {
      "text/plain": [
       "32558     1 владелец\n",
       "11647     1 владелец\n",
       "3822     3 или более\n",
       "28698     1 владелец\n",
       "16952     1 владелец\n",
       "Name: Владельцы, dtype: object"
      ]
     },
     "metadata": {},
     "output_type": "display_data"
    },
    {
     "name": "stdout",
     "output_type": "stream",
     "text": [
      "TRAIN\n"
     ]
    },
    {
     "data": {
      "text/plain": [
       "48097    3.0\n",
       "82720    3.0\n",
       "60046    3.0\n",
       "5875     1.0\n",
       "10395    NaN\n",
       "Name: Владельцы, dtype: float64"
      ]
     },
     "metadata": {},
     "output_type": "display_data"
    }
   ],
   "source": [
    "#Владельцы\n",
    "column = 'Владельцы'\n",
    "type_comparison(column)"
   ]
  },
  {
   "cell_type": "code",
   "execution_count": 56,
   "id": "2abf1395",
   "metadata": {
    "ExecuteTime": {
     "end_time": "2022-04-06T18:15:02.765327Z",
     "start_time": "2022-04-06T18:15:02.750324Z"
    }
   },
   "outputs": [
    {
     "data": {
      "text/plain": [
       "array(['3 или более', '1\\xa0владелец', '2\\xa0владельца'], dtype=object)"
      ]
     },
     "execution_count": 56,
     "metadata": {},
     "output_type": "execute_result"
    }
   ],
   "source": [
    "test_mod.Владельцы.unique()"
   ]
  },
  {
   "cell_type": "code",
   "execution_count": 57,
   "id": "8f6aabc3",
   "metadata": {
    "ExecuteTime": {
     "end_time": "2022-04-06T18:15:02.829341Z",
     "start_time": "2022-04-06T18:15:02.766327Z"
    }
   },
   "outputs": [
    {
     "name": "stderr",
     "output_type": "stream",
     "text": [
      "C:\\Users\\zetet\\AppData\\Local\\Temp\\ipykernel_15740\\3880624668.py:2: SettingWithCopyWarning: \n",
      "A value is trying to be set on a copy of a slice from a DataFrame.\n",
      "Try using .loc[row_indexer,col_indexer] = value instead\n",
      "\n",
      "See the caveats in the documentation: https://pandas.pydata.org/pandas-docs/stable/user_guide/indexing.html#returning-a-view-versus-a-copy\n",
      "  train_mod.Владельцы = train_mod.Владельцы.convert_dtypes(int)\n"
     ]
    }
   ],
   "source": [
    "#Преобразование\n",
    "train_mod.Владельцы = train_mod.Владельцы.convert_dtypes(int)\n",
    "\n",
    "test_mod = test_mod.replace({'Владельцы':\n",
    "                            {'1\\xa0владелец': 1,\n",
    "                            '2\\xa0владельца': 2,\n",
    "                            '3 или более': 3}})"
   ]
  },
  {
   "cell_type": "code",
   "execution_count": 58,
   "id": "d437c42b",
   "metadata": {
    "ExecuteTime": {
     "end_time": "2022-04-06T18:15:02.845345Z",
     "start_time": "2022-04-06T18:15:02.830343Z"
    }
   },
   "outputs": [
    {
     "name": "stdout",
     "output_type": "stream",
     "text": [
      "TEST\n"
     ]
    },
    {
     "data": {
      "text/plain": [
       "2900                    NaN\n",
       "4337     3 года и 6 месяцев\n",
       "14155                   NaN\n",
       "10957                   NaN\n",
       "27958    2 года и 7 месяцев\n",
       "Name: Владение, dtype: object"
      ]
     },
     "metadata": {},
     "output_type": "display_data"
    },
    {
     "name": "stdout",
     "output_type": "stream",
     "text": [
      "TRAIN\n"
     ]
    },
    {
     "data": {
      "text/plain": [
       "74647    {'year': 2014, 'month': 6}\n",
       "65026    {'year': 2020, 'month': 1}\n",
       "65585                           NaN\n",
       "38631                           NaN\n",
       "70196    {'year': 2014, 'month': 7}\n",
       "Name: Владение, dtype: object"
      ]
     },
     "metadata": {},
     "output_type": "display_data"
    }
   ],
   "source": [
    "#Владение\n",
    "column = 'Владение' # перевести в дни, можно выкинуть\n",
    "type_comparison(column)"
   ]
  },
  {
   "cell_type": "code",
   "execution_count": 59,
   "id": "3936fe3f",
   "metadata": {
    "ExecuteTime": {
     "end_time": "2022-04-06T18:15:02.861348Z",
     "start_time": "2022-04-06T18:15:02.846345Z"
    }
   },
   "outputs": [
    {
     "name": "stdout",
     "output_type": "stream",
     "text": [
      "TEST\n",
      "Владение - 65%\n",
      "TRAIN\n",
      "Владение - 69%\n"
     ]
    }
   ],
   "source": [
    "#Посчитаем % пропусков\n",
    "col = 'Владение'\n",
    "\n",
    "pct_missing_1 = np.mean(test[col].isnull()) \n",
    "print('TEST')\n",
    "print('{} - {}%'.format(col, round(pct_missing_1*100)))\n",
    "pct_missing_2 = np.mean(train_mod[col].isnull()) \n",
    "print('TRAIN')\n",
    "print('{} - {}%'.format(col, round(pct_missing_2*100)))"
   ]
  },
  {
   "cell_type": "markdown",
   "id": "06f9efa9",
   "metadata": {},
   "source": [
    "Большой процент пропусков в TRAIN и TEST (около 70%), столбец можно удалить."
   ]
  },
  {
   "cell_type": "code",
   "execution_count": 60,
   "id": "375636d0",
   "metadata": {
    "ExecuteTime": {
     "end_time": "2022-04-06T18:15:02.877352Z",
     "start_time": "2022-04-06T18:15:02.862348Z"
    }
   },
   "outputs": [
    {
     "name": "stdout",
     "output_type": "stream",
     "text": [
      "TEST\n"
     ]
    },
    {
     "data": {
      "text/plain": [
       "7615       полный\n",
       "24776    передний\n",
       "21069    передний\n",
       "1538     передний\n",
       "6286     передний\n",
       "Name: Привод, dtype: object"
      ]
     },
     "metadata": {},
     "output_type": "display_data"
    },
    {
     "name": "stdout",
     "output_type": "stream",
     "text": [
      "TRAIN\n"
     ]
    },
    {
     "data": {
      "text/plain": [
       "9858       полный\n",
       "43322      полный\n",
       "76592    передний\n",
       "87215      полный\n",
       "6416       задний\n",
       "Name: Привод, dtype: object"
      ]
     },
     "metadata": {},
     "output_type": "display_data"
    }
   ],
   "source": [
    "#Привод\n",
    "column = 'Привод'\n",
    "type_comparison(column)"
   ]
  },
  {
   "cell_type": "code",
   "execution_count": 61,
   "id": "d1c2587e",
   "metadata": {
    "ExecuteTime": {
     "end_time": "2022-04-06T18:15:02.893355Z",
     "start_time": "2022-04-06T18:15:02.878352Z"
    }
   },
   "outputs": [
    {
     "name": "stdout",
     "output_type": "stream",
     "text": [
      "TEST\n"
     ]
    },
    {
     "data": {
      "text/plain": [
       "10346    Оригинал\n",
       "22986    Оригинал\n",
       "24268    Оригинал\n",
       "21538    Оригинал\n",
       "1794     Оригинал\n",
       "Name: ПТС, dtype: object"
      ]
     },
     "metadata": {},
     "output_type": "display_data"
    },
    {
     "name": "stdout",
     "output_type": "stream",
     "text": [
      "TRAIN\n"
     ]
    },
    {
     "data": {
      "text/plain": [
       "48984    ORIGINAL\n",
       "65728    ORIGINAL\n",
       "1002     ORIGINAL\n",
       "72313    ORIGINAL\n",
       "82960    ORIGINAL\n",
       "Name: ПТС, dtype: object"
      ]
     },
     "metadata": {},
     "output_type": "display_data"
    }
   ],
   "source": [
    "#ПТС\n",
    "column = 'ПТС'\n",
    "type_comparison(column)"
   ]
  },
  {
   "cell_type": "code",
   "execution_count": 62,
   "id": "6ca50947",
   "metadata": {
    "ExecuteTime": {
     "end_time": "2022-04-06T18:15:02.925363Z",
     "start_time": "2022-04-06T18:15:02.894357Z"
    }
   },
   "outputs": [],
   "source": [
    "#Преобразование\n",
    "test_mod = test_mod.replace({'ПТС':\n",
    "                            {'Оригинал': 'ORIGINAL',\n",
    "                            'Дубликат': 'DUPLICATE'}})"
   ]
  },
  {
   "cell_type": "code",
   "execution_count": 63,
   "id": "6559cbe9",
   "metadata": {
    "ExecuteTime": {
     "end_time": "2022-04-06T18:15:02.941366Z",
     "start_time": "2022-04-06T18:15:02.926363Z"
    }
   },
   "outputs": [
    {
     "name": "stdout",
     "output_type": "stream",
     "text": [
      "TEST\n"
     ]
    },
    {
     "data": {
      "text/plain": [
       "29036    Левый\n",
       "20951    Левый\n",
       "5072     Левый\n",
       "4559     Левый\n",
       "5313     Левый\n",
       "Name: Руль, dtype: object"
      ]
     },
     "metadata": {},
     "output_type": "display_data"
    },
    {
     "name": "stdout",
     "output_type": "stream",
     "text": [
      "TRAIN\n"
     ]
    },
    {
     "data": {
      "text/plain": [
       "50242    LEFT\n",
       "7036     LEFT\n",
       "6257     LEFT\n",
       "70521    LEFT\n",
       "86618    LEFT\n",
       "Name: Руль, dtype: object"
      ]
     },
     "metadata": {},
     "output_type": "display_data"
    }
   ],
   "source": [
    "#Руль\n",
    "column = 'Руль'\n",
    "type_comparison(column)"
   ]
  },
  {
   "cell_type": "code",
   "execution_count": 64,
   "id": "f058d5e1",
   "metadata": {
    "ExecuteTime": {
     "end_time": "2022-04-06T18:15:02.957370Z",
     "start_time": "2022-04-06T18:15:02.942367Z"
    }
   },
   "outputs": [],
   "source": [
    "#Преобразование\n",
    "test_mod = test_mod.replace({'Руль':\n",
    "                            {'Левый': 'LEFT',\n",
    "                            'Правый': 'RIGHT'}})"
   ]
  },
  {
   "cell_type": "code",
   "execution_count": 65,
   "id": "f1c26df9",
   "metadata": {
    "ExecuteTime": {
     "end_time": "2022-04-06T18:15:02.973374Z",
     "start_time": "2022-04-06T18:15:02.958370Z"
    }
   },
   "outputs": [
    {
     "name": "stdout",
     "output_type": "stream",
     "text": [
      "TEST\n"
     ]
    },
    {
     "data": {
      "text/plain": [
       "13894    Не требует ремонта\n",
       "6343     Не требует ремонта\n",
       "31826    Не требует ремонта\n",
       "22980    Не требует ремонта\n",
       "23148    Не требует ремонта\n",
       "Name: Состояние, dtype: object"
      ]
     },
     "metadata": {},
     "output_type": "display_data"
    },
    {
     "name": "stdout",
     "output_type": "stream",
     "text": [
      "TRAIN\n"
     ]
    },
    {
     "data": {
      "text/plain": [
       "85204   NaN\n",
       "77488   NaN\n",
       "9620    NaN\n",
       "82453   NaN\n",
       "81579   NaN\n",
       "Name: Состояние, dtype: float64"
      ]
     },
     "metadata": {},
     "output_type": "display_data"
    }
   ],
   "source": [
    "#Состояние # выкинуть\n",
    "column = 'Состояние'\n",
    "type_comparison(column)"
   ]
  },
  {
   "cell_type": "code",
   "execution_count": 66,
   "id": "0e984328",
   "metadata": {
    "ExecuteTime": {
     "end_time": "2022-04-06T18:15:02.989377Z",
     "start_time": "2022-04-06T18:15:02.974375Z"
    }
   },
   "outputs": [
    {
     "data": {
      "text/plain": [
       "array(['Не требует ремонта'], dtype=object)"
      ]
     },
     "execution_count": 66,
     "metadata": {},
     "output_type": "execute_result"
    }
   ],
   "source": [
    "test_mod.Состояние.unique()"
   ]
  },
  {
   "cell_type": "code",
   "execution_count": 67,
   "id": "ea8ad198",
   "metadata": {
    "ExecuteTime": {
     "end_time": "2022-04-06T18:15:03.005381Z",
     "start_time": "2022-04-06T18:15:02.990378Z"
    }
   },
   "outputs": [
    {
     "data": {
      "text/plain": [
       "array([nan])"
      ]
     },
     "execution_count": 67,
     "metadata": {},
     "output_type": "execute_result"
    }
   ],
   "source": [
    "train_mod.Состояние.unique()"
   ]
  },
  {
   "cell_type": "markdown",
   "id": "533bee22",
   "metadata": {},
   "source": [
    "В TEST только одно значение, в TRAIN - пустой столбец. СОСТОЯНИЕ можно удалить."
   ]
  },
  {
   "cell_type": "code",
   "execution_count": 68,
   "id": "e465b4a3",
   "metadata": {
    "ExecuteTime": {
     "end_time": "2022-04-06T18:15:03.021384Z",
     "start_time": "2022-04-06T18:15:03.006382Z"
    }
   },
   "outputs": [
    {
     "name": "stdout",
     "output_type": "stream",
     "text": [
      "TEST\n"
     ]
    },
    {
     "data": {
      "text/plain": [
       "25714    Растаможен\n",
       "29187    Растаможен\n",
       "21744    Растаможен\n",
       "21411    Растаможен\n",
       "30423    Растаможен\n",
       "Name: Таможня, dtype: object"
      ]
     },
     "metadata": {},
     "output_type": "display_data"
    },
    {
     "name": "stdout",
     "output_type": "stream",
     "text": [
      "TRAIN\n"
     ]
    },
    {
     "data": {
      "text/plain": [
       "46572    True\n",
       "5380     True\n",
       "38614    True\n",
       "3501     True\n",
       "43800    True\n",
       "Name: Таможня, dtype: bool"
      ]
     },
     "metadata": {},
     "output_type": "display_data"
    }
   ],
   "source": [
    "#Таможня\n",
    "column = 'Таможня'\n",
    "type_comparison(column)"
   ]
  },
  {
   "cell_type": "code",
   "execution_count": 69,
   "id": "cba0051a",
   "metadata": {
    "ExecuteTime": {
     "end_time": "2022-04-06T18:15:03.037388Z",
     "start_time": "2022-04-06T18:15:03.022385Z"
    }
   },
   "outputs": [
    {
     "data": {
      "text/plain": [
       "array(['Растаможен'], dtype=object)"
      ]
     },
     "execution_count": 69,
     "metadata": {},
     "output_type": "execute_result"
    }
   ],
   "source": [
    "test_mod.Таможня.unique()"
   ]
  },
  {
   "cell_type": "code",
   "execution_count": 70,
   "id": "1363435a",
   "metadata": {
    "ExecuteTime": {
     "end_time": "2022-04-06T18:15:03.053392Z",
     "start_time": "2022-04-06T18:15:03.038389Z"
    }
   },
   "outputs": [
    {
     "data": {
      "text/plain": [
       "array([ True])"
      ]
     },
     "execution_count": 70,
     "metadata": {},
     "output_type": "execute_result"
    }
   ],
   "source": [
    "train_mod.Таможня.unique()"
   ]
  },
  {
   "cell_type": "markdown",
   "id": "74b0a508",
   "metadata": {},
   "source": [
    "В TRAIN и TEST во всех строках одинаковое значение, столбец ТАМОЖНЯ можно удалить."
   ]
  },
  {
   "cell_type": "markdown",
   "id": "756b320b",
   "metadata": {},
   "source": [
    "### Столбцы ТОЛЬКО TEST"
   ]
  },
  {
   "cell_type": "code",
   "execution_count": 71,
   "id": "abb84649",
   "metadata": {
    "ExecuteTime": {
     "end_time": "2022-04-06T18:15:03.132632Z",
     "start_time": "2022-04-06T18:15:03.054392Z"
    }
   },
   "outputs": [
    {
     "name": "stdout",
     "output_type": "stream",
     "text": [
      "<class 'pandas.core.frame.DataFrame'>\n",
      "Int64Index: 34686 entries, 0 to 34685\n",
      "Data columns (total 11 columns):\n",
      " #   Column              Non-Null Count  Dtype \n",
      "---  ------              --------------  ----- \n",
      " 0   vendor              34686 non-null  object\n",
      " 1   sell_id             34686 non-null  int64 \n",
      " 2   equipment_dict      24690 non-null  object\n",
      " 3   car_url             34686 non-null  object\n",
      " 4   image               34686 non-null  object\n",
      " 5   complectation_dict  6418 non-null   object\n",
      " 6   parsing_unixtime    34686 non-null  int64 \n",
      " 7   model_name          34686 non-null  object\n",
      " 8   priceCurrency       34686 non-null  object\n",
      " 9   super_gen           34686 non-null  object\n",
      " 10  model_info          34686 non-null  object\n",
      "dtypes: int64(2), object(9)\n",
      "memory usage: 3.2+ MB\n"
     ]
    },
    {
     "name": "stderr",
     "output_type": "stream",
     "text": [
      "C:\\Users\\zetet\\AppData\\Local\\Temp\\ipykernel_15740\\1526034085.py:1: FutureWarning: Passing a set as an indexer is deprecated and will raise in a future version. Use a list instead.\n",
      "  test_mod[test_only_columns].info()\n"
     ]
    }
   ],
   "source": [
    "test_mod[test_only_columns].info()"
   ]
  },
  {
   "cell_type": "code",
   "execution_count": 72,
   "id": "d61c2297",
   "metadata": {
    "ExecuteTime": {
     "end_time": "2022-04-06T18:15:03.148636Z",
     "start_time": "2022-04-06T18:15:03.133633Z"
    }
   },
   "outputs": [
    {
     "name": "stdout",
     "output_type": "stream",
     "text": [
      "equipment_dict - 29%\n"
     ]
    }
   ],
   "source": [
    "#equipment_dict\n",
    "#Процент пропусков\n",
    "col = 'equipment_dict'\n",
    "missing = np.mean(test_mod[col].isnull()) \n",
    "print('{} - {}%'.format(col, round(missing*100)))"
   ]
  },
  {
   "cell_type": "code",
   "execution_count": 73,
   "id": "59302094",
   "metadata": {
    "ExecuteTime": {
     "end_time": "2022-04-06T18:15:03.164640Z",
     "start_time": "2022-04-06T18:15:03.149636Z"
    }
   },
   "outputs": [
    {
     "data": {
      "text/plain": [
       "19418    {\"airbag-rear-side\":true,\"asr\":true,\"airbag-dr...\n",
       "11232    {\"alloy-wheel-disks\":true,\"ptf\":true,\"airbag-d...\n",
       "20045    {\"cruise-control\":true,\"esp\":true,\"usb\":true,\"...\n",
       "2636     {\"asr\":true,\"esp\":true,\"airbag-driver\":true,\"l...\n",
       "26435    {\"cruise-control\":true,\"asr\":true,\"tinted-glas...\n",
       "Name: equipment_dict, dtype: object"
      ]
     },
     "execution_count": 73,
     "metadata": {},
     "output_type": "execute_result"
    }
   ],
   "source": [
    "test_mod.equipment_dict.sample(5)"
   ]
  },
  {
   "cell_type": "code",
   "execution_count": 74,
   "id": "5d8e18fd",
   "metadata": {
    "ExecuteTime": {
     "end_time": "2022-04-06T18:15:03.179642Z",
     "start_time": "2022-04-06T18:15:03.165640Z"
    }
   },
   "outputs": [
    {
     "data": {
      "text/plain": [
       "'{\"engine-proof\":true,\"tinted-glass\":true,\"esp\":true,\"airbag-driver\":true,\"aux\":true,\"isofix\":true,\"usb\":true,\"electro-window-front\":true,\"hcc\":true,\"audiopreparation\":true,\"heated-wash-system\":true,\"ashtray-and-cigarette-lighter\":true,\"airbag-passenger\":true,\"computer\":true,\"seat-transformation\":true,\"wheel-power\":true,\"lock\":true,\"fabric-seats\":true,\"electro-mirrors\":true,\"steel-wheels\":true,\"rain-sensor\":true,\"airbag-side\":true,\"mirrors-heat\":true,\"driver-seat-updown\":true,\"condition\":true,\"led-lights\":true,\"abs\":true,\"front-seats-heat\":true,\"wheel-configuration1\":true,\"immo\":true,\"12v-socket\":true,\"15-inch-wheels\":true}'"
      ]
     },
     "execution_count": 74,
     "metadata": {},
     "output_type": "execute_result"
    }
   ],
   "source": [
    "test_mod.equipment_dict[938] # Ментор сказал выкинуть, кек"
   ]
  },
  {
   "cell_type": "markdown",
   "id": "47ba919d",
   "metadata": {},
   "source": [
    "Данные содержат описание комплектации, могут служить для извлечения дополнительных признаков."
   ]
  },
  {
   "cell_type": "code",
   "execution_count": 75,
   "id": "20764264",
   "metadata": {
    "ExecuteTime": {
     "end_time": "2022-04-06T18:15:03.195646Z",
     "start_time": "2022-04-06T18:15:03.180642Z"
    }
   },
   "outputs": [
    {
     "data": {
      "text/plain": [
       "14206    {\"id\":\"7024211\",\"displacement\":2488,\"engine_ty...\n",
       "28605    {\"id\":\"20701945\",\"displacement\":3200,\"engine_t...\n",
       "20781    {\"id\":\"2410246\",\"displacement\":4461,\"engine_ty...\n",
       "3376     {\"id\":\"6469003\",\"displacement\":4134,\"engine_ty...\n",
       "17152    {\"id\":\"20071230\",\"name\":\"500\",\"nameplate\":\"500...\n",
       "Name: super_gen, dtype: object"
      ]
     },
     "execution_count": 75,
     "metadata": {},
     "output_type": "execute_result"
    }
   ],
   "source": [
    "#super_gen можно заменить пропуски\n",
    "test_mod.super_gen.sample(5)"
   ]
  },
  {
   "cell_type": "code",
   "execution_count": 76,
   "id": "09ba78e2",
   "metadata": {
    "ExecuteTime": {
     "end_time": "2022-04-06T18:15:03.211650Z",
     "start_time": "2022-04-06T18:15:03.196647Z"
    }
   },
   "outputs": [
    {
     "data": {
      "text/plain": [
       "'{\"id\":\"20105521\",\"displacement\":1598,\"engine_type\":\"GASOLINE\",\"gear_type\":\"FORWARD_CONTROL\",\"transmission\":\"AUTOMATIC\",\"power\":110,\"power_kvt\":81,\"human_name\":\"1.6 AT (110 л.с.)\",\"acceleration\":12.2,\"clearance_min\":155,\"fuel_rate\":6.7}'"
      ]
     },
     "execution_count": 76,
     "metadata": {},
     "output_type": "execute_result"
    }
   ],
   "source": [
    "test_mod.super_gen[938]"
   ]
  },
  {
   "cell_type": "markdown",
   "id": "88c2e216",
   "metadata": {},
   "source": [
    "Данные частично дублируются с vehicleTransmission и engineDisplacement, однако, пропусков в тех столбцах нет - столбец super_gen следует удалить"
   ]
  },
  {
   "cell_type": "code",
   "execution_count": 77,
   "id": "ebaa9db1",
   "metadata": {
    "ExecuteTime": {
     "end_time": "2022-04-06T18:15:03.227653Z",
     "start_time": "2022-04-06T18:15:03.212649Z"
    },
    "scrolled": true
   },
   "outputs": [
    {
     "data": {
      "text/plain": [
       "1174     {\"code\":\"SUPERB\",\"name\":\"Superb\",\"ru_name\":\"Су...\n",
       "22314    {\"code\":\"COROLLA_LEVIN\",\"name\":\"Corolla Levin\"...\n",
       "18606    {\"code\":\"C_KLASSE\",\"name\":\"C-Класс\",\"ru_name\":...\n",
       "31026    {\"code\":\"OCTAVIA\",\"name\":\"Octavia\",\"ru_name\":\"...\n",
       "12198    {\"code\":\"SENTRA\",\"name\":\"Sentra\",\"ru_name\":\"Се...\n",
       "Name: model_info, dtype: object"
      ]
     },
     "execution_count": 77,
     "metadata": {},
     "output_type": "execute_result"
    }
   ],
   "source": [
    "#model_info # Выкинуть\n",
    "test_mod.model_info.sample(5)"
   ]
  },
  {
   "cell_type": "code",
   "execution_count": 78,
   "id": "2d79d55d",
   "metadata": {
    "ExecuteTime": {
     "end_time": "2022-04-06T18:15:03.243657Z",
     "start_time": "2022-04-06T18:15:03.228654Z"
    }
   },
   "outputs": [
    {
     "data": {
      "text/plain": [
       "'{\"code\":\"OCTAVIA\",\"name\":\"Octavia\",\"ru_name\":\"Октавия\",\"morphology\":{\"gender\":\"FEMININE\"},\"nameplate\":{\"code\":\"\",\"name\":\"\",\"semantic_url\":\"\"}}'"
      ]
     },
     "execution_count": 78,
     "metadata": {},
     "output_type": "execute_result"
    }
   ],
   "source": [
    "test_mod.model_info[938]"
   ]
  },
  {
   "cell_type": "code",
   "execution_count": 79,
   "id": "a1153556",
   "metadata": {
    "ExecuteTime": {
     "end_time": "2022-04-06T18:15:03.259661Z",
     "start_time": "2022-04-06T18:15:03.244658Z"
    }
   },
   "outputs": [
    {
     "data": {
      "text/plain": [
       "'{\"code\":\"80\",\"name\":\"80\",\"ru_name\":\"80\",\"morphology\":{},\"nameplate\":{\"code\":\"\",\"name\":\"\",\"semantic_url\":\"\"}}'"
      ]
     },
     "execution_count": 79,
     "metadata": {},
     "output_type": "execute_result"
    }
   ],
   "source": [
    "test_mod.model_info[4469]"
   ]
  },
  {
   "cell_type": "code",
   "execution_count": 80,
   "id": "fa2eb37f",
   "metadata": {
    "ExecuteTime": {
     "end_time": "2022-04-06T18:15:03.275664Z",
     "start_time": "2022-04-06T18:15:03.260661Z"
    }
   },
   "outputs": [
    {
     "data": {
      "text/plain": [
       "'{\"code\":\"A5\",\"name\":\"A5\",\"ru_name\":\"А5\",\"morphology\":{},\"nameplate\":{\"code\":\"\",\"name\":\"\",\"semantic_url\":\"\"}}'"
      ]
     },
     "execution_count": 80,
     "metadata": {},
     "output_type": "execute_result"
    }
   ],
   "source": [
    "test_mod.model_info[3495]"
   ]
  },
  {
   "cell_type": "markdown",
   "id": "83a42754",
   "metadata": {
    "ExecuteTime": {
     "end_time": "2022-04-04T23:44:52.766392Z",
     "start_time": "2022-04-04T23:44:52.751389Z"
    }
   },
   "source": [
    "Столбец MODEL_INFO дублирует информацию BRAND, можно удалить."
   ]
  },
  {
   "cell_type": "code",
   "execution_count": 81,
   "id": "29c80cff",
   "metadata": {
    "ExecuteTime": {
     "end_time": "2022-04-06T18:15:03.291668Z",
     "start_time": "2022-04-06T18:15:03.276664Z"
    }
   },
   "outputs": [
    {
     "data": {
      "text/plain": [
       "2086     EUROPEAN\n",
       "17991    EUROPEAN\n",
       "16587    EUROPEAN\n",
       "16792    EUROPEAN\n",
       "20849    JAPANESE\n",
       "Name: vendor, dtype: object"
      ]
     },
     "execution_count": 81,
     "metadata": {},
     "output_type": "execute_result"
    }
   ],
   "source": [
    "#vendor\n",
    "test_mod.vendor.sample(5)"
   ]
  },
  {
   "cell_type": "code",
   "execution_count": 82,
   "id": "011b4beb",
   "metadata": {
    "ExecuteTime": {
     "end_time": "2022-04-06T18:15:03.307671Z",
     "start_time": "2022-04-06T18:15:03.302670Z"
    }
   },
   "outputs": [
    {
     "data": {
      "text/plain": [
       "array(['EUROPEAN', 'JAPANESE'], dtype=object)"
      ]
     },
     "execution_count": 82,
     "metadata": {},
     "output_type": "execute_result"
    }
   ],
   "source": [
    "test_mod.vendor.unique()"
   ]
  },
  {
   "cell_type": "code",
   "execution_count": 83,
   "id": "7bdf3b31",
   "metadata": {
    "ExecuteTime": {
     "end_time": "2022-04-06T18:15:03.339678Z",
     "start_time": "2022-04-06T18:15:03.308672Z"
    }
   },
   "outputs": [
    {
     "data": {
      "text/plain": [
       "array(['SKODA', 'AUDI', 'VOLVO', 'BMW', 'MERCEDES', 'VOLKSWAGEN'],\n",
       "      dtype=object)"
      ]
     },
     "execution_count": 83,
     "metadata": {},
     "output_type": "execute_result"
    }
   ],
   "source": [
    "test_mod[test_mod['vendor'] == 'EUROPEAN']['brand'].unique()"
   ]
  },
  {
   "cell_type": "code",
   "execution_count": 84,
   "id": "ee87e335",
   "metadata": {
    "ExecuteTime": {
     "end_time": "2022-04-06T18:15:03.355792Z",
     "start_time": "2022-04-06T18:15:03.340680Z"
    }
   },
   "outputs": [
    {
     "data": {
      "text/plain": [
       "array(['HONDA', 'NISSAN', 'INFINITI', 'TOYOTA', 'LEXUS', 'MITSUBISHI'],\n",
       "      dtype=object)"
      ]
     },
     "execution_count": 84,
     "metadata": {},
     "output_type": "execute_result"
    }
   ],
   "source": [
    "test_mod[test_mod['vendor'] == 'JAPANESE']['brand'].unique()"
   ]
  },
  {
   "cell_type": "markdown",
   "id": "1e9ee3c8",
   "metadata": {},
   "source": [
    "Европейским брендам соответствует европейский вендор, японским - соответственный. Возможно, этот столбец является ключом для создания дополнительного признака - страна или концерн, производящий определенный бренд."
   ]
  },
  {
   "cell_type": "code",
   "execution_count": 85,
   "id": "cfcf662b",
   "metadata": {
    "ExecuteTime": {
     "end_time": "2022-04-06T18:15:03.371795Z",
     "start_time": "2022-04-06T18:15:03.356793Z"
    }
   },
   "outputs": [
    {
     "data": {
      "text/plain": [
       "9820     1094656346\n",
       "18565    1077814084\n",
       "23825    1099364686\n",
       "7332     1100362122\n",
       "28719    1098045976\n",
       "Name: sell_id, dtype: int64"
      ]
     },
     "execution_count": 85,
     "metadata": {},
     "output_type": "execute_result"
    }
   ],
   "source": [
    "#sell_id\n",
    "test_mod.sell_id.sample(5)"
   ]
  },
  {
   "cell_type": "markdown",
   "id": "dc9fdee8",
   "metadata": {},
   "source": [
    "SELL_ID - неинформативный столбец, необходимо удалить."
   ]
  },
  {
   "cell_type": "code",
   "execution_count": 86,
   "id": "b998ab80",
   "metadata": {
    "ExecuteTime": {
     "end_time": "2022-04-06T18:15:03.387799Z",
     "start_time": "2022-04-06T18:15:03.372796Z"
    },
    "scrolled": true
   },
   "outputs": [
    {
     "name": "stdout",
     "output_type": "stream",
     "text": [
      "complectation_dict - 81%\n"
     ]
    }
   ],
   "source": [
    "#complectation_dict\n",
    "#Процент пропусков\n",
    "col = 'complectation_dict'\n",
    "missing = np.mean(test_mod[col].isnull()) \n",
    "print('{} - {}%'.format(col, round(missing*100)))"
   ]
  },
  {
   "cell_type": "code",
   "execution_count": 87,
   "id": "b6fa4a74",
   "metadata": {
    "ExecuteTime": {
     "end_time": "2022-04-06T18:15:03.403803Z",
     "start_time": "2022-04-06T18:15:03.388800Z"
    }
   },
   "outputs": [
    {
     "data": {
      "text/plain": [
       "0                                                   NaN\n",
       "1                                                   NaN\n",
       "2     {\"id\":\"20026336\",\"name\":\"Ambition\",\"available_...\n",
       "3     {\"id\":\"20803582\",\"name\":\"Ambition\",\"available_...\n",
       "4                                                   NaN\n",
       "5     {\"id\":\"5011515\",\"name\":\"RS\",\"available_options...\n",
       "6     {\"id\":\"20069264\",\"name\":\"Elegance\",\"available_...\n",
       "7                                                   NaN\n",
       "8                                                   NaN\n",
       "9                                                   NaN\n",
       "10                                                  NaN\n",
       "11                                                  NaN\n",
       "12                                                  NaN\n",
       "13                                                  NaN\n",
       "14                                                  NaN\n",
       "15                                                  NaN\n",
       "16    {\"id\":\"20913628\",\"name\":\"Style\",\"available_opt...\n",
       "17                                                  NaN\n",
       "18                                                  NaN\n",
       "19                                                  NaN\n",
       "Name: complectation_dict, dtype: object"
      ]
     },
     "execution_count": 87,
     "metadata": {},
     "output_type": "execute_result"
    }
   ],
   "source": [
    "test_mod.complectation_dict.head(20)"
   ]
  },
  {
   "cell_type": "markdown",
   "id": "16426942",
   "metadata": {},
   "source": [
    "В столбце COMPLECTATION_DICT большой процент пропусков, его нужно удалить."
   ]
  },
  {
   "cell_type": "code",
   "execution_count": 88,
   "id": "f04a0138",
   "metadata": {
    "ExecuteTime": {
     "end_time": "2022-04-06T18:15:03.418806Z",
     "start_time": "2022-04-06T18:15:03.404804Z"
    },
    "scrolled": true
   },
   "outputs": [
    {
     "data": {
      "text/plain": [
       "20268    1603291108\n",
       "28730    1603267565\n",
       "27069    1603261320\n",
       "6451     1603236099\n",
       "310      1603227474\n",
       "Name: parsing_unixtime, dtype: int64"
      ]
     },
     "execution_count": 88,
     "metadata": {},
     "output_type": "execute_result"
    }
   ],
   "source": [
    "#parsing_unixtime\n",
    "test_mod.parsing_unixtime.sample(5)"
   ]
  },
  {
   "cell_type": "markdown",
   "id": "33ea0bd4",
   "metadata": {},
   "source": [
    "Данный столбец бесполезен и его следует удалить."
   ]
  },
  {
   "cell_type": "code",
   "execution_count": 89,
   "id": "84f4540d",
   "metadata": {
    "ExecuteTime": {
     "end_time": "2022-04-06T18:15:03.434812Z",
     "start_time": "2022-04-06T18:15:03.419807Z"
    }
   },
   "outputs": [
    {
     "data": {
      "text/plain": [
       "11830               X_TRAIL\n",
       "15766              M_KLASSE\n",
       "15084                    FX\n",
       "24216              MULTIVAN\n",
       "19976    LAND_CRUISER_PRADO\n",
       "Name: model_name, dtype: object"
      ]
     },
     "execution_count": 89,
     "metadata": {},
     "output_type": "execute_result"
    }
   ],
   "source": [
    "#model_name\n",
    "test_mod.model_name.sample(5)"
   ]
  },
  {
   "cell_type": "markdown",
   "id": "877b7ea8",
   "metadata": {},
   "source": [
    "MODEL_NAME: Обозначение модели конкретного бренда, нужно уточнить корреспондирующую информацию в TRAIN."
   ]
  },
  {
   "cell_type": "code",
   "execution_count": 90,
   "id": "2e0afee4",
   "metadata": {
    "ExecuteTime": {
     "end_time": "2022-04-06T18:15:03.450813Z",
     "start_time": "2022-04-06T18:15:03.435811Z"
    }
   },
   "outputs": [
    {
     "data": {
      "text/plain": [
       "7786     RUB\n",
       "34160    RUB\n",
       "9521     RUB\n",
       "26558    RUB\n",
       "27637    RUB\n",
       "Name: priceCurrency, dtype: object"
      ]
     },
     "execution_count": 90,
     "metadata": {},
     "output_type": "execute_result"
    }
   ],
   "source": [
    "#priceCurrency \n",
    "test_mod.priceCurrency.sample(5)"
   ]
  },
  {
   "cell_type": "code",
   "execution_count": 91,
   "id": "487a77cf",
   "metadata": {
    "ExecuteTime": {
     "end_time": "2022-04-06T18:15:03.466817Z",
     "start_time": "2022-04-06T18:15:03.451814Z"
    }
   },
   "outputs": [
    {
     "data": {
      "text/plain": [
       "array(['RUB'], dtype=object)"
      ]
     },
     "execution_count": 91,
     "metadata": {},
     "output_type": "execute_result"
    }
   ],
   "source": [
    "test_mod.priceCurrency.unique()"
   ]
  },
  {
   "cell_type": "markdown",
   "id": "6586df10",
   "metadata": {},
   "source": [
    "Во всех строках одно значение, столбец priceCurrency можно удалить."
   ]
  },
  {
   "cell_type": "code",
   "execution_count": 92,
   "id": "0dc32ea3",
   "metadata": {
    "ExecuteTime": {
     "end_time": "2022-04-06T18:15:03.482821Z",
     "start_time": "2022-04-06T18:15:03.467818Z"
    }
   },
   "outputs": [
    {
     "data": {
      "text/plain": [
       "31096    https://avatars.mds.yandex.net/get-autoru-vos/...\n",
       "20699    https://avatars.mds.yandex.net/get-autoru-vos/...\n",
       "10953    https://autoru.naydex.net/ys1kR7800/fbd964zfcB...\n",
       "32096    https://autoru.naydex.net/1xsMU7627/eea2057RFg...\n",
       "26477    https://autoru.naydex.net/o9DBXQ270/5ac010hAY0...\n",
       "Name: image, dtype: object"
      ]
     },
     "execution_count": 92,
     "metadata": {},
     "output_type": "execute_result"
    }
   ],
   "source": [
    "#image\n",
    "test_mod.image.sample(5)"
   ]
  },
  {
   "cell_type": "markdown",
   "id": "e2695b62",
   "metadata": {},
   "source": [
    "Ссылки на недоступные фото товаров, не работают, столбец IMAGE можно удалить."
   ]
  },
  {
   "cell_type": "code",
   "execution_count": 93,
   "id": "5b8151f5",
   "metadata": {
    "ExecuteTime": {
     "end_time": "2022-04-06T18:15:03.498824Z",
     "start_time": "2022-04-06T18:15:03.483822Z"
    }
   },
   "outputs": [
    {
     "data": {
      "text/plain": [
       "19199    https://auto.ru/cars/used/sale/toyota/verso/11...\n",
       "9874     https://auto.ru/cars/used/sale/bmw/5er/1101247...\n",
       "7        https://auto.ru/cars/used/sale/skoda/octavia/1...\n",
       "18811    https://auto.ru/cars/used/sale/mercedes/s_klas...\n",
       "5684     https://auto.ru/cars/used/sale/honda/accord/10...\n",
       "Name: car_url, dtype: object"
      ]
     },
     "execution_count": 93,
     "metadata": {},
     "output_type": "execute_result"
    }
   ],
   "source": [
    "#car_url\n",
    "test_mod.car_url.sample(5)"
   ]
  },
  {
   "cell_type": "markdown",
   "id": "71b283d6",
   "metadata": {},
   "source": [
    "Ссылки на недоступные объявления, не работают, столбец CAR_URL можно удалить."
   ]
  },
  {
   "cell_type": "markdown",
   "id": "11f7c4b6",
   "metadata": {},
   "source": [
    "### Столбцы ТОЛЬКО TRAIN"
   ]
  },
  {
   "cell_type": "code",
   "execution_count": 94,
   "id": "2039a117",
   "metadata": {
    "ExecuteTime": {
     "end_time": "2022-04-06T18:15:03.546835Z",
     "start_time": "2022-04-06T18:15:03.499825Z"
    }
   },
   "outputs": [
    {
     "name": "stdout",
     "output_type": "stream",
     "text": [
      "<class 'pandas.core.frame.DataFrame'>\n",
      "Int64Index: 47661 entries, 0 to 88660\n",
      "Data columns (total 5 columns):\n",
      " #   Column        Non-Null Count  Dtype  \n",
      "---  ------        --------------  -----  \n",
      " 0   price         47453 non-null  float64\n",
      " 1   model         47661 non-null  object \n",
      " 2   Комплектация  47661 non-null  object \n",
      " 3   hidden        0 non-null      float64\n",
      " 4   start_date    47661 non-null  object \n",
      "dtypes: float64(2), object(3)\n",
      "memory usage: 2.2+ MB\n"
     ]
    },
    {
     "name": "stderr",
     "output_type": "stream",
     "text": [
      "C:\\Users\\zetet\\AppData\\Local\\Temp\\ipykernel_15740\\2215295339.py:1: FutureWarning: Passing a set as an indexer is deprecated and will raise in a future version. Use a list instead.\n",
      "  train_mod[train_only_columns].info()\n"
     ]
    }
   ],
   "source": [
    "train_mod[train_only_columns].info()"
   ]
  },
  {
   "cell_type": "markdown",
   "id": "26c116f7",
   "metadata": {},
   "source": [
    "#hidden\n",
    "Столбец со всеми нулевыми значениями, можно удалить."
   ]
  },
  {
   "cell_type": "code",
   "execution_count": 95,
   "id": "8633eec0",
   "metadata": {
    "ExecuteTime": {
     "end_time": "2022-04-06T18:15:03.562838Z",
     "start_time": "2022-04-06T18:15:03.547837Z"
    }
   },
   "outputs": [
    {
     "data": {
      "text/plain": [
       "11094                    X6\n",
       "38552                    GS\n",
       "73645                  POLO\n",
       "67558    LAND_CRUISER_PRADO\n",
       "48351               PRIMERA\n",
       "Name: model, dtype: object"
      ]
     },
     "execution_count": 95,
     "metadata": {},
     "output_type": "execute_result"
    }
   ],
   "source": [
    "#model\n",
    "train_mod.model.sample(5)"
   ]
  },
  {
   "cell_type": "markdown",
   "id": "c292131a",
   "metadata": {},
   "source": [
    "Столбец MODEL из TRAIN соответствует столбцу MODEL_NAME из TEST, необходимо дать единое название."
   ]
  },
  {
   "cell_type": "code",
   "execution_count": 96,
   "id": "3028dfa4",
   "metadata": {
    "ExecuteTime": {
     "end_time": "2022-04-06T18:15:03.578842Z",
     "start_time": "2022-04-06T18:15:03.563840Z"
    }
   },
   "outputs": [],
   "source": [
    "train_mod = train_mod.rename(columns = {'model': 'model_name'})"
   ]
  },
  {
   "cell_type": "code",
   "execution_count": 97,
   "id": "7e008918",
   "metadata": {
    "ExecuteTime": {
     "end_time": "2022-04-06T18:15:03.594846Z",
     "start_time": "2022-04-06T18:15:03.579844Z"
    }
   },
   "outputs": [
    {
     "name": "stdout",
     "output_type": "stream",
     "text": [
      "TEST\n"
     ]
    },
    {
     "data": {
      "text/plain": [
       "4422           A3\n",
       "17690    E_KLASSE\n",
       "16572    E_KLASSE\n",
       "30972        POLO\n",
       "24338      TIGUAN\n",
       "Name: model_name, dtype: object"
      ]
     },
     "metadata": {},
     "output_type": "display_data"
    },
    {
     "name": "stdout",
     "output_type": "stream",
     "text": [
      "TRAIN\n"
     ]
    },
    {
     "data": {
      "text/plain": [
       "4233        1ER\n",
       "73091      POLO\n",
       "72028    PASSAT\n",
       "9328         X3\n",
       "1320         A5\n",
       "Name: model_name, dtype: object"
      ]
     },
     "metadata": {},
     "output_type": "display_data"
    }
   ],
   "source": [
    "#Сравним формат и содержание в TRAIN и TEST\n",
    "#model_name\n",
    "column = 'model_name'\n",
    "type_comparison(column)"
   ]
  },
  {
   "cell_type": "code",
   "execution_count": 98,
   "id": "b7eb9a3f",
   "metadata": {
    "ExecuteTime": {
     "end_time": "2022-04-06T18:15:03.610849Z",
     "start_time": "2022-04-06T18:15:03.595846Z"
    }
   },
   "outputs": [
    {
     "data": {
      "text/plain": [
       "2589     {'id': '0'}\n",
       "67405    {'id': '0'}\n",
       "73142    {'id': '0'}\n",
       "84279    {'id': '0'}\n",
       "82580    {'id': '0'}\n",
       "Name: Комплектация, dtype: object"
      ]
     },
     "execution_count": 98,
     "metadata": {},
     "output_type": "execute_result"
    }
   ],
   "source": [
    "#Комплектация\n",
    "train_mod.Комплектация.sample(5)"
   ]
  },
  {
   "cell_type": "code",
   "execution_count": 99,
   "id": "1d506fc1",
   "metadata": {
    "ExecuteTime": {
     "end_time": "2022-04-06T18:15:03.626853Z",
     "start_time": "2022-04-06T18:15:03.611850Z"
    }
   },
   "outputs": [
    {
     "data": {
      "text/plain": [
       "\"{'id': '21678548', 'name': 'Комфорт', 'available_options': ['cruise-control', 'multi-wheel', 'heated-wash-system', 'airbag-passenger', 'roof-rails', 'bas', 'lock', 'electro-mirrors', 'mirrors-heat', 'glonass', 'automatic-lighting-control', 'computer', 'seat-transformation', 'wheel-power', 'light-cleaner', 'fabric-seats', 'airbag-side', 'electro-trunk', 'abs', 'wheel-leather', 'climate-control-2', 'auto-mirrors', 'asr', 'tinted-glass', 'esp', 'usb', 'audiopreparation', 'front-centre-armrest', 'rear-camera', 'electro-window-back', '18-inch-wheels', 'reduce-spare-wheel', 'body-mouldings', 'driver-seat-updown', 'wheel-heat', 'led-lights', 'park-assist-r', 'knee-airbag', 'airbag-driver', 'isofix', 'aux', 'drive-mode-sys', 'electro-window-front', 'light-sensor', 'hcc', 'airbag-curtain', 'keyless-entry', 'alarm', 'leather-gear-stick', 'start-button', 'ptf', 'rain-sensor', 'tyre-pressure', 'front-seats-heat', 'bluetooth', 'wheel-configuration2', 'wheel-configuration1', 'immo', 'windscreen-heat', '12v-socket', 'third-rear-headrest'], 'vendor_colors': [{'body_color_id': 21678630, 'mark_color_id': 21391185, 'name_ru': 'Белый', 'hex_codes': ['FAFAFA'], 'color_type': 'NOT_METALLIC', 'stock_color': {'hex_code': 'FAFBFB', 'name_ru': 'белый'}, 'photos': [{'name': '34-front', 'sizes': {'orig': '//avatars.mds.yandex.net/get-verba/1540742/2a0000016d8bdffaf53d7b1dfeced506b919/orig', 'wizardv3mr': '//avatars.mds.yandex.net/get-verba/1540742/2a0000016d8bdffaf53d7b1dfeced506b919/wizardv3mr', 'wizardv3': '//avatars.mds.yandex.net/get-verba/1540742/2a0000016d8bdffaf53d7b1dfeced506b919/wizardv3', 'cattouch': '//avatars.mds.yandex.net/get-verba/1540742/2a0000016d8bdffaf53d7b1dfeced506b919/cattouch', 'small': '//avatars.mds.yandex.net/get-verba/1540742/2a0000016d8bdffaf53d7b1dfeced506b919/small', '320x240': '//avatars.mds.yandex.net/get-verba/1540742/2a0000016d8bdffaf53d7b1dfeced506b919/320x240', '1200x900': '//avatars.mds.yandex.net/get-verba/1540742/2a0000016d8bdffaf53d7b1dfeced506b919/1200x900', '1200x900n': '//avatars.mds.yandex.net/get-verba/1540742/2a0000016d8bdffaf53d7b1dfeced506b919/1200x900n', 'thumb_m': '//avatars.mds.yandex.net/get-verba/1540742/2a0000016d8bdffaf53d7b1dfeced506b919/thumb_m', 'full': '//avatars.mds.yandex.net/get-verba/1540742/2a0000016d8bdffaf53d7b1dfeced506b919/full', '832x624': '//avatars.mds.yandex.net/get-verba/1540742/2a0000016d8bdffaf53d7b1dfeced506b919/832x624', '456x342': '//avatars.mds.yandex.net/get-verba/1540742/2a0000016d8bdffaf53d7b1dfeced506b919/456x342', '120x90': '//avatars.mds.yandex.net/get-verba/1540742/2a0000016d8bdffaf53d7b1dfeced506b919/120x90', '92x69': '//avatars.mds.yandex.net/get-verba/1540742/2a0000016d8bdffaf53d7b1dfeced506b919/92x69', 'islandoff': '//avatars.mds.yandex.net/get-verba/1540742/2a0000016d8bdffaf53d7b1dfeced506b919/islandoff', 'thumb_s': '//avatars.mds.yandex.net/get-verba/1540742/2a0000016d8bdffaf53d7b1dfeced506b919/thumb_s', 'thumb_s_2x': '//avatars.mds.yandex.net/get-verba/1540742/2a0000016d8bdffaf53d7b1dfeced506b919/thumb_s_2x'}}, {'name': '34-back', 'sizes': {'orig': '//avatars.mds.yandex.net/get-verba/1540742/2a0000016d8be007db8b6e3556c7d7665608/orig', 'wizardv3mr': '//avatars.mds.yandex.net/get-verba/1540742/2a0000016d8be007db8b6e3556c7d7665608/wizardv3mr', 'wizardv3': '//avatars.mds.yandex.net/get-verba/1540742/2a0000016d8be007db8b6e3556c7d7665608/wizardv3', 'cattouch': '//avatars.mds.yandex.net/get-verba/1540742/2a0000016d8be007db8b6e3556c7d7665608/cattouch', 'small': '//avatars.mds.yandex.net/get-verba/1540742/2a0000016d8be007db8b6e3556c7d7665608/small', '320x240': '//avatars.mds.yandex.net/get-verba/1540742/2a0000016d8be007db8b6e3556c7d7665608/320x240', '1200x900': '//avatars.mds.yandex.net/get-verba/1540742/2a0000016d8be007db8b6e3556c7d7665608/1200x900', '1200x900n': '//avatars.mds.yandex.net/get-verba/1540742/2a0000016d8be007db8b6e3556c7d7665608/1200x900n', 'thumb_m': '//avatars.mds.yandex.net/get-verba/1540742/2a0000016d8be007db8b6e3556c7d7665608/thumb_m', 'full': '//avatars.mds.yandex.net/get-verba/1540742/2a0000016d8be007db8b6e3556c7d7665608/full', '832x624': '//avatars.mds.yandex.net/get-verba/1540742/2a0000016d8be007db8b6e3556c7d7665608/832x624', '456x342': '//avatars.mds.yandex.net/get-verba/1540742/2a0000016d8be007db8b6e3556c7d7665608/456x342', '120x90': '//avatars.mds.yandex.net/get-verba/1540742/2a0000016d8be007db8b6e3556c7d7665608/120x90', '92x69': '//avatars.mds.yandex.net/get-verba/1540742/2a0000016d8be007db8b6e3556c7d7665608/92x69', 'islandoff': '//avatars.mds.yandex.net/get-verba/1540742/2a0000016d8be007db8b6e3556c7d7665608/islandoff', 'thumb_s': '//avatars.mds.yandex.net/get-verba/1540742/2a0000016d8be007db8b6e3556c7d7665608/thumb_s', 'thumb_s_2x': '//avatars.mds.yandex.net/get-verba/1540742/2a0000016d8be007db8b6e3556c7d7665608/thumb_s_2x'}}, {'name': 'side', 'sizes': {'orig': '//avatars.mds.yandex.net/get-verba/1030388/2a0000016d8be01a869b95822db0065d05cf/orig', 'wizardv3mr': '//avatars.mds.yandex.net/get-verba/1030388/2a0000016d8be01a869b95822db0065d05cf/wizardv3mr', 'wizardv3': '//avatars.mds.yandex.net/get-verba/1030388/2a0000016d8be01a869b95822db0065d05cf/wizardv3', 'cattouch': '//avatars.mds.yandex.net/get-verba/1030388/2a0000016d8be01a869b95822db0065d05cf/cattouch', 'small': '//avatars.mds.yandex.net/get-verba/1030388/2a0000016d8be01a869b95822db0065d05cf/small', '320x240': '//avatars.mds.yandex.net/get-verba/1030388/2a0000016d8be01a869b95822db0065d05cf/320x240', '1200x900': '//avatars.mds.yandex.net/get-verba/1030388/2a0000016d8be01a869b95822db0065d05cf/1200x900', '1200x900n': '//avatars.mds.yandex.net/get-verba/1030388/2a0000016d8be01a869b95822db0065d05cf/1200x900n', 'thumb_m': '//avatars.mds.yandex.net/get-verba/1030388/2a0000016d8be01a869b95822db0065d05cf/thumb_m', 'full': '//avatars.mds.yandex.net/get-verba/1030388/2a0000016d8be01a869b95822db0065d05cf/full', '832x624': '//avatars.mds.yandex.net/get-verba/1030388/2a0000016d8be01a869b95822db0065d05cf/832x624', '456x342': '//avatars.mds.yandex.net/get-verba/1030388/2a0000016d8be01a869b95822db0065d05cf/456x342', '120x90': '//avatars.mds.yandex.net/get-verba/1030388/2a0000016d8be01a869b95822db0065d05cf/120x90', '92x69': '//avatars.mds.yandex.net/get-verba/1030388/2a0000016d8be01a869b95822db0065d05cf/92x69', 'islandoff': '//avatars.mds.yandex.net/get-verba/1030388/2a0000016d8be01a869b95822db0065d05cf/islandoff', 'thumb_s': '//avatars.mds.yandex.net/get-verba/1030388/2a0000016d8be01a869b95822db0065d05cf/thumb_s', 'thumb_s_2x': '//avatars.mds.yandex.net/get-verba/1030388/2a0000016d8be01a869b95822db0065d05cf/thumb_s_2x'}}, {'name': 'front', 'sizes': {'orig': '//avatars.mds.yandex.net/get-verba/787013/2a0000016d8be026808abfeae8aa0bc5b746/orig', 'wizardv3mr': '//avatars.mds.yandex.net/get-verba/787013/2a0000016d8be026808abfeae8aa0bc5b746/wizardv3mr', 'wizardv3': '//avatars.mds.yandex.net/get-verba/787013/2a0000016d8be026808abfeae8aa0bc5b746/wizardv3', 'cattouch': '//avatars.mds.yandex.net/get-verba/787013/2a0000016d8be026808abfeae8aa0bc5b746/cattouch', 'small': '//avatars.mds.yandex.net/get-verba/787013/2a0000016d8be026808abfeae8aa0bc5b746/small', '320x240': '//avatars.mds.yandex.net/get-verba/787013/2a0000016d8be026808abfeae8aa0bc5b746/320x240', '1200x900': '//avatars.mds.yandex.net/get-verba/787013/2a0000016d8be026808abfeae8aa0bc5b746/1200x900', '1200x900n': '//avatars.mds.yandex.net/get-verba/787013/2a0000016d8be026808abfeae8aa0bc5b746/1200x900n', 'thumb_m': '//avatars.mds.yandex.net/get-verba/787013/2a0000016d8be026808abfeae8aa0bc5b746/thumb_m', 'full': '//avatars.mds.yandex.net/get-verba/787013/2a0000016d8be026808abfeae8aa0bc5b746/full', '832x624': '//avatars.mds.yandex.net/get-verba/787013/2a0000016d8be026808abfeae8aa0bc5b746/832x624', '456x342': '//avatars.mds.yandex.net/get-verba/787013/2a0000016d8be026808abfeae8aa0bc5b746/456x342', '120x90': '//avatars.mds.yandex.net/get-verba/787013/2a0000016d8be026808abfeae8aa0bc5b746/120x90', '92x69': '//avatars.mds.yandex.net/get-verba/787013/2a0000016d8be026808abfeae8aa0bc5b746/92x69', 'islandoff': '//avatars.mds.yandex.net/get-verba/787013/2a0000016d8be026808abfeae8aa0bc5b746/islandoff', 'thumb_s': '//avatars.mds.yandex.net/get-verba/787013/2a0000016d8be026808abfeae8aa0bc5b746/thumb_s', 'thumb_s_2x': '//avatars.mds.yandex.net/get-verba/787013/2a0000016d8be026808abfeae8aa0bc5b746/thumb_s_2x'}}, {'name': 'back', 'sizes': {'orig': '//avatars.mds.yandex.net/get-verba/1030388/2a0000016d8be03745ab3ccb2b30d2939c9f/orig', 'wizardv3mr': '//avatars.mds.yandex.net/get-verba/1030388/2a0000016d8be03745ab3ccb2b30d2939c9f/wizardv3mr', 'wizardv3': '//avatars.mds.yandex.net/get-verba/1030388/2a0000016d8be03745ab3ccb2b30d2939c9f/wizardv3', 'cattouch': '//avatars.mds.yandex.net/get-verba/1030388/2a0000016d8be03745ab3ccb2b30d2939c9f/cattouch', 'small': '//avatars.mds.yandex.net/get-verba/1030388/2a0000016d8be03745ab3ccb2b30d2939c9f/small', '320x240': '//avatars.mds.yandex.net/get-verba/1030388/2a0000016d8be03745ab3ccb2b30d2939c9f/320x240', '1200x900': '//avatars.mds.yandex.net/get-verba/1030388/2a0000016d8be03745ab3ccb2b30d2939c9f/1200x900', '1200x900n': '//avatars.mds.yandex.net/get-verba/1030388/2a0000016d8be03745ab3ccb2b30d2939c9f/1200x900n', 'thumb_m': '//avatars.mds.yandex.net/get-verba/1030388/2a0000016d8be03745ab3ccb2b30d2939c9f/thumb_m', 'full': '//avatars.mds.yandex.net/get-verba/1030388/2a0000016d8be03745ab3ccb2b30d2939c9f/full', '832x624': '//avatars.mds.yandex.net/get-verba/1030388/2a0000016d8be03745ab3ccb2b30d2939c9f/832x624', '456x342': '//avatars.mds.yandex.net/get-verba/1030388/2a0000016d8be03745ab3ccb2b30d2939c9f/456x342', '120x90': '//avatars.mds.yandex.net/get-verba/1030388/2a0000016d8be03745ab3ccb2b30d2939c9f/120x90', '92x69': '//avatars.mds.yandex.net/get-verba/1030388/2a0000016d8be03745ab3ccb2b30d2939c9f/92x69', 'islandoff': '//avatars.mds.yandex.net/get-verba/1030388/2a0000016d8be03745ab3ccb2b30d2939c9f/islandoff', 'thumb_s': '//avatars.mds.yandex.net/get-verba/1030388/2a0000016d8be03745ab3ccb2b30d2939c9f/thumb_s', 'thumb_s_2x': '//avatars.mds.yandex.net/get-verba/1030388/2a0000016d8be03745ab3ccb2b30d2939c9f/thumb_s_2x'}}], 'main_color': True}]}\""
      ]
     },
     "execution_count": 99,
     "metadata": {},
     "output_type": "execute_result"
    }
   ],
   "source": [
    "train_mod.Комплектация[68967]"
   ]
  },
  {
   "cell_type": "code",
   "execution_count": 100,
   "id": "d872eb13",
   "metadata": {
    "ExecuteTime": {
     "end_time": "2022-04-06T18:15:03.642857Z",
     "start_time": "2022-04-06T18:15:03.627854Z"
    }
   },
   "outputs": [
    {
     "data": {
      "text/plain": [
       "\"{'id': '0'}\""
      ]
     },
     "execution_count": 100,
     "metadata": {},
     "output_type": "execute_result"
    }
   ],
   "source": [
    "train_mod.Комплектация[24653]"
   ]
  },
  {
   "cell_type": "markdown",
   "id": "55cbc4ad",
   "metadata": {},
   "source": [
    "По содержанию данные частично совпадают с COMPLECTATION_DICT из TEST, все строки непустые, но при значении {'id': '0'} содержания фактически нет.\n"
   ]
  },
  {
   "cell_type": "code",
   "execution_count": 101,
   "id": "45f1ca9f",
   "metadata": {
    "ExecuteTime": {
     "end_time": "2022-04-06T18:15:03.674866Z",
     "start_time": "2022-04-06T18:15:03.643857Z"
    }
   },
   "outputs": [
    {
     "name": "stdout",
     "output_type": "stream",
     "text": [
      "63 %\n"
     ]
    }
   ],
   "source": [
    "#Процент пропусков в Комплектации\n",
    "missing = len(train_mod[train_mod['Комплектация'] == \"{'id': '0'}\"]['Комплектация'])\n",
    "total_missing = (missing/len(train_mod)*100)\n",
    "print(round(total_missing),'%')"
   ]
  },
  {
   "cell_type": "markdown",
   "id": "856d47de",
   "metadata": {},
   "source": [
    "В TRAIN в КОМПЛЕКТАЦИИ отсутствует более 60% данных. По этой причине столбец КОМПЛЕКТАЦИЯ можно удалить."
   ]
  },
  {
   "cell_type": "code",
   "execution_count": 102,
   "id": "ec9645f7",
   "metadata": {
    "ExecuteTime": {
     "end_time": "2022-04-06T18:15:03.690869Z",
     "start_time": "2022-04-06T18:15:03.675868Z"
    }
   },
   "outputs": [
    {
     "data": {
      "text/plain": [
       "1630     2020-08-24T16:41:56Z\n",
       "74846    2020-07-28T09:38:14Z\n",
       "76030    2019-10-21T16:15:30Z\n",
       "31573    2019-12-05T19:59:45Z\n",
       "69589    2020-02-01T07:05:14Z\n",
       "Name: start_date, dtype: object"
      ]
     },
     "execution_count": 102,
     "metadata": {},
     "output_type": "execute_result"
    }
   ],
   "source": [
    "#start_date\n",
    "train_mod.start_date.sample(5)"
   ]
  },
  {
   "cell_type": "code",
   "execution_count": 103,
   "id": "9f46b827",
   "metadata": {
    "ExecuteTime": {
     "end_time": "2022-04-06T18:15:04.594781Z",
     "start_time": "2022-04-06T18:15:03.691870Z"
    }
   },
   "outputs": [
    {
     "name": "stdout",
     "output_type": "stream",
     "text": [
      "Stored 'train_mod' (DataFrame)\n",
      "Stored 'test_mod' (DataFrame)\n"
     ]
    }
   ],
   "source": [
    "# Делюсь датой с другими ноутбуками\n",
    "%store train_mod \n",
    "%store test_mod\n",
    "\n",
    "# `%store -r train_mod` создаст переменную тренеровочного датасета в любом ноутбуке"
   ]
  },
  {
   "cell_type": "markdown",
   "id": "04331bd8",
   "metadata": {},
   "source": [
    "# Модели\n",
    "\n",
    "\n",
    "Были опробованны модели:\n",
    "- [Logistic regression](./secondary_notebooks/linear_regression.ipynb) \n",
    "- Desicion tree\n",
    "- DBSCAN\n",
    "- ..."
   ]
  },
  {
   "cell_type": "code",
   "execution_count": 104,
   "id": "97648bd9",
   "metadata": {
    "ExecuteTime": {
     "end_time": "2022-04-06T18:15:04.625844Z",
     "start_time": "2022-04-06T18:15:04.596781Z"
    }
   },
   "outputs": [
    {
     "data": {
      "application/vnd.jupyter.widget-view+json": {
       "model_id": "d2890bc550b9446481186e8b3591dcef",
       "version_major": 2,
       "version_minor": 0
      },
      "text/plain": [
       "Button(button_style='success', description='Я линейная!', style=ButtonStyle())"
      ]
     },
     "metadata": {},
     "output_type": "display_data"
    }
   ],
   "source": [
    "'''Если нажать - через три минуты покажется результат \"лучшей модели\"   '''\n",
    "\n",
    "from IPython.display import display\n",
    "from ipywidgets import Button \n",
    "\n",
    "# Создаем кнопку с нужными параметрами\n",
    "button1 = Button(description=\"Я линейная!\", \n",
    "                        button_style='success'  )\n",
    "\n",
    "def on_button_clicked(b): # Описываем обработчик события\n",
    "    %run ./secondary_notebooks/linear_regression.ipynb\n",
    "button1.on_click(on_button_clicked) # Назначаем этот обработчик на событие \"on_click\"\n",
    "\n",
    "display(button1) # Отображаем кнопку "
   ]
  },
  {
   "cell_type": "code",
   "execution_count": null,
   "id": "624b8688",
   "metadata": {},
   "outputs": [],
   "source": []
  }
 ],
 "metadata": {
  "kernelspec": {
   "display_name": "Python 3 (ipykernel)",
   "language": "python",
   "name": "python3"
  },
  "language_info": {
   "codemirror_mode": {
    "name": "ipython",
    "version": 3
   },
   "file_extension": ".py",
   "mimetype": "text/x-python",
   "name": "python",
   "nbconvert_exporter": "python",
   "pygments_lexer": "ipython3",
   "version": "3.10.4"
  },
  "latex_envs": {
   "LaTeX_envs_menu_present": true,
   "autoclose": false,
   "autocomplete": true,
   "bibliofile": "biblio.bib",
   "cite_by": "apalike",
   "current_citInitial": 1,
   "eqLabelWithNumbers": true,
   "eqNumInitial": 1,
   "hotkeys": {
    "equation": "Ctrl-E",
    "itemize": "Ctrl-I"
   },
   "labels_anchors": false,
   "latex_user_defs": false,
   "report_style_numbering": false,
   "user_envs_cfg": false
  },
  "toc": {
   "base_numbering": 1,
   "nav_menu": {},
   "number_sections": true,
   "sideBar": true,
   "skip_h1_title": false,
   "title_cell": "Table of Contents",
   "title_sidebar": "Contents",
   "toc_cell": false,
   "toc_position": {},
   "toc_section_display": true,
   "toc_window_display": false
  },
  "varInspector": {
   "cols": {
    "lenName": 16,
    "lenType": 16,
    "lenVar": 40
   },
   "kernels_config": {
    "python": {
     "delete_cmd_postfix": "",
     "delete_cmd_prefix": "del ",
     "library": "var_list.py",
     "varRefreshCmd": "print(var_dic_list())"
    },
    "r": {
     "delete_cmd_postfix": ") ",
     "delete_cmd_prefix": "rm(",
     "library": "var_list.r",
     "varRefreshCmd": "cat(var_dic_list()) "
    }
   },
   "types_to_exclude": [
    "module",
    "function",
    "builtin_function_or_method",
    "instance",
    "_Feature"
   ],
   "window_display": false
  }
 },
 "nbformat": 4,
 "nbformat_minor": 5
}
