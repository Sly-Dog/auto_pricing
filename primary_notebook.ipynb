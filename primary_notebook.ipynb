{
 "cells": [
  {
   "cell_type": "markdown",
   "id": "f673d238",
   "metadata": {},
   "source": [
    "# Вступление\n",
    "\n",
    "Перед нами стоит задача: построить модель, которая будет предсказывать цену подержанного авто. В рамках проекта необходимо было спарсить датасет с свежими данными, но, в связи с известными событиями 2022 года, такие данные не будут являться актуальными для предсказания стоимости автомобилей в 2020 году. Поэтому, мы оставили приложенный датасет и постарались выжать из него все, что возможно, добавляя данные, актуальные на 2020 год.⠀⠀⠀⠀⠀⠀⠀⠀\n",
    "\n",
    "\n",
    "## Легенда\n",
    "\n",
    "Вы работаете в компании, которая занимается продажей автомобилей с пробегом в Москве. \n",
    "\n",
    "Основная задача компании и её менеджеров — максимально быстро находить выгодные предложения (проще говоря, купить ниже рынка, а продать дороже рынка). \n",
    "\n",
    "Руководство компании просит вашу команду создать модель, которая будет предсказывать стоимость автомобиля по его характеристикам.\n",
    "\n",
    "Если такая модель будет работать хорошо, то вы сможете быстро выявлять выгодные предложения (когда желаемая цена продавца ниже предсказанной рыночной цены). Это значительно ускорит работу менеджеров и повысит прибыль компании.\n",
    "\n",
    "## Цели проекта\n",
    "- Командная работа\n",
    "- Провести качетсвенную EDA\n",
    "- Построить ансамбль моделей, использовать стэкинг\n",
    "- Доступно оформить проект\n",
    "- Провести анализ авторынка, достаточный для формирования гипотез.\n",
    "- Добиться высокой метрики MAPE\n",
    "\n",
    "\n",
    "\n",
    "$$\\Large MAPE= 100\\% * \\frac{1}{n}\\sum_{t=1}^{n}\\frac{\\left | Y_t-\\hat{Y_t} \\right |}{Y_t}$$"
   ]
  },
  {
   "cell_type": "markdown",
   "id": "a57e97ee",
   "metadata": {},
   "source": [
    "# Initialization\n",
    "\n",
    "Была работа в виртуальной среде. Для корректного запуска кода её нужно загрузить. Внизу закоментированный код для Windows и Linux."
   ]
  },
  {
   "cell_type": "code",
   "execution_count": 1,
   "id": "24114fe0",
   "metadata": {
    "ExecuteTime": {
     "end_time": "2022-04-15T21:40:14.796820Z",
     "start_time": "2022-04-15T21:40:14.782830Z"
    }
   },
   "outputs": [],
   "source": [
    "# Устанавливается необходимая версия пакетов для воспроизводимости экспериментов\n",
    "# А также для установки всех недостающих зависимостей\n",
    "\n",
    "#'''Windows'''\n",
    "#!python -m venv venv\n",
    "#!.\\venv\\Scripts\\activate\n",
    "#!pip install -r requirements.txt\n",
    "\n",
    "#'''Linux''';\n",
    "#!python -m venv venv  \n",
    "#!source ./venv/bin/activate  \n",
    "#!pip install -r requirements.txt"
   ]
  },
  {
   "cell_type": "code",
   "execution_count": 2,
   "id": "e8091165",
   "metadata": {
    "ExecuteTime": {
     "end_time": "2022-04-15T21:40:22.295153Z",
     "start_time": "2022-04-15T21:40:14.797822Z"
    }
   },
   "outputs": [],
   "source": [
    "'''                              ИМПОРТ                                     '''\n",
    "###############################################################################\n",
    "import numpy as np # linear algebra\n",
    "import pandas as pd # data processing, CSV file I/O (e.g. pd.read_csv)\n",
    "\n",
    "import sys\n",
    "import re\n",
    "import matplotlib.pyplot as plt\n",
    "from tqdm.notebook import tqdm\n",
    "\n",
    "from datetime import datetime as dt # работа со временем\n",
    "import json                     # преобразования строк со словарями в словари\n",
    "import seaborn as sns\n",
    "\n",
    "from pathlib import Path # кросплатформенная работа с путями к файлам\n",
    "\n",
    "\n",
    "'''                              ДАННЫЕ                                     '''\n",
    "###############################################################################\n",
    "\n",
    "train = pd.read_pickle( Path(\"data\", \"all_auto_ru_09_09_2020.pickle_bz2\"),\n",
    "                compression='bz2')\n",
    "test = pd.read_pickle( Path(\"data\", \"test.pickle_bz2\"),\n",
    "                compression='bz2')\n"
   ]
  },
  {
   "cell_type": "code",
   "execution_count": 3,
   "id": "ed5a3dab",
   "metadata": {
    "ExecuteTime": {
     "end_time": "2022-04-15T21:40:22.311157Z",
     "start_time": "2022-04-15T21:40:22.296154Z"
    }
   },
   "outputs": [
    {
     "name": "stdout",
     "output_type": "stream",
     "text": [
      "Python       : 3.10.4 (tags/v3.10.4:9d38120, Mar 23 2022, 23:13:41) [MSC v.1929 64 bit (AMD64)]\n",
      "Numpy        : 1.22.2\n"
     ]
    }
   ],
   "source": [
    "print('Python       :', sys.version.split('\\n')[0])\n",
    "print('Numpy        :', np.__version__)"
   ]
  },
  {
   "cell_type": "code",
   "execution_count": 1,
   "id": "12877744",
   "metadata": {
    "ExecuteTime": {
     "end_time": "2022-04-16T07:38:57.645727Z",
     "start_time": "2022-04-16T07:38:55.550925Z"
    }
   },
   "outputs": [],
   "source": [
    "# зафиксируем версию пакетов, чтобы эксперименты были воспроизводимы:\n",
    "# !pip freeze > requirements.txt"
   ]
  },
  {
   "cell_type": "markdown",
   "id": "07d5b0cd",
   "metadata": {},
   "source": [
    "##  Functions"
   ]
  },
  {
   "cell_type": "code",
   "execution_count": 6,
   "id": "c99ece8c",
   "metadata": {
    "ExecuteTime": {
     "end_time": "2022-04-15T21:40:22.375171Z",
     "start_time": "2022-04-15T21:40:22.344164Z"
    }
   },
   "outputs": [],
   "source": [
    "'''                              EDA                                        '''\n",
    "###############################################################################\n",
    "'''Выводит barplot по количеству значений столбца'''\n",
    "def show_value_counts(val_co, reverse=False):\n",
    "    x = val_co.index\n",
    "    y = val_co.values\n",
    "    \n",
    "    if reverse == False:  return sns.barplot(x=y, y=x)\n",
    "    elif reverse == True: return sns.barplot(x=x, y=y)\n",
    "    \n",
    "#upgrade выводить лейбл\n",
    "\n",
    "'''Выводит соотношение пропусков к количеству данных'''\n",
    "def na_ratio(isna):\n",
    "    print('Заполненность данными:',len(isna[isna == False])/len(isna))\n",
    "    \n",
    "    \n",
    "    \n",
    "'''Запоминает столбцы на удаление, помогает находить разницу в столбцах'''\n",
    "class col_analytics():\n",
    "    def __init__(self):\n",
    "        self.test = list(set(test.columns) - set(train.columns))\n",
    "        self.train  = list(set(train.columns) - set(test.columns))\n",
    "        self.drop_dict = {'train':[], 'test':[]}\n",
    "    \n",
    "    def to_drop(self,column):\n",
    "        if column in test.columns: \n",
    "            if column not in self.drop_dict['test']:\n",
    "                self.drop_dict['test'].append(column)\n",
    "                \n",
    "        if column in train.columns: \n",
    "            if column not in self.drop_dict['train']:\n",
    "                self.drop_dict['train'].append(column)\n",
    "        \n",
    "    # показывает несовпавшие столбцы           \n",
    "    def delc(self, column, drop=None):\n",
    "        if drop == True:\n",
    "            self.to_drop(column)\n",
    "        \n",
    "        if column in self.test: \n",
    "            self.test.remove(column)\n",
    "        elif column in self.train: \n",
    "            self.train.remove(column)\n",
    "        else: print (f'Столбец {column} уже удалён!')\n",
    "            \n",
    "    def show(self):\n",
    "        display(self.test, self.train)\n",
    "        \n",
    "        \n",
    "'''                        Функции предобработки                            '''\n",
    "###############################################################################\n",
    "\n",
    "\n",
    "### Приведение занчений столбца bodyType к единому формату\n",
    "def get_bodyType(x):\n",
    "    row = str(x).lower()\n",
    "    bodyType = re.findall('[а-яё]+', row)\n",
    "    if bodyType == []:\n",
    "        return None\n",
    "    return str(bodyType[0])\n",
    "\n",
    "### Извлечения значения объёма двигателя из столбца 'name' для пропусков\n",
    "def pull_EngineDisplacement(x):\n",
    "    row = str(x)\n",
    "    engine = re.findall('\\d\\.\\d', row)\n",
    "    if len(engine) !=0:\n",
    "        return float(engine[0])\n",
    "    else:\n",
    "        return 0\n",
    "\n",
    "    \n",
    "'''                              Прочее                                     '''\n",
    "###############################################################################\n",
    "\n",
    "### Чудо-кнопка, которая сделает всю работу с данными ###\n",
    "\n",
    "def on_button_clicked(b): # Описываем обработчик нажатия на кнопку\n",
    "        %run ./secondary_notebooks/preprocessing_script.py\n",
    "\n",
    "def button_with_preprocesiing():\n",
    "    from IPython.display import display\n",
    "    from ipywidgets import Button \n",
    "    print('''Если нажать на кнопку, то совержится вся небобходимая предобработка от\n",
    "сырого датасета до данных, пригодных для специфичной модельной предобработки.\n",
    "\n",
    "Необходима в случае, если предыдущие ячейки были пропущенны.''')\n",
    "    # Создаем кнопку с нужными параметрами\n",
    "    button1 = Button(description=\"Предобработать!\", \n",
    "                            button_style='success'  )\n",
    "\n",
    "    # Назначаем этот обработчик на событие \"on_click\"\n",
    "    button1.on_click(on_button_clicked) \n",
    "\n",
    "    display(button1) # Отображаем кнопку "
   ]
  },
  {
   "cell_type": "markdown",
   "id": "7d5bf2db",
   "metadata": {},
   "source": [
    "## Можно пропустить EDA и Предобработку и перейти сразу к моделям\n",
    "{ [Телепорт к моделям](#Ансамбль) } по ту сторону нужно нажать нак кнопку"
   ]
  },
  {
   "cell_type": "markdown",
   "id": "7e7924c8",
   "metadata": {},
   "source": [
    "##  Data"
   ]
  },
  {
   "cell_type": "code",
   "execution_count": 7,
   "id": "f27a48ad",
   "metadata": {
    "ExecuteTime": {
     "end_time": "2022-04-15T21:40:32.449529Z",
     "start_time": "2022-04-15T21:40:22.376172Z"
    }
   },
   "outputs": [
    {
     "name": "stdout",
     "output_type": "stream",
     "text": [
      "Stored 'train' (DataFrame)\n",
      "Stored 'test' (DataFrame)\n"
     ]
    }
   ],
   "source": [
    "from pathlib import Path \n",
    "\n",
    "train = pd.read_pickle( Path(\"data\", \"all_auto_ru_09_09_2020.pickle_bz2\"),\n",
    "                compression='bz2')\n",
    "test = pd.read_pickle( Path(\"data\", \"test.pickle_bz2\"),\n",
    "                compression='bz2')\n",
    "\n",
    "#Нетронутая дата для отдельной работы\n",
    "%store train \n",
    "%store test "
   ]
  },
  {
   "cell_type": "markdown",
   "id": "96621601",
   "metadata": {},
   "source": [
    "# Разведочный анализ\n",
    "\n",
    "Есть датасет test, по которому нужно предсказать стоимость поддержанного автомобиля, при этом обучать модель для предсказаний на кагл на нём нельзя. Нужно использовать сторонний датасет. Мы взяли датасет из baseline, поскольку парсинг займет много времени, а в приоритетах проекта именно DS часть задачи предсказания цены на авто.\n",
    "\n",
    "Для начала стоит понять, по каким данным будут делаться предсказания, затем подобрать подходящие из тренировочного датасета."
   ]
  },
  {
   "cell_type": "code",
   "execution_count": 8,
   "id": "d3ca751c",
   "metadata": {
    "ExecuteTime": {
     "end_time": "2022-04-15T21:40:32.465532Z",
     "start_time": "2022-04-15T21:40:32.450529Z"
    }
   },
   "outputs": [],
   "source": [
    "columna = col_analytics() # класс для работы с колонками"
   ]
  },
  {
   "cell_type": "markdown",
   "id": "12ecc69e",
   "metadata": {},
   "source": [
    "## Test"
   ]
  },
  {
   "cell_type": "markdown",
   "id": "06da92d8",
   "metadata": {},
   "source": [
    "### Пропуски и дубли"
   ]
  },
  {
   "cell_type": "code",
   "execution_count": 9,
   "id": "1561e7b8",
   "metadata": {
    "ExecuteTime": {
     "end_time": "2022-04-15T21:40:32.720713Z",
     "start_time": "2022-04-15T21:40:32.466532Z"
    }
   },
   "outputs": [
    {
     "name": "stdout",
     "output_type": "stream",
     "text": [
      "Форма датасета до удаления дублей (34686, 32)\n",
      "Форма датасета после              (34686, 32)\n"
     ]
    }
   ],
   "source": [
    "print('Форма датасета до удаления дублей',test.shape)\n",
    "test = test.drop_duplicates()\n",
    "print('Форма датасета после             ',test.shape)\n"
   ]
  },
  {
   "cell_type": "markdown",
   "id": "b4007545",
   "metadata": {},
   "source": [
    "Дублей нет! Посмотрим на пропуски:"
   ]
  },
  {
   "cell_type": "code",
   "execution_count": 10,
   "id": "6c3f3a1c",
   "metadata": {
    "ExecuteTime": {
     "end_time": "2022-04-15T21:40:33.935243Z",
     "start_time": "2022-04-15T21:40:32.723714Z"
    }
   },
   "outputs": [
    {
     "data": {
      "image/png": "[encoded data removed]",
      "text/plain": [
       "<Figure size 720x360 with 1 Axes>"
      ]
     },
     "metadata": {
      "needs_background": "light"
     },
     "output_type": "display_data"
    }
   ],
   "source": [
    "import seaborn as sns\n",
    "\n",
    "fig, ax = plt.subplots(figsize=(10,5))\n",
    "sns_heatmap = sns.heatmap(\n",
    "    test.isnull(), yticklabels=False, cbar=False, cmap='viridis')"
   ]
  },
  {
   "cell_type": "markdown",
   "id": "237ee367",
   "metadata": {
    "ExecuteTime": {
     "end_time": "2022-04-07T08:18:53.436363Z",
     "start_time": "2022-04-07T08:18:53.420370Z"
    }
   },
   "source": [
    "Как видно, они очень плотно распределены всего по трём столбцам, что очень радует. Сразу видно, что столбец `complectation_dict` стоит удалить, поскольку в нем больше пропусков, чем данных. так же сразу стоит посмотреть на остальные столбцы с пропусками."
   ]
  },
  {
   "cell_type": "markdown",
   "id": "8f67a1b6",
   "metadata": {},
   "source": [
    "#### complectation_dict"
   ]
  },
  {
   "cell_type": "code",
   "execution_count": 11,
   "id": "204b0fbc",
   "metadata": {
    "ExecuteTime": {
     "end_time": "2022-04-15T21:40:33.951246Z",
     "start_time": "2022-04-15T21:40:33.936243Z"
    }
   },
   "outputs": [
    {
     "name": "stdout",
     "output_type": "stream",
     "text": [
      "Заполненность данными: 0.18503142478233292\n"
     ]
    },
    {
     "data": {
      "text/plain": [
       "'{\"id\":\"20026336\",\"name\":\"Ambition\",\"available_options\":[\"heated-wash-system\",\"airbag-passenger\",\"lock\",\"door-sill-panel\",\"electro-mirrors\",\"mirrors-heat\",\"cooling-box\",\"computer\",\"seat-transformation\",\"wheel-power\",\"fabric-seats\",\"airbag-side\",\"abs\",\"wheel-leather\",\"climate-control-1\",\"esp\",\"adaptive-light\",\"audiopreparation\",\"ashtray-and-cigarette-lighter\",\"front-centre-armrest\",\"electro-window-back\",\"16-inch-wheels\",\"body-mouldings\",\"condition\",\"airbag-driver\",\"isofix\",\"aux\",\"electro-window-front\",\"light-sensor\",\"hcc\",\"ptf\",\"rain-sensor\",\"tyre-pressure\",\"audiosystem-cd\",\"front-seats-heat\",\"wheel-configuration2\",\"wheel-configuration1\",\"immo\",\"12v-socket\",\"third-rear-headrest\"]}'"
      ]
     },
     "execution_count": 11,
     "metadata": {},
     "output_type": "execute_result"
    }
   ],
   "source": [
    "na_ratio(test.complectation_dict.isna())\n",
    "\n",
    "\n",
    "test.complectation_dict.dropna().iloc[0]"
   ]
  },
  {
   "cell_type": "markdown",
   "id": "fd782247",
   "metadata": {},
   "source": [
    "Видно, что это словарь. Данных в этом столбце меньше 20 процентов.\n",
    "\n",
    "Здесь указан id, что может быть полезно только при объединении таблицы, имя, чем бы оно ни было и перечисление возможных опций автомобиля. Это не имеет ценности. Столбец будет отфильтрован."
   ]
  },
  {
   "cell_type": "code",
   "execution_count": 12,
   "id": "08cbb346",
   "metadata": {
    "ExecuteTime": {
     "end_time": "2022-04-15T21:40:33.967250Z",
     "start_time": "2022-04-15T21:40:33.952247Z"
    }
   },
   "outputs": [],
   "source": [
    "columna.to_drop('complectation_dict')"
   ]
  },
  {
   "cell_type": "markdown",
   "id": "5da52d26",
   "metadata": {},
   "source": [
    "#### equipment_dict        "
   ]
  },
  {
   "cell_type": "code",
   "execution_count": 13,
   "id": "b7f5a45f",
   "metadata": {
    "ExecuteTime": {
     "end_time": "2022-04-15T21:40:33.998256Z",
     "start_time": "2022-04-15T21:40:33.968251Z"
    }
   },
   "outputs": [
    {
     "name": "stdout",
     "output_type": "stream",
     "text": [
      "Заполненность данными: 0.7118145649541602 \n",
      "\n",
      "Первый экземляр авто {\"engine-proof\":true,\"tinted-glass\":true,\"airbag-driver\":true,\"aux\":true,\"isofix\":true,\"electro-window-front\":true,\"ashtray-and-cigarette-lighter\":true,\"airbag-passenger\":true,\"computer\":true,\"high-beam-assist\":true,\"seat-transformation\":true,\"isofix-front\":true,\"wheel-power\":true,\"alarm\":true,\"lock\":true,\"door-sill-panel\":true,\"fabric-seats\":true,\"electro-mirrors\":true,\"airbag-rear-side\":true,\"electro-window-back\":true,\"steel-wheels\":true,\"ptf\":true,\"16-inch-wheels\":true,\"rain-sensor\":true,\"airbag-side\":true,\"audiosystem-cd\":true,\"dark-interior\":true,\"cooling-box\":true,\"condition\":true,\"abs\":true,\"power-child-locks-rear-doors\":true,\"front-seats-heat\":true,\"wheel-configuration2\":true,\"wheel-configuration1\":true,\"12v-socket\":true,\"park-assist-r\":true} \n",
      "\n",
      "\n",
      "Второй экземляр авто {\"cruise-control\":true,\"roller-blind-for-rear-window\":true,\"tinted-glass\":true,\"esp\":true,\"usb\":true,\"multi-wheel\":true,\"spare-wheel\":true,\"heated-wash-system\":true,\"ashtray-and-cigarette-lighter\":true,\"airbag-passenger\":true,\"front-centre-armrest\":true,\"navigation\":true,\"lock\":true,\"door-sill-panel\":true,\"electro-mirrors\":true,\"electro-window-back\":true,\"16-inch-wheels\":true,\"mirrors-heat\":true,\"dark-interior\":true,\"folding-front-passenger-seat\":true,\"park-assist-r\":true,\"engine-proof\":true,\"airbag-driver\":true,\"aux\":true,\"isofix\":true,\"electro-window-front\":true,\"light-sensor\":true,\"hcc\":true,\"computer\":true,\"high-beam-assist\":true,\"programmed-block-heater\":true,\"seat-transformation\":true,\"wheel-power\":true,\"alarm\":true,\"light-cleaner\":true,\"fabric-seats\":true,\"alloy-wheel-disks\":true,\"ptf\":true,\"rain-sensor\":true,\"airbag-side\":true,\"tyre-pressure\":true,\"audiosystem-cd\":true,\"abs\":true,\"bluetooth\":true,\"front-seats-heat\":true,\"wheel-configuration2\":true,\"wheel-configuration1\":true,\"immo\":true,\"climate-control-2\":true,\"windscreen-heat\":true,\"auto-mirrors\":true,\"12v-socket\":true}\n"
     ]
    }
   ],
   "source": [
    "isna= test.equipment_dict.isna()\n",
    "print('Заполненность данными:',len(isna[isna == False])/len(isna),'\\n')\n",
    "\n",
    "\n",
    "\n",
    "print('Первый экземляр авто',test.equipment_dict.dropna().iloc[0],'\\n\\n')\n",
    "print('Второй экземляр авто',test.equipment_dict.dropna().iloc[3])"
   ]
  },
  {
   "cell_type": "markdown",
   "id": "2df28ee3",
   "metadata": {},
   "source": [
    "Видно, что это тоже словарь, но он содержит  уже вполне определенную информацию о комплектации автомобиля. Эти данные можно будет использовать для преобразования в категориальные переменные. Однако, большое количество пропусков критично. Думаю, можно сделать отдельный признак, обозначающий отсутствие данных в этом столбце. Можно будет сделать данные не бинарными, а категориальными, содержащие три признака: есть, нет, отсутствую данные."
   ]
  },
  {
   "cell_type": "markdown",
   "id": "0d7a0c2e",
   "metadata": {},
   "source": [
    "#### Владение"
   ]
  },
  {
   "cell_type": "code",
   "execution_count": 14,
   "id": "405885e5",
   "metadata": {
    "ExecuteTime": {
     "end_time": "2022-04-15T21:40:34.014260Z",
     "start_time": "2022-04-15T21:40:33.999257Z"
    }
   },
   "outputs": [
    {
     "name": "stdout",
     "output_type": "stream",
     "text": [
      "Заполненность данными: 0.3458167560399008\n"
     ]
    },
    {
     "data": {
      "text/plain": [
       "'3 года и 2 месяца'"
      ]
     },
     "execution_count": 14,
     "metadata": {},
     "output_type": "execute_result"
    }
   ],
   "source": [
    "na_ratio(test.Владение.isna())\n",
    "\n",
    "test.Владение.dropna().iloc[0]"
   ]
  },
  {
   "cell_type": "markdown",
   "id": "5cbd17a0",
   "metadata": {
    "ExecuteTime": {
     "end_time": "2022-04-07T08:46:57.285975Z",
     "start_time": "2022-04-07T08:46:57.276974Z"
    }
   },
   "source": [
    "Столбец заполнен на 35% \n",
    "\n",
    "Видно, что это строка, которая указывает время владения. Предположительно, последнего владельца, но это нужно проверить. \n",
    "\n",
    "Данных маловато, но из них можно будет сделать бинарный признак - указал водитель время владения или нет. Однако, скорее всего, после проверки этот столбец не будет использоваться вовсе."
   ]
  },
  {
   "cell_type": "markdown",
   "id": "80c58b8f",
   "metadata": {},
   "source": [
    "Посмотрим на все столбцы"
   ]
  },
  {
   "cell_type": "code",
   "execution_count": 15,
   "id": "86c5230d",
   "metadata": {
    "ExecuteTime": {
     "end_time": "2022-04-15T21:40:34.046268Z",
     "start_time": "2022-04-15T21:40:34.015261Z"
    }
   },
   "outputs": [
    {
     "data": {
      "text/html": [
       "<div>\n",
       "<style scoped>\n",
       "    .dataframe tbody tr th:only-of-type {\n",
       "        vertical-align: middle;\n",
       "    }\n",
       "\n",
       "    .dataframe tbody tr th {\n",
       "        vertical-align: top;\n",
       "    }\n",
       "\n",
       "    .dataframe thead th {\n",
       "        text-align: right;\n",
       "    }\n",
       "</style>\n",
       "<table border=\"1\" class=\"dataframe\">\n",
       "  <thead>\n",
       "    <tr style=\"text-align: right;\">\n",
       "      <th></th>\n",
       "      <th>mileage</th>\n",
       "      <th>modelDate</th>\n",
       "      <th>numberOfDoors</th>\n",
       "      <th>parsing_unixtime</th>\n",
       "      <th>productionDate</th>\n",
       "      <th>sell_id</th>\n",
       "    </tr>\n",
       "  </thead>\n",
       "  <tbody>\n",
       "    <tr>\n",
       "      <th>count</th>\n",
       "      <td>34686.000000</td>\n",
       "      <td>34686.000000</td>\n",
       "      <td>34686.000000</td>\n",
       "      <td>3.468600e+04</td>\n",
       "      <td>34686.000000</td>\n",
       "      <td>3.468600e+04</td>\n",
       "    </tr>\n",
       "    <tr>\n",
       "      <th>mean</th>\n",
       "      <td>162009.767889</td>\n",
       "      <td>2007.074728</td>\n",
       "      <td>4.450816</td>\n",
       "      <td>1.603287e+09</td>\n",
       "      <td>2009.264602</td>\n",
       "      <td>1.098300e+09</td>\n",
       "    </tr>\n",
       "    <tr>\n",
       "      <th>std</th>\n",
       "      <td>100676.559489</td>\n",
       "      <td>7.415894</td>\n",
       "      <td>0.703040</td>\n",
       "      <td>1.493071e+05</td>\n",
       "      <td>7.047661</td>\n",
       "      <td>1.911225e+07</td>\n",
       "    </tr>\n",
       "    <tr>\n",
       "      <th>min</th>\n",
       "      <td>1.000000</td>\n",
       "      <td>1904.000000</td>\n",
       "      <td>0.000000</td>\n",
       "      <td>1.603107e+09</td>\n",
       "      <td>1904.000000</td>\n",
       "      <td>2.665000e+03</td>\n",
       "    </tr>\n",
       "    <tr>\n",
       "      <th>25%</th>\n",
       "      <td>91153.500000</td>\n",
       "      <td>2004.000000</td>\n",
       "      <td>4.000000</td>\n",
       "      <td>1.603221e+09</td>\n",
       "      <td>2006.000000</td>\n",
       "      <td>1.099049e+09</td>\n",
       "    </tr>\n",
       "    <tr>\n",
       "      <th>50%</th>\n",
       "      <td>149779.500000</td>\n",
       "      <td>2008.000000</td>\n",
       "      <td>5.000000</td>\n",
       "      <td>1.603254e+09</td>\n",
       "      <td>2011.000000</td>\n",
       "      <td>1.100911e+09</td>\n",
       "    </tr>\n",
       "    <tr>\n",
       "      <th>75%</th>\n",
       "      <td>215000.000000</td>\n",
       "      <td>2012.000000</td>\n",
       "      <td>5.000000</td>\n",
       "      <td>1.603290e+09</td>\n",
       "      <td>2014.000000</td>\n",
       "      <td>1.101245e+09</td>\n",
       "    </tr>\n",
       "    <tr>\n",
       "      <th>max</th>\n",
       "      <td>1000000.000000</td>\n",
       "      <td>2020.000000</td>\n",
       "      <td>5.000000</td>\n",
       "      <td>1.603710e+09</td>\n",
       "      <td>2020.000000</td>\n",
       "      <td>1.101375e+09</td>\n",
       "    </tr>\n",
       "  </tbody>\n",
       "</table>\n",
       "</div>"
      ],
      "text/plain": [
       "              mileage     modelDate  numberOfDoors  parsing_unixtime  \\\n",
       "count    34686.000000  34686.000000   34686.000000      3.468600e+04   \n",
       "mean    162009.767889   2007.074728       4.450816      1.603287e+09   \n",
       "std     100676.559489      7.415894       0.703040      1.493071e+05   \n",
       "min          1.000000   1904.000000       0.000000      1.603107e+09   \n",
       "25%      91153.500000   2004.000000       4.000000      1.603221e+09   \n",
       "50%     149779.500000   2008.000000       5.000000      1.603254e+09   \n",
       "75%     215000.000000   2012.000000       5.000000      1.603290e+09   \n",
       "max    1000000.000000   2020.000000       5.000000      1.603710e+09   \n",
       "\n",
       "       productionDate       sell_id  \n",
       "count    34686.000000  3.468600e+04  \n",
       "mean      2009.264602  1.098300e+09  \n",
       "std          7.047661  1.911225e+07  \n",
       "min       1904.000000  2.665000e+03  \n",
       "25%       2006.000000  1.099049e+09  \n",
       "50%       2011.000000  1.100911e+09  \n",
       "75%       2014.000000  1.101245e+09  \n",
       "max       2020.000000  1.101375e+09  "
      ]
     },
     "execution_count": 15,
     "metadata": {},
     "output_type": "execute_result"
    }
   ],
   "source": [
    "test.describe()"
   ]
  },
  {
   "cell_type": "markdown",
   "id": "7b9ac8ed",
   "metadata": {},
   "source": [
    "Видно, что в дате всего 5 численных переменных, но sell_id не считается"
   ]
  },
  {
   "cell_type": "markdown",
   "id": "85ce8e75",
   "metadata": {},
   "source": [
    "### bodyType"
   ]
  },
  {
   "cell_type": "code",
   "execution_count": 16,
   "id": "e71eb3c5",
   "metadata": {
    "ExecuteTime": {
     "end_time": "2022-04-15T21:40:34.269407Z",
     "start_time": "2022-04-15T21:40:34.047268Z"
    }
   },
   "outputs": [
    {
     "data": {
      "image/png": "[encoded data removed]",
      "text/plain": [
       "<Figure size 432x288 with 1 Axes>"
      ]
     },
     "metadata": {
      "needs_background": "light"
     },
     "output_type": "display_data"
    }
   ],
   "source": [
    "show_value_counts(test.bodyType.value_counts());"
   ]
  },
  {
   "cell_type": "markdown",
   "id": "c367e76a",
   "metadata": {
    "ExecuteTime": {
     "end_time": "2022-04-07T15:19:40.965715Z",
     "start_time": "2022-04-07T15:19:40.958714Z"
    }
   },
   "source": [
    "Этот столбец определяет тип кузова автомобиля. Почему-то в датасете очень много внедорожников с 5 дверьми, а есть внедорожники с 3мя дверьми. Подобные строки будут обозначенны одним видом, как один тип кузова, потому-что количество дверей - это отдельный признак.\n",
    "\n",
    "Видно, что часть авто являются редкими. Их можно объединить в один признак. Неплохая вариация для моделей"
   ]
  },
  {
   "cell_type": "markdown",
   "id": "63b6f5a1",
   "metadata": {},
   "source": [
    "### brand"
   ]
  },
  {
   "cell_type": "code",
   "execution_count": 17,
   "id": "a114619a",
   "metadata": {
    "ExecuteTime": {
     "end_time": "2022-04-15T21:40:34.397436Z",
     "start_time": "2022-04-15T21:40:34.270407Z"
    }
   },
   "outputs": [
    {
     "data": {
      "image/png": "[encoded data removed]",
      "text/plain": [
       "<Figure size 432x288 with 1 Axes>"
      ]
     },
     "metadata": {
      "needs_background": "light"
     },
     "output_type": "display_data"
    }
   ],
   "source": [
    "show_value_counts(test.brand.value_counts());"
   ]
  },
  {
   "cell_type": "markdown",
   "id": "03b6970e",
   "metadata": {},
   "source": [
    "Красивое и нормальное распределение брендов, можно превратить в dummy-переменные"
   ]
  },
  {
   "cell_type": "markdown",
   "id": "c75c7e67",
   "metadata": {},
   "source": [
    "### car_url"
   ]
  },
  {
   "cell_type": "code",
   "execution_count": 18,
   "id": "bc3a287c",
   "metadata": {
    "ExecuteTime": {
     "end_time": "2022-04-15T21:40:34.413440Z",
     "start_time": "2022-04-15T21:40:34.398437Z"
    }
   },
   "outputs": [
    {
     "data": {
      "text/plain": [
       "'https://auto.ru/cars/used/sale/skoda/octavia/1100575026-c780dc09/'"
      ]
     },
     "execution_count": 18,
     "metadata": {},
     "output_type": "execute_result"
    }
   ],
   "source": [
    "test.car_url[0]"
   ]
  },
  {
   "cell_type": "markdown",
   "id": "28fbf864",
   "metadata": {},
   "source": [
    "Это ссылки на странички проданых авто, вот [одна из них](https://auto.ru/cars/used/sale/skoda/octavia/1100575026-c780dc09/). \n",
    "\n",
    "Для модели это мусор, но можно спарсить добавочные данные с сайта. Но есть и нерабочие ссылки."
   ]
  },
  {
   "cell_type": "code",
   "execution_count": 19,
   "id": "66fc8d98",
   "metadata": {
    "ExecuteTime": {
     "end_time": "2022-04-15T21:40:34.429443Z",
     "start_time": "2022-04-15T21:40:34.414441Z"
    }
   },
   "outputs": [
    {
     "data": {
      "text/plain": [
       "4647     https://auto.ru/cars/used/sale/audi/80/1101251...\n",
       "6568     https://auto.ru/cars/used/sale/volvo/240_serie...\n",
       "9463     https://auto.ru/cars/used/sale/bmw/7er/1092626...\n",
       "9888     https://auto.ru/cars/used/sale/bmw/5er/1099209...\n",
       "17203    https://auto.ru/cars/used/sale/mercedes/w124/1...\n",
       "18308    https://auto.ru/cars/used/sale/mercedes/s_klas...\n",
       "20164    https://auto.ru/cars/used/sale/toyota/corolla_...\n",
       "21459    https://auto.ru/cars/used/sale/toyota/land_cru...\n",
       "25168    https://auto.ru/cars/used/sale/volkswagen/tran...\n",
       "25464    https://auto.ru/cars/used/sale/volkswagen/jett...\n",
       "28391    https://auto.ru/cars/used/sale/mitsubishi/cari...\n",
       "Name: car_url, dtype: object"
      ]
     },
     "execution_count": 19,
     "metadata": {},
     "output_type": "execute_result"
    }
   ],
   "source": [
    "test[test.mileage == test.mileage.max()].car_url"
   ]
  },
  {
   "cell_type": "markdown",
   "id": "2a0866c1",
   "metadata": {},
   "source": [
    "### color"
   ]
  },
  {
   "cell_type": "code",
   "execution_count": 20,
   "id": "e92dd0ed",
   "metadata": {
    "ExecuteTime": {
     "end_time": "2022-04-15T21:40:34.589479Z",
     "start_time": "2022-04-15T21:40:34.430443Z"
    }
   },
   "outputs": [
    {
     "data": {
      "image/png": "[encoded data removed]",
      "text/plain": [
       "<Figure size 432x288 with 1 Axes>"
      ]
     },
     "metadata": {
      "needs_background": "light"
     },
     "output_type": "display_data"
    }
   ],
   "source": [
    "show_value_counts(test.color.value_counts());"
   ]
  },
  {
   "cell_type": "markdown",
   "id": "e8e0dfb0",
   "metadata": {},
   "source": [
    "Готовый для модели столбец. Распределён нормально. Стоит преобразовать в dummy, можно сделать признак: редкий цвет. Он может повысить предсказательную силу моделей."
   ]
  },
  {
   "cell_type": "markdown",
   "id": "dd4d2c7f",
   "metadata": {},
   "source": [
    "### description"
   ]
  },
  {
   "cell_type": "code",
   "execution_count": 21,
   "id": "9ebadd68",
   "metadata": {
    "ExecuteTime": {
     "end_time": "2022-04-15T21:40:34.605482Z",
     "start_time": "2022-04-15T21:40:34.590479Z"
    }
   },
   "outputs": [
    {
     "data": {
      "text/plain": [
       "'Все автомобили, представленные в продаже, проходят тщательную проверку по более 40 параметрам. Предоставляем гарантию юридической чистоты, а так же год технической гарантии на двигатель и КПП. Бесплатный тест-драйв. Возможно оформление автомобиля в кредит!\\n\\nПреимущества автокредитования:\\n— Первоначальный взнос от 0%;\\n— Более 30 кредитных программ;\\n— Процентная ставка от 6% годовых;\\n— Срок кредита от 6 месяцев до 7 лет;\\n— Оформление кредита по двум документам;\\n— Досрочное погашение без штрафов и комиссий;\\n— Сумма кредита до 2 млн рублей;\\n— Оформление КАСКО – по желанию;\\n— Без справок и поручителей.\\n\\nСотрудничаем с 12 аккредитованными и сертифицированными банками РФ, среднее время ожидания решения банка 20–30 минут.\\n\\nПри покупке автомобиля по программе «Trade-in – выгодный обмен» или в кредит, получите дополнительную скидку до 80 000 рублей на данный автомобиль!\\n\\nЗаписаться на тест-драйв, а так же получить подробную информацию можно у специалистов автоцентра по указанному номеру телефона.'"
      ]
     },
     "execution_count": 21,
     "metadata": {},
     "output_type": "execute_result"
    }
   ],
   "source": [
    "test.description[0]"
   ]
  },
  {
   "cell_type": "markdown",
   "id": "5b5179d4",
   "metadata": {},
   "source": [
    "Интереснейший столбец! Содержит комментарий продавца. Проверим, есть ли одинаковые тексты."
   ]
  },
  {
   "cell_type": "code",
   "execution_count": 22,
   "id": "67564c1f",
   "metadata": {
    "ExecuteTime": {
     "end_time": "2022-04-15T21:40:34.621487Z",
     "start_time": "2022-04-15T21:40:34.606485Z"
    }
   },
   "outputs": [
    {
     "data": {
      "text/plain": [
       "0        Все автомобили, представленные в продаже, прох...\n",
       "1        ЛОТ: 01217195\\nАвтопрага Север\\nДанный автомоб...\n",
       "2        Все автомобили, представленные в продаже, прох...\n",
       "3        КОМПЛЕКТ ЗИМНЕЙ (ЛЕТНЕЙ) РЕЗИНЫ ПО СЕЗОНУ В ПО...\n",
       "4        ЛОТ: 01220889\\nАвтопрага Север\\n\\nВы можете по...\n",
       "                               ...                        \n",
       "34681    Продается BMW 316i в отличном состоянии. Прода...\n",
       "34682                       Продаётся отличный автомобиль.\n",
       "34683                                    Хорошее состояние\n",
       "34684    Автомобиль в идеальном состоянии . Куплен новы...\n",
       "34685     Пробег реальный, состояние отличное! Авторска...\n",
       "Name: description, Length: 34686, dtype: object"
      ]
     },
     "execution_count": 22,
     "metadata": {},
     "output_type": "execute_result"
    }
   ],
   "source": [
    "test.description.replace('\\n','')"
   ]
  },
  {
   "cell_type": "code",
   "execution_count": 23,
   "id": "88425a7e",
   "metadata": {
    "ExecuteTime": {
     "end_time": "2022-04-15T21:40:34.669497Z",
     "start_time": "2022-04-15T21:40:34.622488Z"
    }
   },
   "outputs": [
    {
     "data": {
      "text/plain": [
       "array([264, 259, 211, ...,   1,   1,   1], dtype=int64)"
      ]
     },
     "execution_count": 23,
     "metadata": {},
     "output_type": "execute_result"
    }
   ],
   "source": [
    "test.description.value_counts().values"
   ]
  },
  {
   "cell_type": "markdown",
   "id": "2236b3dc",
   "metadata": {},
   "source": [
    "Есть одинаковые тексты и, кажется, их довольно много. Вероятно, это объявления автодилеров."
   ]
  },
  {
   "cell_type": "code",
   "execution_count": 24,
   "id": "b17181b7",
   "metadata": {
    "ExecuteTime": {
     "end_time": "2022-04-15T21:40:34.701505Z",
     "start_time": "2022-04-15T21:40:34.670498Z"
    }
   },
   "outputs": [
    {
     "name": "stdout",
     "output_type": "stream",
     "text": [
      "258  - Количество повторений количества строк:\n",
      "3212 - Общее количество машин с таким описанием:\n"
     ]
    }
   ],
   "source": [
    "desc_VC = pd.Series(test.description.value_counts())\n",
    "print(len(desc_VC[desc_VC != 1]),' - Количество повторений количества строк:') \n",
    "print(sum(desc_VC[desc_VC != 1]),'- Общее количество машин с таким описанием:')"
   ]
  },
  {
   "cell_type": "markdown",
   "id": "1c2f27ea",
   "metadata": {},
   "source": [
    "Часть из них от дилеров, часть - короткие комментарии типа \"Хорошая\"."
   ]
  },
  {
   "cell_type": "code",
   "execution_count": 25,
   "id": "bb09a0c0",
   "metadata": {
    "ExecuteTime": {
     "end_time": "2022-04-15T21:40:35.053703Z",
     "start_time": "2022-04-15T21:40:34.702506Z"
    }
   },
   "outputs": [],
   "source": [
    "cherepters_count = []\n",
    "\n",
    "for i in test.index:\n",
    "    cherepters_count.append(len(test.description[i]))\n",
    "    \n",
    "cherepters_count = pd.Series(cherepters_count)"
   ]
  },
  {
   "cell_type": "code",
   "execution_count": 26,
   "id": "f4a965a5",
   "metadata": {
    "ExecuteTime": {
     "end_time": "2022-04-15T21:40:37.725848Z",
     "start_time": "2022-04-15T21:40:35.054704Z"
    }
   },
   "outputs": [
    {
     "data": {
      "image/png": "[encoded data removed]",
      "text/plain": [
       "<Figure size 432x288 with 1 Axes>"
      ]
     },
     "metadata": {
      "needs_background": "light"
     },
     "output_type": "display_data"
    }
   ],
   "source": [
    "show_value_counts(cherepters_count.value_counts());"
   ]
  },
  {
   "cell_type": "markdown",
   "id": "cb74d39c",
   "metadata": {
    "ExecuteTime": {
     "end_time": "2022-04-07T20:10:54.946873Z",
     "start_time": "2022-04-07T20:10:54.931870Z"
    }
   },
   "source": [
    "Есть группы, видно несколько дилеров."
   ]
  },
  {
   "cell_type": "code",
   "execution_count": 27,
   "id": "4e2bf4da",
   "metadata": {
    "ExecuteTime": {
     "end_time": "2022-04-15T21:40:37.741458Z",
     "start_time": "2022-04-15T21:40:37.725848Z"
    }
   },
   "outputs": [
    {
     "data": {
      "text/plain": [
       "1"
      ]
     },
     "execution_count": 27,
     "metadata": {},
     "output_type": "execute_result"
    }
   ],
   "source": [
    "min(cherepters_count)"
   ]
  },
  {
   "cell_type": "code",
   "execution_count": 28,
   "id": "3f90267c",
   "metadata": {
    "ExecuteTime": {
     "end_time": "2022-04-15T21:40:37.756716Z",
     "start_time": "2022-04-15T21:40:37.745714Z"
    }
   },
   "outputs": [
    {
     "data": {
      "text/plain": [
       "3121     8\n",
       "5194     8\n",
       "22939    8\n",
       "28518    8\n",
       "31255    8\n",
       "dtype: int64"
      ]
     },
     "execution_count": 28,
     "metadata": {},
     "output_type": "execute_result"
    }
   ],
   "source": [
    "cherepters_count[cherepters_count == 8] # Есть малословные комментарии"
   ]
  },
  {
   "cell_type": "markdown",
   "id": "66671f51",
   "metadata": {
    "ExecuteTime": {
     "end_time": "2022-04-07T16:00:22.509373Z",
     "start_time": "2022-04-07T16:00:22.493370Z"
    }
   },
   "source": [
    "Можно обработать через word2vec и кластеризовать. Однако это требует много ресурсов и не факт, что признак будет значим, но это очень круто.\n",
    "\n",
    "Можно лемматизировать(привести все слова к словарным формам) и использовать словари положительных и отрицательных слов для формирования веса для модели. "
   ]
  },
  {
   "cell_type": "markdown",
   "id": "7fb3c025",
   "metadata": {},
   "source": [
    "### engineDisplacement"
   ]
  },
  {
   "cell_type": "code",
   "execution_count": 29,
   "id": "fc9cf7a7",
   "metadata": {
    "ExecuteTime": {
     "end_time": "2022-04-15T21:40:37.772720Z",
     "start_time": "2022-04-15T21:40:37.757716Z"
    },
    "scrolled": true
   },
   "outputs": [
    {
     "data": {
      "text/plain": [
       "2.0 LTR    7391\n",
       "1.6 LTR    4973\n",
       "3.0 LTR    3915\n",
       "1.8 LTR    3349\n",
       "2.5 LTR    2477\n",
       "2.4 LTR    1745\n",
       "3.5 LTR    1710\n",
       "1.4 LTR    1635\n",
       "1.5 LTR     725\n",
       "1.2 LTR     485\n",
       "4.4 LTR     447\n",
       "2.8 LTR     384\n",
       "4.7 LTR     377\n",
       "1.3 LTR     365\n",
       "5.5 LTR     361\n",
       "4.0 LTR     356\n",
       "3.2 LTR     348\n",
       "4.5 LTR     346\n",
       "2.1 LTR     271\n",
       "3.7 LTR     242\n",
       "2.2 LTR     236\n",
       "4.2 LTR     228\n",
       "1.9 LTR     221\n",
       "2.3 LTR     203\n",
       "2.7 LTR     189\n",
       "3.6 LTR     183\n",
       "5.6 LTR     170\n",
       "5.0 LTR     158\n",
       "5.7 LTR     135\n",
       "2.9 LTR     131\n",
       "4.6 LTR     108\n",
       "3.1 LTR      88\n",
       "4.8 LTR      84\n",
       "1.7 LTR      59\n",
       "1.0 LTR      57\n",
       "3.8 LTR      57\n",
       "2.6 LTR      55\n",
       " LTR         55\n",
       "6.0 LTR      53\n",
       "0.7 LTR      53\n",
       "3.3 LTR      44\n",
       "3.4 LTR      36\n",
       "4.1 LTR      35\n",
       "4.3 LTR      32\n",
       "5.4 LTR      31\n",
       "6.2 LTR      28\n",
       "5.2 LTR      12\n",
       "5.9 LTR      12\n",
       "6.3 LTR       8\n",
       "5.8 LTR       7\n",
       "6.6 LTR       6\n",
       "4.9 LTR       4\n",
       "1.1 LTR       4\n",
       "3.9 LTR       1\n",
       "5.3 LTR       1\n",
       "Name: engineDisplacement, dtype: int64"
      ]
     },
     "execution_count": 29,
     "metadata": {},
     "output_type": "execute_result"
    }
   ],
   "source": [
    "test.engineDisplacement.value_counts()"
   ]
  },
  {
   "cell_type": "code",
   "execution_count": 30,
   "id": "a3c005ed",
   "metadata": {
    "ExecuteTime": {
     "end_time": "2022-04-15T21:40:37.788723Z",
     "start_time": "2022-04-15T21:40:37.773720Z"
    }
   },
   "outputs": [],
   "source": [
    "#test.loc[test['engineDisplacement']==' LTR'] = '1.0'\n",
    "#pd.Series(map(lambda x:x.replace('LTR', ''),test.engineDisplacement))"
   ]
  },
  {
   "cell_type": "markdown",
   "id": "18e671be",
   "metadata": {
    "ExecuteTime": {
     "end_time": "2022-04-07T19:52:44.968451Z",
     "start_time": "2022-04-07T19:52:44.950447Z"
    }
   },
   "source": [
    "Объём двигателя. Превратить в float. хороший численный признак"
   ]
  },
  {
   "cell_type": "markdown",
   "id": "52881741",
   "metadata": {},
   "source": [
    "### enginePower\n",
    "#upgrade изменить на гистограму после предобработки"
   ]
  },
  {
   "cell_type": "code",
   "execution_count": 31,
   "id": "e83528dd",
   "metadata": {
    "ExecuteTime": {
     "end_time": "2022-04-15T21:40:40.563401Z",
     "start_time": "2022-04-15T21:40:37.789724Z"
    }
   },
   "outputs": [
    {
     "data": {
      "image/png": "[encoded data removed]",
      "text/plain": [
       "<Figure size 432x288 with 1 Axes>"
      ]
     },
     "metadata": {
      "needs_background": "light"
     },
     "output_type": "display_data"
    }
   ],
   "source": [
    "show_value_counts(test.enginePower.value_counts());"
   ]
  },
  {
   "cell_type": "markdown",
   "id": "020ef68e",
   "metadata": {},
   "source": [
    "Красивое нормальное распределение"
   ]
  },
  {
   "cell_type": "code",
   "execution_count": 32,
   "id": "ba114201",
   "metadata": {
    "ExecuteTime": {
     "end_time": "2022-04-15T21:40:40.578565Z",
     "start_time": "2022-04-15T21:40:40.564561Z"
    }
   },
   "outputs": [
    {
     "data": {
      "text/plain": [
       "True    34686\n",
       "dtype: int64"
      ]
     },
     "execution_count": 32,
     "metadata": {},
     "output_type": "execute_result"
    }
   ],
   "source": [
    "pd.Series(['N12' in i for i in test.enginePower]).value_counts()"
   ]
  },
  {
   "cell_type": "markdown",
   "id": "f6fc9e72",
   "metadata": {},
   "source": [
    "Везде содержится строчка 'N12'. Её можно убрать и вычесть минимальное значение"
   ]
  },
  {
   "cell_type": "code",
   "execution_count": 33,
   "id": "449bd69c",
   "metadata": {
    "ExecuteTime": {
     "end_time": "2022-04-15T21:40:40.594567Z",
     "start_time": "2022-04-15T21:40:40.579564Z"
    }
   },
   "outputs": [],
   "source": [
    "# pd.Series(map(lambda x: int(x.replace('N12', '')),test.enginePower))\n",
    "# min(pd.Series(map(lambda x: int(x.replace('N12', '')),test.enginePower)))"
   ]
  },
  {
   "cell_type": "markdown",
   "id": "0b3eaaf0",
   "metadata": {},
   "source": [
    "### equipment_dict"
   ]
  },
  {
   "cell_type": "code",
   "execution_count": 34,
   "id": "fb9edd63",
   "metadata": {
    "ExecuteTime": {
     "end_time": "2022-04-15T21:40:40.610572Z",
     "start_time": "2022-04-15T21:40:40.595568Z"
    }
   },
   "outputs": [
    {
     "data": {
      "text/plain": [
       "'{\"engine-proof\":true,\"tinted-glass\":true,\"airbag-driver\":true,\"aux\":true,\"isofix\":true,\"electro-window-front\":true,\"ashtray-and-cigarette-lighter\":true,\"airbag-passenger\":true,\"computer\":true,\"high-beam-assist\":true,\"seat-transformation\":true,\"isofix-front\":true,\"wheel-power\":true,\"alarm\":true,\"lock\":true,\"door-sill-panel\":true,\"fabric-seats\":true,\"electro-mirrors\":true,\"airbag-rear-side\":true,\"electro-window-back\":true,\"steel-wheels\":true,\"ptf\":true,\"16-inch-wheels\":true,\"rain-sensor\":true,\"airbag-side\":true,\"audiosystem-cd\":true,\"dark-interior\":true,\"cooling-box\":true,\"condition\":true,\"abs\":true,\"power-child-locks-rear-doors\":true,\"front-seats-heat\":true,\"wheel-configuration2\":true,\"wheel-configuration1\":true,\"12v-socket\":true,\"park-assist-r\":true}'"
      ]
     },
     "execution_count": 34,
     "metadata": {},
     "output_type": "execute_result"
    }
   ],
   "source": [
    "test.equipment_dict[0] "
   ]
  },
  {
   "cell_type": "markdown",
   "id": "fc63268d",
   "metadata": {},
   "source": [
    "Видно, что это тоже словарь, но он содержит уже вполне определенную информацмю о комплектации автомобиля. Эти данные можно будет использовать для преобразования в категориальные переменные. Оданко, **28% пропусков** - это критично. Думаю, можно сделать отдельный признак, обозначающий отсутствие данных в этом столбце. Можно будет сделать данные не бинарными, а категориальными, содержащими три признака: есть, нет, отсутствуют данные."
   ]
  },
  {
   "cell_type": "markdown",
   "id": "d50f048a",
   "metadata": {},
   "source": [
    "### fuelType"
   ]
  },
  {
   "cell_type": "code",
   "execution_count": 35,
   "id": "22e88fdf",
   "metadata": {
    "ExecuteTime": {
     "end_time": "2022-04-15T21:40:40.706593Z",
     "start_time": "2022-04-15T21:40:40.611572Z"
    }
   },
   "outputs": [
    {
     "data": {
      "image/png": "[encoded data removed]",
      "text/plain": [
       "<Figure size 432x288 with 1 Axes>"
      ]
     },
     "metadata": {
      "needs_background": "light"
     },
     "output_type": "display_data"
    }
   ],
   "source": [
    "show_value_counts(test.fuelType.value_counts());"
   ]
  },
  {
   "cell_type": "markdown",
   "id": "f51076d2",
   "metadata": {},
   "source": [
    "Видно, что автомобили на газу, гибриды и элекромобили - большая редкость. Их можно объединить в один признак или натренировать под эти категории отдельную модель."
   ]
  },
  {
   "cell_type": "markdown",
   "id": "5344fa1b",
   "metadata": {},
   "source": [
    "### image"
   ]
  },
  {
   "cell_type": "code",
   "execution_count": 36,
   "id": "a9b0fa3b",
   "metadata": {
    "ExecuteTime": {
     "end_time": "2022-04-15T21:40:40.722596Z",
     "start_time": "2022-04-15T21:40:40.707595Z"
    }
   },
   "outputs": [
    {
     "data": {
      "text/plain": [
       "21196    https://autoru.naydex.net/imflT9272/520f62I9/2...\n",
       "29303    https://avatars.mds.yandex.net/get-autoru-vos/...\n",
       "23318    https://autoru.naydex.net/o9DBXQ270/5ac010hAY0...\n",
       "5262     https://autoru.naydex.net/mcQh17801/f1b5751dCi...\n",
       "26427    https://avatars.mds.yandex.net/get-autoru-vos/...\n",
       "11657    https://autoru.naydex.net/G87gDZg56/28c7a8vqVE...\n",
       "19998    https://autoru.naydex.net/LxPU17803/f5b8d77S/u...\n",
       "7434     https://autoru.naydex.net/ESooa9149/468b9eoMem...\n",
       "22467    https://autoru.naydex.net/imflT9272/520f62I9/2...\n",
       "25080    https://autoru.naydex.net/o9DBXQ270/5ac010hAY0...\n",
       "Name: image, dtype: object"
      ]
     },
     "execution_count": 36,
     "metadata": {},
     "output_type": "execute_result"
    }
   ],
   "source": [
    "test.image.sample(10)"
   ]
  },
  {
   "cell_type": "markdown",
   "id": "962833e3",
   "metadata": {},
   "source": [
    "Ссылки на изображения автомобиля сломаны, их невозможно использовать.  \n",
    "Столбец подлежит изгнанию из датасета"
   ]
  },
  {
   "cell_type": "code",
   "execution_count": 37,
   "id": "4af4c001",
   "metadata": {
    "ExecuteTime": {
     "end_time": "2022-04-15T21:40:40.738600Z",
     "start_time": "2022-04-15T21:40:40.723598Z"
    }
   },
   "outputs": [],
   "source": [
    "columna.to_drop('image')"
   ]
  },
  {
   "cell_type": "markdown",
   "id": "cf324f17",
   "metadata": {},
   "source": [
    "### mileage #upgrade"
   ]
  },
  {
   "cell_type": "code",
   "execution_count": 38,
   "id": "fc7ad3fe",
   "metadata": {
    "ExecuteTime": {
     "end_time": "2022-04-15T21:40:41.025665Z",
     "start_time": "2022-04-15T21:40:40.739601Z"
    },
    "scrolled": true
   },
   "outputs": [
    {
     "data": {
      "image/png": "[encoded data removed]",
      "text/plain": [
       "<Figure size 432x288 with 1 Axes>"
      ]
     },
     "metadata": {
      "needs_background": "light"
     },
     "output_type": "display_data"
    }
   ],
   "source": [
    "sns.histplot(data=test.mileage);"
   ]
  },
  {
   "cell_type": "markdown",
   "id": "57056c02",
   "metadata": {},
   "source": [
    "По распределению видно:\n",
    "- Оно нормальное\n",
    "- Есть относительно плотная кучка максимальных значений, которая выбивается из нормального распределения. Их мы сейчас рассмотрим подробнее."
   ]
  },
  {
   "cell_type": "code",
   "execution_count": 39,
   "id": "a06ce48b",
   "metadata": {
    "ExecuteTime": {
     "end_time": "2022-04-15T21:40:41.105683Z",
     "start_time": "2022-04-15T21:40:41.026665Z"
    }
   },
   "outputs": [
    {
     "data": {
      "image/png": "[encoded data removed]",
      "text/plain": [
       "<Figure size 432x288 with 1 Axes>"
      ]
     },
     "metadata": {
      "needs_background": "light"
     },
     "output_type": "display_data"
    }
   ],
   "source": [
    "sns.boxplot(x=test.mileage);"
   ]
  },
  {
   "cell_type": "code",
   "execution_count": 40,
   "id": "546180eb",
   "metadata": {
    "ExecuteTime": {
     "end_time": "2022-04-15T21:40:41.121686Z",
     "start_time": "2022-04-15T21:40:41.106685Z"
    }
   },
   "outputs": [
    {
     "name": "stdout",
     "output_type": "stream",
     "text": [
      "минимум: 1\n",
      "медиана: 149779.5\n",
      "максимум: 1000000\n"
     ]
    }
   ],
   "source": [
    "print('минимум:',test.mileage.min())\n",
    "print('медиана:',test.mileage.median())\n",
    "print('максимум:',test.mileage.max())"
   ]
  },
  {
   "cell_type": "markdown",
   "id": "f2eff5ff",
   "metadata": {},
   "source": [
    "Минимум в 1 км - вероятно, новый автомобиль.\n",
    "Максимум в миллион километров - это примерно 3 года езды с скоростью в 60 км/ч по 15 часов в день, что, похоже, также возможно.\n",
    "\n",
    "Лучше всего этот столбец логарифмировать. Так чтобы логарифм не очень быстро перестал изменяться."
   ]
  },
  {
   "cell_type": "markdown",
   "id": "cb7f59e1",
   "metadata": {},
   "source": [
    "### modelDate"
   ]
  },
  {
   "cell_type": "code",
   "execution_count": 41,
   "id": "bfbb0255",
   "metadata": {
    "ExecuteTime": {
     "end_time": "2022-04-15T21:40:41.425870Z",
     "start_time": "2022-04-15T21:40:41.122687Z"
    }
   },
   "outputs": [
    {
     "data": {
      "image/png": "[encoded data removed]",
      "text/plain": [
       "<Figure size 432x288 with 1 Axes>"
      ]
     },
     "metadata": {
      "needs_background": "light"
     },
     "output_type": "display_data"
    }
   ],
   "source": [
    "sns.histplot(data=test.modelDate,bins=150);"
   ]
  },
  {
   "cell_type": "markdown",
   "id": "4498ad49",
   "metadata": {},
   "source": [
    "Дата выпуска модели. Все отлично.\n",
    "\n",
    "Для модели можно:\n",
    "- От всех дат отрезать первую. \n",
    "- Соединить её с еще одной датой, чтобы избавиться от мультиколлиниарности"
   ]
  },
  {
   "cell_type": "markdown",
   "id": "b003fd8f",
   "metadata": {},
   "source": [
    "### model_info"
   ]
  },
  {
   "cell_type": "code",
   "execution_count": 42,
   "id": "fa930737",
   "metadata": {
    "ExecuteTime": {
     "end_time": "2022-04-15T21:40:41.441874Z",
     "start_time": "2022-04-15T21:40:41.426871Z"
    }
   },
   "outputs": [
    {
     "data": {
      "text/plain": [
       "'{\"code\":\"OCTAVIA\",\"name\":\"Octavia\",\"ru_name\":\"Октавия\",\"morphology\":{\"gender\":\"FEMININE\"},\"nameplate\":{\"code\":\"\",\"name\":\"\",\"semantic_url\":\"\"}}'"
      ]
     },
     "execution_count": 42,
     "metadata": {},
     "output_type": "execute_result"
    }
   ],
   "source": [
    "test.model_info[4]"
   ]
  },
  {
   "cell_type": "markdown",
   "id": "3b5ba324",
   "metadata": {},
   "source": [
    "Этот столбец содержит название модели, то, как она произносится, указан её род... да и в общем, это все.  \n",
    "Столбец на удаление, полезных данных в нём нет."
   ]
  },
  {
   "cell_type": "code",
   "execution_count": 43,
   "id": "63ca1757",
   "metadata": {
    "ExecuteTime": {
     "end_time": "2022-04-15T21:40:41.457878Z",
     "start_time": "2022-04-15T21:40:41.442876Z"
    }
   },
   "outputs": [],
   "source": [
    "columna.to_drop('model_info')"
   ]
  },
  {
   "cell_type": "markdown",
   "id": "34ebfd65",
   "metadata": {},
   "source": [
    "### model_name"
   ]
  },
  {
   "cell_type": "code",
   "execution_count": 44,
   "id": "97fd334f",
   "metadata": {
    "ExecuteTime": {
     "end_time": "2022-04-15T21:40:41.473881Z",
     "start_time": "2022-04-15T21:40:41.458879Z"
    }
   },
   "outputs": [
    {
     "data": {
      "text/plain": [
       "1843         OCTAVIA\n",
       "9062             5ER\n",
       "23899    TRANSPORTER\n",
       "26496         TIGUAN\n",
       "Name: model_name, dtype: object"
      ]
     },
     "execution_count": 44,
     "metadata": {},
     "output_type": "execute_result"
    }
   ],
   "source": [
    "test.model_name.sample(4)"
   ]
  },
  {
   "cell_type": "code",
   "execution_count": 45,
   "id": "d592c050",
   "metadata": {
    "ExecuteTime": {
     "end_time": "2022-04-15T21:40:46.097668Z",
     "start_time": "2022-04-15T21:40:41.474883Z"
    }
   },
   "outputs": [
    {
     "data": {
      "image/png": "[encoded data removed]",
      "text/plain": [
       "<Figure size 432x288 with 1 Axes>"
      ]
     },
     "metadata": {
      "needs_background": "light"
     },
     "output_type": "display_data"
    }
   ],
   "source": [
    "show_value_counts(test.model_name.value_counts());"
   ]
  },
  {
   "cell_type": "markdown",
   "id": "1d2bf196",
   "metadata": {},
   "source": [
    "Слева здесь можно увидеть распределение длины названия моделей слева от популярности марки, но что-то я отвлёкся. "
   ]
  },
  {
   "cell_type": "code",
   "execution_count": 46,
   "id": "c83907e0",
   "metadata": {
    "ExecuteTime": {
     "end_time": "2022-04-15T21:40:46.113671Z",
     "start_time": "2022-04-15T21:40:46.098668Z"
    }
   },
   "outputs": [
    {
     "name": "stdout",
     "output_type": "stream",
     "text": [
      "Всего в датасете 544 модели от одного и разных брендов\n"
     ]
    }
   ],
   "source": [
    "print(f'Всего в датасете {test.model_name.nunique()} модели от одного и разных брендов')"
   ]
  },
  {
   "cell_type": "markdown",
   "id": "61ace47a",
   "metadata": {},
   "source": [
    "С этом столбце есть кое-что интересное. По сути, когда мы - люди говорим о цене автомобиля, первая значимая часть - это марка. Всем понятно что Porsche обычно дороже Lada. Вторая - модель автомобиля. Третья - комплектация. Но сложно предоставить такие данные модели. Поэтому, можно будет попробовать учить модели находить авто определенных брендов или моделей."
   ]
  },
  {
   "cell_type": "markdown",
   "id": "a1a4d37e",
   "metadata": {},
   "source": [
    "### name "
   ]
  },
  {
   "cell_type": "code",
   "execution_count": 47,
   "id": "6361d328",
   "metadata": {
    "ExecuteTime": {
     "end_time": "2022-04-15T21:40:46.129675Z",
     "start_time": "2022-04-15T21:40:46.114672Z"
    }
   },
   "outputs": [
    {
     "data": {
      "text/plain": [
       "11588                        2.0 CVT (141 л.с.)\n",
       "18627    350 CDI BlueTEC 3.0d AT (249 л.с.) 4WD\n",
       "25546                         1.4 MT (125 л.с.)\n",
       "5949                   Spike 1.5 CVT (118 л.с.)\n",
       "26611                         1.6 MT (102 л.с.)\n",
       "Name: name, dtype: object"
      ]
     },
     "execution_count": 47,
     "metadata": {},
     "output_type": "execute_result"
    }
   ],
   "source": [
    "test.name.sample(5)"
   ]
  },
  {
   "cell_type": "markdown",
   "id": "8a576d11",
   "metadata": {},
   "source": [
    "Здесь указан объём двигателя, тип трансмиссии, мощность двигателя и тип привода. \n",
    "Можно исключить, т.к. вся эта информация есть в следующих столбцах: \n",
    "- [super_gen](#super_gen)  \n",
    "- [enginePower](#enginePower)\n",
    "- [engineDisplacement](#engineDisplacement)\n",
    "- [vehicleTransmission](#vehicleTransmission)\n",
    "\n",
    "Но, возможно, с помощью столбца name можно будет заполнить пропуски."
   ]
  },
  {
   "cell_type": "markdown",
   "id": "5b2fe0d9",
   "metadata": {},
   "source": [
    "### numberOfDoors"
   ]
  },
  {
   "cell_type": "code",
   "execution_count": 48,
   "id": "9469c961",
   "metadata": {
    "ExecuteTime": {
     "end_time": "2022-04-15T21:40:46.225697Z",
     "start_time": "2022-04-15T21:40:46.130676Z"
    }
   },
   "outputs": [
    {
     "data": {
      "image/png": "[encoded data removed]",
      "text/plain": [
       "<Figure size 432x288 with 1 Axes>"
      ]
     },
     "metadata": {
      "needs_background": "light"
     },
     "output_type": "display_data"
    }
   ],
   "source": [
    "show_value_counts(test.numberOfDoors.value_counts(), reverse=True);"
   ]
  },
  {
   "cell_type": "markdown",
   "id": "04b132ef",
   "metadata": {},
   "source": [
    "Хороший категориальный признак, пойдёт в dummy. \n",
    "\n",
    "Только в датасете есть машина без дверей, наверное это танк"
   ]
  },
  {
   "cell_type": "code",
   "execution_count": 49,
   "id": "a0bc4255",
   "metadata": {
    "ExecuteTime": {
     "end_time": "2022-04-15T21:40:46.241700Z",
     "start_time": "2022-04-15T21:40:46.226698Z"
    }
   },
   "outputs": [
    {
     "data": {
      "text/html": [
       "<div>\n",
       "<style scoped>\n",
       "    .dataframe tbody tr th:only-of-type {\n",
       "        vertical-align: middle;\n",
       "    }\n",
       "\n",
       "    .dataframe tbody tr th {\n",
       "        vertical-align: top;\n",
       "    }\n",
       "\n",
       "    .dataframe thead th {\n",
       "        text-align: right;\n",
       "    }\n",
       "</style>\n",
       "<table border=\"1\" class=\"dataframe\">\n",
       "  <thead>\n",
       "    <tr style=\"text-align: right;\">\n",
       "      <th></th>\n",
       "      <th>bodyType</th>\n",
       "      <th>brand</th>\n",
       "      <th>car_url</th>\n",
       "      <th>color</th>\n",
       "      <th>complectation_dict</th>\n",
       "      <th>description</th>\n",
       "      <th>engineDisplacement</th>\n",
       "      <th>enginePower</th>\n",
       "      <th>equipment_dict</th>\n",
       "      <th>fuelType</th>\n",
       "      <th>...</th>\n",
       "      <th>vehicleConfiguration</th>\n",
       "      <th>vehicleTransmission</th>\n",
       "      <th>vendor</th>\n",
       "      <th>Владельцы</th>\n",
       "      <th>Владение</th>\n",
       "      <th>ПТС</th>\n",
       "      <th>Привод</th>\n",
       "      <th>Руль</th>\n",
       "      <th>Состояние</th>\n",
       "      <th>Таможня</th>\n",
       "    </tr>\n",
       "  </thead>\n",
       "  <tbody>\n",
       "    <tr>\n",
       "      <th>16944</th>\n",
       "      <td>кабриолет</td>\n",
       "      <td>MERCEDES</td>\n",
       "      <td>https://auto.ru/cars/used/sale/mercedes/simple...</td>\n",
       "      <td>белый</td>\n",
       "      <td>NaN</td>\n",
       "      <td>на ходу. 1904 год. стоит в гараже, пылится.Кат...</td>\n",
       "      <td>5.3 LTR</td>\n",
       "      <td>32 N12</td>\n",
       "      <td>NaN</td>\n",
       "      <td>бензин</td>\n",
       "      <td>...</td>\n",
       "      <td>CABRIO MECHANICAL 5.3</td>\n",
       "      <td>механическая</td>\n",
       "      <td>EUROPEAN</td>\n",
       "      <td>1 владелец</td>\n",
       "      <td>6 лет и 8 месяцев</td>\n",
       "      <td>Оригинал</td>\n",
       "      <td>задний</td>\n",
       "      <td>Правый</td>\n",
       "      <td>Не требует ремонта</td>\n",
       "      <td>Растаможен</td>\n",
       "    </tr>\n",
       "  </tbody>\n",
       "</table>\n",
       "<p>1 rows × 32 columns</p>\n",
       "</div>"
      ],
      "text/plain": [
       "        bodyType     brand                                            car_url  \\\n",
       "16944  кабриолет  MERCEDES  https://auto.ru/cars/used/sale/mercedes/simple...   \n",
       "\n",
       "       color complectation_dict  \\\n",
       "16944  белый                NaN   \n",
       "\n",
       "                                             description engineDisplacement  \\\n",
       "16944  на ходу. 1904 год. стоит в гараже, пылится.Кат...            5.3 LTR   \n",
       "\n",
       "      enginePower equipment_dict fuelType  ...   vehicleConfiguration  \\\n",
       "16944      32 N12            NaN   бензин  ...  CABRIO MECHANICAL 5.3   \n",
       "\n",
       "       vehicleTransmission    vendor   Владельцы           Владение       ПТС  \\\n",
       "16944         механическая  EUROPEAN  1 владелец  6 лет и 8 месяцев  Оригинал   \n",
       "\n",
       "       Привод    Руль           Состояние     Таможня  \n",
       "16944  задний  Правый  Не требует ремонта  Растаможен  \n",
       "\n",
       "[1 rows x 32 columns]"
      ]
     },
     "execution_count": 49,
     "metadata": {},
     "output_type": "execute_result"
    }
   ],
   "source": [
    "test[test.numberOfDoors == 0]"
   ]
  },
  {
   "cell_type": "markdown",
   "id": "1fdfff3d",
   "metadata": {
    "ExecuteTime": {
     "end_time": "2022-04-11T10:57:34.350258Z",
     "start_time": "2022-04-11T10:57:34.309250Z"
    }
   },
   "source": [
    "Нет, это старый кабриолет. На самом деле кузов называется доппель фаэтон. \n",
    "![Древнее авто](https://media.ed.edmunds-media.com/mercedes-benz/ns/mercedes-benz_ns_112613_1600.jpg)"
   ]
  },
  {
   "cell_type": "markdown",
   "id": "53466ec3",
   "metadata": {},
   "source": [
    "### parsing_unixtime"
   ]
  },
  {
   "cell_type": "code",
   "execution_count": 50,
   "id": "6c30be43",
   "metadata": {
    "ExecuteTime": {
     "end_time": "2022-04-15T21:40:46.257704Z",
     "start_time": "2022-04-15T21:40:46.242701Z"
    }
   },
   "outputs": [
    {
     "data": {
      "text/plain": [
       "1603226273"
      ]
     },
     "execution_count": 50,
     "metadata": {},
     "output_type": "execute_result"
    }
   ],
   "source": [
    "test.parsing_unixtime[0]"
   ]
  },
  {
   "cell_type": "markdown",
   "id": "e80cf5c5",
   "metadata": {},
   "source": [
    "Судя по всему, в этом столбце находится дата парсинга в формате unixtime."
   ]
  },
  {
   "cell_type": "code",
   "execution_count": 51,
   "id": "dcc16da2",
   "metadata": {
    "ExecuteTime": {
     "end_time": "2022-04-15T21:40:46.321719Z",
     "start_time": "2022-04-15T21:40:46.258705Z"
    }
   },
   "outputs": [
    {
     "data": {
      "text/plain": [
       "Timedelta('6 days 23:29:18')"
      ]
     },
     "execution_count": 51,
     "metadata": {},
     "output_type": "execute_result"
    }
   ],
   "source": [
    "parsing_date = pd.Series(map(lambda x:dt.fromtimestamp(x),test.parsing_unixtime))\n",
    "\n",
    "parsing_date.max()-parsing_date.min()"
   ]
  },
  {
   "cell_type": "markdown",
   "id": "4f637e1c",
   "metadata": {},
   "source": [
    "Разница во времени парсинга - незначительная и состовляет 6 дней. За это время возраст авто не изменился, поэтому, можно использовать медианное значение времени для его вычисления. "
   ]
  },
  {
   "cell_type": "code",
   "execution_count": 52,
   "id": "847f52a7",
   "metadata": {
    "ExecuteTime": {
     "end_time": "2022-04-15T21:40:46.337722Z",
     "start_time": "2022-04-15T21:40:46.322719Z"
    }
   },
   "outputs": [
    {
     "data": {
      "text/plain": [
       "Timestamp('2020-10-21 07:22:13')"
      ]
     },
     "execution_count": 52,
     "metadata": {},
     "output_type": "execute_result"
    }
   ],
   "source": [
    "parsing_date.median()"
   ]
  },
  {
   "cell_type": "markdown",
   "id": "8459de4f",
   "metadata": {},
   "source": [
    "### priceCurrency"
   ]
  },
  {
   "cell_type": "code",
   "execution_count": 53,
   "id": "fefa26de",
   "metadata": {
    "ExecuteTime": {
     "end_time": "2022-04-15T21:40:46.353726Z",
     "start_time": "2022-04-15T21:40:46.338723Z"
    }
   },
   "outputs": [
    {
     "data": {
      "text/plain": [
       "27022    RUB\n",
       "14853    RUB\n",
       "23014    RUB\n",
       "10816    RUB\n",
       "33618    RUB\n",
       "Name: priceCurrency, dtype: object"
      ]
     },
     "execution_count": 53,
     "metadata": {},
     "output_type": "execute_result"
    }
   ],
   "source": [
    "test.priceCurrency.sample(5)"
   ]
  },
  {
   "cell_type": "code",
   "execution_count": 54,
   "id": "0a4baf22",
   "metadata": {
    "ExecuteTime": {
     "end_time": "2022-04-15T21:40:46.369729Z",
     "start_time": "2022-04-15T21:40:46.354726Z"
    }
   },
   "outputs": [
    {
     "data": {
      "text/plain": [
       "array(['RUB'], dtype=object)"
      ]
     },
     "execution_count": 54,
     "metadata": {},
     "output_type": "execute_result"
    }
   ],
   "source": [
    "test.priceCurrency.unique()"
   ]
  },
  {
   "cell_type": "code",
   "execution_count": 55,
   "id": "cd06471c",
   "metadata": {
    "ExecuteTime": {
     "end_time": "2022-04-15T21:40:46.385733Z",
     "start_time": "2022-04-15T21:40:46.370731Z"
    }
   },
   "outputs": [],
   "source": [
    "columna.to_drop('priceCurrency')"
   ]
  },
  {
   "cell_type": "markdown",
   "id": "944d86f7",
   "metadata": {},
   "source": [
    "В этом столбце представлена валюта, в которой указана цена автомобилей - это рубль. Нет смысла использовать найденную информацию о стоимости автомобилей в другой валюте. Этот столбец только что стал неинформативным. Удаляем."
   ]
  },
  {
   "cell_type": "markdown",
   "id": "abca0570",
   "metadata": {},
   "source": [
    "### productionDate"
   ]
  },
  {
   "cell_type": "code",
   "execution_count": 56,
   "id": "449bd8b9",
   "metadata": {
    "ExecuteTime": {
     "end_time": "2022-04-15T21:40:46.401736Z",
     "start_time": "2022-04-15T21:40:46.386733Z"
    }
   },
   "outputs": [
    {
     "data": {
      "text/plain": [
       "25306    2007\n",
       "25129    2012\n",
       "5200     1989\n",
       "1988     2011\n",
       "30897    2007\n",
       "Name: productionDate, dtype: int64"
      ]
     },
     "execution_count": 56,
     "metadata": {},
     "output_type": "execute_result"
    }
   ],
   "source": [
    "test.productionDate.sample(5)"
   ]
  },
  {
   "cell_type": "markdown",
   "id": "abaf8c37",
   "metadata": {},
   "source": [
    "Год выпуска автомобиля. Может быть весьма полезным, если связать его со временем парсинга или годом начала выпуска модели."
   ]
  },
  {
   "cell_type": "markdown",
   "id": "3df58486",
   "metadata": {},
   "source": [
    "### sell_id"
   ]
  },
  {
   "cell_type": "code",
   "execution_count": 57,
   "id": "50cf7196",
   "metadata": {
    "ExecuteTime": {
     "end_time": "2022-04-15T21:40:46.417740Z",
     "start_time": "2022-04-15T21:40:46.402739Z"
    }
   },
   "outputs": [
    {
     "data": {
      "text/plain": [
       "12519    1095714186\n",
       "28618    1100245532\n",
       "2747     1101203048\n",
       "27324    1101115476\n",
       "13023    1099186082\n",
       "Name: sell_id, dtype: int64"
      ]
     },
     "execution_count": 57,
     "metadata": {},
     "output_type": "execute_result"
    }
   ],
   "source": [
    "test.sell_id.sample(5)"
   ]
  },
  {
   "cell_type": "markdown",
   "id": "a7b6b2ee",
   "metadata": {},
   "source": [
    "По этому столбцу идентифицируется авто для предсказания.\n",
    "\n",
    "Просто id продажи. Можно было бы ворваться в базу данных auto.ru и стянуть данные о продажах чтобы узнать цены автомобилей в тесте и тем самым набрать максимальный балл из возможных. Но это не наш метод. Оставляем его для предсказаний"
   ]
  },
  {
   "cell_type": "markdown",
   "id": "bf365956",
   "metadata": {},
   "source": [
    "### super_gen"
   ]
  },
  {
   "cell_type": "code",
   "execution_count": 58,
   "id": "4a6539b8",
   "metadata": {
    "ExecuteTime": {
     "end_time": "2022-04-15T21:40:46.433743Z",
     "start_time": "2022-04-15T21:40:46.418742Z"
    }
   },
   "outputs": [
    {
     "data": {
      "text/plain": [
       "'{\"id\":\"10373605\",\"displacement\":1197,\"engine_type\":\"GASOLINE\",\"gear_type\":\"FORWARD_CONTROL\",\"transmission\":\"ROBOT\",\"power\":105,\"power_kvt\":77,\"human_name\":\"1.2 AMT (105 л.с.)\",\"acceleration\":10.5,\"clearance_min\":155,\"fuel_rate\":5}'"
      ]
     },
     "execution_count": 58,
     "metadata": {},
     "output_type": "execute_result"
    }
   ],
   "source": [
    "test.super_gen[0]"
   ]
  },
  {
   "cell_type": "markdown",
   "id": "cc4935bd",
   "metadata": {},
   "source": [
    "Это словарь с общими характеристиками автомобиля, не зависящими от бренда.\n",
    "\n",
    "| Ключ          | Значение              | Пояснение                                                                             |\n",
    "| ------------- | --------------------- | ------------------------------------------------------------------------------------- |\n",
    "| id            | 20228954              | неинформативный номер                                                                 |\n",
    "| displacement  | 1969                  | Рабочий объём двигателя в $см^2$                                                      |\n",
    "| engine_type   | GASOLINE              | Тип двигателя(топливо)                                                                |\n",
    "| gear_type     | ALL_WHEEL_DRIVE       | Тип привода                                                                           |\n",
    "| transmission  | AUTOMATIC             | Коробка передач                                                                       |\n",
    "| power         | 320                   | мощность двигателя в лошадиных силах                                                  |\n",
    "| power_kvt     | 235                   | мощность двигателя в киловаттах                                                        |\n",
    "| human_name    | 2.0 AT (320 л.с.) 4WD | Краткие обозначения объема двигателя, коробки передач, мощности и типа привода   |\n",
    "| acceleration  | 6.5                   | Время разгона до 100 км/ч                                           |\n",
    "| clearance_min | 237                   | Дорожный просвет в милиметрах |\n",
    "| fuel_rate     | 8                     | Расход топлива в литрах на 100 км                                                     |\n"
   ]
  },
  {
   "cell_type": "markdown",
   "id": "64586f28",
   "metadata": {},
   "source": [
    "Это полезный столбец с большим количеством признаков.  \n",
    "При необходимости можно будет извлечь из него значения, которых нет в датасете."
   ]
  },
  {
   "cell_type": "code",
   "execution_count": 59,
   "id": "ea819e61",
   "metadata": {
    "ExecuteTime": {
     "end_time": "2022-04-15T21:40:46.449747Z",
     "start_time": "2022-04-15T21:40:46.434744Z"
    }
   },
   "outputs": [
    {
     "data": {
      "text/plain": [
       "{'id': '10373605',\n",
       " 'displacement': 1197,\n",
       " 'engine_type': 'GASOLINE',\n",
       " 'gear_type': 'FORWARD_CONTROL',\n",
       " 'transmission': 'ROBOT',\n",
       " 'power': 105,\n",
       " 'power_kvt': 77,\n",
       " 'human_name': '1.2 AMT (105 л.с.)',\n",
       " 'acceleration': 10.5,\n",
       " 'clearance_min': 155,\n",
       " 'fuel_rate': 5}"
      ]
     },
     "execution_count": 59,
     "metadata": {},
     "output_type": "execute_result"
    }
   ],
   "source": [
    "import json\n",
    "json.loads(test.super_gen[0])"
   ]
  },
  {
   "cell_type": "code",
   "execution_count": 60,
   "id": "d80ed9ae",
   "metadata": {
    "ExecuteTime": {
     "end_time": "2022-04-15T21:40:46.465751Z",
     "start_time": "2022-04-15T21:40:46.450748Z"
    }
   },
   "outputs": [
    {
     "data": {
      "text/plain": [
       "'105 N12'"
      ]
     },
     "execution_count": 60,
     "metadata": {},
     "output_type": "execute_result"
    }
   ],
   "source": [
    "test.enginePower[0]"
   ]
  },
  {
   "cell_type": "markdown",
   "id": "13bbcdc2",
   "metadata": {},
   "source": [
    "Теперь известно, что enginePower содержит мощность двигателя в лошадиных силах!"
   ]
  },
  {
   "cell_type": "markdown",
   "id": "f23c6f8e",
   "metadata": {},
   "source": [
    "### vehicleConfiguration"
   ]
  },
  {
   "cell_type": "code",
   "execution_count": 61,
   "id": "b4f614d2",
   "metadata": {
    "ExecuteTime": {
     "end_time": "2022-04-15T21:40:46.481754Z",
     "start_time": "2022-04-15T21:40:46.466751Z"
    }
   },
   "outputs": [
    {
     "data": {
      "text/plain": [
       "32628     SEDAN AUTOMATIC 1.6\n",
       "4632     SEDAN MECHANICAL 2.3\n",
       "9529     CABRIO AUTOMATIC 3.0\n",
       "18644     SEDAN AUTOMATIC 4.7\n",
       "7249      SEDAN AUTOMATIC 2.5\n",
       "Name: vehicleConfiguration, dtype: object"
      ]
     },
     "execution_count": 61,
     "metadata": {},
     "output_type": "execute_result"
    }
   ],
   "source": [
    "test.vehicleConfiguration.sample(5)"
   ]
  },
  {
   "cell_type": "markdown",
   "id": "7fbfd306",
   "metadata": {},
   "source": [
    "Столбец, содержащий информацию о типе кузова автомобиля, типе трансмиссии  и объёме двигателя. Его можно удалить, т.к. он дублирует уже имеющуюся информацию."
   ]
  },
  {
   "cell_type": "code",
   "execution_count": 62,
   "id": "a76baaf1",
   "metadata": {
    "ExecuteTime": {
     "end_time": "2022-04-15T21:40:46.497758Z",
     "start_time": "2022-04-15T21:40:46.482756Z"
    }
   },
   "outputs": [],
   "source": [
    "columna.to_drop('vehicleConfiguration')"
   ]
  },
  {
   "cell_type": "markdown",
   "id": "ba3c3bee",
   "metadata": {},
   "source": [
    "### vehicleTransmission"
   ]
  },
  {
   "cell_type": "code",
   "execution_count": 63,
   "id": "b03a4bd0",
   "metadata": {
    "ExecuteTime": {
     "end_time": "2022-04-15T21:40:46.593779Z",
     "start_time": "2022-04-15T21:40:46.498758Z"
    }
   },
   "outputs": [
    {
     "data": {
      "image/png": "[encoded data removed]",
      "text/plain": [
       "<Figure size 432x288 with 1 Axes>"
      ]
     },
     "metadata": {
      "needs_background": "light"
     },
     "output_type": "display_data"
    }
   ],
   "source": [
    "show_value_counts(test.vehicleTransmission.value_counts());"
   ]
  },
  {
   "cell_type": "markdown",
   "id": "cfa73474",
   "metadata": {},
   "source": [
    "Колонка с типом трансмиссии. Неплохой признак. Осталось сравнить его с предыдущими словарями."
   ]
  },
  {
   "cell_type": "markdown",
   "id": "405b49b4",
   "metadata": {},
   "source": [
    "### vendor"
   ]
  },
  {
   "cell_type": "code",
   "execution_count": 64,
   "id": "f1c2bbe7",
   "metadata": {
    "ExecuteTime": {
     "end_time": "2022-04-15T21:40:46.609783Z",
     "start_time": "2022-04-15T21:40:46.594780Z"
    }
   },
   "outputs": [
    {
     "data": {
      "text/plain": [
       "EUROPEAN    20682\n",
       "JAPANESE    14004\n",
       "Name: vendor, dtype: int64"
      ]
     },
     "execution_count": 64,
     "metadata": {},
     "output_type": "execute_result"
    }
   ],
   "source": [
    "test.vendor.value_counts()"
   ]
  },
  {
   "cell_type": "markdown",
   "id": "d17c4ccc",
   "metadata": {},
   "source": [
    "Категориальный признак\n",
    "\n",
    "Происхождение бренда, имеет смысл расширить до конкретных стран.\n",
    "Полезен только в случае, когда модель не знает тестовой марки автомобиля."
   ]
  },
  {
   "cell_type": "markdown",
   "id": "a7676081",
   "metadata": {},
   "source": [
    "### Владельцы"
   ]
  },
  {
   "cell_type": "code",
   "execution_count": 65,
   "id": "27d1bc97",
   "metadata": {
    "ExecuteTime": {
     "end_time": "2022-04-15T21:40:46.705805Z",
     "start_time": "2022-04-15T21:40:46.610785Z"
    }
   },
   "outputs": [
    {
     "data": {
      "image/png": "[encoded data removed]",
      "text/plain": [
       "<Figure size 432x288 with 1 Axes>"
      ]
     },
     "metadata": {
      "needs_background": "light"
     },
     "output_type": "display_data"
    }
   ],
   "source": [
    "show_value_counts(test.Владельцы.value_counts());"
   ]
  },
  {
   "cell_type": "markdown",
   "id": "a868ca47",
   "metadata": {
    "ExecuteTime": {
     "end_time": "2022-04-08T15:05:41.751404Z",
     "start_time": "2022-04-08T15:05:41.738410Z"
    }
   },
   "source": [
    "Хороший категориальный признак но, все же, лучше превратить его в числовой."
   ]
  },
  {
   "cell_type": "markdown",
   "id": "3f439445",
   "metadata": {},
   "source": [
    "### Владение"
   ]
  },
  {
   "cell_type": "code",
   "execution_count": 66,
   "id": "c0bffbe4",
   "metadata": {
    "ExecuteTime": {
     "end_time": "2022-04-15T21:40:46.721808Z",
     "start_time": "2022-04-15T21:40:46.706806Z"
    }
   },
   "outputs": [
    {
     "name": "stdout",
     "output_type": "stream",
     "text": [
      "Заполненность данными: 0.3458167560399008\n"
     ]
    },
    {
     "data": {
      "text/plain": [
       "'3 года и 2 месяца'"
      ]
     },
     "execution_count": 66,
     "metadata": {},
     "output_type": "execute_result"
    }
   ],
   "source": [
    "isna= test.Владение.isna()\n",
    "print('Заполненность данными:',len(isna[isna == False])/len(isna))\n",
    "\n",
    "test.Владение.dropna().iloc[0]"
   ]
  },
  {
   "cell_type": "markdown",
   "id": "04c5a326",
   "metadata": {
    "ExecuteTime": {
     "end_time": "2022-04-07T08:46:57.285975Z",
     "start_time": "2022-04-07T08:46:57.276974Z"
    }
   },
   "source": [
    "Столбец заполнен на 35% \n",
    "\n",
    "Видно, что это строка, которая указывает период владения предположительно последнего владельца. Но это нужно проверить. \n",
    "\n",
    "Данных маловато. Но можно будет сделать из них бинарный признак, указал водитель период владения или нет. Однако, скорее всего, после проверки этот столбец не будет использоваться вовсе."
   ]
  },
  {
   "cell_type": "markdown",
   "id": "f5cbed2e",
   "metadata": {},
   "source": [
    "### ПТС"
   ]
  },
  {
   "cell_type": "code",
   "execution_count": 67,
   "id": "b2294605",
   "metadata": {
    "ExecuteTime": {
     "end_time": "2022-04-15T21:40:46.801826Z",
     "start_time": "2022-04-15T21:40:46.723809Z"
    }
   },
   "outputs": [
    {
     "data": {
      "image/png": "[encoded data removed]",
      "text/plain": [
       "<Figure size 432x288 with 1 Axes>"
      ]
     },
     "metadata": {
      "needs_background": "light"
     },
     "output_type": "display_data"
    }
   ],
   "source": [
    "show_value_counts(test.ПТС.value_counts());"
   ]
  },
  {
   "cell_type": "markdown",
   "id": "1f581ae6",
   "metadata": {},
   "source": [
    "Паспорт Транспортного Средства. По сути - паспорт автомобиля. Дубликат нужен в случае утери или если в оригинале закончились строки под количество владельцев авто. Признак можно оставить и посмотреть какое он оказывает влияние. "
   ]
  },
  {
   "cell_type": "markdown",
   "id": "f2c237b5",
   "metadata": {},
   "source": [
    "### Привод"
   ]
  },
  {
   "cell_type": "code",
   "execution_count": 68,
   "id": "aac115a9",
   "metadata": {
    "ExecuteTime": {
     "end_time": "2022-04-15T21:40:46.897848Z",
     "start_time": "2022-04-15T21:40:46.802829Z"
    }
   },
   "outputs": [
    {
     "data": {
      "image/png": "[encoded data removed]",
      "text/plain": [
       "<Figure size 432x288 with 1 Axes>"
      ]
     },
     "metadata": {
      "needs_background": "light"
     },
     "output_type": "display_data"
    }
   ],
   "source": [
    "show_value_counts(test.Привод.value_counts());"
   ]
  },
  {
   "cell_type": "markdown",
   "id": "76844084",
   "metadata": {},
   "source": [
    "Привод авто, три уникальных значения. Это важный признак."
   ]
  },
  {
   "cell_type": "markdown",
   "id": "61ba4f18",
   "metadata": {},
   "source": [
    "### Руль"
   ]
  },
  {
   "cell_type": "code",
   "execution_count": 69,
   "id": "8f0449c4",
   "metadata": {
    "ExecuteTime": {
     "end_time": "2022-04-15T21:40:46.977866Z",
     "start_time": "2022-04-15T21:40:46.898849Z"
    }
   },
   "outputs": [
    {
     "data": {
      "image/png": "[encoded data removed]",
      "text/plain": [
       "<Figure size 432x288 with 1 Axes>"
      ]
     },
     "metadata": {
      "needs_background": "light"
     },
     "output_type": "display_data"
    }
   ],
   "source": [
    "show_value_counts(test.Руль.value_counts());"
   ]
  },
  {
   "cell_type": "markdown",
   "id": "3ecd7b5d",
   "metadata": {},
   "source": [
    "Совсем немного праворульных автомобилей, что понятно, ведь машины продаются на российском рынке. Признак стоит оставить, он может быть маркером для модели."
   ]
  },
  {
   "cell_type": "markdown",
   "id": "8a6c752a",
   "metadata": {},
   "source": [
    "### Состояние"
   ]
  },
  {
   "cell_type": "code",
   "execution_count": 70,
   "id": "a06ffd1a",
   "metadata": {
    "ExecuteTime": {
     "end_time": "2022-04-15T21:40:46.993870Z",
     "start_time": "2022-04-15T21:40:46.978868Z"
    }
   },
   "outputs": [
    {
     "name": "stdout",
     "output_type": "stream",
     "text": [
      "['Не требует ремонта']\n"
     ]
    }
   ],
   "source": [
    "print(test.Состояние.unique())"
   ]
  },
  {
   "cell_type": "markdown",
   "id": "ef4443b7",
   "metadata": {},
   "source": [
    "Все машины не требуют ремонта. Это неинформативный признак. Столбец должен быть удалён."
   ]
  },
  {
   "cell_type": "code",
   "execution_count": 71,
   "id": "b7eca8a3",
   "metadata": {
    "ExecuteTime": {
     "end_time": "2022-04-15T21:40:47.009873Z",
     "start_time": "2022-04-15T21:40:46.994870Z"
    }
   },
   "outputs": [],
   "source": [
    "columna.to_drop('Состояние')"
   ]
  },
  {
   "cell_type": "markdown",
   "id": "1a2e24fe",
   "metadata": {},
   "source": [
    "### Таможня"
   ]
  },
  {
   "cell_type": "code",
   "execution_count": 72,
   "id": "71f281e0",
   "metadata": {
    "ExecuteTime": {
     "end_time": "2022-04-15T21:40:47.025877Z",
     "start_time": "2022-04-15T21:40:47.010875Z"
    }
   },
   "outputs": [
    {
     "name": "stdout",
     "output_type": "stream",
     "text": [
      "['Растаможен']\n"
     ]
    }
   ],
   "source": [
    "print(test.Таможня.unique())"
   ]
  },
  {
   "cell_type": "markdown",
   "id": "88fb9efd",
   "metadata": {},
   "source": [
    "Все автомобили растаможены. Этот признак также неинформативен. Столбец на удаление."
   ]
  },
  {
   "cell_type": "code",
   "execution_count": 73,
   "id": "a9e29b54",
   "metadata": {
    "ExecuteTime": {
     "end_time": "2022-04-15T21:40:47.041880Z",
     "start_time": "2022-04-15T21:40:47.026877Z"
    }
   },
   "outputs": [],
   "source": [
    "columna.to_drop('Таможня')"
   ]
  },
  {
   "cell_type": "markdown",
   "id": "0879d8c3",
   "metadata": {},
   "source": [
    "## Train\n",
    "\n",
    "Важно заметить, что мы не делали предобработку. Сначала нужно сравнить тестовый датасет с обучающим. Ведь некоторых данных для обучения может и не быть."
   ]
  },
  {
   "cell_type": "markdown",
   "id": "3b4e8433",
   "metadata": {},
   "source": [
    "### Пропуски и дубли"
   ]
  },
  {
   "cell_type": "code",
   "execution_count": 74,
   "id": "92e71dde",
   "metadata": {
    "ExecuteTime": {
     "end_time": "2022-04-15T21:40:49.510809Z",
     "start_time": "2022-04-15T21:40:47.042883Z"
    }
   },
   "outputs": [
    {
     "name": "stdout",
     "output_type": "stream",
     "text": [
      "Форма датасета до удаления дублей    (89378, 26)\n",
      "Форма датасета после удаления дублей (87264, 26)\n"
     ]
    },
    {
     "data": {
      "image/png": "[encoded data removed]",
      "text/plain": [
       "<Figure size 720x360 with 1 Axes>"
      ]
     },
     "metadata": {
      "needs_background": "light"
     },
     "output_type": "display_data"
    }
   ],
   "source": [
    "print('Форма датасета до удаления дублей   ',train.shape)\n",
    "train = train.drop_duplicates()\n",
    "print('Форма датасета после удаления дублей',train.shape)\n",
    "\n",
    "fig, ax = plt.subplots(figsize=(10,5))\n",
    "sns_heatmap = sns.heatmap(\n",
    "    train.isna(), yticklabels=False, cbar=False, cmap='viridis')"
   ]
  },
  {
   "cell_type": "markdown",
   "id": "c46c1dfe",
   "metadata": {},
   "source": [
    "В train было около 2000 дублей. Столбцы 'Состояние' и 'hidden' не содержат данных - их удаляем."
   ]
  },
  {
   "cell_type": "code",
   "execution_count": 75,
   "id": "79c028ef",
   "metadata": {
    "ExecuteTime": {
     "end_time": "2022-04-15T21:40:49.542826Z",
     "start_time": "2022-04-15T21:40:49.511810Z"
    }
   },
   "outputs": [
    {
     "data": {
      "text/html": [
       "<div>\n",
       "<style scoped>\n",
       "    .dataframe tbody tr th:only-of-type {\n",
       "        vertical-align: middle;\n",
       "    }\n",
       "\n",
       "    .dataframe tbody tr th {\n",
       "        vertical-align: top;\n",
       "    }\n",
       "\n",
       "    .dataframe thead th {\n",
       "        text-align: right;\n",
       "    }\n",
       "</style>\n",
       "<table border=\"1\" class=\"dataframe\">\n",
       "  <thead>\n",
       "    <tr style=\"text-align: right;\">\n",
       "      <th></th>\n",
       "      <th>bodyType</th>\n",
       "      <th>brand</th>\n",
       "      <th>color</th>\n",
       "      <th>fuelType</th>\n",
       "      <th>modelDate</th>\n",
       "      <th>name</th>\n",
       "      <th>numberOfDoors</th>\n",
       "      <th>productionDate</th>\n",
       "      <th>vehicleConfiguration</th>\n",
       "      <th>vehicleTransmission</th>\n",
       "      <th>...</th>\n",
       "      <th>Руль</th>\n",
       "      <th>Состояние</th>\n",
       "      <th>Владельцы</th>\n",
       "      <th>ПТС</th>\n",
       "      <th>Таможня</th>\n",
       "      <th>Владение</th>\n",
       "      <th>price</th>\n",
       "      <th>start_date</th>\n",
       "      <th>hidden</th>\n",
       "      <th>model</th>\n",
       "    </tr>\n",
       "  </thead>\n",
       "  <tbody>\n",
       "    <tr>\n",
       "      <th>639</th>\n",
       "      <td>Седан</td>\n",
       "      <td>AUDI</td>\n",
       "      <td>0000CC</td>\n",
       "      <td>бензин</td>\n",
       "      <td>2016.0</td>\n",
       "      <td>1.4 AMT (150 л.с.)</td>\n",
       "      <td>4.0</td>\n",
       "      <td>2020</td>\n",
       "      <td>SEDAN ROBOT 1.4</td>\n",
       "      <td>ROBOT</td>\n",
       "      <td>...</td>\n",
       "      <td>LEFT</td>\n",
       "      <td>NaN</td>\n",
       "      <td>NaN</td>\n",
       "      <td>NaN</td>\n",
       "      <td>True</td>\n",
       "      <td>NaN</td>\n",
       "      <td>2050000.0</td>\n",
       "      <td>2020-07-30T11:37:24Z</td>\n",
       "      <td>NaN</td>\n",
       "      <td>A3</td>\n",
       "    </tr>\n",
       "    <tr>\n",
       "      <th>1575</th>\n",
       "      <td>Седан</td>\n",
       "      <td>AUDI</td>\n",
       "      <td>CACECB</td>\n",
       "      <td>бензин</td>\n",
       "      <td>2018.0</td>\n",
       "      <td>40 TFSI 2.0 AMT (190 л.с.)</td>\n",
       "      <td>4.0</td>\n",
       "      <td>2020</td>\n",
       "      <td>SEDAN ROBOT 40</td>\n",
       "      <td>ROBOT</td>\n",
       "      <td>...</td>\n",
       "      <td>LEFT</td>\n",
       "      <td>NaN</td>\n",
       "      <td>NaN</td>\n",
       "      <td>NaN</td>\n",
       "      <td>True</td>\n",
       "      <td>NaN</td>\n",
       "      <td>3089848.0</td>\n",
       "      <td>2020-07-08T09:48:09Z</td>\n",
       "      <td>NaN</td>\n",
       "      <td>A6</td>\n",
       "    </tr>\n",
       "    <tr>\n",
       "      <th>1579</th>\n",
       "      <td>Седан</td>\n",
       "      <td>AUDI</td>\n",
       "      <td>040001</td>\n",
       "      <td>бензин</td>\n",
       "      <td>2018.0</td>\n",
       "      <td>40 TFSI 2.0 AMT (190 л.с.)</td>\n",
       "      <td>4.0</td>\n",
       "      <td>2020</td>\n",
       "      <td>SEDAN ROBOT 40</td>\n",
       "      <td>ROBOT</td>\n",
       "      <td>...</td>\n",
       "      <td>LEFT</td>\n",
       "      <td>NaN</td>\n",
       "      <td>NaN</td>\n",
       "      <td>NaN</td>\n",
       "      <td>True</td>\n",
       "      <td>NaN</td>\n",
       "      <td>3089848.0</td>\n",
       "      <td>2020-05-08T08:20:30Z</td>\n",
       "      <td>NaN</td>\n",
       "      <td>A6</td>\n",
       "    </tr>\n",
       "    <tr>\n",
       "      <th>1590</th>\n",
       "      <td>Седан</td>\n",
       "      <td>AUDI</td>\n",
       "      <td>FAFBFB</td>\n",
       "      <td>бензин</td>\n",
       "      <td>2018.0</td>\n",
       "      <td>40 TFSI 2.0 AMT (190 л.с.)</td>\n",
       "      <td>4.0</td>\n",
       "      <td>2020</td>\n",
       "      <td>SEDAN ROBOT 40</td>\n",
       "      <td>ROBOT</td>\n",
       "      <td>...</td>\n",
       "      <td>LEFT</td>\n",
       "      <td>NaN</td>\n",
       "      <td>NaN</td>\n",
       "      <td>NaN</td>\n",
       "      <td>True</td>\n",
       "      <td>NaN</td>\n",
       "      <td>3089848.0</td>\n",
       "      <td>2020-07-08T09:48:09Z</td>\n",
       "      <td>NaN</td>\n",
       "      <td>A6</td>\n",
       "    </tr>\n",
       "    <tr>\n",
       "      <th>2273</th>\n",
       "      <td>Седан</td>\n",
       "      <td>AUDI</td>\n",
       "      <td>040001</td>\n",
       "      <td>бензин</td>\n",
       "      <td>2018.0</td>\n",
       "      <td>45 TFSI 2.0 AMT (245 л.с.) 4WD</td>\n",
       "      <td>4.0</td>\n",
       "      <td>2020</td>\n",
       "      <td>SEDAN ROBOT 45</td>\n",
       "      <td>ROBOT</td>\n",
       "      <td>...</td>\n",
       "      <td>LEFT</td>\n",
       "      <td>NaN</td>\n",
       "      <td>NaN</td>\n",
       "      <td>NaN</td>\n",
       "      <td>True</td>\n",
       "      <td>NaN</td>\n",
       "      <td>4435000.0</td>\n",
       "      <td>2020-07-25T17:47:55Z</td>\n",
       "      <td>NaN</td>\n",
       "      <td>A6</td>\n",
       "    </tr>\n",
       "    <tr>\n",
       "      <th>...</th>\n",
       "      <td>...</td>\n",
       "      <td>...</td>\n",
       "      <td>...</td>\n",
       "      <td>...</td>\n",
       "      <td>...</td>\n",
       "      <td>...</td>\n",
       "      <td>...</td>\n",
       "      <td>...</td>\n",
       "      <td>...</td>\n",
       "      <td>...</td>\n",
       "      <td>...</td>\n",
       "      <td>...</td>\n",
       "      <td>...</td>\n",
       "      <td>...</td>\n",
       "      <td>...</td>\n",
       "      <td>...</td>\n",
       "      <td>...</td>\n",
       "      <td>...</td>\n",
       "      <td>...</td>\n",
       "      <td>...</td>\n",
       "      <td>...</td>\n",
       "    </tr>\n",
       "    <tr>\n",
       "      <th>85923</th>\n",
       "      <td>Внедорожник 5 дв.</td>\n",
       "      <td>MERCEDES</td>\n",
       "      <td>040001</td>\n",
       "      <td>бензин</td>\n",
       "      <td>2015.0</td>\n",
       "      <td>63 AMG 5.5 AT (558 л.с.) 4WD</td>\n",
       "      <td>5.0</td>\n",
       "      <td>2019</td>\n",
       "      <td>ALLROAD_5_DOORS AUTOMATIC 63</td>\n",
       "      <td>AUTOMATIC</td>\n",
       "      <td>...</td>\n",
       "      <td>LEFT</td>\n",
       "      <td>NaN</td>\n",
       "      <td>NaN</td>\n",
       "      <td>NaN</td>\n",
       "      <td>True</td>\n",
       "      <td>NaN</td>\n",
       "      <td>7452000.0</td>\n",
       "      <td>2020-08-30T12:37:57Z</td>\n",
       "      <td>NaN</td>\n",
       "      <td>GLE_KLASSE_COUPE_AMG</td>\n",
       "    </tr>\n",
       "    <tr>\n",
       "      <th>85926</th>\n",
       "      <td>Внедорожник 5 дв.</td>\n",
       "      <td>MERCEDES</td>\n",
       "      <td>FAFBFB</td>\n",
       "      <td>бензин</td>\n",
       "      <td>2015.0</td>\n",
       "      <td>63 AMG S 5.5 AT (585 л.с.) 4WD</td>\n",
       "      <td>5.0</td>\n",
       "      <td>2018</td>\n",
       "      <td>ALLROAD_5_DOORS AUTOMATIC 63</td>\n",
       "      <td>AUTOMATIC</td>\n",
       "      <td>...</td>\n",
       "      <td>LEFT</td>\n",
       "      <td>NaN</td>\n",
       "      <td>NaN</td>\n",
       "      <td>NaN</td>\n",
       "      <td>True</td>\n",
       "      <td>NaN</td>\n",
       "      <td>7850000.0</td>\n",
       "      <td>2020-07-31T14:54:37Z</td>\n",
       "      <td>NaN</td>\n",
       "      <td>GLE_KLASSE_COUPE_AMG</td>\n",
       "    </tr>\n",
       "    <tr>\n",
       "      <th>86844</th>\n",
       "      <td>Внедорожник 5 дв.</td>\n",
       "      <td>MERCEDES</td>\n",
       "      <td>040001</td>\n",
       "      <td>бензин</td>\n",
       "      <td>2019.0</td>\n",
       "      <td>600 4.0 AT (558 л.с.) 4WD</td>\n",
       "      <td>5.0</td>\n",
       "      <td>2020</td>\n",
       "      <td>ALLROAD_5_DOORS AUTOMATIC 600</td>\n",
       "      <td>AUTOMATIC</td>\n",
       "      <td>...</td>\n",
       "      <td>LEFT</td>\n",
       "      <td>NaN</td>\n",
       "      <td>NaN</td>\n",
       "      <td>NaN</td>\n",
       "      <td>True</td>\n",
       "      <td>NaN</td>\n",
       "      <td>23302000.0</td>\n",
       "      <td>2020-09-02T11:03:26Z</td>\n",
       "      <td>NaN</td>\n",
       "      <td>MAYBACH_GLS</td>\n",
       "    </tr>\n",
       "    <tr>\n",
       "      <th>87954</th>\n",
       "      <td>Седан Long</td>\n",
       "      <td>MERCEDES</td>\n",
       "      <td>040001</td>\n",
       "      <td>дизель</td>\n",
       "      <td>2017.0</td>\n",
       "      <td>350 d Long 2.9d AT (249 л.с.) 4WD</td>\n",
       "      <td>4.0</td>\n",
       "      <td>2019</td>\n",
       "      <td>SEDAN AUTOMATIC 350</td>\n",
       "      <td>AUTOMATIC</td>\n",
       "      <td>...</td>\n",
       "      <td>LEFT</td>\n",
       "      <td>NaN</td>\n",
       "      <td>NaN</td>\n",
       "      <td>NaN</td>\n",
       "      <td>True</td>\n",
       "      <td>NaN</td>\n",
       "      <td>7590000.0</td>\n",
       "      <td>2020-08-28T07:57:20Z</td>\n",
       "      <td>NaN</td>\n",
       "      <td>S_KLASSE</td>\n",
       "    </tr>\n",
       "    <tr>\n",
       "      <th>88170</th>\n",
       "      <td>Минивэн L</td>\n",
       "      <td>MERCEDES</td>\n",
       "      <td>0000CC</td>\n",
       "      <td>дизель</td>\n",
       "      <td>2014.0</td>\n",
       "      <td>250 d длинный 2.1d AT (190 л.с.) 4WD</td>\n",
       "      <td>5.0</td>\n",
       "      <td>2019</td>\n",
       "      <td>MINIVAN AUTOMATIC 250</td>\n",
       "      <td>AUTOMATIC</td>\n",
       "      <td>...</td>\n",
       "      <td>LEFT</td>\n",
       "      <td>NaN</td>\n",
       "      <td>NaN</td>\n",
       "      <td>NaN</td>\n",
       "      <td>True</td>\n",
       "      <td>NaN</td>\n",
       "      <td>12990000.0</td>\n",
       "      <td>2020-05-29T12:49:19Z</td>\n",
       "      <td>NaN</td>\n",
       "      <td>V_KLASSE</td>\n",
       "    </tr>\n",
       "  </tbody>\n",
       "</table>\n",
       "<p>357 rows × 26 columns</p>\n",
       "</div>"
      ],
      "text/plain": [
       "                bodyType     brand   color fuelType  modelDate  \\\n",
       "639                Седан      AUDI  0000CC   бензин     2016.0   \n",
       "1575               Седан      AUDI  CACECB   бензин     2018.0   \n",
       "1579               Седан      AUDI  040001   бензин     2018.0   \n",
       "1590               Седан      AUDI  FAFBFB   бензин     2018.0   \n",
       "2273               Седан      AUDI  040001   бензин     2018.0   \n",
       "...                  ...       ...     ...      ...        ...   \n",
       "85923  Внедорожник 5 дв.  MERCEDES  040001   бензин     2015.0   \n",
       "85926  Внедорожник 5 дв.  MERCEDES  FAFBFB   бензин     2015.0   \n",
       "86844  Внедорожник 5 дв.  MERCEDES  040001   бензин     2019.0   \n",
       "87954         Седан Long  MERCEDES  040001   дизель     2017.0   \n",
       "88170          Минивэн L  MERCEDES  0000CC   дизель     2014.0   \n",
       "\n",
       "                                       name  numberOfDoors  productionDate  \\\n",
       "639                      1.4 AMT (150 л.с.)            4.0            2020   \n",
       "1575             40 TFSI 2.0 AMT (190 л.с.)            4.0            2020   \n",
       "1579             40 TFSI 2.0 AMT (190 л.с.)            4.0            2020   \n",
       "1590             40 TFSI 2.0 AMT (190 л.с.)            4.0            2020   \n",
       "2273         45 TFSI 2.0 AMT (245 л.с.) 4WD            4.0            2020   \n",
       "...                                     ...            ...             ...   \n",
       "85923          63 AMG 5.5 AT (558 л.с.) 4WD            5.0            2019   \n",
       "85926        63 AMG S 5.5 AT (585 л.с.) 4WD            5.0            2018   \n",
       "86844             600 4.0 AT (558 л.с.) 4WD            5.0            2020   \n",
       "87954     350 d Long 2.9d AT (249 л.с.) 4WD            4.0            2019   \n",
       "88170  250 d длинный 2.1d AT (190 л.с.) 4WD            5.0            2019   \n",
       "\n",
       "                vehicleConfiguration vehicleTransmission  ...  Руль  \\\n",
       "639                  SEDAN ROBOT 1.4               ROBOT  ...  LEFT   \n",
       "1575                  SEDAN ROBOT 40               ROBOT  ...  LEFT   \n",
       "1579                  SEDAN ROBOT 40               ROBOT  ...  LEFT   \n",
       "1590                  SEDAN ROBOT 40               ROBOT  ...  LEFT   \n",
       "2273                  SEDAN ROBOT 45               ROBOT  ...  LEFT   \n",
       "...                              ...                 ...  ...   ...   \n",
       "85923   ALLROAD_5_DOORS AUTOMATIC 63           AUTOMATIC  ...  LEFT   \n",
       "85926   ALLROAD_5_DOORS AUTOMATIC 63           AUTOMATIC  ...  LEFT   \n",
       "86844  ALLROAD_5_DOORS AUTOMATIC 600           AUTOMATIC  ...  LEFT   \n",
       "87954            SEDAN AUTOMATIC 350           AUTOMATIC  ...  LEFT   \n",
       "88170          MINIVAN AUTOMATIC 250           AUTOMATIC  ...  LEFT   \n",
       "\n",
       "       Состояние Владельцы  ПТС Таможня Владение       price  \\\n",
       "639          NaN       NaN  NaN    True      NaN   2050000.0   \n",
       "1575         NaN       NaN  NaN    True      NaN   3089848.0   \n",
       "1579         NaN       NaN  NaN    True      NaN   3089848.0   \n",
       "1590         NaN       NaN  NaN    True      NaN   3089848.0   \n",
       "2273         NaN       NaN  NaN    True      NaN   4435000.0   \n",
       "...          ...       ...  ...     ...      ...         ...   \n",
       "85923        NaN       NaN  NaN    True      NaN   7452000.0   \n",
       "85926        NaN       NaN  NaN    True      NaN   7850000.0   \n",
       "86844        NaN       NaN  NaN    True      NaN  23302000.0   \n",
       "87954        NaN       NaN  NaN    True      NaN   7590000.0   \n",
       "88170        NaN       NaN  NaN    True      NaN  12990000.0   \n",
       "\n",
       "                 start_date  hidden                 model  \n",
       "639    2020-07-30T11:37:24Z     NaN                    A3  \n",
       "1575   2020-07-08T09:48:09Z     NaN                    A6  \n",
       "1579   2020-05-08T08:20:30Z     NaN                    A6  \n",
       "1590   2020-07-08T09:48:09Z     NaN                    A6  \n",
       "2273   2020-07-25T17:47:55Z     NaN                    A6  \n",
       "...                     ...     ...                   ...  \n",
       "85923  2020-08-30T12:37:57Z     NaN  GLE_KLASSE_COUPE_AMG  \n",
       "85926  2020-07-31T14:54:37Z     NaN  GLE_KLASSE_COUPE_AMG  \n",
       "86844  2020-09-02T11:03:26Z     NaN           MAYBACH_GLS  \n",
       "87954  2020-08-28T07:57:20Z     NaN              S_KLASSE  \n",
       "88170  2020-05-29T12:49:19Z     NaN              V_KLASSE  \n",
       "\n",
       "[357 rows x 26 columns]"
      ]
     },
     "execution_count": 75,
     "metadata": {},
     "output_type": "execute_result"
    }
   ],
   "source": [
    "train[train.ПТС.isna()]"
   ]
  },
  {
   "cell_type": "code",
   "execution_count": 76,
   "id": "e9a9102d",
   "metadata": {
    "ExecuteTime": {
     "end_time": "2022-04-15T21:40:49.558820Z",
     "start_time": "2022-04-15T21:40:49.543817Z"
    }
   },
   "outputs": [],
   "source": [
    "columna.to_drop('hidden')\n",
    "columna.to_drop('Состояние')"
   ]
  },
  {
   "cell_type": "markdown",
   "id": "ef69ebf1",
   "metadata": {},
   "source": [
    "#### Владение"
   ]
  },
  {
   "cell_type": "code",
   "execution_count": 77,
   "id": "04589f0d",
   "metadata": {
    "ExecuteTime": {
     "end_time": "2022-04-15T21:40:49.574824Z",
     "start_time": "2022-04-15T21:40:49.559820Z"
    }
   },
   "outputs": [
    {
     "name": "stdout",
     "output_type": "stream",
     "text": [
      "Заполненность данными: 0.33225614228089473\n"
     ]
    }
   ],
   "source": [
    "isna= train.Владение.isna()\n",
    "print('Заполненность данными:',len(isna[isna == False])/len(isna))"
   ]
  },
  {
   "cell_type": "markdown",
   "id": "59100429",
   "metadata": {},
   "source": [
    "Данных в таблице всего 33%, что близко к аналогичному столбцу в тестовом датасете.   \n",
    "Формируем категориальные признаки по типу: не укзазано, до года, до трех лет, до 6 лет, больше 6 лет."
   ]
  },
  {
   "cell_type": "markdown",
   "id": "d9889716",
   "metadata": {},
   "source": [
    "#### Владельцы"
   ]
  },
  {
   "cell_type": "code",
   "execution_count": 78,
   "id": "aaa3d050",
   "metadata": {
    "ExecuteTime": {
     "end_time": "2022-04-15T21:40:49.670845Z",
     "start_time": "2022-04-15T21:40:49.575825Z"
    }
   },
   "outputs": [
    {
     "name": "stdout",
     "output_type": "stream",
     "text": [
      "Заполненность данными: 0.862291437477081\n"
     ]
    },
    {
     "data": {
      "image/png": "[encoded data removed]",
      "text/plain": [
       "<Figure size 432x288 with 1 Axes>"
      ]
     },
     "metadata": {
      "needs_background": "light"
     },
     "output_type": "display_data"
    }
   ],
   "source": [
    "isna= train.Владельцы.isna()\n",
    "print('Заполненность данными:',len(isna[isna == False])/len(isna))\n",
    "\n",
    "show_value_counts(train.Владельцы.value_counts(), reverse=True);"
   ]
  },
  {
   "cell_type": "markdown",
   "id": "bcc31522",
   "metadata": {},
   "source": [
    "Хороший числовой признак, уже обработанный.\n",
    "\n",
    "Посмотрим на пропуски, в них кол-во владельцев может быть связано с пробегом и годом выпуска автомобиля. Выведем датасет с пропусками в столбце 'Владельцы' и посмотрим, какой пробег у таких автомобилей."
   ]
  },
  {
   "cell_type": "code",
   "execution_count": 79,
   "id": "63d1d702",
   "metadata": {
    "ExecuteTime": {
     "end_time": "2022-04-15T21:40:49.750863Z",
     "start_time": "2022-04-15T21:40:49.671845Z"
    }
   },
   "outputs": [
    {
     "data": {
      "image/png": "[encoded data removed]",
      "text/plain": [
       "<Figure size 432x288 with 1 Axes>"
      ]
     },
     "metadata": {
      "needs_background": "light"
     },
     "output_type": "display_data"
    }
   ],
   "source": [
    "show_value_counts(train[train['Владельцы'].isna()].mileage.value_counts(),\n",
    "                 reverse=True);"
   ]
  },
  {
   "cell_type": "markdown",
   "id": "45968698",
   "metadata": {},
   "source": [
    "У этих автомобилей нулевой пробег. Значит они новые и у них просто не должно быть владельцев! \n",
    "\n",
    "Но лучше проверить год выпуска:"
   ]
  },
  {
   "cell_type": "markdown",
   "id": "b7dea8d7",
   "metadata": {},
   "source": [
    "Да, большинство автомобилей весьма свежие, видимо их в самом деле ещё не успели продать. Важно помнить, что датасет собран в 2020 году."
   ]
  },
  {
   "cell_type": "markdown",
   "id": "7504d02b",
   "metadata": {},
   "source": [
    "#### ПТС"
   ]
  },
  {
   "cell_type": "code",
   "execution_count": 80,
   "id": "2e777fae",
   "metadata": {
    "ExecuteTime": {
     "end_time": "2022-04-15T21:40:49.766867Z",
     "start_time": "2022-04-15T21:40:49.751864Z"
    }
   },
   "outputs": [
    {
     "name": "stdout",
     "output_type": "stream",
     "text": [
      "Заполненность данными: 0.9959089658965896\n"
     ]
    }
   ],
   "source": [
    "na_ratio(train.ПТС.isna())"
   ]
  },
  {
   "cell_type": "markdown",
   "id": "7934954e",
   "metadata": {},
   "source": [
    "Поскольку порядочный гражданини не будет покупать машину без ПТС, а популярная площадка по продаже авто не будет продавать такие авто, то ПТС просто должен быть! По [этому](https://avilon.ru/articles/pts-avtomobilya/) источнику салоны на все новые авто оформляют ПТС.\n",
    "\n",
    "Возможно, машины новые"
   ]
  },
  {
   "cell_type": "code",
   "execution_count": 81,
   "id": "032d1605",
   "metadata": {
    "ExecuteTime": {
     "end_time": "2022-04-15T21:40:49.782870Z",
     "start_time": "2022-04-15T21:40:49.767867Z"
    }
   },
   "outputs": [
    {
     "name": "stdout",
     "output_type": "stream",
     "text": [
      "[0]\n"
     ]
    }
   ],
   "source": [
    "print(train[train.ПТС.isna()].mileage.unique()) # уникальные значения пробега этих авто"
   ]
  },
  {
   "cell_type": "markdown",
   "id": "d0b8baae",
   "metadata": {},
   "source": [
    "И правда, новые. Наметилась тенденция пропусков. Выведу визуализацию пропусков в датасете, где не укзан ПТС:"
   ]
  },
  {
   "cell_type": "code",
   "execution_count": 82,
   "id": "4ba64ebb",
   "metadata": {
    "ExecuteTime": {
     "end_time": "2022-04-15T21:40:49.973914Z",
     "start_time": "2022-04-15T21:40:49.793875Z"
    }
   },
   "outputs": [
    {
     "data": {
      "image/png": "[encoded data removed]",
      "text/plain": [
       "<Figure size 720x360 with 1 Axes>"
      ]
     },
     "metadata": {
      "needs_background": "light"
     },
     "output_type": "display_data"
    }
   ],
   "source": [
    "fig, ax = plt.subplots(figsize=(10,5))\n",
    "sns_heatmap = sns.heatmap(\n",
    "    train[train.ПТС.isna()].isnull(), yticklabels=False, cbar=False, cmap='viridis')"
   ]
  },
  {
   "cell_type": "markdown",
   "id": "28b4dc98",
   "metadata": {},
   "source": [
    "Красота! Все стало куда понятнее. Пропуск в ПТС можно заменить указанием, что паспорт оригинальный"
   ]
  },
  {
   "cell_type": "markdown",
   "id": "c68ea14f",
   "metadata": {},
   "source": [
    "#### Резюмируя: \n",
    "Пропуски в столбцах 'Владельцы', 'Владение' и 'ПТС' имеют один и тот же характер. Их закономерность - случай, когда машина новая\n",
    "\n",
    "#upgrade Сделать вывод и указать в столбцах случай, когда владельцев - 0."
   ]
  },
  {
   "cell_type": "code",
   "execution_count": 83,
   "id": "57ca14cd",
   "metadata": {
    "ExecuteTime": {
     "end_time": "2022-04-15T21:40:49.989918Z",
     "start_time": "2022-04-15T21:40:49.974914Z"
    }
   },
   "outputs": [
    {
     "data": {
      "text/plain": [
       "0"
      ]
     },
     "execution_count": 83,
     "metadata": {},
     "output_type": "execute_result"
    }
   ],
   "source": [
    "len(test[test.mileage==0]) "
   ]
  },
  {
   "cell_type": "markdown",
   "id": "e3f4e186",
   "metadata": {},
   "source": [
    "###  Сравнение датасетов\n",
    "\n",
    "Датасеты были спаршены с одного сайта, это облегчает работу. \n",
    "\n",
    "#upgrade вывести сравнение в виде барплотов"
   ]
  },
  {
   "cell_type": "code",
   "execution_count": 84,
   "id": "849cba5a",
   "metadata": {
    "ExecuteTime": {
     "end_time": "2022-04-15T21:40:50.005921Z",
     "start_time": "2022-04-15T21:40:49.990917Z"
    },
    "scrolled": false
   },
   "outputs": [
    {
     "data": {
      "text/plain": [
       "['numberOfDoors',\n",
       " 'color',\n",
       " 'Руль',\n",
       " 'Владельцы',\n",
       " 'Владение',\n",
       " 'Таможня',\n",
       " 'modelDate',\n",
       " 'brand',\n",
       " 'description',\n",
       " 'productionDate',\n",
       " 'Состояние',\n",
       " 'bodyType',\n",
       " 'fuelType',\n",
       " 'engineDisplacement',\n",
       " 'enginePower',\n",
       " 'Привод',\n",
       " 'mileage',\n",
       " 'ПТС',\n",
       " 'vehicleConfiguration',\n",
       " 'name',\n",
       " 'vehicleTransmission']"
      ]
     },
     "metadata": {},
     "output_type": "display_data"
    },
    {
     "name": "stdout",
     "output_type": "stream",
     "text": [
      "\n",
      "21 - Количество общих столбцов. Вероятно, они одного формата\n"
     ]
    }
   ],
   "source": [
    "union_data_columns = list(set(train) & set(test))\n",
    "display(union_data_columns)\n",
    "print()\n",
    "print(len(union_data_columns),'- Количество общих столбцов. Вероятно, они одного формата')"
   ]
  },
  {
   "cell_type": "markdown",
   "id": "7248b269",
   "metadata": {},
   "source": [
    "Выведу несовпавшие столбцы."
   ]
  },
  {
   "cell_type": "code",
   "execution_count": 85,
   "id": "b06101c5",
   "metadata": {
    "ExecuteTime": {
     "end_time": "2022-04-15T21:40:50.021925Z",
     "start_time": "2022-04-15T21:40:50.006921Z"
    }
   },
   "outputs": [
    {
     "data": {
      "text/plain": [
       "['Комплектация',\n",
       " 'hidden',\n",
       " 'car_url',\n",
       " 'model_info',\n",
       " 'complectation_dict',\n",
       " 'equipment_dict',\n",
       " 'model_name',\n",
       " 'model',\n",
       " 'price',\n",
       " 'start_date',\n",
       " 'sell_id',\n",
       " 'super_gen',\n",
       " 'image',\n",
       " 'vendor',\n",
       " 'parsing_unixtime',\n",
       " 'priceCurrency']"
      ]
     },
     "metadata": {},
     "output_type": "display_data"
    },
    {
     "name": "stdout",
     "output_type": "stream",
     "text": [
      "16 - Количество несовпадающих столбцов\n"
     ]
    }
   ],
   "source": [
    "diff_col_names = list(set(test.columns) ^ set(train.columns))\n",
    "display(diff_col_names)\n",
    "print(len(diff_col_names),'- Количество несовпадающих столбцов')"
   ]
  },
  {
   "cell_type": "markdown",
   "id": "c178728a",
   "metadata": {},
   "source": [
    "Для разбора несовпавших столбцов используем специальный класс."
   ]
  },
  {
   "cell_type": "code",
   "execution_count": 86,
   "id": "a0469cae",
   "metadata": {
    "ExecuteTime": {
     "end_time": "2022-04-15T21:40:50.037928Z",
     "start_time": "2022-04-15T21:40:50.022926Z"
    }
   },
   "outputs": [
    {
     "data": {
      "text/plain": [
       "['car_url',\n",
       " 'sell_id',\n",
       " 'model_info',\n",
       " 'super_gen',\n",
       " 'complectation_dict',\n",
       " 'image',\n",
       " 'equipment_dict',\n",
       " 'vendor',\n",
       " 'parsing_unixtime',\n",
       " 'model_name',\n",
       " 'priceCurrency']"
      ]
     },
     "metadata": {},
     "output_type": "display_data"
    },
    {
     "data": {
      "text/plain": [
       "['hidden', 'price', 'Комплектация', 'start_date', 'model']"
      ]
     },
     "metadata": {},
     "output_type": "display_data"
    }
   ],
   "source": [
    "columna.show()"
   ]
  },
  {
   "cell_type": "markdown",
   "id": "176cbab3",
   "metadata": {},
   "source": [
    "Но часть столбцов уже отфильтрованна - избавимся от лишнего."
   ]
  },
  {
   "cell_type": "code",
   "execution_count": 87,
   "id": "cae0065d",
   "metadata": {
    "ExecuteTime": {
     "end_time": "2022-04-15T21:40:50.053932Z",
     "start_time": "2022-04-15T21:40:50.038928Z"
    }
   },
   "outputs": [
    {
     "name": "stdout",
     "output_type": "stream",
     "text": [
      "Столбец vehicleConfiguration уже удалён!\n",
      "Столбец Состояние уже удалён!\n",
      "Столбец Таможня уже удалён!\n",
      "Столбец vehicleConfiguration уже удалён!\n",
      "Столбец Состояние уже удалён!\n",
      "Столбец Таможня уже удалён!\n"
     ]
    }
   ],
   "source": [
    "for column in columna.drop_dict['test'] + columna.drop_dict['train']:\n",
    "    columna.delc(column)"
   ]
  },
  {
   "cell_type": "code",
   "execution_count": 88,
   "id": "15121639",
   "metadata": {
    "ExecuteTime": {
     "end_time": "2022-04-15T21:40:50.069935Z",
     "start_time": "2022-04-15T21:40:50.054932Z"
    }
   },
   "outputs": [
    {
     "data": {
      "text/plain": [
       "['car_url',\n",
       " 'sell_id',\n",
       " 'super_gen',\n",
       " 'equipment_dict',\n",
       " 'vendor',\n",
       " 'parsing_unixtime',\n",
       " 'model_name']"
      ]
     },
     "metadata": {},
     "output_type": "display_data"
    },
    {
     "data": {
      "text/plain": [
       "['price', 'Комплектация', 'start_date', 'model']"
      ]
     },
     "metadata": {},
     "output_type": "display_data"
    }
   ],
   "source": [
    "columna.show()"
   ]
  },
  {
   "cell_type": "markdown",
   "id": "34afbbdd",
   "metadata": {
    "ExecuteTime": {
     "end_time": "2022-04-11T06:53:55.895903Z",
     "start_time": "2022-04-11T06:53:55.890903Z"
    }
   },
   "source": [
    "Вот, осталось обработать совсем немного"
   ]
  },
  {
   "cell_type": "markdown",
   "id": "9aa564ff",
   "metadata": {},
   "source": [
    "#### model"
   ]
  },
  {
   "cell_type": "code",
   "execution_count": 89,
   "id": "01d95a2e",
   "metadata": {
    "ExecuteTime": {
     "end_time": "2022-04-15T21:40:50.085938Z",
     "start_time": "2022-04-15T21:40:50.070938Z"
    }
   },
   "outputs": [
    {
     "name": "stdout",
     "output_type": "stream",
     "text": [
      "test - model_name\n",
      "---------------------\n",
      "1767           OCTAVIA\n",
      "24805             POLO\n",
      "8391              X5_M\n",
      "20480    COROLLA_VERSO\n",
      "19166            YARIS\n",
      "Name: model_name, dtype: object\n",
      "\n",
      "train - model\n",
      "---------------------\n",
      "65027    CAMRY\n",
      "62754     YETI\n",
      "41887    COUPE\n",
      "64968    CAMRY\n",
      "26504     GETZ\n",
      "Name: model, dtype: object\n",
      "\n"
     ]
    }
   ],
   "source": [
    "#upgrade вывести сравнения в одну строчку\n",
    "\n",
    "print('test - model_name')\n",
    "print('---------------------')\n",
    "print(test.model_name.sample(5))\n",
    "print()\n",
    "\n",
    "print('train - model')\n",
    "print('---------------------')\n",
    "print(train.model.sample(5))\n",
    "print()"
   ]
  },
  {
   "cell_type": "markdown",
   "id": "d7b7ea46",
   "metadata": {},
   "source": [
    "model в train - это model_name в test. А также названия моделей - им нужно будет указать одинаковое имя."
   ]
  },
  {
   "cell_type": "code",
   "execution_count": 90,
   "id": "086359fa",
   "metadata": {
    "ExecuteTime": {
     "end_time": "2022-04-15T21:40:50.101942Z",
     "start_time": "2022-04-15T21:40:50.086942Z"
    }
   },
   "outputs": [],
   "source": [
    "#prep train_mod.rename(columns = {'model' : 'model_name'}, inplace = True) "
   ]
  },
  {
   "cell_type": "code",
   "execution_count": 91,
   "id": "179bcec8",
   "metadata": {
    "ExecuteTime": {
     "end_time": "2022-04-15T21:40:50.117946Z",
     "start_time": "2022-04-15T21:40:50.102943Z"
    }
   },
   "outputs": [],
   "source": [
    "columna.delc('model')\n",
    "columna.delc('model_name')"
   ]
  },
  {
   "cell_type": "code",
   "execution_count": 92,
   "id": "06abecdb",
   "metadata": {
    "ExecuteTime": {
     "end_time": "2022-04-15T21:40:50.133950Z",
     "start_time": "2022-04-15T21:40:50.118946Z"
    }
   },
   "outputs": [
    {
     "data": {
      "text/plain": [
       "['car_url',\n",
       " 'sell_id',\n",
       " 'super_gen',\n",
       " 'equipment_dict',\n",
       " 'vendor',\n",
       " 'parsing_unixtime']"
      ]
     },
     "metadata": {},
     "output_type": "display_data"
    },
    {
     "data": {
      "text/plain": [
       "['price', 'Комплектация', 'start_date']"
      ]
     },
     "metadata": {},
     "output_type": "display_data"
    }
   ],
   "source": [
    "columna.show()"
   ]
  },
  {
   "cell_type": "markdown",
   "id": "386cc8fe",
   "metadata": {},
   "source": [
    "#### price\n",
    "Это стоимость автомобиля в рублях. Её то и нужно предсказать. Оставляю."
   ]
  },
  {
   "cell_type": "code",
   "execution_count": 93,
   "id": "ed0f4206",
   "metadata": {
    "ExecuteTime": {
     "end_time": "2022-04-15T21:40:50.149953Z",
     "start_time": "2022-04-15T21:40:50.134951Z"
    }
   },
   "outputs": [],
   "source": [
    "columna.delc('start_date')"
   ]
  },
  {
   "cell_type": "code",
   "execution_count": 94,
   "id": "abd3987e",
   "metadata": {
    "ExecuteTime": {
     "end_time": "2022-04-15T21:40:50.165957Z",
     "start_time": "2022-04-15T21:40:50.150954Z"
    }
   },
   "outputs": [],
   "source": [
    "#prep y = train.price"
   ]
  },
  {
   "cell_type": "code",
   "execution_count": 95,
   "id": "bd3183c4",
   "metadata": {
    "ExecuteTime": {
     "end_time": "2022-04-15T21:40:50.181960Z",
     "start_time": "2022-04-15T21:40:50.166957Z"
    }
   },
   "outputs": [
    {
     "data": {
      "text/plain": [
       "['car_url',\n",
       " 'sell_id',\n",
       " 'super_gen',\n",
       " 'equipment_dict',\n",
       " 'vendor',\n",
       " 'parsing_unixtime']"
      ]
     },
     "metadata": {},
     "output_type": "display_data"
    },
    {
     "data": {
      "text/plain": [
       "['price', 'Комплектация']"
      ]
     },
     "metadata": {},
     "output_type": "display_data"
    }
   ],
   "source": [
    "columna.show()"
   ]
  },
  {
   "cell_type": "markdown",
   "id": "8a2e5d69",
   "metadata": {},
   "source": [
    "#### start_date"
   ]
  },
  {
   "cell_type": "code",
   "execution_count": 96,
   "id": "cb4b5dae",
   "metadata": {
    "ExecuteTime": {
     "end_time": "2022-04-15T21:40:50.197964Z",
     "start_time": "2022-04-15T21:40:50.182963Z"
    }
   },
   "outputs": [
    {
     "data": {
      "text/plain": [
       "'2019-10-03T08:09:11Z'"
      ]
     },
     "execution_count": 96,
     "metadata": {},
     "output_type": "execute_result"
    }
   ],
   "source": [
    "train.start_date[0]"
   ]
  },
  {
   "cell_type": "markdown",
   "id": "fa949448",
   "metadata": {},
   "source": [
    "В этом столбце дата и время, но совершенно непонятно, что оно обозначает. Дата начала. Начала чего? Разберу на примере."
   ]
  },
  {
   "cell_type": "code",
   "execution_count": 97,
   "id": "97edb061",
   "metadata": {
    "ExecuteTime": {
     "end_time": "2022-04-15T21:40:50.213968Z",
     "start_time": "2022-04-15T21:40:50.198964Z"
    }
   },
   "outputs": [
    {
     "name": "stdout",
     "output_type": "stream",
     "text": [
      "НА ПРИМЕРЕ АВТО В ДАТАСЕТЕ\n",
      "-------------------------------\n",
      "2019-10-16T18:05:03Z - start_date, \n",
      "2004.0 - время выпуска модели, \n",
      "2008 - время выпуска авто\n",
      "\n",
      "\n",
      "Самый ранний и поздний start_date\n",
      "-------------------------------\n",
      "2014-06-10T06:27:00Z - самая ранняя дата\n",
      "2020-09-09T10:49:25Z - самая поздняя дата\n"
     ]
    }
   ],
   "source": [
    "print(f'''НА ПРИМЕРЕ АВТО В ДАТАСЕТЕ\n",
    "-------------------------------\n",
    "{train.start_date[500]} - start_date, \n",
    "{train.modelDate[500]} - время выпуска модели, \n",
    "{train.productionDate[500]} - время выпуска авто''')\n",
    "\n",
    "print(f'''\n",
    "\n",
    "Самый ранний и поздний start_date\n",
    "-------------------------------\n",
    "{train.start_date.min()} - самая ранняя дата\n",
    "{train.start_date.max()} - самая поздняя дата''')"
   ]
  },
  {
   "cell_type": "markdown",
   "id": "34144fb7",
   "metadata": {
    "ExecuteTime": {
     "end_time": "2022-04-10T11:00:56.737709Z",
     "start_time": "2022-04-10T11:00:56.723708Z"
    }
   },
   "source": [
    "Это что-то происходило для каждого авто с 2014 до 2020 года. Вероятнее всего, это время выставления \n",
    "автомобиля на продажу. В тестовом датасете нет этой метрики но есть дата парсинга.![image.png](https://ltdfoto.ru/images/2022/04/15/SKRIN-DATASETA.jpg) И как хорошо, что я обратил внимание не назване файла с тренировочным датасетом. Мне оба эти столбца будут не нужны. Я возьму константу времени для генерации фич. Она будет между 2020-10-21 и 2020-09-09."
   ]
  },
  {
   "cell_type": "code",
   "execution_count": 98,
   "id": "522d3077",
   "metadata": {
    "ExecuteTime": {
     "end_time": "2022-04-15T21:40:50.374004Z",
     "start_time": "2022-04-15T21:40:50.214968Z"
    }
   },
   "outputs": [
    {
     "name": "stdout",
     "output_type": "stream",
     "text": [
      "Столбец start_date уже удалён!\n"
     ]
    }
   ],
   "source": [
    "columna.delc('start_date', drop=True)\n",
    "columna.delc('parsing_unixtime', drop=True)"
   ]
  },
  {
   "cell_type": "code",
   "execution_count": 99,
   "id": "d3760aba",
   "metadata": {
    "ExecuteTime": {
     "end_time": "2022-04-15T21:40:50.390007Z",
     "start_time": "2022-04-15T21:40:50.375004Z"
    }
   },
   "outputs": [
    {
     "data": {
      "text/plain": [
       "['car_url', 'sell_id', 'super_gen', 'equipment_dict', 'vendor']"
      ]
     },
     "metadata": {},
     "output_type": "display_data"
    },
    {
     "data": {
      "text/plain": [
       "['price', 'Комплектация']"
      ]
     },
     "metadata": {},
     "output_type": "display_data"
    }
   ],
   "source": [
    "columna.show()"
   ]
  },
  {
   "cell_type": "markdown",
   "id": "c7c55e09",
   "metadata": {},
   "source": [
    "#### Комплектация"
   ]
  },
  {
   "cell_type": "code",
   "execution_count": 100,
   "id": "b969e891",
   "metadata": {
    "ExecuteTime": {
     "end_time": "2022-04-15T21:40:50.406011Z",
     "start_time": "2022-04-15T21:40:50.391008Z"
    }
   },
   "outputs": [
    {
     "data": {
      "text/plain": [
       "59351                                          {'id': '0'}\n",
       "10649    {'id': '6275147', 'name': 'xDrive35i', 'availa...\n",
       "44730    {'id': '8352280', 'name': 'Inform', 'available...\n",
       "20332                                          {'id': '0'}\n",
       "57488                                          {'id': '0'}\n",
       "Name: Комплектация, dtype: object"
      ]
     },
     "execution_count": 100,
     "metadata": {},
     "output_type": "execute_result"
    }
   ],
   "source": [
    "train.Комплектация.sample(5)"
   ]
  },
  {
   "cell_type": "markdown",
   "id": "1846035e",
   "metadata": {},
   "source": [
    "Есть скрытые пропуски, посмотрим, сколько их."
   ]
  },
  {
   "cell_type": "code",
   "execution_count": 101,
   "id": "ec1d06ca",
   "metadata": {
    "ExecuteTime": {
     "end_time": "2022-04-15T21:40:50.453022Z",
     "start_time": "2022-04-15T21:40:50.407012Z"
    }
   },
   "outputs": [
    {
     "name": "stdout",
     "output_type": "stream",
     "text": [
      "Заполненность данными: 0.3273285661899523\n"
     ]
    }
   ],
   "source": [
    "train_comp = []\n",
    "for i in train.Комплектация:\n",
    "    if i == \"{'id': '0'}\": train_comp.append(None)\n",
    "    else: train_comp.append(i)\n",
    "    \n",
    "train_comp = pd.Series(train_comp)\n",
    "na_ratio(pd.Series(train_comp).isna())"
   ]
  },
  {
   "cell_type": "code",
   "execution_count": 102,
   "id": "cb84737b",
   "metadata": {
    "ExecuteTime": {
     "end_time": "2022-04-15T21:40:50.469025Z",
     "start_time": "2022-04-15T21:40:50.454023Z"
    }
   },
   "outputs": [
    {
     "data": {
      "text/plain": [
       "\"{'id': '9279347', 'name': 'Comfort Plus', 'available_options': ['airbag-passenger', 'lock', 'electro-mirrors', 'mirrors-heat', 'computer', 'wheel-power', 'fabric-seats', 'abs', 'audiopreparation', 'condition', '15-inch-wheels', 'airbag-driver', 'isofix', 'aux', 'electro-window-front', 'paint-metallic', 'ptf', 'audiosystem-cd', 'front-seats-heat', 'bluetooth', 'wheel-configuration1', 'immo', 'third-rear-headrest'], 'vendor_colors': [{'body_color_id': 21429391, 'mark_color_id': 21415162, 'name_ru': 'Серебристый', 'hex_codes': ['90969A'], 'color_type': 'METALLIC', 'stock_color': {'hex_code': 'CACECB', 'name_ru': 'серебряный'}, 'photos': [{'name': '34-front', 'sizes': {'orig': '//avatars.mds.yandex.net/get-verba/997355/2a000001690b89b587d087e90e73dcdcbff6/orig', 'wizardv3mr': '//avatars.mds.yandex.net/get-verba/997355/2a000001690b89b587d087e90e73dcdcbff6/wizardv3mr', 'wizardv3': '//avatars.mds.yandex.net/get-verba/997355/2a000001690b89b587d087e90e73dcdcbff6/wizardv3', 'cattouch': '//avatars.mds.yandex.net/get-verba/997355/2a000001690b89b587d087e90e73dcdcbff6/cattouch', 'small': '//avatars.mds.yandex.net/get-verba/997355/2a000001690b89b587d087e90e73dcdcbff6/small', '320x240': '//avatars.mds.yandex.net/get-verba/997355/2a000001690b89b587d087e90e73dcdcbff6/320x240', '1200x900': '//avatars.mds.yandex.net/get-verba/997355/2a000001690b89b587d087e90e73dcdcbff6/1200x900', '1200x900n': '//avatars.mds.yandex.net/get-verba/997355/2a000001690b89b587d087e90e73dcdcbff6/1200x900n', 'thumb_m': '//avatars.mds.yandex.net/get-verba/997355/2a000001690b89b587d087e90e73dcdcbff6/thumb_m', 'full': '//avatars.mds.yandex.net/get-verba/997355/2a000001690b89b587d087e90e73dcdcbff6/full', '832x624': '//avatars.mds.yandex.net/get-verba/997355/2a000001690b89b587d087e90e73dcdcbff6/832x624', '456x342': '//avatars.mds.yandex.net/get-verba/997355/2a000001690b89b587d087e90e73dcdcbff6/456x342', '120x90': '//avatars.mds.yandex.net/get-verba/997355/2a000001690b89b587d087e90e73dcdcbff6/120x90', '92x69': '//avatars.mds.yandex.net/get-verba/997355/2a000001690b89b587d087e90e73dcdcbff6/92x69', 'islandoff': '//avatars.mds.yandex.net/get-verba/997355/2a000001690b89b587d087e90e73dcdcbff6/islandoff', 'thumb_s': '//avatars.mds.yandex.net/get-verba/997355/2a000001690b89b587d087e90e73dcdcbff6/thumb_s', 'thumb_s_2x': '//avatars.mds.yandex.net/get-verba/997355/2a000001690b89b587d087e90e73dcdcbff6/thumb_s_2x'}}], 'main_color': False}]}\""
      ]
     },
     "execution_count": 102,
     "metadata": {},
     "output_type": "execute_result"
    }
   ],
   "source": [
    "train.Комплектация[46348]"
   ]
  },
  {
   "cell_type": "markdown",
   "id": "532cbc8e",
   "metadata": {
    "ExecuteTime": {
     "end_time": "2022-04-10T14:35:31.783642Z",
     "start_time": "2022-04-10T14:35:31.774651Z"
    }
   },
   "source": [
    "Данных совем немного. Столбец аналогичен test.complectation_dict. Этих столбцов не будет в чистовом датасете. \n",
    "В этом словаре есть цвет и тип краски, доступные опции в конкретной комплектации автомобиля и картинка\n",
    "\n",
    "\n",
    "![img](https://avatars.mds.yandex.net/get-verba/997355/2a000001690b89b587d087e90e73dcdcbff6/cattouch)"
   ]
  },
  {
   "cell_type": "code",
   "execution_count": 103,
   "id": "16b3e80e",
   "metadata": {
    "ExecuteTime": {
     "end_time": "2022-04-15T21:40:50.485029Z",
     "start_time": "2022-04-15T21:40:50.470027Z"
    }
   },
   "outputs": [
    {
     "data": {
      "text/plain": [
       "['car_url', 'sell_id', 'super_gen', 'equipment_dict', 'vendor']"
      ]
     },
     "metadata": {},
     "output_type": "display_data"
    },
    {
     "data": {
      "text/plain": [
       "['price']"
      ]
     },
     "metadata": {},
     "output_type": "display_data"
    }
   ],
   "source": [
    "columna.delc('Комплектация',drop=True)\n",
    "\n",
    "columna.show()"
   ]
  },
  {
   "cell_type": "markdown",
   "id": "846eca0d",
   "metadata": {},
   "source": [
    "### Потери данных\n",
    "\n",
    "Теперь можно взглянуть на оставшиеся данные и понять каких ценных признаков не имеет обучающий датасет."
   ]
  },
  {
   "cell_type": "markdown",
   "id": "e6c75c5b",
   "metadata": {},
   "source": [
    "#### [equipment_dict](#equipment_dict)\n",
    "Столбец перечисляет опции автомобиля, которые к тому же преведены к общему виду. Весьма полезная информация для точного определения цены, даже не смотря на 30% пропусков. Жаль что в тренировочном датасете нет таких данных. С другой стороны -  хорошо что нет именно их потому, что часто автомобиль продаётся с уже предустановленными опциями в нескольких комплектациях от производителя, что можно хорошо кластеризовать."
   ]
  },
  {
   "cell_type": "code",
   "execution_count": 104,
   "id": "89e568f3",
   "metadata": {
    "ExecuteTime": {
     "end_time": "2022-04-15T21:40:50.500032Z",
     "start_time": "2022-04-15T21:40:50.486029Z"
    }
   },
   "outputs": [],
   "source": [
    "columna.delc('equipment_dict',drop=True)"
   ]
  },
  {
   "cell_type": "markdown",
   "id": "b76cef02",
   "metadata": {},
   "source": [
    "#### [super_gen](#super_gen)"
   ]
  },
  {
   "cell_type": "markdown",
   "id": "7553e1f3",
   "metadata": {
    "ExecuteTime": {
     "end_time": "2022-04-10T15:47:00.017662Z",
     "start_time": "2022-04-10T15:46:59.997659Z"
    }
   },
   "source": [
    "Это словарь с общими характеристиками автомобиля, не зависящими от бренда\n",
    "\n",
    "| Ключ          | Значение              | Пояснение                                                                             |\n",
    "| ------------- | --------------------- | ------------------------------------------------------------------------------------- |\n",
    "| id            | 20228954              | Неинформативный номер                                                                 |\n",
    "| displacement  | 1969                  | Рабочий объём двигателя в $см^2$                                                      |\n",
    "| engine_type   | GASOLINE              | Тип двигателя(топливо)                                                                |\n",
    "| gear_type     | ALL_WHEEL_DRIVE       | Тип привода                                                                           |\n",
    "| transmission  | AUTOMATIC             | Коробка передач                                                                       |\n",
    "| power         | 320                   | Мощность двигателя в лошадиных силах                                                  |\n",
    "| power_kvt     | 235                   | Мощность двигателя в киловаттах                                                        |\n",
    "| human_name    | 2.0 AT (320 л.с.) 4WD | Краткие Обозначения объема двигателя, трансмисии, мощности и типа привода   |\n",
    "| acceleration  | 6.5                   | Время разгона до 100 км/ч                                           |\n",
    "| clearance_min | 237                   | Дорожный просвет в милиметрах |\n",
    "| fuel_rate     | 8                     | Расход топлива в литрах на 100 км                                                     |\n"
   ]
  },
  {
   "cell_type": "markdown",
   "id": "ecd04307",
   "metadata": {},
   "source": [
    "В тренировочном датасете из этого словаря  нет:\n",
    "- Времени разгона до 100 км/ч\n",
    "- Дорожного просвета\n",
    "- Расхода топлива\n",
    "\n",
    "И это серьезные потери важных показателей."
   ]
  },
  {
   "cell_type": "code",
   "execution_count": 105,
   "id": "50fecbed",
   "metadata": {
    "ExecuteTime": {
     "end_time": "2022-04-15T21:40:50.516036Z",
     "start_time": "2022-04-15T21:40:50.501033Z"
    }
   },
   "outputs": [],
   "source": [
    "columna.delc('super_gen',drop=True)"
   ]
  },
  {
   "cell_type": "markdown",
   "id": "71d25b45",
   "metadata": {},
   "source": [
    "#### [vendor](#vendor)\n",
    "\n",
    "Не несёт пользы, т.к все марки тестового датасета есть в тренировочном, а это информация куда более важная, чем то, была ли произведена машина в Азии или Европе"
   ]
  },
  {
   "cell_type": "code",
   "execution_count": 106,
   "id": "2f3aede6",
   "metadata": {
    "ExecuteTime": {
     "end_time": "2022-04-15T21:40:50.532039Z",
     "start_time": "2022-04-15T21:40:50.517037Z"
    }
   },
   "outputs": [],
   "source": [
    "columna.delc('vendor',drop=True)"
   ]
  },
  {
   "cell_type": "markdown",
   "id": "1a0876ce",
   "metadata": {},
   "source": [
    "#### [car_url](#car_url)\n",
    "Несёт гиппотетическую пользу т.к. возможно, если значительное количесвто ссылок работает и если будет другой датасет, то можно будет спарсить с сайта ещё немного информации. Но в реалиях проекта пользы не представляет."
   ]
  },
  {
   "cell_type": "code",
   "execution_count": 107,
   "id": "2223a1be",
   "metadata": {
    "ExecuteTime": {
     "end_time": "2022-04-15T21:40:50.548043Z",
     "start_time": "2022-04-15T21:40:50.533041Z"
    }
   },
   "outputs": [],
   "source": [
    "columna.delc('car_url',drop=True)"
   ]
  },
  {
   "cell_type": "markdown",
   "id": "159ddaf5",
   "metadata": {},
   "source": [
    "# Предобработка признаков\n",
    "\n",
    "- [Preprocessing_and_thoughts](./secondary_notebooks/Preprocessing_and_thoughts.ipynb)\n",
    "Опциональный черновой ноутбук, содержит поэтапную обработку и некоторые невошедшие в финальный вид проекта признаки\n",
    "\n",
    "<!--#upgrade добавить кнопочку, которая запустит всю предобработку-->"
   ]
  },
  {
   "cell_type": "code",
   "execution_count": 114,
   "id": "52693997",
   "metadata": {
    "ExecuteTime": {
     "end_time": "2022-04-15T21:42:47.232291Z",
     "start_time": "2022-04-15T21:42:47.207285Z"
    }
   },
   "outputs": [],
   "source": []
  },
  {
   "cell_type": "code",
   "execution_count": 117,
   "id": "ac2862e2",
   "metadata": {
    "ExecuteTime": {
     "end_time": "2022-04-15T21:44:08.253165Z",
     "start_time": "2022-04-15T21:44:07.373662Z"
    }
   },
   "outputs": [],
   "source": [
    "'''            Работа с колонками необработанных датасетов                  '''\n",
    "###############################################################################\n",
    "\n",
    "# Выкенем все лишние колонки \n",
    "train_df = train.drop(columna.drop_dict['train'],axis='columns')\n",
    "test_df = test.drop(columna.drop_dict['test'],axis='columns')\n",
    "\n",
    "train_df['sell_id'] = -1 # нужно, чтобы не потерять столбец для предсказаний\n",
    "test_df['price'] = -1 # аналогичная история, только с ценой\n",
    "\n",
    "#Переименование столбца 'model' в датасете train_df\n",
    "train_df.rename(columns = {'model' : 'model_name'}, inplace = True)\n",
    "\n",
    "df = pd.concat([test_df,train_df],ignore_index=True) # объединение датасетов\n",
    "\n",
    "\n",
    "'''                   Предобработка полезных колонок                        '''\n",
    "###############################################################################\n",
    "\n",
    "### body_Type ###\n",
    "\n",
    "df['bodyType'] = df.bodyType.apply(get_bodyType)\n",
    "\n",
    "### color ###\n",
    "df.replace({'color':\n",
    "                {'040001': 'чёрный',\n",
    "                'EE1D19': 'красный',\n",
    "                '0000CC': 'синий',\n",
    "                'CACECB': 'серебристый',\n",
    "                '007F00': 'зелёный',\n",
    "                'FAFBFB': 'белый',\n",
    "                '97948F': 'серый',\n",
    "                '22A0F8': 'голубой',\n",
    "                '660099': 'фиолетовый',\n",
    "                '200204': 'коричневый',\n",
    "                'C49648': 'бежевый',\n",
    "                'DEA522': 'золотистый',\n",
    "                '4A2197': 'пурпурный',\n",
    "                'FFD600': 'жёлтый',\n",
    "                'FF8649': 'оранжевый',\n",
    "                'FFC0CB': 'розовый'}},inplace=True)\n",
    "\n",
    "\n",
    "### numberOfDoors ###\n",
    "'''совру модели, что у старых авто были двери'''\n",
    "df.at[16944 , 'numberOfDoors'] = 2 \n",
    "df.at[120656, 'numberOfDoors'] = 2 \n",
    "\n",
    "### fuelType ###\n",
    "df = df.drop([58731])\n",
    "df.reset_index(drop=True, inplace=True)\n",
    "\n",
    "### modelDate ###\n",
    "'''и так хорошо'''\n",
    "\n",
    "\n",
    "### productionDate ###\n",
    "'''и так хорошо'''\n",
    "\n",
    "### vehicleTransmission ###\n",
    "df.replace({'vehicleTransmission':\n",
    "                {'автоматическая': 'AUTOMATIC',\n",
    "                'вариатор': 'VARIATOR',\n",
    "                'механическая': 'MECHANICAL',\n",
    "                'роботизированная': 'ROBOT'}},inplace=True)\n",
    "\n",
    "\n",
    "### engineDisplacement ###\n",
    "\n",
    "# Извлечение значений объёма двигателя из столбца 'name'\n",
    "df['engineDisplacement'] = df['name'].apply(pull_EngineDisplacement)\n",
    "\n",
    "# Пропуски в объеме двигателя - признак электрокара, заполним их нулями\n",
    "df.engineDisplacement.fillna(0,inplace=True)\n",
    "\n",
    "# Время выкинуть использованный столбец\n",
    "df.drop('name',axis='columns',inplace=True)\n",
    "\n",
    "\n",
    "### enginePower ###\n",
    "df.enginePower = pd.concat(\n",
    "    [ df[df.price==-1].enginePower.apply(lambda x : (int)(x.split(' ')[0])),\n",
    "      df[df.price!=-1].enginePower.convert_dtypes(int) ],  ignore_index=True)\n",
    "\n",
    "### Владельцы ###\n",
    "df.replace({'Владельцы':\n",
    "                {'1\\xa0владелец': 1,\n",
    "                '2\\xa0владельца': 2,\n",
    "                '3 или более'   : 3}},inplace=True)\n",
    "df.Владельцы.fillna(0,inplace=True) # пропуски во владельцах = их отсутсвтие\n",
    "\n",
    "### Руль ###\n",
    "df.replace({'Руль':\n",
    "                {'Левый': 'LEFT',\n",
    "                'Правый': 'RIGHT'}},inplace=True)\n",
    "\n",
    "### ПТС ###\n",
    "df.replace({'ПТС':\n",
    "                {'Оригинал': 'ORIGINAL',\n",
    "                'Дубликат': 'DUPLICATE'}},inplace=True)\n",
    "df.ПТС.fillna('ORIGINAL',inplace=True)\n",
    "\n",
    "### Владение ###\n",
    "bin_own = []\n",
    "for i in df.Владение.isna():\n",
    "    if i==True: bin_own.append(0)\n",
    "    else: bin_own.append(1)\n",
    "        \n",
    "df.Владение = pd.Series(bin_own)\n",
    "\n",
    "### price ### Выкидываются пропуски в цене, поскольку это таргет\n",
    "df.drop(df[df.price.isna()].index, axis='rows',inplace=True)"
   ]
  },
  {
   "cell_type": "markdown",
   "id": "e8993ead",
   "metadata": {},
   "source": [
    "# Модели"
   ]
  },
  {
   "cell_type": "markdown",
   "id": "d1d5b102",
   "metadata": {},
   "source": [
    "## Предобработка"
   ]
  },
  {
   "cell_type": "code",
   "execution_count": 119,
   "id": "953051ee",
   "metadata": {
    "ExecuteTime": {
     "end_time": "2022-04-15T21:44:25.832815Z",
     "start_time": "2022-04-15T21:44:25.736794Z"
    }
   },
   "outputs": [],
   "source": [
    "'''                  Общая предобработка для моделей                        '''\n",
    "###############################################################################\n",
    "\n",
    "### \"Округление\" редких кузовов\n",
    "df.replace({'bodyType':\n",
    "                {'кабриолет':'экстра',\n",
    "'родстер':'экстра'  ,\n",
    "'фургон' :'экстра'  ,\n",
    "'микровэн':'экстра' ,\n",
    "'лимузин':'экстра'  ,\n",
    "'тарга'  :'экстра' , \n",
    "'фастбек':'экстра'}},inplace=True)\n",
    "\n",
    "\n",
    "\n",
    "### \"Округление\" редких цветов\n",
    "df.replace({'color':\n",
    "                {\n",
    "'бежевый':'редкий'   , \n",
    "'голубой':'редкий'   , \n",
    "'золотистый':'редкий' ,\n",
    "'фиолетовый':'редкий', \n",
    "'жёлтый':'редкий'    , \n",
    "'пурпурный':'редкий' , \n",
    "'оранжевый':'редкий' , \n",
    "'розовый':'редкий' }},inplace=True)"
   ]
  },
  {
   "cell_type": "markdown",
   "id": "ac02afe5",
   "metadata": {},
   "source": [
    "## Фичи\n",
    "Полезно будет поработать с датой, добытой из столбцов"
   ]
  },
  {
   "cell_type": "code",
   "execution_count": 120,
   "id": "cf93b5b8",
   "metadata": {
    "ExecuteTime": {
     "end_time": "2022-04-15T21:44:29.113219Z",
     "start_time": "2022-04-15T21:44:29.082733Z"
    }
   },
   "outputs": [],
   "source": [
    "'''                        Генерация признаков                              '''\n",
    "###############################################################################\n",
    "\n",
    "### Генерация фичи - время от начала выпуска модели до выпуска экземляра авто\n",
    "df['model_product_time'] = df.productionDate - df.modelDate\n",
    "\n",
    "### Генерация фичи - возраст автомобиля\n",
    "df['car_age'] = 2020.8 - df.productionDate\n",
    "\n",
    "## Выкинем использованные столбцы\n",
    "df.drop(['modelDate','productionDate'],axis='columns',inplace=True)"
   ]
  },
  {
   "cell_type": "markdown",
   "id": "eb27f165",
   "metadata": {},
   "source": [
    "## Ансамбль"
   ]
  },
  {
   "cell_type": "code",
   "execution_count": 121,
   "id": "dc5d4444",
   "metadata": {
    "ExecuteTime": {
     "end_time": "2022-04-15T21:44:33.071368Z",
     "start_time": "2022-04-15T21:44:33.060365Z"
    }
   },
   "outputs": [
    {
     "name": "stdout",
     "output_type": "stream",
     "text": [
      "Если нажать на кнопку, то совержится вся небобходимая предобработка от\n",
      "сырого датасета до данных, пригодных для специфичной модельной предобработки.\n",
      "\n",
      "Необходима в случае, если предыдущие ячейки были пропущенны.\n"
     ]
    },
    {
     "data": {
      "application/vnd.jupyter.widget-view+json": {
       "model_id": "ac9837d7a296414f8c2b85e5343f9bd4",
       "version_major": 2,
       "version_minor": 0
      },
      "text/plain": [
       "Button(button_style='success', description='Предобработать!', style=ButtonStyle())"
      ]
     },
     "metadata": {},
     "output_type": "display_data"
    }
   ],
   "source": [
    "button_with_preprocesiing() # Если нажать, то совершится предобработка #upgrade сделать ссылку"
   ]
  },
  {
   "cell_type": "code",
   "execution_count": 122,
   "id": "646a12fc",
   "metadata": {
    "ExecuteTime": {
     "end_time": "2022-04-15T21:44:37.639131Z",
     "start_time": "2022-04-15T21:44:36.306768Z"
    }
   },
   "outputs": [
    {
     "name": "stdout",
     "output_type": "stream",
     "text": [
      "Stored 'df' (DataFrame)\n"
     ]
    }
   ],
   "source": [
    "### сохраним датафрейм для моделей из других ноутбуков\n",
    "%store df "
   ]
  },
  {
   "cell_type": "markdown",
   "id": "35a34876",
   "metadata": {},
   "source": [
    "Далее список из ноутбуков, в которых я обучались модели и проводился стэкинг. Для последовательного просмотра рекомендую начать с Models_and_stacking, в ней так же есть ссылки на остальные модели.\n",
    "- [Models_and_stacking - Ноутбук с сравнениями моделей и стэкингом](./secondary_notebooks/Models_and_stacking.ipynb)\n",
    "- [lil_trees - фундаментальная модель в ансамлбе](./secondary_notebooks/lil_trees.ipynb)\n",
    "- [big_trees - поддерживающая модель](./secondary_notebooks/big_trees.ipynb)"
   ]
  }
 ],
 "metadata": {
  "kernelspec": {
   "display_name": "Python 3 (ipykernel)",
   "language": "python",
   "name": "python3"
  },
  "language_info": {
   "codemirror_mode": {
    "name": "ipython",
    "version": 3
   },
   "file_extension": ".py",
   "mimetype": "text/x-python",
   "name": "python",
   "nbconvert_exporter": "python",
   "pygments_lexer": "ipython3",
   "version": "3.10.4"
  },
  "latex_envs": {
   "LaTeX_envs_menu_present": true,
   "autoclose": false,
   "autocomplete": true,
   "bibliofile": "biblio.bib",
   "cite_by": "apalike",
   "current_citInitial": 1,
   "eqLabelWithNumbers": true,
   "eqNumInitial": 1,
   "hotkeys": {
    "equation": "Ctrl-E",
    "itemize": "Ctrl-I"
   },
   "labels_anchors": false,
   "latex_user_defs": false,
   "report_style_numbering": false,
   "user_envs_cfg": false
  },
  "toc": {
   "base_numbering": 1,
   "nav_menu": {
    "height": "579px",
    "width": "307px"
   },
   "number_sections": true,
   "sideBar": true,
   "skip_h1_title": false,
   "title_cell": "Table of Contents",
   "title_sidebar": "Contents",
   "toc_cell": false,
   "toc_position": {
    "height": "calc(100% - 180px)",
    "left": "10px",
    "top": "150px",
    "width": "252px"
   },
   "toc_section_display": true,
   "toc_window_display": true
  },
  "varInspector": {
   "cols": {
    "lenName": 16,
    "lenType": 16,
    "lenVar": 40
   },
   "kernels_config": {
    "python": {
     "delete_cmd_postfix": "",
     "delete_cmd_prefix": "del ",
     "library": "var_list.py",
     "varRefreshCmd": "print(var_dic_list())"
    },
    "r": {
     "delete_cmd_postfix": ") ",
     "delete_cmd_prefix": "rm(",
     "library": "var_list.r",
     "varRefreshCmd": "cat(var_dic_list()) "
    }
   },
   "types_to_exclude": [
    "module",
    "function",
    "builtin_function_or_method",
    "instance",
    "_Feature"
   ],
   "window_display": false
  }
 },
 "nbformat": 4,
 "nbformat_minor": 5
}
