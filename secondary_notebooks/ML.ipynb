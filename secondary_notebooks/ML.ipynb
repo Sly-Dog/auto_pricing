{
 "cells": [
  {
   "cell_type": "markdown",
   "id": "88817e1a",
   "metadata": {},
   "source": [
    "# Data"
   ]
  },
  {
   "cell_type": "code",
   "execution_count": 25,
   "id": "2ee26779",
   "metadata": {
    "ExecuteTime": {
     "end_time": "2022-04-13T19:02:15.137781Z",
     "start_time": "2022-04-13T19:02:15.122788Z"
    }
   },
   "outputs": [],
   "source": [
    "import pandas as pd\n",
    "import numpy as np\n",
    "\n",
    "from sklearn import neighbors\n",
    "from catboost import CatBoostRegressor\n",
    "from sklearn import tree                             \n",
    "\n",
    "from sklearn.model_selection import train_test_split"
   ]
  },
  {
   "cell_type": "code",
   "execution_count": 2,
   "id": "73eab55e",
   "metadata": {
    "ExecuteTime": {
     "end_time": "2022-04-13T18:38:30.261652Z",
     "start_time": "2022-04-13T18:38:29.558417Z"
    }
   },
   "outputs": [],
   "source": [
    "%store -r df\n",
    "\n",
    "preX = pd.concat(\n",
    "[df[['brand','sell_id','price','engineDisplacement', 'enginePower','mileage','car_age', 'model_product_time']] ,\n",
    "pd.get_dummies(df.bodyType,prefix='bodyType'),\n",
    "pd.get_dummies(df.fuelType,prefix='fuelType'),\n",
    "pd.get_dummies(df.vehicleTransmission,prefix='vehicleTransmission'),\n",
    "pd.get_dummies(df.Привод,prefix='Привод'),\n",
    "pd.get_dummies(df.Владельцы,prefix='Владельцы'),\n",
    "pd.get_dummies(df.Владение,prefix='Владение'),\n",
    "pd.get_dummies(df.color,prefix='color'),\n",
    "pd.get_dummies(df.ПТС,prefix='ПТС'),\n",
    "pd.get_dummies(df.Руль,prefix='Руль'),\n",
    "pd.get_dummies(df.numberOfDoors,prefix='numberOfDoors'),],axis=1)\n",
    "\n",
    "preX.sample(5)\n",
    "\n",
    "test = preX[preX.price==-1]\n",
    "train = preX[preX.price!=-1]\n",
    "\n",
    "X=train.drop(['brand','sell_id','price'],axis='columns')\n",
    "y=train.price"
   ]
  },
  {
   "cell_type": "markdown",
   "id": "c0be50d2",
   "metadata": {},
   "source": [
    "### Метрика\n",
    "$$\\Large MAPE= 100 \\% * \\frac{1}{n}\\sum_{t=1}^{n}\\frac{\\left | Y_t-\\hat{Y_t} \\right |}{Y_t}$$"
   ]
  },
  {
   "cell_type": "code",
   "execution_count": 3,
   "id": "6ffed2c1",
   "metadata": {
    "ExecuteTime": {
     "end_time": "2022-04-13T18:38:30.276837Z",
     "start_time": "2022-04-13T18:38:30.261652Z"
    }
   },
   "outputs": [],
   "source": [
    "'''Функция вывода MAPE'''\n",
    "def mape(y_true, y_pred):\n",
    "    return np.mean(np.abs((y_pred-y_true)/y_true))*100"
   ]
  },
  {
   "cell_type": "markdown",
   "id": "cdfc435a",
   "metadata": {},
   "source": [
    "### Cравнение Decision Tree & CatBoost"
   ]
  },
  {
   "cell_type": "code",
   "execution_count": 4,
   "id": "583731f7",
   "metadata": {
    "ExecuteTime": {
     "end_time": "2022-04-13T18:38:30.308845Z",
     "start_time": "2022-04-13T18:38:30.277839Z"
    }
   },
   "outputs": [],
   "source": [
    "X_train, X_test, y_train, y_test = train_test_split(\n",
    "    X ,\n",
    "    y, test_size=0.2, shuffle=True, random_state=42)"
   ]
  },
  {
   "cell_type": "code",
   "execution_count": 29,
   "id": "e8f6d972",
   "metadata": {
    "ExecuteTime": {
     "end_time": "2022-04-13T19:03:44.731171Z",
     "start_time": "2022-04-13T19:03:32.193619Z"
    }
   },
   "outputs": [
    {
     "name": "stdout",
     "output_type": "stream",
     "text": [
      "42.47134987692746\n"
     ]
    }
   ],
   "source": [
    "### k-nears neighbors regression\n",
    "knn = neighbors.KNeighborsRegressor(n_neighbors=3)\n",
    "knn.fit(X_train, y_train)\n",
    "print('MAPE:', mape(y_test, knn.predict(X_test)))"
   ]
  },
  {
   "cell_type": "code",
   "execution_count": 5,
   "id": "037f9d26",
   "metadata": {
    "ExecuteTime": {
     "end_time": "2022-04-13T18:39:42.921607Z",
     "start_time": "2022-04-13T18:38:30.309846Z"
    }
   },
   "outputs": [
    {
     "name": "stdout",
     "output_type": "stream",
     "text": [
      "MAPE: 15.51307854541574\n"
     ]
    }
   ],
   "source": [
    "### CatBoost regression\n",
    "model = CatBoostRegressor(iterations = 10000,\n",
    "                          random_seed = 42, silent=True)\n",
    "model.fit(X_train.values, np.log(y_train.values))\n",
    "\n",
    "print('MAPE:',mape(y_test, np.exp(model.predict(X_test.values)) ))"
   ]
  },
  {
   "cell_type": "code",
   "execution_count": 6,
   "id": "c6ecf4e0",
   "metadata": {
    "ExecuteTime": {
     "end_time": "2022-04-13T18:39:43.424895Z",
     "start_time": "2022-04-13T18:39:42.922608Z"
    }
   },
   "outputs": [
    {
     "name": "stdout",
     "output_type": "stream",
     "text": [
      "MAPE: 19.353506235490155\n"
     ]
    }
   ],
   "source": [
    "### Decision Tree regression\n",
    "model = tree.DecisionTreeRegressor(max_depth=16, max_features=None)\n",
    "model.fit(X_train,y_train)\n",
    "\n",
    "print('MAPE:',(mape(y_test, (model.predict(X_test)))))"
   ]
  },
  {
   "cell_type": "markdown",
   "id": "e46a60a3",
   "metadata": {},
   "source": [
    "CatBoost показал себя лучше простого решающего дерева, можно сделать первый коммит"
   ]
  },
  {
   "cell_type": "code",
   "execution_count": 7,
   "id": "8e215204",
   "metadata": {
    "ExecuteTime": {
     "end_time": "2022-04-13T18:41:09.021169Z",
     "start_time": "2022-04-13T18:39:43.425896Z"
    }
   },
   "outputs": [
    {
     "name": "stdout",
     "output_type": "stream",
     "text": [
      "KAGGLE score: 15.81082\n"
     ]
    }
   ],
   "source": [
    "'''SUBMISSION_1'''\n",
    "model = CatBoostRegressor(iterations = 10000,\n",
    "                          random_seed = 42, silent=True)\n",
    "model.fit(X.values, np.log(y.values))\n",
    "\n",
    "price = pd.Series(np.exp(model.predict(test.drop(['brand','sell_id','price'],axis='columns').values)))\n",
    "price.name = 'price'\n",
    "price = price.astype('int')\n",
    "pd.concat([test.sell_id, price],axis=1).to_csv(f'submission_1.csv', index=False)\n",
    "print('KAGGLE score: 15.81082')"
   ]
  },
  {
   "cell_type": "markdown",
   "id": "aee47c9d",
   "metadata": {},
   "source": [
    "# Далее модели обучались сразу для предсказаний на Kaggle"
   ]
  },
  {
   "cell_type": "code",
   "execution_count": 8,
   "id": "6a2dd352",
   "metadata": {
    "ExecuteTime": {
     "end_time": "2022-04-13T18:44:34.149239Z",
     "start_time": "2022-04-13T18:41:09.022444Z"
    }
   },
   "outputs": [],
   "source": [
    "'''                 Подготовка датасетов по маркам                          '''\n",
    "###############################################################################\n",
    "train_SKODA = train[train.brand == 'SKODA'].drop(['brand','sell_id'],axis='columns').reset_index(drop=True)\n",
    "train_AUDI = train[train.brand == 'AUDI'].drop(['brand','sell_id'],axis='columns').reset_index(drop=True)\n",
    "train_HONDA = train[train.brand == 'HONDA'].drop(['brand','sell_id'],axis='columns').reset_index(drop=True)\n",
    "train_VOLVO = train[train.brand == 'VOLVO'].drop(['brand','sell_id'],axis='columns').reset_index(drop=True)\n",
    "train_BMW = train[train.brand == 'BMW'].drop(['brand','sell_id'],axis='columns').reset_index(drop=True)\n",
    "train_NISSAN = train[train.brand == 'NISSAN'].drop(['brand','sell_id'],axis='columns').reset_index(drop=True)\n",
    "train_INFINITI = train[train.brand == 'INFINITI'].drop(['brand','sell_id'],axis='columns').reset_index(drop=True)\n",
    "train_MERCEDES = train[train.brand == 'MERCEDES'].drop(['brand','sell_id'],axis='columns').reset_index(drop=True)\n",
    "train_TOYOTA = train[train.brand == 'TOYOTA'].drop(['brand','sell_id'],axis='columns').reset_index(drop=True)\n",
    "train_LEXUS = train[train.brand == 'LEXUS'].drop(['brand','sell_id'],axis='columns').reset_index(drop=True)\n",
    "train_VOLKSWAGEN = train[train.brand == 'VOLKSWAGEN'].drop(['brand','sell_id'],axis='columns').reset_index(drop=True)\n",
    "train_MITSUBISHI = train[train.brand == 'MITSUBISHI'].drop(['brand','sell_id'],axis='columns').reset_index(drop=True)\n",
    "\n",
    "\n",
    "'''                 Обучение деревьев по бренду                             '''\n",
    "###############################################################################\n",
    "SKODA = tree.DecisionTreeRegressor(max_depth=None, max_features=None)\n",
    "SKODA.fit(train_SKODA.drop(['price'],axis='columns'),np.log(train_SKODA.price))\n",
    "\n",
    "AUDI = tree.DecisionTreeRegressor(max_depth=None, max_features=None)\n",
    "AUDI.fit(train_AUDI.drop(['price'],axis='columns'),np.log(train_AUDI.price))\n",
    "\n",
    "HONDA = tree.DecisionTreeRegressor(max_depth=None, max_features=None)\n",
    "HONDA.fit(train_HONDA.drop(['price'],axis='columns'),np.log(train_HONDA.price))\n",
    "\n",
    "VOLVO = tree.DecisionTreeRegressor(max_depth=None, max_features=None)\n",
    "VOLVO.fit(train_VOLVO.drop(['price'],axis='columns'),np.log(train_VOLVO.price))\n",
    "\n",
    "BMW = tree.DecisionTreeRegressor(max_depth=None, max_features=None)\n",
    "BMW.fit(train_BMW.drop(['price'],axis='columns'),np.log(train_BMW.price))\n",
    "\n",
    "NISSAN = tree.DecisionTreeRegressor(max_depth=None, max_features=None)\n",
    "NISSAN.fit(train_NISSAN.drop(['price'],axis='columns'),np.log(train_NISSAN.price))\n",
    "\n",
    "INFINITI = tree.DecisionTreeRegressor(max_depth=None, max_features=None)\n",
    "INFINITI.fit(train_INFINITI.drop(['price'],axis='columns'),np.log(train_INFINITI.price))\n",
    "\n",
    "MERCEDES = tree.DecisionTreeRegressor(max_depth=None, max_features=None)\n",
    "MERCEDES.fit(train_MERCEDES.drop(['price'],axis='columns'),np.log(train_MERCEDES.price))\n",
    "\n",
    "TOYOTA = tree.DecisionTreeRegressor(max_depth=None, max_features=None)\n",
    "TOYOTA.fit(train_TOYOTA.drop(['price'],axis='columns'),np.log(train_TOYOTA.price))\n",
    "\n",
    "LEXUS = tree.DecisionTreeRegressor(max_depth=None, max_features=None)\n",
    "LEXUS.fit(train_LEXUS.drop(['price'],axis='columns'),np.log(train_LEXUS.price))\n",
    "\n",
    "VOLKSWAGEN = tree.DecisionTreeRegressor(max_depth=None, max_features=None)\n",
    "VOLKSWAGEN.fit(train_VOLKSWAGEN.drop(['price'],axis='columns'),np.log(train_VOLKSWAGEN.price))\n",
    "\n",
    "MITSUBISHI = tree.DecisionTreeRegressor(max_depth=None, max_features=None)\n",
    "MITSUBISHI.fit(train_MITSUBISHI.drop(['price'],axis='columns'),np.log(train_MITSUBISHI.price))\n",
    "\n",
    "\n",
    "'''             Предсказания деревьев по бренду                             '''\n",
    "###############################################################################\n",
    "for_pred = test.drop(['brand','sell_id','price'],axis='columns')\n",
    "\n",
    "preds = []\n",
    "for i in test.index:\n",
    "    if test.brand[i] == 'SKODA': preds.append(SKODA.predict(pd.DataFrame(for_pred.iloc[i]).T)[0])\n",
    "    if test.brand[i] == 'AUDI': preds.append(AUDI.predict(pd.DataFrame(for_pred.iloc[i]).T)[0])\n",
    "    if test.brand[i] == 'HONDA': preds.append(HONDA.predict(pd.DataFrame(for_pred.iloc[i]).T)[0])\n",
    "    if test.brand[i] == 'VOLVO': preds.append(VOLVO.predict(pd.DataFrame(for_pred.iloc[i]).T)[0])\n",
    "    if test.brand[i] == 'BMW': preds.append(BMW.predict(pd.DataFrame(for_pred.iloc[i]).T)[0])\n",
    "    if test.brand[i] == 'NISSAN': preds.append(NISSAN.predict(pd.DataFrame(for_pred.iloc[i]).T)[0])\n",
    "    if test.brand[i] == 'INFINITI': preds.append(INFINITI.predict(pd.DataFrame(for_pred.iloc[i]).T)[0])\n",
    "    if test.brand[i] == 'MERCEDES': preds.append(MERCEDES.predict(pd.DataFrame(for_pred.iloc[i]).T)[0])\n",
    "    if test.brand[i] == 'TOYOTA': preds.append(TOYOTA.predict(pd.DataFrame(for_pred.iloc[i]).T)[0])\n",
    "    if test.brand[i] == 'LEXUS': preds.append(LEXUS.predict(pd.DataFrame(for_pred.iloc[i]).T)[0])\n",
    "    if test.brand[i] == 'VOLKSWAGEN': preds.append(VOLKSWAGEN.predict(pd.DataFrame(for_pred.iloc[i]).T)[0])\n",
    "    if test.brand[i] == 'MITSUBISHI': preds.append(MITSUBISHI.predict(pd.DataFrame(for_pred.iloc[i]).T)[0])\n",
    "        \n",
    "big_pred = np.exp(preds) # Массив с предскзаниями"
   ]
  },
  {
   "cell_type": "markdown",
   "id": "f13d0f00",
   "metadata": {},
   "source": [
    "Как совмещать предсказания? \n",
    "- Арифметическим средним. Складываются два или более предсказания, после чего их сумма делится на их же количество"
   ]
  },
  {
   "cell_type": "code",
   "execution_count": 9,
   "id": "5f829f50",
   "metadata": {
    "ExecuteTime": {
     "end_time": "2022-04-13T18:44:34.180473Z",
     "start_time": "2022-04-13T18:44:34.149239Z"
    }
   },
   "outputs": [
    {
     "data": {
      "text/plain": [
       "(6.25, 7.333333333333333)"
      ]
     },
     "execution_count": 9,
     "metadata": {},
     "output_type": "execute_result"
    }
   ],
   "source": [
    "( ((12+7)/2 )+3)/2, (12+7+3)/3 # пример регуляции влияния предсказаний"
   ]
  },
  {
   "cell_type": "code",
   "execution_count": 10,
   "id": "4e226993",
   "metadata": {
    "ExecuteTime": {
     "end_time": "2022-04-13T18:44:34.276494Z",
     "start_time": "2022-04-13T18:44:34.182474Z"
    }
   },
   "outputs": [
    {
     "name": "stdout",
     "output_type": "stream",
     "text": [
      "KAGGLE score: 12.82608\n"
     ]
    }
   ],
   "source": [
    "'''SUBMISSION 2 - совмещение CatBoost и Decision Trees'''\n",
    "pd.concat([test.sell_id, (price + big_pred)/2],axis=1).to_csv(\n",
    "    f'submission_2.csv', index=False)\n",
    "print('KAGGLE score: 12.82608')"
   ]
  },
  {
   "cell_type": "markdown",
   "id": "0a02edd5",
   "metadata": {},
   "source": [
    "### Время появиться lil_trees.\n",
    "Он обучался отдельно на моделях авто"
   ]
  },
  {
   "cell_type": "code",
   "execution_count": 11,
   "id": "23993c7c",
   "metadata": {
    "ExecuteTime": {
     "end_time": "2022-04-13T18:44:34.292122Z",
     "start_time": "2022-04-13T18:44:34.277495Z"
    }
   },
   "outputs": [],
   "source": [
    "lil_pred = pd.read_pickle('lil_pred.pickle') # это его предсказания"
   ]
  },
  {
   "cell_type": "code",
   "execution_count": 12,
   "id": "0e60f535",
   "metadata": {
    "ExecuteTime": {
     "end_time": "2022-04-13T18:44:34.307792Z",
     "start_time": "2022-04-13T18:44:34.293122Z"
    }
   },
   "outputs": [],
   "source": [
    "# Cтаршие алгоритмы подсказывают младшему авто, моделей которых нет в датасете\n",
    "for i in lil_pred[lil_pred==0.36787944117144233].index:\n",
    "    lil_pred.at[i] = (big_pred[i] + price[i])/2"
   ]
  },
  {
   "cell_type": "code",
   "execution_count": 13,
   "id": "15f13b5e",
   "metadata": {
    "ExecuteTime": {
     "end_time": "2022-04-13T18:44:34.371816Z",
     "start_time": "2022-04-13T18:44:34.308793Z"
    }
   },
   "outputs": [],
   "source": [
    "'''SUBMISSION 3'''\n",
    "prediction = ((lil_pred + big_pred + price)/3).astype('int')\n",
    "prediction.name = 'price'\n",
    "\n",
    "\n",
    "pd.concat([test.sell_id, prediction],axis=1).to_csv(\n",
    "    'submission_3.csv', index=False)"
   ]
  },
  {
   "cell_type": "code",
   "execution_count": 14,
   "id": "2750d265",
   "metadata": {
    "ExecuteTime": {
     "end_time": "2022-04-13T18:44:34.435833Z",
     "start_time": "2022-04-13T18:44:34.372817Z"
    }
   },
   "outputs": [],
   "source": [
    "'''SUBMISSION 4'''\n",
    "prediction = ((lil_pred + big_pred)/2).astype('int')\n",
    "prediction.name = 'price'\n",
    "\n",
    "\n",
    "pd.concat([test.sell_id, prediction],axis=1).to_csv(\n",
    "    'submission_4.csv', index=False)"
   ]
  },
  {
   "cell_type": "code",
   "execution_count": 15,
   "id": "715f0666",
   "metadata": {
    "ExecuteTime": {
     "end_time": "2022-04-13T18:44:34.499679Z",
     "start_time": "2022-04-13T18:44:34.436834Z"
    }
   },
   "outputs": [],
   "source": [
    "'''SUBMISSION 5'''\n",
    "prediction = (  ( ((price + big_pred)/2) + lil_pred )/2  ).astype('int')\n",
    "prediction.name = 'price'\n",
    "\n",
    "\n",
    "pd.concat([test.sell_id, prediction],axis=1).to_csv(\n",
    "    'submission_5.csv', index=False)"
   ]
  },
  {
   "cell_type": "code",
   "execution_count": 16,
   "id": "bdf90185",
   "metadata": {
    "ExecuteTime": {
     "end_time": "2022-04-13T18:44:34.561847Z",
     "start_time": "2022-04-13T18:44:34.500681Z"
    }
   },
   "outputs": [],
   "source": [
    "'''SUBMISSION 6'''\n",
    "prediction = ( (price + lil_pred )/2 ).astype('int')\n",
    "prediction.name = 'price'\n",
    "\n",
    "\n",
    "pd.concat([test.sell_id, prediction],axis=1).to_csv(\n",
    "    'submission_6.csv', index=False)"
   ]
  },
  {
   "cell_type": "code",
   "execution_count": 17,
   "id": "6de3f578",
   "metadata": {
    "ExecuteTime": {
     "end_time": "2022-04-13T18:44:34.625455Z",
     "start_time": "2022-04-13T18:44:34.562848Z"
    }
   },
   "outputs": [],
   "source": [
    "'''SUBMISSION 7'''\n",
    "prediction = ( ((big_pred + lil_pred )/2 + lil_pred)/2 ).astype('int')\n",
    "prediction.name = 'price'\n",
    "\n",
    "\n",
    "pd.concat([test.sell_id, prediction],axis=1).to_csv(\n",
    "    'submission_7.csv', index=False)"
   ]
  },
  {
   "cell_type": "code",
   "execution_count": 18,
   "id": "7743e65a",
   "metadata": {
    "ExecuteTime": {
     "end_time": "2022-04-13T18:44:34.688708Z",
     "start_time": "2022-04-13T18:44:34.626456Z"
    }
   },
   "outputs": [],
   "source": [
    "'''SUBMISSION 8'''\n",
    "prediction = (lil_pred).astype('int')\n",
    "prediction.name = 'price'\n",
    "\n",
    "\n",
    "pd.concat([test.sell_id, prediction],axis=1).to_csv(\n",
    "    'submission_8.csv', index=False)"
   ]
  },
  {
   "cell_type": "code",
   "execution_count": 21,
   "id": "cbc4addc",
   "metadata": {
    "ExecuteTime": {
     "end_time": "2022-04-13T18:48:11.353347Z",
     "start_time": "2022-04-13T18:48:11.301335Z"
    }
   },
   "outputs": [],
   "source": [
    "'''SUBMISSION 9'''\n",
    "prediction = pd.Series(big_pred).astype('int')\n",
    "prediction.name = 'price'\n",
    "\n",
    "\n",
    "pd.concat([test.sell_id, prediction],axis=1).to_csv(\n",
    "    'submission_9.csv', index=False)"
   ]
  },
  {
   "cell_type": "code",
   "execution_count": 22,
   "id": "ecd70abd",
   "metadata": {
    "ExecuteTime": {
     "end_time": "2022-04-13T18:48:12.358072Z",
     "start_time": "2022-04-13T18:48:12.285413Z"
    }
   },
   "outputs": [],
   "source": [
    "'''SUBMISSION 10'''\n",
    "prediction = (  (  ( (big_pred + lil_pred)/2) + big_pred)/2  ).astype('int')\n",
    "prediction.name = 'price'\n",
    "\n",
    "\n",
    "pd.concat([test.sell_id, prediction],axis=1).to_csv(\n",
    "    'submission_10.csv', index=False)"
   ]
  },
  {
   "cell_type": "markdown",
   "id": "f2740d36",
   "metadata": {},
   "source": [
    "Возможно, что лучше всего заполнять пропуски именно big"
   ]
  },
  {
   "cell_type": "code",
   "execution_count": 23,
   "id": "15529f41",
   "metadata": {
    "ExecuteTime": {
     "end_time": "2022-04-13T18:48:13.375330Z",
     "start_time": "2022-04-13T18:48:13.305846Z"
    }
   },
   "outputs": [],
   "source": [
    "lil_pred = pd.read_pickle('lil_pred.pickle')\n",
    "\n",
    "for i in lil_pred[lil_pred==0.36787944117144233].index:\n",
    "    lil_pred.at[i] = big_pred[i]\n",
    "    \n",
    "    \n",
    "'''SUBMISSION 11'''\n",
    "prediction = ((lil_pred + big_pred)/2).astype('int')\n",
    "prediction.name = 'price'\n",
    "\n",
    "\n",
    "pd.concat([test.sell_id, prediction],axis=1).to_csv(\n",
    "    'submission_11.csv', index=False)"
   ]
  },
  {
   "cell_type": "markdown",
   "id": "84f9ea05",
   "metadata": {
    "ExecuteTime": {
     "end_time": "2022-04-13T17:44:06.201110Z",
     "start_time": "2022-04-13T17:44:06.194106Z"
    }
   },
   "source": [
    "Нет, это маловажно"
   ]
  },
  {
   "cell_type": "markdown",
   "id": "202405cb",
   "metadata": {},
   "source": [
    "Если спросите, почему я не обучал перспективный CatBoost на разделенных по брендам или моделям данных, то я отвечу, что не успел посмотреть на данную комбинацию."
   ]
  }
 ],
 "metadata": {
  "kernelspec": {
   "display_name": "Python 3 (ipykernel)",
   "language": "python",
   "name": "python3"
  },
  "language_info": {
   "codemirror_mode": {
    "name": "ipython",
    "version": 3
   },
   "file_extension": ".py",
   "mimetype": "text/x-python",
   "name": "python",
   "nbconvert_exporter": "python",
   "pygments_lexer": "ipython3",
   "version": "3.10.4"
  },
  "latex_envs": {
   "LaTeX_envs_menu_present": true,
   "autoclose": false,
   "autocomplete": true,
   "bibliofile": "biblio.bib",
   "cite_by": "apalike",
   "current_citInitial": 1,
   "eqLabelWithNumbers": true,
   "eqNumInitial": 1,
   "hotkeys": {
    "equation": "Ctrl-E",
    "itemize": "Ctrl-I"
   },
   "labels_anchors": false,
   "latex_user_defs": false,
   "report_style_numbering": false,
   "user_envs_cfg": false
  },
  "toc": {
   "base_numbering": 1,
   "nav_menu": {},
   "number_sections": true,
   "sideBar": true,
   "skip_h1_title": false,
   "title_cell": "Table of Contents",
   "title_sidebar": "Contents",
   "toc_cell": false,
   "toc_position": {},
   "toc_section_display": true,
   "toc_window_display": false
  },
  "varInspector": {
   "cols": {
    "lenName": 16,
    "lenType": 16,
    "lenVar": 40
   },
   "kernels_config": {
    "python": {
     "delete_cmd_postfix": "",
     "delete_cmd_prefix": "del ",
     "library": "var_list.py",
     "varRefreshCmd": "print(var_dic_list())"
    },
    "r": {
     "delete_cmd_postfix": ") ",
     "delete_cmd_prefix": "rm(",
     "library": "var_list.r",
     "varRefreshCmd": "cat(var_dic_list()) "
    }
   },
   "types_to_exclude": [
    "module",
    "function",
    "builtin_function_or_method",
    "instance",
    "_Feature"
   ],
   "window_display": false
  }
 },
 "nbformat": 4,
 "nbformat_minor": 5
}
