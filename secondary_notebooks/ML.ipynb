{
 "cells": [
  {
   "cell_type": "markdown",
   "id": "88817e1a",
   "metadata": {},
   "source": [
    "# Data"
   ]
  },
  {
   "cell_type": "code",
   "execution_count": 103,
   "id": "2ee26779",
   "metadata": {
    "ExecuteTime": {
     "end_time": "2022-04-13T13:24:55.160119Z",
     "start_time": "2022-04-13T13:24:55.144116Z"
    }
   },
   "outputs": [],
   "source": [
    "def mape(y_true, y_pred):\n",
    "    return np.mean(np.abs((y_pred-y_true)/y_true))*100\n",
    "\n",
    "from catboost import CatBoostRegressor\n",
    "\n",
    "import pandas as pd\n",
    "\n",
    "from sklearn.model_selection import train_test_split"
   ]
  },
  {
   "cell_type": "code",
   "execution_count": 109,
   "id": "73eab55e",
   "metadata": {
    "ExecuteTime": {
     "end_time": "2022-04-13T13:27:09.584511Z",
     "start_time": "2022-04-13T13:27:08.883149Z"
    }
   },
   "outputs": [],
   "source": [
    "%store -r df\n",
    "\n",
    "preX = pd.concat(\n",
    "[df[['brand','sell_id','price','engineDisplacement', 'enginePower','mileage','car_age', 'model_product_time']] ,\n",
    "pd.get_dummies(df.bodyType,prefix='bodyType'),\n",
    "pd.get_dummies(df.fuelType,prefix='fuelType'),\n",
    "pd.get_dummies(df.vehicleTransmission,prefix='vehicleTransmission'),\n",
    "pd.get_dummies(df.Привод,prefix='Привод'),\n",
    "pd.get_dummies(df.Владельцы,prefix='Владельцы'),\n",
    "pd.get_dummies(df.Владение,prefix='Владение'),\n",
    "pd.get_dummies(df.color,prefix='color'),\n",
    "pd.get_dummies(df.ПТС,prefix='ПТС'),\n",
    "pd.get_dummies(df.Руль,prefix='Руль'),\n",
    "pd.get_dummies(df.numberOfDoors,prefix='numberOfDoors'),],axis=1)\n",
    "\n",
    "preX.sample(5)\n",
    "\n",
    "test = preX[preX.price==-1]\n",
    "train = preX[preX.price!=-1]\n",
    "\n",
    "X=train.drop(['brand','sell_id','price'],axis='columns')\n",
    "y=train.price"
   ]
  },
  {
   "cell_type": "code",
   "execution_count": 397,
   "id": "583731f7",
   "metadata": {
    "ExecuteTime": {
     "end_time": "2022-04-13T11:43:14.585092Z",
     "start_time": "2022-04-13T11:43:14.542135Z"
    }
   },
   "outputs": [],
   "source": [
    "X_train, X_test, y_train, y_test = train_test_split(\n",
    "    X ,\n",
    "    y, test_size=0.2, shuffle=True, random_state=42)"
   ]
  },
  {
   "cell_type": "code",
   "execution_count": 388,
   "id": "037f9d26",
   "metadata": {
    "ExecuteTime": {
     "end_time": "2022-04-13T11:41:28.089950Z",
     "start_time": "2022-04-13T11:40:56.002328Z"
    }
   },
   "outputs": [
    {
     "data": {
      "text/plain": [
       "<catboost.core.CatBoostRegressor at 0x1d900fc8be0>"
      ]
     },
     "execution_count": 388,
     "metadata": {},
     "output_type": "execute_result"
    }
   ],
   "source": [
    "model = CatBoostRegressor(iterations = 10000,\n",
    "                          random_seed = 42, silent=True)\n",
    "model.fit(X_train.values, np.log(y_train.values))"
   ]
  },
  {
   "cell_type": "code",
   "execution_count": 390,
   "id": "6c9a7f33",
   "metadata": {
    "ExecuteTime": {
     "end_time": "2022-04-13T11:41:31.561328Z",
     "start_time": "2022-04-13T11:41:31.547326Z"
    }
   },
   "outputs": [
    {
     "data": {
      "text/plain": [
       "12.887172638421523"
      ]
     },
     "execution_count": 390,
     "metadata": {},
     "output_type": "execute_result"
    }
   ],
   "source": [
    "mape(y_test, np.exp(model.predict(X_test.values)) )"
   ]
  },
  {
   "cell_type": "code",
   "execution_count": null,
   "id": "4cc43093",
   "metadata": {},
   "outputs": [],
   "source": []
  },
  {
   "cell_type": "code",
   "execution_count": 131,
   "id": "0b2d2020",
   "metadata": {
    "ExecuteTime": {
     "end_time": "2022-04-13T13:49:03.543767Z",
     "start_time": "2022-04-13T13:47:43.431444Z"
    }
   },
   "outputs": [
    {
     "name": "stdout",
     "output_type": "stream",
     "text": [
      "KAGGLE score: 15.81082\n"
     ]
    }
   ],
   "source": [
    "'''SUBMISSION_1'''\n",
    "model = CatBoostRegressor(iterations = 10000,\n",
    "                          random_seed = 42, silent=True)\n",
    "model.fit(X.values, np.log(y.values))\n",
    "\n",
    "price = pd.Series(np.exp(model.predict(test.drop(['brand','sell_id','price'],axis='columns').values)))\n",
    "price.name = 'price'\n",
    "price = price.astype('int')\n",
    "pd.concat([test.sell_id, price],axis=1).to_csv(f'submission_1.csv', index=False)\n",
    "print('KAGGLE score: 15.81082')"
   ]
  },
  {
   "cell_type": "code",
   "execution_count": 39,
   "id": "06ead4fd",
   "metadata": {
    "ExecuteTime": {
     "end_time": "2022-04-13T12:23:07.357072Z",
     "start_time": "2022-04-13T12:23:07.292884Z"
    }
   },
   "outputs": [],
   "source": []
  },
  {
   "cell_type": "code",
   "execution_count": 3,
   "id": "f49e1bcd",
   "metadata": {
    "ExecuteTime": {
     "end_time": "2022-04-13T07:28:07.900953Z",
     "start_time": "2022-04-13T07:28:07.891951Z"
    }
   },
   "outputs": [],
   "source": [
    "import pandas as pd\n",
    "\n",
    "from sklearn.model_selection import train_test_split "
   ]
  },
  {
   "cell_type": "code",
   "execution_count": 413,
   "id": "83316067",
   "metadata": {
    "ExecuteTime": {
     "end_time": "2022-04-13T11:44:26.237146Z",
     "start_time": "2022-04-13T11:44:25.751253Z"
    }
   },
   "outputs": [
    {
     "data": {
      "text/plain": [
       "19.163364377579075"
      ]
     },
     "execution_count": 413,
     "metadata": {},
     "output_type": "execute_result"
    }
   ],
   "source": [
    "from sklearn import tree                             \n",
    "from sklearn.model_selection import train_test_split\n",
    "\n",
    "model = tree.DecisionTreeRegressor(max_depth=16, max_features=None)\n",
    "model.fit(X_train,y_train)\n",
    "\n",
    "(mape(y_test, (model.predict(X_test))))"
   ]
  },
  {
   "cell_type": "markdown",
   "id": "aee47c9d",
   "metadata": {},
   "source": [
    "# TREE"
   ]
  },
  {
   "cell_type": "code",
   "execution_count": 105,
   "id": "3269d2d4",
   "metadata": {
    "ExecuteTime": {
     "end_time": "2022-04-13T13:25:07.835655Z",
     "start_time": "2022-04-13T13:25:07.744845Z"
    }
   },
   "outputs": [],
   "source": [
    "\n",
    "train_SKODA = train[train.brand == 'SKODA'].drop(['brand','sell_id'],axis='columns').reset_index(drop=True)\n",
    "train_AUDI = train[train.brand == 'AUDI'].drop(['brand','sell_id'],axis='columns').reset_index(drop=True)\n",
    "train_HONDA = train[train.brand == 'HONDA'].drop(['brand','sell_id'],axis='columns').reset_index(drop=True)\n",
    "train_VOLVO = train[train.brand == 'VOLVO'].drop(['brand','sell_id'],axis='columns').reset_index(drop=True)\n",
    "train_BMW = train[train.brand == 'BMW'].drop(['brand','sell_id'],axis='columns').reset_index(drop=True)\n",
    "train_NISSAN = train[train.brand == 'NISSAN'].drop(['brand','sell_id'],axis='columns').reset_index(drop=True)\n",
    "train_INFINITI = train[train.brand == 'INFINITI'].drop(['brand','sell_id'],axis='columns').reset_index(drop=True)\n",
    "train_MERCEDES = train[train.brand == 'MERCEDES'].drop(['brand','sell_id'],axis='columns').reset_index(drop=True)\n",
    "train_TOYOTA = train[train.brand == 'TOYOTA'].drop(['brand','sell_id'],axis='columns').reset_index(drop=True)\n",
    "train_LEXUS = train[train.brand == 'LEXUS'].drop(['brand','sell_id'],axis='columns').reset_index(drop=True)\n",
    "train_VOLKSWAGEN = train[train.brand == 'VOLKSWAGEN'].drop(['brand','sell_id'],axis='columns').reset_index(drop=True)\n",
    "train_MITSUBISHI = train[train.brand == 'MITSUBISHI'].drop(['brand','sell_id'],axis='columns').reset_index(drop=True)"
   ]
  },
  {
   "cell_type": "code",
   "execution_count": 106,
   "id": "6a2dd352",
   "metadata": {
    "ExecuteTime": {
     "end_time": "2022-04-13T13:25:08.724749Z",
     "start_time": "2022-04-13T13:25:08.435835Z"
    }
   },
   "outputs": [
    {
     "data": {
      "text/plain": [
       "DecisionTreeRegressor()"
      ]
     },
     "execution_count": 106,
     "metadata": {},
     "output_type": "execute_result"
    }
   ],
   "source": [
    "from sklearn import tree                             \n",
    "from sklearn.model_selection import train_test_split\n",
    "\n",
    "SKODA = tree.DecisionTreeRegressor(max_depth=None, max_features=None)\n",
    "SKODA.fit(train_SKODA.drop(['price'],axis='columns'),np.log(train_SKODA.price))\n",
    "\n",
    "AUDI = tree.DecisionTreeRegressor(max_depth=None, max_features=None)\n",
    "AUDI.fit(train_AUDI.drop(['price'],axis='columns'),np.log(train_AUDI.price))\n",
    "\n",
    "HONDA = tree.DecisionTreeRegressor(max_depth=None, max_features=None)\n",
    "HONDA.fit(train_HONDA.drop(['price'],axis='columns'),np.log(train_HONDA.price))\n",
    "\n",
    "VOLVO = tree.DecisionTreeRegressor(max_depth=None, max_features=None)\n",
    "VOLVO.fit(train_VOLVO.drop(['price'],axis='columns'),np.log(train_VOLVO.price))\n",
    "\n",
    "BMW = tree.DecisionTreeRegressor(max_depth=None, max_features=None)\n",
    "BMW.fit(train_BMW.drop(['price'],axis='columns'),np.log(train_BMW.price))\n",
    "\n",
    "NISSAN = tree.DecisionTreeRegressor(max_depth=None, max_features=None)\n",
    "NISSAN.fit(train_NISSAN.drop(['price'],axis='columns'),np.log(train_NISSAN.price))\n",
    "\n",
    "INFINITI = tree.DecisionTreeRegressor(max_depth=None, max_features=None)\n",
    "INFINITI.fit(train_INFINITI.drop(['price'],axis='columns'),np.log(train_INFINITI.price))\n",
    "\n",
    "MERCEDES = tree.DecisionTreeRegressor(max_depth=None, max_features=None)\n",
    "MERCEDES.fit(train_MERCEDES.drop(['price'],axis='columns'),np.log(train_MERCEDES.price))\n",
    "\n",
    "TOYOTA = tree.DecisionTreeRegressor(max_depth=None, max_features=None)\n",
    "TOYOTA.fit(train_TOYOTA.drop(['price'],axis='columns'),np.log(train_TOYOTA.price))\n",
    "\n",
    "LEXUS = tree.DecisionTreeRegressor(max_depth=None, max_features=None)\n",
    "LEXUS.fit(train_LEXUS.drop(['price'],axis='columns'),np.log(train_LEXUS.price))\n",
    "\n",
    "VOLKSWAGEN = tree.DecisionTreeRegressor(max_depth=None, max_features=None)\n",
    "VOLKSWAGEN.fit(train_VOLKSWAGEN.drop(['price'],axis='columns'),np.log(train_VOLKSWAGEN.price))\n",
    "\n",
    "MITSUBISHI = tree.DecisionTreeRegressor(max_depth=None, max_features=None)\n",
    "MITSUBISHI.fit(train_MITSUBISHI.drop(['price'],axis='columns'),np.log(train_MITSUBISHI.price))"
   ]
  },
  {
   "cell_type": "code",
   "execution_count": 113,
   "id": "8c59101d",
   "metadata": {
    "ExecuteTime": {
     "end_time": "2022-04-13T13:28:41.978694Z",
     "start_time": "2022-04-13T13:28:41.968691Z"
    }
   },
   "outputs": [],
   "source": [
    "for_pred = test.drop(['brand','sell_id','price'],axis='columns')"
   ]
  },
  {
   "cell_type": "code",
   "execution_count": 124,
   "id": "f02879ae",
   "metadata": {
    "ExecuteTime": {
     "end_time": "2022-04-13T13:37:51.347978Z",
     "start_time": "2022-04-13T13:34:28.888020Z"
    }
   },
   "outputs": [],
   "source": [
    "preds = []\n",
    "for i in test.index:\n",
    "    if test.brand[i] == 'SKODA': preds.append(SKODA.predict(pd.DataFrame(for_pred.iloc[i]).T)[0])\n",
    "    if test.brand[i] == 'AUDI': preds.append(AUDI.predict(pd.DataFrame(for_pred.iloc[i]).T)[0])\n",
    "    if test.brand[i] == 'HONDA': preds.append(HONDA.predict(pd.DataFrame(for_pred.iloc[i]).T)[0])\n",
    "    if test.brand[i] == 'VOLVO': preds.append(VOLVO.predict(pd.DataFrame(for_pred.iloc[i]).T)[0])\n",
    "    if test.brand[i] == 'BMW': preds.append(BMW.predict(pd.DataFrame(for_pred.iloc[i]).T)[0])\n",
    "    if test.brand[i] == 'NISSAN': preds.append(NISSAN.predict(pd.DataFrame(for_pred.iloc[i]).T)[0])\n",
    "    if test.brand[i] == 'INFINITI': preds.append(INFINITI.predict(pd.DataFrame(for_pred.iloc[i]).T)[0])\n",
    "    if test.brand[i] == 'MERCEDES': preds.append(MERCEDES.predict(pd.DataFrame(for_pred.iloc[i]).T)[0])\n",
    "    if test.brand[i] == 'TOYOTA': preds.append(TOYOTA.predict(pd.DataFrame(for_pred.iloc[i]).T)[0])\n",
    "    if test.brand[i] == 'LEXUS': preds.append(LEXUS.predict(pd.DataFrame(for_pred.iloc[i]).T)[0])\n",
    "    if test.brand[i] == 'VOLKSWAGEN': preds.append(VOLKSWAGEN.predict(pd.DataFrame(for_pred.iloc[i]).T)[0])\n",
    "    if test.brand[i] == 'MITSUBISHI': preds.append(MITSUBISHI.predict(pd.DataFrame(for_pred.iloc[i]).T)[0])"
   ]
  },
  {
   "cell_type": "code",
   "execution_count": 123,
   "id": "62fd8bd1",
   "metadata": {
    "ExecuteTime": {
     "end_time": "2022-04-13T13:34:05.033780Z",
     "start_time": "2022-04-13T13:34:05.014776Z"
    }
   },
   "outputs": [
    {
     "data": {
      "text/plain": [
       "13.279367126213993"
      ]
     },
     "execution_count": 123,
     "metadata": {},
     "output_type": "execute_result"
    }
   ],
   "source": [
    "MITSUBISHI.predict(pd.DataFrame(for_pred.iloc[i]).T)[0]"
   ]
  },
  {
   "cell_type": "code",
   "execution_count": 133,
   "id": "1aca263f",
   "metadata": {
    "ExecuteTime": {
     "end_time": "2022-04-13T13:56:23.188471Z",
     "start_time": "2022-04-13T13:56:23.101032Z"
    }
   },
   "outputs": [
    {
     "name": "stdout",
     "output_type": "stream",
     "text": [
      "KAGGLE score: 12.82608\n"
     ]
    }
   ],
   "source": [
    "pd.concat([test.sell_id, (price + np.exp(preds))/2],axis=1).to_csv(\n",
    "    f'submission_2.csv', index=False)\n",
    "print('KAGGLE score: 12.82608')"
   ]
  },
  {
   "cell_type": "code",
   "execution_count": 127,
   "id": "1264ef3d",
   "metadata": {
    "ExecuteTime": {
     "end_time": "2022-04-13T13:42:43.698586Z",
     "start_time": "2022-04-13T13:42:43.687583Z"
    }
   },
   "outputs": [
    {
     "data": {
      "text/plain": [
       "0         549000.0\n",
       "1         895000.0\n",
       "2        1180000.0\n",
       "3         685000.0\n",
       "4        1100000.0\n",
       "           ...    \n",
       "34681    1050000.0\n",
       "34682    2150000.0\n",
       "34683     262000.0\n",
       "34684    1395000.0\n",
       "34685     945000.0\n",
       "Length: 34686, dtype: float64"
      ]
     },
     "execution_count": 127,
     "metadata": {},
     "output_type": "execute_result"
    }
   ],
   "source": [
    "pd.Series((np.exp(preds)))"
   ]
  },
  {
   "cell_type": "code",
   "execution_count": 445,
   "id": "c948a7b4",
   "metadata": {
    "ExecuteTime": {
     "end_time": "2022-04-13T11:58:33.158560Z",
     "start_time": "2022-04-13T11:58:33.111690Z"
    }
   },
   "outputs": [
    {
     "data": {
      "text/plain": [
       "0.24293296525596184"
      ]
     },
     "execution_count": 445,
     "metadata": {},
     "output_type": "execute_result"
    }
   ],
   "source": [
    "from sklearn import tree                             \n",
    "from sklearn.model_selection import train_test_split\n",
    "\n",
    "model = tree.DecisionTreeRegressor(max_depth=None, max_features=None)\n",
    "model.fit(SKODA.drop(['price'],axis='columns'),SKODA.price)\n",
    "\n",
    "(mape(train[train.brand=='SKODA'].price, model.predict(train[train.brand=='SKODA'].drop(['brand','sell_id','price'],axis='columns'))))"
   ]
  }
 ],
 "metadata": {
  "kernelspec": {
   "display_name": "Python 3 (ipykernel)",
   "language": "python",
   "name": "python3"
  },
  "language_info": {
   "codemirror_mode": {
    "name": "ipython",
    "version": 3
   },
   "file_extension": ".py",
   "mimetype": "text/x-python",
   "name": "python",
   "nbconvert_exporter": "python",
   "pygments_lexer": "ipython3",
   "version": "3.10.4"
  },
  "latex_envs": {
   "LaTeX_envs_menu_present": true,
   "autoclose": false,
   "autocomplete": true,
   "bibliofile": "biblio.bib",
   "cite_by": "apalike",
   "current_citInitial": 1,
   "eqLabelWithNumbers": true,
   "eqNumInitial": 1,
   "hotkeys": {
    "equation": "Ctrl-E",
    "itemize": "Ctrl-I"
   },
   "labels_anchors": false,
   "latex_user_defs": false,
   "report_style_numbering": false,
   "user_envs_cfg": false
  },
  "toc": {
   "base_numbering": 1,
   "nav_menu": {},
   "number_sections": true,
   "sideBar": true,
   "skip_h1_title": false,
   "title_cell": "Table of Contents",
   "title_sidebar": "Contents",
   "toc_cell": false,
   "toc_position": {},
   "toc_section_display": true,
   "toc_window_display": false
  },
  "varInspector": {
   "cols": {
    "lenName": 16,
    "lenType": 16,
    "lenVar": 40
   },
   "kernels_config": {
    "python": {
     "delete_cmd_postfix": "",
     "delete_cmd_prefix": "del ",
     "library": "var_list.py",
     "varRefreshCmd": "print(var_dic_list())"
    },
    "r": {
     "delete_cmd_postfix": ") ",
     "delete_cmd_prefix": "rm(",
     "library": "var_list.r",
     "varRefreshCmd": "cat(var_dic_list()) "
    }
   },
   "types_to_exclude": [
    "module",
    "function",
    "builtin_function_or_method",
    "instance",
    "_Feature"
   ],
   "window_display": false
  }
 },
 "nbformat": 4,
 "nbformat_minor": 5
}
