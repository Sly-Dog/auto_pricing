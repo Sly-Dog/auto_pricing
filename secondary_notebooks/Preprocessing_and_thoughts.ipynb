{
 "cells": [
  {
   "cell_type": "code",
   "execution_count": 211,
   "metadata": {},
   "outputs": [],
   "source": [
    "%store -r train_mod \n",
    "%store -r test_mod"
   ]
  },
  {
   "cell_type": "markdown",
   "metadata": {},
   "source": [
    "# Импорт"
   ]
  },
  {
   "cell_type": "code",
   "execution_count": 212,
   "metadata": {},
   "outputs": [],
   "source": [
    "import numpy as np # linear algebra\n",
    "import pandas as pd # data processing, CSV file I/O (e.g. pd.read_csv)\n",
    "import sys\n",
    "import re\n",
    "import matplotlib.pyplot as plt\n",
    "from sklearn.model_selection import train_test_split\n",
    "from sklearn.model_selection import KFold\n",
    "from tqdm.notebook import tqdm\n",
    "from catboost import CatBoostRegressor\n",
    "from sklearn.preprocessing import LabelEncoder"
   ]
  },
  {
   "cell_type": "code",
   "execution_count": 213,
   "metadata": {},
   "outputs": [
    {
     "name": "stdout",
     "output_type": "stream",
     "text": [
      "Python       : 3.10.4 (tags/v3.10.4:9d38120, Mar 23 2022, 23:13:41) [MSC v.1929 64 bit (AMD64)]\n",
      "Numpy        : 1.22.3\n"
     ]
    }
   ],
   "source": [
    "print('Python       :', sys.version.split('\\n')[0])\n",
    "print('Numpy        :', np.__version__)"
   ]
  },
  {
   "cell_type": "markdown",
   "metadata": {},
   "source": [
    "# Функции"
   ]
  },
  {
   "cell_type": "code",
   "execution_count": 214,
   "metadata": {},
   "outputs": [],
   "source": [
    "#Словарь соответствий брендов странас происхождения\n",
    "countries_dict = {'Germany': ['AUDI','BMW','OPEL','PORSCHE','VOLKSWAGEN','MERCEDES'],\n",
    "                  'Japan':   ['HONDA','INFINITI','LEXUS','MAZDA','MITSUBISHI','NISSAN','SUBARU','SUZUKI','TOYOTA'],\n",
    "                  'USA':     ['CADILLAC','CHEVROLET','CHRYSLER','DODGE','FORD','JEEP'],\n",
    "                  'China':   ['CHERY','GEELY','GREAT_WALL'],\n",
    "                  'UK':      ['JAGUAR','MINI','LAND_ROVER'],\n",
    "                  'Korea':   ['DAEWOO','HYUNDAI','KIA','SSANG_YONG'],\n",
    "                  'Sweden':  ['VOLVO'],\n",
    "                  'Czech':   ['SKODA']}"
   ]
  },
  {
   "cell_type": "code",
   "execution_count": 215,
   "metadata": {},
   "outputs": [],
   "source": [
    "#Функция для заполнения столбца со страной происхождения бренда\n",
    "def get_country(x):\n",
    "    if x in countries_dict['Germany']:\n",
    "        x = 'Germany'\n",
    "    elif x in countries_dict['Japan']:\n",
    "        x = 'Japan'\n",
    "    elif x in countries_dict['USA']:\n",
    "        x = 'USA'\n",
    "    elif x in countries_dict['China']:\n",
    "        x = 'China'\n",
    "    elif x in countries_dict['UK']:\n",
    "        x = 'UK'\n",
    "    elif x in countries_dict['Korea']:\n",
    "        x = 'Korea'\n",
    "    elif x in countries_dict['Sweden']:\n",
    "        x = 'Sweden'\n",
    "    else:\n",
    "        x = 'Czech'\n",
    "    return x\n",
    "#Наверное, эта функция должна выглядеть не так колхозно\n",
    "\n",
    "\n",
    "#Функция для просмотра и сравнения типов данных в столбцах\n",
    "def type_comparison(column):\n",
    "    print('TEST')\n",
    "    display(test_mod[column].sample(5))\n",
    "    print('TRAIN')\n",
    "    display(train_mod[column].sample(5))  \n",
    "    \n",
    "    \n",
    "    \n",
    "#Функция для приведения значений столбца bodyType к единому формату\n",
    "def get_bodyType(x):\n",
    "    row = str(x).lower()\n",
    "    bodyType = re.findall('[а-яё]+', row)\n",
    "    if bodyType == []:\n",
    "        return None\n",
    "    return str(bodyType[0])\n",
    "\n",
    "\n",
    "\n",
    "#Функция для приведения значений столбца engineDisplacement к единому формату\n",
    "def get_EngineDisplacement(x):\n",
    "    row = str(x)\n",
    "    engine = re.findall('\\d\\.\\d', row)\n",
    "    if engine == []:\n",
    "        return None\n",
    "    return float(engine[0])\n",
    "\n",
    "\n",
    "\n",
    "#Функция для извлечения значения объёма двигателя из столбца name\n",
    "def pull_EngineDisplacement(x):\n",
    "    row = str(x)\n",
    "    engine = re.findall('\\d\\.\\d', row)\n",
    "    if len(engine) !=0:\n",
    "        return float(engine[0])\n",
    "    else:\n",
    "        return 0\n",
    "\n",
    "    \n",
    "    \n",
    "#Список имён столбцов под удаление. Будет заполняться по ходу первичного анализа.\n",
    "columns_to_drop = []"
   ]
  },
  {
   "cell_type": "code",
   "execution_count": 216,
   "metadata": {},
   "outputs": [],
   "source": [
    "train2 = train_mod.copy()\n",
    "test2 = test_mod.copy()"
   ]
  },
  {
   "cell_type": "markdown",
   "metadata": {},
   "source": [
    "##### Определение общих и различающихся столбцов в TRAIN и TEST"
   ]
  },
  {
   "cell_type": "code",
   "execution_count": 217,
   "metadata": {},
   "outputs": [],
   "source": [
    "#Общие столбцы\n",
    "common_columns = set(test_mod.columns).intersection(train_mod.columns)\n",
    "\n",
    "#Только в TEST\n",
    "test_only_columns = set(test_mod.columns).difference(train_mod.columns)\n",
    "\n",
    "#Только в TRAIN\n",
    "train_only_columns = set(train_mod.columns).difference(test_mod.columns)"
   ]
  },
  {
   "cell_type": "markdown",
   "metadata": {},
   "source": [
    "Как можно видеть, формат данных в части столбцов с одинаковыми названиями не совпадает. Также необходимо исследовать содержаимое ячеек."
   ]
  },
  {
   "cell_type": "markdown",
   "metadata": {},
   "source": [
    "##### Бренды в TRAIN и TEST"
   ]
  },
  {
   "cell_type": "code",
   "execution_count": 218,
   "metadata": {},
   "outputs": [
    {
     "data": {
      "text/plain": [
       "array(['AUDI', 'BMW', 'CADILLAC', 'CHERY', 'CHEVROLET', 'CHRYSLER',\n",
       "       'CITROEN', 'DAEWOO', 'DODGE', 'FORD', 'GEELY', 'HONDA', 'HYUNDAI',\n",
       "       'INFINITI', 'JAGUAR', 'JEEP', 'KIA', 'LEXUS', 'MAZDA', 'MINI',\n",
       "       'MITSUBISHI', 'NISSAN', 'OPEL', 'PEUGEOT', 'PORSCHE', 'RENAULT',\n",
       "       'SKODA', 'SUBARU', 'SUZUKI', 'TOYOTA', 'VOLKSWAGEN', 'VOLVO',\n",
       "       'GREAT_WALL', 'LAND_ROVER', 'MERCEDES', 'SSANG_YONG'], dtype=object)"
      ]
     },
     "metadata": {},
     "output_type": "display_data"
    },
    {
     "name": "stdout",
     "output_type": "stream",
     "text": [
      "Всего в TRAIN 36 брендов.\n"
     ]
    }
   ],
   "source": [
    "display(train_mod.brand.unique())\n",
    "print('Всего в TRAIN',len(train_mod.brand.unique()),'брендов.',sep=' ')"
   ]
  },
  {
   "cell_type": "code",
   "execution_count": 219,
   "metadata": {
    "scrolled": true
   },
   "outputs": [
    {
     "data": {
      "text/plain": [
       "array(['SKODA', 'AUDI', 'HONDA', 'VOLVO', 'BMW', 'NISSAN', 'INFINITI',\n",
       "       'MERCEDES', 'TOYOTA', 'LEXUS', 'VOLKSWAGEN', 'MITSUBISHI'],\n",
       "      dtype=object)"
      ]
     },
     "metadata": {},
     "output_type": "display_data"
    },
    {
     "name": "stdout",
     "output_type": "stream",
     "text": [
      "Всего в TEST 12 брендов.\n"
     ]
    }
   ],
   "source": [
    "display(test_mod.brand.unique())\n",
    "print('Всего в TEST',len(test_mod.brand.unique()),'брендов.',sep=' ')"
   ]
  },
  {
   "cell_type": "markdown",
   "metadata": {},
   "source": [
    "Имеет смысл создать столбец со странами происхождения брендов."
   ]
  },
  {
   "cell_type": "code",
   "execution_count": 220,
   "metadata": {},
   "outputs": [],
   "source": [
    "test_mod['Country_of_origin'] = test_mod['brand'].apply(get_country)\n",
    "train_mod['Country_of_origin'] = train_mod['brand'].apply(get_country)"
   ]
  },
  {
   "cell_type": "markdown",
   "metadata": {},
   "source": [
    "## bodyType"
   ]
  },
  {
   "cell_type": "code",
   "execution_count": 221,
   "metadata": {
    "scrolled": true
   },
   "outputs": [
    {
     "name": "stdout",
     "output_type": "stream",
     "text": [
      "TEST\n"
     ]
    },
    {
     "data": {
      "text/plain": [
       "198                лифтбек\n",
       "2493     внедорожник 5 дв.\n",
       "12840                седан\n",
       "29057                седан\n",
       "34318                седан\n",
       "Name: bodyType, dtype: object"
      ]
     },
     "metadata": {},
     "output_type": "display_data"
    },
    {
     "name": "stdout",
     "output_type": "stream",
     "text": [
      "TRAIN\n"
     ]
    },
    {
     "data": {
      "text/plain": [
       "6807                 Седан\n",
       "28232                Седан\n",
       "24925        Хэтчбек 5 дв.\n",
       "19147    Внедорожник 5 дв.\n",
       "51087    Внедорожник 5 дв.\n",
       "Name: bodyType, dtype: object"
      ]
     },
     "metadata": {},
     "output_type": "display_data"
    }
   ],
   "source": [
    "column = 'bodyType'\n",
    "type_comparison(column)"
   ]
  },
  {
   "cell_type": "markdown",
   "metadata": {},
   "source": [
    "Необходимо почистить эти данные и привести к единому формату."
   ]
  },
  {
   "cell_type": "code",
   "execution_count": 222,
   "metadata": {},
   "outputs": [],
   "source": [
    "test_mod['bodyType'] = test_mod.bodyType.apply(get_bodyType)\n",
    "train_mod['bodyType'] = train_mod.bodyType.apply(get_bodyType)"
   ]
  },
  {
   "cell_type": "code",
   "execution_count": 223,
   "metadata": {},
   "outputs": [
    {
     "name": "stdout",
     "output_type": "stream",
     "text": [
      "TEST\n"
     ]
    },
    {
     "data": {
      "text/plain": [
       "9968           седан\n",
       "31573          седан\n",
       "12150    внедорожник\n",
       "29202    внедорожник\n",
       "9754           седан\n",
       "Name: bodyType, dtype: object"
      ]
     },
     "metadata": {},
     "output_type": "display_data"
    },
    {
     "name": "stdout",
     "output_type": "stream",
     "text": [
      "TRAIN\n"
     ]
    },
    {
     "data": {
      "text/plain": [
       "38040    внедорожник\n",
       "48678    внедорожник\n",
       "37367          седан\n",
       "79194    внедорожник\n",
       "7652            купе\n",
       "Name: bodyType, dtype: object"
      ]
     },
     "metadata": {},
     "output_type": "display_data"
    }
   ],
   "source": [
    "column = 'bodyType'\n",
    "type_comparison(column)"
   ]
  },
  {
   "cell_type": "markdown",
   "metadata": {},
   "source": [
    "## color"
   ]
  },
  {
   "cell_type": "code",
   "execution_count": 224,
   "metadata": {
    "scrolled": true
   },
   "outputs": [
    {
     "name": "stdout",
     "output_type": "stream",
     "text": [
      "TEST\n"
     ]
    },
    {
     "data": {
      "text/plain": [
       "27501    серебристый\n",
       "841            белый\n",
       "10273         чёрный\n",
       "3157     серебристый\n",
       "4680          чёрный\n",
       "Name: color, dtype: object"
      ]
     },
     "metadata": {},
     "output_type": "display_data"
    },
    {
     "name": "stdout",
     "output_type": "stream",
     "text": [
      "TRAIN\n"
     ]
    },
    {
     "data": {
      "text/plain": [
       "13070    97948F\n",
       "67581    040001\n",
       "12785    FAFBFB\n",
       "25848    FAFBFB\n",
       "74158    FAFBFB\n",
       "Name: color, dtype: object"
      ]
     },
     "metadata": {},
     "output_type": "display_data"
    }
   ],
   "source": [
    "column = 'color'\n",
    "type_comparison(column)"
   ]
  },
  {
   "cell_type": "markdown",
   "metadata": {},
   "source": [
    "Здесь также требуется приведение к единому формату"
   ]
  },
  {
   "cell_type": "code",
   "execution_count": 225,
   "metadata": {
    "scrolled": true
   },
   "outputs": [
    {
     "data": {
      "text/plain": [
       "array(['040001', 'EE1D19', '0000CC', 'CACECB', '007F00', 'FAFBFB',\n",
       "       '97948F', '22A0F8', '660099', '200204', 'C49648', 'DEA522',\n",
       "       '4A2197', 'FFD600', 'FF8649', 'FFC0CB'], dtype=object)"
      ]
     },
     "execution_count": 225,
     "metadata": {},
     "output_type": "execute_result"
    }
   ],
   "source": [
    "train_mod.color.unique()"
   ]
  },
  {
   "cell_type": "code",
   "execution_count": 226,
   "metadata": {
    "scrolled": true
   },
   "outputs": [
    {
     "data": {
      "text/plain": [
       "array(['синий', 'чёрный', 'серый', 'коричневый', 'белый', 'пурпурный',\n",
       "       'бежевый', 'серебристый', 'красный', 'зелёный', 'жёлтый',\n",
       "       'голубой', 'оранжевый', 'фиолетовый', 'золотистый', 'розовый'],\n",
       "      dtype=object)"
      ]
     },
     "execution_count": 226,
     "metadata": {},
     "output_type": "execute_result"
    }
   ],
   "source": [
    "test_mod.color.unique()"
   ]
  },
  {
   "cell_type": "code",
   "execution_count": 227,
   "metadata": {},
   "outputs": [],
   "source": [
    "#Преобразование\n",
    "train_mod = train_mod.replace({'color':\n",
    "                            {'040001': 'чёрный',\n",
    "                            'EE1D19': 'красный',\n",
    "                            '0000CC': 'синий',\n",
    "                            'CACECB': 'серебристый',\n",
    "                            '007F00': 'зелёный',\n",
    "                            'FAFBFB': 'белый',\n",
    "                            '97948F': 'серый',\n",
    "                            '22A0F8': 'голубой',\n",
    "                            '660099': 'фиолетовый',\n",
    "                            '200204': 'коричневый',\n",
    "                            'C49648': 'бежевый',\n",
    "                            'DEA522': 'золотистый',\n",
    "                            '4A2197': 'пурпурный',\n",
    "                            'FFD600': 'жёлтый',\n",
    "                            'FF8649': 'оранжевый',\n",
    "                            'FFC0CB': 'розовый'}})"
   ]
  },
  {
   "cell_type": "code",
   "execution_count": 228,
   "metadata": {},
   "outputs": [
    {
     "name": "stdout",
     "output_type": "stream",
     "text": [
      "TEST\n"
     ]
    },
    {
     "data": {
      "text/plain": [
       "17518     чёрный\n",
       "32257    бежевый\n",
       "29841      синий\n",
       "1388       серый\n",
       "34008      белый\n",
       "Name: color, dtype: object"
      ]
     },
     "metadata": {},
     "output_type": "display_data"
    },
    {
     "name": "stdout",
     "output_type": "stream",
     "text": [
      "TRAIN\n"
     ]
    },
    {
     "data": {
      "text/plain": [
       "59312    зелёный\n",
       "23283      синий\n",
       "7243       серый\n",
       "59271     чёрный\n",
       "8383      чёрный\n",
       "Name: color, dtype: object"
      ]
     },
     "metadata": {},
     "output_type": "display_data"
    }
   ],
   "source": [
    "column = 'color'\n",
    "type_comparison(column)"
   ]
  },
  {
   "cell_type": "markdown",
   "metadata": {},
   "source": [
    "## description"
   ]
  },
  {
   "cell_type": "code",
   "execution_count": 229,
   "metadata": {
    "scrolled": false
   },
   "outputs": [
    {
     "name": "stdout",
     "output_type": "stream",
     "text": [
      "TEST\n"
     ]
    },
    {
     "data": {
      "text/plain": [
       "32239    Продаю Лансер- Рулевая рейка и Гур после ремон...\n",
       "3884     Продаю своего немца! Автомобиль в хорошем техн...\n",
       "14338    Продаю свой Личный автомобиль , так как требую...\n",
       "16954    Комфорт: 10. Безопасность: 6. Салон: 8. Обзор:...\n",
       "7021     Авто в хорошем состояние. Езжу каждый день. Дв...\n",
       "Name: description, dtype: object"
      ]
     },
     "metadata": {},
     "output_type": "display_data"
    },
    {
     "name": "stdout",
     "output_type": "stream",
     "text": [
      "TRAIN\n"
     ]
    },
    {
     "data": {
      "text/plain": [
       "49366    АВТОМИР - крупнейший дилер на российском автор...\n",
       "64771    Автомобиль в хорошем состоянии все работает ис...\n",
       "49837    Машинка в идеальном состояние!!!!!делать вообщ...\n",
       "28987    Пройдены  ТО у дилера. Сервисная книжка. \\nОкл...\n",
       "39554    машина по технической части в полном порядке, ...\n",
       "Name: description, dtype: object"
      ]
     },
     "metadata": {},
     "output_type": "display_data"
    }
   ],
   "source": [
    "column = 'description'\n",
    "type_comparison(column)"
   ]
  },
  {
   "cell_type": "markdown",
   "metadata": {},
   "source": [
    "Пока неясно можно ли как-либо использовать этот столбец"
   ]
  },
  {
   "cell_type": "markdown",
   "metadata": {},
   "source": [
    "## engineDisplacement"
   ]
  },
  {
   "cell_type": "code",
   "execution_count": 230,
   "metadata": {},
   "outputs": [
    {
     "name": "stdout",
     "output_type": "stream",
     "text": [
      "TEST\n"
     ]
    },
    {
     "data": {
      "text/plain": [
       "21581    3.5 LTR\n",
       "848      1.6 LTR\n",
       "21452    2.5 LTR\n",
       "2780     3.0 LTR\n",
       "30258    1.6 LTR\n",
       "Name: engineDisplacement, dtype: object"
      ]
     },
     "metadata": {},
     "output_type": "display_data"
    },
    {
     "name": "stdout",
     "output_type": "stream",
     "text": [
      "TRAIN\n"
     ]
    },
    {
     "data": {
      "text/plain": [
       "32432    3.0d\n",
       "31298    FX35\n",
       "37151    2.5d\n",
       "66614     2.4\n",
       "7257     520d\n",
       "Name: engineDisplacement, dtype: object"
      ]
     },
     "metadata": {},
     "output_type": "display_data"
    }
   ],
   "source": [
    "column = 'engineDisplacement'\n",
    "type_comparison(column)"
   ]
  },
  {
   "cell_type": "markdown",
   "metadata": {},
   "source": [
    "Необходимо привести данные к единому формату"
   ]
  },
  {
   "cell_type": "code",
   "execution_count": 231,
   "metadata": {},
   "outputs": [],
   "source": [
    "train_mod['engineDisplacement'] = train_mod.engineDisplacement.apply(get_EngineDisplacement)\n",
    "test_mod['engineDisplacement'] = test_mod.engineDisplacement.apply(get_EngineDisplacement)"
   ]
  },
  {
   "cell_type": "code",
   "execution_count": 232,
   "metadata": {
    "scrolled": true
   },
   "outputs": [
    {
     "name": "stdout",
     "output_type": "stream",
     "text": [
      "TEST\n"
     ]
    },
    {
     "data": {
      "text/plain": [
       "11039    2.0\n",
       "1652     1.4\n",
       "454      1.4\n",
       "16771    2.8\n",
       "7497     4.4\n",
       "Name: engineDisplacement, dtype: float64"
      ]
     },
     "metadata": {},
     "output_type": "display_data"
    },
    {
     "name": "stdout",
     "output_type": "stream",
     "text": [
      "TRAIN\n"
     ]
    },
    {
     "data": {
      "text/plain": [
       "8873     NaN\n",
       "54878    1.8\n",
       "30042    NaN\n",
       "507      1.8\n",
       "83610    NaN\n",
       "Name: engineDisplacement, dtype: float64"
      ]
     },
     "metadata": {},
     "output_type": "display_data"
    }
   ],
   "source": [
    "column = 'engineDisplacement'\n",
    "type_comparison(column)"
   ]
  },
  {
   "cell_type": "markdown",
   "metadata": {},
   "source": [
    "После преобразования в столбцах появились пропуски"
   ]
  },
  {
   "cell_type": "code",
   "execution_count": 233,
   "metadata": {},
   "outputs": [
    {
     "data": {
      "text/html": [
       "<div>\n",
       "<style scoped>\n",
       "    .dataframe tbody tr th:only-of-type {\n",
       "        vertical-align: middle;\n",
       "    }\n",
       "\n",
       "    .dataframe tbody tr th {\n",
       "        vertical-align: top;\n",
       "    }\n",
       "\n",
       "    .dataframe thead th {\n",
       "        text-align: right;\n",
       "    }\n",
       "</style>\n",
       "<table border=\"1\" class=\"dataframe\">\n",
       "  <thead>\n",
       "    <tr style=\"text-align: right;\">\n",
       "      <th></th>\n",
       "      <th>bodyType</th>\n",
       "      <th>brand</th>\n",
       "      <th>car_url</th>\n",
       "      <th>color</th>\n",
       "      <th>complectation_dict</th>\n",
       "      <th>description</th>\n",
       "      <th>engineDisplacement</th>\n",
       "      <th>enginePower</th>\n",
       "      <th>equipment_dict</th>\n",
       "      <th>fuelType</th>\n",
       "      <th>...</th>\n",
       "      <th>vehicleTransmission</th>\n",
       "      <th>vendor</th>\n",
       "      <th>Владельцы</th>\n",
       "      <th>Владение</th>\n",
       "      <th>ПТС</th>\n",
       "      <th>Привод</th>\n",
       "      <th>Руль</th>\n",
       "      <th>Состояние</th>\n",
       "      <th>Таможня</th>\n",
       "      <th>Country_of_origin</th>\n",
       "    </tr>\n",
       "  </thead>\n",
       "  <tbody>\n",
       "    <tr>\n",
       "      <th>5241</th>\n",
       "      <td>внедорожник</td>\n",
       "      <td>AUDI</td>\n",
       "      <td>https://auto.ru/cars/used/sale/audi/e_tron/110...</td>\n",
       "      <td>белый</td>\n",
       "      <td>NaN</td>\n",
       "      <td>Audi e-tron Prestige quattro от Moscow Tesla C...</td>\n",
       "      <td>NaN</td>\n",
       "      <td>408 N12</td>\n",
       "      <td>{\"asr\":true,\"esp\":true,\"usb\":true,\"e-adjustmen...</td>\n",
       "      <td>электро</td>\n",
       "      <td>...</td>\n",
       "      <td>автоматическая</td>\n",
       "      <td>EUROPEAN</td>\n",
       "      <td>1 владелец</td>\n",
       "      <td>1 год и 3 месяца</td>\n",
       "      <td>Оригинал</td>\n",
       "      <td>полный</td>\n",
       "      <td>Левый</td>\n",
       "      <td>Не требует ремонта</td>\n",
       "      <td>Растаможен</td>\n",
       "      <td>Germany</td>\n",
       "    </tr>\n",
       "    <tr>\n",
       "      <th>7992</th>\n",
       "      <td>хэтчбек</td>\n",
       "      <td>BMW</td>\n",
       "      <td>https://auto.ru/cars/used/sale/bmw/i3/11010431...</td>\n",
       "      <td>синий</td>\n",
       "      <td>NaN</td>\n",
       "      <td>Атомобиль из Германии,без пробега по РФ.\\nНа г...</td>\n",
       "      <td>NaN</td>\n",
       "      <td>170 N12</td>\n",
       "      <td>NaN</td>\n",
       "      <td>электро</td>\n",
       "      <td>...</td>\n",
       "      <td>автоматическая</td>\n",
       "      <td>EUROPEAN</td>\n",
       "      <td>1 владелец</td>\n",
       "      <td>NaN</td>\n",
       "      <td>Оригинал</td>\n",
       "      <td>задний</td>\n",
       "      <td>Левый</td>\n",
       "      <td>Не требует ремонта</td>\n",
       "      <td>Растаможен</td>\n",
       "      <td>Germany</td>\n",
       "    </tr>\n",
       "    <tr>\n",
       "      <th>8252</th>\n",
       "      <td>хэтчбек</td>\n",
       "      <td>BMW</td>\n",
       "      <td>https://auto.ru/cars/used/sale/bmw/i3/11012780...</td>\n",
       "      <td>серый</td>\n",
       "      <td>NaN</td>\n",
       "      <td>Пробег 54000 км, запас хода на зарядке 130 км+...</td>\n",
       "      <td>NaN</td>\n",
       "      <td>170 N12</td>\n",
       "      <td>{\"park-assist-f\":true,\"park-assist-r\":true}</td>\n",
       "      <td>электро</td>\n",
       "      <td>...</td>\n",
       "      <td>автоматическая</td>\n",
       "      <td>EUROPEAN</td>\n",
       "      <td>1 владелец</td>\n",
       "      <td>1 месяц</td>\n",
       "      <td>Оригинал</td>\n",
       "      <td>задний</td>\n",
       "      <td>Левый</td>\n",
       "      <td>Не требует ремонта</td>\n",
       "      <td>Растаможен</td>\n",
       "      <td>Germany</td>\n",
       "    </tr>\n",
       "    <tr>\n",
       "      <th>8350</th>\n",
       "      <td>хэтчбек</td>\n",
       "      <td>BMW</td>\n",
       "      <td>https://auto.ru/cars/used/sale/bmw/i3/11002716...</td>\n",
       "      <td>белый</td>\n",
       "      <td>{\"id\":\"21624597\",\"name\":\"i3 120 Ah\",\"available...</td>\n",
       "      <td>Автомобиль в наличии Москве , с ПТС , производ...</td>\n",
       "      <td>NaN</td>\n",
       "      <td>170 N12</td>\n",
       "      <td>{\"cruise-control\":true,\"asr\":true,\"esp\":true,\"...</td>\n",
       "      <td>электро</td>\n",
       "      <td>...</td>\n",
       "      <td>автоматическая</td>\n",
       "      <td>EUROPEAN</td>\n",
       "      <td>1 владелец</td>\n",
       "      <td>NaN</td>\n",
       "      <td>Оригинал</td>\n",
       "      <td>задний</td>\n",
       "      <td>Левый</td>\n",
       "      <td>Не требует ремонта</td>\n",
       "      <td>Растаможен</td>\n",
       "      <td>Germany</td>\n",
       "    </tr>\n",
       "    <tr>\n",
       "      <th>8684</th>\n",
       "      <td>хэтчбек</td>\n",
       "      <td>BMW</td>\n",
       "      <td>https://auto.ru/cars/used/sale/bmw/i3/11011745...</td>\n",
       "      <td>чёрный</td>\n",
       "      <td>NaN</td>\n",
       "      <td>BMW I 3 REX\\nфевраль 2017 года выпуска.\\nПриоб...</td>\n",
       "      <td>NaN</td>\n",
       "      <td>170 N12</td>\n",
       "      <td>{\"cruise-control\":true,\"glonass\":true,\"navigat...</td>\n",
       "      <td>электро</td>\n",
       "      <td>...</td>\n",
       "      <td>автоматическая</td>\n",
       "      <td>EUROPEAN</td>\n",
       "      <td>1 владелец</td>\n",
       "      <td>NaN</td>\n",
       "      <td>Оригинал</td>\n",
       "      <td>задний</td>\n",
       "      <td>Левый</td>\n",
       "      <td>Не требует ремонта</td>\n",
       "      <td>Растаможен</td>\n",
       "      <td>Germany</td>\n",
       "    </tr>\n",
       "    <tr>\n",
       "      <th>8722</th>\n",
       "      <td>хэтчбек</td>\n",
       "      <td>BMW</td>\n",
       "      <td>https://auto.ru/cars/used/sale/bmw/i3/11000973...</td>\n",
       "      <td>голубой</td>\n",
       "      <td>NaN</td>\n",
       "      <td>\\nПрибыло из Америки в августе 2020 года. Полн...</td>\n",
       "      <td>NaN</td>\n",
       "      <td>170 N12</td>\n",
       "      <td>NaN</td>\n",
       "      <td>электро</td>\n",
       "      <td>...</td>\n",
       "      <td>автоматическая</td>\n",
       "      <td>EUROPEAN</td>\n",
       "      <td>1 владелец</td>\n",
       "      <td>NaN</td>\n",
       "      <td>Оригинал</td>\n",
       "      <td>задний</td>\n",
       "      <td>Левый</td>\n",
       "      <td>Не требует ремонта</td>\n",
       "      <td>Растаможен</td>\n",
       "      <td>Germany</td>\n",
       "    </tr>\n",
       "    <tr>\n",
       "      <th>8917</th>\n",
       "      <td>хэтчбек</td>\n",
       "      <td>BMW</td>\n",
       "      <td>https://auto.ru/cars/used/sale/bmw/i3/11008715...</td>\n",
       "      <td>бежевый</td>\n",
       "      <td>NaN</td>\n",
       "      <td>-Состояние нового автомобиля .\\n-Carfax вся ис...</td>\n",
       "      <td>NaN</td>\n",
       "      <td>170 N12</td>\n",
       "      <td>{\"glonass\":true,\"roof-rails\":true}</td>\n",
       "      <td>электро</td>\n",
       "      <td>...</td>\n",
       "      <td>автоматическая</td>\n",
       "      <td>EUROPEAN</td>\n",
       "      <td>1 владелец</td>\n",
       "      <td>NaN</td>\n",
       "      <td>Оригинал</td>\n",
       "      <td>задний</td>\n",
       "      <td>Левый</td>\n",
       "      <td>Не требует ремонта</td>\n",
       "      <td>Растаможен</td>\n",
       "      <td>Germany</td>\n",
       "    </tr>\n",
       "    <tr>\n",
       "      <th>10817</th>\n",
       "      <td>хэтчбек</td>\n",
       "      <td>BMW</td>\n",
       "      <td>https://auto.ru/cars/used/sale/bmw/i3/11012664...</td>\n",
       "      <td>серый</td>\n",
       "      <td>NaN</td>\n",
       "      <td>Продаю BMW I3 +REX .\\n\\nПолноценный электромоб...</td>\n",
       "      <td>NaN</td>\n",
       "      <td>170 N12</td>\n",
       "      <td>NaN</td>\n",
       "      <td>электро</td>\n",
       "      <td>...</td>\n",
       "      <td>автоматическая</td>\n",
       "      <td>EUROPEAN</td>\n",
       "      <td>1 владелец</td>\n",
       "      <td>NaN</td>\n",
       "      <td>Оригинал</td>\n",
       "      <td>задний</td>\n",
       "      <td>Левый</td>\n",
       "      <td>Не требует ремонта</td>\n",
       "      <td>Растаможен</td>\n",
       "      <td>Germany</td>\n",
       "    </tr>\n",
       "    <tr>\n",
       "      <th>10936</th>\n",
       "      <td>хэтчбек</td>\n",
       "      <td>BMW</td>\n",
       "      <td>https://auto.ru/cars/used/sale/bmw/i3/10996733...</td>\n",
       "      <td>чёрный</td>\n",
       "      <td>NaN</td>\n",
       "      <td>Автомобиль BMW i3 (полностью электрический )за...</td>\n",
       "      <td>NaN</td>\n",
       "      <td>170 N12</td>\n",
       "      <td>{\"cruise-control\":true,\"asr\":true,\"tinted-glas...</td>\n",
       "      <td>электро</td>\n",
       "      <td>...</td>\n",
       "      <td>автоматическая</td>\n",
       "      <td>EUROPEAN</td>\n",
       "      <td>1 владелец</td>\n",
       "      <td>NaN</td>\n",
       "      <td>Оригинал</td>\n",
       "      <td>задний</td>\n",
       "      <td>Левый</td>\n",
       "      <td>Не требует ремонта</td>\n",
       "      <td>Растаможен</td>\n",
       "      <td>Germany</td>\n",
       "    </tr>\n",
       "    <tr>\n",
       "      <th>11043</th>\n",
       "      <td>хэтчбек</td>\n",
       "      <td>BMW</td>\n",
       "      <td>https://auto.ru/cars/used/sale/bmw/i3/10993761...</td>\n",
       "      <td>серый</td>\n",
       "      <td>NaN</td>\n",
       "      <td>Состояние нового автомобиля . \\nФото ИМЕННО ЭТ...</td>\n",
       "      <td>NaN</td>\n",
       "      <td>170 N12</td>\n",
       "      <td>{\"glonass\":true,\"airbag-driver\":true,\"aux\":tru...</td>\n",
       "      <td>электро</td>\n",
       "      <td>...</td>\n",
       "      <td>автоматическая</td>\n",
       "      <td>EUROPEAN</td>\n",
       "      <td>1 владелец</td>\n",
       "      <td>8 месяцев</td>\n",
       "      <td>Оригинал</td>\n",
       "      <td>задний</td>\n",
       "      <td>Левый</td>\n",
       "      <td>Не требует ремонта</td>\n",
       "      <td>Растаможен</td>\n",
       "      <td>Germany</td>\n",
       "    </tr>\n",
       "    <tr>\n",
       "      <th>11302</th>\n",
       "      <td>хэтчбек</td>\n",
       "      <td>NISSAN</td>\n",
       "      <td>https://auto.ru/cars/used/sale/nissan/leaf/110...</td>\n",
       "      <td>голубой</td>\n",
       "      <td>NaN</td>\n",
       "      <td>Безопасность: 10. Салон: 4. Комфорт: 12. Мульт...</td>\n",
       "      <td>NaN</td>\n",
       "      <td>109 N12</td>\n",
       "      <td>{\"asr\":true,\"tinted-glass\":true,\"start-stop-fu...</td>\n",
       "      <td>электро</td>\n",
       "      <td>...</td>\n",
       "      <td>автоматическая</td>\n",
       "      <td>JAPANESE</td>\n",
       "      <td>3 или более</td>\n",
       "      <td>NaN</td>\n",
       "      <td>Оригинал</td>\n",
       "      <td>передний</td>\n",
       "      <td>Левый</td>\n",
       "      <td>Не требует ремонта</td>\n",
       "      <td>Растаможен</td>\n",
       "      <td>Japan</td>\n",
       "    </tr>\n",
       "    <tr>\n",
       "      <th>11682</th>\n",
       "      <td>хэтчбек</td>\n",
       "      <td>NISSAN</td>\n",
       "      <td>https://auto.ru/cars/used/sale/nissan/leaf/110...</td>\n",
       "      <td>белый</td>\n",
       "      <td>NaN</td>\n",
       "      <td>Продаю авто без пробега по РФ.\\nМаксимальная к...</td>\n",
       "      <td>NaN</td>\n",
       "      <td>150 N12</td>\n",
       "      <td>{\"tinted-glass\":true,\"esp\":true,\"adaptive-ligh...</td>\n",
       "      <td>электро</td>\n",
       "      <td>...</td>\n",
       "      <td>автоматическая</td>\n",
       "      <td>JAPANESE</td>\n",
       "      <td>1 владелец</td>\n",
       "      <td>2 месяца</td>\n",
       "      <td>Оригинал</td>\n",
       "      <td>передний</td>\n",
       "      <td>Левый</td>\n",
       "      <td>Не требует ремонта</td>\n",
       "      <td>Растаможен</td>\n",
       "      <td>Japan</td>\n",
       "    </tr>\n",
       "    <tr>\n",
       "      <th>11714</th>\n",
       "      <td>хэтчбек</td>\n",
       "      <td>NISSAN</td>\n",
       "      <td>https://auto.ru/cars/used/sale/nissan/leaf/109...</td>\n",
       "      <td>белый</td>\n",
       "      <td>NaN</td>\n",
       "      <td>Комплектация G\\nБатарея 40 кВт\\n\\n- PRO- PILOT...</td>\n",
       "      <td>NaN</td>\n",
       "      <td>150 N12</td>\n",
       "      <td>{\"collision-prevention-assist\":true,\"led-light...</td>\n",
       "      <td>электро</td>\n",
       "      <td>...</td>\n",
       "      <td>автоматическая</td>\n",
       "      <td>JAPANESE</td>\n",
       "      <td>1 владелец</td>\n",
       "      <td>NaN</td>\n",
       "      <td>Оригинал</td>\n",
       "      <td>передний</td>\n",
       "      <td>Правый</td>\n",
       "      <td>Не требует ремонта</td>\n",
       "      <td>Растаможен</td>\n",
       "      <td>Japan</td>\n",
       "    </tr>\n",
       "    <tr>\n",
       "      <th>11719</th>\n",
       "      <td>хэтчбек</td>\n",
       "      <td>NISSAN</td>\n",
       "      <td>https://auto.ru/cars/used/sale/nissan/leaf/109...</td>\n",
       "      <td>белый</td>\n",
       "      <td>NaN</td>\n",
       "      <td>Автомобиль с аукциона! НЕ РЫНОК!!!! (аукционны...</td>\n",
       "      <td>NaN</td>\n",
       "      <td>109 N12</td>\n",
       "      <td>NaN</td>\n",
       "      <td>электро</td>\n",
       "      <td>...</td>\n",
       "      <td>автоматическая</td>\n",
       "      <td>JAPANESE</td>\n",
       "      <td>1 владелец</td>\n",
       "      <td>5 месяцев</td>\n",
       "      <td>Оригинал</td>\n",
       "      <td>передний</td>\n",
       "      <td>Правый</td>\n",
       "      <td>Не требует ремонта</td>\n",
       "      <td>Растаможен</td>\n",
       "      <td>Japan</td>\n",
       "    </tr>\n",
       "    <tr>\n",
       "      <th>11754</th>\n",
       "      <td>хэтчбек</td>\n",
       "      <td>NISSAN</td>\n",
       "      <td>https://auto.ru/cars/used/sale/nissan/leaf/110...</td>\n",
       "      <td>белый</td>\n",
       "      <td>NaN</td>\n",
       "      <td>Продаю электромобиль ниссан лиаф 2011г пробег1...</td>\n",
       "      <td>NaN</td>\n",
       "      <td>109 N12</td>\n",
       "      <td>{\"cruise-control\":true,\"start-button\":true,\"ra...</td>\n",
       "      <td>электро</td>\n",
       "      <td>...</td>\n",
       "      <td>автоматическая</td>\n",
       "      <td>JAPANESE</td>\n",
       "      <td>2 владельца</td>\n",
       "      <td>NaN</td>\n",
       "      <td>Оригинал</td>\n",
       "      <td>передний</td>\n",
       "      <td>Правый</td>\n",
       "      <td>Не требует ремонта</td>\n",
       "      <td>Растаможен</td>\n",
       "      <td>Japan</td>\n",
       "    </tr>\n",
       "    <tr>\n",
       "      <th>11878</th>\n",
       "      <td>хэтчбек</td>\n",
       "      <td>NISSAN</td>\n",
       "      <td>https://auto.ru/cars/used/sale/nissan/leaf/110...</td>\n",
       "      <td>серебристый</td>\n",
       "      <td>NaN</td>\n",
       "      <td>Оригинальный ПТС.  \\nАвто декабрь 2013 года \\n...</td>\n",
       "      <td>NaN</td>\n",
       "      <td>109 N12</td>\n",
       "      <td>{\"asr\":true,\"glonass\":true,\"tinted-glass\":true...</td>\n",
       "      <td>электро</td>\n",
       "      <td>...</td>\n",
       "      <td>автоматическая</td>\n",
       "      <td>JAPANESE</td>\n",
       "      <td>1 владелец</td>\n",
       "      <td>NaN</td>\n",
       "      <td>Оригинал</td>\n",
       "      <td>передний</td>\n",
       "      <td>Левый</td>\n",
       "      <td>Не требует ремонта</td>\n",
       "      <td>Растаможен</td>\n",
       "      <td>Japan</td>\n",
       "    </tr>\n",
       "    <tr>\n",
       "      <th>11974</th>\n",
       "      <td>хэтчбек</td>\n",
       "      <td>NISSAN</td>\n",
       "      <td>https://auto.ru/cars/used/sale/nissan/leaf/108...</td>\n",
       "      <td>чёрный</td>\n",
       "      <td>NaN</td>\n",
       "      <td>Всё работает ,батарея  48 кВт-120км +120км све...</td>\n",
       "      <td>NaN</td>\n",
       "      <td>109 N12</td>\n",
       "      <td>{\"asr\":true,\"tinted-glass\":true,\"esp\":true,\"ai...</td>\n",
       "      <td>электро</td>\n",
       "      <td>...</td>\n",
       "      <td>автоматическая</td>\n",
       "      <td>JAPANESE</td>\n",
       "      <td>1 владелец</td>\n",
       "      <td>3 года и 8 месяцев</td>\n",
       "      <td>Оригинал</td>\n",
       "      <td>передний</td>\n",
       "      <td>Правый</td>\n",
       "      <td>Не требует ремонта</td>\n",
       "      <td>Растаможен</td>\n",
       "      <td>Japan</td>\n",
       "    </tr>\n",
       "    <tr>\n",
       "      <th>12072</th>\n",
       "      <td>хэтчбек</td>\n",
       "      <td>NISSAN</td>\n",
       "      <td>https://auto.ru/cars/used/sale/nissan/leaf/110...</td>\n",
       "      <td>чёрный</td>\n",
       "      <td>NaN</td>\n",
       "      <td>Продаю Nissan Leaf 2012 года выпуска. Данный а...</td>\n",
       "      <td>NaN</td>\n",
       "      <td>109 N12</td>\n",
       "      <td>NaN</td>\n",
       "      <td>электро</td>\n",
       "      <td>...</td>\n",
       "      <td>автоматическая</td>\n",
       "      <td>JAPANESE</td>\n",
       "      <td>3 или более</td>\n",
       "      <td>9 месяцев</td>\n",
       "      <td>Оригинал</td>\n",
       "      <td>передний</td>\n",
       "      <td>Правый</td>\n",
       "      <td>Не требует ремонта</td>\n",
       "      <td>Растаможен</td>\n",
       "      <td>Japan</td>\n",
       "    </tr>\n",
       "    <tr>\n",
       "      <th>12085</th>\n",
       "      <td>хэтчбек</td>\n",
       "      <td>NISSAN</td>\n",
       "      <td>https://auto.ru/cars/used/sale/nissan/leaf/109...</td>\n",
       "      <td>голубой</td>\n",
       "      <td>NaN</td>\n",
       "      <td>Электpомобиль Nissan Leаf  из США( северный шт...</td>\n",
       "      <td>NaN</td>\n",
       "      <td>109 N12</td>\n",
       "      <td>{\"cruise-control\":true,\"esp\":true,\"start-stop-...</td>\n",
       "      <td>электро</td>\n",
       "      <td>...</td>\n",
       "      <td>автоматическая</td>\n",
       "      <td>JAPANESE</td>\n",
       "      <td>1 владелец</td>\n",
       "      <td>1 год и 6 месяцев</td>\n",
       "      <td>Оригинал</td>\n",
       "      <td>передний</td>\n",
       "      <td>Левый</td>\n",
       "      <td>Не требует ремонта</td>\n",
       "      <td>Растаможен</td>\n",
       "      <td>Japan</td>\n",
       "    </tr>\n",
       "    <tr>\n",
       "      <th>12100</th>\n",
       "      <td>хэтчбек</td>\n",
       "      <td>NISSAN</td>\n",
       "      <td>https://auto.ru/cars/used/sale/nissan/leaf/109...</td>\n",
       "      <td>серый</td>\n",
       "      <td>NaN</td>\n",
       "      <td>Leaf 30x Aero style. 30 квт.ч. 12 палок.\\nконт...</td>\n",
       "      <td>NaN</td>\n",
       "      <td>109 N12</td>\n",
       "      <td>{\"tinted-glass\":true,\"esp\":true,\"aux\":true,\"us...</td>\n",
       "      <td>электро</td>\n",
       "      <td>...</td>\n",
       "      <td>автоматическая</td>\n",
       "      <td>JAPANESE</td>\n",
       "      <td>1 владелец</td>\n",
       "      <td>1 год и 3 месяца</td>\n",
       "      <td>Оригинал</td>\n",
       "      <td>передний</td>\n",
       "      <td>Правый</td>\n",
       "      <td>Не требует ремонта</td>\n",
       "      <td>Растаможен</td>\n",
       "      <td>Japan</td>\n",
       "    </tr>\n",
       "    <tr>\n",
       "      <th>12250</th>\n",
       "      <td>хэтчбек</td>\n",
       "      <td>NISSAN</td>\n",
       "      <td>https://auto.ru/cars/used/sale/nissan/leaf/109...</td>\n",
       "      <td>серый</td>\n",
       "      <td>NaN</td>\n",
       "      <td>Электромобиль в отличном состоянии,  пробег на...</td>\n",
       "      <td>NaN</td>\n",
       "      <td>109 N12</td>\n",
       "      <td>{\"engine-proof\":true,\"glonass\":true,\"tinted-gl...</td>\n",
       "      <td>электро</td>\n",
       "      <td>...</td>\n",
       "      <td>автоматическая</td>\n",
       "      <td>JAPANESE</td>\n",
       "      <td>1 владелец</td>\n",
       "      <td>9 месяцев</td>\n",
       "      <td>Оригинал</td>\n",
       "      <td>передний</td>\n",
       "      <td>Правый</td>\n",
       "      <td>Не требует ремонта</td>\n",
       "      <td>Растаможен</td>\n",
       "      <td>Japan</td>\n",
       "    </tr>\n",
       "    <tr>\n",
       "      <th>12287</th>\n",
       "      <td>хэтчбек</td>\n",
       "      <td>NISSAN</td>\n",
       "      <td>https://auto.ru/cars/used/sale/nissan/leaf/109...</td>\n",
       "      <td>голубой</td>\n",
       "      <td>NaN</td>\n",
       "      <td>Продается Ниссан Leaf в полная комплектация(кр...</td>\n",
       "      <td>NaN</td>\n",
       "      <td>109 N12</td>\n",
       "      <td>{\"glonass\":true,\"esp\":true,\"aux\":true,\"usb\":tr...</td>\n",
       "      <td>электро</td>\n",
       "      <td>...</td>\n",
       "      <td>автоматическая</td>\n",
       "      <td>JAPANESE</td>\n",
       "      <td>1 владелец</td>\n",
       "      <td>NaN</td>\n",
       "      <td>Оригинал</td>\n",
       "      <td>передний</td>\n",
       "      <td>Левый</td>\n",
       "      <td>Не требует ремонта</td>\n",
       "      <td>Растаможен</td>\n",
       "      <td>Japan</td>\n",
       "    </tr>\n",
       "    <tr>\n",
       "      <th>12334</th>\n",
       "      <td>хэтчбек</td>\n",
       "      <td>NISSAN</td>\n",
       "      <td>https://auto.ru/cars/used/sale/nissan/leaf/110...</td>\n",
       "      <td>чёрный</td>\n",
       "      <td>NaN</td>\n",
       "      <td>Продаю своего друга! Очень хорошая машина! Рад...</td>\n",
       "      <td>NaN</td>\n",
       "      <td>109 N12</td>\n",
       "      <td>{\"engine-proof\":true,\"cruise-control\":true,\"ti...</td>\n",
       "      <td>электро</td>\n",
       "      <td>...</td>\n",
       "      <td>автоматическая</td>\n",
       "      <td>JAPANESE</td>\n",
       "      <td>1 владелец</td>\n",
       "      <td>5 месяцев</td>\n",
       "      <td>Оригинал</td>\n",
       "      <td>передний</td>\n",
       "      <td>Правый</td>\n",
       "      <td>Не требует ремонта</td>\n",
       "      <td>Растаможен</td>\n",
       "      <td>Japan</td>\n",
       "    </tr>\n",
       "    <tr>\n",
       "      <th>12466</th>\n",
       "      <td>хэтчбек</td>\n",
       "      <td>NISSAN</td>\n",
       "      <td>https://auto.ru/cars/used/sale/nissan/leaf/110...</td>\n",
       "      <td>чёрный</td>\n",
       "      <td>NaN</td>\n",
       "      <td>Аукционный авто, батарея 30 квт., куплен в 201...</td>\n",
       "      <td>NaN</td>\n",
       "      <td>109 N12</td>\n",
       "      <td>{\"cruise-control\":true,\"asr\":true,\"tinted-glas...</td>\n",
       "      <td>электро</td>\n",
       "      <td>...</td>\n",
       "      <td>автоматическая</td>\n",
       "      <td>JAPANESE</td>\n",
       "      <td>1 владелец</td>\n",
       "      <td>2 года и 2 месяца</td>\n",
       "      <td>Оригинал</td>\n",
       "      <td>передний</td>\n",
       "      <td>Правый</td>\n",
       "      <td>Не требует ремонта</td>\n",
       "      <td>Растаможен</td>\n",
       "      <td>Japan</td>\n",
       "    </tr>\n",
       "    <tr>\n",
       "      <th>12481</th>\n",
       "      <td>хэтчбек</td>\n",
       "      <td>NISSAN</td>\n",
       "      <td>https://auto.ru/cars/used/sale/nissan/leaf/110...</td>\n",
       "      <td>белый</td>\n",
       "      <td>NaN</td>\n",
       "      <td>АВТОМОБИЛЬ В МОСКВЕ.\\n\\nПривозил под себя, езж...</td>\n",
       "      <td>NaN</td>\n",
       "      <td>109 N12</td>\n",
       "      <td>{\"cruise-control\":true,\"tinted-glass\":true,\"es...</td>\n",
       "      <td>электро</td>\n",
       "      <td>...</td>\n",
       "      <td>автоматическая</td>\n",
       "      <td>JAPANESE</td>\n",
       "      <td>1 владелец</td>\n",
       "      <td>5 месяцев</td>\n",
       "      <td>Оригинал</td>\n",
       "      <td>передний</td>\n",
       "      <td>Правый</td>\n",
       "      <td>Не требует ремонта</td>\n",
       "      <td>Растаможен</td>\n",
       "      <td>Japan</td>\n",
       "    </tr>\n",
       "    <tr>\n",
       "      <th>12558</th>\n",
       "      <td>хэтчбек</td>\n",
       "      <td>NISSAN</td>\n",
       "      <td>https://auto.ru/cars/used/sale/nissan/leaf/109...</td>\n",
       "      <td>серебристый</td>\n",
       "      <td>NaN</td>\n",
       "      <td>Продам nissan leaf 2011 года🚗\\nЦена за наличку...</td>\n",
       "      <td>NaN</td>\n",
       "      <td>109 N12</td>\n",
       "      <td>{\"cruise-control\":true,\"asr\":true,\"tinted-glas...</td>\n",
       "      <td>электро</td>\n",
       "      <td>...</td>\n",
       "      <td>автоматическая</td>\n",
       "      <td>JAPANESE</td>\n",
       "      <td>1 владелец</td>\n",
       "      <td>1 год и 2 месяца</td>\n",
       "      <td>Оригинал</td>\n",
       "      <td>передний</td>\n",
       "      <td>Правый</td>\n",
       "      <td>Не требует ремонта</td>\n",
       "      <td>Растаможен</td>\n",
       "      <td>Japan</td>\n",
       "    </tr>\n",
       "    <tr>\n",
       "      <th>12582</th>\n",
       "      <td>хэтчбек</td>\n",
       "      <td>NISSAN</td>\n",
       "      <td>https://auto.ru/cars/used/sale/nissan/leaf/109...</td>\n",
       "      <td>белый</td>\n",
       "      <td>NaN</td>\n",
       "      <td>16 модельный год (изг. декабрь 2015) \\nПокупал...</td>\n",
       "      <td>NaN</td>\n",
       "      <td>109 N12</td>\n",
       "      <td>{\"cruise-control\":true,\"asr\":true,\"tinted-glas...</td>\n",
       "      <td>электро</td>\n",
       "      <td>...</td>\n",
       "      <td>автоматическая</td>\n",
       "      <td>JAPANESE</td>\n",
       "      <td>1 владелец</td>\n",
       "      <td>2 года и 6 месяцев</td>\n",
       "      <td>Оригинал</td>\n",
       "      <td>передний</td>\n",
       "      <td>Правый</td>\n",
       "      <td>Не требует ремонта</td>\n",
       "      <td>Растаможен</td>\n",
       "      <td>Japan</td>\n",
       "    </tr>\n",
       "    <tr>\n",
       "      <th>12678</th>\n",
       "      <td>хэтчбек</td>\n",
       "      <td>NISSAN</td>\n",
       "      <td>https://auto.ru/cars/used/sale/nissan/leaf/109...</td>\n",
       "      <td>чёрный</td>\n",
       "      <td>NaN</td>\n",
       "      <td>- Я первый собственник, авто завезено в июле 2...</td>\n",
       "      <td>NaN</td>\n",
       "      <td>109 N12</td>\n",
       "      <td>{\"cruise-control\":true,\"esp\":true,\"airbag-driv...</td>\n",
       "      <td>электро</td>\n",
       "      <td>...</td>\n",
       "      <td>автоматическая</td>\n",
       "      <td>JAPANESE</td>\n",
       "      <td>1 владелец</td>\n",
       "      <td>1 год и 3 месяца</td>\n",
       "      <td>Оригинал</td>\n",
       "      <td>передний</td>\n",
       "      <td>Правый</td>\n",
       "      <td>Не требует ремонта</td>\n",
       "      <td>Растаможен</td>\n",
       "      <td>Japan</td>\n",
       "    </tr>\n",
       "    <tr>\n",
       "      <th>12749</th>\n",
       "      <td>хэтчбек</td>\n",
       "      <td>NISSAN</td>\n",
       "      <td>https://auto.ru/cars/used/sale/nissan/leaf/109...</td>\n",
       "      <td>чёрный</td>\n",
       "      <td>NaN</td>\n",
       "      <td>SOH — 87,99\\n\\nОтличная городская машина в иде...</td>\n",
       "      <td>NaN</td>\n",
       "      <td>109 N12</td>\n",
       "      <td>{\"engine-proof\":true,\"cruise-control\":true,\"as...</td>\n",
       "      <td>электро</td>\n",
       "      <td>...</td>\n",
       "      <td>автоматическая</td>\n",
       "      <td>JAPANESE</td>\n",
       "      <td>1 владелец</td>\n",
       "      <td>1 год и 1 месяц</td>\n",
       "      <td>Оригинал</td>\n",
       "      <td>передний</td>\n",
       "      <td>Правый</td>\n",
       "      <td>Не требует ремонта</td>\n",
       "      <td>Растаможен</td>\n",
       "      <td>Japan</td>\n",
       "    </tr>\n",
       "    <tr>\n",
       "      <th>12854</th>\n",
       "      <td>хэтчбек</td>\n",
       "      <td>NISSAN</td>\n",
       "      <td>https://auto.ru/cars/used/sale/nissan/leaf/109...</td>\n",
       "      <td>чёрный</td>\n",
       "      <td>NaN</td>\n",
       "      <td>Машина в отличном состоянии. В дтп не была. Оч...</td>\n",
       "      <td>NaN</td>\n",
       "      <td>109 N12</td>\n",
       "      <td>{\"electro-window-back\":true,\"alloy-wheel-disks...</td>\n",
       "      <td>электро</td>\n",
       "      <td>...</td>\n",
       "      <td>автоматическая</td>\n",
       "      <td>JAPANESE</td>\n",
       "      <td>2 владельца</td>\n",
       "      <td>11 месяцев</td>\n",
       "      <td>Оригинал</td>\n",
       "      <td>передний</td>\n",
       "      <td>Правый</td>\n",
       "      <td>Не требует ремонта</td>\n",
       "      <td>Растаможен</td>\n",
       "      <td>Japan</td>\n",
       "    </tr>\n",
       "    <tr>\n",
       "      <th>12916</th>\n",
       "      <td>хэтчбек</td>\n",
       "      <td>NISSAN</td>\n",
       "      <td>https://auto.ru/cars/used/sale/nissan/leaf/109...</td>\n",
       "      <td>чёрный</td>\n",
       "      <td>NaN</td>\n",
       "      <td>Автомобиль покупал на аукционе. Комплектация G...</td>\n",
       "      <td>NaN</td>\n",
       "      <td>109 N12</td>\n",
       "      <td>{\"cruise-control\":true,\"tinted-glass\":true,\"es...</td>\n",
       "      <td>электро</td>\n",
       "      <td>...</td>\n",
       "      <td>автоматическая</td>\n",
       "      <td>JAPANESE</td>\n",
       "      <td>1 владелец</td>\n",
       "      <td>NaN</td>\n",
       "      <td>Оригинал</td>\n",
       "      <td>передний</td>\n",
       "      <td>Правый</td>\n",
       "      <td>Не требует ремонта</td>\n",
       "      <td>Растаможен</td>\n",
       "      <td>Japan</td>\n",
       "    </tr>\n",
       "    <tr>\n",
       "      <th>12948</th>\n",
       "      <td>хэтчбек</td>\n",
       "      <td>NISSAN</td>\n",
       "      <td>https://auto.ru/cars/used/sale/nissan/leaf/109...</td>\n",
       "      <td>серебристый</td>\n",
       "      <td>NaN</td>\n",
       "      <td>Продаю свою шикарную машину, которая радовала ...</td>\n",
       "      <td>NaN</td>\n",
       "      <td>109 N12</td>\n",
       "      <td>NaN</td>\n",
       "      <td>электро</td>\n",
       "      <td>...</td>\n",
       "      <td>автоматическая</td>\n",
       "      <td>JAPANESE</td>\n",
       "      <td>2 владельца</td>\n",
       "      <td>NaN</td>\n",
       "      <td>Оригинал</td>\n",
       "      <td>передний</td>\n",
       "      <td>Правый</td>\n",
       "      <td>Не требует ремонта</td>\n",
       "      <td>Растаможен</td>\n",
       "      <td>Japan</td>\n",
       "    </tr>\n",
       "    <tr>\n",
       "      <th>12950</th>\n",
       "      <td>хэтчбек</td>\n",
       "      <td>NISSAN</td>\n",
       "      <td>https://auto.ru/cars/used/sale/nissan/leaf/109...</td>\n",
       "      <td>белый</td>\n",
       "      <td>NaN</td>\n",
       "      <td>Аукционный авто. 3.5 балла. В Москве с августа...</td>\n",
       "      <td>NaN</td>\n",
       "      <td>109 N12</td>\n",
       "      <td>{\"cruise-control\":true,\"asr\":true,\"tinted-glas...</td>\n",
       "      <td>электро</td>\n",
       "      <td>...</td>\n",
       "      <td>автоматическая</td>\n",
       "      <td>JAPANESE</td>\n",
       "      <td>1 владелец</td>\n",
       "      <td>NaN</td>\n",
       "      <td>Оригинал</td>\n",
       "      <td>передний</td>\n",
       "      <td>Правый</td>\n",
       "      <td>Не требует ремонта</td>\n",
       "      <td>Растаможен</td>\n",
       "      <td>Japan</td>\n",
       "    </tr>\n",
       "    <tr>\n",
       "      <th>13052</th>\n",
       "      <td>хэтчбек</td>\n",
       "      <td>NISSAN</td>\n",
       "      <td>https://auto.ru/cars/used/sale/nissan/leaf/109...</td>\n",
       "      <td>белый</td>\n",
       "      <td>NaN</td>\n",
       "      <td>Доброго времени суток. Продаю Nissan Leaf AZEO...</td>\n",
       "      <td>NaN</td>\n",
       "      <td>109 N12</td>\n",
       "      <td>{\"cruise-control\":true,\"tinted-glass\":true,\"es...</td>\n",
       "      <td>электро</td>\n",
       "      <td>...</td>\n",
       "      <td>автоматическая</td>\n",
       "      <td>JAPANESE</td>\n",
       "      <td>1 владелец</td>\n",
       "      <td>3 года и 4 месяца</td>\n",
       "      <td>Оригинал</td>\n",
       "      <td>передний</td>\n",
       "      <td>Правый</td>\n",
       "      <td>Не требует ремонта</td>\n",
       "      <td>Растаможен</td>\n",
       "      <td>Japan</td>\n",
       "    </tr>\n",
       "    <tr>\n",
       "      <th>13104</th>\n",
       "      <td>хэтчбек</td>\n",
       "      <td>NISSAN</td>\n",
       "      <td>https://auto.ru/cars/used/sale/nissan/leaf/109...</td>\n",
       "      <td>белый</td>\n",
       "      <td>NaN</td>\n",
       "      <td>\\n- за данную  цену продают без велюра и матов...</td>\n",
       "      <td>NaN</td>\n",
       "      <td>109 N12</td>\n",
       "      <td>{\"cruise-control\":true,\"esp\":true,\"adaptive-li...</td>\n",
       "      <td>электро</td>\n",
       "      <td>...</td>\n",
       "      <td>автоматическая</td>\n",
       "      <td>JAPANESE</td>\n",
       "      <td>1 владелец</td>\n",
       "      <td>1 год</td>\n",
       "      <td>Оригинал</td>\n",
       "      <td>передний</td>\n",
       "      <td>Правый</td>\n",
       "      <td>Не требует ремонта</td>\n",
       "      <td>Растаможен</td>\n",
       "      <td>Japan</td>\n",
       "    </tr>\n",
       "    <tr>\n",
       "      <th>13105</th>\n",
       "      <td>хэтчбек</td>\n",
       "      <td>NISSAN</td>\n",
       "      <td>https://auto.ru/cars/used/sale/nissan/leaf/108...</td>\n",
       "      <td>серебристый</td>\n",
       "      <td>NaN</td>\n",
       "      <td>Новая резина. Куплена не в кредит. Не прокурен...</td>\n",
       "      <td>NaN</td>\n",
       "      <td>109 N12</td>\n",
       "      <td>{\"cruise-control\":true,\"tinted-glass\":true,\"st...</td>\n",
       "      <td>электро</td>\n",
       "      <td>...</td>\n",
       "      <td>автоматическая</td>\n",
       "      <td>JAPANESE</td>\n",
       "      <td>1 владелец</td>\n",
       "      <td>2 года и 4 месяца</td>\n",
       "      <td>Оригинал</td>\n",
       "      <td>передний</td>\n",
       "      <td>Правый</td>\n",
       "      <td>Не требует ремонта</td>\n",
       "      <td>Растаможен</td>\n",
       "      <td>Japan</td>\n",
       "    </tr>\n",
       "    <tr>\n",
       "      <th>13478</th>\n",
       "      <td>хэтчбек</td>\n",
       "      <td>NISSAN</td>\n",
       "      <td>https://auto.ru/cars/used/sale/nissan/leaf/110...</td>\n",
       "      <td>красный</td>\n",
       "      <td>NaN</td>\n",
       "      <td>Aze0 30 кВт, SOH 77.5, 10 делений, я 1й владел...</td>\n",
       "      <td>NaN</td>\n",
       "      <td>109 N12</td>\n",
       "      <td>{\"cruise-control\":true,\"airbag-driver\":true,\"a...</td>\n",
       "      <td>электро</td>\n",
       "      <td>...</td>\n",
       "      <td>автоматическая</td>\n",
       "      <td>JAPANESE</td>\n",
       "      <td>1 владелец</td>\n",
       "      <td>4 месяца</td>\n",
       "      <td>Оригинал</td>\n",
       "      <td>передний</td>\n",
       "      <td>Правый</td>\n",
       "      <td>Не требует ремонта</td>\n",
       "      <td>Растаможен</td>\n",
       "      <td>Japan</td>\n",
       "    </tr>\n",
       "    <tr>\n",
       "      <th>13633</th>\n",
       "      <td>хэтчбек</td>\n",
       "      <td>NISSAN</td>\n",
       "      <td>https://auto.ru/cars/used/sale/nissan/leaf/100...</td>\n",
       "      <td>синий</td>\n",
       "      <td>NaN</td>\n",
       "      <td>На машине стоит вебасто с термоколом. Управляе...</td>\n",
       "      <td>NaN</td>\n",
       "      <td>109 N12</td>\n",
       "      <td>NaN</td>\n",
       "      <td>электро</td>\n",
       "      <td>...</td>\n",
       "      <td>автоматическая</td>\n",
       "      <td>JAPANESE</td>\n",
       "      <td>2 владельца</td>\n",
       "      <td>5 лет и 10 месяцев</td>\n",
       "      <td>Оригинал</td>\n",
       "      <td>передний</td>\n",
       "      <td>Левый</td>\n",
       "      <td>Не требует ремонта</td>\n",
       "      <td>Растаможен</td>\n",
       "      <td>Japan</td>\n",
       "    </tr>\n",
       "    <tr>\n",
       "      <th>13660</th>\n",
       "      <td>хэтчбек</td>\n",
       "      <td>NISSAN</td>\n",
       "      <td>https://auto.ru/cars/used/sale/nissan/leaf/109...</td>\n",
       "      <td>чёрный</td>\n",
       "      <td>NaN</td>\n",
       "      <td>Отличное состояние. Полная комплектация. Подро...</td>\n",
       "      <td>NaN</td>\n",
       "      <td>109 N12</td>\n",
       "      <td>{\"cruise-control\":true,\"tinted-glass\":true,\"es...</td>\n",
       "      <td>электро</td>\n",
       "      <td>...</td>\n",
       "      <td>автоматическая</td>\n",
       "      <td>JAPANESE</td>\n",
       "      <td>1 владелец</td>\n",
       "      <td>1 год и 3 месяца</td>\n",
       "      <td>Оригинал</td>\n",
       "      <td>передний</td>\n",
       "      <td>Правый</td>\n",
       "      <td>Не требует ремонта</td>\n",
       "      <td>Растаможен</td>\n",
       "      <td>Japan</td>\n",
       "    </tr>\n",
       "    <tr>\n",
       "      <th>13720</th>\n",
       "      <td>хэтчбек</td>\n",
       "      <td>NISSAN</td>\n",
       "      <td>https://auto.ru/cars/used/sale/nissan/leaf/109...</td>\n",
       "      <td>красный</td>\n",
       "      <td>NaN</td>\n",
       "      <td>SOH 70 / 8 делений / отличный авто для города ...</td>\n",
       "      <td>NaN</td>\n",
       "      <td>109 N12</td>\n",
       "      <td>{\"electro-window-back\":true,\"esp\":true,\"start-...</td>\n",
       "      <td>электро</td>\n",
       "      <td>...</td>\n",
       "      <td>автоматическая</td>\n",
       "      <td>JAPANESE</td>\n",
       "      <td>1 владелец</td>\n",
       "      <td>NaN</td>\n",
       "      <td>Оригинал</td>\n",
       "      <td>передний</td>\n",
       "      <td>Правый</td>\n",
       "      <td>Не требует ремонта</td>\n",
       "      <td>Растаможен</td>\n",
       "      <td>Japan</td>\n",
       "    </tr>\n",
       "    <tr>\n",
       "      <th>13812</th>\n",
       "      <td>хэтчбек</td>\n",
       "      <td>NISSAN</td>\n",
       "      <td>https://auto.ru/cars/used/sale/nissan/leaf/109...</td>\n",
       "      <td>голубой</td>\n",
       "      <td>NaN</td>\n",
       "      <td>Хозяин, владею два года, богатая комплектация,...</td>\n",
       "      <td>NaN</td>\n",
       "      <td>109 N12</td>\n",
       "      <td>NaN</td>\n",
       "      <td>электро</td>\n",
       "      <td>...</td>\n",
       "      <td>автоматическая</td>\n",
       "      <td>JAPANESE</td>\n",
       "      <td>1 владелец</td>\n",
       "      <td>NaN</td>\n",
       "      <td>Оригинал</td>\n",
       "      <td>передний</td>\n",
       "      <td>Правый</td>\n",
       "      <td>Не требует ремонта</td>\n",
       "      <td>Растаможен</td>\n",
       "      <td>Japan</td>\n",
       "    </tr>\n",
       "    <tr>\n",
       "      <th>13915</th>\n",
       "      <td>хэтчбек</td>\n",
       "      <td>NISSAN</td>\n",
       "      <td>https://auto.ru/cars/used/sale/nissan/leaf/108...</td>\n",
       "      <td>красный</td>\n",
       "      <td>NaN</td>\n",
       "      <td>Правый руль.Батарея 30 кВт,Тепловой насос. (До...</td>\n",
       "      <td>NaN</td>\n",
       "      <td>109 N12</td>\n",
       "      <td>{\"cruise-control\":true,\"steel-wheels\":true,\"au...</td>\n",
       "      <td>электро</td>\n",
       "      <td>...</td>\n",
       "      <td>автоматическая</td>\n",
       "      <td>JAPANESE</td>\n",
       "      <td>1 владелец</td>\n",
       "      <td>2 года и 4 месяца</td>\n",
       "      <td>Оригинал</td>\n",
       "      <td>передний</td>\n",
       "      <td>Правый</td>\n",
       "      <td>Не требует ремонта</td>\n",
       "      <td>Растаможен</td>\n",
       "      <td>Japan</td>\n",
       "    </tr>\n",
       "    <tr>\n",
       "      <th>13952</th>\n",
       "      <td>хэтчбек</td>\n",
       "      <td>NISSAN</td>\n",
       "      <td>https://auto.ru/cars/used/sale/nissan/leaf/110...</td>\n",
       "      <td>белый</td>\n",
       "      <td>NaN</td>\n",
       "      <td>Продается электро-автомобиль в хорошем состоян...</td>\n",
       "      <td>NaN</td>\n",
       "      <td>109 N12</td>\n",
       "      <td>{\"electro-window-back\":true,\"cruise-control\":t...</td>\n",
       "      <td>электро</td>\n",
       "      <td>...</td>\n",
       "      <td>автоматическая</td>\n",
       "      <td>JAPANESE</td>\n",
       "      <td>1 владелец</td>\n",
       "      <td>11 месяцев</td>\n",
       "      <td>Оригинал</td>\n",
       "      <td>передний</td>\n",
       "      <td>Правый</td>\n",
       "      <td>Не требует ремонта</td>\n",
       "      <td>Растаможен</td>\n",
       "      <td>Japan</td>\n",
       "    </tr>\n",
       "    <tr>\n",
       "      <th>13989</th>\n",
       "      <td>хэтчбек</td>\n",
       "      <td>NISSAN</td>\n",
       "      <td>https://auto.ru/cars/used/sale/nissan/leaf/109...</td>\n",
       "      <td>чёрный</td>\n",
       "      <td>NaN</td>\n",
       "      <td>Только что привезен напрямую с аукциона в Япон...</td>\n",
       "      <td>NaN</td>\n",
       "      <td>109 N12</td>\n",
       "      <td>{\"electro-window-back\":true,\"16-inch-wheels\":t...</td>\n",
       "      <td>электро</td>\n",
       "      <td>...</td>\n",
       "      <td>автоматическая</td>\n",
       "      <td>JAPANESE</td>\n",
       "      <td>1 владелец</td>\n",
       "      <td>11 месяцев</td>\n",
       "      <td>Оригинал</td>\n",
       "      <td>передний</td>\n",
       "      <td>Правый</td>\n",
       "      <td>Не требует ремонта</td>\n",
       "      <td>Растаможен</td>\n",
       "      <td>Japan</td>\n",
       "    </tr>\n",
       "    <tr>\n",
       "      <th>14147</th>\n",
       "      <td>хэтчбек</td>\n",
       "      <td>NISSAN</td>\n",
       "      <td>https://auto.ru/cars/used/sale/nissan/leaf/109...</td>\n",
       "      <td>серый</td>\n",
       "      <td>NaN</td>\n",
       "      <td>Продаю отличного лифа. Сох 69. Соответствует г...</td>\n",
       "      <td>NaN</td>\n",
       "      <td>109 N12</td>\n",
       "      <td>{\"glonass\":true,\"esp\":true,\"start-stop-functio...</td>\n",
       "      <td>электро</td>\n",
       "      <td>...</td>\n",
       "      <td>автоматическая</td>\n",
       "      <td>JAPANESE</td>\n",
       "      <td>2 владельца</td>\n",
       "      <td>NaN</td>\n",
       "      <td>Оригинал</td>\n",
       "      <td>передний</td>\n",
       "      <td>Правый</td>\n",
       "      <td>Не требует ремонта</td>\n",
       "      <td>Растаможен</td>\n",
       "      <td>Japan</td>\n",
       "    </tr>\n",
       "    <tr>\n",
       "      <th>14419</th>\n",
       "      <td>хэтчбек</td>\n",
       "      <td>NISSAN</td>\n",
       "      <td>https://auto.ru/cars/used/sale/nissan/leaf/109...</td>\n",
       "      <td>серый</td>\n",
       "      <td>NaN</td>\n",
       "      <td>Причина продажи — хочу ZE1. Если сел на электр...</td>\n",
       "      <td>NaN</td>\n",
       "      <td>109 N12</td>\n",
       "      <td>{\"cruise-control\":true,\"asr\":true,\"esp\":true,\"...</td>\n",
       "      <td>электро</td>\n",
       "      <td>...</td>\n",
       "      <td>автоматическая</td>\n",
       "      <td>JAPANESE</td>\n",
       "      <td>2 владельца</td>\n",
       "      <td>1 год и 1 месяц</td>\n",
       "      <td>Оригинал</td>\n",
       "      <td>передний</td>\n",
       "      <td>Правый</td>\n",
       "      <td>Не требует ремонта</td>\n",
       "      <td>Растаможен</td>\n",
       "      <td>Japan</td>\n",
       "    </tr>\n",
       "    <tr>\n",
       "      <th>23869</th>\n",
       "      <td>хэтчбек</td>\n",
       "      <td>VOLKSWAGEN</td>\n",
       "      <td>https://auto.ru/cars/used/sale/volkswagen/golf...</td>\n",
       "      <td>чёрный</td>\n",
       "      <td>NaN</td>\n",
       "      <td>Отличный, немецкий, полностью электрический ав...</td>\n",
       "      <td>NaN</td>\n",
       "      <td>115 N12</td>\n",
       "      <td>{\"cruise-control\":true,\"asr\":true,\"esp\":true,\"...</td>\n",
       "      <td>электро</td>\n",
       "      <td>...</td>\n",
       "      <td>автоматическая</td>\n",
       "      <td>EUROPEAN</td>\n",
       "      <td>1 владелец</td>\n",
       "      <td>NaN</td>\n",
       "      <td>Оригинал</td>\n",
       "      <td>передний</td>\n",
       "      <td>Левый</td>\n",
       "      <td>Не требует ремонта</td>\n",
       "      <td>Растаможен</td>\n",
       "      <td>Germany</td>\n",
       "    </tr>\n",
       "    <tr>\n",
       "      <th>23948</th>\n",
       "      <td>хэтчбек</td>\n",
       "      <td>VOLKSWAGEN</td>\n",
       "      <td>https://auto.ru/cars/used/sale/volkswagen/golf...</td>\n",
       "      <td>белый</td>\n",
       "      <td>NaN</td>\n",
       "      <td>Внимание! Только для клиентов AVILON Автомобил...</td>\n",
       "      <td>NaN</td>\n",
       "      <td>115 N12</td>\n",
       "      <td>{\"cruise-control\":true,\"engine-proof\":true,\"es...</td>\n",
       "      <td>электро</td>\n",
       "      <td>...</td>\n",
       "      <td>автоматическая</td>\n",
       "      <td>EUROPEAN</td>\n",
       "      <td>1 владелец</td>\n",
       "      <td>NaN</td>\n",
       "      <td>Оригинал</td>\n",
       "      <td>передний</td>\n",
       "      <td>Левый</td>\n",
       "      <td>Не требует ремонта</td>\n",
       "      <td>Растаможен</td>\n",
       "      <td>Germany</td>\n",
       "    </tr>\n",
       "    <tr>\n",
       "      <th>27064</th>\n",
       "      <td>хэтчбек</td>\n",
       "      <td>MITSUBISHI</td>\n",
       "      <td>https://auto.ru/cars/used/sale/mitsubishi/i_mi...</td>\n",
       "      <td>белый</td>\n",
       "      <td>NaN</td>\n",
       "      <td>Авто в идеальном состоянии.\\nНа днях пройдено ...</td>\n",
       "      <td>NaN</td>\n",
       "      <td>67 N12</td>\n",
       "      <td>NaN</td>\n",
       "      <td>электро</td>\n",
       "      <td>...</td>\n",
       "      <td>автоматическая</td>\n",
       "      <td>JAPANESE</td>\n",
       "      <td>2 владельца</td>\n",
       "      <td>4 года</td>\n",
       "      <td>Оригинал</td>\n",
       "      <td>задний</td>\n",
       "      <td>Левый</td>\n",
       "      <td>Не требует ремонта</td>\n",
       "      <td>Растаможен</td>\n",
       "      <td>Japan</td>\n",
       "    </tr>\n",
       "    <tr>\n",
       "      <th>28241</th>\n",
       "      <td>хэтчбек</td>\n",
       "      <td>MITSUBISHI</td>\n",
       "      <td>https://auto.ru/cars/used/sale/mitsubishi/i_mi...</td>\n",
       "      <td>серебристый</td>\n",
       "      <td>NaN</td>\n",
       "      <td>Добрый день. Самая полная комплектация 16 Кват...</td>\n",
       "      <td>NaN</td>\n",
       "      <td>67 N12</td>\n",
       "      <td>NaN</td>\n",
       "      <td>электро</td>\n",
       "      <td>...</td>\n",
       "      <td>автоматическая</td>\n",
       "      <td>JAPANESE</td>\n",
       "      <td>2 владельца</td>\n",
       "      <td>NaN</td>\n",
       "      <td>Оригинал</td>\n",
       "      <td>задний</td>\n",
       "      <td>Правый</td>\n",
       "      <td>Не требует ремонта</td>\n",
       "      <td>Растаможен</td>\n",
       "      <td>Japan</td>\n",
       "    </tr>\n",
       "    <tr>\n",
       "      <th>32668</th>\n",
       "      <td>хэтчбек</td>\n",
       "      <td>NISSAN</td>\n",
       "      <td>https://auto.ru/cars/used/sale/nissan/leaf/110...</td>\n",
       "      <td>чёрный</td>\n",
       "      <td>NaN</td>\n",
       "      <td>Абсолютно новый автомобиль, богатая комплектац...</td>\n",
       "      <td>NaN</td>\n",
       "      <td>150 N12</td>\n",
       "      <td>{\"cruise-control\":true,\"glonass\":true,\"ptf\":tr...</td>\n",
       "      <td>электро</td>\n",
       "      <td>...</td>\n",
       "      <td>автоматическая</td>\n",
       "      <td>JAPANESE</td>\n",
       "      <td>1 владелец</td>\n",
       "      <td>1 год и 10 месяцев</td>\n",
       "      <td>Оригинал</td>\n",
       "      <td>передний</td>\n",
       "      <td>Левый</td>\n",
       "      <td>Не требует ремонта</td>\n",
       "      <td>Растаможен</td>\n",
       "      <td>Japan</td>\n",
       "    </tr>\n",
       "    <tr>\n",
       "      <th>32700</th>\n",
       "      <td>хэтчбек</td>\n",
       "      <td>NISSAN</td>\n",
       "      <td>https://auto.ru/cars/used/sale/nissan/leaf/110...</td>\n",
       "      <td>голубой</td>\n",
       "      <td>NaN</td>\n",
       "      <td>Оригинальный аукционный лист.Оценка 4 балла.  ...</td>\n",
       "      <td>NaN</td>\n",
       "      <td>109 N12</td>\n",
       "      <td>{\"cruise-control\":true,\"airbag-rear-side\":true...</td>\n",
       "      <td>электро</td>\n",
       "      <td>...</td>\n",
       "      <td>автоматическая</td>\n",
       "      <td>JAPANESE</td>\n",
       "      <td>1 владелец</td>\n",
       "      <td>5 месяцев</td>\n",
       "      <td>Оригинал</td>\n",
       "      <td>передний</td>\n",
       "      <td>Правый</td>\n",
       "      <td>Не требует ремонта</td>\n",
       "      <td>Растаможен</td>\n",
       "      <td>Japan</td>\n",
       "    </tr>\n",
       "    <tr>\n",
       "      <th>32798</th>\n",
       "      <td>хэтчбек</td>\n",
       "      <td>NISSAN</td>\n",
       "      <td>https://auto.ru/cars/used/sale/nissan/leaf/109...</td>\n",
       "      <td>чёрный</td>\n",
       "      <td>NaN</td>\n",
       "      <td>Я хозяин. Вписан в ПТС.</td>\n",
       "      <td>NaN</td>\n",
       "      <td>109 N12</td>\n",
       "      <td>{\"tinted-glass\":true,\"esp\":true,\"start-stop-fu...</td>\n",
       "      <td>электро</td>\n",
       "      <td>...</td>\n",
       "      <td>автоматическая</td>\n",
       "      <td>JAPANESE</td>\n",
       "      <td>1 владелец</td>\n",
       "      <td>NaN</td>\n",
       "      <td>Оригинал</td>\n",
       "      <td>передний</td>\n",
       "      <td>Правый</td>\n",
       "      <td>Не требует ремонта</td>\n",
       "      <td>Растаможен</td>\n",
       "      <td>Japan</td>\n",
       "    </tr>\n",
       "    <tr>\n",
       "      <th>34159</th>\n",
       "      <td>хэтчбек</td>\n",
       "      <td>MERCEDES</td>\n",
       "      <td>https://auto.ru/cars/used/sale/mercedes/b_klas...</td>\n",
       "      <td>белый</td>\n",
       "      <td>NaN</td>\n",
       "      <td>Автомобиль куплен в Германии (европейская верс...</td>\n",
       "      <td>NaN</td>\n",
       "      <td>179 N12</td>\n",
       "      <td>{\"cruise-control\":true,\"airbag-driver\":true,\"a...</td>\n",
       "      <td>электро</td>\n",
       "      <td>...</td>\n",
       "      <td>автоматическая</td>\n",
       "      <td>EUROPEAN</td>\n",
       "      <td>2 владельца</td>\n",
       "      <td>10 месяцев</td>\n",
       "      <td>Оригинал</td>\n",
       "      <td>передний</td>\n",
       "      <td>Левый</td>\n",
       "      <td>Не требует ремонта</td>\n",
       "      <td>Растаможен</td>\n",
       "      <td>Germany</td>\n",
       "    </tr>\n",
       "    <tr>\n",
       "      <th>34504</th>\n",
       "      <td>хэтчбек</td>\n",
       "      <td>NISSAN</td>\n",
       "      <td>https://auto.ru/cars/used/sale/nissan/leaf/110...</td>\n",
       "      <td>чёрный</td>\n",
       "      <td>NaN</td>\n",
       "      <td>В отличном состоянии вложений не требует.</td>\n",
       "      <td>NaN</td>\n",
       "      <td>109 N12</td>\n",
       "      <td>{\"alloy-wheel-disks\":true,\"tinted-glass\":true,...</td>\n",
       "      <td>электро</td>\n",
       "      <td>...</td>\n",
       "      <td>автоматическая</td>\n",
       "      <td>JAPANESE</td>\n",
       "      <td>2 владельца</td>\n",
       "      <td>2 года и 1 месяц</td>\n",
       "      <td>Оригинал</td>\n",
       "      <td>передний</td>\n",
       "      <td>Правый</td>\n",
       "      <td>Не требует ремонта</td>\n",
       "      <td>Растаможен</td>\n",
       "      <td>Japan</td>\n",
       "    </tr>\n",
       "  </tbody>\n",
       "</table>\n",
       "<p>55 rows × 33 columns</p>\n",
       "</div>"
      ],
      "text/plain": [
       "          bodyType       brand  \\\n",
       "5241   внедорожник        AUDI   \n",
       "7992       хэтчбек         BMW   \n",
       "8252       хэтчбек         BMW   \n",
       "8350       хэтчбек         BMW   \n",
       "8684       хэтчбек         BMW   \n",
       "8722       хэтчбек         BMW   \n",
       "8917       хэтчбек         BMW   \n",
       "10817      хэтчбек         BMW   \n",
       "10936      хэтчбек         BMW   \n",
       "11043      хэтчбек         BMW   \n",
       "11302      хэтчбек      NISSAN   \n",
       "11682      хэтчбек      NISSAN   \n",
       "11714      хэтчбек      NISSAN   \n",
       "11719      хэтчбек      NISSAN   \n",
       "11754      хэтчбек      NISSAN   \n",
       "11878      хэтчбек      NISSAN   \n",
       "11974      хэтчбек      NISSAN   \n",
       "12072      хэтчбек      NISSAN   \n",
       "12085      хэтчбек      NISSAN   \n",
       "12100      хэтчбек      NISSAN   \n",
       "12250      хэтчбек      NISSAN   \n",
       "12287      хэтчбек      NISSAN   \n",
       "12334      хэтчбек      NISSAN   \n",
       "12466      хэтчбек      NISSAN   \n",
       "12481      хэтчбек      NISSAN   \n",
       "12558      хэтчбек      NISSAN   \n",
       "12582      хэтчбек      NISSAN   \n",
       "12678      хэтчбек      NISSAN   \n",
       "12749      хэтчбек      NISSAN   \n",
       "12854      хэтчбек      NISSAN   \n",
       "12916      хэтчбек      NISSAN   \n",
       "12948      хэтчбек      NISSAN   \n",
       "12950      хэтчбек      NISSAN   \n",
       "13052      хэтчбек      NISSAN   \n",
       "13104      хэтчбек      NISSAN   \n",
       "13105      хэтчбек      NISSAN   \n",
       "13478      хэтчбек      NISSAN   \n",
       "13633      хэтчбек      NISSAN   \n",
       "13660      хэтчбек      NISSAN   \n",
       "13720      хэтчбек      NISSAN   \n",
       "13812      хэтчбек      NISSAN   \n",
       "13915      хэтчбек      NISSAN   \n",
       "13952      хэтчбек      NISSAN   \n",
       "13989      хэтчбек      NISSAN   \n",
       "14147      хэтчбек      NISSAN   \n",
       "14419      хэтчбек      NISSAN   \n",
       "23869      хэтчбек  VOLKSWAGEN   \n",
       "23948      хэтчбек  VOLKSWAGEN   \n",
       "27064      хэтчбек  MITSUBISHI   \n",
       "28241      хэтчбек  MITSUBISHI   \n",
       "32668      хэтчбек      NISSAN   \n",
       "32700      хэтчбек      NISSAN   \n",
       "32798      хэтчбек      NISSAN   \n",
       "34159      хэтчбек    MERCEDES   \n",
       "34504      хэтчбек      NISSAN   \n",
       "\n",
       "                                                 car_url        color  \\\n",
       "5241   https://auto.ru/cars/used/sale/audi/e_tron/110...        белый   \n",
       "7992   https://auto.ru/cars/used/sale/bmw/i3/11010431...        синий   \n",
       "8252   https://auto.ru/cars/used/sale/bmw/i3/11012780...        серый   \n",
       "8350   https://auto.ru/cars/used/sale/bmw/i3/11002716...        белый   \n",
       "8684   https://auto.ru/cars/used/sale/bmw/i3/11011745...       чёрный   \n",
       "8722   https://auto.ru/cars/used/sale/bmw/i3/11000973...      голубой   \n",
       "8917   https://auto.ru/cars/used/sale/bmw/i3/11008715...      бежевый   \n",
       "10817  https://auto.ru/cars/used/sale/bmw/i3/11012664...        серый   \n",
       "10936  https://auto.ru/cars/used/sale/bmw/i3/10996733...       чёрный   \n",
       "11043  https://auto.ru/cars/used/sale/bmw/i3/10993761...        серый   \n",
       "11302  https://auto.ru/cars/used/sale/nissan/leaf/110...      голубой   \n",
       "11682  https://auto.ru/cars/used/sale/nissan/leaf/110...        белый   \n",
       "11714  https://auto.ru/cars/used/sale/nissan/leaf/109...        белый   \n",
       "11719  https://auto.ru/cars/used/sale/nissan/leaf/109...        белый   \n",
       "11754  https://auto.ru/cars/used/sale/nissan/leaf/110...        белый   \n",
       "11878  https://auto.ru/cars/used/sale/nissan/leaf/110...  серебристый   \n",
       "11974  https://auto.ru/cars/used/sale/nissan/leaf/108...       чёрный   \n",
       "12072  https://auto.ru/cars/used/sale/nissan/leaf/110...       чёрный   \n",
       "12085  https://auto.ru/cars/used/sale/nissan/leaf/109...      голубой   \n",
       "12100  https://auto.ru/cars/used/sale/nissan/leaf/109...        серый   \n",
       "12250  https://auto.ru/cars/used/sale/nissan/leaf/109...        серый   \n",
       "12287  https://auto.ru/cars/used/sale/nissan/leaf/109...      голубой   \n",
       "12334  https://auto.ru/cars/used/sale/nissan/leaf/110...       чёрный   \n",
       "12466  https://auto.ru/cars/used/sale/nissan/leaf/110...       чёрный   \n",
       "12481  https://auto.ru/cars/used/sale/nissan/leaf/110...        белый   \n",
       "12558  https://auto.ru/cars/used/sale/nissan/leaf/109...  серебристый   \n",
       "12582  https://auto.ru/cars/used/sale/nissan/leaf/109...        белый   \n",
       "12678  https://auto.ru/cars/used/sale/nissan/leaf/109...       чёрный   \n",
       "12749  https://auto.ru/cars/used/sale/nissan/leaf/109...       чёрный   \n",
       "12854  https://auto.ru/cars/used/sale/nissan/leaf/109...       чёрный   \n",
       "12916  https://auto.ru/cars/used/sale/nissan/leaf/109...       чёрный   \n",
       "12948  https://auto.ru/cars/used/sale/nissan/leaf/109...  серебристый   \n",
       "12950  https://auto.ru/cars/used/sale/nissan/leaf/109...        белый   \n",
       "13052  https://auto.ru/cars/used/sale/nissan/leaf/109...        белый   \n",
       "13104  https://auto.ru/cars/used/sale/nissan/leaf/109...        белый   \n",
       "13105  https://auto.ru/cars/used/sale/nissan/leaf/108...  серебристый   \n",
       "13478  https://auto.ru/cars/used/sale/nissan/leaf/110...      красный   \n",
       "13633  https://auto.ru/cars/used/sale/nissan/leaf/100...        синий   \n",
       "13660  https://auto.ru/cars/used/sale/nissan/leaf/109...       чёрный   \n",
       "13720  https://auto.ru/cars/used/sale/nissan/leaf/109...      красный   \n",
       "13812  https://auto.ru/cars/used/sale/nissan/leaf/109...      голубой   \n",
       "13915  https://auto.ru/cars/used/sale/nissan/leaf/108...      красный   \n",
       "13952  https://auto.ru/cars/used/sale/nissan/leaf/110...        белый   \n",
       "13989  https://auto.ru/cars/used/sale/nissan/leaf/109...       чёрный   \n",
       "14147  https://auto.ru/cars/used/sale/nissan/leaf/109...        серый   \n",
       "14419  https://auto.ru/cars/used/sale/nissan/leaf/109...        серый   \n",
       "23869  https://auto.ru/cars/used/sale/volkswagen/golf...       чёрный   \n",
       "23948  https://auto.ru/cars/used/sale/volkswagen/golf...        белый   \n",
       "27064  https://auto.ru/cars/used/sale/mitsubishi/i_mi...        белый   \n",
       "28241  https://auto.ru/cars/used/sale/mitsubishi/i_mi...  серебристый   \n",
       "32668  https://auto.ru/cars/used/sale/nissan/leaf/110...       чёрный   \n",
       "32700  https://auto.ru/cars/used/sale/nissan/leaf/110...      голубой   \n",
       "32798  https://auto.ru/cars/used/sale/nissan/leaf/109...       чёрный   \n",
       "34159  https://auto.ru/cars/used/sale/mercedes/b_klas...        белый   \n",
       "34504  https://auto.ru/cars/used/sale/nissan/leaf/110...       чёрный   \n",
       "\n",
       "                                      complectation_dict  \\\n",
       "5241                                                 NaN   \n",
       "7992                                                 NaN   \n",
       "8252                                                 NaN   \n",
       "8350   {\"id\":\"21624597\",\"name\":\"i3 120 Ah\",\"available...   \n",
       "8684                                                 NaN   \n",
       "8722                                                 NaN   \n",
       "8917                                                 NaN   \n",
       "10817                                                NaN   \n",
       "10936                                                NaN   \n",
       "11043                                                NaN   \n",
       "11302                                                NaN   \n",
       "11682                                                NaN   \n",
       "11714                                                NaN   \n",
       "11719                                                NaN   \n",
       "11754                                                NaN   \n",
       "11878                                                NaN   \n",
       "11974                                                NaN   \n",
       "12072                                                NaN   \n",
       "12085                                                NaN   \n",
       "12100                                                NaN   \n",
       "12250                                                NaN   \n",
       "12287                                                NaN   \n",
       "12334                                                NaN   \n",
       "12466                                                NaN   \n",
       "12481                                                NaN   \n",
       "12558                                                NaN   \n",
       "12582                                                NaN   \n",
       "12678                                                NaN   \n",
       "12749                                                NaN   \n",
       "12854                                                NaN   \n",
       "12916                                                NaN   \n",
       "12948                                                NaN   \n",
       "12950                                                NaN   \n",
       "13052                                                NaN   \n",
       "13104                                                NaN   \n",
       "13105                                                NaN   \n",
       "13478                                                NaN   \n",
       "13633                                                NaN   \n",
       "13660                                                NaN   \n",
       "13720                                                NaN   \n",
       "13812                                                NaN   \n",
       "13915                                                NaN   \n",
       "13952                                                NaN   \n",
       "13989                                                NaN   \n",
       "14147                                                NaN   \n",
       "14419                                                NaN   \n",
       "23869                                                NaN   \n",
       "23948                                                NaN   \n",
       "27064                                                NaN   \n",
       "28241                                                NaN   \n",
       "32668                                                NaN   \n",
       "32700                                                NaN   \n",
       "32798                                                NaN   \n",
       "34159                                                NaN   \n",
       "34504                                                NaN   \n",
       "\n",
       "                                             description  engineDisplacement  \\\n",
       "5241   Audi e-tron Prestige quattro от Moscow Tesla C...                 NaN   \n",
       "7992   Атомобиль из Германии,без пробега по РФ.\\nНа г...                 NaN   \n",
       "8252   Пробег 54000 км, запас хода на зарядке 130 км+...                 NaN   \n",
       "8350   Автомобиль в наличии Москве , с ПТС , производ...                 NaN   \n",
       "8684   BMW I 3 REX\\nфевраль 2017 года выпуска.\\nПриоб...                 NaN   \n",
       "8722   \\nПрибыло из Америки в августе 2020 года. Полн...                 NaN   \n",
       "8917   -Состояние нового автомобиля .\\n-Carfax вся ис...                 NaN   \n",
       "10817  Продаю BMW I3 +REX .\\n\\nПолноценный электромоб...                 NaN   \n",
       "10936  Автомобиль BMW i3 (полностью электрический )за...                 NaN   \n",
       "11043  Состояние нового автомобиля . \\nФото ИМЕННО ЭТ...                 NaN   \n",
       "11302  Безопасность: 10. Салон: 4. Комфорт: 12. Мульт...                 NaN   \n",
       "11682  Продаю авто без пробега по РФ.\\nМаксимальная к...                 NaN   \n",
       "11714  Комплектация G\\nБатарея 40 кВт\\n\\n- PRO- PILOT...                 NaN   \n",
       "11719  Автомобиль с аукциона! НЕ РЫНОК!!!! (аукционны...                 NaN   \n",
       "11754  Продаю электромобиль ниссан лиаф 2011г пробег1...                 NaN   \n",
       "11878  Оригинальный ПТС.  \\nАвто декабрь 2013 года \\n...                 NaN   \n",
       "11974  Всё работает ,батарея  48 кВт-120км +120км све...                 NaN   \n",
       "12072  Продаю Nissan Leaf 2012 года выпуска. Данный а...                 NaN   \n",
       "12085  Электpомобиль Nissan Leаf  из США( северный шт...                 NaN   \n",
       "12100  Leaf 30x Aero style. 30 квт.ч. 12 палок.\\nконт...                 NaN   \n",
       "12250  Электромобиль в отличном состоянии,  пробег на...                 NaN   \n",
       "12287  Продается Ниссан Leaf в полная комплектация(кр...                 NaN   \n",
       "12334  Продаю своего друга! Очень хорошая машина! Рад...                 NaN   \n",
       "12466  Аукционный авто, батарея 30 квт., куплен в 201...                 NaN   \n",
       "12481  АВТОМОБИЛЬ В МОСКВЕ.\\n\\nПривозил под себя, езж...                 NaN   \n",
       "12558  Продам nissan leaf 2011 года🚗\\nЦена за наличку...                 NaN   \n",
       "12582  16 модельный год (изг. декабрь 2015) \\nПокупал...                 NaN   \n",
       "12678  - Я первый собственник, авто завезено в июле 2...                 NaN   \n",
       "12749  SOH — 87,99\\n\\nОтличная городская машина в иде...                 NaN   \n",
       "12854  Машина в отличном состоянии. В дтп не была. Оч...                 NaN   \n",
       "12916  Автомобиль покупал на аукционе. Комплектация G...                 NaN   \n",
       "12948  Продаю свою шикарную машину, которая радовала ...                 NaN   \n",
       "12950  Аукционный авто. 3.5 балла. В Москве с августа...                 NaN   \n",
       "13052  Доброго времени суток. Продаю Nissan Leaf AZEO...                 NaN   \n",
       "13104  \\n- за данную  цену продают без велюра и матов...                 NaN   \n",
       "13105  Новая резина. Куплена не в кредит. Не прокурен...                 NaN   \n",
       "13478  Aze0 30 кВт, SOH 77.5, 10 делений, я 1й владел...                 NaN   \n",
       "13633  На машине стоит вебасто с термоколом. Управляе...                 NaN   \n",
       "13660  Отличное состояние. Полная комплектация. Подро...                 NaN   \n",
       "13720  SOH 70 / 8 делений / отличный авто для города ...                 NaN   \n",
       "13812  Хозяин, владею два года, богатая комплектация,...                 NaN   \n",
       "13915  Правый руль.Батарея 30 кВт,Тепловой насос. (До...                 NaN   \n",
       "13952  Продается электро-автомобиль в хорошем состоян...                 NaN   \n",
       "13989  Только что привезен напрямую с аукциона в Япон...                 NaN   \n",
       "14147  Продаю отличного лифа. Сох 69. Соответствует г...                 NaN   \n",
       "14419  Причина продажи — хочу ZE1. Если сел на электр...                 NaN   \n",
       "23869  Отличный, немецкий, полностью электрический ав...                 NaN   \n",
       "23948  Внимание! Только для клиентов AVILON Автомобил...                 NaN   \n",
       "27064  Авто в идеальном состоянии.\\nНа днях пройдено ...                 NaN   \n",
       "28241  Добрый день. Самая полная комплектация 16 Кват...                 NaN   \n",
       "32668  Абсолютно новый автомобиль, богатая комплектац...                 NaN   \n",
       "32700  Оригинальный аукционный лист.Оценка 4 балла.  ...                 NaN   \n",
       "32798                            Я хозяин. Вписан в ПТС.                 NaN   \n",
       "34159  Автомобиль куплен в Германии (европейская верс...                 NaN   \n",
       "34504          В отличном состоянии вложений не требует.                 NaN   \n",
       "\n",
       "      enginePower                                     equipment_dict fuelType  \\\n",
       "5241      408 N12  {\"asr\":true,\"esp\":true,\"usb\":true,\"e-adjustmen...  электро   \n",
       "7992      170 N12                                                NaN  электро   \n",
       "8252      170 N12        {\"park-assist-f\":true,\"park-assist-r\":true}  электро   \n",
       "8350      170 N12  {\"cruise-control\":true,\"asr\":true,\"esp\":true,\"...  электро   \n",
       "8684      170 N12  {\"cruise-control\":true,\"glonass\":true,\"navigat...  электро   \n",
       "8722      170 N12                                                NaN  электро   \n",
       "8917      170 N12                 {\"glonass\":true,\"roof-rails\":true}  электро   \n",
       "10817     170 N12                                                NaN  электро   \n",
       "10936     170 N12  {\"cruise-control\":true,\"asr\":true,\"tinted-glas...  электро   \n",
       "11043     170 N12  {\"glonass\":true,\"airbag-driver\":true,\"aux\":tru...  электро   \n",
       "11302     109 N12  {\"asr\":true,\"tinted-glass\":true,\"start-stop-fu...  электро   \n",
       "11682     150 N12  {\"tinted-glass\":true,\"esp\":true,\"adaptive-ligh...  электро   \n",
       "11714     150 N12  {\"collision-prevention-assist\":true,\"led-light...  электро   \n",
       "11719     109 N12                                                NaN  электро   \n",
       "11754     109 N12  {\"cruise-control\":true,\"start-button\":true,\"ra...  электро   \n",
       "11878     109 N12  {\"asr\":true,\"glonass\":true,\"tinted-glass\":true...  электро   \n",
       "11974     109 N12  {\"asr\":true,\"tinted-glass\":true,\"esp\":true,\"ai...  электро   \n",
       "12072     109 N12                                                NaN  электро   \n",
       "12085     109 N12  {\"cruise-control\":true,\"esp\":true,\"start-stop-...  электро   \n",
       "12100     109 N12  {\"tinted-glass\":true,\"esp\":true,\"aux\":true,\"us...  электро   \n",
       "12250     109 N12  {\"engine-proof\":true,\"glonass\":true,\"tinted-gl...  электро   \n",
       "12287     109 N12  {\"glonass\":true,\"esp\":true,\"aux\":true,\"usb\":tr...  электро   \n",
       "12334     109 N12  {\"engine-proof\":true,\"cruise-control\":true,\"ti...  электро   \n",
       "12466     109 N12  {\"cruise-control\":true,\"asr\":true,\"tinted-glas...  электро   \n",
       "12481     109 N12  {\"cruise-control\":true,\"tinted-glass\":true,\"es...  электро   \n",
       "12558     109 N12  {\"cruise-control\":true,\"asr\":true,\"tinted-glas...  электро   \n",
       "12582     109 N12  {\"cruise-control\":true,\"asr\":true,\"tinted-glas...  электро   \n",
       "12678     109 N12  {\"cruise-control\":true,\"esp\":true,\"airbag-driv...  электро   \n",
       "12749     109 N12  {\"engine-proof\":true,\"cruise-control\":true,\"as...  электро   \n",
       "12854     109 N12  {\"electro-window-back\":true,\"alloy-wheel-disks...  электро   \n",
       "12916     109 N12  {\"cruise-control\":true,\"tinted-glass\":true,\"es...  электро   \n",
       "12948     109 N12                                                NaN  электро   \n",
       "12950     109 N12  {\"cruise-control\":true,\"asr\":true,\"tinted-glas...  электро   \n",
       "13052     109 N12  {\"cruise-control\":true,\"tinted-glass\":true,\"es...  электро   \n",
       "13104     109 N12  {\"cruise-control\":true,\"esp\":true,\"adaptive-li...  электро   \n",
       "13105     109 N12  {\"cruise-control\":true,\"tinted-glass\":true,\"st...  электро   \n",
       "13478     109 N12  {\"cruise-control\":true,\"airbag-driver\":true,\"a...  электро   \n",
       "13633     109 N12                                                NaN  электро   \n",
       "13660     109 N12  {\"cruise-control\":true,\"tinted-glass\":true,\"es...  электро   \n",
       "13720     109 N12  {\"electro-window-back\":true,\"esp\":true,\"start-...  электро   \n",
       "13812     109 N12                                                NaN  электро   \n",
       "13915     109 N12  {\"cruise-control\":true,\"steel-wheels\":true,\"au...  электро   \n",
       "13952     109 N12  {\"electro-window-back\":true,\"cruise-control\":t...  электро   \n",
       "13989     109 N12  {\"electro-window-back\":true,\"16-inch-wheels\":t...  электро   \n",
       "14147     109 N12  {\"glonass\":true,\"esp\":true,\"start-stop-functio...  электро   \n",
       "14419     109 N12  {\"cruise-control\":true,\"asr\":true,\"esp\":true,\"...  электро   \n",
       "23869     115 N12  {\"cruise-control\":true,\"asr\":true,\"esp\":true,\"...  электро   \n",
       "23948     115 N12  {\"cruise-control\":true,\"engine-proof\":true,\"es...  электро   \n",
       "27064      67 N12                                                NaN  электро   \n",
       "28241      67 N12                                                NaN  электро   \n",
       "32668     150 N12  {\"cruise-control\":true,\"glonass\":true,\"ptf\":tr...  электро   \n",
       "32700     109 N12  {\"cruise-control\":true,\"airbag-rear-side\":true...  электро   \n",
       "32798     109 N12  {\"tinted-glass\":true,\"esp\":true,\"start-stop-fu...  электро   \n",
       "34159     179 N12  {\"cruise-control\":true,\"airbag-driver\":true,\"a...  электро   \n",
       "34504     109 N12  {\"alloy-wheel-disks\":true,\"tinted-glass\":true,...  электро   \n",
       "\n",
       "       ... vehicleTransmission    vendor    Владельцы            Владение  \\\n",
       "5241   ...      автоматическая  EUROPEAN   1 владелец    1 год и 3 месяца   \n",
       "7992   ...      автоматическая  EUROPEAN   1 владелец                 NaN   \n",
       "8252   ...      автоматическая  EUROPEAN   1 владелец             1 месяц   \n",
       "8350   ...      автоматическая  EUROPEAN   1 владелец                 NaN   \n",
       "8684   ...      автоматическая  EUROPEAN   1 владелец                 NaN   \n",
       "8722   ...      автоматическая  EUROPEAN   1 владелец                 NaN   \n",
       "8917   ...      автоматическая  EUROPEAN   1 владелец                 NaN   \n",
       "10817  ...      автоматическая  EUROPEAN   1 владелец                 NaN   \n",
       "10936  ...      автоматическая  EUROPEAN   1 владелец                 NaN   \n",
       "11043  ...      автоматическая  EUROPEAN   1 владелец           8 месяцев   \n",
       "11302  ...      автоматическая  JAPANESE  3 или более                 NaN   \n",
       "11682  ...      автоматическая  JAPANESE   1 владелец            2 месяца   \n",
       "11714  ...      автоматическая  JAPANESE   1 владелец                 NaN   \n",
       "11719  ...      автоматическая  JAPANESE   1 владелец           5 месяцев   \n",
       "11754  ...      автоматическая  JAPANESE  2 владельца                 NaN   \n",
       "11878  ...      автоматическая  JAPANESE   1 владелец                 NaN   \n",
       "11974  ...      автоматическая  JAPANESE   1 владелец  3 года и 8 месяцев   \n",
       "12072  ...      автоматическая  JAPANESE  3 или более           9 месяцев   \n",
       "12085  ...      автоматическая  JAPANESE   1 владелец   1 год и 6 месяцев   \n",
       "12100  ...      автоматическая  JAPANESE   1 владелец    1 год и 3 месяца   \n",
       "12250  ...      автоматическая  JAPANESE   1 владелец           9 месяцев   \n",
       "12287  ...      автоматическая  JAPANESE   1 владелец                 NaN   \n",
       "12334  ...      автоматическая  JAPANESE   1 владелец           5 месяцев   \n",
       "12466  ...      автоматическая  JAPANESE   1 владелец   2 года и 2 месяца   \n",
       "12481  ...      автоматическая  JAPANESE   1 владелец           5 месяцев   \n",
       "12558  ...      автоматическая  JAPANESE   1 владелец    1 год и 2 месяца   \n",
       "12582  ...      автоматическая  JAPANESE   1 владелец  2 года и 6 месяцев   \n",
       "12678  ...      автоматическая  JAPANESE   1 владелец    1 год и 3 месяца   \n",
       "12749  ...      автоматическая  JAPANESE   1 владелец     1 год и 1 месяц   \n",
       "12854  ...      автоматическая  JAPANESE  2 владельца          11 месяцев   \n",
       "12916  ...      автоматическая  JAPANESE   1 владелец                 NaN   \n",
       "12948  ...      автоматическая  JAPANESE  2 владельца                 NaN   \n",
       "12950  ...      автоматическая  JAPANESE   1 владелец                 NaN   \n",
       "13052  ...      автоматическая  JAPANESE   1 владелец   3 года и 4 месяца   \n",
       "13104  ...      автоматическая  JAPANESE   1 владелец               1 год   \n",
       "13105  ...      автоматическая  JAPANESE   1 владелец   2 года и 4 месяца   \n",
       "13478  ...      автоматическая  JAPANESE   1 владелец            4 месяца   \n",
       "13633  ...      автоматическая  JAPANESE  2 владельца  5 лет и 10 месяцев   \n",
       "13660  ...      автоматическая  JAPANESE   1 владелец    1 год и 3 месяца   \n",
       "13720  ...      автоматическая  JAPANESE   1 владелец                 NaN   \n",
       "13812  ...      автоматическая  JAPANESE   1 владелец                 NaN   \n",
       "13915  ...      автоматическая  JAPANESE   1 владелец   2 года и 4 месяца   \n",
       "13952  ...      автоматическая  JAPANESE   1 владелец          11 месяцев   \n",
       "13989  ...      автоматическая  JAPANESE   1 владелец          11 месяцев   \n",
       "14147  ...      автоматическая  JAPANESE  2 владельца                 NaN   \n",
       "14419  ...      автоматическая  JAPANESE  2 владельца     1 год и 1 месяц   \n",
       "23869  ...      автоматическая  EUROPEAN   1 владелец                 NaN   \n",
       "23948  ...      автоматическая  EUROPEAN   1 владелец                 NaN   \n",
       "27064  ...      автоматическая  JAPANESE  2 владельца              4 года   \n",
       "28241  ...      автоматическая  JAPANESE  2 владельца                 NaN   \n",
       "32668  ...      автоматическая  JAPANESE   1 владелец  1 год и 10 месяцев   \n",
       "32700  ...      автоматическая  JAPANESE   1 владелец           5 месяцев   \n",
       "32798  ...      автоматическая  JAPANESE   1 владелец                 NaN   \n",
       "34159  ...      автоматическая  EUROPEAN  2 владельца          10 месяцев   \n",
       "34504  ...      автоматическая  JAPANESE  2 владельца    2 года и 1 месяц   \n",
       "\n",
       "            ПТС    Привод    Руль           Состояние     Таможня  \\\n",
       "5241   Оригинал    полный   Левый  Не требует ремонта  Растаможен   \n",
       "7992   Оригинал    задний   Левый  Не требует ремонта  Растаможен   \n",
       "8252   Оригинал    задний   Левый  Не требует ремонта  Растаможен   \n",
       "8350   Оригинал    задний   Левый  Не требует ремонта  Растаможен   \n",
       "8684   Оригинал    задний   Левый  Не требует ремонта  Растаможен   \n",
       "8722   Оригинал    задний   Левый  Не требует ремонта  Растаможен   \n",
       "8917   Оригинал    задний   Левый  Не требует ремонта  Растаможен   \n",
       "10817  Оригинал    задний   Левый  Не требует ремонта  Растаможен   \n",
       "10936  Оригинал    задний   Левый  Не требует ремонта  Растаможен   \n",
       "11043  Оригинал    задний   Левый  Не требует ремонта  Растаможен   \n",
       "11302  Оригинал  передний   Левый  Не требует ремонта  Растаможен   \n",
       "11682  Оригинал  передний   Левый  Не требует ремонта  Растаможен   \n",
       "11714  Оригинал  передний  Правый  Не требует ремонта  Растаможен   \n",
       "11719  Оригинал  передний  Правый  Не требует ремонта  Растаможен   \n",
       "11754  Оригинал  передний  Правый  Не требует ремонта  Растаможен   \n",
       "11878  Оригинал  передний   Левый  Не требует ремонта  Растаможен   \n",
       "11974  Оригинал  передний  Правый  Не требует ремонта  Растаможен   \n",
       "12072  Оригинал  передний  Правый  Не требует ремонта  Растаможен   \n",
       "12085  Оригинал  передний   Левый  Не требует ремонта  Растаможен   \n",
       "12100  Оригинал  передний  Правый  Не требует ремонта  Растаможен   \n",
       "12250  Оригинал  передний  Правый  Не требует ремонта  Растаможен   \n",
       "12287  Оригинал  передний   Левый  Не требует ремонта  Растаможен   \n",
       "12334  Оригинал  передний  Правый  Не требует ремонта  Растаможен   \n",
       "12466  Оригинал  передний  Правый  Не требует ремонта  Растаможен   \n",
       "12481  Оригинал  передний  Правый  Не требует ремонта  Растаможен   \n",
       "12558  Оригинал  передний  Правый  Не требует ремонта  Растаможен   \n",
       "12582  Оригинал  передний  Правый  Не требует ремонта  Растаможен   \n",
       "12678  Оригинал  передний  Правый  Не требует ремонта  Растаможен   \n",
       "12749  Оригинал  передний  Правый  Не требует ремонта  Растаможен   \n",
       "12854  Оригинал  передний  Правый  Не требует ремонта  Растаможен   \n",
       "12916  Оригинал  передний  Правый  Не требует ремонта  Растаможен   \n",
       "12948  Оригинал  передний  Правый  Не требует ремонта  Растаможен   \n",
       "12950  Оригинал  передний  Правый  Не требует ремонта  Растаможен   \n",
       "13052  Оригинал  передний  Правый  Не требует ремонта  Растаможен   \n",
       "13104  Оригинал  передний  Правый  Не требует ремонта  Растаможен   \n",
       "13105  Оригинал  передний  Правый  Не требует ремонта  Растаможен   \n",
       "13478  Оригинал  передний  Правый  Не требует ремонта  Растаможен   \n",
       "13633  Оригинал  передний   Левый  Не требует ремонта  Растаможен   \n",
       "13660  Оригинал  передний  Правый  Не требует ремонта  Растаможен   \n",
       "13720  Оригинал  передний  Правый  Не требует ремонта  Растаможен   \n",
       "13812  Оригинал  передний  Правый  Не требует ремонта  Растаможен   \n",
       "13915  Оригинал  передний  Правый  Не требует ремонта  Растаможен   \n",
       "13952  Оригинал  передний  Правый  Не требует ремонта  Растаможен   \n",
       "13989  Оригинал  передний  Правый  Не требует ремонта  Растаможен   \n",
       "14147  Оригинал  передний  Правый  Не требует ремонта  Растаможен   \n",
       "14419  Оригинал  передний  Правый  Не требует ремонта  Растаможен   \n",
       "23869  Оригинал  передний   Левый  Не требует ремонта  Растаможен   \n",
       "23948  Оригинал  передний   Левый  Не требует ремонта  Растаможен   \n",
       "27064  Оригинал    задний   Левый  Не требует ремонта  Растаможен   \n",
       "28241  Оригинал    задний  Правый  Не требует ремонта  Растаможен   \n",
       "32668  Оригинал  передний   Левый  Не требует ремонта  Растаможен   \n",
       "32700  Оригинал  передний  Правый  Не требует ремонта  Растаможен   \n",
       "32798  Оригинал  передний  Правый  Не требует ремонта  Растаможен   \n",
       "34159  Оригинал  передний   Левый  Не требует ремонта  Растаможен   \n",
       "34504  Оригинал  передний  Правый  Не требует ремонта  Растаможен   \n",
       "\n",
       "       Country_of_origin  \n",
       "5241             Germany  \n",
       "7992             Germany  \n",
       "8252             Germany  \n",
       "8350             Germany  \n",
       "8684             Germany  \n",
       "8722             Germany  \n",
       "8917             Germany  \n",
       "10817            Germany  \n",
       "10936            Germany  \n",
       "11043            Germany  \n",
       "11302              Japan  \n",
       "11682              Japan  \n",
       "11714              Japan  \n",
       "11719              Japan  \n",
       "11754              Japan  \n",
       "11878              Japan  \n",
       "11974              Japan  \n",
       "12072              Japan  \n",
       "12085              Japan  \n",
       "12100              Japan  \n",
       "12250              Japan  \n",
       "12287              Japan  \n",
       "12334              Japan  \n",
       "12466              Japan  \n",
       "12481              Japan  \n",
       "12558              Japan  \n",
       "12582              Japan  \n",
       "12678              Japan  \n",
       "12749              Japan  \n",
       "12854              Japan  \n",
       "12916              Japan  \n",
       "12948              Japan  \n",
       "12950              Japan  \n",
       "13052              Japan  \n",
       "13104              Japan  \n",
       "13105              Japan  \n",
       "13478              Japan  \n",
       "13633              Japan  \n",
       "13660              Japan  \n",
       "13720              Japan  \n",
       "13812              Japan  \n",
       "13915              Japan  \n",
       "13952              Japan  \n",
       "13989              Japan  \n",
       "14147              Japan  \n",
       "14419              Japan  \n",
       "23869            Germany  \n",
       "23948            Germany  \n",
       "27064              Japan  \n",
       "28241              Japan  \n",
       "32668              Japan  \n",
       "32700              Japan  \n",
       "32798              Japan  \n",
       "34159            Germany  \n",
       "34504              Japan  \n",
       "\n",
       "[55 rows x 33 columns]"
      ]
     },
     "execution_count": 233,
     "metadata": {},
     "output_type": "execute_result"
    }
   ],
   "source": [
    "test_mod[test_mod['engineDisplacement'].isna()]"
   ]
  },
  {
   "cell_type": "code",
   "execution_count": 234,
   "metadata": {},
   "outputs": [
    {
     "data": {
      "text/html": [
       "<div>\n",
       "<style scoped>\n",
       "    .dataframe tbody tr th:only-of-type {\n",
       "        vertical-align: middle;\n",
       "    }\n",
       "\n",
       "    .dataframe tbody tr th {\n",
       "        vertical-align: top;\n",
       "    }\n",
       "\n",
       "    .dataframe thead th {\n",
       "        text-align: right;\n",
       "    }\n",
       "</style>\n",
       "<table border=\"1\" class=\"dataframe\">\n",
       "  <thead>\n",
       "    <tr style=\"text-align: right;\">\n",
       "      <th></th>\n",
       "      <th>bodyType</th>\n",
       "      <th>brand</th>\n",
       "      <th>color</th>\n",
       "      <th>fuelType</th>\n",
       "      <th>modelDate</th>\n",
       "      <th>name</th>\n",
       "      <th>numberOfDoors</th>\n",
       "      <th>productionDate</th>\n",
       "      <th>vehicleConfiguration</th>\n",
       "      <th>vehicleTransmission</th>\n",
       "      <th>...</th>\n",
       "      <th>Состояние</th>\n",
       "      <th>Владельцы</th>\n",
       "      <th>ПТС</th>\n",
       "      <th>Таможня</th>\n",
       "      <th>Владение</th>\n",
       "      <th>price</th>\n",
       "      <th>start_date</th>\n",
       "      <th>hidden</th>\n",
       "      <th>model</th>\n",
       "      <th>Country_of_origin</th>\n",
       "    </tr>\n",
       "  </thead>\n",
       "  <tbody>\n",
       "    <tr>\n",
       "      <th>45</th>\n",
       "      <td>седан</td>\n",
       "      <td>AUDI</td>\n",
       "      <td>чёрный</td>\n",
       "      <td>бензин</td>\n",
       "      <td>1990.0</td>\n",
       "      <td>S4 2.2 AT (230 л.с.) 4WD</td>\n",
       "      <td>4.0</td>\n",
       "      <td>1992</td>\n",
       "      <td>SEDAN AUTOMATIC S4</td>\n",
       "      <td>AUTOMATIC</td>\n",
       "      <td>...</td>\n",
       "      <td>NaN</td>\n",
       "      <td>3.0</td>\n",
       "      <td>DUPLICATE</td>\n",
       "      <td>True</td>\n",
       "      <td>NaN</td>\n",
       "      <td>220000.0</td>\n",
       "      <td>2020-07-09T06:57:21Z</td>\n",
       "      <td>NaN</td>\n",
       "      <td>100</td>\n",
       "      <td>Germany</td>\n",
       "    </tr>\n",
       "    <tr>\n",
       "      <th>345</th>\n",
       "      <td>седан</td>\n",
       "      <td>AUDI</td>\n",
       "      <td>чёрный</td>\n",
       "      <td>бензин</td>\n",
       "      <td>2012.0</td>\n",
       "      <td>ultra 1.4 AMT (150 л.с.)</td>\n",
       "      <td>4.0</td>\n",
       "      <td>2016</td>\n",
       "      <td>SEDAN ROBOT ultra</td>\n",
       "      <td>ROBOT</td>\n",
       "      <td>...</td>\n",
       "      <td>NaN</td>\n",
       "      <td>2.0</td>\n",
       "      <td>ORIGINAL</td>\n",
       "      <td>True</td>\n",
       "      <td>NaN</td>\n",
       "      <td>1254090.0</td>\n",
       "      <td>2020-09-05T16:01:05Z</td>\n",
       "      <td>NaN</td>\n",
       "      <td>A3</td>\n",
       "      <td>Germany</td>\n",
       "    </tr>\n",
       "    <tr>\n",
       "      <th>383</th>\n",
       "      <td>седан</td>\n",
       "      <td>AUDI</td>\n",
       "      <td>белый</td>\n",
       "      <td>бензин</td>\n",
       "      <td>2012.0</td>\n",
       "      <td>ultra 1.4 AMT (150 л.с.)</td>\n",
       "      <td>4.0</td>\n",
       "      <td>2015</td>\n",
       "      <td>SEDAN ROBOT ultra</td>\n",
       "      <td>ROBOT</td>\n",
       "      <td>...</td>\n",
       "      <td>NaN</td>\n",
       "      <td>1.0</td>\n",
       "      <td>ORIGINAL</td>\n",
       "      <td>True</td>\n",
       "      <td>NaN</td>\n",
       "      <td>870000.0</td>\n",
       "      <td>2020-07-28T11:55:47Z</td>\n",
       "      <td>NaN</td>\n",
       "      <td>A3</td>\n",
       "      <td>Germany</td>\n",
       "    </tr>\n",
       "    <tr>\n",
       "      <th>658</th>\n",
       "      <td>универсал</td>\n",
       "      <td>AUDI</td>\n",
       "      <td>чёрный</td>\n",
       "      <td>дизель</td>\n",
       "      <td>2004.0</td>\n",
       "      <td>8V 2.0d MT (140 л.с.)</td>\n",
       "      <td>5.0</td>\n",
       "      <td>2005</td>\n",
       "      <td>WAGON_5_DOORS MECHANICAL 8V</td>\n",
       "      <td>MECHANICAL</td>\n",
       "      <td>...</td>\n",
       "      <td>NaN</td>\n",
       "      <td>3.0</td>\n",
       "      <td>ORIGINAL</td>\n",
       "      <td>True</td>\n",
       "      <td>{'year': 2020, 'month': 2}</td>\n",
       "      <td>380000.0</td>\n",
       "      <td>2020-09-08T19:06:10Z</td>\n",
       "      <td>NaN</td>\n",
       "      <td>A4</td>\n",
       "      <td>Germany</td>\n",
       "    </tr>\n",
       "    <tr>\n",
       "      <th>671</th>\n",
       "      <td>универсал</td>\n",
       "      <td>AUDI</td>\n",
       "      <td>чёрный</td>\n",
       "      <td>дизель</td>\n",
       "      <td>2004.0</td>\n",
       "      <td>8V 2.0d CVT (140 л.с.)</td>\n",
       "      <td>5.0</td>\n",
       "      <td>2007</td>\n",
       "      <td>WAGON_5_DOORS VARIATOR 8V</td>\n",
       "      <td>VARIATOR</td>\n",
       "      <td>...</td>\n",
       "      <td>NaN</td>\n",
       "      <td>3.0</td>\n",
       "      <td>ORIGINAL</td>\n",
       "      <td>True</td>\n",
       "      <td>NaN</td>\n",
       "      <td>395000.0</td>\n",
       "      <td>2020-07-26T20:05:31Z</td>\n",
       "      <td>NaN</td>\n",
       "      <td>A4</td>\n",
       "      <td>Germany</td>\n",
       "    </tr>\n",
       "    <tr>\n",
       "      <th>...</th>\n",
       "      <td>...</td>\n",
       "      <td>...</td>\n",
       "      <td>...</td>\n",
       "      <td>...</td>\n",
       "      <td>...</td>\n",
       "      <td>...</td>\n",
       "      <td>...</td>\n",
       "      <td>...</td>\n",
       "      <td>...</td>\n",
       "      <td>...</td>\n",
       "      <td>...</td>\n",
       "      <td>...</td>\n",
       "      <td>...</td>\n",
       "      <td>...</td>\n",
       "      <td>...</td>\n",
       "      <td>...</td>\n",
       "      <td>...</td>\n",
       "      <td>...</td>\n",
       "      <td>...</td>\n",
       "      <td>...</td>\n",
       "      <td>...</td>\n",
       "    </tr>\n",
       "    <tr>\n",
       "      <th>89238</th>\n",
       "      <td>внедорожник</td>\n",
       "      <td>SSANG_YONG</td>\n",
       "      <td>серебристый</td>\n",
       "      <td>дизель</td>\n",
       "      <td>2007.0</td>\n",
       "      <td>6-speed 2.0d AT (141 л.с.) 4WD</td>\n",
       "      <td>5.0</td>\n",
       "      <td>2010</td>\n",
       "      <td>ALLROAD_5_DOORS AUTOMATIC 6-speed</td>\n",
       "      <td>AUTOMATIC</td>\n",
       "      <td>...</td>\n",
       "      <td>NaN</td>\n",
       "      <td>3.0</td>\n",
       "      <td>ORIGINAL</td>\n",
       "      <td>True</td>\n",
       "      <td>{'year': 2018, 'month': 3}</td>\n",
       "      <td>455000.0</td>\n",
       "      <td>2020-05-26T14:21:34Z</td>\n",
       "      <td>NaN</td>\n",
       "      <td>KYRON</td>\n",
       "      <td>Korea</td>\n",
       "    </tr>\n",
       "    <tr>\n",
       "      <th>89239</th>\n",
       "      <td>внедорожник</td>\n",
       "      <td>SSANG_YONG</td>\n",
       "      <td>чёрный</td>\n",
       "      <td>бензин</td>\n",
       "      <td>2007.0</td>\n",
       "      <td>6-speed 2.3 AT (150 л.с.) 4WD</td>\n",
       "      <td>5.0</td>\n",
       "      <td>2009</td>\n",
       "      <td>ALLROAD_5_DOORS AUTOMATIC 6-speed</td>\n",
       "      <td>AUTOMATIC</td>\n",
       "      <td>...</td>\n",
       "      <td>NaN</td>\n",
       "      <td>2.0</td>\n",
       "      <td>ORIGINAL</td>\n",
       "      <td>True</td>\n",
       "      <td>NaN</td>\n",
       "      <td>525000.0</td>\n",
       "      <td>2020-05-31T06:33:06Z</td>\n",
       "      <td>NaN</td>\n",
       "      <td>KYRON</td>\n",
       "      <td>Korea</td>\n",
       "    </tr>\n",
       "    <tr>\n",
       "      <th>89242</th>\n",
       "      <td>внедорожник</td>\n",
       "      <td>SSANG_YONG</td>\n",
       "      <td>серый</td>\n",
       "      <td>дизель</td>\n",
       "      <td>2007.0</td>\n",
       "      <td>6-speed 2.0d AT (141 л.с.) 4WD</td>\n",
       "      <td>5.0</td>\n",
       "      <td>2012</td>\n",
       "      <td>ALLROAD_5_DOORS AUTOMATIC 6-speed</td>\n",
       "      <td>AUTOMATIC</td>\n",
       "      <td>...</td>\n",
       "      <td>NaN</td>\n",
       "      <td>2.0</td>\n",
       "      <td>ORIGINAL</td>\n",
       "      <td>True</td>\n",
       "      <td>NaN</td>\n",
       "      <td>650000.0</td>\n",
       "      <td>2020-02-26T13:40:39Z</td>\n",
       "      <td>NaN</td>\n",
       "      <td>KYRON</td>\n",
       "      <td>Korea</td>\n",
       "    </tr>\n",
       "    <tr>\n",
       "      <th>89247</th>\n",
       "      <td>пикап</td>\n",
       "      <td>SSANG_YONG</td>\n",
       "      <td>серебристый</td>\n",
       "      <td>дизель</td>\n",
       "      <td>1998.0</td>\n",
       "      <td>Sports 2.9d MT (120 л.с.) 4WD</td>\n",
       "      <td>4.0</td>\n",
       "      <td>2006</td>\n",
       "      <td>PICKUP_TWO MECHANICAL Sports</td>\n",
       "      <td>MECHANICAL</td>\n",
       "      <td>...</td>\n",
       "      <td>NaN</td>\n",
       "      <td>1.0</td>\n",
       "      <td>ORIGINAL</td>\n",
       "      <td>True</td>\n",
       "      <td>NaN</td>\n",
       "      <td>385000.0</td>\n",
       "      <td>2020-08-30T12:58:53Z</td>\n",
       "      <td>NaN</td>\n",
       "      <td>MUSSO</td>\n",
       "      <td>Korea</td>\n",
       "    </tr>\n",
       "    <tr>\n",
       "      <th>89252</th>\n",
       "      <td>пикап</td>\n",
       "      <td>SSANG_YONG</td>\n",
       "      <td>зелёный</td>\n",
       "      <td>дизель</td>\n",
       "      <td>1998.0</td>\n",
       "      <td>Sports 2.9d AT (120 л.с.) 4WD</td>\n",
       "      <td>4.0</td>\n",
       "      <td>2006</td>\n",
       "      <td>PICKUP_TWO AUTOMATIC Sports</td>\n",
       "      <td>AUTOMATIC</td>\n",
       "      <td>...</td>\n",
       "      <td>NaN</td>\n",
       "      <td>3.0</td>\n",
       "      <td>ORIGINAL</td>\n",
       "      <td>True</td>\n",
       "      <td>NaN</td>\n",
       "      <td>350000.0</td>\n",
       "      <td>2019-09-27T12:35:23Z</td>\n",
       "      <td>NaN</td>\n",
       "      <td>MUSSO</td>\n",
       "      <td>Korea</td>\n",
       "    </tr>\n",
       "  </tbody>\n",
       "</table>\n",
       "<p>20387 rows × 27 columns</p>\n",
       "</div>"
      ],
      "text/plain": [
       "          bodyType       brand        color fuelType  modelDate  \\\n",
       "45           седан        AUDI       чёрный   бензин     1990.0   \n",
       "345          седан        AUDI       чёрный   бензин     2012.0   \n",
       "383          седан        AUDI        белый   бензин     2012.0   \n",
       "658      универсал        AUDI       чёрный   дизель     2004.0   \n",
       "671      универсал        AUDI       чёрный   дизель     2004.0   \n",
       "...            ...         ...          ...      ...        ...   \n",
       "89238  внедорожник  SSANG_YONG  серебристый   дизель     2007.0   \n",
       "89239  внедорожник  SSANG_YONG       чёрный   бензин     2007.0   \n",
       "89242  внедорожник  SSANG_YONG        серый   дизель     2007.0   \n",
       "89247        пикап  SSANG_YONG  серебристый   дизель     1998.0   \n",
       "89252        пикап  SSANG_YONG      зелёный   дизель     1998.0   \n",
       "\n",
       "                                 name  numberOfDoors  productionDate  \\\n",
       "45           S4 2.2 AT (230 л.с.) 4WD            4.0            1992   \n",
       "345          ultra 1.4 AMT (150 л.с.)            4.0            2016   \n",
       "383          ultra 1.4 AMT (150 л.с.)            4.0            2015   \n",
       "658             8V 2.0d MT (140 л.с.)            5.0            2005   \n",
       "671            8V 2.0d CVT (140 л.с.)            5.0            2007   \n",
       "...                               ...            ...             ...   \n",
       "89238  6-speed 2.0d AT (141 л.с.) 4WD            5.0            2010   \n",
       "89239   6-speed 2.3 AT (150 л.с.) 4WD            5.0            2009   \n",
       "89242  6-speed 2.0d AT (141 л.с.) 4WD            5.0            2012   \n",
       "89247   Sports 2.9d MT (120 л.с.) 4WD            4.0            2006   \n",
       "89252   Sports 2.9d AT (120 л.с.) 4WD            4.0            2006   \n",
       "\n",
       "                    vehicleConfiguration vehicleTransmission  ...  Состояние  \\\n",
       "45                    SEDAN AUTOMATIC S4           AUTOMATIC  ...        NaN   \n",
       "345                    SEDAN ROBOT ultra               ROBOT  ...        NaN   \n",
       "383                    SEDAN ROBOT ultra               ROBOT  ...        NaN   \n",
       "658          WAGON_5_DOORS MECHANICAL 8V          MECHANICAL  ...        NaN   \n",
       "671            WAGON_5_DOORS VARIATOR 8V            VARIATOR  ...        NaN   \n",
       "...                                  ...                 ...  ...        ...   \n",
       "89238  ALLROAD_5_DOORS AUTOMATIC 6-speed           AUTOMATIC  ...        NaN   \n",
       "89239  ALLROAD_5_DOORS AUTOMATIC 6-speed           AUTOMATIC  ...        NaN   \n",
       "89242  ALLROAD_5_DOORS AUTOMATIC 6-speed           AUTOMATIC  ...        NaN   \n",
       "89247       PICKUP_TWO MECHANICAL Sports          MECHANICAL  ...        NaN   \n",
       "89252        PICKUP_TWO AUTOMATIC Sports           AUTOMATIC  ...        NaN   \n",
       "\n",
       "       Владельцы        ПТС  Таможня                    Владение      price  \\\n",
       "45           3.0  DUPLICATE     True                         NaN   220000.0   \n",
       "345          2.0   ORIGINAL     True                         NaN  1254090.0   \n",
       "383          1.0   ORIGINAL     True                         NaN   870000.0   \n",
       "658          3.0   ORIGINAL     True  {'year': 2020, 'month': 2}   380000.0   \n",
       "671          3.0   ORIGINAL     True                         NaN   395000.0   \n",
       "...          ...        ...      ...                         ...        ...   \n",
       "89238        3.0   ORIGINAL     True  {'year': 2018, 'month': 3}   455000.0   \n",
       "89239        2.0   ORIGINAL     True                         NaN   525000.0   \n",
       "89242        2.0   ORIGINAL     True                         NaN   650000.0   \n",
       "89247        1.0   ORIGINAL     True                         NaN   385000.0   \n",
       "89252        3.0   ORIGINAL     True                         NaN   350000.0   \n",
       "\n",
       "                 start_date  hidden  model Country_of_origin  \n",
       "45     2020-07-09T06:57:21Z     NaN    100           Germany  \n",
       "345    2020-09-05T16:01:05Z     NaN     A3           Germany  \n",
       "383    2020-07-28T11:55:47Z     NaN     A3           Germany  \n",
       "658    2020-09-08T19:06:10Z     NaN     A4           Germany  \n",
       "671    2020-07-26T20:05:31Z     NaN     A4           Germany  \n",
       "...                     ...     ...    ...               ...  \n",
       "89238  2020-05-26T14:21:34Z     NaN  KYRON             Korea  \n",
       "89239  2020-05-31T06:33:06Z     NaN  KYRON             Korea  \n",
       "89242  2020-02-26T13:40:39Z     NaN  KYRON             Korea  \n",
       "89247  2020-08-30T12:58:53Z     NaN  MUSSO             Korea  \n",
       "89252  2019-09-27T12:35:23Z     NaN  MUSSO             Korea  \n",
       "\n",
       "[20387 rows x 27 columns]"
      ]
     },
     "execution_count": 234,
     "metadata": {},
     "output_type": "execute_result"
    }
   ],
   "source": [
    "train_mod[train_mod['engineDisplacement'].isna()]"
   ]
  },
  {
   "cell_type": "markdown",
   "metadata": {},
   "source": [
    "Возможно, эти пропуски мы сможем заполнить, взяв информацию из столбца 'name'"
   ]
  },
  {
   "cell_type": "code",
   "execution_count": 235,
   "metadata": {
    "scrolled": true
   },
   "outputs": [
    {
     "data": {
      "text/plain": [
       "5241     55 Electro AT (301 кВт) 4WD\n",
       "7992            Electro AT (126 кВт)\n",
       "8252            Electro AT (126 кВт)\n",
       "8350            Electro AT (126 кВт)\n",
       "8684       94Ah Electro AT (126 кВт)\n",
       "8722            Electro AT (126 кВт)\n",
       "8917       94Ah Electro AT (126 кВт)\n",
       "10817           Electro AT (126 кВт)\n",
       "10936           Electro AT (126 кВт)\n",
       "11043      94Ah Electro AT (126 кВт)\n",
       "11302            Electro AT (81 кВт)\n",
       "11682           Electro AT (111 кВт)\n",
       "11714           Electro AT (111 кВт)\n",
       "11719            Electro AT (81 кВт)\n",
       "11754            Electro AT (81 кВт)\n",
       "11878            Electro AT (81 кВт)\n",
       "11974            Electro AT (81 кВт)\n",
       "12072            Electro AT (81 кВт)\n",
       "12085            Electro AT (81 кВт)\n",
       "12100      30kWh Electro AT (81 кВт)\n",
       "12250            Electro AT (81 кВт)\n",
       "12287            Electro AT (81 кВт)\n",
       "12334            Electro AT (81 кВт)\n",
       "12466      30kWh Electro AT (81 кВт)\n",
       "12481            Electro AT (81 кВт)\n",
       "12558            Electro AT (81 кВт)\n",
       "12582      30kWh Electro AT (81 кВт)\n",
       "12678            Electro AT (81 кВт)\n",
       "12749            Electro AT (81 кВт)\n",
       "12854            Electro AT (81 кВт)\n",
       "12916            Electro AT (81 кВт)\n",
       "12948            Electro AT (81 кВт)\n",
       "12950            Electro AT (81 кВт)\n",
       "13052            Electro AT (81 кВт)\n",
       "13104            Electro AT (81 кВт)\n",
       "13105            Electro AT (81 кВт)\n",
       "13478      30kWh Electro AT (81 кВт)\n",
       "13633            Electro AT (81 кВт)\n",
       "13660            Electro AT (81 кВт)\n",
       "13720            Electro AT (81 кВт)\n",
       "13812            Electro AT (81 кВт)\n",
       "13915      30kWh Electro AT (81 кВт)\n",
       "13952            Electro AT (81 кВт)\n",
       "13989            Electro AT (81 кВт)\n",
       "14147            Electro AT (81 кВт)\n",
       "14419            Electro AT (81 кВт)\n",
       "23869     e-Golf Electro AT (85 кВт)\n",
       "23948     e-Golf Electro AT (85 кВт)\n",
       "27064            Electro AT (50 кВт)\n",
       "28241            Electro AT (50 кВт)\n",
       "32668           Electro AT (111 кВт)\n",
       "32700            Electro AT (81 кВт)\n",
       "32798            Electro AT (81 кВт)\n",
       "34159     250 e Electro AT (132 кВт)\n",
       "34504            Electro AT (81 кВт)\n",
       "Name: name, dtype: object"
      ]
     },
     "execution_count": 235,
     "metadata": {},
     "output_type": "execute_result"
    }
   ],
   "source": [
    "test_mod[test_mod['engineDisplacement'].isna()]['name']"
   ]
  },
  {
   "cell_type": "markdown",
   "metadata": {},
   "source": [
    "Очевидно что в TEST объём двигателя отсутствует исключительно у электромобилей. Что вполне логично. Стоит заполнить пропуски нолями"
   ]
  },
  {
   "cell_type": "code",
   "execution_count": 236,
   "metadata": {},
   "outputs": [],
   "source": [
    "test_mod['engineDisplacement'].fillna(0, inplace = True)"
   ]
  },
  {
   "cell_type": "code",
   "execution_count": 237,
   "metadata": {},
   "outputs": [
    {
     "data": {
      "text/plain": [
       "45             S4 2.2 AT (230 л.с.) 4WD\n",
       "345            ultra 1.4 AMT (150 л.с.)\n",
       "383            ultra 1.4 AMT (150 л.с.)\n",
       "658               8V 2.0d MT (140 л.с.)\n",
       "671              8V 2.0d CVT (140 л.с.)\n",
       "                      ...              \n",
       "89238    6-speed 2.0d AT (141 л.с.) 4WD\n",
       "89239     6-speed 2.3 AT (150 л.с.) 4WD\n",
       "89242    6-speed 2.0d AT (141 л.с.) 4WD\n",
       "89247     Sports 2.9d MT (120 л.с.) 4WD\n",
       "89252     Sports 2.9d AT (120 л.с.) 4WD\n",
       "Name: name, Length: 20387, dtype: object"
      ]
     },
     "execution_count": 237,
     "metadata": {},
     "output_type": "execute_result"
    }
   ],
   "source": [
    "train_mod[train_mod['engineDisplacement'].isna()]['name']"
   ]
  },
  {
   "cell_type": "markdown",
   "metadata": {},
   "source": [
    "В TRAIN ситуация совсем иная. С этим ещё предстоит разобраться."
   ]
  },
  {
   "cell_type": "markdown",
   "metadata": {},
   "source": [
    "## enginePower"
   ]
  },
  {
   "cell_type": "code",
   "execution_count": 238,
   "metadata": {},
   "outputs": [
    {
     "name": "stdout",
     "output_type": "stream",
     "text": [
      "TEST\n"
     ]
    },
    {
     "data": {
      "text/plain": [
       "16544    122 N12\n",
       "29302    306 N12\n",
       "19223    146 N12\n",
       "388      152 N12\n",
       "2790     190 N12\n",
       "Name: enginePower, dtype: object"
      ]
     },
     "metadata": {},
     "output_type": "display_data"
    },
    {
     "name": "stdout",
     "output_type": "stream",
     "text": [
      "TRAIN\n"
     ]
    },
    {
     "data": {
      "text/plain": [
       "65657    167.0\n",
       "42393     75.0\n",
       "53756     70.0\n",
       "48895    144.0\n",
       "1591     220.0\n",
       "Name: enginePower, dtype: float64"
      ]
     },
     "metadata": {},
     "output_type": "display_data"
    }
   ],
   "source": [
    "column = 'enginePower'\n",
    "type_comparison(column)"
   ]
  },
  {
   "cell_type": "markdown",
   "metadata": {},
   "source": [
    "Необходимо привести данные к единому формату"
   ]
  },
  {
   "cell_type": "code",
   "execution_count": 239,
   "metadata": {},
   "outputs": [],
   "source": [
    "#Преобразование\n",
    "train_mod.enginePower = train_mod.enginePower.convert_dtypes(int)\n",
    "test_mod[\"enginePower\"] = test_mod[\"enginePower\"].apply(lambda x : (int)(x.split(' ')[0]))"
   ]
  },
  {
   "cell_type": "code",
   "execution_count": 240,
   "metadata": {},
   "outputs": [
    {
     "name": "stdout",
     "output_type": "stream",
     "text": [
      "TEST\n"
     ]
    },
    {
     "data": {
      "text/plain": [
       "10100    150\n",
       "9295     193\n",
       "31652    272\n",
       "15370    280\n",
       "16255    612\n",
       "Name: enginePower, dtype: int64"
      ]
     },
     "metadata": {},
     "output_type": "display_data"
    },
    {
     "name": "stdout",
     "output_type": "stream",
     "text": [
      "TRAIN\n"
     ]
    },
    {
     "data": {
      "text/plain": [
       "39498    105\n",
       "83880    585\n",
       "10950    245\n",
       "20794    125\n",
       "50080    182\n",
       "Name: enginePower, dtype: Int64"
      ]
     },
     "metadata": {},
     "output_type": "display_data"
    }
   ],
   "source": [
    "column = 'enginePower'\n",
    "type_comparison(column)"
   ]
  },
  {
   "cell_type": "markdown",
   "metadata": {},
   "source": [
    "Проверим не образовались ли пропуски в этом столбце"
   ]
  },
  {
   "cell_type": "code",
   "execution_count": 241,
   "metadata": {},
   "outputs": [
    {
     "data": {
      "text/html": [
       "<div>\n",
       "<style scoped>\n",
       "    .dataframe tbody tr th:only-of-type {\n",
       "        vertical-align: middle;\n",
       "    }\n",
       "\n",
       "    .dataframe tbody tr th {\n",
       "        vertical-align: top;\n",
       "    }\n",
       "\n",
       "    .dataframe thead th {\n",
       "        text-align: right;\n",
       "    }\n",
       "</style>\n",
       "<table border=\"1\" class=\"dataframe\">\n",
       "  <thead>\n",
       "    <tr style=\"text-align: right;\">\n",
       "      <th></th>\n",
       "      <th>bodyType</th>\n",
       "      <th>brand</th>\n",
       "      <th>car_url</th>\n",
       "      <th>color</th>\n",
       "      <th>complectation_dict</th>\n",
       "      <th>description</th>\n",
       "      <th>engineDisplacement</th>\n",
       "      <th>enginePower</th>\n",
       "      <th>equipment_dict</th>\n",
       "      <th>fuelType</th>\n",
       "      <th>...</th>\n",
       "      <th>vehicleTransmission</th>\n",
       "      <th>vendor</th>\n",
       "      <th>Владельцы</th>\n",
       "      <th>Владение</th>\n",
       "      <th>ПТС</th>\n",
       "      <th>Привод</th>\n",
       "      <th>Руль</th>\n",
       "      <th>Состояние</th>\n",
       "      <th>Таможня</th>\n",
       "      <th>Country_of_origin</th>\n",
       "    </tr>\n",
       "  </thead>\n",
       "  <tbody>\n",
       "  </tbody>\n",
       "</table>\n",
       "<p>0 rows × 33 columns</p>\n",
       "</div>"
      ],
      "text/plain": [
       "Empty DataFrame\n",
       "Columns: [bodyType, brand, car_url, color, complectation_dict, description, engineDisplacement, enginePower, equipment_dict, fuelType, image, mileage, modelDate, model_info, model_name, name, numberOfDoors, parsing_unixtime, priceCurrency, productionDate, sell_id, super_gen, vehicleConfiguration, vehicleTransmission, vendor, Владельцы, Владение, ПТС, Привод, Руль, Состояние, Таможня, Country_of_origin]\n",
       "Index: []\n",
       "\n",
       "[0 rows x 33 columns]"
      ]
     },
     "execution_count": 241,
     "metadata": {},
     "output_type": "execute_result"
    }
   ],
   "source": [
    "test_mod[test_mod['enginePower'].isna()]"
   ]
  },
  {
   "cell_type": "code",
   "execution_count": 242,
   "metadata": {},
   "outputs": [
    {
     "data": {
      "text/html": [
       "<div>\n",
       "<style scoped>\n",
       "    .dataframe tbody tr th:only-of-type {\n",
       "        vertical-align: middle;\n",
       "    }\n",
       "\n",
       "    .dataframe tbody tr th {\n",
       "        vertical-align: top;\n",
       "    }\n",
       "\n",
       "    .dataframe thead th {\n",
       "        text-align: right;\n",
       "    }\n",
       "</style>\n",
       "<table border=\"1\" class=\"dataframe\">\n",
       "  <thead>\n",
       "    <tr style=\"text-align: right;\">\n",
       "      <th></th>\n",
       "      <th>bodyType</th>\n",
       "      <th>brand</th>\n",
       "      <th>color</th>\n",
       "      <th>fuelType</th>\n",
       "      <th>modelDate</th>\n",
       "      <th>name</th>\n",
       "      <th>numberOfDoors</th>\n",
       "      <th>productionDate</th>\n",
       "      <th>vehicleConfiguration</th>\n",
       "      <th>vehicleTransmission</th>\n",
       "      <th>...</th>\n",
       "      <th>Состояние</th>\n",
       "      <th>Владельцы</th>\n",
       "      <th>ПТС</th>\n",
       "      <th>Таможня</th>\n",
       "      <th>Владение</th>\n",
       "      <th>price</th>\n",
       "      <th>start_date</th>\n",
       "      <th>hidden</th>\n",
       "      <th>model</th>\n",
       "      <th>Country_of_origin</th>\n",
       "    </tr>\n",
       "  </thead>\n",
       "  <tbody>\n",
       "    <tr>\n",
       "      <th>24624</th>\n",
       "      <td>None</td>\n",
       "      <td>HONDA</td>\n",
       "      <td>серебристый</td>\n",
       "      <td>универсал</td>\n",
       "      <td>NaN</td>\n",
       "      <td>NaN</td>\n",
       "      <td>NaN</td>\n",
       "      <td>1989</td>\n",
       "      <td>NaN</td>\n",
       "      <td>NaN</td>\n",
       "      <td>...</td>\n",
       "      <td>NaN</td>\n",
       "      <td>3.0</td>\n",
       "      <td>ORIGINAL</td>\n",
       "      <td>True</td>\n",
       "      <td>NaN</td>\n",
       "      <td>120000.0</td>\n",
       "      <td>2020-04-10T16:07:57Z</td>\n",
       "      <td>NaN</td>\n",
       "      <td>CIVIC</td>\n",
       "      <td>Japan</td>\n",
       "    </tr>\n",
       "  </tbody>\n",
       "</table>\n",
       "<p>1 rows × 27 columns</p>\n",
       "</div>"
      ],
      "text/plain": [
       "      bodyType  brand        color   fuelType  modelDate name  numberOfDoors  \\\n",
       "24624     None  HONDA  серебристый  универсал        NaN  NaN            NaN   \n",
       "\n",
       "       productionDate vehicleConfiguration vehicleTransmission  ...  \\\n",
       "24624            1989                  NaN                 NaN  ...   \n",
       "\n",
       "       Состояние  Владельцы       ПТС  Таможня Владение     price  \\\n",
       "24624        NaN        3.0  ORIGINAL     True      NaN  120000.0   \n",
       "\n",
       "                 start_date  hidden  model Country_of_origin  \n",
       "24624  2020-04-10T16:07:57Z     NaN  CIVIC             Japan  \n",
       "\n",
       "[1 rows x 27 columns]"
      ]
     },
     "execution_count": 242,
     "metadata": {},
     "output_type": "execute_result"
    }
   ],
   "source": [
    "train_mod[train_mod['enginePower'].isna()]"
   ]
  },
  {
   "cell_type": "markdown",
   "metadata": {},
   "source": [
    "Образовался один пропуск. Строка с этим пропуском в целом содержит мало данных и должна быть удалена"
   ]
  },
  {
   "cell_type": "code",
   "execution_count": 243,
   "metadata": {},
   "outputs": [],
   "source": [
    "train_mod.drop(24624, inplace = True)"
   ]
  },
  {
   "cell_type": "markdown",
   "metadata": {},
   "source": [
    "## fuelType"
   ]
  },
  {
   "cell_type": "code",
   "execution_count": 244,
   "metadata": {},
   "outputs": [
    {
     "name": "stdout",
     "output_type": "stream",
     "text": [
      "TEST\n"
     ]
    },
    {
     "data": {
      "text/plain": [
       "10382    бензин\n",
       "28277    бензин\n",
       "25664    бензин\n",
       "3973     дизель\n",
       "6102     бензин\n",
       "Name: fuelType, dtype: object"
      ]
     },
     "metadata": {},
     "output_type": "display_data"
    },
    {
     "name": "stdout",
     "output_type": "stream",
     "text": [
      "TRAIN\n"
     ]
    },
    {
     "data": {
      "text/plain": [
       "15868    бензин\n",
       "85310    дизель\n",
       "29252    бензин\n",
       "88234    дизель\n",
       "4038     бензин\n",
       "Name: fuelType, dtype: object"
      ]
     },
     "metadata": {},
     "output_type": "display_data"
    }
   ],
   "source": [
    "column = 'fuelType'\n",
    "type_comparison(column)"
   ]
  },
  {
   "cell_type": "code",
   "execution_count": 245,
   "metadata": {},
   "outputs": [
    {
     "data": {
      "text/plain": [
       "array(['бензин', 'дизель', 'электро', 'гибрид', 'газ'], dtype=object)"
      ]
     },
     "execution_count": 245,
     "metadata": {},
     "output_type": "execute_result"
    }
   ],
   "source": [
    "train_mod.fuelType.unique() "
   ]
  },
  {
   "cell_type": "code",
   "execution_count": 246,
   "metadata": {},
   "outputs": [
    {
     "data": {
      "text/plain": [
       "array(['бензин', 'дизель', 'гибрид', 'электро', 'газ'], dtype=object)"
      ]
     },
     "execution_count": 246,
     "metadata": {},
     "output_type": "execute_result"
    }
   ],
   "source": [
    "test_mod.fuelType.unique()"
   ]
  },
  {
   "cell_type": "markdown",
   "metadata": {},
   "source": [
    "Никаких преобразований не требуется"
   ]
  },
  {
   "cell_type": "markdown",
   "metadata": {},
   "source": [
    "## mileage"
   ]
  },
  {
   "cell_type": "code",
   "execution_count": 247,
   "metadata": {
    "scrolled": true
   },
   "outputs": [
    {
     "name": "stdout",
     "output_type": "stream",
     "text": [
      "TEST\n"
     ]
    },
    {
     "data": {
      "text/plain": [
       "15902    125000\n",
       "4270     293413\n",
       "23422    185117\n",
       "26046     18385\n",
       "29913    204651\n",
       "Name: mileage, dtype: int64"
      ]
     },
     "metadata": {},
     "output_type": "display_data"
    },
    {
     "name": "stdout",
     "output_type": "stream",
     "text": [
      "TRAIN\n"
     ]
    },
    {
     "data": {
      "text/plain": [
       "29667    115000\n",
       "80286         0\n",
       "31895     93628\n",
       "2880          0\n",
       "22199    105000\n",
       "Name: mileage, dtype: int64"
      ]
     },
     "metadata": {},
     "output_type": "display_data"
    }
   ],
   "source": [
    "column = 'mileage'\n",
    "type_comparison(column)"
   ]
  },
  {
   "cell_type": "markdown",
   "metadata": {},
   "source": [
    "Преобразований не требуется"
   ]
  },
  {
   "cell_type": "markdown",
   "metadata": {},
   "source": [
    "## modelDate"
   ]
  },
  {
   "cell_type": "code",
   "execution_count": 248,
   "metadata": {},
   "outputs": [
    {
     "name": "stdout",
     "output_type": "stream",
     "text": [
      "TEST\n"
     ]
    },
    {
     "data": {
      "text/plain": [
       "33801    2011\n",
       "29936    2015\n",
       "31783    2004\n",
       "13038    2013\n",
       "33955    1991\n",
       "Name: modelDate, dtype: int64"
      ]
     },
     "metadata": {},
     "output_type": "display_data"
    },
    {
     "name": "stdout",
     "output_type": "stream",
     "text": [
      "TRAIN\n"
     ]
    },
    {
     "data": {
      "text/plain": [
       "69647    2015.0\n",
       "64670    2006.0\n",
       "41909    2018.0\n",
       "87436    2005.0\n",
       "59620    2018.0\n",
       "Name: modelDate, dtype: float64"
      ]
     },
     "metadata": {},
     "output_type": "display_data"
    }
   ],
   "source": [
    "column = 'modelDate'\n",
    "type_comparison(column)"
   ]
  },
  {
   "cell_type": "markdown",
   "metadata": {},
   "source": [
    "Приводим к единому формату"
   ]
  },
  {
   "cell_type": "code",
   "execution_count": 249,
   "metadata": {},
   "outputs": [],
   "source": [
    "#Преобразование\n",
    "train_mod.modelDate = train_mod.modelDate.convert_dtypes(int) #astype('int')"
   ]
  },
  {
   "cell_type": "code",
   "execution_count": 250,
   "metadata": {},
   "outputs": [
    {
     "name": "stdout",
     "output_type": "stream",
     "text": [
      "TEST\n"
     ]
    },
    {
     "data": {
      "text/plain": [
       "30923    1988\n",
       "12856    2011\n",
       "13837    2002\n",
       "19538    2006\n",
       "32828    2010\n",
       "Name: modelDate, dtype: int64"
      ]
     },
     "metadata": {},
     "output_type": "display_data"
    },
    {
     "name": "stdout",
     "output_type": "stream",
     "text": [
      "TRAIN\n"
     ]
    },
    {
     "data": {
      "text/plain": [
       "76202    2010\n",
       "78490    2019\n",
       "27779    2005\n",
       "47434    2002\n",
       "30489    2001\n",
       "Name: modelDate, dtype: Int64"
      ]
     },
     "metadata": {},
     "output_type": "display_data"
    }
   ],
   "source": [
    "column = 'modelDate'\n",
    "type_comparison(column)"
   ]
  },
  {
   "cell_type": "markdown",
   "metadata": {},
   "source": [
    "## name"
   ]
  },
  {
   "cell_type": "code",
   "execution_count": 251,
   "metadata": {},
   "outputs": [
    {
     "name": "stdout",
     "output_type": "stream",
     "text": [
      "TEST\n"
     ]
    },
    {
     "data": {
      "text/plain": [
       "18521    320 3.2 AT (218 л.с.) 4WD\n",
       "2480            1.2 AMT (105 л.с.)\n",
       "6357         2.5 AT (210 л.с.) 4WD\n",
       "20197            3.5 AT (277 л.с.)\n",
       "24496       2.5d AT (174 л.с.) 4WD\n",
       "Name: name, dtype: object"
      ]
     },
     "metadata": {},
     "output_type": "display_data"
    },
    {
     "name": "stdout",
     "output_type": "stream",
     "text": [
      "TRAIN\n"
     ]
    },
    {
     "data": {
      "text/plain": [
       "22461                     2.5 AT (150 л.с.)\n",
       "82105    350 BlueTEC 3.0d AT (249 л.с.) 4WD\n",
       "61440          Scout 2.0d MT (140 л.с.) 4WD\n",
       "13431                     1.6 MT (109 л.с.)\n",
       "63636                2.0 CVT (268 л.с.) 4WD\n",
       "Name: name, dtype: object"
      ]
     },
     "metadata": {},
     "output_type": "display_data"
    }
   ],
   "source": [
    "column = 'name'\n",
    "type_comparison(column)"
   ]
  },
  {
   "cell_type": "markdown",
   "metadata": {},
   "source": [
    "В этом столбце есть информация об объёме двигателя. Её можно использовать для заполнения пропусков в столбце 'engineDisplacement'.  \n",
    "Потом этот столбец будет не нужен."
   ]
  },
  {
   "cell_type": "code",
   "execution_count": 252,
   "metadata": {},
   "outputs": [],
   "source": [
    "columns_to_drop.append('name')"
   ]
  },
  {
   "cell_type": "code",
   "execution_count": 253,
   "metadata": {
    "scrolled": false
   },
   "outputs": [],
   "source": [
    "#Заменим все значения в 'engineDisplacement'\n",
    "train_mod['engineDisplacement'] = train_mod['name'].apply(pull_EngineDisplacement)"
   ]
  },
  {
   "cell_type": "code",
   "execution_count": 254,
   "metadata": {
    "scrolled": true
   },
   "outputs": [
    {
     "data": {
      "text/plain": [
       "array(['электро'], dtype=object)"
      ]
     },
     "execution_count": 254,
     "metadata": {},
     "output_type": "execute_result"
    }
   ],
   "source": [
    "#Проверим результат\n",
    "train_mod[train_mod['engineDisplacement'] == 0]['fuelType'].unique()"
   ]
  },
  {
   "cell_type": "code",
   "execution_count": 255,
   "metadata": {
    "scrolled": true
   },
   "outputs": [
    {
     "data": {
      "text/html": [
       "<div>\n",
       "<style scoped>\n",
       "    .dataframe tbody tr th:only-of-type {\n",
       "        vertical-align: middle;\n",
       "    }\n",
       "\n",
       "    .dataframe tbody tr th {\n",
       "        vertical-align: top;\n",
       "    }\n",
       "\n",
       "    .dataframe thead th {\n",
       "        text-align: right;\n",
       "    }\n",
       "</style>\n",
       "<table border=\"1\" class=\"dataframe\">\n",
       "  <thead>\n",
       "    <tr style=\"text-align: right;\">\n",
       "      <th></th>\n",
       "      <th>bodyType</th>\n",
       "      <th>brand</th>\n",
       "      <th>color</th>\n",
       "      <th>fuelType</th>\n",
       "      <th>modelDate</th>\n",
       "      <th>name</th>\n",
       "      <th>numberOfDoors</th>\n",
       "      <th>productionDate</th>\n",
       "      <th>vehicleConfiguration</th>\n",
       "      <th>vehicleTransmission</th>\n",
       "      <th>...</th>\n",
       "      <th>Состояние</th>\n",
       "      <th>Владельцы</th>\n",
       "      <th>ПТС</th>\n",
       "      <th>Таможня</th>\n",
       "      <th>Владение</th>\n",
       "      <th>price</th>\n",
       "      <th>start_date</th>\n",
       "      <th>hidden</th>\n",
       "      <th>model</th>\n",
       "      <th>Country_of_origin</th>\n",
       "    </tr>\n",
       "  </thead>\n",
       "  <tbody>\n",
       "  </tbody>\n",
       "</table>\n",
       "<p>0 rows × 27 columns</p>\n",
       "</div>"
      ],
      "text/plain": [
       "Empty DataFrame\n",
       "Columns: [bodyType, brand, color, fuelType, modelDate, name, numberOfDoors, productionDate, vehicleConfiguration, vehicleTransmission, engineDisplacement, enginePower, description, mileage, Комплектация, Привод, Руль, Состояние, Владельцы, ПТС, Таможня, Владение, price, start_date, hidden, model, Country_of_origin]\n",
       "Index: []\n",
       "\n",
       "[0 rows x 27 columns]"
      ]
     },
     "execution_count": 255,
     "metadata": {},
     "output_type": "execute_result"
    }
   ],
   "source": [
    "train_mod[train_mod['engineDisplacement'].isna()]"
   ]
  },
  {
   "cell_type": "markdown",
   "metadata": {},
   "source": [
    "Пропусков нет, а у электромобилей объём двигателя равен 0"
   ]
  },
  {
   "cell_type": "markdown",
   "metadata": {},
   "source": [
    "## numberOfDoors"
   ]
  },
  {
   "cell_type": "code",
   "execution_count": 256,
   "metadata": {
    "scrolled": true
   },
   "outputs": [
    {
     "name": "stdout",
     "output_type": "stream",
     "text": [
      "TEST\n"
     ]
    },
    {
     "data": {
      "text/plain": [
       "1024     5\n",
       "33222    5\n",
       "26408    3\n",
       "26829    5\n",
       "12938    4\n",
       "Name: numberOfDoors, dtype: int64"
      ]
     },
     "metadata": {},
     "output_type": "display_data"
    },
    {
     "name": "stdout",
     "output_type": "stream",
     "text": [
      "TRAIN\n"
     ]
    },
    {
     "data": {
      "text/plain": [
       "27329    5.0\n",
       "29746    4.0\n",
       "11353    5.0\n",
       "33429    5.0\n",
       "8784     5.0\n",
       "Name: numberOfDoors, dtype: float64"
      ]
     },
     "metadata": {},
     "output_type": "display_data"
    }
   ],
   "source": [
    "column = 'numberOfDoors'\n",
    "type_comparison(column)"
   ]
  },
  {
   "cell_type": "markdown",
   "metadata": {},
   "source": [
    "Приводим к единому формату"
   ]
  },
  {
   "cell_type": "code",
   "execution_count": 257,
   "metadata": {},
   "outputs": [],
   "source": [
    "#Преобразование\n",
    "train_mod.numberOfDoors = train_mod.numberOfDoors.convert_dtypes(int)"
   ]
  },
  {
   "cell_type": "markdown",
   "metadata": {},
   "source": [
    "## productionDate"
   ]
  },
  {
   "cell_type": "code",
   "execution_count": 258,
   "metadata": {},
   "outputs": [
    {
     "name": "stdout",
     "output_type": "stream",
     "text": [
      "TEST\n"
     ]
    },
    {
     "data": {
      "text/plain": [
       "5874     2008\n",
       "14869    2008\n",
       "5693     2008\n",
       "9621     2010\n",
       "12118    2017\n",
       "Name: productionDate, dtype: int64"
      ]
     },
     "metadata": {},
     "output_type": "display_data"
    },
    {
     "name": "stdout",
     "output_type": "stream",
     "text": [
      "TRAIN\n"
     ]
    },
    {
     "data": {
      "text/plain": [
       "51184    2020\n",
       "3555     2020\n",
       "9106     2018\n",
       "8169     1998\n",
       "77403    2006\n",
       "Name: productionDate, dtype: int64"
      ]
     },
     "metadata": {},
     "output_type": "display_data"
    }
   ],
   "source": [
    "column = 'productionDate'\n",
    "type_comparison(column)"
   ]
  },
  {
   "cell_type": "markdown",
   "metadata": {},
   "source": [
    "Не требует преобразований"
   ]
  },
  {
   "cell_type": "markdown",
   "metadata": {},
   "source": [
    "## vehicleConfiguration"
   ]
  },
  {
   "cell_type": "code",
   "execution_count": 259,
   "metadata": {},
   "outputs": [
    {
     "name": "stdout",
     "output_type": "stream",
     "text": [
      "TEST\n"
     ]
    },
    {
     "data": {
      "text/plain": [
       "13426      ALLROAD_5_DOORS VARIATOR 2.0\n",
       "20443    ALLROAD_5_DOORS MECHANICAL 4.2\n",
       "15161               SEDAN AUTOMATIC 2.0\n",
       "21655      ALLROAD_5_DOORS VARIATOR 2.0\n",
       "4887      ALLROAD_5_DOORS AUTOMATIC 3.0\n",
       "Name: vehicleConfiguration, dtype: object"
      ]
     },
     "metadata": {},
     "output_type": "display_data"
    },
    {
     "name": "stdout",
     "output_type": "stream",
     "text": [
      "TRAIN\n"
     ]
    },
    {
     "data": {
      "text/plain": [
       "55624     HATCHBACK_5_DOORS AUTOMATIC 1.6\n",
       "69161                 COUPE AUTOMATIC 3.0\n",
       "47953    HATCHBACK_5_DOORS MECHANICAL 1.6\n",
       "37320                SEDAN MECHANICAL 1.6\n",
       "11741       ALLROAD_5_DOORS AUTOMATIC 3.0\n",
       "Name: vehicleConfiguration, dtype: object"
      ]
     },
     "metadata": {},
     "output_type": "display_data"
    }
   ],
   "source": [
    "column = 'vehicleConfiguration'\n",
    "type_comparison(column)"
   ]
  },
  {
   "cell_type": "markdown",
   "metadata": {},
   "source": [
    "Этот столбец тоже можно использовать для заполнения пропусков в столбце 'engineDisplacement'.  \n",
    "После чего он также должен быть удалён."
   ]
  },
  {
   "cell_type": "code",
   "execution_count": 260,
   "metadata": {},
   "outputs": [],
   "source": [
    "columns_to_drop.append('vehicleConfiguration')"
   ]
  },
  {
   "cell_type": "markdown",
   "metadata": {},
   "source": [
    "## vehicleTransmission"
   ]
  },
  {
   "cell_type": "code",
   "execution_count": 261,
   "metadata": {},
   "outputs": [
    {
     "name": "stdout",
     "output_type": "stream",
     "text": [
      "TEST\n"
     ]
    },
    {
     "data": {
      "text/plain": [
       "24801        механическая\n",
       "18634      автоматическая\n",
       "16688      автоматическая\n",
       "23249      автоматическая\n",
       "30642    роботизированная\n",
       "Name: vehicleTransmission, dtype: object"
      ]
     },
     "metadata": {},
     "output_type": "display_data"
    },
    {
     "name": "stdout",
     "output_type": "stream",
     "text": [
      "TRAIN\n"
     ]
    },
    {
     "data": {
      "text/plain": [
       "62121    MECHANICAL\n",
       "50332    MECHANICAL\n",
       "49098      VARIATOR\n",
       "79526     AUTOMATIC\n",
       "48979      VARIATOR\n",
       "Name: vehicleTransmission, dtype: object"
      ]
     },
     "metadata": {},
     "output_type": "display_data"
    }
   ],
   "source": [
    "column = 'vehicleTransmission'\n",
    "type_comparison(column)"
   ]
  },
  {
   "cell_type": "markdown",
   "metadata": {},
   "source": [
    "К единому формату"
   ]
  },
  {
   "cell_type": "code",
   "execution_count": 262,
   "metadata": {},
   "outputs": [
    {
     "data": {
      "text/plain": [
       "array(['MECHANICAL', 'AUTOMATIC', 'ROBOT', 'VARIATOR'], dtype=object)"
      ]
     },
     "execution_count": 262,
     "metadata": {},
     "output_type": "execute_result"
    }
   ],
   "source": [
    "#Преобразование\n",
    "train_mod.vehicleTransmission.unique()"
   ]
  },
  {
   "cell_type": "code",
   "execution_count": 263,
   "metadata": {},
   "outputs": [
    {
     "data": {
      "text/plain": [
       "array(['роботизированная', 'механическая', 'автоматическая', 'вариатор'],\n",
       "      dtype=object)"
      ]
     },
     "execution_count": 263,
     "metadata": {},
     "output_type": "execute_result"
    }
   ],
   "source": [
    "test_mod.vehicleTransmission.unique()"
   ]
  },
  {
   "cell_type": "code",
   "execution_count": 264,
   "metadata": {},
   "outputs": [],
   "source": [
    "test_mod = test_mod.replace({'vehicleTransmission':\n",
    "                            {'автоматическая': 'AUTOMATIC',\n",
    "                            'вариатор': 'VARIATOR',\n",
    "                            'механическая': 'MECHANICAL',\n",
    "                            'роботизированная': 'ROBOT'}})"
   ]
  },
  {
   "cell_type": "markdown",
   "metadata": {},
   "source": [
    "## Владельцы"
   ]
  },
  {
   "cell_type": "markdown",
   "metadata": {},
   "source": [
    "# !!!Вот эту часть нужно как-то оформить красиво и доступно!!!"
   ]
  },
  {
   "cell_type": "code",
   "execution_count": 265,
   "metadata": {},
   "outputs": [
    {
     "name": "stdout",
     "output_type": "stream",
     "text": [
      "TEST\n"
     ]
    },
    {
     "data": {
      "text/plain": [
       "25885    3 или более\n",
       "32089    3 или более\n",
       "19012    2 владельца\n",
       "18666    3 или более\n",
       "3017     2 владельца\n",
       "Name: Владельцы, dtype: object"
      ]
     },
     "metadata": {},
     "output_type": "display_data"
    },
    {
     "name": "stdout",
     "output_type": "stream",
     "text": [
      "TRAIN\n"
     ]
    },
    {
     "data": {
      "text/plain": [
       "16480    3.0\n",
       "8347     2.0\n",
       "82726    2.0\n",
       "85774    NaN\n",
       "17546    3.0\n",
       "Name: Владельцы, dtype: float64"
      ]
     },
     "metadata": {},
     "output_type": "display_data"
    }
   ],
   "source": [
    "column = 'Владельцы'\n",
    "type_comparison(column)"
   ]
  },
  {
   "cell_type": "code",
   "execution_count": 266,
   "metadata": {
    "scrolled": true
   },
   "outputs": [
    {
     "data": {
      "text/plain": [
       "array(['3 или более', '1\\xa0владелец', '2\\xa0владельца'], dtype=object)"
      ]
     },
     "execution_count": 266,
     "metadata": {},
     "output_type": "execute_result"
    }
   ],
   "source": [
    "test_mod.Владельцы.unique()"
   ]
  },
  {
   "cell_type": "code",
   "execution_count": 267,
   "metadata": {
    "scrolled": true
   },
   "outputs": [
    {
     "data": {
      "text/plain": [
       "array([ 3.,  1.,  2., nan])"
      ]
     },
     "execution_count": 267,
     "metadata": {},
     "output_type": "execute_result"
    }
   ],
   "source": [
    "train_mod.Владельцы.unique()"
   ]
  },
  {
   "cell_type": "markdown",
   "metadata": {},
   "source": [
    "Приведём к единому формату"
   ]
  },
  {
   "cell_type": "code",
   "execution_count": 268,
   "metadata": {},
   "outputs": [],
   "source": [
    "#Преобразование\n",
    "train_mod.Владельцы = train_mod.Владельцы.convert_dtypes(int)\n",
    "\n",
    "test_mod = test_mod.replace({'Владельцы':\n",
    "                            {'1\\xa0владелец': 1,\n",
    "                            '2\\xa0владельца': 2,\n",
    "                            '3 или более': 3}})"
   ]
  },
  {
   "cell_type": "markdown",
   "metadata": {},
   "source": [
    "Посчитаем % пропусков"
   ]
  },
  {
   "cell_type": "code",
   "execution_count": 269,
   "metadata": {},
   "outputs": [
    {
     "name": "stdout",
     "output_type": "stream",
     "text": [
      "TEST\n",
      "Владельцы - 0%\n",
      "TRAIN\n",
      "Владельцы - 14%\n"
     ]
    }
   ],
   "source": [
    "col = 'Владельцы'\n",
    "\n",
    "pct_missing_1 = np.mean(test_mod[col].isnull()) \n",
    "print('TEST')\n",
    "print('{} - {}%'.format(col, round(pct_missing_1*100)))\n",
    "pct_missing_2 = np.mean(train_mod[col].isnull()) \n",
    "print('TRAIN')\n",
    "print('{} - {}%'.format(col, round(pct_missing_2*100)))"
   ]
  },
  {
   "cell_type": "markdown",
   "metadata": {},
   "source": [
    "Видим пропуски в TRAIN. Возможно, их удастся как-нибудь заполнить.  \n",
    "Кол-во владельцев может быть связано с пробегом и годом выпуска автомобиля. Проверим"
   ]
  },
  {
   "cell_type": "code",
   "execution_count": 270,
   "metadata": {},
   "outputs": [],
   "source": [
    "#train_mod[train_mod['Владельцы'].isna()]['mileage'].unique()"
   ]
  },
  {
   "cell_type": "code",
   "execution_count": 271,
   "metadata": {},
   "outputs": [],
   "source": [
    "#train_mod[train_mod['Владельцы'].isna()]['productionDate'].unique()"
   ]
  },
  {
   "cell_type": "markdown",
   "metadata": {},
   "source": [
    "Пропуски есть только у автомобилей с нулевым пробегом, однако, судя по годам выпуска, не все они являлись новыми."
   ]
  },
  {
   "cell_type": "code",
   "execution_count": 272,
   "metadata": {
    "scrolled": false
   },
   "outputs": [],
   "source": [
    "#train_mod[train_mod['Владельцы'].isna()].query('productionDate == 2017')"
   ]
  },
  {
   "cell_type": "code",
   "execution_count": 273,
   "metadata": {},
   "outputs": [],
   "source": [
    "#train_mod[train_mod['Владельцы'].isna()].query('productionDate == 2018')"
   ]
  },
  {
   "cell_type": "code",
   "execution_count": 274,
   "metadata": {
    "scrolled": true
   },
   "outputs": [],
   "source": [
    "#train_mod[train_mod['Владельцы'].isna()].query('productionDate == 2019')"
   ]
  },
  {
   "cell_type": "code",
   "execution_count": 275,
   "metadata": {
    "scrolled": true
   },
   "outputs": [],
   "source": [
    "#train_mod[train_mod['Владельцы'].isna()].query('productionDate == 2020')"
   ]
  },
  {
   "cell_type": "markdown",
   "metadata": {},
   "source": [
    "Все эти автомобили - леворульные. Очевидно, они были привезены из Японии. Отсутствие пробега, вероятно, значит отсутствие пробега по России. Это говорит о том, что и владельцев в России у этих автомобилей не было. Следует заполнить пропуски нолями"
   ]
  },
  {
   "cell_type": "code",
   "execution_count": 276,
   "metadata": {},
   "outputs": [],
   "source": [
    "train_mod['Владельцы'].fillna(0, inplace = True)"
   ]
  },
  {
   "cell_type": "markdown",
   "metadata": {},
   "source": [
    "## Владение"
   ]
  },
  {
   "cell_type": "code",
   "execution_count": 277,
   "metadata": {
    "scrolled": true
   },
   "outputs": [
    {
     "name": "stdout",
     "output_type": "stream",
     "text": [
      "TEST\n"
     ]
    },
    {
     "data": {
      "text/plain": [
       "31110                   NaN\n",
       "23640      9 лет и 4 месяца\n",
       "22228    6 лет и 10 месяцев\n",
       "32866    2 года и 9 месяцев\n",
       "25614                10 лет\n",
       "Name: Владение, dtype: object"
      ]
     },
     "metadata": {},
     "output_type": "display_data"
    },
    {
     "name": "stdout",
     "output_type": "stream",
     "text": [
      "TRAIN\n"
     ]
    },
    {
     "data": {
      "text/plain": [
       "58284    {'year': 2018, 'month': 2}\n",
       "267                             NaN\n",
       "74060                           NaN\n",
       "13314                           NaN\n",
       "49031                           NaN\n",
       "Name: Владение, dtype: object"
      ]
     },
     "metadata": {},
     "output_type": "display_data"
    }
   ],
   "source": [
    "column = 'Владение' # перевести в дни, можно выкинуть\n",
    "type_comparison(column)"
   ]
  },
  {
   "cell_type": "markdown",
   "metadata": {},
   "source": [
    "Посчитаем % пропусков"
   ]
  },
  {
   "cell_type": "code",
   "execution_count": 278,
   "metadata": {},
   "outputs": [
    {
     "name": "stdout",
     "output_type": "stream",
     "text": [
      "TEST\n",
      "Владение - 65%\n",
      "TRAIN\n",
      "Владение - 67%\n"
     ]
    }
   ],
   "source": [
    "col = 'Владение'\n",
    "\n",
    "pct_missing_1 = np.mean(test_mod[col].isnull()) \n",
    "print('TEST')\n",
    "print('{} - {}%'.format(col, round(pct_missing_1*100)))\n",
    "pct_missing_2 = np.mean(train_mod[col].isnull()) \n",
    "print('TRAIN')\n",
    "print('{} - {}%'.format(col, round(pct_missing_2*100)))"
   ]
  },
  {
   "cell_type": "markdown",
   "metadata": {},
   "source": [
    "Большой процент пропусков в TRAIN и TEST (около 70%), столбец можно удалить."
   ]
  },
  {
   "cell_type": "code",
   "execution_count": 279,
   "metadata": {},
   "outputs": [],
   "source": [
    "columns_to_drop.append('Владение')"
   ]
  },
  {
   "cell_type": "markdown",
   "metadata": {},
   "source": [
    "## Привод"
   ]
  },
  {
   "cell_type": "code",
   "execution_count": 280,
   "metadata": {},
   "outputs": [
    {
     "name": "stdout",
     "output_type": "stream",
     "text": [
      "TEST\n"
     ]
    },
    {
     "data": {
      "text/plain": [
       "6605       полный\n",
       "33917    передний\n",
       "11820    передний\n",
       "9773       полный\n",
       "2510     передний\n",
       "Name: Привод, dtype: object"
      ]
     },
     "metadata": {},
     "output_type": "display_data"
    },
    {
     "name": "stdout",
     "output_type": "stream",
     "text": [
      "TRAIN\n"
     ]
    },
    {
     "data": {
      "text/plain": [
       "83243      задний\n",
       "3669       полный\n",
       "20753    передний\n",
       "956      передний\n",
       "78939      полный\n",
       "Name: Привод, dtype: object"
      ]
     },
     "metadata": {},
     "output_type": "display_data"
    }
   ],
   "source": [
    "column = 'Привод'\n",
    "type_comparison(column)"
   ]
  },
  {
   "cell_type": "markdown",
   "metadata": {},
   "source": [
    "Оставляем как есть"
   ]
  },
  {
   "cell_type": "markdown",
   "metadata": {},
   "source": [
    "## ПТС"
   ]
  },
  {
   "cell_type": "code",
   "execution_count": 281,
   "metadata": {},
   "outputs": [
    {
     "name": "stdout",
     "output_type": "stream",
     "text": [
      "TEST\n"
     ]
    },
    {
     "data": {
      "text/plain": [
       "26788    Оригинал\n",
       "33463    Оригинал\n",
       "30152    Оригинал\n",
       "1919     Оригинал\n",
       "13943    Оригинал\n",
       "Name: ПТС, dtype: object"
      ]
     },
     "metadata": {},
     "output_type": "display_data"
    },
    {
     "name": "stdout",
     "output_type": "stream",
     "text": [
      "TRAIN\n"
     ]
    },
    {
     "data": {
      "text/plain": [
       "2965     ORIGINAL\n",
       "32992    ORIGINAL\n",
       "56870    ORIGINAL\n",
       "87856    ORIGINAL\n",
       "14812    ORIGINAL\n",
       "Name: ПТС, dtype: object"
      ]
     },
     "metadata": {},
     "output_type": "display_data"
    }
   ],
   "source": [
    "column = 'ПТС'\n",
    "type_comparison(column)"
   ]
  },
  {
   "cell_type": "markdown",
   "metadata": {},
   "source": [
    "К единому формату"
   ]
  },
  {
   "cell_type": "code",
   "execution_count": 282,
   "metadata": {},
   "outputs": [],
   "source": [
    "#Преобразование\n",
    "test_mod = test_mod.replace({'ПТС':\n",
    "                            {'Оригинал': 'ORIGINAL',\n",
    "                            'Дубликат': 'DUPLICATE'}})"
   ]
  },
  {
   "cell_type": "markdown",
   "metadata": {},
   "source": [
    "## Руль"
   ]
  },
  {
   "cell_type": "code",
   "execution_count": 283,
   "metadata": {},
   "outputs": [
    {
     "name": "stdout",
     "output_type": "stream",
     "text": [
      "TEST\n"
     ]
    },
    {
     "data": {
      "text/plain": [
       "34107    Левый\n",
       "20207    Левый\n",
       "24746    Левый\n",
       "27017    Левый\n",
       "15381    Левый\n",
       "Name: Руль, dtype: object"
      ]
     },
     "metadata": {},
     "output_type": "display_data"
    },
    {
     "name": "stdout",
     "output_type": "stream",
     "text": [
      "TRAIN\n"
     ]
    },
    {
     "data": {
      "text/plain": [
       "26815    LEFT\n",
       "35222    LEFT\n",
       "55978    LEFT\n",
       "69662    LEFT\n",
       "54705    LEFT\n",
       "Name: Руль, dtype: object"
      ]
     },
     "metadata": {},
     "output_type": "display_data"
    }
   ],
   "source": [
    "column = 'Руль'\n",
    "type_comparison(column)"
   ]
  },
  {
   "cell_type": "markdown",
   "metadata": {},
   "source": [
    "Преобразуем также как предыдущий столбец"
   ]
  },
  {
   "cell_type": "code",
   "execution_count": 284,
   "metadata": {},
   "outputs": [],
   "source": [
    "#Преобразование\n",
    "test_mod = test_mod.replace({'Руль':\n",
    "                            {'Левый': 'LEFT',\n",
    "                            'Правый': 'RIGHT'}})"
   ]
  },
  {
   "cell_type": "markdown",
   "metadata": {},
   "source": [
    "## Состояние"
   ]
  },
  {
   "cell_type": "code",
   "execution_count": 285,
   "metadata": {},
   "outputs": [
    {
     "name": "stdout",
     "output_type": "stream",
     "text": [
      "TEST\n"
     ]
    },
    {
     "data": {
      "text/plain": [
       "7540     Не требует ремонта\n",
       "4620     Не требует ремонта\n",
       "23029    Не требует ремонта\n",
       "17598    Не требует ремонта\n",
       "1269     Не требует ремонта\n",
       "Name: Состояние, dtype: object"
      ]
     },
     "metadata": {},
     "output_type": "display_data"
    },
    {
     "name": "stdout",
     "output_type": "stream",
     "text": [
      "TRAIN\n"
     ]
    },
    {
     "data": {
      "text/plain": [
       "62859   NaN\n",
       "39862   NaN\n",
       "57091   NaN\n",
       "66362   NaN\n",
       "23106   NaN\n",
       "Name: Состояние, dtype: float64"
      ]
     },
     "metadata": {},
     "output_type": "display_data"
    }
   ],
   "source": [
    "column = 'Состояние'\n",
    "type_comparison(column)"
   ]
  },
  {
   "cell_type": "code",
   "execution_count": 286,
   "metadata": {},
   "outputs": [
    {
     "data": {
      "text/plain": [
       "array(['Не требует ремонта'], dtype=object)"
      ]
     },
     "execution_count": 286,
     "metadata": {},
     "output_type": "execute_result"
    }
   ],
   "source": [
    "test_mod.Состояние.unique()"
   ]
  },
  {
   "cell_type": "code",
   "execution_count": 287,
   "metadata": {},
   "outputs": [
    {
     "data": {
      "text/plain": [
       "array([nan])"
      ]
     },
     "execution_count": 287,
     "metadata": {},
     "output_type": "execute_result"
    }
   ],
   "source": [
    "train_mod.Состояние.unique()"
   ]
  },
  {
   "cell_type": "markdown",
   "metadata": {},
   "source": [
    "В TEST только одно значение, в TRAIN - пустой столбец. СОСТОЯНИЕ можно удалить."
   ]
  },
  {
   "cell_type": "code",
   "execution_count": 288,
   "metadata": {},
   "outputs": [],
   "source": [
    "columns_to_drop.append('Состояние')"
   ]
  },
  {
   "cell_type": "markdown",
   "metadata": {},
   "source": [
    "## Таможня"
   ]
  },
  {
   "cell_type": "code",
   "execution_count": 289,
   "metadata": {},
   "outputs": [
    {
     "name": "stdout",
     "output_type": "stream",
     "text": [
      "TEST\n"
     ]
    },
    {
     "data": {
      "text/plain": [
       "13736    Растаможен\n",
       "26692    Растаможен\n",
       "9272     Растаможен\n",
       "987      Растаможен\n",
       "12915    Растаможен\n",
       "Name: Таможня, dtype: object"
      ]
     },
     "metadata": {},
     "output_type": "display_data"
    },
    {
     "name": "stdout",
     "output_type": "stream",
     "text": [
      "TRAIN\n"
     ]
    },
    {
     "data": {
      "text/plain": [
       "43096    True\n",
       "22082    True\n",
       "2842     True\n",
       "54726    True\n",
       "84028    True\n",
       "Name: Таможня, dtype: bool"
      ]
     },
     "metadata": {},
     "output_type": "display_data"
    }
   ],
   "source": [
    "column = 'Таможня'\n",
    "type_comparison(column)"
   ]
  },
  {
   "cell_type": "code",
   "execution_count": 290,
   "metadata": {},
   "outputs": [
    {
     "data": {
      "text/plain": [
       "array(['Растаможен'], dtype=object)"
      ]
     },
     "execution_count": 290,
     "metadata": {},
     "output_type": "execute_result"
    }
   ],
   "source": [
    "test_mod.Таможня.unique()"
   ]
  },
  {
   "cell_type": "code",
   "execution_count": 291,
   "metadata": {},
   "outputs": [
    {
     "data": {
      "text/plain": [
       "array([ True])"
      ]
     },
     "execution_count": 291,
     "metadata": {},
     "output_type": "execute_result"
    }
   ],
   "source": [
    "train_mod.Таможня.unique()"
   ]
  },
  {
   "cell_type": "markdown",
   "metadata": {},
   "source": [
    "В TRAIN и TEST во всех строках одинаковое значение, столбец ТАМОЖНЯ можно удалить."
   ]
  },
  {
   "cell_type": "code",
   "execution_count": 292,
   "metadata": {},
   "outputs": [],
   "source": [
    "columns_to_drop.append('Таможня')"
   ]
  },
  {
   "cell_type": "code",
   "execution_count": 293,
   "metadata": {},
   "outputs": [],
   "source": [
    "#Удаляем лишние общие столбцы\n",
    "test_mod.drop(columns = columns_to_drop, inplace = True)\n",
    "train_mod.drop(columns = columns_to_drop, inplace = True)"
   ]
  },
  {
   "cell_type": "code",
   "execution_count": 294,
   "metadata": {},
   "outputs": [
    {
     "data": {
      "text/plain": [
       "Index(['bodyType', 'brand', 'car_url', 'color', 'complectation_dict',\n",
       "       'description', 'engineDisplacement', 'enginePower', 'equipment_dict',\n",
       "       'fuelType', 'image', 'mileage', 'modelDate', 'model_info', 'model_name',\n",
       "       'numberOfDoors', 'parsing_unixtime', 'priceCurrency', 'productionDate',\n",
       "       'sell_id', 'super_gen', 'vehicleTransmission', 'vendor', 'Владельцы',\n",
       "       'ПТС', 'Привод', 'Руль', 'Country_of_origin'],\n",
       "      dtype='object')"
      ]
     },
     "execution_count": 294,
     "metadata": {},
     "output_type": "execute_result"
    }
   ],
   "source": [
    "test_mod.columns"
   ]
  },
  {
   "cell_type": "code",
   "execution_count": 295,
   "metadata": {},
   "outputs": [
    {
     "data": {
      "text/plain": [
       "Index(['bodyType', 'brand', 'color', 'fuelType', 'modelDate', 'numberOfDoors',\n",
       "       'productionDate', 'vehicleTransmission', 'engineDisplacement',\n",
       "       'enginePower', 'description', 'mileage', 'Комплектация', 'Привод',\n",
       "       'Руль', 'Владельцы', 'ПТС', 'price', 'start_date', 'hidden', 'model',\n",
       "       'Country_of_origin'],\n",
       "      dtype='object')"
      ]
     },
     "execution_count": 295,
     "metadata": {},
     "output_type": "execute_result"
    }
   ],
   "source": [
    "train_mod.columns"
   ]
  },
  {
   "cell_type": "code",
   "execution_count": 296,
   "metadata": {},
   "outputs": [],
   "source": [
    "#Удалим лишние столбцы из Теста чтобы датасеты соответствовали друг другу \n",
    "test_drop = []\n",
    "for i in range(len(test_mod.columns)):\n",
    "    if test_mod.columns[i] not in train_mod.columns:\n",
    "        test_drop.append(test_mod.columns[i])"
   ]
  },
  {
   "cell_type": "code",
   "execution_count": 297,
   "metadata": {},
   "outputs": [],
   "source": [
    "test_mod.drop(columns = test_drop, inplace = True)"
   ]
  },
  {
   "cell_type": "code",
   "execution_count": 298,
   "metadata": {},
   "outputs": [],
   "source": [
    "train_drop = []\n",
    "for i in range(len(train_mod.columns)):\n",
    "    if train_mod.columns[i] not in test_mod.columns:\n",
    "        train_drop.append(train_mod.columns[i])"
   ]
  },
  {
   "cell_type": "code",
   "execution_count": 299,
   "metadata": {},
   "outputs": [],
   "source": [
    "train_mod.drop(columns = train_drop, inplace = True)"
   ]
  },
  {
   "cell_type": "code",
   "execution_count": 300,
   "metadata": {},
   "outputs": [
    {
     "data": {
      "text/plain": [
       "array([ True,  True,  True,  True,  True,  True,  True,  True,  True,\n",
       "        True,  True,  True,  True,  True,  True,  True,  True])"
      ]
     },
     "execution_count": 300,
     "metadata": {},
     "output_type": "execute_result"
    }
   ],
   "source": [
    "test_mod.columns.sort_values() == train_mod.columns.sort_values()"
   ]
  },
  {
   "cell_type": "code",
   "execution_count": 301,
   "metadata": {},
   "outputs": [],
   "source": [
    "#Добавим к обоим датасетам столбец 'TEST' и заполним единицами в test_mod и нолями в train_mod\n",
    "#Так их легко можно будет разделить позже\n",
    "test_mod['TEST'] = 1\n",
    "train_mod['TEST'] = 0"
   ]
  },
  {
   "cell_type": "code",
   "execution_count": 302,
   "metadata": {},
   "outputs": [
    {
     "name": "stderr",
     "output_type": "stream",
     "text": [
      "C:\\Temp\\ipykernel_2416\\3064683694.py:2: FutureWarning: The frame.append method is deprecated and will be removed from pandas in a future version. Use pandas.concat instead.\n",
      "  whole_data = train_mod.append(test_mod)\n"
     ]
    }
   ],
   "source": [
    "#Объединяем\n",
    "whole_data = train_mod.append(test_mod)"
   ]
  },
  {
   "cell_type": "code",
   "execution_count": 303,
   "metadata": {
    "scrolled": true
   },
   "outputs": [
    {
     "name": "stdout",
     "output_type": "stream",
     "text": [
      "<class 'pandas.core.frame.DataFrame'>\n",
      "Int64Index: 121949 entries, 0 to 34685\n",
      "Data columns (total 18 columns):\n",
      " #   Column               Non-Null Count   Dtype  \n",
      "---  ------               --------------   -----  \n",
      " 0   bodyType             121949 non-null  object \n",
      " 1   brand                121949 non-null  object \n",
      " 2   color                121949 non-null  object \n",
      " 3   fuelType             121949 non-null  object \n",
      " 4   modelDate            121949 non-null  Int64  \n",
      " 5   numberOfDoors        121949 non-null  Int64  \n",
      " 6   productionDate       121949 non-null  int64  \n",
      " 7   vehicleTransmission  121949 non-null  object \n",
      " 8   engineDisplacement   121949 non-null  float64\n",
      " 9   enginePower          121949 non-null  Int64  \n",
      " 10  description          118716 non-null  object \n",
      " 11  mileage              121949 non-null  int64  \n",
      " 12  Привод               121949 non-null  object \n",
      " 13  Руль                 121949 non-null  object \n",
      " 14  Владельцы            121949 non-null  Int64  \n",
      " 15  ПТС                  121591 non-null  object \n",
      " 16  Country_of_origin    121949 non-null  object \n",
      " 17  TEST                 121949 non-null  int64  \n",
      "dtypes: Int64(4), float64(1), int64(3), object(10)\n",
      "memory usage: 18.1+ MB\n"
     ]
    }
   ],
   "source": [
    "whole_data.info()"
   ]
  },
  {
   "cell_type": "code",
   "execution_count": null,
   "metadata": {},
   "outputs": [],
   "source": []
  }
 ],
 "metadata": {
  "kernelspec": {
   "display_name": "Python 3 (ipykernel)",
   "language": "python",
   "name": "python3"
  },
  "language_info": {
   "codemirror_mode": {
    "name": "ipython",
    "version": 3
   },
   "file_extension": ".py",
   "mimetype": "text/x-python",
   "name": "python",
   "nbconvert_exporter": "python",
   "pygments_lexer": "ipython3",
   "version": "3.10.4"
  },
  "latex_envs": {
   "LaTeX_envs_menu_present": true,
   "autoclose": false,
   "autocomplete": true,
   "bibliofile": "biblio.bib",
   "cite_by": "apalike",
   "current_citInitial": 1,
   "eqLabelWithNumbers": true,
   "eqNumInitial": 1,
   "hotkeys": {
    "equation": "Ctrl-E",
    "itemize": "Ctrl-I"
   },
   "labels_anchors": false,
   "latex_user_defs": false,
   "report_style_numbering": false,
   "user_envs_cfg": false
  },
  "toc": {
   "base_numbering": 1,
   "nav_menu": {},
   "number_sections": true,
   "sideBar": true,
   "skip_h1_title": false,
   "title_cell": "Table of Contents",
   "title_sidebar": "Contents",
   "toc_cell": false,
   "toc_position": {},
   "toc_section_display": true,
   "toc_window_display": false
  },
  "varInspector": {
   "cols": {
    "lenName": 16,
    "lenType": 16,
    "lenVar": 40
   },
   "kernels_config": {
    "python": {
     "delete_cmd_postfix": "",
     "delete_cmd_prefix": "del ",
     "library": "var_list.py",
     "varRefreshCmd": "print(var_dic_list())"
    },
    "r": {
     "delete_cmd_postfix": ") ",
     "delete_cmd_prefix": "rm(",
     "library": "var_list.r",
     "varRefreshCmd": "cat(var_dic_list()) "
    }
   },
   "types_to_exclude": [
    "module",
    "function",
    "builtin_function_or_method",
    "instance",
    "_Feature"
   ],
   "window_display": false
  }
 },
 "nbformat": 4,
 "nbformat_minor": 4
}
