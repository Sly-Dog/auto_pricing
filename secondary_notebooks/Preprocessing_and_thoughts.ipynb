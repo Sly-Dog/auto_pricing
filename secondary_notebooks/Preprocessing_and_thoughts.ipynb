{
 "cells": [
  {
   "cell_type": "code",
   "execution_count": 1,
   "metadata": {},
   "outputs": [],
   "source": [
    "#%store -r train_mod \n",
    "#%store -r test_mod"
   ]
  },
  {
   "cell_type": "code",
   "execution_count": 14,
   "metadata": {
    "scrolled": true
   },
   "outputs": [
    {
     "name": "stdout",
     "output_type": "stream",
     "text": [
      "<class 'pandas.core.frame.DataFrame'>\n",
      "Int64Index: 47661 entries, 0 to 88660\n",
      "Data columns (total 26 columns):\n",
      " #   Column                Non-Null Count  Dtype  \n",
      "---  ------                --------------  -----  \n",
      " 0   bodyType              47661 non-null  object \n",
      " 1   brand                 47661 non-null  object \n",
      " 2   color                 47661 non-null  object \n",
      " 3   fuelType              47661 non-null  object \n",
      " 4   modelDate             47661 non-null  Int64  \n",
      " 5   name                  47661 non-null  object \n",
      " 6   numberOfDoors         47661 non-null  Int64  \n",
      " 7   productionDate        47661 non-null  int64  \n",
      " 8   vehicleConfiguration  47661 non-null  object \n",
      " 9   vehicleTransmission   47661 non-null  object \n",
      " 10  engineDisplacement    30568 non-null  float64\n",
      " 11  enginePower           47661 non-null  Int64  \n",
      " 12  description           46081 non-null  object \n",
      " 13  mileage               47661 non-null  int64  \n",
      " 14  Комплектация          47661 non-null  object \n",
      " 15  Привод                47661 non-null  object \n",
      " 16  Руль                  47661 non-null  object \n",
      " 17  Состояние             0 non-null      float64\n",
      " 18  Владельцы             38032 non-null  Int64  \n",
      " 19  ПТС                   47402 non-null  object \n",
      " 20  Таможня               47661 non-null  bool   \n",
      " 21  Владение              14778 non-null  object \n",
      " 22  price                 47453 non-null  float64\n",
      " 23  start_date            47661 non-null  object \n",
      " 24  hidden                0 non-null      float64\n",
      " 25  model_name            47661 non-null  object \n",
      "dtypes: Int64(4), bool(1), float64(4), int64(2), object(15)\n",
      "memory usage: 9.7+ MB\n"
     ]
    }
   ],
   "source": [
    "train_mod.info()"
   ]
  },
  {
   "cell_type": "code",
   "execution_count": 3,
   "metadata": {},
   "outputs": [],
   "source": [
    "import numpy as np # linear algebra\n",
    "import pandas as pd # data processing, CSV file I/O (e.g. pd.read_csv)\n",
    "import sys\n",
    "import re\n",
    "import matplotlib.pyplot as plt\n",
    "from sklearn.model_selection import train_test_split\n",
    "from sklearn.model_selection import KFold\n",
    "from tqdm.notebook import tqdm\n",
    "from catboost import CatBoostRegressor\n",
    "from sklearn.preprocessing import LabelEncoder"
   ]
  },
  {
   "cell_type": "code",
   "execution_count": 4,
   "metadata": {},
   "outputs": [
    {
     "name": "stdout",
     "output_type": "stream",
     "text": [
      "Python       : 3.8.5 (default, Sep  3 2020, 21:29:08) [MSC v.1916 64 bit (AMD64)]\n",
      "Numpy        : 1.19.2\n"
     ]
    }
   ],
   "source": [
    "print('Python       :', sys.version.split('\\n')[0])\n",
    "print('Numpy        :', np.__version__)"
   ]
  },
  {
   "cell_type": "code",
   "execution_count": 5,
   "metadata": {},
   "outputs": [],
   "source": [
    "RANDOM_SEED = 42"
   ]
  },
  {
   "cell_type": "markdown",
   "metadata": {},
   "source": [
    "# functions"
   ]
  },
  {
   "cell_type": "code",
   "execution_count": 6,
   "metadata": {},
   "outputs": [],
   "source": [
    "def mape(y_true, y_pred):\n",
    "    return np.mean(np.abs((y_pred-y_true)/y_true))"
   ]
  },
  {
   "cell_type": "markdown",
   "metadata": {},
   "source": [
    "### Data"
   ]
  },
  {
   "cell_type": "code",
   "execution_count": null,
   "metadata": {},
   "outputs": [],
   "source": []
  },
  {
   "cell_type": "code",
   "execution_count": 9,
   "metadata": {},
   "outputs": [
    {
     "name": "stdout",
     "output_type": "stream",
     "text": [
      "<class 'pandas.core.frame.DataFrame'>\n",
      "Int64Index: 34686 entries, 0 to 34685\n",
      "Data columns (total 32 columns):\n",
      " #   Column                Non-Null Count  Dtype  \n",
      "---  ------                --------------  -----  \n",
      " 0   bodyType              34686 non-null  object \n",
      " 1   brand                 34686 non-null  object \n",
      " 2   car_url               34686 non-null  object \n",
      " 3   color                 34686 non-null  object \n",
      " 4   complectation_dict    6418 non-null   object \n",
      " 5   description           34686 non-null  object \n",
      " 6   engineDisplacement    34686 non-null  float64\n",
      " 7   enginePower           34686 non-null  int64  \n",
      " 8   equipment_dict        24690 non-null  object \n",
      " 9   fuelType              34686 non-null  object \n",
      " 10  image                 34686 non-null  object \n",
      " 11  mileage               34686 non-null  int64  \n",
      " 12  modelDate             34686 non-null  int64  \n",
      " 13  model_info            34686 non-null  object \n",
      " 14  model_name            34686 non-null  object \n",
      " 15  name                  34686 non-null  object \n",
      " 16  numberOfDoors         34686 non-null  int64  \n",
      " 17  parsing_unixtime      34686 non-null  int64  \n",
      " 18  priceCurrency         34686 non-null  object \n",
      " 19  productionDate        34686 non-null  int64  \n",
      " 20  sell_id               34686 non-null  int64  \n",
      " 21  super_gen             34686 non-null  object \n",
      " 22  vehicleConfiguration  34686 non-null  object \n",
      " 23  vehicleTransmission   34686 non-null  object \n",
      " 24  vendor                34686 non-null  object \n",
      " 25  Владельцы             34686 non-null  int64  \n",
      " 26  Владение              11995 non-null  object \n",
      " 27  ПТС                   34685 non-null  object \n",
      " 28  Привод                34686 non-null  object \n",
      " 29  Руль                  34686 non-null  object \n",
      " 30  Состояние             34686 non-null  object \n",
      " 31  Таможня               34686 non-null  object \n",
      "dtypes: float64(1), int64(8), object(23)\n",
      "memory usage: 8.7+ MB\n"
     ]
    }
   ],
   "source": [
    "test_mod.info()"
   ]
  },
  {
   "cell_type": "code",
   "execution_count": null,
   "metadata": {},
   "outputs": [],
   "source": []
  }
 ],
 "metadata": {
  "kernelspec": {
   "display_name": "Python 3 (ipykernel)",
   "language": "python",
   "name": "python3"
  },
  "language_info": {
   "codemirror_mode": {
    "name": "ipython",
    "version": 3
   },
   "file_extension": ".py",
   "mimetype": "text/x-python",
   "name": "python",
   "nbconvert_exporter": "python",
   "pygments_lexer": "ipython3",
   "version": "3.10.4"
  },
  "latex_envs": {
   "LaTeX_envs_menu_present": true,
   "autoclose": false,
   "autocomplete": true,
   "bibliofile": "biblio.bib",
   "cite_by": "apalike",
   "current_citInitial": 1,
   "eqLabelWithNumbers": true,
   "eqNumInitial": 1,
   "hotkeys": {
    "equation": "Ctrl-E",
    "itemize": "Ctrl-I"
   },
   "labels_anchors": false,
   "latex_user_defs": false,
   "report_style_numbering": false,
   "user_envs_cfg": false
  },
  "toc": {
   "base_numbering": 1,
   "nav_menu": {},
   "number_sections": true,
   "sideBar": true,
   "skip_h1_title": false,
   "title_cell": "Table of Contents",
   "title_sidebar": "Contents",
   "toc_cell": false,
   "toc_position": {},
   "toc_section_display": true,
   "toc_window_display": false
  },
  "varInspector": {
   "cols": {
    "lenName": 16,
    "lenType": 16,
    "lenVar": 40
   },
   "kernels_config": {
    "python": {
     "delete_cmd_postfix": "",
     "delete_cmd_prefix": "del ",
     "library": "var_list.py",
     "varRefreshCmd": "print(var_dic_list())"
    },
    "r": {
     "delete_cmd_postfix": ") ",
     "delete_cmd_prefix": "rm(",
     "library": "var_list.r",
     "varRefreshCmd": "cat(var_dic_list()) "
    }
   },
   "types_to_exclude": [
    "module",
    "function",
    "builtin_function_or_method",
    "instance",
    "_Feature"
   ],
   "window_display": false
  }
 },
 "nbformat": 4,
 "nbformat_minor": 4
}
