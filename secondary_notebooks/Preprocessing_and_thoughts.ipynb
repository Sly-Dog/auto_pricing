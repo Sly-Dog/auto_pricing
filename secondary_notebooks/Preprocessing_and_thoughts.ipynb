{
 "cells": [
  {
   "cell_type": "code",
   "execution_count": 1,
   "metadata": {},
   "outputs": [],
   "source": [
    "%store -r train_mod \n",
    "%store -r test_mod"
   ]
  },
  {
   "cell_type": "code",
   "execution_count": 2,
   "metadata": {},
   "outputs": [
    {
     "name": "stdout",
     "output_type": "stream",
     "text": [
      "<class 'pandas.core.frame.DataFrame'>\n",
      "Int64Index: 47661 entries, 0 to 88660\n",
      "Data columns (total 26 columns):\n",
      " #   Column                Non-Null Count  Dtype  \n",
      "---  ------                --------------  -----  \n",
      " 0   bodyType              47661 non-null  object \n",
      " 1   brand                 47661 non-null  object \n",
      " 2   color                 47661 non-null  object \n",
      " 3   fuelType              47661 non-null  object \n",
      " 4   modelDate             47661 non-null  Int64  \n",
      " 5   name                  47661 non-null  object \n",
      " 6   numberOfDoors         47661 non-null  Int64  \n",
      " 7   productionDate        47661 non-null  int64  \n",
      " 8   vehicleConfiguration  47661 non-null  object \n",
      " 9   vehicleTransmission   47661 non-null  object \n",
      " 10  engineDisplacement    30568 non-null  float64\n",
      " 11  enginePower           47661 non-null  Int64  \n",
      " 12  description           46081 non-null  object \n",
      " 13  mileage               47661 non-null  int64  \n",
      " 14  Комплектация          47661 non-null  object \n",
      " 15  Привод                47661 non-null  object \n",
      " 16  Руль                  47661 non-null  object \n",
      " 17  Состояние             0 non-null      float64\n",
      " 18  Владельцы             38032 non-null  Int64  \n",
      " 19  ПТС                   47402 non-null  object \n",
      " 20  Таможня               47661 non-null  bool   \n",
      " 21  Владение              14778 non-null  object \n",
      " 22  price                 47453 non-null  float64\n",
      " 23  start_date            47661 non-null  object \n",
      " 24  hidden                0 non-null      float64\n",
      " 25  model_name            47661 non-null  object \n",
      "dtypes: Int64(4), bool(1), float64(4), int64(2), object(15)\n",
      "memory usage: 9.7+ MB\n"
     ]
    }
   ],
   "source": [
    "train_mod.info()"
   ]
  },
  {
   "cell_type": "code",
   "execution_count": null,
   "metadata": {},
   "outputs": [],
   "source": []
  }
 ],
 "metadata": {
  "kernelspec": {
   "display_name": "Python 3 (ipykernel)",
   "language": "python",
   "name": "python3"
  },
  "language_info": {
   "codemirror_mode": {
    "name": "ipython",
    "version": 3
   },
   "file_extension": ".py",
   "mimetype": "text/x-python",
   "name": "python",
   "nbconvert_exporter": "python",
   "pygments_lexer": "ipython3",
   "version": "3.10.4"
  },
  "latex_envs": {
   "LaTeX_envs_menu_present": true,
   "autoclose": false,
   "autocomplete": true,
   "bibliofile": "biblio.bib",
   "cite_by": "apalike",
   "current_citInitial": 1,
   "eqLabelWithNumbers": true,
   "eqNumInitial": 1,
   "hotkeys": {
    "equation": "Ctrl-E",
    "itemize": "Ctrl-I"
   },
   "labels_anchors": false,
   "latex_user_defs": false,
   "report_style_numbering": false,
   "user_envs_cfg": false
  },
  "toc": {
   "base_numbering": 1,
   "nav_menu": {},
   "number_sections": true,
   "sideBar": true,
   "skip_h1_title": false,
   "title_cell": "Table of Contents",
   "title_sidebar": "Contents",
   "toc_cell": false,
   "toc_position": {},
   "toc_section_display": true,
   "toc_window_display": false
  },
  "varInspector": {
   "cols": {
    "lenName": 16,
    "lenType": 16,
    "lenVar": 40
   },
   "kernels_config": {
    "python": {
     "delete_cmd_postfix": "",
     "delete_cmd_prefix": "del ",
     "library": "var_list.py",
     "varRefreshCmd": "print(var_dic_list())"
    },
    "r": {
     "delete_cmd_postfix": ") ",
     "delete_cmd_prefix": "rm(",
     "library": "var_list.r",
     "varRefreshCmd": "cat(var_dic_list()) "
    }
   },
   "types_to_exclude": [
    "module",
    "function",
    "builtin_function_or_method",
    "instance",
    "_Feature"
   ],
   "window_display": false
  }
 },
 "nbformat": 4,
 "nbformat_minor": 4
}
