{
 "cells": [
  {
   "cell_type": "code",
   "execution_count": 622,
   "metadata": {},
   "outputs": [],
   "source": [
    "%store -r train_mod \n",
    "%store -r test_mod"
   ]
  },
  {
   "cell_type": "code",
   "execution_count": 623,
   "metadata": {},
   "outputs": [
    {
     "name": "stdout",
     "output_type": "stream",
     "text": [
      "<class 'pandas.core.frame.DataFrame'>\n",
      "Int64Index: 87264 entries, 0 to 89377\n",
      "Data columns (total 26 columns):\n",
      " #   Column                Non-Null Count  Dtype  \n",
      "---  ------                --------------  -----  \n",
      " 0   bodyType              87263 non-null  object \n",
      " 1   brand                 87264 non-null  object \n",
      " 2   color                 87264 non-null  object \n",
      " 3   fuelType              87264 non-null  object \n",
      " 4   modelDate             87263 non-null  float64\n",
      " 5   name                  87263 non-null  object \n",
      " 6   numberOfDoors         87263 non-null  float64\n",
      " 7   productionDate        87264 non-null  int64  \n",
      " 8   vehicleConfiguration  87263 non-null  object \n",
      " 9   vehicleTransmission   87263 non-null  object \n",
      " 10  engineDisplacement    87263 non-null  object \n",
      " 11  enginePower           87263 non-null  float64\n",
      " 12  description           84031 non-null  object \n",
      " 13  mileage               87264 non-null  int64  \n",
      " 14  Комплектация          87264 non-null  object \n",
      " 15  Привод                87263 non-null  object \n",
      " 16  Руль                  87264 non-null  object \n",
      " 17  Состояние             0 non-null      float64\n",
      " 18  Владельцы             75247 non-null  float64\n",
      " 19  ПТС                   86907 non-null  object \n",
      " 20  Таможня               87264 non-null  bool   \n",
      " 21  Владение              28994 non-null  object \n",
      " 22  price                 86854 non-null  float64\n",
      " 23  start_date            87264 non-null  object \n",
      " 24  hidden                0 non-null      float64\n",
      " 25  model                 87264 non-null  object \n",
      "dtypes: bool(1), float64(7), int64(2), object(16)\n",
      "memory usage: 17.4+ MB\n"
     ]
    }
   ],
   "source": [
    "train_mod.info()"
   ]
  },
  {
   "cell_type": "code",
   "execution_count": 624,
   "metadata": {},
   "outputs": [
    {
     "name": "stdout",
     "output_type": "stream",
     "text": [
      "<class 'pandas.core.frame.DataFrame'>\n",
      "Int64Index: 34686 entries, 0 to 34685\n",
      "Data columns (total 32 columns):\n",
      " #   Column                Non-Null Count  Dtype \n",
      "---  ------                --------------  ----- \n",
      " 0   bodyType              34686 non-null  object\n",
      " 1   brand                 34686 non-null  object\n",
      " 2   car_url               34686 non-null  object\n",
      " 3   color                 34686 non-null  object\n",
      " 4   complectation_dict    6418 non-null   object\n",
      " 5   description           34686 non-null  object\n",
      " 6   engineDisplacement    34686 non-null  object\n",
      " 7   enginePower           34686 non-null  object\n",
      " 8   equipment_dict        24690 non-null  object\n",
      " 9   fuelType              34686 non-null  object\n",
      " 10  image                 34686 non-null  object\n",
      " 11  mileage               34686 non-null  int64 \n",
      " 12  modelDate             34686 non-null  int64 \n",
      " 13  model_info            34686 non-null  object\n",
      " 14  model_name            34686 non-null  object\n",
      " 15  name                  34686 non-null  object\n",
      " 16  numberOfDoors         34686 non-null  int64 \n",
      " 17  parsing_unixtime      34686 non-null  int64 \n",
      " 18  priceCurrency         34686 non-null  object\n",
      " 19  productionDate        34686 non-null  int64 \n",
      " 20  sell_id               34686 non-null  int64 \n",
      " 21  super_gen             34686 non-null  object\n",
      " 22  vehicleConfiguration  34686 non-null  object\n",
      " 23  vehicleTransmission   34686 non-null  object\n",
      " 24  vendor                34686 non-null  object\n",
      " 25  Владельцы             34686 non-null  object\n",
      " 26  Владение              11995 non-null  object\n",
      " 27  ПТС                   34685 non-null  object\n",
      " 28  Привод                34686 non-null  object\n",
      " 29  Руль                  34686 non-null  object\n",
      " 30  Состояние             34686 non-null  object\n",
      " 31  Таможня               34686 non-null  object\n",
      "dtypes: int64(6), object(26)\n",
      "memory usage: 8.7+ MB\n"
     ]
    }
   ],
   "source": [
    "test_mod.info()"
   ]
  },
  {
   "cell_type": "code",
   "execution_count": 625,
   "metadata": {},
   "outputs": [],
   "source": [
    "import numpy as np # linear algebra\n",
    "import pandas as pd # data processing, CSV file I/O (e.g. pd.read_csv)\n",
    "import sys\n",
    "import re\n",
    "import matplotlib.pyplot as plt\n",
    "from sklearn.model_selection import train_test_split\n",
    "from sklearn.model_selection import KFold\n",
    "from tqdm.notebook import tqdm\n",
    "from catboost import CatBoostRegressor\n",
    "from sklearn.preprocessing import LabelEncoder"
   ]
  },
  {
   "cell_type": "code",
   "execution_count": 626,
   "metadata": {},
   "outputs": [
    {
     "name": "stdout",
     "output_type": "stream",
     "text": [
      "Python       : 3.10.4 (tags/v3.10.4:9d38120, Mar 23 2022, 23:13:41) [MSC v.1929 64 bit (AMD64)]\n",
      "Numpy        : 1.22.3\n"
     ]
    }
   ],
   "source": [
    "print('Python       :', sys.version.split('\\n')[0])\n",
    "print('Numpy        :', np.__version__)"
   ]
  },
  {
   "cell_type": "markdown",
   "metadata": {},
   "source": [
    "##### Определение общих и различающихся столбцов в TRAIN и TEST"
   ]
  },
  {
   "cell_type": "code",
   "execution_count": 627,
   "metadata": {},
   "outputs": [],
   "source": [
    "#Общие столбцы\n",
    "common_columns = set(test_mod.columns).intersection(train_mod.columns)\n",
    "\n",
    "#Только в TEST\n",
    "test_only_columns = set(test_mod.columns).difference(train_mod.columns)\n",
    "\n",
    "#Только в TRAIN\n",
    "train_only_columns = set(train_mod.columns).difference(test_mod.columns)"
   ]
  },
  {
   "cell_type": "code",
   "execution_count": 628,
   "metadata": {
    "scrolled": false
   },
   "outputs": [
    {
     "name": "stderr",
     "output_type": "stream",
     "text": [
      "C:\\Temp\\ipykernel_7588\\3330007078.py:2: FutureWarning: Passing a set as an indexer is deprecated and will raise in a future version. Use a list instead.\n",
      "  index_list = test_mod[common_columns].dtypes.index.to_list()\n",
      "C:\\Temp\\ipykernel_7588\\3330007078.py:3: FutureWarning: Passing a set as an indexer is deprecated and will raise in a future version. Use a list instead.\n",
      "  test_list = test_mod[common_columns].dtypes.values.tolist()\n",
      "C:\\Temp\\ipykernel_7588\\3330007078.py:4: FutureWarning: Passing a set as an indexer is deprecated and will raise in a future version. Use a list instead.\n",
      "  train_list = train_mod[common_columns].dtypes.values.tolist()\n"
     ]
    },
    {
     "data": {
      "text/html": [
       "<div>\n",
       "<style scoped>\n",
       "    .dataframe tbody tr th:only-of-type {\n",
       "        vertical-align: middle;\n",
       "    }\n",
       "\n",
       "    .dataframe tbody tr th {\n",
       "        vertical-align: top;\n",
       "    }\n",
       "\n",
       "    .dataframe thead th {\n",
       "        text-align: right;\n",
       "    }\n",
       "</style>\n",
       "<table border=\"1\" class=\"dataframe\">\n",
       "  <thead>\n",
       "    <tr style=\"text-align: right;\">\n",
       "      <th></th>\n",
       "      <th>title</th>\n",
       "      <th>test_type</th>\n",
       "      <th>train_type</th>\n",
       "    </tr>\n",
       "  </thead>\n",
       "  <tbody>\n",
       "    <tr>\n",
       "      <th>5</th>\n",
       "      <td>bodyType</td>\n",
       "      <td>object</td>\n",
       "      <td>object</td>\n",
       "    </tr>\n",
       "    <tr>\n",
       "      <th>8</th>\n",
       "      <td>brand</td>\n",
       "      <td>object</td>\n",
       "      <td>object</td>\n",
       "    </tr>\n",
       "    <tr>\n",
       "      <th>3</th>\n",
       "      <td>color</td>\n",
       "      <td>object</td>\n",
       "      <td>object</td>\n",
       "    </tr>\n",
       "    <tr>\n",
       "      <th>2</th>\n",
       "      <td>description</td>\n",
       "      <td>object</td>\n",
       "      <td>object</td>\n",
       "    </tr>\n",
       "    <tr>\n",
       "      <th>13</th>\n",
       "      <td>engineDisplacement</td>\n",
       "      <td>object</td>\n",
       "      <td>object</td>\n",
       "    </tr>\n",
       "    <tr>\n",
       "      <th>10</th>\n",
       "      <td>enginePower</td>\n",
       "      <td>object</td>\n",
       "      <td>float64</td>\n",
       "    </tr>\n",
       "    <tr>\n",
       "      <th>1</th>\n",
       "      <td>fuelType</td>\n",
       "      <td>object</td>\n",
       "      <td>object</td>\n",
       "    </tr>\n",
       "    <tr>\n",
       "      <th>12</th>\n",
       "      <td>mileage</td>\n",
       "      <td>int64</td>\n",
       "      <td>int64</td>\n",
       "    </tr>\n",
       "    <tr>\n",
       "      <th>17</th>\n",
       "      <td>modelDate</td>\n",
       "      <td>int64</td>\n",
       "      <td>float64</td>\n",
       "    </tr>\n",
       "    <tr>\n",
       "      <th>7</th>\n",
       "      <td>name</td>\n",
       "      <td>object</td>\n",
       "      <td>object</td>\n",
       "    </tr>\n",
       "    <tr>\n",
       "      <th>14</th>\n",
       "      <td>numberOfDoors</td>\n",
       "      <td>int64</td>\n",
       "      <td>float64</td>\n",
       "    </tr>\n",
       "    <tr>\n",
       "      <th>18</th>\n",
       "      <td>productionDate</td>\n",
       "      <td>int64</td>\n",
       "      <td>int64</td>\n",
       "    </tr>\n",
       "    <tr>\n",
       "      <th>15</th>\n",
       "      <td>vehicleConfiguration</td>\n",
       "      <td>object</td>\n",
       "      <td>object</td>\n",
       "    </tr>\n",
       "    <tr>\n",
       "      <th>11</th>\n",
       "      <td>vehicleTransmission</td>\n",
       "      <td>object</td>\n",
       "      <td>object</td>\n",
       "    </tr>\n",
       "    <tr>\n",
       "      <th>9</th>\n",
       "      <td>Владельцы</td>\n",
       "      <td>object</td>\n",
       "      <td>float64</td>\n",
       "    </tr>\n",
       "    <tr>\n",
       "      <th>6</th>\n",
       "      <td>Владение</td>\n",
       "      <td>object</td>\n",
       "      <td>object</td>\n",
       "    </tr>\n",
       "    <tr>\n",
       "      <th>16</th>\n",
       "      <td>ПТС</td>\n",
       "      <td>object</td>\n",
       "      <td>object</td>\n",
       "    </tr>\n",
       "    <tr>\n",
       "      <th>20</th>\n",
       "      <td>Привод</td>\n",
       "      <td>object</td>\n",
       "      <td>object</td>\n",
       "    </tr>\n",
       "    <tr>\n",
       "      <th>4</th>\n",
       "      <td>Руль</td>\n",
       "      <td>object</td>\n",
       "      <td>object</td>\n",
       "    </tr>\n",
       "    <tr>\n",
       "      <th>19</th>\n",
       "      <td>Состояние</td>\n",
       "      <td>object</td>\n",
       "      <td>float64</td>\n",
       "    </tr>\n",
       "    <tr>\n",
       "      <th>0</th>\n",
       "      <td>Таможня</td>\n",
       "      <td>object</td>\n",
       "      <td>bool</td>\n",
       "    </tr>\n",
       "  </tbody>\n",
       "</table>\n",
       "</div>"
      ],
      "text/plain": [
       "                   title test_type train_type\n",
       "5               bodyType    object     object\n",
       "8                  brand    object     object\n",
       "3                  color    object     object\n",
       "2            description    object     object\n",
       "13    engineDisplacement    object     object\n",
       "10           enginePower    object    float64\n",
       "1               fuelType    object     object\n",
       "12               mileage     int64      int64\n",
       "17             modelDate     int64    float64\n",
       "7                   name    object     object\n",
       "14         numberOfDoors     int64    float64\n",
       "18        productionDate     int64      int64\n",
       "15  vehicleConfiguration    object     object\n",
       "11   vehicleTransmission    object     object\n",
       "9              Владельцы    object    float64\n",
       "6               Владение    object     object\n",
       "16                   ПТС    object     object\n",
       "20                Привод    object     object\n",
       "4                   Руль    object     object\n",
       "19             Состояние    object    float64\n",
       "0                Таможня    object       bool"
      ]
     },
     "execution_count": 628,
     "metadata": {},
     "output_type": "execute_result"
    }
   ],
   "source": [
    "#Датафрейм со сравнением типов данных\n",
    "index_list = test_mod[common_columns].dtypes.index.to_list()\n",
    "test_list = test_mod[common_columns].dtypes.values.tolist()\n",
    "train_list = train_mod[common_columns].dtypes.values.tolist()\n",
    "\n",
    "dict_comparison = {\n",
    "    'title': index_list,\n",
    "    'test_type': test_list,\n",
    "    'train_type': train_list\n",
    "}\n",
    "\n",
    "comparison = pd.DataFrame(dict_comparison)\n",
    "comparison.sort_values('title')"
   ]
  },
  {
   "cell_type": "markdown",
   "metadata": {},
   "source": [
    "Как можно видеть, формат данных в части столбцов с одинаковыми названиями не совпадает. Также необходимо исследовать содержаимое ячеек."
   ]
  },
  {
   "cell_type": "code",
   "execution_count": 629,
   "metadata": {},
   "outputs": [],
   "source": [
    "#Создадим пустой список, в который будем вносить имена столбцов, подлежащих удалению. \n",
    "#будем заполнять его по ходу первичного анализа.\n",
    "columns_to_drop = []"
   ]
  },
  {
   "cell_type": "markdown",
   "metadata": {},
   "source": [
    "##### Бренды в TRAIN и TEST"
   ]
  },
  {
   "cell_type": "code",
   "execution_count": 630,
   "metadata": {},
   "outputs": [
    {
     "data": {
      "text/plain": [
       "array(['AUDI', 'BMW', 'CADILLAC', 'CHERY', 'CHEVROLET', 'CHRYSLER',\n",
       "       'CITROEN', 'DAEWOO', 'DODGE', 'FORD', 'GEELY', 'HONDA', 'HYUNDAI',\n",
       "       'INFINITI', 'JAGUAR', 'JEEP', 'KIA', 'LEXUS', 'MAZDA', 'MINI',\n",
       "       'MITSUBISHI', 'NISSAN', 'OPEL', 'PEUGEOT', 'PORSCHE', 'RENAULT',\n",
       "       'SKODA', 'SUBARU', 'SUZUKI', 'TOYOTA', 'VOLKSWAGEN', 'VOLVO',\n",
       "       'GREAT_WALL', 'LAND_ROVER', 'MERCEDES', 'SSANG_YONG'], dtype=object)"
      ]
     },
     "metadata": {},
     "output_type": "display_data"
    },
    {
     "name": "stdout",
     "output_type": "stream",
     "text": [
      "Всего в TRAIN 36 брендов.\n"
     ]
    }
   ],
   "source": [
    "display(train_mod.brand.unique())\n",
    "print('Всего в TRAIN',len(train_mod.brand.unique()),'брендов.',sep=' ')"
   ]
  },
  {
   "cell_type": "code",
   "execution_count": 631,
   "metadata": {},
   "outputs": [
    {
     "data": {
      "text/plain": [
       "array(['SKODA', 'AUDI', 'HONDA', 'VOLVO', 'BMW', 'NISSAN', 'INFINITI',\n",
       "       'MERCEDES', 'TOYOTA', 'LEXUS', 'VOLKSWAGEN', 'MITSUBISHI'],\n",
       "      dtype=object)"
      ]
     },
     "metadata": {},
     "output_type": "display_data"
    },
    {
     "name": "stdout",
     "output_type": "stream",
     "text": [
      "Всего в TEST 12 брендов.\n"
     ]
    }
   ],
   "source": [
    "display(test_mod.brand.unique())\n",
    "print('Всего в TEST',len(test_mod.brand.unique()),'брендов.',sep=' ')"
   ]
  },
  {
   "cell_type": "markdown",
   "metadata": {},
   "source": [
    "## Распределение брендов в TEST"
   ]
  },
  {
   "cell_type": "code",
   "execution_count": 632,
   "metadata": {},
   "outputs": [
    {
     "data": {
      "text/plain": [
       "Text(0.5, 1.0, 'TEST brands')"
      ]
     },
     "execution_count": 632,
     "metadata": {},
     "output_type": "execute_result"
    },
    {
     "data": {
      "image/png": "[encoded data removed]",
      "text/plain": [
       "<Figure size 432x288 with 1 Axes>"
      ]
     },
     "metadata": {
      "needs_background": "light"
     },
     "output_type": "display_data"
    }
   ],
   "source": [
    "test_mod['brand'].value_counts().plot(kind='bar', color = '#F25D46', label='TEST brands')\n",
    "plt.legend()\n",
    "plt.title('TEST brands')"
   ]
  },
  {
   "cell_type": "markdown",
   "metadata": {},
   "source": [
    "## Распределение брендов в TRAIN"
   ]
  },
  {
   "cell_type": "code",
   "execution_count": 633,
   "metadata": {},
   "outputs": [
    {
     "data": {
      "text/plain": [
       "Text(0.5, 1.0, 'TRAIN brands')"
      ]
     },
     "execution_count": 633,
     "metadata": {},
     "output_type": "execute_result"
    },
    {
     "data": {
      "image/png": "[encoded data removed]",
      "text/plain": [
       "<Figure size 432x288 with 1 Axes>"
      ]
     },
     "metadata": {
      "needs_background": "light"
     },
     "output_type": "display_data"
    }
   ],
   "source": [
    "train_mod['brand'].value_counts().plot(kind='bar', color = '#B6DB69', label='TRAIN brands')\n",
    "plt.legend()\n",
    "plt.title('TRAIN brands')"
   ]
  },
  {
   "cell_type": "markdown",
   "metadata": {},
   "source": [
    "Мы видим, что распеределение брендов, представленных только во TEST, схоже с TRAIN. \n",
    "\n",
    "Поэтому для базовой модели ML отсутствующие модели можно удалить, однако для Staking и ансамблей можно попробовать объединить присутствующие и удаленные модели в классы для извлечения новых признаков."
   ]
  },
  {
   "cell_type": "markdown",
   "metadata": {},
   "source": [
    "##### Сравнение содержание ячеек TRAIN и TEST, приведение к единому формату"
   ]
  },
  {
   "cell_type": "code",
   "execution_count": 634,
   "metadata": {},
   "outputs": [
    {
     "name": "stderr",
     "output_type": "stream",
     "text": [
      "C:\\Temp\\ipykernel_7588\\3330007078.py:2: FutureWarning: Passing a set as an indexer is deprecated and will raise in a future version. Use a list instead.\n",
      "  index_list = test_mod[common_columns].dtypes.index.to_list()\n",
      "C:\\Temp\\ipykernel_7588\\3330007078.py:3: FutureWarning: Passing a set as an indexer is deprecated and will raise in a future version. Use a list instead.\n",
      "  test_list = test_mod[common_columns].dtypes.values.tolist()\n",
      "C:\\Temp\\ipykernel_7588\\3330007078.py:4: FutureWarning: Passing a set as an indexer is deprecated and will raise in a future version. Use a list instead.\n",
      "  train_list = train_mod[common_columns].dtypes.values.tolist()\n"
     ]
    },
    {
     "data": {
      "text/html": [
       "<div>\n",
       "<style scoped>\n",
       "    .dataframe tbody tr th:only-of-type {\n",
       "        vertical-align: middle;\n",
       "    }\n",
       "\n",
       "    .dataframe tbody tr th {\n",
       "        vertical-align: top;\n",
       "    }\n",
       "\n",
       "    .dataframe thead th {\n",
       "        text-align: right;\n",
       "    }\n",
       "</style>\n",
       "<table border=\"1\" class=\"dataframe\">\n",
       "  <thead>\n",
       "    <tr style=\"text-align: right;\">\n",
       "      <th></th>\n",
       "      <th>title</th>\n",
       "      <th>test_type</th>\n",
       "      <th>train_type</th>\n",
       "    </tr>\n",
       "  </thead>\n",
       "  <tbody>\n",
       "    <tr>\n",
       "      <th>5</th>\n",
       "      <td>bodyType</td>\n",
       "      <td>object</td>\n",
       "      <td>object</td>\n",
       "    </tr>\n",
       "    <tr>\n",
       "      <th>8</th>\n",
       "      <td>brand</td>\n",
       "      <td>object</td>\n",
       "      <td>object</td>\n",
       "    </tr>\n",
       "    <tr>\n",
       "      <th>3</th>\n",
       "      <td>color</td>\n",
       "      <td>object</td>\n",
       "      <td>object</td>\n",
       "    </tr>\n",
       "    <tr>\n",
       "      <th>2</th>\n",
       "      <td>description</td>\n",
       "      <td>object</td>\n",
       "      <td>object</td>\n",
       "    </tr>\n",
       "    <tr>\n",
       "      <th>13</th>\n",
       "      <td>engineDisplacement</td>\n",
       "      <td>object</td>\n",
       "      <td>object</td>\n",
       "    </tr>\n",
       "    <tr>\n",
       "      <th>10</th>\n",
       "      <td>enginePower</td>\n",
       "      <td>object</td>\n",
       "      <td>float64</td>\n",
       "    </tr>\n",
       "    <tr>\n",
       "      <th>1</th>\n",
       "      <td>fuelType</td>\n",
       "      <td>object</td>\n",
       "      <td>object</td>\n",
       "    </tr>\n",
       "    <tr>\n",
       "      <th>12</th>\n",
       "      <td>mileage</td>\n",
       "      <td>int64</td>\n",
       "      <td>int64</td>\n",
       "    </tr>\n",
       "    <tr>\n",
       "      <th>17</th>\n",
       "      <td>modelDate</td>\n",
       "      <td>int64</td>\n",
       "      <td>float64</td>\n",
       "    </tr>\n",
       "    <tr>\n",
       "      <th>7</th>\n",
       "      <td>name</td>\n",
       "      <td>object</td>\n",
       "      <td>object</td>\n",
       "    </tr>\n",
       "    <tr>\n",
       "      <th>14</th>\n",
       "      <td>numberOfDoors</td>\n",
       "      <td>int64</td>\n",
       "      <td>float64</td>\n",
       "    </tr>\n",
       "    <tr>\n",
       "      <th>18</th>\n",
       "      <td>productionDate</td>\n",
       "      <td>int64</td>\n",
       "      <td>int64</td>\n",
       "    </tr>\n",
       "    <tr>\n",
       "      <th>15</th>\n",
       "      <td>vehicleConfiguration</td>\n",
       "      <td>object</td>\n",
       "      <td>object</td>\n",
       "    </tr>\n",
       "    <tr>\n",
       "      <th>11</th>\n",
       "      <td>vehicleTransmission</td>\n",
       "      <td>object</td>\n",
       "      <td>object</td>\n",
       "    </tr>\n",
       "    <tr>\n",
       "      <th>9</th>\n",
       "      <td>Владельцы</td>\n",
       "      <td>object</td>\n",
       "      <td>float64</td>\n",
       "    </tr>\n",
       "    <tr>\n",
       "      <th>6</th>\n",
       "      <td>Владение</td>\n",
       "      <td>object</td>\n",
       "      <td>object</td>\n",
       "    </tr>\n",
       "    <tr>\n",
       "      <th>16</th>\n",
       "      <td>ПТС</td>\n",
       "      <td>object</td>\n",
       "      <td>object</td>\n",
       "    </tr>\n",
       "    <tr>\n",
       "      <th>20</th>\n",
       "      <td>Привод</td>\n",
       "      <td>object</td>\n",
       "      <td>object</td>\n",
       "    </tr>\n",
       "    <tr>\n",
       "      <th>4</th>\n",
       "      <td>Руль</td>\n",
       "      <td>object</td>\n",
       "      <td>object</td>\n",
       "    </tr>\n",
       "    <tr>\n",
       "      <th>19</th>\n",
       "      <td>Состояние</td>\n",
       "      <td>object</td>\n",
       "      <td>float64</td>\n",
       "    </tr>\n",
       "    <tr>\n",
       "      <th>0</th>\n",
       "      <td>Таможня</td>\n",
       "      <td>object</td>\n",
       "      <td>bool</td>\n",
       "    </tr>\n",
       "  </tbody>\n",
       "</table>\n",
       "</div>"
      ],
      "text/plain": [
       "                   title test_type train_type\n",
       "5               bodyType    object     object\n",
       "8                  brand    object     object\n",
       "3                  color    object     object\n",
       "2            description    object     object\n",
       "13    engineDisplacement    object     object\n",
       "10           enginePower    object    float64\n",
       "1               fuelType    object     object\n",
       "12               mileage     int64      int64\n",
       "17             modelDate     int64    float64\n",
       "7                   name    object     object\n",
       "14         numberOfDoors     int64    float64\n",
       "18        productionDate     int64      int64\n",
       "15  vehicleConfiguration    object     object\n",
       "11   vehicleTransmission    object     object\n",
       "9              Владельцы    object    float64\n",
       "6               Владение    object     object\n",
       "16                   ПТС    object     object\n",
       "20                Привод    object     object\n",
       "4                   Руль    object     object\n",
       "19             Состояние    object    float64\n",
       "0                Таможня    object       bool"
      ]
     },
     "execution_count": 634,
     "metadata": {},
     "output_type": "execute_result"
    }
   ],
   "source": [
    "#Датафрейм со сравнением типов данных\n",
    "index_list = test_mod[common_columns].dtypes.index.to_list()\n",
    "test_list = test_mod[common_columns].dtypes.values.tolist()\n",
    "train_list = train_mod[common_columns].dtypes.values.tolist()\n",
    "\n",
    "dict_comparison = {\n",
    "    'title': index_list,\n",
    "    'test_type': test_list,\n",
    "    'train_type': train_list\n",
    "}\n",
    "\n",
    "comparison = pd.DataFrame(dict_comparison)\n",
    "comparison.sort_values('title')"
   ]
  },
  {
   "cell_type": "code",
   "execution_count": 635,
   "metadata": {},
   "outputs": [],
   "source": [
    "#Функция для просмотра и сравнения типов данных в столбцах\n",
    "def type_comparison(column):\n",
    "    print('TEST')\n",
    "    display(test_mod[column].sample(5))\n",
    "    print('TRAIN')\n",
    "    display(train_mod[column].sample(5))  "
   ]
  },
  {
   "cell_type": "markdown",
   "metadata": {},
   "source": [
    "## bodyType"
   ]
  },
  {
   "cell_type": "code",
   "execution_count": 636,
   "metadata": {
    "scrolled": true
   },
   "outputs": [
    {
     "name": "stdout",
     "output_type": "stream",
     "text": [
      "TEST\n"
     ]
    },
    {
     "data": {
      "text/plain": [
       "16358    хэтчбек 5 дв.\n",
       "6327             седан\n",
       "16229            седан\n",
       "9349     хэтчбек 5 дв.\n",
       "10028          лифтбек\n",
       "Name: bodyType, dtype: object"
      ]
     },
     "metadata": {},
     "output_type": "display_data"
    },
    {
     "name": "stdout",
     "output_type": "stream",
     "text": [
      "TRAIN\n"
     ]
    },
    {
     "data": {
      "text/plain": [
       "1768                 Седан\n",
       "44597    Внедорожник 5 дв.\n",
       "78039      Универсал 5 дв.\n",
       "61105              Лифтбек\n",
       "67370    Внедорожник 5 дв.\n",
       "Name: bodyType, dtype: object"
      ]
     },
     "metadata": {},
     "output_type": "display_data"
    }
   ],
   "source": [
    "column = 'bodyType'\n",
    "type_comparison(column)"
   ]
  },
  {
   "cell_type": "markdown",
   "metadata": {},
   "source": [
    "Необходимо привести данные к единому формату и убрать из значений кол-во дверей"
   ]
  },
  {
   "cell_type": "markdown",
   "metadata": {},
   "source": [
    "## color"
   ]
  },
  {
   "cell_type": "code",
   "execution_count": 637,
   "metadata": {
    "scrolled": true
   },
   "outputs": [
    {
     "name": "stdout",
     "output_type": "stream",
     "text": [
      "TEST\n"
     ]
    },
    {
     "data": {
      "text/plain": [
       "32896        бежевый\n",
       "29877        зелёный\n",
       "32952    серебристый\n",
       "10359        бежевый\n",
       "26726        бежевый\n",
       "Name: color, dtype: object"
      ]
     },
     "metadata": {},
     "output_type": "display_data"
    },
    {
     "name": "stdout",
     "output_type": "stream",
     "text": [
      "TRAIN\n"
     ]
    },
    {
     "data": {
      "text/plain": [
       "63694    040001\n",
       "64900    97948F\n",
       "57683    200204\n",
       "75610    97948F\n",
       "11779    EE1D19\n",
       "Name: color, dtype: object"
      ]
     },
     "metadata": {},
     "output_type": "display_data"
    }
   ],
   "source": [
    "column = 'color'\n",
    "type_comparison(column)"
   ]
  },
  {
   "cell_type": "markdown",
   "metadata": {},
   "source": [
    "Здесь также требуется приведение к единому формату"
   ]
  },
  {
   "cell_type": "markdown",
   "metadata": {},
   "source": [
    "## description"
   ]
  },
  {
   "cell_type": "code",
   "execution_count": 638,
   "metadata": {
    "scrolled": true
   },
   "outputs": [
    {
     "name": "stdout",
     "output_type": "stream",
     "text": [
      "TEST\n"
     ]
    },
    {
     "data": {
      "text/plain": [
       "2747     • Автомобиль проверен по 110 пунктам\\n• Автокр...\n",
       "18656    Официальный дилер Mercedes-Benz \\nООО «РОЛЬФ» ...\n",
       "32019    Комфорт: 9. Безопасность: 5. Обзор: 2. Салон: ...\n",
       "1708     Безопасность: 1. Салон: 2. Комфорт: 3. Защита ...\n",
       "19325    Автомобиль в прекрасном состоянии всё работает...\n",
       "Name: description, dtype: object"
      ]
     },
     "metadata": {},
     "output_type": "display_data"
    },
    {
     "name": "stdout",
     "output_type": "stream",
     "text": [
      "TRAIN\n"
     ]
    },
    {
     "data": {
      "text/plain": [
       "68999    Тойота Центр Лосиный Остров - дилерский центр ...\n",
       "25762    ТО пройдено 16.09.2019 . ВСЕ ВОПРОСЫ ПО ТЕЛЕФО...\n",
       "87489    Авто радует, как и расход. Все работает (пневм...\n",
       "58228    Воспользуйтесь системами TRADE-IN и кредитован...\n",
       "25064    коцки по кузову, на ходу. коробка переключаетс...\n",
       "Name: description, dtype: object"
      ]
     },
     "metadata": {},
     "output_type": "display_data"
    }
   ],
   "source": [
    "column = 'description'\n",
    "type_comparison(column)"
   ]
  },
  {
   "cell_type": "markdown",
   "metadata": {},
   "source": [
    "Пока неясно можно ли как-либо использовать этот столбец"
   ]
  },
  {
   "cell_type": "markdown",
   "metadata": {},
   "source": [
    "## engineDisplacement"
   ]
  },
  {
   "cell_type": "code",
   "execution_count": 639,
   "metadata": {},
   "outputs": [
    {
     "name": "stdout",
     "output_type": "stream",
     "text": [
      "TEST\n"
     ]
    },
    {
     "data": {
      "text/plain": [
       "21880    3.5 LTR\n",
       "30628    3.0 LTR\n",
       "1952     1.4 LTR\n",
       "19899    2.8 LTR\n",
       "27776    2.0 LTR\n",
       "Name: engineDisplacement, dtype: object"
      ]
     },
     "metadata": {},
     "output_type": "display_data"
    },
    {
     "name": "stdout",
     "output_type": "stream",
     "text": [
      "TRAIN\n"
     ]
    },
    {
     "data": {
      "text/plain": [
       "53335     1.4\n",
       "7674     650i\n",
       "3533     2.0d\n",
       "74171     1.2\n",
       "70096     1.6\n",
       "Name: engineDisplacement, dtype: object"
      ]
     },
     "metadata": {},
     "output_type": "display_data"
    }
   ],
   "source": [
    "column = 'engineDisplacement'\n",
    "type_comparison(column)"
   ]
  },
  {
   "cell_type": "markdown",
   "metadata": {},
   "source": [
    "Необходимо привести данные к единому формату"
   ]
  },
  {
   "cell_type": "code",
   "execution_count": 640,
   "metadata": {},
   "outputs": [],
   "source": [
    "#Преобразование\n",
    "def GetEngineDisplacement(x):\n",
    "    row = str(x)\n",
    "    engine = re.findall('\\d\\.\\d', row)\n",
    "    if engine == []:\n",
    "        return None\n",
    "    return float(engine[0])\n",
    "\n",
    "train_mod['engineDisplacement'] = train_mod['engineDisplacement'].map(GetEngineDisplacement)\n",
    "test_mod['engineDisplacement'] = test_mod['engineDisplacement'].map(GetEngineDisplacement)"
   ]
  },
  {
   "cell_type": "code",
   "execution_count": 641,
   "metadata": {},
   "outputs": [
    {
     "name": "stdout",
     "output_type": "stream",
     "text": [
      "TEST\n"
     ]
    },
    {
     "data": {
      "text/plain": [
       "24128    2.5\n",
       "26998    1.6\n",
       "15669    3.5\n",
       "23275    2.0\n",
       "33722    3.0\n",
       "Name: engineDisplacement, dtype: float64"
      ]
     },
     "metadata": {},
     "output_type": "display_data"
    },
    {
     "name": "stdout",
     "output_type": "stream",
     "text": [
      "TRAIN\n"
     ]
    },
    {
     "data": {
      "text/plain": [
       "3622     4.1\n",
       "30453    2.5\n",
       "78707    2.0\n",
       "86671    NaN\n",
       "73536    1.6\n",
       "Name: engineDisplacement, dtype: float64"
      ]
     },
     "metadata": {},
     "output_type": "display_data"
    }
   ],
   "source": [
    "column = 'engineDisplacement'\n",
    "type_comparison(column)"
   ]
  },
  {
   "cell_type": "markdown",
   "metadata": {},
   "source": [
    "После преобразования в столбцах появились пропуски"
   ]
  },
  {
   "cell_type": "code",
   "execution_count": 642,
   "metadata": {},
   "outputs": [
    {
     "data": {
      "text/html": [
       "<div>\n",
       "<style scoped>\n",
       "    .dataframe tbody tr th:only-of-type {\n",
       "        vertical-align: middle;\n",
       "    }\n",
       "\n",
       "    .dataframe tbody tr th {\n",
       "        vertical-align: top;\n",
       "    }\n",
       "\n",
       "    .dataframe thead th {\n",
       "        text-align: right;\n",
       "    }\n",
       "</style>\n",
       "<table border=\"1\" class=\"dataframe\">\n",
       "  <thead>\n",
       "    <tr style=\"text-align: right;\">\n",
       "      <th></th>\n",
       "      <th>bodyType</th>\n",
       "      <th>brand</th>\n",
       "      <th>car_url</th>\n",
       "      <th>color</th>\n",
       "      <th>complectation_dict</th>\n",
       "      <th>description</th>\n",
       "      <th>engineDisplacement</th>\n",
       "      <th>enginePower</th>\n",
       "      <th>equipment_dict</th>\n",
       "      <th>fuelType</th>\n",
       "      <th>...</th>\n",
       "      <th>vehicleConfiguration</th>\n",
       "      <th>vehicleTransmission</th>\n",
       "      <th>vendor</th>\n",
       "      <th>Владельцы</th>\n",
       "      <th>Владение</th>\n",
       "      <th>ПТС</th>\n",
       "      <th>Привод</th>\n",
       "      <th>Руль</th>\n",
       "      <th>Состояние</th>\n",
       "      <th>Таможня</th>\n",
       "    </tr>\n",
       "  </thead>\n",
       "  <tbody>\n",
       "    <tr>\n",
       "      <th>5241</th>\n",
       "      <td>внедорожник 5 дв.</td>\n",
       "      <td>AUDI</td>\n",
       "      <td>https://auto.ru/cars/used/sale/audi/e_tron/110...</td>\n",
       "      <td>белый</td>\n",
       "      <td>NaN</td>\n",
       "      <td>Audi e-tron Prestige quattro от Moscow Tesla C...</td>\n",
       "      <td>NaN</td>\n",
       "      <td>408 N12</td>\n",
       "      <td>{\"asr\":true,\"esp\":true,\"usb\":true,\"e-adjustmen...</td>\n",
       "      <td>электро</td>\n",
       "      <td>...</td>\n",
       "      <td>ALLROAD_5_DOORS AUTOMATIC</td>\n",
       "      <td>автоматическая</td>\n",
       "      <td>EUROPEAN</td>\n",
       "      <td>1 владелец</td>\n",
       "      <td>1 год и 3 месяца</td>\n",
       "      <td>Оригинал</td>\n",
       "      <td>полный</td>\n",
       "      <td>Левый</td>\n",
       "      <td>Не требует ремонта</td>\n",
       "      <td>Растаможен</td>\n",
       "    </tr>\n",
       "    <tr>\n",
       "      <th>7992</th>\n",
       "      <td>хэтчбек 5 дв.</td>\n",
       "      <td>BMW</td>\n",
       "      <td>https://auto.ru/cars/used/sale/bmw/i3/11010431...</td>\n",
       "      <td>синий</td>\n",
       "      <td>NaN</td>\n",
       "      <td>Атомобиль из Германии,без пробега по РФ.\\nНа г...</td>\n",
       "      <td>NaN</td>\n",
       "      <td>170 N12</td>\n",
       "      <td>NaN</td>\n",
       "      <td>электро</td>\n",
       "      <td>...</td>\n",
       "      <td>HATCHBACK_5_DOORS AUTOMATIC</td>\n",
       "      <td>автоматическая</td>\n",
       "      <td>EUROPEAN</td>\n",
       "      <td>1 владелец</td>\n",
       "      <td>NaN</td>\n",
       "      <td>Оригинал</td>\n",
       "      <td>задний</td>\n",
       "      <td>Левый</td>\n",
       "      <td>Не требует ремонта</td>\n",
       "      <td>Растаможен</td>\n",
       "    </tr>\n",
       "    <tr>\n",
       "      <th>8252</th>\n",
       "      <td>хэтчбек 5 дв.</td>\n",
       "      <td>BMW</td>\n",
       "      <td>https://auto.ru/cars/used/sale/bmw/i3/11012780...</td>\n",
       "      <td>серый</td>\n",
       "      <td>NaN</td>\n",
       "      <td>Пробег 54000 км, запас хода на зарядке 130 км+...</td>\n",
       "      <td>NaN</td>\n",
       "      <td>170 N12</td>\n",
       "      <td>{\"park-assist-f\":true,\"park-assist-r\":true}</td>\n",
       "      <td>электро</td>\n",
       "      <td>...</td>\n",
       "      <td>HATCHBACK_5_DOORS AUTOMATIC</td>\n",
       "      <td>автоматическая</td>\n",
       "      <td>EUROPEAN</td>\n",
       "      <td>1 владелец</td>\n",
       "      <td>1 месяц</td>\n",
       "      <td>Оригинал</td>\n",
       "      <td>задний</td>\n",
       "      <td>Левый</td>\n",
       "      <td>Не требует ремонта</td>\n",
       "      <td>Растаможен</td>\n",
       "    </tr>\n",
       "    <tr>\n",
       "      <th>8350</th>\n",
       "      <td>хэтчбек 5 дв.</td>\n",
       "      <td>BMW</td>\n",
       "      <td>https://auto.ru/cars/used/sale/bmw/i3/11002716...</td>\n",
       "      <td>белый</td>\n",
       "      <td>{\"id\":\"21624597\",\"name\":\"i3 120 Ah\",\"available...</td>\n",
       "      <td>Автомобиль в наличии Москве , с ПТС , производ...</td>\n",
       "      <td>NaN</td>\n",
       "      <td>170 N12</td>\n",
       "      <td>{\"cruise-control\":true,\"asr\":true,\"esp\":true,\"...</td>\n",
       "      <td>электро</td>\n",
       "      <td>...</td>\n",
       "      <td>HATCHBACK_5_DOORS AUTOMATIC</td>\n",
       "      <td>автоматическая</td>\n",
       "      <td>EUROPEAN</td>\n",
       "      <td>1 владелец</td>\n",
       "      <td>NaN</td>\n",
       "      <td>Оригинал</td>\n",
       "      <td>задний</td>\n",
       "      <td>Левый</td>\n",
       "      <td>Не требует ремонта</td>\n",
       "      <td>Растаможен</td>\n",
       "    </tr>\n",
       "    <tr>\n",
       "      <th>8684</th>\n",
       "      <td>хэтчбек 5 дв.</td>\n",
       "      <td>BMW</td>\n",
       "      <td>https://auto.ru/cars/used/sale/bmw/i3/11011745...</td>\n",
       "      <td>чёрный</td>\n",
       "      <td>NaN</td>\n",
       "      <td>BMW I 3 REX\\nфевраль 2017 года выпуска.\\nПриоб...</td>\n",
       "      <td>NaN</td>\n",
       "      <td>170 N12</td>\n",
       "      <td>{\"cruise-control\":true,\"glonass\":true,\"navigat...</td>\n",
       "      <td>электро</td>\n",
       "      <td>...</td>\n",
       "      <td>HATCHBACK_5_DOORS AUTOMATIC</td>\n",
       "      <td>автоматическая</td>\n",
       "      <td>EUROPEAN</td>\n",
       "      <td>1 владелец</td>\n",
       "      <td>NaN</td>\n",
       "      <td>Оригинал</td>\n",
       "      <td>задний</td>\n",
       "      <td>Левый</td>\n",
       "      <td>Не требует ремонта</td>\n",
       "      <td>Растаможен</td>\n",
       "    </tr>\n",
       "    <tr>\n",
       "      <th>8722</th>\n",
       "      <td>хэтчбек 5 дв.</td>\n",
       "      <td>BMW</td>\n",
       "      <td>https://auto.ru/cars/used/sale/bmw/i3/11000973...</td>\n",
       "      <td>голубой</td>\n",
       "      <td>NaN</td>\n",
       "      <td>\\nПрибыло из Америки в августе 2020 года. Полн...</td>\n",
       "      <td>NaN</td>\n",
       "      <td>170 N12</td>\n",
       "      <td>NaN</td>\n",
       "      <td>электро</td>\n",
       "      <td>...</td>\n",
       "      <td>HATCHBACK_5_DOORS AUTOMATIC</td>\n",
       "      <td>автоматическая</td>\n",
       "      <td>EUROPEAN</td>\n",
       "      <td>1 владелец</td>\n",
       "      <td>NaN</td>\n",
       "      <td>Оригинал</td>\n",
       "      <td>задний</td>\n",
       "      <td>Левый</td>\n",
       "      <td>Не требует ремонта</td>\n",
       "      <td>Растаможен</td>\n",
       "    </tr>\n",
       "    <tr>\n",
       "      <th>8917</th>\n",
       "      <td>хэтчбек 5 дв.</td>\n",
       "      <td>BMW</td>\n",
       "      <td>https://auto.ru/cars/used/sale/bmw/i3/11008715...</td>\n",
       "      <td>бежевый</td>\n",
       "      <td>NaN</td>\n",
       "      <td>-Состояние нового автомобиля .\\n-Carfax вся ис...</td>\n",
       "      <td>NaN</td>\n",
       "      <td>170 N12</td>\n",
       "      <td>{\"glonass\":true,\"roof-rails\":true}</td>\n",
       "      <td>электро</td>\n",
       "      <td>...</td>\n",
       "      <td>HATCHBACK_5_DOORS AUTOMATIC</td>\n",
       "      <td>автоматическая</td>\n",
       "      <td>EUROPEAN</td>\n",
       "      <td>1 владелец</td>\n",
       "      <td>NaN</td>\n",
       "      <td>Оригинал</td>\n",
       "      <td>задний</td>\n",
       "      <td>Левый</td>\n",
       "      <td>Не требует ремонта</td>\n",
       "      <td>Растаможен</td>\n",
       "    </tr>\n",
       "    <tr>\n",
       "      <th>10817</th>\n",
       "      <td>хэтчбек 5 дв.</td>\n",
       "      <td>BMW</td>\n",
       "      <td>https://auto.ru/cars/used/sale/bmw/i3/11012664...</td>\n",
       "      <td>серый</td>\n",
       "      <td>NaN</td>\n",
       "      <td>Продаю BMW I3 +REX .\\n\\nПолноценный электромоб...</td>\n",
       "      <td>NaN</td>\n",
       "      <td>170 N12</td>\n",
       "      <td>NaN</td>\n",
       "      <td>электро</td>\n",
       "      <td>...</td>\n",
       "      <td>HATCHBACK_5_DOORS AUTOMATIC</td>\n",
       "      <td>автоматическая</td>\n",
       "      <td>EUROPEAN</td>\n",
       "      <td>1 владелец</td>\n",
       "      <td>NaN</td>\n",
       "      <td>Оригинал</td>\n",
       "      <td>задний</td>\n",
       "      <td>Левый</td>\n",
       "      <td>Не требует ремонта</td>\n",
       "      <td>Растаможен</td>\n",
       "    </tr>\n",
       "    <tr>\n",
       "      <th>10936</th>\n",
       "      <td>хэтчбек 5 дв.</td>\n",
       "      <td>BMW</td>\n",
       "      <td>https://auto.ru/cars/used/sale/bmw/i3/10996733...</td>\n",
       "      <td>чёрный</td>\n",
       "      <td>NaN</td>\n",
       "      <td>Автомобиль BMW i3 (полностью электрический )за...</td>\n",
       "      <td>NaN</td>\n",
       "      <td>170 N12</td>\n",
       "      <td>{\"cruise-control\":true,\"asr\":true,\"tinted-glas...</td>\n",
       "      <td>электро</td>\n",
       "      <td>...</td>\n",
       "      <td>HATCHBACK_5_DOORS AUTOMATIC</td>\n",
       "      <td>автоматическая</td>\n",
       "      <td>EUROPEAN</td>\n",
       "      <td>1 владелец</td>\n",
       "      <td>NaN</td>\n",
       "      <td>Оригинал</td>\n",
       "      <td>задний</td>\n",
       "      <td>Левый</td>\n",
       "      <td>Не требует ремонта</td>\n",
       "      <td>Растаможен</td>\n",
       "    </tr>\n",
       "    <tr>\n",
       "      <th>11043</th>\n",
       "      <td>хэтчбек 5 дв.</td>\n",
       "      <td>BMW</td>\n",
       "      <td>https://auto.ru/cars/used/sale/bmw/i3/10993761...</td>\n",
       "      <td>серый</td>\n",
       "      <td>NaN</td>\n",
       "      <td>Состояние нового автомобиля . \\nФото ИМЕННО ЭТ...</td>\n",
       "      <td>NaN</td>\n",
       "      <td>170 N12</td>\n",
       "      <td>{\"glonass\":true,\"airbag-driver\":true,\"aux\":tru...</td>\n",
       "      <td>электро</td>\n",
       "      <td>...</td>\n",
       "      <td>HATCHBACK_5_DOORS AUTOMATIC</td>\n",
       "      <td>автоматическая</td>\n",
       "      <td>EUROPEAN</td>\n",
       "      <td>1 владелец</td>\n",
       "      <td>8 месяцев</td>\n",
       "      <td>Оригинал</td>\n",
       "      <td>задний</td>\n",
       "      <td>Левый</td>\n",
       "      <td>Не требует ремонта</td>\n",
       "      <td>Растаможен</td>\n",
       "    </tr>\n",
       "    <tr>\n",
       "      <th>11302</th>\n",
       "      <td>хэтчбек 5 дв.</td>\n",
       "      <td>NISSAN</td>\n",
       "      <td>https://auto.ru/cars/used/sale/nissan/leaf/110...</td>\n",
       "      <td>голубой</td>\n",
       "      <td>NaN</td>\n",
       "      <td>Безопасность: 10. Салон: 4. Комфорт: 12. Мульт...</td>\n",
       "      <td>NaN</td>\n",
       "      <td>109 N12</td>\n",
       "      <td>{\"asr\":true,\"tinted-glass\":true,\"start-stop-fu...</td>\n",
       "      <td>электро</td>\n",
       "      <td>...</td>\n",
       "      <td>HATCHBACK_5_DOORS AUTOMATIC</td>\n",
       "      <td>автоматическая</td>\n",
       "      <td>JAPANESE</td>\n",
       "      <td>3 или более</td>\n",
       "      <td>NaN</td>\n",
       "      <td>Оригинал</td>\n",
       "      <td>передний</td>\n",
       "      <td>Левый</td>\n",
       "      <td>Не требует ремонта</td>\n",
       "      <td>Растаможен</td>\n",
       "    </tr>\n",
       "    <tr>\n",
       "      <th>11682</th>\n",
       "      <td>хэтчбек 5 дв.</td>\n",
       "      <td>NISSAN</td>\n",
       "      <td>https://auto.ru/cars/used/sale/nissan/leaf/110...</td>\n",
       "      <td>белый</td>\n",
       "      <td>NaN</td>\n",
       "      <td>Продаю авто без пробега по РФ.\\nМаксимальная к...</td>\n",
       "      <td>NaN</td>\n",
       "      <td>150 N12</td>\n",
       "      <td>{\"tinted-glass\":true,\"esp\":true,\"adaptive-ligh...</td>\n",
       "      <td>электро</td>\n",
       "      <td>...</td>\n",
       "      <td>HATCHBACK_5_DOORS AUTOMATIC</td>\n",
       "      <td>автоматическая</td>\n",
       "      <td>JAPANESE</td>\n",
       "      <td>1 владелец</td>\n",
       "      <td>2 месяца</td>\n",
       "      <td>Оригинал</td>\n",
       "      <td>передний</td>\n",
       "      <td>Левый</td>\n",
       "      <td>Не требует ремонта</td>\n",
       "      <td>Растаможен</td>\n",
       "    </tr>\n",
       "    <tr>\n",
       "      <th>11714</th>\n",
       "      <td>хэтчбек 5 дв.</td>\n",
       "      <td>NISSAN</td>\n",
       "      <td>https://auto.ru/cars/used/sale/nissan/leaf/109...</td>\n",
       "      <td>белый</td>\n",
       "      <td>NaN</td>\n",
       "      <td>Комплектация G\\nБатарея 40 кВт\\n\\n- PRO- PILOT...</td>\n",
       "      <td>NaN</td>\n",
       "      <td>150 N12</td>\n",
       "      <td>{\"collision-prevention-assist\":true,\"led-light...</td>\n",
       "      <td>электро</td>\n",
       "      <td>...</td>\n",
       "      <td>HATCHBACK_5_DOORS AUTOMATIC</td>\n",
       "      <td>автоматическая</td>\n",
       "      <td>JAPANESE</td>\n",
       "      <td>1 владелец</td>\n",
       "      <td>NaN</td>\n",
       "      <td>Оригинал</td>\n",
       "      <td>передний</td>\n",
       "      <td>Правый</td>\n",
       "      <td>Не требует ремонта</td>\n",
       "      <td>Растаможен</td>\n",
       "    </tr>\n",
       "    <tr>\n",
       "      <th>11719</th>\n",
       "      <td>хэтчбек 5 дв.</td>\n",
       "      <td>NISSAN</td>\n",
       "      <td>https://auto.ru/cars/used/sale/nissan/leaf/109...</td>\n",
       "      <td>белый</td>\n",
       "      <td>NaN</td>\n",
       "      <td>Автомобиль с аукциона! НЕ РЫНОК!!!! (аукционны...</td>\n",
       "      <td>NaN</td>\n",
       "      <td>109 N12</td>\n",
       "      <td>NaN</td>\n",
       "      <td>электро</td>\n",
       "      <td>...</td>\n",
       "      <td>HATCHBACK_5_DOORS AUTOMATIC</td>\n",
       "      <td>автоматическая</td>\n",
       "      <td>JAPANESE</td>\n",
       "      <td>1 владелец</td>\n",
       "      <td>5 месяцев</td>\n",
       "      <td>Оригинал</td>\n",
       "      <td>передний</td>\n",
       "      <td>Правый</td>\n",
       "      <td>Не требует ремонта</td>\n",
       "      <td>Растаможен</td>\n",
       "    </tr>\n",
       "    <tr>\n",
       "      <th>11754</th>\n",
       "      <td>хэтчбек 5 дв.</td>\n",
       "      <td>NISSAN</td>\n",
       "      <td>https://auto.ru/cars/used/sale/nissan/leaf/110...</td>\n",
       "      <td>белый</td>\n",
       "      <td>NaN</td>\n",
       "      <td>Продаю электромобиль ниссан лиаф 2011г пробег1...</td>\n",
       "      <td>NaN</td>\n",
       "      <td>109 N12</td>\n",
       "      <td>{\"cruise-control\":true,\"start-button\":true,\"ra...</td>\n",
       "      <td>электро</td>\n",
       "      <td>...</td>\n",
       "      <td>HATCHBACK_5_DOORS AUTOMATIC</td>\n",
       "      <td>автоматическая</td>\n",
       "      <td>JAPANESE</td>\n",
       "      <td>2 владельца</td>\n",
       "      <td>NaN</td>\n",
       "      <td>Оригинал</td>\n",
       "      <td>передний</td>\n",
       "      <td>Правый</td>\n",
       "      <td>Не требует ремонта</td>\n",
       "      <td>Растаможен</td>\n",
       "    </tr>\n",
       "    <tr>\n",
       "      <th>11878</th>\n",
       "      <td>хэтчбек 5 дв.</td>\n",
       "      <td>NISSAN</td>\n",
       "      <td>https://auto.ru/cars/used/sale/nissan/leaf/110...</td>\n",
       "      <td>серебристый</td>\n",
       "      <td>NaN</td>\n",
       "      <td>Оригинальный ПТС.  \\nАвто декабрь 2013 года \\n...</td>\n",
       "      <td>NaN</td>\n",
       "      <td>109 N12</td>\n",
       "      <td>{\"asr\":true,\"glonass\":true,\"tinted-glass\":true...</td>\n",
       "      <td>электро</td>\n",
       "      <td>...</td>\n",
       "      <td>HATCHBACK_5_DOORS AUTOMATIC</td>\n",
       "      <td>автоматическая</td>\n",
       "      <td>JAPANESE</td>\n",
       "      <td>1 владелец</td>\n",
       "      <td>NaN</td>\n",
       "      <td>Оригинал</td>\n",
       "      <td>передний</td>\n",
       "      <td>Левый</td>\n",
       "      <td>Не требует ремонта</td>\n",
       "      <td>Растаможен</td>\n",
       "    </tr>\n",
       "    <tr>\n",
       "      <th>11974</th>\n",
       "      <td>хэтчбек 5 дв.</td>\n",
       "      <td>NISSAN</td>\n",
       "      <td>https://auto.ru/cars/used/sale/nissan/leaf/108...</td>\n",
       "      <td>чёрный</td>\n",
       "      <td>NaN</td>\n",
       "      <td>Всё работает ,батарея  48 кВт-120км +120км све...</td>\n",
       "      <td>NaN</td>\n",
       "      <td>109 N12</td>\n",
       "      <td>{\"asr\":true,\"tinted-glass\":true,\"esp\":true,\"ai...</td>\n",
       "      <td>электро</td>\n",
       "      <td>...</td>\n",
       "      <td>HATCHBACK_5_DOORS AUTOMATIC</td>\n",
       "      <td>автоматическая</td>\n",
       "      <td>JAPANESE</td>\n",
       "      <td>1 владелец</td>\n",
       "      <td>3 года и 8 месяцев</td>\n",
       "      <td>Оригинал</td>\n",
       "      <td>передний</td>\n",
       "      <td>Правый</td>\n",
       "      <td>Не требует ремонта</td>\n",
       "      <td>Растаможен</td>\n",
       "    </tr>\n",
       "    <tr>\n",
       "      <th>12072</th>\n",
       "      <td>хэтчбек 5 дв.</td>\n",
       "      <td>NISSAN</td>\n",
       "      <td>https://auto.ru/cars/used/sale/nissan/leaf/110...</td>\n",
       "      <td>чёрный</td>\n",
       "      <td>NaN</td>\n",
       "      <td>Продаю Nissan Leaf 2012 года выпуска. Данный а...</td>\n",
       "      <td>NaN</td>\n",
       "      <td>109 N12</td>\n",
       "      <td>NaN</td>\n",
       "      <td>электро</td>\n",
       "      <td>...</td>\n",
       "      <td>HATCHBACK_5_DOORS AUTOMATIC</td>\n",
       "      <td>автоматическая</td>\n",
       "      <td>JAPANESE</td>\n",
       "      <td>3 или более</td>\n",
       "      <td>9 месяцев</td>\n",
       "      <td>Оригинал</td>\n",
       "      <td>передний</td>\n",
       "      <td>Правый</td>\n",
       "      <td>Не требует ремонта</td>\n",
       "      <td>Растаможен</td>\n",
       "    </tr>\n",
       "    <tr>\n",
       "      <th>12085</th>\n",
       "      <td>хэтчбек 5 дв.</td>\n",
       "      <td>NISSAN</td>\n",
       "      <td>https://auto.ru/cars/used/sale/nissan/leaf/109...</td>\n",
       "      <td>голубой</td>\n",
       "      <td>NaN</td>\n",
       "      <td>Электpомобиль Nissan Leаf  из США( северный шт...</td>\n",
       "      <td>NaN</td>\n",
       "      <td>109 N12</td>\n",
       "      <td>{\"cruise-control\":true,\"esp\":true,\"start-stop-...</td>\n",
       "      <td>электро</td>\n",
       "      <td>...</td>\n",
       "      <td>HATCHBACK_5_DOORS AUTOMATIC</td>\n",
       "      <td>автоматическая</td>\n",
       "      <td>JAPANESE</td>\n",
       "      <td>1 владелец</td>\n",
       "      <td>1 год и 6 месяцев</td>\n",
       "      <td>Оригинал</td>\n",
       "      <td>передний</td>\n",
       "      <td>Левый</td>\n",
       "      <td>Не требует ремонта</td>\n",
       "      <td>Растаможен</td>\n",
       "    </tr>\n",
       "    <tr>\n",
       "      <th>12100</th>\n",
       "      <td>хэтчбек 5 дв.</td>\n",
       "      <td>NISSAN</td>\n",
       "      <td>https://auto.ru/cars/used/sale/nissan/leaf/109...</td>\n",
       "      <td>серый</td>\n",
       "      <td>NaN</td>\n",
       "      <td>Leaf 30x Aero style. 30 квт.ч. 12 палок.\\nконт...</td>\n",
       "      <td>NaN</td>\n",
       "      <td>109 N12</td>\n",
       "      <td>{\"tinted-glass\":true,\"esp\":true,\"aux\":true,\"us...</td>\n",
       "      <td>электро</td>\n",
       "      <td>...</td>\n",
       "      <td>HATCHBACK_5_DOORS AUTOMATIC</td>\n",
       "      <td>автоматическая</td>\n",
       "      <td>JAPANESE</td>\n",
       "      <td>1 владелец</td>\n",
       "      <td>1 год и 3 месяца</td>\n",
       "      <td>Оригинал</td>\n",
       "      <td>передний</td>\n",
       "      <td>Правый</td>\n",
       "      <td>Не требует ремонта</td>\n",
       "      <td>Растаможен</td>\n",
       "    </tr>\n",
       "    <tr>\n",
       "      <th>12250</th>\n",
       "      <td>хэтчбек 5 дв.</td>\n",
       "      <td>NISSAN</td>\n",
       "      <td>https://auto.ru/cars/used/sale/nissan/leaf/109...</td>\n",
       "      <td>серый</td>\n",
       "      <td>NaN</td>\n",
       "      <td>Электромобиль в отличном состоянии,  пробег на...</td>\n",
       "      <td>NaN</td>\n",
       "      <td>109 N12</td>\n",
       "      <td>{\"engine-proof\":true,\"glonass\":true,\"tinted-gl...</td>\n",
       "      <td>электро</td>\n",
       "      <td>...</td>\n",
       "      <td>HATCHBACK_5_DOORS AUTOMATIC</td>\n",
       "      <td>автоматическая</td>\n",
       "      <td>JAPANESE</td>\n",
       "      <td>1 владелец</td>\n",
       "      <td>9 месяцев</td>\n",
       "      <td>Оригинал</td>\n",
       "      <td>передний</td>\n",
       "      <td>Правый</td>\n",
       "      <td>Не требует ремонта</td>\n",
       "      <td>Растаможен</td>\n",
       "    </tr>\n",
       "    <tr>\n",
       "      <th>12287</th>\n",
       "      <td>хэтчбек 5 дв.</td>\n",
       "      <td>NISSAN</td>\n",
       "      <td>https://auto.ru/cars/used/sale/nissan/leaf/109...</td>\n",
       "      <td>голубой</td>\n",
       "      <td>NaN</td>\n",
       "      <td>Продается Ниссан Leaf в полная комплектация(кр...</td>\n",
       "      <td>NaN</td>\n",
       "      <td>109 N12</td>\n",
       "      <td>{\"glonass\":true,\"esp\":true,\"aux\":true,\"usb\":tr...</td>\n",
       "      <td>электро</td>\n",
       "      <td>...</td>\n",
       "      <td>HATCHBACK_5_DOORS AUTOMATIC</td>\n",
       "      <td>автоматическая</td>\n",
       "      <td>JAPANESE</td>\n",
       "      <td>1 владелец</td>\n",
       "      <td>NaN</td>\n",
       "      <td>Оригинал</td>\n",
       "      <td>передний</td>\n",
       "      <td>Левый</td>\n",
       "      <td>Не требует ремонта</td>\n",
       "      <td>Растаможен</td>\n",
       "    </tr>\n",
       "    <tr>\n",
       "      <th>12334</th>\n",
       "      <td>хэтчбек 5 дв.</td>\n",
       "      <td>NISSAN</td>\n",
       "      <td>https://auto.ru/cars/used/sale/nissan/leaf/110...</td>\n",
       "      <td>чёрный</td>\n",
       "      <td>NaN</td>\n",
       "      <td>Продаю своего друга! Очень хорошая машина! Рад...</td>\n",
       "      <td>NaN</td>\n",
       "      <td>109 N12</td>\n",
       "      <td>{\"engine-proof\":true,\"cruise-control\":true,\"ti...</td>\n",
       "      <td>электро</td>\n",
       "      <td>...</td>\n",
       "      <td>HATCHBACK_5_DOORS AUTOMATIC</td>\n",
       "      <td>автоматическая</td>\n",
       "      <td>JAPANESE</td>\n",
       "      <td>1 владелец</td>\n",
       "      <td>5 месяцев</td>\n",
       "      <td>Оригинал</td>\n",
       "      <td>передний</td>\n",
       "      <td>Правый</td>\n",
       "      <td>Не требует ремонта</td>\n",
       "      <td>Растаможен</td>\n",
       "    </tr>\n",
       "    <tr>\n",
       "      <th>12466</th>\n",
       "      <td>хэтчбек 5 дв.</td>\n",
       "      <td>NISSAN</td>\n",
       "      <td>https://auto.ru/cars/used/sale/nissan/leaf/110...</td>\n",
       "      <td>чёрный</td>\n",
       "      <td>NaN</td>\n",
       "      <td>Аукционный авто, батарея 30 квт., куплен в 201...</td>\n",
       "      <td>NaN</td>\n",
       "      <td>109 N12</td>\n",
       "      <td>{\"cruise-control\":true,\"asr\":true,\"tinted-glas...</td>\n",
       "      <td>электро</td>\n",
       "      <td>...</td>\n",
       "      <td>HATCHBACK_5_DOORS AUTOMATIC</td>\n",
       "      <td>автоматическая</td>\n",
       "      <td>JAPANESE</td>\n",
       "      <td>1 владелец</td>\n",
       "      <td>2 года и 2 месяца</td>\n",
       "      <td>Оригинал</td>\n",
       "      <td>передний</td>\n",
       "      <td>Правый</td>\n",
       "      <td>Не требует ремонта</td>\n",
       "      <td>Растаможен</td>\n",
       "    </tr>\n",
       "    <tr>\n",
       "      <th>12481</th>\n",
       "      <td>хэтчбек 5 дв.</td>\n",
       "      <td>NISSAN</td>\n",
       "      <td>https://auto.ru/cars/used/sale/nissan/leaf/110...</td>\n",
       "      <td>белый</td>\n",
       "      <td>NaN</td>\n",
       "      <td>АВТОМОБИЛЬ В МОСКВЕ.\\n\\nПривозил под себя, езж...</td>\n",
       "      <td>NaN</td>\n",
       "      <td>109 N12</td>\n",
       "      <td>{\"cruise-control\":true,\"tinted-glass\":true,\"es...</td>\n",
       "      <td>электро</td>\n",
       "      <td>...</td>\n",
       "      <td>HATCHBACK_5_DOORS AUTOMATIC</td>\n",
       "      <td>автоматическая</td>\n",
       "      <td>JAPANESE</td>\n",
       "      <td>1 владелец</td>\n",
       "      <td>5 месяцев</td>\n",
       "      <td>Оригинал</td>\n",
       "      <td>передний</td>\n",
       "      <td>Правый</td>\n",
       "      <td>Не требует ремонта</td>\n",
       "      <td>Растаможен</td>\n",
       "    </tr>\n",
       "    <tr>\n",
       "      <th>12558</th>\n",
       "      <td>хэтчбек 5 дв.</td>\n",
       "      <td>NISSAN</td>\n",
       "      <td>https://auto.ru/cars/used/sale/nissan/leaf/109...</td>\n",
       "      <td>серебристый</td>\n",
       "      <td>NaN</td>\n",
       "      <td>Продам nissan leaf 2011 года🚗\\nЦена за наличку...</td>\n",
       "      <td>NaN</td>\n",
       "      <td>109 N12</td>\n",
       "      <td>{\"cruise-control\":true,\"asr\":true,\"tinted-glas...</td>\n",
       "      <td>электро</td>\n",
       "      <td>...</td>\n",
       "      <td>HATCHBACK_5_DOORS AUTOMATIC</td>\n",
       "      <td>автоматическая</td>\n",
       "      <td>JAPANESE</td>\n",
       "      <td>1 владелец</td>\n",
       "      <td>1 год и 2 месяца</td>\n",
       "      <td>Оригинал</td>\n",
       "      <td>передний</td>\n",
       "      <td>Правый</td>\n",
       "      <td>Не требует ремонта</td>\n",
       "      <td>Растаможен</td>\n",
       "    </tr>\n",
       "    <tr>\n",
       "      <th>12582</th>\n",
       "      <td>хэтчбек 5 дв.</td>\n",
       "      <td>NISSAN</td>\n",
       "      <td>https://auto.ru/cars/used/sale/nissan/leaf/109...</td>\n",
       "      <td>белый</td>\n",
       "      <td>NaN</td>\n",
       "      <td>16 модельный год (изг. декабрь 2015) \\nПокупал...</td>\n",
       "      <td>NaN</td>\n",
       "      <td>109 N12</td>\n",
       "      <td>{\"cruise-control\":true,\"asr\":true,\"tinted-glas...</td>\n",
       "      <td>электро</td>\n",
       "      <td>...</td>\n",
       "      <td>HATCHBACK_5_DOORS AUTOMATIC</td>\n",
       "      <td>автоматическая</td>\n",
       "      <td>JAPANESE</td>\n",
       "      <td>1 владелец</td>\n",
       "      <td>2 года и 6 месяцев</td>\n",
       "      <td>Оригинал</td>\n",
       "      <td>передний</td>\n",
       "      <td>Правый</td>\n",
       "      <td>Не требует ремонта</td>\n",
       "      <td>Растаможен</td>\n",
       "    </tr>\n",
       "    <tr>\n",
       "      <th>12678</th>\n",
       "      <td>хэтчбек 5 дв.</td>\n",
       "      <td>NISSAN</td>\n",
       "      <td>https://auto.ru/cars/used/sale/nissan/leaf/109...</td>\n",
       "      <td>чёрный</td>\n",
       "      <td>NaN</td>\n",
       "      <td>- Я первый собственник, авто завезено в июле 2...</td>\n",
       "      <td>NaN</td>\n",
       "      <td>109 N12</td>\n",
       "      <td>{\"cruise-control\":true,\"esp\":true,\"airbag-driv...</td>\n",
       "      <td>электро</td>\n",
       "      <td>...</td>\n",
       "      <td>HATCHBACK_5_DOORS AUTOMATIC</td>\n",
       "      <td>автоматическая</td>\n",
       "      <td>JAPANESE</td>\n",
       "      <td>1 владелец</td>\n",
       "      <td>1 год и 3 месяца</td>\n",
       "      <td>Оригинал</td>\n",
       "      <td>передний</td>\n",
       "      <td>Правый</td>\n",
       "      <td>Не требует ремонта</td>\n",
       "      <td>Растаможен</td>\n",
       "    </tr>\n",
       "    <tr>\n",
       "      <th>12749</th>\n",
       "      <td>хэтчбек 5 дв.</td>\n",
       "      <td>NISSAN</td>\n",
       "      <td>https://auto.ru/cars/used/sale/nissan/leaf/109...</td>\n",
       "      <td>чёрный</td>\n",
       "      <td>NaN</td>\n",
       "      <td>SOH — 87,99\\n\\nОтличная городская машина в иде...</td>\n",
       "      <td>NaN</td>\n",
       "      <td>109 N12</td>\n",
       "      <td>{\"engine-proof\":true,\"cruise-control\":true,\"as...</td>\n",
       "      <td>электро</td>\n",
       "      <td>...</td>\n",
       "      <td>HATCHBACK_5_DOORS AUTOMATIC</td>\n",
       "      <td>автоматическая</td>\n",
       "      <td>JAPANESE</td>\n",
       "      <td>1 владелец</td>\n",
       "      <td>1 год и 1 месяц</td>\n",
       "      <td>Оригинал</td>\n",
       "      <td>передний</td>\n",
       "      <td>Правый</td>\n",
       "      <td>Не требует ремонта</td>\n",
       "      <td>Растаможен</td>\n",
       "    </tr>\n",
       "    <tr>\n",
       "      <th>12854</th>\n",
       "      <td>хэтчбек 5 дв.</td>\n",
       "      <td>NISSAN</td>\n",
       "      <td>https://auto.ru/cars/used/sale/nissan/leaf/109...</td>\n",
       "      <td>чёрный</td>\n",
       "      <td>NaN</td>\n",
       "      <td>Машина в отличном состоянии. В дтп не была. Оч...</td>\n",
       "      <td>NaN</td>\n",
       "      <td>109 N12</td>\n",
       "      <td>{\"electro-window-back\":true,\"alloy-wheel-disks...</td>\n",
       "      <td>электро</td>\n",
       "      <td>...</td>\n",
       "      <td>HATCHBACK_5_DOORS AUTOMATIC</td>\n",
       "      <td>автоматическая</td>\n",
       "      <td>JAPANESE</td>\n",
       "      <td>2 владельца</td>\n",
       "      <td>11 месяцев</td>\n",
       "      <td>Оригинал</td>\n",
       "      <td>передний</td>\n",
       "      <td>Правый</td>\n",
       "      <td>Не требует ремонта</td>\n",
       "      <td>Растаможен</td>\n",
       "    </tr>\n",
       "    <tr>\n",
       "      <th>12916</th>\n",
       "      <td>хэтчбек 5 дв.</td>\n",
       "      <td>NISSAN</td>\n",
       "      <td>https://auto.ru/cars/used/sale/nissan/leaf/109...</td>\n",
       "      <td>чёрный</td>\n",
       "      <td>NaN</td>\n",
       "      <td>Автомобиль покупал на аукционе. Комплектация G...</td>\n",
       "      <td>NaN</td>\n",
       "      <td>109 N12</td>\n",
       "      <td>{\"cruise-control\":true,\"tinted-glass\":true,\"es...</td>\n",
       "      <td>электро</td>\n",
       "      <td>...</td>\n",
       "      <td>HATCHBACK_5_DOORS AUTOMATIC</td>\n",
       "      <td>автоматическая</td>\n",
       "      <td>JAPANESE</td>\n",
       "      <td>1 владелец</td>\n",
       "      <td>NaN</td>\n",
       "      <td>Оригинал</td>\n",
       "      <td>передний</td>\n",
       "      <td>Правый</td>\n",
       "      <td>Не требует ремонта</td>\n",
       "      <td>Растаможен</td>\n",
       "    </tr>\n",
       "    <tr>\n",
       "      <th>12948</th>\n",
       "      <td>хэтчбек 5 дв.</td>\n",
       "      <td>NISSAN</td>\n",
       "      <td>https://auto.ru/cars/used/sale/nissan/leaf/109...</td>\n",
       "      <td>серебристый</td>\n",
       "      <td>NaN</td>\n",
       "      <td>Продаю свою шикарную машину, которая радовала ...</td>\n",
       "      <td>NaN</td>\n",
       "      <td>109 N12</td>\n",
       "      <td>NaN</td>\n",
       "      <td>электро</td>\n",
       "      <td>...</td>\n",
       "      <td>HATCHBACK_5_DOORS AUTOMATIC</td>\n",
       "      <td>автоматическая</td>\n",
       "      <td>JAPANESE</td>\n",
       "      <td>2 владельца</td>\n",
       "      <td>NaN</td>\n",
       "      <td>Оригинал</td>\n",
       "      <td>передний</td>\n",
       "      <td>Правый</td>\n",
       "      <td>Не требует ремонта</td>\n",
       "      <td>Растаможен</td>\n",
       "    </tr>\n",
       "    <tr>\n",
       "      <th>12950</th>\n",
       "      <td>хэтчбек 5 дв.</td>\n",
       "      <td>NISSAN</td>\n",
       "      <td>https://auto.ru/cars/used/sale/nissan/leaf/109...</td>\n",
       "      <td>белый</td>\n",
       "      <td>NaN</td>\n",
       "      <td>Аукционный авто. 3.5 балла. В Москве с августа...</td>\n",
       "      <td>NaN</td>\n",
       "      <td>109 N12</td>\n",
       "      <td>{\"cruise-control\":true,\"asr\":true,\"tinted-glas...</td>\n",
       "      <td>электро</td>\n",
       "      <td>...</td>\n",
       "      <td>HATCHBACK_5_DOORS AUTOMATIC</td>\n",
       "      <td>автоматическая</td>\n",
       "      <td>JAPANESE</td>\n",
       "      <td>1 владелец</td>\n",
       "      <td>NaN</td>\n",
       "      <td>Оригинал</td>\n",
       "      <td>передний</td>\n",
       "      <td>Правый</td>\n",
       "      <td>Не требует ремонта</td>\n",
       "      <td>Растаможен</td>\n",
       "    </tr>\n",
       "    <tr>\n",
       "      <th>13052</th>\n",
       "      <td>хэтчбек 5 дв.</td>\n",
       "      <td>NISSAN</td>\n",
       "      <td>https://auto.ru/cars/used/sale/nissan/leaf/109...</td>\n",
       "      <td>белый</td>\n",
       "      <td>NaN</td>\n",
       "      <td>Доброго времени суток. Продаю Nissan Leaf AZEO...</td>\n",
       "      <td>NaN</td>\n",
       "      <td>109 N12</td>\n",
       "      <td>{\"cruise-control\":true,\"tinted-glass\":true,\"es...</td>\n",
       "      <td>электро</td>\n",
       "      <td>...</td>\n",
       "      <td>HATCHBACK_5_DOORS AUTOMATIC</td>\n",
       "      <td>автоматическая</td>\n",
       "      <td>JAPANESE</td>\n",
       "      <td>1 владелец</td>\n",
       "      <td>3 года и 4 месяца</td>\n",
       "      <td>Оригинал</td>\n",
       "      <td>передний</td>\n",
       "      <td>Правый</td>\n",
       "      <td>Не требует ремонта</td>\n",
       "      <td>Растаможен</td>\n",
       "    </tr>\n",
       "    <tr>\n",
       "      <th>13104</th>\n",
       "      <td>хэтчбек 5 дв.</td>\n",
       "      <td>NISSAN</td>\n",
       "      <td>https://auto.ru/cars/used/sale/nissan/leaf/109...</td>\n",
       "      <td>белый</td>\n",
       "      <td>NaN</td>\n",
       "      <td>\\n- за данную  цену продают без велюра и матов...</td>\n",
       "      <td>NaN</td>\n",
       "      <td>109 N12</td>\n",
       "      <td>{\"cruise-control\":true,\"esp\":true,\"adaptive-li...</td>\n",
       "      <td>электро</td>\n",
       "      <td>...</td>\n",
       "      <td>HATCHBACK_5_DOORS AUTOMATIC</td>\n",
       "      <td>автоматическая</td>\n",
       "      <td>JAPANESE</td>\n",
       "      <td>1 владелец</td>\n",
       "      <td>1 год</td>\n",
       "      <td>Оригинал</td>\n",
       "      <td>передний</td>\n",
       "      <td>Правый</td>\n",
       "      <td>Не требует ремонта</td>\n",
       "      <td>Растаможен</td>\n",
       "    </tr>\n",
       "    <tr>\n",
       "      <th>13105</th>\n",
       "      <td>хэтчбек 5 дв.</td>\n",
       "      <td>NISSAN</td>\n",
       "      <td>https://auto.ru/cars/used/sale/nissan/leaf/108...</td>\n",
       "      <td>серебристый</td>\n",
       "      <td>NaN</td>\n",
       "      <td>Новая резина. Куплена не в кредит. Не прокурен...</td>\n",
       "      <td>NaN</td>\n",
       "      <td>109 N12</td>\n",
       "      <td>{\"cruise-control\":true,\"tinted-glass\":true,\"st...</td>\n",
       "      <td>электро</td>\n",
       "      <td>...</td>\n",
       "      <td>HATCHBACK_5_DOORS AUTOMATIC</td>\n",
       "      <td>автоматическая</td>\n",
       "      <td>JAPANESE</td>\n",
       "      <td>1 владелец</td>\n",
       "      <td>2 года и 4 месяца</td>\n",
       "      <td>Оригинал</td>\n",
       "      <td>передний</td>\n",
       "      <td>Правый</td>\n",
       "      <td>Не требует ремонта</td>\n",
       "      <td>Растаможен</td>\n",
       "    </tr>\n",
       "    <tr>\n",
       "      <th>13478</th>\n",
       "      <td>хэтчбек 5 дв.</td>\n",
       "      <td>NISSAN</td>\n",
       "      <td>https://auto.ru/cars/used/sale/nissan/leaf/110...</td>\n",
       "      <td>красный</td>\n",
       "      <td>NaN</td>\n",
       "      <td>Aze0 30 кВт, SOH 77.5, 10 делений, я 1й владел...</td>\n",
       "      <td>NaN</td>\n",
       "      <td>109 N12</td>\n",
       "      <td>{\"cruise-control\":true,\"airbag-driver\":true,\"a...</td>\n",
       "      <td>электро</td>\n",
       "      <td>...</td>\n",
       "      <td>HATCHBACK_5_DOORS AUTOMATIC</td>\n",
       "      <td>автоматическая</td>\n",
       "      <td>JAPANESE</td>\n",
       "      <td>1 владелец</td>\n",
       "      <td>4 месяца</td>\n",
       "      <td>Оригинал</td>\n",
       "      <td>передний</td>\n",
       "      <td>Правый</td>\n",
       "      <td>Не требует ремонта</td>\n",
       "      <td>Растаможен</td>\n",
       "    </tr>\n",
       "    <tr>\n",
       "      <th>13633</th>\n",
       "      <td>хэтчбек 5 дв.</td>\n",
       "      <td>NISSAN</td>\n",
       "      <td>https://auto.ru/cars/used/sale/nissan/leaf/100...</td>\n",
       "      <td>синий</td>\n",
       "      <td>NaN</td>\n",
       "      <td>На машине стоит вебасто с термоколом. Управляе...</td>\n",
       "      <td>NaN</td>\n",
       "      <td>109 N12</td>\n",
       "      <td>NaN</td>\n",
       "      <td>электро</td>\n",
       "      <td>...</td>\n",
       "      <td>HATCHBACK_5_DOORS AUTOMATIC</td>\n",
       "      <td>автоматическая</td>\n",
       "      <td>JAPANESE</td>\n",
       "      <td>2 владельца</td>\n",
       "      <td>5 лет и 10 месяцев</td>\n",
       "      <td>Оригинал</td>\n",
       "      <td>передний</td>\n",
       "      <td>Левый</td>\n",
       "      <td>Не требует ремонта</td>\n",
       "      <td>Растаможен</td>\n",
       "    </tr>\n",
       "    <tr>\n",
       "      <th>13660</th>\n",
       "      <td>хэтчбек 5 дв.</td>\n",
       "      <td>NISSAN</td>\n",
       "      <td>https://auto.ru/cars/used/sale/nissan/leaf/109...</td>\n",
       "      <td>чёрный</td>\n",
       "      <td>NaN</td>\n",
       "      <td>Отличное состояние. Полная комплектация. Подро...</td>\n",
       "      <td>NaN</td>\n",
       "      <td>109 N12</td>\n",
       "      <td>{\"cruise-control\":true,\"tinted-glass\":true,\"es...</td>\n",
       "      <td>электро</td>\n",
       "      <td>...</td>\n",
       "      <td>HATCHBACK_5_DOORS AUTOMATIC</td>\n",
       "      <td>автоматическая</td>\n",
       "      <td>JAPANESE</td>\n",
       "      <td>1 владелец</td>\n",
       "      <td>1 год и 3 месяца</td>\n",
       "      <td>Оригинал</td>\n",
       "      <td>передний</td>\n",
       "      <td>Правый</td>\n",
       "      <td>Не требует ремонта</td>\n",
       "      <td>Растаможен</td>\n",
       "    </tr>\n",
       "    <tr>\n",
       "      <th>13720</th>\n",
       "      <td>хэтчбек 5 дв.</td>\n",
       "      <td>NISSAN</td>\n",
       "      <td>https://auto.ru/cars/used/sale/nissan/leaf/109...</td>\n",
       "      <td>красный</td>\n",
       "      <td>NaN</td>\n",
       "      <td>SOH 70 / 8 делений / отличный авто для города ...</td>\n",
       "      <td>NaN</td>\n",
       "      <td>109 N12</td>\n",
       "      <td>{\"electro-window-back\":true,\"esp\":true,\"start-...</td>\n",
       "      <td>электро</td>\n",
       "      <td>...</td>\n",
       "      <td>HATCHBACK_5_DOORS AUTOMATIC</td>\n",
       "      <td>автоматическая</td>\n",
       "      <td>JAPANESE</td>\n",
       "      <td>1 владелец</td>\n",
       "      <td>NaN</td>\n",
       "      <td>Оригинал</td>\n",
       "      <td>передний</td>\n",
       "      <td>Правый</td>\n",
       "      <td>Не требует ремонта</td>\n",
       "      <td>Растаможен</td>\n",
       "    </tr>\n",
       "    <tr>\n",
       "      <th>13812</th>\n",
       "      <td>хэтчбек 5 дв.</td>\n",
       "      <td>NISSAN</td>\n",
       "      <td>https://auto.ru/cars/used/sale/nissan/leaf/109...</td>\n",
       "      <td>голубой</td>\n",
       "      <td>NaN</td>\n",
       "      <td>Хозяин, владею два года, богатая комплектация,...</td>\n",
       "      <td>NaN</td>\n",
       "      <td>109 N12</td>\n",
       "      <td>NaN</td>\n",
       "      <td>электро</td>\n",
       "      <td>...</td>\n",
       "      <td>HATCHBACK_5_DOORS AUTOMATIC</td>\n",
       "      <td>автоматическая</td>\n",
       "      <td>JAPANESE</td>\n",
       "      <td>1 владелец</td>\n",
       "      <td>NaN</td>\n",
       "      <td>Оригинал</td>\n",
       "      <td>передний</td>\n",
       "      <td>Правый</td>\n",
       "      <td>Не требует ремонта</td>\n",
       "      <td>Растаможен</td>\n",
       "    </tr>\n",
       "    <tr>\n",
       "      <th>13915</th>\n",
       "      <td>хэтчбек 5 дв.</td>\n",
       "      <td>NISSAN</td>\n",
       "      <td>https://auto.ru/cars/used/sale/nissan/leaf/108...</td>\n",
       "      <td>красный</td>\n",
       "      <td>NaN</td>\n",
       "      <td>Правый руль.Батарея 30 кВт,Тепловой насос. (До...</td>\n",
       "      <td>NaN</td>\n",
       "      <td>109 N12</td>\n",
       "      <td>{\"cruise-control\":true,\"steel-wheels\":true,\"au...</td>\n",
       "      <td>электро</td>\n",
       "      <td>...</td>\n",
       "      <td>HATCHBACK_5_DOORS AUTOMATIC</td>\n",
       "      <td>автоматическая</td>\n",
       "      <td>JAPANESE</td>\n",
       "      <td>1 владелец</td>\n",
       "      <td>2 года и 4 месяца</td>\n",
       "      <td>Оригинал</td>\n",
       "      <td>передний</td>\n",
       "      <td>Правый</td>\n",
       "      <td>Не требует ремонта</td>\n",
       "      <td>Растаможен</td>\n",
       "    </tr>\n",
       "    <tr>\n",
       "      <th>13952</th>\n",
       "      <td>хэтчбек 5 дв.</td>\n",
       "      <td>NISSAN</td>\n",
       "      <td>https://auto.ru/cars/used/sale/nissan/leaf/110...</td>\n",
       "      <td>белый</td>\n",
       "      <td>NaN</td>\n",
       "      <td>Продается электро-автомобиль в хорошем состоян...</td>\n",
       "      <td>NaN</td>\n",
       "      <td>109 N12</td>\n",
       "      <td>{\"electro-window-back\":true,\"cruise-control\":t...</td>\n",
       "      <td>электро</td>\n",
       "      <td>...</td>\n",
       "      <td>HATCHBACK_5_DOORS AUTOMATIC</td>\n",
       "      <td>автоматическая</td>\n",
       "      <td>JAPANESE</td>\n",
       "      <td>1 владелец</td>\n",
       "      <td>11 месяцев</td>\n",
       "      <td>Оригинал</td>\n",
       "      <td>передний</td>\n",
       "      <td>Правый</td>\n",
       "      <td>Не требует ремонта</td>\n",
       "      <td>Растаможен</td>\n",
       "    </tr>\n",
       "    <tr>\n",
       "      <th>13989</th>\n",
       "      <td>хэтчбек 5 дв.</td>\n",
       "      <td>NISSAN</td>\n",
       "      <td>https://auto.ru/cars/used/sale/nissan/leaf/109...</td>\n",
       "      <td>чёрный</td>\n",
       "      <td>NaN</td>\n",
       "      <td>Только что привезен напрямую с аукциона в Япон...</td>\n",
       "      <td>NaN</td>\n",
       "      <td>109 N12</td>\n",
       "      <td>{\"electro-window-back\":true,\"16-inch-wheels\":t...</td>\n",
       "      <td>электро</td>\n",
       "      <td>...</td>\n",
       "      <td>HATCHBACK_5_DOORS AUTOMATIC</td>\n",
       "      <td>автоматическая</td>\n",
       "      <td>JAPANESE</td>\n",
       "      <td>1 владелец</td>\n",
       "      <td>11 месяцев</td>\n",
       "      <td>Оригинал</td>\n",
       "      <td>передний</td>\n",
       "      <td>Правый</td>\n",
       "      <td>Не требует ремонта</td>\n",
       "      <td>Растаможен</td>\n",
       "    </tr>\n",
       "    <tr>\n",
       "      <th>14147</th>\n",
       "      <td>хэтчбек 5 дв.</td>\n",
       "      <td>NISSAN</td>\n",
       "      <td>https://auto.ru/cars/used/sale/nissan/leaf/109...</td>\n",
       "      <td>серый</td>\n",
       "      <td>NaN</td>\n",
       "      <td>Продаю отличного лифа. Сох 69. Соответствует г...</td>\n",
       "      <td>NaN</td>\n",
       "      <td>109 N12</td>\n",
       "      <td>{\"glonass\":true,\"esp\":true,\"start-stop-functio...</td>\n",
       "      <td>электро</td>\n",
       "      <td>...</td>\n",
       "      <td>HATCHBACK_5_DOORS AUTOMATIC</td>\n",
       "      <td>автоматическая</td>\n",
       "      <td>JAPANESE</td>\n",
       "      <td>2 владельца</td>\n",
       "      <td>NaN</td>\n",
       "      <td>Оригинал</td>\n",
       "      <td>передний</td>\n",
       "      <td>Правый</td>\n",
       "      <td>Не требует ремонта</td>\n",
       "      <td>Растаможен</td>\n",
       "    </tr>\n",
       "    <tr>\n",
       "      <th>14419</th>\n",
       "      <td>хэтчбек 5 дв.</td>\n",
       "      <td>NISSAN</td>\n",
       "      <td>https://auto.ru/cars/used/sale/nissan/leaf/109...</td>\n",
       "      <td>серый</td>\n",
       "      <td>NaN</td>\n",
       "      <td>Причина продажи — хочу ZE1. Если сел на электр...</td>\n",
       "      <td>NaN</td>\n",
       "      <td>109 N12</td>\n",
       "      <td>{\"cruise-control\":true,\"asr\":true,\"esp\":true,\"...</td>\n",
       "      <td>электро</td>\n",
       "      <td>...</td>\n",
       "      <td>HATCHBACK_5_DOORS AUTOMATIC</td>\n",
       "      <td>автоматическая</td>\n",
       "      <td>JAPANESE</td>\n",
       "      <td>2 владельца</td>\n",
       "      <td>1 год и 1 месяц</td>\n",
       "      <td>Оригинал</td>\n",
       "      <td>передний</td>\n",
       "      <td>Правый</td>\n",
       "      <td>Не требует ремонта</td>\n",
       "      <td>Растаможен</td>\n",
       "    </tr>\n",
       "    <tr>\n",
       "      <th>23869</th>\n",
       "      <td>хэтчбек 5 дв.</td>\n",
       "      <td>VOLKSWAGEN</td>\n",
       "      <td>https://auto.ru/cars/used/sale/volkswagen/golf...</td>\n",
       "      <td>чёрный</td>\n",
       "      <td>NaN</td>\n",
       "      <td>Отличный, немецкий, полностью электрический ав...</td>\n",
       "      <td>NaN</td>\n",
       "      <td>115 N12</td>\n",
       "      <td>{\"cruise-control\":true,\"asr\":true,\"esp\":true,\"...</td>\n",
       "      <td>электро</td>\n",
       "      <td>...</td>\n",
       "      <td>HATCHBACK_5_DOORS AUTOMATIC</td>\n",
       "      <td>автоматическая</td>\n",
       "      <td>EUROPEAN</td>\n",
       "      <td>1 владелец</td>\n",
       "      <td>NaN</td>\n",
       "      <td>Оригинал</td>\n",
       "      <td>передний</td>\n",
       "      <td>Левый</td>\n",
       "      <td>Не требует ремонта</td>\n",
       "      <td>Растаможен</td>\n",
       "    </tr>\n",
       "    <tr>\n",
       "      <th>23948</th>\n",
       "      <td>хэтчбек 5 дв.</td>\n",
       "      <td>VOLKSWAGEN</td>\n",
       "      <td>https://auto.ru/cars/used/sale/volkswagen/golf...</td>\n",
       "      <td>белый</td>\n",
       "      <td>NaN</td>\n",
       "      <td>Внимание! Только для клиентов AVILON Автомобил...</td>\n",
       "      <td>NaN</td>\n",
       "      <td>115 N12</td>\n",
       "      <td>{\"cruise-control\":true,\"engine-proof\":true,\"es...</td>\n",
       "      <td>электро</td>\n",
       "      <td>...</td>\n",
       "      <td>HATCHBACK_5_DOORS AUTOMATIC</td>\n",
       "      <td>автоматическая</td>\n",
       "      <td>EUROPEAN</td>\n",
       "      <td>1 владелец</td>\n",
       "      <td>NaN</td>\n",
       "      <td>Оригинал</td>\n",
       "      <td>передний</td>\n",
       "      <td>Левый</td>\n",
       "      <td>Не требует ремонта</td>\n",
       "      <td>Растаможен</td>\n",
       "    </tr>\n",
       "    <tr>\n",
       "      <th>27064</th>\n",
       "      <td>хэтчбек 5 дв.</td>\n",
       "      <td>MITSUBISHI</td>\n",
       "      <td>https://auto.ru/cars/used/sale/mitsubishi/i_mi...</td>\n",
       "      <td>белый</td>\n",
       "      <td>NaN</td>\n",
       "      <td>Авто в идеальном состоянии.\\nНа днях пройдено ...</td>\n",
       "      <td>NaN</td>\n",
       "      <td>67 N12</td>\n",
       "      <td>NaN</td>\n",
       "      <td>электро</td>\n",
       "      <td>...</td>\n",
       "      <td>HATCHBACK_5_DOORS AUTOMATIC</td>\n",
       "      <td>автоматическая</td>\n",
       "      <td>JAPANESE</td>\n",
       "      <td>2 владельца</td>\n",
       "      <td>4 года</td>\n",
       "      <td>Оригинал</td>\n",
       "      <td>задний</td>\n",
       "      <td>Левый</td>\n",
       "      <td>Не требует ремонта</td>\n",
       "      <td>Растаможен</td>\n",
       "    </tr>\n",
       "    <tr>\n",
       "      <th>28241</th>\n",
       "      <td>хэтчбек 5 дв.</td>\n",
       "      <td>MITSUBISHI</td>\n",
       "      <td>https://auto.ru/cars/used/sale/mitsubishi/i_mi...</td>\n",
       "      <td>серебристый</td>\n",
       "      <td>NaN</td>\n",
       "      <td>Добрый день. Самая полная комплектация 16 Кват...</td>\n",
       "      <td>NaN</td>\n",
       "      <td>67 N12</td>\n",
       "      <td>NaN</td>\n",
       "      <td>электро</td>\n",
       "      <td>...</td>\n",
       "      <td>HATCHBACK_5_DOORS AUTOMATIC</td>\n",
       "      <td>автоматическая</td>\n",
       "      <td>JAPANESE</td>\n",
       "      <td>2 владельца</td>\n",
       "      <td>NaN</td>\n",
       "      <td>Оригинал</td>\n",
       "      <td>задний</td>\n",
       "      <td>Правый</td>\n",
       "      <td>Не требует ремонта</td>\n",
       "      <td>Растаможен</td>\n",
       "    </tr>\n",
       "    <tr>\n",
       "      <th>32668</th>\n",
       "      <td>хэтчбек 5 дв.</td>\n",
       "      <td>NISSAN</td>\n",
       "      <td>https://auto.ru/cars/used/sale/nissan/leaf/110...</td>\n",
       "      <td>чёрный</td>\n",
       "      <td>NaN</td>\n",
       "      <td>Абсолютно новый автомобиль, богатая комплектац...</td>\n",
       "      <td>NaN</td>\n",
       "      <td>150 N12</td>\n",
       "      <td>{\"cruise-control\":true,\"glonass\":true,\"ptf\":tr...</td>\n",
       "      <td>электро</td>\n",
       "      <td>...</td>\n",
       "      <td>HATCHBACK_5_DOORS AUTOMATIC</td>\n",
       "      <td>автоматическая</td>\n",
       "      <td>JAPANESE</td>\n",
       "      <td>1 владелец</td>\n",
       "      <td>1 год и 10 месяцев</td>\n",
       "      <td>Оригинал</td>\n",
       "      <td>передний</td>\n",
       "      <td>Левый</td>\n",
       "      <td>Не требует ремонта</td>\n",
       "      <td>Растаможен</td>\n",
       "    </tr>\n",
       "    <tr>\n",
       "      <th>32700</th>\n",
       "      <td>хэтчбек 5 дв.</td>\n",
       "      <td>NISSAN</td>\n",
       "      <td>https://auto.ru/cars/used/sale/nissan/leaf/110...</td>\n",
       "      <td>голубой</td>\n",
       "      <td>NaN</td>\n",
       "      <td>Оригинальный аукционный лист.Оценка 4 балла.  ...</td>\n",
       "      <td>NaN</td>\n",
       "      <td>109 N12</td>\n",
       "      <td>{\"cruise-control\":true,\"airbag-rear-side\":true...</td>\n",
       "      <td>электро</td>\n",
       "      <td>...</td>\n",
       "      <td>HATCHBACK_5_DOORS AUTOMATIC</td>\n",
       "      <td>автоматическая</td>\n",
       "      <td>JAPANESE</td>\n",
       "      <td>1 владелец</td>\n",
       "      <td>5 месяцев</td>\n",
       "      <td>Оригинал</td>\n",
       "      <td>передний</td>\n",
       "      <td>Правый</td>\n",
       "      <td>Не требует ремонта</td>\n",
       "      <td>Растаможен</td>\n",
       "    </tr>\n",
       "    <tr>\n",
       "      <th>32798</th>\n",
       "      <td>хэтчбек 5 дв.</td>\n",
       "      <td>NISSAN</td>\n",
       "      <td>https://auto.ru/cars/used/sale/nissan/leaf/109...</td>\n",
       "      <td>чёрный</td>\n",
       "      <td>NaN</td>\n",
       "      <td>Я хозяин. Вписан в ПТС.</td>\n",
       "      <td>NaN</td>\n",
       "      <td>109 N12</td>\n",
       "      <td>{\"tinted-glass\":true,\"esp\":true,\"start-stop-fu...</td>\n",
       "      <td>электро</td>\n",
       "      <td>...</td>\n",
       "      <td>HATCHBACK_5_DOORS AUTOMATIC</td>\n",
       "      <td>автоматическая</td>\n",
       "      <td>JAPANESE</td>\n",
       "      <td>1 владелец</td>\n",
       "      <td>NaN</td>\n",
       "      <td>Оригинал</td>\n",
       "      <td>передний</td>\n",
       "      <td>Правый</td>\n",
       "      <td>Не требует ремонта</td>\n",
       "      <td>Растаможен</td>\n",
       "    </tr>\n",
       "    <tr>\n",
       "      <th>34159</th>\n",
       "      <td>хэтчбек 5 дв.</td>\n",
       "      <td>MERCEDES</td>\n",
       "      <td>https://auto.ru/cars/used/sale/mercedes/b_klas...</td>\n",
       "      <td>белый</td>\n",
       "      <td>NaN</td>\n",
       "      <td>Автомобиль куплен в Германии (европейская верс...</td>\n",
       "      <td>NaN</td>\n",
       "      <td>179 N12</td>\n",
       "      <td>{\"cruise-control\":true,\"airbag-driver\":true,\"a...</td>\n",
       "      <td>электро</td>\n",
       "      <td>...</td>\n",
       "      <td>HATCHBACK_5_DOORS AUTOMATIC</td>\n",
       "      <td>автоматическая</td>\n",
       "      <td>EUROPEAN</td>\n",
       "      <td>2 владельца</td>\n",
       "      <td>10 месяцев</td>\n",
       "      <td>Оригинал</td>\n",
       "      <td>передний</td>\n",
       "      <td>Левый</td>\n",
       "      <td>Не требует ремонта</td>\n",
       "      <td>Растаможен</td>\n",
       "    </tr>\n",
       "    <tr>\n",
       "      <th>34504</th>\n",
       "      <td>хэтчбек 5 дв.</td>\n",
       "      <td>NISSAN</td>\n",
       "      <td>https://auto.ru/cars/used/sale/nissan/leaf/110...</td>\n",
       "      <td>чёрный</td>\n",
       "      <td>NaN</td>\n",
       "      <td>В отличном состоянии вложений не требует.</td>\n",
       "      <td>NaN</td>\n",
       "      <td>109 N12</td>\n",
       "      <td>{\"alloy-wheel-disks\":true,\"tinted-glass\":true,...</td>\n",
       "      <td>электро</td>\n",
       "      <td>...</td>\n",
       "      <td>HATCHBACK_5_DOORS AUTOMATIC</td>\n",
       "      <td>автоматическая</td>\n",
       "      <td>JAPANESE</td>\n",
       "      <td>2 владельца</td>\n",
       "      <td>2 года и 1 месяц</td>\n",
       "      <td>Оригинал</td>\n",
       "      <td>передний</td>\n",
       "      <td>Правый</td>\n",
       "      <td>Не требует ремонта</td>\n",
       "      <td>Растаможен</td>\n",
       "    </tr>\n",
       "  </tbody>\n",
       "</table>\n",
       "<p>55 rows × 32 columns</p>\n",
       "</div>"
      ],
      "text/plain": [
       "                bodyType       brand  \\\n",
       "5241   внедорожник 5 дв.        AUDI   \n",
       "7992       хэтчбек 5 дв.         BMW   \n",
       "8252       хэтчбек 5 дв.         BMW   \n",
       "8350       хэтчбек 5 дв.         BMW   \n",
       "8684       хэтчбек 5 дв.         BMW   \n",
       "8722       хэтчбек 5 дв.         BMW   \n",
       "8917       хэтчбек 5 дв.         BMW   \n",
       "10817      хэтчбек 5 дв.         BMW   \n",
       "10936      хэтчбек 5 дв.         BMW   \n",
       "11043      хэтчбек 5 дв.         BMW   \n",
       "11302      хэтчбек 5 дв.      NISSAN   \n",
       "11682      хэтчбек 5 дв.      NISSAN   \n",
       "11714      хэтчбек 5 дв.      NISSAN   \n",
       "11719      хэтчбек 5 дв.      NISSAN   \n",
       "11754      хэтчбек 5 дв.      NISSAN   \n",
       "11878      хэтчбек 5 дв.      NISSAN   \n",
       "11974      хэтчбек 5 дв.      NISSAN   \n",
       "12072      хэтчбек 5 дв.      NISSAN   \n",
       "12085      хэтчбек 5 дв.      NISSAN   \n",
       "12100      хэтчбек 5 дв.      NISSAN   \n",
       "12250      хэтчбек 5 дв.      NISSAN   \n",
       "12287      хэтчбек 5 дв.      NISSAN   \n",
       "12334      хэтчбек 5 дв.      NISSAN   \n",
       "12466      хэтчбек 5 дв.      NISSAN   \n",
       "12481      хэтчбек 5 дв.      NISSAN   \n",
       "12558      хэтчбек 5 дв.      NISSAN   \n",
       "12582      хэтчбек 5 дв.      NISSAN   \n",
       "12678      хэтчбек 5 дв.      NISSAN   \n",
       "12749      хэтчбек 5 дв.      NISSAN   \n",
       "12854      хэтчбек 5 дв.      NISSAN   \n",
       "12916      хэтчбек 5 дв.      NISSAN   \n",
       "12948      хэтчбек 5 дв.      NISSAN   \n",
       "12950      хэтчбек 5 дв.      NISSAN   \n",
       "13052      хэтчбек 5 дв.      NISSAN   \n",
       "13104      хэтчбек 5 дв.      NISSAN   \n",
       "13105      хэтчбек 5 дв.      NISSAN   \n",
       "13478      хэтчбек 5 дв.      NISSAN   \n",
       "13633      хэтчбек 5 дв.      NISSAN   \n",
       "13660      хэтчбек 5 дв.      NISSAN   \n",
       "13720      хэтчбек 5 дв.      NISSAN   \n",
       "13812      хэтчбек 5 дв.      NISSAN   \n",
       "13915      хэтчбек 5 дв.      NISSAN   \n",
       "13952      хэтчбек 5 дв.      NISSAN   \n",
       "13989      хэтчбек 5 дв.      NISSAN   \n",
       "14147      хэтчбек 5 дв.      NISSAN   \n",
       "14419      хэтчбек 5 дв.      NISSAN   \n",
       "23869      хэтчбек 5 дв.  VOLKSWAGEN   \n",
       "23948      хэтчбек 5 дв.  VOLKSWAGEN   \n",
       "27064      хэтчбек 5 дв.  MITSUBISHI   \n",
       "28241      хэтчбек 5 дв.  MITSUBISHI   \n",
       "32668      хэтчбек 5 дв.      NISSAN   \n",
       "32700      хэтчбек 5 дв.      NISSAN   \n",
       "32798      хэтчбек 5 дв.      NISSAN   \n",
       "34159      хэтчбек 5 дв.    MERCEDES   \n",
       "34504      хэтчбек 5 дв.      NISSAN   \n",
       "\n",
       "                                                 car_url        color  \\\n",
       "5241   https://auto.ru/cars/used/sale/audi/e_tron/110...        белый   \n",
       "7992   https://auto.ru/cars/used/sale/bmw/i3/11010431...        синий   \n",
       "8252   https://auto.ru/cars/used/sale/bmw/i3/11012780...        серый   \n",
       "8350   https://auto.ru/cars/used/sale/bmw/i3/11002716...        белый   \n",
       "8684   https://auto.ru/cars/used/sale/bmw/i3/11011745...       чёрный   \n",
       "8722   https://auto.ru/cars/used/sale/bmw/i3/11000973...      голубой   \n",
       "8917   https://auto.ru/cars/used/sale/bmw/i3/11008715...      бежевый   \n",
       "10817  https://auto.ru/cars/used/sale/bmw/i3/11012664...        серый   \n",
       "10936  https://auto.ru/cars/used/sale/bmw/i3/10996733...       чёрный   \n",
       "11043  https://auto.ru/cars/used/sale/bmw/i3/10993761...        серый   \n",
       "11302  https://auto.ru/cars/used/sale/nissan/leaf/110...      голубой   \n",
       "11682  https://auto.ru/cars/used/sale/nissan/leaf/110...        белый   \n",
       "11714  https://auto.ru/cars/used/sale/nissan/leaf/109...        белый   \n",
       "11719  https://auto.ru/cars/used/sale/nissan/leaf/109...        белый   \n",
       "11754  https://auto.ru/cars/used/sale/nissan/leaf/110...        белый   \n",
       "11878  https://auto.ru/cars/used/sale/nissan/leaf/110...  серебристый   \n",
       "11974  https://auto.ru/cars/used/sale/nissan/leaf/108...       чёрный   \n",
       "12072  https://auto.ru/cars/used/sale/nissan/leaf/110...       чёрный   \n",
       "12085  https://auto.ru/cars/used/sale/nissan/leaf/109...      голубой   \n",
       "12100  https://auto.ru/cars/used/sale/nissan/leaf/109...        серый   \n",
       "12250  https://auto.ru/cars/used/sale/nissan/leaf/109...        серый   \n",
       "12287  https://auto.ru/cars/used/sale/nissan/leaf/109...      голубой   \n",
       "12334  https://auto.ru/cars/used/sale/nissan/leaf/110...       чёрный   \n",
       "12466  https://auto.ru/cars/used/sale/nissan/leaf/110...       чёрный   \n",
       "12481  https://auto.ru/cars/used/sale/nissan/leaf/110...        белый   \n",
       "12558  https://auto.ru/cars/used/sale/nissan/leaf/109...  серебристый   \n",
       "12582  https://auto.ru/cars/used/sale/nissan/leaf/109...        белый   \n",
       "12678  https://auto.ru/cars/used/sale/nissan/leaf/109...       чёрный   \n",
       "12749  https://auto.ru/cars/used/sale/nissan/leaf/109...       чёрный   \n",
       "12854  https://auto.ru/cars/used/sale/nissan/leaf/109...       чёрный   \n",
       "12916  https://auto.ru/cars/used/sale/nissan/leaf/109...       чёрный   \n",
       "12948  https://auto.ru/cars/used/sale/nissan/leaf/109...  серебристый   \n",
       "12950  https://auto.ru/cars/used/sale/nissan/leaf/109...        белый   \n",
       "13052  https://auto.ru/cars/used/sale/nissan/leaf/109...        белый   \n",
       "13104  https://auto.ru/cars/used/sale/nissan/leaf/109...        белый   \n",
       "13105  https://auto.ru/cars/used/sale/nissan/leaf/108...  серебристый   \n",
       "13478  https://auto.ru/cars/used/sale/nissan/leaf/110...      красный   \n",
       "13633  https://auto.ru/cars/used/sale/nissan/leaf/100...        синий   \n",
       "13660  https://auto.ru/cars/used/sale/nissan/leaf/109...       чёрный   \n",
       "13720  https://auto.ru/cars/used/sale/nissan/leaf/109...      красный   \n",
       "13812  https://auto.ru/cars/used/sale/nissan/leaf/109...      голубой   \n",
       "13915  https://auto.ru/cars/used/sale/nissan/leaf/108...      красный   \n",
       "13952  https://auto.ru/cars/used/sale/nissan/leaf/110...        белый   \n",
       "13989  https://auto.ru/cars/used/sale/nissan/leaf/109...       чёрный   \n",
       "14147  https://auto.ru/cars/used/sale/nissan/leaf/109...        серый   \n",
       "14419  https://auto.ru/cars/used/sale/nissan/leaf/109...        серый   \n",
       "23869  https://auto.ru/cars/used/sale/volkswagen/golf...       чёрный   \n",
       "23948  https://auto.ru/cars/used/sale/volkswagen/golf...        белый   \n",
       "27064  https://auto.ru/cars/used/sale/mitsubishi/i_mi...        белый   \n",
       "28241  https://auto.ru/cars/used/sale/mitsubishi/i_mi...  серебристый   \n",
       "32668  https://auto.ru/cars/used/sale/nissan/leaf/110...       чёрный   \n",
       "32700  https://auto.ru/cars/used/sale/nissan/leaf/110...      голубой   \n",
       "32798  https://auto.ru/cars/used/sale/nissan/leaf/109...       чёрный   \n",
       "34159  https://auto.ru/cars/used/sale/mercedes/b_klas...        белый   \n",
       "34504  https://auto.ru/cars/used/sale/nissan/leaf/110...       чёрный   \n",
       "\n",
       "                                      complectation_dict  \\\n",
       "5241                                                 NaN   \n",
       "7992                                                 NaN   \n",
       "8252                                                 NaN   \n",
       "8350   {\"id\":\"21624597\",\"name\":\"i3 120 Ah\",\"available...   \n",
       "8684                                                 NaN   \n",
       "8722                                                 NaN   \n",
       "8917                                                 NaN   \n",
       "10817                                                NaN   \n",
       "10936                                                NaN   \n",
       "11043                                                NaN   \n",
       "11302                                                NaN   \n",
       "11682                                                NaN   \n",
       "11714                                                NaN   \n",
       "11719                                                NaN   \n",
       "11754                                                NaN   \n",
       "11878                                                NaN   \n",
       "11974                                                NaN   \n",
       "12072                                                NaN   \n",
       "12085                                                NaN   \n",
       "12100                                                NaN   \n",
       "12250                                                NaN   \n",
       "12287                                                NaN   \n",
       "12334                                                NaN   \n",
       "12466                                                NaN   \n",
       "12481                                                NaN   \n",
       "12558                                                NaN   \n",
       "12582                                                NaN   \n",
       "12678                                                NaN   \n",
       "12749                                                NaN   \n",
       "12854                                                NaN   \n",
       "12916                                                NaN   \n",
       "12948                                                NaN   \n",
       "12950                                                NaN   \n",
       "13052                                                NaN   \n",
       "13104                                                NaN   \n",
       "13105                                                NaN   \n",
       "13478                                                NaN   \n",
       "13633                                                NaN   \n",
       "13660                                                NaN   \n",
       "13720                                                NaN   \n",
       "13812                                                NaN   \n",
       "13915                                                NaN   \n",
       "13952                                                NaN   \n",
       "13989                                                NaN   \n",
       "14147                                                NaN   \n",
       "14419                                                NaN   \n",
       "23869                                                NaN   \n",
       "23948                                                NaN   \n",
       "27064                                                NaN   \n",
       "28241                                                NaN   \n",
       "32668                                                NaN   \n",
       "32700                                                NaN   \n",
       "32798                                                NaN   \n",
       "34159                                                NaN   \n",
       "34504                                                NaN   \n",
       "\n",
       "                                             description  engineDisplacement  \\\n",
       "5241   Audi e-tron Prestige quattro от Moscow Tesla C...                 NaN   \n",
       "7992   Атомобиль из Германии,без пробега по РФ.\\nНа г...                 NaN   \n",
       "8252   Пробег 54000 км, запас хода на зарядке 130 км+...                 NaN   \n",
       "8350   Автомобиль в наличии Москве , с ПТС , производ...                 NaN   \n",
       "8684   BMW I 3 REX\\nфевраль 2017 года выпуска.\\nПриоб...                 NaN   \n",
       "8722   \\nПрибыло из Америки в августе 2020 года. Полн...                 NaN   \n",
       "8917   -Состояние нового автомобиля .\\n-Carfax вся ис...                 NaN   \n",
       "10817  Продаю BMW I3 +REX .\\n\\nПолноценный электромоб...                 NaN   \n",
       "10936  Автомобиль BMW i3 (полностью электрический )за...                 NaN   \n",
       "11043  Состояние нового автомобиля . \\nФото ИМЕННО ЭТ...                 NaN   \n",
       "11302  Безопасность: 10. Салон: 4. Комфорт: 12. Мульт...                 NaN   \n",
       "11682  Продаю авто без пробега по РФ.\\nМаксимальная к...                 NaN   \n",
       "11714  Комплектация G\\nБатарея 40 кВт\\n\\n- PRO- PILOT...                 NaN   \n",
       "11719  Автомобиль с аукциона! НЕ РЫНОК!!!! (аукционны...                 NaN   \n",
       "11754  Продаю электромобиль ниссан лиаф 2011г пробег1...                 NaN   \n",
       "11878  Оригинальный ПТС.  \\nАвто декабрь 2013 года \\n...                 NaN   \n",
       "11974  Всё работает ,батарея  48 кВт-120км +120км све...                 NaN   \n",
       "12072  Продаю Nissan Leaf 2012 года выпуска. Данный а...                 NaN   \n",
       "12085  Электpомобиль Nissan Leаf  из США( северный шт...                 NaN   \n",
       "12100  Leaf 30x Aero style. 30 квт.ч. 12 палок.\\nконт...                 NaN   \n",
       "12250  Электромобиль в отличном состоянии,  пробег на...                 NaN   \n",
       "12287  Продается Ниссан Leaf в полная комплектация(кр...                 NaN   \n",
       "12334  Продаю своего друга! Очень хорошая машина! Рад...                 NaN   \n",
       "12466  Аукционный авто, батарея 30 квт., куплен в 201...                 NaN   \n",
       "12481  АВТОМОБИЛЬ В МОСКВЕ.\\n\\nПривозил под себя, езж...                 NaN   \n",
       "12558  Продам nissan leaf 2011 года🚗\\nЦена за наличку...                 NaN   \n",
       "12582  16 модельный год (изг. декабрь 2015) \\nПокупал...                 NaN   \n",
       "12678  - Я первый собственник, авто завезено в июле 2...                 NaN   \n",
       "12749  SOH — 87,99\\n\\nОтличная городская машина в иде...                 NaN   \n",
       "12854  Машина в отличном состоянии. В дтп не была. Оч...                 NaN   \n",
       "12916  Автомобиль покупал на аукционе. Комплектация G...                 NaN   \n",
       "12948  Продаю свою шикарную машину, которая радовала ...                 NaN   \n",
       "12950  Аукционный авто. 3.5 балла. В Москве с августа...                 NaN   \n",
       "13052  Доброго времени суток. Продаю Nissan Leaf AZEO...                 NaN   \n",
       "13104  \\n- за данную  цену продают без велюра и матов...                 NaN   \n",
       "13105  Новая резина. Куплена не в кредит. Не прокурен...                 NaN   \n",
       "13478  Aze0 30 кВт, SOH 77.5, 10 делений, я 1й владел...                 NaN   \n",
       "13633  На машине стоит вебасто с термоколом. Управляе...                 NaN   \n",
       "13660  Отличное состояние. Полная комплектация. Подро...                 NaN   \n",
       "13720  SOH 70 / 8 делений / отличный авто для города ...                 NaN   \n",
       "13812  Хозяин, владею два года, богатая комплектация,...                 NaN   \n",
       "13915  Правый руль.Батарея 30 кВт,Тепловой насос. (До...                 NaN   \n",
       "13952  Продается электро-автомобиль в хорошем состоян...                 NaN   \n",
       "13989  Только что привезен напрямую с аукциона в Япон...                 NaN   \n",
       "14147  Продаю отличного лифа. Сох 69. Соответствует г...                 NaN   \n",
       "14419  Причина продажи — хочу ZE1. Если сел на электр...                 NaN   \n",
       "23869  Отличный, немецкий, полностью электрический ав...                 NaN   \n",
       "23948  Внимание! Только для клиентов AVILON Автомобил...                 NaN   \n",
       "27064  Авто в идеальном состоянии.\\nНа днях пройдено ...                 NaN   \n",
       "28241  Добрый день. Самая полная комплектация 16 Кват...                 NaN   \n",
       "32668  Абсолютно новый автомобиль, богатая комплектац...                 NaN   \n",
       "32700  Оригинальный аукционный лист.Оценка 4 балла.  ...                 NaN   \n",
       "32798                            Я хозяин. Вписан в ПТС.                 NaN   \n",
       "34159  Автомобиль куплен в Германии (европейская верс...                 NaN   \n",
       "34504          В отличном состоянии вложений не требует.                 NaN   \n",
       "\n",
       "      enginePower                                     equipment_dict fuelType  \\\n",
       "5241      408 N12  {\"asr\":true,\"esp\":true,\"usb\":true,\"e-adjustmen...  электро   \n",
       "7992      170 N12                                                NaN  электро   \n",
       "8252      170 N12        {\"park-assist-f\":true,\"park-assist-r\":true}  электро   \n",
       "8350      170 N12  {\"cruise-control\":true,\"asr\":true,\"esp\":true,\"...  электро   \n",
       "8684      170 N12  {\"cruise-control\":true,\"glonass\":true,\"navigat...  электро   \n",
       "8722      170 N12                                                NaN  электро   \n",
       "8917      170 N12                 {\"glonass\":true,\"roof-rails\":true}  электро   \n",
       "10817     170 N12                                                NaN  электро   \n",
       "10936     170 N12  {\"cruise-control\":true,\"asr\":true,\"tinted-glas...  электро   \n",
       "11043     170 N12  {\"glonass\":true,\"airbag-driver\":true,\"aux\":tru...  электро   \n",
       "11302     109 N12  {\"asr\":true,\"tinted-glass\":true,\"start-stop-fu...  электро   \n",
       "11682     150 N12  {\"tinted-glass\":true,\"esp\":true,\"adaptive-ligh...  электро   \n",
       "11714     150 N12  {\"collision-prevention-assist\":true,\"led-light...  электро   \n",
       "11719     109 N12                                                NaN  электро   \n",
       "11754     109 N12  {\"cruise-control\":true,\"start-button\":true,\"ra...  электро   \n",
       "11878     109 N12  {\"asr\":true,\"glonass\":true,\"tinted-glass\":true...  электро   \n",
       "11974     109 N12  {\"asr\":true,\"tinted-glass\":true,\"esp\":true,\"ai...  электро   \n",
       "12072     109 N12                                                NaN  электро   \n",
       "12085     109 N12  {\"cruise-control\":true,\"esp\":true,\"start-stop-...  электро   \n",
       "12100     109 N12  {\"tinted-glass\":true,\"esp\":true,\"aux\":true,\"us...  электро   \n",
       "12250     109 N12  {\"engine-proof\":true,\"glonass\":true,\"tinted-gl...  электро   \n",
       "12287     109 N12  {\"glonass\":true,\"esp\":true,\"aux\":true,\"usb\":tr...  электро   \n",
       "12334     109 N12  {\"engine-proof\":true,\"cruise-control\":true,\"ti...  электро   \n",
       "12466     109 N12  {\"cruise-control\":true,\"asr\":true,\"tinted-glas...  электро   \n",
       "12481     109 N12  {\"cruise-control\":true,\"tinted-glass\":true,\"es...  электро   \n",
       "12558     109 N12  {\"cruise-control\":true,\"asr\":true,\"tinted-glas...  электро   \n",
       "12582     109 N12  {\"cruise-control\":true,\"asr\":true,\"tinted-glas...  электро   \n",
       "12678     109 N12  {\"cruise-control\":true,\"esp\":true,\"airbag-driv...  электро   \n",
       "12749     109 N12  {\"engine-proof\":true,\"cruise-control\":true,\"as...  электро   \n",
       "12854     109 N12  {\"electro-window-back\":true,\"alloy-wheel-disks...  электро   \n",
       "12916     109 N12  {\"cruise-control\":true,\"tinted-glass\":true,\"es...  электро   \n",
       "12948     109 N12                                                NaN  электро   \n",
       "12950     109 N12  {\"cruise-control\":true,\"asr\":true,\"tinted-glas...  электро   \n",
       "13052     109 N12  {\"cruise-control\":true,\"tinted-glass\":true,\"es...  электро   \n",
       "13104     109 N12  {\"cruise-control\":true,\"esp\":true,\"adaptive-li...  электро   \n",
       "13105     109 N12  {\"cruise-control\":true,\"tinted-glass\":true,\"st...  электро   \n",
       "13478     109 N12  {\"cruise-control\":true,\"airbag-driver\":true,\"a...  электро   \n",
       "13633     109 N12                                                NaN  электро   \n",
       "13660     109 N12  {\"cruise-control\":true,\"tinted-glass\":true,\"es...  электро   \n",
       "13720     109 N12  {\"electro-window-back\":true,\"esp\":true,\"start-...  электро   \n",
       "13812     109 N12                                                NaN  электро   \n",
       "13915     109 N12  {\"cruise-control\":true,\"steel-wheels\":true,\"au...  электро   \n",
       "13952     109 N12  {\"electro-window-back\":true,\"cruise-control\":t...  электро   \n",
       "13989     109 N12  {\"electro-window-back\":true,\"16-inch-wheels\":t...  электро   \n",
       "14147     109 N12  {\"glonass\":true,\"esp\":true,\"start-stop-functio...  электро   \n",
       "14419     109 N12  {\"cruise-control\":true,\"asr\":true,\"esp\":true,\"...  электро   \n",
       "23869     115 N12  {\"cruise-control\":true,\"asr\":true,\"esp\":true,\"...  электро   \n",
       "23948     115 N12  {\"cruise-control\":true,\"engine-proof\":true,\"es...  электро   \n",
       "27064      67 N12                                                NaN  электро   \n",
       "28241      67 N12                                                NaN  электро   \n",
       "32668     150 N12  {\"cruise-control\":true,\"glonass\":true,\"ptf\":tr...  электро   \n",
       "32700     109 N12  {\"cruise-control\":true,\"airbag-rear-side\":true...  электро   \n",
       "32798     109 N12  {\"tinted-glass\":true,\"esp\":true,\"start-stop-fu...  электро   \n",
       "34159     179 N12  {\"cruise-control\":true,\"airbag-driver\":true,\"a...  электро   \n",
       "34504     109 N12  {\"alloy-wheel-disks\":true,\"tinted-glass\":true,...  электро   \n",
       "\n",
       "       ...         vehicleConfiguration  vehicleTransmission    vendor  \\\n",
       "5241   ...    ALLROAD_5_DOORS AUTOMATIC       автоматическая  EUROPEAN   \n",
       "7992   ...  HATCHBACK_5_DOORS AUTOMATIC       автоматическая  EUROPEAN   \n",
       "8252   ...  HATCHBACK_5_DOORS AUTOMATIC       автоматическая  EUROPEAN   \n",
       "8350   ...  HATCHBACK_5_DOORS AUTOMATIC       автоматическая  EUROPEAN   \n",
       "8684   ...  HATCHBACK_5_DOORS AUTOMATIC       автоматическая  EUROPEAN   \n",
       "8722   ...  HATCHBACK_5_DOORS AUTOMATIC       автоматическая  EUROPEAN   \n",
       "8917   ...  HATCHBACK_5_DOORS AUTOMATIC       автоматическая  EUROPEAN   \n",
       "10817  ...  HATCHBACK_5_DOORS AUTOMATIC       автоматическая  EUROPEAN   \n",
       "10936  ...  HATCHBACK_5_DOORS AUTOMATIC       автоматическая  EUROPEAN   \n",
       "11043  ...  HATCHBACK_5_DOORS AUTOMATIC       автоматическая  EUROPEAN   \n",
       "11302  ...  HATCHBACK_5_DOORS AUTOMATIC       автоматическая  JAPANESE   \n",
       "11682  ...  HATCHBACK_5_DOORS AUTOMATIC       автоматическая  JAPANESE   \n",
       "11714  ...  HATCHBACK_5_DOORS AUTOMATIC       автоматическая  JAPANESE   \n",
       "11719  ...  HATCHBACK_5_DOORS AUTOMATIC       автоматическая  JAPANESE   \n",
       "11754  ...  HATCHBACK_5_DOORS AUTOMATIC       автоматическая  JAPANESE   \n",
       "11878  ...  HATCHBACK_5_DOORS AUTOMATIC       автоматическая  JAPANESE   \n",
       "11974  ...  HATCHBACK_5_DOORS AUTOMATIC       автоматическая  JAPANESE   \n",
       "12072  ...  HATCHBACK_5_DOORS AUTOMATIC       автоматическая  JAPANESE   \n",
       "12085  ...  HATCHBACK_5_DOORS AUTOMATIC       автоматическая  JAPANESE   \n",
       "12100  ...  HATCHBACK_5_DOORS AUTOMATIC       автоматическая  JAPANESE   \n",
       "12250  ...  HATCHBACK_5_DOORS AUTOMATIC       автоматическая  JAPANESE   \n",
       "12287  ...  HATCHBACK_5_DOORS AUTOMATIC       автоматическая  JAPANESE   \n",
       "12334  ...  HATCHBACK_5_DOORS AUTOMATIC       автоматическая  JAPANESE   \n",
       "12466  ...  HATCHBACK_5_DOORS AUTOMATIC       автоматическая  JAPANESE   \n",
       "12481  ...  HATCHBACK_5_DOORS AUTOMATIC       автоматическая  JAPANESE   \n",
       "12558  ...  HATCHBACK_5_DOORS AUTOMATIC       автоматическая  JAPANESE   \n",
       "12582  ...  HATCHBACK_5_DOORS AUTOMATIC       автоматическая  JAPANESE   \n",
       "12678  ...  HATCHBACK_5_DOORS AUTOMATIC       автоматическая  JAPANESE   \n",
       "12749  ...  HATCHBACK_5_DOORS AUTOMATIC       автоматическая  JAPANESE   \n",
       "12854  ...  HATCHBACK_5_DOORS AUTOMATIC       автоматическая  JAPANESE   \n",
       "12916  ...  HATCHBACK_5_DOORS AUTOMATIC       автоматическая  JAPANESE   \n",
       "12948  ...  HATCHBACK_5_DOORS AUTOMATIC       автоматическая  JAPANESE   \n",
       "12950  ...  HATCHBACK_5_DOORS AUTOMATIC       автоматическая  JAPANESE   \n",
       "13052  ...  HATCHBACK_5_DOORS AUTOMATIC       автоматическая  JAPANESE   \n",
       "13104  ...  HATCHBACK_5_DOORS AUTOMATIC       автоматическая  JAPANESE   \n",
       "13105  ...  HATCHBACK_5_DOORS AUTOMATIC       автоматическая  JAPANESE   \n",
       "13478  ...  HATCHBACK_5_DOORS AUTOMATIC       автоматическая  JAPANESE   \n",
       "13633  ...  HATCHBACK_5_DOORS AUTOMATIC       автоматическая  JAPANESE   \n",
       "13660  ...  HATCHBACK_5_DOORS AUTOMATIC       автоматическая  JAPANESE   \n",
       "13720  ...  HATCHBACK_5_DOORS AUTOMATIC       автоматическая  JAPANESE   \n",
       "13812  ...  HATCHBACK_5_DOORS AUTOMATIC       автоматическая  JAPANESE   \n",
       "13915  ...  HATCHBACK_5_DOORS AUTOMATIC       автоматическая  JAPANESE   \n",
       "13952  ...  HATCHBACK_5_DOORS AUTOMATIC       автоматическая  JAPANESE   \n",
       "13989  ...  HATCHBACK_5_DOORS AUTOMATIC       автоматическая  JAPANESE   \n",
       "14147  ...  HATCHBACK_5_DOORS AUTOMATIC       автоматическая  JAPANESE   \n",
       "14419  ...  HATCHBACK_5_DOORS AUTOMATIC       автоматическая  JAPANESE   \n",
       "23869  ...  HATCHBACK_5_DOORS AUTOMATIC       автоматическая  EUROPEAN   \n",
       "23948  ...  HATCHBACK_5_DOORS AUTOMATIC       автоматическая  EUROPEAN   \n",
       "27064  ...  HATCHBACK_5_DOORS AUTOMATIC       автоматическая  JAPANESE   \n",
       "28241  ...  HATCHBACK_5_DOORS AUTOMATIC       автоматическая  JAPANESE   \n",
       "32668  ...  HATCHBACK_5_DOORS AUTOMATIC       автоматическая  JAPANESE   \n",
       "32700  ...  HATCHBACK_5_DOORS AUTOMATIC       автоматическая  JAPANESE   \n",
       "32798  ...  HATCHBACK_5_DOORS AUTOMATIC       автоматическая  JAPANESE   \n",
       "34159  ...  HATCHBACK_5_DOORS AUTOMATIC       автоматическая  EUROPEAN   \n",
       "34504  ...  HATCHBACK_5_DOORS AUTOMATIC       автоматическая  JAPANESE   \n",
       "\n",
       "         Владельцы            Владение       ПТС    Привод    Руль  \\\n",
       "5241    1 владелец    1 год и 3 месяца  Оригинал    полный   Левый   \n",
       "7992    1 владелец                 NaN  Оригинал    задний   Левый   \n",
       "8252    1 владелец             1 месяц  Оригинал    задний   Левый   \n",
       "8350    1 владелец                 NaN  Оригинал    задний   Левый   \n",
       "8684    1 владелец                 NaN  Оригинал    задний   Левый   \n",
       "8722    1 владелец                 NaN  Оригинал    задний   Левый   \n",
       "8917    1 владелец                 NaN  Оригинал    задний   Левый   \n",
       "10817   1 владелец                 NaN  Оригинал    задний   Левый   \n",
       "10936   1 владелец                 NaN  Оригинал    задний   Левый   \n",
       "11043   1 владелец           8 месяцев  Оригинал    задний   Левый   \n",
       "11302  3 или более                 NaN  Оригинал  передний   Левый   \n",
       "11682   1 владелец            2 месяца  Оригинал  передний   Левый   \n",
       "11714   1 владелец                 NaN  Оригинал  передний  Правый   \n",
       "11719   1 владелец           5 месяцев  Оригинал  передний  Правый   \n",
       "11754  2 владельца                 NaN  Оригинал  передний  Правый   \n",
       "11878   1 владелец                 NaN  Оригинал  передний   Левый   \n",
       "11974   1 владелец  3 года и 8 месяцев  Оригинал  передний  Правый   \n",
       "12072  3 или более           9 месяцев  Оригинал  передний  Правый   \n",
       "12085   1 владелец   1 год и 6 месяцев  Оригинал  передний   Левый   \n",
       "12100   1 владелец    1 год и 3 месяца  Оригинал  передний  Правый   \n",
       "12250   1 владелец           9 месяцев  Оригинал  передний  Правый   \n",
       "12287   1 владелец                 NaN  Оригинал  передний   Левый   \n",
       "12334   1 владелец           5 месяцев  Оригинал  передний  Правый   \n",
       "12466   1 владелец   2 года и 2 месяца  Оригинал  передний  Правый   \n",
       "12481   1 владелец           5 месяцев  Оригинал  передний  Правый   \n",
       "12558   1 владелец    1 год и 2 месяца  Оригинал  передний  Правый   \n",
       "12582   1 владелец  2 года и 6 месяцев  Оригинал  передний  Правый   \n",
       "12678   1 владелец    1 год и 3 месяца  Оригинал  передний  Правый   \n",
       "12749   1 владелец     1 год и 1 месяц  Оригинал  передний  Правый   \n",
       "12854  2 владельца          11 месяцев  Оригинал  передний  Правый   \n",
       "12916   1 владелец                 NaN  Оригинал  передний  Правый   \n",
       "12948  2 владельца                 NaN  Оригинал  передний  Правый   \n",
       "12950   1 владелец                 NaN  Оригинал  передний  Правый   \n",
       "13052   1 владелец   3 года и 4 месяца  Оригинал  передний  Правый   \n",
       "13104   1 владелец               1 год  Оригинал  передний  Правый   \n",
       "13105   1 владелец   2 года и 4 месяца  Оригинал  передний  Правый   \n",
       "13478   1 владелец            4 месяца  Оригинал  передний  Правый   \n",
       "13633  2 владельца  5 лет и 10 месяцев  Оригинал  передний   Левый   \n",
       "13660   1 владелец    1 год и 3 месяца  Оригинал  передний  Правый   \n",
       "13720   1 владелец                 NaN  Оригинал  передний  Правый   \n",
       "13812   1 владелец                 NaN  Оригинал  передний  Правый   \n",
       "13915   1 владелец   2 года и 4 месяца  Оригинал  передний  Правый   \n",
       "13952   1 владелец          11 месяцев  Оригинал  передний  Правый   \n",
       "13989   1 владелец          11 месяцев  Оригинал  передний  Правый   \n",
       "14147  2 владельца                 NaN  Оригинал  передний  Правый   \n",
       "14419  2 владельца     1 год и 1 месяц  Оригинал  передний  Правый   \n",
       "23869   1 владелец                 NaN  Оригинал  передний   Левый   \n",
       "23948   1 владелец                 NaN  Оригинал  передний   Левый   \n",
       "27064  2 владельца              4 года  Оригинал    задний   Левый   \n",
       "28241  2 владельца                 NaN  Оригинал    задний  Правый   \n",
       "32668   1 владелец  1 год и 10 месяцев  Оригинал  передний   Левый   \n",
       "32700   1 владелец           5 месяцев  Оригинал  передний  Правый   \n",
       "32798   1 владелец                 NaN  Оригинал  передний  Правый   \n",
       "34159  2 владельца          10 месяцев  Оригинал  передний   Левый   \n",
       "34504  2 владельца    2 года и 1 месяц  Оригинал  передний  Правый   \n",
       "\n",
       "                Состояние     Таможня  \n",
       "5241   Не требует ремонта  Растаможен  \n",
       "7992   Не требует ремонта  Растаможен  \n",
       "8252   Не требует ремонта  Растаможен  \n",
       "8350   Не требует ремонта  Растаможен  \n",
       "8684   Не требует ремонта  Растаможен  \n",
       "8722   Не требует ремонта  Растаможен  \n",
       "8917   Не требует ремонта  Растаможен  \n",
       "10817  Не требует ремонта  Растаможен  \n",
       "10936  Не требует ремонта  Растаможен  \n",
       "11043  Не требует ремонта  Растаможен  \n",
       "11302  Не требует ремонта  Растаможен  \n",
       "11682  Не требует ремонта  Растаможен  \n",
       "11714  Не требует ремонта  Растаможен  \n",
       "11719  Не требует ремонта  Растаможен  \n",
       "11754  Не требует ремонта  Растаможен  \n",
       "11878  Не требует ремонта  Растаможен  \n",
       "11974  Не требует ремонта  Растаможен  \n",
       "12072  Не требует ремонта  Растаможен  \n",
       "12085  Не требует ремонта  Растаможен  \n",
       "12100  Не требует ремонта  Растаможен  \n",
       "12250  Не требует ремонта  Растаможен  \n",
       "12287  Не требует ремонта  Растаможен  \n",
       "12334  Не требует ремонта  Растаможен  \n",
       "12466  Не требует ремонта  Растаможен  \n",
       "12481  Не требует ремонта  Растаможен  \n",
       "12558  Не требует ремонта  Растаможен  \n",
       "12582  Не требует ремонта  Растаможен  \n",
       "12678  Не требует ремонта  Растаможен  \n",
       "12749  Не требует ремонта  Растаможен  \n",
       "12854  Не требует ремонта  Растаможен  \n",
       "12916  Не требует ремонта  Растаможен  \n",
       "12948  Не требует ремонта  Растаможен  \n",
       "12950  Не требует ремонта  Растаможен  \n",
       "13052  Не требует ремонта  Растаможен  \n",
       "13104  Не требует ремонта  Растаможен  \n",
       "13105  Не требует ремонта  Растаможен  \n",
       "13478  Не требует ремонта  Растаможен  \n",
       "13633  Не требует ремонта  Растаможен  \n",
       "13660  Не требует ремонта  Растаможен  \n",
       "13720  Не требует ремонта  Растаможен  \n",
       "13812  Не требует ремонта  Растаможен  \n",
       "13915  Не требует ремонта  Растаможен  \n",
       "13952  Не требует ремонта  Растаможен  \n",
       "13989  Не требует ремонта  Растаможен  \n",
       "14147  Не требует ремонта  Растаможен  \n",
       "14419  Не требует ремонта  Растаможен  \n",
       "23869  Не требует ремонта  Растаможен  \n",
       "23948  Не требует ремонта  Растаможен  \n",
       "27064  Не требует ремонта  Растаможен  \n",
       "28241  Не требует ремонта  Растаможен  \n",
       "32668  Не требует ремонта  Растаможен  \n",
       "32700  Не требует ремонта  Растаможен  \n",
       "32798  Не требует ремонта  Растаможен  \n",
       "34159  Не требует ремонта  Растаможен  \n",
       "34504  Не требует ремонта  Растаможен  \n",
       "\n",
       "[55 rows x 32 columns]"
      ]
     },
     "execution_count": 642,
     "metadata": {},
     "output_type": "execute_result"
    }
   ],
   "source": [
    "test_mod[test_mod['engineDisplacement'].isna()]"
   ]
  },
  {
   "cell_type": "code",
   "execution_count": 643,
   "metadata": {},
   "outputs": [
    {
     "data": {
      "text/html": [
       "<div>\n",
       "<style scoped>\n",
       "    .dataframe tbody tr th:only-of-type {\n",
       "        vertical-align: middle;\n",
       "    }\n",
       "\n",
       "    .dataframe tbody tr th {\n",
       "        vertical-align: top;\n",
       "    }\n",
       "\n",
       "    .dataframe thead th {\n",
       "        text-align: right;\n",
       "    }\n",
       "</style>\n",
       "<table border=\"1\" class=\"dataframe\">\n",
       "  <thead>\n",
       "    <tr style=\"text-align: right;\">\n",
       "      <th></th>\n",
       "      <th>bodyType</th>\n",
       "      <th>brand</th>\n",
       "      <th>color</th>\n",
       "      <th>fuelType</th>\n",
       "      <th>modelDate</th>\n",
       "      <th>name</th>\n",
       "      <th>numberOfDoors</th>\n",
       "      <th>productionDate</th>\n",
       "      <th>vehicleConfiguration</th>\n",
       "      <th>vehicleTransmission</th>\n",
       "      <th>...</th>\n",
       "      <th>Руль</th>\n",
       "      <th>Состояние</th>\n",
       "      <th>Владельцы</th>\n",
       "      <th>ПТС</th>\n",
       "      <th>Таможня</th>\n",
       "      <th>Владение</th>\n",
       "      <th>price</th>\n",
       "      <th>start_date</th>\n",
       "      <th>hidden</th>\n",
       "      <th>model</th>\n",
       "    </tr>\n",
       "  </thead>\n",
       "  <tbody>\n",
       "    <tr>\n",
       "      <th>45</th>\n",
       "      <td>Седан</td>\n",
       "      <td>AUDI</td>\n",
       "      <td>040001</td>\n",
       "      <td>бензин</td>\n",
       "      <td>1990.0</td>\n",
       "      <td>S4 2.2 AT (230 л.с.) 4WD</td>\n",
       "      <td>4.0</td>\n",
       "      <td>1992</td>\n",
       "      <td>SEDAN AUTOMATIC S4</td>\n",
       "      <td>AUTOMATIC</td>\n",
       "      <td>...</td>\n",
       "      <td>LEFT</td>\n",
       "      <td>NaN</td>\n",
       "      <td>3.0</td>\n",
       "      <td>DUPLICATE</td>\n",
       "      <td>True</td>\n",
       "      <td>NaN</td>\n",
       "      <td>220000.0</td>\n",
       "      <td>2020-07-09T06:57:21Z</td>\n",
       "      <td>NaN</td>\n",
       "      <td>100</td>\n",
       "    </tr>\n",
       "    <tr>\n",
       "      <th>345</th>\n",
       "      <td>Седан</td>\n",
       "      <td>AUDI</td>\n",
       "      <td>040001</td>\n",
       "      <td>бензин</td>\n",
       "      <td>2012.0</td>\n",
       "      <td>ultra 1.4 AMT (150 л.с.)</td>\n",
       "      <td>4.0</td>\n",
       "      <td>2016</td>\n",
       "      <td>SEDAN ROBOT ultra</td>\n",
       "      <td>ROBOT</td>\n",
       "      <td>...</td>\n",
       "      <td>LEFT</td>\n",
       "      <td>NaN</td>\n",
       "      <td>2.0</td>\n",
       "      <td>ORIGINAL</td>\n",
       "      <td>True</td>\n",
       "      <td>NaN</td>\n",
       "      <td>1254090.0</td>\n",
       "      <td>2020-09-05T16:01:05Z</td>\n",
       "      <td>NaN</td>\n",
       "      <td>A3</td>\n",
       "    </tr>\n",
       "    <tr>\n",
       "      <th>383</th>\n",
       "      <td>Седан</td>\n",
       "      <td>AUDI</td>\n",
       "      <td>FAFBFB</td>\n",
       "      <td>бензин</td>\n",
       "      <td>2012.0</td>\n",
       "      <td>ultra 1.4 AMT (150 л.с.)</td>\n",
       "      <td>4.0</td>\n",
       "      <td>2015</td>\n",
       "      <td>SEDAN ROBOT ultra</td>\n",
       "      <td>ROBOT</td>\n",
       "      <td>...</td>\n",
       "      <td>LEFT</td>\n",
       "      <td>NaN</td>\n",
       "      <td>1.0</td>\n",
       "      <td>ORIGINAL</td>\n",
       "      <td>True</td>\n",
       "      <td>NaN</td>\n",
       "      <td>870000.0</td>\n",
       "      <td>2020-07-28T11:55:47Z</td>\n",
       "      <td>NaN</td>\n",
       "      <td>A3</td>\n",
       "    </tr>\n",
       "    <tr>\n",
       "      <th>658</th>\n",
       "      <td>Универсал 5 дв.</td>\n",
       "      <td>AUDI</td>\n",
       "      <td>040001</td>\n",
       "      <td>дизель</td>\n",
       "      <td>2004.0</td>\n",
       "      <td>8V 2.0d MT (140 л.с.)</td>\n",
       "      <td>5.0</td>\n",
       "      <td>2005</td>\n",
       "      <td>WAGON_5_DOORS MECHANICAL 8V</td>\n",
       "      <td>MECHANICAL</td>\n",
       "      <td>...</td>\n",
       "      <td>LEFT</td>\n",
       "      <td>NaN</td>\n",
       "      <td>3.0</td>\n",
       "      <td>ORIGINAL</td>\n",
       "      <td>True</td>\n",
       "      <td>{'year': 2020, 'month': 2}</td>\n",
       "      <td>380000.0</td>\n",
       "      <td>2020-09-08T19:06:10Z</td>\n",
       "      <td>NaN</td>\n",
       "      <td>A4</td>\n",
       "    </tr>\n",
       "    <tr>\n",
       "      <th>671</th>\n",
       "      <td>Универсал 5 дв.</td>\n",
       "      <td>AUDI</td>\n",
       "      <td>040001</td>\n",
       "      <td>дизель</td>\n",
       "      <td>2004.0</td>\n",
       "      <td>8V 2.0d CVT (140 л.с.)</td>\n",
       "      <td>5.0</td>\n",
       "      <td>2007</td>\n",
       "      <td>WAGON_5_DOORS VARIATOR 8V</td>\n",
       "      <td>VARIATOR</td>\n",
       "      <td>...</td>\n",
       "      <td>LEFT</td>\n",
       "      <td>NaN</td>\n",
       "      <td>3.0</td>\n",
       "      <td>ORIGINAL</td>\n",
       "      <td>True</td>\n",
       "      <td>NaN</td>\n",
       "      <td>395000.0</td>\n",
       "      <td>2020-07-26T20:05:31Z</td>\n",
       "      <td>NaN</td>\n",
       "      <td>A4</td>\n",
       "    </tr>\n",
       "    <tr>\n",
       "      <th>...</th>\n",
       "      <td>...</td>\n",
       "      <td>...</td>\n",
       "      <td>...</td>\n",
       "      <td>...</td>\n",
       "      <td>...</td>\n",
       "      <td>...</td>\n",
       "      <td>...</td>\n",
       "      <td>...</td>\n",
       "      <td>...</td>\n",
       "      <td>...</td>\n",
       "      <td>...</td>\n",
       "      <td>...</td>\n",
       "      <td>...</td>\n",
       "      <td>...</td>\n",
       "      <td>...</td>\n",
       "      <td>...</td>\n",
       "      <td>...</td>\n",
       "      <td>...</td>\n",
       "      <td>...</td>\n",
       "      <td>...</td>\n",
       "      <td>...</td>\n",
       "    </tr>\n",
       "    <tr>\n",
       "      <th>89238</th>\n",
       "      <td>Внедорожник 5 дв.</td>\n",
       "      <td>SSANG_YONG</td>\n",
       "      <td>CACECB</td>\n",
       "      <td>дизель</td>\n",
       "      <td>2007.0</td>\n",
       "      <td>6-speed 2.0d AT (141 л.с.) 4WD</td>\n",
       "      <td>5.0</td>\n",
       "      <td>2010</td>\n",
       "      <td>ALLROAD_5_DOORS AUTOMATIC 6-speed</td>\n",
       "      <td>AUTOMATIC</td>\n",
       "      <td>...</td>\n",
       "      <td>LEFT</td>\n",
       "      <td>NaN</td>\n",
       "      <td>3.0</td>\n",
       "      <td>ORIGINAL</td>\n",
       "      <td>True</td>\n",
       "      <td>{'year': 2018, 'month': 3}</td>\n",
       "      <td>455000.0</td>\n",
       "      <td>2020-05-26T14:21:34Z</td>\n",
       "      <td>NaN</td>\n",
       "      <td>KYRON</td>\n",
       "    </tr>\n",
       "    <tr>\n",
       "      <th>89239</th>\n",
       "      <td>Внедорожник 5 дв.</td>\n",
       "      <td>SSANG_YONG</td>\n",
       "      <td>040001</td>\n",
       "      <td>бензин</td>\n",
       "      <td>2007.0</td>\n",
       "      <td>6-speed 2.3 AT (150 л.с.) 4WD</td>\n",
       "      <td>5.0</td>\n",
       "      <td>2009</td>\n",
       "      <td>ALLROAD_5_DOORS AUTOMATIC 6-speed</td>\n",
       "      <td>AUTOMATIC</td>\n",
       "      <td>...</td>\n",
       "      <td>LEFT</td>\n",
       "      <td>NaN</td>\n",
       "      <td>2.0</td>\n",
       "      <td>ORIGINAL</td>\n",
       "      <td>True</td>\n",
       "      <td>NaN</td>\n",
       "      <td>525000.0</td>\n",
       "      <td>2020-05-31T06:33:06Z</td>\n",
       "      <td>NaN</td>\n",
       "      <td>KYRON</td>\n",
       "    </tr>\n",
       "    <tr>\n",
       "      <th>89242</th>\n",
       "      <td>Внедорожник 5 дв.</td>\n",
       "      <td>SSANG_YONG</td>\n",
       "      <td>97948F</td>\n",
       "      <td>дизель</td>\n",
       "      <td>2007.0</td>\n",
       "      <td>6-speed 2.0d AT (141 л.с.) 4WD</td>\n",
       "      <td>5.0</td>\n",
       "      <td>2012</td>\n",
       "      <td>ALLROAD_5_DOORS AUTOMATIC 6-speed</td>\n",
       "      <td>AUTOMATIC</td>\n",
       "      <td>...</td>\n",
       "      <td>LEFT</td>\n",
       "      <td>NaN</td>\n",
       "      <td>2.0</td>\n",
       "      <td>ORIGINAL</td>\n",
       "      <td>True</td>\n",
       "      <td>NaN</td>\n",
       "      <td>650000.0</td>\n",
       "      <td>2020-02-26T13:40:39Z</td>\n",
       "      <td>NaN</td>\n",
       "      <td>KYRON</td>\n",
       "    </tr>\n",
       "    <tr>\n",
       "      <th>89247</th>\n",
       "      <td>Пикап Двойная кабина Sports</td>\n",
       "      <td>SSANG_YONG</td>\n",
       "      <td>CACECB</td>\n",
       "      <td>дизель</td>\n",
       "      <td>1998.0</td>\n",
       "      <td>Sports 2.9d MT (120 л.с.) 4WD</td>\n",
       "      <td>4.0</td>\n",
       "      <td>2006</td>\n",
       "      <td>PICKUP_TWO MECHANICAL Sports</td>\n",
       "      <td>MECHANICAL</td>\n",
       "      <td>...</td>\n",
       "      <td>LEFT</td>\n",
       "      <td>NaN</td>\n",
       "      <td>1.0</td>\n",
       "      <td>ORIGINAL</td>\n",
       "      <td>True</td>\n",
       "      <td>NaN</td>\n",
       "      <td>385000.0</td>\n",
       "      <td>2020-08-30T12:58:53Z</td>\n",
       "      <td>NaN</td>\n",
       "      <td>MUSSO</td>\n",
       "    </tr>\n",
       "    <tr>\n",
       "      <th>89252</th>\n",
       "      <td>Пикап Двойная кабина Sports</td>\n",
       "      <td>SSANG_YONG</td>\n",
       "      <td>007F00</td>\n",
       "      <td>дизель</td>\n",
       "      <td>1998.0</td>\n",
       "      <td>Sports 2.9d AT (120 л.с.) 4WD</td>\n",
       "      <td>4.0</td>\n",
       "      <td>2006</td>\n",
       "      <td>PICKUP_TWO AUTOMATIC Sports</td>\n",
       "      <td>AUTOMATIC</td>\n",
       "      <td>...</td>\n",
       "      <td>LEFT</td>\n",
       "      <td>NaN</td>\n",
       "      <td>3.0</td>\n",
       "      <td>ORIGINAL</td>\n",
       "      <td>True</td>\n",
       "      <td>NaN</td>\n",
       "      <td>350000.0</td>\n",
       "      <td>2019-09-27T12:35:23Z</td>\n",
       "      <td>NaN</td>\n",
       "      <td>MUSSO</td>\n",
       "    </tr>\n",
       "  </tbody>\n",
       "</table>\n",
       "<p>20387 rows × 26 columns</p>\n",
       "</div>"
      ],
      "text/plain": [
       "                          bodyType       brand   color fuelType  modelDate  \\\n",
       "45                           Седан        AUDI  040001   бензин     1990.0   \n",
       "345                          Седан        AUDI  040001   бензин     2012.0   \n",
       "383                          Седан        AUDI  FAFBFB   бензин     2012.0   \n",
       "658                Универсал 5 дв.        AUDI  040001   дизель     2004.0   \n",
       "671                Универсал 5 дв.        AUDI  040001   дизель     2004.0   \n",
       "...                            ...         ...     ...      ...        ...   \n",
       "89238            Внедорожник 5 дв.  SSANG_YONG  CACECB   дизель     2007.0   \n",
       "89239            Внедорожник 5 дв.  SSANG_YONG  040001   бензин     2007.0   \n",
       "89242            Внедорожник 5 дв.  SSANG_YONG  97948F   дизель     2007.0   \n",
       "89247  Пикап Двойная кабина Sports  SSANG_YONG  CACECB   дизель     1998.0   \n",
       "89252  Пикап Двойная кабина Sports  SSANG_YONG  007F00   дизель     1998.0   \n",
       "\n",
       "                                 name  numberOfDoors  productionDate  \\\n",
       "45           S4 2.2 AT (230 л.с.) 4WD            4.0            1992   \n",
       "345          ultra 1.4 AMT (150 л.с.)            4.0            2016   \n",
       "383          ultra 1.4 AMT (150 л.с.)            4.0            2015   \n",
       "658             8V 2.0d MT (140 л.с.)            5.0            2005   \n",
       "671            8V 2.0d CVT (140 л.с.)            5.0            2007   \n",
       "...                               ...            ...             ...   \n",
       "89238  6-speed 2.0d AT (141 л.с.) 4WD            5.0            2010   \n",
       "89239   6-speed 2.3 AT (150 л.с.) 4WD            5.0            2009   \n",
       "89242  6-speed 2.0d AT (141 л.с.) 4WD            5.0            2012   \n",
       "89247   Sports 2.9d MT (120 л.с.) 4WD            4.0            2006   \n",
       "89252   Sports 2.9d AT (120 л.с.) 4WD            4.0            2006   \n",
       "\n",
       "                    vehicleConfiguration vehicleTransmission  ...  Руль  \\\n",
       "45                    SEDAN AUTOMATIC S4           AUTOMATIC  ...  LEFT   \n",
       "345                    SEDAN ROBOT ultra               ROBOT  ...  LEFT   \n",
       "383                    SEDAN ROBOT ultra               ROBOT  ...  LEFT   \n",
       "658          WAGON_5_DOORS MECHANICAL 8V          MECHANICAL  ...  LEFT   \n",
       "671            WAGON_5_DOORS VARIATOR 8V            VARIATOR  ...  LEFT   \n",
       "...                                  ...                 ...  ...   ...   \n",
       "89238  ALLROAD_5_DOORS AUTOMATIC 6-speed           AUTOMATIC  ...  LEFT   \n",
       "89239  ALLROAD_5_DOORS AUTOMATIC 6-speed           AUTOMATIC  ...  LEFT   \n",
       "89242  ALLROAD_5_DOORS AUTOMATIC 6-speed           AUTOMATIC  ...  LEFT   \n",
       "89247       PICKUP_TWO MECHANICAL Sports          MECHANICAL  ...  LEFT   \n",
       "89252        PICKUP_TWO AUTOMATIC Sports           AUTOMATIC  ...  LEFT   \n",
       "\n",
       "       Состояние Владельцы        ПТС Таможня                    Владение  \\\n",
       "45           NaN       3.0  DUPLICATE    True                         NaN   \n",
       "345          NaN       2.0   ORIGINAL    True                         NaN   \n",
       "383          NaN       1.0   ORIGINAL    True                         NaN   \n",
       "658          NaN       3.0   ORIGINAL    True  {'year': 2020, 'month': 2}   \n",
       "671          NaN       3.0   ORIGINAL    True                         NaN   \n",
       "...          ...       ...        ...     ...                         ...   \n",
       "89238        NaN       3.0   ORIGINAL    True  {'year': 2018, 'month': 3}   \n",
       "89239        NaN       2.0   ORIGINAL    True                         NaN   \n",
       "89242        NaN       2.0   ORIGINAL    True                         NaN   \n",
       "89247        NaN       1.0   ORIGINAL    True                         NaN   \n",
       "89252        NaN       3.0   ORIGINAL    True                         NaN   \n",
       "\n",
       "           price            start_date  hidden  model  \n",
       "45      220000.0  2020-07-09T06:57:21Z     NaN    100  \n",
       "345    1254090.0  2020-09-05T16:01:05Z     NaN     A3  \n",
       "383     870000.0  2020-07-28T11:55:47Z     NaN     A3  \n",
       "658     380000.0  2020-09-08T19:06:10Z     NaN     A4  \n",
       "671     395000.0  2020-07-26T20:05:31Z     NaN     A4  \n",
       "...          ...                   ...     ...    ...  \n",
       "89238   455000.0  2020-05-26T14:21:34Z     NaN  KYRON  \n",
       "89239   525000.0  2020-05-31T06:33:06Z     NaN  KYRON  \n",
       "89242   650000.0  2020-02-26T13:40:39Z     NaN  KYRON  \n",
       "89247   385000.0  2020-08-30T12:58:53Z     NaN  MUSSO  \n",
       "89252   350000.0  2019-09-27T12:35:23Z     NaN  MUSSO  \n",
       "\n",
       "[20387 rows x 26 columns]"
      ]
     },
     "execution_count": 643,
     "metadata": {},
     "output_type": "execute_result"
    }
   ],
   "source": [
    "train_mod[train_mod['engineDisplacement'].isna()]"
   ]
  },
  {
   "cell_type": "markdown",
   "metadata": {},
   "source": [
    "Возможно, эти пропуски мы сможем заполнить, взяв информацию из столбца 'name'"
   ]
  },
  {
   "cell_type": "code",
   "execution_count": 644,
   "metadata": {},
   "outputs": [
    {
     "data": {
      "text/plain": [
       "5241     55 Electro AT (301 кВт) 4WD\n",
       "7992            Electro AT (126 кВт)\n",
       "8252            Electro AT (126 кВт)\n",
       "8350            Electro AT (126 кВт)\n",
       "8684       94Ah Electro AT (126 кВт)\n",
       "8722            Electro AT (126 кВт)\n",
       "8917       94Ah Electro AT (126 кВт)\n",
       "10817           Electro AT (126 кВт)\n",
       "10936           Electro AT (126 кВт)\n",
       "11043      94Ah Electro AT (126 кВт)\n",
       "11302            Electro AT (81 кВт)\n",
       "11682           Electro AT (111 кВт)\n",
       "11714           Electro AT (111 кВт)\n",
       "11719            Electro AT (81 кВт)\n",
       "11754            Electro AT (81 кВт)\n",
       "11878            Electro AT (81 кВт)\n",
       "11974            Electro AT (81 кВт)\n",
       "12072            Electro AT (81 кВт)\n",
       "12085            Electro AT (81 кВт)\n",
       "12100      30kWh Electro AT (81 кВт)\n",
       "12250            Electro AT (81 кВт)\n",
       "12287            Electro AT (81 кВт)\n",
       "12334            Electro AT (81 кВт)\n",
       "12466      30kWh Electro AT (81 кВт)\n",
       "12481            Electro AT (81 кВт)\n",
       "12558            Electro AT (81 кВт)\n",
       "12582      30kWh Electro AT (81 кВт)\n",
       "12678            Electro AT (81 кВт)\n",
       "12749            Electro AT (81 кВт)\n",
       "12854            Electro AT (81 кВт)\n",
       "12916            Electro AT (81 кВт)\n",
       "12948            Electro AT (81 кВт)\n",
       "12950            Electro AT (81 кВт)\n",
       "13052            Electro AT (81 кВт)\n",
       "13104            Electro AT (81 кВт)\n",
       "13105            Electro AT (81 кВт)\n",
       "13478      30kWh Electro AT (81 кВт)\n",
       "13633            Electro AT (81 кВт)\n",
       "13660            Electro AT (81 кВт)\n",
       "13720            Electro AT (81 кВт)\n",
       "13812            Electro AT (81 кВт)\n",
       "13915      30kWh Electro AT (81 кВт)\n",
       "13952            Electro AT (81 кВт)\n",
       "13989            Electro AT (81 кВт)\n",
       "14147            Electro AT (81 кВт)\n",
       "14419            Electro AT (81 кВт)\n",
       "23869     e-Golf Electro AT (85 кВт)\n",
       "23948     e-Golf Electro AT (85 кВт)\n",
       "27064            Electro AT (50 кВт)\n",
       "28241            Electro AT (50 кВт)\n",
       "32668           Electro AT (111 кВт)\n",
       "32700            Electro AT (81 кВт)\n",
       "32798            Electro AT (81 кВт)\n",
       "34159     250 e Electro AT (132 кВт)\n",
       "34504            Electro AT (81 кВт)\n",
       "Name: name, dtype: object"
      ]
     },
     "execution_count": 644,
     "metadata": {},
     "output_type": "execute_result"
    }
   ],
   "source": [
    "test_mod[test_mod['engineDisplacement'].isna()]['name']"
   ]
  },
  {
   "cell_type": "markdown",
   "metadata": {},
   "source": [
    "Очевидно что в TEST объём двигателя отсутствует исключительно у электромобилей. Что вполне логично. Стоит заполнить пропуски нолями"
   ]
  },
  {
   "cell_type": "code",
   "execution_count": 645,
   "metadata": {},
   "outputs": [],
   "source": [
    "test_mod['engineDisplacement'].fillna(0, inplace = True)"
   ]
  },
  {
   "cell_type": "code",
   "execution_count": 646,
   "metadata": {},
   "outputs": [
    {
     "data": {
      "text/plain": [
       "45             S4 2.2 AT (230 л.с.) 4WD\n",
       "345            ultra 1.4 AMT (150 л.с.)\n",
       "383            ultra 1.4 AMT (150 л.с.)\n",
       "658               8V 2.0d MT (140 л.с.)\n",
       "671              8V 2.0d CVT (140 л.с.)\n",
       "                      ...              \n",
       "89238    6-speed 2.0d AT (141 л.с.) 4WD\n",
       "89239     6-speed 2.3 AT (150 л.с.) 4WD\n",
       "89242    6-speed 2.0d AT (141 л.с.) 4WD\n",
       "89247     Sports 2.9d MT (120 л.с.) 4WD\n",
       "89252     Sports 2.9d AT (120 л.с.) 4WD\n",
       "Name: name, Length: 20387, dtype: object"
      ]
     },
     "execution_count": 646,
     "metadata": {},
     "output_type": "execute_result"
    }
   ],
   "source": [
    "train_mod[train_mod['engineDisplacement'].isna()]['name']"
   ]
  },
  {
   "cell_type": "markdown",
   "metadata": {},
   "source": [
    "В TRAIN ситуация совсем иная. С этим ещё предстоит разобраться."
   ]
  },
  {
   "cell_type": "markdown",
   "metadata": {},
   "source": [
    "## enginePower"
   ]
  },
  {
   "cell_type": "code",
   "execution_count": 647,
   "metadata": {},
   "outputs": [
    {
     "name": "stdout",
     "output_type": "stream",
     "text": [
      "TEST\n"
     ]
    },
    {
     "data": {
      "text/plain": [
       "6339     190 N12\n",
       "2192     122 N12\n",
       "14740    211 N12\n",
       "27541    160 N12\n",
       "28614    220 N12\n",
       "Name: enginePower, dtype: object"
      ]
     },
     "metadata": {},
     "output_type": "display_data"
    },
    {
     "name": "stdout",
     "output_type": "stream",
     "text": [
      "TRAIN\n"
     ]
    },
    {
     "data": {
      "text/plain": [
       "43177     98.0\n",
       "56759    500.0\n",
       "55026     75.0\n",
       "52403    115.0\n",
       "81510    156.0\n",
       "Name: enginePower, dtype: float64"
      ]
     },
     "metadata": {},
     "output_type": "display_data"
    }
   ],
   "source": [
    "column = 'enginePower'\n",
    "type_comparison(column)"
   ]
  },
  {
   "cell_type": "markdown",
   "metadata": {},
   "source": [
    "Необходимо привести данные к единому формату"
   ]
  },
  {
   "cell_type": "code",
   "execution_count": 648,
   "metadata": {},
   "outputs": [],
   "source": [
    "#Преобразование\n",
    "train_mod.enginePower = train_mod.enginePower.convert_dtypes(int)\n",
    "test_mod[\"enginePower\"] = test_mod[\"enginePower\"].apply(lambda x : (int)(x.split(' ')[0]))"
   ]
  },
  {
   "cell_type": "code",
   "execution_count": 649,
   "metadata": {},
   "outputs": [
    {
     "name": "stdout",
     "output_type": "stream",
     "text": [
      "TEST\n"
     ]
    },
    {
     "data": {
      "text/plain": [
       "18535    517\n",
       "24196    152\n",
       "2645     160\n",
       "34292    181\n",
       "3144     333\n",
       "Name: enginePower, dtype: int64"
      ]
     },
     "metadata": {},
     "output_type": "display_data"
    },
    {
     "name": "stdout",
     "output_type": "stream",
     "text": [
      "TRAIN\n"
     ]
    },
    {
     "data": {
      "text/plain": [
       "51875    167\n",
       "19925    100\n",
       "88589    136\n",
       "29706    123\n",
       "37923    150\n",
       "Name: enginePower, dtype: Int64"
      ]
     },
     "metadata": {},
     "output_type": "display_data"
    }
   ],
   "source": [
    "column = 'enginePower'\n",
    "type_comparison(column)"
   ]
  },
  {
   "cell_type": "markdown",
   "metadata": {},
   "source": [
    "Проверим не образовались ли пропуски в этом столбце"
   ]
  },
  {
   "cell_type": "code",
   "execution_count": 650,
   "metadata": {},
   "outputs": [
    {
     "data": {
      "text/html": [
       "<div>\n",
       "<style scoped>\n",
       "    .dataframe tbody tr th:only-of-type {\n",
       "        vertical-align: middle;\n",
       "    }\n",
       "\n",
       "    .dataframe tbody tr th {\n",
       "        vertical-align: top;\n",
       "    }\n",
       "\n",
       "    .dataframe thead th {\n",
       "        text-align: right;\n",
       "    }\n",
       "</style>\n",
       "<table border=\"1\" class=\"dataframe\">\n",
       "  <thead>\n",
       "    <tr style=\"text-align: right;\">\n",
       "      <th></th>\n",
       "      <th>bodyType</th>\n",
       "      <th>brand</th>\n",
       "      <th>car_url</th>\n",
       "      <th>color</th>\n",
       "      <th>complectation_dict</th>\n",
       "      <th>description</th>\n",
       "      <th>engineDisplacement</th>\n",
       "      <th>enginePower</th>\n",
       "      <th>equipment_dict</th>\n",
       "      <th>fuelType</th>\n",
       "      <th>...</th>\n",
       "      <th>vehicleConfiguration</th>\n",
       "      <th>vehicleTransmission</th>\n",
       "      <th>vendor</th>\n",
       "      <th>Владельцы</th>\n",
       "      <th>Владение</th>\n",
       "      <th>ПТС</th>\n",
       "      <th>Привод</th>\n",
       "      <th>Руль</th>\n",
       "      <th>Состояние</th>\n",
       "      <th>Таможня</th>\n",
       "    </tr>\n",
       "  </thead>\n",
       "  <tbody>\n",
       "  </tbody>\n",
       "</table>\n",
       "<p>0 rows × 32 columns</p>\n",
       "</div>"
      ],
      "text/plain": [
       "Empty DataFrame\n",
       "Columns: [bodyType, brand, car_url, color, complectation_dict, description, engineDisplacement, enginePower, equipment_dict, fuelType, image, mileage, modelDate, model_info, model_name, name, numberOfDoors, parsing_unixtime, priceCurrency, productionDate, sell_id, super_gen, vehicleConfiguration, vehicleTransmission, vendor, Владельцы, Владение, ПТС, Привод, Руль, Состояние, Таможня]\n",
       "Index: []\n",
       "\n",
       "[0 rows x 32 columns]"
      ]
     },
     "execution_count": 650,
     "metadata": {},
     "output_type": "execute_result"
    }
   ],
   "source": [
    "test_mod[test_mod['enginePower'].isna()]"
   ]
  },
  {
   "cell_type": "code",
   "execution_count": 651,
   "metadata": {},
   "outputs": [
    {
     "data": {
      "text/html": [
       "<div>\n",
       "<style scoped>\n",
       "    .dataframe tbody tr th:only-of-type {\n",
       "        vertical-align: middle;\n",
       "    }\n",
       "\n",
       "    .dataframe tbody tr th {\n",
       "        vertical-align: top;\n",
       "    }\n",
       "\n",
       "    .dataframe thead th {\n",
       "        text-align: right;\n",
       "    }\n",
       "</style>\n",
       "<table border=\"1\" class=\"dataframe\">\n",
       "  <thead>\n",
       "    <tr style=\"text-align: right;\">\n",
       "      <th></th>\n",
       "      <th>bodyType</th>\n",
       "      <th>brand</th>\n",
       "      <th>color</th>\n",
       "      <th>fuelType</th>\n",
       "      <th>modelDate</th>\n",
       "      <th>name</th>\n",
       "      <th>numberOfDoors</th>\n",
       "      <th>productionDate</th>\n",
       "      <th>vehicleConfiguration</th>\n",
       "      <th>vehicleTransmission</th>\n",
       "      <th>...</th>\n",
       "      <th>Руль</th>\n",
       "      <th>Состояние</th>\n",
       "      <th>Владельцы</th>\n",
       "      <th>ПТС</th>\n",
       "      <th>Таможня</th>\n",
       "      <th>Владение</th>\n",
       "      <th>price</th>\n",
       "      <th>start_date</th>\n",
       "      <th>hidden</th>\n",
       "      <th>model</th>\n",
       "    </tr>\n",
       "  </thead>\n",
       "  <tbody>\n",
       "    <tr>\n",
       "      <th>24624</th>\n",
       "      <td>NaN</td>\n",
       "      <td>HONDA</td>\n",
       "      <td>CACECB</td>\n",
       "      <td>универсал</td>\n",
       "      <td>NaN</td>\n",
       "      <td>NaN</td>\n",
       "      <td>NaN</td>\n",
       "      <td>1989</td>\n",
       "      <td>NaN</td>\n",
       "      <td>NaN</td>\n",
       "      <td>...</td>\n",
       "      <td>LEFT</td>\n",
       "      <td>NaN</td>\n",
       "      <td>3.0</td>\n",
       "      <td>ORIGINAL</td>\n",
       "      <td>True</td>\n",
       "      <td>NaN</td>\n",
       "      <td>120000.0</td>\n",
       "      <td>2020-04-10T16:07:57Z</td>\n",
       "      <td>NaN</td>\n",
       "      <td>CIVIC</td>\n",
       "    </tr>\n",
       "  </tbody>\n",
       "</table>\n",
       "<p>1 rows × 26 columns</p>\n",
       "</div>"
      ],
      "text/plain": [
       "      bodyType  brand   color   fuelType  modelDate name  numberOfDoors  \\\n",
       "24624      NaN  HONDA  CACECB  универсал        NaN  NaN            NaN   \n",
       "\n",
       "       productionDate vehicleConfiguration vehicleTransmission  ...  Руль  \\\n",
       "24624            1989                  NaN                 NaN  ...  LEFT   \n",
       "\n",
       "       Состояние Владельцы       ПТС Таможня Владение     price  \\\n",
       "24624        NaN       3.0  ORIGINAL    True      NaN  120000.0   \n",
       "\n",
       "                 start_date  hidden  model  \n",
       "24624  2020-04-10T16:07:57Z     NaN  CIVIC  \n",
       "\n",
       "[1 rows x 26 columns]"
      ]
     },
     "execution_count": 651,
     "metadata": {},
     "output_type": "execute_result"
    }
   ],
   "source": [
    "train_mod[train_mod['enginePower'].isna()]"
   ]
  },
  {
   "cell_type": "markdown",
   "metadata": {},
   "source": [
    "Образовался один пропуск. Строка с этим пропуском в целом содержит мало данных и должна быть удалена"
   ]
  },
  {
   "cell_type": "code",
   "execution_count": 652,
   "metadata": {},
   "outputs": [],
   "source": [
    "train_mod.drop(24624, inplace = True)"
   ]
  },
  {
   "cell_type": "markdown",
   "metadata": {},
   "source": [
    "## fuelType"
   ]
  },
  {
   "cell_type": "code",
   "execution_count": 653,
   "metadata": {},
   "outputs": [
    {
     "name": "stdout",
     "output_type": "stream",
     "text": [
      "TEST\n"
     ]
    },
    {
     "data": {
      "text/plain": [
       "1143     бензин\n",
       "27853    бензин\n",
       "14983    бензин\n",
       "26891    дизель\n",
       "15184    бензин\n",
       "Name: fuelType, dtype: object"
      ]
     },
     "metadata": {},
     "output_type": "display_data"
    },
    {
     "name": "stdout",
     "output_type": "stream",
     "text": [
      "TRAIN\n"
     ]
    },
    {
     "data": {
      "text/plain": [
       "54120    бензин\n",
       "6975     дизель\n",
       "80624    бензин\n",
       "4967     бензин\n",
       "64093    бензин\n",
       "Name: fuelType, dtype: object"
      ]
     },
     "metadata": {},
     "output_type": "display_data"
    }
   ],
   "source": [
    "column = 'fuelType'\n",
    "type_comparison(column)"
   ]
  },
  {
   "cell_type": "code",
   "execution_count": 654,
   "metadata": {},
   "outputs": [
    {
     "data": {
      "text/plain": [
       "array(['бензин', 'дизель', 'электро', 'гибрид', 'газ'], dtype=object)"
      ]
     },
     "execution_count": 654,
     "metadata": {},
     "output_type": "execute_result"
    }
   ],
   "source": [
    "train_mod.fuelType.unique() "
   ]
  },
  {
   "cell_type": "code",
   "execution_count": 655,
   "metadata": {},
   "outputs": [
    {
     "data": {
      "text/plain": [
       "array(['бензин', 'дизель', 'гибрид', 'электро', 'газ'], dtype=object)"
      ]
     },
     "execution_count": 655,
     "metadata": {},
     "output_type": "execute_result"
    }
   ],
   "source": [
    "test_mod.fuelType.unique()"
   ]
  },
  {
   "cell_type": "markdown",
   "metadata": {},
   "source": [
    "Никаких преобразований не требуется"
   ]
  },
  {
   "cell_type": "markdown",
   "metadata": {},
   "source": [
    "## mileage"
   ]
  },
  {
   "cell_type": "code",
   "execution_count": 656,
   "metadata": {
    "scrolled": true
   },
   "outputs": [
    {
     "name": "stdout",
     "output_type": "stream",
     "text": [
      "TEST\n"
     ]
    },
    {
     "data": {
      "text/plain": [
       "8559     156000\n",
       "22954      1300\n",
       "22978    172000\n",
       "9616     140000\n",
       "10519    144000\n",
       "Name: mileage, dtype: int64"
      ]
     },
     "metadata": {},
     "output_type": "display_data"
    },
    {
     "name": "stdout",
     "output_type": "stream",
     "text": [
      "TRAIN\n"
     ]
    },
    {
     "data": {
      "text/plain": [
       "41402    123862\n",
       "71036    154000\n",
       "25154    100000\n",
       "60720     60000\n",
       "61352    135000\n",
       "Name: mileage, dtype: int64"
      ]
     },
     "metadata": {},
     "output_type": "display_data"
    }
   ],
   "source": [
    "column = 'mileage'\n",
    "type_comparison(column)"
   ]
  },
  {
   "cell_type": "markdown",
   "metadata": {},
   "source": [
    "Имеет смысл разделить всё значения на 1000 и округлить - сотни километров пробега не имеют значения при оценке автомобиля.  \n",
    "Так мы уменьшим кол-во уникальных значений в столбце."
   ]
  },
  {
   "cell_type": "code",
   "execution_count": 657,
   "metadata": {
    "scrolled": true
   },
   "outputs": [],
   "source": [
    "test_mod['mileage'] = test_mod['mileage'].apply(lambda x: round(x/1000))\n",
    "train_mod['mileage'] = train_mod['mileage'].apply(lambda x: round(x/1000))"
   ]
  },
  {
   "cell_type": "markdown",
   "metadata": {},
   "source": [
    "## modelDate"
   ]
  },
  {
   "cell_type": "code",
   "execution_count": 658,
   "metadata": {},
   "outputs": [
    {
     "name": "stdout",
     "output_type": "stream",
     "text": [
      "TEST\n"
     ]
    },
    {
     "data": {
      "text/plain": [
       "1509     2013\n",
       "10664    2008\n",
       "20905    1995\n",
       "28523    2010\n",
       "33383    1995\n",
       "Name: modelDate, dtype: int64"
      ]
     },
     "metadata": {},
     "output_type": "display_data"
    },
    {
     "name": "stdout",
     "output_type": "stream",
     "text": [
      "TRAIN\n"
     ]
    },
    {
     "data": {
      "text/plain": [
       "69078    2008.0\n",
       "39548    2006.0\n",
       "46255    2012.0\n",
       "33669    2013.0\n",
       "6755     2009.0\n",
       "Name: modelDate, dtype: float64"
      ]
     },
     "metadata": {},
     "output_type": "display_data"
    }
   ],
   "source": [
    "column = 'modelDate'\n",
    "type_comparison(column)"
   ]
  },
  {
   "cell_type": "markdown",
   "metadata": {},
   "source": [
    "Приводим к единому формату"
   ]
  },
  {
   "cell_type": "code",
   "execution_count": 659,
   "metadata": {},
   "outputs": [],
   "source": [
    "#Преобразование\n",
    "train_mod.modelDate = train_mod.modelDate.convert_dtypes(int) #astype('int')"
   ]
  },
  {
   "cell_type": "code",
   "execution_count": 660,
   "metadata": {},
   "outputs": [
    {
     "name": "stdout",
     "output_type": "stream",
     "text": [
      "TEST\n"
     ]
    },
    {
     "data": {
      "text/plain": [
       "32031    2009\n",
       "34542    2006\n",
       "3418     2005\n",
       "9627     2015\n",
       "18589    2012\n",
       "Name: modelDate, dtype: int64"
      ]
     },
     "metadata": {},
     "output_type": "display_data"
    },
    {
     "name": "stdout",
     "output_type": "stream",
     "text": [
      "TRAIN\n"
     ]
    },
    {
     "data": {
      "text/plain": [
       "55247    2016\n",
       "16527    2008\n",
       "1343     2011\n",
       "34977    2004\n",
       "34897    2017\n",
       "Name: modelDate, dtype: Int64"
      ]
     },
     "metadata": {},
     "output_type": "display_data"
    }
   ],
   "source": [
    "column = 'modelDate'\n",
    "type_comparison(column)"
   ]
  },
  {
   "cell_type": "markdown",
   "metadata": {},
   "source": [
    "## name"
   ]
  },
  {
   "cell_type": "code",
   "execution_count": 661,
   "metadata": {},
   "outputs": [
    {
     "name": "stdout",
     "output_type": "stream",
     "text": [
      "TEST\n"
     ]
    },
    {
     "data": {
      "text/plain": [
       "9696      4.4 AT (555 л.с.) 4WD\n",
       "31138         1.6 AT (110 л.с.)\n",
       "19164    4.5d AT (235 л.с.) 4WD\n",
       "2828     2.5 AMT (400 л.с.) 4WD\n",
       "28468      0.7 AT (64 л.с.) 4WD\n",
       "Name: name, dtype: object"
      ]
     },
     "metadata": {},
     "output_type": "display_data"
    },
    {
     "name": "stdout",
     "output_type": "stream",
     "text": [
      "TRAIN\n"
     ]
    },
    {
     "data": {
      "text/plain": [
       "62454         1.8 MT (152 л.с.)\n",
       "3496     2.0 AMT (249 л.с.) 4WD\n",
       "42471     2.5d AT (85 л.с.) 4WD\n",
       "41143     2.3 AT (238 л.с.) 4WD\n",
       "76773        2.0 AMT (145 л.с.)\n",
       "Name: name, dtype: object"
      ]
     },
     "metadata": {},
     "output_type": "display_data"
    }
   ],
   "source": [
    "column = 'name'\n",
    "type_comparison(column)"
   ]
  },
  {
   "cell_type": "markdown",
   "metadata": {},
   "source": [
    "В этом столбце есть информация об объёме двигателя. Её можно использовать для заполнения пропусков в столбце 'engineDisplacement'.  \n",
    "Потом этот столбец будет не нужен."
   ]
  },
  {
   "cell_type": "code",
   "execution_count": 662,
   "metadata": {},
   "outputs": [],
   "source": [
    "columns_to_drop.append('name')"
   ]
  },
  {
   "cell_type": "code",
   "execution_count": 663,
   "metadata": {},
   "outputs": [],
   "source": [
    "#Эта функция вытащит объём двигателя из столбца 'name'\n",
    "def find_disp(string):\n",
    "    string = str(string)\n",
    "    res = re.findall('\\d\\.\\d', string)\n",
    "    if len(res) !=0:\n",
    "        return float(res[0])\n",
    "    else:\n",
    "        return 0"
   ]
  },
  {
   "cell_type": "code",
   "execution_count": 664,
   "metadata": {
    "scrolled": false
   },
   "outputs": [],
   "source": [
    "#Заменим все значения в 'engineDisplacement'\n",
    "train_mod['engineDisplacement'] = train_mod['name'].apply(find_disp)"
   ]
  },
  {
   "cell_type": "code",
   "execution_count": 665,
   "metadata": {
    "scrolled": true
   },
   "outputs": [
    {
     "data": {
      "text/plain": [
       "array(['электро'], dtype=object)"
      ]
     },
     "execution_count": 665,
     "metadata": {},
     "output_type": "execute_result"
    }
   ],
   "source": [
    "#Проверим результат\n",
    "train_mod[train_mod['engineDisplacement'] == 0]['fuelType'].unique()"
   ]
  },
  {
   "cell_type": "code",
   "execution_count": 666,
   "metadata": {
    "scrolled": true
   },
   "outputs": [
    {
     "data": {
      "text/html": [
       "<div>\n",
       "<style scoped>\n",
       "    .dataframe tbody tr th:only-of-type {\n",
       "        vertical-align: middle;\n",
       "    }\n",
       "\n",
       "    .dataframe tbody tr th {\n",
       "        vertical-align: top;\n",
       "    }\n",
       "\n",
       "    .dataframe thead th {\n",
       "        text-align: right;\n",
       "    }\n",
       "</style>\n",
       "<table border=\"1\" class=\"dataframe\">\n",
       "  <thead>\n",
       "    <tr style=\"text-align: right;\">\n",
       "      <th></th>\n",
       "      <th>bodyType</th>\n",
       "      <th>brand</th>\n",
       "      <th>color</th>\n",
       "      <th>fuelType</th>\n",
       "      <th>modelDate</th>\n",
       "      <th>name</th>\n",
       "      <th>numberOfDoors</th>\n",
       "      <th>productionDate</th>\n",
       "      <th>vehicleConfiguration</th>\n",
       "      <th>vehicleTransmission</th>\n",
       "      <th>...</th>\n",
       "      <th>Руль</th>\n",
       "      <th>Состояние</th>\n",
       "      <th>Владельцы</th>\n",
       "      <th>ПТС</th>\n",
       "      <th>Таможня</th>\n",
       "      <th>Владение</th>\n",
       "      <th>price</th>\n",
       "      <th>start_date</th>\n",
       "      <th>hidden</th>\n",
       "      <th>model</th>\n",
       "    </tr>\n",
       "  </thead>\n",
       "  <tbody>\n",
       "  </tbody>\n",
       "</table>\n",
       "<p>0 rows × 26 columns</p>\n",
       "</div>"
      ],
      "text/plain": [
       "Empty DataFrame\n",
       "Columns: [bodyType, brand, color, fuelType, modelDate, name, numberOfDoors, productionDate, vehicleConfiguration, vehicleTransmission, engineDisplacement, enginePower, description, mileage, Комплектация, Привод, Руль, Состояние, Владельцы, ПТС, Таможня, Владение, price, start_date, hidden, model]\n",
       "Index: []\n",
       "\n",
       "[0 rows x 26 columns]"
      ]
     },
     "execution_count": 666,
     "metadata": {},
     "output_type": "execute_result"
    }
   ],
   "source": [
    "train_mod[train_mod['engineDisplacement'].isna()]"
   ]
  },
  {
   "cell_type": "markdown",
   "metadata": {},
   "source": [
    "Пропусков нет, а у электромобилей объём равен 0"
   ]
  },
  {
   "cell_type": "markdown",
   "metadata": {},
   "source": [
    "## numberOfDoors"
   ]
  },
  {
   "cell_type": "code",
   "execution_count": 667,
   "metadata": {
    "scrolled": true
   },
   "outputs": [
    {
     "name": "stdout",
     "output_type": "stream",
     "text": [
      "TEST\n"
     ]
    },
    {
     "data": {
      "text/plain": [
       "4732     4\n",
       "19548    4\n",
       "11714    5\n",
       "23386    5\n",
       "8535     5\n",
       "Name: numberOfDoors, dtype: int64"
      ]
     },
     "metadata": {},
     "output_type": "display_data"
    },
    {
     "name": "stdout",
     "output_type": "stream",
     "text": [
      "TRAIN\n"
     ]
    },
    {
     "data": {
      "text/plain": [
       "51204    5.0\n",
       "62320    5.0\n",
       "81343    4.0\n",
       "51427    5.0\n",
       "61874    5.0\n",
       "Name: numberOfDoors, dtype: float64"
      ]
     },
     "metadata": {},
     "output_type": "display_data"
    }
   ],
   "source": [
    "column = 'numberOfDoors'\n",
    "type_comparison(column)"
   ]
  },
  {
   "cell_type": "markdown",
   "metadata": {},
   "source": [
    "Приводим к единому формату"
   ]
  },
  {
   "cell_type": "code",
   "execution_count": 668,
   "metadata": {},
   "outputs": [],
   "source": [
    "#Преобразование\n",
    "train_mod.numberOfDoors = train_mod.numberOfDoors.convert_dtypes(int)"
   ]
  },
  {
   "cell_type": "markdown",
   "metadata": {},
   "source": [
    "## productionDate"
   ]
  },
  {
   "cell_type": "code",
   "execution_count": 669,
   "metadata": {},
   "outputs": [
    {
     "name": "stdout",
     "output_type": "stream",
     "text": [
      "TEST\n"
     ]
    },
    {
     "data": {
      "text/plain": [
       "18819    2003\n",
       "26652    2011\n",
       "18682    2017\n",
       "3798     2008\n",
       "12262    2015\n",
       "Name: productionDate, dtype: int64"
      ]
     },
     "metadata": {},
     "output_type": "display_data"
    },
    {
     "name": "stdout",
     "output_type": "stream",
     "text": [
      "TRAIN\n"
     ]
    },
    {
     "data": {
      "text/plain": [
       "85066    2015\n",
       "53523    2007\n",
       "85204    2020\n",
       "53110    2011\n",
       "47850    2010\n",
       "Name: productionDate, dtype: int64"
      ]
     },
     "metadata": {},
     "output_type": "display_data"
    }
   ],
   "source": [
    "column = 'productionDate'\n",
    "type_comparison(column)"
   ]
  },
  {
   "cell_type": "markdown",
   "metadata": {},
   "source": [
    "Не требует преобразований"
   ]
  },
  {
   "cell_type": "markdown",
   "metadata": {},
   "source": [
    "## vehicleConfiguration"
   ]
  },
  {
   "cell_type": "code",
   "execution_count": 670,
   "metadata": {},
   "outputs": [
    {
     "name": "stdout",
     "output_type": "stream",
     "text": [
      "TEST\n"
     ]
    },
    {
     "data": {
      "text/plain": [
       "27522    ALLROAD_5_DOORS MECHANICAL 3.2\n",
       "18518     ALLROAD_5_DOORS AUTOMATIC 5.5\n",
       "32335               SEDAN AUTOMATIC 1.6\n",
       "30408                   SEDAN ROBOT 1.6\n",
       "21663       WAGON_5_DOORS AUTOMATIC 2.0\n",
       "Name: vehicleConfiguration, dtype: object"
      ]
     },
     "metadata": {},
     "output_type": "display_data"
    },
    {
     "name": "stdout",
     "output_type": "stream",
     "text": [
      "TRAIN\n"
     ]
    },
    {
     "data": {
      "text/plain": [
       "19763                SEDAN AUTOMATIC 1.5\n",
       "55542    HATCHBACK_5_DOORS AUTOMATIC 1.6\n",
       "63397        WAGON_5_DOORS AUTOMATIC 2.0\n",
       "83474        WAGON_5_DOORS AUTOMATIC 320\n",
       "49670               MINIVAN VARIATOR 2.0\n",
       "Name: vehicleConfiguration, dtype: object"
      ]
     },
     "metadata": {},
     "output_type": "display_data"
    }
   ],
   "source": [
    "column = 'vehicleConfiguration'\n",
    "type_comparison(column)"
   ]
  },
  {
   "cell_type": "markdown",
   "metadata": {},
   "source": [
    "Этот столбец тоже можно использовать для заполнения пропусков в столбце 'engineDisplacement'.  \n",
    "После чего он также должен быть удалён."
   ]
  },
  {
   "cell_type": "code",
   "execution_count": 671,
   "metadata": {},
   "outputs": [],
   "source": [
    "columns_to_drop.append('vehicleConfiguration')"
   ]
  },
  {
   "cell_type": "markdown",
   "metadata": {},
   "source": [
    "## vehicleTransmission"
   ]
  },
  {
   "cell_type": "code",
   "execution_count": 672,
   "metadata": {},
   "outputs": [
    {
     "name": "stdout",
     "output_type": "stream",
     "text": [
      "TEST\n"
     ]
    },
    {
     "data": {
      "text/plain": [
       "5        роботизированная\n",
       "22831      автоматическая\n",
       "26400      автоматическая\n",
       "20528      автоматическая\n",
       "7460         механическая\n",
       "Name: vehicleTransmission, dtype: object"
      ]
     },
     "metadata": {},
     "output_type": "display_data"
    },
    {
     "name": "stdout",
     "output_type": "stream",
     "text": [
      "TRAIN\n"
     ]
    },
    {
     "data": {
      "text/plain": [
       "29492     AUTOMATIC\n",
       "1574       VARIATOR\n",
       "19182    MECHANICAL\n",
       "21338     AUTOMATIC\n",
       "14019     AUTOMATIC\n",
       "Name: vehicleTransmission, dtype: object"
      ]
     },
     "metadata": {},
     "output_type": "display_data"
    }
   ],
   "source": [
    "column = 'vehicleTransmission'\n",
    "type_comparison(column)"
   ]
  },
  {
   "cell_type": "markdown",
   "metadata": {},
   "source": [
    "К единому формату"
   ]
  },
  {
   "cell_type": "code",
   "execution_count": 673,
   "metadata": {},
   "outputs": [
    {
     "data": {
      "text/plain": [
       "array(['MECHANICAL', 'AUTOMATIC', 'ROBOT', 'VARIATOR'], dtype=object)"
      ]
     },
     "execution_count": 673,
     "metadata": {},
     "output_type": "execute_result"
    }
   ],
   "source": [
    "#Преобразование\n",
    "train_mod.vehicleTransmission.unique()"
   ]
  },
  {
   "cell_type": "code",
   "execution_count": 674,
   "metadata": {},
   "outputs": [
    {
     "data": {
      "text/plain": [
       "array(['роботизированная', 'механическая', 'автоматическая', 'вариатор'],\n",
       "      dtype=object)"
      ]
     },
     "execution_count": 674,
     "metadata": {},
     "output_type": "execute_result"
    }
   ],
   "source": [
    "test_mod.vehicleTransmission.unique()"
   ]
  },
  {
   "cell_type": "code",
   "execution_count": 675,
   "metadata": {},
   "outputs": [],
   "source": [
    "test_mod = test_mod.replace({'vehicleTransmission':\n",
    "                            {'автоматическая': 'AUTOMATIC',\n",
    "                            'вариатор': 'VARIATOR',\n",
    "                            'механическая': 'MECHANICAL',\n",
    "                            'роботизированная': 'ROBOT'}})"
   ]
  },
  {
   "cell_type": "markdown",
   "metadata": {},
   "source": [
    "## Владельцы"
   ]
  },
  {
   "cell_type": "markdown",
   "metadata": {},
   "source": [
    "# !!!Вот эту часть нужно как-то оформить красиво и доступно!!!"
   ]
  },
  {
   "cell_type": "code",
   "execution_count": 676,
   "metadata": {},
   "outputs": [
    {
     "name": "stdout",
     "output_type": "stream",
     "text": [
      "TEST\n"
     ]
    },
    {
     "data": {
      "text/plain": [
       "16446    3 или более\n",
       "33104    3 или более\n",
       "23507    2 владельца\n",
       "12679    2 владельца\n",
       "17940     1 владелец\n",
       "Name: Владельцы, dtype: object"
      ]
     },
     "metadata": {},
     "output_type": "display_data"
    },
    {
     "name": "stdout",
     "output_type": "stream",
     "text": [
      "TRAIN\n"
     ]
    },
    {
     "data": {
      "text/plain": [
       "25985    2.0\n",
       "18510    3.0\n",
       "48482    1.0\n",
       "62126    2.0\n",
       "83549    3.0\n",
       "Name: Владельцы, dtype: float64"
      ]
     },
     "metadata": {},
     "output_type": "display_data"
    }
   ],
   "source": [
    "column = 'Владельцы'\n",
    "type_comparison(column)"
   ]
  },
  {
   "cell_type": "code",
   "execution_count": 677,
   "metadata": {
    "scrolled": true
   },
   "outputs": [
    {
     "data": {
      "text/plain": [
       "array(['3 или более', '1\\xa0владелец', '2\\xa0владельца'], dtype=object)"
      ]
     },
     "execution_count": 677,
     "metadata": {},
     "output_type": "execute_result"
    }
   ],
   "source": [
    "test_mod.Владельцы.unique()"
   ]
  },
  {
   "cell_type": "code",
   "execution_count": 678,
   "metadata": {
    "scrolled": true
   },
   "outputs": [
    {
     "data": {
      "text/plain": [
       "array([ 3.,  1.,  2., nan])"
      ]
     },
     "execution_count": 678,
     "metadata": {},
     "output_type": "execute_result"
    }
   ],
   "source": [
    "train_mod.Владельцы.unique()"
   ]
  },
  {
   "cell_type": "markdown",
   "metadata": {},
   "source": [
    "Приведём к единому формату"
   ]
  },
  {
   "cell_type": "code",
   "execution_count": 679,
   "metadata": {},
   "outputs": [],
   "source": [
    "#Преобразование\n",
    "train_mod.Владельцы = train_mod.Владельцы.convert_dtypes(int)\n",
    "\n",
    "test_mod = test_mod.replace({'Владельцы':\n",
    "                            {'1\\xa0владелец': 1,\n",
    "                            '2\\xa0владельца': 2,\n",
    "                            '3 или более': 3}})"
   ]
  },
  {
   "cell_type": "markdown",
   "metadata": {},
   "source": [
    "Посчитаем % пропусков"
   ]
  },
  {
   "cell_type": "code",
   "execution_count": 680,
   "metadata": {},
   "outputs": [
    {
     "name": "stdout",
     "output_type": "stream",
     "text": [
      "TEST\n",
      "Владельцы - 0%\n",
      "TRAIN\n",
      "Владельцы - 14%\n"
     ]
    }
   ],
   "source": [
    "col = 'Владельцы'\n",
    "\n",
    "pct_missing_1 = np.mean(test_mod[col].isnull()) \n",
    "print('TEST')\n",
    "print('{} - {}%'.format(col, round(pct_missing_1*100)))\n",
    "pct_missing_2 = np.mean(train_mod[col].isnull()) \n",
    "print('TRAIN')\n",
    "print('{} - {}%'.format(col, round(pct_missing_2*100)))"
   ]
  },
  {
   "cell_type": "markdown",
   "metadata": {},
   "source": [
    "Видим пропуски в TRAIN. Возможно, их удастся как-нибудь заполнить.  \n",
    "Кол-во владельцев может быть связано с пробегом и годом выпуска автомобиля. Проверим"
   ]
  },
  {
   "cell_type": "code",
   "execution_count": 681,
   "metadata": {},
   "outputs": [
    {
     "data": {
      "text/plain": [
       "array([0], dtype=int64)"
      ]
     },
     "execution_count": 681,
     "metadata": {},
     "output_type": "execute_result"
    }
   ],
   "source": [
    "train_mod[train_mod['Владельцы'].isna()]['mileage'].unique()"
   ]
  },
  {
   "cell_type": "code",
   "execution_count": 682,
   "metadata": {},
   "outputs": [
    {
     "data": {
      "text/plain": [
       "array([2020, 2019, 2018, 2017], dtype=int64)"
      ]
     },
     "execution_count": 682,
     "metadata": {},
     "output_type": "execute_result"
    }
   ],
   "source": [
    "train_mod[train_mod['Владельцы'].isna()]['productionDate'].unique()"
   ]
  },
  {
   "cell_type": "markdown",
   "metadata": {},
   "source": [
    "Пропуски есть только у автомобилей с нулевым пробегом, однако, судя по годам выпуска, не все они являлись новыми."
   ]
  },
  {
   "cell_type": "code",
   "execution_count": 683,
   "metadata": {
    "scrolled": false
   },
   "outputs": [
    {
     "data": {
      "text/html": [
       "<div>\n",
       "<style scoped>\n",
       "    .dataframe tbody tr th:only-of-type {\n",
       "        vertical-align: middle;\n",
       "    }\n",
       "\n",
       "    .dataframe tbody tr th {\n",
       "        vertical-align: top;\n",
       "    }\n",
       "\n",
       "    .dataframe thead th {\n",
       "        text-align: right;\n",
       "    }\n",
       "</style>\n",
       "<table border=\"1\" class=\"dataframe\">\n",
       "  <thead>\n",
       "    <tr style=\"text-align: right;\">\n",
       "      <th></th>\n",
       "      <th>bodyType</th>\n",
       "      <th>brand</th>\n",
       "      <th>color</th>\n",
       "      <th>fuelType</th>\n",
       "      <th>modelDate</th>\n",
       "      <th>name</th>\n",
       "      <th>numberOfDoors</th>\n",
       "      <th>productionDate</th>\n",
       "      <th>vehicleConfiguration</th>\n",
       "      <th>vehicleTransmission</th>\n",
       "      <th>...</th>\n",
       "      <th>Руль</th>\n",
       "      <th>Состояние</th>\n",
       "      <th>Владельцы</th>\n",
       "      <th>ПТС</th>\n",
       "      <th>Таможня</th>\n",
       "      <th>Владение</th>\n",
       "      <th>price</th>\n",
       "      <th>start_date</th>\n",
       "      <th>hidden</th>\n",
       "      <th>model</th>\n",
       "    </tr>\n",
       "  </thead>\n",
       "  <tbody>\n",
       "    <tr>\n",
       "      <th>35008</th>\n",
       "      <td>Седан</td>\n",
       "      <td>KIA</td>\n",
       "      <td>97948F</td>\n",
       "      <td>бензин</td>\n",
       "      <td>2015</td>\n",
       "      <td>5.0 AT (424 л.с.)</td>\n",
       "      <td>4</td>\n",
       "      <td>2017</td>\n",
       "      <td>SEDAN AUTOMATIC 5.0</td>\n",
       "      <td>AUTOMATIC</td>\n",
       "      <td>...</td>\n",
       "      <td>LEFT</td>\n",
       "      <td>NaN</td>\n",
       "      <td>&lt;NA&gt;</td>\n",
       "      <td>ORIGINAL</td>\n",
       "      <td>True</td>\n",
       "      <td>NaN</td>\n",
       "      <td>3829900.0</td>\n",
       "      <td>2018-03-16T10:33:04Z</td>\n",
       "      <td>NaN</td>\n",
       "      <td>QUORIS</td>\n",
       "    </tr>\n",
       "  </tbody>\n",
       "</table>\n",
       "<p>1 rows × 26 columns</p>\n",
       "</div>"
      ],
      "text/plain": [
       "      bodyType brand   color fuelType  modelDate               name  \\\n",
       "35008    Седан   KIA  97948F   бензин       2015  5.0 AT (424 л.с.)   \n",
       "\n",
       "       numberOfDoors  productionDate vehicleConfiguration vehicleTransmission  \\\n",
       "35008              4            2017  SEDAN AUTOMATIC 5.0           AUTOMATIC   \n",
       "\n",
       "       ...  Руль  Состояние Владельцы       ПТС Таможня Владение      price  \\\n",
       "35008  ...  LEFT        NaN      <NA>  ORIGINAL    True      NaN  3829900.0   \n",
       "\n",
       "                 start_date  hidden   model  \n",
       "35008  2018-03-16T10:33:04Z     NaN  QUORIS  \n",
       "\n",
       "[1 rows x 26 columns]"
      ]
     },
     "execution_count": 683,
     "metadata": {},
     "output_type": "execute_result"
    }
   ],
   "source": [
    "train_mod[train_mod['Владельцы'].isna()].query('productionDate == 2017')"
   ]
  },
  {
   "cell_type": "code",
   "execution_count": 684,
   "metadata": {},
   "outputs": [
    {
     "data": {
      "text/html": [
       "<div>\n",
       "<style scoped>\n",
       "    .dataframe tbody tr th:only-of-type {\n",
       "        vertical-align: middle;\n",
       "    }\n",
       "\n",
       "    .dataframe tbody tr th {\n",
       "        vertical-align: top;\n",
       "    }\n",
       "\n",
       "    .dataframe thead th {\n",
       "        text-align: right;\n",
       "    }\n",
       "</style>\n",
       "<table border=\"1\" class=\"dataframe\">\n",
       "  <thead>\n",
       "    <tr style=\"text-align: right;\">\n",
       "      <th></th>\n",
       "      <th>bodyType</th>\n",
       "      <th>brand</th>\n",
       "      <th>color</th>\n",
       "      <th>fuelType</th>\n",
       "      <th>modelDate</th>\n",
       "      <th>name</th>\n",
       "      <th>numberOfDoors</th>\n",
       "      <th>productionDate</th>\n",
       "      <th>vehicleConfiguration</th>\n",
       "      <th>vehicleTransmission</th>\n",
       "      <th>...</th>\n",
       "      <th>Руль</th>\n",
       "      <th>Состояние</th>\n",
       "      <th>Владельцы</th>\n",
       "      <th>ПТС</th>\n",
       "      <th>Таможня</th>\n",
       "      <th>Владение</th>\n",
       "      <th>price</th>\n",
       "      <th>start_date</th>\n",
       "      <th>hidden</th>\n",
       "      <th>model</th>\n",
       "    </tr>\n",
       "  </thead>\n",
       "  <tbody>\n",
       "    <tr>\n",
       "      <th>1680</th>\n",
       "      <td>Седан</td>\n",
       "      <td>AUDI</td>\n",
       "      <td>FAFBFB</td>\n",
       "      <td>бензин</td>\n",
       "      <td>2018</td>\n",
       "      <td>55 TFSI 3.0 AMT (340 л.с.) 4WD</td>\n",
       "      <td>4</td>\n",
       "      <td>2018</td>\n",
       "      <td>SEDAN ROBOT 55</td>\n",
       "      <td>ROBOT</td>\n",
       "      <td>...</td>\n",
       "      <td>LEFT</td>\n",
       "      <td>NaN</td>\n",
       "      <td>&lt;NA&gt;</td>\n",
       "      <td>ORIGINAL</td>\n",
       "      <td>True</td>\n",
       "      <td>NaN</td>\n",
       "      <td>4770000.0</td>\n",
       "      <td>2020-09-02T14:32:49Z</td>\n",
       "      <td>NaN</td>\n",
       "      <td>A6</td>\n",
       "    </tr>\n",
       "    <tr>\n",
       "      <th>1749</th>\n",
       "      <td>Седан</td>\n",
       "      <td>AUDI</td>\n",
       "      <td>FAFBFB</td>\n",
       "      <td>бензин</td>\n",
       "      <td>2018</td>\n",
       "      <td>55 TFSI 3.0 AMT (340 л.с.) 4WD</td>\n",
       "      <td>4</td>\n",
       "      <td>2018</td>\n",
       "      <td>SEDAN ROBOT 55</td>\n",
       "      <td>ROBOT</td>\n",
       "      <td>...</td>\n",
       "      <td>LEFT</td>\n",
       "      <td>NaN</td>\n",
       "      <td>&lt;NA&gt;</td>\n",
       "      <td>ORIGINAL</td>\n",
       "      <td>True</td>\n",
       "      <td>NaN</td>\n",
       "      <td>4600000.0</td>\n",
       "      <td>2020-08-05T14:37:05Z</td>\n",
       "      <td>NaN</td>\n",
       "      <td>A6</td>\n",
       "    </tr>\n",
       "    <tr>\n",
       "      <th>1823</th>\n",
       "      <td>Седан</td>\n",
       "      <td>AUDI</td>\n",
       "      <td>FAFBFB</td>\n",
       "      <td>бензин</td>\n",
       "      <td>2018</td>\n",
       "      <td>55 TFSI 3.0 AMT (340 л.с.) 4WD</td>\n",
       "      <td>4</td>\n",
       "      <td>2018</td>\n",
       "      <td>SEDAN ROBOT 55</td>\n",
       "      <td>ROBOT</td>\n",
       "      <td>...</td>\n",
       "      <td>LEFT</td>\n",
       "      <td>NaN</td>\n",
       "      <td>&lt;NA&gt;</td>\n",
       "      <td>ORIGINAL</td>\n",
       "      <td>True</td>\n",
       "      <td>NaN</td>\n",
       "      <td>4600000.0</td>\n",
       "      <td>2020-07-03T19:52:20Z</td>\n",
       "      <td>NaN</td>\n",
       "      <td>A6</td>\n",
       "    </tr>\n",
       "    <tr>\n",
       "      <th>2636</th>\n",
       "      <td>Седан Long</td>\n",
       "      <td>AUDI</td>\n",
       "      <td>040001</td>\n",
       "      <td>бензин</td>\n",
       "      <td>2017</td>\n",
       "      <td>60 TFSI Long 4.0 AT (460 л.с.) 4WD</td>\n",
       "      <td>4</td>\n",
       "      <td>2018</td>\n",
       "      <td>SEDAN AUTOMATIC 60</td>\n",
       "      <td>AUTOMATIC</td>\n",
       "      <td>...</td>\n",
       "      <td>LEFT</td>\n",
       "      <td>NaN</td>\n",
       "      <td>&lt;NA&gt;</td>\n",
       "      <td>ORIGINAL</td>\n",
       "      <td>True</td>\n",
       "      <td>NaN</td>\n",
       "      <td>8222323.0</td>\n",
       "      <td>2020-09-02T16:29:19Z</td>\n",
       "      <td>NaN</td>\n",
       "      <td>A8</td>\n",
       "    </tr>\n",
       "    <tr>\n",
       "      <th>2681</th>\n",
       "      <td>Седан Long</td>\n",
       "      <td>AUDI</td>\n",
       "      <td>040001</td>\n",
       "      <td>бензин</td>\n",
       "      <td>2017</td>\n",
       "      <td>60 TFSI Long 4.0 AT (460 л.с.) 4WD</td>\n",
       "      <td>4</td>\n",
       "      <td>2018</td>\n",
       "      <td>SEDAN AUTOMATIC 60</td>\n",
       "      <td>AUTOMATIC</td>\n",
       "      <td>...</td>\n",
       "      <td>LEFT</td>\n",
       "      <td>NaN</td>\n",
       "      <td>&lt;NA&gt;</td>\n",
       "      <td>ORIGINAL</td>\n",
       "      <td>True</td>\n",
       "      <td>NaN</td>\n",
       "      <td>8222323.0</td>\n",
       "      <td>2020-09-02T14:01:12Z</td>\n",
       "      <td>NaN</td>\n",
       "      <td>A8</td>\n",
       "    </tr>\n",
       "    <tr>\n",
       "      <th>...</th>\n",
       "      <td>...</td>\n",
       "      <td>...</td>\n",
       "      <td>...</td>\n",
       "      <td>...</td>\n",
       "      <td>...</td>\n",
       "      <td>...</td>\n",
       "      <td>...</td>\n",
       "      <td>...</td>\n",
       "      <td>...</td>\n",
       "      <td>...</td>\n",
       "      <td>...</td>\n",
       "      <td>...</td>\n",
       "      <td>...</td>\n",
       "      <td>...</td>\n",
       "      <td>...</td>\n",
       "      <td>...</td>\n",
       "      <td>...</td>\n",
       "      <td>...</td>\n",
       "      <td>...</td>\n",
       "      <td>...</td>\n",
       "      <td>...</td>\n",
       "    </tr>\n",
       "    <tr>\n",
       "      <th>86887</th>\n",
       "      <td>Седан</td>\n",
       "      <td>MERCEDES</td>\n",
       "      <td>040001</td>\n",
       "      <td>бензин</td>\n",
       "      <td>2017</td>\n",
       "      <td>600 6.0 AT (530 л.с.)</td>\n",
       "      <td>4</td>\n",
       "      <td>2018</td>\n",
       "      <td>SEDAN AUTOMATIC 600</td>\n",
       "      <td>AUTOMATIC</td>\n",
       "      <td>...</td>\n",
       "      <td>LEFT</td>\n",
       "      <td>NaN</td>\n",
       "      <td>&lt;NA&gt;</td>\n",
       "      <td>ORIGINAL</td>\n",
       "      <td>True</td>\n",
       "      <td>NaN</td>\n",
       "      <td>54057400.0</td>\n",
       "      <td>2020-08-17T15:52:18Z</td>\n",
       "      <td>NaN</td>\n",
       "      <td>S_CLASS_MAYBACH</td>\n",
       "    </tr>\n",
       "    <tr>\n",
       "      <th>86889</th>\n",
       "      <td>Седан</td>\n",
       "      <td>MERCEDES</td>\n",
       "      <td>CACECB</td>\n",
       "      <td>бензин</td>\n",
       "      <td>2017</td>\n",
       "      <td>650 6.0 AT (630 л.с.)</td>\n",
       "      <td>4</td>\n",
       "      <td>2018</td>\n",
       "      <td>SEDAN AUTOMATIC 650</td>\n",
       "      <td>AUTOMATIC</td>\n",
       "      <td>...</td>\n",
       "      <td>LEFT</td>\n",
       "      <td>NaN</td>\n",
       "      <td>&lt;NA&gt;</td>\n",
       "      <td>ORIGINAL</td>\n",
       "      <td>True</td>\n",
       "      <td>NaN</td>\n",
       "      <td>58089720.0</td>\n",
       "      <td>2020-02-13T19:49:18Z</td>\n",
       "      <td>NaN</td>\n",
       "      <td>S_CLASS_MAYBACH</td>\n",
       "    </tr>\n",
       "    <tr>\n",
       "      <th>86903</th>\n",
       "      <td>Седан</td>\n",
       "      <td>MERCEDES</td>\n",
       "      <td>97948F</td>\n",
       "      <td>бензин</td>\n",
       "      <td>2017</td>\n",
       "      <td>650 6.0 AT (630 л.с.)</td>\n",
       "      <td>4</td>\n",
       "      <td>2018</td>\n",
       "      <td>SEDAN AUTOMATIC 650</td>\n",
       "      <td>AUTOMATIC</td>\n",
       "      <td>...</td>\n",
       "      <td>LEFT</td>\n",
       "      <td>NaN</td>\n",
       "      <td>&lt;NA&gt;</td>\n",
       "      <td>ORIGINAL</td>\n",
       "      <td>True</td>\n",
       "      <td>NaN</td>\n",
       "      <td>54560408.0</td>\n",
       "      <td>2020-02-13T19:49:18Z</td>\n",
       "      <td>NaN</td>\n",
       "      <td>S_CLASS_MAYBACH</td>\n",
       "    </tr>\n",
       "    <tr>\n",
       "      <th>88015</th>\n",
       "      <td>Купе</td>\n",
       "      <td>MERCEDES</td>\n",
       "      <td>040001</td>\n",
       "      <td>бензин</td>\n",
       "      <td>2017</td>\n",
       "      <td>63 AMG 4.0 AT (612 л.с.) 4WD</td>\n",
       "      <td>2</td>\n",
       "      <td>2018</td>\n",
       "      <td>COUPE AUTOMATIC 63</td>\n",
       "      <td>AUTOMATIC</td>\n",
       "      <td>...</td>\n",
       "      <td>LEFT</td>\n",
       "      <td>NaN</td>\n",
       "      <td>&lt;NA&gt;</td>\n",
       "      <td>ORIGINAL</td>\n",
       "      <td>True</td>\n",
       "      <td>NaN</td>\n",
       "      <td>15866765.0</td>\n",
       "      <td>2020-07-23T10:20:05Z</td>\n",
       "      <td>NaN</td>\n",
       "      <td>S_KLASSE_AMG</td>\n",
       "    </tr>\n",
       "    <tr>\n",
       "      <th>88031</th>\n",
       "      <td>Купе</td>\n",
       "      <td>MERCEDES</td>\n",
       "      <td>040001</td>\n",
       "      <td>бензин</td>\n",
       "      <td>2017</td>\n",
       "      <td>63 AMG 4.0 AT (612 л.с.) 4WD</td>\n",
       "      <td>2</td>\n",
       "      <td>2018</td>\n",
       "      <td>COUPE AUTOMATIC 63</td>\n",
       "      <td>AUTOMATIC</td>\n",
       "      <td>...</td>\n",
       "      <td>LEFT</td>\n",
       "      <td>NaN</td>\n",
       "      <td>&lt;NA&gt;</td>\n",
       "      <td>ORIGINAL</td>\n",
       "      <td>True</td>\n",
       "      <td>NaN</td>\n",
       "      <td>15866765.0</td>\n",
       "      <td>2020-07-23T10:22:35Z</td>\n",
       "      <td>NaN</td>\n",
       "      <td>S_KLASSE_AMG</td>\n",
       "    </tr>\n",
       "  </tbody>\n",
       "</table>\n",
       "<p>82 rows × 26 columns</p>\n",
       "</div>"
      ],
      "text/plain": [
       "         bodyType     brand   color fuelType  modelDate  \\\n",
       "1680        Седан      AUDI  FAFBFB   бензин       2018   \n",
       "1749        Седан      AUDI  FAFBFB   бензин       2018   \n",
       "1823        Седан      AUDI  FAFBFB   бензин       2018   \n",
       "2636   Седан Long      AUDI  040001   бензин       2017   \n",
       "2681   Седан Long      AUDI  040001   бензин       2017   \n",
       "...           ...       ...     ...      ...        ...   \n",
       "86887       Седан  MERCEDES  040001   бензин       2017   \n",
       "86889       Седан  MERCEDES  CACECB   бензин       2017   \n",
       "86903       Седан  MERCEDES  97948F   бензин       2017   \n",
       "88015        Купе  MERCEDES  040001   бензин       2017   \n",
       "88031        Купе  MERCEDES  040001   бензин       2017   \n",
       "\n",
       "                                     name  numberOfDoors  productionDate  \\\n",
       "1680       55 TFSI 3.0 AMT (340 л.с.) 4WD              4            2018   \n",
       "1749       55 TFSI 3.0 AMT (340 л.с.) 4WD              4            2018   \n",
       "1823       55 TFSI 3.0 AMT (340 л.с.) 4WD              4            2018   \n",
       "2636   60 TFSI Long 4.0 AT (460 л.с.) 4WD              4            2018   \n",
       "2681   60 TFSI Long 4.0 AT (460 л.с.) 4WD              4            2018   \n",
       "...                                   ...            ...             ...   \n",
       "86887               600 6.0 AT (530 л.с.)              4            2018   \n",
       "86889               650 6.0 AT (630 л.с.)              4            2018   \n",
       "86903               650 6.0 AT (630 л.с.)              4            2018   \n",
       "88015        63 AMG 4.0 AT (612 л.с.) 4WD              2            2018   \n",
       "88031        63 AMG 4.0 AT (612 л.с.) 4WD              2            2018   \n",
       "\n",
       "      vehicleConfiguration vehicleTransmission  ...  Руль  Состояние  \\\n",
       "1680        SEDAN ROBOT 55               ROBOT  ...  LEFT        NaN   \n",
       "1749        SEDAN ROBOT 55               ROBOT  ...  LEFT        NaN   \n",
       "1823        SEDAN ROBOT 55               ROBOT  ...  LEFT        NaN   \n",
       "2636    SEDAN AUTOMATIC 60           AUTOMATIC  ...  LEFT        NaN   \n",
       "2681    SEDAN AUTOMATIC 60           AUTOMATIC  ...  LEFT        NaN   \n",
       "...                    ...                 ...  ...   ...        ...   \n",
       "86887  SEDAN AUTOMATIC 600           AUTOMATIC  ...  LEFT        NaN   \n",
       "86889  SEDAN AUTOMATIC 650           AUTOMATIC  ...  LEFT        NaN   \n",
       "86903  SEDAN AUTOMATIC 650           AUTOMATIC  ...  LEFT        NaN   \n",
       "88015   COUPE AUTOMATIC 63           AUTOMATIC  ...  LEFT        NaN   \n",
       "88031   COUPE AUTOMATIC 63           AUTOMATIC  ...  LEFT        NaN   \n",
       "\n",
       "      Владельцы       ПТС Таможня Владение       price            start_date  \\\n",
       "1680       <NA>  ORIGINAL    True      NaN   4770000.0  2020-09-02T14:32:49Z   \n",
       "1749       <NA>  ORIGINAL    True      NaN   4600000.0  2020-08-05T14:37:05Z   \n",
       "1823       <NA>  ORIGINAL    True      NaN   4600000.0  2020-07-03T19:52:20Z   \n",
       "2636       <NA>  ORIGINAL    True      NaN   8222323.0  2020-09-02T16:29:19Z   \n",
       "2681       <NA>  ORIGINAL    True      NaN   8222323.0  2020-09-02T14:01:12Z   \n",
       "...         ...       ...     ...      ...         ...                   ...   \n",
       "86887      <NA>  ORIGINAL    True      NaN  54057400.0  2020-08-17T15:52:18Z   \n",
       "86889      <NA>  ORIGINAL    True      NaN  58089720.0  2020-02-13T19:49:18Z   \n",
       "86903      <NA>  ORIGINAL    True      NaN  54560408.0  2020-02-13T19:49:18Z   \n",
       "88015      <NA>  ORIGINAL    True      NaN  15866765.0  2020-07-23T10:20:05Z   \n",
       "88031      <NA>  ORIGINAL    True      NaN  15866765.0  2020-07-23T10:22:35Z   \n",
       "\n",
       "       hidden            model  \n",
       "1680      NaN               A6  \n",
       "1749      NaN               A6  \n",
       "1823      NaN               A6  \n",
       "2636      NaN               A8  \n",
       "2681      NaN               A8  \n",
       "...       ...              ...  \n",
       "86887     NaN  S_CLASS_MAYBACH  \n",
       "86889     NaN  S_CLASS_MAYBACH  \n",
       "86903     NaN  S_CLASS_MAYBACH  \n",
       "88015     NaN     S_KLASSE_AMG  \n",
       "88031     NaN     S_KLASSE_AMG  \n",
       "\n",
       "[82 rows x 26 columns]"
      ]
     },
     "execution_count": 684,
     "metadata": {},
     "output_type": "execute_result"
    }
   ],
   "source": [
    "train_mod[train_mod['Владельцы'].isna()].query('productionDate == 2018')"
   ]
  },
  {
   "cell_type": "code",
   "execution_count": 685,
   "metadata": {
    "scrolled": true
   },
   "outputs": [
    {
     "data": {
      "text/html": [
       "<div>\n",
       "<style scoped>\n",
       "    .dataframe tbody tr th:only-of-type {\n",
       "        vertical-align: middle;\n",
       "    }\n",
       "\n",
       "    .dataframe tbody tr th {\n",
       "        vertical-align: top;\n",
       "    }\n",
       "\n",
       "    .dataframe thead th {\n",
       "        text-align: right;\n",
       "    }\n",
       "</style>\n",
       "<table border=\"1\" class=\"dataframe\">\n",
       "  <thead>\n",
       "    <tr style=\"text-align: right;\">\n",
       "      <th></th>\n",
       "      <th>bodyType</th>\n",
       "      <th>brand</th>\n",
       "      <th>color</th>\n",
       "      <th>fuelType</th>\n",
       "      <th>modelDate</th>\n",
       "      <th>name</th>\n",
       "      <th>numberOfDoors</th>\n",
       "      <th>productionDate</th>\n",
       "      <th>vehicleConfiguration</th>\n",
       "      <th>vehicleTransmission</th>\n",
       "      <th>...</th>\n",
       "      <th>Руль</th>\n",
       "      <th>Состояние</th>\n",
       "      <th>Владельцы</th>\n",
       "      <th>ПТС</th>\n",
       "      <th>Таможня</th>\n",
       "      <th>Владение</th>\n",
       "      <th>price</th>\n",
       "      <th>start_date</th>\n",
       "      <th>hidden</th>\n",
       "      <th>model</th>\n",
       "    </tr>\n",
       "  </thead>\n",
       "  <tbody>\n",
       "    <tr>\n",
       "      <th>1559</th>\n",
       "      <td>Седан</td>\n",
       "      <td>AUDI</td>\n",
       "      <td>FAFBFB</td>\n",
       "      <td>бензин</td>\n",
       "      <td>2018</td>\n",
       "      <td>45 TFSI 2.0 AMT (245 л.с.) 4WD</td>\n",
       "      <td>4</td>\n",
       "      <td>2019</td>\n",
       "      <td>SEDAN ROBOT 45</td>\n",
       "      <td>ROBOT</td>\n",
       "      <td>...</td>\n",
       "      <td>LEFT</td>\n",
       "      <td>NaN</td>\n",
       "      <td>&lt;NA&gt;</td>\n",
       "      <td>ORIGINAL</td>\n",
       "      <td>True</td>\n",
       "      <td>NaN</td>\n",
       "      <td>4247977.0</td>\n",
       "      <td>2019-11-07T19:32:44Z</td>\n",
       "      <td>NaN</td>\n",
       "      <td>A6</td>\n",
       "    </tr>\n",
       "    <tr>\n",
       "      <th>1757</th>\n",
       "      <td>Седан</td>\n",
       "      <td>AUDI</td>\n",
       "      <td>0000CC</td>\n",
       "      <td>бензин</td>\n",
       "      <td>2018</td>\n",
       "      <td>45 TFSI 2.0 AMT (245 л.с.) 4WD</td>\n",
       "      <td>4</td>\n",
       "      <td>2019</td>\n",
       "      <td>SEDAN ROBOT 45</td>\n",
       "      <td>ROBOT</td>\n",
       "      <td>...</td>\n",
       "      <td>LEFT</td>\n",
       "      <td>NaN</td>\n",
       "      <td>&lt;NA&gt;</td>\n",
       "      <td>ORIGINAL</td>\n",
       "      <td>True</td>\n",
       "      <td>NaN</td>\n",
       "      <td>3290000.0</td>\n",
       "      <td>2020-04-03T07:58:41Z</td>\n",
       "      <td>NaN</td>\n",
       "      <td>A6</td>\n",
       "    </tr>\n",
       "    <tr>\n",
       "      <th>1809</th>\n",
       "      <td>Седан</td>\n",
       "      <td>AUDI</td>\n",
       "      <td>FAFBFB</td>\n",
       "      <td>бензин</td>\n",
       "      <td>2018</td>\n",
       "      <td>45 TFSI 2.0 AMT (245 л.с.) 4WD</td>\n",
       "      <td>4</td>\n",
       "      <td>2019</td>\n",
       "      <td>SEDAN ROBOT 45</td>\n",
       "      <td>ROBOT</td>\n",
       "      <td>...</td>\n",
       "      <td>LEFT</td>\n",
       "      <td>NaN</td>\n",
       "      <td>&lt;NA&gt;</td>\n",
       "      <td>ORIGINAL</td>\n",
       "      <td>True</td>\n",
       "      <td>NaN</td>\n",
       "      <td>4247977.0</td>\n",
       "      <td>2019-11-07T20:07:20Z</td>\n",
       "      <td>NaN</td>\n",
       "      <td>A6</td>\n",
       "    </tr>\n",
       "    <tr>\n",
       "      <th>1842</th>\n",
       "      <td>Седан</td>\n",
       "      <td>AUDI</td>\n",
       "      <td>0000CC</td>\n",
       "      <td>бензин</td>\n",
       "      <td>2018</td>\n",
       "      <td>45 TFSI 2.0 AMT (245 л.с.) 4WD</td>\n",
       "      <td>4</td>\n",
       "      <td>2019</td>\n",
       "      <td>SEDAN ROBOT 45</td>\n",
       "      <td>ROBOT</td>\n",
       "      <td>...</td>\n",
       "      <td>LEFT</td>\n",
       "      <td>NaN</td>\n",
       "      <td>&lt;NA&gt;</td>\n",
       "      <td>ORIGINAL</td>\n",
       "      <td>True</td>\n",
       "      <td>NaN</td>\n",
       "      <td>3290000.0</td>\n",
       "      <td>2020-05-05T13:26:04Z</td>\n",
       "      <td>NaN</td>\n",
       "      <td>A6</td>\n",
       "    </tr>\n",
       "    <tr>\n",
       "      <th>1876</th>\n",
       "      <td>Седан</td>\n",
       "      <td>AUDI</td>\n",
       "      <td>040001</td>\n",
       "      <td>бензин</td>\n",
       "      <td>2018</td>\n",
       "      <td>45 TFSI 2.0 AMT (245 л.с.) 4WD</td>\n",
       "      <td>4</td>\n",
       "      <td>2019</td>\n",
       "      <td>SEDAN ROBOT 45</td>\n",
       "      <td>ROBOT</td>\n",
       "      <td>...</td>\n",
       "      <td>LEFT</td>\n",
       "      <td>NaN</td>\n",
       "      <td>&lt;NA&gt;</td>\n",
       "      <td>ORIGINAL</td>\n",
       "      <td>True</td>\n",
       "      <td>NaN</td>\n",
       "      <td>3290000.0</td>\n",
       "      <td>2020-04-03T07:58:41Z</td>\n",
       "      <td>NaN</td>\n",
       "      <td>A6</td>\n",
       "    </tr>\n",
       "    <tr>\n",
       "      <th>...</th>\n",
       "      <td>...</td>\n",
       "      <td>...</td>\n",
       "      <td>...</td>\n",
       "      <td>...</td>\n",
       "      <td>...</td>\n",
       "      <td>...</td>\n",
       "      <td>...</td>\n",
       "      <td>...</td>\n",
       "      <td>...</td>\n",
       "      <td>...</td>\n",
       "      <td>...</td>\n",
       "      <td>...</td>\n",
       "      <td>...</td>\n",
       "      <td>...</td>\n",
       "      <td>...</td>\n",
       "      <td>...</td>\n",
       "      <td>...</td>\n",
       "      <td>...</td>\n",
       "      <td>...</td>\n",
       "      <td>...</td>\n",
       "      <td>...</td>\n",
       "    </tr>\n",
       "    <tr>\n",
       "      <th>88052</th>\n",
       "      <td>Купе</td>\n",
       "      <td>MERCEDES</td>\n",
       "      <td>040001</td>\n",
       "      <td>бензин</td>\n",
       "      <td>2017</td>\n",
       "      <td>63 AMG 4.0 AT (612 л.с.) 4WD</td>\n",
       "      <td>2</td>\n",
       "      <td>2019</td>\n",
       "      <td>COUPE AUTOMATIC 63</td>\n",
       "      <td>AUTOMATIC</td>\n",
       "      <td>...</td>\n",
       "      <td>LEFT</td>\n",
       "      <td>NaN</td>\n",
       "      <td>&lt;NA&gt;</td>\n",
       "      <td>ORIGINAL</td>\n",
       "      <td>True</td>\n",
       "      <td>NaN</td>\n",
       "      <td>14967400.0</td>\n",
       "      <td>2020-07-10T10:13:09Z</td>\n",
       "      <td>NaN</td>\n",
       "      <td>S_KLASSE_AMG</td>\n",
       "    </tr>\n",
       "    <tr>\n",
       "      <th>88170</th>\n",
       "      <td>Минивэн L</td>\n",
       "      <td>MERCEDES</td>\n",
       "      <td>0000CC</td>\n",
       "      <td>дизель</td>\n",
       "      <td>2014</td>\n",
       "      <td>250 d длинный 2.1d AT (190 л.с.) 4WD</td>\n",
       "      <td>5</td>\n",
       "      <td>2019</td>\n",
       "      <td>MINIVAN AUTOMATIC 250</td>\n",
       "      <td>AUTOMATIC</td>\n",
       "      <td>...</td>\n",
       "      <td>LEFT</td>\n",
       "      <td>NaN</td>\n",
       "      <td>&lt;NA&gt;</td>\n",
       "      <td>NaN</td>\n",
       "      <td>True</td>\n",
       "      <td>NaN</td>\n",
       "      <td>12990000.0</td>\n",
       "      <td>2020-05-29T12:49:19Z</td>\n",
       "      <td>NaN</td>\n",
       "      <td>V_KLASSE</td>\n",
       "    </tr>\n",
       "    <tr>\n",
       "      <th>88188</th>\n",
       "      <td>Минивэн L</td>\n",
       "      <td>MERCEDES</td>\n",
       "      <td>FAFBFB</td>\n",
       "      <td>дизель</td>\n",
       "      <td>2014</td>\n",
       "      <td>250 d длинный 2.1d AT (190 л.с.) 4WD</td>\n",
       "      <td>5</td>\n",
       "      <td>2019</td>\n",
       "      <td>MINIVAN AUTOMATIC 250</td>\n",
       "      <td>AUTOMATIC</td>\n",
       "      <td>...</td>\n",
       "      <td>LEFT</td>\n",
       "      <td>NaN</td>\n",
       "      <td>&lt;NA&gt;</td>\n",
       "      <td>ORIGINAL</td>\n",
       "      <td>True</td>\n",
       "      <td>NaN</td>\n",
       "      <td>6490000.0</td>\n",
       "      <td>2020-05-18T19:41:20Z</td>\n",
       "      <td>NaN</td>\n",
       "      <td>V_KLASSE</td>\n",
       "    </tr>\n",
       "    <tr>\n",
       "      <th>88199</th>\n",
       "      <td>Минивэн L</td>\n",
       "      <td>MERCEDES</td>\n",
       "      <td>FAFBFB</td>\n",
       "      <td>дизель</td>\n",
       "      <td>2014</td>\n",
       "      <td>250 d длинный 2.1d AT (190 л.с.) 4WD</td>\n",
       "      <td>5</td>\n",
       "      <td>2019</td>\n",
       "      <td>MINIVAN AUTOMATIC 250</td>\n",
       "      <td>AUTOMATIC</td>\n",
       "      <td>...</td>\n",
       "      <td>LEFT</td>\n",
       "      <td>NaN</td>\n",
       "      <td>&lt;NA&gt;</td>\n",
       "      <td>ORIGINAL</td>\n",
       "      <td>True</td>\n",
       "      <td>NaN</td>\n",
       "      <td>6490000.0</td>\n",
       "      <td>2020-04-06T13:16:50Z</td>\n",
       "      <td>NaN</td>\n",
       "      <td>V_KLASSE</td>\n",
       "    </tr>\n",
       "    <tr>\n",
       "      <th>88427</th>\n",
       "      <td>Минивэн L2</td>\n",
       "      <td>MERCEDES</td>\n",
       "      <td>0000CC</td>\n",
       "      <td>дизель</td>\n",
       "      <td>2014</td>\n",
       "      <td>119 BlueTEC L2 2.1d AT (190 л.с.) 4WD</td>\n",
       "      <td>4</td>\n",
       "      <td>2019</td>\n",
       "      <td>MINIVAN AUTOMATIC 119</td>\n",
       "      <td>AUTOMATIC</td>\n",
       "      <td>...</td>\n",
       "      <td>LEFT</td>\n",
       "      <td>NaN</td>\n",
       "      <td>&lt;NA&gt;</td>\n",
       "      <td>ORIGINAL</td>\n",
       "      <td>True</td>\n",
       "      <td>NaN</td>\n",
       "      <td>3995300.0</td>\n",
       "      <td>2019-10-21T21:01:59Z</td>\n",
       "      <td>NaN</td>\n",
       "      <td>VITO</td>\n",
       "    </tr>\n",
       "  </tbody>\n",
       "</table>\n",
       "<p>1063 rows × 26 columns</p>\n",
       "</div>"
      ],
      "text/plain": [
       "         bodyType     brand   color fuelType  modelDate  \\\n",
       "1559        Седан      AUDI  FAFBFB   бензин       2018   \n",
       "1757        Седан      AUDI  0000CC   бензин       2018   \n",
       "1809        Седан      AUDI  FAFBFB   бензин       2018   \n",
       "1842        Седан      AUDI  0000CC   бензин       2018   \n",
       "1876        Седан      AUDI  040001   бензин       2018   \n",
       "...           ...       ...     ...      ...        ...   \n",
       "88052        Купе  MERCEDES  040001   бензин       2017   \n",
       "88170   Минивэн L  MERCEDES  0000CC   дизель       2014   \n",
       "88188   Минивэн L  MERCEDES  FAFBFB   дизель       2014   \n",
       "88199   Минивэн L  MERCEDES  FAFBFB   дизель       2014   \n",
       "88427  Минивэн L2  MERCEDES  0000CC   дизель       2014   \n",
       "\n",
       "                                        name  numberOfDoors  productionDate  \\\n",
       "1559          45 TFSI 2.0 AMT (245 л.с.) 4WD              4            2019   \n",
       "1757          45 TFSI 2.0 AMT (245 л.с.) 4WD              4            2019   \n",
       "1809          45 TFSI 2.0 AMT (245 л.с.) 4WD              4            2019   \n",
       "1842          45 TFSI 2.0 AMT (245 л.с.) 4WD              4            2019   \n",
       "1876          45 TFSI 2.0 AMT (245 л.с.) 4WD              4            2019   \n",
       "...                                      ...            ...             ...   \n",
       "88052           63 AMG 4.0 AT (612 л.с.) 4WD              2            2019   \n",
       "88170   250 d длинный 2.1d AT (190 л.с.) 4WD              5            2019   \n",
       "88188   250 d длинный 2.1d AT (190 л.с.) 4WD              5            2019   \n",
       "88199   250 d длинный 2.1d AT (190 л.с.) 4WD              5            2019   \n",
       "88427  119 BlueTEC L2 2.1d AT (190 л.с.) 4WD              4            2019   \n",
       "\n",
       "        vehicleConfiguration vehicleTransmission  ...  Руль  Состояние  \\\n",
       "1559          SEDAN ROBOT 45               ROBOT  ...  LEFT        NaN   \n",
       "1757          SEDAN ROBOT 45               ROBOT  ...  LEFT        NaN   \n",
       "1809          SEDAN ROBOT 45               ROBOT  ...  LEFT        NaN   \n",
       "1842          SEDAN ROBOT 45               ROBOT  ...  LEFT        NaN   \n",
       "1876          SEDAN ROBOT 45               ROBOT  ...  LEFT        NaN   \n",
       "...                      ...                 ...  ...   ...        ...   \n",
       "88052     COUPE AUTOMATIC 63           AUTOMATIC  ...  LEFT        NaN   \n",
       "88170  MINIVAN AUTOMATIC 250           AUTOMATIC  ...  LEFT        NaN   \n",
       "88188  MINIVAN AUTOMATIC 250           AUTOMATIC  ...  LEFT        NaN   \n",
       "88199  MINIVAN AUTOMATIC 250           AUTOMATIC  ...  LEFT        NaN   \n",
       "88427  MINIVAN AUTOMATIC 119           AUTOMATIC  ...  LEFT        NaN   \n",
       "\n",
       "      Владельцы       ПТС Таможня Владение       price            start_date  \\\n",
       "1559       <NA>  ORIGINAL    True      NaN   4247977.0  2019-11-07T19:32:44Z   \n",
       "1757       <NA>  ORIGINAL    True      NaN   3290000.0  2020-04-03T07:58:41Z   \n",
       "1809       <NA>  ORIGINAL    True      NaN   4247977.0  2019-11-07T20:07:20Z   \n",
       "1842       <NA>  ORIGINAL    True      NaN   3290000.0  2020-05-05T13:26:04Z   \n",
       "1876       <NA>  ORIGINAL    True      NaN   3290000.0  2020-04-03T07:58:41Z   \n",
       "...         ...       ...     ...      ...         ...                   ...   \n",
       "88052      <NA>  ORIGINAL    True      NaN  14967400.0  2020-07-10T10:13:09Z   \n",
       "88170      <NA>       NaN    True      NaN  12990000.0  2020-05-29T12:49:19Z   \n",
       "88188      <NA>  ORIGINAL    True      NaN   6490000.0  2020-05-18T19:41:20Z   \n",
       "88199      <NA>  ORIGINAL    True      NaN   6490000.0  2020-04-06T13:16:50Z   \n",
       "88427      <NA>  ORIGINAL    True      NaN   3995300.0  2019-10-21T21:01:59Z   \n",
       "\n",
       "       hidden         model  \n",
       "1559      NaN            A6  \n",
       "1757      NaN            A6  \n",
       "1809      NaN            A6  \n",
       "1842      NaN            A6  \n",
       "1876      NaN            A6  \n",
       "...       ...           ...  \n",
       "88052     NaN  S_KLASSE_AMG  \n",
       "88170     NaN      V_KLASSE  \n",
       "88188     NaN      V_KLASSE  \n",
       "88199     NaN      V_KLASSE  \n",
       "88427     NaN          VITO  \n",
       "\n",
       "[1063 rows x 26 columns]"
      ]
     },
     "execution_count": 685,
     "metadata": {},
     "output_type": "execute_result"
    }
   ],
   "source": [
    "train_mod[train_mod['Владельцы'].isna()].query('productionDate == 2019')"
   ]
  },
  {
   "cell_type": "code",
   "execution_count": 686,
   "metadata": {
    "scrolled": true
   },
   "outputs": [
    {
     "data": {
      "text/html": [
       "<div>\n",
       "<style scoped>\n",
       "    .dataframe tbody tr th:only-of-type {\n",
       "        vertical-align: middle;\n",
       "    }\n",
       "\n",
       "    .dataframe tbody tr th {\n",
       "        vertical-align: top;\n",
       "    }\n",
       "\n",
       "    .dataframe thead th {\n",
       "        text-align: right;\n",
       "    }\n",
       "</style>\n",
       "<table border=\"1\" class=\"dataframe\">\n",
       "  <thead>\n",
       "    <tr style=\"text-align: right;\">\n",
       "      <th></th>\n",
       "      <th>bodyType</th>\n",
       "      <th>brand</th>\n",
       "      <th>color</th>\n",
       "      <th>fuelType</th>\n",
       "      <th>modelDate</th>\n",
       "      <th>name</th>\n",
       "      <th>numberOfDoors</th>\n",
       "      <th>productionDate</th>\n",
       "      <th>vehicleConfiguration</th>\n",
       "      <th>vehicleTransmission</th>\n",
       "      <th>...</th>\n",
       "      <th>Руль</th>\n",
       "      <th>Состояние</th>\n",
       "      <th>Владельцы</th>\n",
       "      <th>ПТС</th>\n",
       "      <th>Таможня</th>\n",
       "      <th>Владение</th>\n",
       "      <th>price</th>\n",
       "      <th>start_date</th>\n",
       "      <th>hidden</th>\n",
       "      <th>model</th>\n",
       "    </tr>\n",
       "  </thead>\n",
       "  <tbody>\n",
       "    <tr>\n",
       "      <th>332</th>\n",
       "      <td>Седан</td>\n",
       "      <td>AUDI</td>\n",
       "      <td>97948F</td>\n",
       "      <td>бензин</td>\n",
       "      <td>2016</td>\n",
       "      <td>1.4 AMT (150 л.с.)</td>\n",
       "      <td>4</td>\n",
       "      <td>2020</td>\n",
       "      <td>SEDAN ROBOT 1.4</td>\n",
       "      <td>ROBOT</td>\n",
       "      <td>...</td>\n",
       "      <td>LEFT</td>\n",
       "      <td>NaN</td>\n",
       "      <td>&lt;NA&gt;</td>\n",
       "      <td>ORIGINAL</td>\n",
       "      <td>True</td>\n",
       "      <td>NaN</td>\n",
       "      <td>1885400.0</td>\n",
       "      <td>2020-08-10T18:16:24Z</td>\n",
       "      <td>NaN</td>\n",
       "      <td>A3</td>\n",
       "    </tr>\n",
       "    <tr>\n",
       "      <th>333</th>\n",
       "      <td>Седан</td>\n",
       "      <td>AUDI</td>\n",
       "      <td>CACECB</td>\n",
       "      <td>бензин</td>\n",
       "      <td>2016</td>\n",
       "      <td>1.4 AMT (150 л.с.)</td>\n",
       "      <td>4</td>\n",
       "      <td>2020</td>\n",
       "      <td>SEDAN ROBOT 1.4</td>\n",
       "      <td>ROBOT</td>\n",
       "      <td>...</td>\n",
       "      <td>LEFT</td>\n",
       "      <td>NaN</td>\n",
       "      <td>&lt;NA&gt;</td>\n",
       "      <td>ORIGINAL</td>\n",
       "      <td>True</td>\n",
       "      <td>NaN</td>\n",
       "      <td>1885400.0</td>\n",
       "      <td>2020-08-10T18:16:24Z</td>\n",
       "      <td>NaN</td>\n",
       "      <td>A3</td>\n",
       "    </tr>\n",
       "    <tr>\n",
       "      <th>336</th>\n",
       "      <td>Седан</td>\n",
       "      <td>AUDI</td>\n",
       "      <td>0000CC</td>\n",
       "      <td>бензин</td>\n",
       "      <td>2016</td>\n",
       "      <td>1.4 AMT (150 л.с.)</td>\n",
       "      <td>4</td>\n",
       "      <td>2020</td>\n",
       "      <td>SEDAN ROBOT 1.4</td>\n",
       "      <td>ROBOT</td>\n",
       "      <td>...</td>\n",
       "      <td>LEFT</td>\n",
       "      <td>NaN</td>\n",
       "      <td>&lt;NA&gt;</td>\n",
       "      <td>ORIGINAL</td>\n",
       "      <td>True</td>\n",
       "      <td>NaN</td>\n",
       "      <td>1885400.0</td>\n",
       "      <td>2020-08-04T16:44:36Z</td>\n",
       "      <td>NaN</td>\n",
       "      <td>A3</td>\n",
       "    </tr>\n",
       "    <tr>\n",
       "      <th>339</th>\n",
       "      <td>Седан</td>\n",
       "      <td>AUDI</td>\n",
       "      <td>0000CC</td>\n",
       "      <td>бензин</td>\n",
       "      <td>2016</td>\n",
       "      <td>1.4 AMT (150 л.с.)</td>\n",
       "      <td>4</td>\n",
       "      <td>2020</td>\n",
       "      <td>SEDAN ROBOT 1.4</td>\n",
       "      <td>ROBOT</td>\n",
       "      <td>...</td>\n",
       "      <td>LEFT</td>\n",
       "      <td>NaN</td>\n",
       "      <td>&lt;NA&gt;</td>\n",
       "      <td>ORIGINAL</td>\n",
       "      <td>True</td>\n",
       "      <td>NaN</td>\n",
       "      <td>2016000.0</td>\n",
       "      <td>2020-08-01T03:19:03Z</td>\n",
       "      <td>NaN</td>\n",
       "      <td>A3</td>\n",
       "    </tr>\n",
       "    <tr>\n",
       "      <th>342</th>\n",
       "      <td>Седан</td>\n",
       "      <td>AUDI</td>\n",
       "      <td>97948F</td>\n",
       "      <td>бензин</td>\n",
       "      <td>2016</td>\n",
       "      <td>1.4 AMT (150 л.с.)</td>\n",
       "      <td>4</td>\n",
       "      <td>2020</td>\n",
       "      <td>SEDAN ROBOT 1.4</td>\n",
       "      <td>ROBOT</td>\n",
       "      <td>...</td>\n",
       "      <td>LEFT</td>\n",
       "      <td>NaN</td>\n",
       "      <td>&lt;NA&gt;</td>\n",
       "      <td>ORIGINAL</td>\n",
       "      <td>True</td>\n",
       "      <td>NaN</td>\n",
       "      <td>1946000.0</td>\n",
       "      <td>2020-08-01T03:19:03Z</td>\n",
       "      <td>NaN</td>\n",
       "      <td>A3</td>\n",
       "    </tr>\n",
       "    <tr>\n",
       "      <th>...</th>\n",
       "      <td>...</td>\n",
       "      <td>...</td>\n",
       "      <td>...</td>\n",
       "      <td>...</td>\n",
       "      <td>...</td>\n",
       "      <td>...</td>\n",
       "      <td>...</td>\n",
       "      <td>...</td>\n",
       "      <td>...</td>\n",
       "      <td>...</td>\n",
       "      <td>...</td>\n",
       "      <td>...</td>\n",
       "      <td>...</td>\n",
       "      <td>...</td>\n",
       "      <td>...</td>\n",
       "      <td>...</td>\n",
       "      <td>...</td>\n",
       "      <td>...</td>\n",
       "      <td>...</td>\n",
       "      <td>...</td>\n",
       "      <td>...</td>\n",
       "    </tr>\n",
       "    <tr>\n",
       "      <th>88272</th>\n",
       "      <td>Минивэн XL</td>\n",
       "      <td>MERCEDES</td>\n",
       "      <td>040001</td>\n",
       "      <td>дизель</td>\n",
       "      <td>2014</td>\n",
       "      <td>250 d экстра длинный 2.1d AT (190 л.с.) 4WD</td>\n",
       "      <td>5</td>\n",
       "      <td>2020</td>\n",
       "      <td>MINIVAN AUTOMATIC 250</td>\n",
       "      <td>AUTOMATIC</td>\n",
       "      <td>...</td>\n",
       "      <td>LEFT</td>\n",
       "      <td>NaN</td>\n",
       "      <td>&lt;NA&gt;</td>\n",
       "      <td>ORIGINAL</td>\n",
       "      <td>True</td>\n",
       "      <td>NaN</td>\n",
       "      <td>7594200.0</td>\n",
       "      <td>2020-08-01T19:47:22Z</td>\n",
       "      <td>NaN</td>\n",
       "      <td>V_KLASSE</td>\n",
       "    </tr>\n",
       "    <tr>\n",
       "      <th>88273</th>\n",
       "      <td>Минивэн XL</td>\n",
       "      <td>MERCEDES</td>\n",
       "      <td>0000CC</td>\n",
       "      <td>дизель</td>\n",
       "      <td>2014</td>\n",
       "      <td>250 d экстра длинный 2.1d AT (190 л.с.) 4WD</td>\n",
       "      <td>5</td>\n",
       "      <td>2020</td>\n",
       "      <td>MINIVAN AUTOMATIC 250</td>\n",
       "      <td>AUTOMATIC</td>\n",
       "      <td>...</td>\n",
       "      <td>LEFT</td>\n",
       "      <td>NaN</td>\n",
       "      <td>&lt;NA&gt;</td>\n",
       "      <td>ORIGINAL</td>\n",
       "      <td>True</td>\n",
       "      <td>NaN</td>\n",
       "      <td>7761400.0</td>\n",
       "      <td>2020-08-15T20:06:56Z</td>\n",
       "      <td>NaN</td>\n",
       "      <td>V_KLASSE</td>\n",
       "    </tr>\n",
       "    <tr>\n",
       "      <th>88275</th>\n",
       "      <td>Минивэн XL</td>\n",
       "      <td>MERCEDES</td>\n",
       "      <td>040001</td>\n",
       "      <td>дизель</td>\n",
       "      <td>2014</td>\n",
       "      <td>250 d экстра длинный 2.1d AT (190 л.с.) 4WD</td>\n",
       "      <td>5</td>\n",
       "      <td>2020</td>\n",
       "      <td>MINIVAN AUTOMATIC 250</td>\n",
       "      <td>AUTOMATIC</td>\n",
       "      <td>...</td>\n",
       "      <td>LEFT</td>\n",
       "      <td>NaN</td>\n",
       "      <td>&lt;NA&gt;</td>\n",
       "      <td>ORIGINAL</td>\n",
       "      <td>True</td>\n",
       "      <td>NaN</td>\n",
       "      <td>7603640.0</td>\n",
       "      <td>2020-08-15T20:06:56Z</td>\n",
       "      <td>NaN</td>\n",
       "      <td>V_KLASSE</td>\n",
       "    </tr>\n",
       "    <tr>\n",
       "      <th>88278</th>\n",
       "      <td>Минивэн XL</td>\n",
       "      <td>MERCEDES</td>\n",
       "      <td>040001</td>\n",
       "      <td>дизель</td>\n",
       "      <td>2014</td>\n",
       "      <td>250 d экстра длинный 2.1d AT (190 л.с.) 4WD</td>\n",
       "      <td>5</td>\n",
       "      <td>2020</td>\n",
       "      <td>MINIVAN AUTOMATIC 250</td>\n",
       "      <td>AUTOMATIC</td>\n",
       "      <td>...</td>\n",
       "      <td>LEFT</td>\n",
       "      <td>NaN</td>\n",
       "      <td>&lt;NA&gt;</td>\n",
       "      <td>ORIGINAL</td>\n",
       "      <td>True</td>\n",
       "      <td>NaN</td>\n",
       "      <td>7633300.0</td>\n",
       "      <td>2020-08-15T20:06:56Z</td>\n",
       "      <td>NaN</td>\n",
       "      <td>V_KLASSE</td>\n",
       "    </tr>\n",
       "    <tr>\n",
       "      <th>88420</th>\n",
       "      <td>Минивэн L2</td>\n",
       "      <td>MERCEDES</td>\n",
       "      <td>040001</td>\n",
       "      <td>дизель</td>\n",
       "      <td>2014</td>\n",
       "      <td>119 BlueTEC L2 2.1d AT (190 л.с.) 4WD</td>\n",
       "      <td>4</td>\n",
       "      <td>2020</td>\n",
       "      <td>MINIVAN AUTOMATIC 119</td>\n",
       "      <td>AUTOMATIC</td>\n",
       "      <td>...</td>\n",
       "      <td>LEFT</td>\n",
       "      <td>NaN</td>\n",
       "      <td>&lt;NA&gt;</td>\n",
       "      <td>ORIGINAL</td>\n",
       "      <td>True</td>\n",
       "      <td>NaN</td>\n",
       "      <td>4099120.0</td>\n",
       "      <td>2020-07-17T09:57:06Z</td>\n",
       "      <td>NaN</td>\n",
       "      <td>VITO</td>\n",
       "    </tr>\n",
       "  </tbody>\n",
       "</table>\n",
       "<p>10871 rows × 26 columns</p>\n",
       "</div>"
      ],
      "text/plain": [
       "         bodyType     brand   color fuelType  modelDate  \\\n",
       "332         Седан      AUDI  97948F   бензин       2016   \n",
       "333         Седан      AUDI  CACECB   бензин       2016   \n",
       "336         Седан      AUDI  0000CC   бензин       2016   \n",
       "339         Седан      AUDI  0000CC   бензин       2016   \n",
       "342         Седан      AUDI  97948F   бензин       2016   \n",
       "...           ...       ...     ...      ...        ...   \n",
       "88272  Минивэн XL  MERCEDES  040001   дизель       2014   \n",
       "88273  Минивэн XL  MERCEDES  0000CC   дизель       2014   \n",
       "88275  Минивэн XL  MERCEDES  040001   дизель       2014   \n",
       "88278  Минивэн XL  MERCEDES  040001   дизель       2014   \n",
       "88420  Минивэн L2  MERCEDES  040001   дизель       2014   \n",
       "\n",
       "                                              name  numberOfDoors  \\\n",
       "332                             1.4 AMT (150 л.с.)              4   \n",
       "333                             1.4 AMT (150 л.с.)              4   \n",
       "336                             1.4 AMT (150 л.с.)              4   \n",
       "339                             1.4 AMT (150 л.с.)              4   \n",
       "342                             1.4 AMT (150 л.с.)              4   \n",
       "...                                            ...            ...   \n",
       "88272  250 d экстра длинный 2.1d AT (190 л.с.) 4WD              5   \n",
       "88273  250 d экстра длинный 2.1d AT (190 л.с.) 4WD              5   \n",
       "88275  250 d экстра длинный 2.1d AT (190 л.с.) 4WD              5   \n",
       "88278  250 d экстра длинный 2.1d AT (190 л.с.) 4WD              5   \n",
       "88420        119 BlueTEC L2 2.1d AT (190 л.с.) 4WD              4   \n",
       "\n",
       "       productionDate   vehicleConfiguration vehicleTransmission  ...  Руль  \\\n",
       "332              2020        SEDAN ROBOT 1.4               ROBOT  ...  LEFT   \n",
       "333              2020        SEDAN ROBOT 1.4               ROBOT  ...  LEFT   \n",
       "336              2020        SEDAN ROBOT 1.4               ROBOT  ...  LEFT   \n",
       "339              2020        SEDAN ROBOT 1.4               ROBOT  ...  LEFT   \n",
       "342              2020        SEDAN ROBOT 1.4               ROBOT  ...  LEFT   \n",
       "...               ...                    ...                 ...  ...   ...   \n",
       "88272            2020  MINIVAN AUTOMATIC 250           AUTOMATIC  ...  LEFT   \n",
       "88273            2020  MINIVAN AUTOMATIC 250           AUTOMATIC  ...  LEFT   \n",
       "88275            2020  MINIVAN AUTOMATIC 250           AUTOMATIC  ...  LEFT   \n",
       "88278            2020  MINIVAN AUTOMATIC 250           AUTOMATIC  ...  LEFT   \n",
       "88420            2020  MINIVAN AUTOMATIC 119           AUTOMATIC  ...  LEFT   \n",
       "\n",
       "       Состояние Владельцы       ПТС Таможня Владение      price  \\\n",
       "332          NaN      <NA>  ORIGINAL    True      NaN  1885400.0   \n",
       "333          NaN      <NA>  ORIGINAL    True      NaN  1885400.0   \n",
       "336          NaN      <NA>  ORIGINAL    True      NaN  1885400.0   \n",
       "339          NaN      <NA>  ORIGINAL    True      NaN  2016000.0   \n",
       "342          NaN      <NA>  ORIGINAL    True      NaN  1946000.0   \n",
       "...          ...       ...       ...     ...      ...        ...   \n",
       "88272        NaN      <NA>  ORIGINAL    True      NaN  7594200.0   \n",
       "88273        NaN      <NA>  ORIGINAL    True      NaN  7761400.0   \n",
       "88275        NaN      <NA>  ORIGINAL    True      NaN  7603640.0   \n",
       "88278        NaN      <NA>  ORIGINAL    True      NaN  7633300.0   \n",
       "88420        NaN      <NA>  ORIGINAL    True      NaN  4099120.0   \n",
       "\n",
       "                 start_date  hidden     model  \n",
       "332    2020-08-10T18:16:24Z     NaN        A3  \n",
       "333    2020-08-10T18:16:24Z     NaN        A3  \n",
       "336    2020-08-04T16:44:36Z     NaN        A3  \n",
       "339    2020-08-01T03:19:03Z     NaN        A3  \n",
       "342    2020-08-01T03:19:03Z     NaN        A3  \n",
       "...                     ...     ...       ...  \n",
       "88272  2020-08-01T19:47:22Z     NaN  V_KLASSE  \n",
       "88273  2020-08-15T20:06:56Z     NaN  V_KLASSE  \n",
       "88275  2020-08-15T20:06:56Z     NaN  V_KLASSE  \n",
       "88278  2020-08-15T20:06:56Z     NaN  V_KLASSE  \n",
       "88420  2020-07-17T09:57:06Z     NaN      VITO  \n",
       "\n",
       "[10871 rows x 26 columns]"
      ]
     },
     "execution_count": 686,
     "metadata": {},
     "output_type": "execute_result"
    }
   ],
   "source": [
    "train_mod[train_mod['Владельцы'].isna()].query('productionDate == 2020')"
   ]
  },
  {
   "cell_type": "markdown",
   "metadata": {},
   "source": [
    "Все эти автомобили - леворульные. Очевидно, они были привезены из Японии. Отсутствие пробега, вероятно, значит отсутствие пробега по России. Это говорит о том, что и владельцев в России у этих автомобилей не было. Следует заполнить пропуски нолями"
   ]
  },
  {
   "cell_type": "markdown",
   "metadata": {},
   "source": [
    "## Владение"
   ]
  },
  {
   "cell_type": "code",
   "execution_count": 687,
   "metadata": {
    "scrolled": true
   },
   "outputs": [
    {
     "name": "stdout",
     "output_type": "stream",
     "text": [
      "TEST\n"
     ]
    },
    {
     "data": {
      "text/plain": [
       "34327                   NaN\n",
       "31865    7 лет и 11 месяцев\n",
       "10693                   NaN\n",
       "28222      1 год и 2 месяца\n",
       "31454      9 лет и 2 месяца\n",
       "Name: Владение, dtype: object"
      ]
     },
     "metadata": {},
     "output_type": "display_data"
    },
    {
     "name": "stdout",
     "output_type": "stream",
     "text": [
      "TRAIN\n"
     ]
    },
    {
     "data": {
      "text/plain": [
       "40964    {'year': 2018, 'month': 11}\n",
       "39229     {'year': 2014, 'month': 1}\n",
       "57280                            NaN\n",
       "63568     {'year': 2017, 'month': 8}\n",
       "88126     {'year': 2019, 'month': 4}\n",
       "Name: Владение, dtype: object"
      ]
     },
     "metadata": {},
     "output_type": "display_data"
    }
   ],
   "source": [
    "column = 'Владение' # перевести в дни, можно выкинуть\n",
    "type_comparison(column)"
   ]
  },
  {
   "cell_type": "markdown",
   "metadata": {},
   "source": [
    "Посчитаем % пропусков"
   ]
  },
  {
   "cell_type": "code",
   "execution_count": 688,
   "metadata": {},
   "outputs": [
    {
     "name": "stdout",
     "output_type": "stream",
     "text": [
      "TEST\n",
      "Владение - 65%\n",
      "TRAIN\n",
      "Владение - 67%\n"
     ]
    }
   ],
   "source": [
    "col = 'Владение'\n",
    "\n",
    "pct_missing_1 = np.mean(test_mod[col].isnull()) \n",
    "print('TEST')\n",
    "print('{} - {}%'.format(col, round(pct_missing_1*100)))\n",
    "pct_missing_2 = np.mean(train_mod[col].isnull()) \n",
    "print('TRAIN')\n",
    "print('{} - {}%'.format(col, round(pct_missing_2*100)))"
   ]
  },
  {
   "cell_type": "markdown",
   "metadata": {},
   "source": [
    "Большой процент пропусков в TRAIN и TEST (около 70%), столбец можно удалить."
   ]
  },
  {
   "cell_type": "code",
   "execution_count": 689,
   "metadata": {},
   "outputs": [],
   "source": [
    "columns_to_drop.append('Владение')"
   ]
  },
  {
   "cell_type": "markdown",
   "metadata": {},
   "source": [
    "## Привод"
   ]
  },
  {
   "cell_type": "code",
   "execution_count": 690,
   "metadata": {},
   "outputs": [
    {
     "name": "stdout",
     "output_type": "stream",
     "text": [
      "TEST\n"
     ]
    },
    {
     "data": {
      "text/plain": [
       "24735    передний\n",
       "18940      задний\n",
       "32395    передний\n",
       "2871     передний\n",
       "15935      полный\n",
       "Name: Привод, dtype: object"
      ]
     },
     "metadata": {},
     "output_type": "display_data"
    },
    {
     "name": "stdout",
     "output_type": "stream",
     "text": [
      "TRAIN\n"
     ]
    },
    {
     "data": {
      "text/plain": [
       "68076    передний\n",
       "28386    передний\n",
       "8131       полный\n",
       "76743    передний\n",
       "72778    передний\n",
       "Name: Привод, dtype: object"
      ]
     },
     "metadata": {},
     "output_type": "display_data"
    }
   ],
   "source": [
    "column = 'Привод'\n",
    "type_comparison(column)"
   ]
  },
  {
   "cell_type": "markdown",
   "metadata": {},
   "source": [
    "Оставляем как есть"
   ]
  },
  {
   "cell_type": "markdown",
   "metadata": {},
   "source": [
    "## ПТС"
   ]
  },
  {
   "cell_type": "code",
   "execution_count": 691,
   "metadata": {},
   "outputs": [
    {
     "name": "stdout",
     "output_type": "stream",
     "text": [
      "TEST\n"
     ]
    },
    {
     "data": {
      "text/plain": [
       "32354    Оригинал\n",
       "11547    Оригинал\n",
       "14261    Оригинал\n",
       "5027     Дубликат\n",
       "34423    Оригинал\n",
       "Name: ПТС, dtype: object"
      ]
     },
     "metadata": {},
     "output_type": "display_data"
    },
    {
     "name": "stdout",
     "output_type": "stream",
     "text": [
      "TRAIN\n"
     ]
    },
    {
     "data": {
      "text/plain": [
       "28377    ORIGINAL\n",
       "32356    ORIGINAL\n",
       "80852    ORIGINAL\n",
       "55693    ORIGINAL\n",
       "51535    ORIGINAL\n",
       "Name: ПТС, dtype: object"
      ]
     },
     "metadata": {},
     "output_type": "display_data"
    }
   ],
   "source": [
    "column = 'ПТС'\n",
    "type_comparison(column)"
   ]
  },
  {
   "cell_type": "markdown",
   "metadata": {},
   "source": [
    "К единому формату"
   ]
  },
  {
   "cell_type": "code",
   "execution_count": 692,
   "metadata": {},
   "outputs": [],
   "source": [
    "#Преобразование\n",
    "test_mod = test_mod.replace({'ПТС':\n",
    "                            {'Оригинал': 'ORIGINAL',\n",
    "                            'Дубликат': 'DUPLICATE'}})"
   ]
  },
  {
   "cell_type": "markdown",
   "metadata": {},
   "source": [
    "## Руль"
   ]
  },
  {
   "cell_type": "code",
   "execution_count": 693,
   "metadata": {},
   "outputs": [
    {
     "name": "stdout",
     "output_type": "stream",
     "text": [
      "TEST\n"
     ]
    },
    {
     "data": {
      "text/plain": [
       "2672     Левый\n",
       "34558    Левый\n",
       "20619    Левый\n",
       "10875    Левый\n",
       "6521     Левый\n",
       "Name: Руль, dtype: object"
      ]
     },
     "metadata": {},
     "output_type": "display_data"
    },
    {
     "name": "stdout",
     "output_type": "stream",
     "text": [
      "TRAIN\n"
     ]
    },
    {
     "data": {
      "text/plain": [
       "46534     LEFT\n",
       "79441     LEFT\n",
       "54094     LEFT\n",
       "41575    RIGHT\n",
       "34527     LEFT\n",
       "Name: Руль, dtype: object"
      ]
     },
     "metadata": {},
     "output_type": "display_data"
    }
   ],
   "source": [
    "column = 'Руль'\n",
    "type_comparison(column)"
   ]
  },
  {
   "cell_type": "markdown",
   "metadata": {},
   "source": [
    "Преобразуем также как предыдущий столбец"
   ]
  },
  {
   "cell_type": "code",
   "execution_count": 694,
   "metadata": {},
   "outputs": [],
   "source": [
    "#Преобразование\n",
    "test_mod = test_mod.replace({'Руль':\n",
    "                            {'Левый': 'LEFT',\n",
    "                            'Правый': 'RIGHT'}})"
   ]
  },
  {
   "cell_type": "markdown",
   "metadata": {},
   "source": [
    "## Состояние"
   ]
  },
  {
   "cell_type": "code",
   "execution_count": 695,
   "metadata": {},
   "outputs": [
    {
     "name": "stdout",
     "output_type": "stream",
     "text": [
      "TEST\n"
     ]
    },
    {
     "data": {
      "text/plain": [
       "24699    Не требует ремонта\n",
       "21121    Не требует ремонта\n",
       "11782    Не требует ремонта\n",
       "13807    Не требует ремонта\n",
       "12837    Не требует ремонта\n",
       "Name: Состояние, dtype: object"
      ]
     },
     "metadata": {},
     "output_type": "display_data"
    },
    {
     "name": "stdout",
     "output_type": "stream",
     "text": [
      "TRAIN\n"
     ]
    },
    {
     "data": {
      "text/plain": [
       "52241   NaN\n",
       "42304   NaN\n",
       "35853   NaN\n",
       "3066    NaN\n",
       "45198   NaN\n",
       "Name: Состояние, dtype: float64"
      ]
     },
     "metadata": {},
     "output_type": "display_data"
    }
   ],
   "source": [
    "column = 'Состояние'\n",
    "type_comparison(column)"
   ]
  },
  {
   "cell_type": "code",
   "execution_count": 696,
   "metadata": {},
   "outputs": [
    {
     "data": {
      "text/plain": [
       "array(['Не требует ремонта'], dtype=object)"
      ]
     },
     "execution_count": 696,
     "metadata": {},
     "output_type": "execute_result"
    }
   ],
   "source": [
    "test_mod.Состояние.unique()"
   ]
  },
  {
   "cell_type": "code",
   "execution_count": 697,
   "metadata": {},
   "outputs": [
    {
     "data": {
      "text/plain": [
       "array([nan])"
      ]
     },
     "execution_count": 697,
     "metadata": {},
     "output_type": "execute_result"
    }
   ],
   "source": [
    "train_mod.Состояние.unique()"
   ]
  },
  {
   "cell_type": "markdown",
   "metadata": {},
   "source": [
    "В TEST только одно значение, в TRAIN - пустой столбец. СОСТОЯНИЕ можно удалить."
   ]
  },
  {
   "cell_type": "code",
   "execution_count": 698,
   "metadata": {},
   "outputs": [],
   "source": [
    "columns_to_drop.append('Состояние')"
   ]
  },
  {
   "cell_type": "markdown",
   "metadata": {},
   "source": [
    "## Таможня"
   ]
  },
  {
   "cell_type": "code",
   "execution_count": 699,
   "metadata": {},
   "outputs": [
    {
     "name": "stdout",
     "output_type": "stream",
     "text": [
      "TEST\n"
     ]
    },
    {
     "data": {
      "text/plain": [
       "15439    Растаможен\n",
       "17090    Растаможен\n",
       "7179     Растаможен\n",
       "27860    Растаможен\n",
       "2517     Растаможен\n",
       "Name: Таможня, dtype: object"
      ]
     },
     "metadata": {},
     "output_type": "display_data"
    },
    {
     "name": "stdout",
     "output_type": "stream",
     "text": [
      "TRAIN\n"
     ]
    },
    {
     "data": {
      "text/plain": [
       "26036    True\n",
       "1921     True\n",
       "38588    True\n",
       "24792    True\n",
       "78531    True\n",
       "Name: Таможня, dtype: bool"
      ]
     },
     "metadata": {},
     "output_type": "display_data"
    }
   ],
   "source": [
    "column = 'Таможня'\n",
    "type_comparison(column)"
   ]
  },
  {
   "cell_type": "code",
   "execution_count": 700,
   "metadata": {},
   "outputs": [
    {
     "data": {
      "text/plain": [
       "array(['Растаможен'], dtype=object)"
      ]
     },
     "execution_count": 700,
     "metadata": {},
     "output_type": "execute_result"
    }
   ],
   "source": [
    "test_mod.Таможня.unique()"
   ]
  },
  {
   "cell_type": "code",
   "execution_count": 701,
   "metadata": {},
   "outputs": [
    {
     "data": {
      "text/plain": [
       "array([ True])"
      ]
     },
     "execution_count": 701,
     "metadata": {},
     "output_type": "execute_result"
    }
   ],
   "source": [
    "train_mod.Таможня.unique()"
   ]
  },
  {
   "cell_type": "markdown",
   "metadata": {},
   "source": [
    "В TRAIN и TEST во всех строках одинаковое значение, столбец ТАМОЖНЯ можно удалить."
   ]
  },
  {
   "cell_type": "code",
   "execution_count": 702,
   "metadata": {},
   "outputs": [],
   "source": [
    "columns_to_drop.append('Таможня')"
   ]
  },
  {
   "cell_type": "markdown",
   "metadata": {},
   "source": [
    "### Столбцы ТОЛЬКО TEST"
   ]
  },
  {
   "cell_type": "code",
   "execution_count": 703,
   "metadata": {
    "scrolled": true
   },
   "outputs": [
    {
     "name": "stdout",
     "output_type": "stream",
     "text": [
      "<class 'pandas.core.frame.DataFrame'>\n",
      "Int64Index: 34686 entries, 0 to 34685\n",
      "Data columns (total 11 columns):\n",
      " #   Column              Non-Null Count  Dtype \n",
      "---  ------              --------------  ----- \n",
      " 0   model_name          34686 non-null  object\n",
      " 1   parsing_unixtime    34686 non-null  int64 \n",
      " 2   priceCurrency       34686 non-null  object\n",
      " 3   equipment_dict      24690 non-null  object\n",
      " 4   complectation_dict  6418 non-null   object\n",
      " 5   model_info          34686 non-null  object\n",
      " 6   car_url             34686 non-null  object\n",
      " 7   sell_id             34686 non-null  int64 \n",
      " 8   vendor              34686 non-null  object\n",
      " 9   image               34686 non-null  object\n",
      " 10  super_gen           34686 non-null  object\n",
      "dtypes: int64(2), object(9)\n",
      "memory usage: 3.2+ MB\n"
     ]
    },
    {
     "name": "stderr",
     "output_type": "stream",
     "text": [
      "C:\\Temp\\ipykernel_7588\\1526034085.py:1: FutureWarning: Passing a set as an indexer is deprecated and will raise in a future version. Use a list instead.\n",
      "  test_mod[test_only_columns].info()\n"
     ]
    }
   ],
   "source": [
    "test_mod[test_only_columns].info()"
   ]
  },
  {
   "cell_type": "markdown",
   "metadata": {},
   "source": [
    "## equipment_dict"
   ]
  },
  {
   "cell_type": "code",
   "execution_count": 704,
   "metadata": {
    "scrolled": true
   },
   "outputs": [
    {
     "name": "stdout",
     "output_type": "stream",
     "text": [
      "equipment_dict - 29%\n"
     ]
    }
   ],
   "source": [
    "#Процент пропусков\n",
    "#Процент пропусков\n",
    "col = 'equipment_dict'\n",
    "missing = np.mean(test_mod[col].isnull()) \n",
    "print('{} - {}%'.format(col, round(missing*100)))"
   ]
  },
  {
   "cell_type": "code",
   "execution_count": 705,
   "metadata": {},
   "outputs": [
    {
     "data": {
      "text/plain": [
       "'{\"engine-proof\":true,\"tinted-glass\":true,\"esp\":true,\"airbag-driver\":true,\"aux\":true,\"isofix\":true,\"usb\":true,\"electro-window-front\":true,\"hcc\":true,\"audiopreparation\":true,\"heated-wash-system\":true,\"ashtray-and-cigarette-lighter\":true,\"airbag-passenger\":true,\"computer\":true,\"seat-transformation\":true,\"wheel-power\":true,\"lock\":true,\"fabric-seats\":true,\"electro-mirrors\":true,\"steel-wheels\":true,\"rain-sensor\":true,\"airbag-side\":true,\"mirrors-heat\":true,\"driver-seat-updown\":true,\"condition\":true,\"led-lights\":true,\"abs\":true,\"front-seats-heat\":true,\"wheel-configuration1\":true,\"immo\":true,\"12v-socket\":true,\"15-inch-wheels\":true}'"
      ]
     },
     "execution_count": 705,
     "metadata": {},
     "output_type": "execute_result"
    }
   ],
   "source": [
    "test_mod.equipment_dict[938]"
   ]
  },
  {
   "cell_type": "markdown",
   "metadata": {},
   "source": [
    "Данные содержат описание комплектации.  \n",
    "Однако, подобных данных нет в TRAIN и этот столбец не принесёт нам никакой пользы."
   ]
  },
  {
   "cell_type": "code",
   "execution_count": 706,
   "metadata": {},
   "outputs": [],
   "source": [
    "columns_to_drop.append('equipment_dict')"
   ]
  },
  {
   "cell_type": "markdown",
   "metadata": {},
   "source": [
    "## super_gen"
   ]
  },
  {
   "cell_type": "code",
   "execution_count": 707,
   "metadata": {
    "scrolled": true
   },
   "outputs": [
    {
     "data": {
      "text/plain": [
       "18697    {\"id\":\"2307897\",\"name\":\"450\",\"nameplate\":\"450\"...\n",
       "24317    {\"id\":\"4648276\",\"displacement\":1968,\"engine_ty...\n",
       "30460    {\"id\":\"20500075\",\"displacement\":1595,\"engine_t...\n",
       "26996    {\"id\":\"20395250\",\"displacement\":2350,\"engine_t...\n",
       "18391    {\"id\":\"9345335\",\"name\":\"300\",\"nameplate\":\"300\"...\n",
       "Name: super_gen, dtype: object"
      ]
     },
     "execution_count": 707,
     "metadata": {},
     "output_type": "execute_result"
    }
   ],
   "source": [
    "test_mod.super_gen.sample(5)"
   ]
  },
  {
   "cell_type": "markdown",
   "metadata": {},
   "source": [
    "Данные частично дублируются с vehicleTransmission и engineDisplacement, однако, пропусков в тех столбцах нет - столбец super_gen следует удалить"
   ]
  },
  {
   "cell_type": "code",
   "execution_count": 708,
   "metadata": {},
   "outputs": [],
   "source": [
    "columns_to_drop.append('super_gen')"
   ]
  },
  {
   "cell_type": "markdown",
   "metadata": {},
   "source": [
    "## model_info"
   ]
  },
  {
   "cell_type": "code",
   "execution_count": 709,
   "metadata": {},
   "outputs": [
    {
     "data": {
      "text/plain": [
       "1332     {\"code\":\"OCTAVIA\",\"name\":\"Octavia\",\"ru_name\":\"...\n",
       "8141     {\"code\":\"X6_M\",\"name\":\"X6 M\",\"ru_name\":\"Х6 М\",...\n",
       "23859    {\"code\":\"TOUAREG\",\"name\":\"Touareg\",\"ru_name\":\"...\n",
       "15700    {\"code\":\"E_KLASSE_AMG\",\"name\":\"E-Класс AMG\",\"r...\n",
       "20951    {\"code\":\"CAMRY\",\"name\":\"Camry\",\"ru_name\":\"Камр...\n",
       "Name: model_info, dtype: object"
      ]
     },
     "execution_count": 709,
     "metadata": {},
     "output_type": "execute_result"
    }
   ],
   "source": [
    "test_mod.model_info.sample(5)"
   ]
  },
  {
   "cell_type": "markdown",
   "metadata": {},
   "source": [
    "Столбец MODEL_INFO дублирует информацию BRAND, можно удалить."
   ]
  },
  {
   "cell_type": "code",
   "execution_count": 710,
   "metadata": {},
   "outputs": [],
   "source": [
    "columns_to_drop.append('model_info')"
   ]
  },
  {
   "cell_type": "markdown",
   "metadata": {},
   "source": [
    "## vendor"
   ]
  },
  {
   "cell_type": "code",
   "execution_count": 711,
   "metadata": {},
   "outputs": [
    {
     "data": {
      "text/plain": [
       "30723    EUROPEAN\n",
       "2894     EUROPEAN\n",
       "24418    EUROPEAN\n",
       "19567    JAPANESE\n",
       "24093    EUROPEAN\n",
       "Name: vendor, dtype: object"
      ]
     },
     "execution_count": 711,
     "metadata": {},
     "output_type": "execute_result"
    }
   ],
   "source": [
    "test_mod.vendor.sample(5)"
   ]
  },
  {
   "cell_type": "code",
   "execution_count": 712,
   "metadata": {},
   "outputs": [
    {
     "data": {
      "text/plain": [
       "array(['EUROPEAN', 'JAPANESE'], dtype=object)"
      ]
     },
     "execution_count": 712,
     "metadata": {},
     "output_type": "execute_result"
    }
   ],
   "source": [
    "test_mod.vendor.unique()"
   ]
  },
  {
   "cell_type": "code",
   "execution_count": 713,
   "metadata": {},
   "outputs": [
    {
     "data": {
      "text/plain": [
       "array(['SKODA', 'AUDI', 'VOLVO', 'BMW', 'MERCEDES', 'VOLKSWAGEN'],\n",
       "      dtype=object)"
      ]
     },
     "execution_count": 713,
     "metadata": {},
     "output_type": "execute_result"
    }
   ],
   "source": [
    "test_mod[test_mod['vendor'] == 'EUROPEAN']['brand'].unique()"
   ]
  },
  {
   "cell_type": "code",
   "execution_count": 714,
   "metadata": {},
   "outputs": [
    {
     "data": {
      "text/plain": [
       "array(['HONDA', 'NISSAN', 'INFINITI', 'TOYOTA', 'LEXUS', 'MITSUBISHI'],\n",
       "      dtype=object)"
      ]
     },
     "execution_count": 714,
     "metadata": {},
     "output_type": "execute_result"
    }
   ],
   "source": [
    "test_mod[test_mod['vendor'] == 'JAPANESE']['brand'].unique()"
   ]
  },
  {
   "cell_type": "markdown",
   "metadata": {},
   "source": [
    "Европейским брендам соответствует европейский вендор, японским - соответственный. Возможно, этот столбец является ключом для создания дополнительного признака - страна или концерн, производящий определенный бренд.  \n",
    "После создания соответствующих признаков его тоже стоит удалить."
   ]
  },
  {
   "cell_type": "code",
   "execution_count": 715,
   "metadata": {},
   "outputs": [],
   "source": [
    "columns_to_drop.append('vendor')"
   ]
  },
  {
   "cell_type": "markdown",
   "metadata": {},
   "source": [
    "## sell_id"
   ]
  },
  {
   "cell_type": "code",
   "execution_count": 716,
   "metadata": {},
   "outputs": [
    {
     "data": {
      "text/plain": [
       "31181    1100551820\n",
       "26738    1101107266\n",
       "11349    1101282125\n",
       "17791    1100599578\n",
       "32536    1101350113\n",
       "Name: sell_id, dtype: int64"
      ]
     },
     "execution_count": 716,
     "metadata": {},
     "output_type": "execute_result"
    }
   ],
   "source": [
    "test_mod.sell_id.sample(5)"
   ]
  },
  {
   "cell_type": "markdown",
   "metadata": {},
   "source": [
    "SELL_ID - неинформативный столбец, необходимо удалить."
   ]
  },
  {
   "cell_type": "markdown",
   "metadata": {},
   "source": [
    "## complectation_dict"
   ]
  },
  {
   "cell_type": "markdown",
   "metadata": {},
   "source": [
    "Процент пропусков"
   ]
  },
  {
   "cell_type": "code",
   "execution_count": 717,
   "metadata": {},
   "outputs": [
    {
     "name": "stdout",
     "output_type": "stream",
     "text": [
      "complectation_dict - 81%\n"
     ]
    }
   ],
   "source": [
    "col = 'complectation_dict'\n",
    "missing = np.mean(test_mod[col].isnull()) \n",
    "print('{} - {}%'.format(col, round(missing*100)))"
   ]
  },
  {
   "cell_type": "markdown",
   "metadata": {},
   "source": [
    "В столбце COMPLECTATION_DICT большой процент пропусков, его нужно удалить."
   ]
  },
  {
   "cell_type": "code",
   "execution_count": 718,
   "metadata": {},
   "outputs": [],
   "source": [
    "columns_to_drop.append('complectation_dict')"
   ]
  },
  {
   "cell_type": "markdown",
   "metadata": {},
   "source": [
    "## parsing_unixtime"
   ]
  },
  {
   "cell_type": "code",
   "execution_count": 719,
   "metadata": {},
   "outputs": [
    {
     "data": {
      "text/plain": [
       "25112    1603220112\n",
       "24220    1603216726\n",
       "26494    1603225375\n",
       "21454    1603295592\n",
       "22471    1603299467\n",
       "Name: parsing_unixtime, dtype: int64"
      ]
     },
     "execution_count": 719,
     "metadata": {},
     "output_type": "execute_result"
    }
   ],
   "source": [
    "test_mod.parsing_unixtime.sample(5)"
   ]
  },
  {
   "cell_type": "markdown",
   "metadata": {},
   "source": [
    "Данный столбец бесполезен и его следует удалить."
   ]
  },
  {
   "cell_type": "code",
   "execution_count": 720,
   "metadata": {},
   "outputs": [],
   "source": [
    "columns_to_drop.append('parsing_unixtime')"
   ]
  },
  {
   "cell_type": "code",
   "execution_count": 723,
   "metadata": {},
   "outputs": [
    {
     "name": "stdout",
     "output_type": "stream",
     "text": [
      "['name', 'vehicleConfiguration', 'Владение', 'Состояние', 'Таможня', 'equipment_dict', 'super_gen', 'model_info', 'vendor', 'complectation_dict', 'parsing_unixtime']\n"
     ]
    }
   ],
   "source": [
    "#Все столбцы под удаление одной кучей. Если датасеты будут объединены - так удалять лишнее будет удобнее\n",
    "print(columns_to_drop)"
   ]
  },
  {
   "cell_type": "code",
   "execution_count": null,
   "metadata": {},
   "outputs": [],
   "source": []
  }
 ],
 "metadata": {
  "kernelspec": {
   "display_name": "Python 3 (ipykernel)",
   "language": "python",
   "name": "python3"
  },
  "language_info": {
   "codemirror_mode": {
    "name": "ipython",
    "version": 3
   },
   "file_extension": ".py",
   "mimetype": "text/x-python",
   "name": "python",
   "nbconvert_exporter": "python",
   "pygments_lexer": "ipython3",
   "version": "3.10.4"
  },
  "latex_envs": {
   "LaTeX_envs_menu_present": true,
   "autoclose": false,
   "autocomplete": true,
   "bibliofile": "biblio.bib",
   "cite_by": "apalike",
   "current_citInitial": 1,
   "eqLabelWithNumbers": true,
   "eqNumInitial": 1,
   "hotkeys": {
    "equation": "Ctrl-E",
    "itemize": "Ctrl-I"
   },
   "labels_anchors": false,
   "latex_user_defs": false,
   "report_style_numbering": false,
   "user_envs_cfg": false
  },
  "toc": {
   "base_numbering": 1,
   "nav_menu": {},
   "number_sections": true,
   "sideBar": true,
   "skip_h1_title": false,
   "title_cell": "Table of Contents",
   "title_sidebar": "Contents",
   "toc_cell": false,
   "toc_position": {},
   "toc_section_display": true,
   "toc_window_display": false
  },
  "varInspector": {
   "cols": {
    "lenName": 16,
    "lenType": 16,
    "lenVar": 40
   },
   "kernels_config": {
    "python": {
     "delete_cmd_postfix": "",
     "delete_cmd_prefix": "del ",
     "library": "var_list.py",
     "varRefreshCmd": "print(var_dic_list())"
    },
    "r": {
     "delete_cmd_postfix": ") ",
     "delete_cmd_prefix": "rm(",
     "library": "var_list.r",
     "varRefreshCmd": "cat(var_dic_list()) "
    }
   },
   "types_to_exclude": [
    "module",
    "function",
    "builtin_function_or_method",
    "instance",
    "_Feature"
   ],
   "window_display": false
  }
 },
 "nbformat": 4,
 "nbformat_minor": 4
}
