{
 "cells": [
  {
   "cell_type": "markdown",
   "id": "cca2fc56",
   "metadata": {},
   "source": [
    "# Models_and_stacking\n",
    "Ноутбук, содержащий историю эволюции итоговой модели.\n",
    "- Сравнение промежуточных моделей\n",
    "- Стакинг промежуточных моделей"
   ]
  },
  {
   "cell_type": "markdown",
   "id": "88817e1a",
   "metadata": {},
   "source": [
    "# Data"
   ]
  },
  {
   "cell_type": "code",
   "execution_count": 1,
   "id": "2ee26779",
   "metadata": {
    "ExecuteTime": {
     "end_time": "2022-04-14T08:48:40.020791Z",
     "start_time": "2022-04-14T08:48:39.017560Z"
    }
   },
   "outputs": [],
   "source": [
    "import pandas as pd\n",
    "import numpy as np\n",
    "\n",
    "from sklearn import neighbors\n",
    "from catboost import CatBoostRegressor\n",
    "from sklearn import tree                             \n",
    "\n",
    "from sklearn.model_selection import train_test_split"
   ]
  },
  {
   "cell_type": "code",
   "execution_count": 2,
   "id": "73eab55e",
   "metadata": {
    "ExecuteTime": {
     "end_time": "2022-04-14T08:48:40.818460Z",
     "start_time": "2022-04-14T08:48:40.021791Z"
    }
   },
   "outputs": [],
   "source": [
    "%store -r df\n",
    "\n",
    "preX = pd.concat(\n",
    "[df[['brand','sell_id','price','engineDisplacement', 'enginePower','mileage','car_age', 'model_product_time']] ,\n",
    "pd.get_dummies(df.bodyType,prefix='bodyType'),\n",
    "pd.get_dummies(df.fuelType,prefix='fuelType'),\n",
    "pd.get_dummies(df.vehicleTransmission,prefix='vehicleTransmission'),\n",
    "pd.get_dummies(df.Привод,prefix='Привод'),\n",
    "pd.get_dummies(df.Владельцы,prefix='Владельцы'),\n",
    "pd.get_dummies(df.Владение,prefix='Владение'),\n",
    "pd.get_dummies(df.color,prefix='color'),\n",
    "pd.get_dummies(df.ПТС,prefix='ПТС'),\n",
    "pd.get_dummies(df.Руль,prefix='Руль'),\n",
    "pd.get_dummies(df.numberOfDoors,prefix='numberOfDoors'),],axis=1)\n",
    "\n",
    "preX.sample(5)\n",
    "\n",
    "test = preX[preX.price==-1]\n",
    "train = preX[preX.price!=-1]\n",
    "\n",
    "X=train.drop(['brand','sell_id','price'],axis='columns')\n",
    "y=train.price"
   ]
  },
  {
   "cell_type": "markdown",
   "id": "c0be50d2",
   "metadata": {},
   "source": [
    "### Метрика\n",
    "$$\\Large MAPE= 100 \\% * \\frac{1}{n}\\sum_{t=1}^{n}\\frac{\\left | Y_t-\\hat{Y_t} \\right |}{Y_t}$$"
   ]
  },
  {
   "cell_type": "code",
   "execution_count": 3,
   "id": "6ffed2c1",
   "metadata": {
    "ExecuteTime": {
     "end_time": "2022-04-14T08:48:40.833820Z",
     "start_time": "2022-04-14T08:48:40.818460Z"
    }
   },
   "outputs": [],
   "source": [
    "'''Функция вывода MAPE'''\n",
    "def mape(y_true, y_pred):\n",
    "    return np.mean(np.abs((y_pred-y_true)/y_true))*100"
   ]
  },
  {
   "cell_type": "markdown",
   "id": "cdfc435a",
   "metadata": {},
   "source": [
    "# Cравнение Decision Tree, CatBoost и k-nears neighbors "
   ]
  },
  {
   "cell_type": "code",
   "execution_count": 4,
   "id": "583731f7",
   "metadata": {
    "ExecuteTime": {
     "end_time": "2022-04-14T08:48:40.865826Z",
     "start_time": "2022-04-14T08:48:40.834820Z"
    }
   },
   "outputs": [],
   "source": [
    "X_train, X_test, y_train, y_test = train_test_split(\n",
    "    X ,\n",
    "    y, test_size=0.2, shuffle=True, random_state=42)"
   ]
  },
  {
   "cell_type": "code",
   "execution_count": 5,
   "id": "e8f6d972",
   "metadata": {
    "ExecuteTime": {
     "end_time": "2022-04-14T08:48:55.548996Z",
     "start_time": "2022-04-14T08:48:40.866827Z"
    }
   },
   "outputs": [
    {
     "name": "stdout",
     "output_type": "stream",
     "text": [
      "MAPE: 39.96060973627035\n"
     ]
    }
   ],
   "source": [
    "### k-nears neighbors regression\n",
    "knn = neighbors.KNeighborsRegressor(n_neighbors=3)\n",
    "knn.fit(X_train, y_train)\n",
    "print('MAPE:', mape(y_test, knn.predict(X_test)))"
   ]
  },
  {
   "cell_type": "markdown",
   "id": "07fb6ca1",
   "metadata": {},
   "source": [
    "Первое предсказание есть!"
   ]
  },
  {
   "cell_type": "code",
   "execution_count": 6,
   "id": "037f9d26",
   "metadata": {
    "ExecuteTime": {
     "end_time": "2022-04-14T08:50:07.252788Z",
     "start_time": "2022-04-14T08:48:55.549997Z"
    }
   },
   "outputs": [
    {
     "name": "stdout",
     "output_type": "stream",
     "text": [
      "MAPE: 15.51307854541574\n"
     ]
    }
   ],
   "source": [
    "### CatBoost regression\n",
    "model = CatBoostRegressor(iterations = 10000,\n",
    "                          random_seed = 42, silent=True)\n",
    "model.fit(X_train.values, np.log(y_train.values))\n",
    "\n",
    "print('MAPE:',mape(y_test, np.exp(model.predict(X_test.values)) ))"
   ]
  },
  {
   "cell_type": "markdown",
   "id": "22db8e36",
   "metadata": {},
   "source": [
    "CatBoost намного лучше knn"
   ]
  },
  {
   "cell_type": "code",
   "execution_count": 7,
   "id": "c6ecf4e0",
   "metadata": {
    "ExecuteTime": {
     "end_time": "2022-04-14T08:50:07.748384Z",
     "start_time": "2022-04-14T08:50:07.253789Z"
    }
   },
   "outputs": [
    {
     "name": "stdout",
     "output_type": "stream",
     "text": [
      "MAPE: 19.065013706041178\n"
     ]
    }
   ],
   "source": [
    "### Decision Tree regression\n",
    "model = tree.DecisionTreeRegressor(max_depth=16, max_features=None)\n",
    "model.fit(X_train,y_train)\n",
    "\n",
    "print('MAPE:',(mape(y_test, (model.predict(X_test)))))"
   ]
  },
  {
   "cell_type": "markdown",
   "id": "e46a60a3",
   "metadata": {},
   "source": [
    "CatBoost показал себя лучше простого решающего дерева и ближайших соседей, можно сделать первый сабмит. \n",
    "\n",
    "Начиная с этого момента метрика будет браться из Kaggle"
   ]
  },
  {
   "cell_type": "code",
   "execution_count": 8,
   "id": "8e215204",
   "metadata": {
    "ExecuteTime": {
     "end_time": "2022-04-14T08:51:29.494603Z",
     "start_time": "2022-04-14T08:50:07.749385Z"
    }
   },
   "outputs": [
    {
     "name": "stdout",
     "output_type": "stream",
     "text": [
      "KAGGLE score: 15.81082\n"
     ]
    }
   ],
   "source": [
    "'''SUBMISSION_1''' ### CatBoost\n",
    "model = CatBoostRegressor(iterations = 10000,\n",
    "                          random_seed = 42, silent=True)\n",
    "model.fit(X.values, np.log(y.values))\n",
    "\n",
    "price = pd.Series(np.exp(model.predict(test.drop(['brand','sell_id','price'],axis='columns').values)))\n",
    "price.name = 'price'\n",
    "price = price.astype('int')\n",
    "pd.concat([test.sell_id, price],axis=1).to_csv(f'submission_1.csv', index=False)\n",
    "print('KAGGLE score: 15.81082')"
   ]
  },
  {
   "cell_type": "markdown",
   "id": "d5d62b93",
   "metadata": {},
   "source": [
    "# Stacking"
   ]
  },
  {
   "cell_type": "markdown",
   "id": "aee47c9d",
   "metadata": {},
   "source": [
    "## В игру вступает [big_trees](./big_trees.ipynb)\n",
    "Предсказывает решающими деревьями. Каждое из деревьев обучалось на машинах только одного бренда."
   ]
  },
  {
   "cell_type": "code",
   "execution_count": 9,
   "id": "17115a0c",
   "metadata": {
    "ExecuteTime": {
     "end_time": "2022-04-14T08:51:29.510113Z",
     "start_time": "2022-04-14T08:51:29.495604Z"
    }
   },
   "outputs": [],
   "source": [
    "big_pred = pd.read_pickle('big_pred.pickle') # предсказания big_trees"
   ]
  },
  {
   "cell_type": "code",
   "execution_count": 10,
   "id": "cbc4addc",
   "metadata": {
    "ExecuteTime": {
     "end_time": "2022-04-14T08:51:29.574032Z",
     "start_time": "2022-04-14T08:51:29.512115Z"
    }
   },
   "outputs": [
    {
     "name": "stdout",
     "output_type": "stream",
     "text": [
      "KAGGLE score: 12.86383\n"
     ]
    }
   ],
   "source": [
    "''' SUBMISSION 9 ''' ### big_trees\n",
    "prediction = pd.Series(big_pred).astype('int')\n",
    "prediction.name = 'price'\n",
    "\n",
    "\n",
    "pd.concat([test.sell_id, prediction],axis=1).to_csv(\n",
    "    'submission_9.csv', index=False)\n",
    "\n",
    "print('KAGGLE score: 12.86383')"
   ]
  },
  {
   "cell_type": "markdown",
   "id": "2e924125",
   "metadata": {},
   "source": [
    "Отличный результат!"
   ]
  },
  {
   "cell_type": "markdown",
   "id": "f13d0f00",
   "metadata": {},
   "source": [
    "А как совмещать предсказания? \n",
    "- Арифметическим средним. Складываются два или более предсказания, после чего их сумма делится на их же количество"
   ]
  },
  {
   "cell_type": "code",
   "execution_count": 11,
   "id": "5f829f50",
   "metadata": {
    "ExecuteTime": {
     "end_time": "2022-04-14T08:51:29.590036Z",
     "start_time": "2022-04-14T08:51:29.575035Z"
    }
   },
   "outputs": [
    {
     "data": {
      "text/plain": [
       "(6.25, 7.333333333333333)"
      ]
     },
     "execution_count": 11,
     "metadata": {},
     "output_type": "execute_result"
    }
   ],
   "source": [
    "( ((12+7)/2 )+3)/2, (12+7+3)/3 # пример регуляции влияния предсказаний"
   ]
  },
  {
   "cell_type": "code",
   "execution_count": 12,
   "id": "4e226993",
   "metadata": {
    "ExecuteTime": {
     "end_time": "2022-04-14T08:51:29.686058Z",
     "start_time": "2022-04-14T08:51:29.591110Z"
    }
   },
   "outputs": [
    {
     "name": "stdout",
     "output_type": "stream",
     "text": [
      "KAGGLE score: 12.82608\n"
     ]
    }
   ],
   "source": [
    "''' SUBMISSION 2 ''' ### CatBoost & big_trees\n",
    "pd.concat([test.sell_id, (price + big_pred)/2],axis=1).to_csv(\n",
    "    f'submission_2.csv', index=False)\n",
    "print('KAGGLE score: 12.82608')"
   ]
  },
  {
   "cell_type": "markdown",
   "id": "1eeea45b",
   "metadata": {
    "ExecuteTime": {
     "end_time": "2022-04-14T08:06:49.785272Z",
     "start_time": "2022-04-14T08:06:49.775270Z"
    }
   },
   "source": [
    "Стэкинг catBoost & big_tree показал улучшение метрики "
   ]
  },
  {
   "cell_type": "markdown",
   "id": "0a02edd5",
   "metadata": {},
   "source": [
    "## В игру вступает [lil_trees](./lil_trees.ipynb).\n",
    "Предсказывает решающими деревьями. Каждое дерево обучено на одной модели авто."
   ]
  },
  {
   "cell_type": "code",
   "execution_count": 13,
   "id": "23993c7c",
   "metadata": {
    "ExecuteTime": {
     "end_time": "2022-04-14T08:51:29.701063Z",
     "start_time": "2022-04-14T08:51:29.687059Z"
    }
   },
   "outputs": [],
   "source": [
    "lil_pred = pd.read_pickle('lil_pred.pickle') # это его предсказания"
   ]
  },
  {
   "cell_type": "code",
   "execution_count": 14,
   "id": "0e60f535",
   "metadata": {
    "ExecuteTime": {
     "end_time": "2022-04-14T08:51:29.716229Z",
     "start_time": "2022-04-14T08:51:29.702063Z"
    }
   },
   "outputs": [],
   "source": [
    "# Cтаршие алгоритмы подсказывают младшему авто, моделей которых нет в датасете\n",
    "for i in lil_pred[lil_pred==0.36787944117144233].index:\n",
    "    lil_pred.at[i] = (big_pred[i] + price[i])/2"
   ]
  },
  {
   "cell_type": "code",
   "execution_count": 15,
   "id": "7743e65a",
   "metadata": {
    "ExecuteTime": {
     "end_time": "2022-04-14T08:51:29.780245Z",
     "start_time": "2022-04-14T08:51:29.717231Z"
    }
   },
   "outputs": [
    {
     "name": "stdout",
     "output_type": "stream",
     "text": [
      "KAGGLE score: 12.29984\n"
     ]
    }
   ],
   "source": [
    "''' SUBMISSION 8 ''' ### lil_trees\n",
    "prediction = (lil_pred).astype('int')\n",
    "prediction.name = 'price'\n",
    "\n",
    "\n",
    "pd.concat([test.sell_id, prediction],axis=1).to_csv(\n",
    "    'submission_8.csv', index=False)\n",
    "\n",
    "print('KAGGLE score: 12.29984')"
   ]
  },
  {
   "cell_type": "markdown",
   "id": "70b894b6",
   "metadata": {},
   "source": [
    "Деревья lil_trees показали себя лучше всех в одиночку"
   ]
  },
  {
   "cell_type": "code",
   "execution_count": 16,
   "id": "15f13b5e",
   "metadata": {
    "ExecuteTime": {
     "end_time": "2022-04-14T08:51:29.844330Z",
     "start_time": "2022-04-14T08:51:29.781245Z"
    }
   },
   "outputs": [
    {
     "name": "stdout",
     "output_type": "stream",
     "text": [
      "KAGGLE score: 11.58098\n"
     ]
    }
   ],
   "source": [
    "''' SUBMISSION 3 ''' ### lil_pred & big_pred & CatBoost\n",
    "prediction = ((lil_pred + big_pred + price)/3).astype('int')\n",
    "prediction.name = 'price'\n",
    "\n",
    "\n",
    "pd.concat([test.sell_id, prediction],axis=1).to_csv(\n",
    "    'submission_3.csv', index=False)\n",
    "print('KAGGLE score: 11.58098')"
   ]
  },
  {
   "cell_type": "markdown",
   "id": "0f7b61c1",
   "metadata": {},
   "source": [
    "Сэкинг всех моделей показал лучший результат из рассмотренных, но, возможно существует лучшая комбинация"
   ]
  },
  {
   "cell_type": "code",
   "execution_count": 17,
   "id": "2750d265",
   "metadata": {
    "ExecuteTime": {
     "end_time": "2022-04-14T08:51:29.907979Z",
     "start_time": "2022-04-14T08:51:29.845330Z"
    }
   },
   "outputs": [
    {
     "name": "stdout",
     "output_type": "stream",
     "text": [
      "KAGGLE score: 11.29318\n"
     ]
    }
   ],
   "source": [
    "'''SUBMISSION 4''' ### lil_pred & big_pred\n",
    "prediction = ((lil_pred + big_pred)/2).astype('int')\n",
    "prediction.name = 'price'\n",
    "\n",
    "\n",
    "pd.concat([test.sell_id, prediction],axis=1).to_csv(\n",
    "    'submission_4.csv', index=False)\n",
    "\n",
    "print('KAGGLE score: 11.29318')"
   ]
  },
  {
   "cell_type": "markdown",
   "id": "7a11c107",
   "metadata": {},
   "source": [
    "Лучшая комбинация - деревья lil_pred и big_pred.\n",
    "\n",
    "Возможно стоит урегулировать влияние моделей друг на друга, это может показать более выскокий результат."
   ]
  },
  {
   "cell_type": "code",
   "execution_count": 18,
   "id": "6de3f578",
   "metadata": {
    "ExecuteTime": {
     "end_time": "2022-04-14T08:51:29.971301Z",
     "start_time": "2022-04-14T08:51:29.909287Z"
    }
   },
   "outputs": [
    {
     "name": "stdout",
     "output_type": "stream",
     "text": [
      "KAGGLE score: 11.45419\n"
     ]
    }
   ],
   "source": [
    "''' SUBMISSION 7 ''' ### 2 lil_pred & big_pred \n",
    "prediction = ( ((big_pred + lil_pred )/2 + lil_pred)/2 ).astype('int')\n",
    "prediction.name = 'price'\n",
    "\n",
    "\n",
    "pd.concat([test.sell_id, prediction],axis=1).to_csv(\n",
    "    'submission_7.csv', index=False)\n",
    "\n",
    "print('KAGGLE score: 11.45419')"
   ]
  },
  {
   "cell_type": "code",
   "execution_count": 19,
   "id": "715f0666",
   "metadata": {
    "ExecuteTime": {
     "end_time": "2022-04-14T08:51:30.034816Z",
     "start_time": "2022-04-14T08:51:29.972302Z"
    }
   },
   "outputs": [
    {
     "name": "stdout",
     "output_type": "stream",
     "text": [
      "KAGGLE score: 11.36916\n"
     ]
    }
   ],
   "source": [
    "''' SUBMISSION 5 ''' ### CatBoost & big_pred & 2 lil_pred\n",
    "prediction = (  ( ((price + big_pred)/2) + lil_pred )/2  ).astype('int')\n",
    "prediction.name = 'price'\n",
    "\n",
    "\n",
    "pd.concat([test.sell_id, prediction],axis=1).to_csv(\n",
    "    'submission_5.csv', index=False)\n",
    "\n",
    "print('KAGGLE score: 11.36916')"
   ]
  },
  {
   "cell_type": "code",
   "execution_count": 20,
   "id": "bdf90185",
   "metadata": {
    "ExecuteTime": {
     "end_time": "2022-04-14T08:51:30.098830Z",
     "start_time": "2022-04-14T08:51:30.035817Z"
    }
   },
   "outputs": [
    {
     "name": "stdout",
     "output_type": "stream",
     "text": [
      "KAGGLE score: 12.44002\n"
     ]
    }
   ],
   "source": [
    "''' SUBMISSION 6 ''' ### CatBoost & lil_pred\n",
    "prediction = ( (price + lil_pred )/2 ).astype('int')\n",
    "prediction.name = 'price'\n",
    "\n",
    "\n",
    "pd.concat([test.sell_id, prediction],axis=1).to_csv(\n",
    "    'submission_6.csv', index=False)\n",
    "\n",
    "print('KAGGLE score: 12.44002')"
   ]
  },
  {
   "cell_type": "code",
   "execution_count": 21,
   "id": "ecd70abd",
   "metadata": {
    "ExecuteTime": {
     "end_time": "2022-04-14T08:51:30.162845Z",
     "start_time": "2022-04-14T08:51:30.099831Z"
    }
   },
   "outputs": [
    {
     "name": "stdout",
     "output_type": "stream",
     "text": [
      "KAGGLE score: 11.78683\n"
     ]
    }
   ],
   "source": [
    "''' SUBMISSION 10 ''' ### 2 big_pred & lil_pred\n",
    "prediction = (  (  ( (big_pred + lil_pred)/2) + big_pred)/2  ).astype('int')\n",
    "prediction.name = 'price'\n",
    "\n",
    "\n",
    "pd.concat([test.sell_id, prediction],axis=1).to_csv(\n",
    "    'submission_10.csv', index=False)\n",
    "\n",
    "print('KAGGLE score: 11.78683')"
   ]
  },
  {
   "cell_type": "markdown",
   "id": "f2740d36",
   "metadata": {},
   "source": [
    "Лучший результат - равный вклад в предсказание от lil_pred и big_pred\n",
    "\n",
    "Возможно, что лучше всего заполнить пропуски lil_pred именно big_pred'ом, поскольку последний показывает результат лучший, чем CatBoost."
   ]
  },
  {
   "cell_type": "code",
   "execution_count": 22,
   "id": "15529f41",
   "metadata": {
    "ExecuteTime": {
     "end_time": "2022-04-14T08:51:30.226862Z",
     "start_time": "2022-04-14T08:51:30.163846Z"
    }
   },
   "outputs": [
    {
     "name": "stdout",
     "output_type": "stream",
     "text": [
      "KAGGLE score: 11.29386\n"
     ]
    }
   ],
   "source": [
    "lil_pred = pd.read_pickle('lil_pred.pickle')\n",
    "\n",
    "for i in lil_pred[lil_pred==0.36787944117144233].index:\n",
    "    lil_pred.at[i] = big_pred[i]\n",
    "    \n",
    "    \n",
    "''' SUBMISSION 11 ''' ### lil_pred & big_pred\n",
    "prediction = ((lil_pred + big_pred)/2).astype('int')\n",
    "prediction.name = 'price'\n",
    "\n",
    "\n",
    "pd.concat([test.sell_id, prediction],axis=1).to_csv(\n",
    "    'submission_11.csv', index=False)\n",
    "\n",
    "print('KAGGLE score: 11.29386')"
   ]
  },
  {
   "cell_type": "markdown",
   "id": "84f9ea05",
   "metadata": {
    "ExecuteTime": {
     "end_time": "2022-04-13T17:44:06.201110Z",
     "start_time": "2022-04-13T17:44:06.194106Z"
    }
   },
   "source": [
    "Нет, это маловажно"
   ]
  },
  {
   "cell_type": "markdown",
   "id": "d7ac71bd",
   "metadata": {},
   "source": [
    "# Итог\n",
    "lil_trees показал себя лучше всего, но его работу можно улучшить с помощью big_trees. Это интерпретируется так:\n",
    "\n",
    "- Появившаяся гиппотеза о том, что для предсказания стоимости авто лучше всего разбираться в его модели - справедлива для имеющихся данных.\n",
    "\n",
    "\n",
    "- Если плохо знаешь модель авто, но хочешь его оценить - лучше посмотреть на авто, похожее по характеристикам в бренде."
   ]
  },
  {
   "cell_type": "markdown",
   "id": "202405cb",
   "metadata": {},
   "source": [
    "Если спросите, почему я не обучал перспективный CatBoost на разделенных по брендам или моделям данных, то я отвечу, что не успел посмотреть на данную комбинацию."
   ]
  }
 ],
 "metadata": {
  "kernelspec": {
   "display_name": "Python 3 (ipykernel)",
   "language": "python",
   "name": "python3"
  },
  "language_info": {
   "codemirror_mode": {
    "name": "ipython",
    "version": 3
   },
   "file_extension": ".py",
   "mimetype": "text/x-python",
   "name": "python",
   "nbconvert_exporter": "python",
   "pygments_lexer": "ipython3",
   "version": "3.10.4"
  },
  "latex_envs": {
   "LaTeX_envs_menu_present": true,
   "autoclose": false,
   "autocomplete": true,
   "bibliofile": "biblio.bib",
   "cite_by": "apalike",
   "current_citInitial": 1,
   "eqLabelWithNumbers": true,
   "eqNumInitial": 1,
   "hotkeys": {
    "equation": "Ctrl-E",
    "itemize": "Ctrl-I"
   },
   "labels_anchors": false,
   "latex_user_defs": false,
   "report_style_numbering": false,
   "user_envs_cfg": false
  },
  "toc": {
   "base_numbering": 1,
   "nav_menu": {},
   "number_sections": true,
   "sideBar": true,
   "skip_h1_title": false,
   "title_cell": "Table of Contents",
   "title_sidebar": "Contents",
   "toc_cell": false,
   "toc_position": {},
   "toc_section_display": true,
   "toc_window_display": false
  },
  "varInspector": {
   "cols": {
    "lenName": 16,
    "lenType": 16,
    "lenVar": 40
   },
   "kernels_config": {
    "python": {
     "delete_cmd_postfix": "",
     "delete_cmd_prefix": "del ",
     "library": "var_list.py",
     "varRefreshCmd": "print(var_dic_list())"
    },
    "r": {
     "delete_cmd_postfix": ") ",
     "delete_cmd_prefix": "rm(",
     "library": "var_list.r",
     "varRefreshCmd": "cat(var_dic_list()) "
    }
   },
   "types_to_exclude": [
    "module",
    "function",
    "builtin_function_or_method",
    "instance",
    "_Feature"
   ],
   "window_display": false
  }
 },
 "nbformat": 4,
 "nbformat_minor": 5
}
