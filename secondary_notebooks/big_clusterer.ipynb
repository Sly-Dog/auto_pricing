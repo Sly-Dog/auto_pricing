{
 "cells": [
  {
   "cell_type": "code",
   "execution_count": 1,
   "id": "02f90349",
   "metadata": {
    "ExecuteTime": {
     "end_time": "2022-04-13T07:49:07.194308Z",
     "start_time": "2022-04-13T07:49:06.323650Z"
    }
   },
   "outputs": [],
   "source": [
    "%store -r df\n"
   ]
  },
  {
   "cell_type": "code",
   "execution_count": 2,
   "id": "fb5210ff",
   "metadata": {
    "ExecuteTime": {
     "end_time": "2022-04-13T07:49:07.321384Z",
     "start_time": "2022-04-13T07:49:07.306275Z"
    }
   },
   "outputs": [],
   "source": [
    "import pandas as pd"
   ]
  },
  {
   "cell_type": "code",
   "execution_count": 3,
   "id": "f2e6ab4f",
   "metadata": {
    "ExecuteTime": {
     "end_time": "2022-04-13T07:49:07.432303Z",
     "start_time": "2022-04-13T07:49:07.417995Z"
    }
   },
   "outputs": [
    {
     "data": {
      "text/plain": [
       "Index(['bodyType', 'brand', 'color', 'description', 'engineDisplacement',\n",
       "       'enginePower', 'fuelType', 'mileage', 'model_name', 'numberOfDoors',\n",
       "       'sell_id', 'vehicleTransmission', 'Владельцы', 'Владение', 'ПТС',\n",
       "       'Привод', 'Руль', 'price', 'model_product_time', 'car_age'],\n",
       "      dtype='object')"
      ]
     },
     "execution_count": 3,
     "metadata": {},
     "output_type": "execute_result"
    }
   ],
   "source": [
    "df.columns"
   ]
  },
  {
   "cell_type": "code",
   "execution_count": 4,
   "id": "be8079c5",
   "metadata": {
    "ExecuteTime": {
     "end_time": "2022-04-13T07:49:07.656354Z",
     "start_time": "2022-04-13T07:49:07.529324Z"
    }
   },
   "outputs": [
    {
     "data": {
      "text/html": [
       "<div>\n",
       "<style scoped>\n",
       "    .dataframe tbody tr th:only-of-type {\n",
       "        vertical-align: middle;\n",
       "    }\n",
       "\n",
       "    .dataframe tbody tr th {\n",
       "        vertical-align: top;\n",
       "    }\n",
       "\n",
       "    .dataframe thead th {\n",
       "        text-align: right;\n",
       "    }\n",
       "</style>\n",
       "<table border=\"1\" class=\"dataframe\">\n",
       "  <thead>\n",
       "    <tr style=\"text-align: right;\">\n",
       "      <th></th>\n",
       "      <th>brand</th>\n",
       "      <th>sell_id</th>\n",
       "      <th>price</th>\n",
       "      <th>engineDisplacement</th>\n",
       "      <th>enginePower</th>\n",
       "      <th>mileage</th>\n",
       "      <th>car_age</th>\n",
       "      <th>model_product_time</th>\n",
       "      <th>bodyType_внедорожник</th>\n",
       "      <th>bodyType_компактвэн</th>\n",
       "      <th>...</th>\n",
       "      <th>color_синий</th>\n",
       "      <th>color_чёрный</th>\n",
       "      <th>ПТС_DUPLICATE</th>\n",
       "      <th>ПТС_ORIGINAL</th>\n",
       "      <th>Руль_LEFT</th>\n",
       "      <th>Руль_RIGHT</th>\n",
       "      <th>numberOfDoors_2.0</th>\n",
       "      <th>numberOfDoors_3.0</th>\n",
       "      <th>numberOfDoors_4.0</th>\n",
       "      <th>numberOfDoors_5.0</th>\n",
       "    </tr>\n",
       "  </thead>\n",
       "  <tbody>\n",
       "    <tr>\n",
       "      <th>10740</th>\n",
       "      <td>BMW</td>\n",
       "      <td>1092744136</td>\n",
       "      <td>-1.0</td>\n",
       "      <td>3.0</td>\n",
       "      <td>381</td>\n",
       "      <td>170000</td>\n",
       "      <td>8.8</td>\n",
       "      <td>0.0</td>\n",
       "      <td>1</td>\n",
       "      <td>0</td>\n",
       "      <td>...</td>\n",
       "      <td>0</td>\n",
       "      <td>1</td>\n",
       "      <td>0</td>\n",
       "      <td>1</td>\n",
       "      <td>1</td>\n",
       "      <td>0</td>\n",
       "      <td>0</td>\n",
       "      <td>0</td>\n",
       "      <td>0</td>\n",
       "      <td>1</td>\n",
       "    </tr>\n",
       "    <tr>\n",
       "      <th>23760</th>\n",
       "      <td>VOLKSWAGEN</td>\n",
       "      <td>1101206683</td>\n",
       "      <td>-1.0</td>\n",
       "      <td>1.4</td>\n",
       "      <td>150</td>\n",
       "      <td>144000</td>\n",
       "      <td>8.8</td>\n",
       "      <td>1.0</td>\n",
       "      <td>1</td>\n",
       "      <td>0</td>\n",
       "      <td>...</td>\n",
       "      <td>0</td>\n",
       "      <td>0</td>\n",
       "      <td>0</td>\n",
       "      <td>1</td>\n",
       "      <td>1</td>\n",
       "      <td>0</td>\n",
       "      <td>0</td>\n",
       "      <td>0</td>\n",
       "      <td>0</td>\n",
       "      <td>1</td>\n",
       "    </tr>\n",
       "    <tr>\n",
       "      <th>63726</th>\n",
       "      <td>HYUNDAI</td>\n",
       "      <td>-1</td>\n",
       "      <td>972000.0</td>\n",
       "      <td>1.6</td>\n",
       "      <td>123</td>\n",
       "      <td>0</td>\n",
       "      <td>0.8</td>\n",
       "      <td>0.0</td>\n",
       "      <td>0</td>\n",
       "      <td>0</td>\n",
       "      <td>...</td>\n",
       "      <td>0</td>\n",
       "      <td>0</td>\n",
       "      <td>0</td>\n",
       "      <td>1</td>\n",
       "      <td>1</td>\n",
       "      <td>0</td>\n",
       "      <td>0</td>\n",
       "      <td>0</td>\n",
       "      <td>1</td>\n",
       "      <td>0</td>\n",
       "    </tr>\n",
       "    <tr>\n",
       "      <th>106765</th>\n",
       "      <td>VOLKSWAGEN</td>\n",
       "      <td>-1</td>\n",
       "      <td>495000.0</td>\n",
       "      <td>1.6</td>\n",
       "      <td>105</td>\n",
       "      <td>130000</td>\n",
       "      <td>6.8</td>\n",
       "      <td>5.0</td>\n",
       "      <td>0</td>\n",
       "      <td>0</td>\n",
       "      <td>...</td>\n",
       "      <td>0</td>\n",
       "      <td>1</td>\n",
       "      <td>0</td>\n",
       "      <td>1</td>\n",
       "      <td>1</td>\n",
       "      <td>0</td>\n",
       "      <td>0</td>\n",
       "      <td>0</td>\n",
       "      <td>1</td>\n",
       "      <td>0</td>\n",
       "    </tr>\n",
       "    <tr>\n",
       "      <th>31696</th>\n",
       "      <td>MERCEDES</td>\n",
       "      <td>1101347078</td>\n",
       "      <td>-1.0</td>\n",
       "      <td>1.8</td>\n",
       "      <td>204</td>\n",
       "      <td>171000</td>\n",
       "      <td>8.8</td>\n",
       "      <td>1.0</td>\n",
       "      <td>0</td>\n",
       "      <td>0</td>\n",
       "      <td>...</td>\n",
       "      <td>0</td>\n",
       "      <td>0</td>\n",
       "      <td>0</td>\n",
       "      <td>1</td>\n",
       "      <td>1</td>\n",
       "      <td>0</td>\n",
       "      <td>0</td>\n",
       "      <td>0</td>\n",
       "      <td>1</td>\n",
       "      <td>0</td>\n",
       "    </tr>\n",
       "  </tbody>\n",
       "</table>\n",
       "<p>5 rows × 53 columns</p>\n",
       "</div>"
      ],
      "text/plain": [
       "             brand     sell_id     price  engineDisplacement  enginePower  \\\n",
       "10740          BMW  1092744136      -1.0                 3.0          381   \n",
       "23760   VOLKSWAGEN  1101206683      -1.0                 1.4          150   \n",
       "63726      HYUNDAI          -1  972000.0                 1.6          123   \n",
       "106765  VOLKSWAGEN          -1  495000.0                 1.6          105   \n",
       "31696     MERCEDES  1101347078      -1.0                 1.8          204   \n",
       "\n",
       "        mileage  car_age  model_product_time  bodyType_внедорожник  \\\n",
       "10740    170000      8.8                 0.0                     1   \n",
       "23760    144000      8.8                 1.0                     1   \n",
       "63726         0      0.8                 0.0                     0   \n",
       "106765   130000      6.8                 5.0                     0   \n",
       "31696    171000      8.8                 1.0                     0   \n",
       "\n",
       "        bodyType_компактвэн  ...  color_синий  color_чёрный  ПТС_DUPLICATE  \\\n",
       "10740                     0  ...            0             1              0   \n",
       "23760                     0  ...            0             0              0   \n",
       "63726                     0  ...            0             0              0   \n",
       "106765                    0  ...            0             1              0   \n",
       "31696                     0  ...            0             0              0   \n",
       "\n",
       "        ПТС_ORIGINAL  Руль_LEFT  Руль_RIGHT  numberOfDoors_2.0  \\\n",
       "10740              1          1           0                  0   \n",
       "23760              1          1           0                  0   \n",
       "63726              1          1           0                  0   \n",
       "106765             1          1           0                  0   \n",
       "31696              1          1           0                  0   \n",
       "\n",
       "        numberOfDoors_3.0  numberOfDoors_4.0  numberOfDoors_5.0  \n",
       "10740                   0                  0                  1  \n",
       "23760                   0                  0                  1  \n",
       "63726                   0                  1                  0  \n",
       "106765                  0                  1                  0  \n",
       "31696                   0                  1                  0  \n",
       "\n",
       "[5 rows x 53 columns]"
      ]
     },
     "execution_count": 4,
     "metadata": {},
     "output_type": "execute_result"
    }
   ],
   "source": [
    "preX = pd.concat(\n",
    "[df[['brand','sell_id','price','engineDisplacement', 'enginePower','mileage','car_age', 'model_product_time']] ,\n",
    "pd.get_dummies(df.bodyType,prefix='bodyType'),\n",
    "pd.get_dummies(df.fuelType,prefix='fuelType'),\n",
    "pd.get_dummies(df.vehicleTransmission,prefix='vehicleTransmission'),\n",
    "pd.get_dummies(df.Привод,prefix='Привод'),\n",
    "pd.get_dummies(df.Владельцы,prefix='Владельцы'),\n",
    "pd.get_dummies(df.Владение,prefix='Владение'),\n",
    "pd.get_dummies(df.color,prefix='color'),\n",
    "pd.get_dummies(df.ПТС,prefix='ПТС'),\n",
    "pd.get_dummies(df.Руль,prefix='Руль'),\n",
    "pd.get_dummies(df.numberOfDoors,prefix='numberOfDoors'),],axis=1)\n",
    "\n",
    "preX.sample(5)"
   ]
  },
  {
   "cell_type": "code",
   "execution_count": 5,
   "id": "8193e870",
   "metadata": {
    "ExecuteTime": {
     "end_time": "2022-04-13T07:49:09.939863Z",
     "start_time": "2022-04-13T07:49:09.898661Z"
    }
   },
   "outputs": [],
   "source": [
    "test = preX[preX.price==-1]\n",
    "train = preX[preX.price!=-1]"
   ]
  },
  {
   "cell_type": "code",
   "execution_count": 6,
   "id": "7848181b",
   "metadata": {
    "ExecuteTime": {
     "end_time": "2022-04-13T07:49:10.554475Z",
     "start_time": "2022-04-13T07:49:10.467658Z"
    }
   },
   "outputs": [],
   "source": [
    "Xy = train.drop(['brand','sell_id'],axis='columns').reset_index(drop=True)\n",
    "\n",
    "\n",
    "SKODA = train[train.brand == 'SKODA'].drop(['brand','sell_id'],axis='columns').reset_index(drop=True)\n",
    "AUDI = train[train.brand == 'AUDI'].drop(['brand','sell_id'],axis='columns').reset_index(drop=True)\n",
    "HONDA = train[train.brand == 'HONDA'].drop(['brand','sell_id'],axis='columns').reset_index(drop=True)\n",
    "VOLVO = train[train.brand == 'VOLVO'].drop(['brand','sell_id'],axis='columns').reset_index(drop=True)\n",
    "BMW = train[train.brand == 'BMW'].drop(['brand','sell_id'],axis='columns').reset_index(drop=True)\n",
    "NISSAN = train[train.brand == 'NISSAN'].drop(['brand','sell_id'],axis='columns').reset_index(drop=True)\n",
    "INFINITI = train[train.brand == 'INFINITI'].drop(['brand','sell_id'],axis='columns').reset_index(drop=True)\n",
    "MERCEDES = train[train.brand == 'MERCEDES'].drop(['brand','sell_id'],axis='columns').reset_index(drop=True)\n",
    "TOYOTA = train[train.brand == 'TOYOTA'].drop(['brand','sell_id'],axis='columns').reset_index(drop=True)\n",
    "LEXUS = train[train.brand == 'LEXUS'].drop(['brand','sell_id'],axis='columns').reset_index(drop=True)\n",
    "VOLKSWAGEN = train[train.brand == 'VOLKSWAGEN'].drop(['brand','sell_id'],axis='columns').reset_index(drop=True)\n",
    "MITSUBISHI = train[train.brand == 'MITSUBISHI'].drop(['brand','sell_id'],axis='columns').reset_index(drop=True)"
   ]
  },
  {
   "cell_type": "code",
   "execution_count": 7,
   "id": "f5c01226",
   "metadata": {
    "ExecuteTime": {
     "end_time": "2022-04-13T07:49:12.317617Z",
     "start_time": "2022-04-13T07:49:11.816089Z"
    }
   },
   "outputs": [],
   "source": [
    "from sklearn.model_selection import train_test_split\n",
    "X_train, X_test, y_train, y_test = train_test_split(\n",
    "    Xy.drop(['price'],axis=\"columns\"), Xy.price, test_size=0.1, shuffle=True, random_state=42)"
   ]
  },
  {
   "cell_type": "code",
   "execution_count": 8,
   "id": "13236507",
   "metadata": {
    "ExecuteTime": {
     "end_time": "2022-04-13T07:49:13.321187Z",
     "start_time": "2022-04-13T07:49:13.290180Z"
    }
   },
   "outputs": [
    {
     "data": {
      "text/html": [
       "<div>\n",
       "<style scoped>\n",
       "    .dataframe tbody tr th:only-of-type {\n",
       "        vertical-align: middle;\n",
       "    }\n",
       "\n",
       "    .dataframe tbody tr th {\n",
       "        vertical-align: top;\n",
       "    }\n",
       "\n",
       "    .dataframe thead th {\n",
       "        text-align: right;\n",
       "    }\n",
       "</style>\n",
       "<table border=\"1\" class=\"dataframe\">\n",
       "  <thead>\n",
       "    <tr style=\"text-align: right;\">\n",
       "      <th></th>\n",
       "      <th>engineDisplacement</th>\n",
       "      <th>enginePower</th>\n",
       "      <th>mileage</th>\n",
       "      <th>car_age</th>\n",
       "      <th>model_product_time</th>\n",
       "      <th>bodyType_внедорожник</th>\n",
       "      <th>bodyType_компактвэн</th>\n",
       "      <th>bodyType_купе</th>\n",
       "      <th>bodyType_лифтбек</th>\n",
       "      <th>bodyType_минивэн</th>\n",
       "      <th>...</th>\n",
       "      <th>color_синий</th>\n",
       "      <th>color_чёрный</th>\n",
       "      <th>ПТС_DUPLICATE</th>\n",
       "      <th>ПТС_ORIGINAL</th>\n",
       "      <th>Руль_LEFT</th>\n",
       "      <th>Руль_RIGHT</th>\n",
       "      <th>numberOfDoors_2.0</th>\n",
       "      <th>numberOfDoors_3.0</th>\n",
       "      <th>numberOfDoors_4.0</th>\n",
       "      <th>numberOfDoors_5.0</th>\n",
       "    </tr>\n",
       "  </thead>\n",
       "  <tbody>\n",
       "    <tr>\n",
       "      <th>77656</th>\n",
       "      <td>4.4</td>\n",
       "      <td>339</td>\n",
       "      <td>129000</td>\n",
       "      <td>5.8</td>\n",
       "      <td>3.0</td>\n",
       "      <td>1</td>\n",
       "      <td>0</td>\n",
       "      <td>0</td>\n",
       "      <td>0</td>\n",
       "      <td>0</td>\n",
       "      <td>...</td>\n",
       "      <td>0</td>\n",
       "      <td>1</td>\n",
       "      <td>0</td>\n",
       "      <td>1</td>\n",
       "      <td>1</td>\n",
       "      <td>0</td>\n",
       "      <td>0</td>\n",
       "      <td>0</td>\n",
       "      <td>0</td>\n",
       "      <td>1</td>\n",
       "    </tr>\n",
       "    <tr>\n",
       "      <th>32490</th>\n",
       "      <td>1.6</td>\n",
       "      <td>129</td>\n",
       "      <td>123124</td>\n",
       "      <td>8.8</td>\n",
       "      <td>0.0</td>\n",
       "      <td>0</td>\n",
       "      <td>0</td>\n",
       "      <td>0</td>\n",
       "      <td>0</td>\n",
       "      <td>0</td>\n",
       "      <td>...</td>\n",
       "      <td>0</td>\n",
       "      <td>0</td>\n",
       "      <td>0</td>\n",
       "      <td>1</td>\n",
       "      <td>1</td>\n",
       "      <td>0</td>\n",
       "      <td>0</td>\n",
       "      <td>0</td>\n",
       "      <td>0</td>\n",
       "      <td>1</td>\n",
       "    </tr>\n",
       "    <tr>\n",
       "      <th>38668</th>\n",
       "      <td>2.0</td>\n",
       "      <td>150</td>\n",
       "      <td>171240</td>\n",
       "      <td>15.8</td>\n",
       "      <td>2.0</td>\n",
       "      <td>0</td>\n",
       "      <td>0</td>\n",
       "      <td>0</td>\n",
       "      <td>0</td>\n",
       "      <td>0</td>\n",
       "      <td>...</td>\n",
       "      <td>0</td>\n",
       "      <td>0</td>\n",
       "      <td>0</td>\n",
       "      <td>1</td>\n",
       "      <td>1</td>\n",
       "      <td>0</td>\n",
       "      <td>0</td>\n",
       "      <td>0</td>\n",
       "      <td>1</td>\n",
       "      <td>0</td>\n",
       "    </tr>\n",
       "    <tr>\n",
       "      <th>8445</th>\n",
       "      <td>2.0</td>\n",
       "      <td>177</td>\n",
       "      <td>203000</td>\n",
       "      <td>11.8</td>\n",
       "      <td>3.0</td>\n",
       "      <td>1</td>\n",
       "      <td>0</td>\n",
       "      <td>0</td>\n",
       "      <td>0</td>\n",
       "      <td>0</td>\n",
       "      <td>...</td>\n",
       "      <td>0</td>\n",
       "      <td>0</td>\n",
       "      <td>0</td>\n",
       "      <td>1</td>\n",
       "      <td>1</td>\n",
       "      <td>0</td>\n",
       "      <td>0</td>\n",
       "      <td>0</td>\n",
       "      <td>0</td>\n",
       "      <td>1</td>\n",
       "    </tr>\n",
       "    <tr>\n",
       "      <th>78466</th>\n",
       "      <td>2.0</td>\n",
       "      <td>122</td>\n",
       "      <td>200000</td>\n",
       "      <td>34.8</td>\n",
       "      <td>4.0</td>\n",
       "      <td>0</td>\n",
       "      <td>0</td>\n",
       "      <td>0</td>\n",
       "      <td>0</td>\n",
       "      <td>0</td>\n",
       "      <td>...</td>\n",
       "      <td>1</td>\n",
       "      <td>0</td>\n",
       "      <td>0</td>\n",
       "      <td>1</td>\n",
       "      <td>1</td>\n",
       "      <td>0</td>\n",
       "      <td>0</td>\n",
       "      <td>0</td>\n",
       "      <td>1</td>\n",
       "      <td>0</td>\n",
       "    </tr>\n",
       "    <tr>\n",
       "      <th>...</th>\n",
       "      <td>...</td>\n",
       "      <td>...</td>\n",
       "      <td>...</td>\n",
       "      <td>...</td>\n",
       "      <td>...</td>\n",
       "      <td>...</td>\n",
       "      <td>...</td>\n",
       "      <td>...</td>\n",
       "      <td>...</td>\n",
       "      <td>...</td>\n",
       "      <td>...</td>\n",
       "      <td>...</td>\n",
       "      <td>...</td>\n",
       "      <td>...</td>\n",
       "      <td>...</td>\n",
       "      <td>...</td>\n",
       "      <td>...</td>\n",
       "      <td>...</td>\n",
       "      <td>...</td>\n",
       "      <td>...</td>\n",
       "      <td>...</td>\n",
       "    </tr>\n",
       "    <tr>\n",
       "      <th>6265</th>\n",
       "      <td>3.0</td>\n",
       "      <td>272</td>\n",
       "      <td>280000</td>\n",
       "      <td>13.8</td>\n",
       "      <td>0.0</td>\n",
       "      <td>0</td>\n",
       "      <td>0</td>\n",
       "      <td>0</td>\n",
       "      <td>0</td>\n",
       "      <td>0</td>\n",
       "      <td>...</td>\n",
       "      <td>0</td>\n",
       "      <td>1</td>\n",
       "      <td>0</td>\n",
       "      <td>1</td>\n",
       "      <td>1</td>\n",
       "      <td>0</td>\n",
       "      <td>0</td>\n",
       "      <td>0</td>\n",
       "      <td>1</td>\n",
       "      <td>0</td>\n",
       "    </tr>\n",
       "    <tr>\n",
       "      <th>54886</th>\n",
       "      <td>1.4</td>\n",
       "      <td>75</td>\n",
       "      <td>198000</td>\n",
       "      <td>12.8</td>\n",
       "      <td>6.0</td>\n",
       "      <td>0</td>\n",
       "      <td>1</td>\n",
       "      <td>0</td>\n",
       "      <td>0</td>\n",
       "      <td>0</td>\n",
       "      <td>...</td>\n",
       "      <td>0</td>\n",
       "      <td>0</td>\n",
       "      <td>0</td>\n",
       "      <td>1</td>\n",
       "      <td>1</td>\n",
       "      <td>0</td>\n",
       "      <td>0</td>\n",
       "      <td>0</td>\n",
       "      <td>0</td>\n",
       "      <td>1</td>\n",
       "    </tr>\n",
       "    <tr>\n",
       "      <th>76820</th>\n",
       "      <td>2.2</td>\n",
       "      <td>105</td>\n",
       "      <td>125000</td>\n",
       "      <td>14.8</td>\n",
       "      <td>0.0</td>\n",
       "      <td>1</td>\n",
       "      <td>0</td>\n",
       "      <td>0</td>\n",
       "      <td>0</td>\n",
       "      <td>0</td>\n",
       "      <td>...</td>\n",
       "      <td>0</td>\n",
       "      <td>0</td>\n",
       "      <td>0</td>\n",
       "      <td>1</td>\n",
       "      <td>1</td>\n",
       "      <td>0</td>\n",
       "      <td>0</td>\n",
       "      <td>0</td>\n",
       "      <td>0</td>\n",
       "      <td>1</td>\n",
       "    </tr>\n",
       "    <tr>\n",
       "      <th>860</th>\n",
       "      <td>2.4</td>\n",
       "      <td>170</td>\n",
       "      <td>260000</td>\n",
       "      <td>17.8</td>\n",
       "      <td>3.0</td>\n",
       "      <td>0</td>\n",
       "      <td>0</td>\n",
       "      <td>0</td>\n",
       "      <td>0</td>\n",
       "      <td>0</td>\n",
       "      <td>...</td>\n",
       "      <td>0</td>\n",
       "      <td>1</td>\n",
       "      <td>0</td>\n",
       "      <td>1</td>\n",
       "      <td>1</td>\n",
       "      <td>0</td>\n",
       "      <td>0</td>\n",
       "      <td>0</td>\n",
       "      <td>0</td>\n",
       "      <td>1</td>\n",
       "    </tr>\n",
       "    <tr>\n",
       "      <th>15795</th>\n",
       "      <td>1.4</td>\n",
       "      <td>75</td>\n",
       "      <td>152000</td>\n",
       "      <td>9.8</td>\n",
       "      <td>9.0</td>\n",
       "      <td>0</td>\n",
       "      <td>1</td>\n",
       "      <td>0</td>\n",
       "      <td>0</td>\n",
       "      <td>0</td>\n",
       "      <td>...</td>\n",
       "      <td>0</td>\n",
       "      <td>0</td>\n",
       "      <td>1</td>\n",
       "      <td>0</td>\n",
       "      <td>1</td>\n",
       "      <td>0</td>\n",
       "      <td>0</td>\n",
       "      <td>0</td>\n",
       "      <td>1</td>\n",
       "      <td>0</td>\n",
       "    </tr>\n",
       "  </tbody>\n",
       "</table>\n",
       "<p>78167 rows × 50 columns</p>\n",
       "</div>"
      ],
      "text/plain": [
       "       engineDisplacement  enginePower  mileage  car_age  model_product_time  \\\n",
       "77656                 4.4          339   129000      5.8                 3.0   \n",
       "32490                 1.6          129   123124      8.8                 0.0   \n",
       "38668                 2.0          150   171240     15.8                 2.0   \n",
       "8445                  2.0          177   203000     11.8                 3.0   \n",
       "78466                 2.0          122   200000     34.8                 4.0   \n",
       "...                   ...          ...      ...      ...                 ...   \n",
       "6265                  3.0          272   280000     13.8                 0.0   \n",
       "54886                 1.4           75   198000     12.8                 6.0   \n",
       "76820                 2.2          105   125000     14.8                 0.0   \n",
       "860                   2.4          170   260000     17.8                 3.0   \n",
       "15795                 1.4           75   152000      9.8                 9.0   \n",
       "\n",
       "       bodyType_внедорожник  bodyType_компактвэн  bodyType_купе  \\\n",
       "77656                     1                    0              0   \n",
       "32490                     0                    0              0   \n",
       "38668                     0                    0              0   \n",
       "8445                      1                    0              0   \n",
       "78466                     0                    0              0   \n",
       "...                     ...                  ...            ...   \n",
       "6265                      0                    0              0   \n",
       "54886                     0                    1              0   \n",
       "76820                     1                    0              0   \n",
       "860                       0                    0              0   \n",
       "15795                     0                    1              0   \n",
       "\n",
       "       bodyType_лифтбек  bodyType_минивэн  ...  color_синий  color_чёрный  \\\n",
       "77656                 0                 0  ...            0             1   \n",
       "32490                 0                 0  ...            0             0   \n",
       "38668                 0                 0  ...            0             0   \n",
       "8445                  0                 0  ...            0             0   \n",
       "78466                 0                 0  ...            1             0   \n",
       "...                 ...               ...  ...          ...           ...   \n",
       "6265                  0                 0  ...            0             1   \n",
       "54886                 0                 0  ...            0             0   \n",
       "76820                 0                 0  ...            0             0   \n",
       "860                   0                 0  ...            0             1   \n",
       "15795                 0                 0  ...            0             0   \n",
       "\n",
       "       ПТС_DUPLICATE  ПТС_ORIGINAL  Руль_LEFT  Руль_RIGHT  numberOfDoors_2.0  \\\n",
       "77656              0             1          1           0                  0   \n",
       "32490              0             1          1           0                  0   \n",
       "38668              0             1          1           0                  0   \n",
       "8445               0             1          1           0                  0   \n",
       "78466              0             1          1           0                  0   \n",
       "...              ...           ...        ...         ...                ...   \n",
       "6265               0             1          1           0                  0   \n",
       "54886              0             1          1           0                  0   \n",
       "76820              0             1          1           0                  0   \n",
       "860                0             1          1           0                  0   \n",
       "15795              1             0          1           0                  0   \n",
       "\n",
       "       numberOfDoors_3.0  numberOfDoors_4.0  numberOfDoors_5.0  \n",
       "77656                  0                  0                  1  \n",
       "32490                  0                  0                  1  \n",
       "38668                  0                  1                  0  \n",
       "8445                   0                  0                  1  \n",
       "78466                  0                  1                  0  \n",
       "...                  ...                ...                ...  \n",
       "6265                   0                  1                  0  \n",
       "54886                  0                  0                  1  \n",
       "76820                  0                  0                  1  \n",
       "860                    0                  0                  1  \n",
       "15795                  0                  1                  0  \n",
       "\n",
       "[78167 rows x 50 columns]"
      ]
     },
     "execution_count": 8,
     "metadata": {},
     "output_type": "execute_result"
    }
   ],
   "source": [
    "X_train"
   ]
  },
  {
   "cell_type": "code",
   "execution_count": null,
   "id": "a372a71d",
   "metadata": {
    "ExecuteTime": {
     "start_time": "2022-04-13T07:48:51.431Z"
    }
   },
   "outputs": [],
   "source": [
    "from sklearn.pipeline import make_pipeline\n",
    "from sklearn.ensemble import RandomForestRegressor\n",
    "from sklearn.datasets import make_regression\n",
    "regr = RandomForestRegressor(max_depth=5, random_state=0)\n",
    "\n",
    "regr.fit(X_train, np.log(y_train))\n",
    "\n",
    "(mape(y_test, regr.predict(X_test)))*100"
   ]
  },
  {
   "cell_type": "code",
   "execution_count": 85,
   "id": "9ad9ac01",
   "metadata": {
    "ExecuteTime": {
     "end_time": "2022-04-12T23:11:38.355630Z",
     "start_time": "2022-04-12T23:11:14.829419Z"
    }
   },
   "outputs": [
    {
     "data": {
      "text/plain": [
       "<catboost.core.CatBoostRegressor at 0x1c01e8f9690>"
      ]
     },
     "execution_count": 85,
     "metadata": {},
     "output_type": "execute_result"
    }
   ],
   "source": [
    "model = CatBoostRegressor(iterations = 3000,\n",
    "                          random_seed = 42,\n",
    "                          eval_metric='MAPE',\n",
    "                          custom_metric=['R2', 'MAE'],\n",
    "                          silent=True,\n",
    "                         )\n",
    "model.fit(X_train.values, np.log(y_train.values),\n",
    "         #cat_features=cat_features_ids,\n",
    "         eval_set=(X_test.values, np.log(y_test.values)),\n",
    "         verbose_eval=0,\n",
    "         use_best_model=True,\n",
    "         #plot=True\n",
    "         )\n"
   ]
  },
  {
   "cell_type": "code",
   "execution_count": 9,
   "id": "878c1e54",
   "metadata": {
    "ExecuteTime": {
     "end_time": "2022-04-13T07:49:16.700799Z",
     "start_time": "2022-04-13T07:49:16.683804Z"
    }
   },
   "outputs": [],
   "source": [
    "def mape(y_true, y_pred):\n",
    "    return np.mean(np.abs((y_pred-y_true)/y_true))*100"
   ]
  },
  {
   "cell_type": "code",
   "execution_count": 122,
   "id": "449714c8",
   "metadata": {
    "ExecuteTime": {
     "end_time": "2022-04-12T23:54:28.582748Z",
     "start_time": "2022-04-12T23:54:28.563743Z"
    }
   },
   "outputs": [
    {
     "ename": "TypeError",
     "evalue": "StandardScaler.__init__() takes 1 positional argument but 2 were given",
     "output_type": "error",
     "traceback": [
      "\u001b[1;31m---------------------------------------------------------------------------\u001b[0m",
      "\u001b[1;31mTypeError\u001b[0m                                 Traceback (most recent call last)",
      "Input \u001b[1;32mIn [122]\u001b[0m, in \u001b[0;36m<module>\u001b[1;34m\u001b[0m\n\u001b[0;32m      1\u001b[0m \u001b[38;5;28;01mfrom\u001b[39;00m \u001b[38;5;21;01msklearn\u001b[39;00m\u001b[38;5;21;01m.\u001b[39;00m\u001b[38;5;21;01mpreprocessing\u001b[39;00m \u001b[38;5;28;01mimport\u001b[39;00m StandardScaler\n\u001b[1;32m----> 3\u001b[0m \u001b[43mStandardScaler\u001b[49m\u001b[43m(\u001b[49m\u001b[43mSKODA\u001b[49m\u001b[43m)\u001b[49m\n",
      "\u001b[1;31mTypeError\u001b[0m: StandardScaler.__init__() takes 1 positional argument but 2 were given"
     ]
    }
   ],
   "source": [
    "from sklearn.preprocessing import StandardScaler\n",
    "\n",
    "StandardScaler(SKODA)"
   ]
  },
  {
   "cell_type": "code",
   "execution_count": 89,
   "id": "0831f2ad",
   "metadata": {
    "ExecuteTime": {
     "end_time": "2022-04-12T23:31:31.537140Z",
     "start_time": "2022-04-12T23:31:31.524138Z"
    }
   },
   "outputs": [],
   "source": [
    "from sklearn.model_selection import train_test_split\n",
    "X_train, X_test, y_train, y_test = train_test_split(\n",
    "    SKODA.drop(['price'],axis=\"columns\"), SKODA.price, test_size=0.2, shuffle=True, random_state=42)"
   ]
  },
  {
   "cell_type": "code",
   "execution_count": 136,
   "id": "7cdf28ca",
   "metadata": {
    "ExecuteTime": {
     "end_time": "2022-04-13T00:20:05.892183Z",
     "start_time": "2022-04-13T00:20:05.852285Z"
    }
   },
   "outputs": [
    {
     "data": {
      "text/plain": [
       "43.72718254541138"
      ]
     },
     "execution_count": 136,
     "metadata": {},
     "output_type": "execute_result"
    }
   ],
   "source": [
    "from sklearn import neighbors\n",
    "knn = neighbors.KNeighborsRegressor(n_neighbors=3)\n",
    "knn.fit(X_train, y_train)\n",
    "(mape(y_test, knn.predict(X_test)))*100"
   ]
  },
  {
   "cell_type": "code",
   "execution_count": null,
   "id": "4b3d435d",
   "metadata": {},
   "outputs": [],
   "source": []
  },
  {
   "cell_type": "code",
   "execution_count": 149,
   "id": "4b417d75",
   "metadata": {
    "ExecuteTime": {
     "end_time": "2022-04-13T00:27:12.658538Z",
     "start_time": "2022-04-13T00:26:39.851300Z"
    }
   },
   "outputs": [
    {
     "data": {
      "text/plain": [
       "14.491012440477355"
      ]
     },
     "execution_count": 149,
     "metadata": {},
     "output_type": "execute_result"
    }
   ],
   "source": [
    "from sklearn.svm import SVR\n",
    "regr = make_pipeline(StandardScaler(), SVR(kernel=\"poly\", C=100, gamma=\"auto\", \n",
    "                                           degree=2, epsilon=0.1, coef0=1))\n",
    "regr.fit(X_train, np.log(y_train))\n",
    "(mape(y_test, np.exp(regr.predict(X_test))))*100"
   ]
  },
  {
   "cell_type": "code",
   "execution_count": 148,
   "id": "35a2739e",
   "metadata": {
    "ExecuteTime": {
     "end_time": "2022-04-13T00:25:59.814595Z",
     "start_time": "2022-04-13T00:25:59.484342Z"
    }
   },
   "outputs": [
    {
     "data": {
      "text/plain": [
       "14.491012440477355"
      ]
     },
     "execution_count": 148,
     "metadata": {},
     "output_type": "execute_result"
    }
   ],
   "source": [
    "svr_rbf = SVR(kernel=\"rbf\", C=1000, gamma=0.1, epsilon=0.2)\n",
    "svr_rbf.fit(X_train, np.log(y_train))\n",
    "(mape(y_test, np.exp(regr.predict(X_test))))*100"
   ]
  },
  {
   "cell_type": "code",
   "execution_count": null,
   "id": "fb51bc37",
   "metadata": {
    "ExecuteTime": {
     "start_time": "2022-04-13T07:19:04.993Z"
    }
   },
   "outputs": [],
   "source": [
    "X_train, X_test, y_train, y_test = train_test_split(\n",
    "    Xy[['car_age','enginePower','mileage']], Xy.price, test_size=0.1, shuffle=True, random_state=42)\n",
    "\n",
    "from sklearn.svm import SVR\n",
    "regr = SVR(kernel=\"poly\", C=100, gamma=\"auto\", degree=2, epsilon=0.1, coef0=1)\n",
    "regr.fit(X_train, np.log(y_train))\n",
    "(mape(y_test, np.exp(regr.predict(X_test))))*100"
   ]
  },
  {
   "cell_type": "code",
   "execution_count": null,
   "id": "7d6e6e6f",
   "metadata": {},
   "outputs": [],
   "source": []
  },
  {
   "cell_type": "code",
   "execution_count": 17,
   "id": "97eb4e34",
   "metadata": {
    "ExecuteTime": {
     "end_time": "2022-04-13T07:14:25.443737Z",
     "start_time": "2022-04-13T07:14:22.385668Z"
    }
   },
   "outputs": [
    {
     "data": {
      "image/png": "[encoded data removed]",
      "text/plain": [
       "<Figure size 1080x720 with 3 Axes>"
      ]
     },
     "metadata": {
      "needs_background": "light"
     },
     "output_type": "display_data"
    }
   ],
   "source": [
    "import numpy as np\n",
    "from sklearn.svm import SVR\n",
    "import matplotlib.pyplot as plt\n",
    "\n",
    "# #############################################################################\n",
    "# Generate sample data\n",
    "X = np.sort(5 * np.random.rand(40, 1), axis=0)\n",
    "y = np.sin(X).ravel()\n",
    "\n",
    "# #############################################################################\n",
    "# Add noise to targets\n",
    "y[::5] += 3 * (0.5 - np.random.rand(8))\n",
    "\n",
    "# #############################################################################\n",
    "# Fit regression model\n",
    "svr_rbf = SVR(kernel=\"rbf\", C=100, gamma=0.1, epsilon=0.1)\n",
    "svr_lin = SVR(kernel=\"linear\", C=100, gamma=\"auto\")\n",
    "svr_poly = SVR(kernel=\"poly\", C=100, gamma=\"auto\", degree=3, epsilon=0.1, coef0=1)\n",
    "\n",
    "# #############################################################################\n",
    "# Look at the results\n",
    "lw = 2\n",
    "\n",
    "svrs = [svr_rbf, svr_lin, svr_poly]\n",
    "kernel_label = [\"RBF\", \"Linear\", \"Polynomial\"]\n",
    "model_color = [\"m\", \"c\", \"g\"]\n",
    "\n",
    "fig, axes = plt.subplots(nrows=1, ncols=3, figsize=(15, 10), sharey=True)\n",
    "for ix, svr in enumerate(svrs):\n",
    "    axes[ix].plot(\n",
    "        X,\n",
    "        svr.fit(X, y).predict(X),\n",
    "        color=model_color[ix],\n",
    "        lw=lw,\n",
    "        label=\"{} model\".format(kernel_label[ix]),\n",
    "    )\n",
    "    axes[ix].scatter(\n",
    "        X[svr.support_],\n",
    "        y[svr.support_],\n",
    "        facecolor=\"none\",\n",
    "        edgecolor=model_color[ix],\n",
    "        s=50,\n",
    "        label=\"{} support vectors\".format(kernel_label[ix]),\n",
    "    )\n",
    "    axes[ix].scatter(\n",
    "        X[np.setdiff1d(np.arange(len(X)), svr.support_)],\n",
    "        y[np.setdiff1d(np.arange(len(X)), svr.support_)],\n",
    "        facecolor=\"none\",\n",
    "        edgecolor=\"k\",\n",
    "        s=50,\n",
    "        label=\"other training data\",\n",
    "    )\n",
    "    axes[ix].legend(\n",
    "        loc=\"upper center\",\n",
    "        bbox_to_anchor=(0.5, 1.1),\n",
    "        ncol=1,\n",
    "        fancybox=True,\n",
    "        shadow=True,\n",
    "    )\n",
    "\n",
    "fig.text(0.5, 0.04, \"data\", ha=\"center\", va=\"center\")\n",
    "fig.text(0.06, 0.5, \"target\", ha=\"center\", va=\"center\", rotation=\"vertical\")\n",
    "fig.suptitle(\"Support Vector Regression\", fontsize=14)\n",
    "plt.show()"
   ]
  },
  {
   "cell_type": "code",
   "execution_count": 20,
   "id": "54cc7e47",
   "metadata": {
    "ExecuteTime": {
     "end_time": "2022-04-13T07:15:12.501046Z",
     "start_time": "2022-04-13T07:15:12.491044Z"
    }
   },
   "outputs": [
    {
     "ename": "IndentationError",
     "evalue": "unexpected indent (2045093355.py, line 9)",
     "output_type": "error",
     "traceback": [
      "\u001b[1;36m  Input \u001b[1;32mIn [20]\u001b[1;36m\u001b[0m\n\u001b[1;33m    axes[ix].scatter(\u001b[0m\n\u001b[1;37m    ^\u001b[0m\n\u001b[1;31mIndentationError\u001b[0m\u001b[1;31m:\u001b[0m unexpected indent\n"
     ]
    }
   ],
   "source": [
    "fig, axes = plt(sharey=True)\n",
    "axes[ix].plot(\n",
    "        X,\n",
    "        svr.fit(X, y).predict(X),\n",
    "        color=model_color[ix],\n",
    "        lw=lw,\n",
    "        label=\"{} model\".format(kernel_label[ix]),\n",
    "    )\n",
    "    axes[ix].scatter(\n",
    "        X[svr.support_],\n",
    "        y[svr.support_],\n",
    "        facecolor=\"none\",\n",
    "        edgecolor=model_color[ix],\n",
    "        s=50,\n",
    "        label=\"{} support vectors\".format(kernel_label[ix]),\n",
    "    )\n",
    "    axes[ix].scatter(\n",
    "        X[np.setdiff1d(np.arange(len(X)), svr.support_)],\n",
    "        y[np.setdiff1d(np.arange(len(X)), svr.support_)],\n",
    "        facecolor=\"none\",\n",
    "        edgecolor=\"k\",\n",
    "        s=50,\n",
    "        label=\"other training data\",\n",
    "    )\n",
    "    axes[ix].legend(\n",
    "        loc=\"upper center\",\n",
    "        bbox_to_anchor=(0.5, 1.1),\n",
    "        ncol=1,\n",
    "        fancybox=True,\n",
    "        shadow=True,\n",
    "    )"
   ]
  }
 ],
 "metadata": {
  "kernelspec": {
   "display_name": "Python 3 (ipykernel)",
   "language": "python",
   "name": "python3"
  },
  "language_info": {
   "codemirror_mode": {
    "name": "ipython",
    "version": 3
   },
   "file_extension": ".py",
   "mimetype": "text/x-python",
   "name": "python",
   "nbconvert_exporter": "python",
   "pygments_lexer": "ipython3",
   "version": "3.10.4"
  },
  "latex_envs": {
   "LaTeX_envs_menu_present": true,
   "autoclose": false,
   "autocomplete": true,
   "bibliofile": "biblio.bib",
   "cite_by": "apalike",
   "current_citInitial": 1,
   "eqLabelWithNumbers": true,
   "eqNumInitial": 1,
   "hotkeys": {
    "equation": "Ctrl-E",
    "itemize": "Ctrl-I"
   },
   "labels_anchors": false,
   "latex_user_defs": false,
   "report_style_numbering": false,
   "user_envs_cfg": false
  },
  "toc": {
   "base_numbering": 1,
   "nav_menu": {},
   "number_sections": true,
   "sideBar": true,
   "skip_h1_title": false,
   "title_cell": "Table of Contents",
   "title_sidebar": "Contents",
   "toc_cell": false,
   "toc_position": {},
   "toc_section_display": true,
   "toc_window_display": false
  },
  "varInspector": {
   "cols": {
    "lenName": 16,
    "lenType": 16,
    "lenVar": 40
   },
   "kernels_config": {
    "python": {
     "delete_cmd_postfix": "",
     "delete_cmd_prefix": "del ",
     "library": "var_list.py",
     "varRefreshCmd": "print(var_dic_list())"
    },
    "r": {
     "delete_cmd_postfix": ") ",
     "delete_cmd_prefix": "rm(",
     "library": "var_list.r",
     "varRefreshCmd": "cat(var_dic_list()) "
    }
   },
   "types_to_exclude": [
    "module",
    "function",
    "builtin_function_or_method",
    "instance",
    "_Feature"
   ],
   "window_display": false
  }
 },
 "nbformat": 4,
 "nbformat_minor": 5
}
