{
 "cells": [
  {
   "cell_type": "code",
   "execution_count": 1,
   "metadata": {
    "ExecuteTime": {
     "end_time": "2022-04-09T07:50:40.966836Z",
     "start_time": "2022-04-09T07:50:39.869967Z"
    }
   },
   "outputs": [],
   "source": [
    "%store -r train \n",
    "%store -r test"
   ]
  },
  {
   "cell_type": "markdown",
   "metadata": {},
   "source": [
    "# Импорт"
   ]
  },
  {
   "cell_type": "code",
   "execution_count": 2,
   "metadata": {
    "ExecuteTime": {
     "end_time": "2022-04-09T07:50:42.254421Z",
     "start_time": "2022-04-09T07:50:40.967836Z"
    }
   },
   "outputs": [],
   "source": [
    "import numpy as np # linear algebra\n",
    "import pandas as pd # data processing, CSV file I/O (e.g. pd.read_csv)\n",
    "import sys\n",
    "import re\n",
    "import matplotlib.pyplot as plt\n",
    "from sklearn.model_selection import train_test_split\n",
    "from sklearn.model_selection import KFold\n",
    "from tqdm.notebook import tqdm\n",
    "from catboost import CatBoostRegressor\n",
    "from sklearn.preprocessing import LabelEncoder"
   ]
  },
  {
   "cell_type": "code",
   "execution_count": 3,
   "metadata": {
    "ExecuteTime": {
     "end_time": "2022-04-09T07:50:42.270345Z",
     "start_time": "2022-04-09T07:50:42.254421Z"
    }
   },
   "outputs": [
    {
     "name": "stdout",
     "output_type": "stream",
     "text": [
      "Python       : 3.10.4 (tags/v3.10.4:9d38120, Mar 23 2022, 23:13:41) [MSC v.1929 64 bit (AMD64)]\n",
      "Numpy        : 1.22.2\n"
     ]
    }
   ],
   "source": [
    "print('Python       :', sys.version.split('\\n')[0])\n",
    "print('Numpy        :', np.__version__)"
   ]
  },
  {
   "cell_type": "code",
   "execution_count": 4,
   "metadata": {
    "ExecuteTime": {
     "end_time": "2022-04-09T07:50:43.107661Z",
     "start_time": "2022-04-09T07:50:42.272345Z"
    }
   },
   "outputs": [
    {
     "name": "stdout",
     "output_type": "stream",
     "text": [
      "TRAIN Rows = 87264 Columns = 26\n",
      "TEST  Rows = 34686 Columns = 32\n"
     ]
    }
   ],
   "source": [
    "#Удаление дублирующихся строк\n",
    "train_mod = train.drop_duplicates()\n",
    "test_mod = test.drop_duplicates()\n",
    "\n",
    "print('TRAIN','Rows =', np.shape(train_mod)[0],'Columns =', np.shape(train_mod)[1], sep=' ')\n",
    "print('TEST ','Rows =', np.shape(test_mod)[0],'Columns =', np.shape(test_mod)[1], sep=' ') "
   ]
  },
  {
   "cell_type": "markdown",
   "metadata": {},
   "source": [
    "# Функции"
   ]
  },
  {
   "cell_type": "code",
   "execution_count": 5,
   "metadata": {
    "ExecuteTime": {
     "end_time": "2022-04-09T07:50:43.123667Z",
     "start_time": "2022-04-09T07:50:43.108661Z"
    }
   },
   "outputs": [],
   "source": [
    "#Словарь соответствий брендов странас происхождения\n",
    "countries_dict = {'Germany': ['AUDI','BMW','OPEL','PORSCHE','VOLKSWAGEN','MERCEDES'],\n",
    "                  'Japan':   ['HONDA','INFINITI','LEXUS','MAZDA','MITSUBISHI','NISSAN','SUBARU','SUZUKI','TOYOTA'],\n",
    "                  'USA':     ['CADILLAC','CHEVROLET','CHRYSLER','DODGE','FORD','JEEP'],\n",
    "                  'China':   ['CHERY','GEELY','GREAT_WALL'],\n",
    "                  'UK':      ['JAGUAR','MINI','LAND_ROVER'],\n",
    "                  'Korea':   ['DAEWOO','HYUNDAI','KIA','SSANG_YONG'],\n",
    "                  'Sweden':  ['VOLVO'],\n",
    "                  'Czech':   ['SKODA']}"
   ]
  },
  {
   "cell_type": "code",
   "execution_count": 6,
   "metadata": {
    "ExecuteTime": {
     "end_time": "2022-04-09T07:50:43.138904Z",
     "start_time": "2022-04-09T07:50:43.124667Z"
    }
   },
   "outputs": [],
   "source": [
    "#Функция для заполнения столбца со страной происхождения бренда\n",
    "def get_country(x):\n",
    "    if x in countries_dict['Germany']:\n",
    "        x = 'Germany'\n",
    "    elif x in countries_dict['Japan']:\n",
    "        x = 'Japan'\n",
    "    elif x in countries_dict['USA']:\n",
    "        x = 'USA'\n",
    "    elif x in countries_dict['China']:\n",
    "        x = 'China'\n",
    "    elif x in countries_dict['UK']:\n",
    "        x = 'UK'\n",
    "    elif x in countries_dict['Korea']:\n",
    "        x = 'Korea'\n",
    "    elif x in countries_dict['Sweden']:\n",
    "        x = 'Sweden'\n",
    "    else:\n",
    "        x = 'Czech'\n",
    "    return x\n",
    "#Наверное, эта функция должна выглядеть не так колхозно\n",
    "\n",
    "\n",
    "#Функция для просмотра и сравнения типов данных в столбцах\n",
    "def type_comparison(column):\n",
    "    print('TEST')\n",
    "    display(test_mod[column].sample(5))\n",
    "    print('TRAIN')\n",
    "    display(train_mod[column].sample(5))  \n",
    "    \n",
    "    \n",
    "    \n",
    "#Функция для приведения значений столбца bodyType к единому формату\n",
    "def get_bodyType(x):\n",
    "    row = str(x).lower()\n",
    "    bodyType = re.findall('[а-яё]+', row)\n",
    "    if bodyType == []:\n",
    "        return None\n",
    "    return str(bodyType[0])\n",
    "\n",
    "\n",
    "\n",
    "#Функция для приведения значений столбца engineDisplacement к единому формату\n",
    "def get_EngineDisplacement(x):\n",
    "    row = str(x)\n",
    "    engine = re.findall('\\d\\.\\d', row)\n",
    "    if engine == []:\n",
    "        return None\n",
    "    return float(engine[0])\n",
    "\n",
    "\n",
    "\n",
    "#Функция для извлечения значения объёма двигателя из столбца name\n",
    "def pull_EngineDisplacement(x):\n",
    "    row = str(x)\n",
    "    engine = re.findall('\\d\\.\\d', row)\n",
    "    if len(engine) !=0:\n",
    "        return float(engine[0])\n",
    "    else:\n",
    "        return 0\n",
    "\n",
    "    \n",
    "    \n",
    "#Список имён столбцов под удаление. Будет заполняться по ходу первичного анализа.\n",
    "columns_to_drop = []"
   ]
  },
  {
   "cell_type": "code",
   "execution_count": 7,
   "metadata": {
    "ExecuteTime": {
     "end_time": "2022-04-09T07:50:44.595401Z",
     "start_time": "2022-04-09T07:50:43.139906Z"
    }
   },
   "outputs": [
    {
     "name": "stderr",
     "output_type": "stream",
     "text": [
      "C:\\Users\\zetet\\AppData\\Local\\Temp\\ipykernel_18552\\4675327.py:15: SettingWithCopyWarning: \n",
      "A value is trying to be set on a copy of a slice from a DataFrame.\n",
      "Try using .loc[row_indexer,col_indexer] = value instead\n",
      "\n",
      "See the caveats in the documentation: https://pandas.pydata.org/pandas-docs/stable/user_guide/indexing.html#returning-a-view-versus-a-copy\n",
      "  train_mod['Country_of_origin'] = train_mod['brand'].apply(get_country)\n",
      "C:\\Users\\zetet\\AppData\\Local\\Temp\\ipykernel_18552\\4675327.py:19: SettingWithCopyWarning: \n",
      "A value is trying to be set on a copy of a slice from a DataFrame.\n",
      "Try using .loc[row_indexer,col_indexer] = value instead\n",
      "\n",
      "See the caveats in the documentation: https://pandas.pydata.org/pandas-docs/stable/user_guide/indexing.html#returning-a-view-versus-a-copy\n",
      "  train_mod['bodyType'] = train_mod.bodyType.apply(get_bodyType)\n"
     ]
    }
   ],
   "source": [
    "'''Общая предобработка должна сделаться для двух датасетов'''\n",
    "#Добавление к обоим датасетам столбца 'TEST' и заполнение его единицами в test_mod и нолями в train_mod\n",
    "#test_mod['TEST'] = 1\n",
    "#train_mod['TEST'] = 0\n",
    "\n",
    "#Объединение датасетов\n",
    "#whole_data = train_mod.append(test_mod)\n",
    "''''''\n",
    "\n",
    "\n",
    "\n",
    "\n",
    "#Создание столбца 'Country_of_origin' со страной происхождения бренда\n",
    "test_mod['Country_of_origin'] = test_mod['brand'].apply(get_country)\n",
    "train_mod['Country_of_origin'] = train_mod['brand'].apply(get_country)\n",
    "\n",
    "#Очистка столбца 'bodyType' и приведение к единому формату\n",
    "test_mod['bodyType'] = test_mod.bodyType.apply(get_bodyType)\n",
    "train_mod['bodyType'] = train_mod.bodyType.apply(get_bodyType)\n",
    "\n",
    "#Приведение столбца 'color' к единому формату\n",
    "train_mod = train_mod.replace({'color':\n",
    "                            {'040001': 'чёрный',\n",
    "                            'EE1D19': 'красный',\n",
    "                            '0000CC': 'синий',\n",
    "                            'CACECB': 'серебристый',\n",
    "                            '007F00': 'зелёный',\n",
    "                            'FAFBFB': 'белый',\n",
    "                            '97948F': 'серый',\n",
    "                            '22A0F8': 'голубой',\n",
    "                            '660099': 'фиолетовый',\n",
    "                            '200204': 'коричневый',\n",
    "                            'C49648': 'бежевый',\n",
    "                            'DEA522': 'золотистый',\n",
    "                            '4A2197': 'пурпурный',\n",
    "                            'FFD600': 'жёлтый',\n",
    "                            'FF8649': 'оранжевый',\n",
    "                            'FFC0CB': 'розовый'}})\n",
    "\n",
    "#Приведение столбца 'engineDisplacement' к единому формату \n",
    "train_mod['engineDisplacement'] = train_mod.engineDisplacement.apply(get_EngineDisplacement)\n",
    "test_mod['engineDisplacement'] = test_mod.engineDisplacement.apply(get_EngineDisplacement)\n",
    "\n",
    "#Заполнение пропусков в столбце 'engineDisplacement' датасета test_mod нолями\n",
    "test_mod['engineDisplacement'].fillna(0, inplace = True)\n",
    "\n",
    "#Приведение столбца 'enginePower' к единому формату\n",
    "train_mod.enginePower = train_mod.enginePower.convert_dtypes(int)\n",
    "test_mod['enginePower'] = test_mod['enginePower'].apply(lambda x : (int)(x.split(' ')[0]))\n",
    "\n",
    "#Удаление из датасета train_mod ряда, содержащего слишком много пропусков и ошибок\n",
    "train_mod.drop(24624, inplace = True)\n",
    "\n",
    "#Приведение столбца 'modelDate' к единому формату\n",
    "train_mod.modelDate = train_mod.modelDate.convert_dtypes(int)\n",
    "\n",
    "#Извлечение значений объёма двигателя из столбца 'name' для заполнения пропусков в столбце 'engineDisplacement'\n",
    "#в датасете train_mod\n",
    "train_mod['engineDisplacement'] = train_mod['name'].apply(pull_EngineDisplacement)\n",
    "\n",
    "#Добавление столбца 'name' в список столбцов на удаление \n",
    "#(вся информация, содержащаяся в нём, дублируется в других столбцах)\n",
    "columns_to_drop.append('name')\n",
    "\n",
    "#Приведение столбца 'numberOfDoors' к единому формату\n",
    "train_mod.numberOfDoors = train_mod.numberOfDoors.convert_dtypes(int)\n",
    "\n",
    "#Добавление столбца 'vehicleConfiguration' в список столбцов на удаление \n",
    "#(вся информация, содержащаяся в нём, дублируется в других столбцах)\n",
    "columns_to_drop.append('vehicleConfiguration')\n",
    "\n",
    "#Приведение столбца 'vehicleTransmission' к единому формату\n",
    "test_mod = test_mod.replace({'vehicleTransmission':\n",
    "                            {'автоматическая': 'AUTOMATIC',\n",
    "                            'вариатор': 'VARIATOR',\n",
    "                            'механическая': 'MECHANICAL',\n",
    "                            'роботизированная': 'ROBOT'}})\n",
    "\n",
    "#Приведение столбца 'Владельцы' к единому формату\n",
    "train_mod.Владельцы = train_mod.Владельцы.convert_dtypes(int)\n",
    "\n",
    "test_mod = test_mod.replace({'Владельцы':\n",
    "                            {'1\\xa0владелец': 1,\n",
    "                            '2\\xa0владельца': 2,\n",
    "                            '3 или более': 3}})\n",
    "\n",
    "#Заполнение пропусков в столбце 'Владельцы' датасета train_mod нолями\n",
    "train_mod['Владельцы'].fillna(0, inplace = True)\n",
    "\n",
    "#Добавление столбца 'vehicleConfiguration' в список столбцов на удаление \n",
    "#(Более 60% пропусков)\n",
    "columns_to_drop.append('Владение')\n",
    "\n",
    "#Приведение столбца 'ПТС' к единому формату\n",
    "test_mod = test_mod.replace({'ПТС':\n",
    "                            {'Оригинал': 'ORIGINAL',\n",
    "                            'Дубликат': 'DUPLICATE'}})\n",
    "\n",
    "#Приведение столбца 'Руль' к единому формату\n",
    "test_mod = test_mod.replace({'Руль':\n",
    "                            {'Левый': 'LEFT',\n",
    "                            'Правый': 'RIGHT'}})\n",
    "\n",
    "#Добавление столбца 'Состояние' в список столбцов на удаление \n",
    "#(В test_mod только одно уникальное значение, в train_mod - пустой столбец)\n",
    "columns_to_drop.append('Состояние')\n",
    "\n",
    "#Добавление столбца 'Таможня' в список столбцов на удаление \n",
    "#(Одно уникальное значение в обоих датасетах)\n",
    "columns_to_drop.append('Таможня')\n",
    "\n",
    "#Удаление общис столбцов по списку\n",
    "test_mod.drop(columns = columns_to_drop, inplace = True)\n",
    "train_mod.drop(columns = columns_to_drop, inplace = True)\n",
    "\n",
    "#Удаление лишних столбцов для приведения датасетов к единому виду \n",
    "test_drop = []\n",
    "for i in range(len(test_mod.columns)):\n",
    "    if test_mod.columns[i] not in train_mod.columns:\n",
    "        test_drop.append(test_mod.columns[i])\n",
    "\n",
    "test_mod.drop(columns = test_drop, inplace = True)\n",
    "\n",
    "\n",
    "train_drop = []\n",
    "for i in range(len(train_mod.columns)):\n",
    "    if train_mod.columns[i] not in test_mod.columns:\n",
    "        train_drop.append(train_mod.columns[i])\n",
    "        \n",
    "train_mod.drop(columns = train_drop, inplace = True)\n",
    "\n"
   ]
  }
 ],
 "metadata": {
  "kernelspec": {
   "display_name": "Python 3 (ipykernel)",
   "language": "python",
   "name": "python3"
  },
  "language_info": {
   "codemirror_mode": {
    "name": "ipython",
    "version": 3
   },
   "file_extension": ".py",
   "mimetype": "text/x-python",
   "name": "python",
   "nbconvert_exporter": "python",
   "pygments_lexer": "ipython3",
   "version": "3.10.4"
  },
  "latex_envs": {
   "LaTeX_envs_menu_present": true,
   "autoclose": false,
   "autocomplete": true,
   "bibliofile": "biblio.bib",
   "cite_by": "apalike",
   "current_citInitial": 1,
   "eqLabelWithNumbers": true,
   "eqNumInitial": 1,
   "hotkeys": {
    "equation": "Ctrl-E",
    "itemize": "Ctrl-I"
   },
   "labels_anchors": false,
   "latex_user_defs": false,
   "report_style_numbering": false,
   "user_envs_cfg": false
  },
  "toc": {
   "base_numbering": 1,
   "nav_menu": {},
   "number_sections": true,
   "sideBar": true,
   "skip_h1_title": false,
   "title_cell": "Table of Contents",
   "title_sidebar": "Contents",
   "toc_cell": false,
   "toc_position": {},
   "toc_section_display": true,
   "toc_window_display": false
  },
  "varInspector": {
   "cols": {
    "lenName": 16,
    "lenType": 16,
    "lenVar": 40
   },
   "kernels_config": {
    "python": {
     "delete_cmd_postfix": "",
     "delete_cmd_prefix": "del ",
     "library": "var_list.py",
     "varRefreshCmd": "print(var_dic_list())"
    },
    "r": {
     "delete_cmd_postfix": ") ",
     "delete_cmd_prefix": "rm(",
     "library": "var_list.r",
     "varRefreshCmd": "cat(var_dic_list()) "
    }
   },
   "types_to_exclude": [
    "module",
    "function",
    "builtin_function_or_method",
    "instance",
    "_Feature"
   ],
   "window_display": false
  }
 },
 "nbformat": 4,
 "nbformat_minor": 4
}
