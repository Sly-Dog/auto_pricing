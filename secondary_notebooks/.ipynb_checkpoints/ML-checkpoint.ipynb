{
 "cells": [
  {
   "cell_type": "markdown",
   "id": "88817e1a",
   "metadata": {},
   "source": [
    "# Data"
   ]
  },
  {
   "cell_type": "code",
   "execution_count": 103,
   "id": "2ee26779",
   "metadata": {
    "ExecuteTime": {
     "end_time": "2022-04-13T13:24:55.160119Z",
     "start_time": "2022-04-13T13:24:55.144116Z"
    }
   },
   "outputs": [],
   "source": [
    "def mape(y_true, y_pred):\n",
    "    return np.mean(np.abs((y_pred-y_true)/y_true))*100\n",
    "\n",
    "from catboost import CatBoostRegressor\n",
    "\n",
    "import pandas as pd\n",
    "\n",
    "from sklearn.model_selection import train_test_split"
   ]
  },
  {
   "cell_type": "code",
   "execution_count": 109,
   "id": "73eab55e",
   "metadata": {
    "ExecuteTime": {
     "end_time": "2022-04-13T13:27:09.584511Z",
     "start_time": "2022-04-13T13:27:08.883149Z"
    }
   },
   "outputs": [],
   "source": [
    "%store -r df\n",
    "\n",
    "preX = pd.concat(\n",
    "[df[['brand','sell_id','price','engineDisplacement', 'enginePower','mileage','car_age', 'model_product_time']] ,\n",
    "pd.get_dummies(df.bodyType,prefix='bodyType'),\n",
    "pd.get_dummies(df.fuelType,prefix='fuelType'),\n",
    "pd.get_dummies(df.vehicleTransmission,prefix='vehicleTransmission'),\n",
    "pd.get_dummies(df.Привод,prefix='Привод'),\n",
    "pd.get_dummies(df.Владельцы,prefix='Владельцы'),\n",
    "pd.get_dummies(df.Владение,prefix='Владение'),\n",
    "pd.get_dummies(df.color,prefix='color'),\n",
    "pd.get_dummies(df.ПТС,prefix='ПТС'),\n",
    "pd.get_dummies(df.Руль,prefix='Руль'),\n",
    "pd.get_dummies(df.numberOfDoors,prefix='numberOfDoors'),],axis=1)\n",
    "\n",
    "preX.sample(5)\n",
    "\n",
    "test = preX[preX.price==-1]\n",
    "train = preX[preX.price!=-1]\n",
    "\n",
    "X=train.drop(['brand','sell_id','price'],axis='columns')\n",
    "y=train.price"
   ]
  },
  {
   "cell_type": "code",
   "execution_count": 397,
   "id": "583731f7",
   "metadata": {
    "ExecuteTime": {
     "end_time": "2022-04-13T11:43:14.585092Z",
     "start_time": "2022-04-13T11:43:14.542135Z"
    }
   },
   "outputs": [],
   "source": [
    "X_train, X_test, y_train, y_test = train_test_split(\n",
    "    X ,\n",
    "    y, test_size=0.2, shuffle=True, random_state=42)"
   ]
  },
  {
   "cell_type": "code",
   "execution_count": 388,
   "id": "037f9d26",
   "metadata": {
    "ExecuteTime": {
     "end_time": "2022-04-13T11:41:28.089950Z",
     "start_time": "2022-04-13T11:40:56.002328Z"
    }
   },
   "outputs": [
    {
     "data": {
      "text/plain": [
       "<catboost.core.CatBoostRegressor at 0x1d900fc8be0>"
      ]
     },
     "execution_count": 388,
     "metadata": {},
     "output_type": "execute_result"
    }
   ],
   "source": [
    "model = CatBoostRegressor(iterations = 10000,\n",
    "                          random_seed = 42, silent=True)\n",
    "model.fit(X_train.values, np.log(y_train.values))"
   ]
  },
  {
   "cell_type": "code",
   "execution_count": 390,
   "id": "6c9a7f33",
   "metadata": {
    "ExecuteTime": {
     "end_time": "2022-04-13T11:41:31.561328Z",
     "start_time": "2022-04-13T11:41:31.547326Z"
    }
   },
   "outputs": [
    {
     "data": {
      "text/plain": [
       "12.887172638421523"
      ]
     },
     "execution_count": 390,
     "metadata": {},
     "output_type": "execute_result"
    }
   ],
   "source": [
    "mape(y_test, np.exp(model.predict(X_test.values)) )"
   ]
  },
  {
   "cell_type": "code",
   "execution_count": null,
   "id": "a8bf9c1e",
   "metadata": {},
   "outputs": [],
   "source": []
  },
  {
   "cell_type": "code",
   "execution_count": 131,
   "id": "8c1d5d0a",
   "metadata": {
    "ExecuteTime": {
     "end_time": "2022-04-13T13:49:03.543767Z",
     "start_time": "2022-04-13T13:47:43.431444Z"
    }
   },
   "outputs": [
    {
     "name": "stdout",
     "output_type": "stream",
     "text": [
      "KAGGLE score: 15.81082\n"
     ]
    }
   ],
   "source": [
    "'''SUBMISSION_1'''\n",
    "model = CatBoostRegressor(iterations = 10000,\n",
    "                          random_seed = 42, silent=True)\n",
    "model.fit(X.values, np.log(y.values))\n",
    "\n",
    "price = pd.Series(np.exp(model.predict(test.drop(['brand','sell_id','price'],axis='columns').values)))\n",
    "price.name = 'price'\n",
    "price = price.astype('int')\n",
    "pd.concat([test.sell_id, price],axis=1).to_csv(f'submission_1.csv', index=False)\n",
    "print('KAGGLE score: 15.81082')"
   ]
  },
  {
   "cell_type": "code",
   "execution_count": 39,
   "id": "06ead4fd",
   "metadata": {
    "ExecuteTime": {
     "end_time": "2022-04-13T12:23:07.357072Z",
     "start_time": "2022-04-13T12:23:07.292884Z"
    }
   },
   "outputs": [],
   "source": []
  },
  {
   "cell_type": "code",
   "execution_count": 3,
   "id": "f49e1bcd",
   "metadata": {
    "ExecuteTime": {
     "end_time": "2022-04-13T07:28:07.900953Z",
     "start_time": "2022-04-13T07:28:07.891951Z"
    }
   },
   "outputs": [],
   "source": [
    "import pandas as pd\n",
    "\n",
    "from sklearn.model_selection import train_test_split "
   ]
  },
  {
   "cell_type": "code",
   "execution_count": 413,
   "id": "83316067",
   "metadata": {
    "ExecuteTime": {
     "end_time": "2022-04-13T11:44:26.237146Z",
     "start_time": "2022-04-13T11:44:25.751253Z"
    }
   },
   "outputs": [
    {
     "data": {
      "text/plain": [
       "19.163364377579075"
      ]
     },
     "execution_count": 413,
     "metadata": {},
     "output_type": "execute_result"
    }
   ],
   "source": [
    "from sklearn import tree                             \n",
    "from sklearn.model_selection import train_test_split\n",
    "\n",
    "model = tree.DecisionTreeRegressor(max_depth=16, max_features=None)\n",
    "model.fit(X_train,y_train)\n",
    "\n",
    "(mape(y_test, (model.predict(X_test))))"
   ]
  },
  {
   "cell_type": "markdown",
   "id": "aee47c9d",
   "metadata": {},
   "source": [
    "# TREE"
   ]
  },
  {
   "cell_type": "code",
   "execution_count": 105,
   "id": "3269d2d4",
   "metadata": {
    "ExecuteTime": {
     "end_time": "2022-04-13T13:25:07.835655Z",
     "start_time": "2022-04-13T13:25:07.744845Z"
    }
   },
   "outputs": [],
   "source": [
    "\n",
    "train_SKODA = train[train.brand == 'SKODA'].drop(['brand','sell_id'],axis='columns').reset_index(drop=True)\n",
    "train_AUDI = train[train.brand == 'AUDI'].drop(['brand','sell_id'],axis='columns').reset_index(drop=True)\n",
    "train_HONDA = train[train.brand == 'HONDA'].drop(['brand','sell_id'],axis='columns').reset_index(drop=True)\n",
    "train_VOLVO = train[train.brand == 'VOLVO'].drop(['brand','sell_id'],axis='columns').reset_index(drop=True)\n",
    "train_BMW = train[train.brand == 'BMW'].drop(['brand','sell_id'],axis='columns').reset_index(drop=True)\n",
    "train_NISSAN = train[train.brand == 'NISSAN'].drop(['brand','sell_id'],axis='columns').reset_index(drop=True)\n",
    "train_INFINITI = train[train.brand == 'INFINITI'].drop(['brand','sell_id'],axis='columns').reset_index(drop=True)\n",
    "train_MERCEDES = train[train.brand == 'MERCEDES'].drop(['brand','sell_id'],axis='columns').reset_index(drop=True)\n",
    "train_TOYOTA = train[train.brand == 'TOYOTA'].drop(['brand','sell_id'],axis='columns').reset_index(drop=True)\n",
    "train_LEXUS = train[train.brand == 'LEXUS'].drop(['brand','sell_id'],axis='columns').reset_index(drop=True)\n",
    "train_VOLKSWAGEN = train[train.brand == 'VOLKSWAGEN'].drop(['brand','sell_id'],axis='columns').reset_index(drop=True)\n",
    "train_MITSUBISHI = train[train.brand == 'MITSUBISHI'].drop(['brand','sell_id'],axis='columns').reset_index(drop=True)"
   ]
  },
  {
   "cell_type": "code",
   "execution_count": 106,
   "id": "6a2dd352",
   "metadata": {
    "ExecuteTime": {
     "end_time": "2022-04-13T13:25:08.724749Z",
     "start_time": "2022-04-13T13:25:08.435835Z"
    }
   },
   "outputs": [
    {
     "data": {
      "text/plain": [
       "DecisionTreeRegressor()"
      ]
     },
     "execution_count": 106,
     "metadata": {},
     "output_type": "execute_result"
    }
   ],
   "source": [
    "from sklearn import tree                             \n",
    "from sklearn.model_selection import train_test_split\n",
    "\n",
    "SKODA = tree.DecisionTreeRegressor(max_depth=None, max_features=None)\n",
    "SKODA.fit(train_SKODA.drop(['price'],axis='columns'),np.log(train_SKODA.price))\n",
    "\n",
    "AUDI = tree.DecisionTreeRegressor(max_depth=None, max_features=None)\n",
    "AUDI.fit(train_AUDI.drop(['price'],axis='columns'),np.log(train_AUDI.price))\n",
    "\n",
    "HONDA = tree.DecisionTreeRegressor(max_depth=None, max_features=None)\n",
    "HONDA.fit(train_HONDA.drop(['price'],axis='columns'),np.log(train_HONDA.price))\n",
    "\n",
    "VOLVO = tree.DecisionTreeRegressor(max_depth=None, max_features=None)\n",
    "VOLVO.fit(train_VOLVO.drop(['price'],axis='columns'),np.log(train_VOLVO.price))\n",
    "\n",
    "BMW = tree.DecisionTreeRegressor(max_depth=None, max_features=None)\n",
    "BMW.fit(train_BMW.drop(['price'],axis='columns'),np.log(train_BMW.price))\n",
    "\n",
    "NISSAN = tree.DecisionTreeRegressor(max_depth=None, max_features=None)\n",
    "NISSAN.fit(train_NISSAN.drop(['price'],axis='columns'),np.log(train_NISSAN.price))\n",
    "\n",
    "INFINITI = tree.DecisionTreeRegressor(max_depth=None, max_features=None)\n",
    "INFINITI.fit(train_INFINITI.drop(['price'],axis='columns'),np.log(train_INFINITI.price))\n",
    "\n",
    "MERCEDES = tree.DecisionTreeRegressor(max_depth=None, max_features=None)\n",
    "MERCEDES.fit(train_MERCEDES.drop(['price'],axis='columns'),np.log(train_MERCEDES.price))\n",
    "\n",
    "TOYOTA = tree.DecisionTreeRegressor(max_depth=None, max_features=None)\n",
    "TOYOTA.fit(train_TOYOTA.drop(['price'],axis='columns'),np.log(train_TOYOTA.price))\n",
    "\n",
    "LEXUS = tree.DecisionTreeRegressor(max_depth=None, max_features=None)\n",
    "LEXUS.fit(train_LEXUS.drop(['price'],axis='columns'),np.log(train_LEXUS.price))\n",
    "\n",
    "VOLKSWAGEN = tree.DecisionTreeRegressor(max_depth=None, max_features=None)\n",
    "VOLKSWAGEN.fit(train_VOLKSWAGEN.drop(['price'],axis='columns'),np.log(train_VOLKSWAGEN.price))\n",
    "\n",
    "MITSUBISHI = tree.DecisionTreeRegressor(max_depth=None, max_features=None)\n",
    "MITSUBISHI.fit(train_MITSUBISHI.drop(['price'],axis='columns'),np.log(train_MITSUBISHI.price))"
   ]
  },
  {
   "cell_type": "code",
   "execution_count": 113,
   "id": "1fea8209",
   "metadata": {
    "ExecuteTime": {
     "end_time": "2022-04-13T13:28:41.978694Z",
     "start_time": "2022-04-13T13:28:41.968691Z"
    }
   },
   "outputs": [],
   "source": []
  },
  {
   "cell_type": "code",
   "execution_count": 124,
   "id": "f02879ae",
   "metadata": {
    "ExecuteTime": {
     "end_time": "2022-04-13T13:37:51.347978Z",
     "start_time": "2022-04-13T13:34:28.888020Z"
    }
   },
   "outputs": [],
   "source": [
    "for_pred = test.drop(['brand','sell_id','price'],axis='columns')\n",
    "\n",
    "preds = []\n",
    "for i in test.index:\n",
    "    if test.brand[i] == 'SKODA': preds.append(SKODA.predict(pd.DataFrame(for_pred.iloc[i]).T)[0])\n",
    "    if test.brand[i] == 'AUDI': preds.append(AUDI.predict(pd.DataFrame(for_pred.iloc[i]).T)[0])\n",
    "    if test.brand[i] == 'HONDA': preds.append(HONDA.predict(pd.DataFrame(for_pred.iloc[i]).T)[0])\n",
    "    if test.brand[i] == 'VOLVO': preds.append(VOLVO.predict(pd.DataFrame(for_pred.iloc[i]).T)[0])\n",
    "    if test.brand[i] == 'BMW': preds.append(BMW.predict(pd.DataFrame(for_pred.iloc[i]).T)[0])\n",
    "    if test.brand[i] == 'NISSAN': preds.append(NISSAN.predict(pd.DataFrame(for_pred.iloc[i]).T)[0])\n",
    "    if test.brand[i] == 'INFINITI': preds.append(INFINITI.predict(pd.DataFrame(for_pred.iloc[i]).T)[0])\n",
    "    if test.brand[i] == 'MERCEDES': preds.append(MERCEDES.predict(pd.DataFrame(for_pred.iloc[i]).T)[0])\n",
    "    if test.brand[i] == 'TOYOTA': preds.append(TOYOTA.predict(pd.DataFrame(for_pred.iloc[i]).T)[0])\n",
    "    if test.brand[i] == 'LEXUS': preds.append(LEXUS.predict(pd.DataFrame(for_pred.iloc[i]).T)[0])\n",
    "    if test.brand[i] == 'VOLKSWAGEN': preds.append(VOLKSWAGEN.predict(pd.DataFrame(for_pred.iloc[i]).T)[0])\n",
    "    if test.brand[i] == 'MITSUBISHI': preds.append(MITSUBISHI.predict(pd.DataFrame(for_pred.iloc[i]).T)[0])"
   ]
  },
  {
   "cell_type": "code",
   "execution_count": 133,
   "id": "9afb3186",
   "metadata": {
    "ExecuteTime": {
     "end_time": "2022-04-13T13:56:23.188471Z",
     "start_time": "2022-04-13T13:56:23.101032Z"
    }
   },
   "outputs": [
    {
     "name": "stdout",
     "output_type": "stream",
     "text": [
      "KAGGLE score: 12.82608\n"
     ]
    }
   ],
   "source": [
    "'''SUBMISSION 2'''\n",
    "pd.concat([test.sell_id, (price + np.exp(preds))/2],axis=1).to_csv(\n",
    "    f'submission_2.csv', index=False)\n",
    "print('KAGGLE score: 12.82608')"
   ]
  },
  {
   "cell_type": "code",
   "execution_count": 136,
   "id": "09b4c81a",
   "metadata": {
    "ExecuteTime": {
     "end_time": "2022-04-13T14:48:23.870257Z",
     "start_time": "2022-04-13T14:48:23.836250Z"
    }
   },
   "outputs": [
    {
     "data": {
      "text/html": [
       "<div>\n",
       "<style scoped>\n",
       "    .dataframe tbody tr th:only-of-type {\n",
       "        vertical-align: middle;\n",
       "    }\n",
       "\n",
       "    .dataframe tbody tr th {\n",
       "        vertical-align: top;\n",
       "    }\n",
       "\n",
       "    .dataframe thead th {\n",
       "        text-align: right;\n",
       "    }\n",
       "</style>\n",
       "<table border=\"1\" class=\"dataframe\">\n",
       "  <thead>\n",
       "    <tr style=\"text-align: right;\">\n",
       "      <th></th>\n",
       "      <th>brand</th>\n",
       "      <th>sell_id</th>\n",
       "      <th>price</th>\n",
       "      <th>engineDisplacement</th>\n",
       "      <th>enginePower</th>\n",
       "      <th>mileage</th>\n",
       "      <th>car_age</th>\n",
       "      <th>model_product_time</th>\n",
       "      <th>bodyType_внедорожник</th>\n",
       "      <th>bodyType_компактвэн</th>\n",
       "      <th>...</th>\n",
       "      <th>color_синий</th>\n",
       "      <th>color_чёрный</th>\n",
       "      <th>ПТС_DUPLICATE</th>\n",
       "      <th>ПТС_ORIGINAL</th>\n",
       "      <th>Руль_LEFT</th>\n",
       "      <th>Руль_RIGHT</th>\n",
       "      <th>numberOfDoors_2.0</th>\n",
       "      <th>numberOfDoors_3.0</th>\n",
       "      <th>numberOfDoors_4.0</th>\n",
       "      <th>numberOfDoors_5.0</th>\n",
       "    </tr>\n",
       "  </thead>\n",
       "  <tbody>\n",
       "    <tr>\n",
       "      <th>34686</th>\n",
       "      <td>AUDI</td>\n",
       "      <td>-1</td>\n",
       "      <td>200000.0</td>\n",
       "      <td>2.8</td>\n",
       "      <td>174</td>\n",
       "      <td>350000</td>\n",
       "      <td>29.8</td>\n",
       "      <td>1.0</td>\n",
       "      <td>0</td>\n",
       "      <td>0</td>\n",
       "      <td>...</td>\n",
       "      <td>0</td>\n",
       "      <td>1</td>\n",
       "      <td>0</td>\n",
       "      <td>1</td>\n",
       "      <td>1</td>\n",
       "      <td>0</td>\n",
       "      <td>0</td>\n",
       "      <td>0</td>\n",
       "      <td>1</td>\n",
       "      <td>0</td>\n",
       "    </tr>\n",
       "    <tr>\n",
       "      <th>34687</th>\n",
       "      <td>AUDI</td>\n",
       "      <td>-1</td>\n",
       "      <td>60000.0</td>\n",
       "      <td>1.8</td>\n",
       "      <td>90</td>\n",
       "      <td>173424</td>\n",
       "      <td>34.8</td>\n",
       "      <td>4.0</td>\n",
       "      <td>0</td>\n",
       "      <td>0</td>\n",
       "      <td>...</td>\n",
       "      <td>0</td>\n",
       "      <td>0</td>\n",
       "      <td>0</td>\n",
       "      <td>1</td>\n",
       "      <td>1</td>\n",
       "      <td>0</td>\n",
       "      <td>0</td>\n",
       "      <td>0</td>\n",
       "      <td>1</td>\n",
       "      <td>0</td>\n",
       "    </tr>\n",
       "    <tr>\n",
       "      <th>34688</th>\n",
       "      <td>AUDI</td>\n",
       "      <td>-1</td>\n",
       "      <td>99000.0</td>\n",
       "      <td>2.3</td>\n",
       "      <td>136</td>\n",
       "      <td>230000</td>\n",
       "      <td>31.8</td>\n",
       "      <td>1.0</td>\n",
       "      <td>0</td>\n",
       "      <td>0</td>\n",
       "      <td>...</td>\n",
       "      <td>1</td>\n",
       "      <td>0</td>\n",
       "      <td>0</td>\n",
       "      <td>1</td>\n",
       "      <td>1</td>\n",
       "      <td>0</td>\n",
       "      <td>0</td>\n",
       "      <td>0</td>\n",
       "      <td>0</td>\n",
       "      <td>1</td>\n",
       "    </tr>\n",
       "    <tr>\n",
       "      <th>34689</th>\n",
       "      <td>AUDI</td>\n",
       "      <td>-1</td>\n",
       "      <td>65000.0</td>\n",
       "      <td>1.8</td>\n",
       "      <td>90</td>\n",
       "      <td>240000</td>\n",
       "      <td>31.8</td>\n",
       "      <td>1.0</td>\n",
       "      <td>0</td>\n",
       "      <td>0</td>\n",
       "      <td>...</td>\n",
       "      <td>0</td>\n",
       "      <td>0</td>\n",
       "      <td>0</td>\n",
       "      <td>1</td>\n",
       "      <td>1</td>\n",
       "      <td>0</td>\n",
       "      <td>0</td>\n",
       "      <td>0</td>\n",
       "      <td>1</td>\n",
       "      <td>0</td>\n",
       "    </tr>\n",
       "    <tr>\n",
       "      <th>34690</th>\n",
       "      <td>AUDI</td>\n",
       "      <td>-1</td>\n",
       "      <td>100000.0</td>\n",
       "      <td>2.0</td>\n",
       "      <td>101</td>\n",
       "      <td>300000</td>\n",
       "      <td>29.8</td>\n",
       "      <td>1.0</td>\n",
       "      <td>0</td>\n",
       "      <td>0</td>\n",
       "      <td>...</td>\n",
       "      <td>0</td>\n",
       "      <td>1</td>\n",
       "      <td>1</td>\n",
       "      <td>0</td>\n",
       "      <td>1</td>\n",
       "      <td>0</td>\n",
       "      <td>0</td>\n",
       "      <td>0</td>\n",
       "      <td>1</td>\n",
       "      <td>0</td>\n",
       "    </tr>\n",
       "    <tr>\n",
       "      <th>...</th>\n",
       "      <td>...</td>\n",
       "      <td>...</td>\n",
       "      <td>...</td>\n",
       "      <td>...</td>\n",
       "      <td>...</td>\n",
       "      <td>...</td>\n",
       "      <td>...</td>\n",
       "      <td>...</td>\n",
       "      <td>...</td>\n",
       "      <td>...</td>\n",
       "      <td>...</td>\n",
       "      <td>...</td>\n",
       "      <td>...</td>\n",
       "      <td>...</td>\n",
       "      <td>...</td>\n",
       "      <td>...</td>\n",
       "      <td>...</td>\n",
       "      <td>...</td>\n",
       "      <td>...</td>\n",
       "      <td>...</td>\n",
       "      <td>...</td>\n",
       "    </tr>\n",
       "    <tr>\n",
       "      <th>121944</th>\n",
       "      <td>SSANG_YONG</td>\n",
       "      <td>-1</td>\n",
       "      <td>450000.0</td>\n",
       "      <td>2.7</td>\n",
       "      <td>163</td>\n",
       "      <td>260000</td>\n",
       "      <td>14.8</td>\n",
       "      <td>2.0</td>\n",
       "      <td>0</td>\n",
       "      <td>0</td>\n",
       "      <td>...</td>\n",
       "      <td>0</td>\n",
       "      <td>1</td>\n",
       "      <td>0</td>\n",
       "      <td>1</td>\n",
       "      <td>1</td>\n",
       "      <td>0</td>\n",
       "      <td>0</td>\n",
       "      <td>0</td>\n",
       "      <td>0</td>\n",
       "      <td>1</td>\n",
       "    </tr>\n",
       "    <tr>\n",
       "      <th>121945</th>\n",
       "      <td>SSANG_YONG</td>\n",
       "      <td>-1</td>\n",
       "      <td>485000.0</td>\n",
       "      <td>2.7</td>\n",
       "      <td>163</td>\n",
       "      <td>300000</td>\n",
       "      <td>13.8</td>\n",
       "      <td>3.0</td>\n",
       "      <td>0</td>\n",
       "      <td>0</td>\n",
       "      <td>...</td>\n",
       "      <td>0</td>\n",
       "      <td>0</td>\n",
       "      <td>0</td>\n",
       "      <td>1</td>\n",
       "      <td>1</td>\n",
       "      <td>0</td>\n",
       "      <td>0</td>\n",
       "      <td>0</td>\n",
       "      <td>0</td>\n",
       "      <td>1</td>\n",
       "    </tr>\n",
       "    <tr>\n",
       "      <th>121946</th>\n",
       "      <td>SSANG_YONG</td>\n",
       "      <td>-1</td>\n",
       "      <td>1090000.0</td>\n",
       "      <td>2.0</td>\n",
       "      <td>149</td>\n",
       "      <td>126000</td>\n",
       "      <td>6.8</td>\n",
       "      <td>1.0</td>\n",
       "      <td>0</td>\n",
       "      <td>0</td>\n",
       "      <td>...</td>\n",
       "      <td>0</td>\n",
       "      <td>1</td>\n",
       "      <td>0</td>\n",
       "      <td>1</td>\n",
       "      <td>1</td>\n",
       "      <td>0</td>\n",
       "      <td>0</td>\n",
       "      <td>0</td>\n",
       "      <td>0</td>\n",
       "      <td>1</td>\n",
       "    </tr>\n",
       "    <tr>\n",
       "      <th>121947</th>\n",
       "      <td>SSANG_YONG</td>\n",
       "      <td>-1</td>\n",
       "      <td>1180000.0</td>\n",
       "      <td>2.0</td>\n",
       "      <td>149</td>\n",
       "      <td>84000</td>\n",
       "      <td>7.8</td>\n",
       "      <td>0.0</td>\n",
       "      <td>0</td>\n",
       "      <td>0</td>\n",
       "      <td>...</td>\n",
       "      <td>0</td>\n",
       "      <td>0</td>\n",
       "      <td>0</td>\n",
       "      <td>1</td>\n",
       "      <td>1</td>\n",
       "      <td>0</td>\n",
       "      <td>0</td>\n",
       "      <td>0</td>\n",
       "      <td>0</td>\n",
       "      <td>1</td>\n",
       "    </tr>\n",
       "    <tr>\n",
       "      <th>121948</th>\n",
       "      <td>SSANG_YONG</td>\n",
       "      <td>-1</td>\n",
       "      <td>1075000.0</td>\n",
       "      <td>2.0</td>\n",
       "      <td>149</td>\n",
       "      <td>144000</td>\n",
       "      <td>6.8</td>\n",
       "      <td>1.0</td>\n",
       "      <td>0</td>\n",
       "      <td>0</td>\n",
       "      <td>...</td>\n",
       "      <td>0</td>\n",
       "      <td>0</td>\n",
       "      <td>0</td>\n",
       "      <td>1</td>\n",
       "      <td>1</td>\n",
       "      <td>0</td>\n",
       "      <td>0</td>\n",
       "      <td>0</td>\n",
       "      <td>0</td>\n",
       "      <td>1</td>\n",
       "    </tr>\n",
       "  </tbody>\n",
       "</table>\n",
       "<p>86853 rows × 53 columns</p>\n",
       "</div>"
      ],
      "text/plain": [
       "             brand  sell_id      price  engineDisplacement  enginePower  \\\n",
       "34686         AUDI       -1   200000.0                 2.8          174   \n",
       "34687         AUDI       -1    60000.0                 1.8           90   \n",
       "34688         AUDI       -1    99000.0                 2.3          136   \n",
       "34689         AUDI       -1    65000.0                 1.8           90   \n",
       "34690         AUDI       -1   100000.0                 2.0          101   \n",
       "...            ...      ...        ...                 ...          ...   \n",
       "121944  SSANG_YONG       -1   450000.0                 2.7          163   \n",
       "121945  SSANG_YONG       -1   485000.0                 2.7          163   \n",
       "121946  SSANG_YONG       -1  1090000.0                 2.0          149   \n",
       "121947  SSANG_YONG       -1  1180000.0                 2.0          149   \n",
       "121948  SSANG_YONG       -1  1075000.0                 2.0          149   \n",
       "\n",
       "        mileage  car_age  model_product_time  bodyType_внедорожник  \\\n",
       "34686    350000     29.8                 1.0                     0   \n",
       "34687    173424     34.8                 4.0                     0   \n",
       "34688    230000     31.8                 1.0                     0   \n",
       "34689    240000     31.8                 1.0                     0   \n",
       "34690    300000     29.8                 1.0                     0   \n",
       "...         ...      ...                 ...                   ...   \n",
       "121944   260000     14.8                 2.0                     0   \n",
       "121945   300000     13.8                 3.0                     0   \n",
       "121946   126000      6.8                 1.0                     0   \n",
       "121947    84000      7.8                 0.0                     0   \n",
       "121948   144000      6.8                 1.0                     0   \n",
       "\n",
       "        bodyType_компактвэн  ...  color_синий  color_чёрный  ПТС_DUPLICATE  \\\n",
       "34686                     0  ...            0             1              0   \n",
       "34687                     0  ...            0             0              0   \n",
       "34688                     0  ...            1             0              0   \n",
       "34689                     0  ...            0             0              0   \n",
       "34690                     0  ...            0             1              1   \n",
       "...                     ...  ...          ...           ...            ...   \n",
       "121944                    0  ...            0             1              0   \n",
       "121945                    0  ...            0             0              0   \n",
       "121946                    0  ...            0             1              0   \n",
       "121947                    0  ...            0             0              0   \n",
       "121948                    0  ...            0             0              0   \n",
       "\n",
       "        ПТС_ORIGINAL  Руль_LEFT  Руль_RIGHT  numberOfDoors_2.0  \\\n",
       "34686              1          1           0                  0   \n",
       "34687              1          1           0                  0   \n",
       "34688              1          1           0                  0   \n",
       "34689              1          1           0                  0   \n",
       "34690              0          1           0                  0   \n",
       "...              ...        ...         ...                ...   \n",
       "121944             1          1           0                  0   \n",
       "121945             1          1           0                  0   \n",
       "121946             1          1           0                  0   \n",
       "121947             1          1           0                  0   \n",
       "121948             1          1           0                  0   \n",
       "\n",
       "        numberOfDoors_3.0  numberOfDoors_4.0  numberOfDoors_5.0  \n",
       "34686                   0                  1                  0  \n",
       "34687                   0                  1                  0  \n",
       "34688                   0                  0                  1  \n",
       "34689                   0                  1                  0  \n",
       "34690                   0                  1                  0  \n",
       "...                   ...                ...                ...  \n",
       "121944                  0                  0                  1  \n",
       "121945                  0                  0                  1  \n",
       "121946                  0                  0                  1  \n",
       "121947                  0                  0                  1  \n",
       "121948                  0                  0                  1  \n",
       "\n",
       "[86853 rows x 53 columns]"
      ]
     },
     "execution_count": 136,
     "metadata": {},
     "output_type": "execute_result"
    }
   ],
   "source": [
    "train"
   ]
  },
  {
   "cell_type": "code",
   "execution_count": 137,
   "id": "c948a7b4",
   "metadata": {
    "ExecuteTime": {
     "end_time": "2022-04-13T14:48:49.801564Z",
     "start_time": "2022-04-13T14:48:48.999797Z"
    }
   },
   "outputs": [
    {
     "data": {
      "text/plain": [
       "DecisionTreeRegressor()"
      ]
     },
     "execution_count": 137,
     "metadata": {},
     "output_type": "execute_result"
    }
   ],
   "source": [
    "from sklearn import tree                             \n",
    "from sklearn.model_selection import train_test_split\n",
    "\n",
    "mod = tree.DecisionTreeRegressor(max_depth=None, max_features=None)\n",
    "mod.fit(train.drop(['price','brand','sell_id'],axis='columns'),train.price)\n",
    "\n"
   ]
  },
  {
   "cell_type": "code",
   "execution_count": 147,
   "id": "0f716711",
   "metadata": {
    "ExecuteTime": {
     "end_time": "2022-04-13T15:14:53.253107Z",
     "start_time": "2022-04-13T15:14:53.237103Z"
    }
   },
   "outputs": [],
   "source": [
    "popa['scoda'].predict(test.drop(['price','brand','sell_id'],axis='columns')[:200]);"
   ]
  },
  {
   "cell_type": "code",
   "execution_count": 156,
   "id": "e1031c34",
   "metadata": {
    "ExecuteTime": {
     "end_time": "2022-04-13T15:17:58.462355Z",
     "start_time": "2022-04-13T15:17:57.692486Z"
    }
   },
   "outputs": [],
   "source": [
    "a = [tree.DecisionTreeRegressor(max_depth=None, max_features=None).fit(train.drop(['price','brand','sell_id'],axis='columns'),train.price)]\n"
   ]
  },
  {
   "cell_type": "code",
   "execution_count": 182,
   "id": "7ae4db09",
   "metadata": {
    "ExecuteTime": {
     "end_time": "2022-04-13T16:57:07.299967Z",
     "start_time": "2022-04-13T16:57:07.288965Z"
    }
   },
   "outputs": [],
   "source": [
    "lil_pred = pd.read_pickle('lil_pred.pickle')"
   ]
  },
  {
   "cell_type": "code",
   "execution_count": 179,
   "id": "3d8e6913",
   "metadata": {
    "ExecuteTime": {
     "end_time": "2022-04-13T16:53:43.472842Z",
     "start_time": "2022-04-13T16:53:43.456838Z"
    }
   },
   "outputs": [],
   "source": [
    "big_pred = pd.Series(np.exp(preds))"
   ]
  },
  {
   "cell_type": "code",
   "execution_count": 174,
   "id": "a0e9cedb",
   "metadata": {
    "ExecuteTime": {
     "end_time": "2022-04-13T16:23:39.626353Z",
     "start_time": "2022-04-13T16:23:39.608350Z"
    }
   },
   "outputs": [
    {
     "data": {
      "text/plain": [
       "9.5"
      ]
     },
     "execution_count": 174,
     "metadata": {},
     "output_type": "execute_result"
    }
   ],
   "source": [
    "(12+7+9.5)/3 # способ взаимодействия предсказаний с lil"
   ]
  },
  {
   "cell_type": "code",
   "execution_count": 175,
   "id": "271d19fe",
   "metadata": {
    "ExecuteTime": {
     "end_time": "2022-04-13T16:23:42.399747Z",
     "start_time": "2022-04-13T16:23:42.385744Z"
    }
   },
   "outputs": [
    {
     "data": {
      "text/plain": [
       "(6.25, 7.333333333333333)"
      ]
     },
     "execution_count": 175,
     "metadata": {},
     "output_type": "execute_result"
    }
   ],
   "source": [
    "( ((12+7)/2 )+3)/2, (12+7+3)/3 # регуляция влияния"
   ]
  },
  {
   "cell_type": "code",
   "execution_count": 183,
   "id": "d133ba14",
   "metadata": {
    "ExecuteTime": {
     "end_time": "2022-04-13T16:58:19.597045Z",
     "start_time": "2022-04-13T16:58:19.588034Z"
    }
   },
   "outputs": [],
   "source": [
    "# Cтаршие алгоритмы подсказывают младшему машины, которые он не знает\n",
    "for i in lil_pred[lil_pred==0.36787944117144233].index:\n",
    "    lil_pred.at[i] = (big_pred[i] + price[i])/2"
   ]
  },
  {
   "cell_type": "code",
   "execution_count": 197,
   "id": "b482735d",
   "metadata": {
    "ExecuteTime": {
     "end_time": "2022-04-13T17:02:33.547981Z",
     "start_time": "2022-04-13T17:02:33.535978Z"
    }
   },
   "outputs": [
    {
     "data": {
      "text/plain": [
       "0        1100575026\n",
       "1        1100549428\n",
       "2        1100658222\n",
       "3        1100937408\n",
       "4        1101037972\n",
       "            ...    \n",
       "34681    1101369263\n",
       "34682    1101369581\n",
       "34683    1101364889\n",
       "34684    1101362518\n",
       "34685    1101256068\n",
       "Name: sell_id, Length: 34686, dtype: int64"
      ]
     },
     "execution_count": 197,
     "metadata": {},
     "output_type": "execute_result"
    }
   ],
   "source": []
  },
  {
   "cell_type": "code",
   "execution_count": 203,
   "id": "82d47bef",
   "metadata": {
    "ExecuteTime": {
     "end_time": "2022-04-13T17:08:52.344338Z",
     "start_time": "2022-04-13T17:08:52.289335Z"
    }
   },
   "outputs": [],
   "source": [
    "'''SUBMISSION 3'''\n",
    "prediction = ((lil_pred + big_pred + price)/3).astype('int')\n",
    "prediction.name = 'price'\n",
    "\n",
    "\n",
    "pd.concat([test.sell_id, prediction],axis=1).to_csv(\n",
    "    'submission_3.csv', index=False)"
   ]
  },
  {
   "cell_type": "code",
   "execution_count": 211,
   "id": "77363e88",
   "metadata": {
    "ExecuteTime": {
     "end_time": "2022-04-13T17:20:50.641107Z",
     "start_time": "2022-04-13T17:20:50.585022Z"
    }
   },
   "outputs": [],
   "source": [
    "'''SUBMISSION 4'''\n",
    "prediction = ((lil_pred + big_pred)/2).astype('int')\n",
    "prediction.name = 'price'\n",
    "\n",
    "\n",
    "pd.concat([test.sell_id, prediction],axis=1).to_csv(\n",
    "    'submission_4.csv', index=False)"
   ]
  },
  {
   "cell_type": "code",
   "execution_count": 215,
   "id": "837cb77c",
   "metadata": {
    "ExecuteTime": {
     "end_time": "2022-04-13T17:25:27.804302Z",
     "start_time": "2022-04-13T17:25:27.740279Z"
    }
   },
   "outputs": [],
   "source": [
    "'''SUBMISSION 5'''\n",
    "prediction = (  ( ((price + big_pred)/2) + lil_pred )/2  ).astype('int')\n",
    "prediction.name = 'price'\n",
    "\n",
    "\n",
    "pd.concat([test.sell_id, prediction],axis=1).to_csv(\n",
    "    'submission_5.csv', index=False)"
   ]
  },
  {
   "cell_type": "code",
   "execution_count": 216,
   "id": "d773654d",
   "metadata": {
    "ExecuteTime": {
     "end_time": "2022-04-13T17:25:31.456807Z",
     "start_time": "2022-04-13T17:25:31.403794Z"
    }
   },
   "outputs": [],
   "source": [
    "'''SUBMISSION 6'''\n",
    "prediction = ( (price + lil_pred )/2 ).astype('int')\n",
    "prediction.name = 'price'\n",
    "\n",
    "\n",
    "pd.concat([test.sell_id, prediction],axis=1).to_csv(\n",
    "    'submission_6.csv', index=False)"
   ]
  },
  {
   "cell_type": "code",
   "execution_count": 217,
   "id": "8f476284",
   "metadata": {
    "ExecuteTime": {
     "end_time": "2022-04-13T17:33:01.847859Z",
     "start_time": "2022-04-13T17:33:01.788302Z"
    }
   },
   "outputs": [],
   "source": [
    "'''SUBMISSION 7'''\n",
    "prediction = ( ((big_pred + lil_pred )/2 + lil_pred)/2 ).astype('int')\n",
    "prediction.name = 'price'\n",
    "\n",
    "\n",
    "pd.concat([test.sell_id, prediction],axis=1).to_csv(\n",
    "    'submission_7.csv', index=False)"
   ]
  },
  {
   "cell_type": "code",
   "execution_count": 218,
   "id": "e12760a9",
   "metadata": {
    "ExecuteTime": {
     "end_time": "2022-04-13T17:35:45.289547Z",
     "start_time": "2022-04-13T17:35:45.233040Z"
    }
   },
   "outputs": [],
   "source": [
    "'''SUBMISSION 8'''\n",
    "prediction = (lil_pred).astype('int')\n",
    "prediction.name = 'price'\n",
    "\n",
    "\n",
    "pd.concat([test.sell_id, prediction],axis=1).to_csv(\n",
    "    'submission_8.csv', index=False)"
   ]
  },
  {
   "cell_type": "code",
   "execution_count": 220,
   "id": "32da77c7",
   "metadata": {
    "ExecuteTime": {
     "end_time": "2022-04-13T17:37:01.206344Z",
     "start_time": "2022-04-13T17:37:01.143290Z"
    }
   },
   "outputs": [],
   "source": [
    "'''SUBMISSION 9'''\n",
    "prediction = (big_pred).astype('int')\n",
    "prediction.name = 'price'\n",
    "\n",
    "\n",
    "pd.concat([test.sell_id, prediction],axis=1).to_csv(\n",
    "    'submission_9.csv', index=False)"
   ]
  },
  {
   "cell_type": "code",
   "execution_count": 221,
   "id": "30b704ff",
   "metadata": {
    "ExecuteTime": {
     "end_time": "2022-04-13T17:39:09.238182Z",
     "start_time": "2022-04-13T17:39:09.169991Z"
    }
   },
   "outputs": [],
   "source": [
    "'''SUBMISSION 10'''\n",
    "prediction = (  (  ( (big_pred + lil_pred)/2) + big_pred)/2  ).astype('int')\n",
    "prediction.name = 'price'\n",
    "\n",
    "\n",
    "pd.concat([test.sell_id, prediction],axis=1).to_csv(\n",
    "    'submission_10.csv', index=False)"
   ]
  },
  {
   "cell_type": "markdown",
   "id": "a9e38380",
   "metadata": {},
   "source": [
    "Возможно, что лучше всего заполнять пропуски именно big"
   ]
  },
  {
   "cell_type": "code",
   "execution_count": 224,
   "id": "13c24b02",
   "metadata": {
    "ExecuteTime": {
     "end_time": "2022-04-13T17:44:38.391289Z",
     "start_time": "2022-04-13T17:44:38.322275Z"
    }
   },
   "outputs": [],
   "source": [
    "lil_pred = pd.read_pickle('lil_pred.pickle')\n",
    "\n",
    "for i in lil_pred[lil_pred==0.36787944117144233].index:\n",
    "    lil_pred.at[i] = big_pred[i]\n",
    "    \n",
    "    \n",
    "'''SUBMISSION 11'''\n",
    "prediction = ((lil_pred + big_pred)/2).astype('int')\n",
    "prediction.name = 'price'\n",
    "\n",
    "\n",
    "pd.concat([test.sell_id, prediction],axis=1).to_csv(\n",
    "    'submission_11.csv', index=False)"
   ]
  },
  {
   "cell_type": "markdown",
   "id": "9e931029",
   "metadata": {
    "ExecuteTime": {
     "end_time": "2022-04-13T17:44:06.201110Z",
     "start_time": "2022-04-13T17:44:06.194106Z"
    }
   },
   "source": [
    "Нет, это маловажно"
   ]
  }
 ],
 "metadata": {
  "kernelspec": {
   "display_name": "Python 3 (ipykernel)",
   "language": "python",
   "name": "python3"
  },
  "language_info": {
   "codemirror_mode": {
    "name": "ipython",
    "version": 3
   },
   "file_extension": ".py",
   "mimetype": "text/x-python",
   "name": "python",
   "nbconvert_exporter": "python",
   "pygments_lexer": "ipython3",
   "version": "3.10.4"
  },
  "latex_envs": {
   "LaTeX_envs_menu_present": true,
   "autoclose": false,
   "autocomplete": true,
   "bibliofile": "biblio.bib",
   "cite_by": "apalike",
   "current_citInitial": 1,
   "eqLabelWithNumbers": true,
   "eqNumInitial": 1,
   "hotkeys": {
    "equation": "Ctrl-E",
    "itemize": "Ctrl-I"
   },
   "labels_anchors": false,
   "latex_user_defs": false,
   "report_style_numbering": false,
   "user_envs_cfg": false
  },
  "toc": {
   "base_numbering": 1,
   "nav_menu": {},
   "number_sections": true,
   "sideBar": true,
   "skip_h1_title": false,
   "title_cell": "Table of Contents",
   "title_sidebar": "Contents",
   "toc_cell": false,
   "toc_position": {},
   "toc_section_display": true,
   "toc_window_display": false
  },
  "varInspector": {
   "cols": {
    "lenName": 16,
    "lenType": 16,
    "lenVar": 40
   },
   "kernels_config": {
    "python": {
     "delete_cmd_postfix": "",
     "delete_cmd_prefix": "del ",
     "library": "var_list.py",
     "varRefreshCmd": "print(var_dic_list())"
    },
    "r": {
     "delete_cmd_postfix": ") ",
     "delete_cmd_prefix": "rm(",
     "library": "var_list.r",
     "varRefreshCmd": "cat(var_dic_list()) "
    }
   },
   "types_to_exclude": [
    "module",
    "function",
    "builtin_function_or_method",
    "instance",
    "_Feature"
   ],
   "window_display": false
  }
 },
 "nbformat": 4,
 "nbformat_minor": 5
}
