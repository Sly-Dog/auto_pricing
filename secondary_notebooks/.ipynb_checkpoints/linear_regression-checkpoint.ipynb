{
 "cells": [
  {
   "cell_type": "markdown",
   "id": "1f1eed70",
   "metadata": {},
   "source": [
    "# Почти совсем игрушечный пример"
   ]
  },
  {
   "cell_type": "code",
   "execution_count": 1,
   "id": "95c75a16",
   "metadata": {
    "ExecuteTime": {
     "end_time": "2022-04-05T11:16:12.038955Z",
     "start_time": "2022-04-05T11:16:11.224770Z"
    }
   },
   "outputs": [],
   "source": [
    "import pandas as pd\n",
    "from sklearn.model_selection import train_test_split\n",
    "from sklearn.linear_model import LogisticRegression"
   ]
  },
  {
   "cell_type": "code",
   "execution_count": 2,
   "id": "2cc023e8",
   "metadata": {
    "ExecuteTime": {
     "end_time": "2022-04-05T11:16:12.612973Z",
     "start_time": "2022-04-05T11:16:12.039955Z"
    }
   },
   "outputs": [],
   "source": [
    "%store -r train_mod\n",
    "%store -r test_mod"
   ]
  },
  {
   "cell_type": "code",
   "execution_count": 3,
   "id": "7a02d9ed",
   "metadata": {
    "ExecuteTime": {
     "end_time": "2022-04-05T11:16:12.627963Z",
     "start_time": "2022-04-05T11:16:12.613961Z"
    }
   },
   "outputs": [
    {
     "data": {
      "text/plain": [
       "47662"
      ]
     },
     "execution_count": 3,
     "metadata": {},
     "output_type": "execute_result"
    }
   ],
   "source": [
    "len(train_mod)"
   ]
  },
  {
   "cell_type": "code",
   "execution_count": 4,
   "id": "b29efd6b",
   "metadata": {
    "ExecuteTime": {
     "end_time": "2022-04-05T11:16:12.658970Z",
     "start_time": "2022-04-05T11:16:12.629965Z"
    }
   },
   "outputs": [
    {
     "data": {
      "text/html": [
       "<div>\n",
       "<style scoped>\n",
       "    .dataframe tbody tr th:only-of-type {\n",
       "        vertical-align: middle;\n",
       "    }\n",
       "\n",
       "    .dataframe tbody tr th {\n",
       "        vertical-align: top;\n",
       "    }\n",
       "\n",
       "    .dataframe thead th {\n",
       "        text-align: right;\n",
       "    }\n",
       "</style>\n",
       "<table border=\"1\" class=\"dataframe\">\n",
       "  <thead>\n",
       "    <tr style=\"text-align: right;\">\n",
       "      <th></th>\n",
       "      <th>bodyType</th>\n",
       "      <th>brand</th>\n",
       "      <th>color</th>\n",
       "      <th>fuelType</th>\n",
       "      <th>modelDate</th>\n",
       "      <th>name</th>\n",
       "      <th>numberOfDoors</th>\n",
       "      <th>productionDate</th>\n",
       "      <th>vehicleConfiguration</th>\n",
       "      <th>vehicleTransmission</th>\n",
       "      <th>engineDisplacement</th>\n",
       "      <th>enginePower</th>\n",
       "      <th>description</th>\n",
       "      <th>mileage</th>\n",
       "      <th>Комплектация</th>\n",
       "      <th>Привод</th>\n",
       "      <th>Руль</th>\n",
       "      <th>Состояние</th>\n",
       "      <th>Владельцы</th>\n",
       "      <th>ПТС</th>\n",
       "      <th>Таможня</th>\n",
       "      <th>Владение</th>\n",
       "      <th>price</th>\n",
       "      <th>start_date</th>\n",
       "      <th>hidden</th>\n",
       "      <th>model_name</th>\n",
       "    </tr>\n",
       "  </thead>\n",
       "  <tbody>\n",
       "    <tr>\n",
       "      <th>0</th>\n",
       "      <td>Седан</td>\n",
       "      <td>AUDI</td>\n",
       "      <td>040001</td>\n",
       "      <td>бензин</td>\n",
       "      <td>1990</td>\n",
       "      <td>2.8 MT (174 л.с.) 4WD</td>\n",
       "      <td>4</td>\n",
       "      <td>1991</td>\n",
       "      <td>SEDAN MECHANICAL 2.8</td>\n",
       "      <td>MECHANICAL</td>\n",
       "      <td>2.8</td>\n",
       "      <td>174</td>\n",
       "      <td>Машина  в приличном состоянии ,не гнилая не р...</td>\n",
       "      <td>350000</td>\n",
       "      <td>{'id': '0'}</td>\n",
       "      <td>полный</td>\n",
       "      <td>LEFT</td>\n",
       "      <td>NaN</td>\n",
       "      <td>3</td>\n",
       "      <td>ORIGINAL</td>\n",
       "      <td>True</td>\n",
       "      <td>NaN</td>\n",
       "      <td>200000.0</td>\n",
       "      <td>2019-10-03T08:09:11Z</td>\n",
       "      <td>NaN</td>\n",
       "      <td>100</td>\n",
       "    </tr>\n",
       "    <tr>\n",
       "      <th>1</th>\n",
       "      <td>Седан</td>\n",
       "      <td>AUDI</td>\n",
       "      <td>EE1D19</td>\n",
       "      <td>бензин</td>\n",
       "      <td>1982</td>\n",
       "      <td>1.8 MT (90 л.с.)</td>\n",
       "      <td>4</td>\n",
       "      <td>1986</td>\n",
       "      <td>SEDAN MECHANICAL 1.8</td>\n",
       "      <td>MECHANICAL</td>\n",
       "      <td>1.8</td>\n",
       "      <td>90</td>\n",
       "      <td>Машина в оригинале не гнилая все вопросы по те...</td>\n",
       "      <td>173424</td>\n",
       "      <td>{'id': '0'}</td>\n",
       "      <td>передний</td>\n",
       "      <td>LEFT</td>\n",
       "      <td>NaN</td>\n",
       "      <td>3</td>\n",
       "      <td>ORIGINAL</td>\n",
       "      <td>True</td>\n",
       "      <td>NaN</td>\n",
       "      <td>60000.0</td>\n",
       "      <td>2020-09-06T06:49:40Z</td>\n",
       "      <td>NaN</td>\n",
       "      <td>100</td>\n",
       "    </tr>\n",
       "    <tr>\n",
       "      <th>2</th>\n",
       "      <td>Универсал 5 дв.</td>\n",
       "      <td>AUDI</td>\n",
       "      <td>0000CC</td>\n",
       "      <td>бензин</td>\n",
       "      <td>1988</td>\n",
       "      <td>2.3 MT (136 л.с.) 4WD</td>\n",
       "      <td>5</td>\n",
       "      <td>1989</td>\n",
       "      <td>WAGON_5_DOORS MECHANICAL 2.3</td>\n",
       "      <td>MECHANICAL</td>\n",
       "      <td>2.3</td>\n",
       "      <td>136</td>\n",
       "      <td>ПТС Оригинал!\\nПолный комплект ключей!\\nПо рез...</td>\n",
       "      <td>230000</td>\n",
       "      <td>{'id': '0'}</td>\n",
       "      <td>полный</td>\n",
       "      <td>LEFT</td>\n",
       "      <td>NaN</td>\n",
       "      <td>3</td>\n",
       "      <td>ORIGINAL</td>\n",
       "      <td>True</td>\n",
       "      <td>NaN</td>\n",
       "      <td>99000.0</td>\n",
       "      <td>2020-09-02T14:04:21Z</td>\n",
       "      <td>NaN</td>\n",
       "      <td>100</td>\n",
       "    </tr>\n",
       "    <tr>\n",
       "      <th>3</th>\n",
       "      <td>Седан</td>\n",
       "      <td>AUDI</td>\n",
       "      <td>CACECB</td>\n",
       "      <td>бензин</td>\n",
       "      <td>1988</td>\n",
       "      <td>1.8 MT (90 л.с.)</td>\n",
       "      <td>4</td>\n",
       "      <td>1989</td>\n",
       "      <td>SEDAN MECHANICAL 1.8</td>\n",
       "      <td>MECHANICAL</td>\n",
       "      <td>1.8</td>\n",
       "      <td>90</td>\n",
       "      <td>NaN</td>\n",
       "      <td>240000</td>\n",
       "      <td>{'id': '0'}</td>\n",
       "      <td>передний</td>\n",
       "      <td>LEFT</td>\n",
       "      <td>NaN</td>\n",
       "      <td>3</td>\n",
       "      <td>ORIGINAL</td>\n",
       "      <td>True</td>\n",
       "      <td>NaN</td>\n",
       "      <td>65000.0</td>\n",
       "      <td>2020-08-23T17:40:09Z</td>\n",
       "      <td>NaN</td>\n",
       "      <td>100</td>\n",
       "    </tr>\n",
       "    <tr>\n",
       "      <th>4</th>\n",
       "      <td>Седан</td>\n",
       "      <td>AUDI</td>\n",
       "      <td>040001</td>\n",
       "      <td>бензин</td>\n",
       "      <td>1990</td>\n",
       "      <td>2.0 MT (101 л.с.)</td>\n",
       "      <td>4</td>\n",
       "      <td>1991</td>\n",
       "      <td>SEDAN MECHANICAL 2.0</td>\n",
       "      <td>MECHANICAL</td>\n",
       "      <td>2.0</td>\n",
       "      <td>101</td>\n",
       "      <td>Машина не гнилая, дыр нет, днище целое, даже в...</td>\n",
       "      <td>300000</td>\n",
       "      <td>{'id': '0'}</td>\n",
       "      <td>передний</td>\n",
       "      <td>LEFT</td>\n",
       "      <td>NaN</td>\n",
       "      <td>3</td>\n",
       "      <td>DUPLICATE</td>\n",
       "      <td>True</td>\n",
       "      <td>NaN</td>\n",
       "      <td>100000.0</td>\n",
       "      <td>2020-09-08T09:22:07Z</td>\n",
       "      <td>NaN</td>\n",
       "      <td>100</td>\n",
       "    </tr>\n",
       "  </tbody>\n",
       "</table>\n",
       "</div>"
      ],
      "text/plain": [
       "          bodyType brand   color fuelType  modelDate                   name  \\\n",
       "0            Седан  AUDI  040001   бензин       1990  2.8 MT (174 л.с.) 4WD   \n",
       "1            Седан  AUDI  EE1D19   бензин       1982       1.8 MT (90 л.с.)   \n",
       "2  Универсал 5 дв.  AUDI  0000CC   бензин       1988  2.3 MT (136 л.с.) 4WD   \n",
       "3            Седан  AUDI  CACECB   бензин       1988       1.8 MT (90 л.с.)   \n",
       "4            Седан  AUDI  040001   бензин       1990      2.0 MT (101 л.с.)   \n",
       "\n",
       "   numberOfDoors  productionDate          vehicleConfiguration  \\\n",
       "0              4            1991          SEDAN MECHANICAL 2.8   \n",
       "1              4            1986          SEDAN MECHANICAL 1.8   \n",
       "2              5            1989  WAGON_5_DOORS MECHANICAL 2.3   \n",
       "3              4            1989          SEDAN MECHANICAL 1.8   \n",
       "4              4            1991          SEDAN MECHANICAL 2.0   \n",
       "\n",
       "  vehicleTransmission  engineDisplacement  enginePower  \\\n",
       "0          MECHANICAL                 2.8          174   \n",
       "1          MECHANICAL                 1.8           90   \n",
       "2          MECHANICAL                 2.3          136   \n",
       "3          MECHANICAL                 1.8           90   \n",
       "4          MECHANICAL                 2.0          101   \n",
       "\n",
       "                                         description  mileage Комплектация  \\\n",
       "0   Машина  в приличном состоянии ,не гнилая не р...   350000  {'id': '0'}   \n",
       "1  Машина в оригинале не гнилая все вопросы по те...   173424  {'id': '0'}   \n",
       "2  ПТС Оригинал!\\nПолный комплект ключей!\\nПо рез...   230000  {'id': '0'}   \n",
       "3                                                NaN   240000  {'id': '0'}   \n",
       "4  Машина не гнилая, дыр нет, днище целое, даже в...   300000  {'id': '0'}   \n",
       "\n",
       "     Привод  Руль  Состояние  Владельцы        ПТС  Таможня Владение  \\\n",
       "0    полный  LEFT        NaN          3   ORIGINAL     True      NaN   \n",
       "1  передний  LEFT        NaN          3   ORIGINAL     True      NaN   \n",
       "2    полный  LEFT        NaN          3   ORIGINAL     True      NaN   \n",
       "3  передний  LEFT        NaN          3   ORIGINAL     True      NaN   \n",
       "4  передний  LEFT        NaN          3  DUPLICATE     True      NaN   \n",
       "\n",
       "      price            start_date  hidden model_name  \n",
       "0  200000.0  2019-10-03T08:09:11Z     NaN        100  \n",
       "1   60000.0  2020-09-06T06:49:40Z     NaN        100  \n",
       "2   99000.0  2020-09-02T14:04:21Z     NaN        100  \n",
       "3   65000.0  2020-08-23T17:40:09Z     NaN        100  \n",
       "4  100000.0  2020-09-08T09:22:07Z     NaN        100  "
      ]
     },
     "execution_count": 4,
     "metadata": {},
     "output_type": "execute_result"
    }
   ],
   "source": [
    "pd.set_option('display.max_columns', None) # выведет все колонки\n",
    "train_mod.head()"
   ]
  },
  {
   "cell_type": "code",
   "execution_count": 5,
   "id": "906664bd",
   "metadata": {
    "ExecuteTime": {
     "end_time": "2022-04-05T11:16:12.674840Z",
     "start_time": "2022-04-05T11:16:12.659972Z"
    }
   },
   "outputs": [],
   "source": [
    "needed_columns = ['modelDate','productionDate','enginePower',\n",
    "                  'price','Владельцы','engineDisplacement']"
   ]
  },
  {
   "cell_type": "code",
   "execution_count": 29,
   "id": "8111dfac",
   "metadata": {
    "ExecuteTime": {
     "end_time": "2022-04-05T11:22:23.764043Z",
     "start_time": "2022-04-05T11:22:23.755041Z"
    }
   },
   "outputs": [],
   "source": [
    "data = train_mod[needed_columns].dropna()\n",
    "y = data.price\n",
    "X = data.drop(['price'],axis='columns')"
   ]
  },
  {
   "cell_type": "code",
   "execution_count": 31,
   "id": "ab2aa55e",
   "metadata": {
    "ExecuteTime": {
     "end_time": "2022-04-05T11:22:25.452066Z",
     "start_time": "2022-04-05T11:22:25.444073Z"
    }
   },
   "outputs": [],
   "source": [
    "X_train, X_test, y_train, y_test = train_test_split(X, y, test_size=0.33, random_state=42)"
   ]
  },
  {
   "cell_type": "code",
   "execution_count": 34,
   "id": "3368c1b2",
   "metadata": {
    "ExecuteTime": {
     "end_time": "2022-04-05T11:26:50.217010Z",
     "start_time": "2022-04-05T11:24:59.697013Z"
    }
   },
   "outputs": [
    {
     "name": "stderr",
     "output_type": "stream",
     "text": [
      "C:\\Users\\zetet\\AppData\\Local\\Programs\\Python\\Python310\\lib\\site-packages\\sklearn\\linear_model\\_logistic.py:814: ConvergenceWarning: lbfgs failed to converge (status=1):\n",
      "STOP: TOTAL NO. of ITERATIONS REACHED LIMIT.\n",
      "\n",
      "Increase the number of iterations (max_iter) or scale the data as shown in:\n",
      "    https://scikit-learn.org/stable/modules/preprocessing.html\n",
      "Please also refer to the documentation for alternative solver options:\n",
      "    https://scikit-learn.org/stable/modules/linear_model.html#logistic-regression\n",
      "  n_iter_i = _check_optimize_result(\n"
     ]
    }
   ],
   "source": [
    "popka = LogisticRegression().fit(X_train, y_train) # 2 минуты"
   ]
  },
  {
   "cell_type": "code",
   "execution_count": 40,
   "id": "877c0460",
   "metadata": {
    "ExecuteTime": {
     "end_time": "2022-04-05T11:42:14.203170Z",
     "start_time": "2022-04-05T11:42:14.091453Z"
    }
   },
   "outputs": [],
   "source": [
    "pred = popka.predict(X_test)"
   ]
  },
  {
   "cell_type": "code",
   "execution_count": 44,
   "id": "0b4f5b74",
   "metadata": {
    "ExecuteTime": {
     "end_time": "2022-04-05T11:43:09.669597Z",
     "start_time": "2022-04-05T11:43:09.662595Z"
    }
   },
   "outputs": [
    {
     "data": {
      "text/plain": [
       "450000.0     3409\n",
       "650000.0     2752\n",
       "250000.0     1858\n",
       "1500000.0      95\n",
       "1100000.0      75\n",
       "2500000.0      69\n",
       "1800000.0      56\n",
       "1350000.0      41\n",
       "950000.0       31\n",
       "350000.0        9\n",
       "dtype: int64"
      ]
     },
     "execution_count": 44,
     "metadata": {},
     "output_type": "execute_result"
    }
   ],
   "source": [
    "pd.Series(pred).value_counts()"
   ]
  },
  {
   "cell_type": "code",
   "execution_count": 102,
   "id": "7037e24b",
   "metadata": {
    "ExecuteTime": {
     "end_time": "2022-04-05T12:01:39.896260Z",
     "start_time": "2022-04-05T12:01:39.733876Z"
    }
   },
   "outputs": [
    {
     "name": "stdout",
     "output_type": "stream",
     "text": [
      "0.6045385103717683 - В среднем во сколько раз значение таргета больше или меньше предсказания\n"
     ]
    }
   ],
   "source": [
    "\n",
    "y_test = pd.Series(y_test)\n",
    "pred = pd.Series(pred)\n",
    "\n",
    "lst=[]\n",
    "for idx in range(len(pd.Series(pred))):\n",
    "    lst.append((((y_test.iloc[idx]) - (pred.iloc[idx]))/y_test.iloc[idx])**2) \n",
    "    \n",
    "print(sum(pd.Series(lst)**(1/2))/len(lst) ,\n",
    "      '- В среднем во сколько раз значение таргета больше или меньше предсказания')"
   ]
  },
  {
   "cell_type": "markdown",
   "id": "388369f5",
   "metadata": {},
   "source": [
    "## Доработки\n",
    "Можно использовать линейную регрессию в ансамбле. Таким образом, чтобы она по численным признакам переменных корректировала показатель основной модели с постоянным весом. То есть основная модель делает неплохой прогноз на большие числа, а линейная регрессия слегка изменяет оценку в сторону правильного результата."
   ]
  }
 ],
 "metadata": {
  "kernelspec": {
   "display_name": "Python 3 (ipykernel)",
   "language": "python",
   "name": "python3"
  },
  "language_info": {
   "codemirror_mode": {
    "name": "ipython",
    "version": 3
   },
   "file_extension": ".py",
   "mimetype": "text/x-python",
   "name": "python",
   "nbconvert_exporter": "python",
   "pygments_lexer": "ipython3",
   "version": "3.10.2"
  },
  "latex_envs": {
   "LaTeX_envs_menu_present": true,
   "autoclose": false,
   "autocomplete": true,
   "bibliofile": "biblio.bib",
   "cite_by": "apalike",
   "current_citInitial": 1,
   "eqLabelWithNumbers": true,
   "eqNumInitial": 1,
   "hotkeys": {
    "equation": "Ctrl-E",
    "itemize": "Ctrl-I"
   },
   "labels_anchors": false,
   "latex_user_defs": false,
   "report_style_numbering": false,
   "user_envs_cfg": false
  },
  "toc": {
   "base_numbering": 1,
   "nav_menu": {},
   "number_sections": true,
   "sideBar": true,
   "skip_h1_title": false,
   "title_cell": "Table of Contents",
   "title_sidebar": "Contents",
   "toc_cell": false,
   "toc_position": {},
   "toc_section_display": true,
   "toc_window_display": false
  },
  "varInspector": {
   "cols": {
    "lenName": 16,
    "lenType": 16,
    "lenVar": 40
   },
   "kernels_config": {
    "python": {
     "delete_cmd_postfix": "",
     "delete_cmd_prefix": "del ",
     "library": "var_list.py",
     "varRefreshCmd": "print(var_dic_list())"
    },
    "r": {
     "delete_cmd_postfix": ") ",
     "delete_cmd_prefix": "rm(",
     "library": "var_list.r",
     "varRefreshCmd": "cat(var_dic_list()) "
    }
   },
   "types_to_exclude": [
    "module",
    "function",
    "builtin_function_or_method",
    "instance",
    "_Feature"
   ],
   "window_display": false
  }
 },
 "nbformat": 4,
 "nbformat_minor": 5
}
