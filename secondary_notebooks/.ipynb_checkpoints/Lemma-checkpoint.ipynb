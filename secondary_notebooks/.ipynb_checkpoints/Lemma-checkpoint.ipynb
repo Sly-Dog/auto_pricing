{
 "cells": [
  {
   "cell_type": "markdown",
   "id": "7f60c91b",
   "metadata": {},
   "source": [
    "# Ноутбук лемматизации. ОСТОРОЖНО, НАГРУЗКА НА ПАМЯТЬ\n",
    "По сути требует мелкой доработки, чтобы обрабатывался не один огромный тескт, а несколько поменьше. В таком виде как сейчас - неисправен"
   ]
  },
  {
   "cell_type": "code",
   "execution_count": null,
   "id": "08269e81",
   "metadata": {},
   "outputs": [],
   "source": [
    "%store -r train \n",
    "%store -r test"
   ]
  },
  {
   "cell_type": "code",
   "execution_count": null,
   "id": "ab0ef6f2",
   "metadata": {},
   "outputs": [],
   "source": [
    "#!pip install pymystem3"
   ]
  },
  {
   "cell_type": "code",
   "execution_count": null,
   "id": "bfdfa852",
   "metadata": {},
   "outputs": [],
   "source": [
    "import pymystem3\n",
    "import re\n",
    "import pandas as pd"
   ]
  },
  {
   "cell_type": "code",
   "execution_count": null,
   "id": "d3b0b36b",
   "metadata": {},
   "outputs": [],
   "source": [
    "m = pymystem3.Mystem()"
   ]
  },
  {
   "cell_type": "code",
   "execution_count": null,
   "id": "aed4e4e9",
   "metadata": {},
   "outputs": [],
   "source": [
    "test_mod['TEST'] = 1\n",
    "train_mod['TEST'] = 0"
   ]
  },
  {
   "cell_type": "code",
   "execution_count": null,
   "id": "ea7596c0",
   "metadata": {},
   "outputs": [],
   "source": [
    "whole_data = train_mod.append(test_mod, ignore_index=True)"
   ]
  },
  {
   "cell_type": "code",
   "execution_count": null,
   "id": "fd858ee1",
   "metadata": {},
   "outputs": [],
   "source": [
    "#Очистить текст описания\n",
    "def clean_description(x):\n",
    "    x = re.sub(r\"[0-9a-za]+\",'' ,x.lower())\n",
    "    x = re.sub(r\"[^\\w]\", ' ', x)\n",
    "    return \" \".join(re.findall(r\"[а-яё]+\", x))"
   ]
  },
  {
   "cell_type": "code",
   "execution_count": null,
   "id": "2a5ec769",
   "metadata": {},
   "outputs": [],
   "source": [
    "desc_series = whole_data['description'].copy()\n",
    "desc_series.fillna(' ', inplace = True) #Заполняю пропуски в серии пробелами (чтобы потом правильно прочитать файл) \n",
    "desc_series = desc_series.apply(clean_description)"
   ]
  },
  {
   "cell_type": "code",
   "execution_count": null,
   "id": "2d3a4e0a",
   "metadata": {},
   "outputs": [],
   "source": [
    "#Пишу все описания в один файл с разделителем 'end'\n",
    "raw_description = open('raw_description.txt', 'w', encoding='utf-8')\n",
    "for i in range(len(desc_series)):\n",
    "    raw_description.write(desc_series[i]+'end')\n",
    "    i += 1\n",
    "raw_description.close()   "
   ]
  },
  {
   "cell_type": "code",
   "execution_count": null,
   "id": "fd855ad8",
   "metadata": {},
   "outputs": [],
   "source": [
    "#А вот это самое главное и долгое\n",
    "InFile = open('raw_description.txt', 'r', encoding='utf-8')\n",
    "OutFile = open('descriptions_lemmatized.txt', 'w', encoding='utf-8')\n",
    "for line in InFile:\n",
    "    OutFile.write(\"\".join(m.lemmatize(line)))\n",
    "OutFile.close()"
   ]
  }
 ],
 "metadata": {
  "kernelspec": {
   "display_name": "Python 3 (ipykernel)",
   "language": "python",
   "name": "python3"
  },
  "language_info": {
   "codemirror_mode": {
    "name": "ipython",
    "version": 3
   },
   "file_extension": ".py",
   "mimetype": "text/x-python",
   "name": "python",
   "nbconvert_exporter": "python",
   "pygments_lexer": "ipython3",
   "version": "3.10.4"
  },
  "latex_envs": {
   "LaTeX_envs_menu_present": true,
   "autoclose": false,
   "autocomplete": true,
   "bibliofile": "biblio.bib",
   "cite_by": "apalike",
   "current_citInitial": 1,
   "eqLabelWithNumbers": true,
   "eqNumInitial": 1,
   "hotkeys": {
    "equation": "Ctrl-E",
    "itemize": "Ctrl-I"
   },
   "labels_anchors": false,
   "latex_user_defs": false,
   "report_style_numbering": false,
   "user_envs_cfg": false
  },
  "toc": {
   "base_numbering": 1,
   "nav_menu": {},
   "number_sections": true,
   "sideBar": true,
   "skip_h1_title": false,
   "title_cell": "Table of Contents",
   "title_sidebar": "Contents",
   "toc_cell": false,
   "toc_position": {},
   "toc_section_display": true,
   "toc_window_display": false
  },
  "varInspector": {
   "cols": {
    "lenName": 16,
    "lenType": 16,
    "lenVar": 40
   },
   "kernels_config": {
    "python": {
     "delete_cmd_postfix": "",
     "delete_cmd_prefix": "del ",
     "library": "var_list.py",
     "varRefreshCmd": "print(var_dic_list())"
    },
    "r": {
     "delete_cmd_postfix": ") ",
     "delete_cmd_prefix": "rm(",
     "library": "var_list.r",
     "varRefreshCmd": "cat(var_dic_list()) "
    }
   },
   "types_to_exclude": [
    "module",
    "function",
    "builtin_function_or_method",
    "instance",
    "_Feature"
   ],
   "window_display": false
  }
 },
 "nbformat": 4,
 "nbformat_minor": 5
}
