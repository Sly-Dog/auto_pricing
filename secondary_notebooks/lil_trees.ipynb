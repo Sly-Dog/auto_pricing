{
 "cells": [
  {
   "cell_type": "markdown",
   "id": "8fe2564b",
   "metadata": {},
   "source": [
    "# lil_trees\n",
    "Фундаментальная модель в ансамбле\n",
    "\n",
    "Изучив специфику авторынка стало понятно, что бренд и модель - названия, не имеюще общих правил. Поэтому модель их может использовать только в качетсве dummy переменных. Но 500 с лишним категориальных редких переменных оказались слишком большим количеством для одной модели, предсказания портятся. Поэтому я решил разделить их специфику по моделям. Тут становится интереснее. Оказывается автомобили одной и той же модели, но разных комплектаций могут кратно отличаться в цене. Исходя из этого инсайта я понял, что можно сравнивать автомобили только в рамках одной модели. Этим и будет заниматься lil_trees\n",
    "\n",
    "Оказалось, что в датасете множество машин одной и той же модели, более того, в тренировочном датасете оказалось 98% наименований моделей, покрывающие наименования тестового датасета. Исходя из этого, lil_trees будет иметь главный решающий голос в ансамбле в случаях, когда модель машины ему хорошо известна. Но это только при хорошей оптимизации.\n",
    "\n",
    "Данная модель имеет недостаток - данных по одной модели может быть слишком мало, поэтому lil_trees работает в связке с [big_trees](./big_trees.ipynb), которая восполняет недостаток в данных."
   ]
  },
  {
   "cell_type": "markdown",
   "id": "c014bb8e",
   "metadata": {},
   "source": [
    "## Data"
   ]
  },
  {
   "cell_type": "code",
   "execution_count": 1,
   "id": "b7bb8cc1",
   "metadata": {
    "ExecuteTime": {
     "end_time": "2022-04-15T21:09:11.883951Z",
     "start_time": "2022-04-15T21:09:11.035576Z"
    }
   },
   "outputs": [],
   "source": [
    "import pandas as pd\n",
    "import numpy as np\n",
    "\n",
    "from sklearn import tree                             \n",
    "from sklearn.model_selection import train_test_split"
   ]
  },
  {
   "cell_type": "code",
   "execution_count": 2,
   "id": "7f435029",
   "metadata": {
    "ExecuteTime": {
     "end_time": "2022-04-15T21:09:12.619851Z",
     "start_time": "2022-04-15T21:09:11.883951Z"
    }
   },
   "outputs": [],
   "source": [
    "%store -r df\n",
    "\n",
    "df = pd.concat(\n",
    "[df[['brand','model_name','sell_id','price','engineDisplacement', 'enginePower','mileage','car_age', 'model_product_time']] ,\n",
    "pd.get_dummies(df.bodyType,prefix='bodyType'),\n",
    "pd.get_dummies(df.fuelType,prefix='fuelType'),\n",
    "pd.get_dummies(df.vehicleTransmission,prefix='vehicleTransmission'),\n",
    "pd.get_dummies(df.Привод,prefix='Привод'),\n",
    "pd.get_dummies(df.Владельцы,prefix='Владельцы'),\n",
    "pd.get_dummies(df.Владение,prefix='Владение'),\n",
    "pd.get_dummies(df.color,prefix='color'),\n",
    "pd.get_dummies(df.ПТС,prefix='ПТС'),\n",
    "pd.get_dummies(df.Руль,prefix='Руль'),\n",
    "pd.get_dummies(df.numberOfDoors,prefix='numberOfDoors'),],axis=1)\n",
    "\n",
    "test = df[df.price==-1]\n",
    "train = df[df.price!=-1]"
   ]
  },
  {
   "cell_type": "markdown",
   "id": "cb563d88",
   "metadata": {},
   "source": [
    "## Func"
   ]
  },
  {
   "cell_type": "code",
   "execution_count": 3,
   "id": "abb8f9bc",
   "metadata": {
    "ExecuteTime": {
     "end_time": "2022-04-15T21:09:12.635794Z",
     "start_time": "2022-04-15T21:09:12.620852Z"
    }
   },
   "outputs": [],
   "source": [
    "'''Изменяет неуникальные названия моделей в соответствие брендам'''\n",
    "def change_name_to_unique(df):\n",
    "    df_non_unique = df[\n",
    "        df.model_name.isin(valco_non_unique.index)]\n",
    "\n",
    "    for i in df_non_unique.index:\n",
    "        df.at[i,'model_name'] = \\\n",
    "        df.iloc[i].brand + '_' + df.iloc[i].model_name"
   ]
  },
  {
   "cell_type": "markdown",
   "id": "7f0e6117",
   "metadata": {},
   "source": [
    "Для этой модели потребуется сократить разновидности моделей в тренировочной выборки до соответствия их тестовой"
   ]
  },
  {
   "cell_type": "markdown",
   "id": "5192913a",
   "metadata": {},
   "source": [
    "## Предобработка"
   ]
  },
  {
   "cell_type": "code",
   "execution_count": 4,
   "id": "1003bc80",
   "metadata": {
    "ExecuteTime": {
     "end_time": "2022-04-15T21:09:12.667803Z",
     "start_time": "2022-04-15T21:09:12.637793Z"
    }
   },
   "outputs": [
    {
     "name": "stdout",
     "output_type": "stream",
     "text": [
      "544 - количество уникальных моделей \n",
      "544 - количествоуникальных моделей с привязкой к бренду\n",
      "\n",
      "названия моделей в тестовом датасете - уникальны для всех предоставленных брендов\n"
     ]
    }
   ],
   "source": [
    "print(f'''{test.model_name.nunique()} - количество уникальных моделей \n",
    "{len(test.groupby(['brand','model_name']).count())} - количество\\\n",
    "уникальных моделей с привязкой к бренду\n",
    "\n",
    "названия моделей в тестовом датасете - \\\n",
    "уникальны для всех предоставленных брендов''')"
   ]
  },
  {
   "cell_type": "code",
   "execution_count": 5,
   "id": "a8edc9a0",
   "metadata": {
    "ExecuteTime": {
     "end_time": "2022-04-15T21:09:12.715369Z",
     "start_time": "2022-04-15T21:09:12.668806Z"
    }
   },
   "outputs": [
    {
     "name": "stdout",
     "output_type": "stream",
     "text": [
      "1086 - количество уникальных моделей \n",
      "1105 - количествоуникальных моделей с привязкой к бренду\n",
      "\n",
      "20 моделей из тренировочного датасета из разных брендов имеют одинаковое название\n"
     ]
    }
   ],
   "source": [
    "print(f'''{train.model_name.nunique()} - количество уникальных моделей \n",
    "{len(train.groupby(['brand','model_name']).count())} - количество\\\n",
    "уникальных моделей с привязкой к бренду\n",
    "\n",
    "20 моделей из тренировочного датасета из разных брендов имеют одинаковое название''')"
   ]
  },
  {
   "cell_type": "code",
   "execution_count": 6,
   "id": "b58ffb6e",
   "metadata": {
    "ExecuteTime": {
     "end_time": "2022-04-15T21:09:12.937565Z",
     "start_time": "2022-04-15T21:09:12.716371Z"
    }
   },
   "outputs": [],
   "source": [
    "### Исключает модели, которых нет в тестовом датасете ###\n",
    "filtered_train = train[train.model_name.isin(test.model_name.unique())\n",
    "                      ].reset_index(drop=True)\n",
    "\n",
    "\n",
    "\n",
    "'''  Делаем неуникальные для разных брендов названия моделей - уникальными  '''\n",
    "###############################################################################\n",
    "grouped_ft = filtered_train.groupby(['brand','model_name']).count()\n",
    "\n",
    "valco_non_unique = grouped_ft.reset_index(level=1).model_name.value_counts()[\n",
    "    grouped_ft.reset_index(level=1).model_name.value_counts()!=1]\n",
    "\n",
    "\n",
    "change_name_to_unique(filtered_train)\n",
    "change_name_to_unique(test)\n",
    "\n",
    "### Удаляет модели в трейне, которых нет в тесте после уточнения модели брендом\n",
    "models_to_drop = (set(filtered_train.model_name.unique()) -set(test.model_name.unique()))\n",
    "index_to_drop = filtered_train[filtered_train.model_name.isin(models_to_drop)].index\n",
    "\n",
    "filtered_train.drop(index_to_drop,inplace=True)\n",
    "###############################################################################\n"
   ]
  },
  {
   "cell_type": "code",
   "execution_count": 7,
   "id": "e8d46c3d",
   "metadata": {
    "ExecuteTime": {
     "end_time": "2022-04-15T21:09:12.953569Z",
     "start_time": "2022-04-15T21:09:12.938567Z"
    }
   },
   "outputs": [
    {
     "data": {
      "text/plain": [
       "['ARTEON',\n",
       " 'OTTI',\n",
       " 'PRESEA',\n",
       " 'POLO_GTI',\n",
       " 'LANCER_RALLIART',\n",
       " 'X4_M',\n",
       " 'LM',\n",
       " 'TORNEO',\n",
       " 'RSQ3',\n",
       " 'IST',\n",
       " 'ZEST',\n",
       " 'GOLF_R32',\n",
       " 'SPARKY',\n",
       " 'WILL_CYPHA',\n",
       " 'PORTE',\n",
       " 'Z',\n",
       " 'COROLLA_II',\n",
       " '300ZX']"
      ]
     },
     "metadata": {},
     "output_type": "display_data"
    },
    {
     "name": "stdout",
     "output_type": "stream",
     "text": [
      "18 Моделей из тестового датасета нет в тренировочном\n"
     ]
    }
   ],
   "source": [
    "unknown = list(set(test.model_name.unique())- set(filtered_train.model_name.unique()))\n",
    "display(unknown)\n",
    "print('18 Моделей из тестового датасета нет в тренировочном')"
   ]
  },
  {
   "cell_type": "markdown",
   "id": "664c45db",
   "metadata": {},
   "source": [
    "Модель будет специфичной под тренировочный датасет. Далее я разделяю тестовый датасет, но, важно, чтобы при разделении и соединении датасетов не потерялся порядок, в котором идут авто. \n",
    "\n",
    "## Модель"
   ]
  },
  {
   "cell_type": "code",
   "execution_count": 8,
   "id": "7ee9c2ee",
   "metadata": {
    "ExecuteTime": {
     "end_time": "2022-04-15T21:09:12.969666Z",
     "start_time": "2022-04-15T21:09:12.954570Z"
    }
   },
   "outputs": [],
   "source": [
    "price = filtered_train[['price']]\n",
    "for_train = filtered_train.drop(['brand','model_name','price','sell_id'],axis='columns')\n",
    "\n",
    "for_pred = test.drop(['brand','model_name','price','sell_id'],axis='columns')"
   ]
  },
  {
   "cell_type": "code",
   "execution_count": 9,
   "id": "0113af30",
   "metadata": {
    "ExecuteTime": {
     "end_time": "2022-04-15T21:09:16.882739Z",
     "start_time": "2022-04-15T21:09:12.970667Z"
    }
   },
   "outputs": [],
   "source": [
    "### Алгоритм разделения датасета и обучении деревьев по моделям авто\n",
    "model_for_model = {}\n",
    "for name in filtered_train.model_name.unique():\n",
    "    model_for_model[name]=tree.DecisionTreeRegressor(\n",
    "        max_depth=None, max_features=None)\\\n",
    "            .fit(for_train[filtered_train.model_name == name],\n",
    "                 np.log(price[filtered_train.model_name == name]) )\n"
   ]
  },
  {
   "cell_type": "code",
   "execution_count": 10,
   "id": "689b9c5d",
   "metadata": {
    "ExecuteTime": {
     "end_time": "2022-04-15T21:12:38.834465Z",
     "start_time": "2022-04-15T21:09:16.885593Z"
    }
   },
   "outputs": [
    {
     "name": "stdout",
     "output_type": "stream",
     "text": [
      "KAGGLE score: 12.29984\n"
     ]
    }
   ],
   "source": [
    "#### АЛГОРИТМ ПРЕДСКАЗАНИЯ ~4 минуты\n",
    "pred = []\n",
    "for i in test.index:\n",
    "    if test.model_name[i] in unknown: pred.append(-1)\n",
    "    else: pred.append(model_for_model[test.model_name[i]]\\\n",
    "                      .predict((pd.DataFrame(for_pred.iloc[i]).T))[0])\n",
    "        \n",
    "print('KAGGLE score: 12.29984')"
   ]
  },
  {
   "cell_type": "code",
   "execution_count": 11,
   "id": "ea86007a",
   "metadata": {
    "ExecuteTime": {
     "end_time": "2022-04-15T21:12:38.849987Z",
     "start_time": "2022-04-15T21:12:38.834465Z"
    }
   },
   "outputs": [],
   "source": [
    "# сохранение результатов предскзания\n",
    "pd.Series(np.exp(pred)).to_pickle('lil_pred.pickle') "
   ]
  },
  {
   "cell_type": "markdown",
   "id": "ec69068e",
   "metadata": {},
   "source": [
    "Сравнение моделей и использование lil_trees в стэкинге в следующем ноутбуке:\n",
    "- [Models_and_stacking](./secondary_notebooks/Models_and_stacking.ipynb)"
   ]
  }
 ],
 "metadata": {
  "kernelspec": {
   "display_name": "Python 3 (ipykernel)",
   "language": "python",
   "name": "python3"
  },
  "language_info": {
   "codemirror_mode": {
    "name": "ipython",
    "version": 3
   },
   "file_extension": ".py",
   "mimetype": "text/x-python",
   "name": "python",
   "nbconvert_exporter": "python",
   "pygments_lexer": "ipython3",
   "version": "3.10.4"
  },
  "latex_envs": {
   "LaTeX_envs_menu_present": true,
   "autoclose": false,
   "autocomplete": true,
   "bibliofile": "biblio.bib",
   "cite_by": "apalike",
   "current_citInitial": 1,
   "eqLabelWithNumbers": true,
   "eqNumInitial": 1,
   "hotkeys": {
    "equation": "Ctrl-E",
    "itemize": "Ctrl-I"
   },
   "labels_anchors": false,
   "latex_user_defs": false,
   "report_style_numbering": false,
   "user_envs_cfg": false
  },
  "toc": {
   "base_numbering": 1,
   "nav_menu": {},
   "number_sections": true,
   "sideBar": true,
   "skip_h1_title": false,
   "title_cell": "Table of Contents",
   "title_sidebar": "Contents",
   "toc_cell": false,
   "toc_position": {},
   "toc_section_display": true,
   "toc_window_display": false
  },
  "varInspector": {
   "cols": {
    "lenName": 16,
    "lenType": 16,
    "lenVar": 40
   },
   "kernels_config": {
    "python": {
     "delete_cmd_postfix": "",
     "delete_cmd_prefix": "del ",
     "library": "var_list.py",
     "varRefreshCmd": "print(var_dic_list())"
    },
    "r": {
     "delete_cmd_postfix": ") ",
     "delete_cmd_prefix": "rm(",
     "library": "var_list.r",
     "varRefreshCmd": "cat(var_dic_list()) "
    }
   },
   "types_to_exclude": [
    "module",
    "function",
    "builtin_function_or_method",
    "instance",
    "_Feature"
   ],
   "window_display": false
  }
 },
 "nbformat": 4,
 "nbformat_minor": 5
}
