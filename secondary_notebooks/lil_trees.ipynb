{
 "cells": [
  {
   "cell_type": "markdown",
   "id": "8fe2564b",
   "metadata": {},
   "source": [
    "# lil_trees\n",
    "Фундаментальная модель в ансамбле\n",
    "\n",
    "Изучив специфику авторынка стало понятно, что бренд и модель - названия, не имеюще общих правил. Поэтому модель их может использовать только в качетсве dummy переменных. Но 500 с лишним категориальных редких переменных оказались слишком большим количеством для одной модели, предсказания портятся. Поэтому я решил разделить их специфику по моделям. Тут становится интереснее. Оказывается автомобили одной и той же модели, но разных комплектаций могут кратно отличаться в цене. Исходя из этого инсайта я понял, что можно сравнивать автомобили только в рамках одной модели. Этим и будет заниматься lil_trees\n",
    "\n",
    "Оказалось, что в датасете множество машин одной и той же модели, более того, в тренировочном датасете оказалось 98% наименований моделей, покрывающие наименования тестового датасета. Исходя из этого, lil_trees будет иметь главный решающий голос в ансамбле в случаях, когда модель машины ему хорошо известна. Но это только при хорошей оптимизации."
   ]
  },
  {
   "cell_type": "markdown",
   "id": "c014bb8e",
   "metadata": {},
   "source": [
    "## Data"
   ]
  },
  {
   "cell_type": "code",
   "execution_count": 1,
   "id": "b7bb8cc1",
   "metadata": {
    "ExecuteTime": {
     "end_time": "2022-04-13T18:51:41.456280Z",
     "start_time": "2022-04-13T18:51:40.581230Z"
    }
   },
   "outputs": [],
   "source": [
    "import pandas as pd\n",
    "import numpy as np\n",
    "\n",
    "from sklearn import tree                             \n",
    "from sklearn.model_selection import train_test_split"
   ]
  },
  {
   "cell_type": "code",
   "execution_count": 2,
   "id": "7f435029",
   "metadata": {
    "ExecuteTime": {
     "end_time": "2022-04-13T18:51:42.174894Z",
     "start_time": "2022-04-13T18:51:41.456280Z"
    }
   },
   "outputs": [],
   "source": [
    "%store -r df\n",
    "\n",
    "df = pd.concat(\n",
    "[df[['brand','model_name','sell_id','price','engineDisplacement', 'enginePower','mileage','car_age', 'model_product_time']] ,\n",
    "pd.get_dummies(df.bodyType,prefix='bodyType'),\n",
    "pd.get_dummies(df.fuelType,prefix='fuelType'),\n",
    "pd.get_dummies(df.vehicleTransmission,prefix='vehicleTransmission'),\n",
    "pd.get_dummies(df.Привод,prefix='Привод'),\n",
    "pd.get_dummies(df.Владельцы,prefix='Владельцы'),\n",
    "pd.get_dummies(df.Владение,prefix='Владение'),\n",
    "pd.get_dummies(df.color,prefix='color'),\n",
    "pd.get_dummies(df.ПТС,prefix='ПТС'),\n",
    "pd.get_dummies(df.Руль,prefix='Руль'),\n",
    "pd.get_dummies(df.numberOfDoors,prefix='numberOfDoors'),],axis=1)\n",
    "\n",
    "test = df[df.price==-1]\n",
    "train = df[df.price!=-1]"
   ]
  },
  {
   "cell_type": "markdown",
   "id": "cb563d88",
   "metadata": {},
   "source": [
    "## Func"
   ]
  },
  {
   "cell_type": "code",
   "execution_count": 3,
   "id": "abb8f9bc",
   "metadata": {
    "ExecuteTime": {
     "end_time": "2022-04-13T18:51:42.190309Z",
     "start_time": "2022-04-13T18:51:42.174894Z"
    }
   },
   "outputs": [],
   "source": [
    "'''Изменяет неуникальные названия моделей в соответствие брендам'''\n",
    "def change_name_to_unique(df):\n",
    "    df_non_unique = df[\n",
    "        df.model_name.isin(valco_non_unique.index)]\n",
    "\n",
    "    for i in df_non_unique.index:\n",
    "        df.at[i,'model_name'] = \\\n",
    "        df.iloc[i].brand + '_' + df.iloc[i].model_name"
   ]
  },
  {
   "cell_type": "markdown",
   "id": "7f0e6117",
   "metadata": {},
   "source": [
    "Для этой модели потребуется сократить разновидности моделей в тренировочной выборки до соответствия их тестовой"
   ]
  },
  {
   "cell_type": "markdown",
   "id": "5192913a",
   "metadata": {},
   "source": [
    "## Предобработка"
   ]
  },
  {
   "cell_type": "code",
   "execution_count": 4,
   "id": "1003bc80",
   "metadata": {
    "ExecuteTime": {
     "end_time": "2022-04-13T18:51:42.221527Z",
     "start_time": "2022-04-13T18:51:42.192312Z"
    }
   },
   "outputs": [
    {
     "name": "stdout",
     "output_type": "stream",
     "text": [
      "544 - количество уникальных моделей \n",
      "544 - количествоуникальных моделей с привязкой к бренду\n",
      "\n",
      "названия моделей в тестовом датасете - уникальны для всех предоставленных брендов\n"
     ]
    }
   ],
   "source": [
    "print(f'''{test.model_name.nunique()} - количество уникальных моделей \n",
    "{len(test.groupby(['brand','model_name']).count())} - количество\\\n",
    "уникальных моделей с привязкой к бренду\n",
    "\n",
    "названия моделей в тестовом датасете - \\\n",
    "уникальны для всех предоставленных брендов''')"
   ]
  },
  {
   "cell_type": "code",
   "execution_count": 5,
   "id": "a8edc9a0",
   "metadata": {
    "ExecuteTime": {
     "end_time": "2022-04-13T18:51:42.268784Z",
     "start_time": "2022-04-13T18:51:42.222529Z"
    }
   },
   "outputs": [
    {
     "name": "stdout",
     "output_type": "stream",
     "text": [
      "1086 - количество уникальных моделей \n",
      "1105 - количествоуникальных моделей с привязкой к бренду\n",
      "\n",
      "20 моделей из тренировочного датасета из разных брендов имеют одинаковое название\n"
     ]
    }
   ],
   "source": [
    "print(f'''{train.model_name.nunique()} - количество уникальных моделей \n",
    "{len(train.groupby(['brand','model_name']).count())} - количество\\\n",
    "уникальных моделей с привязкой к бренду\n",
    "\n",
    "20 моделей из тренировочного датасета из разных брендов имеют одинаковое название''')"
   ]
  },
  {
   "cell_type": "code",
   "execution_count": 6,
   "id": "b58ffb6e",
   "metadata": {
    "ExecuteTime": {
     "end_time": "2022-04-13T18:51:42.475385Z",
     "start_time": "2022-04-13T18:51:42.269783Z"
    }
   },
   "outputs": [],
   "source": [
    "### Исключает модели, которых нет в тестовом датасете ###\n",
    "filtered_train = train[train.model_name.isin(test.model_name.unique())\n",
    "                      ].reset_index(drop=True)\n",
    "\n",
    "\n",
    "\n",
    "'''  Делаем неуникальные для разных брендов названия моделей - уникальными  '''\n",
    "###############################################################################\n",
    "grouped_ft = filtered_train.groupby(['brand','model_name']).count()\n",
    "\n",
    "valco_non_unique = grouped_ft.reset_index(level=1).model_name.value_counts()[\n",
    "    grouped_ft.reset_index(level=1).model_name.value_counts()!=1]\n",
    "\n",
    "\n",
    "change_name_to_unique(filtered_train)\n",
    "change_name_to_unique(test)\n",
    "\n",
    "### Удаляет модели в трейне, которых нет в тесте после уточнения модели брендом\n",
    "models_to_drop = (set(filtered_train.model_name.unique()) -set(test.model_name.unique()))\n",
    "index_to_drop = filtered_train[filtered_train.model_name.isin(models_to_drop)].index\n",
    "\n",
    "filtered_train.drop(index_to_drop,inplace=True)\n",
    "###############################################################################\n"
   ]
  },
  {
   "cell_type": "code",
   "execution_count": 7,
   "id": "e8d46c3d",
   "metadata": {
    "ExecuteTime": {
     "end_time": "2022-04-13T18:51:42.506068Z",
     "start_time": "2022-04-13T18:51:42.476886Z"
    }
   },
   "outputs": [
    {
     "data": {
      "text/plain": [
       "['LANCER_RALLIART',\n",
       " 'PORTE',\n",
       " 'RSQ3',\n",
       " '300ZX',\n",
       " 'WILL_CYPHA',\n",
       " 'OTTI',\n",
       " 'X4_M',\n",
       " 'COROLLA_II',\n",
       " 'IST',\n",
       " 'Z',\n",
       " 'POLO_GTI',\n",
       " 'SPARKY',\n",
       " 'LM',\n",
       " 'GOLF_R32',\n",
       " 'PRESEA',\n",
       " 'ZEST',\n",
       " 'TORNEO',\n",
       " 'ARTEON']"
      ]
     },
     "metadata": {},
     "output_type": "display_data"
    },
    {
     "name": "stdout",
     "output_type": "stream",
     "text": [
      "18 Моделей из тестового датасета нет в тренировочном\n"
     ]
    }
   ],
   "source": [
    "unknown = list(set(test.model_name.unique())- set(filtered_train.model_name.unique()))\n",
    "display(unknown)\n",
    "print('18 Моделей из тестового датасета нет в тренировочном')"
   ]
  },
  {
   "cell_type": "markdown",
   "id": "664c45db",
   "metadata": {},
   "source": [
    "Модель будет специфичной под тренировочный датасет. Далее я разделяю тестовый датасет, но, важно, чтобы при разделении и соединении датасетов не потерялся порядок, в котором идут авто. \n",
    "\n",
    "## Модель"
   ]
  },
  {
   "cell_type": "code",
   "execution_count": 8,
   "id": "7ee9c2ee",
   "metadata": {
    "ExecuteTime": {
     "end_time": "2022-04-13T18:51:42.522129Z",
     "start_time": "2022-04-13T18:51:42.507070Z"
    }
   },
   "outputs": [],
   "source": [
    "price = filtered_train[['price']]\n",
    "for_train = filtered_train.drop(['brand','model_name','price','sell_id'],axis='columns')\n",
    "\n",
    "for_pred = test.drop(['brand','model_name','price','sell_id'],axis='columns')"
   ]
  },
  {
   "cell_type": "code",
   "execution_count": 9,
   "id": "0113af30",
   "metadata": {
    "ExecuteTime": {
     "end_time": "2022-04-13T18:51:46.512453Z",
     "start_time": "2022-04-13T18:51:42.523131Z"
    }
   },
   "outputs": [],
   "source": [
    "### Алгоритм разделения датасета и обучении деревьев по моделям авто\n",
    "model_for_model = {}\n",
    "for name in filtered_train.model_name.unique():\n",
    "    model_for_model[name]=tree.DecisionTreeRegressor(\n",
    "        max_depth=None, max_features=None)\\\n",
    "            .fit(for_train[filtered_train.model_name == name],\n",
    "                 np.log(price[filtered_train.model_name == name]) )\n"
   ]
  },
  {
   "cell_type": "code",
   "execution_count": 10,
   "id": "689b9c5d",
   "metadata": {
    "ExecuteTime": {
     "end_time": "2022-04-13T18:55:05.340578Z",
     "start_time": "2022-04-13T18:51:46.517783Z"
    }
   },
   "outputs": [],
   "source": [
    "#### АЛГОРИТМ ПРЕДСКАЗАНИЯ ~4 минуты\n",
    "pred = []\n",
    "for i in test.index:\n",
    "    if test.model_name[i] in unknown: pred.append(-1)\n",
    "    else: pred.append(model_for_model[test.model_name[i]]\\\n",
    "                      .predict((pd.DataFrame(for_pred.iloc[i]).T))[0])"
   ]
  },
  {
   "cell_type": "code",
   "execution_count": 11,
   "id": "613744f7",
   "metadata": {
    "ExecuteTime": {
     "end_time": "2022-04-13T18:55:05.355887Z",
     "start_time": "2022-04-13T18:55:05.340578Z"
    }
   },
   "outputs": [],
   "source": [
    "# сохранение результатов предскзания\n",
    "pd.Series(np.exp(pred)).to_pickle('lil_pred.pickle') "
   ]
  }
 ],
 "metadata": {
  "kernelspec": {
   "display_name": "Python 3 (ipykernel)",
   "language": "python",
   "name": "python3"
  },
  "language_info": {
   "codemirror_mode": {
    "name": "ipython",
    "version": 3
   },
   "file_extension": ".py",
   "mimetype": "text/x-python",
   "name": "python",
   "nbconvert_exporter": "python",
   "pygments_lexer": "ipython3",
   "version": "3.10.4"
  },
  "latex_envs": {
   "LaTeX_envs_menu_present": true,
   "autoclose": false,
   "autocomplete": true,
   "bibliofile": "biblio.bib",
   "cite_by": "apalike",
   "current_citInitial": 1,
   "eqLabelWithNumbers": true,
   "eqNumInitial": 1,
   "hotkeys": {
    "equation": "Ctrl-E",
    "itemize": "Ctrl-I"
   },
   "labels_anchors": false,
   "latex_user_defs": false,
   "report_style_numbering": false,
   "user_envs_cfg": false
  },
  "toc": {
   "base_numbering": 1,
   "nav_menu": {},
   "number_sections": true,
   "sideBar": true,
   "skip_h1_title": false,
   "title_cell": "Table of Contents",
   "title_sidebar": "Contents",
   "toc_cell": false,
   "toc_position": {},
   "toc_section_display": true,
   "toc_window_display": false
  },
  "varInspector": {
   "cols": {
    "lenName": 16,
    "lenType": 16,
    "lenVar": 40
   },
   "kernels_config": {
    "python": {
     "delete_cmd_postfix": "",
     "delete_cmd_prefix": "del ",
     "library": "var_list.py",
     "varRefreshCmd": "print(var_dic_list())"
    },
    "r": {
     "delete_cmd_postfix": ") ",
     "delete_cmd_prefix": "rm(",
     "library": "var_list.r",
     "varRefreshCmd": "cat(var_dic_list()) "
    }
   },
   "types_to_exclude": [
    "module",
    "function",
    "builtin_function_or_method",
    "instance",
    "_Feature"
   ],
   "window_display": false
  }
 },
 "nbformat": 4,
 "nbformat_minor": 5
}
