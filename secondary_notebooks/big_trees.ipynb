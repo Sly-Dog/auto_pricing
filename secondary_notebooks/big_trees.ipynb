{
 "cells": [
  {
   "cell_type": "markdown",
   "id": "b5afe2f1",
   "metadata": {},
   "source": [
    "# big_trees\n",
    "Исследование авторынка вывело инсайт, что автомобиль с одними и теми же параметрами может критично отличаться в цене в зависимости от марки. Поэтому  данные деревья обучаются по брендам, чтобы нивелировать даныные расхождения. Примечательно, что похожая логика действует и на модели бренда, только в таком случае цена отличается, часто кратно в уже в зависимости от комлпектации. При том при одной и той же комплектации машины разных моделей тоже имеют разную цену. Но автомобилей одинаковых марок в тренировочном и тестовом датасете много меньше, чем авто с одним брендом, поэтому big_trees модель работает в связке с моделью [lil_trees](./lil_trees.ipynb), компенсируя недостаток данных в местах, где выборка слишком мала."
   ]
  },
  {
   "cell_type": "markdown",
   "id": "47eb01f5",
   "metadata": {},
   "source": [
    "## Инциализация"
   ]
  },
  {
   "cell_type": "code",
   "execution_count": 1,
   "id": "fb5210ff",
   "metadata": {
    "ExecuteTime": {
     "end_time": "2022-04-15T21:44:57.318872Z",
     "start_time": "2022-04-15T21:44:56.568779Z"
    }
   },
   "outputs": [],
   "source": [
    "import pandas as pd\n",
    "import numpy as np\n",
    "\n",
    "from sklearn import tree                             "
   ]
  },
  {
   "cell_type": "code",
   "execution_count": 2,
   "id": "02f90349",
   "metadata": {
    "ExecuteTime": {
     "end_time": "2022-04-15T21:44:58.079103Z",
     "start_time": "2022-04-15T21:44:57.352844Z"
    }
   },
   "outputs": [],
   "source": [
    "%store -r df\n",
    "\n",
    "preX = pd.concat(\n",
    "[df[['brand','sell_id','price','engineDisplacement', 'enginePower','mileage','car_age', 'model_product_time']] ,\n",
    "pd.get_dummies(df.bodyType,prefix='bodyType'),\n",
    "pd.get_dummies(df.fuelType,prefix='fuelType'),\n",
    "pd.get_dummies(df.vehicleTransmission,prefix='vehicleTransmission'),\n",
    "pd.get_dummies(df.Привод,prefix='Привод'),\n",
    "pd.get_dummies(df.Владельцы,prefix='Владельцы'),\n",
    "pd.get_dummies(df.Владение,prefix='Владение'),\n",
    "pd.get_dummies(df.color,prefix='color'),\n",
    "pd.get_dummies(df.ПТС,prefix='ПТС'),\n",
    "pd.get_dummies(df.Руль,prefix='Руль'),\n",
    "pd.get_dummies(df.numberOfDoors,prefix='numberOfDoors'),],axis=1)\n",
    "\n",
    "preX.sample(5)\n",
    "\n",
    "test = preX[preX.price==-1]\n",
    "train = preX[preX.price!=-1]\n",
    "\n",
    "X=train.drop(['brand','sell_id','price'],axis='columns')\n",
    "y=train.price"
   ]
  },
  {
   "cell_type": "markdown",
   "id": "d2b57c2c",
   "metadata": {},
   "source": [
    "### Метрика\n",
    "$$\\Large MAPE= 100 \\% * \\frac{1}{n}\\sum_{t=1}^{n}\\frac{\\left | Y_t-\\hat{Y_t} \\right |}{Y_t}$$"
   ]
  },
  {
   "cell_type": "code",
   "execution_count": 3,
   "id": "d502a2eb",
   "metadata": {
    "ExecuteTime": {
     "end_time": "2022-04-15T21:44:59.827097Z",
     "start_time": "2022-04-15T21:44:59.821097Z"
    }
   },
   "outputs": [],
   "source": [
    "'''Функция вывода MAPE'''\n",
    "def mape(y_true, y_pred):\n",
    "    return np.mean(np.abs((y_pred-y_true)/y_true))*100"
   ]
  },
  {
   "cell_type": "markdown",
   "id": "4881be44",
   "metadata": {},
   "source": [
    "## Модель"
   ]
  },
  {
   "cell_type": "code",
   "execution_count": 4,
   "id": "f2e6ab4f",
   "metadata": {
    "ExecuteTime": {
     "end_time": "2022-04-15T21:48:22.125254Z",
     "start_time": "2022-04-15T21:45:01.315120Z"
    }
   },
   "outputs": [
    {
     "name": "stdout",
     "output_type": "stream",
     "text": [
      "KAGGLE score: 12.86383\n"
     ]
    }
   ],
   "source": [
    "'''                 Подготовка датасетов по маркам                          '''\n",
    "###############################################################################\n",
    "train_SKODA = train[train.brand == 'SKODA'].drop(['brand','sell_id'],axis='columns').reset_index(drop=True)\n",
    "train_AUDI = train[train.brand == 'AUDI'].drop(['brand','sell_id'],axis='columns').reset_index(drop=True)\n",
    "train_HONDA = train[train.brand == 'HONDA'].drop(['brand','sell_id'],axis='columns').reset_index(drop=True)\n",
    "train_VOLVO = train[train.brand == 'VOLVO'].drop(['brand','sell_id'],axis='columns').reset_index(drop=True)\n",
    "train_BMW = train[train.brand == 'BMW'].drop(['brand','sell_id'],axis='columns').reset_index(drop=True)\n",
    "train_NISSAN = train[train.brand == 'NISSAN'].drop(['brand','sell_id'],axis='columns').reset_index(drop=True)\n",
    "train_INFINITI = train[train.brand == 'INFINITI'].drop(['brand','sell_id'],axis='columns').reset_index(drop=True)\n",
    "train_MERCEDES = train[train.brand == 'MERCEDES'].drop(['brand','sell_id'],axis='columns').reset_index(drop=True)\n",
    "train_TOYOTA = train[train.brand == 'TOYOTA'].drop(['brand','sell_id'],axis='columns').reset_index(drop=True)\n",
    "train_LEXUS = train[train.brand == 'LEXUS'].drop(['brand','sell_id'],axis='columns').reset_index(drop=True)\n",
    "train_VOLKSWAGEN = train[train.brand == 'VOLKSWAGEN'].drop(['brand','sell_id'],axis='columns').reset_index(drop=True)\n",
    "train_MITSUBISHI = train[train.brand == 'MITSUBISHI'].drop(['brand','sell_id'],axis='columns').reset_index(drop=True)\n",
    "\n",
    "\n",
    "'''                 Обучение деревьев по бренду                             '''\n",
    "###############################################################################\n",
    "SKODA = tree.DecisionTreeRegressor(max_depth=None, max_features=None)\n",
    "SKODA.fit(train_SKODA.drop(['price'],axis='columns'),np.log(train_SKODA.price))\n",
    "\n",
    "AUDI = tree.DecisionTreeRegressor(max_depth=None, max_features=None)\n",
    "AUDI.fit(train_AUDI.drop(['price'],axis='columns'),np.log(train_AUDI.price))\n",
    "\n",
    "HONDA = tree.DecisionTreeRegressor(max_depth=None, max_features=None)\n",
    "HONDA.fit(train_HONDA.drop(['price'],axis='columns'),np.log(train_HONDA.price))\n",
    "\n",
    "VOLVO = tree.DecisionTreeRegressor(max_depth=None, max_features=None)\n",
    "VOLVO.fit(train_VOLVO.drop(['price'],axis='columns'),np.log(train_VOLVO.price))\n",
    "\n",
    "BMW = tree.DecisionTreeRegressor(max_depth=None, max_features=None)\n",
    "BMW.fit(train_BMW.drop(['price'],axis='columns'),np.log(train_BMW.price))\n",
    "\n",
    "NISSAN = tree.DecisionTreeRegressor(max_depth=None, max_features=None)\n",
    "NISSAN.fit(train_NISSAN.drop(['price'],axis='columns'),np.log(train_NISSAN.price))\n",
    "\n",
    "INFINITI = tree.DecisionTreeRegressor(max_depth=None, max_features=None)\n",
    "INFINITI.fit(train_INFINITI.drop(['price'],axis='columns'),np.log(train_INFINITI.price))\n",
    "\n",
    "MERCEDES = tree.DecisionTreeRegressor(max_depth=None, max_features=None)\n",
    "MERCEDES.fit(train_MERCEDES.drop(['price'],axis='columns'),np.log(train_MERCEDES.price))\n",
    "\n",
    "TOYOTA = tree.DecisionTreeRegressor(max_depth=None, max_features=None)\n",
    "TOYOTA.fit(train_TOYOTA.drop(['price'],axis='columns'),np.log(train_TOYOTA.price))\n",
    "\n",
    "LEXUS = tree.DecisionTreeRegressor(max_depth=None, max_features=None)\n",
    "LEXUS.fit(train_LEXUS.drop(['price'],axis='columns'),np.log(train_LEXUS.price))\n",
    "\n",
    "VOLKSWAGEN = tree.DecisionTreeRegressor(max_depth=None, max_features=None)\n",
    "VOLKSWAGEN.fit(train_VOLKSWAGEN.drop(['price'],axis='columns'),np.log(train_VOLKSWAGEN.price))\n",
    "\n",
    "MITSUBISHI = tree.DecisionTreeRegressor(max_depth=None, max_features=None)\n",
    "MITSUBISHI.fit(train_MITSUBISHI.drop(['price'],axis='columns'),np.log(train_MITSUBISHI.price))\n",
    "\n",
    "\n",
    "'''             Предсказания деревьев по бренду                             '''\n",
    "###############################################################################\n",
    "for_pred = test.drop(['brand','sell_id','price'],axis='columns')\n",
    "\n",
    "preds = []\n",
    "for i in test.index:\n",
    "    if test.brand[i] == 'SKODA': preds.append(SKODA.predict(pd.DataFrame(for_pred.iloc[i]).T)[0])\n",
    "    if test.brand[i] == 'AUDI': preds.append(AUDI.predict(pd.DataFrame(for_pred.iloc[i]).T)[0])\n",
    "    if test.brand[i] == 'HONDA': preds.append(HONDA.predict(pd.DataFrame(for_pred.iloc[i]).T)[0])\n",
    "    if test.brand[i] == 'VOLVO': preds.append(VOLVO.predict(pd.DataFrame(for_pred.iloc[i]).T)[0])\n",
    "    if test.brand[i] == 'BMW': preds.append(BMW.predict(pd.DataFrame(for_pred.iloc[i]).T)[0])\n",
    "    if test.brand[i] == 'NISSAN': preds.append(NISSAN.predict(pd.DataFrame(for_pred.iloc[i]).T)[0])\n",
    "    if test.brand[i] == 'INFINITI': preds.append(INFINITI.predict(pd.DataFrame(for_pred.iloc[i]).T)[0])\n",
    "    if test.brand[i] == 'MERCEDES': preds.append(MERCEDES.predict(pd.DataFrame(for_pred.iloc[i]).T)[0])\n",
    "    if test.brand[i] == 'TOYOTA': preds.append(TOYOTA.predict(pd.DataFrame(for_pred.iloc[i]).T)[0])\n",
    "    if test.brand[i] == 'LEXUS': preds.append(LEXUS.predict(pd.DataFrame(for_pred.iloc[i]).T)[0])\n",
    "    if test.brand[i] == 'VOLKSWAGEN': preds.append(VOLKSWAGEN.predict(pd.DataFrame(for_pred.iloc[i]).T)[0])\n",
    "    if test.brand[i] == 'MITSUBISHI': preds.append(MITSUBISHI.predict(pd.DataFrame(for_pred.iloc[i]).T)[0])\n",
    "        \n",
    "big_pred = np.exp(preds) # Массив с предскзаниями\n",
    "\n",
    "print('KAGGLE score: 12.86383')"
   ]
  },
  {
   "cell_type": "code",
   "execution_count": 6,
   "id": "6a714e97",
   "metadata": {
    "ExecuteTime": {
     "end_time": "2022-04-13T23:49:19.677173Z",
     "start_time": "2022-04-13T23:49:19.661170Z"
    }
   },
   "outputs": [],
   "source": [
    "# сохранение результатов предскзания\n",
    "pd.Series(big_pred).to_pickle('big_pred.pickle') "
   ]
  },
  {
   "cell_type": "markdown",
   "id": "5f2a1c2e",
   "metadata": {},
   "source": [
    "Сравнение моделей и использование big_trees в стэкинге в следующем ноутбуке:\n",
    "- [Models_and_stacking](./secondary_notebooks/Models_and_stacking.ipynb)"
   ]
  }
 ],
 "metadata": {
  "kernelspec": {
   "display_name": "Python 3 (ipykernel)",
   "language": "python",
   "name": "python3"
  },
  "language_info": {
   "codemirror_mode": {
    "name": "ipython",
    "version": 3
   },
   "file_extension": ".py",
   "mimetype": "text/x-python",
   "name": "python",
   "nbconvert_exporter": "python",
   "pygments_lexer": "ipython3",
   "version": "3.10.4"
  },
  "latex_envs": {
   "LaTeX_envs_menu_present": true,
   "autoclose": false,
   "autocomplete": true,
   "bibliofile": "biblio.bib",
   "cite_by": "apalike",
   "current_citInitial": 1,
   "eqLabelWithNumbers": true,
   "eqNumInitial": 1,
   "hotkeys": {
    "equation": "Ctrl-E",
    "itemize": "Ctrl-I"
   },
   "labels_anchors": false,
   "latex_user_defs": false,
   "report_style_numbering": false,
   "user_envs_cfg": false
  },
  "toc": {
   "base_numbering": 1,
   "nav_menu": {},
   "number_sections": true,
   "sideBar": true,
   "skip_h1_title": false,
   "title_cell": "Table of Contents",
   "title_sidebar": "Contents",
   "toc_cell": false,
   "toc_position": {},
   "toc_section_display": true,
   "toc_window_display": false
  },
  "varInspector": {
   "cols": {
    "lenName": 16,
    "lenType": 16,
    "lenVar": 40
   },
   "kernels_config": {
    "python": {
     "delete_cmd_postfix": "",
     "delete_cmd_prefix": "del ",
     "library": "var_list.py",
     "varRefreshCmd": "print(var_dic_list())"
    },
    "r": {
     "delete_cmd_postfix": ") ",
     "delete_cmd_prefix": "rm(",
     "library": "var_list.r",
     "varRefreshCmd": "cat(var_dic_list()) "
    }
   },
   "types_to_exclude": [
    "module",
    "function",
    "builtin_function_or_method",
    "instance",
    "_Feature"
   ],
   "window_display": false
  }
 },
 "nbformat": 4,
 "nbformat_minor": 5
}
