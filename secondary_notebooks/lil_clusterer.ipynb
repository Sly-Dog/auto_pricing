{
 "cells": [
  {
   "cell_type": "markdown",
   "id": "c8114ffb",
   "metadata": {},
   "source": [
    "# lil_cluster\n",
    "Фундаментальная модель в ансамбле\n",
    "\n",
    "Изучив специфику авторынка стало понятно, что бренд и модель - названия, не имеюще общих правил. Поэтому модель их может использовать только в качетсве dummy переменных. Но 500 с лишним переменных для меня показались слишком большим количеством для 80 тысяч автомобилей. Поэтому я решил разделить их специфику по моделям. Тут становится интереснее. Оказывается автомобили одной и той же модели, но разных комплектаций могут кратно отличаться в цене. Исходя из этого инсайта я понял, что можно сравнивать автомобили только в рамках одной модели. Этим и будет заниматься lil_cluster\n",
    "\n",
    "Оказалось, что в датасете множество машин одной и той же модели, более того, в тренировочном датасете оказалось 98% наименований моделей, покрывающие наименования тестового датасета. Исходя из этого, lil_cluster будет иметь главный решающий голос в ансамбле в случаях, когда модель машины ему хорошо известна"
   ]
  },
  {
   "cell_type": "code",
   "execution_count": 91,
   "id": "4e04e19b",
   "metadata": {
    "ExecuteTime": {
     "end_time": "2022-04-12T09:44:25.841548Z",
     "start_time": "2022-04-12T09:44:25.827119Z"
    }
   },
   "outputs": [],
   "source": [
    "%store -r df"
   ]
  },
  {
   "cell_type": "markdown",
   "id": "40c563d9",
   "metadata": {},
   "source": [
    "Для этой модели потребуется сократить разновидности моделей в тренировочной выборки до соответствия их тестовой"
   ]
  },
  {
   "cell_type": "code",
   "execution_count": 169,
   "id": "16228e90",
   "metadata": {
    "ExecuteTime": {
     "end_time": "2022-04-12T10:42:52.067440Z",
     "start_time": "2022-04-12T10:42:52.015502Z"
    }
   },
   "outputs": [],
   "source": [
    "test = df[df.price==-1]\n",
    "train = df[df.price!=-1]"
   ]
  },
  {
   "cell_type": "code",
   "execution_count": 93,
   "id": "829ec575",
   "metadata": {
    "ExecuteTime": {
     "end_time": "2022-04-12T09:44:26.866319Z",
     "start_time": "2022-04-12T09:44:26.800303Z"
    }
   },
   "outputs": [
    {
     "name": "stdout",
     "output_type": "stream",
     "text": [
      "544 - количество уникальных моделей \n",
      "544 - количествоуникальных моделей с привязкой к бренду\n",
      "\n",
      "названия моделей в тестовом датасете - уникальны для всех предоставленных брендов\n"
     ]
    }
   ],
   "source": [
    "print(f'''{test.model_name.nunique()} - количество уникальных моделей \n",
    "{len(test.groupby(['brand','model_name']).count())} - количество\\\n",
    "уникальных моделей с привязкой к бренду\n",
    "\n",
    "названия моделей в тестовом датасете - \\\n",
    "уникальны для всех предоставленных брендов''')"
   ]
  },
  {
   "cell_type": "code",
   "execution_count": 94,
   "id": "0562d2c9",
   "metadata": {
    "ExecuteTime": {
     "end_time": "2022-04-12T09:44:27.380058Z",
     "start_time": "2022-04-12T09:44:27.259319Z"
    }
   },
   "outputs": [
    {
     "name": "stdout",
     "output_type": "stream",
     "text": [
      "1086 - количество уникальных моделей \n",
      "1105 - количествоуникальных моделей с привязкой к бренду\n",
      "\n",
      "20 моделей из тренировочного датасета из разных брендов имеют одинаковое название\n"
     ]
    }
   ],
   "source": [
    "print(f'''{train.model_name.nunique()} - количество уникальных моделей \n",
    "{len(train.groupby(['brand','model_name']).count())} - количество\\\n",
    "уникальных моделей с привязкой к бренду\n",
    "\n",
    "20 моделей из тренировочного датасета из разных брендов имеют одинаковое название''')"
   ]
  },
  {
   "cell_type": "code",
   "execution_count": 227,
   "id": "89bdd7bd",
   "metadata": {
    "ExecuteTime": {
     "end_time": "2022-04-12T11:17:35.016189Z",
     "start_time": "2022-04-12T11:17:34.776137Z"
    }
   },
   "outputs": [],
   "source": [
    "test = df[df.price==-1]\n",
    "train = df[df.price!=-1]\n",
    "\n",
    "### Исключает модели, которых нет в  ###\n",
    "filtered_train = train[train.model_name.isin(test.model_name.unique())\n",
    "                      ].reset_index(drop=True)\n",
    "\n",
    "\n",
    "\n",
    "'''Делает неуникальные для разных брендов названия моделей - уникальными'''\n",
    "###############################################################################\n",
    "grouped_ft = filtered_train.groupby(['brand','model_name']).count()\n",
    "\n",
    "valco_non_unique = grouped_ft.reset_index(level=1).model_name.value_counts()[\n",
    "    grouped_ft.reset_index(level=1).model_name.value_counts()!=1]\n",
    "\n",
    "def change_name_to_unique(df):\n",
    "    df_non_unique = df[\n",
    "        df.model_name.isin(valco_non_unique.index)]\n",
    "\n",
    "    for i in df_non_unique.index:\n",
    "        df.at[i,'model_name'] = \\\n",
    "        df.iloc[i].brand + '_' + df.iloc[i].model_name\n",
    "\n",
    "change_name_to_unique(filtered_train)\n",
    "change_name_to_unique(test)\n",
    "\n",
    "### Удаляет модели в трейне, которых нет в тесте после уточнения модели брендом\n",
    "models_to_drop = (set(filtered_train.model_name.unique()) -set(test.model_name.unique()))\n",
    "index_to_drop = filtered_train[filtered_train.model_name.isin(models_to_drop)].index\n",
    "\n",
    "filtered_train.drop(index_to_drop,inplace=True)\n",
    "###############################################################################\n"
   ]
  },
  {
   "cell_type": "code",
   "execution_count": 232,
   "id": "0f0b71d9",
   "metadata": {
    "ExecuteTime": {
     "end_time": "2022-04-12T11:19:30.878118Z",
     "start_time": "2022-04-12T11:19:30.859114Z"
    }
   },
   "outputs": [
    {
     "data": {
      "text/plain": [
       "{'300ZX',\n",
       " 'ARTEON',\n",
       " 'COROLLA_II',\n",
       " 'GOLF_R32',\n",
       " 'IST',\n",
       " 'LANCER_RALLIART',\n",
       " 'LM',\n",
       " 'OTTI',\n",
       " 'POLO_GTI',\n",
       " 'PORTE',\n",
       " 'PRESEA',\n",
       " 'RSQ3',\n",
       " 'SPARKY',\n",
       " 'TORNEO',\n",
       " 'WILL_CYPHA',\n",
       " 'X4_M',\n",
       " 'Z',\n",
       " 'ZEST'}"
      ]
     },
     "metadata": {},
     "output_type": "display_data"
    },
    {
     "name": "stdout",
     "output_type": "stream",
     "text": [
      "18 Моделей из тестового датасета, что нет в тренировочном\n"
     ]
    }
   ],
   "source": [
    "display(set(test.model_name.unique())- set(filtered_train.model_name.unique()))\n",
    "print('18 Моделей из тестового датасета, что нет в тренировочном')"
   ]
  },
  {
   "cell_type": "code",
   "execution_count": null,
   "id": "71c62758",
   "metadata": {},
   "outputs": [],
   "source": []
  }
 ],
 "metadata": {
  "kernelspec": {
   "display_name": "Python 3 (ipykernel)",
   "language": "python",
   "name": "python3"
  },
  "language_info": {
   "codemirror_mode": {
    "name": "ipython",
    "version": 3
   },
   "file_extension": ".py",
   "mimetype": "text/x-python",
   "name": "python",
   "nbconvert_exporter": "python",
   "pygments_lexer": "ipython3",
   "version": "3.10.4"
  },
  "latex_envs": {
   "LaTeX_envs_menu_present": true,
   "autoclose": false,
   "autocomplete": true,
   "bibliofile": "biblio.bib",
   "cite_by": "apalike",
   "current_citInitial": 1,
   "eqLabelWithNumbers": true,
   "eqNumInitial": 1,
   "hotkeys": {
    "equation": "Ctrl-E",
    "itemize": "Ctrl-I"
   },
   "labels_anchors": false,
   "latex_user_defs": false,
   "report_style_numbering": false,
   "user_envs_cfg": false
  },
  "toc": {
   "base_numbering": 1,
   "nav_menu": {},
   "number_sections": true,
   "sideBar": true,
   "skip_h1_title": false,
   "title_cell": "Table of Contents",
   "title_sidebar": "Contents",
   "toc_cell": false,
   "toc_position": {},
   "toc_section_display": true,
   "toc_window_display": false
  },
  "varInspector": {
   "cols": {
    "lenName": 16,
    "lenType": 16,
    "lenVar": 40
   },
   "kernels_config": {
    "python": {
     "delete_cmd_postfix": "",
     "delete_cmd_prefix": "del ",
     "library": "var_list.py",
     "varRefreshCmd": "print(var_dic_list())"
    },
    "r": {
     "delete_cmd_postfix": ") ",
     "delete_cmd_prefix": "rm(",
     "library": "var_list.r",
     "varRefreshCmd": "cat(var_dic_list()) "
    }
   },
   "types_to_exclude": [
    "module",
    "function",
    "builtin_function_or_method",
    "instance",
    "_Feature"
   ],
   "window_display": false
  }
 },
 "nbformat": 4,
 "nbformat_minor": 5
}
