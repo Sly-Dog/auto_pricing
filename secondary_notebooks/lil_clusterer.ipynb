{
 "cells": [
  {
   "cell_type": "markdown",
   "id": "8fe2564b",
   "metadata": {},
   "source": [
    "# lil_cluster\n",
    "Фундаментальная модель в ансамбле\n",
    "\n",
    "Изучив специфику авторынка стало понятно, что бренд и модель - названия, не имеюще общих правил. Поэтому модель их может использовать только в качетсве dummy переменных. Но 500 с лишним переменных для меня показались слишком большим количеством для 80 тысяч автомобилей. Поэтому я решил разделить их специфику по моделям. Тут становится интереснее. Оказывается автомобили одной и той же модели, но разных комплектаций могут кратно отличаться в цене. Исходя из этого инсайта я понял, что можно сравнивать автомобили только в рамках одной модели. Этим и будет заниматься lil_cluster\n",
    "\n",
    "Оказалось, что в датасете множество машин одной и той же модели, более того, в тренировочном датасете оказалось 98% наименований моделей, покрывающие наименования тестового датасета. Исходя из этого, lil_cluster будет иметь главный решающий голос в ансамбле в случаях, когда модель машины ему хорошо известна"
   ]
  },
  {
   "cell_type": "code",
   "execution_count": 51,
   "id": "a71c157b",
   "metadata": {
    "ExecuteTime": {
     "end_time": "2022-04-13T15:22:53.885675Z",
     "start_time": "2022-04-13T15:22:53.742741Z"
    }
   },
   "outputs": [],
   "source": [
    "%store -r df\n",
    "\n",
    "df = pd.concat(\n",
    "[df[['brand','model_name','sell_id','price','engineDisplacement', 'enginePower','mileage','car_age', 'model_product_time']] ,\n",
    "pd.get_dummies(df.bodyType,prefix='bodyType'),\n",
    "pd.get_dummies(df.fuelType,prefix='fuelType'),\n",
    "pd.get_dummies(df.vehicleTransmission,prefix='vehicleTransmission'),\n",
    "pd.get_dummies(df.Привод,prefix='Привод'),\n",
    "pd.get_dummies(df.Владельцы,prefix='Владельцы'),\n",
    "pd.get_dummies(df.Владение,prefix='Владение'),\n",
    "pd.get_dummies(df.color,prefix='color'),\n",
    "pd.get_dummies(df.ПТС,prefix='ПТС'),\n",
    "pd.get_dummies(df.Руль,prefix='Руль'),\n",
    "pd.get_dummies(df.numberOfDoors,prefix='numberOfDoors'),],axis=1)\n",
    "\n",
    "test = df[df.price==-1]\n",
    "train = df[df.price!=-1]"
   ]
  },
  {
   "cell_type": "markdown",
   "id": "7f0e6117",
   "metadata": {},
   "source": [
    "Для этой модели потребуется сократить разновидности моделей в тренировочной выборки до соответствия их тестовой"
   ]
  },
  {
   "cell_type": "code",
   "execution_count": 53,
   "id": "1003bc80",
   "metadata": {
    "ExecuteTime": {
     "end_time": "2022-04-13T15:23:01.908891Z",
     "start_time": "2022-04-13T15:23:01.879893Z"
    }
   },
   "outputs": [
    {
     "name": "stdout",
     "output_type": "stream",
     "text": [
      "544 - количество уникальных моделей \n",
      "544 - количествоуникальных моделей с привязкой к бренду\n",
      "\n",
      "названия моделей в тестовом датасете - уникальны для всех предоставленных брендов\n"
     ]
    }
   ],
   "source": [
    "print(f'''{test.model_name.nunique()} - количество уникальных моделей \n",
    "{len(test.groupby(['brand','model_name']).count())} - количество\\\n",
    "уникальных моделей с привязкой к бренду\n",
    "\n",
    "названия моделей в тестовом датасете - \\\n",
    "уникальны для всех предоставленных брендов''')"
   ]
  },
  {
   "cell_type": "code",
   "execution_count": 54,
   "id": "a8edc9a0",
   "metadata": {
    "ExecuteTime": {
     "end_time": "2022-04-13T15:23:02.195729Z",
     "start_time": "2022-04-13T15:23:02.149945Z"
    }
   },
   "outputs": [
    {
     "name": "stdout",
     "output_type": "stream",
     "text": [
      "1086 - количество уникальных моделей \n",
      "1105 - количествоуникальных моделей с привязкой к бренду\n",
      "\n",
      "20 моделей из тренировочного датасета из разных брендов имеют одинаковое название\n"
     ]
    }
   ],
   "source": [
    "print(f'''{train.model_name.nunique()} - количество уникальных моделей \n",
    "{len(train.groupby(['brand','model_name']).count())} - количество\\\n",
    "уникальных моделей с привязкой к бренду\n",
    "\n",
    "20 моделей из тренировочного датасета из разных брендов имеют одинаковое название''')"
   ]
  },
  {
   "cell_type": "code",
   "execution_count": 55,
   "id": "b58ffb6e",
   "metadata": {
    "ExecuteTime": {
     "end_time": "2022-04-13T15:23:05.376226Z",
     "start_time": "2022-04-13T15:23:05.178043Z"
    }
   },
   "outputs": [],
   "source": [
    "### Исключает модели, которых нет в  ###\n",
    "filtered_train = train[train.model_name.isin(test.model_name.unique())\n",
    "                      ].reset_index(drop=True)\n",
    "\n",
    "\n",
    "\n",
    "'''Делает неуникальные для разных брендов названия моделей - уникальными'''\n",
    "###############################################################################\n",
    "grouped_ft = filtered_train.groupby(['brand','model_name']).count()\n",
    "\n",
    "valco_non_unique = grouped_ft.reset_index(level=1).model_name.value_counts()[\n",
    "    grouped_ft.reset_index(level=1).model_name.value_counts()!=1]\n",
    "\n",
    "def change_name_to_unique(df):\n",
    "    df_non_unique = df[\n",
    "        df.model_name.isin(valco_non_unique.index)]\n",
    "\n",
    "    for i in df_non_unique.index:\n",
    "        df.at[i,'model_name'] = \\\n",
    "        df.iloc[i].brand + '_' + df.iloc[i].model_name\n",
    "\n",
    "change_name_to_unique(filtered_train)\n",
    "change_name_to_unique(test)\n",
    "\n",
    "### Удаляет модели в трейне, которых нет в тесте после уточнения модели брендом\n",
    "models_to_drop = (set(filtered_train.model_name.unique()) -set(test.model_name.unique()))\n",
    "index_to_drop = filtered_train[filtered_train.model_name.isin(models_to_drop)].index\n",
    "\n",
    "filtered_train.drop(index_to_drop,inplace=True)\n",
    "###############################################################################\n"
   ]
  },
  {
   "cell_type": "code",
   "execution_count": 59,
   "id": "e8d46c3d",
   "metadata": {
    "ExecuteTime": {
     "end_time": "2022-04-13T15:23:28.203861Z",
     "start_time": "2022-04-13T15:23:28.195868Z"
    }
   },
   "outputs": [
    {
     "data": {
      "text/plain": [
       "['WILL_CYPHA',\n",
       " 'ARTEON',\n",
       " 'PRESEA',\n",
       " 'PORTE',\n",
       " 'SPARKY',\n",
       " 'POLO_GTI',\n",
       " 'GOLF_R32',\n",
       " 'COROLLA_II',\n",
       " 'RSQ3',\n",
       " 'X4_M',\n",
       " 'Z',\n",
       " '300ZX',\n",
       " 'TORNEO',\n",
       " 'LANCER_RALLIART',\n",
       " 'IST',\n",
       " 'OTTI',\n",
       " 'ZEST',\n",
       " 'LM']"
      ]
     },
     "metadata": {},
     "output_type": "display_data"
    },
    {
     "name": "stdout",
     "output_type": "stream",
     "text": [
      "18 Моделей из тестового датасета нет в тренировочном\n"
     ]
    }
   ],
   "source": [
    "unknown = list(set(test.model_name.unique())- set(filtered_train.model_name.unique()))\n",
    "display(unknown)\n",
    "print('18 Моделей из тестового датасета нет в тренировочном')"
   ]
  },
  {
   "cell_type": "markdown",
   "id": "664c45db",
   "metadata": {},
   "source": [
    "Модель будет специфичной под тренировочный датасет. Далее я разделяю тестовый датасет, но, важно, чтобы при разделении и соединении датасетов не потерялся порядок, в котором идут авто. "
   ]
  },
  {
   "cell_type": "markdown",
   "id": "5192913a",
   "metadata": {},
   "source": [
    "## Предобработка"
   ]
  },
  {
   "cell_type": "code",
   "execution_count": null,
   "id": "d7752a85",
   "metadata": {},
   "outputs": [],
   "source": [
    "from sklearn import tree                             \n",
    "from sklearn.model_selection import train_test_split\n",
    "\n",
    "tree.DecisionTreeRegressor(max_depth=None, max_features=None)\n",
    ".fit(train_SKODA.drop(['price'],axis='columns'),np.log(train_SKODA.price))\n"
   ]
  },
  {
   "cell_type": "code",
   "execution_count": 81,
   "id": "fa3298a3",
   "metadata": {
    "ExecuteTime": {
     "end_time": "2022-04-13T15:40:38.624648Z",
     "start_time": "2022-04-13T15:40:38.600570Z"
    }
   },
   "outputs": [
    {
     "data": {
      "text/html": [
       "<div>\n",
       "<style scoped>\n",
       "    .dataframe tbody tr th:only-of-type {\n",
       "        vertical-align: middle;\n",
       "    }\n",
       "\n",
       "    .dataframe tbody tr th {\n",
       "        vertical-align: top;\n",
       "    }\n",
       "\n",
       "    .dataframe thead th {\n",
       "        text-align: right;\n",
       "    }\n",
       "</style>\n",
       "<table border=\"1\" class=\"dataframe\">\n",
       "  <thead>\n",
       "    <tr style=\"text-align: right;\">\n",
       "      <th></th>\n",
       "      <th>engineDisplacement</th>\n",
       "      <th>enginePower</th>\n",
       "      <th>mileage</th>\n",
       "      <th>car_age</th>\n",
       "      <th>model_product_time</th>\n",
       "      <th>bodyType_внедорожник</th>\n",
       "      <th>bodyType_компактвэн</th>\n",
       "      <th>bodyType_купе</th>\n",
       "      <th>bodyType_лифтбек</th>\n",
       "      <th>bodyType_минивэн</th>\n",
       "      <th>...</th>\n",
       "      <th>color_синий</th>\n",
       "      <th>color_чёрный</th>\n",
       "      <th>ПТС_DUPLICATE</th>\n",
       "      <th>ПТС_ORIGINAL</th>\n",
       "      <th>Руль_LEFT</th>\n",
       "      <th>Руль_RIGHT</th>\n",
       "      <th>numberOfDoors_2.0</th>\n",
       "      <th>numberOfDoors_3.0</th>\n",
       "      <th>numberOfDoors_4.0</th>\n",
       "      <th>numberOfDoors_5.0</th>\n",
       "    </tr>\n",
       "  </thead>\n",
       "  <tbody>\n",
       "    <tr>\n",
       "      <th>0</th>\n",
       "      <td>2.8</td>\n",
       "      <td>174</td>\n",
       "      <td>350000</td>\n",
       "      <td>29.8</td>\n",
       "      <td>1.0</td>\n",
       "      <td>0</td>\n",
       "      <td>0</td>\n",
       "      <td>0</td>\n",
       "      <td>0</td>\n",
       "      <td>0</td>\n",
       "      <td>...</td>\n",
       "      <td>0</td>\n",
       "      <td>1</td>\n",
       "      <td>0</td>\n",
       "      <td>1</td>\n",
       "      <td>1</td>\n",
       "      <td>0</td>\n",
       "      <td>0</td>\n",
       "      <td>0</td>\n",
       "      <td>1</td>\n",
       "      <td>0</td>\n",
       "    </tr>\n",
       "    <tr>\n",
       "      <th>1</th>\n",
       "      <td>1.8</td>\n",
       "      <td>90</td>\n",
       "      <td>173424</td>\n",
       "      <td>34.8</td>\n",
       "      <td>4.0</td>\n",
       "      <td>0</td>\n",
       "      <td>0</td>\n",
       "      <td>0</td>\n",
       "      <td>0</td>\n",
       "      <td>0</td>\n",
       "      <td>...</td>\n",
       "      <td>0</td>\n",
       "      <td>0</td>\n",
       "      <td>0</td>\n",
       "      <td>1</td>\n",
       "      <td>1</td>\n",
       "      <td>0</td>\n",
       "      <td>0</td>\n",
       "      <td>0</td>\n",
       "      <td>1</td>\n",
       "      <td>0</td>\n",
       "    </tr>\n",
       "    <tr>\n",
       "      <th>2</th>\n",
       "      <td>2.3</td>\n",
       "      <td>136</td>\n",
       "      <td>230000</td>\n",
       "      <td>31.8</td>\n",
       "      <td>1.0</td>\n",
       "      <td>0</td>\n",
       "      <td>0</td>\n",
       "      <td>0</td>\n",
       "      <td>0</td>\n",
       "      <td>0</td>\n",
       "      <td>...</td>\n",
       "      <td>1</td>\n",
       "      <td>0</td>\n",
       "      <td>0</td>\n",
       "      <td>1</td>\n",
       "      <td>1</td>\n",
       "      <td>0</td>\n",
       "      <td>0</td>\n",
       "      <td>0</td>\n",
       "      <td>0</td>\n",
       "      <td>1</td>\n",
       "    </tr>\n",
       "    <tr>\n",
       "      <th>3</th>\n",
       "      <td>1.8</td>\n",
       "      <td>90</td>\n",
       "      <td>240000</td>\n",
       "      <td>31.8</td>\n",
       "      <td>1.0</td>\n",
       "      <td>0</td>\n",
       "      <td>0</td>\n",
       "      <td>0</td>\n",
       "      <td>0</td>\n",
       "      <td>0</td>\n",
       "      <td>...</td>\n",
       "      <td>0</td>\n",
       "      <td>0</td>\n",
       "      <td>0</td>\n",
       "      <td>1</td>\n",
       "      <td>1</td>\n",
       "      <td>0</td>\n",
       "      <td>0</td>\n",
       "      <td>0</td>\n",
       "      <td>1</td>\n",
       "      <td>0</td>\n",
       "    </tr>\n",
       "    <tr>\n",
       "      <th>4</th>\n",
       "      <td>2.0</td>\n",
       "      <td>101</td>\n",
       "      <td>300000</td>\n",
       "      <td>29.8</td>\n",
       "      <td>1.0</td>\n",
       "      <td>0</td>\n",
       "      <td>0</td>\n",
       "      <td>0</td>\n",
       "      <td>0</td>\n",
       "      <td>0</td>\n",
       "      <td>...</td>\n",
       "      <td>0</td>\n",
       "      <td>1</td>\n",
       "      <td>1</td>\n",
       "      <td>0</td>\n",
       "      <td>1</td>\n",
       "      <td>0</td>\n",
       "      <td>0</td>\n",
       "      <td>0</td>\n",
       "      <td>1</td>\n",
       "      <td>0</td>\n",
       "    </tr>\n",
       "    <tr>\n",
       "      <th>...</th>\n",
       "      <td>...</td>\n",
       "      <td>...</td>\n",
       "      <td>...</td>\n",
       "      <td>...</td>\n",
       "      <td>...</td>\n",
       "      <td>...</td>\n",
       "      <td>...</td>\n",
       "      <td>...</td>\n",
       "      <td>...</td>\n",
       "      <td>...</td>\n",
       "      <td>...</td>\n",
       "      <td>...</td>\n",
       "      <td>...</td>\n",
       "      <td>...</td>\n",
       "      <td>...</td>\n",
       "      <td>...</td>\n",
       "      <td>...</td>\n",
       "      <td>...</td>\n",
       "      <td>...</td>\n",
       "      <td>...</td>\n",
       "      <td>...</td>\n",
       "    </tr>\n",
       "    <tr>\n",
       "      <th>48020</th>\n",
       "      <td>3.0</td>\n",
       "      <td>150</td>\n",
       "      <td>12000</td>\n",
       "      <td>68.8</td>\n",
       "      <td>1.0</td>\n",
       "      <td>0</td>\n",
       "      <td>0</td>\n",
       "      <td>1</td>\n",
       "      <td>0</td>\n",
       "      <td>0</td>\n",
       "      <td>...</td>\n",
       "      <td>0</td>\n",
       "      <td>1</td>\n",
       "      <td>0</td>\n",
       "      <td>1</td>\n",
       "      <td>1</td>\n",
       "      <td>0</td>\n",
       "      <td>1</td>\n",
       "      <td>0</td>\n",
       "      <td>0</td>\n",
       "      <td>0</td>\n",
       "    </tr>\n",
       "    <tr>\n",
       "      <th>48021</th>\n",
       "      <td>3.0</td>\n",
       "      <td>150</td>\n",
       "      <td>45200</td>\n",
       "      <td>68.8</td>\n",
       "      <td>1.0</td>\n",
       "      <td>0</td>\n",
       "      <td>0</td>\n",
       "      <td>1</td>\n",
       "      <td>0</td>\n",
       "      <td>0</td>\n",
       "      <td>...</td>\n",
       "      <td>0</td>\n",
       "      <td>0</td>\n",
       "      <td>0</td>\n",
       "      <td>1</td>\n",
       "      <td>1</td>\n",
       "      <td>0</td>\n",
       "      <td>1</td>\n",
       "      <td>0</td>\n",
       "      <td>0</td>\n",
       "      <td>0</td>\n",
       "    </tr>\n",
       "    <tr>\n",
       "      <th>48022</th>\n",
       "      <td>3.0</td>\n",
       "      <td>258</td>\n",
       "      <td>800</td>\n",
       "      <td>2.8</td>\n",
       "      <td>1.0</td>\n",
       "      <td>0</td>\n",
       "      <td>0</td>\n",
       "      <td>0</td>\n",
       "      <td>0</td>\n",
       "      <td>0</td>\n",
       "      <td>...</td>\n",
       "      <td>0</td>\n",
       "      <td>0</td>\n",
       "      <td>0</td>\n",
       "      <td>1</td>\n",
       "      <td>1</td>\n",
       "      <td>0</td>\n",
       "      <td>0</td>\n",
       "      <td>0</td>\n",
       "      <td>1</td>\n",
       "      <td>0</td>\n",
       "    </tr>\n",
       "    <tr>\n",
       "      <th>48023</th>\n",
       "      <td>2.3</td>\n",
       "      <td>190</td>\n",
       "      <td>15850</td>\n",
       "      <td>2.8</td>\n",
       "      <td>1.0</td>\n",
       "      <td>0</td>\n",
       "      <td>0</td>\n",
       "      <td>0</td>\n",
       "      <td>0</td>\n",
       "      <td>0</td>\n",
       "      <td>...</td>\n",
       "      <td>0</td>\n",
       "      <td>0</td>\n",
       "      <td>0</td>\n",
       "      <td>1</td>\n",
       "      <td>1</td>\n",
       "      <td>0</td>\n",
       "      <td>0</td>\n",
       "      <td>0</td>\n",
       "      <td>1</td>\n",
       "      <td>0</td>\n",
       "    </tr>\n",
       "    <tr>\n",
       "      <th>48024</th>\n",
       "      <td>3.0</td>\n",
       "      <td>258</td>\n",
       "      <td>18000</td>\n",
       "      <td>2.8</td>\n",
       "      <td>1.0</td>\n",
       "      <td>0</td>\n",
       "      <td>0</td>\n",
       "      <td>0</td>\n",
       "      <td>0</td>\n",
       "      <td>0</td>\n",
       "      <td>...</td>\n",
       "      <td>0</td>\n",
       "      <td>0</td>\n",
       "      <td>0</td>\n",
       "      <td>1</td>\n",
       "      <td>1</td>\n",
       "      <td>0</td>\n",
       "      <td>0</td>\n",
       "      <td>0</td>\n",
       "      <td>1</td>\n",
       "      <td>0</td>\n",
       "    </tr>\n",
       "  </tbody>\n",
       "</table>\n",
       "<p>47492 rows × 50 columns</p>\n",
       "</div>"
      ],
      "text/plain": [
       "       engineDisplacement  enginePower  mileage  car_age  model_product_time  \\\n",
       "0                     2.8          174   350000     29.8                 1.0   \n",
       "1                     1.8           90   173424     34.8                 4.0   \n",
       "2                     2.3          136   230000     31.8                 1.0   \n",
       "3                     1.8           90   240000     31.8                 1.0   \n",
       "4                     2.0          101   300000     29.8                 1.0   \n",
       "...                   ...          ...      ...      ...                 ...   \n",
       "48020                 3.0          150    12000     68.8                 1.0   \n",
       "48021                 3.0          150    45200     68.8                 1.0   \n",
       "48022                 3.0          258      800      2.8                 1.0   \n",
       "48023                 2.3          190    15850      2.8                 1.0   \n",
       "48024                 3.0          258    18000      2.8                 1.0   \n",
       "\n",
       "       bodyType_внедорожник  bodyType_компактвэн  bodyType_купе  \\\n",
       "0                         0                    0              0   \n",
       "1                         0                    0              0   \n",
       "2                         0                    0              0   \n",
       "3                         0                    0              0   \n",
       "4                         0                    0              0   \n",
       "...                     ...                  ...            ...   \n",
       "48020                     0                    0              1   \n",
       "48021                     0                    0              1   \n",
       "48022                     0                    0              0   \n",
       "48023                     0                    0              0   \n",
       "48024                     0                    0              0   \n",
       "\n",
       "       bodyType_лифтбек  bodyType_минивэн  ...  color_синий  color_чёрный  \\\n",
       "0                     0                 0  ...            0             1   \n",
       "1                     0                 0  ...            0             0   \n",
       "2                     0                 0  ...            1             0   \n",
       "3                     0                 0  ...            0             0   \n",
       "4                     0                 0  ...            0             1   \n",
       "...                 ...               ...  ...          ...           ...   \n",
       "48020                 0                 0  ...            0             1   \n",
       "48021                 0                 0  ...            0             0   \n",
       "48022                 0                 0  ...            0             0   \n",
       "48023                 0                 0  ...            0             0   \n",
       "48024                 0                 0  ...            0             0   \n",
       "\n",
       "       ПТС_DUPLICATE  ПТС_ORIGINAL  Руль_LEFT  Руль_RIGHT  numberOfDoors_2.0  \\\n",
       "0                  0             1          1           0                  0   \n",
       "1                  0             1          1           0                  0   \n",
       "2                  0             1          1           0                  0   \n",
       "3                  0             1          1           0                  0   \n",
       "4                  1             0          1           0                  0   \n",
       "...              ...           ...        ...         ...                ...   \n",
       "48020              0             1          1           0                  1   \n",
       "48021              0             1          1           0                  1   \n",
       "48022              0             1          1           0                  0   \n",
       "48023              0             1          1           0                  0   \n",
       "48024              0             1          1           0                  0   \n",
       "\n",
       "       numberOfDoors_3.0  numberOfDoors_4.0  numberOfDoors_5.0  \n",
       "0                      0                  1                  0  \n",
       "1                      0                  1                  0  \n",
       "2                      0                  0                  1  \n",
       "3                      0                  1                  0  \n",
       "4                      0                  1                  0  \n",
       "...                  ...                ...                ...  \n",
       "48020                  0                  0                  0  \n",
       "48021                  0                  0                  0  \n",
       "48022                  0                  1                  0  \n",
       "48023                  0                  1                  0  \n",
       "48024                  0                  1                  0  \n",
       "\n",
       "[47492 rows x 50 columns]"
      ]
     },
     "execution_count": 81,
     "metadata": {},
     "output_type": "execute_result"
    }
   ],
   "source": [
    "for_pred"
   ]
  },
  {
   "cell_type": "code",
   "execution_count": 97,
   "id": "5286a4a3",
   "metadata": {
    "ExecuteTime": {
     "end_time": "2022-04-13T15:53:41.716079Z",
     "start_time": "2022-04-13T15:53:41.700077Z"
    }
   },
   "outputs": [],
   "source": [
    "price = filtered_train[['price']]\n",
    "for_train = filtered_train.drop(['brand','model_name','price','sell_id'],axis='columns')\n",
    "\n",
    "for_pred = test.drop(['brand','model_name','price','sell_id'],axis='columns')"
   ]
  },
  {
   "cell_type": "code",
   "execution_count": 94,
   "id": "3a9b1382",
   "metadata": {
    "ExecuteTime": {
     "end_time": "2022-04-13T15:52:14.074317Z",
     "start_time": "2022-04-13T15:52:10.207637Z"
    }
   },
   "outputs": [],
   "source": [
    "from sklearn import tree                             \n",
    "\n",
    "\n",
    "model_for_model = {}\n",
    "for name in filtered_train.model_name.unique():\n",
    "    model_for_model[name]=tree.DecisionTreeRegressor(\n",
    "        max_depth=None, max_features=None)\\\n",
    "            .fit(for_train[filtered_train.model_name == name],\n",
    "                 np.log(price[filtered_train.model_name == name]) )\n"
   ]
  },
  {
   "cell_type": "code",
   "execution_count": 114,
   "id": "d185810b",
   "metadata": {
    "ExecuteTime": {
     "end_time": "2022-04-13T16:08:54.431553Z",
     "start_time": "2022-04-13T16:05:37.066515Z"
    }
   },
   "outputs": [],
   "source": [
    "#### АЛГОРИТМ ПРЕДСКАЗАНИЯ\n",
    "pred = []\n",
    "for i in test.index:\n",
    "    if test.model_name[i] in unknown: pred.append(-1)\n",
    "    else: pred.append(model_for_model[test.model_name[i]]\\\n",
    "                      .predict((pd.DataFrame(for_pred.iloc[i]).T))[0])"
   ]
  },
  {
   "cell_type": "code",
   "execution_count": 119,
   "id": "0735ee0e",
   "metadata": {
    "ExecuteTime": {
     "end_time": "2022-04-13T16:54:03.483398Z",
     "start_time": "2022-04-13T16:54:03.467386Z"
    }
   },
   "outputs": [],
   "source": [
    "pd.Series(np.exp(pred)).to_pickle('lil_pred.pickle') "
   ]
  }
 ],
 "metadata": {
  "kernelspec": {
   "display_name": "Python 3 (ipykernel)",
   "language": "python",
   "name": "python3"
  },
  "language_info": {
   "codemirror_mode": {
    "name": "ipython",
    "version": 3
   },
   "file_extension": ".py",
   "mimetype": "text/x-python",
   "name": "python",
   "nbconvert_exporter": "python",
   "pygments_lexer": "ipython3",
   "version": "3.10.4"
  },
  "latex_envs": {
   "LaTeX_envs_menu_present": true,
   "autoclose": false,
   "autocomplete": true,
   "bibliofile": "biblio.bib",
   "cite_by": "apalike",
   "current_citInitial": 1,
   "eqLabelWithNumbers": true,
   "eqNumInitial": 1,
   "hotkeys": {
    "equation": "Ctrl-E",
    "itemize": "Ctrl-I"
   },
   "labels_anchors": false,
   "latex_user_defs": false,
   "report_style_numbering": false,
   "user_envs_cfg": false
  },
  "toc": {
   "base_numbering": 1,
   "nav_menu": {},
   "number_sections": true,
   "sideBar": true,
   "skip_h1_title": false,
   "title_cell": "Table of Contents",
   "title_sidebar": "Contents",
   "toc_cell": false,
   "toc_position": {},
   "toc_section_display": true,
   "toc_window_display": false
  },
  "varInspector": {
   "cols": {
    "lenName": 16,
    "lenType": 16,
    "lenVar": 40
   },
   "kernels_config": {
    "python": {
     "delete_cmd_postfix": "",
     "delete_cmd_prefix": "del ",
     "library": "var_list.py",
     "varRefreshCmd": "print(var_dic_list())"
    },
    "r": {
     "delete_cmd_postfix": ") ",
     "delete_cmd_prefix": "rm(",
     "library": "var_list.r",
     "varRefreshCmd": "cat(var_dic_list()) "
    }
   },
   "types_to_exclude": [
    "module",
    "function",
    "builtin_function_or_method",
    "instance",
    "_Feature"
   ],
   "window_display": false
  }
 },
 "nbformat": 4,
 "nbformat_minor": 5
}
